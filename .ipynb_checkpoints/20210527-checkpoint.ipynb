{
 "cells": [
  {
   "cell_type": "code",
   "execution_count": 1,
   "id": "a63fcc44",
   "metadata": {},
   "outputs": [],
   "source": [
    "# 140p NumPy "
   ]
  },
  {
   "cell_type": "code",
   "execution_count": 2,
   "id": "d2408d70",
   "metadata": {},
   "outputs": [],
   "source": [
    "# 복소수 = 실수부 + 허수부\n",
    "# colpex num = real part + imagary part\n",
    "\n",
    "# 2^2 = 4\n",
    "# 2^4 = 16\n",
    "# 2^8 =256 =int8 양수127/0/음수128\n",
    "# uint8 = 256 = 양수 0~255\n",
    "# bit 0/1\n",
    "# 8bit = 1byte\n",
    "# 16bit = 2 byte\n",
    "# 2^16 = 65???\n",
    "# 표음문자는 전부 넣을 수 있음 표의문자는 상용문자까지는 가능\n"
   ]
  },
  {
   "cell_type": "code",
   "execution_count": 5,
   "id": "1c44e09c",
   "metadata": {},
   "outputs": [
    {
     "data": {
      "text/plain": [
       "dtype('int32')"
      ]
     },
     "execution_count": 5,
     "metadata": {},
     "output_type": "execute_result"
    }
   ],
   "source": [
    "import numpy as np          # 불러오기\n",
    "arr = np.array([1,2,3,4,5]) # np.array 생성\n",
    "arr.dtype                   # 데이터 타입 확인"
   ]
  },
  {
   "cell_type": "code",
   "execution_count": 7,
   "id": "16f5751e",
   "metadata": {},
   "outputs": [
    {
     "data": {
      "text/plain": [
       "dtype('float64')"
      ]
     },
     "execution_count": 7,
     "metadata": {},
     "output_type": "execute_result"
    }
   ],
   "source": [
    "float_arr =  arr.astype(np.float64) #데이터타입 변환 (캐스팅)\n",
    "float_arr.dtype                     #데이터 타입 확인"
   ]
  },
  {
   "cell_type": "code",
   "execution_count": 8,
   "id": "f53c53a8",
   "metadata": {},
   "outputs": [
    {
     "data": {
      "text/plain": [
       "array([1., 2., 3., 4., 5.])"
      ]
     },
     "execution_count": 8,
     "metadata": {},
     "output_type": "execute_result"
    }
   ],
   "source": [
    "float_arr                    #컨텐츠확인"
   ]
  },
  {
   "cell_type": "code",
   "execution_count": 11,
   "id": "3c8fab2d",
   "metadata": {},
   "outputs": [
    {
     "name": "stdout",
     "output_type": "stream",
     "text": [
      "데이터 5 개 컴온1 2 3 4 5\n"
     ]
    },
    {
     "data": {
      "text/plain": [
       "dtype('S1')"
      ]
     },
     "execution_count": 11,
     "metadata": {},
     "output_type": "execute_result"
    }
   ],
   "source": [
    "received = input(\"데이터 5 개 컴온\").split() #input + 나눠받기\n",
    "str_num_arr = np.array(received, dtype = np.string_) #받은데이터 어레이, 데이터타입은 스트링\n",
    "str_num_arr.dtype"
   ]
  },
  {
   "cell_type": "code",
   "execution_count": 13,
   "id": "ea1e2d63",
   "metadata": {},
   "outputs": [
    {
     "data": {
      "text/plain": [
       "dtype('float64')"
      ]
     },
     "execution_count": 13,
     "metadata": {},
     "output_type": "execute_result"
    }
   ],
   "source": [
    "numer_num_arr = str_num_arr.astype(float)\n",
    "numer_num_arr.dtype"
   ]
  },
  {
   "cell_type": "code",
   "execution_count": 15,
   "id": "3d5acda3",
   "metadata": {},
   "outputs": [
    {
     "data": {
      "text/plain": [
       "array([[1., 2., 3.],\n",
       "       [4., 5., 6.]])"
      ]
     },
     "execution_count": 15,
     "metadata": {},
     "output_type": "execute_result"
    }
   ],
   "source": [
    "arr = np.array([[1., 2., 3.],[4., 5., 6.]]) #142p\n",
    "arr"
   ]
  },
  {
   "cell_type": "code",
   "execution_count": 16,
   "id": "a4c09b6b",
   "metadata": {},
   "outputs": [
    {
     "data": {
      "text/plain": [
       "array([[ 1.,  4.,  9.],\n",
       "       [16., 25., 36.]])"
      ]
     },
     "execution_count": 16,
     "metadata": {},
     "output_type": "execute_result"
    }
   ],
   "source": [
    "arr * arr"
   ]
  },
  {
   "cell_type": "code",
   "execution_count": 17,
   "id": "f6849bf5",
   "metadata": {},
   "outputs": [
    {
     "data": {
      "text/plain": [
       "array([[0., 0., 0.],\n",
       "       [0., 0., 0.]])"
      ]
     },
     "execution_count": 17,
     "metadata": {},
     "output_type": "execute_result"
    }
   ],
   "source": [
    "arr - arr "
   ]
  },
  {
   "cell_type": "code",
   "execution_count": 18,
   "id": "c82234b8",
   "metadata": {},
   "outputs": [
    {
     "data": {
      "text/plain": [
       "array([[1.        , 0.5       , 0.33333333],\n",
       "       [0.25      , 0.2       , 0.16666667]])"
      ]
     },
     "execution_count": 18,
     "metadata": {},
     "output_type": "execute_result"
    }
   ],
   "source": [
    "1/arr # 역수"
   ]
  },
  {
   "cell_type": "code",
   "execution_count": 19,
   "id": "b2879d9d",
   "metadata": {},
   "outputs": [
    {
     "data": {
      "text/plain": [
       "array([[ True,  True,  True],\n",
       "       [ True,  True,  True]])"
      ]
     },
     "execution_count": 19,
     "metadata": {},
     "output_type": "execute_result"
    }
   ],
   "source": [
    "arr == arr"
   ]
  },
  {
   "cell_type": "code",
   "execution_count": 20,
   "id": "93ebe5d4",
   "metadata": {},
   "outputs": [],
   "source": [
    "arr2 = np.array([[0., 4., 1.], [7., 2., 12.]])"
   ]
  },
  {
   "cell_type": "code",
   "execution_count": 23,
   "id": "ef6cdff7",
   "metadata": {},
   "outputs": [
    {
     "data": {
      "text/plain": [
       "array([[False,  True, False],\n",
       "       [ True, False,  True]])"
      ]
     },
     "execution_count": 23,
     "metadata": {},
     "output_type": "execute_result"
    }
   ],
   "source": [
    "arr == arr2\n",
    "arr > arr2\n",
    "arr < arr2"
   ]
  },
  {
   "cell_type": "code",
   "execution_count": 25,
   "id": "17104d03",
   "metadata": {},
   "outputs": [
    {
     "data": {
      "text/plain": [
       "array([[1., 2., 3.],\n",
       "       [4., 5., 6.]])"
      ]
     },
     "execution_count": 25,
     "metadata": {},
     "output_type": "execute_result"
    }
   ],
   "source": [
    "arr[5:8] = 12\n",
    "arr"
   ]
  },
  {
   "cell_type": "code",
   "execution_count": 27,
   "id": "6bed4a36",
   "metadata": {},
   "outputs": [
    {
     "data": {
      "text/plain": [
       "array([0, 1, 2, 3, 4, 5, 6, 7, 8, 9])"
      ]
     },
     "execution_count": 27,
     "metadata": {},
     "output_type": "execute_result"
    }
   ],
   "source": [
    "arr3 = np.arange(10)\n",
    "arr3"
   ]
  },
  {
   "cell_type": "code",
   "execution_count": 28,
   "id": "e65e744a",
   "metadata": {},
   "outputs": [
    {
     "data": {
      "text/plain": [
       "5"
      ]
     },
     "execution_count": 28,
     "metadata": {},
     "output_type": "execute_result"
    }
   ],
   "source": [
    "arr3[5]"
   ]
  },
  {
   "cell_type": "code",
   "execution_count": 30,
   "id": "eed4e3ed",
   "metadata": {},
   "outputs": [
    {
     "data": {
      "text/plain": [
       "array([5, 6, 7])"
      ]
     },
     "execution_count": 30,
     "metadata": {},
     "output_type": "execute_result"
    }
   ],
   "source": [
    "arr3[5:8]"
   ]
  },
  {
   "cell_type": "code",
   "execution_count": 32,
   "id": "a0af5337",
   "metadata": {},
   "outputs": [
    {
     "data": {
      "text/plain": [
       "array([0, 1, 2, 3, 4, 5, 6, 7, 8, 9])"
      ]
     },
     "execution_count": 32,
     "metadata": {},
     "output_type": "execute_result"
    }
   ],
   "source": [
    "arr3"
   ]
  },
  {
   "cell_type": "code",
   "execution_count": 38,
   "id": "f1022b0f",
   "metadata": {},
   "outputs": [
    {
     "data": {
      "text/plain": [
       "array([5, 6, 7])"
      ]
     },
     "execution_count": 38,
     "metadata": {},
     "output_type": "execute_result"
    }
   ],
   "source": [
    "arr3_slice = arr3[5:8]\n",
    "\n",
    "arr3_slice"
   ]
  },
  {
   "cell_type": "code",
   "execution_count": 40,
   "id": "24b2ebc4",
   "metadata": {},
   "outputs": [
    {
     "data": {
      "text/plain": [
       "array([  5, 100,   7])"
      ]
     },
     "execution_count": 40,
     "metadata": {},
     "output_type": "execute_result"
    }
   ],
   "source": [
    "arr3_slice[1] = 100       #slince 내에서 바꾸면\n",
    "arr3_slice"
   ]
  },
  {
   "cell_type": "code",
   "execution_count": 41,
   "id": "9758c5a5",
   "metadata": {},
   "outputs": [
    {
     "data": {
      "text/plain": [
       "array([  0,   1,   2,   3,   4,   5, 100,   7,   8,   9])"
      ]
     },
     "execution_count": 41,
     "metadata": {},
     "output_type": "execute_result"
    }
   ],
   "source": [
    "arr3                      #원래 데이터셋에서도 바뀜"
   ]
  },
  {
   "cell_type": "code",
   "execution_count": 44,
   "id": "9b20143e",
   "metadata": {},
   "outputs": [
    {
     "data": {
      "text/plain": [
       "array([ 0,  1,  2,  3,  4, 64, 64, 64,  8,  9])"
      ]
     },
     "execution_count": 44,
     "metadata": {},
     "output_type": "execute_result"
    }
   ],
   "source": [
    "arr3_slice[:] = 64 #일괄로 arr3_slice에 있는 컨텐츠를 모두 바꾸겠다\n",
    "arr3 #짜잔 다 바뀌었다 심지어 원래 데이터셋에서\n",
    "# 원본 데이터에서 view와 같이 현미경으로 한 부분만 볼 수 있는 방식임 \n",
    "# 대용량의 데이터를 관리하기 위한 방법임\n",
    "# 한 곳에서 고치면 원본데이터가 수정됨"
   ]
  },
  {
   "cell_type": "code",
   "execution_count": 54,
   "id": "ea90109a",
   "metadata": {},
   "outputs": [
    {
     "data": {
      "text/plain": [
       "array([100, 100, 100])"
      ]
     },
     "execution_count": 54,
     "metadata": {},
     "output_type": "execute_result"
    }
   ],
   "source": [
    "arr3_slice_copy = arr3[5:8].copy()\n",
    "arr3_slice_copy[:] = 100\n",
    "arr3_slice_copy"
   ]
  },
  {
   "cell_type": "code",
   "execution_count": 55,
   "id": "f0ac27ce",
   "metadata": {},
   "outputs": [
    {
     "data": {
      "text/plain": [
       "array([64, 64, 64])"
      ]
     },
     "execution_count": 55,
     "metadata": {},
     "output_type": "execute_result"
    }
   ],
   "source": [
    "arr3_slice"
   ]
  },
  {
   "cell_type": "code",
   "execution_count": 58,
   "id": "33c82d92",
   "metadata": {},
   "outputs": [
    {
     "data": {
      "text/plain": [
       "array([[1, 2],\n",
       "       [3, 4]])"
      ]
     },
     "execution_count": 58,
     "metadata": {},
     "output_type": "execute_result"
    }
   ],
   "source": [
    "arr2d = np.array([[1, 2], [3,4]])\n",
    "arr2d"
   ]
  },
  {
   "cell_type": "code",
   "execution_count": null,
   "id": "f7404440",
   "metadata": {},
   "outputs": [],
   "source": [
    "arr2d[1][1]"
   ]
  },
  {
   "cell_type": "code",
   "execution_count": 57,
   "id": "f37dbe9a",
   "metadata": {},
   "outputs": [
    {
     "data": {
      "text/plain": [
       "4"
      ]
     },
     "execution_count": 57,
     "metadata": {},
     "output_type": "execute_result"
    }
   ],
   "source": [
    "arr2d[1,1]"
   ]
  },
  {
   "cell_type": "code",
   "execution_count": 60,
   "id": "4c703b7e",
   "metadata": {},
   "outputs": [
    {
     "data": {
      "text/plain": [
       "array([[1, 2, 3],\n",
       "       [4, 5, 6],\n",
       "       [7, 8, 9]])"
      ]
     },
     "execution_count": 60,
     "metadata": {},
     "output_type": "execute_result"
    }
   ],
   "source": [
    "arr2d = np.array([[1,2,3], [4,5,6], [7,8,9]])\n",
    "arr2d"
   ]
  },
  {
   "cell_type": "code",
   "execution_count": 61,
   "id": "2ed8f938",
   "metadata": {},
   "outputs": [
    {
     "data": {
      "text/plain": [
       "array([[2, 3],\n",
       "       [5, 6]])"
      ]
     },
     "execution_count": 61,
     "metadata": {},
     "output_type": "execute_result"
    }
   ],
   "source": [
    "arr2d[:2, 1:] # 1만 보는 것\n",
    "# 0 1 1\n",
    "# 0 1 1\n",
    "# 0 0 0\n"
   ]
  },
  {
   "cell_type": "code",
   "execution_count": 62,
   "id": "ee38c65b",
   "metadata": {},
   "outputs": [
    {
     "data": {
      "text/plain": [
       "array([7, 8, 9])"
      ]
     },
     "execution_count": 62,
     "metadata": {},
     "output_type": "execute_result"
    }
   ],
   "source": [
    "arr2d[2, :]\n",
    "#    0 1 2\n",
    "#0 # 0 0 0\n",
    "#1 # 0 0 0\n",
    "#2 # 1 1 1"
   ]
  },
  {
   "cell_type": "code",
   "execution_count": 64,
   "id": "c22cf09e",
   "metadata": {},
   "outputs": [
    {
     "data": {
      "text/plain": [
       "array([[7, 8, 9]])"
      ]
     },
     "execution_count": 64,
     "metadata": {},
     "output_type": "execute_result"
    }
   ],
   "source": [
    "arr2d[2:, :]"
   ]
  },
  {
   "cell_type": "code",
   "execution_count": 67,
   "id": "2c2f1e86",
   "metadata": {},
   "outputs": [
    {
     "data": {
      "text/plain": [
       "array([2, 5, 8])"
      ]
     },
     "execution_count": 67,
     "metadata": {},
     "output_type": "execute_result"
    }
   ],
   "source": [
    "arr2d[:, 1]\n",
    "#    0 1 2\n",
    "#0 # 0 1 0\n",
    "#1 # 0 1 0\n",
    "#2 # 0 1 0"
   ]
  },
  {
   "cell_type": "code",
   "execution_count": 68,
   "id": "3e0bc46b",
   "metadata": {},
   "outputs": [
    {
     "data": {
      "text/plain": [
       "array([3, 6, 9])"
      ]
     },
     "execution_count": 68,
     "metadata": {},
     "output_type": "execute_result"
    }
   ],
   "source": [
    "arr2d[:, 2]\n",
    "#    0 1 2\n",
    "#0 # 0 0 1\n",
    "#1 # 0 0 1\n",
    "#2 # 0 0 1"
   ]
  },
  {
   "cell_type": "code",
   "execution_count": 69,
   "id": "80bff082",
   "metadata": {},
   "outputs": [
    {
     "data": {
      "text/plain": [
       "array([[1, 2],\n",
       "       [4, 5],\n",
       "       [7, 8]])"
      ]
     },
     "execution_count": 69,
     "metadata": {},
     "output_type": "execute_result"
    }
   ],
   "source": [
    "arr2d[:, :2]\n",
    "#    0 1 2\n",
    "#0 # 1 1 0\n",
    "#1 # 1 1 0\n",
    "#2 # 1 1 0"
   ]
  },
  {
   "cell_type": "code",
   "execution_count": 70,
   "id": "0c098c8d",
   "metadata": {},
   "outputs": [
    {
     "data": {
      "text/plain": [
       "array([[3],\n",
       "       [6],\n",
       "       [9]])"
      ]
     },
     "execution_count": 70,
     "metadata": {},
     "output_type": "execute_result"
    }
   ],
   "source": [
    "arr2d[:, 2:]\n",
    "#    0 1 2\n",
    "#0 # 0 0 1\n",
    "#1 # 0 0 1\n",
    "#2 # 0 0 1"
   ]
  },
  {
   "cell_type": "code",
   "execution_count": 75,
   "id": "7db031cb",
   "metadata": {},
   "outputs": [
    {
     "data": {
      "text/plain": [
       "array(['Bob', 'Joe', 'Will', 'Bob', 'Will', 'Joe', 'Joe'], dtype='<U4')"
      ]
     },
     "execution_count": 75,
     "metadata": {},
     "output_type": "execute_result"
    }
   ],
   "source": [
    "namedata = [\"Bob\", \"Joe\", \"Will\", \"Bob\", \"Will\", \"Joe\", \"Joe\"]\n",
    "names = np.array(namedata)\n",
    "names"
   ]
  },
  {
   "cell_type": "code",
   "execution_count": null,
   "id": "2081b1ea",
   "metadata": {},
   "outputs": [],
   "source": []
  },
  {
   "cell_type": "code",
   "execution_count": 73,
   "id": "e8370542",
   "metadata": {},
   "outputs": [
    {
     "data": {
      "text/plain": [
       "array([[-0.03062464, -0.94765961, -1.28759703, -0.14926413],\n",
       "       [ 1.56909499, -1.61748625,  1.23216015, -0.27915765],\n",
       "       [-0.20912645, -0.6674994 ,  1.28131619,  1.32279672],\n",
       "       [ 1.12792703,  0.22664675,  0.20600388, -0.10036201],\n",
       "       [ 0.03907088,  0.0675717 ,  0.12524737, -0.69718096],\n",
       "       [-0.31358801, -0.13903135,  1.179134  ,  0.75531012],\n",
       "       [-0.43022379,  0.34469462,  0.27920817,  0.96372604]])"
      ]
     },
     "execution_count": 73,
     "metadata": {},
     "output_type": "execute_result"
    }
   ],
   "source": [
    "rand_data = np.random.randn(7,4) #7행4열 랜덤데이터 만들기\n",
    "rand_data"
   ]
  },
  {
   "cell_type": "code",
   "execution_count": 76,
   "id": "77014f6d",
   "metadata": {},
   "outputs": [
    {
     "data": {
      "text/plain": [
       "array([ True, False, False,  True, False, False, False])"
      ]
     },
     "execution_count": 76,
     "metadata": {},
     "output_type": "execute_result"
    }
   ],
   "source": [
    "names == \"Bob\"\n",
    "# namedata = [\"Bob\", \"Joe\", \"Will\", \"Bob\", \"Will\", \"Joe\", \"Joe\"]"
   ]
  },
  {
   "cell_type": "code",
   "execution_count": 78,
   "id": "c9d77656",
   "metadata": {},
   "outputs": [
    {
     "data": {
      "text/plain": [
       "array([[-0.03062464, -0.94765961, -1.28759703, -0.14926413],\n",
       "       [ 1.12792703,  0.22664675,  0.20600388, -0.10036201]])"
      ]
     },
     "execution_count": 78,
     "metadata": {},
     "output_type": "execute_result"
    }
   ],
   "source": [
    "rand_data[names == \"Bob\"]"
   ]
  },
  {
   "cell_type": "code",
   "execution_count": 82,
   "id": "dd0d6dfd",
   "metadata": {},
   "outputs": [
    {
     "data": {
      "text/plain": [
       "array([[ 0,  1,  2,  3,  4],\n",
       "       [ 5,  6,  7,  8,  9],\n",
       "       [10, 11, 12, 13, 14]])"
      ]
     },
     "execution_count": 82,
     "metadata": {},
     "output_type": "execute_result"
    }
   ],
   "source": [
    "arr = np.arange(15).reshape((3,5)) # 3행 5열로 바꿈\n",
    "arr"
   ]
  },
  {
   "cell_type": "code",
   "execution_count": 83,
   "id": "59e9c80a",
   "metadata": {},
   "outputs": [
    {
     "data": {
      "text/plain": [
       "array([[ 0,  5, 10],\n",
       "       [ 1,  6, 11],\n",
       "       [ 2,  7, 12],\n",
       "       [ 3,  8, 13],\n",
       "       [ 4,  9, 14]])"
      ]
     },
     "execution_count": 83,
     "metadata": {},
     "output_type": "execute_result"
    }
   ],
   "source": [
    "arr.T    #전치 Transpose"
   ]
  },
  {
   "cell_type": "code",
   "execution_count": 84,
   "id": "a540ff92",
   "metadata": {},
   "outputs": [
    {
     "data": {
      "text/plain": [
       "array([[-0.74334694,  0.841333  , -1.53859749],\n",
       "       [ 0.43597723, -0.67852132, -0.8754252 ],\n",
       "       [ 0.54898816, -0.00395456, -0.8496343 ],\n",
       "       [ 0.65913473,  1.17457733, -1.66126067],\n",
       "       [ 0.53709165, -1.87240435, -1.65152897],\n",
       "       [-2.20633783,  2.13098339, -0.48245255]])"
      ]
     },
     "execution_count": 84,
     "metadata": {},
     "output_type": "execute_result"
    }
   ],
   "source": [
    "arr = np.random.randn(6,3)\n",
    "arr"
   ]
  },
  {
   "cell_type": "code",
   "execution_count": 85,
   "id": "1662fecd",
   "metadata": {},
   "outputs": [
    {
     "ename": "ValueError",
     "evalue": "shapes (6,3) and (6,3) not aligned: 3 (dim 1) != 6 (dim 0)",
     "output_type": "error",
     "traceback": [
      "\u001b[1;31m---------------------------------------------------------------------------\u001b[0m",
      "\u001b[1;31mValueError\u001b[0m                                Traceback (most recent call last)",
      "\u001b[1;32m<ipython-input-85-eca4b13a405e>\u001b[0m in \u001b[0;36m<module>\u001b[1;34m\u001b[0m\n\u001b[1;32m----> 1\u001b[1;33m \u001b[0mnp\u001b[0m\u001b[1;33m.\u001b[0m\u001b[0mdot\u001b[0m\u001b[1;33m(\u001b[0m\u001b[0marr\u001b[0m\u001b[1;33m,\u001b[0m \u001b[0marr\u001b[0m\u001b[1;33m)\u001b[0m\u001b[1;33m\u001b[0m\u001b[1;33m\u001b[0m\u001b[0m\n\u001b[0m",
      "\u001b[1;32m<__array_function__ internals>\u001b[0m in \u001b[0;36mdot\u001b[1;34m(*args, **kwargs)\u001b[0m\n",
      "\u001b[1;31mValueError\u001b[0m: shapes (6,3) and (6,3) not aligned: 3 (dim 1) != 6 (dim 0)"
     ]
    }
   ],
   "source": [
    "np.dot(arr, arr) # 6*3 X 6*3  불가능"
   ]
  },
  {
   "cell_type": "code",
   "execution_count": 86,
   "id": "9bf57509",
   "metadata": {},
   "outputs": [
    {
     "data": {
      "text/plain": [
       "array([[ 6.63488147, -5.85651044, -0.62195661],\n",
       "       [-5.85651044, 10.59486818, -0.58416573],\n",
       "       [-0.62195661, -0.58416573,  9.57562538]])"
      ]
     },
     "execution_count": 86,
     "metadata": {},
     "output_type": "execute_result"
    }
   ],
   "source": [
    "# 3*6 X 6*3\n",
    "np.dot(arr.T, arr)"
   ]
  },
  {
   "cell_type": "code",
   "execution_count": 90,
   "id": "355ea88b",
   "metadata": {},
   "outputs": [
    {
     "data": {
      "text/plain": [
       "array([0.        , 1.        , 1.41421356, 1.73205081, 2.        ,\n",
       "       2.23606798, 2.44948974, 2.64575131, 2.82842712, 3.        ])"
      ]
     },
     "execution_count": 90,
     "metadata": {},
     "output_type": "execute_result"
    }
   ],
   "source": [
    "arr = np.arange(10)\n",
    "np.sqrt(arr) # 제곱근을 구해라"
   ]
  },
  {
   "cell_type": "code",
   "execution_count": 91,
   "id": "d6a30c89",
   "metadata": {},
   "outputs": [
    {
     "data": {
      "text/plain": [
       "array([1.00000000e+00, 2.71828183e+00, 7.38905610e+00, 2.00855369e+01,\n",
       "       5.45981500e+01, 1.48413159e+02, 4.03428793e+02, 1.09663316e+03,\n",
       "       2.98095799e+03, 8.10308393e+03])"
      ]
     },
     "execution_count": 91,
     "metadata": {},
     "output_type": "execute_result"
    }
   ],
   "source": [
    "np.exp(arr) #"
   ]
  },
  {
   "cell_type": "code",
   "execution_count": 92,
   "id": "caacab8e",
   "metadata": {},
   "outputs": [
    {
     "data": {
      "text/plain": [
       "3"
      ]
     },
     "execution_count": 92,
     "metadata": {},
     "output_type": "execute_result"
    }
   ],
   "source": [
    "np.maximum(2,3) # 최대값은?"
   ]
  },
  {
   "cell_type": "code",
   "execution_count": 95,
   "id": "3376aa54",
   "metadata": {},
   "outputs": [
    {
     "name": "stdout",
     "output_type": "stream",
     "text": [
      "[ 0.56156653  1.04703061 -0.30358034  1.2026488 ]\n",
      "[ 0.35760992  0.62749193 -0.37505267  0.99704127]\n",
      "[ 0.56156653  1.04703061 -0.30358034  1.2026488 ]\n"
     ]
    }
   ],
   "source": [
    "x = np.random.randn(4)\n",
    "y = np.random.randn(4)\n",
    "z = np.maximum(x, y)\n",
    "print(x)\n",
    "print(y)\n",
    "print(z)"
   ]
  },
  {
   "cell_type": "code",
   "execution_count": null,
   "id": "6f76d7ac",
   "metadata": {},
   "outputs": [],
   "source": [
    "# numpy는 배열지향적"
   ]
  },
  {
   "cell_type": "code",
   "execution_count": null,
   "id": "7f89e92b",
   "metadata": {},
   "outputs": [],
   "source": [
    "#통계 method"
   ]
  },
  {
   "cell_type": "code",
   "execution_count": 98,
   "id": "cd2c7826",
   "metadata": {},
   "outputs": [
    {
     "name": "stdout",
     "output_type": "stream",
     "text": [
      "[[-0.47821232 -1.75479189  1.40043663 -1.01495991]\n",
      " [-1.49284233  0.70622515 -2.20867448 -0.10120041]\n",
      " [ 1.20830852  0.35906424 -0.58307565 -1.61066644]\n",
      " [ 1.62535467 -0.1605471  -0.27570379  0.21714596]\n",
      " [-0.3010858  -2.29300454  2.84894025 -0.54144595]]\n",
      "-0.22253675934764328\n",
      "-4.4507351869528655\n"
     ]
    }
   ],
   "source": [
    "arr = np.random.randn(5,4)\n",
    "print(arr)\n",
    "print(arr.mean()) # np.mean(arr)\n",
    "print(arr.sum())"
   ]
  },
  {
   "cell_type": "code",
   "execution_count": 114,
   "id": "07fc6537",
   "metadata": {},
   "outputs": [
    {
     "name": "stdout",
     "output_type": "stream",
     "text": [
      "[-0.16639427  0.18351894  0.0859871  -1.55888606]\n",
      "[-0.33299887  0.19942441 -0.28928849 -0.79610723 -0.60074769]\n"
     ]
    }
   ],
   "source": [
    "arr = np.random.randn(5,4)\n",
    "# print(arr)\n",
    "#print(arr.mean())\n",
    "#print(arr.sum())\n",
    "print(arr.mean(axis=0))\n",
    "print(arr.mean(axis=1))"
   ]
  },
  {
   "cell_type": "code",
   "execution_count": 103,
   "id": "2ab24245",
   "metadata": {},
   "outputs": [
    {
     "name": "stdout",
     "output_type": "stream",
     "text": [
      "[ 0.35123867  0.24584535 -0.59127632  0.18166966 -0.09390724]\n"
     ]
    }
   ],
   "source": [
    "print(arr.mean(axis=1))"
   ]
  },
  {
   "cell_type": "code",
   "execution_count": 115,
   "id": "b2178a4f",
   "metadata": {},
   "outputs": [
    {
     "data": {
      "text/plain": [
       "array([-0.97730998,  0.25100639, -0.53564741, -0.94587142, -0.66656149,\n",
       "        1.67602309,  1.31446031, -0.18038133,  2.06104116,  0.6039981 ,\n",
       "       -1.3633904 , -1.73149291, -0.36975329,  0.62641452,  0.59832389,\n",
       "        1.54689178])"
      ]
     },
     "execution_count": 115,
     "metadata": {},
     "output_type": "execute_result"
    }
   ],
   "source": [
    "samples = np.random.normal(size=(4,4))\n",
    "samples.reshape(16)"
   ]
  },
  {
   "cell_type": "code",
   "execution_count": 117,
   "id": "09a6ce7e",
   "metadata": {},
   "outputs": [
    {
     "data": {
      "text/plain": [
       "array([-0.15923381, -0.46736735,  1.34274393, -0.13794704,  1.12110342,\n",
       "        1.89996853,  0.96432046, -0.15523835,  0.60092497, -0.94776734,\n",
       "        1.07066504, -0.28351508,  0.62848402,  0.02119458,  2.11033124,\n",
       "       -0.26910536])"
      ]
     },
     "execution_count": 117,
     "metadata": {},
     "output_type": "execute_result"
    }
   ],
   "source": [
    "arr = np.random.randn(4, 4).reshape(16)\n",
    "arr"
   ]
  },
  {
   "cell_type": "code",
   "execution_count": 125,
   "id": "cfcd70ae",
   "metadata": {},
   "outputs": [
    {
     "data": {
      "text/plain": [
       "[<matplotlib.lines.Line2D at 0x212446bb7c0>]"
      ]
     },
     "execution_count": 125,
     "metadata": {},
     "output_type": "execute_result"
    },
    {
     "data": {
      "image/png": "[encoded data removed]",
      "text/plain": [
       "<Figure size 432x288 with 1 Axes>"
      ]
     },
     "metadata": {
      "needs_background": "light"
     },
     "output_type": "display_data"
    }
   ],
   "source": [
    "import random\n",
    "import matplotlib.pyplot as plt\n",
    "\n",
    "position = 0\n",
    "walk = [position]\n",
    "steps = 1000\n",
    "for i in range(steps):\n",
    "    step = 1 if random.randint(0,1) else -1\n",
    "    position += step\n",
    "    walk.append(position)\n",
    "plt.plot(walk[:100])"
   ]
  }
 ],
 "metadata": {
  "kernelspec": {
   "display_name": "Python 3",
   "language": "python",
   "name": "python3"
  },
  "language_info": {
   "codemirror_mode": {
    "name": "ipython",
    "version": 3
   },
   "file_extension": ".py",
   "mimetype": "text/x-python",
   "name": "python",
   "nbconvert_exporter": "python",
   "pygments_lexer": "ipython3",
   "version": "3.8.8"
  }
 },
 "nbformat": 4,
 "nbformat_minor": 5
}
