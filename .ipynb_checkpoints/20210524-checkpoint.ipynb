{
 "cells": [
  {
   "cell_type": "code",
   "execution_count": 8,
   "id": "5a4d03e5",
   "metadata": {},
   "outputs": [
    {
     "name": "stdout",
     "output_type": "stream",
     "text": [
      "Nimmt mal TAXI\n"
     ]
    }
   ],
   "source": [
    "money = True\n",
    "if money :\n",
    "    print(\"Nimmt mal TAXI\")\n",
    "else :\n",
    "    print(\"zu Fuss\")"
   ]
  },
  {
   "cell_type": "code",
   "execution_count": 10,
   "id": "80ef1934",
   "metadata": {
    "scrolled": true
   },
   "outputs": [
    {
     "name": "stdout",
     "output_type": "stream",
     "text": [
      "oder zu Fuss\n"
     ]
    }
   ],
   "source": [
    "pocket = ['paper', 'cellphoen']\n",
    "card = False\n",
    "if 'money' in pocket:\n",
    "    print(\"Nimmt mal TAXI\")\n",
    "elif card:\n",
    "    print(\"Nimmt mal TAXI\")\n",
    "else:\n",
    "    print(\"oder zu Fuss\")"
   ]
  },
  {
   "cell_type": "code",
   "execution_count": null,
   "id": "79b9c9be",
   "metadata": {},
   "outputs": [],
   "source": [
    "# 들여쓰기 space * 4 가 기본\n",
    "# 혹은 1 Tab (다른 개발환경에서는 Tab 설정이 다를 수 있음으로 주의)\n",
    "# 조건문 다음에는 ':' 잊지말것 -> "
   ]
  },
  {
   "cell_type": "code",
   "execution_count": 11,
   "id": "06771dca",
   "metadata": {},
   "outputs": [
    {
     "data": {
      "text/plain": [
       "True"
      ]
     },
     "execution_count": 11,
     "metadata": {},
     "output_type": "execute_result"
    }
   ],
   "source": [
    "1 in [1, 2, 3]"
   ]
  },
  {
   "cell_type": "code",
   "execution_count": 12,
   "id": "50de09d1",
   "metadata": {},
   "outputs": [
    {
     "data": {
      "text/plain": [
       "True"
      ]
     },
     "execution_count": 12,
     "metadata": {},
     "output_type": "execute_result"
    }
   ],
   "source": [
    "4 not in [1, 2, 3]"
   ]
  },
  {
   "cell_type": "code",
   "execution_count": null,
   "id": "858be427",
   "metadata": {},
   "outputs": [],
   "source": [
    "# Pass 기능"
   ]
  },
  {
   "cell_type": "code",
   "execution_count": 13,
   "id": "a4445e8c",
   "metadata": {},
   "outputs": [
    {
     "ename": "NameError",
     "evalue": "name 'a' is not defined",
     "output_type": "error",
     "traceback": [
      "\u001b[1;31m---------------------------------------------------------------------------\u001b[0m",
      "\u001b[1;31mNameError\u001b[0m                                 Traceback (most recent call last)",
      "\u001b[1;32m<ipython-input-13-fe52342abaad>\u001b[0m in \u001b[0;36m<module>\u001b[1;34m\u001b[0m\n\u001b[1;32m----> 1\u001b[1;33m \u001b[1;32mif\u001b[0m \u001b[0ma\u001b[0m \u001b[1;33m==\u001b[0m \u001b[1;36m1\u001b[0m \u001b[1;33m:\u001b[0m\u001b[1;33m\u001b[0m\u001b[1;33m\u001b[0m\u001b[0m\n\u001b[0m\u001b[0;32m      2\u001b[0m     \u001b[1;32mpass\u001b[0m\u001b[1;33m\u001b[0m\u001b[1;33m\u001b[0m\u001b[0m\n",
      "\u001b[1;31mNameError\u001b[0m: name 'a' is not defined"
     ]
    }
   ],
   "source": [
    "if a == 1 :\n",
    "    pass\n"
   ]
  },
  {
   "cell_type": "code",
   "execution_count": null,
   "id": "28707cc8",
   "metadata": {},
   "outputs": [],
   "source": []
  },
  {
   "cell_type": "code",
   "execution_count": null,
   "id": "27355dc8",
   "metadata": {},
   "outputs": [],
   "source": [
    "# if 문 한 줄로 작성하기 - 한 줄까지만 가능"
   ]
  },
  {
   "cell_type": "code",
   "execution_count": 14,
   "id": "9e2e9f67",
   "metadata": {},
   "outputs": [
    {
     "name": "stdout",
     "output_type": "stream",
     "text": [
      "a는 1\n"
     ]
    }
   ],
   "source": [
    "a = 1\n",
    "if a == 1 : print(\"a는 1\")"
   ]
  },
  {
   "cell_type": "code",
   "execution_count": 15,
   "id": "c7432cf0",
   "metadata": {},
   "outputs": [
    {
     "ename": "SyntaxError",
     "evalue": "invalid syntax (<ipython-input-15-8fe1f0f21234>, line 2)",
     "output_type": "error",
     "traceback": [
      "\u001b[1;36m  File \u001b[1;32m\"<ipython-input-15-8fe1f0f21234>\"\u001b[1;36m, line \u001b[1;32m2\u001b[0m\n\u001b[1;33m    if a == 1 : print(\"a는 1\") print(\"good bye\")\u001b[0m\n\u001b[1;37m                              ^\u001b[0m\n\u001b[1;31mSyntaxError\u001b[0m\u001b[1;31m:\u001b[0m invalid syntax\n"
     ]
    }
   ],
   "source": [
    "a = 1\n",
    "if a == 1 : print(\"a는 1\") print(\"good bye\")"
   ]
  },
  {
   "cell_type": "code",
   "execution_count": null,
   "id": "5041124b",
   "metadata": {},
   "outputs": [],
   "source": [
    "# 밑에 줄은 조건과 무관함"
   ]
  },
  {
   "cell_type": "code",
   "execution_count": 17,
   "id": "827c159a",
   "metadata": {},
   "outputs": [
    {
     "name": "stdout",
     "output_type": "stream",
     "text": [
      "a는 1\n",
      "good bye\n"
     ]
    }
   ],
   "source": [
    "a = 1\n",
    "if a == 1 : print(\"a는 1\") \n",
    "print(\"good bye\")"
   ]
  },
  {
   "cell_type": "code",
   "execution_count": 19,
   "id": "8d4764c0",
   "metadata": {},
   "outputs": [
    {
     "name": "stdout",
     "output_type": "stream",
     "text": [
      "나무를 1(번)을 세차게 찍었다.\n",
      "나무를 2(번)을 세차게 찍었다.\n",
      "나무를 3(번)을 세차게 찍었다.\n",
      "나무를 4(번)을 세차게 찍었다.\n",
      "나무를 5(번)을 세차게 찍었다.\n",
      "나무를 6(번)을 세차게 찍었다.\n",
      "나무를 7(번)을 세차게 찍었다.\n",
      "나무를 8(번)을 세차게 찍었다.\n",
      "나무를 9(번)을 세차게 찍었다.\n",
      "나무를 10(번)을 세차게 찍었다.\n",
      "의지가 뛰어났다, 나무가 넘어간다.\n"
     ]
    }
   ],
   "source": [
    "treeHit = 0 # 나무를 찍은 횟수 (초기화)\n",
    "while treeHit < 10: # 나무를 찍는 횟수가 10보다 작은 동안 반복\n",
    "    treeHit = treeHit + 1 # 나무를 찍은 횟수 1씩증가\n",
    "    print(\"나무를 %d(번)을 세차게 찍었다.\" % treeHit)\n",
    "    if treeHit == 10: #나무를 n번 찍으면\n",
    "        print(\"의지가 뛰어났다, 나무가 넘어간다.\")"
   ]
  },
  {
   "cell_type": "code",
   "execution_count": null,
   "id": "77fd2181",
   "metadata": {},
   "outputs": [],
   "source": [
    "# 세련되게, 멋지게, 아름답게"
   ]
  },
  {
   "cell_type": "code",
   "execution_count": 24,
   "id": "9bc30378",
   "metadata": {},
   "outputs": [
    {
     "name": "stdout",
     "output_type": "stream",
     "text": [
      "나무를 0(번)을 세차게 찍었다.\n",
      "나무를 1(번)을 세차게 찍었다.\n",
      "나무를 2(번)을 세차게 찍었다.\n",
      "나무를 3(번)을 세차게 찍었다.\n",
      "나무를 4(번)을 세차게 찍었다.\n",
      "나무를 5(번)을 세차게 찍었다.\n",
      "나무를 6(번)을 세차게 찍었다.\n",
      "나무를 7(번)을 세차게 찍었다.\n",
      "나무를 8(번)을 세차게 찍었다.\n",
      "나무를 9(번)을 세차게 찍었다.\n",
      "나무를 10(번)을 세차게 찍었다.\n",
      "의지가 뛰어났다, 나무가 넘어간다.\n"
     ]
    }
   ],
   "source": [
    "treeHit = 0 # 나무를 찍은 횟수 (초기화)\n",
    "while treeHit <= 10: # 나무를 찍는 횟수가 10보다 작은 동안 반복\n",
    "    print(\"나무를 \" + str(treeHit) + \"(번)을 세차게 찍었다.\")\n",
    "    if treeHit == 10: print(\"의지가 뛰어났다, 나무가 넘어간다.\")\n",
    "    treeHit += 1 # 나무를 찍은 횟수 1씩증가"
   ]
  }
 ],
 "metadata": {
  "kernelspec": {
   "display_name": "Python 3",
   "language": "python",
   "name": "python3"
  },
  "language_info": {
   "codemirror_mode": {
    "name": "ipython",
    "version": 3
   },
   "file_extension": ".py",
   "mimetype": "text/x-python",
   "name": "python",
   "nbconvert_exporter": "python",
   "pygments_lexer": "ipython3",
   "version": "3.8.8"
  }
 },
 "nbformat": 4,
 "nbformat_minor": 5
}
