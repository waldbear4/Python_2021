{
 "cells": [
  {
   "cell_type": "code",
   "execution_count": 8,
   "id": "7ce924bc",
   "metadata": {},
   "outputs": [
    {
     "name": "stdout",
     "output_type": "stream",
     "text": [
      "Nimmt mal TAXI\n"
     ]
    }
   ],
   "source": [
    "money = True\n",
    "if money :\n",
    "    print(\"Nimmt mal TAXI\")\n",
    "else :\n",
    "    print(\"zu Fuss\")"
   ]
  },
  {
   "cell_type": "code",
   "execution_count": 10,
   "id": "839c11fa",
   "metadata": {
    "scrolled": true
   },
   "outputs": [
    {
     "name": "stdout",
     "output_type": "stream",
     "text": [
      "oder zu Fuss\n"
     ]
    }
   ],
   "source": [
    "pocket = ['paper', 'cellphoen']\n",
    "card = False\n",
    "if 'money' in pocket:\n",
    "    print(\"Nimmt mal TAXI\")\n",
    "elif card:\n",
    "    print(\"Nimmt mal TAXI\")\n",
    "else:\n",
    "    print(\"oder zu Fuss\")"
   ]
  },
  {
   "cell_type": "code",
   "execution_count": null,
   "id": "b465f5aa",
   "metadata": {},
   "outputs": [],
   "source": [
    "# 들여쓰기 space * 4 가 기본\n",
    "# 혹은 1 Tab (다른 개발환경에서는 Tab 설정이 다를 수 있음으로 주의)\n",
    "# 조건문 다음에는 ':' 잊지말것 -> "
   ]
  },
  {
   "cell_type": "code",
   "execution_count": 11,
   "id": "91c58460",
   "metadata": {},
   "outputs": [
    {
     "data": {
      "text/plain": [
       "True"
      ]
     },
     "execution_count": 11,
     "metadata": {},
     "output_type": "execute_result"
    }
   ],
   "source": [
    "1 in [1, 2, 3]"
   ]
  },
  {
   "cell_type": "code",
   "execution_count": 12,
   "id": "b89b6e7a",
   "metadata": {},
   "outputs": [
    {
     "data": {
      "text/plain": [
       "True"
      ]
     },
     "execution_count": 12,
     "metadata": {},
     "output_type": "execute_result"
    }
   ],
   "source": [
    "4 not in [1, 2, 3]"
   ]
  },
  {
   "cell_type": "code",
   "execution_count": null,
   "id": "bee814cf",
   "metadata": {},
   "outputs": [],
   "source": [
    "# Pass 기능"
   ]
  },
  {
   "cell_type": "code",
   "execution_count": 13,
   "id": "0e0ea4c7",
   "metadata": {},
   "outputs": [
    {
     "ename": "NameError",
     "evalue": "name 'a' is not defined",
     "output_type": "error",
     "traceback": [
      "\u001b[1;31m---------------------------------------------------------------------------\u001b[0m",
      "\u001b[1;31mNameError\u001b[0m                                 Traceback (most recent call last)",
      "\u001b[1;32m<ipython-input-13-fe52342abaad>\u001b[0m in \u001b[0;36m<module>\u001b[1;34m\u001b[0m\n\u001b[1;32m----> 1\u001b[1;33m \u001b[1;32mif\u001b[0m \u001b[0ma\u001b[0m \u001b[1;33m==\u001b[0m \u001b[1;36m1\u001b[0m \u001b[1;33m:\u001b[0m\u001b[1;33m\u001b[0m\u001b[1;33m\u001b[0m\u001b[0m\n\u001b[0m\u001b[0;32m      2\u001b[0m     \u001b[1;32mpass\u001b[0m\u001b[1;33m\u001b[0m\u001b[1;33m\u001b[0m\u001b[0m\n",
      "\u001b[1;31mNameError\u001b[0m: name 'a' is not defined"
     ]
    }
   ],
   "source": [
    "if a == 1 :\n",
    "    pass\n"
   ]
  },
  {
   "cell_type": "code",
   "execution_count": null,
   "id": "45ecfb11",
   "metadata": {},
   "outputs": [],
   "source": []
  },
  {
   "cell_type": "code",
   "execution_count": null,
   "id": "7ebbcd93",
   "metadata": {},
   "outputs": [],
   "source": [
    "# if 문 한 줄로 작성하기 - 한 줄까지만 가능"
   ]
  },
  {
   "cell_type": "code",
   "execution_count": 14,
   "id": "ca18c1b2",
   "metadata": {},
   "outputs": [
    {
     "name": "stdout",
     "output_type": "stream",
     "text": [
      "a는 1\n"
     ]
    }
   ],
   "source": [
    "a = 1\n",
    "if a == 1 : print(\"a는 1\")"
   ]
  },
  {
   "cell_type": "code",
   "execution_count": 15,
   "id": "e904e66f",
   "metadata": {},
   "outputs": [
    {
     "ename": "SyntaxError",
     "evalue": "invalid syntax (<ipython-input-15-8fe1f0f21234>, line 2)",
     "output_type": "error",
     "traceback": [
      "\u001b[1;36m  File \u001b[1;32m\"<ipython-input-15-8fe1f0f21234>\"\u001b[1;36m, line \u001b[1;32m2\u001b[0m\n\u001b[1;33m    if a == 1 : print(\"a는 1\") print(\"good bye\")\u001b[0m\n\u001b[1;37m                              ^\u001b[0m\n\u001b[1;31mSyntaxError\u001b[0m\u001b[1;31m:\u001b[0m invalid syntax\n"
     ]
    }
   ],
   "source": [
    "a = 1\n",
    "if a == 1 : print(\"a는 1\") print(\"good bye\")"
   ]
  },
  {
   "cell_type": "code",
   "execution_count": null,
   "id": "b0d921b4",
   "metadata": {},
   "outputs": [],
   "source": [
    "# 밑에 줄은 조건과 무관함"
   ]
  },
  {
   "cell_type": "code",
   "execution_count": 17,
   "id": "175a9174",
   "metadata": {},
   "outputs": [
    {
     "name": "stdout",
     "output_type": "stream",
     "text": [
      "a는 1\n",
      "good bye\n"
     ]
    }
   ],
   "source": [
    "a = 1\n",
    "if a == 1 : print(\"a는 1\") \n",
    "print(\"good bye\")"
   ]
  },
  {
   "cell_type": "code",
   "execution_count": 19,
   "id": "0029027e",
   "metadata": {},
   "outputs": [
    {
     "name": "stdout",
     "output_type": "stream",
     "text": [
      "나무를 1(번)을 세차게 찍었다.\n",
      "나무를 2(번)을 세차게 찍었다.\n",
      "나무를 3(번)을 세차게 찍었다.\n",
      "나무를 4(번)을 세차게 찍었다.\n",
      "나무를 5(번)을 세차게 찍었다.\n",
      "나무를 6(번)을 세차게 찍었다.\n",
      "나무를 7(번)을 세차게 찍었다.\n",
      "나무를 8(번)을 세차게 찍었다.\n",
      "나무를 9(번)을 세차게 찍었다.\n",
      "나무를 10(번)을 세차게 찍었다.\n",
      "의지가 뛰어났다, 나무가 넘어간다.\n"
     ]
    }
   ],
   "source": [
    "treeHit = 0 # 나무를 찍은 횟수 (초기화)\n",
    "while treeHit < 10: # 나무를 찍는 횟수가 10보다 작은 동안 반복\n",
    "    treeHit = treeHit + 1 # 나무를 찍은 횟수 1씩증가\n",
    "    print(\"나무를 %d(번)을 세차게 찍었다.\" % treeHit)\n",
    "    if treeHit == 10: #나무를 n번 찍으면\n",
    "        print(\"의지가 뛰어났다, 나무가 넘어간다.\")"
   ]
  },
  {
   "cell_type": "code",
   "execution_count": null,
   "id": "e206402b",
   "metadata": {},
   "outputs": [],
   "source": [
    "# 세련되게, 멋지게, 아름답게"
   ]
  },
  {
   "cell_type": "code",
   "execution_count": 24,
   "id": "8cd558cf",
   "metadata": {},
   "outputs": [
    {
     "name": "stdout",
     "output_type": "stream",
     "text": [
      "나무를 0(번)을 세차게 찍었다.\n",
      "나무를 1(번)을 세차게 찍었다.\n",
      "나무를 2(번)을 세차게 찍었다.\n",
      "나무를 3(번)을 세차게 찍었다.\n",
      "나무를 4(번)을 세차게 찍었다.\n",
      "나무를 5(번)을 세차게 찍었다.\n",
      "나무를 6(번)을 세차게 찍었다.\n",
      "나무를 7(번)을 세차게 찍었다.\n",
      "나무를 8(번)을 세차게 찍었다.\n",
      "나무를 9(번)을 세차게 찍었다.\n",
      "나무를 10(번)을 세차게 찍었다.\n",
      "의지가 뛰어났다, 나무가 넘어간다.\n"
     ]
    }
   ],
   "source": [
    "treeHit = 0 # 나무를 찍은 횟수 (초기화)\n",
    "while treeHit <= 10: # 나무를 찍는 횟수가 10보다 작은 동안 반복\n",
    "    print(\"나무를 \" + str(treeHit) + \"(번)을 세차게 찍었다.\")\n",
    "    if treeHit == 10: print(\"의지가 뛰어났다, 나무가 넘어간다.\")\n",
    "    treeHit += 1 # 나무를 찍은 횟수 1씩증가"
   ]
  },
  {
   "cell_type": "code",
   "execution_count": 28,
   "id": "aba04372",
   "metadata": {},
   "outputs": [
    {
     "name": "stdout",
     "output_type": "stream",
     "text": [
      "정수를 입력하세요100\n",
      "101\n"
     ]
    }
   ],
   "source": [
    "a = input(\"정수를 입력하세요\")\n",
    "a = int(a) + 1\n",
    "print(a)"
   ]
  },
  {
   "cell_type": "code",
   "execution_count": 29,
   "id": "d3b78957",
   "metadata": {},
   "outputs": [
    {
     "name": "stdout",
     "output_type": "stream",
     "text": [
      "정수를 입력하세요100\n",
      "100\n"
     ]
    }
   ],
   "source": [
    "a = input(\"정수를 입력하세요\")\n",
    "\n",
    "\n",
    "print(a)"
   ]
  },
  {
   "cell_type": "code",
   "execution_count": 33,
   "id": "6745332d",
   "metadata": {},
   "outputs": [
    {
     "name": "stdout",
     "output_type": "stream",
     "text": [
      "Geben Sie eine Temperatur ein 24\n",
      "Geben Sie eine Temperatur ein 25\n",
      "Geben Sie eine Temperatur ein 26\n",
      "Geben Sie eine Temperatur ein 22\n",
      "[24, 25, 26, 22]\n"
     ]
    }
   ],
   "source": [
    "list_a = []\n",
    "count = 0\n",
    "while count < 4:\n",
    "    recieved = input(\"Geben Sie eine Temperatur ein \")\n",
    "    recieved = int(recieved)\n",
    "    list_a.append(recieved) # append\n",
    "    count += 1\n",
    "print(list_a)"
   ]
  },
  {
   "cell_type": "code",
   "execution_count": 36,
   "id": "41985ca7",
   "metadata": {},
   "outputs": [
    {
     "name": "stdout",
     "output_type": "stream",
     "text": [
      "Geben Sie eine Temperatur ein, wenn SIe das Eingabe stoppen wollen, geben Sie '-500'ein\n",
      "Geben Sie eine Temperatur ein 21\n",
      "Geben Sie eine Temperatur ein 21\n",
      "Geben Sie eine Temperatur ein 21\n",
      "Geben Sie eine Temperatur ein 22\n",
      "Geben Sie eine Temperatur ein -500\n",
      "[21, 21, 21, 22]\n"
     ]
    }
   ],
   "source": [
    "# 얼만큼의 데이터가 들어올지 모름, 그러면 계속 돌아가는데 특정값이 들어오면 끝\n",
    "list_a = []\n",
    "count = 1 # count = 0\n",
    "print(\"Geben Sie eine Temperatur ein, wenn SIe das Eingabe stoppen wollen, geben Sie '-500'ein\")\n",
    "while True: # count < 4:\n",
    "    recieved = input(\"Geben Sie eine Temperatur ein \")\n",
    "    if recieved == \"-500\": break\n",
    "    recieved = int(recieved)\n",
    "    list_a.append(recieved) # append\n",
    "    count += 1\n",
    "print(list_a)"
   ]
  },
  {
   "cell_type": "code",
   "execution_count": 41,
   "id": "3909538e",
   "metadata": {},
   "outputs": [
    {
     "name": "stdout",
     "output_type": "stream",
     "text": [
      "Geben Sie eine Temperatur ein, wenn SIe das Eingabe stoppen wollen, geben Sie '-500'ein\n",
      "Geben Sie eine Temperatur ein 5\n",
      "Geben Sie eine Temperatur ein 8\n",
      "Geben Sie eine Temperatur ein 48\n",
      "Geben Sie eine Temperatur ein 45\n",
      "Geben Sie eine Temperatur ein 20\n",
      "Geben Sie eine Temperatur ein 15\n",
      "Geben Sie eine Temperatur ein 60\n",
      "Geben Sie eine Temperatur ein 84\n",
      "Geben Sie eine Temperatur ein 100\n",
      "Geben Sie eine Temperatur ein 2100\n",
      "Geben Sie eine Temperatur ein -500\n",
      "[]\n"
     ]
    }
   ],
   "source": [
    "list_a = []\n",
    "print(\"Geben Sie eine Temperatur ein, wenn SIe das Eingabe stoppen wollen, geben Sie '-500'ein\")\n",
    "while True: # count < 4:\n",
    "    recieved = input(\"Geben Sie eine Temperatur ein \")\n",
    "    recieved = int(recieved)\n",
    "    if recieved == -500: break\n",
    "    if recieved < 50 or recieved > -40: continue\n",
    "    list_a.append(recieved) # append\n",
    "print(list_a)"
   ]
  },
  {
   "cell_type": "code",
   "execution_count": 42,
   "id": "bdfdd29f",
   "metadata": {},
   "outputs": [
    {
     "name": "stdout",
     "output_type": "stream",
     "text": [
      "온도?520\n",
      "온도?20\n",
      "온도?5\n",
      "온도?48\n",
      "온도?22\n",
      "온도?21\n",
      "온도?231\n",
      "온도?54\n",
      "온도?9684\n",
      "온도?45\n",
      "온도?-500\n",
      "[20, 5, 48, 22, 21, 45]\n"
     ]
    }
   ],
   "source": [
    "list_a = []\n",
    "while True:\n",
    "    recieved = input(\"온도?\")\n",
    "    recieved = int(recieved)\n",
    "    if recieved == -500: break\n",
    "    if recieved > 50 or recieved < -40: continue\n",
    "    list_a.append(recieved)\n",
    "print (list_a)"
   ]
  },
  {
   "cell_type": "code",
   "execution_count": 43,
   "id": "f83ba728",
   "metadata": {},
   "outputs": [
    {
     "name": "stdout",
     "output_type": "stream",
     "text": [
      "one\n",
      "two\n",
      "three\n"
     ]
    }
   ],
   "source": [
    "test_list = ['one', \"two\", \"three\"]\n",
    "for i in test_list:\n",
    "    print(i)"
   ]
  },
  {
   "cell_type": "code",
   "execution_count": 45,
   "id": "a47deb2f",
   "metadata": {},
   "outputs": [
    {
     "name": "stdout",
     "output_type": "stream",
     "text": [
      "range(0, 10)\n"
     ]
    }
   ],
   "source": [
    "a = range(10)\n",
    "print(a)"
   ]
  },
  {
   "cell_type": "code",
   "execution_count": 46,
   "id": "15dcfc59",
   "metadata": {},
   "outputs": [
    {
     "name": "stdout",
     "output_type": "stream",
     "text": [
      "0\n",
      "1\n",
      "2\n",
      "3\n",
      "4\n",
      "5\n",
      "6\n",
      "7\n",
      "8\n",
      "9\n"
     ]
    }
   ],
   "source": [
    "for i in range(10):\n",
    "    print(i)"
   ]
  },
  {
   "cell_type": "code",
   "execution_count": 49,
   "id": "e9dd098a",
   "metadata": {},
   "outputs": [
    {
     "name": "stdout",
     "output_type": "stream",
     "text": [
      "0 1 2 3 4 5 6 7 8 9 "
     ]
    }
   ],
   "source": [
    "for i in range(10):\n",
    "    print(i, end=\" \") # 문자열 슬라이싱"
   ]
  },
  {
   "cell_type": "code",
   "execution_count": 50,
   "id": "67d2815a",
   "metadata": {},
   "outputs": [
    {
     "name": "stdout",
     "output_type": "stream",
     "text": [
      "5 6 7 8 9 "
     ]
    }
   ],
   "source": [
    "for i in range(5, 10):\n",
    "    print(i, end=\" \")"
   ]
  },
  {
   "cell_type": "code",
   "execution_count": 54,
   "id": "93216c53",
   "metadata": {},
   "outputs": [
    {
     "name": "stdout",
     "output_type": "stream",
     "text": [
      "1 3 5 7 9 "
     ]
    }
   ],
   "source": [
    "for i in range(1, 11, 2): # 간격\n",
    "    print(i, end=\" \")"
   ]
  },
  {
   "cell_type": "code",
   "execution_count": 57,
   "id": "1bb424f8",
   "metadata": {},
   "outputs": [
    {
     "name": "stdout",
     "output_type": "stream",
     "text": [
      "10 9 8 7 6 5 4 3 2 1 "
     ]
    }
   ],
   "source": [
    "for i in range(10, 0, -1):\n",
    "    print(i, end=\" \")"
   ]
  },
  {
   "cell_type": "code",
   "execution_count": 59,
   "id": "b6c6bc8e",
   "metadata": {},
   "outputs": [
    {
     "name": "stdout",
     "output_type": "stream",
     "text": [
      "1 4 7 10 "
     ]
    }
   ],
   "source": [
    "for i in (1, 4, 7, 10):\n",
    "    print(i, end=\" \")"
   ]
  }
 ],
 "metadata": {
  "kernelspec": {
   "display_name": "Python 3",
   "language": "python",
   "name": "python3"
  },
  "language_info": {
   "codemirror_mode": {
    "name": "ipython",
    "version": 3
   },
   "file_extension": ".py",
   "mimetype": "text/x-python",
   "name": "python",
   "nbconvert_exporter": "python",
   "pygments_lexer": "ipython3",
   "version": "3.8.8"
  }
 },
 "nbformat": 4,
 "nbformat_minor": 5
}
