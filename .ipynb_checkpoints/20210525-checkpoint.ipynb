{
 "cells": [
  {
   "cell_type": "code",
   "execution_count": 56,
   "id": "77fb7a89",
   "metadata": {},
   "outputs": [
    {
     "name": "stdout",
     "output_type": "stream",
     "text": [
      " **********\n",
      "  **********\n",
      "   **********\n",
      "    **********\n",
      "     **********\n",
      "      **********\n",
      "       **********\n",
      "        **********\n",
      "         **********\n",
      "          **********\n"
     ]
    }
   ],
   "source": [
    "for i in range(1, 11):     # 행을 1부터 10까지 \n",
    "    for k in range(i):     # i 까지\n",
    "        print(\" \", end=\"\") # i 칸에 i 칸씩 넣는다\n",
    "    for j in range(1, 11): # 각 행 마다\n",
    "        print(\"*\", end=\"\") # 별을 10개씩 찍는다\n",
    "    print('')              # 프린트"
   ]
  },
  {
   "cell_type": "code",
   "execution_count": 63,
   "id": "031debbf",
   "metadata": {},
   "outputs": [
    {
     "name": "stdout",
     "output_type": "stream",
     "text": [
      "\n",
      " *\n",
      "  **\n",
      "   ***\n",
      "    ****\n",
      "     *****\n",
      "      ******\n",
      "       *******\n",
      "        ********\n",
      "         *********\n"
     ]
    }
   ],
   "source": [
    "for hang in range(10):\n",
    "    #빈 칸 출력\n",
    "    for space in range(hang):\n",
    "        print(\" \", end=\"\")\n",
    "    #별 출력\n",
    "    for yol in range(hang):\n",
    "        print(\"*\", end=\"\")\n",
    "    print('')"
   ]
  },
  {
   "cell_type": "code",
   "execution_count": 64,
   "id": "f82c467c",
   "metadata": {},
   "outputs": [
    {
     "name": "stdout",
     "output_type": "stream",
     "text": [
      "**********\n",
      " **********\n",
      "  **********\n",
      "   **********\n",
      "    **********\n",
      "     **********\n",
      "      **********\n",
      "       **********\n",
      "        **********\n",
      "         **********\n"
     ]
    }
   ],
   "source": [
    "# 답안\n",
    "for hang in range(10):\n",
    "    #빈 칸 출력\n",
    "    for space in range(hang):\n",
    "        print(\" \", end=\"\")\n",
    "    #별 출력\n",
    "    for yol in range(10):\n",
    "        print(\"*\", end=\"\")\n",
    "    print('')"
   ]
  },
  {
   "cell_type": "code",
   "execution_count": 65,
   "id": "36c4d6f5",
   "metadata": {},
   "outputs": [
    {
     "name": "stdout",
     "output_type": "stream",
     "text": [
      "1 2 3\n"
     ]
    }
   ],
   "source": [
    "1부터 123까지의 자연수 중에서 각 자리에 있는 숫자가 서로 다른 자연수는 모두 몇 개인가?\n"
   ]
  },
  {
   "cell_type": "code",
   "execution_count": null,
   "id": "c0ece8f4",
   "metadata": {},
   "outputs": [],
   "source": []
  },
  {
   "cell_type": "code",
   "execution_count": 67,
   "id": "4a73ce77",
   "metadata": {},
   "outputs": [
    {
     "name": "stdout",
     "output_type": "stream",
     "text": [
      "9 9 9\n"
     ]
    }
   ],
   "source": [
    "num = 123         \n",
    "d100 = num//100     # 100자리 검출\n",
    "d10 = (num%100)//10 # 10자리 검출 23/10==>2.3 23//10==>2\n",
    "d1 = num%10         # 1자리 검출\n",
    "print(d100, d10, d1)"
   ]
  },
  {
   "cell_type": "code",
   "execution_count": 93,
   "id": "87a28ad7",
   "metadata": {},
   "outputs": [
    {
     "name": "stdout",
     "output_type": "stream",
     "text": [
      "720 개\n"
     ]
    }
   ],
   "source": [
    "# 1부터 999까지의 자연수 중에서 각 자리에 있는 숫자가 \n",
    "#서로 다른 자연수는 모두 몇 개인가?\n",
    "\n",
    "count_up = 0\n",
    "for num in range(1000):\n",
    "    d100 = num//100\n",
    "    d10 = (num%100)//10\n",
    "    d1 = num%10\n",
    "    \n",
    "    if d100 != d10 and d10 != d1 and d100 != d1:\n",
    "        count_up += 1\n",
    "        # print(d100*100+d10*10+d1)\n",
    "\n",
    "print(count_up, \"개\")"
   ]
  },
  {
   "cell_type": "code",
   "execution_count": 98,
   "id": "1be6401a",
   "metadata": {},
   "outputs": [
    {
     "name": "stdout",
     "output_type": "stream",
     "text": [
      "720\n"
     ]
    }
   ],
   "source": [
    "count_up = 0\n",
    "for d100 in range(10):\n",
    "    for d10 in range(10):\n",
    "        for d1 in range(10):\n",
    "            # if d100 != d10 !=d d1 : 이건 오동작\n",
    "            if d100 != d10 and d10 != d1 and d100 != d1:\n",
    "                count_up += 1\n",
    "print(count_up)"
   ]
  },
  {
   "cell_type": "code",
   "execution_count": 101,
   "id": "6177e066",
   "metadata": {},
   "outputs": [
    {
     "data": {
      "text/plain": [
       "1"
      ]
     },
     "execution_count": 101,
     "metadata": {},
     "output_type": "execute_result"
    }
   ],
   "source": [
    "(3**2016) % 2"
   ]
  },
  {
   "cell_type": "code",
   "execution_count": 108,
   "id": "07cff1b8",
   "metadata": {},
   "outputs": [
    {
     "name": "stdout",
     "output_type": "stream",
     "text": [
      "수3\n",
      "지수2016\n",
      "1\n"
     ]
    }
   ],
   "source": [
    "a = int(input(\"수\"))\n",
    "b = int(input(\"지수\"))\n",
    "ModulNum = a**b % 10\n",
    "print(ModulNum)"
   ]
  },
  {
   "cell_type": "code",
   "execution_count": 116,
   "id": "f0d97f04",
   "metadata": {},
   "outputs": [
    {
     "name": "stdout",
     "output_type": "stream",
     "text": [
      "1\n"
     ]
    }
   ],
   "source": [
    "num = 1\n",
    "for i in range(2016):\n",
    "    num *= 3\n",
    "    if i == 2015:\n",
    "        d1_of_num = num%10\n",
    "print(d1_of_num)\n",
    "    \n",
    "    "
   ]
  },
  {
   "cell_type": "code",
   "execution_count": 143,
   "id": "7c81e407",
   "metadata": {},
   "outputs": [
    {
     "name": "stdout",
     "output_type": "stream",
     "text": [
      "수682\n",
      "11\n"
     ]
    }
   ],
   "source": [
    "count = 0\n",
    "a = int(input(\"수\"))\n",
    "while a != 1:\n",
    "    if a % 2 == 0:\n",
    "        a = a/2\n",
    "    else:\n",
    "        a = ((a*3)+1)/2\n",
    "    count = count + 1\n",
    "print(count)"
   ]
  },
  {
   "cell_type": "code",
   "execution_count": 138,
   "id": "6db99cf4",
   "metadata": {},
   "outputs": [
    {
     "name": "stdout",
     "output_type": "stream",
     "text": [
      "수6\n"
     ]
    },
    {
     "ename": "NameError",
     "evalue": "name 'breank' is not defined",
     "output_type": "error",
     "traceback": [
      "\u001b[1;31m---------------------------------------------------------------------------\u001b[0m",
      "\u001b[1;31mNameError\u001b[0m                                 Traceback (most recent call last)",
      "\u001b[1;32m<ipython-input-138-d1d627cecf30>\u001b[0m in \u001b[0;36m<module>\u001b[1;34m\u001b[0m\n\u001b[0;32m      7\u001b[0m         \u001b[0mnum\u001b[0m \u001b[1;33m=\u001b[0m \u001b[1;33m(\u001b[0m\u001b[1;36m3\u001b[0m\u001b[1;33m*\u001b[0m \u001b[0mnum\u001b[0m \u001b[1;33m+\u001b[0m\u001b[1;36m1\u001b[0m\u001b[1;33m)\u001b[0m\u001b[1;33m/\u001b[0m\u001b[1;36m2\u001b[0m\u001b[1;33m\u001b[0m\u001b[1;33m\u001b[0m\u001b[0m\n\u001b[0;32m      8\u001b[0m     \u001b[0mproc_count\u001b[0m\u001b[1;33m+=\u001b[0m\u001b[1;36m1\u001b[0m\u001b[1;33m\u001b[0m\u001b[1;33m\u001b[0m\u001b[0m\n\u001b[1;32m----> 9\u001b[1;33m     \u001b[1;32mif\u001b[0m \u001b[0mnum\u001b[0m \u001b[1;33m==\u001b[0m \u001b[1;36m1\u001b[0m\u001b[1;33m:\u001b[0m \u001b[0mbreank\u001b[0m\u001b[1;33m\u001b[0m\u001b[1;33m\u001b[0m\u001b[0m\n\u001b[0m\u001b[0;32m     10\u001b[0m \u001b[1;33m\u001b[0m\u001b[0m\n\u001b[0;32m     11\u001b[0m \u001b[0mprint\u001b[0m\u001b[1;33m(\u001b[0m\u001b[0mproc_count\u001b[0m\u001b[1;33m)\u001b[0m\u001b[1;33m\u001b[0m\u001b[1;33m\u001b[0m\u001b[0m\n",
      "\u001b[1;31mNameError\u001b[0m: name 'breank' is not defined"
     ]
    }
   ],
   "source": [
    "num = int(input(\"수\"))\n",
    "proc_count = 0\n",
    "while True:\n",
    "    if num %2 == 0:\n",
    "        num /= 2\n",
    "    else:\n",
    "        num = (3* num +1)/2\n",
    "    proc_count+=1\n",
    "    if num == 1: breank\n",
    "        \n",
    "print(proc_count)"
   ]
  },
  {
   "cell_type": "code",
   "execution_count": 145,
   "id": "af8165e3",
   "metadata": {},
   "outputs": [
    {
     "name": "stdout",
     "output_type": "stream",
     "text": [
      "Hallo\n",
      "Hallo\n",
      "Hallo\n",
      "Hallo\n",
      "Hallo\n"
     ]
    }
   ],
   "source": [
    "def hello_5():\n",
    "    print(\"Hallo_1\")\n",
    "    print(\"Hallo_2\")\n",
    "    print(\"Hallo_3\")\n",
    "    print(\"Hallo_4\")\n",
    "    print(\"Hallo_5\")\n",
    "\n",
    "hello_5()"
   ]
  },
  {
   "cell_type": "code",
   "execution_count": null,
   "id": "0a799e80",
   "metadata": {},
   "outputs": [],
   "source": []
  }
 ],
 "metadata": {
  "kernelspec": {
   "display_name": "Python 3",
   "language": "python",
   "name": "python3"
  },
  "language_info": {
   "codemirror_mode": {
    "name": "ipython",
    "version": 3
   },
   "file_extension": ".py",
   "mimetype": "text/x-python",
   "name": "python",
   "nbconvert_exporter": "python",
   "pygments_lexer": "ipython3",
   "version": "3.8.8"
  }
 },
 "nbformat": 4,
 "nbformat_minor": 5
}
