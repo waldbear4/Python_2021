{
 "cells": [
  {
   "cell_type": "code",
   "execution_count": 5,
   "id": "6be099eb",
   "metadata": {},
   "outputs": [
    {
     "name": "stdout",
     "output_type": "stream",
     "text": [
      "['Halllloooo  네가 최고야\\n', '아무렴 \\n', '하\\n', '히\\n', '후\\n', '헤\\n', '허']\n"
     ]
    }
   ],
   "source": [
    "f = open(\"나는 파일이다.txt\", \"r\")\n",
    "lines = f.readlines()\n",
    "f.close()\n",
    "print(lines)\n"
   ]
  },
  {
   "cell_type": "code",
   "execution_count": 10,
   "id": "295f4710",
   "metadata": {},
   "outputs": [
    {
     "name": "stdout",
     "output_type": "stream",
     "text": [
      "['Halllloooo  네가 최고야 ', '아무렴  ', '하 ', '히 ', '후 ', '헤 ', '허']\n"
     ]
    }
   ],
   "source": [
    "f = open(\"나는 파일이다.txt\", \"r\")\n",
    "list1 = []\n",
    "list2 = []\n",
    "while True:\n",
    "    line1 = f.readline()\n",
    "    if not line1: break\n",
    "    list1.append(line1)\n",
    "for ltem in list1:\n",
    "    processed = ltem.replace(\"\\n\", \" \")\n",
    "    list2.append(processed)\n",
    "print(list2)"
   ]
  },
  {
   "cell_type": "code",
   "execution_count": 12,
   "id": "a97c37d9",
   "metadata": {},
   "outputs": [
    {
     "name": "stdout",
     "output_type": "stream",
     "text": [
      "['Halllloooo  네가 최고야\\n', '아무렴 \\n', '하\\n', '히\\n', '후\\n', '헤\\n', '허']\n",
      "\n",
      "\n",
      "\n",
      "\n",
      "\n",
      "\n",
      "\n",
      "['Halllloooo  네가 최고야', '아무렴 ', '하', '히', '후', '헤', '허']\n"
     ]
    }
   ],
   "source": [
    "f = open(\"나는 파일이다.txt\", \"r\")\n",
    "lines = f.readlines()\n",
    "f.close()\n",
    "print(lines)\n",
    "refined_list = []\n",
    "for item in lines:\n",
    "    refined_list.append(item.replace(\"\\n\", \"\"))\n",
    "    print()\n",
    "print(refined_list)"
   ]
  },
  {
   "cell_type": "code",
   "execution_count": 13,
   "id": "eab9d26f",
   "metadata": {},
   "outputs": [
    {
     "name": "stdout",
     "output_type": "stream",
     "text": [
      "Halllloooo  네가 최고야\n",
      "아무렴 \n",
      "하\n",
      "히\n",
      "후\n",
      "헤\n",
      "허\n"
     ]
    }
   ],
   "source": [
    "f = open(\"나는 파일이다.txt\", \"r\")\n",
    "page = f.read()\n",
    "f.close()\n",
    "print(page)"
   ]
  },
  {
   "cell_type": "code",
   "execution_count": 23,
   "id": "032211cb",
   "metadata": {},
   "outputs": [
    {
     "name": "stdout",
     "output_type": "stream",
     "text": [
      "['abc', 'def', 'ghj']\n"
     ]
    }
   ],
   "source": [
    "# ['abc', 'def', 'ghj']\n",
    "f = open(\"나는 파일이다2.txt\", \"w\")\n",
    "f.write(\"abc\\ndef\\nghj\")\n",
    "f.close()\n",
    "f = open(\"나는 파일이다2.txt\", \"r\")\n",
    "list = []\n",
    "page = f.read()\n",
    "#page.split(',')\n",
    "#print(page)\n",
    "\n",
    "refined_list = page.split(\"\\n\")\n",
    "print(refined_list)"
   ]
  },
  {
   "cell_type": "code",
   "execution_count": null,
   "id": "daa921be",
   "metadata": {},
   "outputs": [],
   "source": [
    "f = open(\"나는 파일이다2.txt\", \"r\")\n",
    "\n",
    "\n",
    "refined_list = page.split(\"\\n\")\n",
    "print(refined_list)"
   ]
  },
  {
   "cell_type": "code",
   "execution_count": 24,
   "id": "7f6047ca",
   "metadata": {},
   "outputs": [],
   "source": [
    "f = open(\"나는 파일이다2.txt\", \"a\")\n",
    "f.write(\"링딩동링딩동\")\n",
    "f.close()"
   ]
  },
  {
   "cell_type": "code",
   "execution_count": 26,
   "id": "d8e93868",
   "metadata": {},
   "outputs": [],
   "source": [
    "# f = open(\"나는 파일이다2.txt\", \"a\")\n",
    "with open(\"나는 파일이다2.txt\", \"a\") as f:\n",
    "    f.write(\"둥가당둥가당\")"
   ]
  },
  {
   "cell_type": "code",
   "execution_count": null,
   "id": "21c78a74",
   "metadata": {},
   "outputs": [],
   "source": [
    "#  빅데이터 인공지능\n",
    "# -빅데이터 사이언티스트\n",
    "# -빅데이터 엔지니어\n",
    "\n",
    "#절차 지향정 프로그래밍\n",
    "#procedure\n",
    "\n",
    "#객체 지향적 프로그래밍\n",
    "#class, object"
   ]
  },
  {
   "cell_type": "code",
   "execution_count": 29,
   "id": "68708fe1",
   "metadata": {},
   "outputs": [
    {
     "ename": "AttributeError",
     "evalue": "'FourCal' object has no attribute 'first'",
     "output_type": "error",
     "traceback": [
      "\u001b[1;31m---------------------------------------------------------------------------\u001b[0m",
      "\u001b[1;31mAttributeError\u001b[0m                            Traceback (most recent call last)",
      "\u001b[1;32m<ipython-input-29-8c904a5977cb>\u001b[0m in \u001b[0;36m<module>\u001b[1;34m\u001b[0m\n\u001b[0;32m      9\u001b[0m         \u001b[1;32mreturn\u001b[0m \u001b[0mresult\u001b[0m \u001b[1;31m# 클래스 구성요소 아님\u001b[0m\u001b[1;33m\u001b[0m\u001b[1;33m\u001b[0m\u001b[0m\n\u001b[0;32m     10\u001b[0m \u001b[0maCal\u001b[0m \u001b[1;33m=\u001b[0m \u001b[0mFourCal\u001b[0m\u001b[1;33m(\u001b[0m\u001b[1;33m)\u001b[0m\u001b[1;33m\u001b[0m\u001b[1;33m\u001b[0m\u001b[0m\n\u001b[1;32m---> 11\u001b[1;33m \u001b[0mprint\u001b[0m\u001b[1;33m(\u001b[0m\u001b[0maCal\u001b[0m\u001b[1;33m.\u001b[0m\u001b[0madd\u001b[0m\u001b[1;33m(\u001b[0m\u001b[1;33m)\u001b[0m\u001b[1;33m)\u001b[0m\u001b[1;33m\u001b[0m\u001b[1;33m\u001b[0m\u001b[0m\n\u001b[0m",
      "\u001b[1;32m<ipython-input-29-8c904a5977cb>\u001b[0m in \u001b[0;36madd\u001b[1;34m(self)\u001b[0m\n\u001b[0;32m      3\u001b[0m     \u001b[1;31m#self.second\u001b[0m\u001b[1;33m\u001b[0m\u001b[1;33m\u001b[0m\u001b[1;33m\u001b[0m\u001b[0m\n\u001b[0;32m      4\u001b[0m     \u001b[1;32mdef\u001b[0m \u001b[0madd\u001b[0m\u001b[1;33m(\u001b[0m\u001b[0mself\u001b[0m\u001b[1;33m)\u001b[0m\u001b[1;33m:\u001b[0m \u001b[1;31m#이 클래스에 속하는 동작이다\u001b[0m\u001b[1;33m\u001b[0m\u001b[1;33m\u001b[0m\u001b[0m\n\u001b[1;32m----> 5\u001b[1;33m         \u001b[0mresult\u001b[0m \u001b[1;33m=\u001b[0m \u001b[0mself\u001b[0m\u001b[1;33m.\u001b[0m\u001b[0mfirst\u001b[0m \u001b[1;33m+\u001b[0m \u001b[0mself\u001b[0m\u001b[1;33m.\u001b[0m\u001b[0msecond\u001b[0m \u001b[1;31m# 이 클래스 내의\u001b[0m\u001b[1;33m\u001b[0m\u001b[1;33m\u001b[0m\u001b[0m\n\u001b[0m\u001b[0;32m      6\u001b[0m         \u001b[1;32mreturn\u001b[0m \u001b[0mresult\u001b[0m \u001b[1;31m# 클래스 구성요소 아님\u001b[0m\u001b[1;33m\u001b[0m\u001b[1;33m\u001b[0m\u001b[0m\n\u001b[0;32m      7\u001b[0m     \u001b[1;32mdef\u001b[0m \u001b[0mmul\u001b[0m\u001b[1;33m(\u001b[0m\u001b[0mself\u001b[0m\u001b[1;33m)\u001b[0m\u001b[1;33m:\u001b[0m\u001b[1;33m\u001b[0m\u001b[1;33m\u001b[0m\u001b[0m\n",
      "\u001b[1;31mAttributeError\u001b[0m: 'FourCal' object has no attribute 'first'"
     ]
    }
   ],
   "source": [
    "class FourCal:\n",
    "    #self.first\n",
    "    #self.second\n",
    "    def add(self): #이 클래스에 속하는 동작이다\n",
    "        result = self.first + self.second # 이 클래스 내의 \n",
    "        return result # 클래스 구성요소 아님\n",
    "    def mul(self):\n",
    "        result = self.first * self.second # 이 클래스 내의 \n",
    "        return result # 클래스 구성요소 아님\n",
    "aCal = FourCal()\n",
    "print(aCal.add())"
   ]
  },
  {
   "cell_type": "code",
   "execution_count": 36,
   "id": "5136a9f5",
   "metadata": {},
   "outputs": [
    {
     "name": "stdout",
     "output_type": "stream",
     "text": [
      "6\n",
      "11\n"
     ]
    }
   ],
   "source": [
    "class FourCal:\n",
    "    def setdata(self, a, b):\n",
    "        self.first = a\n",
    "        self.second = b\n",
    "    def add(self):\n",
    "        result = self.first + self.second\n",
    "        return result\n",
    "    def mul(self):\n",
    "        result = self.first * self.second\n",
    "        return result\n",
    "aCal = FourCal()\n",
    "bCal = FourCal()\n",
    "aCal.setdata(4, 2) #객체의 추가 세팅 ex)차량을 대리점에 가져와서 도장\n",
    "print(aCal.add())  \n",
    "bCal.setdata(3, 8)\n",
    "print(bCal.add())"
   ]
  },
  {
   "cell_type": "code",
   "execution_count": 37,
   "id": "c2651074",
   "metadata": {},
   "outputs": [
    {
     "name": "stdout",
     "output_type": "stream",
     "text": [
      "6\n",
      "11\n"
     ]
    }
   ],
   "source": [
    "# 생성자 (Constructor) ex)차량이 공장출고할 때 도장\n",
    "class FourCal:\n",
    "    def __init__(self, a, b): ######### __init__ 클래스 생성시 정의 해줘야함\n",
    "        self.first = a\n",
    "        self.second = b\n",
    "    def add(self):\n",
    "        result = self.first + self.second\n",
    "        return result\n",
    "    def mul(self):\n",
    "        result = self.first * self.second\n",
    "        return result\n",
    "aCal = FourCal(4, 2)\n",
    "bCal = FourCal(3, 8)\n",
    "print(aCal.add())  \n",
    "print(bCal.add())\n"
   ]
  },
  {
   "cell_type": "code",
   "execution_count": null,
   "id": "b5735e3a",
   "metadata": {},
   "outputs": [],
   "source": [
    "# 클래스의 상속\n"
   ]
  }
 ],
 "metadata": {
  "kernelspec": {
   "display_name": "Python 3",
   "language": "python",
   "name": "python3"
  },
  "language_info": {
   "codemirror_mode": {
    "name": "ipython",
    "version": 3
   },
   "file_extension": ".py",
   "mimetype": "text/x-python",
   "name": "python",
   "nbconvert_exporter": "python",
   "pygments_lexer": "ipython3",
   "version": "3.8.8"
  }
 },
 "nbformat": 4,
 "nbformat_minor": 5
}
