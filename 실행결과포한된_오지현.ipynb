{
 "cells": [
  {
   "cell_type": "code",
   "execution_count": null,
   "metadata": {
    "colab": {
     "base_uri": "https://localhost:8080/"
    },
    "executionInfo": {
     "elapsed": 263,
     "status": "ok",
     "timestamp": 1624939820319,
     "user": {
      "displayName": "오지현",
      "photoUrl": "",
      "userId": "13276429583960305726"
     },
     "user_tz": -540
    },
    "id": "X68_9jyQOb7Z",
    "outputId": "2d28a040-327c-4b95-ef7f-875014cbff70"
   },
   "outputs": [
    {
     "name": "stdout",
     "output_type": "stream",
     "text": [
      "E: Invalid operation update-\n"
     ]
    }
   ],
   "source": [
    "!apt-get update-"
   ]
  },
  {
   "cell_type": "code",
   "execution_count": null,
   "metadata": {
    "colab": {
     "base_uri": "https://localhost:8080/"
    },
    "executionInfo": {
     "elapsed": 1689,
     "status": "ok",
     "timestamp": 1624939822934,
     "user": {
      "displayName": "오지현",
      "photoUrl": "",
      "userId": "13276429583960305726"
     },
     "user_tz": -540
    },
    "id": "-6k7wpEnOe3b",
    "outputId": "bbe3da4f-3727-412d-ce84-31ffe6d3764a"
   },
   "outputs": [
    {
     "name": "stdout",
     "output_type": "stream",
     "text": [
      "Reading package lists... Done\n",
      "Building dependency tree       \n",
      "Reading state information... Done\n",
      "g++ is already the newest version (4:7.4.0-1ubuntu2.3).\n",
      "openjdk-8-jdk is already the newest version (8u292-b10-0ubuntu1~18.04).\n",
      "0 upgraded, 0 newly installed, 0 to remove and 81 not upgraded.\n"
     ]
    }
   ],
   "source": [
    "\n",
    "!apt-get install g++ openjdk-8-jdk"
   ]
  },
  {
   "cell_type": "code",
   "execution_count": null,
   "metadata": {
    "colab": {
     "base_uri": "https://localhost:8080/"
    },
    "executionInfo": {
     "elapsed": 2550,
     "status": "ok",
     "timestamp": 1624939826463,
     "user": {
      "displayName": "오지현",
      "photoUrl": "",
      "userId": "13276429583960305726"
     },
     "user_tz": -540
    },
    "id": "VgUaDIUQOjbz",
    "outputId": "e03e55cc-fe64-48ea-9696-a0b2c5310161"
   },
   "outputs": [
    {
     "name": "stdout",
     "output_type": "stream",
     "text": [
      "Requirement already satisfied: konlpy in /usr/local/lib/python3.7/dist-packages (0.5.2)\n",
      "Requirement already satisfied: JPype1-py3 in /usr/local/lib/python3.7/dist-packages (0.5.5.4)\n",
      "Requirement already satisfied: numpy>=1.6 in /usr/local/lib/python3.7/dist-packages (from konlpy) (1.21.0)\n",
      "Requirement already satisfied: tweepy>=3.7.0 in /usr/local/lib/python3.7/dist-packages (from konlpy) (3.10.0)\n",
      "Requirement already satisfied: beautifulsoup4==4.6.0 in /usr/local/lib/python3.7/dist-packages (from konlpy) (4.6.0)\n",
      "Requirement already satisfied: lxml>=4.1.0 in /usr/local/lib/python3.7/dist-packages (from konlpy) (4.2.6)\n",
      "Requirement already satisfied: colorama in /usr/local/lib/python3.7/dist-packages (from konlpy) (0.4.4)\n",
      "Requirement already satisfied: JPype1>=0.7.0 in /usr/local/lib/python3.7/dist-packages (from konlpy) (1.3.0)\n",
      "Requirement already satisfied: requests-oauthlib>=0.7.0 in /usr/local/lib/python3.7/dist-packages (from tweepy>=3.7.0->konlpy) (1.3.0)\n",
      "Requirement already satisfied: requests[socks]>=2.11.1 in /usr/local/lib/python3.7/dist-packages (from tweepy>=3.7.0->konlpy) (2.23.0)\n",
      "Requirement already satisfied: six>=1.10.0 in /usr/local/lib/python3.7/dist-packages (from tweepy>=3.7.0->konlpy) (1.15.0)\n",
      "Requirement already satisfied: typing-extensions; python_version < \"3.8\" in /usr/local/lib/python3.7/dist-packages (from JPype1>=0.7.0->konlpy) (3.7.4.3)\n",
      "Requirement already satisfied: oauthlib>=3.0.0 in /usr/local/lib/python3.7/dist-packages (from requests-oauthlib>=0.7.0->tweepy>=3.7.0->konlpy) (3.1.1)\n",
      "Requirement already satisfied: chardet<4,>=3.0.2 in /usr/local/lib/python3.7/dist-packages (from requests[socks]>=2.11.1->tweepy>=3.7.0->konlpy) (3.0.4)\n",
      "Requirement already satisfied: urllib3!=1.25.0,!=1.25.1,<1.26,>=1.21.1 in /usr/local/lib/python3.7/dist-packages (from requests[socks]>=2.11.1->tweepy>=3.7.0->konlpy) (1.24.3)\n",
      "Requirement already satisfied: idna<3,>=2.5 in /usr/local/lib/python3.7/dist-packages (from requests[socks]>=2.11.1->tweepy>=3.7.0->konlpy) (2.10)\n",
      "Requirement already satisfied: certifi>=2017.4.17 in /usr/local/lib/python3.7/dist-packages (from requests[socks]>=2.11.1->tweepy>=3.7.0->konlpy) (2021.5.30)\n",
      "Requirement already satisfied: PySocks!=1.5.7,>=1.5.6; extra == \"socks\" in /usr/local/lib/python3.7/dist-packages (from requests[socks]>=2.11.1->tweepy>=3.7.0->konlpy) (1.7.1)\n"
     ]
    }
   ],
   "source": [
    "!pip install konlpy JPype1-py3"
   ]
  },
  {
   "cell_type": "code",
   "execution_count": null,
   "metadata": {
    "colab": {
     "base_uri": "https://localhost:8080/"
    },
    "executionInfo": {
     "elapsed": 913,
     "status": "ok",
     "timestamp": 1624939827772,
     "user": {
      "displayName": "오지현",
      "photoUrl": "",
      "userId": "13276429583960305726"
     },
     "user_tz": -540
    },
    "id": "HRFiv4k3OpAL",
    "outputId": "1766692d-aa7f-4b56-d6fb-08dfa11d7a3d"
   },
   "outputs": [
    {
     "name": "stdout",
     "output_type": "stream",
     "text": [
      "mecab-ko is already installed\n",
      "mecab-ko-dic is already installed\n",
      "mecab-python is already installed\n",
      "Done.\n"
     ]
    }
   ],
   "source": [
    "\n",
    "!bash <(curl -s https://raw.githubusercontent.com/konlpy/konlpy/master/scripts/mecab.sh)"
   ]
  },
  {
   "cell_type": "code",
   "execution_count": null,
   "metadata": {
    "id": "XHWZUdDYOzCz"
   },
   "outputs": [],
   "source": [
    "from konlpy.tag import Mecab"
   ]
  },
  {
   "cell_type": "code",
   "execution_count": null,
   "metadata": {
    "id": "xjlNfvcvO2UL"
   },
   "outputs": [],
   "source": [
    "tokenizer = Mecab()"
   ]
  },
  {
   "cell_type": "code",
   "execution_count": null,
   "metadata": {
    "id": "BHDc80JlO4hT"
   },
   "outputs": [],
   "source": [
    "from google.colab import drive"
   ]
  },
  {
   "cell_type": "code",
   "execution_count": null,
   "metadata": {
    "colab": {
     "base_uri": "https://localhost:8080/"
    },
    "executionInfo": {
     "elapsed": 4,
     "status": "ok",
     "timestamp": 1624939832495,
     "user": {
      "displayName": "오지현",
      "photoUrl": "",
      "userId": "13276429583960305726"
     },
     "user_tz": -540
    },
    "id": "Ok9tuyl7O6e7",
    "outputId": "aadf289c-0b95-4930-f317-00ff65f8d220"
   },
   "outputs": [
    {
     "name": "stdout",
     "output_type": "stream",
     "text": [
      "Drive already mounted at /content/gdrive; to attempt to forcibly remount, call drive.mount(\"/content/gdrive\", force_remount=True).\n"
     ]
    }
   ],
   "source": [
    "drive.mount('/content/gdrive')"
   ]
  },
  {
   "cell_type": "code",
   "execution_count": null,
   "metadata": {
    "id": "t1DlgBuQO-DL"
   },
   "outputs": [],
   "source": [
    "import konlpy\n",
    "import pandas as pd\n",
    "import numpy as np"
   ]
  },
  {
   "cell_type": "code",
   "execution_count": null,
   "metadata": {
    "id": "KacJpiohPCJr"
   },
   "outputs": [],
   "source": [
    "df_train = pd.read_csv('/content/gdrive/My Drive/Colab Notebooks/ratings_train.txt',delimiter = '\\t',keep_default_na=False)"
   ]
  },
  {
   "cell_type": "code",
   "execution_count": null,
   "metadata": {
    "colab": {
     "base_uri": "https://localhost:8080/",
     "height": 142
    },
    "executionInfo": {
     "elapsed": 17,
     "status": "ok",
     "timestamp": 1624939837965,
     "user": {
      "displayName": "오지현",
      "photoUrl": "",
      "userId": "13276429583960305726"
     },
     "user_tz": -540
    },
    "id": "GLxBEdcjPRQi",
    "outputId": "e6ea25ae-cec9-40de-baed-4cde2efc74e6"
   },
   "outputs": [
    {
     "data": {
      "text/html": [
       "<div>\n",
       "<style scoped>\n",
       "    .dataframe tbody tr th:only-of-type {\n",
       "        vertical-align: middle;\n",
       "    }\n",
       "\n",
       "    .dataframe tbody tr th {\n",
       "        vertical-align: top;\n",
       "    }\n",
       "\n",
       "    .dataframe thead th {\n",
       "        text-align: right;\n",
       "    }\n",
       "</style>\n",
       "<table border=\"1\" class=\"dataframe\">\n",
       "  <thead>\n",
       "    <tr style=\"text-align: right;\">\n",
       "      <th></th>\n",
       "      <th>id</th>\n",
       "      <th>document</th>\n",
       "      <th>label</th>\n",
       "    </tr>\n",
       "  </thead>\n",
       "  <tbody>\n",
       "    <tr>\n",
       "      <th>0</th>\n",
       "      <td>9976970</td>\n",
       "      <td>아 더빙.. 진짜 짜증나네요 목소리</td>\n",
       "      <td>0</td>\n",
       "    </tr>\n",
       "    <tr>\n",
       "      <th>1</th>\n",
       "      <td>3819312</td>\n",
       "      <td>흠...포스터보고 초딩영화줄....오버연기조차 가볍지 않구나</td>\n",
       "      <td>1</td>\n",
       "    </tr>\n",
       "    <tr>\n",
       "      <th>2</th>\n",
       "      <td>10265843</td>\n",
       "      <td>너무재밓었다그래서보는것을추천한다</td>\n",
       "      <td>0</td>\n",
       "    </tr>\n",
       "  </tbody>\n",
       "</table>\n",
       "</div>"
      ],
      "text/plain": [
       "         id                           document  label\n",
       "0   9976970                아 더빙.. 진짜 짜증나네요 목소리      0\n",
       "1   3819312  흠...포스터보고 초딩영화줄....오버연기조차 가볍지 않구나      1\n",
       "2  10265843                  너무재밓었다그래서보는것을추천한다      0"
      ]
     },
     "execution_count": 118,
     "metadata": {
      "tags": []
     },
     "output_type": "execute_result"
    }
   ],
   "source": [
    "df_train[:3]"
   ]
  },
  {
   "cell_type": "code",
   "execution_count": null,
   "metadata": {
    "id": "VdH7L089PKFL"
   },
   "outputs": [],
   "source": [
    "from konlpy.tag import Mecab"
   ]
  },
  {
   "cell_type": "code",
   "execution_count": null,
   "metadata": {
    "id": "eNk4_Dz_QN0X"
   },
   "outputs": [],
   "source": [
    "tokenizer = Mecab()\n",
    "def mecab_tokenizer(text):\n",
    "  return tokenizer.morphs(text)"
   ]
  },
  {
   "cell_type": "code",
   "execution_count": null,
   "metadata": {
    "id": "b4-ctnqdQQFN"
   },
   "outputs": [],
   "source": [
    "\n",
    "string_test = \"아버지가 방에 들어가신다\""
   ]
  },
  {
   "cell_type": "code",
   "execution_count": null,
   "metadata": {
    "colab": {
     "base_uri": "https://localhost:8080/"
    },
    "executionInfo": {
     "elapsed": 5,
     "status": "ok",
     "timestamp": 1624939842050,
     "user": {
      "displayName": "오지현",
      "photoUrl": "",
      "userId": "13276429583960305726"
     },
     "user_tz": -540
    },
    "id": "cgaSgDdVQS-d",
    "outputId": "4beb5e03-f07f-49ba-f7af-38d041e79fde"
   },
   "outputs": [
    {
     "data": {
      "text/plain": [
       "['아버지', '가', '방', '에', '들어가', '신다']"
      ]
     },
     "execution_count": 122,
     "metadata": {
      "tags": []
     },
     "output_type": "execute_result"
    }
   ],
   "source": [
    "tokenizer.morphs(string_test)"
   ]
  },
  {
   "cell_type": "code",
   "execution_count": null,
   "metadata": {
    "id": "Svi5bmg8QWOF"
   },
   "outputs": [],
   "source": [
    "from sklearn.feature_extraction.text import TfidfVectorizer"
   ]
  },
  {
   "cell_type": "code",
   "execution_count": null,
   "metadata": {
    "id": "45srRlVQSuQk"
   },
   "outputs": [],
   "source": [
    "tfidf = TfidfVectorizer(tokenizer=mecab_tokenizer,ngram_range=(1,2), min_df=3,max_df = 0.9)"
   ]
  },
  {
   "cell_type": "code",
   "execution_count": null,
   "metadata": {
    "colab": {
     "base_uri": "https://localhost:8080/"
    },
    "executionInfo": {
     "elapsed": 20034,
     "status": "ok",
     "timestamp": 1624939866216,
     "user": {
      "displayName": "오지현",
      "photoUrl": "",
      "userId": "13276429583960305726"
     },
     "user_tz": -540
    },
    "id": "YcXMvMcLTzbG",
    "outputId": "90fa6652-33fb-4a56-956c-09a5b67856fa"
   },
   "outputs": [
    {
     "name": "stderr",
     "output_type": "stream",
     "text": [
      "/usr/local/lib/python3.7/dist-packages/sklearn/feature_extraction/text.py:507: UserWarning: The parameter 'token_pattern' will not be used since 'tokenizer' is not None'\n",
      "  warnings.warn(\"The parameter 'token_pattern' will not be used\"\n"
     ]
    },
    {
     "data": {
      "text/plain": [
       "TfidfVectorizer(analyzer='word', binary=False, decode_error='strict',\n",
       "                dtype=<class 'numpy.float64'>, encoding='utf-8',\n",
       "                input='content', lowercase=True, max_df=0.9, max_features=None,\n",
       "                min_df=3, ngram_range=(1, 2), norm='l2', preprocessor=None,\n",
       "                smooth_idf=True, stop_words=None, strip_accents=None,\n",
       "                sublinear_tf=False, token_pattern='(?u)\\\\b\\\\w\\\\w+\\\\b',\n",
       "                tokenizer=<function mecab_tokenizer at 0x7f6f3c25a9e0>,\n",
       "                use_idf=True, vocabulary=None)"
      ]
     },
     "execution_count": 125,
     "metadata": {
      "tags": []
     },
     "output_type": "execute_result"
    }
   ],
   "source": [
    "tfidf.fit(df_train['document'])"
   ]
  },
  {
   "cell_type": "code",
   "execution_count": null,
   "metadata": {
    "id": "mhdHDq3JUVTU"
   },
   "outputs": [],
   "source": [
    "df_train_tfidf = tfidf.transform(df_train['document'])"
   ]
  },
  {
   "cell_type": "code",
   "execution_count": null,
   "metadata": {
    "colab": {
     "base_uri": "https://localhost:8080/"
    },
    "executionInfo": {
     "elapsed": 1978,
     "status": "ok",
     "timestamp": 1624939886371,
     "user": {
      "displayName": "오지현",
      "photoUrl": "",
      "userId": "13276429583960305726"
     },
     "user_tz": -540
    },
    "id": "BD6u0Zoq4z8F",
    "outputId": "368a226c-12c2-4e1e-e780-415666a0dae6"
   },
   "outputs": [
    {
     "data": {
      "text/plain": [
       "0.9693533333333333"
      ]
     },
     "execution_count": 127,
     "metadata": {
      "tags": []
     },
     "output_type": "execute_result"
    }
   ],
   "source": [
    "from sklearn.svm import LinearSVC\n",
    "svm = LinearSVC()\n",
    "svm.fit(df_train_tfidf,df_train['label'])\n",
    "svm.score(df_train_tfidf, df_train[\"label\"])"
   ]
  },
  {
   "cell_type": "code",
   "execution_count": null,
   "metadata": {
    "id": "rjE8aWj74846"
   },
   "outputs": [],
   "source": [
    "df_test = pd.read_csv('/content/gdrive/My Drive/Colab Notebooks/ratings_test.txt', delimiter='\\t', keep_default_na=False)"
   ]
  },
  {
   "cell_type": "code",
   "execution_count": null,
   "metadata": {
    "id": "BPDuxlLa5CV7"
   },
   "outputs": [],
   "source": [
    "df_test_tfidf = tfidf.transform(df_test['document'])"
   ]
  },
  {
   "cell_type": "code",
   "execution_count": null,
   "metadata": {
    "id": "G3wKQcVp558O"
   },
   "outputs": [],
   "source": [
    "test_pred = svm.predict(df_test_tfidf)"
   ]
  },
  {
   "cell_type": "code",
   "execution_count": null,
   "metadata": {
    "id": "iyc-52CW8ZMx"
   },
   "outputs": [],
   "source": [
    "from sklearn.metrics import accuracy_score"
   ]
  },
  {
   "cell_type": "code",
   "execution_count": null,
   "metadata": {
    "colab": {
     "base_uri": "https://localhost:8080/"
    },
    "executionInfo": {
     "elapsed": 11,
     "status": "ok",
     "timestamp": 1624939892227,
     "user": {
      "displayName": "오지현",
      "photoUrl": "",
      "userId": "13276429583960305726"
     },
     "user_tz": -540
    },
    "id": "n3vizhqw8c_w",
    "outputId": "4c8deec7-6e11-4d64-e30d-8886fce3fc2e"
   },
   "outputs": [
    {
     "data": {
      "text/plain": [
       "0.86794"
      ]
     },
     "execution_count": 132,
     "metadata": {
      "tags": []
     },
     "output_type": "execute_result"
    }
   ],
   "source": [
    "accuracy_score(df_test['label'],test_pred)"
   ]
  },
  {
   "cell_type": "code",
   "execution_count": null,
   "metadata": {
    "colab": {
     "base_uri": "https://localhost:8080/"
    },
    "executionInfo": {
     "elapsed": 4000,
     "status": "ok",
     "timestamp": 1624939896223,
     "user": {
      "displayName": "오지현",
      "photoUrl": "",
      "userId": "13276429583960305726"
     },
     "user_tz": -540
    },
    "id": "JVIqsIQkHcmy",
    "outputId": "2f956210-d4db-4634-9d99-41c32039c2aa"
   },
   "outputs": [
    {
     "name": "stdout",
     "output_type": "stream",
     "text": [
      "너의 말은?:배불러\n"
     ]
    }
   ],
   "source": [
    "s1=input('너의 말은?:')"
   ]
  },
  {
   "cell_type": "code",
   "execution_count": null,
   "metadata": {
    "id": "xUjSAXMLHk90"
   },
   "outputs": [],
   "source": [
    "\n",
    "import re"
   ]
  },
  {
   "cell_type": "code",
   "execution_count": null,
   "metadata": {
    "id": "dYxQXFpPHnL7"
   },
   "outputs": [],
   "source": [
    "s1 = re.compile(r'[ㄱ-ㅣ가-힣]+').findall(s1)"
   ]
  },
  {
   "cell_type": "code",
   "execution_count": null,
   "metadata": {
    "colab": {
     "base_uri": "https://localhost:8080/"
    },
    "executionInfo": {
     "elapsed": 6,
     "status": "ok",
     "timestamp": 1624939896224,
     "user": {
      "displayName": "오지현",
      "photoUrl": "",
      "userId": "13276429583960305726"
     },
     "user_tz": -540
    },
    "id": "ghhkJfo4H0IT",
    "outputId": "2e9c3d16-2f37-4d32-aee9-3f3902c7140c"
   },
   "outputs": [
    {
     "name": "stdout",
     "output_type": "stream",
     "text": [
      "배불러\n"
     ]
    }
   ],
   "source": [
    "print(s1)"
   ]
  },
  {
   "cell_type": "code",
   "execution_count": null,
   "metadata": {
    "id": "eqIJKO2hH2H6"
   },
   "outputs": [],
   "source": [
    "s1 = [\" \".join(s1)]"
   ]
  },
  {
   "cell_type": "code",
   "execution_count": null,
   "metadata": {
    "colab": {
     "base_uri": "https://localhost:8080/"
    },
    "executionInfo": {
     "elapsed": 12,
     "status": "ok",
     "timestamp": 1624939906311,
     "user": {
      "displayName": "오지현",
      "photoUrl": "",
      "userId": "13276429583960305726"
     },
     "user_tz": -540
    },
    "id": "KsmUsRQ4H5B6",
    "outputId": "3f8befb7-2b7b-4a58-dd0a-aec5610d828a"
   },
   "outputs": [
    {
     "name": "stdout",
     "output_type": "stream",
     "text": [
      "['배불러']\n"
     ]
    }
   ],
   "source": [
    "print(s1)"
   ]
  },
  {
   "cell_type": "code",
   "execution_count": null,
   "metadata": {
    "id": "ZcTJZzseH6Az"
   },
   "outputs": [],
   "source": [
    "s1_tfidf = tfidf.transform(s1)"
   ]
  },
  {
   "cell_type": "code",
   "execution_count": null,
   "metadata": {
    "id": "hkHc6mPxH9Uk"
   },
   "outputs": [],
   "source": [
    "s1_pred = svm.predict(s1_tfidf)"
   ]
  },
  {
   "cell_type": "code",
   "execution_count": null,
   "metadata": {
    "colab": {
     "base_uri": "https://localhost:8080/"
    },
    "executionInfo": {
     "elapsed": 4,
     "status": "ok",
     "timestamp": 1624939909313,
     "user": {
      "displayName": "오지현",
      "photoUrl": "",
      "userId": "13276429583960305726"
     },
     "user_tz": -540
    },
    "id": "YHfgLg3OIAL8",
    "outputId": "ccb944cd-1182-4b82-c073-0d699b235b6d"
   },
   "outputs": [
    {
     "name": "stdout",
     "output_type": "stream",
     "text": [
      "저런.. 기분이 안좋구나\n"
     ]
    }
   ],
   "source": [
    "if(s1_pred==0):\n",
    "  print(\"저런.. 기분이 안좋구나\")\n",
    "else:\n",
    "  print(\"기분이 좋구나?^^\")"
   ]
  },
  {
   "cell_type": "code",
   "execution_count": null,
   "metadata": {
    "id": "co4bmDSUSofz"
   },
   "outputs": [],
   "source": [
    "import json\n",
    "with open('/content/gdrive/My Drive/Colab Notebooks/news.json') as j_f:\n",
    "  data = json.load(j_f)"
   ]
  },
  {
   "cell_type": "code",
   "execution_count": null,
   "metadata": {
    "id": "teE9_6xUU7mq"
   },
   "outputs": [],
   "source": [
    "data_title = []\n",
    "data_description = []\n",
    "for item in data:\n",
    "  data_title.append(item['title'])\n",
    "  data_description.append(item['description'])"
   ]
  },
  {
   "cell_type": "code",
   "execution_count": null,
   "metadata": {
    "id": "CaPZqtcmVIie"
   },
   "outputs": [],
   "source": [
    "data_df = pd.DataFrame({'title':data_title,'description':data_description})"
   ]
  },
  {
   "cell_type": "code",
   "execution_count": null,
   "metadata": {
    "id": "L63yLAX5V_M-"
   },
   "outputs": [],
   "source": [
    "data_df['title'] = data_df['title'].apply(lambda x: re.sub(r'[^ ㄱ-ㅣ가-힣]+',\" \",x))\n",
    "data_df['description'] = data_df['description'].apply(lambda x: re.sub(r'[^ ㄱ-ㅣ가-힣]+',\" \",x))"
   ]
  },
  {
   "cell_type": "code",
   "execution_count": null,
   "metadata": {
    "colab": {
     "base_uri": "https://localhost:8080/",
     "height": 359
    },
    "executionInfo": {
     "elapsed": 393,
     "status": "ok",
     "timestamp": 1624939917161,
     "user": {
      "displayName": "오지현",
      "photoUrl": "",
      "userId": "13276429583960305726"
     },
     "user_tz": -540
    },
    "id": "fkIX4X0RWW-Y",
    "outputId": "d4ca9456-5ef0-4900-f08a-5119900e26e0"
   },
   "outputs": [
    {
     "data": {
      "text/html": [
       "<div>\n",
       "<style scoped>\n",
       "    .dataframe tbody tr th:only-of-type {\n",
       "        vertical-align: middle;\n",
       "    }\n",
       "\n",
       "    .dataframe tbody tr th {\n",
       "        vertical-align: top;\n",
       "    }\n",
       "\n",
       "    .dataframe thead th {\n",
       "        text-align: right;\n",
       "    }\n",
       "</style>\n",
       "<table border=\"1\" class=\"dataframe\">\n",
       "  <thead>\n",
       "    <tr style=\"text-align: right;\">\n",
       "      <th></th>\n",
       "      <th>title</th>\n",
       "      <th>description</th>\n",
       "    </tr>\n",
       "  </thead>\n",
       "  <tbody>\n",
       "    <tr>\n",
       "      <th>0</th>\n",
       "      <td>결국  증세론  먼저 꺼내든  증세없는  기본소득  불가능</td>\n",
       "      <td>코로나 발 경제 위기 대응을 위해 돈 쓸 곳은 늘어났지만  국세 수입은 줄어들면서...</td>\n",
       "    </tr>\n",
       "    <tr>\n",
       "      <th>1</th>\n",
       "      <td>창녕군   창녕형 비대면 선별진료소 운영</td>\n",
       "      <td>지난  일 창녕군보건소 앞에 설치한 선별진료소에서 검사자가 체온을 측정하고 있다...</td>\n",
       "    </tr>\n",
       "    <tr>\n",
       "      <th>2</th>\n",
       "      <td>모바일  메인 홍보 모델로    설현  선정</td>\n",
       "      <td>한편   설현 은 최근  코로나  바이러스를 다룬     시리즈   세계적 유행 에...</td>\n",
       "    </tr>\n",
       "    <tr>\n",
       "      <th>3</th>\n",
       "      <td>김병민  기본소득도 필요하면 논의 테이블에 올려야   인터뷰</td>\n",
       "      <td>변화의 핵심 중에서는 우리 사회가 신종  코로나 바이러스 감염증 코로나 의 위기를 ...</td>\n",
       "    </tr>\n",
       "    <tr>\n",
       "      <th>4</th>\n",
       "      <td>이재갑 장관  고용안정지원금 서울센터 방문</td>\n",
       "      <td>이재갑 고용노동부 장관은 월 일 수 시에 코로나 긴급 고용안정지원금 서울 센터 서...</td>\n",
       "    </tr>\n",
       "    <tr>\n",
       "      <th>5</th>\n",
       "      <td>부산행 반도 로 이어지는 한국형 좀비 세계관  칸의 선택 받았다</td>\n",
       "      <td>하지만 올해 신종  코로나 바이러스 감염증 코로나  여파로 오프라인 행사를 진행하지...</td>\n",
       "    </tr>\n",
       "    <tr>\n",
       "      <th>6</th>\n",
       "      <td>년만 첫  불허 에도 홍콩  톈안문 추모 촛불</td>\n",
       "      <td>경찰은  코로나  감염이 우려된다며  명 이상을 모이는 집회를 봉쇄해왔고 지난 홍콩...</td>\n",
       "    </tr>\n",
       "    <tr>\n",
       "      <th>7</th>\n",
       "      <td>국내  대 항만  월 물동량  인천항만 상승곡선</td>\n",
       "      <td>전국 컨테이너 처리량  만  국내 항만은  월 들어 신종  코로나 바이러스 감염증 ...</td>\n",
       "    </tr>\n",
       "    <tr>\n",
       "      <th>8</th>\n",
       "      <td>경기도의회 농정해양위  농민기본소득 도입 이재명 지사와 집행부에 강력 촉구</td>\n",
       "      <td>한편   코로나 로 인한 해외의 식재료 사재기에서 보듯이 국민들의 먹거리를 안정적으...</td>\n",
       "    </tr>\n",
       "    <tr>\n",
       "      <th>9</th>\n",
       "      <td>이용빈 원내부대표  코로나  대응 의료진 노동자 건강권 보장해야</td>\n",
       "      <td>이용빈 의원실 제공 이용빈 민주당 원내부대표가  일  코로나  상시화  장기화에 따...</td>\n",
       "    </tr>\n",
       "  </tbody>\n",
       "</table>\n",
       "</div>"
      ],
      "text/plain": [
       "                                       title                                        description\n",
       "0          결국  증세론  먼저 꺼내든  증세없는  기본소득  불가능    코로나 발 경제 위기 대응을 위해 돈 쓸 곳은 늘어났지만  국세 수입은 줄어들면서...\n",
       "1                     창녕군   창녕형 비대면 선별진료소 운영    지난  일 창녕군보건소 앞에 설치한 선별진료소에서 검사자가 체온을 측정하고 있다...\n",
       "2                   모바일  메인 홍보 모델로    설현  선정  한편   설현 은 최근  코로나  바이러스를 다룬     시리즈   세계적 유행 에...\n",
       "3         김병민  기본소득도 필요하면 논의 테이블에 올려야   인터뷰   변화의 핵심 중에서는 우리 사회가 신종  코로나 바이러스 감염증 코로나 의 위기를 ...\n",
       "4                    이재갑 장관  고용안정지원금 서울센터 방문   이재갑 고용노동부 장관은 월 일 수 시에 코로나 긴급 고용안정지원금 서울 센터 서...\n",
       "5        부산행 반도 로 이어지는 한국형 좀비 세계관  칸의 선택 받았다  하지만 올해 신종  코로나 바이러스 감염증 코로나  여파로 오프라인 행사를 진행하지...\n",
       "6                  년만 첫  불허 에도 홍콩  톈안문 추모 촛불  경찰은  코로나  감염이 우려된다며  명 이상을 모이는 집회를 봉쇄해왔고 지난 홍콩...\n",
       "7                국내  대 항만  월 물동량  인천항만 상승곡선   전국 컨테이너 처리량  만  국내 항만은  월 들어 신종  코로나 바이러스 감염증 ...\n",
       "8  경기도의회 농정해양위  농민기본소득 도입 이재명 지사와 집행부에 강력 촉구  한편   코로나 로 인한 해외의 식재료 사재기에서 보듯이 국민들의 먹거리를 안정적으...\n",
       "9       이용빈 원내부대표  코로나  대응 의료진 노동자 건강권 보장해야   이용빈 의원실 제공 이용빈 민주당 원내부대표가  일  코로나  상시화  장기화에 따..."
      ]
     },
     "execution_count": 146,
     "metadata": {
      "tags": []
     },
     "output_type": "execute_result"
    }
   ],
   "source": [
    "data_df[:10]"
   ]
  },
  {
   "cell_type": "code",
   "execution_count": null,
   "metadata": {
    "id": "2RUbimAoWoXY"
   },
   "outputs": [],
   "source": [
    "data_title_tfidf = tfidf.transform(data_df['title'])"
   ]
  },
  {
   "cell_type": "code",
   "execution_count": null,
   "metadata": {
    "id": "OH0SO_V6WtpH"
   },
   "outputs": [],
   "source": [
    "data_title_pred = svm.predict(data_title_tfidf)"
   ]
  },
  {
   "cell_type": "code",
   "execution_count": null,
   "metadata": {
    "id": "jl1yvJG8W8-O"
   },
   "outputs": [],
   "source": [
    "data_df['title_label']= data_title_pred"
   ]
  },
  {
   "cell_type": "code",
   "execution_count": null,
   "metadata": {
    "colab": {
     "base_uri": "https://localhost:8080/",
     "height": 419
    },
    "executionInfo": {
     "elapsed": 3,
     "status": "ok",
     "timestamp": 1624939920571,
     "user": {
      "displayName": "오지현",
      "photoUrl": "",
      "userId": "13276429583960305726"
     },
     "user_tz": -540
    },
    "id": "ciJb4vswXCuu",
    "outputId": "d35b8ded-34aa-4b24-c911-2997d7e13627"
   },
   "outputs": [
    {
     "data": {
      "text/html": [
       "<div>\n",
       "<style scoped>\n",
       "    .dataframe tbody tr th:only-of-type {\n",
       "        vertical-align: middle;\n",
       "    }\n",
       "\n",
       "    .dataframe tbody tr th {\n",
       "        vertical-align: top;\n",
       "    }\n",
       "\n",
       "    .dataframe thead th {\n",
       "        text-align: right;\n",
       "    }\n",
       "</style>\n",
       "<table border=\"1\" class=\"dataframe\">\n",
       "  <thead>\n",
       "    <tr style=\"text-align: right;\">\n",
       "      <th></th>\n",
       "      <th>title</th>\n",
       "      <th>description</th>\n",
       "      <th>title_label</th>\n",
       "    </tr>\n",
       "  </thead>\n",
       "  <tbody>\n",
       "    <tr>\n",
       "      <th>0</th>\n",
       "      <td>결국  증세론  먼저 꺼내든  증세없는  기본소득  불가능</td>\n",
       "      <td>코로나 발 경제 위기 대응을 위해 돈 쓸 곳은 늘어났지만  국세 수입은 줄어들면서...</td>\n",
       "      <td>0</td>\n",
       "    </tr>\n",
       "    <tr>\n",
       "      <th>1</th>\n",
       "      <td>창녕군   창녕형 비대면 선별진료소 운영</td>\n",
       "      <td>지난  일 창녕군보건소 앞에 설치한 선별진료소에서 검사자가 체온을 측정하고 있다...</td>\n",
       "      <td>1</td>\n",
       "    </tr>\n",
       "    <tr>\n",
       "      <th>2</th>\n",
       "      <td>모바일  메인 홍보 모델로    설현  선정</td>\n",
       "      <td>한편   설현 은 최근  코로나  바이러스를 다룬     시리즈   세계적 유행 에...</td>\n",
       "      <td>1</td>\n",
       "    </tr>\n",
       "    <tr>\n",
       "      <th>3</th>\n",
       "      <td>김병민  기본소득도 필요하면 논의 테이블에 올려야   인터뷰</td>\n",
       "      <td>변화의 핵심 중에서는 우리 사회가 신종  코로나 바이러스 감염증 코로나 의 위기를 ...</td>\n",
       "      <td>1</td>\n",
       "    </tr>\n",
       "    <tr>\n",
       "      <th>4</th>\n",
       "      <td>이재갑 장관  고용안정지원금 서울센터 방문</td>\n",
       "      <td>이재갑 고용노동부 장관은 월 일 수 시에 코로나 긴급 고용안정지원금 서울 센터 서...</td>\n",
       "      <td>0</td>\n",
       "    </tr>\n",
       "    <tr>\n",
       "      <th>...</th>\n",
       "      <td>...</td>\n",
       "      <td>...</td>\n",
       "      <td>...</td>\n",
       "    </tr>\n",
       "    <tr>\n",
       "      <th>795</th>\n",
       "      <td>세계의 눈   코로나  영향  현대차 매출 큰 타격  하지만   차량은 순항</td>\n",
       "      <td>글로벌기업 현대 기아차가  코로나 의 여파로 해외시장에서 고전을 면치 못하고 있는 ...</td>\n",
       "      <td>1</td>\n",
       "    </tr>\n",
       "    <tr>\n",
       "      <th>796</th>\n",
       "      <td>중부발전  소규모 태양광사업자   판매대금  선 지급</td>\n",
       "      <td>한국중부발전 본사 전경 한국중부발전 사장 박형구 은  코로나  장기화로 인해 경제적...</td>\n",
       "      <td>1</td>\n",
       "    </tr>\n",
       "    <tr>\n",
       "      <th>797</th>\n",
       "      <td>코로나  함께 극복 박종환 자유총연맹 총재  캠페인 참여</td>\n",
       "      <td>박종환 한국자유총연맹 총재 신종  코로나 바이러스 감염증 코로나  극복과 조기 종식...</td>\n",
       "      <td>1</td>\n",
       "    </tr>\n",
       "    <tr>\n",
       "      <th>798</th>\n",
       "      <td>치과의사  명 모이는 행사 앞두고 치협 회장  행사 취소해달라</td>\n",
       "      <td>이상훈 회장은  코로나  신규 확진자가 수도권에서 발생했고 정부는 수도권 한정  사...</td>\n",
       "      <td>0</td>\n",
       "    </tr>\n",
       "    <tr>\n",
       "      <th>799</th>\n",
       "      <td>포토 대종상영화제  문가영   발랄 듬 뿍</td>\n",
       "      <td>제 회 대종상영화제 참석한 문가영제 회 대종상영화제 참석한 문가영  코로나  여파로...</td>\n",
       "      <td>0</td>\n",
       "    </tr>\n",
       "  </tbody>\n",
       "</table>\n",
       "<p>800 rows × 3 columns</p>\n",
       "</div>"
      ],
      "text/plain": [
       "                                             title  ... title_label\n",
       "0                결국  증세론  먼저 꺼내든  증세없는  기본소득  불가능   ...           0\n",
       "1                           창녕군   창녕형 비대면 선별진료소 운영  ...           1\n",
       "2                         모바일  메인 홍보 모델로    설현  선정  ...           1\n",
       "3               김병민  기본소득도 필요하면 논의 테이블에 올려야   인터뷰   ...           1\n",
       "4                          이재갑 장관  고용안정지원금 서울센터 방문  ...           0\n",
       "..                                             ...  ...         ...\n",
       "795   세계의 눈   코로나  영향  현대차 매출 큰 타격  하지만   차량은 순항    ...           1\n",
       "796                 중부발전  소규모 태양광사업자   판매대금  선 지급   ...           1\n",
       "797                코로나  함께 극복 박종환 자유총연맹 총재  캠페인 참여  ...           1\n",
       "798            치과의사  명 모이는 행사 앞두고 치협 회장  행사 취소해달라   ...           0\n",
       "799                       포토 대종상영화제  문가영   발랄 듬 뿍   ...           0\n",
       "\n",
       "[800 rows x 3 columns]"
      ]
     },
     "execution_count": 150,
     "metadata": {
      "tags": []
     },
     "output_type": "execute_result"
    }
   ],
   "source": [
    "\n",
    "data_df"
   ]
  },
  {
   "cell_type": "code",
   "execution_count": null,
   "metadata": {
    "id": "1YKGanGgXalF"
   },
   "outputs": [],
   "source": [
    "data_description_tfidf = tfidf.transform(data_df['description'])"
   ]
  },
  {
   "cell_type": "code",
   "execution_count": null,
   "metadata": {
    "id": "hDFX0e99XwVp"
   },
   "outputs": [],
   "source": [
    "data_description_pred = svm.predict(data_description_tfidf)"
   ]
  },
  {
   "cell_type": "code",
   "execution_count": null,
   "metadata": {
    "id": "V0mtSrN7X4Pb"
   },
   "outputs": [],
   "source": [
    "data_df['description_label']= data_description_pred"
   ]
  },
  {
   "cell_type": "code",
   "execution_count": null,
   "metadata": {
    "id": "226e2N-MX9WM"
   },
   "outputs": [],
   "source": [
    "data_df.to_csv(\"/content/gdrive/My Drive/Colab Notebooks/news.csv\",encoding=\"euc-kr\")"
   ]
  },
  {
   "cell_type": "code",
   "execution_count": null,
   "metadata": {
    "colab": {
     "base_uri": "https://localhost:8080/",
     "height": 204
    },
    "executionInfo": {
     "elapsed": 4,
     "status": "ok",
     "timestamp": 1624939925141,
     "user": {
      "displayName": "오지현",
      "photoUrl": "",
      "userId": "13276429583960305726"
     },
     "user_tz": -540
    },
    "id": "xaJU3Wh6Yif8",
    "outputId": "23ec6f67-02d4-44e8-8b9e-a53dfecca633"
   },
   "outputs": [
    {
     "data": {
      "text/html": [
       "<div>\n",
       "<style scoped>\n",
       "    .dataframe tbody tr th:only-of-type {\n",
       "        vertical-align: middle;\n",
       "    }\n",
       "\n",
       "    .dataframe tbody tr th {\n",
       "        vertical-align: top;\n",
       "    }\n",
       "\n",
       "    .dataframe thead th {\n",
       "        text-align: right;\n",
       "    }\n",
       "</style>\n",
       "<table border=\"1\" class=\"dataframe\">\n",
       "  <thead>\n",
       "    <tr style=\"text-align: right;\">\n",
       "      <th></th>\n",
       "      <th>title</th>\n",
       "      <th>description</th>\n",
       "      <th>title_label</th>\n",
       "      <th>description_label</th>\n",
       "    </tr>\n",
       "  </thead>\n",
       "  <tbody>\n",
       "    <tr>\n",
       "      <th>0</th>\n",
       "      <td>결국  증세론  먼저 꺼내든  증세없는  기본소득  불가능</td>\n",
       "      <td>코로나 발 경제 위기 대응을 위해 돈 쓸 곳은 늘어났지만  국세 수입은 줄어들면서...</td>\n",
       "      <td>0</td>\n",
       "      <td>0</td>\n",
       "    </tr>\n",
       "    <tr>\n",
       "      <th>1</th>\n",
       "      <td>창녕군   창녕형 비대면 선별진료소 운영</td>\n",
       "      <td>지난  일 창녕군보건소 앞에 설치한 선별진료소에서 검사자가 체온을 측정하고 있다...</td>\n",
       "      <td>1</td>\n",
       "      <td>0</td>\n",
       "    </tr>\n",
       "    <tr>\n",
       "      <th>2</th>\n",
       "      <td>모바일  메인 홍보 모델로    설현  선정</td>\n",
       "      <td>한편   설현 은 최근  코로나  바이러스를 다룬     시리즈   세계적 유행 에...</td>\n",
       "      <td>1</td>\n",
       "      <td>1</td>\n",
       "    </tr>\n",
       "    <tr>\n",
       "      <th>3</th>\n",
       "      <td>김병민  기본소득도 필요하면 논의 테이블에 올려야   인터뷰</td>\n",
       "      <td>변화의 핵심 중에서는 우리 사회가 신종  코로나 바이러스 감염증 코로나 의 위기를 ...</td>\n",
       "      <td>1</td>\n",
       "      <td>1</td>\n",
       "    </tr>\n",
       "    <tr>\n",
       "      <th>4</th>\n",
       "      <td>이재갑 장관  고용안정지원금 서울센터 방문</td>\n",
       "      <td>이재갑 고용노동부 장관은 월 일 수 시에 코로나 긴급 고용안정지원금 서울 센터 서...</td>\n",
       "      <td>0</td>\n",
       "      <td>0</td>\n",
       "    </tr>\n",
       "  </tbody>\n",
       "</table>\n",
       "</div>"
      ],
      "text/plain": [
       "                                title  ... description_label\n",
       "0   결국  증세론  먼저 꺼내든  증세없는  기본소득  불가능   ...                 0\n",
       "1              창녕군   창녕형 비대면 선별진료소 운영  ...                 0\n",
       "2            모바일  메인 홍보 모델로    설현  선정  ...                 1\n",
       "3  김병민  기본소득도 필요하면 논의 테이블에 올려야   인터뷰   ...                 1\n",
       "4             이재갑 장관  고용안정지원금 서울센터 방문  ...                 0\n",
       "\n",
       "[5 rows x 4 columns]"
      ]
     },
     "execution_count": 155,
     "metadata": {
      "tags": []
     },
     "output_type": "execute_result"
    }
   ],
   "source": [
    "data_df[:5]"
   ]
  },
  {
   "cell_type": "code",
   "execution_count": null,
   "metadata": {
    "colab": {
     "base_uri": "https://localhost:8080/"
    },
    "executionInfo": {
     "elapsed": 341,
     "status": "ok",
     "timestamp": 1624939925834,
     "user": {
      "displayName": "오지현",
      "photoUrl": "",
      "userId": "13276429583960305726"
     },
     "user_tz": -540
    },
    "id": "XXbsjboeZDbj",
    "outputId": "62884710-12fe-407a-9875-7df1cbdc8a11"
   },
   "outputs": [
    {
     "data": {
      "text/plain": [
       "0    478\n",
       "1    322\n",
       "Name: title_label, dtype: int64"
      ]
     },
     "execution_count": 156,
     "metadata": {
      "tags": []
     },
     "output_type": "execute_result"
    }
   ],
   "source": [
    "data_df['title_label'].value_counts()"
   ]
  },
  {
   "cell_type": "code",
   "execution_count": null,
   "metadata": {
    "colab": {
     "base_uri": "https://localhost:8080/"
    },
    "executionInfo": {
     "elapsed": 4,
     "status": "ok",
     "timestamp": 1624939926492,
     "user": {
      "displayName": "오지현",
      "photoUrl": "",
      "userId": "13276429583960305726"
     },
     "user_tz": -540
    },
    "id": "ZK-5zUbcZJA7",
    "outputId": "04f7d9c3-0249-4c96-deab-e37da69ae4fd"
   },
   "outputs": [
    {
     "data": {
      "text/plain": [
       "0    449\n",
       "1    351\n",
       "Name: description_label, dtype: int64"
      ]
     },
     "execution_count": 157,
     "metadata": {
      "tags": []
     },
     "output_type": "execute_result"
    }
   ],
   "source": [
    "data_df['description_label'].value_counts()"
   ]
  },
  {
   "cell_type": "code",
   "execution_count": null,
   "metadata": {
    "id": "Vf6Srb-bjmpK"
   },
   "outputs": [],
   "source": [
    "\n",
    "columns_name = ['title','title_label','description','description_label']\n",
    "NEG_data_df = pd.DataFrame(columns = columns_name)\n",
    "POS_data_df = pd.DataFrame(columns = columns_name)\n",
    "\n",
    "for i, data in data_df.iterrows():\n",
    "  title = data[\"title\"]\n",
    "  description = data[\"description\"]\n",
    "  t_label = data[\"title_label\"]\n",
    "  d_label = data[\"description_label\"]\n",
    "\n",
    "  data= [[title, t_label, description, d_label]]\n",
    "  if d_label == 0:\n",
    "    NEG_data_df = NEG_data_df.append(pd.DataFrame(data, columns=columns_name),\n",
    "                                     ignore_index=True)\n",
    "  else:\n",
    "    POS_data_df = POS_data_df.append(pd.DataFrame(data, columns= columns_name),ignore_index=True)"
   ]
  },
  {
   "cell_type": "code",
   "execution_count": null,
   "metadata": {
    "colab": {
     "base_uri": "https://localhost:8080/",
     "height": 49
    },
    "executionInfo": {
     "elapsed": 438,
     "status": "ok",
     "timestamp": 1624866762197,
     "user": {
      "displayName": "오지현",
      "photoUrl": "",
      "userId": "13276429583960305726"
     },
     "user_tz": -540
    },
    "id": "rkDHhfF7mxep",
    "outputId": "a10dbd61-c0bb-4eba-929f-b0d957b20a10"
   },
   "outputs": [
    {
     "data": {
      "text/html": [
       "<div>\n",
       "<style scoped>\n",
       "    .dataframe tbody tr th:only-of-type {\n",
       "        vertical-align: middle;\n",
       "    }\n",
       "\n",
       "    .dataframe tbody tr th {\n",
       "        vertical-align: top;\n",
       "    }\n",
       "\n",
       "    .dataframe thead th {\n",
       "        text-align: right;\n",
       "    }\n",
       "</style>\n",
       "<table border=\"1\" class=\"dataframe\">\n",
       "  <thead>\n",
       "    <tr style=\"text-align: right;\">\n",
       "      <th></th>\n",
       "      <th>title</th>\n",
       "      <th>title_label</th>\n",
       "      <th>description</th>\n",
       "      <th>description_label</th>\n",
       "    </tr>\n",
       "  </thead>\n",
       "  <tbody>\n",
       "  </tbody>\n",
       "</table>\n",
       "</div>"
      ],
      "text/plain": [
       "Empty DataFrame\n",
       "Columns: [title, title_label, description, description_label]\n",
       "Index: []"
      ]
     },
     "execution_count": 134,
     "metadata": {
      "tags": []
     },
     "output_type": "execute_result"
    }
   ],
   "source": []
  },
  {
   "cell_type": "code",
   "execution_count": null,
   "metadata": {
    "id": "7HNn7C3Ekilm"
   },
   "outputs": [],
   "source": [
    "NEG_data_df.to_csv('/content/gdrive/My Drive/Colab Notebooks/news_NEG.csv',encoding=\"euc-kr\")"
   ]
  },
  {
   "cell_type": "code",
   "execution_count": null,
   "metadata": {
    "id": "HQT_Wud5lZNh"
   },
   "outputs": [],
   "source": [
    "POS_data_df.to_csv('/content/gdrive/My Drive/Colab Notebooks/news_POS.csv',encoding=\"euc-kr\")"
   ]
  },
  {
   "cell_type": "code",
   "execution_count": null,
   "metadata": {
    "id": "gE02pa9UldPt"
   },
   "outputs": [],
   "source": [
    "POS_description = POS_data_df['description']"
   ]
  },
  {
   "cell_type": "code",
   "execution_count": null,
   "metadata": {
    "id": "iqBBWKWdlppG"
   },
   "outputs": [],
   "source": [
    "POS_description = POS_data_df['description']"
   ]
  },
  {
   "cell_type": "code",
   "execution_count": null,
   "metadata": {
    "colab": {
     "base_uri": "https://localhost:8080/"
    },
    "executionInfo": {
     "elapsed": 576,
     "status": "ok",
     "timestamp": 1624939937238,
     "user": {
      "displayName": "오지현",
      "photoUrl": "",
      "userId": "13276429583960305726"
     },
     "user_tz": -540
    },
    "id": "X97BkJ4xm-Fm",
    "outputId": "0b9d2fd2-1ac4-40af-e795-8c37f6163395"
   },
   "outputs": [
    {
     "data": {
      "text/plain": [
       "['한편 설현 최근 코로나 바이러스 시리즈 세계 유행 다큐멘터리 내레이션 처음 도전 호평 드라마 출연 검토 게임 이벤트',\n",
       " '변화 핵심 우리 사회 신종 코로나 바이러스 감염증 코로나 위기 미래 모른다 국가 국민 어려움 해결 저희',\n",
       " '올해 신종 코로나 바이러스 감염증 코로나 여파 오프라인 행사 진행 공식 채널 명칭 청작 리스트 공개 한편 국내외',\n",
       " '한편 코로나 해외 재료 사재기 국민 먹거리 안정 생산 포스트 코로나 주요 과제 부각 농민 기본소득 도입 안정 생산 기반 확충',\n",
       " '코로나 사태 지속 의대 강의 대부분 대면 실습 강의실 풍경 예전 코로나 대부분 학과 수업',\n",
       " '최근 갤러리 현대 창업 주년 기념 작품 전시 코로나 영향 마스크 착용 관람객 미술 트렌드 한국 미술 시장 정태희 서울 옥션 스페셜 리스트 세계 경기 침체 코로나 여파',\n",
       " '세계 코로나 전례 위기 국내외 영화 예상 타격 부산 국제 영화제 국내외 상황 인지 예의 주시 정부 방침 권고',\n",
       " '코로나 감안 면접 역량 검사 도입 국내 최대 치킨 프랜차이즈 제너 시스 비비 회장 채용 관계자 한국 대표 책임 브랜드 코로나 침체 채용 분위기',\n",
       " '오후 서울 중랑구 서울 의료 서울 의료 콘서트 신종 코로나 바이러스 감염증 코로나 환자 진료 수고 의료진 가수 공연 뉴스',\n",
       " '플립 러닝 온라인 학습 교실 토론 심화 학습 교실 포스트 코로나 시대 교육 방식 주목 아르고 리더 상황 게임 리더십 유형',\n",
       " '코로나 사태 가운데 병영 생활 손흥민 경험 영국 화제 손흥민 호흡',\n",
       " '청와대 해외 낭보 문재인 대통령 포스트 코로나 시대 경제 위기 정상 회담 양국 협력 에너지 의료 확장 최근 카타르 코로나 관련',\n",
       " '정하영 김포 시장 혁신 교육 지구 사업 특수 교육 대상자 사업 별도 편성 소외 학생 코로나 교육 과정 운영 판단 학생 안전 방역',\n",
       " '군포 시청 서울시 리치 웨이 코로나 확진 동선 공개 군포 거주 자료 군포 시청 군포 시청 서울시 리치 웨이 코로나 확진 동선 공개 군포 시청 공식 블로그 서울시',\n",
       " '방송 세기 노래방 대리 만족 방구석 주제 코로나 노래방 대신 폭발 과거 시청자 무료',\n",
       " '전국 투자자 교육 협의회 이달 오후 중국 증시 전문가 코로나 이후 중국 증시 전망 성공 투자 전략 온라인 특강 실시 중국 시장 전문가 김경환 하나 금융 투자',\n",
       " '이창수 홈플러스 마케팅 총괄 고기 과정 대표 외식 메뉴 코로나 이후 대표 메뉴 기획',\n",
       " '김병수 울릉군 가용 부지 부족 우리 울릉군 특성 청사 부지 선정 우리 발전 미래 대계 결정 중요 사안 코로나 지연 울릉군 행정력',\n",
       " '플러스 코로나 택트 시대 리얼 글래스 온라인 개발 세미나 개최 오전 시간 동안 실시간 참여 해당',\n",
       " '당신 영웅 세정그룹 덕분 챌린지 동참 세정그룹 최근 코로나 치료 박순호 세정 회장 코로나 극복 신속 대처 정부 관계자 헌신',\n",
       " '오후 서울 중랑구 서울 의료 서울 의료 콘서트 신종 코로나 바이러스 감염증 코로나 환자 진료 수고 의료진 가수 수안 공연 뉴스',\n",
       " '도청 재난 상황실 김희겸 행정 부지사 주재 영상 회의 사진 제공 경기도 경기도 코로나 이날 회의 지난달 중앙 지방 정책 협의회 결과 공유 코로나 시대 이후 지역 경제 활성',\n",
       " '서울 양천구 구청장 김수영 신종 코로나 바이러스 감염증 코로나 확진 추가 발생 양천구 누적 확진 신규 발생 확진 신월 거주',\n",
       " '송하진 도지사 코로나 지역 사회 공무원 기부 릴레이 전북 미래 발전 지역 양성 관심 장학 사업 동참',\n",
       " '정태 전국 해상 선원 노동조합 연맹 위원장 오전 부산 동구 부산 사회 복지 공동 금회 방문 신종 코로나 바이러스 감염증 코로나 위기 극복 성금 전달 원노 선원',\n",
       " '신종 코로나 바이러스 감염증 코로나 장기 일선 의료진 육체 심리 피로도 우려 대구 경북 수도 감염 확산 가운데 본격 더위 시작 의료진 감염 위험',\n",
       " '단계 건강 용품 판매 업체 리치 웨이 관련 신종 코로나 바이러스 감염증 코로나 확진 최소 확인 업체 관악구 조원동 매장 판매원 교육 세미나 명목',\n",
       " '코로나 어려움 중소기업 소상 공인 판로 개척 도움 중기 중앙 기대 추문 중기 중앙 경제 정책 본부 백화점 입점 중소기업 소상 공인 이번 특별',\n",
       " '남양주 시청 코로나 확진 발생 남양주 확진 여성 화도읍 마석우리 서희 스타 힐스 아파트 거주 남양주 시청 감염 경로 서대문 확진 자의',\n",
       " '통복 동장 코로나 확산 위협 상황 방역 대원 시민 건강 지킴 자부심 방역 협력 체계 구축 감염병 건강 통복동 적극',\n",
       " '코로나 어려움 취약 계층 후원금 동부 희망 센터 지정 김복순 적십자 사회 호평 회장 얼마 금액 회원 정성 코로나',\n",
       " '환호 소방교 코로나 국민 모두 시기 소방 공무원 칭찬 감사 신속 친절 서비스 국민 생명 안전 최선',\n",
       " '사업 추진 산림 바이오매스 선발 완료 참여 대상 관련 산림 녹지 이상일 산림 조성 팀장 코로나 침체 상황 이번 사업 사회',\n",
       " '국가 전염병 이슈 자연재해 대비 국민 안전 생존 지원 사회 안전망 지속 개발 계획 한편 하이닉스 지난해 지역 사회 고객 협력 주주 대상',\n",
       " '강경화 위원장 호국 영령 순국선열 걸음 태극기 게양 생각 코로나 외출 만큼 태극기 게양 순국선열 감사 마음',\n",
       " '그날 이슈 정리 한눈 정리 코로나 토트넘 하세베 리버풀 베르너 외질 그래픽 황지영 사진 게티 이미지 코리아 포포투 무단 전재 배포 금지',\n",
       " '단계 건강 용품 판매 업체 리치 웨이 관련 코로나 확진 오전 최소 파악 리치 웨이 안산 환자 다음 두통 인후통 코로나 의심 증상',\n",
       " '여름철 해수욕장 개장 신종 코로나 바이러스 감염증 코로나 확산 제주 자치도 해수욕장 운영 대책 수립 부심 제주특별자치도 제주 도청 청사 탐라',\n",
       " '식품 관계자 코로나 이후 건강 트렌드 저당 저지방 소비자 관심 체계 영양 설계 누구 안심 건강',\n",
       " '방문 코로나 대응 격려 직원 의견 청취 당면 현안 업무 본부 예산 소방서 주요 당면 현안 업무 안전 센터 순회 코로나 상황',\n",
       " '경북 교육청 코로나 경제 어려움 학부모 교육비 부담 납부 임종식 교육감 학비 반환 코로나 장기 어려움 학부모 교육비 부담',\n",
       " '당초 농가 충남 농어민 수당 지급 코로나 상황 지급 당초 충남 농어민 수당 도입 결정 당시 지급 방안 검토 코로나 정의',\n",
       " '충남 단체 패키지 여행 대신 가족 연인 개인 단위 개별 소규모 여행 증가 예상 포스트 코로나 시대 관광 문화 관광 택시 운영 관광객 유치 활성 여행',\n",
       " '남훈 주식 운용 본부 테크 업종 무역 분쟁 일부 수혜 기업 기본 전기차 자동화 로봇 주요 테마 집중 목표 성과 달성',\n",
       " '김용찬 행정부 지사 코로나 국내외 경제 여건 상황 충남 스타 기업 선정 자긍심 지역 경제 활성 노력 기업인 당부 충남 스타 기업',\n",
       " '선수금 기준 쉐보레 코로나 어려움 수고 격려 우리 히어로 여러분 쉐보레 응원',\n",
       " '종교 소모임 관련 산발 감염 하루 코로나 신규 환자 중앙 방역 대책 본부 기준 국내 확진 사망자 추가 명이 교회 관련',\n",
       " '오후 서울 중랑구 서울 의료 서울 의료 콘서트 신종 코로나 바이러스 감염증 코로나 환자 진료 수고 의료진 가수 수안 공연 뉴스',\n",
       " '이날 행사 참여 최용덕 시장 무궁화 코로나 극복 키트 세제 비누 전달 동세 차량 운영 사업 세제 섬유 유연제 지원 감사 관내',\n",
       " '광주 전남 지역 소재 중소기업 일자리 창출 기업 최대 창업 기업 코로나 피해 중소기업 최대 이번 상생 펀드 대출 금리 우대 실질 이자 부담 완화 코로나 경영 어려움',\n",
       " '언론 이번 사태 관련 무정부 표현 규정 인종 차별 코로나 사태 가지 방위군 경우 코로나 지원 투입 병력 미국 각종 사태 동원 규모',\n",
       " '코로나 확산 온라인 수업 활동 디지털 환경 적응 현대 생활 필수 요소 포스트 코로나 시대 대비 디지털 환경 토론회 이혜리 기자 기자 사상 초유 온라인',\n",
       " '금융 서비스 소비자 만족도 서비스 제공 신뢰 입사 희망자 증가 요즘 코로나 코로나 해외여행 중단 지금 직원 복지 차원 양평 별장 금융 빌리지 마련',\n",
       " '방역 당국 손길 코로나 관리 강화 김학무 기자 보도 기자 최근 코로나 확진 속출 물류 센터 다중 이용 시설 종교 소모임 정부',\n",
       " '오후 서울 중랑구 서울 의료 서울 의료 콘서트 신종 코로나 바이러스 감염증 코로나 환자 진료 수고 의료진 가수 공연 뉴스',\n",
       " '코로나 확산 무료 급식소 허기 해결 노숙인 굶주림 지도 바이러스 우리 서로',\n",
       " '한국 정경 신문 최태원 한국 정경 신문 서울 강서구 관내 코로나 확진 발생 소식 강서 구청 가양 거주 남성 화곡 거주 남성 코로나 확진 판정',\n",
       " '청약 가점 대도 당첨 기회 제공 주택 담보 대출 비율 최대 가능 한편 현장 견본 주택 코로나 확산 방지 사전 예약 운영 사이버 모델 하우스 운영',\n",
       " '통과 가구 소득 증가 자영업 이득 신종 코로나 바이러스 감염증 코로나 여파 민생 현장 기반 생존 현실 법안',\n",
       " '강행 동장 어르신 지속 관심 다양 사업 운영 지역 사회 보장 협의 협력 코로나 시간 지역 주민',\n",
       " '임종철 농협 손해 보험 부사장 코로나 화훼 농가 어려움 장기 농협 손해 보험 지속 농촌 지원 활동 농가 경영 안정 기여 최선',\n",
       " '경주시 코로나 사회 거리 두기 생활 거리 전환 이후 관내 야영장 안내 코로나 예방 조기 종식 최선 경주 유원 시설 야영장 사회 거리 점검 모습',\n",
       " '영양 군청 전경 영양군 이날 명회 올해 상반기 코로나 세계 확산 중지 외국인 계절 근로 사업 추진 일정 도입 인원 코로나 상황 응방 설명',\n",
       " '대상 코로나 진단 검사 실시 경주시 경희 학교 기숙사 고등학교 코로나 진단 검사 모습 경주시 제공 경주시 보건소 경주 교육 지원 지난달 관내 개교 학생',\n",
       " '올해 코로나 영향 주목 디지털 분야 기업 육성 관련 사업 제안 기업 가점 부여 예정 기업 부담 정부 지원금 수준 기업 부담금 전액',\n",
       " '코로나 경기 침체 걸까요 밤사이 뉴욕 증시 급등 코스피 근접 질문 코로나 재고 면세품 시중 판매 관심 한때 판매',\n",
       " '경북 교육청 교육감 임종식 코로나 경제 어려움 학부모 교육비 임종식 교육감 학비 반환 코로나 장기 어려움 학부모 교육비 부담',\n",
       " '코로나 침체 지역 사회 발전 기여 노력 포스트 코로나 대비 온라인 수업 인프라 구축 콘텐츠 개발 취업률 향상 프로그램',\n",
       " '국회 코로나 바이러스 감염증 이하 코로나 사태 극복 차원 정부 추가 경정 예산안 처리 계획 일정 계획표 민주당 미래 통합',\n",
       " '문체 정책 담당자 이번 사업 광고 인재 양성 코로나 여파 어려움 광고 산업 활력 기대 광고 산업 코로나 이후 시대',\n",
       " '닭고기 가격 코로나 이후 하락 한우 돼지고기 반면 닭고기 요리 과정 불편 때문 분석',\n",
       " '표고버섯 키트 경우 최근 무료 생활 활력 코로나 대란 화제 중심 자리 버섯 재배 구입 가능 허브 기타',\n",
       " '김진희 롯데 관광 개발 인사 총괄 상무 코로나 확산 우려 화상 면접 채용 채용 과정 애로 이번 면접 개장 제주 드림 타워 복합 리조트 신규 채용 만전',\n",
       " '신종 코로나 바이러스 감염증 코로나 확산 시간 근무 이후 약속 회식 문화 성장 가정 편식 안주',\n",
       " '포스트 코로나 시대 영업 환경 적극 대응 온라인 고객 코로나 사태 상담 고객 원거리 다이렉트 지점 방문 고객 누구 이용',\n",
       " '코로나 외부 활동 제한 활동 의미 다이어트 요요 현상 요요 현상 반복 체중 변화',\n",
       " '패션 기업 세정그룹 회장 박순호 지난달 코로나 치료 확산 방지 대한민국 세정 박순호 회장 코로나 극복 신속 대처 정부 관계자 헌신',\n",
       " '기후 환경 조절 효과 기대 구청장 녹지 정비 도심 녹색 공간 시민 이용 코로나 시민 마음 위안',\n",
       " '최근 코로나 여파 경제 어려움 상공 영세업자 수도 요금 감면 요금 지자체 상황 반영 시행 권고 국민 익위 권석원 권익 개선 정책 국장 이번',\n",
       " '하겐다즈 아이스크림 활용 이번 카페베네 여름 메뉴 코로나 여파 사회 거리 두기 일상 메뉴 선호 식문화 빙수 종과 프라페 음료',\n",
       " '시즌 코로나 리그 개막 국방부 시계 명의 코로나 전입 선수 주간 격리 공백 체력 훈련 걸림돌 선수',\n",
       " '모기업 그룹 신종 코로나 바이러스 감염증 코로나 전국 각지 고군분투 의료진 시그 메뉴인 크리스피 치킨 간식 지원 계속',\n",
       " '플러스 코로나 택트 시대 리얼 글래스 온라인 개발 세미나 개최 시간 동안 실시간 참여 해당',\n",
       " '사진 서울대 병원 국제 백신 연구소 서울대 병원 서울대 병원 코로나 백신 국내 임상 시험 계약 체결 코로나 백신 임상시험 이번 국내 최초 임상시험 단계',\n",
       " '코로나 사태 이후 기업 생존 사업 사업 최적 조합 이번 경영 콘서트 김경준 로이트 컨설팅 부회장 코로나 이후 택트 시대 우리 미래 주제',\n",
       " '코로나 사태 이후 기업 생존 사업 사업 최적 조합 이번 경영 콘서트 김경준 로이트 컨설팅 부회장 코로나 이후 택트 시대 우리 미래 주제',\n",
       " '삼성전자 주가 연일 상승 코로나 이전 수준 회복 돌진 시장 신종 코로나 바이러스 감염증 코로나 택트 선호 현상 수요 증가 이유',\n",
       " '정하영 김포 시장 혁신 교육 지구 사업 특수 교육 대상자 사업 별도 편성 소외 학생 코로나 교육 과정 운영 판단 학생 안전',\n",
       " '계획 코로나 이후 군민 다양 문화 생활 영위 창의 공연 행정 방침 김돈 군수 코로나 때문 군민 경제 사회 분야 변화',\n",
       " '이번 협약 신종 코로나 바이러스 감염증 코로나 경제 고용 사회 전반 시기 가운데 산림청 대한민국 중앙 행정 기관 장애 고용 사회 책무 인식 선도',\n",
       " '현장 진두 지휘 관리 감독자 경우 연간 이수 교육 시간 법정 무교육 산업 안전 보건 일반 관리 사항 항목 학습 최근 코로나 사태 사회',\n",
       " '임종철 농협 손해 보험 부사장 코로나 화훼 농가 어려움 장기 농협 손해 보험 지속 농촌 지원 활동 농가 경영 안정 기여 최선',\n",
       " '기업 이동 보장 시장 개방 확대 포스트 코로나 협력 제안 박성준 기자 성윤모 산업 통상 자원 장관 아시아 국가 경제 장관 코로나 현황 화상 회의 참석 아시아 국가 기업인',\n",
       " '포스트 코로나 시대 방식 타인 접촉 도면 문서 관리 혁신 처리 플랫폼 평가 비용 별도 서버 구축 설치 작업 서버 구축',\n",
       " '신종 코로나 바이러스 감염증 코로나 확산 택트 시대 글래스 온라인 개발 세미나 개최 오전 시간 동안 실시간 참여 가능 해당',\n",
       " '계획 코로나 이후 군민 다양 문화 생활 영위 창의 공연 행정 방침 김돈 군수 코로나 때문 군민 경제 사회 분야 변화',\n",
       " '제주도 교육청 관계자 코로나 장기 어려움 방과 학교 강사 조금 도움 지급 목표 헤드라인 제주',\n",
       " '관계자 포스트 코로나 시대 시민 안전 중요 이슈 유관 기관 민간단체 시민 적극 참여 안전 도시 당진 당진 박승 기자',\n",
       " '국내 여행 해외여행 선호 세대 코로나 여파 제주도 발길 세대 최신 트렌드 추구 차별 이색 경험 선호 특징 세대 밀레 니얼',\n",
       " '정부 코로나 극복 추경 공개 가운데 노후 공공 건축물 리모 사업 포함 어린이집 보건소 의료 기관 공공 임대 주택 효율 단열재 환기 시스템 보강',\n",
       " '올해 현충일 추념식 코로나 확산 우려 생활 거리 두기 지침 당초 계획 인원 이춘희 시장 코로나 행사 규모 축소 순국선열 호국 영령 마음',\n",
       " '수확 시기 마늘 농가 코로나 영향 외국인 근로자 입국 지연 인력 수급 일손 참여 마스크 착용 건강 거리 유지 코로나 예방 수칙 농가 지원 정섭',\n",
       " '코로나 시대 서울 유망 기업 글로벌 투자자 연결 투자 유치 혁신 기업 개최 부제 기업 코로나',\n",
       " '정부 코로나 대응 한국 뉴딜 일환 뉴딜 추진 장관 기후 위기 시대 녹색 전환 경제 탄소 기반 생태 순환 자정 복원 생태 사회 변화',\n",
       " '오산 시청 전경 사진 오산시 오산시 코로나 확산 방지 예정 현충일 추념식 취소 시민 누구 자유 참배 자율 분향소 운영 자율 분향소',\n",
       " '한국 마사회 김낙순 회장 공공 데이터 제공 우수 기관 선정 코로나 극복 정부 디지털 뉴딜 정책 한국 마사회 최선봉 의미 데이터 문호 개방 민간 분야 협업',\n",
       " '사진 제공 창녕군 아시아 뉴스 통신 임규 기자 경남 창녕군 최초 코로나 장기 감염병 대유행 대비 드라이브 스루 워킹 스루 통합 선별 진료소 운영',\n",
       " '코로나 위기 기회 전환 화훼 온라인 직거래 판매 주목 행사 취소 코로나 여파 어려움 화훼 농가 지원 대책 기존 공매 방식 전국 최초 온라인',\n",
       " '코로나 때문 텐데 어디 최선 응원 야구장 야구 한국 시리즈 기대 창원',\n",
       " '농민 코로나 극복 강원도 토마토 판매 감자 산나물 자랑 강원 토마토 코로나 고통 농가 소득 춘천',\n",
       " '가수 오후 서울 중랑구 서울 의료 서울 의료 콘서트 신종 코로나 바이러스 감염증 코로나 환자 진료 수고 의료진 공연 의료진 사연',\n",
       " '이날 행사 참석 김충섭 김천 시장 한국전력기술 에너지 역량 관내 중소기업 에너지 효율 향상 도움 코로나 시기 지역 사회 노력 모습',\n",
       " '토트넘 프리미어 리그 사무국 실시 코로나 진단 검사 확진 발생 토트넘 사무국 코로나 검사 결과 무증상 확진 연락',\n",
       " '대사 작년 중국 우한 발생 세계 보건 기구 세계 유행병 의미 팬데 분류 테드로스 세계 보건 기구 사무총장 걸음 세계 전쟁',\n",
       " '리얼 글래스 온라인 개발 세미나 개최 플러스 코로나 택트 시대 리얼 글래스 온라인 개발 세미나 개최 오전 시간 동안',\n",
       " '올해 신종 코로나 바이러스 감염증 생활 거리 두기 사회 혁신 창업 성공 대표 이야기 소통 창업 특강 프로그램 온라인 전환 진행',\n",
       " '계기 마련 정부 주도 국판 뉴딜 프로젝트 가시 양사 추진 포스트 코로나 시대 도시 주거 환경 디지털 트랜스 포메이션 선도',\n",
       " '이상원 내손 동장 코로나 긴급 재난 지원금 후원 물품 기부 지역 경제 취약 계층 도움 일석이조 효과 생각 기부 명의',\n",
       " '포스트 코로나 시대 극복 스마트 공항 서비스 제공 적극 노력 강용성 와이즈넛 대표 국내 최다 상용 노하우 상용 서비스 운영',\n",
       " '이날 양사 산업 혁명 포스트 코로나 시대 필요 택트 솔루션 사물 인터넷 인공지능 김상철 한컴 그룹 회장 코로나 정부 부처 지자체 기업 학생 다양 레퍼런스 사용',\n",
       " '국가 전염병 이슈 자연재해 대비 국민 안전 생존 지원 사회 안전망 지속 개발 계획 한편 하이닉스 지난해 지역 사회 고객 협력 주주 대상',\n",
       " '유은혜 사회 부총리 교육부 장관 등교 이틀 신종 코로나 바이러스 감염증 상황 신종 코로나 바이러스 감염증 코로나 유행 교육부 순차 등교 방침 고등학교 지난달',\n",
       " '길동 카드 마케팅 본부 신종 코로나 바이러스 어려움 고객 조금 이벤트 준비 고객 생활 전반 혜택 제공',\n",
       " '포스트 코로나 시대 서울 유망 기업 글로벌 투자자 연결 투자 유치 혁신 기업 개최 부제 기업 코로나',\n",
       " '포스트 코로나 시대 서울 유망 기업 글로벌 투자자 연결 투자 유치 혁신 기업 개최 부제 기업 코로나',\n",
       " '올해 신종 코로나 바이러스 감염증 생활 거리 두기 사회 혁신 창업 성공 대표 이야기 소통 창업 특강 프로그램 온라인 전환 진행',\n",
       " '유은혜 사회 부총리 교육부 장관 등교 이틀 신종 코로나 바이러스 감염증 상황 신종 코로나 바이러스 감염증 코로나 유행 교육부 순차 등교 방침 고등학교 지난달',\n",
       " '리얼 글래스 온라인 개발 세미나 개최 플러스 코로나 택트 시대 리얼 글래스 온라인 개발 세미나 개최 오전 시간 동안',\n",
       " '주석 국빈 방일 당초 올해 월로 예정 신종 코로나 바이러스 감염증 코로나 확산 여파 연기 주석 방일 시기 월로 예정 주요 개국 정상 회의',\n",
       " '전남 여수시 코로나 장기 어려움 지역 문화 예술 단체 상당 여수 사랑 상품권 지원 지원 대상 고유 번호 사업자 등록증 소재지 여수',\n",
       " '울산 기념사업 위원회 코로나 국가 위기 진행 민주 항쟁 기념식 생활 코로나 이후 변화 세상 모범 방역 극복 이정표 국민',\n",
       " '올해 신종 코로나 바이러스 감염증 코로나 경제 사회 분야 디지털 대전환 가속 상황 구성원 디지털 혜택 디지털 포용 방점 행사 기획',\n",
       " '오후 서울 중랑구 서울 의료 서울 의료 콘서트 신종 코로나 바이러스 감염증 코로나 환자 진료 수고 의료진 가수 공연 뉴스',\n",
       " '최근 코로나 도핑 검사 우려 상황 때문 부처 도핑 불법 의약품 유통 판매 단속 강화 한국 도핑 방지 위원회 의심 사례 접수 경우 즉시',\n",
       " '김용찬 행정부 지사 코로나 국내외 경제 여건 상황 충남 스타 기업 선정 자긍심 지역 경제 활성 노력 기업인 당부 충남 스타 기업',\n",
       " '임현 코로나 어려움 저소득층 사용 의왕시 성금 기부 임현 대표 코로나 어려움 저소득층 성금 기탁',\n",
       " '신종 코로나 백신 임상 시험 이노 생산 상대 소송 백신 대량 생산 정보 공개 신종 코로나 바이러스 백신 소송 개발 회사 이노 비오 백신 제조 국내',\n",
       " '농어촌 공사 경영 신실 서선희 부장 코로나 어려움 지역 중소기업 창업 기업 지원 창업 기업 코로나 피해 중소기업 최대 한도 기존 대출 금리 자동 감면',\n",
       " '펀드 운용 남훈 주식 운용 본부 펀드 설정 직후 코로나 본격 확대 무역 분쟁 점화 주식 시장 등락 테크 업종 무역 분쟁 일부 수혜',\n",
       " '크론 그룹 관계자 세계 확산 가운데 이번 케어 밸브 마스크 국내 국가 요청 대응 코로나 예방 적극 기여 기업',\n",
       " '연극 미트 연출자 미트 애정 사랑 김민교 연극 코로나 관객 웃음 긍정 에너지 선물 리미 대학',\n",
       " '코로나 극복 여름 보양 우리 늦둥이 하이에나 남매 슬기 외식 생활 코로나 극복 여름 보양 코로나 예년 더위 사람',\n",
       " '코로나 우리 일상 경제 흐름 정책 국가 기조 포스트 코로나 초점 정부 지자체 차례 긴급 재난 지원금 지급 경제 활성 정치',\n",
       " '포스트 코로나 시대 대비 우리 경제 글로벌 선도 경제 변화 과학 기술 포스트 코로나 시대 경제 위기 극복 제시 선도 경제 실현 가능 상징',\n",
       " '버섯 건강 분식 자연 경관 자랑 괴산 코로나 심신 치유 기회 당부',\n",
       " '독일 프랑크푸르트 예정 코로나 온라인 트리 헬스 케어 코로나 병원 방문 환자 투여 가능',\n",
       " '패션 기업 세정그룹 지난달 코로나 치료 확산 방지 대한민국 의료진 박순호 세정 회장 코로나 극복 신속 대처 정부 관계자 헌신',\n",
       " '정의당 심상정 대표 국회 상무 위원회 코로나 민생 절벽 대비 최근 언론 인터뷰 지사 종식 경제 상당 기간 가능',\n",
       " '최근 코로나 도핑 검사 우려 상황 때문 부처 도핑 불법 의약품 유통 판매 단속 강화 의심 사례 표적 검사 실시 조치',\n",
       " '필요 코로나 치료제 주요 성분 항공편 수출 이번 수출 지난달 체결 유럽 코로나 치료제 공동 개발 협약 의거 진행 튜브 파마 활용',\n",
       " '정상 회담 양국 협력 의료 정보 통신 기술 확장 최근 카타르 코로나 진단 카타르 코로나 관련 진단 장비 공급 방역 경험 공유 양국 협력 범위 확대',\n",
       " '코로나 타격 전통 시장 활기 활기 지속 관심 필요 이사장 전국 전통 시장 코로나 시기',\n",
       " '출처 온라인 커뮤니티 대구 달서구 위치 상원 중학교 학생 코로나 확진 판정 대구 지역 코로나 확진 환자 추가 구시 중앙 방역 대책 본부 이날 오전 달서',\n",
       " '올해 코로나 이후 택트 테마 택트 기반 올해 코로나 팬데 글로벌 통신사 투자 규모 위축 영향 기대감',\n",
       " '이상직 의원 코로나 국난 극복 최대 이슈 상황 경선 합의 추대 선출 방식 의견 민주당 도당 위원장 전주 이상직 의원 주병',\n",
       " '이사장 전국 전통 시장 코로나 시기 최근 전통 시장 방문객 모습 대한민국 동행 세일 공동 마케팅',\n",
       " '우리 종합 금융 코로나 사태 반사 이익 은행 신규 대출 보수 관리 확산 무렵 우리 종금 가량 유동 확보 다음 본격',\n",
       " '무산 스님 주기 다례 코로나 확산 방지 연기 봉행 이날 주기 다례 조계종 전계 대화 성우 스님 원로 의원 원행 동화사 회주 의현 화암사 회주 정휴',\n",
       " '시간 상담 문의 가능 신종 코로나 바이러스 감염증 코로나 확산 방지 사전 예약 운영 때문 사전 방문 예약 필수 사항 대표 번호 문의 안내',\n",
       " '올해 코로나 여파 국내 최초 무관 형식 시간 온라인 중계 방식 진행 이날 엔카 닷컴 박람회 사전 접수 지원 구직자 대상 온라인 화상 면접 실시 면접',\n",
       " '요즘 양국 신종 코로나 바이러스 감염증 코로나 확산 대응 강제 징용 해법 중단 분위기 최근 일본 수출 규제 조치 취소 갈등 고조',\n",
       " '칼림바 소리 악보 코로나 취미 생활 인기 악기 프로그램 운영 스타트 아동 부모 주일 단위 주곡 미션 악보 집의',\n",
       " '코로나 여파 관중 진행 올해 공연 극장 돌체 최용민 재즈 스토리 학산 소극장 김정식 미추 구청장 코로나 상황 문화 예술 공연 관람',\n",
       " '스타트업 주간 이슈 리포트 코로나 급변 스타트업 생태계 주기 모니터링 적시 트렌드 포스트 코로나 시대 국내외 스타트업 정책 다양 주제 기획 예정 이순배',\n",
       " '스타키 라이프 제품 보청기 착용 소형 고막 보청기 인공지능 보청기 무료 체험 기회 제공 코로나 시기 극복 한쪽 구입 양쪽',\n",
       " '코로나 사태 몸집 지표 개선 만큼 평가 여기 코로나 사태 여파 캐피탈 대출 중기 고객 저축 은행 발길',\n",
       " '면세점 업계 코로나 여파 유급 휴직 확대 코로나 장기 매출 회복 기미 만큼 인건비 절감 분석 업계 신라 면세점 이달 중순 서울 본점',\n",
       " '박미 회장 코로나 국민 어려움 시기 역설 지구 생물 이상 지구 인간 전유물 인식 환경',\n",
       " '곽상욱 오산 시장 코로나 침체 지역 경제 활성 지역 소비 촉진 상공 영세 자영업 활력 계기 이번 대상 수상 계기 사랑',\n",
       " '오산 사회 경제 협의회 코로나 취약 계층 물품 지원 협약 체결 기념 촬영 오산 사회 경제 협의회 회장 이규희 코로나 어려움 지역 취약 계층 지원 오산시 개동',\n",
       " '신종 코로나 바이러스 감염증 코로나 지역 이동 자유 경제 요즘 그동안 지역 특성 곳곳 자연 문화 상품 주목 지역 창업자',\n",
       " '날씨 코로나 확산 생활 거리 두기 일환 민원인 접촉 최소 가지 다양 화초 녹색식물 종합 민원실 시민 심미 안정감',\n",
       " '코로나 확산 방지 경제 어려움 취약 계층 도움 이춘석 창전 동장 코로나 기부 활동 위축 상황 관내 어르신 취약 계층 건강',\n",
       " '코로나 영향 택트 일상 자리 가운데 최근 택트 택트 마케팅 김정희 동아 오츠카 스웨트 캠페인 담당자 코로나 상황',\n",
       " '요즘 양국 신종 코로나 바이러스 감염증 코로나 확산 대응 강제 징용 해법 중단 분위기 최근 일본 수출 규제 조치 취소 갈등 고조',\n",
       " '스타트업 주간 이슈 리포트 코로나 급변 스타트업 생태계 주기 모니터링 적시 트렌드 포스트 코로나 시대 국내외 스타트업 정책 다양 주제 기획 예정 이순배',\n",
       " '코로나 영향 택트 일상 자리 가운데 최근 택트 택트 마케팅 김정희 동아 오츠카 스웨트 캠페인 담당자 코로나 상황',\n",
       " '면세점 업계 코로나 여파 유급 휴직 확대 코로나 장기 매출 회복 기미 만큼 인건비 절감 분석 업계 신라 면세점 이달 중순 서울 본점',\n",
       " '지사 지금 마스크 수급 원활 본격 마스크 생산 시작 도내 안정 마스크 수급 도움 마스크 충남 자체 비축 물량 만장',\n",
       " '곽상욱 오산 시장 코로나 침체 지역 경제 활성 지역 소비 촉진 상공 영세 자영업 활력 계기 이번 대상 수상 계기 사랑',\n",
       " '택트 비즈니스 분류 만큼 포스트 코로나 시대 성장 잠재력 지점 하나 모바일 플랫 금융 서비스 제공 입증 카카오 뱅크',\n",
       " '우리 종합 금융 코로나 사태 반사 이익 은행 신규 대출 보수 관리 확산 무렵 우리 종금 가량 유동 확보 다음 본격',\n",
       " '양승조 충남 지사 신종 코로나 바이러스 감염증 코로나 지금 마스크 수급 원활 본격 마스크 생산 시작 도내 안정 마스크 수급 도움',\n",
       " '올해 코로나 여파 국내 최초 무관 형식 시간 온라인 중계 방식 진행 이날 엔카 닷컴 박람회 사전 접수 지원 구직자 대상 온라인 화상 면접 실시 면접',\n",
       " '코로나 여파 관중 진행 올해 공연 극장 돌체 최용민 재즈 스토리 학산 소극장 김정식 미추 구청장 코로나 상황 문화 예술 공연 관람',\n",
       " '인천 개척 교회 모임 관련 파악 코로나 확진 현재 수도 최근 개척 교회 집단 부흥회 관련 코로나 확진 방역 당국',\n",
       " '스타키 라이프 제품 보청기 착용 소형 고막 보청기 인공지능 보청기 무료 체험 기회 제공 코로나 시기 극복 한쪽 구입 양쪽',\n",
       " '신종 코로나 바이러스 감염증 코로나 확산 체온 측정 중요 대두 시대상 반영 하나 기술 탑재 분야 관심 누리꾼 시선 스마트폰',\n",
       " '세종 뉴스 윤창 기자 정은경 질병관리본부 오후 종시 정부세종청사 신종 코로나 바이러스 국내 발생 현황 브리핑 복지부 복수 차관 도입 보건 의료',\n",
       " '더위 코로나 때문 경로당 무더위 쉼터 운영 홀몸 시간 환기 물론 호흡기 질환 지금 대구 동성로',\n",
       " '이번 정기전 코로나 사태 마음 위로 편안 감성 작품 감상 회화 서예 조소 장르 개성 작품 다수 지역 미술 문화 주소 가늠',\n",
       " '올해 분기 대형 저축 은행 실적 코로나 저축 은행 대출 증가 이자 수익 코로나 여파 문화 확산 상황 대형 저축 은행 마케팅 적극 향후',\n",
       " '이번 재고 면세품 국내 판매 코로나 타격 면세 업계 관세청 결정 면세 업체 확산 코로나 여파 분기 규모 적자 기록 분기 상황',\n",
       " '코로나 고용 위기 극복 지역 경제 활성 이날 약식 조근제 함안군 조용갑 이날 참석자 코로나 극복 공감대 형성 역할 분담 협약 체결',\n",
       " '신동빈 회장 안성 스마트 팩토리 포스트 코로나 대응 그룹 대표 사례 스마트 팩토리 원자재 제품 생산 제조 이력 추적 가능 만큼 식품 안전 대응',\n",
       " '선수금 기준 쉐보레 코로나 어려움 수고 격려 우리 히어로 여러분 쉐보레 응원',\n",
       " '당초 올해 개최 예정 코리아 투어 월로 차례 일정 연기 최근 코로나 확진 개최 일정 연기 고등학생 참여 오픈 대회 병행 코리아 투어',\n",
       " '코로나 장기 고립 경제 시대 디지털 편식 관련 주식 콘텐츠 산업 로봇 물류 산업 코로나 완전 종식 단절 고립 화두 전망',\n",
       " '이달 국내 신종 코로나 바이러스 감염증 코로나 백신 임상시험 시작 서울대 병원 국제 백신 연구소 코로나 백신 국내 임상 시험 계약 발표 국내 코로나 백신',\n",
       " '민경창 경제 건설 국장 이번 특위 출범 충주 지역 현안 노사 문제 해결 도움 노사 갈등 해소 코로나 경제 위기 극복 최선',\n",
       " '후세 오늘 평화 코로나 경제 여건 수출입 통관 관세 행정 집중 지원 위기 극복 전력 허광욱 글로벌 코노 기자',\n",
       " '신동빈 롯데 회장 포스트 코로나 시대 대비 디지털 전환 가속 롯데 신동빈 신동빈 회장 코로나 영향 디지털 전환 가속 범위 확대 예상',\n",
       " '신동빈 회장 코로나 영향 디지털 전환 가속 범위 확대 예상 안성 스마트 팩토리 올해 주요 시스템 구축 완료 만큼 포스트 코로나 대응',\n",
       " '대표 기업 코로나 펜데 사태 기업 넷플릭스 회사 보너스 최고 연봉 보장 직원 대우 양질 직원 확보',\n",
       " '대다수 사람 코로나 시대 단계 적응 우리 사람 인기 요즘 전기 자전거 사기 코로나 초기 세정제 사기',\n",
       " '코로나 대비 개수대 화장실 사람 마스크 휴대 소독 제도 준비 랙스 힐링 안정 기본 박윤선 기업 커뮤니케이션 컨설팅 그룹 네오 메디아',\n",
       " '코로나 연구 프로세서 기반 성능 컴퓨팅 시스템 제공 이번 시스템 제공 조성 펀드 진행 펀드 컴퓨팅 자원 제공 연구 기관 코로',\n",
       " '총선 당시 세출 예산 용도 변경 코로나 경제 대책 재원 마련 주장 기본소득 재원 염두 질문 그것 관계',\n",
       " '코로나 때문 시합 걱정 환경 시합 김대환 대표 정문홍 대표 감사 이번 경기 마음 경기 때문 마음',\n",
       " '신종 코로나 바이러스 감염증 코로나 확산 응원 리그 리그 구단 이야기 불법 스포츠 도박 근절 내용 동영상 확인 이벤트',\n",
       " '코로나 정국 조치 시간 흥분 순간 세상 급변 애플 실시 제품 브리핑 가지 형식 진행',\n",
       " '신종 코로나 바이러스 감염증 코로나 장기 택트 교육 디지털 관심 온라인 교육 패러다임 교육 기술 결합 에듀 테크 시장 주목',\n",
       " '표창 코로나 관련 전담 병원 의료 폐기물 안정 처리 고을 전남 병원 팀장 수여 류연기 영산강 유역 환경 청장 환경부 코로나 발생 이후 규모 감염병 기후 변화 외부 충격',\n",
       " '오후 서울 중랑구 서울 의료 서울 의료 콘서트 신종 코로나 바이러스 감염증 코로나 환자 진료 수고 의료진 가수 공연 뉴스',\n",
       " '코로나 장기 여파 사람 신조어 전쟁 공개 선언 관심사 최근 요요 현상 다이어트 성공 인생',\n",
       " '울산시 코로나 위축 청년 창업 기업 지역 인지 제고 판로 개척 울산시 시장 송철호 코로나 위축 청년 창업 기업 지역 인지 제고 판로 개척',\n",
       " '이번 경영 콘서트 김경준 로이트 컨설팅 부회장 코로나 이후 택트 시대 우리 미래 주제 영상 강연 부회장 서적 전화 정보 교환 아날로그 세계',\n",
       " '오후 서울 중랑구 서울 의료 서울 의료 콘서트 신종 코로나 바이러스 감염증 코로나 환자 진료 수고 의료진 가수 공연 뉴스',\n",
       " '부산구치소 코로나 사태 수용자 안정 교화 프로그램 사랑 편지 사회 단절 코로나 접견 제한 수용자 부모 사랑',\n",
       " '버드와이저 브랜드 매니저 코로나 생활 소비자 실력파 뮤지션 크루 택트 라이브 퍼포먼스 마련 버드와이저 버드 엑스 비츠 실력',\n",
       " '이번 코로나 경제 위기 극복 국가 협력 시장 개방 유지 확대 상품 서비스 이동 원활 기업인 이동 보장 코로나 이후 대비 협력 확대 제시 코로나 이후 협력',\n",
       " '포항 시청 전경 사진 강동진 기자 경북 포항시 장기 자동차 조선 건설 포항시 이번 협약 유관 기관 코로나 지역 경제 위기 극복',\n",
       " '코로나 의료 폐기물 처리 모습 사진 제공 신종 코로나 바이러스 감염증 코로나 여파 우리 나라 의료 폐기물 처리 체계 해외 노하우 의료 폐기물',\n",
       " '연구원 소재 매출 본격화 전사 실적 성장 중국 정부 코로나 침체 경기 회복 전기차 보조금 기간 연장 방안 발표 대외 환경',\n",
       " '플러스 코로나 택트 시대 리얼 글래스 온라인 개발 세미나 개최 오전 시간 동안 실시간 참여 해당',\n",
       " '코로나 사태 확산 체온계 방역 전선 활용 아이 개학 연기 상황 교육 기관 등교 대비 대책 우리 나라 해외 코로나',\n",
       " '한편 설현 최근 코로나 바이러스 시리즈 세계 유행 다큐멘터리 내레이션 처음 도전 호평 드라마 출연 검토',\n",
       " '건강 용품 판매 다단계 보관 리치 웨이 관련 코로나 확진 무더기 노인 상대 보관 밀폐 공간 때문 집단 감염 가능 이태원 클럽',\n",
       " '이번 행사 코로나 확산 방지 행사 규모 전년도 생활 방역 지침 코로나 모두 시기 지금 시기 순국선열',\n",
       " '글로벌 전문 브랜드 모기업 그룹 코로나 전국 각지 고군분투 의료진 시그 메뉴인 크리스피 치킨 간식 지원 계속 코로나 확산',\n",
       " '경기도 코로나 장기 일자리 감소 소비 위축 기업 경기 둔화 지역 경제 위기 이날 회의 지난달 중앙 지방 정책 협의회 결과 공유 코로나 시대 이후 지역 경제 활성 방안',\n",
       " '코로나 사람 판매 필피 전체 주류 소비량 태국 코로나 정부 맥주 업계 갈등 정부 술자리 사회 활동',\n",
       " '뉴시스 신동빈 롯데 그룹 회장 포스트 코로나 대응 강조 회장 경기 안성 자리 회장 스마트 팩토리 올해 주요 시스템 구축 완료 만큼 포스트 코로나',\n",
       " '최근 코로나 때문 해외여행 내국 서비스 수지 최근 개선 흐름 주요 기업 상표 특허 사용료 수취 지식 재산 사용료 수지 적자',\n",
       " '실무자 관련 한국 의료 폐기물 관리 대응 경험 지식 공유 이번 세미나 유엔 개발 계획 요청 마련 환경 재건 대응 한국 기타 국가',\n",
       " '올해 코로나 팬데 위기 극복 신청자 전원 소정 장학금 전달 설동일 이사장 이번 장학금 전달 코로나 감염병 확산 국가 재난 상황 기탁 자의',\n",
       " '마을 주민 아침 어디 보트 선박 소식 불안 코로나 시기 발생 마을 분위기 어수선 공감 언론 뉴시스',\n",
       " '처음 시작 올해 호국 보훈 행사 개최 한성 대학교 코로나 국가 행사 취소 축소 가운데 예년 대학 유일 행사 나라 사랑',\n",
       " '유럽연합 코로나 확산 중단 현대 중공업 대우 조선 해양 기업 결합 심사 코로나 확산 기업 결함 심사 관련 자료 수집 어려움 심사 일시',\n",
       " '대표 코로나 신종 코로나 바이러스 감염증 타격 올해 매출 지난해 매출 영업 이익 기록 국내 세계',\n",
       " '최근 수도 중심 확산 코로나 감염 사태 외부 출입 코로나 확산 지속 상황 규모 모임 비판',\n",
       " '펀드 운용 남훈 주식 운용 본부 펀드 설정 직후 코로나 본격 확대 무역 분쟁 점화 주식 시장 등락 테크 업종 무역 분쟁 일부 수혜',\n",
       " '사진 드라마 야식 남녀 포스터 드라마 야식 남녀 촬영 뒤풀이 여행 일정 계획 신종 코로나 바이러스 감염증 코로나 사태 비판 계속 결국 뒤풀이 취소',\n",
       " '최근 신종 코로나 바이러스 감염증 코로나 장기 택트 교육 관심 가운데 교육 기술 결합 에듀 테크 시장 급부상 에듀 테크 시장 세계 시장 규모 조원',\n",
       " '차단 코로나 메르스 각종 감염병 선제 대응 인공지능 에어 샤워 시스템 이정훈 강동구 청장 코로나 사태 첨단 기술 공공 산업 생활 전반',\n",
       " '코로나 요구사항 모바일 접수 상담 예약 가능 사회 거리 실천 방문 시험 인증 수요 충족 설명 이번 서비스 사용',\n",
       " '경북 올해 코로나 극복 추경 예산 편성 사업 일환 경북 우수 제품 온라인 입점 지원 온라인 쇼핑 입점 어려움 신규 업체 대상 온라인 입점 교육 월중 예정 코로나',\n",
       " '이번 새김 국난 극복 순국선열 마음 신종 코로나 바이러스 감염증 코로나 위기 우리 사회 당면 난제 슬기 의미 박진영',\n",
       " '코로나 때문 시합 걱정 환경 시합 김대환 대표 정문홍 대표 감사 이번 경기 마음 경기 때문 마음',\n",
       " '한우 군수 군민 목소리 관광 시장 다변 관광 트랜드 정책 영예 코로나 슬기 극복 희망 살기',\n",
       " '코로나 사태 발생 이후 크루즈 부산항 입항 퀀텀 오브 더시 이후 개월 부산 항만 공사 정부 협의 특별 검역 코로나 검사 일간 지정 시설 추가 격리 조치 조건',\n",
       " '부산시 코로나 어려움 영세 소상 공인 고용 산재 보험 가입 유지 확대 올해 신규 소상 공인 고용 보험료 산재 보험료 지원 소상 공인 고용 보험 산재 보험',\n",
       " '김순철 재단 사무총장 온라인 교육 코로나 사회 거리 두기 차원 효율 지원 금년 협력 기관 내외 확대 온라인 교육 컨텐츠 지속 개발',\n",
       " '코로나 확산 방지 월화드라마 야식 남녀 관계자 야식 남녀 최근 수도 중심 확산 코로나 감염 사태 외부 출입 장소',\n",
       " '전주국 영화제 코로나 여파 관객 영화인 안전 최우선 영화제 형식 실험 영화제 단기 온라인 상영 장기 상영 변신 독도 영화 아버지',\n",
       " '한국거래소 광주 사무소 관계자 코스피 지역 투자자 반도체 관련 삼성전자 하이닉스 수익 극대 전략 인덱스 상품 관련 기업 카카오 거래 집중 코스닥 코로나 관련',\n",
       " '하남시 광주 하남 교육 지원 코로나 교실 감염 시청 회의실 학교 방역 학부모 코로나 감염 걱정 최선 하남시 코로나 대응',\n",
       " '현장 견본 주택 코로나 확산 방지 사전 예약 운영 사이버 모델 하우스 운영 사이버 모델 하우스 아나운서 이지애 배우 조현재 부부 배우 신다은 부부 출연 모형',\n",
       " '정부 임시 국무 회의 경제 위기 조기 극복 포스트 코로나 시대 대비 추경 확정 국회 제출 공감 언론 뉴시스 독자 여러분',\n",
       " '코로나 전반 고용 시장 침체 분위기 가운데 지난해 올해 사회 고용 채용 관계자 한국 대표 책임 브랜드 코로나 침체 채용 분위기',\n",
       " '둥지 마을 코로나 정상 운영 이웃 고통 김탁 둥지 마을 대표 회원 정성 우리 주변 이웃들이 코로나 사태',\n",
       " '정부 임시 국무 회의 경제 위기 조기 극복 포스트 코로나 시대 대비 추경 확정 국회 제출 공감 언론 뉴시스 독자 여러분',\n",
       " '정부 임시 국무 회의 경제 위기 조기 극복 포스트 코로나 시대 대비 추경 확정 국회 제출 공감 언론 뉴시스 독자 여러분',\n",
       " '전남 여수시 코로나 장기 경제 어려움 지역 문화 예술 단체 상당 여수 사랑 상품권 지원 지원 대상 고유 번호 사업자 등록증 소재지',\n",
       " '의원 코로나 장기 지역 경제 규모 실직 우려 상황 정부 지역 경제 악화 선제 지원 확대',\n",
       " '정부 임시 국무 회의 경제 위기 조기 극복 포스트 코로나 시대 대비 추경 확정 국회 제출 공감 언론 뉴시스 독자 여러분',\n",
       " '안양 시청 관악 리치 웨이 관련 신종 코로나 바이러스 감염증 확진 발생 사진 안양 시청 페이스북 안양 시청 관악구 다단계 건강 용품 판매 업체 리치 웨이 방문자 신종 코로나 바이러스',\n",
       " '봄철 화재 특수 시책 코로나 소방서 운영 안전교육 중단 온라인 강의 소방 안전 교육 가정집 사무실 기회 제공 소방관 온라인',\n",
       " '코로나 위생 중요 강조 요즘 시기 호응 박찬덕 위원장 지역 사회 보장 협의 이불 세탁 서비스 사업 지역 어르신 장애 먼지 진드기',\n",
       " '현장 견본 주택 코로나 확산 방지 사전 예약 운영 사이버 모델 하우스 운영 사이버 모델 하우스 아나운서 이지애 배우 조현재 부부 배우 신다은 부부 출연 모형',\n",
       " '코로나 전반 고용 시장 침체 분위기 가운데 지난해 올해 사회 고용 채용 관계자 한국 대표 책임 브랜드 코로나 침체 채용 분위기',\n",
       " '오후 서울 중랑구 서울 의료 서울 의료 콘서트 신종 코로나 바이러스 감염증 코로나 환자 진료 수고 의료진 가수 공연 뉴스',\n",
       " '정무경 조달 청장 전주시 완산구 전주 상공 회의소 전북 지역 수요 기관 조달 업체 관계 협회 대표 초청 간담회 혁신 조달 정책 홍보 경남 부산 진행 전북',\n",
       " '오후 서울 중랑구 서울 의료 서울 의료 콘서트 신종 코로나 바이러스 감염증 코로나 환자 진료 수고 의료진 가수 공연 뉴스',\n",
       " '오후 서울 중랑구 서울 의료 서울 의료 콘서트 신종 코로나 바이러스 감염증 코로나 환자 진료 수고 의료진 가수 공연 뉴스',\n",
       " '오후 서울 중랑구 서울 의료 서울 의료 콘서트 신종 코로나 바이러스 감염증 코로나 환자 진료 수고 의료진 가수 공연 뉴스',\n",
       " '오후 서울 중랑구 서울 의료 서울 의료 콘서트 신종 코로나 바이러스 감염증 코로나 환자 진료 수고 의료진 가수 공연 뉴스',\n",
       " '실무자 관련 한국 의료 폐기물 관리 대응 경험 지식 공유 이번 세미나 유엔 개발 계획 요청 마련 환경 재건 대응 한국 기타 국가',\n",
       " '보령 중부 발전 본사 한국 중부 발전 사장 박형구 코로나 장기 신재 공급 인증서 박형구 중부 발전 사장 코로나 모두 시국 극복 조치 적극 발굴',\n",
       " '신종 코로나 바이러스 감염증 코로나 사태 택트 소비 트렌드 온라인 구매 수요 세일 첫날 온라인 순방 문자 이래 최대 기록 세일 기간 동안 누적 방문자',\n",
       " '과정 이수 학생 동안 미국 구글 애플 인공지능 분야 첨단 기업 방문 실리콘 밸리 연수 프로그램 기회 코로나 사태 추이 변동',\n",
       " '통영시 시설 관리 사업 소장 코로나 상황 한국어 교육 열정 수강 감사 시립 도서관 생활 거리 두기 지침 방역 물품 비치 개인위생',\n",
       " '코로나 전반 고용 시장 침체 분위기 가운데 지난해 올해 사회 고용 창출 채용 관계자 한국 대표 책임 브랜드 코로나 침체 채용 분위기',\n",
       " '강석주 통영 시장 코로나 기업 관내 소외 계층 기부 동참 감사 소외 이웃 사회',\n",
       " '포스트 코로나 시대 대비 롯데 그룹 디지털 전환 대표 사례 롯데칠성 음료 회장 경기도 안성 롯데칠성음료 스마트 팩토리 코로나 영향 디지털 전환',\n",
       " '오후 서울 중랑구 서울 의료 서울 의료 콘서트 신종 코로나 바이러스 감염증 코로나 환자 진료 수고 의료진 가수 공연 뉴스',\n",
       " '시장 송도근 코로나 확산 방지 시청 본청 남문 북문 농협 북문 재난 상황실 코로나 관련 부서장 회의 시스템 시연 실시 방문자 관리 시스템 정부',\n",
       " '이번 업무 협약 코로나 영향 온라인 쇼핑 농축산물 거래 전년 동월 대비 기준 송하진 도지사 포스트 코로나 시대 개인 방역 건강 관심 안전',\n",
       " '이번 캠페인 코로나 관계 소수 인원 참석 청각 장애 이해 판넬 진열 농아 협회 지속 청각 장애인 행복 자원 봉사 활동 평생 교육 프로그램 사회 참여',\n",
       " '코로나 바이러스 예방 대응 노력 의료진 감사 존경 마음 덕분 챌린지 캠페인 참여 덕분 챌린지 캠페인 보건복지부 코로나 예방 고생 의료진',\n",
       " '코로나 사태 전기 판매 급증 화학 수혜 예상 화학 글로벌 배터리 시장 향후 코로나 사태 이후 수요 전망 미래 대우 증권 세계 전기 배터리',\n",
       " '참여 사회 이번 좌담 코로나 감염 예방 수칙 준수 마스크 대신 거리 본격 이야기 코로나 상황 일상 가요 학교 수업',\n",
       " '영산강 환경 청장 표창 코로나 감염병 전담 병원 의료 폐기물 안정 처리 고을 전남 병원 팀장 류연기 영산강 유역 환경 청장 코로나 발생 이후 규모 감염병 기후 변화 외부',\n",
       " '무주 산골 영화제 코로나 여파 관객 무주 군민 안전 도모 영화제 또순이 우주 주체 자신 개척 여주인공 또순이 캐릭터 코로나 시대',\n",
       " '코로나 원격 수업 활성 수강 신청 지난해 대비 만큼 주목 단계 올해 코로나 상황 반영 서울대 고려대 신종 바이러스 이해 건강 보건 증진 전염병 대응',\n",
       " '대외 경제 정책 연구원 보고서 중국 경기 부양책 고용 민생 안정 집중 코로나 충격 회복 예상 중국 세계 대유행 경우',\n",
       " '코로나 여파 시기 혼신 의료 진분 덕분 감사 감사 시기 만큼 우리 응원',\n",
       " '이번 서비스 공개 코로나 이후 급변 국내외 핵심 이슈 트렌드 스타트업 일반 트렌드 포스트 코로나 시대 국내외 스타트업 정책 다양 주제 기획 계획 중기',\n",
       " '세계 보건 질병관리본부 중앙 방역 대책 본부 상황실 코로나 사망 환자 희생자 추모 묵념 시행 복지부 미국',\n",
       " '롯데 자산 개발 데몰 김포 공항 이달 코로나 확산 방지 내부 공간 야외 광장 행사 개최 데몰 김포 공항 코로나 실내 야외 공간 선호',\n",
       " '윤석환 지부장 코로나 어려움 군민 조금 도움 회원 기부 동참 코로나 이웃 손길 예년',\n",
       " '공단 해수부 코로나 이후 체험 감소 어려움 마을 보험료 부담 경감 최명용 공단 이사장 이번 지원 사업 코로나 시기 어촌 체험 휴양 마을 영진',\n",
       " '농가 코로나 영향 외국인 근로자 입국 지연 인력 수급 어려움 농가 일손 참여 마스크 착용 건강 거리 유지 코로나 예방 수칙 농가',\n",
       " '신종 코로나 바이러스 감염증 국가 전염병 이슈 자연재해 대비 국민 안전 생존 지원 사회 안전망 지속 개발 계획 김윤욱 하이닉스 지속 경영 담당',\n",
       " '전북 순창군 보건 의료 코로나 대응 지침 생활 거리 전환 어르신 건강 관리 하계 경로당 노인 건강 교실 운영 이번 프로그램 코로나 지역',\n",
       " '대중 음악 뮤지션 콘서트 코로나 확산 우려 취소 가운데 박기영 공연 결국 취소 박기영 소속 문라이트 퍼플 플레이 예정 공연 결국 취소',\n",
       " '가평군 제공 포스트 코로나 시대 관광 명소 가평 부상 가평군 최근 가평군 올해 한국관광공사 선정 야간 경관 경기도 코로나 시대 안전 관광',\n",
       " '코로나 확산 집합 교육 경우 어플리케이션 온라인 휴대 전화 교육 병행 예정 모집 대상 청년 정책 활동 관심 사람',\n",
       " '가인 신종 코로나 바이러스 감염증 코로나 극복 희망 브리지 전국 재해 구호 협회 기부금 전달 송가 소속 포켓 스튜디오 송가 최근 희망 브리지 전국 재해 구호 협회',\n",
       " '현지 인턴 기자 정부 장기간 내전 코로나 고통 예멘 인도 위기 대응 지원 계획 예멘 코로나 대응 식량난 해소 취약 계층 지원 포함 예멘',\n",
       " '김남성 어촌계 코로나 어려움 어업 참게 치어 관내 남북 한강 방류 어업 생계 유지 자본 형성 도움 감사 인사 권순식',\n",
       " '이번 업무 협약 코로나 영향 온라인 쇼핑 농축산물 거래 전년 대비 증가 송하진 전라북도 지사 포스트 코로나 시대 개인 방역 건강 관심',\n",
       " '코로나 바이러스 세계 축구 시계 베스트 일레븐 축구 연재물 준비 해외 클럽 대표 최고 레전드 소개 기획 이름 레전드 타임 머신',\n",
       " '코로나 외출 지양 분위기 카페 문화 가정 요리 기기 인기 고속 블렌더 가정 필수 가전 기기 주목 건강 웰빙',\n",
       " '포스트 코로나 시대 택트 방식 구현 타인 접촉 도면 문서 관리 혁신 처리 플랫폼 주목 관계자',\n",
       " '코로나 집합 행사 모임 자제 사회 거리 두기 추진 상황 사안 코로나 지연 입지 선정 협조 체계 군민 중심 청사',\n",
       " '코로나 사태 지비 증가 지난해 분기 영업 이익 당기 순이익 실적 이상 감소 지난해 분기 운용 손익 금융 수지 부문 규모 영업 수익',\n",
       " '진단 코로나 영향 현장 점검 서면 자료 확보 현장 민원 주안점 운영 이달 공익 제보 핫라인 다양 방법 도민 누구 제보 홍보 강화 위법 사례',\n",
       " '포스트 코로나 시대 택트 방식 구현 타인 접촉 도면 문서 관리 혁신 처리 플랫폼 주목 관계자',\n",
       " '연기 올림픽 축소 개최 검토 요미우리 신문 내년 여름 코로나 아베 신조 일본 총리 그동안 연기 도쿄 올림픽 극복 인류 제전',\n",
       " '올해 신종 코로나 바이러스 감염증 생활 거리 두기 사회 혁신 창업 성공 대표 이야기 소통 창업 특강 프로그램 온라인 전환 진행',\n",
       " '코로나 외출 지양 분위기 카페 문화 가정 요리 기기 인기 고속 블렌더 가정 필수 가전 기기 주목 건강 웰빙',\n",
       " '대구시 소비 촉진 지역 경제 활성 도모 발행 대구 행복 페이 최근 코로나 침체 경기 회복 촉진 일조 기대 이상 대구 시민 누구',\n",
       " '코로나 한국 마사회 키워드 영역 맞춤 지원 한국 마사회 특색 동시 사회 위기 화훼 농가 한국 마사회 화훼 농가 코로나 생계 직격탄',\n",
       " '이날 양사 산업 혁명 포스트 코로나 시대 필요 택트 솔루션 사물 인터넷 인공지능 김상철 한컴 그룹 회장 코로나 정부 부처 지자체 기업 학생 다양 레퍼런스 사용',\n",
       " '오전 기준 서울 지역 코로나 확진 새벽 서울시 추가 확진 감염 경로 이상 수도 개척 교회 관련 관악구 건강 용품 회사 관련',\n",
       " '진단 코로나 영향 현장 점검 서면 자료 확보 현장 민원 주안점 운영 이달 공익 제보 핫라인 다양 방법 도민 누구 제보 홍보 강화 위법 사례',\n",
       " '코로나 중심 행사 진행 기관 변호사 온라인 강의 전문가 토크 유익 법률 콘텐츠 제공 법률 플랫 논리 변호사 유튜브 채널 법률',\n",
       " '경기도 기준 코로나 누적 확진 전날 증가 하루 확진 지역 사회 감염 해외 유입 사례 곳곳 산발 감염',\n",
       " '서울시 코로나 여파 어려움 소상인 자영업 생존 자금 처음 지급 서울시 접수 순서 지급 대상 선정 자영업 자가',\n",
       " '필요 코로나 치료제 주요 성분 항공편 수출 이번 수출 지난달 체결 유럽 코로나 치료제 공동 개발 협약 의거 진행 튜브 파마 활용',\n",
       " '코로나 사태 발생 이후 크루즈 부산항 입항 퀀텀 오브 더시 이후 개월 부산 항만 공사 정부 협의 특별 검역 코로나 검사 일간 지정 시설 추가',\n",
       " '시상식 토요일 안양시 청소년 예정 올해 코로나 장기 표창장 학교 전달 수여 계획 최대호 안양시장 축하 시상식',\n",
       " '중부 윤여 기자 영동군 공무원 농촌 일손 본격 추진 코로나 농촌 시름 채정 기획 감사관 코로나 가중 지역 농민 어려움 지역 사회',\n",
       " '과학 기술 기초 연구 조명 사실 소개 과학 기술인 원동력 한국 코로나 세계 주목 위기 극복 모델 강조',\n",
       " '메디컬 투데이 손수경 기자 케이 피엠 테크 관계사 제약 신종 코로나 바이러스 감염증 코로나 치료제 개발 미국 바이오 기업 투자 케이 피엠 테크 제약 컨소시엄 형태',\n",
       " '경기도 수원시 권선구 남성 코로나 확진 판정 남성 지난달 추정 감염 경로 조사 수원시 관내 코로나 확진',\n",
       " '준비 코로나 생활 거리 생활 수칙 이상 거리 두기 참가자 체온 측정 환기 명만 참가 신청 운영 추후 코로나 추이 참가자 계획',\n",
       " '이번 정기전 코로나 사태 마음 위로 편안 감성 작품 감상 권종민 포항 미술 협회 코로나 상황 작품 출품 회원 감사',\n",
       " '한국 코로나 대응 모델 강조 세계 도시 동시 감염병 만큼 한국 위기 극복 사례 적용 피해 최소 취지 코로나 극복 대응',\n",
       " '원외 신분 의원 코로나 국난 극복 여당 대표 활동 기회 차기 대선 도전 발판 민주당 전당 대회 의원 의원 홍영표 의원',\n",
       " '코로나 타격 전통 시장 활기 활기 지속 관심 필요 이사장 전국 전통 시장 코로나 시기',\n",
       " '강원 화천군 보건 의료 신속 코로나 대응 음압 구급차 구입 화천군 코로나 확진 발생 이송 음압 구급차 구입 업무 배치 구급차 구입 예산',\n",
       " '재관 청와대 부대 변인 연합뉴스 부대 변인 정상 회담 양국 협력 에너지 의료 확장 최근 카타르 코로나 관련 진단장 공급 방역 경험 공유 양국 협력 범위',\n",
       " '코로나 세계 경제 사정 하락세 현금 필요 경우 선물 모바일 상품권 이용 경우 사용 금액 때문 자유',\n",
       " '코로나 사태 불교 가르침 기반 명상 수행 대중 지점 선일 스님 지금 코로나 사태 극복 치유 가지 명상 수행',\n",
       " '시장 종식 걱정 이번 기회 토양 오염 정화 사업 출입 어려움 예상 행사 추진 시민 건강',\n",
       " '항진 여주 시장 자연환경 코로나 청정 지역 이미지 상승 여주 방문객 증가 신륵사 관광지 모래 유원지 모래 강변 공원 관광지 중심 마스터 플랜',\n",
       " '한국 중부 발전 본사 전경 한국 중부 발전 사장 박형구 코로나 장기 경제 어려움 중부 발전 박형구 사장 코로나 모두 시국 극복 조치 적극 발굴',\n",
       " '박종환 한국자유총연맹 총재 신종 코로나 바이러스 감염증 코로나 극복 조기 종식 응원 격려 스테이 스트롱 캠페인 동참 자유총연맹 총재 박항서 베트남 축구',\n",
       " '이상훈 회장 코로나 신규 확진 수도권 발생 정부 수도 한정 사회 거리 두기 코로나 종식 적극 협조 지금 국민 지탄 치과 의사']"
      ]
     },
     "execution_count": 163,
     "metadata": {
      "tags": []
     },
     "output_type": "execute_result"
    }
   ],
   "source": [
    "POS_description_noun_tk = []\n",
    "for d in POS_description:\n",
    "  POS_description_noun_tk.append(tokenizer.nouns(d))\n",
    "POS_description = POS_description_noun_join = []\n",
    "for d in POS_description_noun_tk:\n",
    "  d2 = [w for w in d if len(w)>1]\n",
    "  POS_description_noun_join.append(\" \".join(d2))\n",
    "POS_description_noun_join"
   ]
  },
  {
   "cell_type": "code",
   "execution_count": null,
   "metadata": {
    "colab": {
     "base_uri": "https://localhost:8080/"
    },
    "executionInfo": {
     "elapsed": 551,
     "status": "ok",
     "timestamp": 1624939939668,
     "user": {
      "displayName": "오지현",
      "photoUrl": "",
      "userId": "13276429583960305726"
     },
     "user_tz": -540
    },
    "id": "eoiiKZBSnL_W",
    "outputId": "34df9f9c-ae1e-457c-93b8-05e6ef4d5642"
   },
   "outputs": [
    {
     "data": {
      "text/plain": [
       "['한편 설현 최근 코로나 바이러스 시리즈 세계 유행 다큐멘터리 내레이션 처음 도전 호평 드라마 출연 검토 게임 이벤트',\n",
       " '변화 핵심 우리 사회 신종 코로나 바이러스 감염증 코로나 위기 미래 모른다 국가 국민 어려움 해결 저희',\n",
       " '올해 신종 코로나 바이러스 감염증 코로나 여파 오프라인 행사 진행 공식 채널 명칭 청작 리스트 공개 한편 국내외',\n",
       " '한편 코로나 해외 재료 사재기 국민 먹거리 안정 생산 포스트 코로나 주요 과제 부각 농민 기본소득 도입 안정 생산 기반 확충',\n",
       " '코로나 사태 지속 의대 강의 대부분 대면 실습 강의실 풍경 예전 코로나 대부분 학과 수업',\n",
       " '최근 갤러리 현대 창업 주년 기념 작품 전시 코로나 영향 마스크 착용 관람객 미술 트렌드 한국 미술 시장 정태희 서울 옥션 스페셜 리스트 세계 경기 침체 코로나 여파',\n",
       " '세계 코로나 전례 위기 국내외 영화 예상 타격 부산 국제 영화제 국내외 상황 인지 예의 주시 정부 방침 권고',\n",
       " '코로나 감안 면접 역량 검사 도입 국내 최대 치킨 프랜차이즈 제너 시스 비비 회장 채용 관계자 한국 대표 책임 브랜드 코로나 침체 채용 분위기',\n",
       " '오후 서울 중랑구 서울 의료 서울 의료 콘서트 신종 코로나 바이러스 감염증 코로나 환자 진료 수고 의료진 가수 공연 뉴스',\n",
       " '플립 러닝 온라인 학습 교실 토론 심화 학습 교실 포스트 코로나 시대 교육 방식 주목 아르고 리더 상황 게임 리더십 유형',\n",
       " '코로나 사태 가운데 병영 생활 손흥민 경험 영국 화제 손흥민 호흡',\n",
       " '청와대 해외 낭보 문재인 대통령 포스트 코로나 시대 경제 위기 정상 회담 양국 협력 에너지 의료 확장 최근 카타르 코로나 관련',\n",
       " '정하영 김포 시장 혁신 교육 지구 사업 특수 교육 대상자 사업 별도 편성 소외 학생 코로나 교육 과정 운영 판단 학생 안전 방역',\n",
       " '군포 시청 서울시 리치 웨이 코로나 확진 동선 공개 군포 거주 자료 군포 시청 군포 시청 서울시 리치 웨이 코로나 확진 동선 공개 군포 시청 공식 블로그 서울시',\n",
       " '방송 세기 노래방 대리 만족 방구석 주제 코로나 노래방 대신 폭발 과거 시청자 무료',\n",
       " '전국 투자자 교육 협의회 이달 오후 중국 증시 전문가 코로나 이후 중국 증시 전망 성공 투자 전략 온라인 특강 실시 중국 시장 전문가 김경환 하나 금융 투자',\n",
       " '이창수 홈플러스 마케팅 총괄 고기 과정 대표 외식 메뉴 코로나 이후 대표 메뉴 기획',\n",
       " '김병수 울릉군 가용 부지 부족 우리 울릉군 특성 청사 부지 선정 우리 발전 미래 대계 결정 중요 사안 코로나 지연 울릉군 행정력',\n",
       " '플러스 코로나 택트 시대 리얼 글래스 온라인 개발 세미나 개최 오전 시간 동안 실시간 참여 해당',\n",
       " '당신 영웅 세정그룹 덕분 챌린지 동참 세정그룹 최근 코로나 치료 박순호 세정 회장 코로나 극복 신속 대처 정부 관계자 헌신',\n",
       " '오후 서울 중랑구 서울 의료 서울 의료 콘서트 신종 코로나 바이러스 감염증 코로나 환자 진료 수고 의료진 가수 수안 공연 뉴스',\n",
       " '도청 재난 상황실 김희겸 행정 부지사 주재 영상 회의 사진 제공 경기도 경기도 코로나 이날 회의 지난달 중앙 지방 정책 협의회 결과 공유 코로나 시대 이후 지역 경제 활성',\n",
       " '서울 양천구 구청장 김수영 신종 코로나 바이러스 감염증 코로나 확진 추가 발생 양천구 누적 확진 신규 발생 확진 신월 거주',\n",
       " '송하진 도지사 코로나 지역 사회 공무원 기부 릴레이 전북 미래 발전 지역 양성 관심 장학 사업 동참',\n",
       " '정태 전국 해상 선원 노동조합 연맹 위원장 오전 부산 동구 부산 사회 복지 공동 금회 방문 신종 코로나 바이러스 감염증 코로나 위기 극복 성금 전달 원노 선원',\n",
       " '신종 코로나 바이러스 감염증 코로나 장기 일선 의료진 육체 심리 피로도 우려 대구 경북 수도 감염 확산 가운데 본격 더위 시작 의료진 감염 위험',\n",
       " '단계 건강 용품 판매 업체 리치 웨이 관련 신종 코로나 바이러스 감염증 코로나 확진 최소 확인 업체 관악구 조원동 매장 판매원 교육 세미나 명목',\n",
       " '코로나 어려움 중소기업 소상 공인 판로 개척 도움 중기 중앙 기대 추문 중기 중앙 경제 정책 본부 백화점 입점 중소기업 소상 공인 이번 특별',\n",
       " '남양주 시청 코로나 확진 발생 남양주 확진 여성 화도읍 마석우리 서희 스타 힐스 아파트 거주 남양주 시청 감염 경로 서대문 확진 자의',\n",
       " '통복 동장 코로나 확산 위협 상황 방역 대원 시민 건강 지킴 자부심 방역 협력 체계 구축 감염병 건강 통복동 적극',\n",
       " '코로나 어려움 취약 계층 후원금 동부 희망 센터 지정 김복순 적십자 사회 호평 회장 얼마 금액 회원 정성 코로나',\n",
       " '환호 소방교 코로나 국민 모두 시기 소방 공무원 칭찬 감사 신속 친절 서비스 국민 생명 안전 최선',\n",
       " '사업 추진 산림 바이오매스 선발 완료 참여 대상 관련 산림 녹지 이상일 산림 조성 팀장 코로나 침체 상황 이번 사업 사회',\n",
       " '국가 전염병 이슈 자연재해 대비 국민 안전 생존 지원 사회 안전망 지속 개발 계획 한편 하이닉스 지난해 지역 사회 고객 협력 주주 대상',\n",
       " '강경화 위원장 호국 영령 순국선열 걸음 태극기 게양 생각 코로나 외출 만큼 태극기 게양 순국선열 감사 마음',\n",
       " '그날 이슈 정리 한눈 정리 코로나 토트넘 하세베 리버풀 베르너 외질 그래픽 황지영 사진 게티 이미지 코리아 포포투 무단 전재 배포 금지',\n",
       " '단계 건강 용품 판매 업체 리치 웨이 관련 코로나 확진 오전 최소 파악 리치 웨이 안산 환자 다음 두통 인후통 코로나 의심 증상',\n",
       " '여름철 해수욕장 개장 신종 코로나 바이러스 감염증 코로나 확산 제주 자치도 해수욕장 운영 대책 수립 부심 제주특별자치도 제주 도청 청사 탐라',\n",
       " '식품 관계자 코로나 이후 건강 트렌드 저당 저지방 소비자 관심 체계 영양 설계 누구 안심 건강',\n",
       " '방문 코로나 대응 격려 직원 의견 청취 당면 현안 업무 본부 예산 소방서 주요 당면 현안 업무 안전 센터 순회 코로나 상황',\n",
       " '경북 교육청 코로나 경제 어려움 학부모 교육비 부담 납부 임종식 교육감 학비 반환 코로나 장기 어려움 학부모 교육비 부담',\n",
       " '당초 농가 충남 농어민 수당 지급 코로나 상황 지급 당초 충남 농어민 수당 도입 결정 당시 지급 방안 검토 코로나 정의',\n",
       " '충남 단체 패키지 여행 대신 가족 연인 개인 단위 개별 소규모 여행 증가 예상 포스트 코로나 시대 관광 문화 관광 택시 운영 관광객 유치 활성 여행',\n",
       " '남훈 주식 운용 본부 테크 업종 무역 분쟁 일부 수혜 기업 기본 전기차 자동화 로봇 주요 테마 집중 목표 성과 달성',\n",
       " '김용찬 행정부 지사 코로나 국내외 경제 여건 상황 충남 스타 기업 선정 자긍심 지역 경제 활성 노력 기업인 당부 충남 스타 기업',\n",
       " '선수금 기준 쉐보레 코로나 어려움 수고 격려 우리 히어로 여러분 쉐보레 응원',\n",
       " '종교 소모임 관련 산발 감염 하루 코로나 신규 환자 중앙 방역 대책 본부 기준 국내 확진 사망자 추가 명이 교회 관련',\n",
       " '오후 서울 중랑구 서울 의료 서울 의료 콘서트 신종 코로나 바이러스 감염증 코로나 환자 진료 수고 의료진 가수 수안 공연 뉴스',\n",
       " '이날 행사 참여 최용덕 시장 무궁화 코로나 극복 키트 세제 비누 전달 동세 차량 운영 사업 세제 섬유 유연제 지원 감사 관내',\n",
       " '광주 전남 지역 소재 중소기업 일자리 창출 기업 최대 창업 기업 코로나 피해 중소기업 최대 이번 상생 펀드 대출 금리 우대 실질 이자 부담 완화 코로나 경영 어려움',\n",
       " '언론 이번 사태 관련 무정부 표현 규정 인종 차별 코로나 사태 가지 방위군 경우 코로나 지원 투입 병력 미국 각종 사태 동원 규모',\n",
       " '코로나 확산 온라인 수업 활동 디지털 환경 적응 현대 생활 필수 요소 포스트 코로나 시대 대비 디지털 환경 토론회 이혜리 기자 기자 사상 초유 온라인',\n",
       " '금융 서비스 소비자 만족도 서비스 제공 신뢰 입사 희망자 증가 요즘 코로나 코로나 해외여행 중단 지금 직원 복지 차원 양평 별장 금융 빌리지 마련',\n",
       " '방역 당국 손길 코로나 관리 강화 김학무 기자 보도 기자 최근 코로나 확진 속출 물류 센터 다중 이용 시설 종교 소모임 정부',\n",
       " '오후 서울 중랑구 서울 의료 서울 의료 콘서트 신종 코로나 바이러스 감염증 코로나 환자 진료 수고 의료진 가수 공연 뉴스',\n",
       " '코로나 확산 무료 급식소 허기 해결 노숙인 굶주림 지도 바이러스 우리 서로',\n",
       " '한국 정경 신문 최태원 한국 정경 신문 서울 강서구 관내 코로나 확진 발생 소식 강서 구청 가양 거주 남성 화곡 거주 남성 코로나 확진 판정',\n",
       " '청약 가점 대도 당첨 기회 제공 주택 담보 대출 비율 최대 가능 한편 현장 견본 주택 코로나 확산 방지 사전 예약 운영 사이버 모델 하우스 운영',\n",
       " '통과 가구 소득 증가 자영업 이득 신종 코로나 바이러스 감염증 코로나 여파 민생 현장 기반 생존 현실 법안',\n",
       " '강행 동장 어르신 지속 관심 다양 사업 운영 지역 사회 보장 협의 협력 코로나 시간 지역 주민',\n",
       " '임종철 농협 손해 보험 부사장 코로나 화훼 농가 어려움 장기 농협 손해 보험 지속 농촌 지원 활동 농가 경영 안정 기여 최선',\n",
       " '경주시 코로나 사회 거리 두기 생활 거리 전환 이후 관내 야영장 안내 코로나 예방 조기 종식 최선 경주 유원 시설 야영장 사회 거리 점검 모습',\n",
       " '영양 군청 전경 영양군 이날 명회 올해 상반기 코로나 세계 확산 중지 외국인 계절 근로 사업 추진 일정 도입 인원 코로나 상황 응방 설명',\n",
       " '대상 코로나 진단 검사 실시 경주시 경희 학교 기숙사 고등학교 코로나 진단 검사 모습 경주시 제공 경주시 보건소 경주 교육 지원 지난달 관내 개교 학생',\n",
       " '올해 코로나 영향 주목 디지털 분야 기업 육성 관련 사업 제안 기업 가점 부여 예정 기업 부담 정부 지원금 수준 기업 부담금 전액',\n",
       " '코로나 경기 침체 걸까요 밤사이 뉴욕 증시 급등 코스피 근접 질문 코로나 재고 면세품 시중 판매 관심 한때 판매',\n",
       " '경북 교육청 교육감 임종식 코로나 경제 어려움 학부모 교육비 임종식 교육감 학비 반환 코로나 장기 어려움 학부모 교육비 부담',\n",
       " '코로나 침체 지역 사회 발전 기여 노력 포스트 코로나 대비 온라인 수업 인프라 구축 콘텐츠 개발 취업률 향상 프로그램',\n",
       " '국회 코로나 바이러스 감염증 이하 코로나 사태 극복 차원 정부 추가 경정 예산안 처리 계획 일정 계획표 민주당 미래 통합',\n",
       " '문체 정책 담당자 이번 사업 광고 인재 양성 코로나 여파 어려움 광고 산업 활력 기대 광고 산업 코로나 이후 시대',\n",
       " '닭고기 가격 코로나 이후 하락 한우 돼지고기 반면 닭고기 요리 과정 불편 때문 분석',\n",
       " '표고버섯 키트 경우 최근 무료 생활 활력 코로나 대란 화제 중심 자리 버섯 재배 구입 가능 허브 기타',\n",
       " '김진희 롯데 관광 개발 인사 총괄 상무 코로나 확산 우려 화상 면접 채용 채용 과정 애로 이번 면접 개장 제주 드림 타워 복합 리조트 신규 채용 만전',\n",
       " '신종 코로나 바이러스 감염증 코로나 확산 시간 근무 이후 약속 회식 문화 성장 가정 편식 안주',\n",
       " '포스트 코로나 시대 영업 환경 적극 대응 온라인 고객 코로나 사태 상담 고객 원거리 다이렉트 지점 방문 고객 누구 이용',\n",
       " '코로나 외부 활동 제한 활동 의미 다이어트 요요 현상 요요 현상 반복 체중 변화',\n",
       " '패션 기업 세정그룹 회장 박순호 지난달 코로나 치료 확산 방지 대한민국 세정 박순호 회장 코로나 극복 신속 대처 정부 관계자 헌신',\n",
       " '기후 환경 조절 효과 기대 구청장 녹지 정비 도심 녹색 공간 시민 이용 코로나 시민 마음 위안',\n",
       " '최근 코로나 여파 경제 어려움 상공 영세업자 수도 요금 감면 요금 지자체 상황 반영 시행 권고 국민 익위 권석원 권익 개선 정책 국장 이번',\n",
       " '하겐다즈 아이스크림 활용 이번 카페베네 여름 메뉴 코로나 여파 사회 거리 두기 일상 메뉴 선호 식문화 빙수 종과 프라페 음료',\n",
       " '시즌 코로나 리그 개막 국방부 시계 명의 코로나 전입 선수 주간 격리 공백 체력 훈련 걸림돌 선수',\n",
       " '모기업 그룹 신종 코로나 바이러스 감염증 코로나 전국 각지 고군분투 의료진 시그 메뉴인 크리스피 치킨 간식 지원 계속',\n",
       " '플러스 코로나 택트 시대 리얼 글래스 온라인 개발 세미나 개최 시간 동안 실시간 참여 해당',\n",
       " '사진 서울대 병원 국제 백신 연구소 서울대 병원 서울대 병원 코로나 백신 국내 임상 시험 계약 체결 코로나 백신 임상시험 이번 국내 최초 임상시험 단계',\n",
       " '코로나 사태 이후 기업 생존 사업 사업 최적 조합 이번 경영 콘서트 김경준 로이트 컨설팅 부회장 코로나 이후 택트 시대 우리 미래 주제',\n",
       " '코로나 사태 이후 기업 생존 사업 사업 최적 조합 이번 경영 콘서트 김경준 로이트 컨설팅 부회장 코로나 이후 택트 시대 우리 미래 주제',\n",
       " '삼성전자 주가 연일 상승 코로나 이전 수준 회복 돌진 시장 신종 코로나 바이러스 감염증 코로나 택트 선호 현상 수요 증가 이유',\n",
       " '정하영 김포 시장 혁신 교육 지구 사업 특수 교육 대상자 사업 별도 편성 소외 학생 코로나 교육 과정 운영 판단 학생 안전',\n",
       " '계획 코로나 이후 군민 다양 문화 생활 영위 창의 공연 행정 방침 김돈 군수 코로나 때문 군민 경제 사회 분야 변화',\n",
       " '이번 협약 신종 코로나 바이러스 감염증 코로나 경제 고용 사회 전반 시기 가운데 산림청 대한민국 중앙 행정 기관 장애 고용 사회 책무 인식 선도',\n",
       " '현장 진두 지휘 관리 감독자 경우 연간 이수 교육 시간 법정 무교육 산업 안전 보건 일반 관리 사항 항목 학습 최근 코로나 사태 사회',\n",
       " '임종철 농협 손해 보험 부사장 코로나 화훼 농가 어려움 장기 농협 손해 보험 지속 농촌 지원 활동 농가 경영 안정 기여 최선',\n",
       " '기업 이동 보장 시장 개방 확대 포스트 코로나 협력 제안 박성준 기자 성윤모 산업 통상 자원 장관 아시아 국가 경제 장관 코로나 현황 화상 회의 참석 아시아 국가 기업인',\n",
       " '포스트 코로나 시대 방식 타인 접촉 도면 문서 관리 혁신 처리 플랫폼 평가 비용 별도 서버 구축 설치 작업 서버 구축',\n",
       " '신종 코로나 바이러스 감염증 코로나 확산 택트 시대 글래스 온라인 개발 세미나 개최 오전 시간 동안 실시간 참여 가능 해당',\n",
       " '계획 코로나 이후 군민 다양 문화 생활 영위 창의 공연 행정 방침 김돈 군수 코로나 때문 군민 경제 사회 분야 변화',\n",
       " '제주도 교육청 관계자 코로나 장기 어려움 방과 학교 강사 조금 도움 지급 목표 헤드라인 제주',\n",
       " '관계자 포스트 코로나 시대 시민 안전 중요 이슈 유관 기관 민간단체 시민 적극 참여 안전 도시 당진 당진 박승 기자',\n",
       " '국내 여행 해외여행 선호 세대 코로나 여파 제주도 발길 세대 최신 트렌드 추구 차별 이색 경험 선호 특징 세대 밀레 니얼',\n",
       " '정부 코로나 극복 추경 공개 가운데 노후 공공 건축물 리모 사업 포함 어린이집 보건소 의료 기관 공공 임대 주택 효율 단열재 환기 시스템 보강',\n",
       " '올해 현충일 추념식 코로나 확산 우려 생활 거리 두기 지침 당초 계획 인원 이춘희 시장 코로나 행사 규모 축소 순국선열 호국 영령 마음',\n",
       " '수확 시기 마늘 농가 코로나 영향 외국인 근로자 입국 지연 인력 수급 일손 참여 마스크 착용 건강 거리 유지 코로나 예방 수칙 농가 지원 정섭',\n",
       " '코로나 시대 서울 유망 기업 글로벌 투자자 연결 투자 유치 혁신 기업 개최 부제 기업 코로나',\n",
       " '정부 코로나 대응 한국 뉴딜 일환 뉴딜 추진 장관 기후 위기 시대 녹색 전환 경제 탄소 기반 생태 순환 자정 복원 생태 사회 변화',\n",
       " '오산 시청 전경 사진 오산시 오산시 코로나 확산 방지 예정 현충일 추념식 취소 시민 누구 자유 참배 자율 분향소 운영 자율 분향소',\n",
       " '한국 마사회 김낙순 회장 공공 데이터 제공 우수 기관 선정 코로나 극복 정부 디지털 뉴딜 정책 한국 마사회 최선봉 의미 데이터 문호 개방 민간 분야 협업',\n",
       " '사진 제공 창녕군 아시아 뉴스 통신 임규 기자 경남 창녕군 최초 코로나 장기 감염병 대유행 대비 드라이브 스루 워킹 스루 통합 선별 진료소 운영',\n",
       " '코로나 위기 기회 전환 화훼 온라인 직거래 판매 주목 행사 취소 코로나 여파 어려움 화훼 농가 지원 대책 기존 공매 방식 전국 최초 온라인',\n",
       " '코로나 때문 텐데 어디 최선 응원 야구장 야구 한국 시리즈 기대 창원',\n",
       " '농민 코로나 극복 강원도 토마토 판매 감자 산나물 자랑 강원 토마토 코로나 고통 농가 소득 춘천',\n",
       " '가수 오후 서울 중랑구 서울 의료 서울 의료 콘서트 신종 코로나 바이러스 감염증 코로나 환자 진료 수고 의료진 공연 의료진 사연',\n",
       " '이날 행사 참석 김충섭 김천 시장 한국전력기술 에너지 역량 관내 중소기업 에너지 효율 향상 도움 코로나 시기 지역 사회 노력 모습',\n",
       " '토트넘 프리미어 리그 사무국 실시 코로나 진단 검사 확진 발생 토트넘 사무국 코로나 검사 결과 무증상 확진 연락',\n",
       " '대사 작년 중국 우한 발생 세계 보건 기구 세계 유행병 의미 팬데 분류 테드로스 세계 보건 기구 사무총장 걸음 세계 전쟁',\n",
       " '리얼 글래스 온라인 개발 세미나 개최 플러스 코로나 택트 시대 리얼 글래스 온라인 개발 세미나 개최 오전 시간 동안',\n",
       " '올해 신종 코로나 바이러스 감염증 생활 거리 두기 사회 혁신 창업 성공 대표 이야기 소통 창업 특강 프로그램 온라인 전환 진행',\n",
       " '계기 마련 정부 주도 국판 뉴딜 프로젝트 가시 양사 추진 포스트 코로나 시대 도시 주거 환경 디지털 트랜스 포메이션 선도',\n",
       " '이상원 내손 동장 코로나 긴급 재난 지원금 후원 물품 기부 지역 경제 취약 계층 도움 일석이조 효과 생각 기부 명의',\n",
       " '포스트 코로나 시대 극복 스마트 공항 서비스 제공 적극 노력 강용성 와이즈넛 대표 국내 최다 상용 노하우 상용 서비스 운영',\n",
       " '이날 양사 산업 혁명 포스트 코로나 시대 필요 택트 솔루션 사물 인터넷 인공지능 김상철 한컴 그룹 회장 코로나 정부 부처 지자체 기업 학생 다양 레퍼런스 사용',\n",
       " '국가 전염병 이슈 자연재해 대비 국민 안전 생존 지원 사회 안전망 지속 개발 계획 한편 하이닉스 지난해 지역 사회 고객 협력 주주 대상',\n",
       " '유은혜 사회 부총리 교육부 장관 등교 이틀 신종 코로나 바이러스 감염증 상황 신종 코로나 바이러스 감염증 코로나 유행 교육부 순차 등교 방침 고등학교 지난달',\n",
       " '길동 카드 마케팅 본부 신종 코로나 바이러스 어려움 고객 조금 이벤트 준비 고객 생활 전반 혜택 제공',\n",
       " '포스트 코로나 시대 서울 유망 기업 글로벌 투자자 연결 투자 유치 혁신 기업 개최 부제 기업 코로나',\n",
       " '포스트 코로나 시대 서울 유망 기업 글로벌 투자자 연결 투자 유치 혁신 기업 개최 부제 기업 코로나',\n",
       " '올해 신종 코로나 바이러스 감염증 생활 거리 두기 사회 혁신 창업 성공 대표 이야기 소통 창업 특강 프로그램 온라인 전환 진행',\n",
       " '유은혜 사회 부총리 교육부 장관 등교 이틀 신종 코로나 바이러스 감염증 상황 신종 코로나 바이러스 감염증 코로나 유행 교육부 순차 등교 방침 고등학교 지난달',\n",
       " '리얼 글래스 온라인 개발 세미나 개최 플러스 코로나 택트 시대 리얼 글래스 온라인 개발 세미나 개최 오전 시간 동안',\n",
       " '주석 국빈 방일 당초 올해 월로 예정 신종 코로나 바이러스 감염증 코로나 확산 여파 연기 주석 방일 시기 월로 예정 주요 개국 정상 회의',\n",
       " '전남 여수시 코로나 장기 어려움 지역 문화 예술 단체 상당 여수 사랑 상품권 지원 지원 대상 고유 번호 사업자 등록증 소재지 여수',\n",
       " '울산 기념사업 위원회 코로나 국가 위기 진행 민주 항쟁 기념식 생활 코로나 이후 변화 세상 모범 방역 극복 이정표 국민',\n",
       " '올해 신종 코로나 바이러스 감염증 코로나 경제 사회 분야 디지털 대전환 가속 상황 구성원 디지털 혜택 디지털 포용 방점 행사 기획',\n",
       " '오후 서울 중랑구 서울 의료 서울 의료 콘서트 신종 코로나 바이러스 감염증 코로나 환자 진료 수고 의료진 가수 공연 뉴스',\n",
       " '최근 코로나 도핑 검사 우려 상황 때문 부처 도핑 불법 의약품 유통 판매 단속 강화 한국 도핑 방지 위원회 의심 사례 접수 경우 즉시',\n",
       " '김용찬 행정부 지사 코로나 국내외 경제 여건 상황 충남 스타 기업 선정 자긍심 지역 경제 활성 노력 기업인 당부 충남 스타 기업',\n",
       " '임현 코로나 어려움 저소득층 사용 의왕시 성금 기부 임현 대표 코로나 어려움 저소득층 성금 기탁',\n",
       " '신종 코로나 백신 임상 시험 이노 생산 상대 소송 백신 대량 생산 정보 공개 신종 코로나 바이러스 백신 소송 개발 회사 이노 비오 백신 제조 국내',\n",
       " '농어촌 공사 경영 신실 서선희 부장 코로나 어려움 지역 중소기업 창업 기업 지원 창업 기업 코로나 피해 중소기업 최대 한도 기존 대출 금리 자동 감면',\n",
       " '펀드 운용 남훈 주식 운용 본부 펀드 설정 직후 코로나 본격 확대 무역 분쟁 점화 주식 시장 등락 테크 업종 무역 분쟁 일부 수혜',\n",
       " '크론 그룹 관계자 세계 확산 가운데 이번 케어 밸브 마스크 국내 국가 요청 대응 코로나 예방 적극 기여 기업',\n",
       " '연극 미트 연출자 미트 애정 사랑 김민교 연극 코로나 관객 웃음 긍정 에너지 선물 리미 대학',\n",
       " '코로나 극복 여름 보양 우리 늦둥이 하이에나 남매 슬기 외식 생활 코로나 극복 여름 보양 코로나 예년 더위 사람',\n",
       " '코로나 우리 일상 경제 흐름 정책 국가 기조 포스트 코로나 초점 정부 지자체 차례 긴급 재난 지원금 지급 경제 활성 정치',\n",
       " '포스트 코로나 시대 대비 우리 경제 글로벌 선도 경제 변화 과학 기술 포스트 코로나 시대 경제 위기 극복 제시 선도 경제 실현 가능 상징',\n",
       " '버섯 건강 분식 자연 경관 자랑 괴산 코로나 심신 치유 기회 당부',\n",
       " '독일 프랑크푸르트 예정 코로나 온라인 트리 헬스 케어 코로나 병원 방문 환자 투여 가능',\n",
       " '패션 기업 세정그룹 지난달 코로나 치료 확산 방지 대한민국 의료진 박순호 세정 회장 코로나 극복 신속 대처 정부 관계자 헌신',\n",
       " '정의당 심상정 대표 국회 상무 위원회 코로나 민생 절벽 대비 최근 언론 인터뷰 지사 종식 경제 상당 기간 가능',\n",
       " '최근 코로나 도핑 검사 우려 상황 때문 부처 도핑 불법 의약품 유통 판매 단속 강화 의심 사례 표적 검사 실시 조치',\n",
       " '필요 코로나 치료제 주요 성분 항공편 수출 이번 수출 지난달 체결 유럽 코로나 치료제 공동 개발 협약 의거 진행 튜브 파마 활용',\n",
       " '정상 회담 양국 협력 의료 정보 통신 기술 확장 최근 카타르 코로나 진단 카타르 코로나 관련 진단 장비 공급 방역 경험 공유 양국 협력 범위 확대',\n",
       " '코로나 타격 전통 시장 활기 활기 지속 관심 필요 이사장 전국 전통 시장 코로나 시기',\n",
       " '출처 온라인 커뮤니티 대구 달서구 위치 상원 중학교 학생 코로나 확진 판정 대구 지역 코로나 확진 환자 추가 구시 중앙 방역 대책 본부 이날 오전 달서',\n",
       " '올해 코로나 이후 택트 테마 택트 기반 올해 코로나 팬데 글로벌 통신사 투자 규모 위축 영향 기대감',\n",
       " '이상직 의원 코로나 국난 극복 최대 이슈 상황 경선 합의 추대 선출 방식 의견 민주당 도당 위원장 전주 이상직 의원 주병',\n",
       " '이사장 전국 전통 시장 코로나 시기 최근 전통 시장 방문객 모습 대한민국 동행 세일 공동 마케팅',\n",
       " '우리 종합 금융 코로나 사태 반사 이익 은행 신규 대출 보수 관리 확산 무렵 우리 종금 가량 유동 확보 다음 본격',\n",
       " '무산 스님 주기 다례 코로나 확산 방지 연기 봉행 이날 주기 다례 조계종 전계 대화 성우 스님 원로 의원 원행 동화사 회주 의현 화암사 회주 정휴',\n",
       " '시간 상담 문의 가능 신종 코로나 바이러스 감염증 코로나 확산 방지 사전 예약 운영 때문 사전 방문 예약 필수 사항 대표 번호 문의 안내',\n",
       " '올해 코로나 여파 국내 최초 무관 형식 시간 온라인 중계 방식 진행 이날 엔카 닷컴 박람회 사전 접수 지원 구직자 대상 온라인 화상 면접 실시 면접',\n",
       " '요즘 양국 신종 코로나 바이러스 감염증 코로나 확산 대응 강제 징용 해법 중단 분위기 최근 일본 수출 규제 조치 취소 갈등 고조',\n",
       " '칼림바 소리 악보 코로나 취미 생활 인기 악기 프로그램 운영 스타트 아동 부모 주일 단위 주곡 미션 악보 집의',\n",
       " '코로나 여파 관중 진행 올해 공연 극장 돌체 최용민 재즈 스토리 학산 소극장 김정식 미추 구청장 코로나 상황 문화 예술 공연 관람',\n",
       " '스타트업 주간 이슈 리포트 코로나 급변 스타트업 생태계 주기 모니터링 적시 트렌드 포스트 코로나 시대 국내외 스타트업 정책 다양 주제 기획 예정 이순배',\n",
       " '스타키 라이프 제품 보청기 착용 소형 고막 보청기 인공지능 보청기 무료 체험 기회 제공 코로나 시기 극복 한쪽 구입 양쪽',\n",
       " '코로나 사태 몸집 지표 개선 만큼 평가 여기 코로나 사태 여파 캐피탈 대출 중기 고객 저축 은행 발길',\n",
       " '면세점 업계 코로나 여파 유급 휴직 확대 코로나 장기 매출 회복 기미 만큼 인건비 절감 분석 업계 신라 면세점 이달 중순 서울 본점',\n",
       " '박미 회장 코로나 국민 어려움 시기 역설 지구 생물 이상 지구 인간 전유물 인식 환경',\n",
       " '곽상욱 오산 시장 코로나 침체 지역 경제 활성 지역 소비 촉진 상공 영세 자영업 활력 계기 이번 대상 수상 계기 사랑',\n",
       " '오산 사회 경제 협의회 코로나 취약 계층 물품 지원 협약 체결 기념 촬영 오산 사회 경제 협의회 회장 이규희 코로나 어려움 지역 취약 계층 지원 오산시 개동',\n",
       " '신종 코로나 바이러스 감염증 코로나 지역 이동 자유 경제 요즘 그동안 지역 특성 곳곳 자연 문화 상품 주목 지역 창업자',\n",
       " '날씨 코로나 확산 생활 거리 두기 일환 민원인 접촉 최소 가지 다양 화초 녹색식물 종합 민원실 시민 심미 안정감',\n",
       " '코로나 확산 방지 경제 어려움 취약 계층 도움 이춘석 창전 동장 코로나 기부 활동 위축 상황 관내 어르신 취약 계층 건강',\n",
       " '코로나 영향 택트 일상 자리 가운데 최근 택트 택트 마케팅 김정희 동아 오츠카 스웨트 캠페인 담당자 코로나 상황',\n",
       " '요즘 양국 신종 코로나 바이러스 감염증 코로나 확산 대응 강제 징용 해법 중단 분위기 최근 일본 수출 규제 조치 취소 갈등 고조',\n",
       " '스타트업 주간 이슈 리포트 코로나 급변 스타트업 생태계 주기 모니터링 적시 트렌드 포스트 코로나 시대 국내외 스타트업 정책 다양 주제 기획 예정 이순배',\n",
       " '코로나 영향 택트 일상 자리 가운데 최근 택트 택트 마케팅 김정희 동아 오츠카 스웨트 캠페인 담당자 코로나 상황',\n",
       " '면세점 업계 코로나 여파 유급 휴직 확대 코로나 장기 매출 회복 기미 만큼 인건비 절감 분석 업계 신라 면세점 이달 중순 서울 본점',\n",
       " '지사 지금 마스크 수급 원활 본격 마스크 생산 시작 도내 안정 마스크 수급 도움 마스크 충남 자체 비축 물량 만장',\n",
       " '곽상욱 오산 시장 코로나 침체 지역 경제 활성 지역 소비 촉진 상공 영세 자영업 활력 계기 이번 대상 수상 계기 사랑',\n",
       " '택트 비즈니스 분류 만큼 포스트 코로나 시대 성장 잠재력 지점 하나 모바일 플랫 금융 서비스 제공 입증 카카오 뱅크',\n",
       " '우리 종합 금융 코로나 사태 반사 이익 은행 신규 대출 보수 관리 확산 무렵 우리 종금 가량 유동 확보 다음 본격',\n",
       " '양승조 충남 지사 신종 코로나 바이러스 감염증 코로나 지금 마스크 수급 원활 본격 마스크 생산 시작 도내 안정 마스크 수급 도움',\n",
       " '올해 코로나 여파 국내 최초 무관 형식 시간 온라인 중계 방식 진행 이날 엔카 닷컴 박람회 사전 접수 지원 구직자 대상 온라인 화상 면접 실시 면접',\n",
       " '코로나 여파 관중 진행 올해 공연 극장 돌체 최용민 재즈 스토리 학산 소극장 김정식 미추 구청장 코로나 상황 문화 예술 공연 관람',\n",
       " '인천 개척 교회 모임 관련 파악 코로나 확진 현재 수도 최근 개척 교회 집단 부흥회 관련 코로나 확진 방역 당국',\n",
       " '스타키 라이프 제품 보청기 착용 소형 고막 보청기 인공지능 보청기 무료 체험 기회 제공 코로나 시기 극복 한쪽 구입 양쪽',\n",
       " '신종 코로나 바이러스 감염증 코로나 확산 체온 측정 중요 대두 시대상 반영 하나 기술 탑재 분야 관심 누리꾼 시선 스마트폰',\n",
       " '세종 뉴스 윤창 기자 정은경 질병관리본부 오후 종시 정부세종청사 신종 코로나 바이러스 국내 발생 현황 브리핑 복지부 복수 차관 도입 보건 의료',\n",
       " '더위 코로나 때문 경로당 무더위 쉼터 운영 홀몸 시간 환기 물론 호흡기 질환 지금 대구 동성로',\n",
       " '이번 정기전 코로나 사태 마음 위로 편안 감성 작품 감상 회화 서예 조소 장르 개성 작품 다수 지역 미술 문화 주소 가늠',\n",
       " '올해 분기 대형 저축 은행 실적 코로나 저축 은행 대출 증가 이자 수익 코로나 여파 문화 확산 상황 대형 저축 은행 마케팅 적극 향후',\n",
       " '이번 재고 면세품 국내 판매 코로나 타격 면세 업계 관세청 결정 면세 업체 확산 코로나 여파 분기 규모 적자 기록 분기 상황',\n",
       " '코로나 고용 위기 극복 지역 경제 활성 이날 약식 조근제 함안군 조용갑 이날 참석자 코로나 극복 공감대 형성 역할 분담 협약 체결',\n",
       " '신동빈 회장 안성 스마트 팩토리 포스트 코로나 대응 그룹 대표 사례 스마트 팩토리 원자재 제품 생산 제조 이력 추적 가능 만큼 식품 안전 대응',\n",
       " '선수금 기준 쉐보레 코로나 어려움 수고 격려 우리 히어로 여러분 쉐보레 응원',\n",
       " '당초 올해 개최 예정 코리아 투어 월로 차례 일정 연기 최근 코로나 확진 개최 일정 연기 고등학생 참여 오픈 대회 병행 코리아 투어',\n",
       " '코로나 장기 고립 경제 시대 디지털 편식 관련 주식 콘텐츠 산업 로봇 물류 산업 코로나 완전 종식 단절 고립 화두 전망',\n",
       " '이달 국내 신종 코로나 바이러스 감염증 코로나 백신 임상시험 시작 서울대 병원 국제 백신 연구소 코로나 백신 국내 임상 시험 계약 발표 국내 코로나 백신',\n",
       " '민경창 경제 건설 국장 이번 특위 출범 충주 지역 현안 노사 문제 해결 도움 노사 갈등 해소 코로나 경제 위기 극복 최선',\n",
       " '후세 오늘 평화 코로나 경제 여건 수출입 통관 관세 행정 집중 지원 위기 극복 전력 허광욱 글로벌 코노 기자',\n",
       " '신동빈 롯데 회장 포스트 코로나 시대 대비 디지털 전환 가속 롯데 신동빈 신동빈 회장 코로나 영향 디지털 전환 가속 범위 확대 예상',\n",
       " '신동빈 회장 코로나 영향 디지털 전환 가속 범위 확대 예상 안성 스마트 팩토리 올해 주요 시스템 구축 완료 만큼 포스트 코로나 대응',\n",
       " '대표 기업 코로나 펜데 사태 기업 넷플릭스 회사 보너스 최고 연봉 보장 직원 대우 양질 직원 확보',\n",
       " '대다수 사람 코로나 시대 단계 적응 우리 사람 인기 요즘 전기 자전거 사기 코로나 초기 세정제 사기',\n",
       " '코로나 대비 개수대 화장실 사람 마스크 휴대 소독 제도 준비 랙스 힐링 안정 기본 박윤선 기업 커뮤니케이션 컨설팅 그룹 네오 메디아',\n",
       " '코로나 연구 프로세서 기반 성능 컴퓨팅 시스템 제공 이번 시스템 제공 조성 펀드 진행 펀드 컴퓨팅 자원 제공 연구 기관 코로',\n",
       " '총선 당시 세출 예산 용도 변경 코로나 경제 대책 재원 마련 주장 기본소득 재원 염두 질문 그것 관계',\n",
       " '코로나 때문 시합 걱정 환경 시합 김대환 대표 정문홍 대표 감사 이번 경기 마음 경기 때문 마음',\n",
       " '신종 코로나 바이러스 감염증 코로나 확산 응원 리그 리그 구단 이야기 불법 스포츠 도박 근절 내용 동영상 확인 이벤트',\n",
       " '코로나 정국 조치 시간 흥분 순간 세상 급변 애플 실시 제품 브리핑 가지 형식 진행',\n",
       " '신종 코로나 바이러스 감염증 코로나 장기 택트 교육 디지털 관심 온라인 교육 패러다임 교육 기술 결합 에듀 테크 시장 주목',\n",
       " '표창 코로나 관련 전담 병원 의료 폐기물 안정 처리 고을 전남 병원 팀장 수여 류연기 영산강 유역 환경 청장 환경부 코로나 발생 이후 규모 감염병 기후 변화 외부 충격',\n",
       " '오후 서울 중랑구 서울 의료 서울 의료 콘서트 신종 코로나 바이러스 감염증 코로나 환자 진료 수고 의료진 가수 공연 뉴스',\n",
       " '코로나 장기 여파 사람 신조어 전쟁 공개 선언 관심사 최근 요요 현상 다이어트 성공 인생',\n",
       " '울산시 코로나 위축 청년 창업 기업 지역 인지 제고 판로 개척 울산시 시장 송철호 코로나 위축 청년 창업 기업 지역 인지 제고 판로 개척',\n",
       " '이번 경영 콘서트 김경준 로이트 컨설팅 부회장 코로나 이후 택트 시대 우리 미래 주제 영상 강연 부회장 서적 전화 정보 교환 아날로그 세계',\n",
       " '오후 서울 중랑구 서울 의료 서울 의료 콘서트 신종 코로나 바이러스 감염증 코로나 환자 진료 수고 의료진 가수 공연 뉴스',\n",
       " '부산구치소 코로나 사태 수용자 안정 교화 프로그램 사랑 편지 사회 단절 코로나 접견 제한 수용자 부모 사랑',\n",
       " '버드와이저 브랜드 매니저 코로나 생활 소비자 실력파 뮤지션 크루 택트 라이브 퍼포먼스 마련 버드와이저 버드 엑스 비츠 실력',\n",
       " '이번 코로나 경제 위기 극복 국가 협력 시장 개방 유지 확대 상품 서비스 이동 원활 기업인 이동 보장 코로나 이후 대비 협력 확대 제시 코로나 이후 협력',\n",
       " '포항 시청 전경 사진 강동진 기자 경북 포항시 장기 자동차 조선 건설 포항시 이번 협약 유관 기관 코로나 지역 경제 위기 극복',\n",
       " '코로나 의료 폐기물 처리 모습 사진 제공 신종 코로나 바이러스 감염증 코로나 여파 우리 나라 의료 폐기물 처리 체계 해외 노하우 의료 폐기물',\n",
       " '연구원 소재 매출 본격화 전사 실적 성장 중국 정부 코로나 침체 경기 회복 전기차 보조금 기간 연장 방안 발표 대외 환경',\n",
       " '플러스 코로나 택트 시대 리얼 글래스 온라인 개발 세미나 개최 오전 시간 동안 실시간 참여 해당',\n",
       " '코로나 사태 확산 체온계 방역 전선 활용 아이 개학 연기 상황 교육 기관 등교 대비 대책 우리 나라 해외 코로나',\n",
       " '한편 설현 최근 코로나 바이러스 시리즈 세계 유행 다큐멘터리 내레이션 처음 도전 호평 드라마 출연 검토',\n",
       " '건강 용품 판매 다단계 보관 리치 웨이 관련 코로나 확진 무더기 노인 상대 보관 밀폐 공간 때문 집단 감염 가능 이태원 클럽',\n",
       " '이번 행사 코로나 확산 방지 행사 규모 전년도 생활 방역 지침 코로나 모두 시기 지금 시기 순국선열',\n",
       " '글로벌 전문 브랜드 모기업 그룹 코로나 전국 각지 고군분투 의료진 시그 메뉴인 크리스피 치킨 간식 지원 계속 코로나 확산',\n",
       " '경기도 코로나 장기 일자리 감소 소비 위축 기업 경기 둔화 지역 경제 위기 이날 회의 지난달 중앙 지방 정책 협의회 결과 공유 코로나 시대 이후 지역 경제 활성 방안',\n",
       " '코로나 사람 판매 필피 전체 주류 소비량 태국 코로나 정부 맥주 업계 갈등 정부 술자리 사회 활동',\n",
       " '뉴시스 신동빈 롯데 그룹 회장 포스트 코로나 대응 강조 회장 경기 안성 자리 회장 스마트 팩토리 올해 주요 시스템 구축 완료 만큼 포스트 코로나',\n",
       " '최근 코로나 때문 해외여행 내국 서비스 수지 최근 개선 흐름 주요 기업 상표 특허 사용료 수취 지식 재산 사용료 수지 적자',\n",
       " '실무자 관련 한국 의료 폐기물 관리 대응 경험 지식 공유 이번 세미나 유엔 개발 계획 요청 마련 환경 재건 대응 한국 기타 국가',\n",
       " '올해 코로나 팬데 위기 극복 신청자 전원 소정 장학금 전달 설동일 이사장 이번 장학금 전달 코로나 감염병 확산 국가 재난 상황 기탁 자의',\n",
       " '마을 주민 아침 어디 보트 선박 소식 불안 코로나 시기 발생 마을 분위기 어수선 공감 언론 뉴시스',\n",
       " '처음 시작 올해 호국 보훈 행사 개최 한성 대학교 코로나 국가 행사 취소 축소 가운데 예년 대학 유일 행사 나라 사랑',\n",
       " '유럽연합 코로나 확산 중단 현대 중공업 대우 조선 해양 기업 결합 심사 코로나 확산 기업 결함 심사 관련 자료 수집 어려움 심사 일시',\n",
       " '대표 코로나 신종 코로나 바이러스 감염증 타격 올해 매출 지난해 매출 영업 이익 기록 국내 세계',\n",
       " '최근 수도 중심 확산 코로나 감염 사태 외부 출입 코로나 확산 지속 상황 규모 모임 비판',\n",
       " '펀드 운용 남훈 주식 운용 본부 펀드 설정 직후 코로나 본격 확대 무역 분쟁 점화 주식 시장 등락 테크 업종 무역 분쟁 일부 수혜',\n",
       " '사진 드라마 야식 남녀 포스터 드라마 야식 남녀 촬영 뒤풀이 여행 일정 계획 신종 코로나 바이러스 감염증 코로나 사태 비판 계속 결국 뒤풀이 취소',\n",
       " '최근 신종 코로나 바이러스 감염증 코로나 장기 택트 교육 관심 가운데 교육 기술 결합 에듀 테크 시장 급부상 에듀 테크 시장 세계 시장 규모 조원',\n",
       " '차단 코로나 메르스 각종 감염병 선제 대응 인공지능 에어 샤워 시스템 이정훈 강동구 청장 코로나 사태 첨단 기술 공공 산업 생활 전반',\n",
       " '코로나 요구사항 모바일 접수 상담 예약 가능 사회 거리 실천 방문 시험 인증 수요 충족 설명 이번 서비스 사용',\n",
       " '경북 올해 코로나 극복 추경 예산 편성 사업 일환 경북 우수 제품 온라인 입점 지원 온라인 쇼핑 입점 어려움 신규 업체 대상 온라인 입점 교육 월중 예정 코로나',\n",
       " '이번 새김 국난 극복 순국선열 마음 신종 코로나 바이러스 감염증 코로나 위기 우리 사회 당면 난제 슬기 의미 박진영',\n",
       " '코로나 때문 시합 걱정 환경 시합 김대환 대표 정문홍 대표 감사 이번 경기 마음 경기 때문 마음',\n",
       " '한우 군수 군민 목소리 관광 시장 다변 관광 트랜드 정책 영예 코로나 슬기 극복 희망 살기',\n",
       " '코로나 사태 발생 이후 크루즈 부산항 입항 퀀텀 오브 더시 이후 개월 부산 항만 공사 정부 협의 특별 검역 코로나 검사 일간 지정 시설 추가 격리 조치 조건',\n",
       " '부산시 코로나 어려움 영세 소상 공인 고용 산재 보험 가입 유지 확대 올해 신규 소상 공인 고용 보험료 산재 보험료 지원 소상 공인 고용 보험 산재 보험',\n",
       " '김순철 재단 사무총장 온라인 교육 코로나 사회 거리 두기 차원 효율 지원 금년 협력 기관 내외 확대 온라인 교육 컨텐츠 지속 개발',\n",
       " '코로나 확산 방지 월화드라마 야식 남녀 관계자 야식 남녀 최근 수도 중심 확산 코로나 감염 사태 외부 출입 장소',\n",
       " '전주국 영화제 코로나 여파 관객 영화인 안전 최우선 영화제 형식 실험 영화제 단기 온라인 상영 장기 상영 변신 독도 영화 아버지',\n",
       " '한국거래소 광주 사무소 관계자 코스피 지역 투자자 반도체 관련 삼성전자 하이닉스 수익 극대 전략 인덱스 상품 관련 기업 카카오 거래 집중 코스닥 코로나 관련',\n",
       " '하남시 광주 하남 교육 지원 코로나 교실 감염 시청 회의실 학교 방역 학부모 코로나 감염 걱정 최선 하남시 코로나 대응',\n",
       " '현장 견본 주택 코로나 확산 방지 사전 예약 운영 사이버 모델 하우스 운영 사이버 모델 하우스 아나운서 이지애 배우 조현재 부부 배우 신다은 부부 출연 모형',\n",
       " '정부 임시 국무 회의 경제 위기 조기 극복 포스트 코로나 시대 대비 추경 확정 국회 제출 공감 언론 뉴시스 독자 여러분',\n",
       " '코로나 전반 고용 시장 침체 분위기 가운데 지난해 올해 사회 고용 채용 관계자 한국 대표 책임 브랜드 코로나 침체 채용 분위기',\n",
       " '둥지 마을 코로나 정상 운영 이웃 고통 김탁 둥지 마을 대표 회원 정성 우리 주변 이웃들이 코로나 사태',\n",
       " '정부 임시 국무 회의 경제 위기 조기 극복 포스트 코로나 시대 대비 추경 확정 국회 제출 공감 언론 뉴시스 독자 여러분',\n",
       " '정부 임시 국무 회의 경제 위기 조기 극복 포스트 코로나 시대 대비 추경 확정 국회 제출 공감 언론 뉴시스 독자 여러분',\n",
       " '전남 여수시 코로나 장기 경제 어려움 지역 문화 예술 단체 상당 여수 사랑 상품권 지원 지원 대상 고유 번호 사업자 등록증 소재지',\n",
       " '의원 코로나 장기 지역 경제 규모 실직 우려 상황 정부 지역 경제 악화 선제 지원 확대',\n",
       " '정부 임시 국무 회의 경제 위기 조기 극복 포스트 코로나 시대 대비 추경 확정 국회 제출 공감 언론 뉴시스 독자 여러분',\n",
       " '안양 시청 관악 리치 웨이 관련 신종 코로나 바이러스 감염증 확진 발생 사진 안양 시청 페이스북 안양 시청 관악구 다단계 건강 용품 판매 업체 리치 웨이 방문자 신종 코로나 바이러스',\n",
       " '봄철 화재 특수 시책 코로나 소방서 운영 안전교육 중단 온라인 강의 소방 안전 교육 가정집 사무실 기회 제공 소방관 온라인',\n",
       " '코로나 위생 중요 강조 요즘 시기 호응 박찬덕 위원장 지역 사회 보장 협의 이불 세탁 서비스 사업 지역 어르신 장애 먼지 진드기',\n",
       " '현장 견본 주택 코로나 확산 방지 사전 예약 운영 사이버 모델 하우스 운영 사이버 모델 하우스 아나운서 이지애 배우 조현재 부부 배우 신다은 부부 출연 모형',\n",
       " '코로나 전반 고용 시장 침체 분위기 가운데 지난해 올해 사회 고용 채용 관계자 한국 대표 책임 브랜드 코로나 침체 채용 분위기',\n",
       " '오후 서울 중랑구 서울 의료 서울 의료 콘서트 신종 코로나 바이러스 감염증 코로나 환자 진료 수고 의료진 가수 공연 뉴스',\n",
       " '정무경 조달 청장 전주시 완산구 전주 상공 회의소 전북 지역 수요 기관 조달 업체 관계 협회 대표 초청 간담회 혁신 조달 정책 홍보 경남 부산 진행 전북',\n",
       " '오후 서울 중랑구 서울 의료 서울 의료 콘서트 신종 코로나 바이러스 감염증 코로나 환자 진료 수고 의료진 가수 공연 뉴스',\n",
       " '오후 서울 중랑구 서울 의료 서울 의료 콘서트 신종 코로나 바이러스 감염증 코로나 환자 진료 수고 의료진 가수 공연 뉴스',\n",
       " '오후 서울 중랑구 서울 의료 서울 의료 콘서트 신종 코로나 바이러스 감염증 코로나 환자 진료 수고 의료진 가수 공연 뉴스',\n",
       " '오후 서울 중랑구 서울 의료 서울 의료 콘서트 신종 코로나 바이러스 감염증 코로나 환자 진료 수고 의료진 가수 공연 뉴스',\n",
       " '실무자 관련 한국 의료 폐기물 관리 대응 경험 지식 공유 이번 세미나 유엔 개발 계획 요청 마련 환경 재건 대응 한국 기타 국가',\n",
       " '보령 중부 발전 본사 한국 중부 발전 사장 박형구 코로나 장기 신재 공급 인증서 박형구 중부 발전 사장 코로나 모두 시국 극복 조치 적극 발굴',\n",
       " '신종 코로나 바이러스 감염증 코로나 사태 택트 소비 트렌드 온라인 구매 수요 세일 첫날 온라인 순방 문자 이래 최대 기록 세일 기간 동안 누적 방문자',\n",
       " '과정 이수 학생 동안 미국 구글 애플 인공지능 분야 첨단 기업 방문 실리콘 밸리 연수 프로그램 기회 코로나 사태 추이 변동',\n",
       " '통영시 시설 관리 사업 소장 코로나 상황 한국어 교육 열정 수강 감사 시립 도서관 생활 거리 두기 지침 방역 물품 비치 개인위생',\n",
       " '코로나 전반 고용 시장 침체 분위기 가운데 지난해 올해 사회 고용 창출 채용 관계자 한국 대표 책임 브랜드 코로나 침체 채용 분위기',\n",
       " '강석주 통영 시장 코로나 기업 관내 소외 계층 기부 동참 감사 소외 이웃 사회',\n",
       " '포스트 코로나 시대 대비 롯데 그룹 디지털 전환 대표 사례 롯데칠성 음료 회장 경기도 안성 롯데칠성음료 스마트 팩토리 코로나 영향 디지털 전환',\n",
       " '오후 서울 중랑구 서울 의료 서울 의료 콘서트 신종 코로나 바이러스 감염증 코로나 환자 진료 수고 의료진 가수 공연 뉴스',\n",
       " '시장 송도근 코로나 확산 방지 시청 본청 남문 북문 농협 북문 재난 상황실 코로나 관련 부서장 회의 시스템 시연 실시 방문자 관리 시스템 정부',\n",
       " '이번 업무 협약 코로나 영향 온라인 쇼핑 농축산물 거래 전년 동월 대비 기준 송하진 도지사 포스트 코로나 시대 개인 방역 건강 관심 안전',\n",
       " '이번 캠페인 코로나 관계 소수 인원 참석 청각 장애 이해 판넬 진열 농아 협회 지속 청각 장애인 행복 자원 봉사 활동 평생 교육 프로그램 사회 참여',\n",
       " '코로나 바이러스 예방 대응 노력 의료진 감사 존경 마음 덕분 챌린지 캠페인 참여 덕분 챌린지 캠페인 보건복지부 코로나 예방 고생 의료진',\n",
       " '코로나 사태 전기 판매 급증 화학 수혜 예상 화학 글로벌 배터리 시장 향후 코로나 사태 이후 수요 전망 미래 대우 증권 세계 전기 배터리',\n",
       " '참여 사회 이번 좌담 코로나 감염 예방 수칙 준수 마스크 대신 거리 본격 이야기 코로나 상황 일상 가요 학교 수업',\n",
       " '영산강 환경 청장 표창 코로나 감염병 전담 병원 의료 폐기물 안정 처리 고을 전남 병원 팀장 류연기 영산강 유역 환경 청장 코로나 발생 이후 규모 감염병 기후 변화 외부',\n",
       " '무주 산골 영화제 코로나 여파 관객 무주 군민 안전 도모 영화제 또순이 우주 주체 자신 개척 여주인공 또순이 캐릭터 코로나 시대',\n",
       " '코로나 원격 수업 활성 수강 신청 지난해 대비 만큼 주목 단계 올해 코로나 상황 반영 서울대 고려대 신종 바이러스 이해 건강 보건 증진 전염병 대응',\n",
       " '대외 경제 정책 연구원 보고서 중국 경기 부양책 고용 민생 안정 집중 코로나 충격 회복 예상 중국 세계 대유행 경우',\n",
       " '코로나 여파 시기 혼신 의료 진분 덕분 감사 감사 시기 만큼 우리 응원',\n",
       " '이번 서비스 공개 코로나 이후 급변 국내외 핵심 이슈 트렌드 스타트업 일반 트렌드 포스트 코로나 시대 국내외 스타트업 정책 다양 주제 기획 계획 중기',\n",
       " '세계 보건 질병관리본부 중앙 방역 대책 본부 상황실 코로나 사망 환자 희생자 추모 묵념 시행 복지부 미국',\n",
       " '롯데 자산 개발 데몰 김포 공항 이달 코로나 확산 방지 내부 공간 야외 광장 행사 개최 데몰 김포 공항 코로나 실내 야외 공간 선호',\n",
       " '윤석환 지부장 코로나 어려움 군민 조금 도움 회원 기부 동참 코로나 이웃 손길 예년',\n",
       " '공단 해수부 코로나 이후 체험 감소 어려움 마을 보험료 부담 경감 최명용 공단 이사장 이번 지원 사업 코로나 시기 어촌 체험 휴양 마을 영진',\n",
       " '농가 코로나 영향 외국인 근로자 입국 지연 인력 수급 어려움 농가 일손 참여 마스크 착용 건강 거리 유지 코로나 예방 수칙 농가',\n",
       " '신종 코로나 바이러스 감염증 국가 전염병 이슈 자연재해 대비 국민 안전 생존 지원 사회 안전망 지속 개발 계획 김윤욱 하이닉스 지속 경영 담당',\n",
       " '전북 순창군 보건 의료 코로나 대응 지침 생활 거리 전환 어르신 건강 관리 하계 경로당 노인 건강 교실 운영 이번 프로그램 코로나 지역',\n",
       " '대중 음악 뮤지션 콘서트 코로나 확산 우려 취소 가운데 박기영 공연 결국 취소 박기영 소속 문라이트 퍼플 플레이 예정 공연 결국 취소',\n",
       " '가평군 제공 포스트 코로나 시대 관광 명소 가평 부상 가평군 최근 가평군 올해 한국관광공사 선정 야간 경관 경기도 코로나 시대 안전 관광',\n",
       " '코로나 확산 집합 교육 경우 어플리케이션 온라인 휴대 전화 교육 병행 예정 모집 대상 청년 정책 활동 관심 사람',\n",
       " '가인 신종 코로나 바이러스 감염증 코로나 극복 희망 브리지 전국 재해 구호 협회 기부금 전달 송가 소속 포켓 스튜디오 송가 최근 희망 브리지 전국 재해 구호 협회',\n",
       " '현지 인턴 기자 정부 장기간 내전 코로나 고통 예멘 인도 위기 대응 지원 계획 예멘 코로나 대응 식량난 해소 취약 계층 지원 포함 예멘',\n",
       " '김남성 어촌계 코로나 어려움 어업 참게 치어 관내 남북 한강 방류 어업 생계 유지 자본 형성 도움 감사 인사 권순식',\n",
       " '이번 업무 협약 코로나 영향 온라인 쇼핑 농축산물 거래 전년 대비 증가 송하진 전라북도 지사 포스트 코로나 시대 개인 방역 건강 관심',\n",
       " '코로나 바이러스 세계 축구 시계 베스트 일레븐 축구 연재물 준비 해외 클럽 대표 최고 레전드 소개 기획 이름 레전드 타임 머신',\n",
       " '코로나 외출 지양 분위기 카페 문화 가정 요리 기기 인기 고속 블렌더 가정 필수 가전 기기 주목 건강 웰빙',\n",
       " '포스트 코로나 시대 택트 방식 구현 타인 접촉 도면 문서 관리 혁신 처리 플랫폼 주목 관계자',\n",
       " '코로나 집합 행사 모임 자제 사회 거리 두기 추진 상황 사안 코로나 지연 입지 선정 협조 체계 군민 중심 청사',\n",
       " '코로나 사태 지비 증가 지난해 분기 영업 이익 당기 순이익 실적 이상 감소 지난해 분기 운용 손익 금융 수지 부문 규모 영업 수익',\n",
       " '진단 코로나 영향 현장 점검 서면 자료 확보 현장 민원 주안점 운영 이달 공익 제보 핫라인 다양 방법 도민 누구 제보 홍보 강화 위법 사례',\n",
       " '포스트 코로나 시대 택트 방식 구현 타인 접촉 도면 문서 관리 혁신 처리 플랫폼 주목 관계자',\n",
       " '연기 올림픽 축소 개최 검토 요미우리 신문 내년 여름 코로나 아베 신조 일본 총리 그동안 연기 도쿄 올림픽 극복 인류 제전',\n",
       " '올해 신종 코로나 바이러스 감염증 생활 거리 두기 사회 혁신 창업 성공 대표 이야기 소통 창업 특강 프로그램 온라인 전환 진행',\n",
       " '코로나 외출 지양 분위기 카페 문화 가정 요리 기기 인기 고속 블렌더 가정 필수 가전 기기 주목 건강 웰빙',\n",
       " '대구시 소비 촉진 지역 경제 활성 도모 발행 대구 행복 페이 최근 코로나 침체 경기 회복 촉진 일조 기대 이상 대구 시민 누구',\n",
       " '코로나 한국 마사회 키워드 영역 맞춤 지원 한국 마사회 특색 동시 사회 위기 화훼 농가 한국 마사회 화훼 농가 코로나 생계 직격탄',\n",
       " '이날 양사 산업 혁명 포스트 코로나 시대 필요 택트 솔루션 사물 인터넷 인공지능 김상철 한컴 그룹 회장 코로나 정부 부처 지자체 기업 학생 다양 레퍼런스 사용',\n",
       " '오전 기준 서울 지역 코로나 확진 새벽 서울시 추가 확진 감염 경로 이상 수도 개척 교회 관련 관악구 건강 용품 회사 관련',\n",
       " '진단 코로나 영향 현장 점검 서면 자료 확보 현장 민원 주안점 운영 이달 공익 제보 핫라인 다양 방법 도민 누구 제보 홍보 강화 위법 사례',\n",
       " '코로나 중심 행사 진행 기관 변호사 온라인 강의 전문가 토크 유익 법률 콘텐츠 제공 법률 플랫 논리 변호사 유튜브 채널 법률',\n",
       " '경기도 기준 코로나 누적 확진 전날 증가 하루 확진 지역 사회 감염 해외 유입 사례 곳곳 산발 감염',\n",
       " '서울시 코로나 여파 어려움 소상인 자영업 생존 자금 처음 지급 서울시 접수 순서 지급 대상 선정 자영업 자가',\n",
       " '필요 코로나 치료제 주요 성분 항공편 수출 이번 수출 지난달 체결 유럽 코로나 치료제 공동 개발 협약 의거 진행 튜브 파마 활용',\n",
       " '코로나 사태 발생 이후 크루즈 부산항 입항 퀀텀 오브 더시 이후 개월 부산 항만 공사 정부 협의 특별 검역 코로나 검사 일간 지정 시설 추가',\n",
       " '시상식 토요일 안양시 청소년 예정 올해 코로나 장기 표창장 학교 전달 수여 계획 최대호 안양시장 축하 시상식',\n",
       " '중부 윤여 기자 영동군 공무원 농촌 일손 본격 추진 코로나 농촌 시름 채정 기획 감사관 코로나 가중 지역 농민 어려움 지역 사회',\n",
       " '과학 기술 기초 연구 조명 사실 소개 과학 기술인 원동력 한국 코로나 세계 주목 위기 극복 모델 강조',\n",
       " '메디컬 투데이 손수경 기자 케이 피엠 테크 관계사 제약 신종 코로나 바이러스 감염증 코로나 치료제 개발 미국 바이오 기업 투자 케이 피엠 테크 제약 컨소시엄 형태',\n",
       " '경기도 수원시 권선구 남성 코로나 확진 판정 남성 지난달 추정 감염 경로 조사 수원시 관내 코로나 확진',\n",
       " '준비 코로나 생활 거리 생활 수칙 이상 거리 두기 참가자 체온 측정 환기 명만 참가 신청 운영 추후 코로나 추이 참가자 계획',\n",
       " '이번 정기전 코로나 사태 마음 위로 편안 감성 작품 감상 권종민 포항 미술 협회 코로나 상황 작품 출품 회원 감사',\n",
       " '한국 코로나 대응 모델 강조 세계 도시 동시 감염병 만큼 한국 위기 극복 사례 적용 피해 최소 취지 코로나 극복 대응',\n",
       " '원외 신분 의원 코로나 국난 극복 여당 대표 활동 기회 차기 대선 도전 발판 민주당 전당 대회 의원 의원 홍영표 의원',\n",
       " '코로나 타격 전통 시장 활기 활기 지속 관심 필요 이사장 전국 전통 시장 코로나 시기',\n",
       " '강원 화천군 보건 의료 신속 코로나 대응 음압 구급차 구입 화천군 코로나 확진 발생 이송 음압 구급차 구입 업무 배치 구급차 구입 예산',\n",
       " '재관 청와대 부대 변인 연합뉴스 부대 변인 정상 회담 양국 협력 에너지 의료 확장 최근 카타르 코로나 관련 진단장 공급 방역 경험 공유 양국 협력 범위',\n",
       " '코로나 세계 경제 사정 하락세 현금 필요 경우 선물 모바일 상품권 이용 경우 사용 금액 때문 자유',\n",
       " '코로나 사태 불교 가르침 기반 명상 수행 대중 지점 선일 스님 지금 코로나 사태 극복 치유 가지 명상 수행',\n",
       " '시장 종식 걱정 이번 기회 토양 오염 정화 사업 출입 어려움 예상 행사 추진 시민 건강',\n",
       " '항진 여주 시장 자연환경 코로나 청정 지역 이미지 상승 여주 방문객 증가 신륵사 관광지 모래 유원지 모래 강변 공원 관광지 중심 마스터 플랜',\n",
       " '한국 중부 발전 본사 전경 한국 중부 발전 사장 박형구 코로나 장기 경제 어려움 중부 발전 박형구 사장 코로나 모두 시국 극복 조치 적극 발굴',\n",
       " '박종환 한국자유총연맹 총재 신종 코로나 바이러스 감염증 코로나 극복 조기 종식 응원 격려 스테이 스트롱 캠페인 동참 자유총연맹 총재 박항서 베트남 축구',\n",
       " '이상훈 회장 코로나 신규 확진 수도권 발생 정부 수도 한정 사회 거리 두기 코로나 종식 적극 협조 지금 국민 지탄 치과 의사']"
      ]
     },
     "execution_count": 164,
     "metadata": {
      "tags": []
     },
     "output_type": "execute_result"
    }
   ],
   "source": [
    "NEG_description_noun_tk = []\n",
    "for d in NEG_description:\n",
    "  NEG_description_noun_tk.append(tokenizer.nouns(d))\n",
    "NEG_description = NEG_description_noun_join = []\n",
    "for d in POS_description_noun_tk:\n",
    "  d2 = [w for w in d if len(w)>1]\n",
    "  NEG_description_noun_join.append(\" \".join(d2))\n",
    "NEG_description_noun_join"
   ]
  },
  {
   "cell_type": "code",
   "execution_count": null,
   "metadata": {
    "id": "YxC5dHn4oTDA"
   },
   "outputs": [],
   "source": [
    "NEG_description = NEG_data_df['description']\n",
    "\n",
    "NEG_description_noun_tk = []\n",
    "NEG_description_noun_join = []\n",
    "\n",
    "for d in NEG_description:\n",
    "  NEG_description_noun_tk.append(tokenizer.nouns(d))\n",
    "\n",
    "for d in NEG_description_noun_tk:\n",
    "  d2 = [w for w in d if len(w)>1]\n",
    "  NEG_description_noun_join.append(\" \".join(d2))"
   ]
  },
  {
   "cell_type": "code",
   "execution_count": null,
   "metadata": {
    "id": "xPfeyIDQp0av"
   },
   "outputs": [],
   "source": [
    "POS_tfidf = TfidfVectorizer(tokenizer = mecab_tokenizer, min_df = 2)\n",
    "POS_dtm = POS_tfidf.fit_transform(POS_description_noun_join)"
   ]
  },
  {
   "cell_type": "code",
   "execution_count": null,
   "metadata": {
    "id": "_GKJc1kZqAnt"
   },
   "outputs": [],
   "source": [
    "POS_vocab = dict()\n",
    "\n",
    "for idx, word in enumerate(POS_tfidf.get_feature_names()):\n",
    "  POS_vocab[word]=POS_dtm.getcol(idx).sum()\n",
    "\n",
    "POS_words = sorted(POS_vocab.items(), key = lambda x:x[1],reverse=True)"
   ]
  },
  {
   "cell_type": "code",
   "execution_count": null,
   "metadata": {
    "id": "9oPhA3m2Npo-"
   },
   "outputs": [],
   "source": [
    "NEG_tfidf = TfidfVectorizer(tokenizer = mecab_tokenizer,min_df =2)\n",
    "NEG_dtm = NEG_tfidf.fit_transform(NEG_description_noun_join)"
   ]
  },
  {
   "cell_type": "code",
   "execution_count": null,
   "metadata": {
    "id": "1pN9sH3NN2RV"
   },
   "outputs": [],
   "source": [
    "NEG_vocab = dict()\n",
    "\n",
    "for idx, word in enumerate(NEG_tfidf.get_feature_names()):\n",
    "  NEG_vocab[word] = NEG_dtm.getcol(idx).sum()\n",
    "\n",
    "NEG_words = sorted(NEG_vocab.items(), key = lambda x:x[1], reverse = True)\n"
   ]
  },
  {
   "cell_type": "code",
   "execution_count": null,
   "metadata": {
    "id": "a-k_bUAOPtnL"
   },
   "outputs": [],
   "source": [
    "description = data_df['description']"
   ]
  },
  {
   "cell_type": "code",
   "execution_count": null,
   "metadata": {
    "id": "foOy8dBnh-6e"
   },
   "outputs": [],
   "source": [
    "description_noun_tk =  []\n",
    "\n",
    "for d in description:\n",
    "  description_noun_tk.append(tokenizer.nouns(d)) "
   ]
  },
  {
   "cell_type": "code",
   "execution_count": null,
   "metadata": {
    "id": "Z4Amz2YqiCNP"
   },
   "outputs": [],
   "source": [
    "description_noun_tk2 =  []\n",
    "\n",
    "for d in description_noun_tk:\n",
    "  item = [i for i in d if len(i)>1]\n",
    "  description_noun_tk2.append(item)"
   ]
  },
  {
   "cell_type": "code",
   "execution_count": null,
   "metadata": {
    "colab": {
     "base_uri": "https://localhost:8080/"
    },
    "executionInfo": {
     "elapsed": 2514,
     "status": "ok",
     "timestamp": 1624932736538,
     "user": {
      "displayName": "오지현",
      "photoUrl": "",
      "userId": "13276429583960305726"
     },
     "user_tz": -540
    },
    "id": "xyUwxWQTiaX_",
    "outputId": "ba6daa04-5103-44f4-b2b1-8a42f65e8ada"
   },
   "outputs": [
    {
     "name": "stdout",
     "output_type": "stream",
     "text": [
      "Requirement already satisfied: gensim in /usr/local/lib/python3.7/dist-packages (3.6.0)\n",
      "Requirement already satisfied: numpy>=1.11.3 in /usr/local/lib/python3.7/dist-packages (from gensim) (1.19.5)\n",
      "Requirement already satisfied: smart-open>=1.2.1 in /usr/local/lib/python3.7/dist-packages (from gensim) (5.1.0)\n",
      "Requirement already satisfied: six>=1.5.0 in /usr/local/lib/python3.7/dist-packages (from gensim) (1.15.0)\n",
      "Requirement already satisfied: scipy>=0.18.1 in /usr/local/lib/python3.7/dist-packages (from gensim) (1.4.1)\n"
     ]
    }
   ],
   "source": [
    "!pip install gensim"
   ]
  },
  {
   "cell_type": "code",
   "execution_count": null,
   "metadata": {
    "id": "mGGB8EofhyA5"
   },
   "outputs": [],
   "source": [
    "import gensim\n",
    "import gensim.corpora as corpora"
   ]
  },
  {
   "cell_type": "code",
   "execution_count": null,
   "metadata": {
    "id": "wC0wjFoIihd-"
   },
   "outputs": [],
   "source": [
    "dictionary = corpora.Dictionary(description_noun_tk2)"
   ]
  },
  {
   "cell_type": "code",
   "execution_count": null,
   "metadata": {
    "id": "9wuBtlOqipOe"
   },
   "outputs": [],
   "source": [
    "corpus = [dictionary.doc2bow(word) for word in description_noun_tk2] "
   ]
  },
  {
   "cell_type": "code",
   "execution_count": null,
   "metadata": {
    "id": "NbMSsJXNiuff"
   },
   "outputs": [],
   "source": [
    "k = 4"
   ]
  },
  {
   "cell_type": "code",
   "execution_count": null,
   "metadata": {
    "id": "cSk3SVAkiv1e"
   },
   "outputs": [],
   "source": [
    "lda_model = gensim.models.ldamulticore.LdaMulticore(corpus, iterations = 12, num_topics= k, id2word = dictionary, passes = 1 , workers = 10)"
   ]
  },
  {
   "cell_type": "code",
   "execution_count": null,
   "metadata": {
    "colab": {
     "base_uri": "https://localhost:8080/"
    },
    "executionInfo": {
     "elapsed": 2504,
     "status": "ok",
     "timestamp": 1624933668334,
     "user": {
      "displayName": "오지현",
      "photoUrl": "",
      "userId": "13276429583960305726"
     },
     "user_tz": -540
    },
    "id": "dL54boASi72Q",
    "outputId": "3d64bd6f-42a5-4064-ceaa-8ea3db539868"
   },
   "outputs": [
    {
     "name": "stdout",
     "output_type": "stream",
     "text": [
      "Requirement already satisfied: pyLDAvis in /usr/local/lib/python3.7/dist-packages (3.3.1)\n",
      "Requirement already satisfied: scikit-learn in /usr/local/lib/python3.7/dist-packages (from pyLDAvis) (0.22.2.post1)\n",
      "Requirement already satisfied: future in /usr/local/lib/python3.7/dist-packages (from pyLDAvis) (0.16.0)\n",
      "Requirement already satisfied: gensim in /usr/local/lib/python3.7/dist-packages (from pyLDAvis) (3.6.0)\n",
      "Requirement already satisfied: numpy>=1.20.0 in /usr/local/lib/python3.7/dist-packages (from pyLDAvis) (1.21.0)\n",
      "Requirement already satisfied: numexpr in /usr/local/lib/python3.7/dist-packages (from pyLDAvis) (2.7.3)\n",
      "Requirement already satisfied: funcy in /usr/local/lib/python3.7/dist-packages (from pyLDAvis) (1.16)\n",
      "Requirement already satisfied: joblib in /usr/local/lib/python3.7/dist-packages (from pyLDAvis) (1.0.1)\n",
      "Requirement already satisfied: sklearn in /usr/local/lib/python3.7/dist-packages (from pyLDAvis) (0.0)\n",
      "Requirement already satisfied: jinja2 in /usr/local/lib/python3.7/dist-packages (from pyLDAvis) (2.11.3)\n",
      "Requirement already satisfied: pandas>=1.2.0 in /usr/local/lib/python3.7/dist-packages (from pyLDAvis) (1.2.5)\n",
      "Requirement already satisfied: setuptools in /usr/local/lib/python3.7/dist-packages (from pyLDAvis) (57.0.0)\n",
      "Requirement already satisfied: scipy in /usr/local/lib/python3.7/dist-packages (from pyLDAvis) (1.4.1)\n",
      "Requirement already satisfied: smart-open>=1.2.1 in /usr/local/lib/python3.7/dist-packages (from gensim->pyLDAvis) (5.1.0)\n",
      "Requirement already satisfied: six>=1.5.0 in /usr/local/lib/python3.7/dist-packages (from gensim->pyLDAvis) (1.15.0)\n",
      "Requirement already satisfied: MarkupSafe>=0.23 in /usr/local/lib/python3.7/dist-packages (from jinja2->pyLDAvis) (2.0.1)\n",
      "Requirement already satisfied: pytz>=2017.3 in /usr/local/lib/python3.7/dist-packages (from pandas>=1.2.0->pyLDAvis) (2018.9)\n",
      "Requirement already satisfied: python-dateutil>=2.7.3 in /usr/local/lib/python3.7/dist-packages (from pandas>=1.2.0->pyLDAvis) (2.8.1)\n"
     ]
    }
   ],
   "source": [
    "!pip install pyLDAvis"
   ]
  },
  {
   "cell_type": "code",
   "execution_count": null,
   "metadata": {
    "colab": {
     "base_uri": "https://localhost:8080/",
     "height": 370
    },
    "executionInfo": {
     "elapsed": 268,
     "status": "error",
     "timestamp": 1624933671598,
     "user": {
      "displayName": "오지현",
      "photoUrl": "",
      "userId": "13276429583960305726"
     },
     "user_tz": -540
    },
    "id": "9ptkMFAllQsX",
    "outputId": "6e5256a6-8516-4a3f-881f-293d393ca6ae"
   },
   "outputs": [
    {
     "ename": "ModuleNotFoundError",
     "evalue": "ignored",
     "output_type": "error",
     "traceback": [
      "\u001b[0;31m---------------------------------------------------------------------------\u001b[0m",
      "\u001b[0;31mModuleNotFoundError\u001b[0m                       Traceback (most recent call last)",
      "\u001b[0;32m<ipython-input-107-308af8763f18>\u001b[0m in \u001b[0;36m<module>\u001b[0;34m()\u001b[0m\n\u001b[1;32m      2\u001b[0m \u001b[0mos\u001b[0m\u001b[0;34m.\u001b[0m\u001b[0menviron\u001b[0m\u001b[0;34m[\u001b[0m\u001b[0;34m\"PYTHONIOPENCODING\"\u001b[0m\u001b[0;34m]\u001b[0m \u001b[0;34m=\u001b[0m \u001b[0;34m\"utf-8\"\u001b[0m\u001b[0;34m\u001b[0m\u001b[0;34m\u001b[0m\u001b[0m\n\u001b[1;32m      3\u001b[0m \u001b[0;34m\u001b[0m\u001b[0m\n\u001b[0;32m----> 4\u001b[0;31m \u001b[0;32mimport\u001b[0m \u001b[0mpyLDAvis\u001b[0m\u001b[0;34m.\u001b[0m\u001b[0mgensim\u001b[0m\u001b[0;34m\u001b[0m\u001b[0;34m\u001b[0m\u001b[0m\n\u001b[0m\u001b[1;32m      5\u001b[0m \u001b[0mlda_vis\u001b[0m \u001b[0;34m=\u001b[0m \u001b[0mpyLDAvis\u001b[0m\u001b[0;34m.\u001b[0m\u001b[0mgensim\u001b[0m\u001b[0;34m.\u001b[0m\u001b[0mprepare\u001b[0m\u001b[0;34m(\u001b[0m\u001b[0mlda_model\u001b[0m\u001b[0;34m,\u001b[0m\u001b[0mcorpus\u001b[0m\u001b[0;34m,\u001b[0m \u001b[0mdictionary\u001b[0m\u001b[0;34m)\u001b[0m\u001b[0;34m\u001b[0m\u001b[0;34m\u001b[0m\u001b[0m\n",
      "\u001b[0;31mModuleNotFoundError\u001b[0m: No module named 'pyLDAvis.gensim'",
      "",
      "\u001b[0;31m---------------------------------------------------------------------------\u001b[0;32m\nNOTE: If your import is failing due to a missing package, you can\nmanually install dependencies using either !pip or !apt.\n\nTo view examples of installing some common dependencies, click the\n\"Open Examples\" button below.\n\u001b[0;31m---------------------------------------------------------------------------\u001b[0m\n"
     ]
    }
   ],
   "source": [
    "import os\n",
    "os.environ[\"PYTHONIOPENCODING\"] = \"utf-8\"\n",
    "\n",
    "import pyLDAvis.gensim\n",
    "lda_vis = pyLDAvis.gensim.prepare(lda_model,corpus, dictionary)"
   ]
  },
  {
   "cell_type": "code",
   "execution_count": null,
   "metadata": {
    "colab": {
     "base_uri": "https://localhost:8080/"
    },
    "executionInfo": {
     "elapsed": 5288,
     "status": "ok",
     "timestamp": 1624940622334,
     "user": {
      "displayName": "오지현",
      "photoUrl": "",
      "userId": "13276429583960305726"
     },
     "user_tz": -540
    },
    "id": "tz9yRimmAeDr",
    "outputId": "6dbdd342-6426-442d-a7b5-aedfbb56ad3d"
   },
   "outputs": [
    {
     "name": "stdout",
     "output_type": "stream",
     "text": [
      "Reading package lists... Done\n",
      "Building dependency tree       \n",
      "Reading state information... Done\n",
      "The following NEW packages will be installed:\n",
      "  fonts-nanum\n",
      "0 upgraded, 1 newly installed, 0 to remove and 81 not upgraded.\n",
      "Need to get 9,604 kB of archives.\n",
      "After this operation, 29.5 MB of additional disk space will be used.\n",
      "Get:1 http://archive.ubuntu.com/ubuntu bionic/universe amd64 fonts-nanum all 20170925-1 [9,604 kB]\n",
      "Fetched 9,604 kB in 2s (5,395 kB/s)\n",
      "debconf: unable to initialize frontend: Dialog\n",
      "debconf: (No usable dialog-like program is installed, so the dialog based frontend cannot be used. at /usr/share/perl5/Debconf/FrontEnd/Dialog.pm line 76, <> line 1.)\n",
      "debconf: falling back to frontend: Readline\n",
      "debconf: unable to initialize frontend: Readline\n",
      "debconf: (This frontend requires a controlling tty.)\n",
      "debconf: falling back to frontend: Teletype\n",
      "dpkg-preconfigure: unable to re-open stdin: \n",
      "Selecting previously unselected package fonts-nanum.\n",
      "(Reading database ... 161633 files and directories currently installed.)\n",
      "Preparing to unpack .../fonts-nanum_20170925-1_all.deb ...\n",
      "Unpacking fonts-nanum (20170925-1) ...\n",
      "Setting up fonts-nanum (20170925-1) ...\n",
      "Processing triggers for fontconfig (2.12.6-0ubuntu2) ...\n"
     ]
    }
   ],
   "source": [
    "!sudo apt-get install -y fonts-nanum"
   ]
  },
  {
   "cell_type": "code",
   "execution_count": null,
   "metadata": {
    "colab": {
     "base_uri": "https://localhost:8080/"
    },
    "executionInfo": {
     "elapsed": 2593,
     "status": "ok",
     "timestamp": 1624940627222,
     "user": {
      "displayName": "오지현",
      "photoUrl": "",
      "userId": "13276429583960305726"
     },
     "user_tz": -540
    },
    "id": "LLmdrotdAh0B",
    "outputId": "36ead7d2-b3a2-4dbf-fe35-6c341d5dd916"
   },
   "outputs": [
    {
     "name": "stdout",
     "output_type": "stream",
     "text": [
      "/usr/share/fonts: caching, new cache contents: 0 fonts, 1 dirs\n",
      "/usr/share/fonts/truetype: caching, new cache contents: 0 fonts, 4 dirs\n",
      "/usr/share/fonts/truetype/dejavu: caching, new cache contents: 22 fonts, 0 dirs\n",
      "/usr/share/fonts/truetype/humor-sans: caching, new cache contents: 1 fonts, 0 dirs\n",
      "/usr/share/fonts/truetype/liberation: caching, new cache contents: 16 fonts, 0 dirs\n",
      "/usr/share/fonts/truetype/nanum: caching, new cache contents: 10 fonts, 0 dirs\n",
      "/usr/local/share/fonts: caching, new cache contents: 0 fonts, 0 dirs\n",
      "/root/.local/share/fonts: skipping, no such directory\n",
      "/root/.fonts: skipping, no such directory\n",
      "/var/cache/fontconfig: cleaning cache directory\n",
      "/root/.cache/fontconfig: not cleaning non-existent cache directory\n",
      "/root/.fontconfig: not cleaning non-existent cache directory\n",
      "fc-cache: succeeded\n"
     ]
    }
   ],
   "source": [
    "!sudo fc-cache -fv"
   ]
  },
  {
   "cell_type": "code",
   "execution_count": null,
   "metadata": {
    "id": "jAWSDksBAjoB"
   },
   "outputs": [],
   "source": [
    "!rm ~/.cache/matplotlib -rf"
   ]
  },
  {
   "cell_type": "code",
   "execution_count": null,
   "metadata": {
    "id": "KCMMWPOH_Ha8"
   },
   "outputs": [],
   "source": [
    "import matplotlib\n",
    "import matplotlib.pyplot as plt\n",
    "from collections import Counter\n",
    "from matplotlib import font_manager, rc\n",
    "from wordcloud import WordCloud"
   ]
  },
  {
   "cell_type": "code",
   "execution_count": null,
   "metadata": {
    "colab": {
     "base_uri": "https://localhost:8080/",
     "height": 366
    },
    "executionInfo": {
     "elapsed": 806,
     "status": "ok",
     "timestamp": 1624940646019,
     "user": {
      "displayName": "오지현",
      "photoUrl": "",
      "userId": "13276429583960305726"
     },
     "user_tz": -540
    },
    "id": "87SYOdLQ_vSr",
    "outputId": "51c9a1c0-0bd2-48f0-b12b-bc7acba0f619"
   },
   "outputs": [
    {
     "data": {
      "image/png": "[encoded data removed]",
      "text/plain": [
       "<Figure size 576x576 with 1 Axes>"
      ]
     },
     "metadata": {
      "needs_background": "light",
      "tags": []
     },
     "output_type": "display_data"
    }
   ],
   "source": [
    "dict1 = {'딸기':10,'사과':20,\"바나나\":15,\"키위\":5,\"멜론\":12}\n",
    "path = 'user/share/fonts/truetype/nanum/NanumBarunGothic.ttf'\n",
    "wc = WordCloud(font_path = path, background_color = 'ivory', width = 800, height = 600)\n",
    "cloud = wc.generate_from_frequencies(dict1)\n",
    "plt.figure(figsize = (8,8))\n",
    "plt.imshow(cloud)\n",
    "plt.axis('off')\n",
    "plt.show()"
   ]
  },
  {
   "cell_type": "code",
   "execution_count": 195,
   "metadata": {
    "colab": {
     "base_uri": "https://localhost:8080/",
     "height": 366
    },
    "executionInfo": {
     "elapsed": 912,
     "status": "ok",
     "timestamp": 1624947058846,
     "user": {
      "displayName": "오지현",
      "photoUrl": "",
      "userId": "13276429583960305726"
     },
     "user_tz": -540
    },
    "id": "5PSWk_CFEMDq",
    "outputId": "ac3276de-559f-482f-cc64-73f83df9b89f"
   },
   "outputs": [
    {
     "data": {
      "image/png": "[encoded data removed]",
      "text/plain": [
       "<Figure size 576x576 with 1 Axes>"
      ]
     },
     "metadata": {
      "needs_background": "light",
      "tags": []
     },
     "output_type": "display_data"
    }
   ],
   "source": [
    "NEG_words_fixed = dict(NEG_words[:15])\n",
    "path = 'user/share/fonts/truetype/nanum/NanumBarunGothic.ttf'\n",
    "wc = WordCloud(font_path = path, background_color = 'ivory', width = 800, height = 600)\n",
    "cloud = wc.generate_from_frequencies(NEG_words_fixed)\n",
    "plt.figure(figsize = (8,8))\n",
    "plt.imshow(cloud)\n",
    "plt.axis('off')\n",
    "plt.show()"
   ]
  },
  {
   "cell_type": "code",
   "execution_count": 196,
   "metadata": {
    "colab": {
     "base_uri": "https://localhost:8080/",
     "height": 366
    },
    "executionInfo": {
     "elapsed": 1014,
     "status": "ok",
     "timestamp": 1624947094468,
     "user": {
      "displayName": "오지현",
      "photoUrl": "",
      "userId": "13276429583960305726"
     },
     "user_tz": -540
    },
    "id": "9iU05iVVFkVC",
    "outputId": "b8715935-1b83-4971-bade-853b6f486115"
   },
   "outputs": [
    {
     "data": {
      "image/png": "[encoded data removed]",
      "text/plain": [
       "<Figure size 576x576 with 1 Axes>"
      ]
     },
     "metadata": {
      "needs_background": "light",
      "tags": []
     },
     "output_type": "display_data"
    }
   ],
   "source": [
    "POS_words_fixed = dict(POS_words[:15])\n",
    "path = 'user/share/fonts/truetype/nanum/NanumBarunGothic.ttf'\n",
    "wc = WordCloud(font_path = path, background_color = 'ivory', width = 800, height = 600)\n",
    "cloud = wc.generate_from_frequencies(POS_words_fixed)\n",
    "plt.figure(figsize = (8,8))\n",
    "plt.imshow(cloud)\n",
    "plt.axis('off')\n",
    "plt.show()"
   ]
  }
 ],
 "metadata": {
  "colab": {
   "authorship_tag": "ABX9TyO4Jm2bJAjy9Dbj7X52VGgt",
   "collapsed_sections": [],
   "name": "실행결과포한된_오지현.ipynb",
   "provenance": []
  },
  "kernelspec": {
   "display_name": "Python 3",
   "language": "python",
   "name": "python3"
  },
  "language_info": {
   "codemirror_mode": {
    "name": "ipython",
    "version": 3
   },
   "file_extension": ".py",
   "mimetype": "text/x-python",
   "name": "python",
   "nbconvert_exporter": "python",
   "pygments_lexer": "ipython3",
   "version": "3.8.8"
  }
 },
 "nbformat": 4,
 "nbformat_minor": 1
}
