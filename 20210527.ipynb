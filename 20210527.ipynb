{
 "cells": [
  {
   "cell_type": "code",
   "execution_count": 1,
   "id": "a63fcc44",
   "metadata": {},
   "outputs": [],
   "source": [
    "# 140p NumPy "
   ]
  },
  {
   "cell_type": "code",
   "execution_count": 2,
   "id": "b771a814",
   "metadata": {},
   "outputs": [],
   "source": [
    "# 복소수 = 실수부 + 허수부\n",
    "# colpex num = real part + imagary part\n",
    "\n",
    "# 2^2 = 4\n",
    "# 2^4 = 16\n",
    "# 2^8 =256 =int8 양수127/0/음수128\n",
    "# uint8 = 256 = 양수 0~255\n",
    "# bit 0/1\n",
    "# 8bit = 1byte\n",
    "# 16bit = 2 byte\n",
    "# 2^16 = 65???\n",
    "# 표음문자는 전부 넣을 수 있음 표의문자는 상용문자까지는 가능\n"
   ]
  },
  {
   "cell_type": "code",
   "execution_count": 5,
   "id": "2c960a2b",
   "metadata": {},
   "outputs": [
    {
     "data": {
      "text/plain": [
       "dtype('int32')"
      ]
     },
     "execution_count": 5,
     "metadata": {},
     "output_type": "execute_result"
    }
   ],
   "source": [
    "import numpy as np          # 불러오기\n",
    "arr = np.array([1,2,3,4,5]) # np.array 생성\n",
    "arr.dtype                   # 데이터 타입 확인"
   ]
  },
  {
   "cell_type": "code",
   "execution_count": 7,
   "id": "6021a518",
   "metadata": {},
   "outputs": [
    {
     "data": {
      "text/plain": [
       "dtype('float64')"
      ]
     },
     "execution_count": 7,
     "metadata": {},
     "output_type": "execute_result"
    }
   ],
   "source": [
    "float_arr =  arr.astype(np.float64) #데이터타입 변환 (캐스팅)\n",
    "float_arr.dtype                     #데이터 타입 확인"
   ]
  },
  {
   "cell_type": "code",
   "execution_count": 8,
   "id": "594a33a6",
   "metadata": {},
   "outputs": [
    {
     "data": {
      "text/plain": [
       "array([1., 2., 3., 4., 5.])"
      ]
     },
     "execution_count": 8,
     "metadata": {},
     "output_type": "execute_result"
    }
   ],
   "source": [
    "float_arr                    #컨텐츠확인"
   ]
  },
  {
   "cell_type": "code",
   "execution_count": 11,
   "id": "4447a1b1",
   "metadata": {},
   "outputs": [
    {
     "name": "stdout",
     "output_type": "stream",
     "text": [
      "데이터 5 개 컴온1 2 3 4 5\n"
     ]
    },
    {
     "data": {
      "text/plain": [
       "dtype('S1')"
      ]
     },
     "execution_count": 11,
     "metadata": {},
     "output_type": "execute_result"
    }
   ],
   "source": [
    "received = input(\"데이터 5 개 컴온\").split() #input + 나눠받기\n",
    "str_num_arr = np.array(received, dtype = np.string_) #받은데이터 어레이, 데이터타입은 스트링\n",
    "str_num_arr.dtype"
   ]
  },
  {
   "cell_type": "code",
   "execution_count": 13,
   "id": "9ba41949",
   "metadata": {},
   "outputs": [
    {
     "data": {
      "text/plain": [
       "dtype('float64')"
      ]
     },
     "execution_count": 13,
     "metadata": {},
     "output_type": "execute_result"
    }
   ],
   "source": [
    "numer_num_arr = str_num_arr.astype(float)\n",
    "numer_num_arr.dtype"
   ]
  },
  {
   "cell_type": "code",
   "execution_count": null,
   "id": "0156eaa1",
   "metadata": {},
   "outputs": [],
   "source": []
  },
  {
   "cell_type": "code",
   "execution_count": null,
   "id": "44f71adb",
   "metadata": {},
   "outputs": [],
   "source": []
  }
 ],
 "metadata": {
  "kernelspec": {
   "display_name": "Python 3",
   "language": "python",
   "name": "python3"
  },
  "language_info": {
   "codemirror_mode": {
    "name": "ipython",
    "version": 3
   },
   "file_extension": ".py",
   "mimetype": "text/x-python",
   "name": "python",
   "nbconvert_exporter": "python",
   "pygments_lexer": "ipython3",
   "version": "3.8.8"
  }
 },
 "nbformat": 4,
 "nbformat_minor": 5
}
