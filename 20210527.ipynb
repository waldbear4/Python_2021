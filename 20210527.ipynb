{
 "cells": [
  {
   "cell_type": "code",
   "execution_count": 1,
   "id": "a63fcc44",
   "metadata": {},
   "outputs": [],
   "source": [
    "# 140p NumPy "
   ]
  },
  {
   "cell_type": "code",
   "execution_count": 2,
   "id": "615485b3",
   "metadata": {},
   "outputs": [],
   "source": [
    "# 복소수 = 실수부 + 허수부\n",
    "# colpex num = real part + imagary part\n",
    "\n",
    "# 2^2 = 4\n",
    "# 2^4 = 16\n",
    "# 2^8 =256 =int8 양수127/0/음수128\n",
    "# uint8 = 256 = 양수 0~255\n",
    "# bit 0/1\n",
    "# 8bit = 1byte\n",
    "# 16bit = 2 byte\n",
    "# 2^16 = 65???\n",
    "# 표음문자는 전부 넣을 수 있음 표의문자는 상용문자까지는 가능\n"
   ]
  },
  {
   "cell_type": "code",
   "execution_count": null,
   "id": "96b13fa2",
   "metadata": {},
   "outputs": [],
   "source": []
  }
 ],
 "metadata": {
  "kernelspec": {
   "display_name": "Python 3",
   "language": "python",
   "name": "python3"
  },
  "language_info": {
   "codemirror_mode": {
    "name": "ipython",
    "version": 3
   },
   "file_extension": ".py",
   "mimetype": "text/x-python",
   "name": "python",
   "nbconvert_exporter": "python",
   "pygments_lexer": "ipython3",
   "version": "3.8.8"
  }
 },
 "nbformat": 4,
 "nbformat_minor": 5
}
