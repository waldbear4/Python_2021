{
 "cells": [
  {
   "cell_type": "code",
   "execution_count": 2,
   "id": "dd18068a",
   "metadata": {},
   "outputs": [
    {
     "data": {
      "image/png": "[encoded data removed]",
      "text/plain": [
       "<Figure size 432x288 with 1 Axes>"
      ]
     },
     "metadata": {
      "needs_background": "light"
     },
     "output_type": "display_data"
    }
   ],
   "source": [
    "import mglearn\n",
    "mglearn.plots.plot_binary_confusion_matrix()"
   ]
  },
  {
   "cell_type": "code",
   "execution_count": 5,
   "id": "d49cd9ec",
   "metadata": {},
   "outputs": [
    {
     "name": "stdout",
     "output_type": "stream",
     "text": [
      "Requirement already satisfied: torch in c:\\programmierung\\anaconda3\\lib\\site-packages (1.9.0)\n",
      "Collecting cuda\n",
      "  Downloading cuda-0.0.1.tar.gz (1.1 kB)\n",
      "Requirement already satisfied: typing-extensions in c:\\programmierung\\anaconda3\\lib\\site-packages (from torch) (3.7.4.3)\n",
      "Building wheels for collected packages: cuda\n",
      "  Building wheel for cuda (setup.py): started\n",
      "  Building wheel for cuda (setup.py): finished with status 'done'\n",
      "  Created wheel for cuda: filename=cuda-0.0.1-py3-none-any.whl size=1171 sha256=55c1227b73d3b82c8252a9c177eb3965294247c4d99dc65b2623dfad4fde099a\n",
      "  Stored in directory: c:\\users\\curio\\appdata\\local\\pip\\cache\\wheels\\c4\\48\\c8\\c46a1691f10b5b5fd75a47b01c25c8ae7bc2005654b09ea1d6\n",
      "Successfully built cuda\n",
      "Installing collected packages: cuda\n",
      "Successfully installed cuda-0.0.1\n"
     ]
    }
   ],
   "source": [
    "!pip install torch cuda"
   ]
  },
  {
   "cell_type": "code",
   "execution_count": null,
   "id": "63aeedca",
   "metadata": {},
   "outputs": [],
   "source": [
    "#!pop install torch cuda 그래픽카드사용"
   ]
  },
  {
   "cell_type": "markdown",
   "id": "a82456cb",
   "metadata": {},
   "source": [
    "CPU 정수형\n",
    "RAM 중앙처리장치\n",
    "GPU 픽셀처리 (실수형)"
   ]
  },
  {
   "cell_type": "code",
   "execution_count": 6,
   "id": "4e9fbf12",
   "metadata": {},
   "outputs": [],
   "source": [
    "import torch"
   ]
  },
  {
   "cell_type": "code",
   "execution_count": 7,
   "id": "23db4737",
   "metadata": {},
   "outputs": [
    {
     "data": {
      "text/plain": [
       "'1.9.0+cpu'"
      ]
     },
     "execution_count": 7,
     "metadata": {},
     "output_type": "execute_result"
    }
   ],
   "source": [
    "torch.__version__"
   ]
  },
  {
   "cell_type": "code",
   "execution_count": 10,
   "id": "07970392",
   "metadata": {},
   "outputs": [],
   "source": [
    "import numpy as np"
   ]
  },
  {
   "cell_type": "code",
   "execution_count": 13,
   "id": "1fb9ec30",
   "metadata": {},
   "outputs": [],
   "source": [
    "data = [[1,2], [3,4]]"
   ]
  },
  {
   "cell_type": "code",
   "execution_count": 14,
   "id": "c840f36d",
   "metadata": {},
   "outputs": [],
   "source": [
    "np_data = np.array(data)"
   ]
  },
  {
   "cell_type": "code",
   "execution_count": 15,
   "id": "bf150145",
   "metadata": {},
   "outputs": [
    {
     "data": {
      "text/plain": [
       "array([[1, 2],\n",
       "       [3, 4]])"
      ]
     },
     "execution_count": 15,
     "metadata": {},
     "output_type": "execute_result"
    }
   ],
   "source": [
    "np_data"
   ]
  },
  {
   "cell_type": "code",
   "execution_count": 16,
   "id": "93091037",
   "metadata": {},
   "outputs": [],
   "source": [
    "x_data = torch.tensor(data)"
   ]
  },
  {
   "cell_type": "markdown",
   "id": "9d3bb878",
   "metadata": {},
   "source": [
    "data를 tensor화"
   ]
  },
  {
   "cell_type": "code",
   "execution_count": null,
   "id": "7f799518",
   "metadata": {},
   "outputs": [],
   "source": []
  },
  {
   "cell_type": "code",
   "execution_count": 17,
   "id": "b73ff42c",
   "metadata": {},
   "outputs": [
    {
     "data": {
      "text/plain": [
       "tensor([[1, 2],\n",
       "        [3, 4]])"
      ]
     },
     "execution_count": 17,
     "metadata": {},
     "output_type": "execute_result"
    }
   ],
   "source": [
    "x_data"
   ]
  },
  {
   "cell_type": "code",
   "execution_count": 18,
   "id": "18c2dd0c",
   "metadata": {},
   "outputs": [],
   "source": [
    "x_data_f = torch.FloatTensor(data)"
   ]
  },
  {
   "cell_type": "code",
   "execution_count": 19,
   "id": "f5a7c532",
   "metadata": {},
   "outputs": [
    {
     "data": {
      "text/plain": [
       "tensor([[1., 2.],\n",
       "        [3., 4.]])"
      ]
     },
     "execution_count": 19,
     "metadata": {},
     "output_type": "execute_result"
    }
   ],
   "source": [
    "x_data_f"
   ]
  },
  {
   "cell_type": "code",
   "execution_count": 20,
   "id": "a9b63194",
   "metadata": {},
   "outputs": [
    {
     "name": "stdout",
     "output_type": "stream",
     "text": [
      "2\n"
     ]
    }
   ],
   "source": [
    "print(x_data_f.dim())"
   ]
  },
  {
   "cell_type": "code",
   "execution_count": 21,
   "id": "9755a513",
   "metadata": {},
   "outputs": [
    {
     "name": "stdout",
     "output_type": "stream",
     "text": [
      "torch.Size([2, 2])\n"
     ]
    }
   ],
   "source": [
    "print(x_data_f.shape)"
   ]
  },
  {
   "cell_type": "code",
   "execution_count": 22,
   "id": "39635f4e",
   "metadata": {},
   "outputs": [
    {
     "data": {
      "text/plain": [
       "tensor([1., 2.])"
      ]
     },
     "execution_count": 22,
     "metadata": {},
     "output_type": "execute_result"
    }
   ],
   "source": [
    "x_data_f[0]"
   ]
  },
  {
   "cell_type": "code",
   "execution_count": 23,
   "id": "83cb6e51",
   "metadata": {},
   "outputs": [
    {
     "data": {
      "text/plain": [
       "tensor(2.)"
      ]
     },
     "execution_count": 23,
     "metadata": {},
     "output_type": "execute_result"
    }
   ],
   "source": [
    "x_data_f[0][1]"
   ]
  },
  {
   "cell_type": "code",
   "execution_count": 24,
   "id": "f7004f84",
   "metadata": {},
   "outputs": [
    {
     "data": {
      "text/plain": [
       "tensor([1., 2.])"
      ]
     },
     "execution_count": 24,
     "metadata": {},
     "output_type": "execute_result"
    }
   ],
   "source": [
    "x_data_f[0][:]"
   ]
  },
  {
   "cell_type": "code",
   "execution_count": 26,
   "id": "de6acb39",
   "metadata": {},
   "outputs": [],
   "source": [
    "t1 = torch.FloatTensor([[1,3]])\n",
    "t2 = torch.FloatTensor([[2,4]])"
   ]
  },
  {
   "cell_type": "code",
   "execution_count": 27,
   "id": "30a0527e",
   "metadata": {},
   "outputs": [
    {
     "name": "stdout",
     "output_type": "stream",
     "text": [
      "tensor([[3., 7.]])\n"
     ]
    }
   ],
   "source": [
    "print(t1+t2)"
   ]
  },
  {
   "cell_type": "code",
   "execution_count": 29,
   "id": "8ea53319",
   "metadata": {},
   "outputs": [],
   "source": [
    "t1 = torch.FloatTensor([[1,3]])\n",
    "t2 = torch.FloatTensor([[2]])"
   ]
  },
  {
   "cell_type": "code",
   "execution_count": 30,
   "id": "932f28a4",
   "metadata": {},
   "outputs": [
    {
     "name": "stdout",
     "output_type": "stream",
     "text": [
      "tensor([[3., 5.]])\n"
     ]
    }
   ],
   "source": [
    "print(t1+t2)"
   ]
  },
  {
   "cell_type": "markdown",
   "id": "bd90cce5",
   "metadata": {},
   "source": [
    "가설 설정\n",
    "y = W*x + b\n",
    "기존 머신러닝 : MSE평균제곱오차\n",
    "딥러닝 세상의 인식체계\n",
    "cost function (비용 함수) = loss function (손실함수)\n",
    "= error functio (오차 함수) = objective function (목적함수)\n",
    "옵티마이저는 경사하강법 (Gradient Descent)을 사용 (ex. 머신러닝에서 fit)\n"
   ]
  },
  {
   "cell_type": "code",
   "execution_count": null,
   "id": "75d326ef",
   "metadata": {},
   "outputs": [],
   "source": []
  }
 ],
 "metadata": {
  "kernelspec": {
   "display_name": "Python 3",
   "language": "python",
   "name": "python3"
  },
  "language_info": {
   "codemirror_mode": {
    "name": "ipython",
    "version": 3
   },
   "file_extension": ".py",
   "mimetype": "text/x-python",
   "name": "python",
   "nbconvert_exporter": "python",
   "pygments_lexer": "ipython3",
   "version": "3.8.8"
  }
 },
 "nbformat": 4,
 "nbformat_minor": 5
}
