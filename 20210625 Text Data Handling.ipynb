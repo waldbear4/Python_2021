{
 "cells": [
  {
   "cell_type": "code",
   "execution_count": 20,
   "id": "9a6c828f",
   "metadata": {},
   "outputs": [],
   "source": [
    "#p415\n",
    "from sklearn.datasets import load_files"
   ]
  },
  {
   "cell_type": "code",
   "execution_count": 31,
   "id": "1eda160f",
   "metadata": {},
   "outputs": [],
   "source": [
    "reviews_train = load_files(\"C:/Programmierung/workspace/Python_2021/examples/aclImdb/train\")"
   ]
  },
  {
   "cell_type": "code",
   "execution_count": 32,
   "id": "09d91725",
   "metadata": {},
   "outputs": [],
   "source": [
    "text_train, y_train = reviews_train.data, reviews_train.target"
   ]
  },
  {
   "cell_type": "code",
   "execution_count": 33,
   "id": "f53169b9",
   "metadata": {},
   "outputs": [
    {
     "data": {
      "text/plain": [
       "25000"
      ]
     },
     "execution_count": 33,
     "metadata": {},
     "output_type": "execute_result"
    }
   ],
   "source": [
    "len(text_train)"
   ]
  },
  {
   "cell_type": "code",
   "execution_count": 34,
   "id": "eef65d6b",
   "metadata": {},
   "outputs": [],
   "source": [
    "text_train = [ a_review.replace(b\"<br \\n>\", b\" \") for a_review in text_train]"
   ]
  },
  {
   "cell_type": "markdown",
   "id": "dbcae3bc",
   "metadata": {},
   "source": [
    "자연어 처리 과정에서 \"공백\" 등 조심해야함"
   ]
  },
  {
   "cell_type": "code",
   "execution_count": 35,
   "id": "6e45dd21",
   "metadata": {},
   "outputs": [
    {
     "data": {
      "text/plain": [
       "b\"Zero Day leads you to think, even re-think why two boys/young men would do what they did - commit mutual suicide via slaughtering their classmates. It captures what must be beyond a bizarre mode of being for two humans who have decided to withdraw from common civility in order to define their own/mutual world via coupled destruction.<br /><br />It is not a perfect movie but given what money/time the filmmaker and actors had - it is a remarkable product. In terms of explaining the motives and actions of the two young suicide/murderers it is better than 'Elephant' - in terms of being a film that gets under our 'rationalistic' skin it is a far, far better film than almost anything you are likely to see. <br /><br />Flawed but honest with a terrible honesty.\""
      ]
     },
     "execution_count": 35,
     "metadata": {},
     "output_type": "execute_result"
    }
   ],
   "source": [
    "text_train[0]"
   ]
  },
  {
   "cell_type": "code",
   "execution_count": 36,
   "id": "ca036e17",
   "metadata": {},
   "outputs": [],
   "source": [
    "import numpy as np"
   ]
  },
  {
   "cell_type": "code",
   "execution_count": 37,
   "id": "feec1930",
   "metadata": {},
   "outputs": [
    {
     "data": {
      "text/plain": [
       "array([12500, 12500], dtype=int64)"
      ]
     },
     "execution_count": 37,
     "metadata": {},
     "output_type": "execute_result"
    }
   ],
   "source": [
    "np.bincount(y_train)"
   ]
  },
  {
   "cell_type": "code",
   "execution_count": 38,
   "id": "dd5a5d8c",
   "metadata": {},
   "outputs": [],
   "source": [
    "reviews_test = load_files(\"C:/Programmierung/workspace/Python_2021/examples/aclImdb/test\")"
   ]
  },
  {
   "cell_type": "code",
   "execution_count": 39,
   "id": "9f74b608",
   "metadata": {},
   "outputs": [],
   "source": [
    "text_test, y_test = reviews_test.data, reviews_test.target"
   ]
  },
  {
   "cell_type": "code",
   "execution_count": 40,
   "id": "b022ffad",
   "metadata": {},
   "outputs": [
    {
     "data": {
      "text/plain": [
       "25000"
      ]
     },
     "execution_count": 40,
     "metadata": {},
     "output_type": "execute_result"
    }
   ],
   "source": [
    "len(text_test)"
   ]
  },
  {
   "cell_type": "code",
   "execution_count": 41,
   "id": "ea099555",
   "metadata": {},
   "outputs": [
    {
     "data": {
      "text/plain": [
       "array([12500, 12500], dtype=int64)"
      ]
     },
     "execution_count": 41,
     "metadata": {},
     "output_type": "execute_result"
    }
   ],
   "source": [
    "np.bincount(y_test)"
   ]
  },
  {
   "cell_type": "code",
   "execution_count": 45,
   "id": "2cddc0ae",
   "metadata": {},
   "outputs": [],
   "source": [
    "text_test = [a_review.replace(b\"<br \\n\", b\" \") for a_review in text_test]"
   ]
  },
  {
   "cell_type": "code",
   "execution_count": 50,
   "id": "5b19b755",
   "metadata": {},
   "outputs": [],
   "source": [
    "bards_words = [\"The fool doth think he is wise,\",\n",
    "              \"but the wise man knows himself to be a fool\"]"
   ]
  },
  {
   "cell_type": "code",
   "execution_count": 51,
   "id": "93bb468a",
   "metadata": {},
   "outputs": [],
   "source": [
    "from sklearn.feature_extraction.text import CountVectorizer"
   ]
  },
  {
   "cell_type": "code",
   "execution_count": 52,
   "id": "ad30a018",
   "metadata": {},
   "outputs": [
    {
     "data": {
      "text/plain": [
       "CountVectorizer()"
      ]
     },
     "execution_count": 52,
     "metadata": {},
     "output_type": "execute_result"
    }
   ],
   "source": [
    "vect = CountVectorizer()\n",
    "vect.fit(bards_words)"
   ]
  },
  {
   "cell_type": "code",
   "execution_count": 53,
   "id": "3ee336a3",
   "metadata": {},
   "outputs": [
    {
     "data": {
      "text/plain": [
       "13"
      ]
     },
     "execution_count": 53,
     "metadata": {},
     "output_type": "execute_result"
    }
   ],
   "source": [
    "len(vect.vocabulary_)"
   ]
  },
  {
   "cell_type": "code",
   "execution_count": 54,
   "id": "4bb233f0",
   "metadata": {},
   "outputs": [
    {
     "data": {
      "text/plain": [
       "{'the': 9,\n",
       " 'fool': 3,\n",
       " 'doth': 2,\n",
       " 'think': 10,\n",
       " 'he': 4,\n",
       " 'is': 6,\n",
       " 'wise': 12,\n",
       " 'but': 1,\n",
       " 'man': 8,\n",
       " 'knows': 7,\n",
       " 'himself': 5,\n",
       " 'to': 11,\n",
       " 'be': 0}"
      ]
     },
     "execution_count": 54,
     "metadata": {},
     "output_type": "execute_result"
    }
   ],
   "source": [
    "vect.vocabulary_"
   ]
  },
  {
   "cell_type": "markdown",
   "id": "cc8f45fb",
   "metadata": {},
   "source": [
    "a 는 제외\n",
    "12번까지 있는 이유\n",
    "0~12 번까지"
   ]
  },
  {
   "cell_type": "code",
   "execution_count": 56,
   "id": "47576d43",
   "metadata": {},
   "outputs": [
    {
     "data": {
      "text/plain": [
       "array([[0, 0, 1, 1, 1, 0, 1, 0, 0, 1, 1, 0, 1],\n",
       "       [1, 1, 0, 1, 0, 1, 0, 1, 1, 1, 0, 1, 1]], dtype=int64)"
      ]
     },
     "execution_count": 56,
     "metadata": {},
     "output_type": "execute_result"
    }
   ],
   "source": [
    "bag_of_words = vect.transform(bards_words)\n",
    "bag_of_words.toarray()"
   ]
  },
  {
   "cell_type": "markdown",
   "id": "82a48c73",
   "metadata": {},
   "source": [
    "각 단어의 중요도? 를 나타냄"
   ]
  },
  {
   "cell_type": "code",
   "execution_count": null,
   "id": "927d5aaa",
   "metadata": {},
   "outputs": [],
   "source": []
  },
  {
   "cell_type": "markdown",
   "id": "54eb1d65",
   "metadata": {},
   "source": [
    "순환 신경망 - 순서를 고려해서 신경망을 만듦\n",
    "보통은 빈출성을 알아냄\n"
   ]
  },
  {
   "cell_type": "markdown",
   "id": "3b2a5010",
   "metadata": {},
   "source": [
    "bag_of_words(BOW)의 이해를 위한 예제 "
   ]
  },
  {
   "cell_type": "code",
   "execution_count": 57,
   "id": "cf22ef7b",
   "metadata": {},
   "outputs": [],
   "source": [
    "vect = CountVectorizer().fit(text_train)"
   ]
  },
  {
   "cell_type": "code",
   "execution_count": 59,
   "id": "6720e740",
   "metadata": {},
   "outputs": [],
   "source": [
    "X_train = vect.transform(text_train)"
   ]
  },
  {
   "cell_type": "code",
   "execution_count": 61,
   "id": "7e918c9f",
   "metadata": {},
   "outputs": [
    {
     "data": {
      "text/plain": [
       "array([[0, 0, 0, ..., 0, 0, 0],\n",
       "       [0, 0, 0, ..., 0, 0, 0],\n",
       "       [0, 0, 0, ..., 0, 0, 0],\n",
       "       ...,\n",
       "       [0, 0, 0, ..., 0, 0, 0],\n",
       "       [0, 0, 0, ..., 0, 0, 0],\n",
       "       [0, 0, 0, ..., 0, 0, 0]], dtype=int64)"
      ]
     },
     "execution_count": 61,
     "metadata": {},
     "output_type": "execute_result"
    }
   ],
   "source": [
    "# X_train.toarray()"
   ]
  },
  {
   "cell_type": "code",
   "execution_count": 63,
   "id": "17d2f71a",
   "metadata": {},
   "outputs": [
    {
     "data": {
      "text/plain": [
       "['00',\n",
       " '000',\n",
       " '0000000000001',\n",
       " '00001',\n",
       " '00015',\n",
       " '000s',\n",
       " '001',\n",
       " '003830',\n",
       " '006',\n",
       " '007',\n",
       " '0079',\n",
       " '0080',\n",
       " '0083',\n",
       " '0093638',\n",
       " '00am',\n",
       " '00pm',\n",
       " '00s',\n",
       " '01',\n",
       " '01pm',\n",
       " '02',\n",
       " '020410',\n",
       " '029',\n",
       " '03',\n",
       " '04',\n",
       " '041',\n",
       " '05',\n",
       " '050',\n",
       " '06',\n",
       " '06th',\n",
       " '07',\n",
       " '08',\n",
       " '087',\n",
       " '089',\n",
       " '08th',\n",
       " '09',\n",
       " '0f',\n",
       " '0ne',\n",
       " '0r',\n",
       " '0s',\n",
       " '10',\n",
       " '100',\n",
       " '1000',\n",
       " '1000000',\n",
       " '10000000000000',\n",
       " '1000lb',\n",
       " '1000s',\n",
       " '1001',\n",
       " '100b',\n",
       " '100k',\n",
       " '100m',\n",
       " '100min',\n",
       " '100mph',\n",
       " '100s',\n",
       " '100th',\n",
       " '100x',\n",
       " '100yards',\n",
       " '101',\n",
       " '101st',\n",
       " '102',\n",
       " '102nd',\n",
       " '103',\n",
       " '104',\n",
       " '1040',\n",
       " '1040a',\n",
       " '1040s',\n",
       " '105',\n",
       " '1050',\n",
       " '105lbs',\n",
       " '106',\n",
       " '106min',\n",
       " '107',\n",
       " '108',\n",
       " '109',\n",
       " '10am',\n",
       " '10lines',\n",
       " '10mil',\n",
       " '10min',\n",
       " '10minutes',\n",
       " '10p',\n",
       " '10pm',\n",
       " '10s',\n",
       " '10star',\n",
       " '10th',\n",
       " '10x',\n",
       " '10yr',\n",
       " '11',\n",
       " '110',\n",
       " '1100',\n",
       " '11001001',\n",
       " '1100ad',\n",
       " '111',\n",
       " '112',\n",
       " '1138',\n",
       " '114',\n",
       " '1146',\n",
       " '115',\n",
       " '116',\n",
       " '117',\n",
       " '11f',\n",
       " '11m',\n",
       " '11th',\n",
       " '12',\n",
       " '120',\n",
       " '1200',\n",
       " '1200f',\n",
       " '1201',\n",
       " '1202',\n",
       " '123',\n",
       " '12383499143743701',\n",
       " '125',\n",
       " '125m',\n",
       " '127',\n",
       " '128',\n",
       " '12a',\n",
       " '12hr',\n",
       " '12m',\n",
       " '12mm',\n",
       " '12s',\n",
       " '12th',\n",
       " '13',\n",
       " '130',\n",
       " '1300',\n",
       " '1300s',\n",
       " '131',\n",
       " '1318',\n",
       " '132',\n",
       " '134',\n",
       " '135',\n",
       " '135m',\n",
       " '136',\n",
       " '137',\n",
       " '138',\n",
       " '139',\n",
       " '13k',\n",
       " '13s',\n",
       " '13th',\n",
       " '14',\n",
       " '140',\n",
       " '1408',\n",
       " '140hp',\n",
       " '1415',\n",
       " '142',\n",
       " '145',\n",
       " '1454',\n",
       " '146',\n",
       " '147',\n",
       " '1473',\n",
       " '149',\n",
       " '1492',\n",
       " '14a',\n",
       " '14ieme',\n",
       " '14s',\n",
       " '14th',\n",
       " '14yr',\n",
       " '14ème',\n",
       " '15',\n",
       " '150',\n",
       " '1500',\n",
       " '1500s',\n",
       " '150_worst_cases_of_nepotism',\n",
       " '150k',\n",
       " '150m',\n",
       " '151',\n",
       " '152',\n",
       " '153',\n",
       " '1547',\n",
       " '155',\n",
       " '156',\n",
       " '1561',\n",
       " '157',\n",
       " '158',\n",
       " '1594',\n",
       " '15mins',\n",
       " '15minutes',\n",
       " '15s',\n",
       " '15th',\n",
       " '16',\n",
       " '160',\n",
       " '1600',\n",
       " '1600s',\n",
       " '160lbs',\n",
       " '161',\n",
       " '1610',\n",
       " '163',\n",
       " '164',\n",
       " '165',\n",
       " '166',\n",
       " '1660s',\n",
       " '168',\n",
       " '169',\n",
       " '1692',\n",
       " '16ieme',\n",
       " '16k',\n",
       " '16mm',\n",
       " '16s',\n",
       " '16th',\n",
       " '16x9',\n",
       " '16ème',\n",
       " '16éme',\n",
       " '17',\n",
       " '170',\n",
       " '1700',\n",
       " '1700s',\n",
       " '1701',\n",
       " '171',\n",
       " '175',\n",
       " '177',\n",
       " '1775',\n",
       " '1780s',\n",
       " '1790s',\n",
       " '1794',\n",
       " '1798',\n",
       " '17million',\n",
       " '17th',\n",
       " '18',\n",
       " '180',\n",
       " '1800',\n",
       " '1800mph',\n",
       " '1800s',\n",
       " '1801',\n",
       " '1805',\n",
       " '1809',\n",
       " '180d',\n",
       " '1812',\n",
       " '1813',\n",
       " '18137',\n",
       " '1814',\n",
       " '1816',\n",
       " '1820',\n",
       " '1824',\n",
       " '183',\n",
       " '1830',\n",
       " '1832',\n",
       " '1836',\n",
       " '1837',\n",
       " '1838',\n",
       " '1839',\n",
       " '1840',\n",
       " '1840s',\n",
       " '1844',\n",
       " '1846',\n",
       " '1847',\n",
       " '185',\n",
       " '1850',\n",
       " '1850ies',\n",
       " '1850s',\n",
       " '1852',\n",
       " '1853',\n",
       " '1854',\n",
       " '1855',\n",
       " '1859',\n",
       " '1860',\n",
       " '1860s',\n",
       " '1861',\n",
       " '1862',\n",
       " '1863',\n",
       " '1864',\n",
       " '1865',\n",
       " '1870',\n",
       " '1870s',\n",
       " '1871',\n",
       " '1873',\n",
       " '1874',\n",
       " '1875',\n",
       " '1876',\n",
       " '188',\n",
       " '1880',\n",
       " '1880s',\n",
       " '1881',\n",
       " '1886',\n",
       " '1887',\n",
       " '1888',\n",
       " '1889',\n",
       " '188o',\n",
       " '1890',\n",
       " '1890s',\n",
       " '1892',\n",
       " '1893',\n",
       " '1894',\n",
       " '1895',\n",
       " '1896',\n",
       " '1897',\n",
       " '1898',\n",
       " '1899',\n",
       " '18a',\n",
       " '18s',\n",
       " '18th',\n",
       " '18year',\n",
       " '19',\n",
       " '190',\n",
       " '1900',\n",
       " '1900s',\n",
       " '1901',\n",
       " '1902',\n",
       " '1903',\n",
       " '1904',\n",
       " '1905',\n",
       " '1906',\n",
       " '1907',\n",
       " '1908',\n",
       " '1909',\n",
       " '1910',\n",
       " '1910s',\n",
       " '1911',\n",
       " '1912',\n",
       " '1913',\n",
       " '1914',\n",
       " '1915',\n",
       " '1916',\n",
       " '1917',\n",
       " '1918',\n",
       " '1919',\n",
       " '192',\n",
       " '1920',\n",
       " '1920ies',\n",
       " '1920s',\n",
       " '1921',\n",
       " '1922',\n",
       " '1923',\n",
       " '1924',\n",
       " '1925',\n",
       " '1926',\n",
       " '1927',\n",
       " '1928',\n",
       " '1929',\n",
       " '1930',\n",
       " '1930ies',\n",
       " '1930s',\n",
       " '1931',\n",
       " '1932',\n",
       " '1933',\n",
       " '1934',\n",
       " '1935',\n",
       " '1936',\n",
       " '1937',\n",
       " '1938',\n",
       " '1939',\n",
       " '193o',\n",
       " '194',\n",
       " '1940',\n",
       " '1940s',\n",
       " '1941',\n",
       " '1942',\n",
       " '1943',\n",
       " '1944',\n",
       " '1945',\n",
       " '1946',\n",
       " '1947',\n",
       " '1948',\n",
       " '1949',\n",
       " '1949er',\n",
       " '195',\n",
       " '1950',\n",
       " '1950s',\n",
       " '1951',\n",
       " '1952',\n",
       " '1953',\n",
       " '1954',\n",
       " '1955',\n",
       " '1956',\n",
       " '1957',\n",
       " '1958',\n",
       " '1959',\n",
       " '1960',\n",
       " '1960s',\n",
       " '1961',\n",
       " '1961s',\n",
       " '1962',\n",
       " '1963',\n",
       " '1964',\n",
       " '1965',\n",
       " '1966',\n",
       " '1967',\n",
       " '1968',\n",
       " '1969',\n",
       " '197',\n",
       " '1970',\n",
       " '1970ies',\n",
       " '1970s',\n",
       " '1971',\n",
       " '1972',\n",
       " '1973',\n",
       " '1974',\n",
       " '1975',\n",
       " '1976',\n",
       " '1977',\n",
       " '1978',\n",
       " '1979',\n",
       " '19796',\n",
       " '197o',\n",
       " '1980',\n",
       " '1980ies',\n",
       " '1980s',\n",
       " '1981',\n",
       " '1982',\n",
       " '1982s',\n",
       " '1983',\n",
       " '1983s',\n",
       " '1984',\n",
       " '1984ish',\n",
       " '1985',\n",
       " '1986',\n",
       " '1987',\n",
       " '1988',\n",
       " '1989',\n",
       " '1990',\n",
       " '1990s',\n",
       " '1991',\n",
       " '1992',\n",
       " '1993',\n",
       " '1994',\n",
       " '1995',\n",
       " '1996',\n",
       " '1997',\n",
       " '1998',\n",
       " '1999',\n",
       " '19k',\n",
       " '19th',\n",
       " '19thc',\n",
       " '1am',\n",
       " '1and',\n",
       " '1d',\n",
       " '1h',\n",
       " '1h30',\n",
       " '1h40',\n",
       " '1h40m',\n",
       " '1h53',\n",
       " '1hour',\n",
       " '1hr',\n",
       " '1million',\n",
       " '1min',\n",
       " '1mln',\n",
       " '1o',\n",
       " '1s',\n",
       " '1st',\n",
       " '1ton',\n",
       " '1tv',\n",
       " '1½',\n",
       " '1ç',\n",
       " '20',\n",
       " '200',\n",
       " '2000',\n",
       " '20000',\n",
       " '20001',\n",
       " '2000ad',\n",
       " '2000s',\n",
       " '2001',\n",
       " '2002',\n",
       " '2003',\n",
       " '2004',\n",
       " '2004s',\n",
       " '2005',\n",
       " '2006',\n",
       " '2007',\n",
       " '2008',\n",
       " '2009',\n",
       " '200ft',\n",
       " '200th',\n",
       " '201',\n",
       " '2010',\n",
       " '2012',\n",
       " '2013',\n",
       " '2015',\n",
       " '2017',\n",
       " '2019',\n",
       " '2020',\n",
       " '2022',\n",
       " '2023',\n",
       " '2030',\n",
       " '2031',\n",
       " '2033',\n",
       " '2035',\n",
       " '2036',\n",
       " '2038',\n",
       " '204',\n",
       " '2040',\n",
       " '2044',\n",
       " '2046',\n",
       " '2047',\n",
       " '2050',\n",
       " '2053',\n",
       " '2054',\n",
       " '206',\n",
       " '2060',\n",
       " '2070',\n",
       " '2080',\n",
       " '209',\n",
       " '2090',\n",
       " '20c',\n",
       " '20ft',\n",
       " '20k',\n",
       " '20m',\n",
       " '20mins',\n",
       " '20minutes',\n",
       " '20mn',\n",
       " '20p',\n",
       " '20perr',\n",
       " '20s',\n",
       " '20th',\n",
       " '20ties',\n",
       " '20widow',\n",
       " '20x',\n",
       " '20year',\n",
       " '20yrs',\n",
       " '21',\n",
       " '210',\n",
       " '2100',\n",
       " '214',\n",
       " '215',\n",
       " '2151',\n",
       " '216',\n",
       " '21699',\n",
       " '21849889',\n",
       " '21849890',\n",
       " '21849907',\n",
       " '21st',\n",
       " '22',\n",
       " '220',\n",
       " '2200',\n",
       " '221',\n",
       " '2210',\n",
       " '22101',\n",
       " '222',\n",
       " '223',\n",
       " '225',\n",
       " '2257',\n",
       " '225mins',\n",
       " '227',\n",
       " '22d',\n",
       " '22h45',\n",
       " '22nd',\n",
       " '23',\n",
       " '230lbs',\n",
       " '230mph',\n",
       " '231',\n",
       " '232',\n",
       " '233',\n",
       " '236',\n",
       " '237',\n",
       " '23d',\n",
       " '23rd',\n",
       " '24',\n",
       " '240',\n",
       " '2400',\n",
       " '241',\n",
       " '242',\n",
       " '248',\n",
       " '2480',\n",
       " '249',\n",
       " '24m30s',\n",
       " '24th',\n",
       " '24years',\n",
       " '25',\n",
       " '250',\n",
       " '2500',\n",
       " '250000',\n",
       " '25million',\n",
       " '25mins',\n",
       " '25s',\n",
       " '25th',\n",
       " '25yo',\n",
       " '25yrs',\n",
       " '26',\n",
       " '260',\n",
       " '2600',\n",
       " '261k',\n",
       " '262',\n",
       " '2642',\n",
       " '269',\n",
       " '26th',\n",
       " '27',\n",
       " '270',\n",
       " '272',\n",
       " '273',\n",
       " '274',\n",
       " '275',\n",
       " '2772',\n",
       " '278',\n",
       " '27th',\n",
       " '27x41',\n",
       " '28',\n",
       " '280',\n",
       " '285',\n",
       " '28th',\n",
       " '29',\n",
       " '29th',\n",
       " '2am',\n",
       " '2d',\n",
       " '2fast',\n",
       " '2furious',\n",
       " '2h',\n",
       " '2h30',\n",
       " '2hour',\n",
       " '2hours',\n",
       " '2hr',\n",
       " '2hrs',\n",
       " '2in',\n",
       " '2inch',\n",
       " '2k',\n",
       " '2more',\n",
       " '2nd',\n",
       " '2oo4',\n",
       " '2oo5',\n",
       " '2pac',\n",
       " '2point4',\n",
       " '2s',\n",
       " '2x4',\n",
       " '30',\n",
       " '300',\n",
       " '3000',\n",
       " '300ad',\n",
       " '300c',\n",
       " '300lbs',\n",
       " '300mln',\n",
       " '3012',\n",
       " '303',\n",
       " '305',\n",
       " '30am',\n",
       " '30ish',\n",
       " '30k',\n",
       " '30lbs',\n",
       " '30min',\n",
       " '30mins',\n",
       " '30pm',\n",
       " '30s',\n",
       " '30something',\n",
       " '30th',\n",
       " '30ties',\n",
       " '31',\n",
       " '3199',\n",
       " '31st',\n",
       " '32',\n",
       " '3200',\n",
       " '320x180',\n",
       " '32lb',\n",
       " '32nd',\n",
       " '33',\n",
       " '330am',\n",
       " '330mins',\n",
       " '332960073452',\n",
       " '336th',\n",
       " '33m',\n",
       " '34',\n",
       " '345',\n",
       " '3462',\n",
       " '34th',\n",
       " '35',\n",
       " '350',\n",
       " '3500',\n",
       " '3516',\n",
       " '356',\n",
       " '357',\n",
       " '35c',\n",
       " '35mins',\n",
       " '35mm',\n",
       " '35pm',\n",
       " '35th',\n",
       " '35yr',\n",
       " '36',\n",
       " '360',\n",
       " '365',\n",
       " '36th',\n",
       " '37',\n",
       " '370',\n",
       " '372',\n",
       " '378',\n",
       " '38',\n",
       " '38k',\n",
       " '38th',\n",
       " '39',\n",
       " '395',\n",
       " '39th',\n",
       " '3am',\n",
       " '3bs',\n",
       " '3d',\n",
       " '3dvd',\n",
       " '3k',\n",
       " '3lbs',\n",
       " '3m',\n",
       " '3mins',\n",
       " '3p',\n",
       " '3p0',\n",
       " '3pm',\n",
       " '3po',\n",
       " '3rd',\n",
       " '3rds',\n",
       " '3th',\n",
       " '3who',\n",
       " '3x5',\n",
       " '3yrs',\n",
       " '40',\n",
       " '400',\n",
       " '4000',\n",
       " '401k',\n",
       " '405',\n",
       " '409',\n",
       " '40am',\n",
       " '40min',\n",
       " '40mins',\n",
       " '40mph',\n",
       " '40s',\n",
       " '40th',\n",
       " '41',\n",
       " '42',\n",
       " '420',\n",
       " '425',\n",
       " '428',\n",
       " '42nd',\n",
       " '43',\n",
       " '430',\n",
       " '44',\n",
       " '440',\n",
       " '442nd',\n",
       " '44c',\n",
       " '44yrs',\n",
       " '45',\n",
       " '450',\n",
       " '4500',\n",
       " '451',\n",
       " '454',\n",
       " '45am',\n",
       " '45min',\n",
       " '45mins',\n",
       " '45s',\n",
       " '46',\n",
       " '465',\n",
       " '469',\n",
       " '47',\n",
       " '475',\n",
       " '477',\n",
       " '47s',\n",
       " '48',\n",
       " '480m',\n",
       " '480p',\n",
       " '48hrs',\n",
       " '49',\n",
       " '498',\n",
       " '49th',\n",
       " '4am',\n",
       " '4cylinder',\n",
       " '4d',\n",
       " '4eva',\n",
       " '4ever',\n",
       " '4f',\n",
       " '4h',\n",
       " '4hrs',\n",
       " '4k',\n",
       " '4kids',\n",
       " '4m',\n",
       " '4o',\n",
       " '4pm',\n",
       " '4th',\n",
       " '4w',\n",
       " '4ward',\n",
       " '4x',\n",
       " '4x4',\n",
       " '50',\n",
       " '500',\n",
       " '5000',\n",
       " '500000',\n",
       " '500ad',\n",
       " '500db',\n",
       " '500lbs',\n",
       " '502',\n",
       " '50c',\n",
       " '50ft',\n",
       " '50ies',\n",
       " '50ish',\n",
       " '50k',\n",
       " '50min',\n",
       " '50mins',\n",
       " '50s',\n",
       " '50th',\n",
       " '50usd',\n",
       " '51',\n",
       " '51b',\n",
       " '51st',\n",
       " '52',\n",
       " '5200',\n",
       " '5250',\n",
       " '529',\n",
       " '52s',\n",
       " '53',\n",
       " '53m',\n",
       " '54',\n",
       " '5400',\n",
       " '540i',\n",
       " '54th',\n",
       " '55',\n",
       " '5539',\n",
       " '555',\n",
       " '55th',\n",
       " '56',\n",
       " '57',\n",
       " '571',\n",
       " '576',\n",
       " '578',\n",
       " '57d',\n",
       " '58',\n",
       " '58th',\n",
       " '59',\n",
       " '598947',\n",
       " '59th',\n",
       " '5hrs',\n",
       " '5ive',\n",
       " '5kph',\n",
       " '5million',\n",
       " '5min',\n",
       " '5mins',\n",
       " '5s',\n",
       " '5seconds',\n",
       " '5th',\n",
       " '5x',\n",
       " '5x5',\n",
       " '5years',\n",
       " '5yo',\n",
       " '5yrs',\n",
       " '60',\n",
       " '600',\n",
       " '6000',\n",
       " '607',\n",
       " '608',\n",
       " '60ies',\n",
       " '60ish',\n",
       " '60mph',\n",
       " '60s',\n",
       " '60th',\n",
       " '60ties',\n",
       " '61',\n",
       " '618',\n",
       " '62',\n",
       " '6200',\n",
       " '62229249',\n",
       " '63',\n",
       " '637',\n",
       " '63rd',\n",
       " '64',\n",
       " '65',\n",
       " '65m',\n",
       " '66',\n",
       " '660',\n",
       " '666',\n",
       " '66er',\n",
       " '67',\n",
       " '6723',\n",
       " '67th',\n",
       " '68',\n",
       " '68th',\n",
       " '69',\n",
       " '69th',\n",
       " '6am',\n",
       " '6b',\n",
       " '6ft',\n",
       " '6hours',\n",
       " '6k',\n",
       " '6million',\n",
       " '6pm',\n",
       " '6th',\n",
       " '6wks',\n",
       " '6yo',\n",
       " '70',\n",
       " '700',\n",
       " '701',\n",
       " '707',\n",
       " '70ies',\n",
       " '70m',\n",
       " '70mm',\n",
       " '70s',\n",
       " '70th',\n",
       " '71',\n",
       " '713',\n",
       " '72',\n",
       " '72nd',\n",
       " '73',\n",
       " '7300',\n",
       " '735',\n",
       " '737',\n",
       " '74',\n",
       " '740',\n",
       " '740il',\n",
       " '747',\n",
       " '747s',\n",
       " '74th',\n",
       " '75',\n",
       " '750',\n",
       " '75054',\n",
       " '75c',\n",
       " '75m',\n",
       " '76',\n",
       " '7600',\n",
       " '77',\n",
       " '78',\n",
       " '788',\n",
       " '78rpm',\n",
       " '79',\n",
       " '79th',\n",
       " '7days',\n",
       " '7even',\n",
       " '7eventy',\n",
       " '7ft',\n",
       " '7ish',\n",
       " '7mm',\n",
       " '7th',\n",
       " '7½th',\n",
       " '80',\n",
       " '800',\n",
       " '8000',\n",
       " '80ies',\n",
       " '80ish',\n",
       " '80min',\n",
       " '80s',\n",
       " '80yr',\n",
       " '81',\n",
       " '817',\n",
       " '819',\n",
       " '82',\n",
       " '820',\n",
       " '8217',\n",
       " '8230',\n",
       " '83',\n",
       " '84',\n",
       " '849',\n",
       " '84f',\n",
       " '84s',\n",
       " '85',\n",
       " '850',\n",
       " '850pm',\n",
       " '86',\n",
       " '86s',\n",
       " '87',\n",
       " '8700',\n",
       " '8763',\n",
       " '878',\n",
       " '87minutes',\n",
       " '88',\n",
       " '88min',\n",
       " '89',\n",
       " '89or',\n",
       " '89s',\n",
       " '8bit',\n",
       " '8ftdf',\n",
       " '8k',\n",
       " '8mm',\n",
       " '8o',\n",
       " '8p',\n",
       " '8pm',\n",
       " '8star',\n",
       " '8th',\n",
       " '8u',\n",
       " '8½',\n",
       " '90',\n",
       " '900',\n",
       " '9000',\n",
       " '90210',\n",
       " '905',\n",
       " '90c',\n",
       " '90ish',\n",
       " '90min',\n",
       " '90mins',\n",
       " '90s',\n",
       " '91',\n",
       " '911',\n",
       " '914',\n",
       " '917',\n",
       " '92',\n",
       " '921',\n",
       " '92fs',\n",
       " '92nd',\n",
       " '93',\n",
       " '937',\n",
       " '94',\n",
       " '9484',\n",
       " '94s',\n",
       " '94th',\n",
       " '95',\n",
       " '950',\n",
       " '95th',\n",
       " '96',\n",
       " '97',\n",
       " '970',\n",
       " '974th',\n",
       " '978',\n",
       " '98',\n",
       " '987',\n",
       " '98minutes',\n",
       " '99',\n",
       " '998',\n",
       " '999',\n",
       " '9999',\n",
       " '99cents',\n",
       " '99p',\n",
       " '99½',\n",
       " '9_',\n",
       " '9am',\n",
       " '9as',\n",
       " '9do',\n",
       " '9ers',\n",
       " '9is',\n",
       " '9lbs',\n",
       " '9mm',\n",
       " ...]"
      ]
     },
     "execution_count": 63,
     "metadata": {},
     "output_type": "execute_result"
    }
   ],
   "source": [
    "feature_names = vect.get_feature_names()\n",
    "feature_names"
   ]
  },
  {
   "cell_type": "code",
   "execution_count": 64,
   "id": "63248f9d",
   "metadata": {},
   "outputs": [
    {
     "data": {
      "text/plain": [
       "74849"
      ]
     },
     "execution_count": 64,
     "metadata": {},
     "output_type": "execute_result"
    }
   ],
   "source": [
    "len(feature_names)"
   ]
  },
  {
   "cell_type": "code",
   "execution_count": 66,
   "id": "8506053b",
   "metadata": {},
   "outputs": [
    {
     "data": {
      "text/plain": [
       "['00',\n",
       " '000',\n",
       " '0000000000001',\n",
       " '00001',\n",
       " '00015',\n",
       " '000s',\n",
       " '001',\n",
       " '003830',\n",
       " '006',\n",
       " '007']"
      ]
     },
     "execution_count": 66,
     "metadata": {},
     "output_type": "execute_result"
    }
   ],
   "source": [
    "feature_names[:10]"
   ]
  },
  {
   "cell_type": "markdown",
   "id": "2f04421e",
   "metadata": {},
   "source": [
    "앞쪽에는 의미없는 단어가 될 확률이 높음"
   ]
  },
  {
   "cell_type": "code",
   "execution_count": 69,
   "id": "4772549f",
   "metadata": {},
   "outputs": [
    {
     "data": {
      "text/plain": [
       "['draper',\n",
       " 'draperies',\n",
       " 'drapery',\n",
       " 'drapes',\n",
       " 'draskovic',\n",
       " 'drastic',\n",
       " 'drastically',\n",
       " 'drat',\n",
       " 'dratch',\n",
       " 'dratic']"
      ]
     },
     "execution_count": 69,
     "metadata": {},
     "output_type": "execute_result"
    }
   ],
   "source": [
    "feature_names[20000:20010]"
   ]
  },
  {
   "cell_type": "markdown",
   "id": "5e2894a5",
   "metadata": {},
   "source": [
    "중간에는 의미있는 단어들의 러닝"
   ]
  },
  {
   "cell_type": "code",
   "execution_count": 70,
   "id": "3ebfb3c9",
   "metadata": {},
   "outputs": [],
   "source": [
    "from sklearn.model_selection import cross_val_score\n",
    "from sklearn.linear_model import LogisticRegression"
   ]
  },
  {
   "cell_type": "code",
   "execution_count": 71,
   "id": "ed6b7836",
   "metadata": {},
   "outputs": [],
   "source": [
    "scores = cross_val_score(LogisticRegression(max_iter=1000), X_train, y_train, cv=5 )"
   ]
  },
  {
   "cell_type": "code",
   "execution_count": 72,
   "id": "8b1d44b6",
   "metadata": {},
   "outputs": [
    {
     "data": {
      "text/plain": [
       "array([0.8812, 0.8768, 0.8814, 0.889 , 0.8794])"
      ]
     },
     "execution_count": 72,
     "metadata": {},
     "output_type": "execute_result"
    }
   ],
   "source": [
    "scores"
   ]
  },
  {
   "cell_type": "code",
   "execution_count": 77,
   "id": "00faebe9",
   "metadata": {},
   "outputs": [],
   "source": [
    "X_test = vect.transform(text_test)"
   ]
  },
  {
   "cell_type": "code",
   "execution_count": 78,
   "id": "2d0bcf43",
   "metadata": {},
   "outputs": [],
   "source": [
    "lr = LogisticRegression(max_iter=1000).fit(X_train, y_train)\n",
    "y_pred = lr.predict(X_test[0])"
   ]
  },
  {
   "cell_type": "code",
   "execution_count": 79,
   "id": "878e9e18",
   "metadata": {},
   "outputs": [
    {
     "data": {
      "text/plain": [
       "(1,)"
      ]
     },
     "execution_count": 79,
     "metadata": {},
     "output_type": "execute_result"
    }
   ],
   "source": [
    "y_pred.shape"
   ]
  },
  {
   "cell_type": "code",
   "execution_count": 80,
   "id": "461250a2",
   "metadata": {},
   "outputs": [
    {
     "data": {
      "text/plain": [
       "1"
      ]
     },
     "execution_count": 80,
     "metadata": {},
     "output_type": "execute_result"
    }
   ],
   "source": [
    "y_test[0]"
   ]
  },
  {
   "cell_type": "code",
   "execution_count": 81,
   "id": "573d6d71",
   "metadata": {},
   "outputs": [
    {
     "data": {
      "text/plain": [
       "b\"Don't hate Heather Graham because she's beautiful, hate her because she's fun to watch in this movie. Like the hip clothing and funky surroundings, the actors in this flick work well together. Casey Affleck is hysterical and Heather Graham literally lights up the screen. The minor characters - Goran Visnjic {sigh} and Patricia Velazquez are as TALENTED as they are gorgeous. Congratulations Miramax & Director Lisa Krueger!\""
      ]
     },
     "execution_count": 81,
     "metadata": {},
     "output_type": "execute_result"
    }
   ],
   "source": [
    "text_test[0]"
   ]
  },
  {
   "cell_type": "code",
   "execution_count": 82,
   "id": "7b232a4d",
   "metadata": {},
   "outputs": [
    {
     "data": {
      "text/plain": [
       "1"
      ]
     },
     "execution_count": 82,
     "metadata": {},
     "output_type": "execute_result"
    }
   ],
   "source": [
    "y_test[20000]"
   ]
  },
  {
   "cell_type": "code",
   "execution_count": 83,
   "id": "91fb59ca",
   "metadata": {},
   "outputs": [
    {
     "data": {
      "text/plain": [
       "b'Do the writers that conjure up these type of \"comedies\" have such empty lives that they have to embody them in tragic shows like this?.<br /><br />Why the talented and gorgeous Busy Phillips is amongst this trash is beyond me,I cannot stand the Hispanic girl whose accent sounds very fake and is so unfunny and annoying as is the other African-American girl with the shrill voice.<br /><br />The jokes are often stupid, the Jewish guy yells a lot and the show never goes anywhere, one particular episode with the solider looking for love was just terrible.<br /><br />I don\\'t believe there would be that many working in a looking for love office and only one man? Of course all of the Woman are in tight fitting tops and tons of make up to make up for their lack of talent.<br /><br />I actually found Holly funny in her older shows and I have always admired Busy but this show is dumb, empty and had nothing going for it.'"
      ]
     },
     "execution_count": 83,
     "metadata": {},
     "output_type": "execute_result"
    }
   ],
   "source": [
    "text_test[15500]"
   ]
  },
  {
   "cell_type": "code",
   "execution_count": null,
   "id": "fc6ec1a4",
   "metadata": {},
   "outputs": [],
   "source": []
  }
 ],
 "metadata": {
  "kernelspec": {
   "display_name": "Python 3",
   "language": "python",
   "name": "python3"
  },
  "language_info": {
   "codemirror_mode": {
    "name": "ipython",
    "version": 3
   },
   "file_extension": ".py",
   "mimetype": "text/x-python",
   "name": "python",
   "nbconvert_exporter": "python",
   "pygments_lexer": "ipython3",
   "version": "3.8.8"
  }
 },
 "nbformat": 4,
 "nbformat_minor": 5
}
