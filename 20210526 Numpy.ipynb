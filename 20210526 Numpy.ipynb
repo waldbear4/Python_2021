{
 "cells": [
  {
   "cell_type": "code",
   "execution_count": 7,
   "id": "e8569abf",
   "metadata": {},
   "outputs": [
    {
     "name": "stdout",
     "output_type": "stream",
     "text": [
      "Wall time: 16 ms\n"
     ]
    }
   ],
   "source": [
    "import numpy as np\n",
    "my_arr = np.arange(1000000)     #numpy style\n",
    "my_list = list (range(1000000)) #python style\n",
    "%time for i in range(10): my_arr2=my_arr*2   #10번 반복"
   ]
  },
  {
   "cell_type": "code",
   "execution_count": 8,
   "id": "7f123749",
   "metadata": {},
   "outputs": [
    {
     "name": "stdout",
     "output_type": "stream",
     "text": [
      "Wall time: 945 ms\n"
     ]
    }
   ],
   "source": [
    "# 일반 파이썬에선 리스트를 그저 두 번 반복할 뿐 그래서\n",
    "%time for i in range(10): my_list=[x *2 for x in my_list]"
   ]
  },
  {
   "cell_type": "code",
   "execution_count": null,
   "id": "36a26716",
   "metadata": {},
   "outputs": [],
   "source": [
    "#위를 보면 속도 차이가 엄청남"
   ]
  },
  {
   "cell_type": "code",
   "execution_count": 10,
   "id": "978b5627",
   "metadata": {},
   "outputs": [
    {
     "data": {
      "text/plain": [
       "array([[ 0.44130455,  0.55588768,  0.36732688],\n",
       "       [ 0.80889093, -0.52371395, -0.47283145]])"
      ]
     },
     "execution_count": 10,
     "metadata": {},
     "output_type": "execute_result"
    }
   ],
   "source": [
    "data = np.random.randn(2, 3) # 랜덤수로 채워서 2행3열의 데이터를 만들어라\n",
    "data"
   ]
  },
  {
   "cell_type": "code",
   "execution_count": 11,
   "id": "173fa975",
   "metadata": {},
   "outputs": [
    {
     "data": {
      "text/plain": [
       "array([[ 4.41304547,  5.55887683,  3.67326881],\n",
       "       [ 8.08890929, -5.23713946, -4.72831448]])"
      ]
     },
     "execution_count": 11,
     "metadata": {},
     "output_type": "execute_result"
    }
   ],
   "source": [
    "data * 10"
   ]
  },
  {
   "cell_type": "code",
   "execution_count": 12,
   "id": "face4691",
   "metadata": {},
   "outputs": [
    {
     "data": {
      "text/plain": [
       "array([[ 0.88260909,  1.11177537,  0.73465376],\n",
       "       [ 1.61778186, -1.04742789, -0.9456629 ]])"
      ]
     },
     "execution_count": 12,
     "metadata": {},
     "output_type": "execute_result"
    }
   ],
   "source": [
    "data + data"
   ]
  },
  {
   "cell_type": "code",
   "execution_count": 14,
   "id": "56b08f32",
   "metadata": {},
   "outputs": [
    {
     "data": {
      "text/plain": [
       "array([[ 0.44130455,  0.55588768,  0.36732688],\n",
       "       [ 0.80889093, -0.52371395, -0.47283145]])"
      ]
     },
     "execution_count": 14,
     "metadata": {},
     "output_type": "execute_result"
    }
   ],
   "source": [
    "data*2 - data"
   ]
  },
  {
   "cell_type": "code",
   "execution_count": 15,
   "id": "7ea0af5a",
   "metadata": {},
   "outputs": [
    {
     "data": {
      "text/plain": [
       "(2, 3)"
      ]
     },
     "execution_count": 15,
     "metadata": {},
     "output_type": "execute_result"
    }
   ],
   "source": [
    "data.shape # 행렬계산을 하려면 먼저 \"전치\" 유무를 알기위해 확인할 것"
   ]
  }
 ],
 "metadata": {
  "kernelspec": {
   "display_name": "Python 3",
   "language": "python",
   "name": "python3"
  },
  "language_info": {
   "codemirror_mode": {
    "name": "ipython",
    "version": 3
   },
   "file_extension": ".py",
   "mimetype": "text/x-python",
   "name": "python",
   "nbconvert_exporter": "python",
   "pygments_lexer": "ipython3",
   "version": "3.8.8"
  }
 },
 "nbformat": 4,
 "nbformat_minor": 5
}
