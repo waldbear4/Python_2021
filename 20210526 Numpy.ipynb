{
 "cells": [
  {
   "cell_type": "code",
   "execution_count": 7,
   "id": "8cf415a3",
   "metadata": {},
   "outputs": [
    {
     "name": "stdout",
     "output_type": "stream",
     "text": [
      "Wall time: 16 ms\n"
     ]
    }
   ],
   "source": [
    "import numpy as np\n",
    "my_arr = np.arange(1000000)     #numpy style\n",
    "my_list = list (range(1000000)) #python style\n",
    "%time for i in range(10): my_arr2=my_arr*2   #10번 반복"
   ]
  },
  {
   "cell_type": "code",
   "execution_count": 8,
   "id": "9374d624",
   "metadata": {},
   "outputs": [
    {
     "name": "stdout",
     "output_type": "stream",
     "text": [
      "Wall time: 945 ms\n"
     ]
    }
   ],
   "source": [
    "# 일반 파이썬에선 리스트를 그저 두 번 반복할 뿐 그래서\n",
    "%time for i in range(10): my_list=[x *2 for x in my_list]"
   ]
  },
  {
   "cell_type": "code",
   "execution_count": null,
   "id": "7d939885",
   "metadata": {},
   "outputs": [],
   "source": [
    "#위를 보면 속도 차이가 엄청남"
   ]
  },
  {
   "cell_type": "code",
   "execution_count": 10,
   "id": "1353d410",
   "metadata": {},
   "outputs": [
    {
     "data": {
      "text/plain": [
       "array([[ 0.44130455,  0.55588768,  0.36732688],\n",
       "       [ 0.80889093, -0.52371395, -0.47283145]])"
      ]
     },
     "execution_count": 10,
     "metadata": {},
     "output_type": "execute_result"
    }
   ],
   "source": [
    "data = np.random.randn(2, 3) # 랜덤수로 채워서 2행3열의 데이터를 만들어라\n",
    "data"
   ]
  },
  {
   "cell_type": "code",
   "execution_count": 11,
   "id": "cc44b78a",
   "metadata": {},
   "outputs": [
    {
     "data": {
      "text/plain": [
       "array([[ 4.41304547,  5.55887683,  3.67326881],\n",
       "       [ 8.08890929, -5.23713946, -4.72831448]])"
      ]
     },
     "execution_count": 11,
     "metadata": {},
     "output_type": "execute_result"
    }
   ],
   "source": [
    "data * 10"
   ]
  },
  {
   "cell_type": "code",
   "execution_count": 12,
   "id": "d1702055",
   "metadata": {},
   "outputs": [
    {
     "data": {
      "text/plain": [
       "array([[ 0.88260909,  1.11177537,  0.73465376],\n",
       "       [ 1.61778186, -1.04742789, -0.9456629 ]])"
      ]
     },
     "execution_count": 12,
     "metadata": {},
     "output_type": "execute_result"
    }
   ],
   "source": [
    "data + data"
   ]
  },
  {
   "cell_type": "code",
   "execution_count": 14,
   "id": "ba8d982f",
   "metadata": {},
   "outputs": [
    {
     "data": {
      "text/plain": [
       "array([[ 0.44130455,  0.55588768,  0.36732688],\n",
       "       [ 0.80889093, -0.52371395, -0.47283145]])"
      ]
     },
     "execution_count": 14,
     "metadata": {},
     "output_type": "execute_result"
    }
   ],
   "source": [
    "data*2 - data"
   ]
  },
  {
   "cell_type": "code",
   "execution_count": 15,
   "id": "2a5a91dd",
   "metadata": {},
   "outputs": [
    {
     "data": {
      "text/plain": [
       "(2, 3)"
      ]
     },
     "execution_count": 15,
     "metadata": {},
     "output_type": "execute_result"
    }
   ],
   "source": [
    "data.shape # 행렬계산을 하려면 먼저 \"전치\" 유무를 알기위해 확인할 것"
   ]
  },
  {
   "cell_type": "code",
   "execution_count": 18,
   "id": "2be4017a",
   "metadata": {},
   "outputs": [
    {
     "data": {
      "text/plain": [
       "array([6. , 7.5, 8. , 0. , 1. ])"
      ]
     },
     "execution_count": 18,
     "metadata": {},
     "output_type": "execute_result"
    }
   ],
   "source": [
    "data = [6, 7.5, 8, 0, 1]\n",
    "arr = np.array(data)\n",
    "arr"
   ]
  },
  {
   "cell_type": "code",
   "execution_count": 21,
   "id": "40b22f54",
   "metadata": {},
   "outputs": [
    {
     "data": {
      "text/plain": [
       "[[1, 2, 3, 4], [5, 6, 7, 8]]"
      ]
     },
     "execution_count": 21,
     "metadata": {},
     "output_type": "execute_result"
    }
   ],
   "source": [
    "data2d = [[1,2,3,4], [5,6,7,8]]\n",
    "data2d"
   ]
  },
  {
   "cell_type": "code",
   "execution_count": 24,
   "id": "dbeb96f6",
   "metadata": {},
   "outputs": [],
   "source": [
    "arr2d = np.array(data2d) #어레이로 변환"
   ]
  },
  {
   "cell_type": "code",
   "execution_count": 25,
   "id": "d415c5f1",
   "metadata": {},
   "outputs": [
    {
     "data": {
      "text/plain": [
       "2"
      ]
     },
     "execution_count": 25,
     "metadata": {},
     "output_type": "execute_result"
    }
   ],
   "source": [
    "arr2d.ndim #2차원 확인"
   ]
  },
  {
   "cell_type": "code",
   "execution_count": 26,
   "id": "60c90589",
   "metadata": {},
   "outputs": [
    {
     "data": {
      "text/plain": [
       "(2, 4)"
      ]
     },
     "execution_count": 26,
     "metadata": {},
     "output_type": "execute_result"
    }
   ],
   "source": [
    "arr2d.shape #2행 4열 확인"
   ]
  },
  {
   "cell_type": "code",
   "execution_count": 27,
   "id": "9abf38a9",
   "metadata": {},
   "outputs": [
    {
     "data": {
      "text/plain": [
       "array([0., 0., 0., 0., 0., 0., 0., 0., 0., 0.])"
      ]
     },
     "execution_count": 27,
     "metadata": {},
     "output_type": "execute_result"
    }
   ],
   "source": [
    "np.zeros(10)"
   ]
  },
  {
   "cell_type": "code",
   "execution_count": 28,
   "id": "cc160630",
   "metadata": {},
   "outputs": [
    {
     "data": {
      "text/plain": [
       "array([[0., 0., 0., 0., 0., 0.],\n",
       "       [0., 0., 0., 0., 0., 0.],\n",
       "       [0., 0., 0., 0., 0., 0.]])"
      ]
     },
     "execution_count": 28,
     "metadata": {},
     "output_type": "execute_result"
    }
   ],
   "source": [
    "np.zeros((3, 6)) # Error"
   ]
  },
  {
   "cell_type": "code",
   "execution_count": 30,
   "id": "2c70d4f8",
   "metadata": {},
   "outputs": [
    {
     "data": {
      "text/plain": [
       "dtype('float64')"
      ]
     },
     "execution_count": 30,
     "metadata": {},
     "output_type": "execute_result"
    }
   ],
   "source": [
    "np.zeros((2,3,2)).dtype # 정수의 계산이 빠르지만 그것은 CPU 전용 GPU계산은 실수계산"
   ]
  },
  {
   "cell_type": "code",
   "execution_count": 33,
   "id": "126a7526",
   "metadata": {},
   "outputs": [
    {
     "data": {
      "text/plain": [
       "dtype('int32')"
      ]
     },
     "execution_count": 33,
     "metadata": {},
     "output_type": "execute_result"
    }
   ],
   "source": [
    "arr = np.zeros((2, 3, 2), dtype=np.int32)\n",
    "arr.dtype"
   ]
  },
  {
   "cell_type": "code",
   "execution_count": 37,
   "id": "6f26131b",
   "metadata": {},
   "outputs": [
    {
     "data": {
      "text/plain": [
       "array([[1., 1., 1.],\n",
       "       [1., 1., 1.]])"
      ]
     },
     "execution_count": 37,
     "metadata": {},
     "output_type": "execute_result"
    }
   ],
   "source": [
    "arr1 = np.zeros((2, 3,))\n",
    "arr2 = np.ones_like(arr1) # 이런거랑 비슷한걸 만들어라\n",
    "arr2.shape\n",
    "arr2"
   ]
  }
 ],
 "metadata": {
  "kernelspec": {
   "display_name": "Python 3",
   "language": "python",
   "name": "python3"
  },
  "language_info": {
   "codemirror_mode": {
    "name": "ipython",
    "version": 3
   },
   "file_extension": ".py",
   "mimetype": "text/x-python",
   "name": "python",
   "nbconvert_exporter": "python",
   "pygments_lexer": "ipython3",
   "version": "3.8.8"
  }
 },
 "nbformat": 4,
 "nbformat_minor": 5
}
