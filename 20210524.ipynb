{
 "cells": [
  {
   "cell_type": "code",
   "execution_count": 8,
   "id": "dec32f5e",
   "metadata": {},
   "outputs": [
    {
     "name": "stdout",
     "output_type": "stream",
     "text": [
      "Nimmt mal TAXI\n"
     ]
    }
   ],
   "source": [
    "money = True\n",
    "if money :\n",
    "    print(\"Nimmt mal TAXI\")\n",
    "else :\n",
    "    print(\"zu Fuss\")"
   ]
  },
  {
   "cell_type": "code",
   "execution_count": 10,
   "id": "c7ccc524",
   "metadata": {
    "scrolled": true
   },
   "outputs": [
    {
     "name": "stdout",
     "output_type": "stream",
     "text": [
      "oder zu Fuss\n"
     ]
    }
   ],
   "source": [
    "pocket = ['paper', 'cellphoen']\n",
    "card = False\n",
    "if 'money' in pocket:\n",
    "    print(\"Nimmt mal TAXI\")\n",
    "elif card:\n",
    "    print(\"Nimmt mal TAXI\")\n",
    "else:\n",
    "    print(\"oder zu Fuss\")"
   ]
  },
  {
   "cell_type": "code",
   "execution_count": null,
   "id": "a713d8a6",
   "metadata": {},
   "outputs": [],
   "source": [
    "# 들여쓰기 space * 4 가 기본\n",
    "# 혹은 1 Tab (다른 개발환경에서는 Tab 설정이 다를 수 있음으로 주의)\n",
    "# 조건문 다음에는 ':' 잊지말것 -> "
   ]
  },
  {
   "cell_type": "code",
   "execution_count": 11,
   "id": "ffa38f09",
   "metadata": {},
   "outputs": [
    {
     "data": {
      "text/plain": [
       "True"
      ]
     },
     "execution_count": 11,
     "metadata": {},
     "output_type": "execute_result"
    }
   ],
   "source": [
    "1 in [1, 2, 3]"
   ]
  },
  {
   "cell_type": "code",
   "execution_count": 12,
   "id": "f1a82f90",
   "metadata": {},
   "outputs": [
    {
     "data": {
      "text/plain": [
       "True"
      ]
     },
     "execution_count": 12,
     "metadata": {},
     "output_type": "execute_result"
    }
   ],
   "source": [
    "4 not in [1, 2, 3]"
   ]
  },
  {
   "cell_type": "code",
   "execution_count": null,
   "id": "8267fdc5",
   "metadata": {},
   "outputs": [],
   "source": [
    "# Pass 기능"
   ]
  },
  {
   "cell_type": "code",
   "execution_count": 13,
   "id": "c9a84d0a",
   "metadata": {},
   "outputs": [
    {
     "ename": "NameError",
     "evalue": "name 'a' is not defined",
     "output_type": "error",
     "traceback": [
      "\u001b[1;31m---------------------------------------------------------------------------\u001b[0m",
      "\u001b[1;31mNameError\u001b[0m                                 Traceback (most recent call last)",
      "\u001b[1;32m<ipython-input-13-fe52342abaad>\u001b[0m in \u001b[0;36m<module>\u001b[1;34m\u001b[0m\n\u001b[1;32m----> 1\u001b[1;33m \u001b[1;32mif\u001b[0m \u001b[0ma\u001b[0m \u001b[1;33m==\u001b[0m \u001b[1;36m1\u001b[0m \u001b[1;33m:\u001b[0m\u001b[1;33m\u001b[0m\u001b[1;33m\u001b[0m\u001b[0m\n\u001b[0m\u001b[0;32m      2\u001b[0m     \u001b[1;32mpass\u001b[0m\u001b[1;33m\u001b[0m\u001b[1;33m\u001b[0m\u001b[0m\n",
      "\u001b[1;31mNameError\u001b[0m: name 'a' is not defined"
     ]
    }
   ],
   "source": [
    "if a == 1 :\n",
    "    pass\n"
   ]
  },
  {
   "cell_type": "code",
   "execution_count": null,
   "id": "c70b170a",
   "metadata": {},
   "outputs": [],
   "source": []
  },
  {
   "cell_type": "code",
   "execution_count": null,
   "id": "0e757e7c",
   "metadata": {},
   "outputs": [],
   "source": [
    "# if 문 한 줄로 작성하기 - 한 줄까지만 가능"
   ]
  },
  {
   "cell_type": "code",
   "execution_count": 14,
   "id": "a1aa62c2",
   "metadata": {},
   "outputs": [
    {
     "name": "stdout",
     "output_type": "stream",
     "text": [
      "a는 1\n"
     ]
    }
   ],
   "source": [
    "a = 1\n",
    "if a == 1 : print(\"a는 1\")"
   ]
  },
  {
   "cell_type": "code",
   "execution_count": 15,
   "id": "2531ece5",
   "metadata": {},
   "outputs": [
    {
     "ename": "SyntaxError",
     "evalue": "invalid syntax (<ipython-input-15-8fe1f0f21234>, line 2)",
     "output_type": "error",
     "traceback": [
      "\u001b[1;36m  File \u001b[1;32m\"<ipython-input-15-8fe1f0f21234>\"\u001b[1;36m, line \u001b[1;32m2\u001b[0m\n\u001b[1;33m    if a == 1 : print(\"a는 1\") print(\"good bye\")\u001b[0m\n\u001b[1;37m                              ^\u001b[0m\n\u001b[1;31mSyntaxError\u001b[0m\u001b[1;31m:\u001b[0m invalid syntax\n"
     ]
    }
   ],
   "source": [
    "a = 1\n",
    "if a == 1 : print(\"a는 1\") print(\"good bye\")"
   ]
  },
  {
   "cell_type": "code",
   "execution_count": null,
   "id": "3dada13c",
   "metadata": {},
   "outputs": [],
   "source": [
    "# 밑에 줄은 조건과 무관함"
   ]
  },
  {
   "cell_type": "code",
   "execution_count": 17,
   "id": "019281c1",
   "metadata": {},
   "outputs": [
    {
     "name": "stdout",
     "output_type": "stream",
     "text": [
      "a는 1\n",
      "good bye\n"
     ]
    }
   ],
   "source": [
    "a = 1\n",
    "if a == 1 : print(\"a는 1\") \n",
    "print(\"good bye\")"
   ]
  },
  {
   "cell_type": "code",
   "execution_count": 19,
   "id": "2277f9d4",
   "metadata": {},
   "outputs": [
    {
     "name": "stdout",
     "output_type": "stream",
     "text": [
      "나무를 1(번)을 세차게 찍었다.\n",
      "나무를 2(번)을 세차게 찍었다.\n",
      "나무를 3(번)을 세차게 찍었다.\n",
      "나무를 4(번)을 세차게 찍었다.\n",
      "나무를 5(번)을 세차게 찍었다.\n",
      "나무를 6(번)을 세차게 찍었다.\n",
      "나무를 7(번)을 세차게 찍었다.\n",
      "나무를 8(번)을 세차게 찍었다.\n",
      "나무를 9(번)을 세차게 찍었다.\n",
      "나무를 10(번)을 세차게 찍었다.\n",
      "의지가 뛰어났다, 나무가 넘어간다.\n"
     ]
    }
   ],
   "source": [
    "treeHit = 0 # 나무를 찍은 횟수 (초기화)\n",
    "while treeHit < 10: # 나무를 찍는 횟수가 10보다 작은 동안 반복\n",
    "    treeHit = treeHit + 1 # 나무를 찍은 횟수 1씩증가\n",
    "    print(\"나무를 %d(번)을 세차게 찍었다.\" % treeHit)\n",
    "    if treeHit == 10: #나무를 n번 찍으면\n",
    "        print(\"의지가 뛰어났다, 나무가 넘어간다.\")"
   ]
  },
  {
   "cell_type": "code",
   "execution_count": null,
   "id": "fd822346",
   "metadata": {},
   "outputs": [],
   "source": [
    "# 세련되게, 멋지게, 아름답게"
   ]
  },
  {
   "cell_type": "code",
   "execution_count": 24,
   "id": "3cd0e78d",
   "metadata": {},
   "outputs": [
    {
     "name": "stdout",
     "output_type": "stream",
     "text": [
      "나무를 0(번)을 세차게 찍었다.\n",
      "나무를 1(번)을 세차게 찍었다.\n",
      "나무를 2(번)을 세차게 찍었다.\n",
      "나무를 3(번)을 세차게 찍었다.\n",
      "나무를 4(번)을 세차게 찍었다.\n",
      "나무를 5(번)을 세차게 찍었다.\n",
      "나무를 6(번)을 세차게 찍었다.\n",
      "나무를 7(번)을 세차게 찍었다.\n",
      "나무를 8(번)을 세차게 찍었다.\n",
      "나무를 9(번)을 세차게 찍었다.\n",
      "나무를 10(번)을 세차게 찍었다.\n",
      "의지가 뛰어났다, 나무가 넘어간다.\n"
     ]
    }
   ],
   "source": [
    "treeHit = 0 # 나무를 찍은 횟수 (초기화)\n",
    "while treeHit <= 10: # 나무를 찍는 횟수가 10보다 작은 동안 반복\n",
    "    print(\"나무를 \" + str(treeHit) + \"(번)을 세차게 찍었다.\")\n",
    "    if treeHit == 10: print(\"의지가 뛰어났다, 나무가 넘어간다.\")\n",
    "    treeHit += 1 # 나무를 찍은 횟수 1씩증가"
   ]
  },
  {
   "cell_type": "code",
   "execution_count": 28,
   "id": "93d14e77",
   "metadata": {},
   "outputs": [
    {
     "name": "stdout",
     "output_type": "stream",
     "text": [
      "정수를 입력하세요100\n",
      "101\n"
     ]
    }
   ],
   "source": [
    "a = input(\"정수를 입력하세요\")\n",
    "a = int(a) + 1\n",
    "print(a)"
   ]
  },
  {
   "cell_type": "code",
   "execution_count": 29,
   "id": "97e93694",
   "metadata": {},
   "outputs": [
    {
     "name": "stdout",
     "output_type": "stream",
     "text": [
      "정수를 입력하세요100\n",
      "100\n"
     ]
    }
   ],
   "source": [
    "a = input(\"정수를 입력하세요\")\n",
    "\n",
    "\n",
    "print(a)"
   ]
  },
  {
   "cell_type": "code",
   "execution_count": 33,
   "id": "606ccd1d",
   "metadata": {},
   "outputs": [
    {
     "name": "stdout",
     "output_type": "stream",
     "text": [
      "Geben Sie eine Temperatur ein 24\n",
      "Geben Sie eine Temperatur ein 25\n",
      "Geben Sie eine Temperatur ein 26\n",
      "Geben Sie eine Temperatur ein 22\n",
      "[24, 25, 26, 22]\n"
     ]
    }
   ],
   "source": [
    "list_a = []\n",
    "count = 0\n",
    "while count < 4:\n",
    "    recieved = input(\"Geben Sie eine Temperatur ein \")\n",
    "    recieved = int(recieved)\n",
    "    list_a.append(recieved) # append\n",
    "    count += 1\n",
    "print(list_a)"
   ]
  },
  {
   "cell_type": "code",
   "execution_count": 36,
   "id": "6bd3332f",
   "metadata": {},
   "outputs": [
    {
     "name": "stdout",
     "output_type": "stream",
     "text": [
      "Geben Sie eine Temperatur ein, wenn SIe das Eingabe stoppen wollen, geben Sie '-500'ein\n",
      "Geben Sie eine Temperatur ein 21\n",
      "Geben Sie eine Temperatur ein 21\n",
      "Geben Sie eine Temperatur ein 21\n",
      "Geben Sie eine Temperatur ein 22\n",
      "Geben Sie eine Temperatur ein -500\n",
      "[21, 21, 21, 22]\n"
     ]
    }
   ],
   "source": [
    "# 얼만큼의 데이터가 들어올지 모름, 그러면 계속 돌아가는데 특정값이 들어오면 끝\n",
    "list_a = []\n",
    "count = 1 # count = 0\n",
    "print(\"Geben Sie eine Temperatur ein, wenn SIe das Eingabe stoppen wollen, geben Sie '-500'ein\")\n",
    "while True: # count < 4:\n",
    "    recieved = input(\"Geben Sie eine Temperatur ein \")\n",
    "    if recieved == \"-500\": break\n",
    "    recieved = int(recieved)\n",
    "    list_a.append(recieved) # append\n",
    "    count += 1\n",
    "print(list_a)"
   ]
  },
  {
   "cell_type": "code",
   "execution_count": 41,
   "id": "292f3d36",
   "metadata": {},
   "outputs": [
    {
     "name": "stdout",
     "output_type": "stream",
     "text": [
      "Geben Sie eine Temperatur ein, wenn SIe das Eingabe stoppen wollen, geben Sie '-500'ein\n",
      "Geben Sie eine Temperatur ein 5\n",
      "Geben Sie eine Temperatur ein 8\n",
      "Geben Sie eine Temperatur ein 48\n",
      "Geben Sie eine Temperatur ein 45\n",
      "Geben Sie eine Temperatur ein 20\n",
      "Geben Sie eine Temperatur ein 15\n",
      "Geben Sie eine Temperatur ein 60\n",
      "Geben Sie eine Temperatur ein 84\n",
      "Geben Sie eine Temperatur ein 100\n",
      "Geben Sie eine Temperatur ein 2100\n",
      "Geben Sie eine Temperatur ein -500\n",
      "[]\n"
     ]
    }
   ],
   "source": [
    "list_a = []\n",
    "print(\"Geben Sie eine Temperatur ein, wenn SIe das Eingabe stoppen wollen, geben Sie '-500'ein\")\n",
    "while True: # count < 4:\n",
    "    recieved = input(\"Geben Sie eine Temperatur ein \")\n",
    "    recieved = int(recieved)\n",
    "    if recieved == -500: break\n",
    "    if recieved < 50 or recieved > -40: continue\n",
    "    list_a.append(recieved) # append\n",
    "print(list_a)"
   ]
  },
  {
   "cell_type": "code",
   "execution_count": 42,
   "id": "59beb112",
   "metadata": {},
   "outputs": [
    {
     "name": "stdout",
     "output_type": "stream",
     "text": [
      "온도?520\n",
      "온도?20\n",
      "온도?5\n",
      "온도?48\n",
      "온도?22\n",
      "온도?21\n",
      "온도?231\n",
      "온도?54\n",
      "온도?9684\n",
      "온도?45\n",
      "온도?-500\n",
      "[20, 5, 48, 22, 21, 45]\n"
     ]
    }
   ],
   "source": [
    "list_a = []\n",
    "while True:\n",
    "    recieved = input(\"온도?\")\n",
    "    recieved = int(recieved)\n",
    "    if recieved == -500: break\n",
    "    if recieved > 50 or recieved < -40: continue\n",
    "    list_a.append(recieved)\n",
    "print (list_a)"
   ]
  },
  {
   "cell_type": "code",
   "execution_count": 43,
   "id": "25a0f999",
   "metadata": {},
   "outputs": [
    {
     "name": "stdout",
     "output_type": "stream",
     "text": [
      "one\n",
      "two\n",
      "three\n"
     ]
    }
   ],
   "source": [
    "test_list = ['one', \"two\", \"three\"]\n",
    "for i in test_list:\n",
    "    print(i)"
   ]
  },
  {
   "cell_type": "code",
   "execution_count": 45,
   "id": "39d474e7",
   "metadata": {},
   "outputs": [
    {
     "name": "stdout",
     "output_type": "stream",
     "text": [
      "range(0, 10)\n"
     ]
    }
   ],
   "source": [
    "a = range(10)\n",
    "print(a)"
   ]
  },
  {
   "cell_type": "code",
   "execution_count": 46,
   "id": "712cb236",
   "metadata": {},
   "outputs": [
    {
     "name": "stdout",
     "output_type": "stream",
     "text": [
      "0\n",
      "1\n",
      "2\n",
      "3\n",
      "4\n",
      "5\n",
      "6\n",
      "7\n",
      "8\n",
      "9\n"
     ]
    }
   ],
   "source": [
    "for i in range(10):\n",
    "    print(i)"
   ]
  },
  {
   "cell_type": "code",
   "execution_count": 49,
   "id": "14ff9eba",
   "metadata": {},
   "outputs": [
    {
     "name": "stdout",
     "output_type": "stream",
     "text": [
      "0 1 2 3 4 5 6 7 8 9 "
     ]
    }
   ],
   "source": [
    "for i in range(10):\n",
    "    print(i, end=\" \") # 문자열 슬라이싱"
   ]
  },
  {
   "cell_type": "code",
   "execution_count": 50,
   "id": "a730841c",
   "metadata": {},
   "outputs": [
    {
     "name": "stdout",
     "output_type": "stream",
     "text": [
      "5 6 7 8 9 "
     ]
    }
   ],
   "source": [
    "for i in range(5, 10):\n",
    "    print(i, end=\" \")"
   ]
  },
  {
   "cell_type": "code",
   "execution_count": 54,
   "id": "a79c1173",
   "metadata": {},
   "outputs": [
    {
     "name": "stdout",
     "output_type": "stream",
     "text": [
      "1 3 5 7 9 "
     ]
    }
   ],
   "source": [
    "for i in range(1, 11, 2): # 간격\n",
    "    print(i, end=\" \")"
   ]
  },
  {
   "cell_type": "code",
   "execution_count": 57,
   "id": "d8d8bcef",
   "metadata": {},
   "outputs": [
    {
     "name": "stdout",
     "output_type": "stream",
     "text": [
      "10 9 8 7 6 5 4 3 2 1 "
     ]
    }
   ],
   "source": [
    "for i in range(10, 0, -1):\n",
    "    print(i, end=\" \")"
   ]
  },
  {
   "cell_type": "code",
   "execution_count": 59,
   "id": "1cff9ea0",
   "metadata": {},
   "outputs": [
    {
     "name": "stdout",
     "output_type": "stream",
     "text": [
      "1 4 7 10 "
     ]
    }
   ],
   "source": [
    "for i in (1, 4, 7, 10):\n",
    "    print(i, end=\" \")"
   ]
  },
  {
   "cell_type": "code",
   "execution_count": 60,
   "id": "e0dcafd6",
   "metadata": {},
   "outputs": [
    {
     "name": "stdout",
     "output_type": "stream",
     "text": [
      "[[1, 2, 3, 4, 1, 2, 3, 4, 1, 2, 3, 4], [1, 2, 3, 4, 1, 2, 3, 4, 1, 2, 3, 4], [1, 2, 3, 4, 1, 2, 3, 4, 1, 2, 3, 4], [1, 2, 3, 4, 1, 2, 3, 4, 1, 2, 3, 4]]"
     ]
    }
   ],
   "source": [
    "a = [1, 2, 3, 4]\n",
    "res = []\n",
    "for i in a:\n",
    "    res.append(a*3)\n",
    "print(res, end=\"\")"
   ]
  },
  {
   "cell_type": "code",
   "execution_count": 65,
   "id": "d1c06e28",
   "metadata": {},
   "outputs": [
    {
     "name": "stdout",
     "output_type": "stream",
     "text": [
      "[3, 6, 9, 12]"
     ]
    }
   ],
   "source": [
    "a = [1, 2, 3, 4]\n",
    "res = []\n",
    "for num in a:\n",
    "    res.append(num*3)\n",
    "print(res, end=\"\")"
   ]
  },
  {
   "cell_type": "code",
   "execution_count": 67,
   "id": "3cb368c9",
   "metadata": {},
   "outputs": [
    {
     "name": "stdout",
     "output_type": "stream",
     "text": [
      "[3, 6, 9, 12]"
     ]
    }
   ],
   "source": [
    "a = [1, 2, 3, 4]\n",
    "res = [num*3 for num in a]\n",
    "print(res, end=\"\")"
   ]
  },
  {
   "cell_type": "code",
   "execution_count": 68,
   "id": "d02a3424",
   "metadata": {},
   "outputs": [
    {
     "name": "stdout",
     "output_type": "stream",
     "text": [
      "[6, 12]"
     ]
    }
   ],
   "source": [
    "a = [1, 2, 3, 4]\n",
    "res = [num*3 for num in a if num % 2 == 0]\n",
    "print(res, end=\"\")"
   ]
  },
  {
   "cell_type": "code",
   "execution_count": 78,
   "id": "079588f3",
   "metadata": {},
   "outputs": [
    {
     "name": "stdout",
     "output_type": "stream",
     "text": [
      "[6, 12]"
     ]
    }
   ],
   "source": [
    "a = [1, 2, 3, 4]\n",
    "res = []\n",
    "for num in a:\n",
    "    if num % 2 == 0:\n",
    "        res.append(num*3)\n",
    "print(res, end=\"\")"
   ]
  },
  {
   "cell_type": "code",
   "execution_count": 80,
   "id": "1e9c40dd",
   "metadata": {},
   "outputs": [
    {
     "name": "stdout",
     "output_type": "stream",
     "text": [
      "[3, 6, 9, 12]"
     ]
    }
   ],
   "source": [
    "a = [1, 2, 3, 4]\n",
    "res = []\n",
    "for num in a:\n",
    "    if num % 1 == 0:\n",
    "        res.append(num*3)\n",
    "print(res, end=\"\")"
   ]
  },
  {
   "cell_type": "code",
   "execution_count": null,
   "id": "b9f839e1",
   "metadata": {},
   "outputs": [],
   "source": [
    "# 연습문제 146p"
   ]
  },
  {
   "cell_type": "code",
   "execution_count": 82,
   "id": "1060448f",
   "metadata": {},
   "outputs": [
    {
     "name": "stdout",
     "output_type": "stream",
     "text": [
      "shirt\n"
     ]
    }
   ],
   "source": [
    "a = \"Life is too short, you need python\"\n",
    "if \"wife\" in a: print(\"wife\")\n",
    "elif \"python\" in a and \"you\" not in a: print(\"python\")\n",
    "elif\"shirt\" not in a: print(\"shirt\")\n",
    "elif\"need\" in a: print(\"need\")\n",
    "else: print(\"none\")"
   ]
  },
  {
   "cell_type": "code",
   "execution_count": 86,
   "id": "6caf71bc",
   "metadata": {},
   "outputs": [
    {
     "name": "stdout",
     "output_type": "stream",
     "text": [
      "*\n",
      "**\n",
      "***\n",
      "****\n",
      "*****\n"
     ]
    }
   ],
   "source": [
    "i = 0 # 줄 갯수이자 별의 갯수\n",
    "while True:\n",
    "    i += 1\n",
    "    if i > 5: break\n",
    "    print(\"*\" * i)"
   ]
  },
  {
   "cell_type": "code",
   "execution_count": 102,
   "id": "b890239a",
   "metadata": {
    "scrolled": true
   },
   "outputs": [
    {
     "name": "stdout",
     "output_type": "stream",
     "text": [
      "*\n",
      "**\n",
      "***\n",
      "****\n",
      "*****\n"
     ]
    }
   ],
   "source": [
    "i = 0 # 줄 갯수이자 별의 갯수\n",
    "for i in range(1, 6):\n",
    "    if i > 5: break\n",
    "    print(\"*\" * i)"
   ]
  },
  {
   "cell_type": "code",
   "execution_count": 108,
   "id": "1d9f8193",
   "metadata": {},
   "outputs": [
    {
     "name": "stdout",
     "output_type": "stream",
     "text": [
      "\n",
      "*\n",
      "**\n",
      "***\n",
      "****\n",
      "*****\n"
     ]
    }
   ],
   "source": [
    "i = 1  # 줄 갯수이자 별의 갯수\n",
    "for i in range(0, 6):\n",
    "    if i > 5: break\n",
    "    print(\"*\" * i)"
   ]
  },
  {
   "cell_type": "code",
   "execution_count": 117,
   "id": "8c5d13ea",
   "metadata": {},
   "outputs": [
    {
     "name": "stdout",
     "output_type": "stream",
     "text": [
      "*\n",
      "**\n",
      "***\n",
      "****\n",
      "*****\n"
     ]
    }
   ],
   "source": [
    "i = 0\n",
    "while True:\n",
    "    i+=1\n",
    "    if i>5: break\n",
    "    for j in range(i):\n",
    "        print(\"*\", end=\"\")\n",
    "    print(\"\")"
   ]
  },
  {
   "cell_type": "code",
   "execution_count": 120,
   "id": "6bd0e849",
   "metadata": {},
   "outputs": [
    {
     "name": "stdout",
     "output_type": "stream",
     "text": [
      "j0 j1 j2 j3 j4 i0\n",
      "j0 j1 j2 j3 j4 i1\n",
      "j0 j1 j2 j3 j4 i2\n",
      "j0 j1 j2 j3 j4 i3\n",
      "j0 j1 j2 j3 j4 i4\n"
     ]
    }
   ],
   "source": [
    "for i in range(5):          # 5번 반복. 바깥쪽 루프는 세로 방향\n",
    "    for j in range(5):      # 5번 반복. 안쪽 루프는 가로 방향\n",
    "        print('j', j, sep='', end=' ')    # j값 출력. end에 ' '를 지정하여 줄바꿈 대신 한 칸 띄움\n",
    "    print('i', i, '', sep='')    # i값 출력, 개행 문자 모양도 출력\n",
    "                                     # 가로 방향으로 숫자를 모두 출력한 뒤 다음 줄로 넘어감\n",
    "                                     # (print는 기본적으로 출력 후 다음 줄로 넘어감)"
   ]
  },
  {
   "cell_type": "code",
   "execution_count": 133,
   "id": "f742d24a",
   "metadata": {},
   "outputs": [
    {
     "name": "stdout",
     "output_type": "stream",
     "text": [
      "10\n",
      "79.0\n"
     ]
    }
   ],
   "source": [
    "A = [70, 60, 55, 75, 95, 90, 80, 80, 85, 100]\n",
    "print(len(A))\n",
    "total = 0\n",
    "for score in A:\n",
    "    total += score\n",
    "average = total / len(A)\n",
    "print(average)"
   ]
  },
  {
   "cell_type": "code",
   "execution_count": 130,
   "id": "9fa7c2d6",
   "metadata": {},
   "outputs": [
    {
     "name": "stdout",
     "output_type": "stream",
     "text": [
      "79.0\n"
     ]
    }
   ],
   "source": [
    "A = [70, 60, 55, 75, 95, 90, 80, 80, 85, 100]\n",
    "total = 0\n",
    "total = sum(A)\n",
    "average = total / 10\n",
    "print(average)"
   ]
  },
  {
   "cell_type": "code",
   "execution_count": 157,
   "id": "1790aa06",
   "metadata": {},
   "outputs": [
    {
     "name": "stdout",
     "output_type": "stream",
     "text": [
      "60 59 58 57 56 55 54 53 52 51 50 49 48 47 46 45 44 43 42 41 40 39 38 37 36 35 34 33 32 31 30 29 28 27 26 25 24 23 22 21 20 19 18 17 16 15 14 13 12 11 10 9 8 7 6 5 4 3 2 1 0 \n",
      "발사\n"
     ]
    }
   ],
   "source": [
    "for i in range(60, -1, -1):\n",
    "    print(i, end=\" \") \n",
    "    if i == 0:\n",
    "        print(\"\\n발사\")\n",
    "    \n"
   ]
  },
  {
   "cell_type": "code",
   "execution_count": 182,
   "id": "9ba42681",
   "metadata": {},
   "outputs": [
    {
     "name": "stdout",
     "output_type": "stream",
     "text": [
      "60 59 58 57 56 55 54 53 52 51 50 49 48 47 46 45 44 43 42 41 40 39 38 37 36 35 34 33 32 31 30 29 28 27 26 25 24 23 22 21 20 19 18 17 16 15 14 13 12 11 10 9 8 7 6 5 4 3 2 1 0 \n",
      "발사\n"
     ]
    }
   ],
   "source": [
    "i = 60 # 줄 갯수이자 별의 갯수\n",
    "while True:\n",
    "    if i == -1: break\n",
    "    i -= 1\n",
    "    if i == -1:\n",
    "        print(\"\\n발사\")\n",
    "    "
   ]
  },
  {
   "cell_type": "code",
   "execution_count": 190,
   "id": "2e87e287",
   "metadata": {},
   "outputs": [
    {
     "name": "stdout",
     "output_type": "stream",
     "text": [
      "60 59 58 57 56 55 54 53 52 51 50 49 48 47 46 45 44 43 42 41 40 39 38 37 36 35 34 33 32 31 30 29 28 27 26 25 24 23 22 21 20 19 18 17 16 15 14 13 12 11 10 9 8 7 6 5 4 3 2 1 0 \n",
      "발사\n"
     ]
    }
   ],
   "source": [
    "i = 60\n",
    "while i >= 0:\n",
    "    print(i, end=\" \")\n",
    "    i -= 1\n",
    "print(\"\\n발사\")"
   ]
  },
  {
   "cell_type": "code",
   "execution_count": 199,
   "id": "24681564",
   "metadata": {},
   "outputs": [
    {
     "name": "stdout",
     "output_type": "stream",
     "text": [
      "1 2 3 4 5 6 7 8 9 \n",
      "2 4 6 8 10 12 14 16 18 \n",
      "3 6 9 12 15 18 21 24 27 \n",
      "4 8 12 16 20 24 28 32 36 \n",
      "5 10 15 20 25 30 35 40 45 \n",
      "6 12 18 24 30 36 42 48 54 \n",
      "7 14 21 28 35 42 49 56 63 \n",
      "8 16 24 32 40 48 56 64 72 \n",
      "9 18 27 36 45 54 63 72 81 \n"
     ]
    }
   ],
   "source": [
    "# 143p \n",
    "for i in range(1, 10):\n",
    "    for j in range(1, 10):\n",
    "        print(i*j, end= \" \")\n",
    "    print('')"
   ]
  },
  {
   "cell_type": "code",
   "execution_count": 211,
   "id": "38d1c36c",
   "metadata": {},
   "outputs": [
    {
     "name": "stdout",
     "output_type": "stream",
     "text": [
      "144 132 120 108 96 84 72 60 48 36 24 12 \n",
      "132 121 110 99 88 77 66 55 44 33 22 11 \n",
      "120 110 100 90 80 70 60 50 40 30 20 10 \n",
      "108 99 90 81 72 63 54 45 36 27 18 9 \n",
      "96 88 80 72 64 56 48 40 32 24 16 8 \n",
      "84 77 70 63 56 49 42 35 28 21 14 7 \n",
      "72 66 60 54 48 42 36 30 24 18 12 6 \n",
      "60 55 50 45 40 35 30 25 20 15 10 5 \n",
      "48 44 40 36 32 28 24 20 16 12 8 4 \n",
      "36 33 30 27 24 21 18 15 12 9 6 3 \n",
      "24 22 20 18 16 14 12 10 8 6 4 2 \n",
      "12 11 10 9 8 7 6 5 4 3 2 1 \n"
     ]
    }
   ],
   "source": [
    "for i in range(12, 0, -1):\n",
    "    for j in range(12, 0, -1):\n",
    "        print(i*j, end=\" \")\n",
    "    print('')"
   ]
  },
  {
   "cell_type": "code",
   "execution_count": 217,
   "id": "e2b28fcc",
   "metadata": {},
   "outputs": [
    {
     "name": "stdout",
     "output_type": "stream",
     "text": [
      "1 2 3 4 5 6 7 8 9 \n",
      "2 4 6 8 10 12 14 16 18 \n",
      "3 6 9 12 15 18 21 24 27 \n",
      "4 8 12 16 20 24 28 32 36 \n",
      "5 10 15 20 25 30 35 40 45 \n",
      "6 12 18 24 30 36 42 48 54 \n",
      "7 14 21 28 35 42 49 56 63 \n",
      "8 16 24 32 40 48 56 64 72 \n",
      "9 18 27 36 45 54 63 72 81 \n"
     ]
    }
   ],
   "source": [
    "hang = 1\n",
    "while hang <= 9:\n",
    "    yol = 1\n",
    "    while yol <= 9:\n",
    "        print(hang*yol, end=\" \")\n",
    "        yol += 1\n",
    "    print(\"\")\n",
    "    hang += 1"
   ]
  },
  {
   "cell_type": "code",
   "execution_count": 267,
   "id": "13217bd4",
   "metadata": {},
   "outputs": [
    {
     "name": "stdout",
     "output_type": "stream",
     "text": [
      "*\n",
      "**\n",
      "***\n",
      "****\n",
      "*****\n",
      "******\n"
     ]
    }
   ],
   "source": [
    "for i in range(1, 7):\n",
    "    for j in range(i,):\n",
    "        print(\"*\", end=\"\")\n",
    "    print('')"
   ]
  },
  {
   "cell_type": "code",
   "execution_count": 266,
   "id": "b79c2893",
   "metadata": {},
   "outputs": [
    {
     "name": "stdout",
     "output_type": "stream",
     "text": [
      "* * * * * * * \n",
      "* * * * * * * \n",
      "* * * * * * * \n",
      "* * * * * * * \n",
      "* * * * * * * \n",
      "* * * * * * * \n",
      "* * * * * * * \n"
     ]
    }
   ],
   "source": [
    "hang = 1\n",
    "while hang <= 7:\n",
    "    yol = 1\n",
    "    while yol <= 7:\n",
    "        print(\"*\", end=\" \")\n",
    "        yol += 1\n",
    "    print(\"\")\n",
    "    hang += 1"
   ]
  },
  {
   "cell_type": "code",
   "execution_count": 308,
   "id": "dd7433f4",
   "metadata": {},
   "outputs": [
    {
     "name": "stdout",
     "output_type": "stream",
     "text": [
      "1 * * * * * *  \n",
      "1 2 * * * * *  \n",
      "1 2 3 * * * *  \n",
      "1 2 3 4 * * *  \n",
      "1 2 3 4 5 * *  \n",
      "1 2 3 4 5 6 *  \n",
      "1 2 3 4 5 6 7  \n"
     ]
    }
   ],
   "source": [
    "for i in range(1, 8):             # 행은 1~7까지\n",
    "    for j in range(1, 8):         # 열은 1~7까지\n",
    "        if i >= j:                # 만약 행이 열보다 같거나 크면 숫자출력\n",
    "            print(j, end=\" \") \n",
    "        else:                     # 하지만 아니면 나머지는 * 출력\n",
    "            print(\"*\", end=\" \")\n",
    "    print(' ')"
   ]
  },
  {
   "cell_type": "code",
   "execution_count": 329,
   "id": "9b1bfe36",
   "metadata": {},
   "outputs": [
    {
     "name": "stdout",
     "output_type": "stream",
     "text": [
      "행?5\n",
      "열?5\n",
      "1 * * * *  \n",
      "1 2 * * *  \n",
      "1 2 3 * *  \n",
      "1 2 3 4 *  \n",
      "1 2 3 4 5  \n"
     ]
    }
   ],
   "source": [
    "i1 = input(\"행?\")\n",
    "i = int(i1)\n",
    "j1 = input(\"열?\")\n",
    "j = int(j1)\n",
    "\n",
    "for i in range(1 , i+1):\n",
    "    for j in range(1 , j+1):\n",
    "        if i >= j:\n",
    "            print(j, end=\" \")\n",
    "        else:\n",
    "            print(\"*\", end=\" \")\n",
    "    print(' ')\n",
    "    \n",
    "# i1 = int(input(\"행?\"))"
   ]
  },
  {
   "cell_type": "code",
   "execution_count": 342,
   "id": "adf0e2a8",
   "metadata": {},
   "outputs": [
    {
     "ename": "KeyboardInterrupt",
     "evalue": "Interrupted by user",
     "output_type": "error",
     "traceback": [
      "\u001b[1;31m---------------------------------------------------------------------------\u001b[0m",
      "\u001b[1;31mKeyboardInterrupt\u001b[0m                         Traceback (most recent call last)",
      "\u001b[1;32m<ipython-input-342-b228ecf9ac4d>\u001b[0m in \u001b[0;36m<module>\u001b[1;34m\u001b[0m\n\u001b[1;32m----> 1\u001b[1;33m \u001b[0mi\u001b[0m \u001b[1;33m=\u001b[0m \u001b[0mint\u001b[0m\u001b[1;33m(\u001b[0m\u001b[0minput\u001b[0m\u001b[1;33m(\u001b[0m\u001b[1;34m\"??\"\u001b[0m\u001b[1;33m)\u001b[0m\u001b[1;33m)\u001b[0m\u001b[1;33m\u001b[0m\u001b[1;33m\u001b[0m\u001b[0m\n\u001b[0m\u001b[0;32m      2\u001b[0m \u001b[0mj\u001b[0m \u001b[1;33m=\u001b[0m \u001b[0mint\u001b[0m\u001b[1;33m(\u001b[0m\u001b[0minput\u001b[0m\u001b[1;33m(\u001b[0m\u001b[1;34m\"???\"\u001b[0m\u001b[1;33m)\u001b[0m\u001b[1;33m)\u001b[0m\u001b[1;33m\u001b[0m\u001b[1;33m\u001b[0m\u001b[0m\n\u001b[0;32m      3\u001b[0m \u001b[1;33m\u001b[0m\u001b[0m\n\u001b[0;32m      4\u001b[0m \u001b[1;32mfor\u001b[0m \u001b[0mi\u001b[0m \u001b[1;32min\u001b[0m \u001b[0mrange\u001b[0m\u001b[1;33m(\u001b[0m\u001b[1;36m1\u001b[0m\u001b[1;33m,\u001b[0m \u001b[0mi\u001b[0m\u001b[1;33m+\u001b[0m\u001b[1;36m1\u001b[0m\u001b[1;33m)\u001b[0m\u001b[1;33m:\u001b[0m\u001b[1;33m\u001b[0m\u001b[1;33m\u001b[0m\u001b[0m\n\u001b[0;32m      5\u001b[0m     \u001b[1;32mfor\u001b[0m \u001b[0mj\u001b[0m \u001b[1;32min\u001b[0m \u001b[0mrange\u001b[0m\u001b[1;33m(\u001b[0m\u001b[1;36m1\u001b[0m\u001b[1;33m,\u001b[0m \u001b[0mj\u001b[0m\u001b[1;33m+\u001b[0m\u001b[1;36m1\u001b[0m\u001b[1;33m)\u001b[0m\u001b[1;33m:\u001b[0m\u001b[1;33m\u001b[0m\u001b[1;33m\u001b[0m\u001b[0m\n",
      "\u001b[1;32mC:\\Programmierung\\Anaconda3\\lib\\site-packages\\ipykernel\\kernelbase.py\u001b[0m in \u001b[0;36mraw_input\u001b[1;34m(self, prompt)\u001b[0m\n\u001b[0;32m    858\u001b[0m                 \u001b[1;34m\"raw_input was called, but this frontend does not support input requests.\"\u001b[0m\u001b[1;33m\u001b[0m\u001b[1;33m\u001b[0m\u001b[0m\n\u001b[0;32m    859\u001b[0m             )\n\u001b[1;32m--> 860\u001b[1;33m         return self._input_request(str(prompt),\n\u001b[0m\u001b[0;32m    861\u001b[0m             \u001b[0mself\u001b[0m\u001b[1;33m.\u001b[0m\u001b[0m_parent_ident\u001b[0m\u001b[1;33m,\u001b[0m\u001b[1;33m\u001b[0m\u001b[1;33m\u001b[0m\u001b[0m\n\u001b[0;32m    862\u001b[0m             \u001b[0mself\u001b[0m\u001b[1;33m.\u001b[0m\u001b[0m_parent_header\u001b[0m\u001b[1;33m,\u001b[0m\u001b[1;33m\u001b[0m\u001b[1;33m\u001b[0m\u001b[0m\n",
      "\u001b[1;32mC:\\Programmierung\\Anaconda3\\lib\\site-packages\\ipykernel\\kernelbase.py\u001b[0m in \u001b[0;36m_input_request\u001b[1;34m(self, prompt, ident, parent, password)\u001b[0m\n\u001b[0;32m    902\u001b[0m             \u001b[1;32mexcept\u001b[0m \u001b[0mKeyboardInterrupt\u001b[0m\u001b[1;33m:\u001b[0m\u001b[1;33m\u001b[0m\u001b[1;33m\u001b[0m\u001b[0m\n\u001b[0;32m    903\u001b[0m                 \u001b[1;31m# re-raise KeyboardInterrupt, to truncate traceback\u001b[0m\u001b[1;33m\u001b[0m\u001b[1;33m\u001b[0m\u001b[1;33m\u001b[0m\u001b[0m\n\u001b[1;32m--> 904\u001b[1;33m                 \u001b[1;32mraise\u001b[0m \u001b[0mKeyboardInterrupt\u001b[0m\u001b[1;33m(\u001b[0m\u001b[1;34m\"Interrupted by user\"\u001b[0m\u001b[1;33m)\u001b[0m \u001b[1;32mfrom\u001b[0m \u001b[1;32mNone\u001b[0m\u001b[1;33m\u001b[0m\u001b[1;33m\u001b[0m\u001b[0m\n\u001b[0m\u001b[0;32m    905\u001b[0m             \u001b[1;32mexcept\u001b[0m \u001b[0mException\u001b[0m \u001b[1;32mas\u001b[0m \u001b[0me\u001b[0m\u001b[1;33m:\u001b[0m\u001b[1;33m\u001b[0m\u001b[1;33m\u001b[0m\u001b[0m\n\u001b[0;32m    906\u001b[0m                 \u001b[0mself\u001b[0m\u001b[1;33m.\u001b[0m\u001b[0mlog\u001b[0m\u001b[1;33m.\u001b[0m\u001b[0mwarning\u001b[0m\u001b[1;33m(\u001b[0m\u001b[1;34m\"Invalid Message:\"\u001b[0m\u001b[1;33m,\u001b[0m \u001b[0mexc_info\u001b[0m\u001b[1;33m=\u001b[0m\u001b[1;32mTrue\u001b[0m\u001b[1;33m)\u001b[0m\u001b[1;33m\u001b[0m\u001b[1;33m\u001b[0m\u001b[0m\n",
      "\u001b[1;31mKeyboardInterrupt\u001b[0m: Interrupted by user"
     ]
    }
   ],
   "source": [
    "i = int(input(\"??\"))\n",
    "j = int(input(\"???\"))\n",
    "\n",
    "for i in range(1, i+1):\n",
    "    for j in range(1, j+1):\n",
    "        if i >= j:\n",
    "            print(j, end=\" \")\n",
    "        else:\n",
    "            print(\"*\", end=\" \")\n",
    "    print(' ')\n",
    "    "
   ]
  },
  {
   "cell_type": "code",
   "execution_count": 340,
   "id": "e03cfe08",
   "metadata": {},
   "outputs": [
    {
     "name": "stdout",
     "output_type": "stream",
     "text": [
      "  * * * * \n",
      "    * * * \n",
      "      * * \n",
      "        * \n",
      "          \n"
     ]
    }
   ],
   "source": [
    "for i in range(5):\n",
    "    for j in range(5):\n",
    "        if j <= i:\n",
    "            print(' ', end=\" \")\n",
    "        else:\n",
    "            print(\"*\", end=\" \")\n",
    "        \n",
    "    print()"
   ]
  },
  {
   "cell_type": "code",
   "execution_count": 349,
   "id": "e3e4c75b",
   "metadata": {},
   "outputs": [
    {
     "name": "stdout",
     "output_type": "stream",
     "text": [
      "1 *  \n",
      "*  \n",
      "*  \n",
      "*  \n",
      "*  \n",
      "*  \n",
      "1 2 *  \n",
      "*  \n",
      "*  \n",
      "*  \n",
      "*  \n",
      "1 2 3 *  \n",
      "*  \n",
      "*  \n",
      "*  \n",
      "1 2 3 4 *  \n",
      "*  \n",
      "*  \n",
      "1 2 3 4 5 *  \n",
      "*  \n",
      "1 2 3 4 5 6 *  \n",
      "1 2 3 4 5 6 7 "
     ]
    }
   ],
   "source": [
    "# 해답\n",
    "for hang in range (1, 7+1):\n",
    "    # 숫자 출력\n",
    "    for yol in range(1, hang+1):\n",
    "        print(yol, end=\" \")\n",
    "    # 별 출력\n",
    "    for yol in range(1, 8-hang):\n",
    "        print(\"*\", end=\" \")\n",
    "        print(\" \")"
   ]
  },
  {
   "cell_type": "code",
   "execution_count": 352,
   "id": "0f5b4065",
   "metadata": {},
   "outputs": [
    {
     "name": "stdout",
     "output_type": "stream",
     "text": [
      "몇 개?5\n",
      "1 * \n",
      "* \n",
      "* \n",
      "* \n",
      "* \n",
      "* \n",
      "1 2 * \n",
      "* \n",
      "* \n",
      "* \n",
      "* \n",
      "1 2 3 * \n",
      "* \n",
      "* \n",
      "* \n",
      "1 2 3 4 * \n",
      "* \n",
      "* \n",
      "1 2 3 4 5 * \n",
      "* \n",
      "1 2 3 4 5 6 * \n",
      "1 2 3 4 5 6 7 "
     ]
    }
   ],
   "source": [
    "# 해답\n",
    "num = int(input(\"몇 개?\"))\n",
    "for hang in range (1, 7+1):\n",
    "    # 숫자 출력\n",
    "    for yol in range(1, hang+1):\n",
    "        print(yol, end=\" \")\n",
    "    # 별 출력\n",
    "    for yol in range(1, 8-hang):\n",
    "        print(\"*\", end=\" \")\n",
    "        print(\"\")"
   ]
  },
  {
   "cell_type": "code",
   "execution_count": 351,
   "id": "f42ab737",
   "metadata": {},
   "outputs": [
    {
     "name": "stdout",
     "output_type": "stream",
     "text": [
      "7 \n",
      "16 \n",
      "27 \n",
      "40 \n",
      "55 \n",
      "72 \n",
      "91 \n",
      "112 \n",
      "135 \n"
     ]
    }
   ],
   "source": [
    "while hang <=9:\n",
    "    yol = 1\n",
    "    while yol <= 9:\n",
    "        print(hang*yol, end=\" \")\n",
    "        yol += 1\n",
    "        print(\"\")\n",
    "        hang += 1"
   ]
  },
  {
   "cell_type": "code",
   "execution_count": null,
   "id": "c7ab6e1d",
   "metadata": {},
   "outputs": [],
   "source": []
  }
 ],
 "metadata": {
  "kernelspec": {
   "display_name": "Python 3",
   "language": "python",
   "name": "python3"
  },
  "language_info": {
   "codemirror_mode": {
    "name": "ipython",
    "version": 3
   },
   "file_extension": ".py",
   "mimetype": "text/x-python",
   "name": "python",
   "nbconvert_exporter": "python",
   "pygments_lexer": "ipython3",
   "version": "3.8.8"
  }
 },
 "nbformat": 4,
 "nbformat_minor": 5
}
