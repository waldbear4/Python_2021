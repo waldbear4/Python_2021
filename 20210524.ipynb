{
 "cells": [
  {
   "cell_type": "code",
   "execution_count": 8,
   "id": "9cd5322f",
   "metadata": {},
   "outputs": [
    {
     "name": "stdout",
     "output_type": "stream",
     "text": [
      "Nimmt mal TAXI\n"
     ]
    }
   ],
   "source": [
    "money = True\n",
    "if money :\n",
    "    print(\"Nimmt mal TAXI\")\n",
    "else :\n",
    "    print(\"zu Fuss\")"
   ]
  },
  {
   "cell_type": "code",
   "execution_count": 10,
   "id": "6a608796",
   "metadata": {
    "scrolled": true
   },
   "outputs": [
    {
     "name": "stdout",
     "output_type": "stream",
     "text": [
      "oder zu Fuss\n"
     ]
    }
   ],
   "source": [
    "pocket = ['paper', 'cellphoen']\n",
    "card = False\n",
    "if 'money' in pocket:\n",
    "    print(\"Nimmt mal TAXI\")\n",
    "elif card:\n",
    "    print(\"Nimmt mal TAXI\")\n",
    "else:\n",
    "    print(\"oder zu Fuss\")"
   ]
  },
  {
   "cell_type": "code",
   "execution_count": null,
   "id": "8b94f78f",
   "metadata": {},
   "outputs": [],
   "source": [
    "# 들여쓰기 space * 4 가 기본\n",
    "# 혹은 1 Tab (다른 개발환경에서는 Tab 설정이 다를 수 있음으로 주의)\n",
    "# 조건문 다음에는 ':' 잊지말것 -> "
   ]
  },
  {
   "cell_type": "code",
   "execution_count": 11,
   "id": "8fc9ae1f",
   "metadata": {},
   "outputs": [
    {
     "data": {
      "text/plain": [
       "True"
      ]
     },
     "execution_count": 11,
     "metadata": {},
     "output_type": "execute_result"
    }
   ],
   "source": [
    "1 in [1, 2, 3]"
   ]
  },
  {
   "cell_type": "code",
   "execution_count": 12,
   "id": "4859f903",
   "metadata": {},
   "outputs": [
    {
     "data": {
      "text/plain": [
       "True"
      ]
     },
     "execution_count": 12,
     "metadata": {},
     "output_type": "execute_result"
    }
   ],
   "source": [
    "4 not in [1, 2, 3]"
   ]
  },
  {
   "cell_type": "code",
   "execution_count": null,
   "id": "d548c112",
   "metadata": {},
   "outputs": [],
   "source": [
    "# Pass 기능"
   ]
  },
  {
   "cell_type": "code",
   "execution_count": 13,
   "id": "abc273ad",
   "metadata": {},
   "outputs": [
    {
     "ename": "NameError",
     "evalue": "name 'a' is not defined",
     "output_type": "error",
     "traceback": [
      "\u001b[1;31m---------------------------------------------------------------------------\u001b[0m",
      "\u001b[1;31mNameError\u001b[0m                                 Traceback (most recent call last)",
      "\u001b[1;32m<ipython-input-13-fe52342abaad>\u001b[0m in \u001b[0;36m<module>\u001b[1;34m\u001b[0m\n\u001b[1;32m----> 1\u001b[1;33m \u001b[1;32mif\u001b[0m \u001b[0ma\u001b[0m \u001b[1;33m==\u001b[0m \u001b[1;36m1\u001b[0m \u001b[1;33m:\u001b[0m\u001b[1;33m\u001b[0m\u001b[1;33m\u001b[0m\u001b[0m\n\u001b[0m\u001b[0;32m      2\u001b[0m     \u001b[1;32mpass\u001b[0m\u001b[1;33m\u001b[0m\u001b[1;33m\u001b[0m\u001b[0m\n",
      "\u001b[1;31mNameError\u001b[0m: name 'a' is not defined"
     ]
    }
   ],
   "source": [
    "if a == 1 :\n",
    "    pass\n"
   ]
  },
  {
   "cell_type": "code",
   "execution_count": null,
   "id": "e7f521a5",
   "metadata": {},
   "outputs": [],
   "source": []
  },
  {
   "cell_type": "code",
   "execution_count": null,
   "id": "91dfe21e",
   "metadata": {},
   "outputs": [],
   "source": [
    "# if 문 한 줄로 작성하기 - 한 줄까지만 가능"
   ]
  },
  {
   "cell_type": "code",
   "execution_count": 14,
   "id": "8631894b",
   "metadata": {},
   "outputs": [
    {
     "name": "stdout",
     "output_type": "stream",
     "text": [
      "a는 1\n"
     ]
    }
   ],
   "source": [
    "a = 1\n",
    "if a == 1 : print(\"a는 1\")"
   ]
  },
  {
   "cell_type": "code",
   "execution_count": 15,
   "id": "65874471",
   "metadata": {},
   "outputs": [
    {
     "ename": "SyntaxError",
     "evalue": "invalid syntax (<ipython-input-15-8fe1f0f21234>, line 2)",
     "output_type": "error",
     "traceback": [
      "\u001b[1;36m  File \u001b[1;32m\"<ipython-input-15-8fe1f0f21234>\"\u001b[1;36m, line \u001b[1;32m2\u001b[0m\n\u001b[1;33m    if a == 1 : print(\"a는 1\") print(\"good bye\")\u001b[0m\n\u001b[1;37m                              ^\u001b[0m\n\u001b[1;31mSyntaxError\u001b[0m\u001b[1;31m:\u001b[0m invalid syntax\n"
     ]
    }
   ],
   "source": [
    "a = 1\n",
    "if a == 1 : print(\"a는 1\") print(\"good bye\")"
   ]
  },
  {
   "cell_type": "code",
   "execution_count": null,
   "id": "8cca630f",
   "metadata": {},
   "outputs": [],
   "source": [
    "# 밑에 줄은 조건과 무관함"
   ]
  },
  {
   "cell_type": "code",
   "execution_count": 17,
   "id": "0afb144d",
   "metadata": {},
   "outputs": [
    {
     "name": "stdout",
     "output_type": "stream",
     "text": [
      "a는 1\n",
      "good bye\n"
     ]
    }
   ],
   "source": [
    "a = 1\n",
    "if a == 1 : print(\"a는 1\") \n",
    "print(\"good bye\")"
   ]
  },
  {
   "cell_type": "code",
   "execution_count": 19,
   "id": "e990a120",
   "metadata": {},
   "outputs": [
    {
     "name": "stdout",
     "output_type": "stream",
     "text": [
      "나무를 1(번)을 세차게 찍었다.\n",
      "나무를 2(번)을 세차게 찍었다.\n",
      "나무를 3(번)을 세차게 찍었다.\n",
      "나무를 4(번)을 세차게 찍었다.\n",
      "나무를 5(번)을 세차게 찍었다.\n",
      "나무를 6(번)을 세차게 찍었다.\n",
      "나무를 7(번)을 세차게 찍었다.\n",
      "나무를 8(번)을 세차게 찍었다.\n",
      "나무를 9(번)을 세차게 찍었다.\n",
      "나무를 10(번)을 세차게 찍었다.\n",
      "의지가 뛰어났다, 나무가 넘어간다.\n"
     ]
    }
   ],
   "source": [
    "treeHit = 0 # 나무를 찍은 횟수 (초기화)\n",
    "while treeHit < 10: # 나무를 찍는 횟수가 10보다 작은 동안 반복\n",
    "    treeHit = treeHit + 1 # 나무를 찍은 횟수 1씩증가\n",
    "    print(\"나무를 %d(번)을 세차게 찍었다.\" % treeHit)\n",
    "    if treeHit == 10: #나무를 n번 찍으면\n",
    "        print(\"의지가 뛰어났다, 나무가 넘어간다.\")"
   ]
  },
  {
   "cell_type": "code",
   "execution_count": null,
   "id": "9cb82eb3",
   "metadata": {},
   "outputs": [],
   "source": [
    "# 세련되게, 멋지게, 아름답게"
   ]
  },
  {
   "cell_type": "code",
   "execution_count": 24,
   "id": "72fa2fb8",
   "metadata": {},
   "outputs": [
    {
     "name": "stdout",
     "output_type": "stream",
     "text": [
      "나무를 0(번)을 세차게 찍었다.\n",
      "나무를 1(번)을 세차게 찍었다.\n",
      "나무를 2(번)을 세차게 찍었다.\n",
      "나무를 3(번)을 세차게 찍었다.\n",
      "나무를 4(번)을 세차게 찍었다.\n",
      "나무를 5(번)을 세차게 찍었다.\n",
      "나무를 6(번)을 세차게 찍었다.\n",
      "나무를 7(번)을 세차게 찍었다.\n",
      "나무를 8(번)을 세차게 찍었다.\n",
      "나무를 9(번)을 세차게 찍었다.\n",
      "나무를 10(번)을 세차게 찍었다.\n",
      "의지가 뛰어났다, 나무가 넘어간다.\n"
     ]
    }
   ],
   "source": [
    "treeHit = 0 # 나무를 찍은 횟수 (초기화)\n",
    "while treeHit <= 10: # 나무를 찍는 횟수가 10보다 작은 동안 반복\n",
    "    print(\"나무를 \" + str(treeHit) + \"(번)을 세차게 찍었다.\")\n",
    "    if treeHit == 10: print(\"의지가 뛰어났다, 나무가 넘어간다.\")\n",
    "    treeHit += 1 # 나무를 찍은 횟수 1씩증가"
   ]
  },
  {
   "cell_type": "code",
   "execution_count": 28,
   "id": "e5c70ad7",
   "metadata": {},
   "outputs": [
    {
     "name": "stdout",
     "output_type": "stream",
     "text": [
      "정수를 입력하세요100\n",
      "101\n"
     ]
    }
   ],
   "source": [
    "a = input(\"정수를 입력하세요\")\n",
    "a = int(a) + 1\n",
    "print(a)"
   ]
  },
  {
   "cell_type": "code",
   "execution_count": 29,
   "id": "a4cf476c",
   "metadata": {},
   "outputs": [
    {
     "name": "stdout",
     "output_type": "stream",
     "text": [
      "정수를 입력하세요100\n",
      "100\n"
     ]
    }
   ],
   "source": [
    "a = input(\"정수를 입력하세요\")\n",
    "\n",
    "\n",
    "print(a)"
   ]
  },
  {
   "cell_type": "code",
   "execution_count": 33,
   "id": "6c6a8929",
   "metadata": {},
   "outputs": [
    {
     "name": "stdout",
     "output_type": "stream",
     "text": [
      "Geben Sie eine Temperatur ein 24\n",
      "Geben Sie eine Temperatur ein 25\n",
      "Geben Sie eine Temperatur ein 26\n",
      "Geben Sie eine Temperatur ein 22\n",
      "[24, 25, 26, 22]\n"
     ]
    }
   ],
   "source": [
    "list_a = []\n",
    "count = 0\n",
    "while count < 4:\n",
    "    recieved = input(\"Geben Sie eine Temperatur ein \")\n",
    "    recieved = int(recieved)\n",
    "    list_a.append(recieved) # append\n",
    "    count += 1\n",
    "print(list_a)"
   ]
  },
  {
   "cell_type": "code",
   "execution_count": 36,
   "id": "a47c9c68",
   "metadata": {},
   "outputs": [
    {
     "name": "stdout",
     "output_type": "stream",
     "text": [
      "Geben Sie eine Temperatur ein, wenn SIe das Eingabe stoppen wollen, geben Sie '-500'ein\n",
      "Geben Sie eine Temperatur ein 21\n",
      "Geben Sie eine Temperatur ein 21\n",
      "Geben Sie eine Temperatur ein 21\n",
      "Geben Sie eine Temperatur ein 22\n",
      "Geben Sie eine Temperatur ein -500\n",
      "[21, 21, 21, 22]\n"
     ]
    }
   ],
   "source": [
    "# 얼만큼의 데이터가 들어올지 모름, 그러면 계속 돌아가는데 특정값이 들어오면 끝\n",
    "list_a = []\n",
    "count = 1 # count = 0\n",
    "print(\"Geben Sie eine Temperatur ein, wenn SIe das Eingabe stoppen wollen, geben Sie '-500'ein\")\n",
    "while True: # count < 4:\n",
    "    recieved = input(\"Geben Sie eine Temperatur ein \")\n",
    "    if recieved == \"-500\": break\n",
    "    recieved = int(recieved)\n",
    "    list_a.append(recieved) # append\n",
    "    count += 1\n",
    "print(list_a)"
   ]
  },
  {
   "cell_type": "code",
   "execution_count": 41,
   "id": "3a949b51",
   "metadata": {},
   "outputs": [
    {
     "name": "stdout",
     "output_type": "stream",
     "text": [
      "Geben Sie eine Temperatur ein, wenn SIe das Eingabe stoppen wollen, geben Sie '-500'ein\n",
      "Geben Sie eine Temperatur ein 5\n",
      "Geben Sie eine Temperatur ein 8\n",
      "Geben Sie eine Temperatur ein 48\n",
      "Geben Sie eine Temperatur ein 45\n",
      "Geben Sie eine Temperatur ein 20\n",
      "Geben Sie eine Temperatur ein 15\n",
      "Geben Sie eine Temperatur ein 60\n",
      "Geben Sie eine Temperatur ein 84\n",
      "Geben Sie eine Temperatur ein 100\n",
      "Geben Sie eine Temperatur ein 2100\n",
      "Geben Sie eine Temperatur ein -500\n",
      "[]\n"
     ]
    }
   ],
   "source": [
    "list_a = []\n",
    "print(\"Geben Sie eine Temperatur ein, wenn SIe das Eingabe stoppen wollen, geben Sie '-500'ein\")\n",
    "while True: # count < 4:\n",
    "    recieved = input(\"Geben Sie eine Temperatur ein \")\n",
    "    recieved = int(recieved)\n",
    "    if recieved == -500: break\n",
    "    if recieved < 50 or recieved > -40: continue\n",
    "    list_a.append(recieved) # append\n",
    "print(list_a)"
   ]
  },
  {
   "cell_type": "code",
   "execution_count": 42,
   "id": "b607d74d",
   "metadata": {},
   "outputs": [
    {
     "name": "stdout",
     "output_type": "stream",
     "text": [
      "온도?520\n",
      "온도?20\n",
      "온도?5\n",
      "온도?48\n",
      "온도?22\n",
      "온도?21\n",
      "온도?231\n",
      "온도?54\n",
      "온도?9684\n",
      "온도?45\n",
      "온도?-500\n",
      "[20, 5, 48, 22, 21, 45]\n"
     ]
    }
   ],
   "source": [
    "list_a = []\n",
    "while True:\n",
    "    recieved = input(\"온도?\")\n",
    "    recieved = int(recieved)\n",
    "    if recieved == -500: break\n",
    "    if recieved > 50 or recieved < -40: continue\n",
    "    list_a.append(recieved)\n",
    "print (list_a)"
   ]
  },
  {
   "cell_type": "code",
   "execution_count": 43,
   "id": "99691535",
   "metadata": {},
   "outputs": [
    {
     "name": "stdout",
     "output_type": "stream",
     "text": [
      "one\n",
      "two\n",
      "three\n"
     ]
    }
   ],
   "source": [
    "test_list = ['one', \"two\", \"three\"]\n",
    "for i in test_list:\n",
    "    print(i)"
   ]
  },
  {
   "cell_type": "code",
   "execution_count": 45,
   "id": "8b41639e",
   "metadata": {},
   "outputs": [
    {
     "name": "stdout",
     "output_type": "stream",
     "text": [
      "range(0, 10)\n"
     ]
    }
   ],
   "source": [
    "a = range(10)\n",
    "print(a)"
   ]
  },
  {
   "cell_type": "code",
   "execution_count": 46,
   "id": "c545c28e",
   "metadata": {},
   "outputs": [
    {
     "name": "stdout",
     "output_type": "stream",
     "text": [
      "0\n",
      "1\n",
      "2\n",
      "3\n",
      "4\n",
      "5\n",
      "6\n",
      "7\n",
      "8\n",
      "9\n"
     ]
    }
   ],
   "source": [
    "for i in range(10):\n",
    "    print(i)"
   ]
  },
  {
   "cell_type": "code",
   "execution_count": 49,
   "id": "8332d530",
   "metadata": {},
   "outputs": [
    {
     "name": "stdout",
     "output_type": "stream",
     "text": [
      "0 1 2 3 4 5 6 7 8 9 "
     ]
    }
   ],
   "source": [
    "for i in range(10):\n",
    "    print(i, end=\" \") # 문자열 슬라이싱"
   ]
  },
  {
   "cell_type": "code",
   "execution_count": 50,
   "id": "c4a8db0a",
   "metadata": {},
   "outputs": [
    {
     "name": "stdout",
     "output_type": "stream",
     "text": [
      "5 6 7 8 9 "
     ]
    }
   ],
   "source": [
    "for i in range(5, 10):\n",
    "    print(i, end=\" \")"
   ]
  },
  {
   "cell_type": "code",
   "execution_count": 54,
   "id": "438f46c3",
   "metadata": {},
   "outputs": [
    {
     "name": "stdout",
     "output_type": "stream",
     "text": [
      "1 3 5 7 9 "
     ]
    }
   ],
   "source": [
    "for i in range(1, 11, 2): # 간격\n",
    "    print(i, end=\" \")"
   ]
  },
  {
   "cell_type": "code",
   "execution_count": 57,
   "id": "fee3f9d7",
   "metadata": {},
   "outputs": [
    {
     "name": "stdout",
     "output_type": "stream",
     "text": [
      "10 9 8 7 6 5 4 3 2 1 "
     ]
    }
   ],
   "source": [
    "for i in range(10, 0, -1):\n",
    "    print(i, end=\" \")"
   ]
  },
  {
   "cell_type": "code",
   "execution_count": 59,
   "id": "0694682c",
   "metadata": {},
   "outputs": [
    {
     "name": "stdout",
     "output_type": "stream",
     "text": [
      "1 4 7 10 "
     ]
    }
   ],
   "source": [
    "for i in (1, 4, 7, 10):\n",
    "    print(i, end=\" \")"
   ]
  },
  {
   "cell_type": "code",
   "execution_count": 60,
   "id": "17b5cbeb",
   "metadata": {},
   "outputs": [
    {
     "name": "stdout",
     "output_type": "stream",
     "text": [
      "[[1, 2, 3, 4, 1, 2, 3, 4, 1, 2, 3, 4], [1, 2, 3, 4, 1, 2, 3, 4, 1, 2, 3, 4], [1, 2, 3, 4, 1, 2, 3, 4, 1, 2, 3, 4], [1, 2, 3, 4, 1, 2, 3, 4, 1, 2, 3, 4]]"
     ]
    }
   ],
   "source": [
    "a = [1, 2, 3, 4]\n",
    "res = []\n",
    "for i in a:\n",
    "    res.append(a*3)\n",
    "print(res, end=\"\")"
   ]
  },
  {
   "cell_type": "code",
   "execution_count": 65,
   "id": "20e27ab7",
   "metadata": {},
   "outputs": [
    {
     "name": "stdout",
     "output_type": "stream",
     "text": [
      "[3, 6, 9, 12]"
     ]
    }
   ],
   "source": [
    "a = [1, 2, 3, 4]\n",
    "res = []\n",
    "for num in a:\n",
    "    res.append(num*3)\n",
    "print(res, end=\"\")"
   ]
  },
  {
   "cell_type": "code",
   "execution_count": 67,
   "id": "f237b3ee",
   "metadata": {},
   "outputs": [
    {
     "name": "stdout",
     "output_type": "stream",
     "text": [
      "[3, 6, 9, 12]"
     ]
    }
   ],
   "source": [
    "a = [1, 2, 3, 4]\n",
    "res = [num*3 for num in a]\n",
    "print(res, end=\"\")"
   ]
  },
  {
   "cell_type": "code",
   "execution_count": 68,
   "id": "a0881ddf",
   "metadata": {},
   "outputs": [
    {
     "name": "stdout",
     "output_type": "stream",
     "text": [
      "[6, 12]"
     ]
    }
   ],
   "source": [
    "a = [1, 2, 3, 4]\n",
    "res = [num*3 for num in a if num % 2 == 0]\n",
    "print(res, end=\"\")"
   ]
  },
  {
   "cell_type": "code",
   "execution_count": 78,
   "id": "498ee0fc",
   "metadata": {},
   "outputs": [
    {
     "name": "stdout",
     "output_type": "stream",
     "text": [
      "[6, 12]"
     ]
    }
   ],
   "source": [
    "a = [1, 2, 3, 4]\n",
    "res = []\n",
    "for num in a:\n",
    "    if num % 2 == 0:\n",
    "        res.append(num*3)\n",
    "print(res, end=\"\")"
   ]
  },
  {
   "cell_type": "code",
   "execution_count": 80,
   "id": "ed2b6685",
   "metadata": {},
   "outputs": [
    {
     "name": "stdout",
     "output_type": "stream",
     "text": [
      "[3, 6, 9, 12]"
     ]
    }
   ],
   "source": [
    "a = [1, 2, 3, 4]\n",
    "res = []\n",
    "for num in a:\n",
    "    if num % 1 == 0:\n",
    "        res.append(num*3)\n",
    "print(res, end=\"\")"
   ]
  },
  {
   "cell_type": "code",
   "execution_count": null,
   "id": "cdb7c5e4",
   "metadata": {},
   "outputs": [],
   "source": [
    "# 연습문제 146p"
   ]
  },
  {
   "cell_type": "code",
   "execution_count": 82,
   "id": "d87e94e5",
   "metadata": {},
   "outputs": [
    {
     "name": "stdout",
     "output_type": "stream",
     "text": [
      "shirt\n"
     ]
    }
   ],
   "source": [
    "a = \"Life is too short, you need python\"\n",
    "if \"wife\" in a: print(\"wife\")\n",
    "elif \"python\" in a and \"you\" not in a: print(\"python\")\n",
    "elif\"shirt\" not in a: print(\"shirt\")\n",
    "elif\"need\" in a: print(\"need\")\n",
    "else: print(\"none\")"
   ]
  },
  {
   "cell_type": "code",
   "execution_count": 86,
   "id": "65bf32ae",
   "metadata": {},
   "outputs": [
    {
     "name": "stdout",
     "output_type": "stream",
     "text": [
      "*\n",
      "**\n",
      "***\n",
      "****\n",
      "*****\n"
     ]
    }
   ],
   "source": [
    "i = 0 # 줄 갯수이자 별의 갯수\n",
    "while True:\n",
    "    i += 1\n",
    "    if i > 5: break\n",
    "    print(\"*\" * i)"
   ]
  },
  {
   "cell_type": "code",
   "execution_count": 102,
   "id": "2eebf23d",
   "metadata": {
    "scrolled": true
   },
   "outputs": [
    {
     "name": "stdout",
     "output_type": "stream",
     "text": [
      "*\n",
      "**\n",
      "***\n",
      "****\n",
      "*****\n"
     ]
    }
   ],
   "source": [
    "i = 0 # 줄 갯수이자 별의 갯수\n",
    "for i in range(1, 6):\n",
    "    if i > 5: break\n",
    "    print(\"*\" * i)"
   ]
  },
  {
   "cell_type": "code",
   "execution_count": 108,
   "id": "68fcc767",
   "metadata": {},
   "outputs": [
    {
     "name": "stdout",
     "output_type": "stream",
     "text": [
      "\n",
      "*\n",
      "**\n",
      "***\n",
      "****\n",
      "*****\n"
     ]
    }
   ],
   "source": [
    "i = 1  # 줄 갯수이자 별의 갯수\n",
    "for i in range(0, 6):\n",
    "    if i > 5: break\n",
    "    print(\"*\" * i)"
   ]
  },
  {
   "cell_type": "code",
   "execution_count": 117,
   "id": "ad4fc130",
   "metadata": {},
   "outputs": [
    {
     "name": "stdout",
     "output_type": "stream",
     "text": [
      "*\n",
      "**\n",
      "***\n",
      "****\n",
      "*****\n"
     ]
    }
   ],
   "source": [
    "i = 0\n",
    "while True:\n",
    "    i+=1\n",
    "    if i>5: break\n",
    "    for j in range(i):\n",
    "        print(\"*\", end=\"\")\n",
    "    print(\"\")"
   ]
  },
  {
   "cell_type": "code",
   "execution_count": 120,
   "id": "e1d8b855",
   "metadata": {},
   "outputs": [
    {
     "name": "stdout",
     "output_type": "stream",
     "text": [
      "j0 j1 j2 j3 j4 i0\n",
      "j0 j1 j2 j3 j4 i1\n",
      "j0 j1 j2 j3 j4 i2\n",
      "j0 j1 j2 j3 j4 i3\n",
      "j0 j1 j2 j3 j4 i4\n"
     ]
    }
   ],
   "source": [
    "for i in range(5):          # 5번 반복. 바깥쪽 루프는 세로 방향\n",
    "    for j in range(5):      # 5번 반복. 안쪽 루프는 가로 방향\n",
    "        print('j', j, sep='', end=' ')    # j값 출력. end에 ' '를 지정하여 줄바꿈 대신 한 칸 띄움\n",
    "    print('i', i, '', sep='')    # i값 출력, 개행 문자 모양도 출력\n",
    "                                     # 가로 방향으로 숫자를 모두 출력한 뒤 다음 줄로 넘어감\n",
    "                                     # (print는 기본적으로 출력 후 다음 줄로 넘어감)"
   ]
  },
  {
   "cell_type": "code",
   "execution_count": 133,
   "id": "f82f4d7e",
   "metadata": {},
   "outputs": [
    {
     "name": "stdout",
     "output_type": "stream",
     "text": [
      "10\n",
      "79.0\n"
     ]
    }
   ],
   "source": [
    "A = [70, 60, 55, 75, 95, 90, 80, 80, 85, 100]\n",
    "print(len(A))\n",
    "total = 0\n",
    "for score in A:\n",
    "    total += score\n",
    "average = total / len(A)\n",
    "print(average)"
   ]
  },
  {
   "cell_type": "code",
   "execution_count": 130,
   "id": "2a20ce6b",
   "metadata": {},
   "outputs": [
    {
     "name": "stdout",
     "output_type": "stream",
     "text": [
      "79.0\n"
     ]
    }
   ],
   "source": [
    "A = [70, 60, 55, 75, 95, 90, 80, 80, 85, 100]\n",
    "total = 0\n",
    "total = sum(A)\n",
    "average = total / 10\n",
    "print(average)"
   ]
  }
 ],
 "metadata": {
  "kernelspec": {
   "display_name": "Python 3",
   "language": "python",
   "name": "python3"
  },
  "language_info": {
   "codemirror_mode": {
    "name": "ipython",
    "version": 3
   },
   "file_extension": ".py",
   "mimetype": "text/x-python",
   "name": "python",
   "nbconvert_exporter": "python",
   "pygments_lexer": "ipython3",
   "version": "3.8.8"
  }
 },
 "nbformat": 4,
 "nbformat_minor": 5
}
