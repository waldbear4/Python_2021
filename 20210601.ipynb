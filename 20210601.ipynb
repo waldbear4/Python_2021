{
 "cells": [
  {
   "cell_type": "code",
   "execution_count": 7,
   "id": "77a11a25",
   "metadata": {},
   "outputs": [],
   "source": [
    "import pandas_datareader.data as web\n",
    "import pandas as pd"
   ]
  },
  {
   "cell_type": "code",
   "execution_count": 10,
   "id": "059bff15",
   "metadata": {},
   "outputs": [],
   "source": [
    "all_data = {ticker: web.get_data_yahoo(ticker)\n",
    "           for ticker in ['AAPL', 'IBM', 'MSFT', 'GOOG']}\n",
    "price = pd.DataFrame({ticker: data['Adj Close']\n",
    "                      for ticker, data in all_data.items()})\n",
    "volume = pd.DataFrame({ticker: data['Volume']\n",
    "                      for ticker, data in all_data.items()})"
   ]
  },
  {
   "cell_type": "code",
   "execution_count": 13,
   "id": "24799a66",
   "metadata": {},
   "outputs": [
    {
     "data": {
      "text/html": [
       "<div>\n",
       "<style scoped>\n",
       "    .dataframe tbody tr th:only-of-type {\n",
       "        vertical-align: middle;\n",
       "    }\n",
       "\n",
       "    .dataframe tbody tr th {\n",
       "        vertical-align: top;\n",
       "    }\n",
       "\n",
       "    .dataframe thead th {\n",
       "        text-align: right;\n",
       "    }\n",
       "</style>\n",
       "<table border=\"1\" class=\"dataframe\">\n",
       "  <thead>\n",
       "    <tr style=\"text-align: right;\">\n",
       "      <th></th>\n",
       "      <th>AAPL</th>\n",
       "      <th>IBM</th>\n",
       "      <th>MSFT</th>\n",
       "      <th>GOOG</th>\n",
       "    </tr>\n",
       "    <tr>\n",
       "      <th>Date</th>\n",
       "      <th></th>\n",
       "      <th></th>\n",
       "      <th></th>\n",
       "      <th></th>\n",
       "    </tr>\n",
       "  </thead>\n",
       "  <tbody>\n",
       "    <tr>\n",
       "      <th>2016-06-01</th>\n",
       "      <td>22.994963</td>\n",
       "      <td>122.114479</td>\n",
       "      <td>48.688492</td>\n",
       "      <td>734.150024</td>\n",
       "    </tr>\n",
       "    <tr>\n",
       "      <th>2016-06-02</th>\n",
       "      <td>22.822144</td>\n",
       "      <td>122.907143</td>\n",
       "      <td>48.347626</td>\n",
       "      <td>730.400024</td>\n",
       "    </tr>\n",
       "    <tr>\n",
       "      <th>2016-06-03</th>\n",
       "      <td>22.868847</td>\n",
       "      <td>122.418724</td>\n",
       "      <td>47.711952</td>\n",
       "      <td>722.340027</td>\n",
       "    </tr>\n",
       "    <tr>\n",
       "      <th>2016-06-06</th>\n",
       "      <td>23.034662</td>\n",
       "      <td>122.290611</td>\n",
       "      <td>48.025192</td>\n",
       "      <td>716.549988</td>\n",
       "    </tr>\n",
       "    <tr>\n",
       "      <th>2016-06-07</th>\n",
       "      <td>23.128084</td>\n",
       "      <td>122.771080</td>\n",
       "      <td>47.997551</td>\n",
       "      <td>716.650024</td>\n",
       "    </tr>\n",
       "  </tbody>\n",
       "</table>\n",
       "</div>"
      ],
      "text/plain": [
       "                 AAPL         IBM       MSFT        GOOG\n",
       "Date                                                    \n",
       "2016-06-01  22.994963  122.114479  48.688492  734.150024\n",
       "2016-06-02  22.822144  122.907143  48.347626  730.400024\n",
       "2016-06-03  22.868847  122.418724  47.711952  722.340027\n",
       "2016-06-06  23.034662  122.290611  48.025192  716.549988\n",
       "2016-06-07  23.128084  122.771080  47.997551  716.650024"
      ]
     },
     "execution_count": 13,
     "metadata": {},
     "output_type": "execute_result"
    }
   ],
   "source": [
    "price.head()"
   ]
  },
  {
   "cell_type": "code",
   "execution_count": 15,
   "id": "79ce347d",
   "metadata": {},
   "outputs": [],
   "source": [
    "returns = price.pct_change()"
   ]
  },
  {
   "cell_type": "code",
   "execution_count": 16,
   "id": "25b9b79a",
   "metadata": {},
   "outputs": [
    {
     "data": {
      "text/html": [
       "<div>\n",
       "<style scoped>\n",
       "    .dataframe tbody tr th:only-of-type {\n",
       "        vertical-align: middle;\n",
       "    }\n",
       "\n",
       "    .dataframe tbody tr th {\n",
       "        vertical-align: top;\n",
       "    }\n",
       "\n",
       "    .dataframe thead th {\n",
       "        text-align: right;\n",
       "    }\n",
       "</style>\n",
       "<table border=\"1\" class=\"dataframe\">\n",
       "  <thead>\n",
       "    <tr style=\"text-align: right;\">\n",
       "      <th></th>\n",
       "      <th>AAPL</th>\n",
       "      <th>IBM</th>\n",
       "      <th>MSFT</th>\n",
       "      <th>GOOG</th>\n",
       "    </tr>\n",
       "    <tr>\n",
       "      <th>Date</th>\n",
       "      <th></th>\n",
       "      <th></th>\n",
       "      <th></th>\n",
       "      <th></th>\n",
       "    </tr>\n",
       "  </thead>\n",
       "  <tbody>\n",
       "    <tr>\n",
       "      <th>2021-05-24</th>\n",
       "      <td>0.013314</td>\n",
       "      <td>-0.000138</td>\n",
       "      <td>0.022882</td>\n",
       "      <td>0.026255</td>\n",
       "    </tr>\n",
       "    <tr>\n",
       "      <th>2021-05-25</th>\n",
       "      <td>-0.001574</td>\n",
       "      <td>-0.006426</td>\n",
       "      <td>0.003748</td>\n",
       "      <td>0.000997</td>\n",
       "    </tr>\n",
       "    <tr>\n",
       "      <th>2021-05-26</th>\n",
       "      <td>-0.000394</td>\n",
       "      <td>-0.002851</td>\n",
       "      <td>-0.000914</td>\n",
       "      <td>0.010153</td>\n",
       "    </tr>\n",
       "    <tr>\n",
       "      <th>2021-05-27</th>\n",
       "      <td>-0.012377</td>\n",
       "      <td>0.003069</td>\n",
       "      <td>-0.008668</td>\n",
       "      <td>-0.012747</td>\n",
       "    </tr>\n",
       "    <tr>\n",
       "      <th>2021-05-28</th>\n",
       "      <td>-0.005348</td>\n",
       "      <td>-0.000556</td>\n",
       "      <td>0.001484</td>\n",
       "      <td>0.003767</td>\n",
       "    </tr>\n",
       "  </tbody>\n",
       "</table>\n",
       "</div>"
      ],
      "text/plain": [
       "                AAPL       IBM      MSFT      GOOG\n",
       "Date                                              \n",
       "2021-05-24  0.013314 -0.000138  0.022882  0.026255\n",
       "2021-05-25 -0.001574 -0.006426  0.003748  0.000997\n",
       "2021-05-26 -0.000394 -0.002851 -0.000914  0.010153\n",
       "2021-05-27 -0.012377  0.003069 -0.008668 -0.012747\n",
       "2021-05-28 -0.005348 -0.000556  0.001484  0.003767"
      ]
     },
     "execution_count": 16,
     "metadata": {},
     "output_type": "execute_result"
    }
   ],
   "source": [
    "returns.tail()"
   ]
  },
  {
   "cell_type": "code",
   "execution_count": 19,
   "id": "34b6fd2e",
   "metadata": {},
   "outputs": [
    {
     "data": {
      "text/plain": [
       "0.5300883782025547"
      ]
     },
     "execution_count": 19,
     "metadata": {},
     "output_type": "execute_result"
    }
   ],
   "source": [
    "returns['MSFT'].corr(returns[\"IBM\"])"
   ]
  },
  {
   "cell_type": "code",
   "execution_count": 20,
   "id": "3a42ac79",
   "metadata": {},
   "outputs": [
    {
     "data": {
      "text/plain": [
       "0.00015021229929045767"
      ]
     },
     "execution_count": 20,
     "metadata": {},
     "output_type": "execute_result"
    }
   ],
   "source": [
    "returns['MSFT'].cov(returns[\"IBM\"])"
   ]
  },
  {
   "cell_type": "code",
   "execution_count": 21,
   "id": "62594847",
   "metadata": {},
   "outputs": [
    {
     "data": {
      "text/plain": [
       "0.5300883782025547"
      ]
     },
     "execution_count": 21,
     "metadata": {},
     "output_type": "execute_result"
    }
   ],
   "source": [
    "returns.MSFT.corr(returns.IBM)"
   ]
  },
  {
   "cell_type": "code",
   "execution_count": 22,
   "id": "85d7c2de",
   "metadata": {},
   "outputs": [
    {
     "data": {
      "text/html": [
       "<div>\n",
       "<style scoped>\n",
       "    .dataframe tbody tr th:only-of-type {\n",
       "        vertical-align: middle;\n",
       "    }\n",
       "\n",
       "    .dataframe tbody tr th {\n",
       "        vertical-align: top;\n",
       "    }\n",
       "\n",
       "    .dataframe thead th {\n",
       "        text-align: right;\n",
       "    }\n",
       "</style>\n",
       "<table border=\"1\" class=\"dataframe\">\n",
       "  <thead>\n",
       "    <tr style=\"text-align: right;\">\n",
       "      <th></th>\n",
       "      <th>AAPL</th>\n",
       "      <th>IBM</th>\n",
       "      <th>MSFT</th>\n",
       "      <th>GOOG</th>\n",
       "    </tr>\n",
       "  </thead>\n",
       "  <tbody>\n",
       "    <tr>\n",
       "      <th>AAPL</th>\n",
       "      <td>1.000000</td>\n",
       "      <td>0.446158</td>\n",
       "      <td>0.726443</td>\n",
       "      <td>0.660388</td>\n",
       "    </tr>\n",
       "    <tr>\n",
       "      <th>IBM</th>\n",
       "      <td>0.446158</td>\n",
       "      <td>1.000000</td>\n",
       "      <td>0.530088</td>\n",
       "      <td>0.492515</td>\n",
       "    </tr>\n",
       "    <tr>\n",
       "      <th>MSFT</th>\n",
       "      <td>0.726443</td>\n",
       "      <td>0.530088</td>\n",
       "      <td>1.000000</td>\n",
       "      <td>0.771513</td>\n",
       "    </tr>\n",
       "    <tr>\n",
       "      <th>GOOG</th>\n",
       "      <td>0.660388</td>\n",
       "      <td>0.492515</td>\n",
       "      <td>0.771513</td>\n",
       "      <td>1.000000</td>\n",
       "    </tr>\n",
       "  </tbody>\n",
       "</table>\n",
       "</div>"
      ],
      "text/plain": [
       "          AAPL       IBM      MSFT      GOOG\n",
       "AAPL  1.000000  0.446158  0.726443  0.660388\n",
       "IBM   0.446158  1.000000  0.530088  0.492515\n",
       "MSFT  0.726443  0.530088  1.000000  0.771513\n",
       "GOOG  0.660388  0.492515  0.771513  1.000000"
      ]
     },
     "execution_count": 22,
     "metadata": {},
     "output_type": "execute_result"
    }
   ],
   "source": [
    "returns.corr()"
   ]
  },
  {
   "cell_type": "code",
   "execution_count": 23,
   "id": "92656eb1",
   "metadata": {},
   "outputs": [
    {
     "data": {
      "text/html": [
       "<div>\n",
       "<style scoped>\n",
       "    .dataframe tbody tr th:only-of-type {\n",
       "        vertical-align: middle;\n",
       "    }\n",
       "\n",
       "    .dataframe tbody tr th {\n",
       "        vertical-align: top;\n",
       "    }\n",
       "\n",
       "    .dataframe thead th {\n",
       "        text-align: right;\n",
       "    }\n",
       "</style>\n",
       "<table border=\"1\" class=\"dataframe\">\n",
       "  <thead>\n",
       "    <tr style=\"text-align: right;\">\n",
       "      <th></th>\n",
       "      <th>AAPL</th>\n",
       "      <th>IBM</th>\n",
       "      <th>MSFT</th>\n",
       "      <th>GOOG</th>\n",
       "    </tr>\n",
       "  </thead>\n",
       "  <tbody>\n",
       "    <tr>\n",
       "      <th>AAPL</th>\n",
       "      <td>0.000363</td>\n",
       "      <td>0.000139</td>\n",
       "      <td>0.000239</td>\n",
       "      <td>0.000212</td>\n",
       "    </tr>\n",
       "    <tr>\n",
       "      <th>IBM</th>\n",
       "      <td>0.000139</td>\n",
       "      <td>0.000268</td>\n",
       "      <td>0.000150</td>\n",
       "      <td>0.000136</td>\n",
       "    </tr>\n",
       "    <tr>\n",
       "      <th>MSFT</th>\n",
       "      <td>0.000239</td>\n",
       "      <td>0.000150</td>\n",
       "      <td>0.000299</td>\n",
       "      <td>0.000225</td>\n",
       "    </tr>\n",
       "    <tr>\n",
       "      <th>GOOG</th>\n",
       "      <td>0.000212</td>\n",
       "      <td>0.000136</td>\n",
       "      <td>0.000225</td>\n",
       "      <td>0.000284</td>\n",
       "    </tr>\n",
       "  </tbody>\n",
       "</table>\n",
       "</div>"
      ],
      "text/plain": [
       "          AAPL       IBM      MSFT      GOOG\n",
       "AAPL  0.000363  0.000139  0.000239  0.000212\n",
       "IBM   0.000139  0.000268  0.000150  0.000136\n",
       "MSFT  0.000239  0.000150  0.000299  0.000225\n",
       "GOOG  0.000212  0.000136  0.000225  0.000284"
      ]
     },
     "execution_count": 23,
     "metadata": {},
     "output_type": "execute_result"
    }
   ],
   "source": [
    "returns.cov()"
   ]
  },
  {
   "cell_type": "code",
   "execution_count": null,
   "id": "83e8c41a",
   "metadata": {},
   "outputs": [],
   "source": [
    "# Machine/Deep Learning : vias(편향)\n",
    "# 일반 통계 분석 : 상관 관계 vs 인과 관계\n",
    "# "
   ]
  },
  {
   "cell_type": "code",
   "execution_count": 26,
   "id": "9173c831",
   "metadata": {},
   "outputs": [
    {
     "data": {
      "text/plain": [
       "array(['c', 'a', 'd', 'b'], dtype=object)"
      ]
     },
     "execution_count": 26,
     "metadata": {},
     "output_type": "execute_result"
    }
   ],
   "source": [
    "s1 = pd.Series(['c','a','d','a','a','b','b','c','c'])\n",
    "uniques = s1.unique()\n",
    "uniques"
   ]
  },
  {
   "cell_type": "code",
   "execution_count": 29,
   "id": "1c4b07cc",
   "metadata": {},
   "outputs": [
    {
     "data": {
      "text/plain": [
       "a    3\n",
       "c    3\n",
       "b    2\n",
       "d    1\n",
       "dtype: int64"
      ]
     },
     "execution_count": 29,
     "metadata": {},
     "output_type": "execute_result"
    }
   ],
   "source": [
    "s1.value_counts()"
   ]
  },
  {
   "cell_type": "code",
   "execution_count": 32,
   "id": "ff5d2d97",
   "metadata": {},
   "outputs": [
    {
     "data": {
      "text/html": [
       "<div>\n",
       "<style scoped>\n",
       "    .dataframe tbody tr th:only-of-type {\n",
       "        vertical-align: middle;\n",
       "    }\n",
       "\n",
       "    .dataframe tbody tr th {\n",
       "        vertical-align: top;\n",
       "    }\n",
       "\n",
       "    .dataframe thead th {\n",
       "        text-align: right;\n",
       "    }\n",
       "</style>\n",
       "<table border=\"1\" class=\"dataframe\">\n",
       "  <thead>\n",
       "    <tr style=\"text-align: right;\">\n",
       "      <th></th>\n",
       "      <th>a</th>\n",
       "      <th>b</th>\n",
       "      <th>c</th>\n",
       "      <th>d</th>\n",
       "      <th>message</th>\n",
       "    </tr>\n",
       "  </thead>\n",
       "  <tbody>\n",
       "    <tr>\n",
       "      <th>0</th>\n",
       "      <td>1</td>\n",
       "      <td>2</td>\n",
       "      <td>3</td>\n",
       "      <td>4</td>\n",
       "      <td>hello</td>\n",
       "    </tr>\n",
       "    <tr>\n",
       "      <th>1</th>\n",
       "      <td>5</td>\n",
       "      <td>6</td>\n",
       "      <td>7</td>\n",
       "      <td>8</td>\n",
       "      <td>world</td>\n",
       "    </tr>\n",
       "    <tr>\n",
       "      <th>2</th>\n",
       "      <td>9</td>\n",
       "      <td>10</td>\n",
       "      <td>11</td>\n",
       "      <td>12</td>\n",
       "      <td>foo</td>\n",
       "    </tr>\n",
       "  </tbody>\n",
       "</table>\n",
       "</div>"
      ],
      "text/plain": [
       "   a   b   c   d message\n",
       "0  1   2   3   4   hello\n",
       "1  5   6   7   8   world\n",
       "2  9  10  11  12     foo"
      ]
     },
     "execution_count": 32,
     "metadata": {},
     "output_type": "execute_result"
    }
   ],
   "source": [
    "df1 = pd.read_csv('examples/ex1.csv')\n",
    "df1"
   ]
  },
  {
   "cell_type": "code",
   "execution_count": 33,
   "id": "55bdb275",
   "metadata": {},
   "outputs": [
    {
     "data": {
      "text/html": [
       "<div>\n",
       "<style scoped>\n",
       "    .dataframe tbody tr th:only-of-type {\n",
       "        vertical-align: middle;\n",
       "    }\n",
       "\n",
       "    .dataframe tbody tr th {\n",
       "        vertical-align: top;\n",
       "    }\n",
       "\n",
       "    .dataframe thead th {\n",
       "        text-align: right;\n",
       "    }\n",
       "</style>\n",
       "<table border=\"1\" class=\"dataframe\">\n",
       "  <thead>\n",
       "    <tr style=\"text-align: right;\">\n",
       "      <th></th>\n",
       "      <th>a</th>\n",
       "      <th>b</th>\n",
       "      <th>c</th>\n",
       "      <th>d</th>\n",
       "      <th>message</th>\n",
       "    </tr>\n",
       "  </thead>\n",
       "  <tbody>\n",
       "    <tr>\n",
       "      <th>0</th>\n",
       "      <td>1</td>\n",
       "      <td>2</td>\n",
       "      <td>3</td>\n",
       "      <td>4</td>\n",
       "      <td>hello</td>\n",
       "    </tr>\n",
       "    <tr>\n",
       "      <th>1</th>\n",
       "      <td>5</td>\n",
       "      <td>6</td>\n",
       "      <td>7</td>\n",
       "      <td>8</td>\n",
       "      <td>world</td>\n",
       "    </tr>\n",
       "    <tr>\n",
       "      <th>2</th>\n",
       "      <td>9</td>\n",
       "      <td>10</td>\n",
       "      <td>11</td>\n",
       "      <td>12</td>\n",
       "      <td>foo</td>\n",
       "    </tr>\n",
       "  </tbody>\n",
       "</table>\n",
       "</div>"
      ],
      "text/plain": [
       "   a   b   c   d message\n",
       "0  1   2   3   4   hello\n",
       "1  5   6   7   8   world\n",
       "2  9  10  11  12     foo"
      ]
     },
     "execution_count": 33,
     "metadata": {},
     "output_type": "execute_result"
    }
   ],
   "source": [
    "df1 = pd.read_csv('examples/ex1-.csv', sep='/')\n",
    "df1"
   ]
  },
  {
   "cell_type": "code",
   "execution_count": 35,
   "id": "02512f0b",
   "metadata": {},
   "outputs": [
    {
     "data": {
      "text/html": [
       "<div>\n",
       "<style scoped>\n",
       "    .dataframe tbody tr th:only-of-type {\n",
       "        vertical-align: middle;\n",
       "    }\n",
       "\n",
       "    .dataframe tbody tr th {\n",
       "        vertical-align: top;\n",
       "    }\n",
       "\n",
       "    .dataframe thead th {\n",
       "        text-align: right;\n",
       "    }\n",
       "</style>\n",
       "<table border=\"1\" class=\"dataframe\">\n",
       "  <thead>\n",
       "    <tr style=\"text-align: right;\">\n",
       "      <th></th>\n",
       "      <th>A         B         C</th>\n",
       "    </tr>\n",
       "  </thead>\n",
       "  <tbody>\n",
       "    <tr>\n",
       "      <th>0</th>\n",
       "      <td>aaa -0.264438 -1.026059 -0.619500</td>\n",
       "    </tr>\n",
       "    <tr>\n",
       "      <th>1</th>\n",
       "      <td>bbb  0.927272  0.302904 -0.032399</td>\n",
       "    </tr>\n",
       "    <tr>\n",
       "      <th>2</th>\n",
       "      <td>ccc -0.264273 -0.386314 -0.217601</td>\n",
       "    </tr>\n",
       "    <tr>\n",
       "      <th>3</th>\n",
       "      <td>ddd -0.871858 -0.348382  1.100491</td>\n",
       "    </tr>\n",
       "  </tbody>\n",
       "</table>\n",
       "</div>"
      ],
      "text/plain": [
       "               A         B         C\n",
       "0  aaa -0.264438 -1.026059 -0.619500\n",
       "1  bbb  0.927272  0.302904 -0.032399\n",
       "2  ccc -0.264273 -0.386314 -0.217601\n",
       "3  ddd -0.871858 -0.348382  1.100491"
      ]
     },
     "execution_count": 35,
     "metadata": {},
     "output_type": "execute_result"
    }
   ],
   "source": [
    "df2 = pd.read_csv('examples/ex3.csv')  # read.table 로 읽는게 나음\n",
    "df2"
   ]
  },
  {
   "cell_type": "code",
   "execution_count": 38,
   "id": "e778a1d2",
   "metadata": {},
   "outputs": [
    {
     "data": {
      "text/html": [
       "<div>\n",
       "<style scoped>\n",
       "    .dataframe tbody tr th:only-of-type {\n",
       "        vertical-align: middle;\n",
       "    }\n",
       "\n",
       "    .dataframe tbody tr th {\n",
       "        vertical-align: top;\n",
       "    }\n",
       "\n",
       "    .dataframe thead th {\n",
       "        text-align: right;\n",
       "    }\n",
       "</style>\n",
       "<table border=\"1\" class=\"dataframe\">\n",
       "  <thead>\n",
       "    <tr style=\"text-align: right;\">\n",
       "      <th></th>\n",
       "      <th>A</th>\n",
       "      <th>B</th>\n",
       "      <th>C</th>\n",
       "    </tr>\n",
       "  </thead>\n",
       "  <tbody>\n",
       "    <tr>\n",
       "      <th>aaa</th>\n",
       "      <td>-0.264438</td>\n",
       "      <td>-1.026059</td>\n",
       "      <td>-0.619500</td>\n",
       "    </tr>\n",
       "    <tr>\n",
       "      <th>bbb</th>\n",
       "      <td>0.927272</td>\n",
       "      <td>0.302904</td>\n",
       "      <td>-0.032399</td>\n",
       "    </tr>\n",
       "    <tr>\n",
       "      <th>ccc</th>\n",
       "      <td>-0.264273</td>\n",
       "      <td>-0.386314</td>\n",
       "      <td>-0.217601</td>\n",
       "    </tr>\n",
       "    <tr>\n",
       "      <th>ddd</th>\n",
       "      <td>-0.871858</td>\n",
       "      <td>-0.348382</td>\n",
       "      <td>1.100491</td>\n",
       "    </tr>\n",
       "  </tbody>\n",
       "</table>\n",
       "</div>"
      ],
      "text/plain": [
       "            A         B         C\n",
       "aaa -0.264438 -1.026059 -0.619500\n",
       "bbb  0.927272  0.302904 -0.032399\n",
       "ccc -0.264273 -0.386314 -0.217601\n",
       "ddd -0.871858 -0.348382  1.100491"
      ]
     },
     "execution_count": 38,
     "metadata": {},
     "output_type": "execute_result"
    }
   ],
   "source": [
    "res = pd.read_table('examples/ex3.csv', sep='\\s+') #스페이스 제거\n",
    "res"
   ]
  },
  {
   "cell_type": "code",
   "execution_count": 48,
   "id": "a63d8f55",
   "metadata": {},
   "outputs": [
    {
     "data": {
      "text/html": [
       "<div>\n",
       "<style scoped>\n",
       "    .dataframe tbody tr th:only-of-type {\n",
       "        vertical-align: middle;\n",
       "    }\n",
       "\n",
       "    .dataframe tbody tr th {\n",
       "        vertical-align: top;\n",
       "    }\n",
       "\n",
       "    .dataframe thead th {\n",
       "        text-align: right;\n",
       "    }\n",
       "</style>\n",
       "<table border=\"1\" class=\"dataframe\">\n",
       "  <thead>\n",
       "    <tr style=\"text-align: right;\">\n",
       "      <th></th>\n",
       "      <th>a,b,c,d,message</th>\n",
       "    </tr>\n",
       "  </thead>\n",
       "  <tbody>\n",
       "    <tr>\n",
       "      <th>0</th>\n",
       "      <td>1,2,3,4,hello</td>\n",
       "    </tr>\n",
       "    <tr>\n",
       "      <th>1</th>\n",
       "      <td>5,6,7,8,world</td>\n",
       "    </tr>\n",
       "    <tr>\n",
       "      <th>2</th>\n",
       "      <td>9,10,11,12,foo</td>\n",
       "    </tr>\n",
       "  </tbody>\n",
       "</table>\n",
       "</div>"
      ],
      "text/plain": [
       "  a,b,c,d,message\n",
       "0   1,2,3,4,hello\n",
       "1   5,6,7,8,world\n",
       "2  9,10,11,12,foo"
      ]
     },
     "execution_count": 48,
     "metadata": {},
     "output_type": "execute_result"
    }
   ],
   "source": [
    "df3 = pd.read_table('examples/ex4.csv', skiprows=[0, 2, 3]) #줄 건너뛰기\n",
    "df3"
   ]
  },
  {
   "cell_type": "code",
   "execution_count": 51,
   "id": "313a0335",
   "metadata": {},
   "outputs": [
    {
     "data": {
      "text/html": [
       "<div>\n",
       "<style scoped>\n",
       "    .dataframe tbody tr th:only-of-type {\n",
       "        vertical-align: middle;\n",
       "    }\n",
       "\n",
       "    .dataframe tbody tr th {\n",
       "        vertical-align: top;\n",
       "    }\n",
       "\n",
       "    .dataframe thead th {\n",
       "        text-align: right;\n",
       "    }\n",
       "</style>\n",
       "<table border=\"1\" class=\"dataframe\">\n",
       "  <thead>\n",
       "    <tr style=\"text-align: right;\">\n",
       "      <th></th>\n",
       "      <th>something</th>\n",
       "      <th>a</th>\n",
       "      <th>b</th>\n",
       "      <th>c</th>\n",
       "      <th>d</th>\n",
       "      <th>message</th>\n",
       "    </tr>\n",
       "  </thead>\n",
       "  <tbody>\n",
       "    <tr>\n",
       "      <th>0</th>\n",
       "      <td>one</td>\n",
       "      <td>1</td>\n",
       "      <td>2</td>\n",
       "      <td>3.0</td>\n",
       "      <td>4</td>\n",
       "      <td>NaN</td>\n",
       "    </tr>\n",
       "    <tr>\n",
       "      <th>1</th>\n",
       "      <td>two</td>\n",
       "      <td>5</td>\n",
       "      <td>6</td>\n",
       "      <td>NaN</td>\n",
       "      <td>8</td>\n",
       "      <td>world</td>\n",
       "    </tr>\n",
       "    <tr>\n",
       "      <th>2</th>\n",
       "      <td>three</td>\n",
       "      <td>9</td>\n",
       "      <td>10</td>\n",
       "      <td>11.0</td>\n",
       "      <td>12</td>\n",
       "      <td>foo</td>\n",
       "    </tr>\n",
       "  </tbody>\n",
       "</table>\n",
       "</div>"
      ],
      "text/plain": [
       "  something  a   b     c   d message\n",
       "0       one  1   2   3.0   4     NaN\n",
       "1       two  5   6   NaN   8   world\n",
       "2     three  9  10  11.0  12     foo"
      ]
     },
     "execution_count": 51,
     "metadata": {},
     "output_type": "execute_result"
    }
   ],
   "source": [
    "df5 = pd.read_table('examples/ex5.csv', sep=',')\n",
    "df5"
   ]
  },
  {
   "cell_type": "code",
   "execution_count": 54,
   "id": "828197b2",
   "metadata": {},
   "outputs": [
    {
     "data": {
      "text/html": [
       "<div>\n",
       "<style scoped>\n",
       "    .dataframe tbody tr th:only-of-type {\n",
       "        vertical-align: middle;\n",
       "    }\n",
       "\n",
       "    .dataframe tbody tr th {\n",
       "        vertical-align: top;\n",
       "    }\n",
       "\n",
       "    .dataframe thead th {\n",
       "        text-align: right;\n",
       "    }\n",
       "</style>\n",
       "<table border=\"1\" class=\"dataframe\">\n",
       "  <thead>\n",
       "    <tr style=\"text-align: right;\">\n",
       "      <th></th>\n",
       "      <th>something</th>\n",
       "      <th>a</th>\n",
       "      <th>b</th>\n",
       "      <th>c</th>\n",
       "      <th>d</th>\n",
       "      <th>message</th>\n",
       "    </tr>\n",
       "  </thead>\n",
       "  <tbody>\n",
       "    <tr>\n",
       "      <th>0</th>\n",
       "      <td>False</td>\n",
       "      <td>False</td>\n",
       "      <td>False</td>\n",
       "      <td>False</td>\n",
       "      <td>False</td>\n",
       "      <td>True</td>\n",
       "    </tr>\n",
       "    <tr>\n",
       "      <th>1</th>\n",
       "      <td>False</td>\n",
       "      <td>False</td>\n",
       "      <td>False</td>\n",
       "      <td>True</td>\n",
       "      <td>False</td>\n",
       "      <td>False</td>\n",
       "    </tr>\n",
       "    <tr>\n",
       "      <th>2</th>\n",
       "      <td>False</td>\n",
       "      <td>False</td>\n",
       "      <td>False</td>\n",
       "      <td>False</td>\n",
       "      <td>False</td>\n",
       "      <td>False</td>\n",
       "    </tr>\n",
       "  </tbody>\n",
       "</table>\n",
       "</div>"
      ],
      "text/plain": [
       "   something      a      b      c      d  message\n",
       "0      False  False  False  False  False     True\n",
       "1      False  False  False   True  False    False\n",
       "2      False  False  False  False  False    False"
      ]
     },
     "execution_count": 54,
     "metadata": {},
     "output_type": "execute_result"
    }
   ],
   "source": [
    "pd.isnull(df5)"
   ]
  },
  {
   "cell_type": "code",
   "execution_count": 59,
   "id": "0ea6e23f",
   "metadata": {},
   "outputs": [],
   "source": [
    "df5 = pd.read_csv('examples/ex5.csv')\n",
    "df5.to_csv('examples/out.csv')"
   ]
  },
  {
   "cell_type": "code",
   "execution_count": 67,
   "id": "927a83fe",
   "metadata": {},
   "outputs": [
    {
     "data": {
      "text/html": [
       "<div>\n",
       "<style scoped>\n",
       "    .dataframe tbody tr th:only-of-type {\n",
       "        vertical-align: middle;\n",
       "    }\n",
       "\n",
       "    .dataframe tbody tr th {\n",
       "        vertical-align: top;\n",
       "    }\n",
       "\n",
       "    .dataframe thead th {\n",
       "        text-align: right;\n",
       "    }\n",
       "</style>\n",
       "<table border=\"1\" class=\"dataframe\">\n",
       "  <thead>\n",
       "    <tr style=\"text-align: right;\">\n",
       "      <th></th>\n",
       "      <th>one</th>\n",
       "      <th>1</th>\n",
       "      <th>2</th>\n",
       "      <th>3.0</th>\n",
       "      <th>4</th>\n",
       "      <th>ToBeReplaced</th>\n",
       "    </tr>\n",
       "  </thead>\n",
       "  <tbody>\n",
       "    <tr>\n",
       "      <th>0</th>\n",
       "      <td>two</td>\n",
       "      <td>5</td>\n",
       "      <td>6</td>\n",
       "      <td>ToBeReplaced</td>\n",
       "      <td>8</td>\n",
       "      <td>world</td>\n",
       "    </tr>\n",
       "    <tr>\n",
       "      <th>1</th>\n",
       "      <td>three</td>\n",
       "      <td>9</td>\n",
       "      <td>10</td>\n",
       "      <td>11.0</td>\n",
       "      <td>12</td>\n",
       "      <td>foo</td>\n",
       "    </tr>\n",
       "  </tbody>\n",
       "</table>\n",
       "</div>"
      ],
      "text/plain": [
       "     one  1   2           3.0   4 ToBeReplaced\n",
       "0    two  5   6  ToBeReplaced   8        world\n",
       "1  three  9  10          11.0  12          foo"
      ]
     },
     "execution_count": 67,
     "metadata": {},
     "output_type": "execute_result"
    }
   ],
   "source": [
    "df5 = pd.read_csv('examples/ex5.csv')\n",
    "df5.to_csv('examples/my_out_of_ex5.csv',\n",
    "          na_rep = \"ToBeReplaced\", index= False, header=False)\n"
   ]
  },
  {
   "cell_type": "code",
   "execution_count": 68,
   "id": "c14b43e4",
   "metadata": {},
   "outputs": [
    {
     "data": {
      "text/html": [
       "<div>\n",
       "<style scoped>\n",
       "    .dataframe tbody tr th:only-of-type {\n",
       "        vertical-align: middle;\n",
       "    }\n",
       "\n",
       "    .dataframe tbody tr th {\n",
       "        vertical-align: top;\n",
       "    }\n",
       "\n",
       "    .dataframe thead th {\n",
       "        text-align: right;\n",
       "    }\n",
       "</style>\n",
       "<table border=\"1\" class=\"dataframe\">\n",
       "  <thead>\n",
       "    <tr style=\"text-align: right;\">\n",
       "      <th></th>\n",
       "      <th>one</th>\n",
       "      <th>1</th>\n",
       "      <th>2</th>\n",
       "      <th>3.0</th>\n",
       "      <th>4</th>\n",
       "      <th>ToBeReplaced</th>\n",
       "    </tr>\n",
       "  </thead>\n",
       "  <tbody>\n",
       "    <tr>\n",
       "      <th>0</th>\n",
       "      <td>two</td>\n",
       "      <td>5</td>\n",
       "      <td>6</td>\n",
       "      <td>ToBeReplaced</td>\n",
       "      <td>8</td>\n",
       "      <td>world</td>\n",
       "    </tr>\n",
       "    <tr>\n",
       "      <th>1</th>\n",
       "      <td>three</td>\n",
       "      <td>9</td>\n",
       "      <td>10</td>\n",
       "      <td>11.0</td>\n",
       "      <td>12</td>\n",
       "      <td>foo</td>\n",
       "    </tr>\n",
       "  </tbody>\n",
       "</table>\n",
       "</div>"
      ],
      "text/plain": [
       "     one  1   2           3.0   4 ToBeReplaced\n",
       "0    two  5   6  ToBeReplaced   8        world\n",
       "1  three  9  10          11.0  12          foo"
      ]
     },
     "execution_count": 68,
     "metadata": {},
     "output_type": "execute_result"
    }
   ],
   "source": [
    "df5_1 = pd.read_csv('examples/my_out_of_ex5.csv')\n",
    "df5_1 #na 값 제거됨 인덱스 생김"
   ]
  },
  {
   "cell_type": "code",
   "execution_count": 72,
   "id": "825f018d",
   "metadata": {},
   "outputs": [
    {
     "data": {
      "text/html": [
       "<div>\n",
       "<style scoped>\n",
       "    .dataframe tbody tr th:only-of-type {\n",
       "        vertical-align: middle;\n",
       "    }\n",
       "\n",
       "    .dataframe tbody tr th {\n",
       "        vertical-align: top;\n",
       "    }\n",
       "\n",
       "    .dataframe thead th {\n",
       "        text-align: right;\n",
       "    }\n",
       "</style>\n",
       "<table border=\"1\" class=\"dataframe\">\n",
       "  <thead>\n",
       "    <tr style=\"text-align: right;\">\n",
       "      <th></th>\n",
       "      <th>a</th>\n",
       "      <th>b</th>\n",
       "      <th>c</th>\n",
       "    </tr>\n",
       "  </thead>\n",
       "  <tbody>\n",
       "    <tr>\n",
       "      <th>0</th>\n",
       "      <td>1</td>\n",
       "      <td>2</td>\n",
       "      <td>3.0</td>\n",
       "    </tr>\n",
       "    <tr>\n",
       "      <th>1</th>\n",
       "      <td>5</td>\n",
       "      <td>6</td>\n",
       "      <td>ToBeReplaced</td>\n",
       "    </tr>\n",
       "    <tr>\n",
       "      <th>2</th>\n",
       "      <td>9</td>\n",
       "      <td>10</td>\n",
       "      <td>11.0</td>\n",
       "    </tr>\n",
       "  </tbody>\n",
       "</table>\n",
       "</div>"
      ],
      "text/plain": [
       "   a   b             c\n",
       "0  1   2           3.0\n",
       "1  5   6  ToBeReplaced\n",
       "2  9  10          11.0"
      ]
     },
     "execution_count": 72,
     "metadata": {},
     "output_type": "execute_result"
    }
   ],
   "source": [
    "df5 = pd.read_csv('examples/ex5.csv')\n",
    "df5.to_csv('examples/my_out_of_ex5.csv',\n",
    "          na_rep = \"ToBeReplaced\", index= False,\n",
    "           columns=[\"a\", \"b\", \"c\"])\n",
    "df5_2 = pd.read_csv('examples/my_out_of_ex5.csv')\n",
    "df5_2"
   ]
  },
  {
   "cell_type": "code",
   "execution_count": 74,
   "id": "cce8b159",
   "metadata": {},
   "outputs": [],
   "source": [
    "# 크롤링 / 웹 스크래핑\n",
    "from bs4 import BeautifulSoup\n",
    "import requests"
   ]
  },
  {
   "cell_type": "code",
   "execution_count": 81,
   "id": "caf574be",
   "metadata": {},
   "outputs": [
    {
     "data": {
      "text/plain": [
       "<Response [200]>"
      ]
     },
     "execution_count": 81,
     "metadata": {},
     "output_type": "execute_result"
    }
   ],
   "source": [
    "source = requests.get(\"https://www.weather.go.kr/weather/observation/currentweather.jsp\")\n",
    "soup = BeautifulSoup(source.content, \"html.parser\")\n",
    "source"
   ]
  },
  {
   "cell_type": "code",
   "execution_count": 82,
   "id": "c1cf1a21",
   "metadata": {},
   "outputs": [
    {
     "data": {
      "text/plain": [
       "b'<!DOCTYPE html>\\n\\n<html lang=\"ko\">\\n\\t<head>\\n\\t\\t<meta http-equiv=\"X-UA-Compatible\" content=\"IE=Edge\" />\\n\\t\\t<title>\\xb5\\xb5\\xbd\\xc3\\xba\\xb0 \\xc7\\xf6\\xc0\\xe7\\xb3\\xaf\\xbe\\xbe &gt; \\xc1\\xf6\\xbb\\xf3\\xb0\\xfc\\xc3\\xf8\\xc0\\xda\\xb7\\xe1 &gt; \\xb0\\xfc\\xc3\\xf8\\xc0\\xda\\xb7\\xe1 &gt; \\xb3\\xaf\\xbe\\xbe &gt; \\xb1\\xe2\\xbb\\xf3\\xc3\\xbb </title>\\n\\t\\t<link rel=\"shortcut icon\" href=\"https://www.kma.go.kr/iphone-shortcut.png\" />\\n\\t\\t<link rel=\\'apple-touch-icon-precomposed\\' href=\\'https://www.kma.go.kr/iphone-shortcut.png\\'/> \\n\\t\\t<meta http-equiv=\"Content-Type\" content=\"text/html; charset=euc-kr\" />\\n\\t\\t<link rel=\"stylesheet\" type=\"text/css\" href=\"/share/css/base.css?ver=20210128\" />\\n\\t\\t<link rel=\"stylesheet\" type=\"text/css\" href=\"/share/css/common.css?ver=20210128\" />\\n\\t\\t<link rel=\"stylesheet\" type=\"text/css\" href=\"/share/css/weather-layout.css?ver=20210128\" />\\n\\t\\t<link rel=\"stylesheet\" type=\"text/css\" href=\"/share/css/component.css?ver=20210128\" />\\n\\t\\t<link rel=\"stylesheet\" type=\"text/css\" href=\"/share/css/add_2018.css?ver=20210128\" />\\n\\t\\t\\n\\t\\t\\n\\t\\t\\t<link rel=\"stylesheet\" type=\"text/css\" href=\"/share/css/weather-obs.css?ver=20210128\" />\\n\\t\\t\\n\\t\\t\\n\\t\\t<script src=\"/share/js/jquery-1.7.1.min.js\"></script>\\n\\t\\t<script src=\"/share/js/weather-common.js?ver=20210128\"></script>\\n\\t\\t\\n\\t\\t<link rel=\"stylesheet\" type=\"text/css\" href=\"/share/css/warninglayer.css?ver=20210128\" />\\n\\t\\t<!--[if gte IE 7]><link rel=\"stylesheet\" type=\"text/css\" href=\"/share/css/ie7.css\" /><![endif]-->\\n\\t\\t<meta name=\"title\" content=\"\\xb1\\xe2\\xbb\\xf3\\xc3\\xbb \" />\\n\\t\\t<meta name=\"author\" content=\"\\xb1\\xe2\\xbb\\xf3\\xc3\\xbb\" />\\n\\t\\t<meta name=\"keywords\" content=\"\\xb3\\xaf\\xbe\\xbe, \\xb1\\xe2\\xbb\\xf3\\xc3\\xbb\" />\\n\\t\\t<meta name=\"description\" content=\"\\xb1\\xe2\\xbb\\xf3\\xc3\\xbb \\xb3\\xaf\\xbe\\xbe\\xb4\\xa9\\xb8\\xae\\xc0\\xd4\\xb4\\xcf\\xb4\\xd9.\" />\\n\\t\\t\\n\\t\\t \\r\\n\\t<meta name=\"content-css\" content=\"weather-obs.css\" />\\r\\n    <meta name=\"parent-image\" content=\"../../images/weather/observation/h4_1_1.gif\" />\\r\\n    <meta name=\"parent-alt\" content=\"\\xc1\\xf6\\xbb\\xf3\\xb0\\xfc\\xc3\\xf8\\xc0\\xda\\xb7\\xe1\" />\\r\\n    <meta name=\"title-image\" content=\"../../images/weather/observation/h5_1_1.gif\" />\\r\\n    <meta name=\"title-alt\" content=\"\\xb5\\xb5\\xbd\\xc3\\xba\\xb0 \\xc7\\xf6\\xc0\\xe7\\xb3\\xaf\\xbe\\xbe\" />\\r\\n    <meta name=\"help-url\" content=\"/HELP/html/help_sfc001.jsp\" />\\r\\n\\r\\n    <style>\\r\\n        .table_subheader .top_line{background:#dce6ef;font-weight:bold;border:1px solid #c8c8c8; color:#333;}\\r\\n        .table_subheader .nm{background:#dce6ef;font-weight:bold;border:1px solid #c8c8c8; color:#333;}\\r\\n    </style>\\r\\n\\n\\t</head>\\n\\t<body\\n\\t\\t\\n\\t\\t\\n\\t\\t>\\n\\t\\t<div class=\"body-wrapper\">\\n\\t\\t\\t<div class=\"menu-bg\"></div>\\n\\t\\t\\t\\n\\t\\t\\t\\n\\t\\t\\t\\n\\t\\t\\t\\n\\t\\t\\t\\n\\t\\t\\t\\n\\t\\t\\t\\n\\t\\t\\t\\n\\t\\t\\t\\n\\t\\t\\t\\n\\t\\t\\t\\n\\t\\t\\t\\n\\t\\t\\t\\n\\t\\t\\t\\n\\t\\t\\t\\n\\t\\t\\t\\n\\t\\t\\t\\t\\n\\t\\t\\t\\t\\t\\r\\n\\t<div class=\"header-wrapper\">\\r\\n\\t\\t<div class=\"header-wrap-bar\"></div>\\r\\n\\t\\t<div id=\"header\">\\r\\n\\t\\t\\t\\r\\n\\t<dl id=\"skip\">\\r\\n\\t\\t<dt><strong class=\"hid\">\\xb9\\xd9\\xb7\\xce\\xb0\\xa1\\xb1\\xe2 \\xb8\\xde\\xb4\\xba</strong></dt>\\r\\n\\t\\t<dd><a class=\"golnb\" href=\"#main_menu\">\\xb8\\xde\\xc0\\xce\\xb8\\xde\\xb4\\xba \\xb9\\xd9\\xb7\\xce\\xb0\\xa1\\xb1\\xe2</a></dd>\\r\\n\\t</dl>\\r\\n\\t<div id=\"gnb\">\\r\\n\\t\\t<div id=\"goto-kma\" class=\"goto-kma\"><a href=\"#content\">\\xba\\xbb\\xb9\\xae\\xb9\\xd9\\xb7\\xce\\xb0\\xa1\\xb1\\xe2 (SKIP TO CONTENT) </a></div>\\r\\n\\t\\t<div style=\"display: inline-block; position: relative; left: 262px; top: 10px;\"><a href=\"http://www.weather.go.kr\" target=\"_blank\" style=\"text-decoration:none; \"><p style=\"width:190px; text-align:center; font-size:14px; font-weight:bold; color:#ffffff; padding: 3px; \">(\\xbd\\xc5)\\xb3\\xaf\\xbe\\xbe\\xb4\\xa9\\xb8\\xae \\xb9\\xd9\\xb7\\xce\\xb0\\xa1\\xb1\\xe2 ></p></a></div>\\r\\n\\t\\t\\t<ul id=\"area\">\\r\\n\\t\\t\\t\\t<li class=\"sitemap\"><a href=\"/weather/global/sitemap_weather.jsp\">\\xbb\\xe7\\xc0\\xcc\\xc6\\xae\\xb8\\xca</a></li>\\r\\n\\t\\t\\t\\t<li class=\"wind\">\\r\\n\\t\\t\\t\\t\\t<ul class=\"clearfix\" id=\"unit-option-group\">\\r\\n\\t\\t\\t\\t\\t\\t<li class=\"title\">\\xc7\\xb3\\xbc\\xd3\\xb4\\xdc\\xc0\\xa7</li>\\r\\n\\t\\t\\t\\t\\t\\t<li><a href=\"#unit-ms\" data-option-windspeed=\"M\">m/s</a></li>\\r\\n\\t\\t\\t\\t\\t\\t<li><a href=\"#unit-kmh\" data-option-windspeed=\"K\">km/h</a></li>\\r\\n\\t\\t\\t\\t\\t</ul>\\r\\n\\t\\t\\t\\t</li>\\r\\n\\t\\t\\t\\t\\r\\n\\t\\t\\t<li class=\"language\">\\r\\n\\t\\t\\t\\t<ul class=\"clearfix\">\\r\\n\\t\\t\\t\\t\\t<li><a href=\"http://www.kma.go.kr/eng/index.jsp\" target=\"_blank\" title=\"\\xbb\\xf5\\xc3\\xa2\\xbf\\xad\\xb8\\xb2\">ENG</a></li>\\r\\n\\t\\t\\t\\t\\t<li><a href=\"http://www.kma.go.kr/jpn/index.jsp\" target=\"_blank\" title=\"\\xbb\\xf5\\xc3\\xa2\\xbf\\xad\\xb8\\xb2\">JPN</a></li>\\r\\n\\t\\t\\t\\t\\t<li><a href=\"http://www.kma.go.kr/chn/index.jsp\" target=\"_blank\" title=\"\\xbb\\xf5\\xc3\\xa2\\xbf\\xad\\xb8\\xb2\">CHN</a></li>\\r\\n\\t\\t\\t\\t</ul>\\r\\n\\t\\t\\t</li>\\r\\n\\t\\t\\t<li class=\"search\">\\r\\n\\t\\t\\t\\t<form name=\"search_dictionary\" method=\"post\" class=\"global_top_search\" action=\"http://www.kma.go.kr/search/kmaSearch.jsp\">\\r\\n\\t\\t\\t\\t\\t<fieldset>\\r\\n\\t\\t\\t\\t\\t\\t<legend>\\xc5\\xeb\\xc7\\xd5 \\xb0\\xcb\\xbb\\xf6</legend>\\r\\n\\t\\t\\t\\t\\t\\t<p class=\"view\">\\r\\n\\t\\t\\t\\t\\t\\t<input type=\"text\" id=\"input_keyword1\" name=\"keyword\" class=\"inputbase\" placeholder=\"\\xb0\\xcb\\xbb\\xf6\\xbe\\xee \\xc0\\xd4\\xb7\\xc2\" value=\"\" title=\"\\xb0\\xcb\\xbb\\xf6\\xbe\\xee \\xc0\\xd4\\xb7\\xc2\"/>\\r\\n\\t\\t\\t\\t\\t\\t<input type=\"image\" class=\"button\" src=\"/weather/home/images/search-btn01.gif\" alt=\"\\xb0\\xcb\\xbb\\xf6\" /></p>\\r\\n\\t\\t\\t\\t\\t</fieldset>\\r\\n\\t\\t\\t\\t</form>\\r\\n\\t\\t\\t</li>\\r\\n\\t\\t\\t<li class=\"homepage\"><a href=\"http://www.kma.go.kr/home/index.jsp\" ><span>\\xb1\\xe2\\xbb\\xf3\\xc3\\xbb \\xc7\\xe0\\xc1\\xa4\\xc8\\xa8\\xc6\\xe4\\xc0\\xcc\\xc1\\xf6 \\xb9\\xd9\\xb7\\xce \\xb0\\xa1\\xb1\\xe2</span></a></li>\\r\\n\\t\\t</ul>\\r\\n\\t</div>\\r\\n\\t\\t\\t<div id=\"topMenu\">\\r\\n\\t            <h1><a href=\"/weather/main.jsp\"><img src=\"/images/kma/weather_logo_b.gif\" alt=\"\\xb3\\xaf\\xbe\\xbe\\xb4\\xa9\\xb8\\xae \\xb1\\xe2\\xbb\\xf3\\xc3\\xbb \\xb1\\xb9\\xb0\\xa1\\xb1\\xe2\\xbb\\xf3\\xc1\\xbe\\xc7\\xd5\\xc1\\xa4\\xba\\xb8\"></a></h1>\\r\\n\\t\\t\\t\\t\\r\\n\\t            \\r\\n\\r\\n\\r\\n\\r\\n\\t\\r\\n\\t\\r\\n\\t\\r\\n\\t\\r\\n\\t\\r\\n\\r\\n\\r\\n\\r\\n\\r\\n\\r\\n\\r\\n\\r\\n\\t\\t\\t\\t\\r\\n\\t\\t\\t\\t<div id=\"main_menu\">\\r\\n\\t\\t\\t\\t\\t<noscript>\\xc7\\xcf\\xc0\\xa7\\xb8\\xde\\xb4\\xba\\xbc\\xb1\\xc5\\xc3\\xc0\\xba \\xc0\\xda\\xb9\\xd9\\xbd\\xba\\xc5\\xa9\\xb8\\xb3\\xc6\\xae \\xb1\\xe2\\xb4\\xc9\\xc0\\xcc \\xc0\\xd6\\xbe\\xee\\xbe\\xdf \\xbc\\xb1\\xc5\\xc3\\xc7\\xcf\\xbd\\xc7 \\xbc\\xf6 \\xc0\\xd6\\xbd\\xc0\\xb4\\xcf\\xb4\\xd9.</noscript>\\r\\n\\t\\t\\t\\t\\t<a id=\"golnb\"></a>\\r\\n\\t\\t\\t\\t\\t<ul id=\"lnb\">\\r\\n\\t\\t\\t\\t\\t\\t<li class=\"div-9\" id=\"top-menu1\"><a href=\"/weather/warning/status.jsp\" id=\"top-menu-head1\">\\xc6\\xaf\\xba\\xb8 \\xa1\\xa4 \\xbf\\xb9\\xba\\xb8</a>\\r\\n\\t\\t\\t\\t\\t\\t\\t<ul id=\"top-sub-menu1\" style=\"display: none;\">\\r\\n\\t\\t\\t\\t\\t\\t\\t\\t<li id=\"top-1-1\"><a href=\"/weather/warning/status.jsp\" class=\"addon\">\\xc6\\xaf\\xba\\xb8 \\xa1\\xa4 \\xc1\\xa4\\xba\\xb8</a>\\r\\n\\t\\t\\t\\t\\t\\t\\t\\t\\t<ul>\\r\\n\\t\\t\\t\\t\\t\\t\\t\\t\\t\\t<li><a href=\"/weather/warning/status.jsp\">\\xc6\\xaf\\xba\\xb8\\xc7\\xf6\\xc8\\xb2</a></li>\\r\\n\\t\\t\\t\\t\\t\\t\\t\\t\\t\\t<li><a href=\"/weather/warning/report.jsp\">\\xc5\\xeb\\xba\\xb8\\xb9\\xae</a></li>\\r\\n\\t\\t\\t\\t\\t\\t\\t\\t\\t\\t<!--<li><a href=\"/weather/warning/heatwave.jsp\">\\xc6\\xf8\\xbf\\xb0\\xbf\\xb5\\xc7\\xe2\\xbf\\xb9\\xba\\xb8</a></li>\\r\\n\\t\\t\\t\\t\\t\\t\\t\\t\\t\\t<li><a href=\"/weather/warning/coldwave.jsp\">\\xc7\\xd1\\xc6\\xc4\\xbf\\xb5\\xc7\\xe2\\xbf\\xb9\\xba\\xb8</a></li>-->\\r\\n\\t\\t\\t\\t\\t\\t\\t\\t\\t\\t<li><a href=\"/weather/warning/wtouchqNew.jsp\">\\xc0\\xce\\xc5\\xcd\\xb3\\xdd\\xb1\\xe2\\xbb\\xf3\\xb9\\xe6\\xbc\\xdb<br/>(\\xb3\\xaf\\xbe\\xbeON)</a></li>\\r\\n\\t\\t\\t\\t\\t\\t\\t\\t\\t\\t<li><a href=\"/weather/warning/standard.jsp\">\\xb1\\xe2\\xbb\\xf3\\xc6\\xaf\\xba\\xb8 \\xb9\\xdf\\xc7\\xa5\\xb1\\xe2\\xc1\\xd8</a></li>\\r\\n\\t\\t\\t\\t\\t\\t\\t\\t\\t\\t<li><a href=\"/weather/warning/safetyguide_asiandust.jsp\">\\xb1\\xb9\\xb9\\xce\\xc7\\xe0\\xb5\\xbf\\xbf\\xe4\\xb7\\xc9</a></li>\\r\\n\\t\\t\\t\\t\\t\\t\\t\\t\\t\\t<li><a href=\"/weather/warning/fog_status.jsp\">\\xbe\\xc8\\xb0\\xb3\\xc1\\xa4\\xba\\xb8\\xbc\\xad\\xba\\xf1\\xbd\\xba</a></li>\\r\\n\\t\\t\\t\\t\\t\\t\\t\\t\\t</ul>\\r\\n\\t\\t\\t\\t\\t\\t\\t\\t</li>\\r\\n\\t\\t\\t\\t\\t\\t\\t\\t<li id=\"top-1-2\"><a href=\"/weather/forecast/timeseries.jsp\">\\xc0\\xb0\\xbb\\xf3\\xbf\\xb9\\xba\\xb8</a>\\r\\n\\t\\t\\t\\t\\t\\t\\t\\t\\t<ul>\\r\\n\\t\\t\\t\\t\\t\\t\\t\\t\\t\\t<li><a href=\"/weather/forecast/timeseries.jsp\">\\xb5\\xbf\\xb3\\xd7\\xbf\\xb9\\xba\\xb8</a></li>\\r\\n\\t\\t\\t\\t\\t\\t\\t\\t\\t\\t<li><a href=\"/weather/forecast/mid-term_01.jsp\">\\xc1\\xdf\\xb1\\xe2\\xbf\\xb9\\xba\\xb8(10\\xc0\\xcf \\xbf\\xb9\\xba\\xb8)</a></li>\\r\\n\\t\\t\\t\\t\\t\\t\\t\\t\\t\\t<li><a href=\"/weather/forecast/weekend.jsp\">\\xc1\\xd6\\xb8\\xbb\\xbf\\xb9\\xba\\xb8</a></li>\\r\\n\\t\\t\\t\\t\\t\\t\\t\\t\\t\\t<li><a href=\"/weather/forecast/long-range1.jsp\">1\\xb0\\xb3\\xbf\\xf9\\xc0\\xfc\\xb8\\xc1</a></li>\\r\\n\\t\\t\\t\\t\\t\\t\\t\\t\\t\\t<li><a href=\"/weather/forecast/long-range3.jsp\">3\\xb0\\xb3\\xbf\\xf9\\xc0\\xfc\\xb8\\xc1</a></li>\\r\\n\\t\\t\\t\\t\\t\\t\\t\\t\\t\\t<li><a href=\"/weather/forecast/long-range3-guide.jsp\">3\\xb0\\xb3\\xbf\\xf9\\xc0\\xfc\\xb8\\xc1 \\xc7\\xd8\\xbc\\xb3\\xbc\\xad</a></li>\\r\\n\\t\\t\\t\\t\\t\\t\\t\\t\\t\\t<li><a href=\"/weather/forecast/season.jsp\">\\xb1\\xe2\\xc8\\xc4\\xc0\\xfc\\xb8\\xc1</a></li>\\r\\n\\t\\t\\t\\t\\t\\t\\t\\t\\t\\t<li><a href=\"/weather/forecast/drought-range1.jsp\">\\xb1\\xe2\\xbb\\xf3\\xb0\\xa1\\xb9\\xb3\\xbf\\xb9\\xba\\xb8</a></li>\\r\\n\\t\\t\\t\\t\\t\\t\\t\\t\\t</ul>\\r\\n\\t\\t\\t\\t\\t\\t\\t\\t</li>\\r\\n\\t\\t\\t\\t\\t\\t\\t\\t<li id=\"top-1-3\"><a href=\"/weather/forecast/marine_daily.jsp\">\\xc7\\xd8\\xbb\\xf3\\xbf\\xb9\\xba\\xb8</a>\\r\\n\\t\\t\\t\\t\\t\\t\\t\\t\\t<ul>\\r\\n\\t\\t\\t\\t\\t\\t\\t\\t\\t\\t<li><a href=\"/weather/forecast/marine_daily.jsp\">\\xc0\\xcf\\xc0\\xcf\\xbf\\xb9\\xba\\xb8</a></li>\\r\\n\\t\\t\\t\\t\\t\\t\\t\\t\\t\\t<li><a href=\"/weather/forecast/marine_mid-term.jsp\">\\xc1\\xdf\\xb1\\xe2\\xbf\\xb9\\xba\\xb8(10\\xc0\\xcf \\xbf\\xb9\\xba\\xb8)</a></li>\\r\\n\\t\\t\\t\\t\\t\\t\\t\\t\\t</ul>\\r\\n\\t\\t\\t\\t\\t\\t\\t\\t</li>\\r\\n\\t\\t\\t\\t\\t\\t\\t\\t<li id=\"top-1-4\"><a href=\"/weather/forecast/northkorea01.jsp\">\\xba\\xcf\\xc7\\xd1\\xbf\\xb9\\xba\\xb8</a>\\r\\n\\t\\t\\t\\t\\t\\t\\t\\t\\t<ul>\\r\\n\\t\\t\\t\\t\\t\\t\\t\\t\\t\\t<li><a href=\"/weather/forecast/northkorea01.jsp\">\\xc0\\xb0\\xbb\\xf3\\xbf\\xb9\\xba\\xb8</a></li>\\r\\n\\t\\t\\t\\t\\t\\t\\t\\t\\t\\t<li><a href=\"/weather/forecast/northkorea02.jsp\">\\xb9\\xd9\\xb4\\xd9\\xbf\\xb9\\xba\\xb8</a></li>\\r\\n\\t\\t\\t\\t\\t\\t\\t\\t\\t</ul>\\r\\n\\t\\t\\t\\t\\t\\t\\t\\t</li>\\r\\n\\t\\t\\t\\t\\t\\t\\t\\t<li id=\"top-1-5\"><a href=\"/weather/forecast/mountain_01.jsp\">\\xc5\\xd7\\xb8\\xb6\\xbf\\xb9\\xba\\xb8</a>\\r\\n\\t\\t\\t\\t\\t\\t\\t\\t\\t<ul>\\r\\n\\t\\t\\t\\t\\t\\t\\t\\t\\t\\t<li><a href=\"/weather/forecast/mountain_01.jsp\">\\xbb\\xea\\xbe\\xc7\\xb1\\xe2\\xbb\\xf3</a></li>\\r\\n\\t\\t\\t\\t\\t\\t\\t\\t\\t\\t<li><a href=\"/weather/forecast/theme_beach.jsp\">\\xc7\\xd8\\xbc\\xf6\\xbf\\xe5\\xc0\\xe5 \\xbf\\xb9\\xba\\xb8</a></li>\\r\\n\\t\\t\\t\\t\\t\\t\\t\\t\\t\\t<li><a href=\"/weather/forecast/theme_regional.jsp\">\\xc1\\xf6\\xbf\\xaa\\xba\\xb0\\xb1\\xe2\\xbb\\xf3\\xc1\\xa4\\xba\\xb8</a></li>\\r\\n\\t\\t\\t\\t\\t\\t\\t\\t\\t</ul>\\r\\n\\t\\t\\t\\t\\t\\t\\t\\t</li>\\r\\n\\t\\t\\t\\t\\t\\t\\t\\t<li id=\"top-1-7\"><a href=\"/weather/forecast/el-la.jsp\">\\xbf\\xa4\\xb4\\xcf\\xb4\\xa2<br />\\xa1\\xa4\\xb6\\xf3\\xb4\\xcf\\xb3\\xc4\\xc0\\xfc\\xb8\\xc1</a>\\r\\n\\t\\t\\t\\t\\t\\t\\t\\t\\t<ul class=\"ul01 clearfix\">\\r\\n\\t\\t\\t\\t\\t\\t\\t\\t\\t\\t<li id=\"top-1-8\" class=\"mgr0\"><a href=\"/weather/forecast/forecaetevalue_01.jsp\">\\xbf\\xb9\\xba\\xb8\\xc6\\xf2\\xb0\\xa1</a>\\r\\n\\t\\t\\t\\t\\t\\t\\t\\t\\t\\t\\t<ul>\\r\\n\\t\\t\\t\\t\\t\\t\\t\\t\\t\\t\\t\\t<li><a href=\"/weather/forecast/forecaetevalue_01.jsp\">\\xbf\\xac\\xb5\\xb5\\xba\\xb0</a></li>\\r\\n\\t\\t\\t\\t\\t\\t\\t\\t\\t\\t\\t\\t<li><a href=\"/weather/forecast/forecaetevalue_02.jsp\">\\xbf\\xf9\\xba\\xb0</a></li>\\r\\n\\t\\t\\t\\t\\t\\t\\t\\t\\t\\t\\t</ul>\\r\\n\\t\\t\\t\\t\\t\\t\\t\\t\\t\\t</li>\\r\\n\\t\\t\\t\\t\\t\\t\\t\\t\\t</ul>\\r\\n\\t\\t\\t\\t\\t\\t\\t\\t</li>\\r\\n\\t\\t\\t\\t\\t\\t\\t\\t<li class=\"bottom\">\\r\\n\\t\\t\\t\\t\\t\\t\\t\\t\\t<ul class=\"clearfix\">\\r\\n\\t\\t\\t\\t\\t\\t\\t\\t\\t\\t<li><a href=\"http://amo.kma.go.kr/new/html/weather/weather01_04.jsp\" target=\"_blank\" title=\"\\xbb\\xf5\\xc3\\xa2 \\xbf\\xad\\xb8\\xb2\">\\xb0\\xf8\\xc7\\xd7\\xb0\\xe6\\xba\\xb8<br />(\\xc7\\xd7\\xb0\\xf8\\xb1\\xe2\\xbb\\xf3\\xc3\\xbb)</a></li>\\t\\t\\t\\t\\t\\t\\r\\n\\t\\t\\t\\t\\t\\t\\t\\t\\t\\t<li><a href=\"http://amo.kma.go.kr/new/html/weather/weather01_03.jsp\" target=\"_blank\" title=\"\\xbb\\xf5\\xc3\\xa2 \\xbf\\xad\\xb8\\xb2\">\\xb0\\xf8\\xc7\\xd7\\xbf\\xb9\\xba\\xb8<br />(\\xc7\\xd7\\xb0\\xf8\\xb1\\xe2\\xbb\\xf3\\xc3\\xbb)</a></li>\\r\\n\\t\\t\\t\\t\\t\\t\\t\\t\\t\\t<li><a href=\"https://www.airkorea.or.kr\" target=\"_blank\" title=\"\\xbb\\xf5\\xc3\\xa2 \\xbf\\xad\\xb8\\xb2\">\\xb9\\xcc\\xbc\\xbc\\xb8\\xd5\\xc1\\xf6\\xbf\\xb9\\xba\\xb8<br />(Air Korea)</a></li>\\r\\n\\t\\t\\t\\t\\t\\t\\t\\t\\t\\t<li></li>\\r\\n\\t\\t\\t\\t\\t\\t\\t\\t\\t\\t<li></li>\\r\\n\\t\\t\\t\\t\\t\\t\\t\\t\\t</ul>\\r\\n\\t\\t\\t\\t\\t\\t\\t\\t</li>\\r\\n\\t\\t\\t\\t\\t\\t\\t</ul>\\r\\n\\t\\t\\t\\t\\t\\t</li>\\r\\n\\t\\t\\t\\t\\t\\t<li class=\"div-9\" id=\"top-menu2\"><a href=\"/weather/images/rader.jsp\" id=\"top-menu-head2\">\\xb3\\xaf\\xbe\\xbe\\xbf\\xb5\\xbb\\xf3</a>\\r\\n\\t\\t\\t\\t\\t\\t\\t<ul id=\"top-sub-menu2\" style=\"display:none; left: -105px;\">\\r\\n\\t\\t\\t\\t\\t\\t\\t\\t<li id=\"top-2-1\"><a href=\"/weather/images/rader.jsp\">\\xb7\\xb9\\xc0\\xcc\\xb4\\xf5</a>\\r\\n\\t\\t\\t\\t\\t\\t\\t\\t\\t<ul>\\r\\n\\t\\t\\t\\t\\t\\t\\t\\t\\t\\t<li><a href=\"/weather/images/rader.jsp\">\\xc7\\xd5\\xbc\\xba\\xbf\\xb5\\xbb\\xf3</a></li>\\r\\n\\t\\t\\t\\t\\t\\t\\t\\t\\t\\t<li><a href=\"/weather/images/rader_02.jsp\">\\xb4\\xab\\xba\\xf1\\xbf\\xb5\\xbf\\xaa</a></li>\\r\\n\\t\\t\\t\\t\\t\\t\\t\\t\\t\\t<li><a href=\"/weather/images/rader_04.jsp\">\\xbf\\xec\\xb9\\xda</a></li>\\r\\n\\t\\t\\t\\t\\t\\t\\t\\t\\t\\t<li><a href=\"/weather/images/rader_03.jsp\">\\xb4\\xa9\\xc0\\xfb\\xb0\\xad\\xbc\\xf6</a></li>\\r\\n\\t\\t\\t\\t\\t\\t\\t\\t\\t\\t<li><a href=\"/weather/images/rader_individual.jsp\">\\xc1\\xf6\\xc1\\xa1\\xba\\xb0 \\xbf\\xb5\\xbb\\xf3</a></li>\\r\\n\\t\\t\\t\\t\\t\\t\\t\\t\\t\\t\\r\\n\\t\\t\\t\\t\\t\\t\\t\\t\\t</ul>\\r\\n\\t\\t\\t\\t\\t\\t\\t\\t</li>\\r\\n\\t\\t\\t\\t\\t\\t\\t\\t<li id=\"top-2-2\"><a href=\"/weather/images/satellite_service.jsp\">\\xc0\\xa7\\xbc\\xba</a>\\r\\n\\t\\t\\t\\t\\t\\t\\t\\t\\t<ul class=\"clearfix\">\\r\\n\\t\\t\\t\\t\\t\\t\\t\\t\\t\\t<li><a href=\"/weather/images/satellite_service.jsp\">\\xb1\\xe2\\xba\\xbb\\xbf\\xb5\\xbb\\xf3</a></li>\\r\\n\\t\\t\\t\\t\\t\\t\\t\\t\\t\\t<li><a href=\"/weather/images/satellite_case.jsp\">\\xbb\\xe7\\xb7\\xca\\xbf\\xb5\\xbb\\xf3</a></li>\\r\\n\\t\\t\\t\\t\\t\\t\\t\\t\\t</ul>\\r\\n\\t\\t\\t\\t\\t\\t\\t\\t</li>\\r\\n\\t\\t\\t\\t\\t\\t\\t\\t<li id=\"top-2-3\"><a href=\"/weather/images/lightning.jsp\">\\xb3\\xab\\xb7\\xda</a></li>\\r\\n\\t\\t\\t\\t\\t\\t\\t\\t<li id=\"top-2-4\"><a href=\"/weather/images/rader_sat_lgt.jsp\">\\xc1\\xbe\\xc7\\xd5\\xbf\\xb5\\xbb\\xf3<br />(\\xb7\\xb9\\xc0\\xcc\\xb4\\xf5/\\xc0\\xa7\\xbc\\xba/\\xb3\\xab\\xb7\\xda)</a>\\r\\n\\t\\t\\t\\t\\t\\t\\t\\t\\t<ul class=\"ul01 clearfix\">\\r\\n\\t\\t\\t\\t\\t\\t\\t\\t\\t\\t<li id=\"top-2-5\" class=\"mgr0\"><a href=\"/weather/images/rader_qpf.jsp\">\\xc3\\xca\\xb4\\xdc\\xb1\\xe2 \\xb0\\xad\\xbc\\xf6\\xbf\\xb9\\xc3\\xf8</a></li>\\r\\n\\t\\t\\t\\t\\t\\t\\t\\t\\t</ul>\\r\\n\\t\\t\\t\\t\\t\\t\\t\\t</li>\\r\\n\\t\\t\\t\\t\\t\\t\\t\\t<li id=\"top-2-6\"><a href=\"/weather/images/analysischart.jsp\">\\xc0\\xcf\\xb1\\xe2\\xb5\\xb5</a>\\r\\n\\t\\t\\t\\t\\t\\t\\t\\t\\t<ul>\\r\\n\\t\\t\\t\\t\\t\\t\\t\\t\\t\\t<li><a href=\"/weather/images/analysischart.jsp\">\\xba\\xd0\\xbc\\xae\\xc0\\xcf\\xb1\\xe2\\xb5\\xb5</a></li>\\r\\n\\t\\t\\t\\t\\t\\t\\t\\t\\t\\t<li><a href=\"/weather/images/forecastchart.jsp\">\\xc0\\xb0\\xbb\\xf3\\xbf\\xb9\\xbb\\xf3\\xc0\\xcf\\xb1\\xe2\\xb5\\xb5</a></li>\\r\\n\\t\\t\\t\\t\\t\\t\\t\\t\\t\\t<li><a href=\"/weather/images/wavemodel_r3.jsp\">\\xc7\\xd8\\xbb\\xf3\\xbf\\xb9\\xbb\\xf3\\xc0\\xcf\\xb1\\xe2\\xb5\\xb5</a></li>\\r\\n\\t\\t\\t\\t\\t\\t\\t\\t\\t\\t<li><a href=\"/weather/images/expertchart.jsp\">\\xc0\\xfc\\xb9\\xae\\xb0\\xa1\\xbf\\xeb\\xc0\\xcf\\xb1\\xe2\\xb5\\xb5</a></li>\\r\\n\\t\\t\\t\\t\\t\\t\\t\\t\\t</ul>\\r\\n\\t\\t\\t\\t\\t\\t\\t\\t</li>\\r\\n\\t\\t\\t\\t\\t\\t\\t\\t<li id=\"top-2-7\"><a href=\"/weather/home/earth/index.jsp\" target=\"_blank\">\\xba\\xf1\\xc1\\xd6\\xbe\\xf3\\xb8\\xca</a></li>\\r\\n\\t\\t\\t\\t\\t\\t\\t\\t<li class=\"bottom\">\\r\\n\\t\\t\\t\\t\\t\\t\\t\\t\\t<ul class=\"clearfix\">\\r\\n\\t\\t\\t\\t\\t\\t\\t\\t\\t\\t<li><a href=\"http://nmsc.kma.go.kr\" target=\"_blank\" title=\"\\xbb\\xf5\\xc3\\xa2 \\xbf\\xad\\xb8\\xb2\">\\xb1\\xb9\\xb0\\xa1\\xb1\\xe2\\xbb\\xf3\\xc0\\xa7\\xbc\\xba\\xbc\\xbe\\xc5\\xcd<br>&nbsp;</a></li>\\r\\n\\t\\t\\t\\t\\t\\t\\t\\t\\t\\t<li><a href=\"http://radar.kma.go.kr\" target=\"_blank\" title=\"\\xbb\\xf5\\xc3\\xa2 \\xbf\\xad\\xb8\\xb2\">\\xb1\\xe2\\xbb\\xf3\\xb7\\xb9\\xc0\\xcc\\xb4\\xf5\\xbc\\xbe\\xc5\\xcd<br>&nbsp;</a></li>\\r\\n\\t\\t\\t\\t\\t\\t\\t\\t\\t\\t<li></li>\\r\\n\\t\\t\\t\\t\\t\\t\\t\\t\\t\\t<li></li>\\r\\n\\t\\t\\t\\t\\t\\t\\t\\t\\t\\t<li></li>\\r\\n\\t\\t\\t\\t\\t\\t\\t\\t\\t</ul>\\r\\n\\t\\t\\t\\t\\t\\t\\t\\t</li>\\r\\n\\t\\t\\t\\t\\t\\t\\t</ul>\\r\\n\\t\\t\\t\\t\\t\\t</li>\\r\\n\\t\\t\\t\\t\\t\\t<li class=\"div-9\" id=\"top-menu3\"><a href=\"/mini/marine/marine_integrate.jsp\" id=\"top-menu-head3\">\\xb9\\xd9\\xb4\\xd9\\xb3\\xaf\\xbe\\xbe</a>\\r\\n\\t\\t\\t\\t\\t\\t\\t<ul id=\"top-sub-menu3\" style=\"display:none; left: -211px;\">\\r\\n\\t\\t\\t\\t\\t\\t\\t\\t<li id=\"top-3-1\"><a href=\"/mini/marine/marine_integrate.jsp\">\\xc7\\xf6\\xc0\\xe7\\xb9\\xd9\\xb4\\xd9\\xb3\\xaf\\xbe\\xbe</a>\\r\\n\\t\\t\\t\\t\\t\\t\\t\\t\\t<ul>\\r\\n\\t\\t\\t\\t\\t\\t\\t\\t\\t\\t<li><a href=\"/mini/marine/marine_integrate.jsp\">\\xc7\\xd8\\xbe\\xe7\\xb1\\xe2\\xbb\\xf3\\xba\\xce\\xc0\\xcc</a></li>\\r\\n\\t\\t\\t\\t\\t\\t\\t\\t\\t\\t<li><a href=\"/mini/marine/marine_beacon.jsp\">\\xb1\\xb9\\xb3\\xbb\\xb5\\xee\\xc7\\xa5</a></li>\\r\\n\\t\\t\\t\\t\\t\\t\\t\\t\\t\\t<li><a href=\"/mini/marine/marine_buoy_cosmos.jsp\">\\xc6\\xc4\\xb0\\xed\\xba\\xce\\xc0\\xcc</a></li>\\r\\n\\t\\t\\t\\t\\t\\t\\t\\t\\t\\t<li><a href=\"/mini/marine/marine_asia.jsp\">\\xbe\\xc6\\xbd\\xc3\\xbe\\xc6\\xbf\\xac\\xbe\\xc8\\xb0\\xfc\\xc3\\xf8\\xbd\\xc7\\xc8\\xb2</a></li>\\r\\n\\t\\t\\t\\t\\t\\t\\t\\t\\t\\t<li><a href=\"/mini/marine/marine_onshorewind.jsp\">\\xc0\\xa7\\xbc\\xba\\xbf\\xb5\\xbb\\xf3</a></li>\\r\\n\\t\\t\\t\\t\\t\\t\\t\\t\\t</ul>\\r\\n\\t\\t\\t\\t\\t\\t\\t\\t</li>\\r\\n\\t\\t\\t\\t\\t\\t\\t\\t<li id=\"top-3-2\"><a href=\"/mini/marine/marine_daily.jsp\">\\xc7\\xd8\\xbb\\xf3\\xbf\\xb9\\xba\\xb8</a>\\r\\n\\t\\t\\t\\t\\t\\t\\t\\t\\t<ul>\\r\\n\\t\\t\\t\\t\\t\\t\\t\\t\\t\\t<li><a href=\"/mini/marine/marine_daily.jsp\">\\xc0\\xcf\\xc0\\xcf\\xbf\\xb9\\xba\\xb8</a></li>\\r\\n\\t\\t\\t\\t\\t\\t\\t\\t\\t\\t<li><a href=\"/mini/marine/marine_mid-term.jsp\">\\xc1\\xdf\\xb1\\xe2\\xbf\\xb9\\xba\\xb8(10\\xc0\\xcf\\xbf\\xb9\\xba\\xb8)</a></li>\\r\\n\\t\\t\\t\\t\\t\\t\\t\\t\\t\\t<li><a href=\"/mini/marine/marine_zone_rwwsst.jsp\">\\xc7\\xd8\\xb1\\xb8\\xba\\xb0 \\xbf\\xb9\\xc3\\xf8\\xc1\\xa4\\xba\\xb8</a></li>\\r\\n\\t\\t\\t\\t\\t\\t\\t\\t\\t</ul>\\r\\n\\t\\t\\t\\t\\t\\t\\t\\t</li>\\r\\n\\t\\t\\t\\t\\t\\t\\t\\t<li id=\"top-3-3\"><a href=\"/mini/marine/wavemodel_r3.jsp\">\\xc7\\xd8\\xbb\\xf3\\xbc\\xf6\\xc4\\xa1\\xbf\\xb9\\xc3\\xf8\\xc0\\xcf\\xb1\\xe2\\xb5\\xb5</a>\\r\\n\\t\\t\\t\\t\\t\\t\\t\\t\\t<ul>\\r\\n\\t\\t\\t\\t\\t\\t\\t\\t\\t\\t<li><a href=\"/mini/marine/wavemodel_r3.jsp\">\\xc6\\xc4\\xb6\\xfb</a></li>\\r\\n\\t\\t\\t\\t\\t\\t\\t\\t\\t\\t<li><a href=\"/mini/marine/stormsurge.jsp\">\\xc6\\xf8\\xc7\\xb3\\xc7\\xd8\\xc0\\xcf</a></li>\\r\\n\\t\\t\\t\\t\\t\\t\\t\\t\\t\\t<li><a href=\"/mini/marine/roms_crnt.jsp\">\\xc7\\xd8\\xbe\\xe7\\xbc\\xf8\\xc8\\xaf</a></li>\\r\\n\\t\\t\\t\\t\\t\\t\\t\\t\\t\\t<li><a href=\"/mini/marine/marine_index_icing.jsp\">\\xc7\\xd8\\xbe\\xe7\\xc1\\xf6\\xbc\\xf6</a></li>\\r\\n\\t\\t\\t\\t\\t\\t\\t\\t\\t\\t<li><a href=\"/mini/marine/marine_route.jsp\">\\xc7\\xd7\\xb7\\xce</a></li>\\r\\n\\t\\t\\t\\t\\t\\t\\t\\t\\t</ul>\\r\\n\\t\\t\\t\\t\\t\\t\\t\\t</li>\\r\\n\\t\\t\\t\\t\\t\\t\\t\\t<li id=\"top-3-4\"><a href=\"/mini/marine/marine_fax04.jsp\">\\xc7\\xd8\\xbe\\xe7\\xb1\\xe2\\xbb\\xf3\\xb9\\xe6\\xbc\\xdb<br />(\\xc0\\xcf\\xb1\\xe2\\xb5\\xb5 FAX\\xb9\\xe6\\xbc\\xdb)</a>\\r\\n\\t\\t\\t\\t\\t\\t\\t\\t\\t<ul>\\r\\n\\t\\t\\t\\t\\t\\t\\t\\t\\t\\t<li><a href=\"/mini/marine/marine_fax04.jsp\">\\xb0\\xb3\\xbf\\xe4</a></li>\\r\\n\\t\\t\\t\\t\\t\\t\\t\\t\\t\\t<li><a href=\"/mini/marine/marine_fax02.jsp\">\\xb9\\xe6\\xbc\\xdb\\xb3\\xbb\\xbf\\xeb \\xb9\\xd7 \\xc1\\xa6\\xbf\\xf8</a></li>\\r\\n\\t\\t\\t\\t\\t\\t\\t\\t\\t\\t<li><a href=\"/mini/marine/marine_fax03.jsp\">\\xb9\\xe6\\xbc\\xdb\\xbd\\xc3\\xb0\\xa3\\xc7\\xa5</a></li>\\r\\n\\t\\t\\t\\t\\t\\t\\t\\t\\t\\t<li><a href=\"/mini/marine/marine_fax01.jsp\">\\xbc\\xbc\\xb0\\xe8\\xc1\\xd6\\xbf\\xe4\\xc1\\xf6\\xbf\\xaa \\xb1\\xe2\\xbb\\xf3\\xb9\\xe6\\xbc\\xdb\\xbc\\xbe\\xc5\\xcd</a></li>\\r\\n\\t\\t\\t\\t\\t\\t\\t\\t\\t</ul>\\r\\n\\t\\t\\t\\t\\t\\t\\t\\t</li>\\r\\n\\t\\t\\t\\t\\t\\t\\t\\t<li id=\"top-3-5\"><a href=\"/mini/marine/marine_summary.jsp\">\\xbf\\xf9\\xba\\xb0 \\xc7\\xd8\\xbe\\xe7\\xb1\\xe2\\xbb\\xf3\\xb5\\xb5</a>\\r\\n\\t\\t\\t\\t\\t\\t\\t\\t\\t<ul>\\r\\n\\t\\t\\t\\t\\t\\t\\t\\t\\t\\t<li><a href=\"/mini/marine/marine_summary.jsp\">\\xb0\\xb3\\xbf\\xe4</a></li>\\r\\n\\t\\t\\t\\t\\t\\t\\t\\t\\t\\t<li><a href=\"/mini/marine/marine_eastasia.jsp\">\\xb5\\xbf\\xbe\\xc6\\xbd\\xc3\\xbe\\xc6</a></li>\\r\\n\\t\\t\\t\\t\\t\\t\\t\\t\\t\\t<li><a href=\"/mini/marine/marine_northpacific.jsp\">\\xc5\\xc2\\xc6\\xf2\\xbe\\xe7</a></li>\\r\\n\\t\\t\\t\\t\\t\\t\\t\\t\\t</ul>\\r\\n\\t\\t\\t\\t\\t\\t\\t\\t</li>\\r\\n\\t\\t\\t\\t\\t\\t\\t\\t<li id=\"top-3-6\"><a href=\"/mini/marine/marine_vos01.jsp\">\\xb0\\xfc\\xc3\\xf8\\xc1\\xf6\\xbf\\xf8\\xbc\\xb1\\xb9\\xda(VOS)\\xc1\\xa6\\xb5\\xb5</a>\\r\\n\\t\\t\\t\\t\\t\\t\\t\\t\\t<ul>\\r\\n\\t\\t\\t\\t\\t\\t\\t\\t\\t\\t<li><a href=\"/mini/marine/marine_vos01.jsp\">\\xbc\\xd2\\xb0\\xb3</a></li>\\r\\n\\t\\t\\t\\t\\t\\t\\t\\t\\t\\t<li><a href=\"/mini/marine/marine_shipobserv.jsp\">\\xbc\\xb1\\xb9\\xda\\xb0\\xfc\\xc3\\xf8\\xc0\\xda\\xb7\\xe1</a></li>\\r\\n\\t\\t\\t\\t\\t\\t\\t\\t\\t\\t<li><a href=\"/mini/marine/marine_vos02.jsp\">\\xbc\\xb1\\xb9\\xda\\xb0\\xfc\\xc3\\xf8 \\xc0\\xfc\\xb9\\xae\\xc7\\xd8\\xbc\\xb3</a></li>\\r\\n\\t\\t\\t\\t\\t\\t\\t\\t\\t\\t<li><a href=\"/mini/marine/marine_vos03.jsp\">\\xc7\\xd7\\xb8\\xb8\\xb1\\xe2\\xbb\\xf3\\xb0\\xfc \\xc7\\xf6\\xc8\\xb2</a></li>\\r\\n\\t\\t\\t\\t\\t\\t\\t\\t\\t\\t<li><a href=\"/mini/marine/marine_vos04.jsp\">\\xb0\\xfc\\xc3\\xf8\\xc1\\xf6\\xbf\\xf8\\xbc\\xb1\\xb9\\xda \\xb8\\xf1\\xb7\\xcf</a></li>\\r\\n\\t\\t\\t\\t\\t\\t\\t\\t\\t</ul>\\r\\n\\t\\t\\t\\t\\t\\t\\t\\t</li>\\r\\n\\t\\t\\t\\t\\t   \\r\\n\\t\\t\\t\\t\\t\\t\\t\\t<li class=\"bottom\">\\r\\n\\t\\t\\t\\t\\t\\t\\t\\t\\t<ul class=\"clearfix\">\\r\\n\\t\\t\\t\\t\\t\\t\\t\\t\\t\\t<li><a href=\"http://marine.kma.go.kr\" target=\"_blank\" title=\"\\xbb\\xf5\\xc3\\xa2 \\xbf\\xad\\xb8\\xb2\">\\xc7\\xd8\\xbe\\xe7\\xb1\\xe2\\xbb\\xf3\\xc1\\xa4\\xba\\xb8\\xc6\\xf7\\xc5\\xd0<br>Sea for you</a></li>\\r\\n\\t\\t\\t\\t\\t\\t\\t\\t\\t\\t<li><a href=\"http://www.kma.go.kr/communication/webzine/marine.jsp\" target=\"_blank\" title=\"\\xbb\\xf5\\xc3\\xa2 \\xbf\\xad\\xb8\\xb2\">\\xbf\\xac\\xb1\\xd9\\xc7\\xd8\\xbc\\xb1\\xb9\\xda\\xb1\\xe2\\xbb\\xf3\\xc1\\xa4\\xba\\xb8<br />(\\xbf\\xf9\\xb0\\xa3)</a></li>\\r\\n\\t\\t\\t\\t\\t\\t\\t\\t\\t\\t<li><a href=\"http://www.nifs.go.kr/risa/main.risa\" target=\"_blank\" title=\"\\xbb\\xf5\\xc3\\xa2 \\xbf\\xad\\xb8\\xb2\">\\xbf\\xac\\xb1\\xd9\\xc7\\xd8\\xbc\\xf6\\xbf\\xc2\\xc1\\xa4\\xba\\xb8<br />(\\xb1\\xb9\\xb8\\xb3\\xbc\\xf6\\xbb\\xea\\xb0\\xfa\\xc7\\xd0\\xbf\\xf8)</a></li>\\r\\n\\t\\t\\t\\t\\t\\t\\t\\t\\t\\t<li><a href=\"http://www.khoa.go.kr/kcom/cnt/selectContentsPage.do?cntId=31304010\" target=\"_blank\" title=\"\\xbb\\xf5\\xc3\\xa2 \\xbf\\xad\\xb8\\xb2\">\\xc7\\xd7\\xc7\\xd8\\xbe\\xc8\\xc0\\xfc\\xc1\\xa4\\xba\\xb8<br />(\\xb1\\xb9\\xb8\\xb3\\xc7\\xd8\\xbe\\xe7\\xc1\\xb6\\xbb\\xe7\\xbf\\xf8)</a></li>\\r\\n\\t\\t\\t\\t\\t\\t\\t\\t\\t\\t<li><a href=\"http://www.khoa.go.kr/swtc/main.do\" target=\"_blank\" title=\"\\xbb\\xf5\\xc3\\xa2 \\xbf\\xad\\xb8\\xb2\">\\xb9\\xb0\\xb6\\xa7\\xc1\\xa4\\xba\\xb8<br />(\\xb1\\xb9\\xb8\\xb3\\xc7\\xd8\\xbe\\xe7\\xc1\\xb6\\xbb\\xe7\\xbf\\xf8)</a></li>\\r\\n\\t\\t\\t\\t\\t\\t\\t\\t\\t\\t<li></li>\\r\\n\\t\\t\\t\\t\\t\\t\\t\\t\\t</ul>\\r\\n\\t\\t\\t\\t\\t\\t\\t\\t</li>\\r\\n\\t\\t\\t\\t\\t\\t\\t</ul>\\r\\n\\t\\t\\t\\t\\t\\t</li>\\r\\n\\t\\t\\t\\t\\t\\t<li class=\"div-9\" id=\"top-menu4\"><a href=\"/weather/typoon/report.jsp\" id=\"top-menu-head4\">\\xc5\\xc2\\xc7\\xb3</a>\\r\\n\\t\\t\\t\\t\\t\\t\\t<ul id=\"top-sub-menu4\" style=\"display:none; left: -316px;\">\\r\\n\\t\\t\\t\\t\\t\\t\\t\\t<li id=\"top-4-1\"><a href=\"/weather/typoon/report.jsp\">\\xc5\\xc2\\xc7\\xb3\\xc1\\xa4\\xba\\xb8</a>\\r\\n\\t\\t\\t\\t\\t\\t\\t\\t\\t<ul>\\r\\n\\t\\t\\t\\t\\t\\t\\t\\t\\t\\t<li><a href=\"/weather/typoon/report.jsp\">\\xc5\\xeb\\xba\\xb8\\xb9\\xae</a></li>\\r\\n\\t\\t\\t\\t\\t\\t\\t\\t\\t\\t<li><a href=\"/weather/typoon/detail.jsp\">\\xbb\\xf3\\xbc\\xbc\\xc1\\xa4\\xba\\xb8</a></li>\\r\\n\\t\\t\\t\\t\\t\\t\\t\\t\\t\\t<li><a href=\"/weather/typoon/prediction.jsp\">\\xb8\\xf0\\xb5\\xa8\\xbf\\xb9\\xc3\\xf8</a></li>\\r\\n\\t\\t\\t\\t\\t\\t\\t\\t\\t</ul>\\r\\n\\t\\t\\t\\t\\t\\t\\t\\t</li>\\r\\n\\t\\t\\t\\t\\t\\t\\t\\t<li id=\"top-4-2\"><a href=\"/weather/typoon/typhoon_06_02.jsp\">\\xc2\\xfc\\xb0\\xed\\xc1\\xa4\\xba\\xb8</a>\\r\\n\\t\\t\\t\\t\\t\\t\\t\\t\\t<ul>\\r\\n\\t\\t\\t\\t\\t\\t\\t\\t\\t\\t<li><a href=\"/weather/typoon/typhoon_06_02.jsp\">\\xb9\\xdf\\xbb\\xfd \\xb0\\xa8\\xbd\\xc3</a></li>\\r\\n\\t\\t\\t\\t\\t\\t\\t\\t\\t\\t<li><a href=\"/weather/typoon/statistic.jsp\">\\xb9\\xdf\\xbb\\xfd \\xc5\\xeb\\xb0\\xe8</a></li>\\r\\n\\t\\t\\t\\t\\t\\t\\t\\t\\t\\t<li><a href=\"/weather/typoon/typhoon_06_01.jsp\">\\xc5\\xc2\\xc7\\xb3 \\xc3\\xa3\\xbe\\xc6\\xba\\xb8\\xb1\\xe2</a></li>\\r\\n\\t\\t\\t\\t\\t\\t\\t\\t\\t\\t<li><a href=\"/weather/typoon/knowledge_01.jsp\">\\xb1\\xe2\\xba\\xbb \\xc1\\xf6\\xbd\\xc4</a></li>\\r\\n\\t\\t\\t\\t\\t\\t\\t\\t\\t</ul>\\r\\n\\t\\t\\t\\t\\t\\t\\t\\t</li>\\r\\n\\t\\t\\t\\t\\t\\t\\t\\t<li class=\"bottom\">\\r\\n\\t\\t\\t\\t\\t\\t\\t\\t\\t<ul class=\"clearfix\">\\r\\n\\t\\t\\t\\t\\t\\t\\t\\t\\t\\t<!--<li><a href=\"http://typ.kma.go.kr\" target=\"_blank\" title=\"\\xbb\\xf5\\xc3\\xa2 \\xbf\\xad\\xb8\\xb2\">\\xb1\\xb9\\xb0\\xa1\\xc5\\xc2\\xc7\\xb3\\xbc\\xbe\\xc5\\xcd<br />&nbsp;</a></li>-->\\r\\n\\t\\t\\t\\t\\t\\t\\t\\t\\t\\t<li><a href=\"http://www.safekorea.go.kr\" target=\"_blank\" title=\"\\xbb\\xf5\\xc3\\xa2 \\xbf\\xad\\xb8\\xb2\">\\xb1\\xb9\\xb9\\xce\\xc0\\xe7\\xb3\\xad\\xbe\\xc8\\xc0\\xfc\\xc6\\xf7\\xc5\\xbb<br />(\\xc7\\xe0\\xc1\\xa4\\xbe\\xc8\\xc0\\xfc\\xba\\xce)</a></li>\\r\\n\\t\\t\\t\\t\\t\\t\\t\\t\\t\\t<li></li>\\r\\n\\t\\t\\t\\t\\t\\t\\t\\t\\t\\t<li></li>\\r\\n\\t\\t\\t\\t\\t\\t\\t\\t\\t\\t<li></li>\\r\\n\\t\\t\\t\\t\\t\\t\\t\\t\\t</ul>\\r\\n\\t\\t\\t\\t\\t\\t\\t\\t</li>\\r\\n\\t\\t\\t\\t\\t\\t\\t</ul>\\r\\n\\t\\t\\t\\t\\t\\t</li>\\r\\n\\t\\t\\t\\t\\t\\t<li class=\"div-9\" id=\"top-menu5\"><a href=\"/weather/asiandust/density.jsp\" id=\"top-menu-head5\">\\xc8\\xb2\\xbb\\xe7</a>\\r\\n\\t\\t\\t\\t\\t\\t\\t<ul id=\"top-sub-menu5\" style=\"display:none; left: -422px;\">\\r\\n\\t\\t\\t\\t\\t\\t\\t\\t<li id=\"top-5-1\"><a href=\"/weather/asiandust/density.jsp\">\\xc8\\xb2\\xbb\\xe7/\\xba\\xce\\xc0\\xaf\\xba\\xd0\\xc1\\xf8<br />\\xb0\\xfc\\xc3\\xf8\\xb0\\xaa</a></li>\\r\\n\\t\\t\\t\\t\\t\\t\\t\\t<li id=\"top-5-2\"><a href=\"/weather/asiandust/graph.jsp\">\\xc8\\xb2\\xbb\\xe7/\\xba\\xce\\xc0\\xaf\\xba\\xd0\\xc1\\xf8<br/>\\xb0\\xfc\\xc3\\xf8 \\xb1\\xd7\\xb7\\xa1\\xc7\\xc1</a></li>\\r\\n\\t\\t\\t\\t\\t\\t\\t\\t<li id=\"top-5-3\"><a href=\"/weather/asiandust/prediction.jsp\">\\xb8\\xf0\\xb5\\xa8\\xbf\\xb9\\xc3\\xf8</a></li>\\r\\n\\t\\t\\t\\t\\t\\t\\t\\t<li id=\"top-5-4\"><a href=\"/weather/asiandust/chart.jsp\">\\xc1\\xf6\\xbb\\xf3\\xc0\\xcf\\xb1\\xe2\\xb5\\xb5</a></li>\\r\\n\\t\\t\\t\\t\\t\\t\\t\\t<li id=\"top-5-6\"><a href=\"/weather/asiandust/observday.jsp\">\\xc8\\xb2\\xbb\\xe7\\xb0\\xfc\\xc3\\xf8\\xc0\\xcf\\xbc\\xf6</a></li>\\r\\n\\t\\t\\t\\t\\t\\t\\t\\t<li class=\"bottom\">\\r\\n\\t\\t\\t\\t\\t\\t\\t\\t\\t<ul class=\"clearfix\">\\r\\n\\t\\t\\t\\t\\t\\t\\t\\t\\t\\t<li><a href=\"http://www.kma.go.kr/aboutkma/biz/asiandust01.jsp\" target=\"_blank\" title=\"\\xbb\\xf5\\xc3\\xa2 \\xbf\\xad\\xb8\\xb2\">\\xc8\\xb2\\xbb\\xe7\\xbe\\xf7\\xb9\\xab\\xbc\\xd2\\xb0\\xb3<br />(\\xc7\\xe0\\xc1\\xa4)</a></li>\\r\\n\\t\\t\\t\\t\\t\\t\\t\\t\\t\\t<li><a href=\"http://www.safekorea.go.kr\" target=\"_blank\" title=\"\\xbb\\xf5\\xc3\\xa2 \\xbf\\xad\\xb8\\xb2\">\\xb1\\xb9\\xb9\\xce\\xc0\\xe7\\xb3\\xad\\xbe\\xc8\\xc0\\xfc\\xc6\\xf7\\xc5\\xbb<br />(\\xc7\\xe0\\xc1\\xa4\\xbe\\xc8\\xc0\\xfc\\xba\\xce)</a></li>\\r\\n\\t\\t\\t\\t\\t\\t\\t\\t\\t\\t<li></li>\\r\\n\\t\\t\\t\\t\\t\\t\\t\\t\\t\\t<li></li>\\r\\n\\t\\t\\t\\t\\t\\t\\t\\t\\t\\t<li></li>\\r\\n\\t\\t\\t\\t\\t\\t\\t\\t\\t</ul>\\r\\n\\t\\t\\t\\t\\t\\t\\t\\t</li>\\r\\n\\t\\t\\t\\t\\t\\t\\t</ul>\\r\\n\\t\\t\\t\\t\\t\\t</li>\\r\\n\\t\\t\\t\\t\\t\\t<li class=\"div-9\" id=\"top-menu6\"><a href=\"/weather/earthquake_volcano/report.jsp\" id=\"top-menu-head6\">\\xc1\\xf6\\xc1\\xf8 \\xa1\\xa4 \\xc8\\xad\\xbb\\xea</a>\\r\\n\\t\\t\\t\\t\\t\\t\\t<ul id=\"top-sub-menu6\" style=\"display:none; left: -527px;\">\\r\\n\\t\\t\\t\\t\\t\\t\\t\\t<li id=\"top-6-1\"><a href=\"/weather/earthquake_volcano/report.jsp\">\\xb9\\xdf\\xc7\\xa5\\xc1\\xa4\\xba\\xb8</a></li>\\r\\n\\t\\t\\t\\t\\t\\t\\t\\t<li id=\"top-6-2\"><a href=\"/weather/earthquake_volcano/domesticlist.jsp\">\\xc1\\xf6\\xc1\\xf8</a>\\r\\n\\t\\t\\t\\t\\t\\t\\t\\t\\t<ul>\\r\\n\\t\\t\\t\\t\\t\\t\\t\\t\\t<li><a href=\"/weather/earthquake_volcano/domesticlist.jsp\">\\xb1\\xb9\\xb3\\xbb\\xc1\\xf6\\xc1\\xf8 \\xb8\\xf1\\xb7\\xcf</a></li>\\r\\n\\t\\t\\t\\t\\t\\t\\t\\t\\t<li><a href=\"/weather/earthquake_volcano/internationallist.jsp\">\\xb1\\xb9\\xbf\\xdc\\xc1\\xf6\\xc1\\xf8 \\xb8\\xf1\\xb7\\xcf</a></li>\\r\\n\\t\\t\\t\\t\\t\\t\\t\\t\\t<li><a href=\"/weather/earthquake_volcano/domestictrend.jsp\">\\xb1\\xb9\\xb3\\xbb\\xc1\\xf6\\xc1\\xf8 \\xb9\\xdf\\xbb\\xfd\\xc3\\xdf\\xc0\\xcc</a></li>\\r\\n\\t\\t\\t\\t\\t\\t\\t\\t\\t<li><a href=\"/weather/earthquake_volcano/scalelist.jsp\">\\xb1\\xb9\\xb3\\xbb\\xc1\\xf6\\xc1\\xf8 \\xb1\\xd4\\xb8\\xf0\\xba\\xb0\\xbc\\xf8\\xc0\\xa7</a></li>\\r\\n\\t\\t\\t\\t\\t\\t\\t\\t\\t<li><a href=\"/weather/earthquake_volcano/major_912.jsp\">\\xc1\\xd6\\xbf\\xe4 \\xc1\\xf6\\xc1\\xf8</a></li>\\r\\n\\t\\t\\t\\t\\t\\t\\t\\t\\t</ul>\\r\\n\\t\\t\\t\\t\\t\\t\\t\\t</li>\\r\\n\\t\\t\\t\\t\\t\\t\\t\\t<li id=\"top-6-3\"><a href=\"/weather/earthquake_volcano/tidalwave_02.jsp\">\\xc1\\xf6\\xc1\\xf8\\xc7\\xd8\\xc0\\xcf</a>\\r\\n\\t\\t\\t\\t\\t\\t\\t\\t\\t<ul class=\"clearfix\">\\r\\n\\t\\t\\t\\t\\t\\t\\t\\t\\t\\t<li><a href=\"/weather/earthquake_volcano/tidalwave_02.jsp\">\\xb0\\xfa\\xb0\\xc5 \\xc1\\xf6\\xc1\\xf8\\xc7\\xd8\\xc0\\xcf<br />\\xbb\\xe7\\xb7\\xca</a></li>\\r\\n\\t\\t\\t\\t\\t\\t\\t\\t\\t</ul>\\r\\n\\t\\t\\t\\t\\t\\t\\t\\t</li>\\r\\n\\t\\t\\t\\t\\t\\t\\t\\t<li id=\"top-6-4\"><a href=\"/weather/earthquake_volcano/volcano_01.jsp\">\\xc8\\xad\\xbb\\xea</a>\\r\\n\\t\\t\\t\\t\\t\\t\\t\\t\\t<ul>\\r\\n\\t\\t\\t\\t\\t\\t\\t\\t\\t\\t<li><a href=\"/weather/earthquake_volcano/volcano_02_1.jsp\">\\xb0\\xfa\\xb0\\xc5 \\xc8\\xad\\xbb\\xea \\xbb\\xe7\\xb7\\xca</a></li>\\r\\n\\t\\t\\t\\t\\t\\t\\t\\t\\t\\t<li><a href=\"/weather/earthquake_volcano/volcano_03.jsp\">\\xc8\\xad\\xbb\\xea\\xc0\\xe7\\xc7\\xd8 \\xc0\\xaf\\xc7\\xfc</a></li>\\r\\n\\t\\t\\t\\t\\t\\t\\t\\t\\t</ul>\\r\\n\\t\\t\\t\\t\\t\\t\\t\\t</li>\\r\\n\\t\\t\\t\\t\\t\\t\\t\\t<li id=\"top-6-6\"><a href=\"/weather/earthquake_volcano/evacuation_procedure.jsp\">\\xb1\\xb3\\xc0\\xb0\\xa1\\xa4\\xc8\\xab\\xba\\xb8</a>\\r\\n\\t\\t\\t\\t\\t\\t\\t\\t\\t<ul>\\r\\n\\t\\t\\t\\t\\t\\t\\t\\t\\t\\t<li><a href=\"/weather/earthquake_volcano/evacuation_procedure.jsp\">\\xc1\\xf6\\xc1\\xf8\\xa1\\xa4\\xc8\\xad\\xbb\\xea \\xb4\\xeb\\xc7\\xc7\\xbf\\xe4\\xb7\\xc9</a></li>\\r\\n\\t\\t\\t\\t\\t\\t\\t\\t\\t\\t<li><a href=\"/weather/earthquake_volcano/earthquakemovie.jsp\">\\xc1\\xf6\\xc1\\xf8\\xa1\\xa4\\xc8\\xad\\xbb\\xea \\xc8\\xab\\xba\\xb8\\xb9\\xb0</a></li>\\r\\n\\t\\t\\t\\t\\t\\t\\t\\t\\t\\t<li><a href=\"/weather/earthquake_volcano/faq.jsp\">FAQ</a></li>\\r\\n\\t\\t\\t\\t\\t\\t\\t\\t\\t</ul>\\r\\n\\t\\t\\t\\t\\t\\t\\t\\t</li>\\r\\n\\t\\t\\t\\t\\t\\t\\t\\t<li class=\"bottom\">\\r\\n\\t\\t\\t\\t\\t\\t\\t\\t\\t<ul class=\"clearfix\">\\r\\n\\t\\t\\t\\t\\t\\t\\t\\t\\t\\t<li><a href=\"http://www.kma.go.kr/communication/webzine/earthquakeyearly.jsp\" target=\"_blank\" title=\"\\xbb\\xf5\\xc3\\xa2 \\xbf\\xad\\xb8\\xb2\">\\xc1\\xf6\\xc1\\xf8\\xbf\\xac\\xba\\xb8<br />(\\xc7\\xe0\\xc1\\xa4)</a></li>\\r\\n\\t\\t\\t\\t\\t\\t\\t\\t\\t\\t<li><a href=\"http://www.kma.go.kr/aboutkma/biz/earthquake_volcano_01.jsp\" target=\"_blank\" title=\"\\xbb\\xf5\\xc3\\xa2 \\xbf\\xad\\xb8\\xb2\">\\xc1\\xf6\\xc1\\xf8\\xa1\\xa4\\xc8\\xad\\xbb\\xea \\xbe\\xf7\\xb9\\xab\\xbc\\xd2\\xb0\\xb3<br />(\\xc7\\xe0\\xc1\\xa4)</a></li>\\r\\n\\t\\t\\t\\t\\t\\t\\t\\t\\t\\t<li><a href=\"http://www.safekorea.go.kr\" target=\"_blank\" title=\"\\xbb\\xf5\\xc3\\xa2 \\xbf\\xad\\xb8\\xb2\">\\xb1\\xb9\\xb9\\xce\\xc0\\xe7\\xb3\\xad\\xbe\\xc8\\xc0\\xfc\\xc6\\xf7\\xc5\\xbb<br />(\\xc7\\xe0\\xc1\\xa4\\xbe\\xc8\\xc0\\xfc\\xba\\xce)</a></li>\\r\\n\\t\\t\\t\\t\\t\\t\\t\\t\\t\\t<li></li>\\r\\n\\t\\t\\t\\t\\t\\t\\t\\t\\t\\t<li></li>\\r\\n\\t\\t\\t\\t\\t\\t\\t\\t\\t</ul>\\r\\n\\t\\t\\t\\t\\t\\t\\t\\t</li>\\r\\n\\t\\t\\t\\t\\t\\t\\t</ul>\\r\\n\\t\\t\\t\\t\\t\\t</li>\\r\\n\\t\\t\\t\\t\\t\\t<li class=\"div-9\" id=\"top-menu7\"><a href=\"/weather/observation/currentweather.jsp\" id=\"top-menu-head7\">\\xb0\\xfc\\xc3\\xf8\\xc0\\xda\\xb7\\xe1</a>\\r\\n\\t\\t\\t\\t\\t\\t\\t<ul id=\"top-sub-menu7\" style=\"display:none; left: -633px;\">\\r\\n\\t\\t\\t\\t\\t\\t\\t\\t<li id=\"top-7-1\"><a href=\"/weather/observation/currentweather.jsp\">\\xc1\\xf6\\xbb\\xf3\\xb0\\xfc\\xc3\\xf8\\xc0\\xda\\xb7\\xe1</a>\\r\\n\\t\\t\\t\\t\\t\\t\\t\\t\\t<ul>\\r\\n\\t\\t\\t\\t\\t\\t\\t\\t\\t\\t<li><a href=\"/weather/observation/currentweather.jsp\">\\xb5\\xb5\\xbd\\xc3\\xba\\xb0 \\xc7\\xf6\\xc0\\xe7\\xb3\\xaf\\xbe\\xbe</a></li>\\r\\n\\t\\t\\t\\t\\t\\t\\t\\t\\t\\t<li><a href=\"/weather/observation/dashboard.jsp\">\\xb3\\xaf\\xbe\\xbe\\xbb\\xf3\\xc8\\xb2\\xc6\\xc7</a></li>\\r\\n\\t\\t\\t\\t\\t\\t\\t\\t\\t\\t<li><a href=\"/weather/climate/past_cal.jsp\">\\xb0\\xfa\\xb0\\xc5\\xc0\\xda\\xb7\\xe1</a></li>\\r\\n\\t\\t\\t\\t\\t\\t\\t\\t\\t</ul>\\r\\n\\t\\t\\t\\t\\t\\t\\t\\t</li>\\r\\n\\t\\t\\t\\t\\t\\t\\t\\t<li id=\"top-7-2\"><a href=\"http://web.kma.go.kr/weather/observation/flower_photo.jsp\">\\xb0\\xe8\\xc0\\xfd\\xb0\\xfc\\xc3\\xf8\\xc0\\xda\\xb7\\xe1</a>\\r\\n\\t\\t\\t\\t\\t\\t\\t\\t\\t<ul>\\r\\n\\t\\t\\t\\t\\t\\t\\t\\t\\t\\t<li><a href=\"http://web.kma.go.kr/weather/observation/flower_photo.jsp\">\\xba\\xbd\\xb2\\xc9\\xb0\\xb3\\xc8\\xad\\xc7\\xf6\\xc8\\xb2<br />(\\xba\\xa2\\xb2\\xc9,\\xc3\\xb6\\xc2\\xdf)</a></li>\\r\\n\\t\\t\\t\\t\\t\\t\\t\\t\\t\\t<!--<li><a href=\"http://web.kma.go.kr/weather/observation/maple_photo.jsp\">\\xc0\\xaf\\xb8\\xed\\xbb\\xea \\xb4\\xdc\\xc7\\xb3\\xc7\\xf6\\xc8\\xb2</a></li>-->\\r\\n\\t\\t\\t\\t\\t\\t\\t\\t\\t</ul>\\r\\n\\t\\t\\t\\t\\t\\t\\t\\t</li>\\r\\n\\t\\t\\t\\t\\t\\t\\t\\t<li id=\"top-7-3\"><a href=\"/weather/observation/marine_buoy.jsp\">\\xb9\\xd9\\xb4\\xd9\\xb0\\xfc\\xc3\\xf8\\xc0\\xda\\xb7\\xe1</a>\\r\\n\\t\\t\\t\\t\\t\\t\\t\\t\\t<ul>\\r\\n\\t\\t\\t\\t\\t\\t\\t\\t\\t\\t<li><a href=\"/weather/observation/marine_buoy.jsp\">\\xb1\\xb9\\xb3\\xbb\\xba\\xce\\xc0\\xcc</a></li>\\r\\n\\t\\t\\t\\t\\t\\t\\t\\t\\t\\t<li><a href=\"/weather/observation/marine_buoy_cosmos.jsp\">\\xc6\\xc4\\xb0\\xed\\xba\\xce\\xc0\\xcc</a></li>\\r\\n\\t\\t\\t\\t\\t\\t\\t\\t\\t\\t<li><a href=\"/weather/observation/marine_beacon.jsp\">\\xb1\\xb9\\xb3\\xbb\\xb5\\xee\\xc7\\xa5</a></li>\\r\\n\\t\\t\\t\\t\\t\\t\\t\\t\\t</ul>\\r\\n\\t\\t\\t\\t\\t\\t\\t\\t</li>\\r\\n\\t\\t\\t\\t\\t\\t\\t\\t<li class=\"bottom\">\\r\\n\\t\\t\\t\\t\\t\\t\\t\\t\\t<ul class=\"clearfix\">\\r\\n\\t\\t\\t\\t\\t\\t\\t\\t\\t\\t<li><a href=\"/weather/observation/aws_table_popup.jsp\" target=\"_blank\" title=\"\\xbb\\xf5\\xc3\\xa2\\xbf\\xad\\xb8\\xb2\">\\xc1\\xf6\\xbf\\xaa\\xba\\xb0 \\xbb\\xf3\\xbc\\xbc\\xb0\\xfc\\xc3\\xf8\\xc0\\xda\\xb7\\xe1<br />(AWS)</a></li>\\r\\n\\t\\t\\t\\t\\t\\t\\t\\t\\t\\t<li></li>\\r\\n\\t\\t\\t\\t\\t\\t\\t\\t\\t\\t<li></li>\\r\\n\\t\\t\\t\\t\\t\\t\\t\\t\\t\\t<li></li>\\r\\n\\t\\t\\t\\t\\t\\t\\t\\t\\t\\t<li></li>\\r\\n\\t\\t\\t\\t\\t\\t\\t\\t\\t</ul>\\r\\n\\t\\t\\t\\t\\t\\t\\t\\t</li>\\r\\n\\t\\t\\t\\t\\t\\t\\t</ul>\\r\\n\\t\\t\\t\\t\\t\\t</li>\\r\\n\\t\\t\\t\\t\\t\\t<li class=\"div-9 left-popup\" id=\"top-menu8\"><a href=\"/weather/climate/average_south.jsp\" id=\"top-menu-head8\">\\xb1\\xe2\\xc8\\xc4\\xc0\\xda\\xb7\\xe1</a>\\r\\n\\t\\t\\t\\t\\t\\t\\t<ul id=\"top-sub-menu8\" style=\"display:none; left: -738px;\">\\r\\n\\t\\t\\t\\t\\t\\t\\t\\t<li id=\"top-8-1\"><a href=\"/weather/climate/average_south.jsp\">\\xb1\\xb9\\xb3\\xbb\\xb1\\xe2\\xc8\\xc4\\xc0\\xda\\xb7\\xe1</a>\\r\\n\\t\\t\\t\\t\\t\\t\\t\\t\\t<ul>\\r\\n\\t\\t\\t\\t\\t\\t\\t\\t\\t\\t<li><a href=\"/weather/climate/average_south.jsp\">\\xbf\\xec\\xb8\\xae\\xb3\\xaa\\xb6\\xf3\\xb1\\xe2\\xc8\\xc4</a></li>\\r\\n\\t\\t\\t\\t\\t\\t\\t\\t\\t\\t<li><a href=\"/weather/climate/climate_link_guide.jsp\">\\xb1\\xe2\\xc8\\xc4\\xc0\\xda\\xb7\\xe1\\xc1\\xa6\\xb0\\xf8\\xbe\\xc8\\xb3\\xbb</a></li>\\r\\n\\t\\t\\t\\t\\t\\t\\t\\t\\t</ul>\\r\\n\\t\\t\\t\\t\\t\\t\\t\\t</li>\\r\\n\\t\\t\\t\\t\\t\\t\\t\\t<li id=\"top-8-3\">\\r\\n\\t\\t\\t\\t\\t\\t\\t\\t\\t<a href=\"/weather/climate/wind_solar_guide.jsp\">\\xc7\\xb3\\xb7\\xc2\\xa1\\xa4\\xc5\\xc2\\xbe\\xe7\\xb1\\xa4\\xb1\\xe2\\xbb\\xf3\\xc0\\xda\\xbf\\xf8\\xc1\\xf6\\xb5\\xb5 \\xbe\\xc8\\xb3\\xbb</a>\\r\\n\\t\\t\\t\\t\\t\\t\\t\\t</li>\\r\\n\\t\\t\\t\\t\\t\\t\\t\\t<li class=\"bottom\">\\r\\n\\t\\t\\t\\t\\t\\t\\t\\t\\t<ul class=\"clearfix\">\\r\\n\\t\\t\\t\\t\\t\\t\\t\\t\\t\\t<li><a href=\"http://www.climate.go.kr\" target=\"_blank\" title=\"\\xbb\\xf5\\xc3\\xa2\\xbf\\xad\\xb8\\xb2\">\\xb1\\xe2\\xc8\\xc4\\xc1\\xa4\\xba\\xb8\\xc6\\xf7\\xc5\\xd0<br />(\\xb1\\xe2\\xbb\\xf3\\xc3\\xbb)</a></li>\\r\\n\\t\\t\\t\\t\\t\\t\\t\\t\\t\\t<li><a href=\"https://data.kma.go.kr/\" target=\"_blank\" title=\"\\xbb\\xf5\\xc3\\xa2\\xbf\\xad\\xb8\\xb2\">\\xb1\\xe2\\xbb\\xf3\\xc0\\xda\\xb7\\xe1\\xb0\\xb3\\xb9\\xe6\\xc6\\xf7\\xc5\\xd0<br />(\\xb1\\xe2\\xbb\\xf3\\xc3\\xbb)</a></li>\\r\\n\\t\\t\\t\\t\\t\\t\\t\\t\\t\\t<li><a href=\"http://www.greenmap.go.kr/\" target=\"_blank\" title=\"\\xbb\\xf5\\xc3\\xa2\\xbf\\xad\\xb8\\xb2\">\\xb0\\xed\\xc7\\xd8\\xbb\\xf3\\xb5\\xb5\\xb1\\xe2\\xbb\\xf3\\xc0\\xda\\xbf\\xf8\\xc1\\xf6\\xb5\\xb5<br />(\\xb1\\xb9\\xb8\\xb3\\xb1\\xe2\\xbb\\xf3\\xb0\\xfa\\xc7\\xd0\\xbf\\xf8)</a></li>\\r\\n\\t\\t\\t\\t\\t\\t\\t\\t\\t\\t<li></li>\\r\\n\\t\\t\\t\\t\\t\\t\\t\\t\\t\\t<li></li>\\r\\n\\t\\t\\t\\t\\t\\t\\t\\t\\t</ul>\\r\\n\\t\\t\\t\\t\\t\\t\\t\\t</li>\\r\\n\\t\\t\\t\\t\\t\\t\\t</ul>\\r\\n\\t\\t\\t\\t\\t\\t</li>\\r\\n\\t\\t\\t\\t\\t\\t<li class=\"div-9 left-popup\" id=\"top-menu9\"><a href=\"/weather/lifenindustry/life_jisu.jsp\" id=\"top-menu-head9\">\\xbb\\xfd\\xc8\\xb0\\xb0\\xfa\\xbb\\xea\\xbe\\xf7</a>\\r\\n\\t\\t\\t\\t\\t\\t\\t<ul id=\"top-sub-menu9\" style=\"display:none; left: -844px;\">\\r\\n\\t\\t\\t\\t\\t\\t\\t\\t<li id=\"top-9-1\"><a href=\"/weather/lifenindustry/life_jisu.jsp\">\\xbb\\xfd\\xc8\\xb0\\xb1\\xe2\\xbb\\xf3\\xc1\\xa4\\xba\\xb8</a></li>\\r\\n\\t\\t\\t\\t\\t\\t\\t\\t<!--<li id=\"top-9-4\"><a href=\"/weather/lifenindustry/disaster_01.jsp\">\\xb1\\xe2\\xbb\\xf3\\xc0\\xe7\\xc7\\xd8\\xc5\\xeb\\xb0\\xe8</a>\\r\\n\\t\\t\\t\\t\\t\\t\\t\\t\\t<ul>\\r\\n\\t\\t\\t\\t\\t\\t\\t\\t\\t\\t<li><a href=\"/weather/lifenindustry/disaster_01.jsp\">\\xb1\\xe2\\xbb\\xf3\\xc0\\xe7\\xc7\\xd8\\xc7\\xf6\\xc8\\xb2</a></li>\\r\\n\\t\\t\\t\\t\\t\\t\\t\\t\\t\\t<li><a href=\"/weather/lifenindustry/disaster_03.jsp\">\\xb1\\xe2\\xbb\\xf3\\xc0\\xe7\\xc7\\xd8\\xbc\\xf8\\xc0\\xa7</a></li>\\r\\n\\t\\t\\t\\t\\t\\t\\t\\t\\t\\t<li><a href=\"/weather/lifenindustry/disaster_04.jsp\">\\xc5\\xc2\\xc7\\xb3\\xc7\\xc7\\xc7\\xd8\\xbc\\xf8\\xc0\\xa7</a></li>\\r\\n\\t\\t\\t\\t\\t\\t\\t\\t\\t</ul>\\r\\n\\t\\t\\t\\t\\t\\t\\t\\t</li>-->\\r\\n\\t\\t\\t\\t\\t\\t\\t\\t<li id=\"top-9-5\"><a href=\"/weather/world/cityweather.jsp\">\\xbc\\xbc\\xb0\\xe8\\xb3\\xaf\\xbe\\xbe</a></li>\\r\\n\\t\\t\\t\\t\\t\\t\\t\\t<li id=\"top-9-6\"><a href=\"/weather/lifenindustry/sevice_website.jsp\">\\xbc\\xad\\xba\\xf1\\xbd\\xba</a>\\r\\n\\t\\t\\t\\t\\t\\t\\t\\t\\t<ul>\\r\\n\\t\\t\\t\\t\\t\\t\\t\\t\\t\\t<li><a href=\"/weather/lifenindustry/sevice_website.jsp\">\\xc0\\xce\\xc5\\xcd\\xb3\\xdd</a></li>\\r\\n\\t\\t\\t\\t\\t\\t\\t\\t\\t\\t<li><a href=\"/weather/lifenindustry/sevice_use.jsp\">\\xb8\\xf0\\xb9\\xd9\\xc0\\xcf</a></li>\\r\\n\\t\\t\\t\\t\\t\\t\\t\\t\\t</ul>\\r\\n\\t\\t\\t\\t\\t\\t\\t\\t</li>\\r\\n\\t\\t\\t\\t\\t\\t\\t\\t<li class=\"bottom\">\\r\\n\\t\\t\\t\\t\\t\\t\\t\\t\\t<ul class=\"clearfix\">\\r\\n\\t\\t\\t\\t\\t\\t\\t\\t\\t\\t<li><a href=\"https://data.kma.go.kr/data/grnd/selectAgrRltmList.do?pgmNo=72\" target=\"_blank\" title=\"\\xbb\\xf5\\xc3\\xa2\\xbf\\xad\\xb8\\xb2\">\\xb3\\xf3\\xbe\\xf7\\xb1\\xe2\\xbb\\xf3\\xc1\\xa4\\xba\\xb8<br />(\\xb1\\xb9\\xb0\\xa1\\xb1\\xe2\\xc8\\xc4\\xb5\\xa5\\xc0\\xcc\\xc5\\xcd\\xbc\\xbe\\xc5\\xcd)</a></li>\\r\\n\\t\\t\\t\\t\\t\\t\\t\\t\\t\\t<li><a href=\"https://hydro.kma.go.kr\" target=\"_blank\" title=\"\\xbb\\xf5\\xc3\\xa2\\xbf\\xad\\xb8\\xb2\">\\xb0\\xa1\\xb9\\xb3\\xc1\\xa4\\xba\\xb8<br />(\\xb0\\xad\\xbc\\xf6\\xc7\\xf6\\xc8\\xb2)</a></li>\\r\\n\\t\\t\\t\\t\\t\\t\\t\\t\\t\\t<li><a href=\"http://www.safekorea.go.kr\" target=\"_blank\" title=\"\\xbb\\xf5\\xc3\\xa2 \\xbf\\xad\\xb8\\xb2\">\\xb1\\xb9\\xb9\\xce\\xc0\\xe7\\xb3\\xad\\xbe\\xc8\\xc0\\xfc\\xc6\\xf7\\xc5\\xbb<br />(\\xc7\\xe0\\xc1\\xa4\\xbe\\xc8\\xc0\\xfc\\xba\\xce)</a></li>\\r\\n\\t\\t\\t\\t\\t\\t\\t\\t\\t\\t<li><a class=\"last-of-top-menu\" href=\"http://forestfire.nifos.go.kr\" target=\"_blank\" title=\"\\xbb\\xf5\\xc3\\xa2 \\xbf\\xad\\xb8\\xb2\">\\xbb\\xea\\xba\\xd2\\xc0\\xa7\\xc7\\xe8\\xbf\\xb9\\xba\\xb8\\xbd\\xc3\\xbd\\xba\\xc5\\xdb<br />(\\xb1\\xb9\\xb8\\xb3\\xbb\\xea\\xb8\\xb2\\xb0\\xfa\\xc7\\xd0\\xbf\\xf8)</a></li>\\r\\n\\t\\t\\t\\t\\t\\t\\t\\t\\t\\t<li></li>\\r\\n\\t\\t\\t\\t\\t\\t\\t\\t\\t</ul>\\r\\n\\t\\t\\t\\t\\t\\t\\t\\t</li>\\r\\n\\t\\t\\t\\t\\t\\t\\t</ul>\\r\\n\\t\\t\\t\\t\\t\\t</li>\\r\\n\\t\\t\\t\\t\\t</ul>\\r\\n\\t\\t\\t\\t\\t<a href=\"#more-all\" class=\"menu-more\"><img src=\"/weather/home/images/menu-all.gif\" alt=\"\\xc0\\xfc\\xc3\\xbc\\xb8\\xde\\xb4\\xba \\xba\\xb8\\xb1\\xe2\"></a>\\r\\n\\t\\t\\t\\t\\t\\t<a href=\"#more-all-close\" class=\"menu-more-close\" ><img src=\"/weather/home/images/menu-all-close.gif\" alt=\"\\xc0\\xfc\\xc3\\xbc\\xb8\\xde\\xb4\\xba \\xb4\\xdd\\xb1\\xe2\"></a>\\r\\n\\t\\t\\t\\t\\t<div class=\"menu-all-div\" tabindex=\"0\">\\r\\n\\t\\t\\t\\t\\t\\t<ul class=\"lnb\">\\r\\n\\t\\t\\t\\t\\t\\t\\t<li class=\"div-9\"><a href=\"/weather/warning/status.jsp\">\\xc6\\xaf\\xba\\xb8 \\xa1\\xa4 \\xbf\\xb9\\xba\\xb8</a>\\r\\n\\t\\t\\t\\t\\t\\t\\t\\t<ul>\\r\\n\\t\\t\\t\\t\\t\\t\\t\\t\\t<li><a href=\"/weather/warning/status.jsp\" class=\"addon\">\\xc6\\xaf\\xba\\xb8 \\xa1\\xa4 \\xc1\\xa4\\xba\\xb8</a>\\r\\n\\t\\t\\t\\t\\t\\t\\t\\t\\t\\t<ul>\\r\\n\\t\\t\\t\\t\\t\\t\\t\\t\\t\\t\\t<li><a href=\"/weather/warning/status.jsp\">\\xc6\\xaf\\xba\\xb8\\xc7\\xf6\\xc8\\xb2</a></li>\\r\\n\\t\\t\\t\\t\\t\\t\\t\\t\\t\\t\\t<li><a href=\"/weather/warning/report.jsp\">\\xc5\\xeb\\xba\\xb8\\xb9\\xae</a></li>\\r\\n\\t\\t\\t\\t\\t\\t\\t\\t\\t\\t\\t<!--<li><a href=\"/weather/warning/heatwave.jsp\">\\xc6\\xf8\\xbf\\xb0\\xbf\\xb5\\xc7\\xe2\\xbf\\xb9\\xba\\xb8</a></li>\\r\\n\\t\\t\\t\\t\\t\\t\\t\\t\\t\\t\\t<li><a href=\"/weather/warning/coldwave.jsp\">\\xc7\\xd1\\xc6\\xc4\\xbf\\xb5\\xc7\\xe2\\xbf\\xb9\\xba\\xb8</a></li>-->\\r\\n\\t\\t\\t\\t\\t\\t\\t\\t\\t\\t\\t<li><a href=\"/weather/warning/wtouchqNew.jsp\">\\xc0\\xce\\xc5\\xcd\\xb3\\xdd\\xb1\\xe2\\xbb\\xf3\\xb9\\xe6\\xbc\\xdb<br/>(\\xb3\\xaf\\xbe\\xbeON)</a></li>\\r\\n\\t\\t\\t\\t\\t\\t\\t\\t\\t\\t\\t<li><a href=\"/weather/warning/standard.jsp\">\\xb1\\xe2\\xbb\\xf3\\xc6\\xaf\\xba\\xb8 \\xb9\\xdf\\xc7\\xa5\\xb1\\xe2\\xc1\\xd8</a></li>\\r\\n\\t\\t\\t\\t\\t\\t\\t\\t\\t\\t\\t<li><a href=\"/weather/warning/safetyguide_asiandust.jsp\">\\xb1\\xb9\\xb9\\xce\\xc7\\xe0\\xb5\\xbf\\xbf\\xe4\\xb7\\xc9</a></li>\\r\\n\\t\\t\\t\\t\\t\\t\\t\\t\\t\\t\\t<li><a href=\"/weather/warning/fog_status.jsp\">\\xbe\\xc8\\xb0\\xb3\\xc1\\xa4\\xba\\xb8\\xbc\\xad\\xba\\xf1\\xbd\\xba</a></li>\\r\\n\\t\\t\\t\\t\\t\\t\\t\\t\\t\\t</ul>\\r\\n\\t\\t\\t\\t\\t\\t\\t\\t\\t</li>\\r\\n\\t\\t\\t\\t\\t\\t\\t\\t\\t<li><a href=\"/weather/forecast/timeseries.jsp\" class=\"addon\">\\xc0\\xb0\\xbb\\xf3\\xbf\\xb9\\xba\\xb8</a>\\r\\n\\t\\t\\t\\t\\t\\t\\t\\t\\t\\t<ul>\\r\\n\\t\\t\\t\\t\\t\\t\\t\\t\\t\\t\\t<li><a href=\"/weather/forecast/timeseries.jsp\">\\xb5\\xbf\\xb3\\xd7\\xbf\\xb9\\xba\\xb8</a></li>\\r\\n\\t\\t\\t\\t\\t\\t\\t\\t\\t\\t\\t<li><a href=\"/weather/forecast/mid-term_01.jsp\">\\xc1\\xdf\\xb1\\xe2\\xbf\\xb9\\xba\\xb8(10\\xc0\\xcf \\xbf\\xb9\\xba\\xb8)</a></li>\\r\\n\\t\\t\\t\\t\\t\\t\\t\\t\\t\\t\\t<li><a href=\"/weather/forecast/weekend.jsp\">\\xc1\\xd6\\xb8\\xbb\\xbf\\xb9\\xba\\xb8</a></li>\\r\\n\\t\\t\\t\\t\\t\\t\\t\\t\\t\\t\\t<li><a href=\"/weather/forecast/long-range1.jsp\">1\\xb0\\xb3\\xbf\\xf9\\xc0\\xfc\\xb8\\xc1</a></li>\\r\\n\\t\\t\\t\\t\\t\\t\\t\\t\\t\\t\\t<li><a href=\"/weather/forecast/long-range3.jsp\">3\\xb0\\xb3\\xbf\\xf9\\xc0\\xfc\\xb8\\xc1</a></li>\\r\\n\\t\\t\\t\\t\\t\\t\\t\\t\\t\\t\\t<li><a href=\"/weather/forecast/long-range3-guide.jsp\">3\\xb0\\xb3\\xbf\\xf9\\xc0\\xfc\\xb8\\xc1 \\xc7\\xd8\\xbc\\xb3\\xbc\\xad</a></li>\\r\\n\\t\\t\\t\\t\\t\\t\\t\\t\\t\\t\\t<li><a href=\"/weather/forecast/season.jsp\">\\xb1\\xe2\\xc8\\xc4\\xc0\\xfc\\xb8\\xc1</a></li>\\r\\n\\t\\t\\t\\t\\t\\t\\t\\t\\t\\t\\t<li><a href=\"/weather/forecast/drought-range1.jsp\">\\xb1\\xe2\\xbb\\xf3\\xb0\\xa1\\xb9\\xb3\\xbf\\xb9\\xba\\xb8</a></li>\\r\\n\\t\\t\\t\\t\\t\\t\\t\\t\\t\\t</ul>\\r\\n\\t\\t\\t\\t\\t\\t\\t\\t\\t</li>\\r\\n\\t\\t\\t\\t\\t\\t\\t\\t\\t<li><a href=\"/weather/forecast/marine_daily.jsp\" class=\"addon\">\\xc7\\xd8\\xbb\\xf3\\xbf\\xb9\\xba\\xb8</a>\\r\\n\\t\\t\\t\\t\\t\\t\\t\\t\\t\\t<ul>\\r\\n\\t\\t\\t\\t\\t\\t\\t\\t\\t\\t\\t<li><a href=\"/weather/forecast/marine_daily.jsp\">\\xc0\\xcf\\xc0\\xcf\\xbf\\xb9\\xba\\xb8</a></li>\\r\\n\\t\\t\\t\\t\\t\\t\\t\\t\\t\\t\\t<li><a href=\"/weather/forecast/marine_mid-term.jsp\">\\xc1\\xdf\\xb1\\xe2\\xbf\\xb9\\xba\\xb8(10\\xc0\\xcf \\xbf\\xb9\\xba\\xb8)</a></li>\\r\\n\\t\\t\\t\\t\\t\\t\\t\\t\\t\\t</ul>\\r\\n\\t\\t\\t\\t\\t\\t\\t\\t\\t</li>\\r\\n\\t\\t\\t\\t\\t\\t\\t\\t\\t<li><a href=\"/weather/forecast/northkorea01.jsp\" class=\"addon\">\\xba\\xcf\\xc7\\xd1\\xbf\\xb9\\xba\\xb8</a>\\r\\n\\t\\t\\t\\t\\t\\t\\t\\t\\t\\t<ul>\\r\\n\\t\\t\\t\\t\\t\\t\\t\\t\\t\\t\\t<li><a href=\"/weather/forecast/northkorea01.jsp\">\\xc0\\xb0\\xbb\\xf3\\xbf\\xb9\\xba\\xb8</a></li>\\r\\n\\t\\t\\t\\t\\t\\t\\t\\t\\t\\t\\t<li><a href=\"/weather/forecast/northkorea02.jsp\">\\xb9\\xd9\\xb4\\xd9\\xbf\\xb9\\xba\\xb8</a></li>\\r\\n\\t\\t\\t\\t\\t\\t\\t\\t\\t\\t</ul>\\r\\n\\t\\t\\t\\t\\t\\t\\t\\t\\t</li>\\r\\n\\t\\t\\t\\t\\t\\t\\t\\t\\t<li><a href=\"/weather/forecast/mountain_01.jsp\" class=\"addon\">\\xc5\\xd7\\xb8\\xb6\\xbf\\xb9\\xba\\xb8</a>\\r\\n\\t\\t\\t\\t\\t\\t\\t\\t\\t\\t<ul>\\r\\n\\t\\t\\t\\t\\t\\t\\t\\t\\t\\t\\t<li><a href=\"/weather/forecast/mountain_01.jsp\">\\xbb\\xea\\xbe\\xc7\\xb1\\xe2\\xbb\\xf3</a></li>\\r\\n\\t\\t\\t\\t\\t\\t\\t\\t\\t\\t\\t<li><a href=\"/weather/forecast/theme_beach.jsp\">\\xc7\\xd8\\xbc\\xf6\\xbf\\xe5\\xc0\\xe5 \\xbf\\xb9\\xba\\xb8</a></li>\\r\\n\\t\\t\\t\\t\\t\\t\\t\\t\\t\\t\\t<li><a href=\"/weather/forecast/theme_regional.jsp\">\\xc1\\xf6\\xbf\\xaa\\xba\\xb0\\xb1\\xe2\\xbb\\xf3\\xc1\\xa4\\xba\\xb8</a></li>\\r\\n\\t\\t\\t\\t\\t\\t\\t\\t\\t\\t</ul>\\r\\n\\t\\t\\t\\t\\t\\t\\t\\t\\t</li>\\r\\n\\t\\t\\t\\t\\t\\t\\t\\t\\t<li><a href=\"/weather/forecast/el-la.jsp\" class=\"addon\">\\xbf\\xa4\\xb4\\xcf\\xb4\\xa2\\xa1\\xa4\\xb6\\xf3\\xb4\\xcf\\xb3\\xc4\\xc0\\xfc\\xb8\\xc1</a>\\r\\n\\t\\t\\t\\t\\t\\t\\t\\t\\t\\t<ul class=\"ul01 clearfix\">\\r\\n\\t\\t\\t\\t\\t\\t\\t\\t\\t\\t\\t<li class=\"mgr0\"><a href=\"/weather/forecast/forecaetevalue_01.jsp\" class=\"addon\">\\xbf\\xb9\\xba\\xb8\\xc6\\xf2\\xb0\\xa1</a>\\r\\n\\t\\t\\t\\t\\t\\t\\t\\t\\t\\t\\t\\t<ul>\\r\\n\\t\\t\\t\\t\\t\\t\\t\\t\\t\\t\\t\\t\\t<li><a href=\"/weather/forecast/forecaetevalue_01.jsp\">\\xbf\\xac\\xb5\\xb5\\xba\\xb0</a></li>\\r\\n\\t\\t\\t\\t\\t\\t\\t\\t\\t\\t\\t\\t\\t<li><a href=\"/weather/forecast/forecaetevalue_02.jsp\">\\xbf\\xf9\\xba\\xb0</a></li>\\r\\n\\t\\t\\t\\t\\t\\t\\t\\t\\t\\t\\t\\t</ul>\\r\\n\\t\\t\\t\\t\\t\\t\\t\\t\\t\\t\\t</li>\\r\\n\\t\\t\\t\\t\\t\\t\\t\\t\\t\\t</ul>\\r\\n\\t\\t\\t\\t\\t\\t\\t\\t\\t</li>\\r\\n\\t\\t\\t\\t\\t\\t\\t\\t</ul>\\r\\n\\t\\t\\t\\t\\t\\t\\t</li>\\r\\n\\t\\t\\t\\t\\t\\t\\t<li class=\"div-9\"><a href=\"/weather/images/rader.jsp\">\\xb3\\xaf\\xbe\\xbe\\xbf\\xb5\\xbb\\xf3</a>\\r\\n\\t\\t\\t\\t\\t\\t\\t\\t<ul style=\"height: 210px;\">\\r\\n\\t\\t\\t\\t\\t\\t\\t\\t\\t<li><a href=\"/weather/images/rader.jsp\" class=\"addon\">\\xb7\\xb9\\xc0\\xcc\\xb4\\xf5</a>\\r\\n\\t\\t\\t\\t\\t\\t\\t\\t\\t\\t<ul>\\r\\n\\t\\t\\t\\t\\t\\t\\t\\t\\t\\t\\t<li><a href=\"/weather/images/rader.jsp\">\\xc7\\xd5\\xbc\\xba\\xbf\\xb5\\xbb\\xf3</a></li>\\r\\n\\t\\t\\t\\t\\t\\t\\t\\t\\t\\t\\t<li><a href=\"/weather/images/rader_02.jsp\">\\xb4\\xab\\xba\\xf1\\xbf\\xb5\\xbf\\xaa</a></li>\\r\\n\\t\\t\\t\\t\\t\\t\\t\\t\\t\\t\\t<li><a href=\"/weather/images/rader_04.jsp\">\\xbf\\xec\\xb9\\xda</a></li>\\r\\n\\t\\t\\t\\t\\t\\t\\t\\t\\t\\t\\t<li><a href=\"/weather/images/rader_03.jsp\">\\xb4\\xa9\\xc0\\xfb\\xb0\\xad\\xbc\\xf6</a></li>\\r\\n\\t\\t\\t\\t\\t\\t\\t\\t\\t\\t\\t<li><a href=\"/weather/images/rader_individual.jsp\">\\xc1\\xf6\\xc1\\xa1\\xba\\xb0 \\xbf\\xb5\\xbb\\xf3</a></li>\\r\\n\\t\\t\\t\\t\\t\\t\\t\\t\\t\\t\\t\\r\\n\\t\\t\\t\\t\\t\\t\\t\\t\\t\\t</ul>\\r\\n\\t\\t\\t\\t\\t\\t\\t\\t\\t</li>\\r\\n\\t\\t\\t\\t\\t\\t\\t\\t\\t<li><a href=\"/weather/images/satellite_service.jsp\" class=\"addon\">\\xc0\\xa7\\xbc\\xba</a>\\r\\n\\t\\t\\t\\t\\t\\t\\t\\t\\t\\t<ul class=\"clearfix\">\\r\\n\\t\\t\\t\\t\\t\\t\\t\\t\\t\\t\\t<li><a href=\"/weather/images/satellite_service.jsp\">\\xb1\\xe2\\xba\\xbb\\xbf\\xb5\\xbb\\xf3</a></li>\\r\\n\\t\\t\\t\\t\\t\\t\\t\\t\\t\\t\\t<li><a href=\"/weather/images/satellite_case.jsp\">\\xbb\\xe7\\xb7\\xca\\xbf\\xb5\\xbb\\xf3</a></li>\\r\\n\\t\\t\\t\\t\\t\\t\\t\\t\\t\\t</ul>\\r\\n\\t\\t\\t\\t\\t\\t\\t\\t\\t</li>\\r\\n\\t\\t\\t\\t\\t\\t\\t\\t\\t<li><a href=\"/weather/images/lightning.jsp\">\\xb3\\xab\\xb7\\xda</a></li>\\r\\n\\t\\t\\t\\t\\t\\t\\t\\t\\t<li><a href=\"/weather/images/rader_sat_lgt.jsp\">\\xc1\\xbe\\xc7\\xd5\\xbf\\xb5\\xbb\\xf3<br/>(\\xb7\\xb9\\xc0\\xcc\\xb4\\xf5/\\xc0\\xa7\\xbc\\xba/\\xb3\\xab\\xb7\\xda)</a>\\r\\n\\t\\t\\t\\t\\t\\t\\t\\t\\t\\t<ul class=\"ul01 clearfix\">\\r\\n\\t\\t\\t\\t\\t\\t\\t\\t\\t\\t\\t<li class=\"mgr0\"><a href=\"/weather/images/rader_qpf.jsp\">\\xc3\\xca\\xb4\\xdc\\xb1\\xe2 \\xb0\\xad\\xbc\\xf6\\xbf\\xb9\\xc3\\xf8</a></li>\\r\\n\\t\\t\\t\\t\\t\\t\\t\\t\\t\\t</ul>\\r\\n\\t\\t\\t\\t\\t\\t\\t\\t\\t</li>\\r\\n\\t\\t\\t\\t\\t\\t\\t\\t\\t<li><a href=\"/weather/images/analysischart.jsp\" class=\"addon\">\\xc0\\xcf\\xb1\\xe2\\xb5\\xb5</a>\\r\\n\\t\\t\\t\\t\\t\\t\\t\\t\\t\\t<ul>\\r\\n\\t\\t\\t\\t\\t\\t\\t\\t\\t\\t\\t<li><a href=\"/weather/images/analysischart.jsp\">\\xba\\xd0\\xbc\\xae\\xc0\\xcf\\xb1\\xe2\\xb5\\xb5</a></li>\\r\\n\\t\\t\\t\\t\\t\\t\\t\\t\\t\\t\\t<li><a href=\"/weather/images/forecastchart.jsp\">\\xc0\\xb0\\xbb\\xf3\\xbf\\xb9\\xbb\\xf3\\xc0\\xcf\\xb1\\xe2\\xb5\\xb5</a></li>\\r\\n\\t\\t\\t\\t\\t\\t\\t\\t\\t\\t\\t<li><a href=\"/weather/images/wavemodel_r3.jsp\">\\xc7\\xd8\\xbb\\xf3\\xbf\\xb9\\xbb\\xf3\\xc0\\xcf\\xb1\\xe2\\xb5\\xb5</a></li>\\r\\n\\t\\t\\t\\t\\t\\t\\t\\t\\t\\t\\t<li><a href=\"/weather/images/expertchart.jsp\">\\xc0\\xfc\\xb9\\xae\\xb0\\xa1\\xbf\\xeb\\xc0\\xcf\\xb1\\xe2\\xb5\\xb5</a></li>\\r\\n\\t\\t\\t\\t\\t\\t\\t\\t\\t\\t</ul>\\r\\n\\t\\t\\t\\t\\t\\t\\t\\t\\t</li>\\r\\n\\t\\t\\t\\t\\t\\t\\t\\t\\t<li><a href=\"/weather/home/earth/index.jsp\" target=\"_blank\">\\xba\\xf1\\xc1\\xd6\\xbe\\xf3\\xb8\\xca</a></li>\\r\\n\\t\\t\\t\\t\\t\\t\\t\\t</ul>\\r\\n\\t\\t\\t\\t\\t\\t\\t</li>\\r\\n\\t\\t\\t\\t\\t\\t\\t<li class=\"div-9\"><a href=\"/mini/marine/marine_integrate.jsp\">\\xb9\\xd9\\xb4\\xd9\\xb3\\xaf\\xbe\\xbe</a>\\r\\n\\t\\t\\t\\t\\t\\t\\t\\t<ul>\\r\\n\\t\\t\\t\\t\\t\\t\\t\\t\\t<li style=\"height: 210px;\"><a href=\"/mini/marine/marine_integrate.jsp\" class=\"addon\">\\xc7\\xf6\\xc0\\xe7\\xb9\\xd9\\xb4\\xd9\\xb3\\xaf\\xbe\\xbe</a>\\r\\n\\t\\t\\t\\t\\t\\t\\t\\t\\t\\t<ul>\\r\\n\\t\\t\\t\\t\\t\\t\\t\\t\\t\\t\\t<li><a href=\"/mini/marine/marine_integrate.jsp\">\\xc7\\xd8\\xbe\\xe7\\xb1\\xe2\\xbb\\xf3\\xba\\xce\\xc0\\xcc</a></li>\\r\\n\\t\\t\\t\\t\\t\\t\\t\\t\\t\\t\\t<li><a href=\"/mini/marine/marine_beacon.jsp\">\\xb1\\xb9\\xb3\\xbb\\xb5\\xee\\xc7\\xa5</a></li>\\r\\n\\t\\t\\t\\t\\t\\t\\t\\t\\t\\t\\t<li><a href=\"/mini/marine/marine_buoy_cosmos.jsp\">\\xc6\\xc4\\xb0\\xed\\xba\\xce\\xc0\\xcc</a></li>\\r\\n\\t\\t\\t\\t\\t\\t\\t\\t\\t\\t\\t<li><a href=\"/mini/marine/marine_asia.jsp\">\\xbe\\xc6\\xbd\\xc3\\xbe\\xc6\\xbf\\xac\\xbe\\xc8\\xb0\\xfc\\xc3\\xf8\\xbd\\xc7\\xc8\\xb2</a></li>\\r\\n\\t\\t\\t\\t\\t\\t\\t\\t\\t\\t\\t<li><a href=\"/mini/marine/marine_onshorewind.jsp\">\\xc0\\xa7\\xbc\\xba\\xbf\\xb5\\xbb\\xf3</a></li>\\r\\n\\t\\t\\t\\t\\t\\t\\t\\t\\t\\t</ul>\\r\\n\\t\\t\\t\\t\\t\\t\\t\\t\\t</li>\\r\\n\\t\\t\\t\\t\\t\\t\\t\\t\\t<li style=\"height: 210px;\"><a href=\"/mini/marine/marine_daily.jsp\" class=\"addon\">\\xc7\\xd8\\xbb\\xf3\\xbf\\xb9\\xba\\xb8</a>\\r\\n\\t\\t\\t\\t\\t\\t\\t\\t\\t\\t<ul>\\r\\n\\t\\t\\t\\t\\t\\t\\t\\t\\t\\t\\t<li><a href=\"/mini/marine/marine_daily.jsp\">\\xc0\\xcf\\xc0\\xcf\\xbf\\xb9\\xba\\xb8</a></li>\\r\\n\\t\\t\\t\\t\\t\\t\\t\\t\\t\\t\\t<li><a href=\"/mini/marine/marine_mid-term.jsp\">\\xc1\\xdf\\xb1\\xe2\\xbf\\xb9\\xba\\xb8(10\\xc0\\xcf\\xbf\\xb9\\xba\\xb8)</a></li>\\r\\n\\t\\t\\t\\t\\t\\t\\t\\t\\t\\t\\t<li><a href=\"/mini/marine/marine_zone_rwwsst.jsp\">\\xc7\\xd8\\xb1\\xb8\\xba\\xb0 \\xbf\\xb9\\xc3\\xf8\\xc1\\xa4\\xba\\xb8</a></li>\\r\\n\\t\\t\\t\\t\\t\\t\\t\\t\\t\\t</ul>\\r\\n\\t\\t\\t\\t\\t\\t\\t\\t\\t</li>\\r\\n\\t\\t\\t\\t\\t\\t\\t\\t\\t<li style=\"height: 210px;\"><a href=\"/mini/marine/wavemodel_r3.jsp\" class=\"addon\">\\xc7\\xd8\\xbb\\xf3\\xbc\\xf6\\xc4\\xa1\\xbf\\xb9\\xc3\\xf8\\xc0\\xcf\\xb1\\xe2\\xb5\\xb5</a>\\r\\n\\t\\t\\t\\t\\t\\t\\t\\t\\t\\t<ul>\\r\\n\\t\\t\\t\\t\\t\\t\\t\\t\\t\\t\\t<li><a href=\"/mini/marine/wavemodel_r3.jsp\">\\xc6\\xc4\\xb6\\xfb</a></li>\\r\\n\\t\\t\\t\\t\\t\\t\\t\\t\\t\\t\\t<li><a href=\"/mini/marine/stormsurge.jsp\">\\xc6\\xf8\\xc7\\xb3\\xc7\\xd8\\xc0\\xcf</a></li>\\r\\n\\t\\t\\t\\t\\t\\t\\t\\t\\t\\t\\t<li><a href=\"/mini/marine/roms_crnt.jsp\">\\xc7\\xd8\\xbe\\xe7\\xbc\\xf8\\xc8\\xaf</a></li>\\r\\n\\t\\t\\t\\t\\t\\t\\t\\t\\t\\t\\t<li><a href=\"/mini/marine/marine_index_icing.jsp\">\\xc7\\xd8\\xbe\\xe7\\xc1\\xf6\\xbc\\xf6</a></li>\\r\\n\\t\\t\\t\\t\\t\\t\\t\\t\\t\\t\\t<li><a href=\"/mini/marine/marine_route.jsp\">\\xc7\\xd7\\xb7\\xce</a></li>\\r\\n\\t\\t\\t\\t\\t\\t\\t\\t\\t\\t</ul>\\r\\n\\t\\t\\t\\t\\t\\t\\t\\t\\t</li>\\r\\n\\t\\t\\t\\t\\t\\t\\t\\t\\t<li style=\"height: 210px;\"><a href=\"/mini/marine/marine_fax04.jsp\" class=\"addon\">\\xc7\\xd8\\xbe\\xe7\\xb1\\xe2\\xbb\\xf3\\xb9\\xe6\\xbc\\xdb<br />(\\xc0\\xcf\\xb1\\xe2\\xb5\\xb5 FAX\\xb9\\xe6\\xbc\\xdb)</a>\\r\\n\\t\\t\\t\\t\\t\\t\\t\\t\\t\\t<ul>\\r\\n\\t\\t\\t\\t\\t\\t\\t\\t\\t\\t\\t<li><a href=\"/mini/marine/marine_fax04.jsp\">\\xb0\\xb3\\xbf\\xe4</a></li>\\r\\n\\t\\t\\t\\t\\t\\t\\t\\t\\t\\t\\t<li><a href=\"/mini/marine/marine_fax02.jsp\">\\xb9\\xe6\\xbc\\xdb\\xb3\\xbb\\xbf\\xeb \\xb9\\xd7 \\xc1\\xa6\\xbf\\xf8</a></li>\\r\\n\\t\\t\\t\\t\\t\\t\\t\\t\\t\\t\\t<li><a href=\"/mini/marine/marine_fax03.jsp\">\\xb9\\xe6\\xbc\\xdb\\xbd\\xc3\\xb0\\xa3\\xc7\\xa5</a></li>\\r\\n\\t\\t\\t\\t\\t\\t\\t\\t\\t\\t\\t<li><a href=\"/mini/marine/marine_fax01.jsp\">\\xbc\\xbc\\xb0\\xe8\\xc1\\xd6\\xbf\\xe4\\xc1\\xf6\\xbf\\xaa \\xb1\\xe2\\xbb\\xf3\\xb9\\xe6\\xbc\\xdb\\xbc\\xbe\\xc5\\xcd</a></li>\\r\\n\\t\\t\\t\\t\\t\\t\\t\\t\\t\\t</ul>\\r\\n\\t\\t\\t\\t\\t\\t\\t\\t\\t</li>\\r\\n\\t\\t\\t\\t\\t\\t\\t\\t\\t<li style=\"height: 210px;\"><a href=\"/mini/marine/marine_summary.jsp\" class=\"addon\">\\xbf\\xf9\\xba\\xb0 \\xc7\\xd8\\xbe\\xe7\\xb1\\xe2\\xbb\\xf3\\xb5\\xb5</a>\\r\\n\\t\\t\\t\\t\\t\\t\\t\\t\\t\\t<ul>\\r\\n\\t\\t\\t\\t\\t\\t\\t\\t\\t\\t<li><a href=\"/mini/marine/marine_summary.jsp\">\\xb0\\xb3\\xbf\\xe4</a></li>\\r\\n\\t\\t\\t\\t\\t\\t\\t\\t\\t\\t<li><a href=\"/mini/marine/marine_eastasia.jsp\">\\xb5\\xbf\\xbe\\xc6\\xbd\\xc3\\xbe\\xc6</a></li>\\r\\n\\t\\t\\t\\t\\t\\t\\t\\t\\t\\t<li><a href=\"/mini/marine/marine_northpacific.jsp\">\\xc5\\xc2\\xc6\\xf2\\xbe\\xe7</a></li>\\r\\n\\t\\t\\t\\t\\t\\t\\t\\t\\t\\t</ul>\\r\\n\\t\\t\\t\\t\\t\\t\\t\\t\\t</li>\\r\\n\\t\\t\\t\\t\\t\\t\\t\\t\\t<li style=\"height: 210px;\"><a href=\"/mini/marine/marine_vos01.jsp\" class=\"addon\">\\xb0\\xfc\\xc3\\xf8\\xc1\\xf6\\xbf\\xf8\\xbc\\xb1\\xb9\\xda(VOS)\\xc1\\xa6\\xb5\\xb5</a>\\r\\n\\t\\t\\t\\t\\t\\t\\t\\t\\t\\t<ul>\\r\\n\\t\\t\\t\\t\\t\\t\\t\\t\\t\\t\\t<li><a href=\"/mini/marine/marine_vos01.jsp\">\\xbc\\xd2\\xb0\\xb3</a></li>\\r\\n\\t\\t\\t\\t\\t\\t\\t\\t\\t\\t\\t<li><a href=\"/mini/marine/marine_shipobserv.jsp\">\\xbc\\xb1\\xb9\\xda\\xb0\\xfc\\xc3\\xf8\\xc0\\xda\\xb7\\xe1</a></li>\\r\\n\\t\\t\\t\\t\\t\\t\\t\\t\\t\\t\\t<li><a href=\"/mini/marine/marine_vos02.jsp\">\\xbc\\xb1\\xb9\\xda\\xb0\\xfc\\xc3\\xf8 \\xc0\\xfc\\xb9\\xae\\xc7\\xd8\\xbc\\xb3</a></li>\\r\\n\\t\\t\\t\\t\\t\\t\\t\\t\\t\\t\\t<li><a href=\"/mini/marine/marine_vos03.jsp\">\\xc7\\xd7\\xb8\\xb8\\xb1\\xe2\\xbb\\xf3\\xb0\\xfc \\xc7\\xf6\\xc8\\xb2</a></li>\\r\\n\\t\\t\\t\\t\\t\\t\\t\\t\\t\\t\\t<li><a href=\"/mini/marine/marine_vos04.jsp\">\\xb0\\xfc\\xc3\\xf8\\xc1\\xf6\\xbf\\xf8\\xbc\\xb1\\xb9\\xda \\xb8\\xf1\\xb7\\xcf</a></li>\\r\\n\\t\\t\\t\\t\\t\\t\\t\\t\\t\\t</ul>\\r\\n\\t\\t\\t\\t\\t\\t\\t\\t\\t</li>\\r\\n\\t\\t\\t\\t\\t\\t\\t\\t</ul>\\r\\n\\t\\t\\t\\t\\t\\t\\t</li>\\r\\n\\t\\t\\t\\t\\t\\t\\t<li class=\"div-9\"><a href=\"/weather/typoon/report.jsp\">\\xc5\\xc2\\xc7\\xb3</a>\\r\\n\\t\\t\\t\\t\\t\\t\\t\\t<ul class=\"active\">\\r\\n\\t\\t\\t\\t\\t\\t\\t\\t\\t<li style=\"height: 146px;\"><a href=\"/weather/typoon/report.jsp\" class=\"addon\">\\xc5\\xc2\\xc7\\xb3\\xc1\\xa4\\xba\\xb8</a>\\r\\n\\t\\t\\t\\t\\t\\t\\t\\t\\t\\t<ul>\\r\\n\\t\\t\\t\\t\\t\\t\\t\\t\\t\\t\\t<li><a href=\"/weather/typoon/report.jsp\">\\xc5\\xeb\\xba\\xb8\\xb9\\xae</a></li>\\r\\n\\t\\t\\t\\t\\t\\t\\t\\t\\t\\t\\t<li><a href=\"/weather/typoon/detail.jsp\">\\xbb\\xf3\\xbc\\xbc\\xc1\\xa4\\xba\\xb8</a></li>\\r\\n\\t\\t\\t\\t\\t\\t\\t\\t\\t\\t\\t<li><a href=\"/weather/typoon/prediction.jsp\">\\xb8\\xf0\\xb5\\xa8\\xbf\\xb9\\xc3\\xf8</a></li>\\r\\n\\t\\t\\t\\t\\t\\t\\t\\t\\t\\t</ul>\\r\\n\\t\\t\\t\\t\\t\\t\\t\\t\\t</li>\\r\\n\\t\\t\\t\\t\\t\\t\\t\\t\\t<li style=\"height: 146px;\"><a href=\"/weather/typoon/typhoon_06_02.jsp\" class=\"addon\">\\xc2\\xfc\\xb0\\xed\\xc1\\xa4\\xba\\xb8</a>\\r\\n\\t\\t\\t\\t\\t\\t\\t\\t\\t\\t<ul>\\r\\n\\t\\t\\t\\t\\t\\t\\t\\t\\t\\t\\t<li style=\"border-right: 1px solid #e5e5e5;\"><a href=\"/weather/typoon/typhoon_06_02.jsp\">\\xb9\\xdf\\xbb\\xfd \\xb0\\xa8\\xbd\\xc3</a></li>\\r\\n\\t\\t\\t\\t\\t\\t\\t\\t\\t\\t\\t<li style=\"border-right: 1px solid #e5e5e5;\"><a href=\"/weather/typoon/statistic.jsp\">\\xb9\\xdf\\xbb\\xfd \\xc5\\xeb\\xb0\\xe8</a></li>\\r\\n\\t\\t\\t\\t\\t\\t\\t\\t\\t\\t\\t<li style=\"position: absolute; left: 158px; top: 36px;\"><a href=\"/weather/typoon/typhoon_06_01.jsp\">\\xc5\\xc2\\xc7\\xb3 \\xc3\\xa3\\xbe\\xc6\\xba\\xb8\\xb1\\xe2</a></li>\\r\\n\\t\\t\\t\\t\\t\\t\\t\\t\\t\\t\\t<li style=\"position: absolute; left: 158px; top: 72px;\"><a href=\"/weather/typoon/knowledge_01.jsp\">\\xb1\\xe2\\xba\\xbb \\xc1\\xf6\\xbd\\xc4</a></li>\\r\\n\\t\\t\\t\\t\\t\\t\\t\\t\\t\\t</ul>\\r\\n\\t\\t\\t\\t\\t\\t\\t\\t\\t</li>\\r\\n\\t\\t\\t\\t\\t\\t\\t\\t</ul>\\r\\n\\t\\t\\t\\t\\t\\t\\t</li>\\r\\n\\t\\t\\t\\t\\t\\t\\t<li class=\"div-9\"><a href=\"/weather/asiandust/density.jsp\">\\xc8\\xb2\\xbb\\xe7</a>\\r\\n\\t\\t\\t\\t\\t\\t\\t\\t<ul>\\r\\n\\t\\t\\t\\t\\t\\t\\t\\t\\t<li style=\"height:57px;margin-bottom: 10px;\"><a href=\"/weather/asiandust/density.jsp\">\\xc8\\xb2\\xbb\\xe7/\\xba\\xce\\xc0\\xaf\\xba\\xd0\\xc1\\xf8<br />\\xb0\\xfc\\xc3\\xf8\\xb0\\xaa</a></li>\\r\\n\\t\\t\\t\\t\\t\\t\\t\\t\\t<li style=\"height:57px;margin-bottom: 10px;\"><a href=\"/weather/asiandust/graph.jsp\">\\xc8\\xb2\\xbb\\xe7/\\xba\\xce\\xc0\\xaf\\xba\\xd0\\xc1\\xf8<br />\\xb0\\xfc\\xc3\\xf8 \\xb1\\xd7\\xb7\\xa1\\xc7\\xc1</a></li>\\r\\n\\t\\t\\t\\t\\t\\t\\t\\t\\t<li style=\"height:57px;margin-bottom: 10px; border: 0;\"><a href=\"/weather/asiandust/prediction.jsp\">\\xb8\\xf0\\xb5\\xa8\\xbf\\xb9\\xc3\\xf8</a></li>\\r\\n\\t\\t\\t\\t\\t\\t\\t\\t\\t<li style=\"height:57px;\"><a href=\"/weather/asiandust/chart.jsp\">\\xc1\\xf6\\xbb\\xf3\\xc0\\xcf\\xb1\\xe2\\xb5\\xb5</a></li>\\r\\n\\t\\t\\t\\t\\t\\t\\t\\t\\t<li style=\"height:57px;\"><a href=\"/weather/asiandust/observday.jsp\">\\xc8\\xb2\\xbb\\xe7\\xb0\\xfc\\xc3\\xf8\\xc0\\xcf\\xbc\\xf6</a></li>\\r\\n\\t\\t\\t\\t\\t\\t\\t\\t</ul>\\r\\n\\t\\t\\t\\t\\t\\t\\t</li>\\r\\n\\t\\t\\t\\t\\t\\t\\t<li class=\"div-9\"><a href=\"/weather/earthquake_volcano/report.jsp\">\\xc1\\xf6\\xc1\\xf8 \\xa1\\xa4 \\xc8\\xad\\xbb\\xea</a>\\r\\n\\t\\t\\t\\t\\t\\t\\t\\t<ul>\\r\\n\\t\\t\\t\\t\\t\\t\\t\\t\\t<li style=\"height: 168px;\"><a href=\"/weather/earthquake_volcano/report.jsp\">\\xb9\\xdf\\xc7\\xa5\\xc1\\xa4\\xba\\xb8</a></li>\\r\\n\\t\\t\\t\\t\\t\\t\\t\\t\\t<li style=\"height: 168px;\"><a href=\"/weather/earthquake_volcano/domesticlist.jsp\" class=\"addon\">\\xc1\\xf6\\xc1\\xf8</a>\\r\\n\\t\\t\\t\\t\\t\\t\\t\\t\\t\\t<ul>\\r\\n\\t\\t\\t\\t\\t\\t\\t\\t\\t\\t\\t<li style=\"border-right: 1px solid #e5e5e5;\"><a href=\"/weather/earthquake_volcano/domesticlist.jsp\">\\xb1\\xb9\\xb3\\xbb\\xc1\\xf6\\xc1\\xf8 \\xb8\\xf1\\xb7\\xcf</a></li>\\r\\n\\t\\t\\t\\t\\t\\t\\t\\t\\t\\t\\t<li style=\" border-right: 1px solid #e5e5e5;\"><a href=\"/weather/earthquake_volcano/internationallist.jsp\">\\xb1\\xb9\\xbf\\xdc\\xc1\\xf6\\xc1\\xf8 \\xb8\\xf1\\xb7\\xcf</a></li>\\r\\n\\t\\t\\t\\t\\t\\t\\t\\t\\t\\t\\t<li style=\" border-right: 1px solid #e5e5e5;\"><a href=\"/weather/earthquake_volcano/domestictrend.jsp\">\\xb1\\xb9\\xb3\\xbb\\xc1\\xf6\\xc1\\xf8 \\xb9\\xdf\\xbb\\xfd\\xc3\\xdf\\xc0\\xcc</a></li>\\r\\n\\t\\t\\t\\t\\t\\t\\t\\t\\t\\t</ul>\\r\\n\\t\\t\\t\\t\\t\\t\\t\\t\\t</li>\\r\\n\\t\\t\\t\\t\\t\\t\\t\\t\\t<li style=\"height: 168px;\"><a class=\"addon\">&nbsp;</a>\\r\\n\\t\\t\\t\\t\\t\\t\\t\\t\\t\\t<ul>\\r\\n\\t\\t\\t\\t\\t\\t\\t\\t\\t\\t\\t<li style=\" border-right: 1px solid #e5e5e5;\"><a href=\"/weather/earthquake_volcano/scalelist.jsp\">\\xb1\\xb9\\xb3\\xbb\\xc1\\xf6\\xc1\\xf8 \\xb1\\xd4\\xb8\\xf0\\xba\\xb0\\xbc\\xf8\\xc0\\xa7</a></li>\\r\\n\\t\\t\\t\\t\\t\\t\\t\\t\\t\\t\\t<li style=\" border-right: 1px solid #e5e5e5;\"><a href=\"/weather/earthquake_volcano/major_912.jsp\">\\xc1\\xd6\\xbf\\xe4 \\xc1\\xf6\\xc1\\xf8</a></li>\\r\\n\\t\\t\\t\\t\\t\\t\\t\\t\\t\\t</ul>\\r\\n\\t\\t\\t\\t\\t\\t\\t\\t\\t</li>\\r\\n\\t\\t\\t\\t\\t\\t\\t\\t\\t<li style=\"height: 168px;\"><a href=\"/weather/earthquake_volcano/tidalwave_02.jsp\" class=\"addon\">\\xc1\\xf6\\xc1\\xf8\\xc7\\xd8\\xc0\\xcf</a>\\r\\n\\t\\t\\t\\t\\t\\t\\t\\t\\t\\t<ul class=\"clearfix\">\\r\\n\\t\\t\\t\\t\\t\\t\\t\\t\\t\\t\\t<li><a href=\"/weather/earthquake_volcano/tidalwave_02.jsp\">\\xb0\\xfa\\xb0\\xc5 \\xc1\\xf6\\xc1\\xf8\\xc7\\xd8\\xc0\\xcf<br />\\xbb\\xe7\\xb7\\xca</a></li>\\r\\n\\t\\t\\t\\t\\t\\t\\t\\t\\t\\t</ul>\\r\\n\\t\\t\\t\\t\\t\\t\\t\\t\\t</li>\\r\\n\\t\\t\\t\\t\\t\\t\\t\\t\\t<li style=\"height: 168px;\"><a href=\"/weather/earthquake_volcano/volcano_01.jsp\" class=\"addon\">\\xc8\\xad\\xbb\\xea</a>\\r\\n\\t\\t\\t\\t\\t\\t\\t\\t\\t\\t<ul>\\r\\n\\t\\t\\t\\t\\t\\t\\t\\t\\t\\t\\t<li><a href=\"/weather/earthquake_volcano/volcano_02_1.jsp\">\\xb0\\xfa\\xb0\\xc5 \\xc8\\xad\\xbb\\xea \\xbb\\xe7\\xb7\\xca</a></li>\\r\\n\\t\\t\\t\\t\\t\\t\\t\\t\\t\\t\\t<li><a href=\"/weather/earthquake_volcano/volcano_03.jsp\">\\xc8\\xad\\xbb\\xea\\xc0\\xe7\\xc7\\xd8 \\xc0\\xaf\\xc7\\xfc</a></li>\\r\\n\\t\\t\\t\\t\\t\\t\\t\\t\\t\\t</ul>\\r\\n\\t\\t\\t\\t\\t\\t\\t\\t\\t</li>\\r\\n\\t\\t\\t\\t\\t\\t\\t\\t\\t<li style=\"height: 168px;\"><a href=\"/weather/earthquake_volcano/evacuation_procedure.jsp\" class=\"addon\">\\xb1\\xb3\\xc0\\xb0\\xa1\\xa4\\xc8\\xab\\xba\\xb8</a>\\r\\n\\t\\t\\t\\t\\t\\t\\t\\t\\t\\t<ul>\\r\\n\\t\\t\\t\\t\\t\\t\\t\\t\\t\\t\\t<li><a href=\"/weather/earthquake_volcano/evacuation_procedure.jsp\">\\xc1\\xf6\\xc1\\xf8\\xa1\\xa4\\xc8\\xad\\xbb\\xea \\xb4\\xeb\\xc7\\xc7\\xbf\\xe4\\xb7\\xc9</a></li>\\r\\n\\t\\t\\t\\t\\t\\t\\t\\t\\t\\t\\t<li><a href=\"/weather/earthquake_volcano/earthquakemovie.jsp\">\\xc1\\xf6\\xc1\\xf8\\xa1\\xa4\\xc8\\xad\\xbb\\xea \\xc8\\xab\\xba\\xb8\\xb9\\xb0</a></li>\\r\\n\\t\\t\\t\\t\\t\\t\\t\\t\\t\\t\\t<li><a href=\"/weather/earthquake_volcano/faq.jsp\">FAQ</a></li>\\r\\n\\t\\t\\t\\t\\t\\t\\t\\t\\t\\t</ul>\\r\\n\\t\\t\\t\\t\\t\\t\\t\\t\\t</li>\\r\\n\\t\\t\\t\\t\\t\\t\\t\\t</ul>\\r\\n\\t\\t\\t\\t\\t\\t\\t</li>\\r\\n\\t\\t\\t\\t\\t\\t\\t<li class=\"div-9\"><a href=\"/weather/observation/currentweather.jsp\">\\xb0\\xfc\\xc3\\xf8\\xc0\\xda\\xb7\\xe1</a>\\r\\n\\t\\t\\t\\t\\t\\t\\t\\t<ul class=\"active\">\\r\\n\\t\\t\\t\\t\\t\\t\\t\\t\\t<li><a href=\"/weather/observation/currentweather.jsp\" class=\"addon\">\\xc1\\xf6\\xbb\\xf3\\xb0\\xfc\\xc3\\xf8\\xc0\\xda\\xb7\\xe1</a>\\r\\n\\t\\t\\t\\t\\t\\t\\t\\t\\t\\t<ul>\\r\\n\\t\\t\\t\\t\\t\\t\\t\\t\\t\\t\\t<li><a href=\"/weather/observation/currentweather.jsp\">\\xb5\\xb5\\xbd\\xc3\\xba\\xb0 \\xc7\\xf6\\xc0\\xe7\\xb3\\xaf\\xbe\\xbe</a></li>\\r\\n\\t\\t\\t\\t\\t\\t\\t\\t\\t\\t\\t<li><a href=\"/weather/observation/dashboard.jsp\">\\xb3\\xaf\\xbe\\xbe\\xbb\\xf3\\xc8\\xb2\\xc6\\xc7</a></li>\\r\\n\\t\\t\\t\\t\\t\\t\\t\\t\\t\\t\\t<li><a href=\"/weather/observation/aws_table_popup.jsp\" target=\"_blank\" title=\"\\xbb\\xf5\\xc3\\xa2\\xbf\\xad\\xb8\\xb2\">\\xc1\\xf6\\xbf\\xaa\\xba\\xb0\\xbb\\xf3\\xbc\\xbc\\xb0\\xfc\\xc3\\xf8\\xc0\\xda\\xb7\\xe1(AWS)<i>\\xbb\\xf5\\xc3\\xa2</i></a></li>\\r\\n\\t\\t\\t\\t\\t\\t\\t\\t\\t\\t\\t<li><a href=\"/weather/climate/past_cal.jsp\">\\xb0\\xfa\\xb0\\xc5\\xc0\\xda\\xb7\\xe1</a></li>\\r\\n\\t\\t\\t\\t\\t\\t\\t\\t\\t\\t</ul>\\r\\n\\t\\t\\t\\t\\t\\t\\t\\t\\t</li>\\r\\n\\t\\t\\t\\t\\t\\t\\t\\t\\t<li><a href=\"http://web.kma.go.kr/weather/observation/flower_photo.jsp\" class=\"addon\">\\xb0\\xe8\\xc0\\xfd\\xb0\\xfc\\xc3\\xf8\\xc0\\xda\\xb7\\xe1</a>\\r\\n\\t\\t\\t\\t\\t\\t\\t\\t\\t\\t<ul>\\r\\n\\t\\t\\t\\t\\t\\t\\t\\t\\t\\t\\t<li><a href=\"http://web.kma.go.kr/weather/observation/flower_photo.jsp\">\\xba\\xbd\\xb2\\xc9\\xb0\\xb3\\xc8\\xad\\xc7\\xf6\\xc8\\xb2<br />(\\xba\\xa2\\xb2\\xc9,\\xc3\\xb6\\xc2\\xdf)</a></li>\\r\\n\\t\\t\\t\\t\\t\\t\\t\\t\\t\\t\\t<!--<li><a href=\"http://web.kma.go.kr/weather/observation/maple_photo.jsp\">\\xc0\\xaf\\xb8\\xed\\xbb\\xea \\xb4\\xdc\\xc7\\xb3\\xc7\\xf6\\xc8\\xb2</a></li>-->\\r\\n\\t\\t\\t\\t\\t\\t\\t\\t\\t\\t</ul>\\r\\n\\t\\t\\t\\t\\t\\t\\t\\t\\t</li>\\r\\n\\t\\t\\t\\t\\t\\t\\t\\t\\t<li><a href=\"/weather/observation/marine_buoy.jsp\" class=\"addon\">\\xb9\\xd9\\xb4\\xd9\\xb0\\xfc\\xc3\\xf8\\xc0\\xda\\xb7\\xe1</a>\\r\\n\\t\\t\\t\\t\\t\\t\\t\\t\\t\\t<ul>\\r\\n\\t\\t\\t\\t\\t\\t\\t\\t\\t\\t\\t<li><a href=\"/weather/observation/marine_buoy.jsp\">\\xb1\\xb9\\xb3\\xbb\\xba\\xce\\xc0\\xcc</a></li>\\r\\n\\t\\t\\t\\t\\t\\t\\t\\t\\t\\t\\t<li><a href=\"/weather/observation/marine_buoy_cosmos.jsp\">\\xc6\\xc4\\xb0\\xed\\xba\\xce\\xc0\\xcc</a></li>\\r\\n\\t\\t\\t\\t\\t\\t\\t\\t\\t\\t\\t<li><a href=\"/weather/observation/marine_beacon.jsp\">\\xb1\\xb9\\xb3\\xbb\\xb5\\xee\\xc7\\xa5</a></li>\\r\\n\\t\\t\\t\\t\\t\\t\\t\\t\\t\\t</ul>\\r\\n\\t\\t\\t\\t\\t\\t\\t\\t\\t</li>\\r\\n\\t\\t\\t\\t\\t\\t\\t\\t</ul>\\r\\n\\t\\t\\t\\t\\t\\t\\t</li>\\r\\n\\t\\t\\t\\t\\t\\t\\t<li class=\"div-9 left-popup\"><a href=\"/weather/climate/average_south.jsp\">\\xb1\\xe2\\xc8\\xc4\\xc0\\xda\\xb7\\xe1</a>\\r\\n\\t\\t\\t\\t\\t\\t\\t\\t<ul>\\r\\n\\t\\t\\t\\t\\t\\t\\t\\t\\t<li><a href=\"/weather/climate/average_south.jsp\" class=\"addon\">\\xb1\\xb9\\xb3\\xbb\\xb1\\xe2\\xc8\\xc4\\xc0\\xda\\xb7\\xe1</a>\\r\\n\\t\\t\\t\\t\\t\\t\\t\\t\\t\\t<ul>\\r\\n\\t\\t\\t\\t\\t\\t\\t\\t\\t\\t\\t<li><a href=\"/weather/climate/average_south.jsp\">\\xbf\\xec\\xb8\\xae\\xb3\\xaa\\xb6\\xf3\\xb1\\xe2\\xc8\\xc4</a></li>\\r\\n\\t\\t\\t\\t\\t\\t\\t\\t\\t\\t\\t<li><a href=\"/weather/climate/climate_link_guide.jsp\">\\xb1\\xe2\\xc8\\xc4\\xc0\\xda\\xb7\\xe1\\xc1\\xa6\\xb0\\xf8\\xbe\\xc8\\xb3\\xbb</a></li>\\r\\n\\t\\t\\t\\t\\t\\t\\t\\t\\t\\t</ul>\\r\\n\\t\\t\\t\\t\\t\\t\\t\\t\\t</li>\\r\\n\\t\\t\\t\\t\\t\\t\\t\\t\\t<li><a href=\"/weather/climate/wind_solar_guide.jsp\">\\xc7\\xb3\\xb7\\xc2\\xa1\\xa4\\xc5\\xc2\\xbe\\xe7\\xb1\\xa4\\xb1\\xe2\\xbb\\xf3\\xc0\\xda\\xbf\\xf8\\xc1\\xf6\\xb5\\xb5 \\xbe\\xc8\\xb3\\xbb</a></li>\\r\\n\\t\\t\\t\\t\\t\\t\\t\\t</ul>\\r\\n\\t\\t\\t\\t\\t\\t\\t</li>\\r\\n\\t\\t\\t\\t\\t\\t\\t<li class=\"div-9 left-popup\"><a href=\"/weather/lifenindustry/life_jisu.jsp\">\\xbb\\xfd\\xc8\\xb0\\xb0\\xfa\\xbb\\xea\\xbe\\xf7</a>\\r\\n\\t\\t\\t\\t\\t\\t\\t\\t<ul>\\r\\n\\t\\t\\t\\t\\t\\t\\t\\t\\t<li><a href=\"/weather/lifenindustry/life_jisu.jsp\">\\xbb\\xfd\\xc8\\xb0\\xb1\\xe2\\xbb\\xf3\\xc1\\xa4\\xba\\xb8</a></li>\\r\\n\\t\\t\\t\\t\\t\\t\\t\\t\\t<!--<li><a href=\"/weather/lifenindustry/disaster_01.jsp\" class=\"addon\">\\xb1\\xe2\\xbb\\xf3\\xc0\\xe7\\xc7\\xd8\\xc5\\xeb\\xb0\\xe8</a>\\r\\n\\t\\t\\t\\t\\t\\t\\t\\t\\t\\t<ul>\\r\\n\\t\\t\\t\\t\\t\\t\\t\\t\\t\\t\\t<li><a href=\"/weather/lifenindustry/disaster_01.jsp\">\\xb1\\xe2\\xbb\\xf3\\xc0\\xe7\\xc7\\xd8\\xc7\\xf6\\xc8\\xb2</a></li>\\r\\n\\t\\t\\t\\t\\t\\t\\t\\t\\t\\t\\t<li><a href=\"/weather/lifenindustry/disaster_03.jsp\">\\xb1\\xe2\\xbb\\xf3\\xc0\\xe7\\xc7\\xd8\\xbc\\xf8\\xc0\\xa7</a></li>\\r\\n\\t\\t\\t\\t\\t\\t\\t\\t\\t\\t\\t<li><a href=\"/weather/lifenindustry/disaster_04.jsp\">\\xc5\\xc2\\xc7\\xb3\\xc7\\xc7\\xc7\\xd8\\xbc\\xf8\\xc0\\xa7</a></li>\\r\\n\\t\\t\\t\\t\\t\\t\\t\\t\\t\\t</ul>\\r\\n\\t\\t\\t\\t\\t\\t\\t\\t\\t</li>-->\\r\\n\\t\\t\\t\\t\\t\\t\\t\\t\\t<li><a href=\"/weather/world/cityweather.jsp\">\\xbc\\xbc\\xb0\\xe8\\xb3\\xaf\\xbe\\xbe</a></li>\\r\\n\\t\\t\\t\\t\\t\\t\\t\\t\\t<li><a href=\"/weather/lifenindustry/sevice_website.jsp\" class=\"addon\">\\xbc\\xad\\xba\\xf1\\xbd\\xba</a>\\r\\n\\t\\t\\t\\t\\t\\t\\t\\t\\t\\t<ul>\\r\\n\\t\\t\\t\\t\\t\\t\\t\\t\\t\\t\\t<li><a href=\"/weather/lifenindustry/sevice_website.jsp\">\\xc0\\xce\\xc5\\xcd\\xb3\\xdd</a></li>\\r\\n\\t\\t\\t\\t\\t\\t\\t\\t\\t\\t\\t<li><a href=\"/weather/lifenindustry/sevice_use.jsp\" onblur=\"$(\\'.menu-more-close\\').trigger(\\'focus\\');\">\\xb8\\xf0\\xb9\\xd9\\xc0\\xcf</a></li>\\r\\n\\t\\t\\t\\t\\t\\t\\t\\t\\t\\t</ul>\\r\\n\\t\\t\\t\\t\\t\\t\\t\\t\\t</li>\\r\\n\\t\\t\\t\\t\\t\\t\\t\\t</ul>\\r\\n\\t\\t\\t\\t\\t\\t\\t</li>\\r\\n\\t\\t\\t\\t\\t\\t</ul>\\r\\n\\t\\t\\t\\t\\t</div>\\r\\n\\t\\t\\t\\t</div>\\r\\n\\t\\t\\r\\n\\t\\t\\t</div>\\r\\n\\t\\t</div>\\r\\n\\t\\t<div class=\"menu-all-bg\" ></div>\\r\\n\\t</div>\\r\\n\\t<hr>\\r\\n\\n\\t\\t\\t\\t\\n\\t\\t\\t\\t\\n\\t\\t\\t\\n\\t\\t\\t<script src=\"/share/js/weather.options.js?ver=20210128\"></script>\\n\\t\\t\\t\\n\\t\\t\\t\\t\\n\\t\\t\\t\\t\\t\\n\\t\\t\\t\\t\\t\\t\\r\\n\\r\\n<div id=\"container\"><a id=\"gocontent\"></a>\\r\\n\\t<div id=\"sub-menu5\" class=\"snb\">\\r\\n\\t\\t<h3 class=\"section-head\"><span>\\xb0\\xfc\\xc3\\xf8\\xc0\\xda\\xb7\\xe1</span></h3>\\r\\n\\t\\t<ul>\\r\\n\\t\\t\\t<li id=\"menu5-1\"><a class=\"section-sub\" href=\"http://www.weather.go.kr/weather/observation/currentweather.jsp\"><span>\\xc1\\xf6\\xbb\\xf3\\xb0\\xfc\\xc3\\xf8\\xc0\\xda\\xb7\\xe1</span></a>\\r\\n\\t\\t\\t\\t<ul>\\r\\n\\t\\t\\t\\t\\t<li id=\"menu5-1-1\"><a href=\"http://www.weather.go.kr/weather/observation/currentweather.jsp\" class=\"on\">\\xb5\\xb5\\xbd\\xc3\\xba\\xb0 \\xc7\\xf6\\xc0\\xe7\\xb3\\xaf\\xbe\\xbe</a></li>\\r\\n\\t\\t\\t\\t\\t<li id=\"menu5-1-2\"><a href=\"http://www.weather.go.kr/weather/observation/dashboard.jsp\">\\xb3\\xaf\\xbe\\xbe\\xbb\\xf3\\xc8\\xb2\\xc6\\xc7</a></li>\\r\\n\\t\\t\\t\\t\\t<li id=\"menu5-1-3\" class=\"twoline\"><a href=\"http://www.weather.go.kr/weather/observation/aws_table_popup.jsp\" onclick=\"window.open(this.href, \\'popName\\', \\'width=1240,height=700,scrollbars=yes,resizable=yes\\'); return false;\" title=\"\\xbb\\xf5\\xc3\\xa2 (\\xc6\\xcb\\xbe\\xf7\\xbf\\xa1\\xbc\\xad \\xbf\\xad\\xb8\\xb2)\">\\xc1\\xf6\\xbf\\xaa\\xba\\xb0\\xbb\\xf3\\xbc\\xbc\\xb0\\xfc\\xc3\\xf8\\xc0\\xda\\xb7\\xe1(AWS)<i>\\xbb\\xf5\\xc3\\xa2</i></a></li>\\r\\n\\t\\t\\t\\t\\t\\r\\n\\t\\t\\t\\t\\t<li id=\"menu5-1-4\"><a href=\"http://www.weather.go.kr/weather/climate/past_cal.jsp\">\\xb0\\xfa\\xb0\\xc5\\xc0\\xda\\xb7\\xe1</a></li>\\r\\n\\t\\t\\t\\t</ul>\\r\\n\\t\\t\\t</li>\\r\\n            \\r\\n\\t\\t\\t<li id=\"menu5-3\"><a class=\"section-sub\" href=\"http://web.kma.go.kr/weather/observation/flower_photo.jsp\"><span>\\xb0\\xe8\\xc0\\xfd\\xb0\\xfc\\xc3\\xf8\\xc0\\xda\\xb7\\xe1</span></a>\\r\\n\\t\\t\\t\\t<ul>\\r\\n\\t\\t\\t\\t\\t<li id=\"menu5-3-1\" style=\"height:32px;line-height:normal;\"><a href=\"http://web.kma.go.kr/weather/observation/flower_photo.jsp\">\\xba\\xbd\\xb2\\xc9\\xb0\\xb3\\xc8\\xad\\xc7\\xf6\\xc8\\xb2<br />(\\xba\\xa2\\xb2\\xc9, \\xc3\\xb6\\xc2\\xdf)</a></li>\\r\\n\\t\\t\\t\\t\\t<!--<li id=\"menu5-3-2\"><a href=\"http://web.kma.go.kr/weather/observation/maple_photo.jsp\">\\xc0\\xaf\\xb8\\xed\\xbb\\xea \\xb4\\xdc\\xc7\\xb3\\xc7\\xf6\\xc8\\xb2</a></li>-->\\r\\n\\t\\t\\t\\t\\t</ul>\\r\\n\\t\\t\\t</li>\\r\\n            \\r\\n\\t\\t\\t<li id=\"menu5-2\"><a class=\"section-sub\" href=\"http://www.weather.go.kr/weather/observation/marine_buoy.jsp\"><span>\\xb9\\xd9\\xb4\\xd9\\xb0\\xfc\\xc3\\xf8\\xc0\\xda\\xb7\\xe1</span></a>\\r\\n\\t\\t\\t\\t<ul>\\r\\n\\t\\t\\t\\t\\t<li id=\"menu5-2-1\"><a href=\"http://www.weather.go.kr/weather/observation/marine_buoy.jsp\">\\xb1\\xb9\\xb3\\xbb\\xba\\xce\\xc0\\xcc</a></li>\\r\\n\\t\\t\\t\\t\\t<li id=\"menu5-2-11\"><a href=\"http://www.weather.go.kr/weather/observation/marine_buoy_cosmos.jsp\">\\xc6\\xc4\\xb0\\xed\\xba\\xce\\xc0\\xcc</a></li>\\r\\n\\t\\t\\t\\t\\t<li id=\"menu5-2-2\"><a href=\"http://www.weather.go.kr/weather/observation/marine_beacon.jsp\">\\xb1\\xb9\\xb3\\xbb\\xb5\\xee\\xc7\\xa5</a></li>\\r\\n\\t\\t\\t\\t\\t\\r\\n\\t\\t\\t\\t</ul>\\r\\n\\t\\t\\t</li>\\r\\n\\t\\t</ul>\\r\\n\\t</div>\\r\\n\\t<hr />\\r\\n<script>initSubmenuByMenuId(\"7\",\"1\",\"1\",\"\",\"\");</script>\\n\\t\\t\\t\\t\\t\\n\\t\\t\\t\\t\\n\\t\\t\\t\\t\\n\\t\\t\\t\\n\\t\\t\\t\\n\\t\\t\\t\\t\\n\\t\\t\\t\\t\\n\\t\\t\\t\\n\\t\\t\\t<div id=\"wrap_content\" class=\"width2\">\\n\\t\\t\\t\\t\\n\\t\\t\\t\\t\\t\\n\\t\\t\\t\\t\\t\\n\\t\\t\\t\\t\\t\\n\\t\\t\\t\\t\\t\\t\\n\\t\\t\\t\\t\\t\\t\\t\\n\\t\\t\\t\\t\\t\\t\\t\\t\\r\\n\\r\\n<p id=\"location\"><a href=\"/weather/main.jsp\">\\xc8\\xa8</a>\\r\\n\\r\\n\\t\\r\\n\\r\\n\\t\\r\\n\\t\\t\\r\\n\\t\\t\\r\\n\\t\\t\\t\\r\\n\\t\\t\\t\\t &#62;  <a href=\"/weather/observation/currentweather.jsp\">\\xb0\\xfc\\xc3\\xf8\\xc0\\xda\\xb7\\xe1</a>\\r\\n\\t\\t\\t\\r\\n\\t\\t\\t\\r\\n\\t\\t\\r\\n\\t\\r\\n\\r\\n\\t\\r\\n\\t\\t\\r\\n\\t\\t\\r\\n\\t\\t\\t\\r\\n\\t\\t\\t\\t &#62;  <a href=\"/weather/observation/currentweather.jsp\">\\xc1\\xf6\\xbb\\xf3\\xb0\\xfc\\xc3\\xf8\\xc0\\xda\\xb7\\xe1</a>\\r\\n\\t\\t\\t\\r\\n\\t\\t\\t\\r\\n\\t\\t\\r\\n\\t\\r\\n\\r\\n\\t\\r\\n\\t\\t\\r\\n\\t\\t\\r\\n\\t\\t\\t\\r\\n\\t\\t\\t\\r\\n\\t\\t\\t\\t &#62;  <strong id=\"leaf-page-title\">\\xb5\\xb5\\xbd\\xc3\\xba\\xb0 \\xc7\\xf6\\xc0\\xe7\\xb3\\xaf\\xbe\\xbe</strong>\\r\\n\\t\\t\\t\\r\\n\\t\\t\\r\\n\\t\\r\\n\\r\\n<span style=\"display:none\" id=\"location_text\">|\\xb3\\xaf\\xbe\\xbe|\\xb0\\xfc\\xc3\\xf8\\xc0\\xda\\xb7\\xe1|\\xc1\\xf6\\xbb\\xf3\\xb0\\xfc\\xc3\\xf8\\xc0\\xda\\xb7\\xe1|\\xb5\\xb5\\xbd\\xc3\\xba\\xb0 \\xc7\\xf6\\xc0\\xe7\\xb3\\xaf\\xbe\\xbe</span>\\r\\n</p>\\n\\t\\t\\t\\t\\t\\t\\t\\n\\t\\t\\t\\t\\t\\t\\t\\n\\t\\t\\t\\t\\t\\t\\t\\n\\t\\t\\t\\t\\t\\t\\n\\t\\t\\t\\t\\t\\n\\t\\t\\t\\t\\n\\t\\t\\t\\t<div id=\"title\">\\n\\t\\t\\t\\t\\t<h4>\\xc1\\xf6\\xbb\\xf3\\xb0\\xfc\\xc3\\xf8\\xc0\\xda\\xb7\\xe1</h4>\\n\\t\\t\\t\\t\\t<h5>\\xb5\\xb5\\xbd\\xc3\\xba\\xb0 \\xc7\\xf6\\xc0\\xe7\\xb3\\xaf\\xbe\\xbe</h5>\\n\\t\\t\\t\\t\\t\\n\\t\\t\\t\\t\\t\\r\\n\\r\\n\\r\\n<script>\\r\\n//<!--\\r\\n\\t\\r\\n\\t\\tfunction goScrap(){\\r\\n\\t\\t\\tvar scrapForm=document.scrapForm;\\r\\n\\t\\t\\tif(confirm(\"\\'\"+scrapForm.title1.value+\"\\'\\xc0\\xc7 \\'\"+scrapForm.title2.value+\"\\' \\xc6\\xe4\\xc0\\xcc\\xc1\\xf6\\xb8\\xa6 \\xbd\\xba\\xc5\\xa9\\xb7\\xa6 \\xc7\\xcf\\xbd\\xc3\\xb0\\xda\\xbd\\xc0\\xb4\\xcf\\xb1\\xee?\")==true){\\r\\n\\t\\t\\t\\tvar scrapUrl = scrapForm.scrapUrl.value;\\r\\n\\t\\t\\t\\tif (scrapUrl.indexOf(\"/weather/\") == 0 )\\r\\n\\t\\t\\t\\t{\\r\\n\\t\\t\\t\\t\\tscrapForm.scrapUrl.value = scrapUrl.replace(\"/weather/\",\"http://www.kma.go.kr/weather/\");\\r\\n\\t\\t\\t\\t}\\r\\n\\t\\t\\t\\treturn true;\\r\\n\\t\\t\\t}else{\\r\\n\\t\\t\\t\\treturn false;\\r\\n\\t\\t\\t}\\r\\n\\t\\t}\\r\\n\\t\\r\\n\\tfunction getPrintParam() {\\r\\n\\t\\tvar $btn = $(\\'#global-btn-print\\');\\r\\n\\t\\tvar paramName = $btn.attr(\\'data-param-name\\');\\r\\n\\t\\tvar paramValue = $btn.attr(\\'data-param-value\\');\\r\\n\\t\\tif(paramName && paramValue) {\\r\\n\\t\\t\\treturn \"&\" + paramName + \"=\" + paramValue;\\r\\n\\t\\t} else {\\r\\n\\t\\t\\treturn \"\";\\r\\n\\t\\t}\\r\\n\\t}\\r\\n//-->\\r\\n</script>\\t\\t\\t\\t\\r\\n\\t\\t\\t\\t\\r\\n\\t\\t\\t\\t<ul class=\"button\">\\r\\n\\t\\t\\t\\t\\t\\r\\n\\t\\t\\t\\t\\t\\r\\n\\t\\t\\t\\t\\t\\r\\n\\t\\t\\t\\t\\t\\t<li class=\"print\"><a href=\"/HELP/html/help_sfc001.jsp\" target=\"_blank\" title=\"\\xbb\\xf5 \\xc3\\xa2 \\xbf\\xad\\xb8\\xb2\" onclick=\"window.open(this.href,\\'helpwindow\\',\\'width=1000px, height=703px, scrollbars=no\\'); return false;\" ><img src=\"/images/common/btn_help.gif\" alt=\"\\xb5\\xb5\\xbf\\xf2\\xb8\\xbb\" /></a></li>\\r\\n\\t\\t\\t\\t\\t\\r\\n\\t\\t\\t\\t\\t\\r\\n\\t\\t\\t\\t\\t<!-- \\xb9\\xf6\\xc6\\xb0\\xc3\\xdf\\xb0\\xa1\\xbd\\xc3\\xc0\\xdb -->\\r\\n\\t\\t\\t\\t\\t\\r\\n\\t\\t\\t\\t\\t<!-- \\xb9\\xf6\\xc6\\xb0\\xc3\\xdf\\xb0\\xa1\\xb3\\xa1 -->\\r\\n\\t\\t\\t\\t\\t\\r\\n\\t\\t\\t\\t\\t\\r\\n\\t\\t\\t\\t\\t<li><a href=\"/weather/observation/currentweather.jsp?printable=true&amp;\" target=\"_blank\" onclick=\"window.open(this.href + getPrintParam(),\\'helpwindow\\',\\'width=933px, height=703px, scrollbars=yes, resizable=yes\\'); return false;\" title=\"\\xbb\\xf5\\xc3\\xa2\\xbf\\xa1\\xbc\\xad \\xbf\\xad\\xb8\\xb2\" id=\"global-btn-print\"><img src=\"/images/common/btn_print.gif\" alt=\"\\xc0\\xce\\xbc\\xe2\\xc7\\xcf\\xb1\\xe2\" /></a></li>\\r\\n\\t\\t\\t\\t</ul>\\n\\t\\t\\t\\t</div>\\n\\t\\t\\t\\t\\n\\t\\t\\t\\t\\t\\n\\t\\t\\t\\t\\t\\t<div id=\"content_weather\"><a id=\"content\"></a>\\n\\t\\t\\t\\t\\t\\n\\t\\t\\t\\t\\t\\n\\t\\t\\t\\t\\n\\t\\t\\t\\t\\n\\t\\t\\t\\t\\n\\t\\t\\t\\t\\t\\r\\n    <!-- content :Start -->\\r\\n        <div class=\"comment_gray\">\\r\\n          \\t<dl>\\r\\n\\t                <dt>* \\xbd\\xc7\\xc8\\xb2\\xc7\\xa5\\xb7\\xce \\xc1\\xa4\\xb8\\xae\\xb5\\xc7\\xbe\\xee \\xc0\\xd6\\xb4\\xc2 \\xb1\\xe2\\xbb\\xf3\\xc3\\xbb \\xb0\\xa2 \\xc1\\xf6\\xbb\\xf3\\xb0\\xfc\\xc3\\xf8 \\xc1\\xf6\\xc1\\xa1\\xc0\\xc7 \\xbd\\xc3\\xb0\\xa3\\xba\\xb0 \\xb0\\xfc\\xc3\\xf8 \\xbd\\xc7\\xc8\\xb2\\xc0\\xda\\xb7\\xe1\\xb8\\xa6 \\xc1\\xb6\\xc8\\xb8\\xc7\\xcf\\xbd\\xc7 \\xbc\\xf6 \\xc0\\xd6\\xbd\\xc0\\xb4\\xcf\\xb4\\xd9.</dt>\\r\\n\\t\\t\\t<dd class=\"blind\">&nbsp;</dd>\\r\\n\\t\\t</dl>\\r\\n            <dl>\\r\\n                <dt>* \\xc1\\xb6\\xc8\\xb8 \\xbd\\xc3 \\xc2\\xfc\\xb0\\xed\\xbb\\xe7\\xc7\\xd7</dt>\\r\\n\\t\\t<dd>\\xc1\\xf6\\xc1\\xa1\\xb8\\xed\\xc0\\xbb \\xc5\\xac\\xb8\\xaf\\xc7\\xcf\\xbd\\xc3\\xb8\\xe9 \\xbd\\xc3\\xb0\\xa3\\xba\\xb0 \\xc7\\xf6\\xc8\\xb2\\xc0\\xbb \\xc8\\xae\\xc0\\xce\\xc7\\xd2 \\xbc\\xf6 \\xc0\\xd6\\xbd\\xc0\\xb4\\xcf\\xb4\\xd9.</dd>\\r\\n                <dd>\\xc7\\xd8\\xb4\\xe7 \\xc0\\xda\\xb7\\xe1\\xb4\\xc2 \\xbd\\xc7\\xbd\\xc3\\xb0\\xa3 \\xb0\\xfc\\xc3\\xf8\\xb5\\xc8 \\xc0\\xda\\xb7\\xe1\\xc0\\xcc\\xb8\\xe7, \\xc7\\xf6\\xc1\\xf6 \\xbb\\xe7\\xc1\\xa4\\xbf\\xa1 \\xc0\\xc7\\xc7\\xd8 \\xc0\\xdf\\xb8\\xf8\\xb5\\xc8 \\xb0\\xaa\\xc0\\xcc \\xc7\\xa5\\xc3\\xe2 \\xb5\\xc9 \\xbc\\xf6 \\xc0\\xd6\\xc0\\xb8\\xb9\\xc7\\xb7\\xce, \\xc1\\xf5\\xb8\\xed\\xc0\\xda\\xb7\\xe1\\xb7\\xce \\xbb\\xe7\\xbf\\xeb \\xb5\\xc9 \\xbc\\xf6 \\xbe\\xf8\\xbd\\xc0\\xb4\\xcf\\xb4\\xd9.</dd>\\r\\n                <dd>\\xb1\\xe2\\xbb\\xf3\\xc1\\xf5\\xb8\\xed\\xc0\\xda\\xb7\\xe1\\xb4\\xc2 \\xb1\\xe2\\xbb\\xf3\\xc3\\xbb \\xc0\\xfc\\xc0\\xda\\xb9\\xce\\xbf\\xf8(<a href=\"http://minwon.kma.go.kr\"  target=\"_blank\" title=\"\\xbb\\xf5\\xc3\\xa2\\xbf\\xad\\xb8\\xb2\">http://minwon.kma.go.kr</a>)\\xbf\\xa1\\xbc\\xad, \\xb8\\xc5\\xba\\xd0\\xc0\\xda\\xb7\\xe1\\xb0\\xa1 \\xc7\\xca\\xbf\\xe4\\xc7\\xd1 \\xb0\\xe6\\xbf\\xec \\xb1\\xe2\\xbb\\xf3\\xc0\\xda\\xb7\\xe1\\xb0\\xb3\\xb9\\xe6\\xc6\\xf7\\xc5\\xd0(<a href=\"http://data.kma.go.kr\" target=\"_blank\" title=\"\\xbb\\xf5\\xc3\\xa2\\xbf\\xad\\xb8\\xb2\">http://data.kma.go.kr</a>)\\xbf\\xa1\\xbc\\xad \\xc8\\xae\\xc0\\xce \\xb0\\xa1\\xb4\\xc9\\xc7\\xd5\\xb4\\xcf\\xb4\\xd9. </dd>\\r\\n            </dl>\\r\\n         </div>\\r\\n\\t\\t\\r\\n\\r\\n\\r\\n\\r\\n\\r\\n\\r\\n\\r\\n\\r\\n\\r\\n\\r\\n\\r\\n\\r\\n\\r\\n\\r\\n\\r\\n\\r\\n\\r\\n\\r\\n<div class=\"distibution_search3\">\\r\\n\\t<form name=\"distibution_search\" method=\"get\" action=\"currentweather.jsp\" >\\r\\n\\t<input type=\"hidden\" name=\"auto_man\" value=\"m\" />\\r\\n\\t<input type=\"hidden\" name=\"stn\" value=\"0\" />\\r\\n\\t\\t<fieldset>\\r\\n\\t\\t<legend>\\xb5\\xb5\\xbd\\xc3\\xba\\xb0 \\xc7\\xf6\\xc0\\xe7\\xb3\\xaf\\xbe\\xbe \\xb0\\xcb\\xbb\\xf6</legend>\\r\\n\\t\\t<label for=\"observation_select\">\\xbc\\xb1\\xc5\\xc3</label>\\r\\n\\t\\t<label for=\"observation_select\" class=\"hid\">\\xbd\\xc3\\xb0\\xa3\\xc0\\xda\\xb7\\xe1, \\xc0\\xcf\\xc0\\xda\\xb7\\xe1 \\xb0\\xcb\\xbb\\xf6 \\xbc\\xb1\\xc5\\xc3\\xbb\\xe7\\xc7\\xd7</label>\\r\\n\\t\\t<select id=\"observation_select\" name=\"type\">\\r\\n\\t\\t\\t<option value=\"t99\" >&lt;\\xbd\\xc3\\xb0\\xa3\\xc0\\xda\\xb7\\xe1&gt;</option>\\r\\n\\t\\t\\t<option value=\"t99\" selected=\"selected\" >\\xc1\\xbe\\xc7\\xd5</option>\\r\\n\\t\\t\\t<option value=\"t11\"  >\\xb1\\xe2\\xbf\\xc2</option>\\r\\n\\t\\t\\t<option value=\"t12\"  >\\xc0\\xcc\\xbd\\xbd\\xc1\\xa1</option>\\r\\n\\t\\t\\t<option value=\"t13\"  >\\xbb\\xf3\\xb4\\xeb\\xbd\\xc0\\xb5\\xb5</option>\\r\\n\\t\\t\\t<option value=\"t48\"  >\\xc0\\xcf\\xb0\\xad\\xbc\\xf6\\xb7\\xae</option>\\r\\n\\t\\t\\t<option value=\"t19\"  >\\xbd\\xc5\\xc0\\xfb\\xbc\\xb3</option>\\r\\n\\t\\t\\t<option value=\"t20\"  >\\xc0\\xfb\\xbc\\xb3</option>\\r\\n\\t\\t\\t<option value=\"t01\"  >\\xc7\\xb3\\xc7\\xe2</option>\\r\\n\\t\\t\\t<option value=\"t02\"  >\\xc7\\xb3\\xbc\\xd3</option>\\r\\n\\t\\t\\t<option value=\"t24\"  >\\xc0\\xfc\\xbf\\xee\\xb7\\xae</option>\\r\\n\\t\\t\\t<option value=\"t08\"  >\\xc7\\xd8\\xb8\\xe9\\xb1\\xe2\\xbe\\xd0</option>\\r\\n\\t\\t</select>\\r\\n\\t\\t<input type=\"image\" src=\"../../images/weather/forecast/btn_select.gif\" alt=\"\\xbc\\xb1\\xc5\\xc3\" class=\"btn\" />\\r\\n\\r\\n\\t\\t<label for=\"observation_select2\" class=\"hid\">\\xc1\\xf6\\xbf\\xaa \\xb0\\xcb\\xbb\\xf6 \\xbc\\xb1\\xc5\\xc3\\xbb\\xe7\\xc7\\xd7</label>\\r\\n\\t\\t<select id=\"observation_select2\" name=\"reg\">\\r\\n\\t\\t\\t<option value=\"100\" >\\xc0\\xfc\\xb1\\xb9</option>\\r\\n\\t\\t\\t<option value=\"109\"  >\\xbc\\xad\\xbf\\xef&middot;\\xc0\\xce\\xc3\\xb5&middot;\\xb0\\xe6\\xb1\\xe2\\xb5\\xb5</option>\\r\\n\\t\\t\\t<option value=\"159\"  >\\xba\\xce\\xbb\\xea&middot;\\xbf\\xef\\xbb\\xea&middot;\\xb4\\xeb\\xb1\\xb8&middot;\\xb0\\xe6\\xbb\\xf3\\xb5\\xb5</option>\\r\\n\\t\\t\\t<option value=\"156\"  >\\xb1\\xa4\\xc1\\xd6&middot;\\xc0\\xfc\\xb6\\xf3\\xb5\\xb5</option>\\r\\n\\t\\t\\t<option value=\"133\"  >\\xb4\\xeb\\xc0\\xfc&middot;\\xbc\\xbc\\xc1\\xbe&middot;\\xc3\\xe6\\xc3\\xbb\\xb5\\xb5</option>\\r\\n\\t\\t\\t<option value=\"105\"  >\\xb0\\xad\\xbf\\xf8\\xb5\\xb5</option>\\r\\n\\t\\t\\t<option value=\"184\"  >\\xc1\\xa6\\xc1\\xd6\\xb5\\xb5</option>\\r\\n\\t\\t</select>\\r\\n\\t\\t<input type=\"image\" src=\"../../images/weather/forecast/btn_select.gif\" alt=\"\\xbc\\xb1\\xc5\\xc3\" class=\"btn\" onclick=\"this.form.stn.value=\\'0\\'\" />\\r\\n\\r\\n\\t\\t<label for=\"observation_text\" class=\"hid\">\\xbd\\xc3\\xb0\\xa3\\xb4\\xeb \\xc0\\xd4\\xb7\\xc2</label>\\r\\n\\t\\t<input type=\"text\" id=\"observation_text\" class=\"time\" name=\"tm\" value=\"2021.06.01.13:00\"/>\\r\\n\\t\\t<input type=\"image\" src=\"../../images/weather/forecast/btn_search.gif\" alt=\"\\xb0\\xcb\\xbb\\xf6\" class=\"btn\" />\\r\\n\\t</fieldset>\\r\\n\\t<fieldset class=\"town_search\">\\r\\n\\t\\t<legend>\\xc0\\xcc\\xc0\\xfc\\xc0\\xda\\xb7\\xe1 \\xb0\\xcb\\xbb\\xf6</legend>\\r\\n\\t\\t<label>\\xc0\\xcc\\xc0\\xfc\\xc0\\xda\\xb7\\xe1</label>\\r\\n\\t\\t<ul class=\"ul_prev\">\\r\\n\\t\\t\\t\\r\\n\\t\\t\\t\\r\\n\\t\\t\\t\\r\\n\\t\\t\\t\\t\\r\\n\\t\\t\\t\\t\\t<li class=\"bg_black\"><a href=\"/weather/observation/currentweather.jsp?type=t99&amp;mode=0&amp;stn=0&amp;reg=100&amp;auto_man=m&amp;tm=2021.06.01.13:00&amp;dtm=-12\">12\\xbd\\xc3\\xb0\\xa3 \\xc0\\xfc</a></li>\\r\\n\\t\\t\\t\\t\\t<li class=\"bg_black\"><a href=\"/weather/observation/currentweather.jsp?type=t99&amp;mode=0&amp;stn=0&amp;reg=100&amp;auto_man=m&amp;tm=2021.06.01.13:00&amp;dtm=-3\">3\\xbd\\xc3\\xb0\\xa3 \\xc0\\xfc</a></li>\\r\\n\\t\\t\\t\\t\\t<li class=\"bg_black\"><a href=\"/weather/observation/currentweather.jsp?type=t99&amp;mode=0&amp;stn=0&amp;reg=100&amp;auto_man=m&amp;tm=2021.06.01.13:00&amp;dtm=-1\">1\\xbd\\xc3\\xb0\\xa3 \\xc0\\xfc</a></li>\\r\\n\\t\\t\\t\\t\\t<li class=\"bg_orange\"><a href=\"/weather/observation/currentweather.jsp?type=t99&amp;mode=0&amp;stn=0&amp;reg=100&amp;auto_man=a\">\\xc7\\xf6\\xc0\\xe7</a></li>\\r\\n\\t\\t\\t\\t\\t<li class=\"bg_black\"><a href=\"/weather/observation/currentweather.jsp?type=t99&amp;mode=0&amp;stn=0&amp;reg=100&amp;auto_man=m&amp;tm=2021.06.01.13:00&amp;dtm=1\">1\\xbd\\xc3\\xb0\\xa3 \\xc8\\xc4</a></li>\\r\\n\\t\\t\\t\\t\\t<li class=\"bg_black\"><a href=\"/weather/observation/currentweather.jsp?type=t99&amp;mode=0&amp;stn=0&amp;reg=100&amp;auto_man=m&amp;tm=2021.06.01.13:00&amp;dtm=3\">3\\xbd\\xc3\\xb0\\xa3 \\xc8\\xc4</a></li>\\r\\n\\t\\t\\t\\t\\t<li class=\"bg_black\"><a href=\"/weather/observation/currentweather.jsp?type=t99&amp;mode=0&amp;stn=0&amp;reg=100&amp;auto_man=m&amp;tm=2021.06.01.13:00&amp;dtm=12\">12\\xbd\\xc3\\xb0\\xa3 \\xc8\\xc4</a></li>  \\r\\n\\t\\t\\t\\t\\r\\n\\t\\t\\t\\t\\r\\n\\t\\t\\t\\t\\r\\n\\t\\t\\t\\t\\r\\n\\t\\t\\t\\r\\n\\t\\t</ul>\\r\\n\\t</fieldset>\\r\\n\\t</form>\\r\\n</div>\\r\\n\\r\\n<p class=\"table_topinfo\"><strong>\\xb1\\xe2\\xbb\\xf3\\xbd\\xc7\\xc8\\xb2\\xc7\\xa5</strong>2021.06.01.13:00</p>\\r\\n\\r\\n\\r\\n\\r\\n<table class=\"table_develop3\" summary=\"\\xb1\\xe2\\xbb\\xf3\\xbd\\xc7\\xc8\\xb2\\xc7\\xa5\\xb7\\xce \\xc1\\xf6\\xc1\\xa1, \\xb3\\xaf\\xbe\\xbe, \\xb1\\xe2\\xbf\\xc2, \\xb0\\xad\\xbc\\xf6, \\xb9\\xd9\\xb6\\xf7, \\xb1\\xe2\\xbe\\xd0\\xb5\\xee\\xc0\\xbb \\xbe\\xc8\\xb3\\xbb\\xc7\\xd1 \\xc7\\xa5\\xc0\\xd4\\xb4\\xcf\\xb4\\xd9.\">\\r\\n\\t<caption>\\xb1\\xe2\\xbb\\xf3\\xbd\\xc7\\xc8\\xb2\\xc7\\xa5</caption>\\r\\n\\t<colgroup>\\r\\n\\t\\t<col style=\"width:14%\"/>\\r\\n\\t\\t<col style=\"width:12%\"/>\\r\\n\\t\\t<col style=\"width:7%\"/>\\r\\n\\t\\t<col style=\"width:5%\"/>\\r\\n\\t\\t<col style=\"width:8%\"/>\\r\\n\\t\\t<col style=\"width:5%\"/>\\r\\n\\t\\t<col style=\"width:6%\"/>\\r\\n\\t\\t<col style=\"width:5%\"/>\\r\\n\\t\\t<col style=\"width:8%\"/>\\r\\n\\t\\t\\r\\n\\t\\t<col style=\"width:5%\"/>\\r\\n\\t\\t<col style=\"width:8%\"/>\\r\\n\\t\\t<col style=\"width:6%\"/>\\r\\n\\t\\t<col />\\r\\n\\t</colgroup>\\r\\n\\t<thead>\\r\\n\\t<tr id=\"table_header1\" class=\"table_header\">\\r\\n\\t\\t<th scope=\"col\" rowspan=\"2\" class=\"top_line\">\\r\\n\\t\\t\\xc1\\xf6\\xc1\\xa1\\r\\n\\t\\t</th>\\r\\n\\t\\t<th scope=\"col\" colspan=\"4\" class=\"top_line\" id=\"headers-weather\">\\xb3\\xaf\\xbe\\xbe</th>\\r\\n\\t\\t<th scope=\"col\" colspan=\"3\" class=\"top_line\" id=\"headers-temp\">\\xb1\\xe2\\xbf\\xc2(\\xa1\\xc9)</th>\\r\\n\\t\\t<th scope=\"col\" colspan=\"2\" class=\"top_line\" id=\"headers-rain\">\\xb0\\xad\\xbc\\xf6</th>\\r\\n\\t\\t<th scope=\"col\" colspan=\"2\" class=\"top_line\" id=\"headers-wind\">\\xb9\\xd9\\xb6\\xf7</th>\\r\\n\\t\\t<th scope=\"col\" class=\"top_line\" id=\"headers-press\">\\xb1\\xe2\\xbe\\xd0(hPa)</th>\\r\\n\\t</tr>\\r\\n\\t<tr id=\"table_header2\" class=\"table_header\">\\r\\n\\t\\t<th scope=\"col\" class=\"nm\" headers=\"headers-weather\">\\xc7\\xf6\\xc0\\xe7\\xc0\\xcf\\xb1\\xe2&nbsp;</th>\\r\\n\\t\\t<th scope=\"col\" class=\"nm\" headers=\"headers-weather\">\\xbd\\xc3\\xc1\\xa4<br/>km</th>\\r\\n\\t\\t<th scope=\"col\" class=\"nm\" headers=\"headers-weather\">\\xbf\\xee\\xb7\\xae<br/>1/10</th>\\r\\n\\t\\t<th scope=\"col\" class=\"nm\" headers=\"headers-weather\">\\xc1\\xdf\\xc7\\xcf\\xbf\\xee\\xb7\\xae</th>\\r\\n\\t\\t<th scope=\"col\" class=\"nm\" headers=\"headers-temp\">\\xc7\\xf6\\xc0\\xe7<br/>\\xb1\\xe2\\xbf\\xc2</th>\\r\\n\\t\\t<th scope=\"col\" class=\"nm\" headers=\"headers-temp\">\\xc0\\xcc\\xbd\\xbd\\xc1\\xa1<br/>\\xbf\\xc2\\xb5\\xb5</th>\\r\\n\\t\\t<th scope=\"col\" class=\"nm\" headers=\"headers-temp\">\\xc3\\xbc\\xb0\\xa8<br/>\\xbf\\xc2\\xb5\\xb5</th>\\r\\n\\t\\t<th scope=\"col\" class=\"nm\" headers=\"headers-rain\">\\xc0\\xcf\\xb0\\xad\\xbc\\xf6<br/>mm</th>\\r\\n\\t\\t\\r\\n\\t\\t<th scope=\"col\" class=\"nm\" headers=\"headers-rain\">\\xbd\\xc0\\xb5\\xb5<br/>%</th>\\r\\n\\t\\t<th scope=\"col\" class=\"nm\" headers=\"headers-wind\">\\xc7\\xb3\\xc7\\xe2&nbsp;</th>\\r\\n\\t\\t<th scope=\"col\" class=\"nm\" headers=\"headers-wind\">\\xc7\\xb3\\xbc\\xd3<br/><script>writeWindSpeedUnit();</script></th>\\r\\n\\t\\t<th scope=\"col\" class=\"nm\" headers=\"headers-press\">\\xc7\\xd8\\xb8\\xe9<br/>\\xb1\\xe2\\xbe\\xd0</th>\\r\\n\\t</tr>\\r\\n\\t</thead>\\r\\n\\t<tbody>\\r\\n        \\r\\n\\t<tr>\\r\\n\\t\\t<td><a href=\"/weather/observation/currentweather.jsp?tm=2021.6.1.13:00&amp;type=t99&amp;mode=0&amp;reg=100&amp;auto_man=m&amp;stn=105\" >\\xb0\\xad\\xb8\\xaa</a></td>\\r\\n\\t\\t<td>&nbsp;</td>\\r\\n\\t\\t\\r\\n\\t\\t<td>18.8</td>\\r\\n\\t\\t<td>&nbsp;</td>\\r\\n\\t\\t<td>&nbsp;</td>\\r\\n\\t\\t<td>24.9</td>\\r\\n\\t\\t<td>17.3</td>\\r\\n\\t\\t<td>26.1</td>\\r\\n\\t\\t<td>0.1</td>\\r\\n\\t\\t\\r\\n\\t\\t<td>63</td>\\r\\n\\t\\t<td>\\xb5\\xbf\\xba\\xcf\\xb5\\xbf</td>\\r\\n\\t\\t<td><script>writeWindSpeed(\\'1.2\\', false, \\'\\', \\'\\', 1);</script></td>\\r\\n\\t\\t<td>1012.7</td>\\r\\n\\t</tr>\\r\\n         \\r\\n\\t<tr>\\r\\n\\t\\t<td><a href=\"/weather/observation/currentweather.jsp?tm=2021.6.1.13:00&amp;type=t99&amp;mode=0&amp;reg=100&amp;auto_man=m&amp;stn=259\" >\\xb0\\xad\\xc1\\xf8\\xb1\\xba</a></td>\\r\\n\\t\\t<td>&nbsp;</td>\\r\\n\\t\\t\\r\\n\\t\\t<td>15.0</td>\\r\\n\\t\\t<td>&nbsp;</td>\\r\\n\\t\\t<td>&nbsp;</td>\\r\\n\\t\\t<td>26.5</td>\\r\\n\\t\\t<td>11.4</td>\\r\\n\\t\\t<td>25.6</td>\\r\\n\\t\\t<td>&nbsp;</td>\\r\\n\\t\\t\\r\\n\\t\\t<td>39</td>\\r\\n\\t\\t<td>\\xb3\\xb2\\xb3\\xb2\\xbc\\xad</td>\\r\\n\\t\\t<td><script>writeWindSpeed(\\'2.5\\', false, \\'\\', \\'\\', 1);</script></td>\\r\\n\\t\\t<td>1013.0</td>\\r\\n\\t</tr>\\r\\n         \\r\\n\\t<tr>\\r\\n\\t\\t<td><a href=\"/weather/observation/currentweather.jsp?tm=2021.6.1.13:00&amp;type=t99&amp;mode=0&amp;reg=100&amp;auto_man=m&amp;stn=201\" >\\xb0\\xad\\xc8\\xad</a></td>\\r\\n\\t\\t<td>&nbsp;</td>\\r\\n\\t\\t\\r\\n\\t\\t<td>19.8</td>\\r\\n\\t\\t<td>&nbsp;</td>\\r\\n\\t\\t<td>&nbsp;</td>\\r\\n\\t\\t<td>20.5</td>\\r\\n\\t\\t<td>15.6</td>\\r\\n\\t\\t<td>22.5</td>\\r\\n\\t\\t<td>2.1</td>\\r\\n\\t\\t\\r\\n\\t\\t<td>74</td>\\r\\n\\t\\t<td>\\xbc\\xad</td>\\r\\n\\t\\t<td><script>writeWindSpeed(\\'1.8\\', false, \\'\\', \\'\\', 1);</script></td>\\r\\n\\t\\t<td>1015.9</td>\\r\\n\\t</tr>\\r\\n         \\r\\n\\t<tr>\\r\\n\\t\\t<td><a href=\"/weather/observation/currentweather.jsp?tm=2021.6.1.13:00&amp;type=t99&amp;mode=0&amp;reg=100&amp;auto_man=m&amp;stn=294\" >\\xb0\\xc5\\xc1\\xa6</a></td>\\r\\n\\t\\t<td>&nbsp;</td>\\r\\n\\t\\t\\r\\n\\t\\t<td>14.9</td>\\r\\n\\t\\t<td>&nbsp;</td>\\r\\n\\t\\t<td>&nbsp;</td>\\r\\n\\t\\t<td>26.2</td>\\r\\n\\t\\t<td>11.1</td>\\r\\n\\t\\t<td>25.3</td>\\r\\n\\t\\t<td>&nbsp;</td>\\r\\n\\t\\t\\r\\n\\t\\t<td>39</td>\\r\\n\\t\\t<td>\\xb5\\xbf\\xb3\\xb2\\xb5\\xbf</td>\\r\\n\\t\\t<td><script>writeWindSpeed(\\'2.4\\', false, \\'\\', \\'\\', 1);</script></td>\\r\\n\\t\\t<td>1014.6</td>\\r\\n\\t</tr>\\r\\n         \\r\\n\\t<tr>\\r\\n\\t\\t<td><a href=\"/weather/observation/currentweather.jsp?tm=2021.6.1.13:00&amp;type=t99&amp;mode=0&amp;reg=100&amp;auto_man=m&amp;stn=284\" >\\xb0\\xc5\\xc3\\xa2</a></td>\\r\\n\\t\\t<td>&nbsp;</td>\\r\\n\\t\\t\\r\\n\\t\\t<td>20 \\xc0\\xcc\\xbb\\xf3</td>\\r\\n\\t\\t<td>&nbsp;</td>\\r\\n\\t\\t<td>&nbsp;</td>\\r\\n\\t\\t<td>25.4</td>\\r\\n\\t\\t<td>14.2</td>\\r\\n\\t\\t<td>25.5</td>\\r\\n\\t\\t<td>&nbsp;</td>\\r\\n\\t\\t\\r\\n\\t\\t<td>50</td>\\r\\n\\t\\t<td>\\xb5\\xbf</td>\\r\\n\\t\\t<td><script>writeWindSpeed(\\'1.3\\', false, \\'\\', \\'\\', 1);</script></td>\\r\\n\\t\\t<td>1013.5</td>\\r\\n\\t</tr>\\r\\n         \\r\\n\\t<tr>\\r\\n\\t\\t<td><a href=\"/weather/observation/currentweather.jsp?tm=2021.6.1.13:00&amp;type=t99&amp;mode=0&amp;reg=100&amp;auto_man=m&amp;stn=283\" >\\xb0\\xe6\\xc1\\xd6\\xbd\\xc3</a></td>\\r\\n\\t\\t<td>&nbsp;</td>\\r\\n\\t\\t\\r\\n\\t\\t<td>20 \\xc0\\xcc\\xbb\\xf3</td>\\r\\n\\t\\t<td>&nbsp;</td>\\r\\n\\t\\t<td>&nbsp;</td>\\r\\n\\t\\t<td>26.8</td>\\r\\n\\t\\t<td>12.4</td>\\r\\n\\t\\t<td>26.1</td>\\r\\n\\t\\t<td>&nbsp;</td>\\r\\n\\t\\t\\r\\n\\t\\t<td>41</td>\\r\\n\\t\\t<td>\\xb3\\xb2\\xb3\\xb2\\xbc\\xad</td>\\r\\n\\t\\t<td><script>writeWindSpeed(\\'3.5\\', false, \\'\\', \\'\\', 1);</script></td>\\r\\n\\t\\t<td>1014.0</td>\\r\\n\\t</tr>\\r\\n         \\r\\n\\t<tr>\\r\\n\\t\\t<td><a href=\"/weather/observation/currentweather.jsp?tm=2021.6.1.13:00&amp;type=t99&amp;mode=0&amp;reg=100&amp;auto_man=m&amp;stn=185\" >\\xb0\\xed\\xbb\\xea</a></td>\\r\\n\\t\\t<td>&nbsp;</td>\\r\\n\\t\\t\\r\\n\\t\\t<td>19.9</td>\\r\\n\\t\\t<td>&nbsp;</td>\\r\\n\\t\\t<td>&nbsp;</td>\\r\\n\\t\\t<td>22.8</td>\\r\\n\\t\\t<td>19.3</td>\\r\\n\\t\\t<td>25.3</td>\\r\\n\\t\\t<td>&nbsp;</td>\\r\\n\\t\\t\\r\\n\\t\\t<td>81</td>\\r\\n\\t\\t<td>\\xba\\xcf\\xba\\xcf\\xbc\\xad</td>\\r\\n\\t\\t<td><script>writeWindSpeed(\\'2.4\\', false, \\'\\', \\'\\', 1);</script></td>\\r\\n\\t\\t<td>1013.6</td>\\r\\n\\t</tr>\\r\\n         \\r\\n\\t<tr>\\r\\n\\t\\t<td><a href=\"/weather/observation/currentweather.jsp?tm=2021.6.1.13:00&amp;type=t99&amp;mode=0&amp;reg=100&amp;auto_man=m&amp;stn=172\" >\\xb0\\xed\\xc3\\xa2</a></td>\\r\\n\\t\\t<td>&nbsp;</td>\\r\\n\\t\\t\\r\\n\\t\\t<td>12.6</td>\\r\\n\\t\\t<td>&nbsp;</td>\\r\\n\\t\\t<td>&nbsp;</td>\\r\\n\\t\\t<td>28.5</td>\\r\\n\\t\\t<td>11.1</td>\\r\\n\\t\\t<td>27.0</td>\\r\\n\\t\\t<td>&nbsp;</td>\\r\\n\\t\\t\\r\\n\\t\\t<td>34</td>\\r\\n\\t\\t<td>\\xb3\\xb2\\xbc\\xad</td>\\r\\n\\t\\t<td><script>writeWindSpeed(\\'3.1\\', false, \\'\\', \\'\\', 1);</script></td>\\r\\n\\t\\t<td>1013.4</td>\\r\\n\\t</tr>\\r\\n         \\r\\n\\t<tr>\\r\\n\\t\\t<td><a href=\"/weather/observation/currentweather.jsp?tm=2021.6.1.13:00&amp;type=t99&amp;mode=0&amp;reg=100&amp;auto_man=m&amp;stn=251\" >\\xb0\\xed\\xc3\\xa2\\xb1\\xba</a></td>\\r\\n\\t\\t<td>&nbsp;</td>\\r\\n\\t\\t\\r\\n\\t\\t<td>20 \\xc0\\xcc\\xbb\\xf3</td>\\r\\n\\t\\t<td>&nbsp;</td>\\r\\n\\t\\t<td>&nbsp;</td>\\r\\n\\t\\t<td>28.1</td>\\r\\n\\t\\t<td>11.6</td>\\r\\n\\t\\t<td>26.8</td>\\r\\n\\t\\t<td>&nbsp;</td>\\r\\n\\t\\t\\r\\n\\t\\t<td>36</td>\\r\\n\\t\\t<td>\\xb3\\xb2</td>\\r\\n\\t\\t<td><script>writeWindSpeed(\\'1.6\\', false, \\'\\', \\'\\', 1);</script></td>\\r\\n\\t\\t<td>1013.2</td>\\r\\n\\t</tr>\\r\\n         \\r\\n\\t<tr>\\r\\n\\t\\t<td><a href=\"/weather/observation/currentweather.jsp?tm=2021.6.1.13:00&amp;type=t99&amp;mode=0&amp;reg=100&amp;auto_man=m&amp;stn=262\" >\\xb0\\xed\\xc8\\xef</a></td>\\r\\n\\t\\t<td>&nbsp;</td>\\r\\n\\t\\t\\r\\n\\t\\t<td>20 \\xc0\\xcc\\xbb\\xf3</td>\\r\\n\\t\\t<td>&nbsp;</td>\\r\\n\\t\\t<td>&nbsp;</td>\\r\\n\\t\\t<td>26.5</td>\\r\\n\\t\\t<td>10.2</td>\\r\\n\\t\\t<td>25.3</td>\\r\\n\\t\\t<td>&nbsp;</td>\\r\\n\\t\\t\\r\\n\\t\\t<td>36</td>\\r\\n\\t\\t<td>\\xb5\\xbf\\xb3\\xb2\\xb5\\xbf</td>\\r\\n\\t\\t<td><script>writeWindSpeed(\\'2.1\\', false, \\'\\', \\'\\', 1);</script></td>\\r\\n\\t\\t<td>1013.7</td>\\r\\n\\t</tr>\\r\\n         \\r\\n\\t<tr>\\r\\n\\t\\t<td><a href=\"/weather/observation/currentweather.jsp?tm=2021.6.1.13:00&amp;type=t99&amp;mode=0&amp;reg=100&amp;auto_man=m&amp;stn=266\" >\\xb1\\xa4\\xbe\\xe7\\xbd\\xc3</a></td>\\r\\n\\t\\t<td>&nbsp;</td>\\r\\n\\t\\t\\r\\n\\t\\t<td>15.2</td>\\r\\n\\t\\t<td>&nbsp;</td>\\r\\n\\t\\t<td>&nbsp;</td>\\r\\n\\t\\t<td>27.0</td>\\r\\n\\t\\t<td>12.2</td>\\r\\n\\t\\t<td>26.2</td>\\r\\n\\t\\t<td>&nbsp;</td>\\r\\n\\t\\t\\r\\n\\t\\t<td>40</td>\\r\\n\\t\\t<td>\\xb5\\xbf\\xb3\\xb2\\xb5\\xbf</td>\\r\\n\\t\\t<td><script>writeWindSpeed(\\'1.1\\', false, \\'\\', \\'\\', 1);</script></td>\\r\\n\\t\\t<td>1014.5</td>\\r\\n\\t</tr>\\r\\n  \\r\\n\\t\\t\\r\\n\\t        \\r\\n\\t<tr>\\r\\n\\t\\t<td><a href=\"/weather/observation/currentweather.jsp?tm=2021.6.1.13:00&amp;type=t99&amp;mode=0&amp;reg=100&amp;auto_man=m&amp;stn=156\" >\\xb1\\xa4\\xc1\\xd6</a></td>\\r\\n\\t\\t<td>\\xb1\\xb8\\xb8\\xa7\\xc1\\xb6\\xb1\\xdd</td>\\r\\n\\t\\t\\r\\n\\t\\t<td>19.8</td>\\r\\n\\t\\t<td>5</td>\\r\\n\\t\\t<td>0</td>\\r\\n\\t\\t<td>28.1</td>\\r\\n\\t\\t<td>12.0</td>\\r\\n\\t\\t<td>26.9</td>\\r\\n\\t\\t<td>&nbsp;</td>\\r\\n\\t\\t\\r\\n\\t\\t<td>37</td>\\r\\n\\t\\t<td>\\xb3\\xb2\\xb3\\xb2\\xbc\\xad</td>\\r\\n\\t\\t<td><script>writeWindSpeed(\\'1.1\\', false, \\'\\', \\'\\', 1);</script></td>\\r\\n\\t\\t<td>1013.3</td>\\r\\n\\t</tr>\\r\\n         \\r\\n\\t<tr>\\r\\n\\t\\t<td><a href=\"/weather/observation/currentweather.jsp?tm=2021.6.1.13:00&amp;type=t99&amp;mode=0&amp;reg=100&amp;auto_man=m&amp;stn=279\" >\\xb1\\xb8\\xb9\\xcc</a></td>\\r\\n\\t\\t<td>&nbsp;</td>\\r\\n\\t\\t\\r\\n\\t\\t<td>20 \\xc0\\xcc\\xbb\\xf3</td>\\r\\n\\t\\t<td>&nbsp;</td>\\r\\n\\t\\t<td>&nbsp;</td>\\r\\n\\t\\t<td>26.5</td>\\r\\n\\t\\t<td>13.5</td>\\r\\n\\t\\t<td>26.2</td>\\r\\n\\t\\t<td>&nbsp;</td>\\r\\n\\t\\t\\r\\n\\t\\t<td>45</td>\\r\\n\\t\\t<td>\\xba\\xcf\\xba\\xcf\\xbc\\xad</td>\\r\\n\\t\\t<td><script>writeWindSpeed(\\'0.7\\', false, \\'\\', \\'\\', 1);</script></td>\\r\\n\\t\\t<td>1014.0</td>\\r\\n\\t</tr>\\r\\n         \\r\\n\\t<tr>\\r\\n\\t\\t<td><a href=\"/weather/observation/currentweather.jsp?tm=2021.6.1.13:00&amp;type=t99&amp;mode=0&amp;reg=100&amp;auto_man=m&amp;stn=140\" >\\xb1\\xba\\xbb\\xea</a></td>\\r\\n\\t\\t<td>&nbsp;</td>\\r\\n\\t\\t\\r\\n\\t\\t<td>20 \\xc0\\xcc\\xbb\\xf3</td>\\r\\n\\t\\t<td>&nbsp;</td>\\r\\n\\t\\t<td>&nbsp;</td>\\r\\n\\t\\t<td>26.5</td>\\r\\n\\t\\t<td>13.2</td>\\r\\n\\t\\t<td>26.1</td>\\r\\n\\t\\t<td>&nbsp;</td>\\r\\n\\t\\t\\r\\n\\t\\t<td>44</td>\\r\\n\\t\\t<td>\\xba\\xcf\\xbc\\xad</td>\\r\\n\\t\\t<td><script>writeWindSpeed(\\'2.7\\', false, \\'\\', \\'\\', 1);</script></td>\\r\\n\\t\\t<td>1015.3</td>\\r\\n\\t</tr>\\r\\n         \\r\\n\\t<tr>\\r\\n\\t\\t<td><a href=\"/weather/observation/currentweather.jsp?tm=2021.6.1.13:00&amp;type=t99&amp;mode=0&amp;reg=100&amp;auto_man=m&amp;stn=238\" >\\xb1\\xdd\\xbb\\xea</a></td>\\r\\n\\t\\t<td>&nbsp;</td>\\r\\n\\t\\t\\r\\n\\t\\t<td>19.5</td>\\r\\n\\t\\t<td>&nbsp;</td>\\r\\n\\t\\t<td>&nbsp;</td>\\r\\n\\t\\t<td>26.3</td>\\r\\n\\t\\t<td>15.0</td>\\r\\n\\t\\t<td>26.4</td>\\r\\n\\t\\t<td>&nbsp;</td>\\r\\n\\t\\t\\r\\n\\t\\t<td>50</td>\\r\\n\\t\\t<td>\\xba\\xcf</td>\\r\\n\\t\\t<td><script>writeWindSpeed(\\'1.3\\', false, \\'\\', \\'\\', 1);</script></td>\\r\\n\\t\\t<td>1013.9</td>\\r\\n\\t</tr>\\r\\n         \\r\\n\\t<tr>\\r\\n\\t\\t<td><a href=\"/weather/observation/currentweather.jsp?tm=2021.6.1.13:00&amp;type=t99&amp;mode=0&amp;reg=100&amp;auto_man=m&amp;stn=253\" >\\xb1\\xe8\\xc7\\xd8\\xbd\\xc3</a></td>\\r\\n\\t\\t<td>&nbsp;</td>\\r\\n\\t\\t\\r\\n\\t\\t<td>20 \\xc0\\xcc\\xbb\\xf3</td>\\r\\n\\t\\t<td>&nbsp;</td>\\r\\n\\t\\t<td>&nbsp;</td>\\r\\n\\t\\t<td>27.1</td>\\r\\n\\t\\t<td>14.4</td>\\r\\n\\t\\t<td>26.8</td>\\r\\n\\t\\t<td>&nbsp;</td>\\r\\n\\t\\t\\r\\n\\t\\t<td>46</td>\\r\\n\\t\\t<td>\\xb3\\xb2\\xb3\\xb2\\xbc\\xad</td>\\r\\n\\t\\t<td><script>writeWindSpeed(\\'2.2\\', false, \\'\\', \\'\\', 1);</script></td>\\r\\n\\t\\t<td>1014.9</td>\\r\\n\\t</tr>\\r\\n         \\r\\n\\t<tr>\\r\\n\\t\\t<td><a href=\"/weather/observation/currentweather.jsp?tm=2021.6.1.13:00&amp;type=t99&amp;mode=0&amp;reg=100&amp;auto_man=m&amp;stn=247\" >\\xb3\\xb2\\xbf\\xf8</a></td>\\r\\n\\t\\t<td>&nbsp;</td>\\r\\n\\t\\t\\r\\n\\t\\t<td>20 \\xc0\\xcc\\xbb\\xf3</td>\\r\\n\\t\\t<td>&nbsp;</td>\\r\\n\\t\\t<td>&nbsp;</td>\\r\\n\\t\\t<td>26.7</td>\\r\\n\\t\\t<td>11.9</td>\\r\\n\\t\\t<td>25.9</td>\\r\\n\\t\\t<td>&nbsp;</td>\\r\\n\\t\\t\\r\\n\\t\\t<td>40</td>\\r\\n\\t\\t<td>\\xbc\\xad\\xba\\xcf\\xbc\\xad</td>\\r\\n\\t\\t<td><script>writeWindSpeed(\\'1.4\\', false, \\'\\', \\'\\', 1);</script></td>\\r\\n\\t\\t<td>1013.5</td>\\r\\n\\t</tr>\\r\\n         \\r\\n\\t<tr>\\r\\n\\t\\t<td><a href=\"/weather/observation/currentweather.jsp?tm=2021.6.1.13:00&amp;type=t99&amp;mode=0&amp;reg=100&amp;auto_man=m&amp;stn=295\" >\\xb3\\xb2\\xc7\\xd8</a></td>\\r\\n\\t\\t<td>&nbsp;</td>\\r\\n\\t\\t\\r\\n\\t\\t<td>19.8</td>\\r\\n\\t\\t<td>&nbsp;</td>\\r\\n\\t\\t<td>&nbsp;</td>\\r\\n\\t\\t<td>25.1</td>\\r\\n\\t\\t<td>13.3</td>\\r\\n\\t\\t<td>25.1</td>\\r\\n\\t\\t<td>&nbsp;</td>\\r\\n\\t\\t\\r\\n\\t\\t<td>48</td>\\r\\n\\t\\t<td>\\xba\\xcf\\xba\\xcf\\xb5\\xbf</td>\\r\\n\\t\\t<td><script>writeWindSpeed(\\'2.3\\', false, \\'\\', \\'\\', 1);</script></td>\\r\\n\\t\\t<td>1014.1</td>\\r\\n\\t</tr>\\r\\n         \\r\\n\\t<tr>\\r\\n\\t\\t<td><a href=\"/weather/observation/currentweather.jsp?tm=2021.6.1.13:00&amp;type=t99&amp;mode=0&amp;reg=100&amp;auto_man=m&amp;stn=100\" >\\xb4\\xeb\\xb0\\xfc\\xb7\\xc9</a></td>\\r\\n\\t\\t<td>&nbsp;</td>\\r\\n\\t\\t\\r\\n\\t\\t<td>17.3</td>\\r\\n\\t\\t<td>&nbsp;</td>\\r\\n\\t\\t<td>&nbsp;</td>\\r\\n\\t\\t<td>21.0</td>\\r\\n\\t\\t<td>13.6</td>\\r\\n\\t\\t<td>22.2</td>\\r\\n\\t\\t<td>0.1</td>\\r\\n\\t\\t\\r\\n\\t\\t<td>63</td>\\r\\n\\t\\t<td>\\xbc\\xad\\xba\\xcf\\xbc\\xad</td>\\r\\n\\t\\t<td><script>writeWindSpeed(\\'4.1\\', false, \\'\\', \\'\\', 1);</script></td>\\r\\n\\t\\t<td>1011.6</td>\\r\\n\\t</tr>\\r\\n  \\r\\n\\t\\t\\r\\n\\t        \\r\\n\\t<tr>\\r\\n\\t\\t<td><a href=\"/weather/observation/currentweather.jsp?tm=2021.6.1.13:00&amp;type=t99&amp;mode=0&amp;reg=100&amp;auto_man=m&amp;stn=143\" >\\xb4\\xeb\\xb1\\xb8</a></td>\\r\\n\\t\\t<td>\\xb1\\xb8\\xb8\\xa7\\xb8\\xb9\\xc0\\xbd</td>\\r\\n\\t\\t\\r\\n\\t\\t<td>18.8</td>\\r\\n\\t\\t<td>7</td>\\r\\n\\t\\t<td>0</td>\\r\\n\\t\\t<td>26.4</td>\\r\\n\\t\\t<td>12.4</td>\\r\\n\\t\\t<td>25.8</td>\\r\\n\\t\\t<td>&nbsp;</td>\\r\\n\\t\\t\\r\\n\\t\\t<td>42</td>\\r\\n\\t\\t<td>\\xba\\xcf</td>\\r\\n\\t\\t<td><script>writeWindSpeed(\\'2.0\\', false, \\'\\', \\'\\', 1);</script></td>\\r\\n\\t\\t<td>1013.9</td>\\r\\n\\t</tr>\\r\\n         \\r\\n\\t<tr>\\r\\n\\t\\t<td><a href=\"/weather/observation/currentweather.jsp?tm=2021.6.1.13:00&amp;type=t99&amp;mode=0&amp;reg=100&amp;auto_man=m&amp;stn=133\" >\\xb4\\xeb\\xc0\\xfc</a></td>\\r\\n\\t\\t<td>\\xb1\\xb8\\xb8\\xa7\\xb8\\xb9\\xc0\\xbd</td>\\r\\n\\t\\t\\r\\n\\t\\t<td>20 \\xc0\\xcc\\xbb\\xf3</td>\\r\\n\\t\\t<td>8</td>\\r\\n\\t\\t<td>2</td>\\r\\n\\t\\t<td>26.4</td>\\r\\n\\t\\t<td>14.4</td>\\r\\n\\t\\t<td>26.3</td>\\r\\n\\t\\t<td>0.0</td>\\r\\n\\t\\t\\r\\n\\t\\t<td>48</td>\\r\\n\\t\\t<td>\\xba\\xcf</td>\\r\\n\\t\\t<td><script>writeWindSpeed(\\'1.1\\', false, \\'\\', \\'\\', 1);</script></td>\\r\\n\\t\\t<td>1014.7</td>\\r\\n\\t</tr>\\r\\n         \\r\\n\\t<tr>\\r\\n\\t\\t<td><a href=\"/weather/observation/currentweather.jsp?tm=2021.6.1.13:00&amp;type=t99&amp;mode=0&amp;reg=100&amp;auto_man=m&amp;stn=98\" >\\xb5\\xbf\\xb5\\xce\\xc3\\xb5</a></td>\\r\\n\\t\\t<td>&nbsp;</td>\\r\\n\\t\\t\\r\\n\\t\\t<td>20 \\xc0\\xcc\\xbb\\xf3</td>\\r\\n\\t\\t<td>&nbsp;</td>\\r\\n\\t\\t<td>&nbsp;</td>\\r\\n\\t\\t<td>20.8</td>\\r\\n\\t\\t<td>17.7</td>\\r\\n\\t\\t<td>23.4</td>\\r\\n\\t\\t<td>2.8</td>\\r\\n\\t\\t\\r\\n\\t\\t<td>83</td>\\r\\n\\t\\t<td>\\xba\\xcf\\xbc\\xad</td>\\r\\n\\t\\t<td><script>writeWindSpeed(\\'1.8\\', false, \\'\\', \\'\\', 1);</script></td>\\r\\n\\t\\t<td>1015.6</td>\\r\\n\\t</tr>\\r\\n         \\r\\n\\t<tr>\\r\\n\\t\\t<td><a href=\"/weather/observation/currentweather.jsp?tm=2021.6.1.13:00&amp;type=t99&amp;mode=0&amp;reg=100&amp;auto_man=m&amp;stn=106\" >\\xb5\\xbf\\xc7\\xd8</a></td>\\r\\n\\t\\t<td>&nbsp;</td>\\r\\n\\t\\t\\r\\n\\t\\t<td>20 \\xc0\\xcc\\xbb\\xf3</td>\\r\\n\\t\\t<td>&nbsp;</td>\\r\\n\\t\\t<td>&nbsp;</td>\\r\\n\\t\\t<td>19.1</td>\\r\\n\\t\\t<td>15.1</td>\\r\\n\\t\\t<td>21.3</td>\\r\\n\\t\\t<td>&nbsp;</td>\\r\\n\\t\\t\\r\\n\\t\\t<td>78</td>\\r\\n\\t\\t<td>\\xb3\\xb2\\xb3\\xb2\\xb5\\xbf</td>\\r\\n\\t\\t<td><script>writeWindSpeed(\\'2.1\\', false, \\'\\', \\'\\', 1);</script></td>\\r\\n\\t\\t<td>1012.9</td>\\r\\n\\t</tr>\\r\\n  \\r\\n\\t\\t\\r\\n\\t        \\r\\n\\t<tr>\\r\\n\\t\\t<td><a href=\"/weather/observation/currentweather.jsp?tm=2021.6.1.13:00&amp;type=t99&amp;mode=0&amp;reg=100&amp;auto_man=m&amp;stn=165\" >\\xb8\\xf1\\xc6\\xf7</a></td>\\r\\n\\t\\t<td>\\xb8\\xbc\\xc0\\xbd</td>\\r\\n\\t\\t\\r\\n\\t\\t<td>19.8</td>\\r\\n\\t\\t<td>0</td>\\r\\n\\t\\t<td>0</td>\\r\\n\\t\\t<td>27.1</td>\\r\\n\\t\\t<td>11.9</td>\\r\\n\\t\\t<td>26.2</td>\\r\\n\\t\\t<td>&nbsp;</td>\\r\\n\\t\\t\\r\\n\\t\\t<td>39</td>\\r\\n\\t\\t<td>\\xb3\\xb2\\xb5\\xbf</td>\\r\\n\\t\\t<td><script>writeWindSpeed(\\'2.8\\', false, \\'\\', \\'\\', 1);</script></td>\\r\\n\\t\\t<td>1013.5</td>\\r\\n\\t</tr>\\r\\n         \\r\\n\\t<tr>\\r\\n\\t\\t<td><a href=\"/weather/observation/currentweather.jsp?tm=2021.6.1.13:00&amp;type=t99&amp;mode=0&amp;reg=100&amp;auto_man=m&amp;stn=273\" >\\xb9\\xae\\xb0\\xe6</a></td>\\r\\n\\t\\t<td>&nbsp;</td>\\r\\n\\t\\t\\r\\n\\t\\t<td>20 \\xc0\\xcc\\xbb\\xf3</td>\\r\\n\\t\\t<td>&nbsp;</td>\\r\\n\\t\\t<td>&nbsp;</td>\\r\\n\\t\\t<td>23.8</td>\\r\\n\\t\\t<td>17.0</td>\\r\\n\\t\\t<td>25.2</td>\\r\\n\\t\\t<td>&nbsp;</td>\\r\\n\\t\\t\\r\\n\\t\\t<td>66</td>\\r\\n\\t\\t<td>\\xba\\xcf\\xbc\\xad</td>\\r\\n\\t\\t<td><script>writeWindSpeed(\\'0.6\\', false, \\'\\', \\'\\', 1);</script></td>\\r\\n\\t\\t<td>1013.9</td>\\r\\n\\t</tr>\\r\\n         \\r\\n\\t<tr>\\r\\n\\t\\t<td><a href=\"/weather/observation/currentweather.jsp?tm=2021.6.1.13:00&amp;type=t99&amp;mode=0&amp;reg=100&amp;auto_man=m&amp;stn=288\" >\\xb9\\xd0\\xbe\\xe7</a></td>\\r\\n\\t\\t<td>&nbsp;</td>\\r\\n\\t\\t\\r\\n\\t\\t<td>18.8</td>\\r\\n\\t\\t<td>&nbsp;</td>\\r\\n\\t\\t<td>&nbsp;</td>\\r\\n\\t\\t<td>28.2</td>\\r\\n\\t\\t<td>12.1</td>\\r\\n\\t\\t<td>27.0</td>\\r\\n\\t\\t<td>&nbsp;</td>\\r\\n\\t\\t\\r\\n\\t\\t<td>37</td>\\r\\n\\t\\t<td>\\xb3\\xb2\\xb3\\xb2\\xb5\\xbf</td>\\r\\n\\t\\t<td><script>writeWindSpeed(\\'1.5\\', false, \\'\\', \\'\\', 1);</script></td>\\r\\n\\t\\t<td>1013.7</td>\\r\\n\\t</tr>\\r\\n  \\r\\n\\t\\t\\r\\n\\t        \\r\\n\\t<tr>\\r\\n\\t\\t<td><a href=\"/weather/observation/currentweather.jsp?tm=2021.6.1.13:00&amp;type=t99&amp;mode=0&amp;reg=100&amp;auto_man=m&amp;stn=102\" >\\xb9\\xe9\\xb7\\xc9\\xb5\\xb5</a></td>\\r\\n\\t\\t<td>\\xbe\\xe0\\xc7\\xd1 \\xba\\xf1 \\xb4\\xdc\\xbc\\xd3\\xc0\\xfb</td>\\r\\n\\t\\t\\r\\n\\t\\t<td>2.7</td>\\r\\n\\t\\t<td>10</td>\\r\\n\\t\\t<td>5</td>\\r\\n\\t\\t<td>14.8</td>\\r\\n\\t\\t<td>14.3</td>\\r\\n\\t\\t<td>18.1</td>\\r\\n\\t\\t<td>21.8</td>\\r\\n\\t\\t\\r\\n\\t\\t<td>97</td>\\r\\n\\t\\t<td>\\xb5\\xbf\\xb3\\xb2\\xb5\\xbf</td>\\r\\n\\t\\t<td><script>writeWindSpeed(\\'4.8\\', false, \\'\\', \\'\\', 1);</script></td>\\r\\n\\t\\t<td>1010.5</td>\\r\\n\\t</tr>\\r\\n         \\r\\n\\t<tr>\\r\\n\\t\\t<td><a href=\"/weather/observation/currentweather.jsp?tm=2021.6.1.13:00&amp;type=t99&amp;mode=0&amp;reg=100&amp;auto_man=m&amp;stn=235\" >\\xba\\xb8\\xb7\\xc9</a></td>\\r\\n\\t\\t<td>&nbsp;</td>\\r\\n\\t\\t\\r\\n\\t\\t<td>19.8</td>\\r\\n\\t\\t<td>&nbsp;</td>\\r\\n\\t\\t<td>&nbsp;</td>\\r\\n\\t\\t<td>26.0</td>\\r\\n\\t\\t<td>13.1</td>\\r\\n\\t\\t<td>25.7</td>\\r\\n\\t\\t<td>&nbsp;</td>\\r\\n\\t\\t\\r\\n\\t\\t<td>45</td>\\r\\n\\t\\t<td>\\xbc\\xad\\xba\\xcf\\xbc\\xad</td>\\r\\n\\t\\t<td><script>writeWindSpeed(\\'0.6\\', false, \\'\\', \\'\\', 1);</script></td>\\r\\n\\t\\t<td>1014.5</td>\\r\\n\\t</tr>\\r\\n         \\r\\n\\t<tr>\\r\\n\\t\\t<td><a href=\"/weather/observation/currentweather.jsp?tm=2021.6.1.13:00&amp;type=t99&amp;mode=0&amp;reg=100&amp;auto_man=m&amp;stn=258\" >\\xba\\xb8\\xbc\\xba\\xb1\\xba</a></td>\\r\\n\\t\\t<td>&nbsp;</td>\\r\\n\\t\\t\\r\\n\\t\\t<td>20 \\xc0\\xcc\\xbb\\xf3</td>\\r\\n\\t\\t<td>&nbsp;</td>\\r\\n\\t\\t<td>&nbsp;</td>\\r\\n\\t\\t<td>26.2</td>\\r\\n\\t\\t<td>11.8</td>\\r\\n\\t\\t<td>25.5</td>\\r\\n\\t\\t<td>&nbsp;</td>\\r\\n\\t\\t\\r\\n\\t\\t<td>41</td>\\r\\n\\t\\t<td>\\xb3\\xb2\\xb3\\xb2\\xbc\\xad</td>\\r\\n\\t\\t<td><script>writeWindSpeed(\\'1.3\\', false, \\'\\', \\'\\', 1);</script></td>\\r\\n\\t\\t<td>1013.6</td>\\r\\n\\t</tr>\\r\\n         \\r\\n\\t<tr>\\r\\n\\t\\t<td><a href=\"/weather/observation/currentweather.jsp?tm=2021.6.1.13:00&amp;type=t99&amp;mode=0&amp;reg=100&amp;auto_man=m&amp;stn=226\" >\\xba\\xb8\\xc0\\xba</a></td>\\r\\n\\t\\t<td>&nbsp;</td>\\r\\n\\t\\t\\r\\n\\t\\t<td>20 \\xc0\\xcc\\xbb\\xf3</td>\\r\\n\\t\\t<td>&nbsp;</td>\\r\\n\\t\\t<td>&nbsp;</td>\\r\\n\\t\\t<td>23.9</td>\\r\\n\\t\\t<td>14.5</td>\\r\\n\\t\\t<td>24.6</td>\\r\\n\\t\\t<td>&nbsp;</td>\\r\\n\\t\\t\\r\\n\\t\\t<td>56</td>\\r\\n\\t\\t<td>\\xba\\xcf\\xb5\\xbf</td>\\r\\n\\t\\t<td><script>writeWindSpeed(\\'1.3\\', false, \\'\\', \\'\\', 1);</script></td>\\r\\n\\t\\t<td>1014.3</td>\\r\\n\\t</tr>\\r\\n         \\r\\n\\t<tr>\\r\\n\\t\\t<td><a href=\"/weather/observation/currentweather.jsp?tm=2021.6.1.13:00&amp;type=t99&amp;mode=0&amp;reg=100&amp;auto_man=m&amp;stn=271\" >\\xba\\xc0\\xc8\\xad</a></td>\\r\\n\\t\\t<td>&nbsp;</td>\\r\\n\\t\\t\\r\\n\\t\\t<td>19.5</td>\\r\\n\\t\\t<td>&nbsp;</td>\\r\\n\\t\\t<td>&nbsp;</td>\\r\\n\\t\\t<td>21.7</td>\\r\\n\\t\\t<td>13.0</td>\\r\\n\\t\\t<td>22.5</td>\\r\\n\\t\\t<td>&nbsp;</td>\\r\\n\\t\\t\\r\\n\\t\\t<td>58</td>\\r\\n\\t\\t<td>\\xbc\\xad\\xb3\\xb2\\xbc\\xad</td>\\r\\n\\t\\t<td><script>writeWindSpeed(\\'2.1\\', false, \\'\\', \\'\\', 1);</script></td>\\r\\n\\t\\t<td>1013.4</td>\\r\\n\\t</tr>\\r\\n  \\r\\n\\t\\t\\r\\n\\t        \\r\\n\\t<tr>\\r\\n\\t\\t<td><a href=\"/weather/observation/currentweather.jsp?tm=2021.6.1.13:00&amp;type=t99&amp;mode=0&amp;reg=100&amp;auto_man=m&amp;stn=159\" >\\xba\\xce\\xbb\\xea</a></td>\\r\\n\\t\\t<td>\\xb1\\xb8\\xb8\\xa7\\xb8\\xb9\\xc0\\xbd</td>\\r\\n\\t\\t\\r\\n\\t\\t<td>20 \\xc0\\xcc\\xbb\\xf3</td>\\r\\n\\t\\t<td>6</td>\\r\\n\\t\\t<td>0</td>\\r\\n\\t\\t<td>25.3</td>\\r\\n\\t\\t<td>9.5</td>\\r\\n\\t\\t<td>24.3</td>\\r\\n\\t\\t<td>&nbsp;</td>\\r\\n\\t\\t\\r\\n\\t\\t<td>37</td>\\r\\n\\t\\t<td>\\xb3\\xb2\\xb5\\xbf</td>\\r\\n\\t\\t<td><script>writeWindSpeed(\\'3.7\\', false, \\'\\', \\'\\', 1);</script></td>\\r\\n\\t\\t<td>1013.7</td>\\r\\n\\t</tr>\\r\\n         \\r\\n\\t<tr>\\r\\n\\t\\t<td><a href=\"/weather/observation/currentweather.jsp?tm=2021.6.1.13:00&amp;type=t99&amp;mode=0&amp;reg=100&amp;auto_man=m&amp;stn=243\" >\\xba\\xce\\xbe\\xc8</a></td>\\r\\n\\t\\t<td>&nbsp;</td>\\r\\n\\t\\t\\r\\n\\t\\t<td>20 \\xc0\\xcc\\xbb\\xf3</td>\\r\\n\\t\\t<td>&nbsp;</td>\\r\\n\\t\\t<td>&nbsp;</td>\\r\\n\\t\\t<td>27.5</td>\\r\\n\\t\\t<td>13.0</td>\\r\\n\\t\\t<td>26.7</td>\\r\\n\\t\\t<td>&nbsp;</td>\\r\\n\\t\\t\\r\\n\\t\\t<td>41</td>\\r\\n\\t\\t<td>\\xbc\\xad</td>\\r\\n\\t\\t<td><script>writeWindSpeed(\\'2.3\\', false, \\'\\', \\'\\', 1);</script></td>\\r\\n\\t\\t<td>1014.3</td>\\r\\n\\t</tr>\\r\\n         \\r\\n\\t<tr>\\r\\n\\t\\t<td><a href=\"/weather/observation/currentweather.jsp?tm=2021.6.1.13:00&amp;type=t99&amp;mode=0&amp;reg=100&amp;auto_man=m&amp;stn=236\" >\\xba\\xce\\xbf\\xa9</a></td>\\r\\n\\t\\t<td>&nbsp;</td>\\r\\n\\t\\t\\r\\n\\t\\t<td>19.5</td>\\r\\n\\t\\t<td>&nbsp;</td>\\r\\n\\t\\t<td>&nbsp;</td>\\r\\n\\t\\t<td>26.9</td>\\r\\n\\t\\t<td>13.9</td>\\r\\n\\t\\t<td>26.5</td>\\r\\n\\t\\t<td>&nbsp;</td>\\r\\n\\t\\t\\r\\n\\t\\t<td>45</td>\\r\\n\\t\\t<td>\\xbc\\xad</td>\\r\\n\\t\\t<td><script>writeWindSpeed(\\'2.2\\', false, \\'\\', \\'\\', 1);</script></td>\\r\\n\\t\\t<td>1015.7</td>\\r\\n\\t</tr>\\r\\n  \\r\\n\\t\\t\\r\\n\\t        \\r\\n\\t<tr>\\r\\n\\t\\t<td><a href=\"/weather/observation/currentweather.jsp?tm=2021.6.1.13:00&amp;type=t99&amp;mode=0&amp;reg=100&amp;auto_man=m&amp;stn=104\" >\\xba\\xcf\\xb0\\xad\\xb8\\xaa</a></td>\\r\\n\\t\\t<td>\\xb1\\xb8\\xb8\\xa7\\xb8\\xb9\\xc0\\xbd</td>\\r\\n\\t\\t\\r\\n\\t\\t<td>12.4</td>\\r\\n\\t\\t<td>8</td>\\r\\n\\t\\t<td>2</td>\\r\\n\\t\\t<td>22.3</td>\\r\\n\\t\\t<td>17.2</td>\\r\\n\\t\\t<td>24.2</td>\\r\\n\\t\\t<td>0.6</td>\\r\\n\\t\\t\\r\\n\\t\\t<td>73</td>\\r\\n\\t\\t<td>\\xba\\xcf\\xbc\\xad</td>\\r\\n\\t\\t<td><script>writeWindSpeed(\\'1.6\\', false, \\'\\', \\'\\', 1);</script></td>\\r\\n\\t\\t<td>1012.1</td>\\r\\n\\t</tr>\\r\\n         \\r\\n\\t<tr>\\r\\n\\t\\t<td><a href=\"/weather/observation/currentweather.jsp?tm=2021.6.1.13:00&amp;type=t99&amp;mode=0&amp;reg=100&amp;auto_man=m&amp;stn=255\" >\\xba\\xcf\\xc3\\xa2\\xbf\\xf8</a></td>\\r\\n\\t\\t<td>&nbsp;</td>\\r\\n\\t\\t\\r\\n\\t\\t<td>20 \\xc0\\xcc\\xbb\\xf3</td>\\r\\n\\t\\t<td>&nbsp;</td>\\r\\n\\t\\t<td>&nbsp;</td>\\r\\n\\t\\t<td>27.9</td>\\r\\n\\t\\t<td>12.6</td>\\r\\n\\t\\t<td>26.9</td>\\r\\n\\t\\t<td>&nbsp;</td>\\r\\n\\t\\t\\r\\n\\t\\t<td>39</td>\\r\\n\\t\\t<td>\\xb3\\xb2</td>\\r\\n\\t\\t<td><script>writeWindSpeed(\\'1.7\\', false, \\'\\', \\'\\', 1);</script></td>\\r\\n\\t\\t<td>1013.9</td>\\r\\n\\t</tr>\\r\\n  \\r\\n\\t\\t\\r\\n\\t        \\r\\n\\t<tr>\\r\\n\\t\\t<td><a href=\"/weather/observation/currentweather.jsp?tm=2021.6.1.13:00&amp;type=t99&amp;mode=0&amp;reg=100&amp;auto_man=m&amp;stn=93\" >\\xba\\xcf\\xc3\\xe1\\xc3\\xb5</a></td>\\r\\n\\t\\t<td>\\xbe\\xe0\\xc7\\xd1 \\xba\\xf1 \\xb4\\xdc\\xbc\\xd3\\xc0\\xfb</td>\\r\\n\\t\\t\\r\\n\\t\\t<td>12.0</td>\\r\\n\\t\\t<td>10</td>\\r\\n\\t\\t<td>1</td>\\r\\n\\t\\t<td>21.4</td>\\r\\n\\t\\t<td>16.7</td>\\r\\n\\t\\t<td>23.5</td>\\r\\n\\t\\t<td>2.5</td>\\r\\n\\t\\t\\r\\n\\t\\t<td>75</td>\\r\\n\\t\\t<td>\\xb3\\xb2</td>\\r\\n\\t\\t<td><script>writeWindSpeed(\\'2.3\\', false, \\'\\', \\'\\', 1);</script></td>\\r\\n\\t\\t<td>1014.7</td>\\r\\n\\t</tr>\\r\\n         \\r\\n\\t<tr>\\r\\n\\t\\t<td><a href=\"/weather/observation/currentweather.jsp?tm=2021.6.1.13:00&amp;type=t99&amp;mode=0&amp;reg=100&amp;auto_man=m&amp;stn=289\" >\\xbb\\xea\\xc3\\xbb</a></td>\\r\\n\\t\\t<td>&nbsp;</td>\\r\\n\\t\\t\\r\\n\\t\\t<td>20 \\xc0\\xcc\\xbb\\xf3</td>\\r\\n\\t\\t<td>&nbsp;</td>\\r\\n\\t\\t<td>&nbsp;</td>\\r\\n\\t\\t<td>26.0</td>\\r\\n\\t\\t<td>12.7</td>\\r\\n\\t\\t<td>25.6</td>\\r\\n\\t\\t<td>&nbsp;</td>\\r\\n\\t\\t\\r\\n\\t\\t<td>44</td>\\r\\n\\t\\t<td>\\xb5\\xbf</td>\\r\\n\\t\\t<td><script>writeWindSpeed(\\'2.5\\', false, \\'\\', \\'\\', 1);</script></td>\\r\\n\\t\\t<td>1014.0</td>\\r\\n\\t</tr>\\r\\n         \\r\\n\\t<tr>\\r\\n\\t\\t<td><a href=\"/weather/observation/currentweather.jsp?tm=2021.6.1.13:00&amp;type=t99&amp;mode=0&amp;reg=100&amp;auto_man=m&amp;stn=137\" >\\xbb\\xf3\\xc1\\xd6</a></td>\\r\\n\\t\\t<td>&nbsp;</td>\\r\\n\\t\\t\\r\\n\\t\\t<td>20 \\xc0\\xcc\\xbb\\xf3</td>\\r\\n\\t\\t<td>&nbsp;</td>\\r\\n\\t\\t<td>&nbsp;</td>\\r\\n\\t\\t<td>24.5</td>\\r\\n\\t\\t<td>16.2</td>\\r\\n\\t\\t<td>25.5</td>\\r\\n\\t\\t<td>&nbsp;</td>\\r\\n\\t\\t\\r\\n\\t\\t<td>60</td>\\r\\n\\t\\t<td>\\xba\\xcf\\xb5\\xbf</td>\\r\\n\\t\\t<td><script>writeWindSpeed(\\'0.8\\', false, \\'\\', \\'\\', 1);</script></td>\\r\\n\\t\\t<td>1014.4</td>\\r\\n\\t</tr>\\r\\n         \\r\\n\\t<tr>\\r\\n\\t\\t<td><a href=\"/weather/observation/currentweather.jsp?tm=2021.6.1.13:00&amp;type=t99&amp;mode=0&amp;reg=100&amp;auto_man=m&amp;stn=189\" >\\xbc\\xad\\xb1\\xcd\\xc6\\xf7</a></td>\\r\\n\\t\\t<td>\\xb8\\xbc\\xc0\\xbd</td>\\r\\n\\t\\t\\r\\n\\t\\t<td>20 \\xc0\\xcc\\xbb\\xf3</td>\\r\\n\\t\\t<td>0</td>\\r\\n\\t\\t<td>0</td>\\r\\n\\t\\t<td>24.3</td>\\r\\n\\t\\t<td>20.2</td>\\r\\n\\t\\t<td>26.6</td>\\r\\n\\t\\t<td>&nbsp;</td>\\r\\n\\t\\t\\r\\n\\t\\t<td>78</td>\\r\\n\\t\\t<td>\\xb3\\xb2</td>\\r\\n\\t\\t<td><script>writeWindSpeed(\\'1.2\\', false, \\'\\', \\'\\', 1);</script></td>\\r\\n\\t\\t<td>1014.1</td>\\r\\n\\t</tr>\\r\\n  \\r\\n\\t\\t\\r\\n\\t        \\r\\n\\t<tr>\\r\\n\\t\\t<td><a href=\"/weather/observation/currentweather.jsp?tm=2021.6.1.13:00&amp;type=t99&amp;mode=0&amp;reg=100&amp;auto_man=m&amp;stn=129\" >\\xbc\\xad\\xbb\\xea</a></td>\\r\\n\\t\\t<td>&nbsp;</td>\\r\\n\\t\\t\\r\\n\\t\\t<td>19.5</td>\\r\\n\\t\\t<td>&nbsp;</td>\\r\\n\\t\\t<td>&nbsp;</td>\\r\\n\\t\\t<td>25.2</td>\\r\\n\\t\\t<td>13.0</td>\\r\\n\\t\\t<td>25.1</td>\\r\\n\\t\\t<td>&nbsp;</td>\\r\\n\\t\\t\\r\\n\\t\\t<td>47</td>\\r\\n\\t\\t<td>\\xbc\\xad\\xb3\\xb2\\xbc\\xad</td>\\r\\n\\t\\t<td><script>writeWindSpeed(\\'3.4\\', false, \\'\\', \\'\\', 1);</script></td>\\r\\n\\t\\t<td>1014.9</td>\\r\\n\\t</tr>\\r\\n         \\r\\n\\t<tr>\\r\\n\\t\\t<td><a href=\"/weather/observation/currentweather.jsp?tm=2021.6.1.13:00&amp;type=t99&amp;mode=0&amp;reg=100&amp;auto_man=m&amp;stn=108\" >\\xbc\\xad\\xbf\\xef</a></td>\\r\\n\\t\\t<td>\\xc8\\xe5\\xb8\\xb2</td>\\r\\n\\t\\t\\r\\n\\t\\t<td>20 \\xc0\\xcc\\xbb\\xf3</td>\\r\\n\\t\\t<td>9</td>\\r\\n\\t\\t<td>0</td>\\r\\n\\t\\t<td>23.7</td>\\r\\n\\t\\t<td>15.7</td>\\r\\n\\t\\t<td>24.7</td>\\r\\n\\t\\t<td>3.2</td>\\r\\n\\t\\t\\r\\n\\t\\t<td>61</td>\\r\\n\\t\\t<td>\\xbc\\xad\\xb3\\xb2\\xbc\\xad</td>\\r\\n\\t\\t<td><script>writeWindSpeed(\\'3.0\\', false, \\'\\', \\'\\', 1);</script></td>\\r\\n\\t\\t<td>1014.5</td>\\r\\n\\t</tr>\\r\\n         \\r\\n\\t<tr>\\r\\n\\t\\t<td><a href=\"/weather/observation/currentweather.jsp?tm=2021.6.1.13:00&amp;type=t99&amp;mode=0&amp;reg=100&amp;auto_man=m&amp;stn=188\" >\\xbc\\xba\\xbb\\xea</a></td>\\r\\n\\t\\t<td>&nbsp;</td>\\r\\n\\t\\t\\r\\n\\t\\t<td>20 \\xc0\\xcc\\xbb\\xf3</td>\\r\\n\\t\\t<td>&nbsp;</td>\\r\\n\\t\\t<td>&nbsp;</td>\\r\\n\\t\\t<td>23.1</td>\\r\\n\\t\\t<td>18.4</td>\\r\\n\\t\\t<td>25.2</td>\\r\\n\\t\\t<td>&nbsp;</td>\\r\\n\\t\\t\\r\\n\\t\\t<td>75</td>\\r\\n\\t\\t<td>\\xb5\\xbf\\xb3\\xb2\\xb5\\xbf</td>\\r\\n\\t\\t<td><script>writeWindSpeed(\\'3.1\\', false, \\'\\', \\'\\', 1);</script></td>\\r\\n\\t\\t<td>1014.3</td>\\r\\n\\t</tr>\\r\\n         \\r\\n\\t<tr>\\r\\n\\t\\t<td><a href=\"/weather/observation/currentweather.jsp?tm=2021.6.1.13:00&amp;type=t99&amp;mode=0&amp;reg=100&amp;auto_man=m&amp;stn=239\" >\\xbc\\xbc\\xc1\\xbe</a></td>\\r\\n\\t\\t<td>&nbsp;</td>\\r\\n\\t\\t\\r\\n\\t\\t<td>20 \\xc0\\xcc\\xbb\\xf3</td>\\r\\n\\t\\t<td>&nbsp;</td>\\r\\n\\t\\t<td>&nbsp;</td>\\r\\n\\t\\t<td>25.1</td>\\r\\n\\t\\t<td>13.9</td>\\r\\n\\t\\t<td>25.2</td>\\r\\n\\t\\t<td>&nbsp;</td>\\r\\n\\t\\t\\r\\n\\t\\t<td>50</td>\\r\\n\\t\\t<td>\\xba\\xcf\\xbc\\xad</td>\\r\\n\\t\\t<td><script>writeWindSpeed(\\'2.3\\', false, \\'\\', \\'\\', 1);</script></td>\\r\\n\\t\\t<td>1014.5</td>\\r\\n\\t</tr>\\r\\n         \\r\\n\\t<tr>\\r\\n\\t\\t<td><a href=\"/weather/observation/currentweather.jsp?tm=2021.6.1.13:00&amp;type=t99&amp;mode=0&amp;reg=100&amp;auto_man=m&amp;stn=90\" >\\xbc\\xd3\\xc3\\xca</a></td>\\r\\n\\t\\t<td>&nbsp;</td>\\r\\n\\t\\t\\r\\n\\t\\t<td>5.3</td>\\r\\n\\t\\t<td>&nbsp;</td>\\r\\n\\t\\t<td>&nbsp;</td>\\r\\n\\t\\t<td>17.2</td>\\r\\n\\t\\t<td>15.3</td>\\r\\n\\t\\t<td>20.1</td>\\r\\n\\t\\t<td>0.3</td>\\r\\n\\t\\t\\r\\n\\t\\t<td>89</td>\\r\\n\\t\\t<td>\\xb5\\xbf\\xb3\\xb2\\xb5\\xbf</td>\\r\\n\\t\\t<td><script>writeWindSpeed(\\'1.1\\', false, \\'\\', \\'\\', 1);</script></td>\\r\\n\\t\\t<td>1013.3</td>\\r\\n\\t</tr>\\r\\n  \\r\\n\\t\\t\\r\\n\\t        \\r\\n\\t<tr>\\r\\n\\t\\t<td><a href=\"/weather/observation/currentweather.jsp?tm=2021.6.1.13:00&amp;type=t99&amp;mode=0&amp;reg=100&amp;auto_man=m&amp;stn=119\" >\\xbc\\xf6\\xbf\\xf8</a></td>\\r\\n\\t\\t<td>\\xb1\\xb8\\xb8\\xa7\\xb8\\xb9\\xc0\\xbd</td>\\r\\n\\t\\t\\r\\n\\t\\t<td>19.5</td>\\r\\n\\t\\t<td>6</td>\\r\\n\\t\\t<td>0</td>\\r\\n\\t\\t<td>25.1</td>\\r\\n\\t\\t<td>15.9</td>\\r\\n\\t\\t<td>25.8</td>\\r\\n\\t\\t<td>0.6</td>\\r\\n\\t\\t\\r\\n\\t\\t<td>57</td>\\r\\n\\t\\t<td>\\xb3\\xb2\\xbc\\xad</td>\\r\\n\\t\\t<td><script>writeWindSpeed(\\'3.4\\', false, \\'\\', \\'\\', 1);</script></td>\\r\\n\\t\\t<td>1014.7</td>\\r\\n\\t</tr>\\r\\n         \\r\\n\\t<tr>\\r\\n\\t\\t<td><a href=\"/weather/observation/currentweather.jsp?tm=2021.6.1.13:00&amp;type=t99&amp;mode=0&amp;reg=100&amp;auto_man=m&amp;stn=254\" >\\xbc\\xf8\\xc3\\xa2\\xb1\\xba</a></td>\\r\\n\\t\\t<td>&nbsp;</td>\\r\\n\\t\\t\\r\\n\\t\\t<td>20 \\xc0\\xcc\\xbb\\xf3</td>\\r\\n\\t\\t<td>&nbsp;</td>\\r\\n\\t\\t<td>&nbsp;</td>\\r\\n\\t\\t<td>27.7</td>\\r\\n\\t\\t<td>11.6</td>\\r\\n\\t\\t<td>26.5</td>\\r\\n\\t\\t<td>&nbsp;</td>\\r\\n\\t\\t\\r\\n\\t\\t<td>37</td>\\r\\n\\t\\t<td>\\xb3\\xb2\\xb5\\xbf</td>\\r\\n\\t\\t<td><script>writeWindSpeed(\\'1.7\\', false, \\'\\', \\'\\', 1);</script></td>\\r\\n\\t\\t<td>1012.9</td>\\r\\n\\t</tr>\\r\\n         \\r\\n\\t<tr>\\r\\n\\t\\t<td><a href=\"/weather/observation/currentweather.jsp?tm=2021.6.1.13:00&amp;type=t99&amp;mode=0&amp;reg=100&amp;auto_man=m&amp;stn=174\" >\\xbc\\xf8\\xc3\\xb5</a></td>\\r\\n\\t\\t<td>&nbsp;</td>\\r\\n\\t\\t\\r\\n\\t\\t<td>18.1</td>\\r\\n\\t\\t<td>&nbsp;</td>\\r\\n\\t\\t<td>&nbsp;</td>\\r\\n\\t\\t<td>27.0</td>\\r\\n\\t\\t<td>13.6</td>\\r\\n\\t\\t<td>26.6</td>\\r\\n\\t\\t<td>&nbsp;</td>\\r\\n\\t\\t\\r\\n\\t\\t<td>44</td>\\r\\n\\t\\t<td>\\xb5\\xbf</td>\\r\\n\\t\\t<td><script>writeWindSpeed(\\'2.6\\', false, \\'\\', \\'\\', 1);</script></td>\\r\\n\\t\\t<td>1012.8</td>\\r\\n\\t</tr>\\r\\n  \\r\\n\\t\\t\\r\\n\\t        \\r\\n\\t<tr>\\r\\n\\t\\t<td><a href=\"/weather/observation/currentweather.jsp?tm=2021.6.1.13:00&amp;type=t99&amp;mode=0&amp;reg=100&amp;auto_man=m&amp;stn=136\" >\\xbe\\xc8\\xb5\\xbf</a></td>\\r\\n\\t\\t<td>\\xb1\\xb8\\xb8\\xa7\\xb8\\xb9\\xc0\\xbd</td>\\r\\n\\t\\t\\r\\n\\t\\t<td>17.9</td>\\r\\n\\t\\t<td>7</td>\\r\\n\\t\\t<td>0</td>\\r\\n\\t\\t<td>24.1</td>\\r\\n\\t\\t<td>13.6</td>\\r\\n\\t\\t<td>24.4</td>\\r\\n\\t\\t<td>&nbsp;</td>\\r\\n\\t\\t\\r\\n\\t\\t<td>52</td>\\r\\n\\t\\t<td>\\xbc\\xad</td>\\r\\n\\t\\t<td><script>writeWindSpeed(\\'2.0\\', false, \\'\\', \\'\\', 1);</script></td>\\r\\n\\t\\t<td>1014.4</td>\\r\\n\\t</tr>\\r\\n         \\r\\n\\t<tr>\\r\\n\\t\\t<td><a href=\"/weather/observation/currentweather.jsp?tm=2021.6.1.13:00&amp;type=t99&amp;mode=0&amp;reg=100&amp;auto_man=m&amp;stn=257\" >\\xbe\\xe7\\xbb\\xea\\xbd\\xc3</a></td>\\r\\n\\t\\t<td>&nbsp;</td>\\r\\n\\t\\t\\r\\n\\t\\t<td>19.0</td>\\r\\n\\t\\t<td>&nbsp;</td>\\r\\n\\t\\t<td>&nbsp;</td>\\r\\n\\t\\t<td>28.2</td>\\r\\n\\t\\t<td>13.3</td>\\r\\n\\t\\t<td>27.3</td>\\r\\n\\t\\t<td>&nbsp;</td>\\r\\n\\t\\t\\r\\n\\t\\t<td>40</td>\\r\\n\\t\\t<td>\\xb3\\xb2\\xbc\\xad</td>\\r\\n\\t\\t<td><script>writeWindSpeed(\\'2.5\\', false, \\'\\', \\'\\', 1);</script></td>\\r\\n\\t\\t<td>1014.0</td>\\r\\n\\t</tr>\\r\\n         \\r\\n\\t<tr>\\r\\n\\t\\t<td><a href=\"/weather/observation/currentweather.jsp?tm=2021.6.1.13:00&amp;type=t99&amp;mode=0&amp;reg=100&amp;auto_man=m&amp;stn=202\" >\\xbe\\xe7\\xc6\\xf2</a></td>\\r\\n\\t\\t<td>&nbsp;</td>\\r\\n\\t\\t\\r\\n\\t\\t<td>16.3</td>\\r\\n\\t\\t<td>&nbsp;</td>\\r\\n\\t\\t<td>&nbsp;</td>\\r\\n\\t\\t<td>23.5</td>\\r\\n\\t\\t<td>15.5</td>\\r\\n\\t\\t<td>24.6</td>\\r\\n\\t\\t<td>0.3</td>\\r\\n\\t\\t\\r\\n\\t\\t<td>61</td>\\r\\n\\t\\t<td>\\xba\\xcf\\xba\\xcf\\xbc\\xad</td>\\r\\n\\t\\t<td><script>writeWindSpeed(\\'1.2\\', false, \\'\\', \\'\\', 1);</script></td>\\r\\n\\t\\t<td>1015.1</td>\\r\\n\\t</tr>\\r\\n  \\r\\n\\t\\t\\r\\n\\t        \\r\\n\\t<tr>\\r\\n\\t\\t<td><a href=\"/weather/observation/currentweather.jsp?tm=2021.6.1.13:00&amp;type=t99&amp;mode=0&amp;reg=100&amp;auto_man=m&amp;stn=168\" >\\xbf\\xa9\\xbc\\xf6</a></td>\\r\\n\\t\\t<td>\\xb1\\xb8\\xb8\\xa7\\xc1\\xb6\\xb1\\xdd</td>\\r\\n\\t\\t\\r\\n\\t\\t<td>20 \\xc0\\xcc\\xbb\\xf3</td>\\r\\n\\t\\t<td>3</td>\\r\\n\\t\\t<td>0</td>\\r\\n\\t\\t<td>25.0</td>\\r\\n\\t\\t<td>9.6</td>\\r\\n\\t\\t<td>24.1</td>\\r\\n\\t\\t<td>&nbsp;</td>\\r\\n\\t\\t\\r\\n\\t\\t<td>38</td>\\r\\n\\t\\t<td>\\xb5\\xbf\\xb3\\xb2\\xb5\\xbf</td>\\r\\n\\t\\t<td><script>writeWindSpeed(\\'2.2\\', false, \\'\\', \\'\\', 1);</script></td>\\r\\n\\t\\t<td>1014.6</td>\\r\\n\\t</tr>\\r\\n         \\r\\n\\t<tr>\\r\\n\\t\\t<td><a href=\"/weather/observation/currentweather.jsp?tm=2021.6.1.13:00&amp;type=t99&amp;mode=0&amp;reg=100&amp;auto_man=m&amp;stn=252\" >\\xbf\\xb5\\xb1\\xa4\\xb1\\xba</a></td>\\r\\n\\t\\t<td>&nbsp;</td>\\r\\n\\t\\t\\r\\n\\t\\t<td>11.3</td>\\r\\n\\t\\t<td>&nbsp;</td>\\r\\n\\t\\t<td>&nbsp;</td>\\r\\n\\t\\t<td>28.5</td>\\r\\n\\t\\t<td>11.1</td>\\r\\n\\t\\t<td>27.0</td>\\r\\n\\t\\t<td>&nbsp;</td>\\r\\n\\t\\t\\r\\n\\t\\t<td>34</td>\\r\\n\\t\\t<td>\\xb3\\xb2\\xbc\\xad</td>\\r\\n\\t\\t<td><script>writeWindSpeed(\\'2.2\\', false, \\'\\', \\'\\', 1);</script></td>\\r\\n\\t\\t<td>1013.6</td>\\r\\n\\t</tr>\\r\\n         \\r\\n\\t<tr>\\r\\n\\t\\t<td><a href=\"/weather/observation/currentweather.jsp?tm=2021.6.1.13:00&amp;type=t99&amp;mode=0&amp;reg=100&amp;auto_man=m&amp;stn=277\" >\\xbf\\xb5\\xb4\\xf6</a></td>\\r\\n\\t\\t<td>&nbsp;</td>\\r\\n\\t\\t\\r\\n\\t\\t<td>19.9</td>\\r\\n\\t\\t<td>&nbsp;</td>\\r\\n\\t\\t<td>&nbsp;</td>\\r\\n\\t\\t<td>21.0</td>\\r\\n\\t\\t<td>14.1</td>\\r\\n\\t\\t<td>22.4</td>\\r\\n\\t\\t<td>&nbsp;</td>\\r\\n\\t\\t\\r\\n\\t\\t<td>65</td>\\r\\n\\t\\t<td>\\xb3\\xb2\\xb3\\xb2\\xb5\\xbf</td>\\r\\n\\t\\t<td><script>writeWindSpeed(\\'3.3\\', false, \\'\\', \\'\\', 1);</script></td>\\r\\n\\t\\t<td>1014.0</td>\\r\\n\\t</tr>\\r\\n         \\r\\n\\t<tr>\\r\\n\\t\\t<td><a href=\"/weather/observation/currentweather.jsp?tm=2021.6.1.13:00&amp;type=t99&amp;mode=0&amp;reg=100&amp;auto_man=m&amp;stn=121\" >\\xbf\\xb5\\xbf\\xf9</a></td>\\r\\n\\t\\t<td>&nbsp;</td>\\r\\n\\t\\t\\r\\n\\t\\t<td>19.2</td>\\r\\n\\t\\t<td>&nbsp;</td>\\r\\n\\t\\t<td>&nbsp;</td>\\r\\n\\t\\t<td>23.2</td>\\r\\n\\t\\t<td>14.2</td>\\r\\n\\t\\t<td>23.9</td>\\r\\n\\t\\t<td>&nbsp;</td>\\r\\n\\t\\t\\r\\n\\t\\t<td>57</td>\\r\\n\\t\\t<td>\\xba\\xcf\\xba\\xcf\\xbc\\xad</td>\\r\\n\\t\\t<td><script>writeWindSpeed(\\'2.5\\', false, \\'\\', \\'\\', 1);</script></td>\\r\\n\\t\\t<td>1013.8</td>\\r\\n\\t</tr>\\r\\n         \\r\\n\\t<tr>\\r\\n\\t\\t<td><a href=\"/weather/observation/currentweather.jsp?tm=2021.6.1.13:00&amp;type=t99&amp;mode=0&amp;reg=100&amp;auto_man=m&amp;stn=272\" >\\xbf\\xb5\\xc1\\xd6</a></td>\\r\\n\\t\\t<td>&nbsp;</td>\\r\\n\\t\\t\\r\\n\\t\\t<td>14.3</td>\\r\\n\\t\\t<td>&nbsp;</td>\\r\\n\\t\\t<td>&nbsp;</td>\\r\\n\\t\\t<td>23.3</td>\\r\\n\\t\\t<td>15.3</td>\\r\\n\\t\\t<td>24.4</td>\\r\\n\\t\\t<td>&nbsp;</td>\\r\\n\\t\\t\\r\\n\\t\\t<td>61</td>\\r\\n\\t\\t<td>\\xb3\\xb2\\xb3\\xb2\\xb5\\xbf</td>\\r\\n\\t\\t<td><script>writeWindSpeed(\\'1.4\\', false, \\'\\', \\'\\', 1);</script></td>\\r\\n\\t\\t<td>1014.2</td>\\r\\n\\t</tr>\\r\\n         \\r\\n\\t<tr>\\r\\n\\t\\t<td><a href=\"/weather/observation/currentweather.jsp?tm=2021.6.1.13:00&amp;type=t99&amp;mode=0&amp;reg=100&amp;auto_man=m&amp;stn=281\" >\\xbf\\xb5\\xc3\\xb5</a></td>\\r\\n\\t\\t<td>&nbsp;</td>\\r\\n\\t\\t\\r\\n\\t\\t<td>20 \\xc0\\xcc\\xbb\\xf3</td>\\r\\n\\t\\t<td>&nbsp;</td>\\r\\n\\t\\t<td>&nbsp;</td>\\r\\n\\t\\t<td>26.2</td>\\r\\n\\t\\t<td>14.3</td>\\r\\n\\t\\t<td>26.1</td>\\r\\n\\t\\t<td>&nbsp;</td>\\r\\n\\t\\t\\r\\n\\t\\t<td>48</td>\\r\\n\\t\\t<td>\\xbc\\xad\\xba\\xcf\\xbc\\xad</td>\\r\\n\\t\\t<td><script>writeWindSpeed(\\'1.2\\', false, \\'\\', \\'\\', 1);</script></td>\\r\\n\\t\\t<td>1014.5</td>\\r\\n\\t</tr>\\r\\n         \\r\\n\\t<tr>\\r\\n\\t\\t<td><a href=\"/weather/observation/currentweather.jsp?tm=2021.6.1.13:00&amp;type=t99&amp;mode=0&amp;reg=100&amp;auto_man=m&amp;stn=170\" >\\xbf\\xcf\\xb5\\xb5</a></td>\\r\\n\\t\\t<td>&nbsp;</td>\\r\\n\\t\\t\\r\\n\\t\\t<td>20 \\xc0\\xcc\\xbb\\xf3</td>\\r\\n\\t\\t<td>&nbsp;</td>\\r\\n\\t\\t<td>&nbsp;</td>\\r\\n\\t\\t<td>25.8</td>\\r\\n\\t\\t<td>13.2</td>\\r\\n\\t\\t<td>25.6</td>\\r\\n\\t\\t<td>&nbsp;</td>\\r\\n\\t\\t\\r\\n\\t\\t<td>46</td>\\r\\n\\t\\t<td>\\xb5\\xbf\\xb3\\xb2\\xb5\\xbf</td>\\r\\n\\t\\t<td><script>writeWindSpeed(\\'3.1\\', false, \\'\\', \\'\\', 1);</script></td>\\r\\n\\t\\t<td>1014.1</td>\\r\\n\\t</tr>\\r\\n  \\r\\n\\t\\t\\r\\n\\t        \\r\\n\\t<tr>\\r\\n\\t\\t<td><a href=\"/weather/observation/currentweather.jsp?tm=2021.6.1.13:00&amp;type=t99&amp;mode=0&amp;reg=100&amp;auto_man=m&amp;stn=115\" >\\xbf\\xef\\xb8\\xaa\\xb5\\xb5</a></td>\\r\\n\\t\\t<td>\\xb1\\xb8\\xb8\\xa7\\xb8\\xb9\\xc0\\xbd</td>\\r\\n\\t\\t\\r\\n\\t\\t<td>20 \\xc0\\xcc\\xbb\\xf3</td>\\r\\n\\t\\t<td>7</td>\\r\\n\\t\\t<td>3</td>\\r\\n\\t\\t<td>18.9</td>\\r\\n\\t\\t<td>16.4</td>\\r\\n\\t\\t<td>21.6</td>\\r\\n\\t\\t<td>&nbsp;</td>\\r\\n\\t\\t\\r\\n\\t\\t<td>86</td>\\r\\n\\t\\t<td>\\xb3\\xb2\\xbc\\xad</td>\\r\\n\\t\\t<td><script>writeWindSpeed(\\'2.6\\', false, \\'\\', \\'\\', 1);</script></td>\\r\\n\\t\\t<td>1014.6</td>\\r\\n\\t</tr>\\r\\n         \\r\\n\\t<tr>\\r\\n\\t\\t<td><a href=\"/weather/observation/currentweather.jsp?tm=2021.6.1.13:00&amp;type=t99&amp;mode=0&amp;reg=100&amp;auto_man=m&amp;stn=152\" >\\xbf\\xef\\xbb\\xea</a></td>\\r\\n\\t\\t<td>\\xb1\\xb8\\xb8\\xa7\\xb8\\xb9\\xc0\\xbd</td>\\r\\n\\t\\t\\r\\n\\t\\t<td>20 \\xc0\\xcc\\xbb\\xf3</td>\\r\\n\\t\\t<td>6</td>\\r\\n\\t\\t<td>0</td>\\r\\n\\t\\t<td>24.5</td>\\r\\n\\t\\t<td>9.6</td>\\r\\n\\t\\t<td>23.7</td>\\r\\n\\t\\t<td>&nbsp;</td>\\r\\n\\t\\t\\r\\n\\t\\t<td>39</td>\\r\\n\\t\\t<td>\\xb3\\xb2\\xb3\\xb2\\xb5\\xbf</td>\\r\\n\\t\\t<td><script>writeWindSpeed(\\'1.6\\', false, \\'\\', \\'\\', 1);</script></td>\\r\\n\\t\\t<td>1014.2</td>\\r\\n\\t</tr>\\r\\n         \\r\\n\\t<tr>\\r\\n\\t\\t<td><a href=\"/weather/observation/currentweather.jsp?tm=2021.6.1.13:00&amp;type=t99&amp;mode=0&amp;reg=100&amp;auto_man=m&amp;stn=130\" >\\xbf\\xef\\xc1\\xf8</a></td>\\r\\n\\t\\t<td>&nbsp;</td>\\r\\n\\t\\t\\r\\n\\t\\t<td>19.7</td>\\r\\n\\t\\t<td>&nbsp;</td>\\r\\n\\t\\t<td>&nbsp;</td>\\r\\n\\t\\t<td>19.5</td>\\r\\n\\t\\t<td>17.0</td>\\r\\n\\t\\t<td>22.3</td>\\r\\n\\t\\t<td>&nbsp;</td>\\r\\n\\t\\t\\r\\n\\t\\t<td>86</td>\\r\\n\\t\\t<td>\\xb3\\xb2\\xb3\\xb2\\xbc\\xad</td>\\r\\n\\t\\t<td><script>writeWindSpeed(\\'1.8\\', false, \\'\\', \\'\\', 1);</script></td>\\r\\n\\t\\t<td>1013.5</td>\\r\\n\\t</tr>\\r\\n         \\r\\n\\t<tr>\\r\\n\\t\\t<td><a href=\"/weather/observation/currentweather.jsp?tm=2021.6.1.13:00&amp;type=t99&amp;mode=0&amp;reg=100&amp;auto_man=m&amp;stn=114\" >\\xbf\\xf8\\xc1\\xd6</a></td>\\r\\n\\t\\t<td>&nbsp;</td>\\r\\n\\t\\t\\r\\n\\t\\t<td>16.8</td>\\r\\n\\t\\t<td>&nbsp;</td>\\r\\n\\t\\t<td>&nbsp;</td>\\r\\n\\t\\t<td>24.2</td>\\r\\n\\t\\t<td>14.5</td>\\r\\n\\t\\t<td>24.8</td>\\r\\n\\t\\t<td>0.0</td>\\r\\n\\t\\t\\r\\n\\t\\t<td>55</td>\\r\\n\\t\\t<td>\\xbc\\xad\\xba\\xcf\\xbc\\xad</td>\\r\\n\\t\\t<td><script>writeWindSpeed(\\'3.1\\', false, \\'\\', \\'\\', 1);</script></td>\\r\\n\\t\\t<td>1014.0</td>\\r\\n\\t</tr>\\r\\n         \\r\\n\\t<tr>\\r\\n\\t\\t<td><a href=\"/weather/observation/currentweather.jsp?tm=2021.6.1.13:00&amp;type=t99&amp;mode=0&amp;reg=100&amp;auto_man=m&amp;stn=263\" >\\xc0\\xc7\\xb7\\xc9\\xb1\\xba</a></td>\\r\\n\\t\\t<td>&nbsp;</td>\\r\\n\\t\\t\\r\\n\\t\\t<td>14.6</td>\\r\\n\\t\\t<td>&nbsp;</td>\\r\\n\\t\\t<td>&nbsp;</td>\\r\\n\\t\\t<td>27.4</td>\\r\\n\\t\\t<td>15.0</td>\\r\\n\\t\\t<td>27.2</td>\\r\\n\\t\\t<td>&nbsp;</td>\\r\\n\\t\\t\\r\\n\\t\\t<td>47</td>\\r\\n\\t\\t<td>\\xb5\\xbf</td>\\r\\n\\t\\t<td><script>writeWindSpeed(\\'1.7\\', false, \\'\\', \\'\\', 1);</script></td>\\r\\n\\t\\t<td>1013.9</td>\\r\\n\\t</tr>\\r\\n         \\r\\n\\t<tr>\\r\\n\\t\\t<td><a href=\"/weather/observation/currentweather.jsp?tm=2021.6.1.13:00&amp;type=t99&amp;mode=0&amp;reg=100&amp;auto_man=m&amp;stn=278\" >\\xc0\\xc7\\xbc\\xba</a></td>\\r\\n\\t\\t<td>&nbsp;</td>\\r\\n\\t\\t\\r\\n\\t\\t<td>20 \\xc0\\xcc\\xbb\\xf3</td>\\r\\n\\t\\t<td>&nbsp;</td>\\r\\n\\t\\t<td>&nbsp;</td>\\r\\n\\t\\t<td>25.5</td>\\r\\n\\t\\t<td>14.9</td>\\r\\n\\t\\t<td>25.8</td>\\r\\n\\t\\t<td>&nbsp;</td>\\r\\n\\t\\t\\r\\n\\t\\t<td>52</td>\\r\\n\\t\\t<td>\\xbc\\xad\\xba\\xcf\\xbc\\xad</td>\\r\\n\\t\\t<td><script>writeWindSpeed(\\'1.7\\', false, \\'\\', \\'\\', 1);</script></td>\\r\\n\\t\\t<td>1013.1</td>\\r\\n\\t</tr>\\r\\n         \\r\\n\\t<tr>\\r\\n\\t\\t<td><a href=\"/weather/observation/currentweather.jsp?tm=2021.6.1.13:00&amp;type=t99&amp;mode=0&amp;reg=100&amp;auto_man=m&amp;stn=203\" >\\xc0\\xcc\\xc3\\xb5</a></td>\\r\\n\\t\\t<td>&nbsp;</td>\\r\\n\\t\\t\\r\\n\\t\\t<td>15.5</td>\\r\\n\\t\\t<td>&nbsp;</td>\\r\\n\\t\\t<td>&nbsp;</td>\\r\\n\\t\\t<td>24.9</td>\\r\\n\\t\\t<td>15.7</td>\\r\\n\\t\\t<td>25.6</td>\\r\\n\\t\\t<td>0.4</td>\\r\\n\\t\\t\\r\\n\\t\\t<td>57</td>\\r\\n\\t\\t<td>\\xbc\\xad</td>\\r\\n\\t\\t<td><script>writeWindSpeed(\\'1.4\\', false, \\'\\', \\'\\', 1);</script></td>\\r\\n\\t\\t<td>1014.8</td>\\r\\n\\t</tr>\\r\\n         \\r\\n\\t<tr>\\r\\n\\t\\t<td><a href=\"/weather/observation/currentweather.jsp?tm=2021.6.1.13:00&amp;type=t99&amp;mode=0&amp;reg=100&amp;auto_man=m&amp;stn=211\" >\\xc0\\xce\\xc1\\xa6</a></td>\\r\\n\\t\\t<td>&nbsp;</td>\\r\\n\\t\\t\\r\\n\\t\\t<td>10.8</td>\\r\\n\\t\\t<td>&nbsp;</td>\\r\\n\\t\\t<td>&nbsp;</td>\\r\\n\\t\\t<td>22.1</td>\\r\\n\\t\\t<td>15.9</td>\\r\\n\\t\\t<td>23.7</td>\\r\\n\\t\\t<td>2.5</td>\\r\\n\\t\\t\\r\\n\\t\\t<td>68</td>\\r\\n\\t\\t<td>\\xb3\\xb2</td>\\r\\n\\t\\t<td><script>writeWindSpeed(\\'1.9\\', false, \\'\\', \\'\\', 1);</script></td>\\r\\n\\t\\t<td>1014.1</td>\\r\\n\\t</tr>\\r\\n  \\r\\n\\t\\t\\r\\n\\t        \\r\\n\\t<tr>\\r\\n\\t\\t<td><a href=\"/weather/observation/currentweather.jsp?tm=2021.6.1.13:00&amp;type=t99&amp;mode=0&amp;reg=100&amp;auto_man=m&amp;stn=112\" >\\xc0\\xce\\xc3\\xb5</a></td>\\r\\n\\t\\t<td>\\xbf\\xac\\xb9\\xab</td>\\r\\n\\t\\t\\r\\n\\t\\t<td>5.9</td>\\r\\n\\t\\t<td>9</td>\\r\\n\\t\\t<td>1</td>\\r\\n\\t\\t<td>21.9</td>\\r\\n\\t\\t<td>13.5</td>\\r\\n\\t\\t<td>22.8</td>\\r\\n\\t\\t<td>0.8</td>\\r\\n\\t\\t\\r\\n\\t\\t<td>59</td>\\r\\n\\t\\t<td>\\xbc\\xad\\xb3\\xb2\\xbc\\xad</td>\\r\\n\\t\\t<td><script>writeWindSpeed(\\'2.8\\', false, \\'\\', \\'\\', 1);</script></td>\\r\\n\\t\\t<td>1014.9</td>\\r\\n\\t</tr>\\r\\n         \\r\\n\\t<tr>\\r\\n\\t\\t<td><a href=\"/weather/observation/currentweather.jsp?tm=2021.6.1.13:00&amp;type=t99&amp;mode=0&amp;reg=100&amp;auto_man=m&amp;stn=244\" >\\xc0\\xd3\\xbd\\xc7</a></td>\\r\\n\\t\\t<td>&nbsp;</td>\\r\\n\\t\\t\\r\\n\\t\\t<td>19.5</td>\\r\\n\\t\\t<td>&nbsp;</td>\\r\\n\\t\\t<td>&nbsp;</td>\\r\\n\\t\\t<td>26.0</td>\\r\\n\\t\\t<td>11.3</td>\\r\\n\\t\\t<td>25.2</td>\\r\\n\\t\\t<td>&nbsp;</td>\\r\\n\\t\\t\\r\\n\\t\\t<td>40</td>\\r\\n\\t\\t<td>\\xb3\\xb2\\xbc\\xad</td>\\r\\n\\t\\t<td><script>writeWindSpeed(\\'2.0\\', false, \\'\\', \\'\\', 1);</script></td>\\r\\n\\t\\t<td>1013.6</td>\\r\\n\\t</tr>\\r\\n         \\r\\n\\t<tr>\\r\\n\\t\\t<td><a href=\"/weather/observation/currentweather.jsp?tm=2021.6.1.13:00&amp;type=t99&amp;mode=0&amp;reg=100&amp;auto_man=m&amp;stn=248\" >\\xc0\\xe5\\xbc\\xf6</a></td>\\r\\n\\t\\t<td>&nbsp;</td>\\r\\n\\t\\t\\r\\n\\t\\t<td>19.3</td>\\r\\n\\t\\t<td>&nbsp;</td>\\r\\n\\t\\t<td>&nbsp;</td>\\r\\n\\t\\t<td>26.1</td>\\r\\n\\t\\t<td>13.8</td>\\r\\n\\t\\t<td>26.0</td>\\r\\n\\t\\t<td>&nbsp;</td>\\r\\n\\t\\t\\r\\n\\t\\t<td>47</td>\\r\\n\\t\\t<td>\\xb3\\xb2\\xb3\\xb2\\xbc\\xad</td>\\r\\n\\t\\t<td><script>writeWindSpeed(\\'2.1\\', false, \\'\\', \\'\\', 1);</script></td>\\r\\n\\t\\t<td>1012.7</td>\\r\\n\\t</tr>\\r\\n         \\r\\n\\t<tr>\\r\\n\\t\\t<td><a href=\"/weather/observation/currentweather.jsp?tm=2021.6.1.13:00&amp;type=t99&amp;mode=0&amp;reg=100&amp;auto_man=m&amp;stn=260\" >\\xc0\\xe5\\xc8\\xef</a></td>\\r\\n\\t\\t<td>&nbsp;</td>\\r\\n\\t\\t\\r\\n\\t\\t<td>20 \\xc0\\xcc\\xbb\\xf3</td>\\r\\n\\t\\t<td>&nbsp;</td>\\r\\n\\t\\t<td>&nbsp;</td>\\r\\n\\t\\t<td>25.7</td>\\r\\n\\t\\t<td>11.4</td>\\r\\n\\t\\t<td>25.0</td>\\r\\n\\t\\t<td>&nbsp;</td>\\r\\n\\t\\t\\r\\n\\t\\t<td>41</td>\\r\\n\\t\\t<td>\\xb3\\xb2\\xb5\\xbf</td>\\r\\n\\t\\t<td><script>writeWindSpeed(\\'4.8\\', false, \\'\\', \\'\\', 1);</script></td>\\r\\n\\t\\t<td>1013.6</td>\\r\\n\\t</tr>\\r\\n  \\r\\n\\t\\t\\r\\n\\t        \\r\\n\\t<tr>\\r\\n\\t\\t<td><a href=\"/weather/observation/currentweather.jsp?tm=2021.6.1.13:00&amp;type=t99&amp;mode=0&amp;reg=100&amp;auto_man=m&amp;stn=146\" >\\xc0\\xfc\\xc1\\xd6</a></td>\\r\\n\\t\\t<td>\\xb1\\xb8\\xb8\\xa7\\xc1\\xb6\\xb1\\xdd</td>\\r\\n\\t\\t\\r\\n\\t\\t<td>20 \\xc0\\xcc\\xbb\\xf3</td>\\r\\n\\t\\t<td>5</td>\\r\\n\\t\\t<td>0</td>\\r\\n\\t\\t<td>28.4</td>\\r\\n\\t\\t<td>14.6</td>\\r\\n\\t\\t<td>27.8</td>\\r\\n\\t\\t<td>&nbsp;</td>\\r\\n\\t\\t\\r\\n\\t\\t<td>43</td>\\r\\n\\t\\t<td>\\xbc\\xad\\xb3\\xb2\\xbc\\xad</td>\\r\\n\\t\\t<td><script>writeWindSpeed(\\'1.1\\', false, \\'\\', \\'\\', 1);</script></td>\\r\\n\\t\\t<td>1013.4</td>\\r\\n\\t</tr>\\r\\n         \\r\\n\\t<tr>\\r\\n\\t\\t<td><a href=\"/weather/observation/currentweather.jsp?tm=2021.6.1.13:00&amp;type=t99&amp;mode=0&amp;reg=100&amp;auto_man=m&amp;stn=217\" >\\xc1\\xa4\\xbc\\xb1\\xb1\\xba</a></td>\\r\\n\\t\\t<td>&nbsp;</td>\\r\\n\\t\\t\\r\\n\\t\\t<td>13.9</td>\\r\\n\\t\\t<td>&nbsp;</td>\\r\\n\\t\\t<td>&nbsp;</td>\\r\\n\\t\\t<td>24.3</td>\\r\\n\\t\\t<td>14.3</td>\\r\\n\\t\\t<td>24.8</td>\\r\\n\\t\\t<td>&nbsp;</td>\\r\\n\\t\\t\\r\\n\\t\\t<td>54</td>\\r\\n\\t\\t<td>\\xba\\xcf\\xb5\\xbf</td>\\r\\n\\t\\t<td><script>writeWindSpeed(\\'5.4\\', false, \\'\\', \\'\\', 1);</script></td>\\r\\n\\t\\t<td>1012.9</td>\\r\\n\\t</tr>\\r\\n         \\r\\n\\t<tr>\\r\\n\\t\\t<td><a href=\"/weather/observation/currentweather.jsp?tm=2021.6.1.13:00&amp;type=t99&amp;mode=0&amp;reg=100&amp;auto_man=m&amp;stn=245\" >\\xc1\\xa4\\xc0\\xbe</a></td>\\r\\n\\t\\t<td>&nbsp;</td>\\r\\n\\t\\t\\r\\n\\t\\t<td>20 \\xc0\\xcc\\xbb\\xf3</td>\\r\\n\\t\\t<td>&nbsp;</td>\\r\\n\\t\\t<td>&nbsp;</td>\\r\\n\\t\\t<td>27.8</td>\\r\\n\\t\\t<td>9.5</td>\\r\\n\\t\\t<td>26.1</td>\\r\\n\\t\\t<td>&nbsp;</td>\\r\\n\\t\\t\\r\\n\\t\\t<td>32</td>\\r\\n\\t\\t<td>\\xb3\\xb2\\xbc\\xad</td>\\r\\n\\t\\t<td><script>writeWindSpeed(\\'2.2\\', false, \\'\\', \\'\\', 1);</script></td>\\r\\n\\t\\t<td>1013.2</td>\\r\\n\\t</tr>\\r\\n  \\r\\n\\t\\t\\r\\n\\t        \\r\\n\\t<tr>\\r\\n\\t\\t<td><a href=\"/weather/observation/currentweather.jsp?tm=2021.6.1.13:00&amp;type=t99&amp;mode=0&amp;reg=100&amp;auto_man=m&amp;stn=184\" >\\xc1\\xa6\\xc1\\xd6</a></td>\\r\\n\\t\\t<td>\\xb8\\xbc\\xc0\\xbd</td>\\r\\n\\t\\t\\r\\n\\t\\t<td>20 \\xc0\\xcc\\xbb\\xf3</td>\\r\\n\\t\\t<td>2</td>\\r\\n\\t\\t<td>0</td>\\r\\n\\t\\t<td>23.8</td>\\r\\n\\t\\t<td>17.7</td>\\r\\n\\t\\t<td>25.4</td>\\r\\n\\t\\t<td>&nbsp;</td>\\r\\n\\t\\t\\r\\n\\t\\t<td>69</td>\\r\\n\\t\\t<td>\\xba\\xcf\\xb5\\xbf</td>\\r\\n\\t\\t<td><script>writeWindSpeed(\\'4.6\\', false, \\'\\', \\'\\', 1);</script></td>\\r\\n\\t\\t<td>1013.5</td>\\r\\n\\t</tr>\\r\\n         \\r\\n\\t<tr>\\r\\n\\t\\t<td><a href=\"/weather/observation/currentweather.jsp?tm=2021.6.1.13:00&amp;type=t99&amp;mode=0&amp;reg=100&amp;auto_man=m&amp;stn=221\" >\\xc1\\xa6\\xc3\\xb5</a></td>\\r\\n\\t\\t<td>&nbsp;</td>\\r\\n\\t\\t\\r\\n\\t\\t<td>11.9</td>\\r\\n\\t\\t<td>&nbsp;</td>\\r\\n\\t\\t<td>&nbsp;</td>\\r\\n\\t\\t<td>23.7</td>\\r\\n\\t\\t<td>14.1</td>\\r\\n\\t\\t<td>24.3</td>\\r\\n\\t\\t<td>0.0</td>\\r\\n\\t\\t\\r\\n\\t\\t<td>55</td>\\r\\n\\t\\t<td>\\xbc\\xad\\xb3\\xb2\\xbc\\xad</td>\\r\\n\\t\\t<td><script>writeWindSpeed(\\'1.8\\', false, \\'\\', \\'\\', 1);</script></td>\\r\\n\\t\\t<td>1013.9</td>\\r\\n\\t</tr>\\r\\n         \\r\\n\\t<tr>\\r\\n\\t\\t<td><a href=\"/weather/observation/currentweather.jsp?tm=2021.6.1.13:00&amp;type=t99&amp;mode=0&amp;reg=100&amp;auto_man=m&amp;stn=268\" >\\xc1\\xf8\\xb5\\xb5\\xb1\\xba</a></td>\\r\\n\\t\\t<td>&nbsp;</td>\\r\\n\\t\\t\\r\\n\\t\\t<td>20 \\xc0\\xcc\\xbb\\xf3</td>\\r\\n\\t\\t<td>&nbsp;</td>\\r\\n\\t\\t<td>&nbsp;</td>\\r\\n\\t\\t<td>25.8</td>\\r\\n\\t\\t<td>12.2</td>\\r\\n\\t\\t<td>25.3</td>\\r\\n\\t\\t<td>&nbsp;</td>\\r\\n\\t\\t\\r\\n\\t\\t<td>43</td>\\r\\n\\t\\t<td>\\xb3\\xb2</td>\\r\\n\\t\\t<td><script>writeWindSpeed(\\'2.7\\', false, \\'\\', \\'\\', 1);</script></td>\\r\\n\\t\\t<td>1013.2</td>\\r\\n\\t</tr>\\r\\n         \\r\\n\\t<tr>\\r\\n\\t\\t<td><a href=\"/weather/observation/currentweather.jsp?tm=2021.6.1.13:00&amp;type=t99&amp;mode=0&amp;reg=100&amp;auto_man=m&amp;stn=192\" >\\xc1\\xf8\\xc1\\xd6</a></td>\\r\\n\\t\\t<td>&nbsp;</td>\\r\\n\\t\\t\\r\\n\\t\\t<td>20 \\xc0\\xcc\\xbb\\xf3</td>\\r\\n\\t\\t<td>&nbsp;</td>\\r\\n\\t\\t<td>&nbsp;</td>\\r\\n\\t\\t<td>26.6</td>\\r\\n\\t\\t<td>14.0</td>\\r\\n\\t\\t<td>26.4</td>\\r\\n\\t\\t<td>&nbsp;</td>\\r\\n\\t\\t\\r\\n\\t\\t<td>46</td>\\r\\n\\t\\t<td>\\xbc\\xad\\xba\\xcf\\xbc\\xad</td>\\r\\n\\t\\t<td><script>writeWindSpeed(\\'1.1\\', false, \\'\\', \\'\\', 1);</script></td>\\r\\n\\t\\t<td>1014.2</td>\\r\\n\\t</tr>\\r\\n  \\r\\n\\t\\t\\r\\n\\t        \\r\\n\\t<tr>\\r\\n\\t\\t<td><a href=\"/weather/observation/currentweather.jsp?tm=2021.6.1.13:00&amp;type=t99&amp;mode=0&amp;reg=100&amp;auto_man=m&amp;stn=155\" >\\xc3\\xa2\\xbf\\xf8</a></td>\\r\\n\\t\\t<td>\\xb1\\xb8\\xb8\\xa7\\xc1\\xb6\\xb1\\xdd</td>\\r\\n\\t\\t\\r\\n\\t\\t<td>20 \\xc0\\xcc\\xbb\\xf3</td>\\r\\n\\t\\t<td>4</td>\\r\\n\\t\\t<td>0</td>\\r\\n\\t\\t<td>25.9</td>\\r\\n\\t\\t<td>10.0</td>\\r\\n\\t\\t<td>24.8</td>\\r\\n\\t\\t<td>&nbsp;</td>\\r\\n\\t\\t\\r\\n\\t\\t<td>37</td>\\r\\n\\t\\t<td>\\xb3\\xb2</td>\\r\\n\\t\\t<td><script>writeWindSpeed(\\'2.5\\', false, \\'\\', \\'\\', 1);</script></td>\\r\\n\\t\\t<td>1014.1</td>\\r\\n\\t</tr>\\r\\n         \\r\\n\\t<tr>\\r\\n\\t\\t<td><a href=\"/weather/observation/currentweather.jsp?tm=2021.6.1.13:00&amp;type=t99&amp;mode=0&amp;reg=100&amp;auto_man=m&amp;stn=232\" >\\xc3\\xb5\\xbe\\xc8</a></td>\\r\\n\\t\\t<td>&nbsp;</td>\\r\\n\\t\\t\\r\\n\\t\\t<td>20 \\xc0\\xcc\\xbb\\xf3</td>\\r\\n\\t\\t<td>&nbsp;</td>\\r\\n\\t\\t<td>&nbsp;</td>\\r\\n\\t\\t<td>24.9</td>\\r\\n\\t\\t<td>14.3</td>\\r\\n\\t\\t<td>25.2</td>\\r\\n\\t\\t<td>&nbsp;</td>\\r\\n\\t\\t\\r\\n\\t\\t<td>52</td>\\r\\n\\t\\t<td>\\xbc\\xad</td>\\r\\n\\t\\t<td><script>writeWindSpeed(\\'2.5\\', false, \\'\\', \\'\\', 1);</script></td>\\r\\n\\t\\t<td>1015.6</td>\\r\\n\\t</tr>\\r\\n         \\r\\n\\t<tr>\\r\\n\\t\\t<td><a href=\"/weather/observation/currentweather.jsp?tm=2021.6.1.13:00&amp;type=t99&amp;mode=0&amp;reg=100&amp;auto_man=m&amp;stn=95\" >\\xc3\\xb6\\xbf\\xf8</a></td>\\r\\n\\t\\t<td>&nbsp;</td>\\r\\n\\t\\t\\r\\n\\t\\t<td>20 \\xc0\\xcc\\xbb\\xf3</td>\\r\\n\\t\\t<td>&nbsp;</td>\\r\\n\\t\\t<td>&nbsp;</td>\\r\\n\\t\\t<td>20.8</td>\\r\\n\\t\\t<td>19.6</td>\\r\\n\\t\\t<td>24.0</td>\\r\\n\\t\\t<td>4.8</td>\\r\\n\\t\\t\\r\\n\\t\\t<td>93</td>\\r\\n\\t\\t<td>\\xbc\\xad\\xb3\\xb2\\xbc\\xad</td>\\r\\n\\t\\t<td><script>writeWindSpeed(\\'1.1\\', false, \\'\\', \\'\\', 1);</script></td>\\r\\n\\t\\t<td>1015.4</td>\\r\\n\\t</tr>\\r\\n         \\r\\n\\t<tr>\\r\\n\\t\\t<td><a href=\"/weather/observation/currentweather.jsp?tm=2021.6.1.13:00&amp;type=t99&amp;mode=0&amp;reg=100&amp;auto_man=m&amp;stn=276\" >\\xc3\\xbb\\xbc\\xdb\\xb1\\xba</a></td>\\r\\n\\t\\t<td>&nbsp;</td>\\r\\n\\t\\t\\r\\n\\t\\t<td>15.3</td>\\r\\n\\t\\t<td>&nbsp;</td>\\r\\n\\t\\t<td>&nbsp;</td>\\r\\n\\t\\t<td>25.0</td>\\r\\n\\t\\t<td>15.3</td>\\r\\n\\t\\t<td>25.6</td>\\r\\n\\t\\t<td>&nbsp;</td>\\r\\n\\t\\t\\r\\n\\t\\t<td>55</td>\\r\\n\\t\\t<td>\\xba\\xcf\\xba\\xcf\\xb5\\xbf</td>\\r\\n\\t\\t<td><script>writeWindSpeed(\\'2.0\\', false, \\'\\', \\'\\', 1);</script></td>\\r\\n\\t\\t<td>1013.4</td>\\r\\n\\t</tr>\\r\\n  \\r\\n\\t\\t\\r\\n\\t        \\r\\n\\t<tr>\\r\\n\\t\\t<td><a href=\"/weather/observation/currentweather.jsp?tm=2021.6.1.13:00&amp;type=t99&amp;mode=0&amp;reg=100&amp;auto_man=m&amp;stn=131\" >\\xc3\\xbb\\xc1\\xd6</a></td>\\r\\n\\t\\t<td>\\xb1\\xb8\\xb8\\xa7\\xb8\\xb9\\xc0\\xbd</td>\\r\\n\\t\\t\\r\\n\\t\\t<td>20 \\xc0\\xcc\\xbb\\xf3</td>\\r\\n\\t\\t<td>6</td>\\r\\n\\t\\t<td>1</td>\\r\\n\\t\\t<td>25.8</td>\\r\\n\\t\\t<td>14.8</td>\\r\\n\\t\\t<td>26.0</td>\\r\\n\\t\\t<td>&nbsp;</td>\\r\\n\\t\\t\\r\\n\\t\\t<td>51</td>\\r\\n\\t\\t<td>\\xbc\\xad\\xba\\xcf\\xbc\\xad</td>\\r\\n\\t\\t<td><script>writeWindSpeed(\\'1.9\\', false, \\'\\', \\'\\', 1);</script></td>\\r\\n\\t\\t<td>1014.8</td>\\r\\n\\t</tr>\\r\\n         \\r\\n\\t<tr>\\r\\n\\t\\t<td><a href=\"/weather/observation/currentweather.jsp?tm=2021.6.1.13:00&amp;type=t99&amp;mode=0&amp;reg=100&amp;auto_man=m&amp;stn=135\" >\\xc3\\xdf\\xc7\\xb3\\xb7\\xc9</a></td>\\r\\n\\t\\t<td>&nbsp;</td>\\r\\n\\t\\t\\r\\n\\t\\t<td>17.1</td>\\r\\n\\t\\t<td>&nbsp;</td>\\r\\n\\t\\t<td>&nbsp;</td>\\r\\n\\t\\t<td>24.2</td>\\r\\n\\t\\t<td>15.1</td>\\r\\n\\t\\t<td>24.9</td>\\r\\n\\t\\t<td>&nbsp;</td>\\r\\n\\t\\t\\r\\n\\t\\t<td>57</td>\\r\\n\\t\\t<td>\\xba\\xcf\\xba\\xcf\\xbc\\xad</td>\\r\\n\\t\\t<td><script>writeWindSpeed(\\'1.8\\', false, \\'\\', \\'\\', 1);</script></td>\\r\\n\\t\\t<td>1013.1</td>\\r\\n\\t</tr>\\r\\n         \\r\\n\\t<tr>\\r\\n\\t\\t<td><a href=\"/weather/observation/currentweather.jsp?tm=2021.6.1.13:00&amp;type=t99&amp;mode=0&amp;reg=100&amp;auto_man=m&amp;stn=101\" >\\xc3\\xe1\\xc3\\xb5</a></td>\\r\\n\\t\\t<td>&nbsp;</td>\\r\\n\\t\\t\\r\\n\\t\\t<td>20 \\xc0\\xcc\\xbb\\xf3</td>\\r\\n\\t\\t<td>&nbsp;</td>\\r\\n\\t\\t<td>&nbsp;</td>\\r\\n\\t\\t<td>21.9</td>\\r\\n\\t\\t<td>15.9</td>\\r\\n\\t\\t<td>23.5</td>\\r\\n\\t\\t<td>2.4</td>\\r\\n\\t\\t\\r\\n\\t\\t<td>69</td>\\r\\n\\t\\t<td>\\xbc\\xad\\xb3\\xb2\\xbc\\xad</td>\\r\\n\\t\\t<td><script>writeWindSpeed(\\'2.1\\', false, \\'\\', \\'\\', 1);</script></td>\\r\\n\\t\\t<td>1014.7</td>\\r\\n\\t</tr>\\r\\n         \\r\\n\\t<tr>\\r\\n\\t\\t<td><a href=\"/weather/observation/currentweather.jsp?tm=2021.6.1.13:00&amp;type=t99&amp;mode=0&amp;reg=100&amp;auto_man=m&amp;stn=127\" >\\xc3\\xe6\\xc1\\xd6</a></td>\\r\\n\\t\\t<td>&nbsp;</td>\\r\\n\\t\\t\\r\\n\\t\\t<td>18.4</td>\\r\\n\\t\\t<td>&nbsp;</td>\\r\\n\\t\\t<td>&nbsp;</td>\\r\\n\\t\\t<td>25.3</td>\\r\\n\\t\\t<td>15.8</td>\\r\\n\\t\\t<td>25.9</td>\\r\\n\\t\\t<td>0.0</td>\\r\\n\\t\\t\\r\\n\\t\\t<td>56</td>\\r\\n\\t\\t<td>\\xbc\\xad</td>\\r\\n\\t\\t<td><script>writeWindSpeed(\\'2.6\\', false, \\'\\', \\'\\', 1);</script></td>\\r\\n\\t\\t<td>1014.2</td>\\r\\n\\t</tr>\\r\\n         \\r\\n\\t<tr>\\r\\n\\t\\t<td><a href=\"/weather/observation/currentweather.jsp?tm=2021.6.1.13:00&amp;type=t99&amp;mode=0&amp;reg=100&amp;auto_man=m&amp;stn=216\" >\\xc5\\xc2\\xb9\\xe9</a></td>\\r\\n\\t\\t<td>&nbsp;</td>\\r\\n\\t\\t\\r\\n\\t\\t<td>19.6</td>\\r\\n\\t\\t<td>&nbsp;</td>\\r\\n\\t\\t<td>&nbsp;</td>\\r\\n\\t\\t<td>23.5</td>\\r\\n\\t\\t<td>10.1</td>\\r\\n\\t\\t<td>23.1</td>\\r\\n\\t\\t<td>&nbsp;</td>\\r\\n\\t\\t\\r\\n\\t\\t<td>43</td>\\r\\n\\t\\t<td>\\xb3\\xb2\\xb3\\xb2\\xbc\\xad</td>\\r\\n\\t\\t<td><script>writeWindSpeed(\\'3.0\\', false, \\'\\', \\'\\', 1);</script></td>\\r\\n\\t\\t<td>1010.5</td>\\r\\n\\t</tr>\\r\\n         \\r\\n\\t<tr>\\r\\n\\t\\t<td><a href=\"/weather/observation/currentweather.jsp?tm=2021.6.1.13:00&amp;type=t99&amp;mode=0&amp;reg=100&amp;auto_man=m&amp;stn=162\" >\\xc5\\xeb\\xbf\\xb5</a></td>\\r\\n\\t\\t<td>&nbsp;</td>\\r\\n\\t\\t\\r\\n\\t\\t<td>18.6</td>\\r\\n\\t\\t<td>&nbsp;</td>\\r\\n\\t\\t<td>&nbsp;</td>\\r\\n\\t\\t<td>26.1</td>\\r\\n\\t\\t<td>12.5</td>\\r\\n\\t\\t<td>25.6</td>\\r\\n\\t\\t<td>&nbsp;</td>\\r\\n\\t\\t\\r\\n\\t\\t<td>43</td>\\r\\n\\t\\t<td>\\xb3\\xb2</td>\\r\\n\\t\\t<td><script>writeWindSpeed(\\'2.5\\', false, \\'\\', \\'\\', 1);</script></td>\\r\\n\\t\\t<td>1014.4</td>\\r\\n\\t</tr>\\r\\n         \\r\\n\\t<tr>\\r\\n\\t\\t<td><a href=\"/weather/observation/currentweather.jsp?tm=2021.6.1.13:00&amp;type=t99&amp;mode=0&amp;reg=100&amp;auto_man=m&amp;stn=99\" >\\xc6\\xc4\\xc1\\xd6</a></td>\\r\\n\\t\\t<td>&nbsp;</td>\\r\\n\\t\\t\\r\\n\\t\\t<td>20 \\xc0\\xcc\\xbb\\xf3</td>\\r\\n\\t\\t<td>&nbsp;</td>\\r\\n\\t\\t<td>&nbsp;</td>\\r\\n\\t\\t<td>20.1</td>\\r\\n\\t\\t<td>16.3</td>\\r\\n\\t\\t<td>22.4</td>\\r\\n\\t\\t<td>3.7</td>\\r\\n\\t\\t\\r\\n\\t\\t<td>79</td>\\r\\n\\t\\t<td>\\xba\\xcf\\xbc\\xad</td>\\r\\n\\t\\t<td><script>writeWindSpeed(\\'1.7\\', false, \\'\\', \\'\\', 1);</script></td>\\r\\n\\t\\t<td>1015.9</td>\\r\\n\\t</tr>\\r\\n  \\r\\n\\t\\t\\r\\n\\t        \\r\\n\\t<tr>\\r\\n\\t\\t<td><a href=\"/weather/observation/currentweather.jsp?tm=2021.6.1.13:00&amp;type=t99&amp;mode=0&amp;reg=100&amp;auto_man=m&amp;stn=138\" >\\xc6\\xf7\\xc7\\xd7</a></td>\\r\\n\\t\\t<td>\\xb1\\xb8\\xb8\\xa7\\xb8\\xb9\\xc0\\xbd</td>\\r\\n\\t\\t\\r\\n\\t\\t<td>20 \\xc0\\xcc\\xbb\\xf3</td>\\r\\n\\t\\t<td>7</td>\\r\\n\\t\\t<td>0</td>\\r\\n\\t\\t<td>23.7</td>\\r\\n\\t\\t<td>12.6</td>\\r\\n\\t\\t<td>23.9</td>\\r\\n\\t\\t<td>&nbsp;</td>\\r\\n\\t\\t\\r\\n\\t\\t<td>50</td>\\r\\n\\t\\t<td>\\xb5\\xbf\\xba\\xcf\\xb5\\xbf</td>\\r\\n\\t\\t<td><script>writeWindSpeed(\\'3.2\\', false, \\'\\', \\'\\', 1);</script></td>\\r\\n\\t\\t<td>1014.6</td>\\r\\n\\t</tr>\\r\\n         \\r\\n\\t<tr>\\r\\n\\t\\t<td><a href=\"/weather/observation/currentweather.jsp?tm=2021.6.1.13:00&amp;type=t99&amp;mode=0&amp;reg=100&amp;auto_man=m&amp;stn=264\" >\\xc7\\xd4\\xbe\\xe7\\xb1\\xba</a></td>\\r\\n\\t\\t<td>&nbsp;</td>\\r\\n\\t\\t\\r\\n\\t\\t<td>20 \\xc0\\xcc\\xbb\\xf3</td>\\r\\n\\t\\t<td>&nbsp;</td>\\r\\n\\t\\t<td>&nbsp;</td>\\r\\n\\t\\t<td>26.4</td>\\r\\n\\t\\t<td>12.0</td>\\r\\n\\t\\t<td>25.7</td>\\r\\n\\t\\t<td>&nbsp;</td>\\r\\n\\t\\t\\r\\n\\t\\t<td>41</td>\\r\\n\\t\\t<td>\\xba\\xcf\\xba\\xcf\\xb5\\xbf</td>\\r\\n\\t\\t<td><script>writeWindSpeed(\\'2.1\\', false, \\'\\', \\'\\', 1);</script></td>\\r\\n\\t\\t<td>1013.4</td>\\r\\n\\t</tr>\\r\\n         \\r\\n\\t<tr>\\r\\n\\t\\t<td><a href=\"/weather/observation/currentweather.jsp?tm=2021.6.1.13:00&amp;type=t99&amp;mode=0&amp;reg=100&amp;auto_man=m&amp;stn=285\" >\\xc7\\xd5\\xc3\\xb5</a></td>\\r\\n\\t\\t<td>&nbsp;</td>\\r\\n\\t\\t\\r\\n\\t\\t<td>19.4</td>\\r\\n\\t\\t<td>&nbsp;</td>\\r\\n\\t\\t<td>&nbsp;</td>\\r\\n\\t\\t<td>26.5</td>\\r\\n\\t\\t<td>14.2</td>\\r\\n\\t\\t<td>26.3</td>\\r\\n\\t\\t<td>&nbsp;</td>\\r\\n\\t\\t\\r\\n\\t\\t<td>47</td>\\r\\n\\t\\t<td>\\xb3\\xb2</td>\\r\\n\\t\\t<td><script>writeWindSpeed(\\'1.0\\', false, \\'\\', \\'\\', 1);</script></td>\\r\\n\\t\\t<td>1013.7</td>\\r\\n\\t</tr>\\r\\n         \\r\\n\\t<tr>\\r\\n\\t\\t<td><a href=\"/weather/observation/currentweather.jsp?tm=2021.6.1.13:00&amp;type=t99&amp;mode=0&amp;reg=100&amp;auto_man=m&amp;stn=261\" >\\xc7\\xd8\\xb3\\xb2</a></td>\\r\\n\\t\\t<td>&nbsp;</td>\\r\\n\\t\\t\\r\\n\\t\\t<td>19.7</td>\\r\\n\\t\\t<td>&nbsp;</td>\\r\\n\\t\\t<td>&nbsp;</td>\\r\\n\\t\\t<td>26.6</td>\\r\\n\\t\\t<td>12.2</td>\\r\\n\\t\\t<td>25.9</td>\\r\\n\\t\\t<td>&nbsp;</td>\\r\\n\\t\\t\\r\\n\\t\\t<td>41</td>\\r\\n\\t\\t<td>\\xb5\\xbf\\xb3\\xb2\\xb5\\xbf</td>\\r\\n\\t\\t<td><script>writeWindSpeed(\\'5.3\\', false, \\'\\', \\'\\', 1);</script></td>\\r\\n\\t\\t<td>1013.8</td>\\r\\n\\t</tr>\\r\\n         \\r\\n\\t<tr>\\r\\n\\t\\t<td><a href=\"/weather/observation/currentweather.jsp?tm=2021.6.1.13:00&amp;type=t99&amp;mode=0&amp;reg=100&amp;auto_man=m&amp;stn=177\" >\\xc8\\xab\\xbc\\xba</a></td>\\r\\n\\t\\t<td>\\xb1\\xb8\\xb8\\xa7\\xb8\\xb9\\xc0\\xbd</td>\\r\\n\\t\\t\\r\\n\\t\\t<td>20 \\xc0\\xcc\\xbb\\xf3</td>\\r\\n\\t\\t<td>7</td>\\r\\n\\t\\t<td>0</td>\\r\\n\\t\\t<td>25.2</td>\\r\\n\\t\\t<td>13.0</td>\\r\\n\\t\\t<td>25.1</td>\\r\\n\\t\\t<td>&nbsp;</td>\\r\\n\\t\\t\\r\\n\\t\\t<td>47</td>\\r\\n\\t\\t<td>\\xbc\\xad\\xb3\\xb2\\xbc\\xad</td>\\r\\n\\t\\t<td><script>writeWindSpeed(\\'2.9\\', false, \\'\\', \\'\\', 1);</script></td>\\r\\n\\t\\t<td>1015.0</td>\\r\\n\\t</tr>\\r\\n         \\r\\n\\t<tr>\\r\\n\\t\\t<td><a href=\"/weather/observation/currentweather.jsp?tm=2021.6.1.13:00&amp;type=t99&amp;mode=0&amp;reg=100&amp;auto_man=m&amp;stn=212\" >\\xc8\\xab\\xc3\\xb5</a></td>\\r\\n\\t\\t<td>&nbsp;</td>\\r\\n\\t\\t\\r\\n\\t\\t<td>20 \\xc0\\xcc\\xbb\\xf3</td>\\r\\n\\t\\t<td>&nbsp;</td>\\r\\n\\t\\t<td>&nbsp;</td>\\r\\n\\t\\t<td>23.5</td>\\r\\n\\t\\t<td>14.4</td>\\r\\n\\t\\t<td>24.2</td>\\r\\n\\t\\t<td>0.8</td>\\r\\n\\t\\t\\r\\n\\t\\t<td>57</td>\\r\\n\\t\\t<td>\\xbc\\xad</td>\\r\\n\\t\\t<td><script>writeWindSpeed(\\'3.0\\', false, \\'\\', \\'\\', 1);</script></td>\\r\\n\\t\\t<td>1014.2</td>\\r\\n\\t</tr>\\r\\n  \\r\\n\\t\\t\\r\\n\\t        \\r\\n\\t<tr>\\r\\n\\t\\t<td><a href=\"/weather/observation/currentweather.jsp?tm=2021.6.1.13:00&amp;type=t99&amp;mode=0&amp;reg=100&amp;auto_man=m&amp;stn=169\" >\\xc8\\xe6\\xbb\\xea\\xb5\\xb5</a></td>\\r\\n\\t\\t<td>\\xb8\\xbc\\xc0\\xbd</td>\\r\\n\\t\\t\\r\\n\\t\\t<td>20 \\xc0\\xcc\\xbb\\xf3</td>\\r\\n\\t\\t<td>0</td>\\r\\n\\t\\t<td>0</td>\\r\\n\\t\\t<td>24.9</td>\\r\\n\\t\\t<td>17.1</td>\\r\\n\\t\\t<td>26.0</td>\\r\\n\\t\\t<td>&nbsp;</td>\\r\\n\\t\\t\\r\\n\\t\\t<td>62</td>\\r\\n\\t\\t<td>\\xb3\\xb2</td>\\r\\n\\t\\t<td><script>writeWindSpeed(\\'4.3\\', false, \\'\\', \\'\\', 1);</script></td>\\r\\n\\t\\t<td>1013.4</td>\\r\\n\\t</tr>\\r\\n \\r\\n\\t</tbody>\\r\\n</table>\\r\\n\\r\\n\\r\\n\\r\\n    <!-- content :End -->\\r\\n    \\t<script>\\r\\n\\t\\tfunction weatherOptionChanged() {\\r\\n\\t\\t\\twindow.location.reload();\\r\\n\\t\\t} \\r\\n\\t</script>\\r\\n\\n\\t\\t\\t\\t\\n\\t\\t\\t\\t\\t\\n\\t\\t\\t\\t\\t\\t\\n\\t\\t\\t\\t\\t\\t\\r\\n\\r\\n\\r\\n \\n\\t\\t\\t\\t\\t\\n\\t\\t\\t\\t\\n\\t\\t\\t\\t<!-- content :End -->\\n\\t\\t\\t\\t</div>\\n\\t\\t\\t</div>\\n\\t\\t\\t\\n\\t\\t\\t\\t\\r\\n\\r\\n<div id=\"relation\" >\\r\\n\\t<h3><img src=\"/images/weather/common/tl_quick.gif\" alt=\"\\xb9\\xd9\\xb7\\xce\\xb0\\xa1\\xb1\\xe2\\xbc\\xad\\xba\\xf1\\xbd\\xba\" /></h3>\\r\\n\\t<ul class=\"list\" id=\"relation_list\">\\r\\n\\t\\t<li class=\"sty1\"><a href=\"http://www.weather.go.kr/weather/observation/currentweather.jsp\"><img src=\"/images/weather/common/btn_quick1.gif\" alt=\"\\xc7\\xf6\\xc0\\xe7\\xb3\\xaf\\xbe\\xbe\" /></a></li>\\r\\n\\t\\t<li><a href=\"http://www.weather.go.kr/weather/observation/past_cal.jsp\"><img src=\"/images/weather/common/btn_quick2.gif\" alt=\"\\xc1\\xf6\\xb3\\xad\\xb3\\xaf\\xbe\\xbe\" /></a></li>\\r\\n\\t\\t<li class=\"sty1\"><a href=\"http://www.weather.go.kr/weather/lifenindustry/life_jisu.jsp\"><img src=\"/images/weather/common/btn_quick9.gif\" alt=\"\\xbb\\xfd\\xc8\\xb0\\xb0\\xfa\\xbb\\xea\\xbe\\xf7\" /></a></li>\\r\\n\\t\\t<li><a href=\"http://www.weather.go.kr/mini/marine/marine_integrate.jsp\"><img src=\"/images/weather/common/btn_quick4.gif\" alt=\"\\xb9\\xd9\\xb4\\xd9\\xb3\\xaf\\xbe\\xbe\" /></a></li>\\r\\n\\t\\t<li class=\"sty1\"><a href=\"http://www.weather.go.kr/weather/forecast/mountain_01.jsp\"><img src=\"/images/weather/common/btn_quick5.gif\" alt=\"\\xbb\\xea\\xbe\\xc7\\xb3\\xaf\\xbe\\xbe\" /></a></li>\\r\\n\\t\\t<li><a href=\"http://www.weather.go.kr/weather/earthquake_volcano/report.jsp\"><img src=\"/images/weather/common/btn_quick6.gif\" alt=\"\\xc1\\xf6\\xc1\\xf8/\\xc7\\xd8\\xc0\\xcf\" /></a></li>\\r\\n\\t\\t<li class=\"sty1\"><a href=\"http://www.weather.go.kr/weather/forecast/weekend.jsp\"><img src=\"/images/weather/common/btn_quick3.gif\" alt=\"\\xc1\\xd6\\xb8\\xbb\\xb3\\xaf\\xbe\\xbe\" /></a></li>\\r\\n\\t\\t<li><a href=\"http://www.weather.go.kr/weather/world/cityweather.jsp\"><img src=\"/images/weather/common/btn_quick8.gif\" alt=\"\\xbc\\xbc\\xb0\\xe8\\xb3\\xaf\\xbe\\xbe\" /></a></li>\\r\\n\\t\\t<li class=\"sty1\"><a href=\"http://amo.kma.go.kr/new/html/main/main.jsp\" target=\"_blank\" title=\"\\xbb\\xf5\\xc3\\xa2\\xc0\\xb8\\xb7\\xce \\xbf\\xad\\xb8\\xb3\\xb4\\xcf\\xb4\\xd9.\"><img src=\"/images/weather/common/btn_quick7.gif\" alt=\"\\xb0\\xf8\\xc7\\xd7\\xb3\\xaf\\xbe\\xbe\" /></a></li>\\r\\n\\t\\t<li><a href=\"http://www.weather.go.kr/weather/warning/wtouchOn.jsp\"><img src=\"/images/weather/common/btn_quick10.gif\" alt=\"\\xb3\\xaf\\xbe\\xbeON\" /></a></li>\\r\\n\\t</ul>\\r\\n\\t<ul class=\"relation_new\">\\r\\n\\t\\t<!--<li><a href=\"http://typ.kma.go.kr/\" title=\"\\xbb\\xf5\\xc3\\xa2\\xc0\\xb8\\xb7\\xce \\xbf\\xad\\xb8\\xb3\\xb4\\xcf\\xb4\\xd9\" target=\"_blank\"><img src=\"/images/weather/common/img_relation_banner_05.jpg\" alt=\"\\xb1\\xb9\\xb0\\xa1\\xc5\\xc2\\xc7\\xb3\\xbc\\xbe\\xc5\\xcd\" /></a></li>-->\\r\\n\\t\\t<li><a href=\"http://www.climate.go.kr\" title=\"\\xbb\\xf5\\xc3\\xa2\\xc0\\xb8\\xb7\\xce \\xbf\\xad\\xb8\\xb3\\xb4\\xcf\\xb4\\xd9\" target=\"_blank\"><img src=\"/images/weather/common/img_relation_banner_06.jpg\" alt=\"\\xb1\\xe2\\xc8\\xc4\\xc1\\xa4\\xba\\xb8\\xc6\\xf7\\xc5\\xd0\" /></a></li>\\r\\n\\t\\t<li><a href=\"http://data.kma.go.kr\" title=\"\\xbb\\xf5\\xc3\\xa2\\xc0\\xb8\\xb7\\xce \\xbf\\xad\\xb8\\xb3\\xb4\\xcf\\xb4\\xd9\" target=\"_blank\"><img src=\"/images/main/banner_climate_center_4.jpg\" alt=\"\\xb1\\xe2\\xbb\\xf3\\xc0\\xda\\xb7\\xe1\\xb0\\xb3\\xb9\\xe6\\xc6\\xf7\\xc5\\xd0\" /></a></li>\\r\\n\\t\\t<li><a href=\"http://nmsc.kma.go.kr\" title=\"\\xbb\\xf5\\xc3\\xa2\\xc0\\xb8\\xb7\\xce \\xbf\\xad\\xb8\\xb3\\xb4\\xcf\\xb4\\xd9\" target=\"_blank\"><img src=\"/images/weather/common/img_relation_banner_07.jpg\" alt=\"\\xb1\\xb9\\xb0\\xa1\\xb1\\xe2\\xbb\\xf3\\xc0\\xa7\\xbc\\xba\\xbc\\xbe\\xc5\\xcd\" /></a></li>\\r\\n\\t\\t<!-- <li><a href=\"http://www.weather.go.kr/wid/eastasia/kor/weather/eastasia_weather.jsp\" title=\"\\xbb\\xf5\\xc3\\xa2\\xc0\\xb8\\xb7\\xce \\xbf\\xad\\xb8\\xb3\\xb4\\xcf\\xb4\\xd9\" target=\"_blank\"><img src=\"/images/weather/common/img_relation_new_1.gif\" alt=\"\\xc7\\xd1\\xc1\\xdf\\xc0\\xcf \\xb3\\xaf\\xbe\\xbe\\xc1\\xa4\\xba\\xb8 : \\xb5\\xbf\\xba\\xcf\\xbe\\xc6 \\xb3\\xaf\\xbe\\xbe\\xb8\\xa6 \\xc7\\xd1\\xb4\\xab\\xbf\\xa1\" /></a></li> -->\\r\\n\\t\\t<li><a href=\"http://radar.kma.go.kr\" title=\"\\xbb\\xf5\\xc3\\xa2\\xc0\\xb8\\xb7\\xce \\xbf\\xad\\xb8\\xb3\\xb4\\xcf\\xb4\\xd9\" target=\"_blank\"><img src=\"/images/weather/common/img_relation_banner_08.jpg\" alt=\"\\xb1\\xe2\\xbb\\xf3\\xb7\\xb9\\xc0\\xcc\\xb4\\xf5\\xbc\\xbe\\xc5\\xcd\" /></a></li>\\r\\n\\t</ul>\\r\\n    \\r\\n</div>\\r\\n\\n\\t\\t\\t\\n\\t\\t\\t\\n\\t\\t\\t\\r\\n</div>\\r\\n\\t<hr />\\r\\n\\t<div class=\"footer-bg\">\\r\\n        <div class=\"floor1\"></div>\\r\\n        <div class=\"floor2\"></div>\\r\\n      </div>\\r\\n      <div id=\"footer\">\\r\\n        <a id=\"gofooter\"></a>\\r\\n        <div class=\"wrap_site_link\">\\r\\n          <h3 class=\"blind\">\\xba\\xce\\xbc\\xd3\\xbb\\xe7\\xc0\\xcc\\xc6\\xae \\xbe\\xc8\\xb3\\xbb</h3>\\r\\n          <fieldset class=\"sitelink\">\\r\\n            <legend class=\"blind\">\\xb0\\xfc\\xb7\\xc3\\xbb\\xe7\\xc0\\xcc\\xc6\\xae \\xb8\\xb5\\xc5\\xa9</legend>\\r\\n            <form name=\"sitelink1\" method=\"get\" action=\"/sitelink.jsp\" target=\"_blank\">\\r\\n              <label for=\"sitelink1\" class=\"blind\">\\xb1\\xe2\\xbb\\xf3\\xc3\\xbb\\xbc\\xd2\\xbc\\xd3\\xb1\\xe2\\xb0\\xfc \\xb8\\xb5\\xc5\\xa9</label>\\r\\n              <select id=\"sitelink1\" name=\"link\">\\r\\n                <option label=\"\\xb1\\xe2\\xbb\\xf3\\xc3\\xbb\\xbc\\xd2\\xbc\\xd3\\xb1\\xe2\\xb0\\xfc\" value=\"\" selected=\"selected\">\\xb1\\xe2\\xbb\\xf3\\xc3\\xbb\\xbc\\xd2\\xbc\\xd3\\xb1\\xe2\\xb0\\xfc</option>\\r\\n\\t\\t\\t\\t\\t<option value=\"\\xbc\\xf6\\xb5\\xb5\\xb1\\xc7\\xb1\\xe2\\xbb\\xf3\\xc3\\xbb\">\\xbc\\xf6\\xb5\\xb5\\xb1\\xc7\\xb1\\xe2\\xbb\\xf3\\xc3\\xbb</option>\\r\\n\\t\\t\\t\\t\\t<option value=\"\\xba\\xce\\xbb\\xea\\xc1\\xf6\\xb9\\xe6\\xb1\\xe2\\xbb\\xf3\\xc3\\xbb\">\\xba\\xce\\xbb\\xea\\xc1\\xf6\\xb9\\xe6\\xb1\\xe2\\xbb\\xf3\\xc3\\xbb</option>\\r\\n\\t\\t\\t\\t\\t<option value=\"\\xb1\\xa4\\xc1\\xd6\\xc1\\xf6\\xb9\\xe6\\xb1\\xe2\\xbb\\xf3\\xc3\\xbb\">\\xb1\\xa4\\xc1\\xd6\\xc1\\xf6\\xb9\\xe6\\xb1\\xe2\\xbb\\xf3\\xc3\\xbb</option>\\r\\n\\t\\t\\t\\t\\t<option value=\"\\xb0\\xad\\xbf\\xf8\\xc1\\xf6\\xb9\\xe6\\xb1\\xe2\\xbb\\xf3\\xc3\\xbb\">\\xb0\\xad\\xbf\\xf8\\xc1\\xf6\\xb9\\xe6\\xb1\\xe2\\xbb\\xf3\\xc3\\xbb</option>\\r\\n\\t\\t\\t\\t\\t<option value=\"\\xb4\\xeb\\xc0\\xfc\\xc1\\xf6\\xb9\\xe6\\xb1\\xe2\\xbb\\xf3\\xc3\\xbb\">\\xb4\\xeb\\xc0\\xfc\\xc1\\xf6\\xb9\\xe6\\xb1\\xe2\\xbb\\xf3\\xc3\\xbb</option>\\r\\n\\t\\t\\t\\t\\t<option value=\"\\xb4\\xeb\\xb1\\xb8\\xc1\\xf6\\xb9\\xe6\\xb1\\xe2\\xbb\\xf3\\xc3\\xbb\">\\xb4\\xeb\\xb1\\xb8\\xc1\\xf6\\xb9\\xe6\\xb1\\xe2\\xbb\\xf3\\xc3\\xbb</option>\\t\\t\\t\\t\\t\\r\\n\\t\\t\\t\\t\\t<option value=\"\\xc1\\xa6\\xc1\\xd6\\xc1\\xf6\\xb9\\xe6\\xb1\\xe2\\xbb\\xf3\\xc3\\xbb\">\\xc1\\xa6\\xc1\\xd6\\xc1\\xf6\\xb9\\xe6\\xb1\\xe2\\xbb\\xf3\\xc3\\xbb</option>\\r\\n\\t\\t\\t\\t\\t<option value=\"\\xc0\\xfc\\xc1\\xd6\\xb1\\xe2\\xbb\\xf3\\xc1\\xf6\\xc3\\xbb\">\\xc0\\xfc\\xc1\\xd6\\xb1\\xe2\\xbb\\xf3\\xc1\\xf6\\xc3\\xbb</option>\\r\\n\\t\\t\\t\\t\\t<option value=\"\\xc3\\xbb\\xc1\\xd6\\xb1\\xe2\\xbb\\xf3\\xc1\\xf6\\xc3\\xbb\">\\xc3\\xbb\\xc1\\xd6\\xb1\\xe2\\xbb\\xf3\\xc1\\xf6\\xc3\\xbb</option>\\t\\t\\r\\n\\t\\t\\t\\t\\t<option value=\"\\xb1\\xe2\\xbb\\xf3\\xb1\\xe2\\xc8\\xc4\\xc0\\xce\\xc0\\xe7\\xb0\\xb3\\xb9\\xdf\\xbf\\xf8\">\\xb1\\xe2\\xbb\\xf3\\xb1\\xe2\\xc8\\xc4\\xc0\\xce\\xc0\\xe7\\xb0\\xb3\\xb9\\xdf\\xbf\\xf8</option>\\t\\t\\r\\n\\t\\t\\t\\t\\t<option value=\"\\xb1\\xb9\\xb0\\xa1\\xb1\\xe2\\xbb\\xf3\\xc0\\xa7\\xbc\\xba\\xbc\\xbe\\xc5\\xcd\">\\xb1\\xb9\\xb0\\xa1\\xb1\\xe2\\xbb\\xf3\\xc0\\xa7\\xbc\\xba\\xbc\\xbe\\xc5\\xcd</option>\\r\\n\\t\\t\\t\\t\\t<option value=\"\\xb1\\xe2\\xbb\\xf3\\xb7\\xb9\\xc0\\xcc\\xb4\\xf5\\xbc\\xbe\\xc5\\xcd\">\\xb1\\xe2\\xbb\\xf3\\xb7\\xb9\\xc0\\xcc\\xb4\\xf5\\xbc\\xbe\\xc5\\xcd</option>\\r\\n\\t\\t\\t\\t\\t<option value=\"\\xb1\\xb9\\xb8\\xb3\\xb1\\xe2\\xbb\\xf3\\xb0\\xfa\\xc7\\xd0\\xbf\\xf8\">\\xb1\\xb9\\xb8\\xb3\\xb1\\xe2\\xbb\\xf3\\xb0\\xfa\\xc7\\xd0\\xbf\\xf8</option>\\t\\r\\n\\t\\t\\t\\t\\t<option value=\"\\xc7\\xd7\\xb0\\xf8\\xb1\\xe2\\xbb\\xf3\\xc3\\xbb\">\\xc7\\xd7\\xb0\\xf8\\xb1\\xe2\\xbb\\xf3\\xc3\\xbb</option>\\t\\t\\t\\t\\t\\t\\t\\t\\t\\r\\n\\t\\t\\t\\t\\t<!--<option value=\"\\xb1\\xb9\\xb0\\xa1\\xc5\\xc2\\xc7\\xb3\\xbc\\xbe\\xc5\\xcd\">\\xb1\\xb9\\xb0\\xa1\\xc5\\xc2\\xc7\\xb3\\xbc\\xbe\\xc5\\xcd</option>-->\\r\\n\\t\\t\\t\\t\\t<option value=\"\\xb1\\xb9\\xb0\\xa1\\xb1\\xe2\\xbb\\xf3\\xbd\\xb4\\xc6\\xdb\\xc4\\xc4\\xc7\\xbb\\xc5\\xcd\\xbc\\xbe\\xc5\\xcd\">\\xb1\\xb9\\xb0\\xa1\\xb1\\xe2\\xbb\\xf3\\xbd\\xb4\\xc6\\xdb\\xc4\\xc4\\xc7\\xbb\\xc5\\xcd\\xbc\\xbe\\xc5\\xcd</option>\\r\\n              <input type=\"image\" src=\"/home/images/btn_move2.gif\" title=\"\\xbc\\xb1\\xc5\\xc3\\xc7\\xd1 \\xc8\\xa8\\xc6\\xe4\\xc0\\xcc\\xc1\\xf6\\xb7\\xce \\xc0\\xcc\\xb5\\xbf \\xbb\\xf5\\xc3\\xa2\\xbf\\xa1\\xbc\\xad \\xbf\\xad\\xb8\\xb2\" alt=\"\\xc0\\xcc\\xb5\\xbf\"></form>\\r\\n            <form name=\"sitelink2\" method=\"get\" action=\"/sitelink.jsp\" target=\"_blank\">\\r\\n              <label for=\"sitelink2\" class=\"blind\">\\xc1\\xd6\\xbf\\xe4\\xc7\\xe0\\xc1\\xa4\\xb1\\xe2\\xb0\\xfc \\xb9\\xd9\\xb7\\xce\\xb0\\xa1\\xb1\\xe2</label>\\r\\n              <select id=\"sitelink2\" name=\"link\">\\r\\n                <option label=\"\\xc1\\xd6\\xbf\\xe4\\xc7\\xe0\\xc1\\xa4\\xb1\\xe2\\xb0\\xfc\" value=\"\" selected=\"selected\">\\xc1\\xd6\\xbf\\xe4\\xc7\\xe0\\xc1\\xa4\\xb1\\xe2\\xb0\\xfc</option>\\r\\n                <option value=\"\\xc3\\xbb\\xbf\\xcd\\xb4\\xeb\">\\xc3\\xbb\\xbf\\xcd\\xb4\\xeb</option>\\r\\n                <option value=\"\\xb1\\xb9\\xb9\\xab\\xc3\\xd1\\xb8\\xae\\xbd\\xc7\">\\xb1\\xb9\\xb9\\xab\\xc3\\xd1\\xb8\\xae\\xbd\\xc7</option>\\r\\n                <option value=\"\\xb0\\xa8\\xbb\\xe7\\xbf\\xf8\">\\xb0\\xa8\\xbb\\xe7\\xbf\\xf8</option>\\r\\n                <option value=\"\\xb1\\xb9\\xb0\\xa1\\xc1\\xa4\\xba\\xb8\\xbf\\xf8\">\\xb1\\xb9\\xb0\\xa1\\xc1\\xa4\\xba\\xb8\\xbf\\xf8</option>\\r\\n                <option value=\"\\xb9\\xe6\\xbc\\xdb\\xc5\\xeb\\xbd\\xc5\\xc0\\xa7\\xbf\\xf8\\xc8\\xb8\">\\xb9\\xe6\\xbc\\xdb\\xc5\\xeb\\xbd\\xc5\\xc0\\xa7\\xbf\\xf8\\xc8\\xb8</option>\\r\\n                <option value=\"\\xb1\\xb9\\xb0\\xa1\\xc0\\xce\\xb1\\xc7\\xc0\\xa7\\xbf\\xf8\\xc8\\xb8\">\\xb1\\xb9\\xb0\\xa1\\xc0\\xce\\xb1\\xc7\\xc0\\xa7\\xbf\\xf8\\xc8\\xb8</option>\\r\\n                <option value=\"\\xb0\\xf8\\xc1\\xa4\\xb0\\xc5\\xb7\\xa1\\xc0\\xa7\\xbf\\xf8\\xc8\\xb8\">\\xb0\\xf8\\xc1\\xa4\\xb0\\xc5\\xb7\\xa1\\xc0\\xa7\\xbf\\xf8\\xc8\\xb8</option>\\r\\n                <option value=\"\\xb1\\xdd\\xc0\\xb6\\xc0\\xa7\\xbf\\xf8\\xc8\\xb8\">\\xb1\\xdd\\xc0\\xb6\\xc0\\xa7\\xbf\\xf8\\xc8\\xb8</option>\\r\\n                <option value=\"\\xb1\\xb9\\xb9\\xce\\xb1\\xc7\\xc0\\xcd\\xc0\\xa7\\xbf\\xf8\\xc8\\xb8\">\\xb1\\xb9\\xb9\\xce\\xb1\\xc7\\xc0\\xcd\\xc0\\xa7\\xbf\\xf8\\xc8\\xb8</option>\\r\\n                <option value=\"\\xb1\\xb9\\xc8\\xb8\\xbb\\xe7\\xb9\\xab\\xc3\\xb3\">\\xb1\\xb9\\xc8\\xb8\\xbb\\xe7\\xb9\\xab\\xc3\\xb3</option>\\r\\n                <option value=\"\" disabled=\"disabled\">18\\xba\\xce-----------------&gt;</option>\\r\\n                <option value=\"\\xb1\\xe2\\xc8\\xb9\\xc0\\xe7\\xc1\\xa4\\xba\\xce\">\\xb1\\xe2\\xc8\\xb9\\xc0\\xe7\\xc1\\xa4\\xba\\xce</option>\\r\\n                <option value=\"\\xb0\\xfa\\xc7\\xd0\\xb1\\xe2\\xbc\\xfa\\xc1\\xa4\\xba\\xb8\\xc5\\xeb\\xbd\\xc5\\xba\\xce\">\\xb0\\xfa\\xc7\\xd0\\xb1\\xe2\\xbc\\xfa\\xc1\\xa4\\xba\\xb8\\xc5\\xeb\\xbd\\xc5\\xba\\xce</option>\\r\\n                <option value=\"\\xb1\\xb3\\xc0\\xb0\\xba\\xce\">\\xb1\\xb3\\xc0\\xb0\\xba\\xce</option>\\r\\n                <option value=\"\\xbf\\xdc\\xb1\\xb3\\xba\\xce\">\\xbf\\xdc\\xb1\\xb3\\xba\\xce</option>\\r\\n                <option value=\"\\xc5\\xeb\\xc0\\xcf\\xba\\xce\">\\xc5\\xeb\\xc0\\xcf\\xba\\xce</option>\\r\\n                <option value=\"\\xb9\\xfd\\xb9\\xab\\xba\\xce\">\\xb9\\xfd\\xb9\\xab\\xba\\xce</option>\\r\\n                <option value=\"\\xb1\\xb9\\xb9\\xe6\\xba\\xce\">\\xb1\\xb9\\xb9\\xe6\\xba\\xce</option>\\r\\n                <option value=\"\\xc7\\xe0\\xc1\\xa4\\xbe\\xc8\\xc0\\xfc\\xba\\xce\">\\xc7\\xe0\\xc1\\xa4\\xbe\\xc8\\xc0\\xfc\\xba\\xce</option>\\r\\n                <option value=\"\\xb9\\xae\\xc8\\xad\\xc3\\xbc\\xc0\\xb0\\xb0\\xfc\\xb1\\xa4\\xba\\xce\">\\xb9\\xae\\xc8\\xad\\xc3\\xbc\\xc0\\xb0\\xb0\\xfc\\xb1\\xa4\\xba\\xce</option>\\r\\n                <option value=\"\\xb3\\xf3\\xb8\\xb2\\xc3\\xe0\\xbb\\xea\\xbd\\xc4\\xc7\\xb0\\xba\\xce\">\\xb3\\xf3\\xb8\\xb2\\xc3\\xe0\\xbb\\xea\\xbd\\xc4\\xc7\\xb0\\xba\\xce</option>\\r\\n                <option value=\"\\xbb\\xea\\xbe\\xf7\\xc5\\xeb\\xbb\\xf3\\xc0\\xda\\xbf\\xf8\\xba\\xce\">\\xbb\\xea\\xbe\\xf7\\xc5\\xeb\\xbb\\xf3\\xc0\\xda\\xbf\\xf8\\xba\\xce</option>\\r\\n                <option value=\"\\xba\\xb8\\xb0\\xc7\\xba\\xb9\\xc1\\xf6\\xba\\xce\">\\xba\\xb8\\xb0\\xc7\\xba\\xb9\\xc1\\xf6\\xba\\xce</option>\\r\\n                <option value=\"\\xc8\\xaf\\xb0\\xe6\\xba\\xce\">\\xc8\\xaf\\xb0\\xe6\\xba\\xce</option>\\r\\n                <option value=\"\\xb0\\xed\\xbf\\xeb\\xb3\\xeb\\xb5\\xbf\\xba\\xce\">\\xb0\\xed\\xbf\\xeb\\xb3\\xeb\\xb5\\xbf\\xba\\xce</option>\\r\\n                <option value=\"\\xbf\\xa9\\xbc\\xba\\xb0\\xa1\\xc1\\xb7\\xba\\xce\">\\xbf\\xa9\\xbc\\xba\\xb0\\xa1\\xc1\\xb7\\xba\\xce</option>\\r\\n                <option value=\"\\xb1\\xb9\\xc5\\xe4\\xb1\\xb3\\xc5\\xeb\\xba\\xce\">\\xb1\\xb9\\xc5\\xe4\\xb1\\xb3\\xc5\\xeb\\xba\\xce</option>\\r\\n                <option value=\"\\xc7\\xd8\\xbe\\xe7\\xbc\\xf6\\xbb\\xea\\xba\\xce\">\\xc7\\xd8\\xbe\\xe7\\xbc\\xf6\\xbb\\xea\\xba\\xce</option>\\r\\n                <option value=\"\\xc1\\xdf\\xbc\\xd2\\xba\\xa5\\xc3\\xb3\\xb1\\xe2\\xbe\\xf7\\xba\\xce\">\\xc1\\xdf\\xbc\\xd2\\xba\\xa5\\xc3\\xb3\\xb1\\xe2\\xbe\\xf7\\xba\\xce</option>\\r\\n                <option value=\"\" disabled=\"disabled\">4\\xc3\\xb3------------------&gt;</option>\\r\\n                <option value=\"\\xc0\\xce\\xbb\\xe7\\xc7\\xf5\\xbd\\xc5\\xc3\\xb3\">\\xc0\\xce\\xbb\\xe7\\xc7\\xf5\\xbd\\xc5\\xc3\\xb3</option>\\r\\n                <option value=\"\\xb9\\xfd\\xc1\\xa6\\xc3\\xb3\">\\xb9\\xfd\\xc1\\xa6\\xc3\\xb3</option>\\r\\n                <option value=\"\\xb1\\xb9\\xb0\\xa1\\xba\\xb8\\xc8\\xc6\\xc3\\xb3\">\\xb1\\xb9\\xb0\\xa1\\xba\\xb8\\xc8\\xc6\\xc3\\xb3</option>\\r\\n                <option value=\"\\xbd\\xc4\\xc7\\xb0\\xc0\\xc7\\xbe\\xe0\\xc7\\xb0\\xbe\\xc8\\xc0\\xfc\\xc3\\xb3\">\\xbd\\xc4\\xc7\\xb0\\xc0\\xc7\\xbe\\xe0\\xc7\\xb0\\xbe\\xc8\\xc0\\xfc\\xc3\\xb3</option>\\r\\n                <option value=\"\" disabled=\"disabled\">17\\xc3\\xbb-----------------&gt;</option>\\r\\n                <option value=\"\\xb1\\xb9\\xbc\\xbc\\xc3\\xbb\">\\xb1\\xb9\\xbc\\xbc\\xc3\\xbb</option>\\r\\n                <option value=\"\\xb0\\xfc\\xbc\\xbc\\xc3\\xbb\">\\xb0\\xfc\\xbc\\xbc\\xc3\\xbb</option>\\r\\n                <option value=\"\\xc1\\xb6\\xb4\\xde\\xc3\\xbb\">\\xc1\\xb6\\xb4\\xde\\xc3\\xbb</option>\\r\\n                <option value=\"\\xc5\\xeb\\xb0\\xe8\\xc3\\xbb\">\\xc5\\xeb\\xb0\\xe8\\xc3\\xbb</option>\\r\\n                <option value=\"\\xb0\\xcb\\xc2\\xfb\\xc3\\xbb\">\\xb0\\xcb\\xc2\\xfb\\xc3\\xbb</option>\\r\\n                <option value=\"\\xba\\xb4\\xb9\\xab\\xc3\\xbb\">\\xba\\xb4\\xb9\\xab\\xc3\\xbb</option>\\r\\n                <option value=\"\\xb9\\xe6\\xc0\\xa7\\xbb\\xe7\\xbe\\xf7\\xc3\\xbb\">\\xb9\\xe6\\xc0\\xa7\\xbb\\xe7\\xbe\\xf7\\xc3\\xbb</option>\\r\\n                <option value=\"\\xbc\\xd2\\xb9\\xe6\\xc3\\xbb\">\\xbc\\xd2\\xb9\\xe6\\xc3\\xbb</option>\\r\\n                <option value=\"\\xc7\\xd8\\xbe\\xe7\\xb0\\xe6\\xc2\\xfb\\xc3\\xbb\">\\xc7\\xd8\\xbe\\xe7\\xb0\\xe6\\xc2\\xfb\\xc3\\xbb</option>\\r\\n                <option value=\"\\xb0\\xe6\\xc2\\xfb\\xc3\\xbb\">\\xb0\\xe6\\xc2\\xfb\\xc3\\xbb</option>\\r\\n                <option value=\"\\xb9\\xae\\xc8\\xad\\xc0\\xe7\\xc3\\xbb\">\\xb9\\xae\\xc8\\xad\\xc0\\xe7\\xc3\\xbb</option>\\r\\n                <option value=\"\\xb3\\xf3\\xc3\\xcc\\xc1\\xf8\\xc8\\xef\\xc3\\xbb\">\\xb3\\xf3\\xc3\\xcc\\xc1\\xf8\\xc8\\xef\\xc3\\xbb</option>\\r\\n                <option value=\"\\xbb\\xea\\xb8\\xb2\\xc3\\xbb\">\\xbb\\xea\\xb8\\xb2\\xc3\\xbb</option>\\r\\n                <option value=\"\\xc6\\xaf\\xc7\\xe3\\xc3\\xbb\">\\xc6\\xaf\\xc7\\xe3\\xc3\\xbb</option>\\r\\n                <option value=\"\\xb1\\xe2\\xbb\\xf3\\xc3\\xbb\">\\xb1\\xe2\\xbb\\xf3\\xc3\\xbb</option>\\r\\n                <option value=\"\\xc7\\xe0\\xc1\\xa4\\xc1\\xdf\\xbd\\xc9\\xba\\xb9\\xc7\\xd5\\xb5\\xb5\\xbd\\xc3\\xb0\\xc7\\xbc\\xb3\\xc3\\xbb\">\\xc7\\xe0\\xc1\\xa4\\xc1\\xdf\\xbd\\xc9\\xba\\xb9\\xc7\\xd5\\xb5\\xb5\\xbd\\xc3\\xb0\\xc7\\xbc\\xb3\\xc3\\xbb</option>\\r\\n                <option value=\"\\xbb\\xf5\\xb8\\xb8\\xb1\\xdd\\xb0\\xb3\\xb9\\xdf\\xc3\\xbb\">\\xbb\\xf5\\xb8\\xb8\\xb1\\xdd\\xb0\\xb3\\xb9\\xdf\\xc3\\xbb</option></select>\\r\\n              <input type=\"image\" src=\"/home/images/btn_move2.gif\" title=\"\\xbc\\xb1\\xc5\\xc3\\xc7\\xd1 \\xc8\\xa8\\xc6\\xe4\\xc0\\xcc\\xc1\\xf6\\xb7\\xce \\xc0\\xcc\\xb5\\xbf \\xbb\\xf5\\xc3\\xa2\\xbf\\xa1\\xbc\\xad \\xbf\\xad\\xb8\\xb2\" alt=\"\\xc0\\xcc\\xb5\\xbf\"></form>\\r\\n            <form name=\"sitelink3\" method=\"get\" action=\"/sitelink.jsp\" target=\"_blank\">\\r\\n              <label for=\"sitelink3\" class=\"blind\">\\xb9\\xe6\\xc0\\xe7\\xc0\\xaf\\xb0\\xfc\\xb1\\xe2\\xb0\\xfc \\xb9\\xd9\\xb7\\xce\\xb0\\xa1\\xb1\\xe2</label>\\r\\n              <select id=\"sitelink3\" name=\"link\">\\r\\n                <option label=\"\\xb9\\xe6\\xc0\\xe7\\xc0\\xaf\\xb0\\xfc\\xb1\\xe2\\xb0\\xfc\" value=\"\" selected=\"selected\">\\xb9\\xe6\\xc0\\xe7\\xc0\\xaf\\xb0\\xfc\\xb1\\xe2\\xb0\\xfc</option>\\r\\n                <option value=\"\\xbc\\xad\\xbf\\xef\\xc1\\xbe\\xc7\\xd5\\xb9\\xe6\\xc0\\xe7\\xbc\\xbe\\xc5\\xcd\">\\xbc\\xad\\xbf\\xef\\xc1\\xbe\\xc7\\xd5\\xb9\\xe6\\xc0\\xe7\\xbc\\xbe\\xc5\\xcd</option>\\r\\n                <option value=\"\\xb1\\xb9\\xb8\\xb3\\xc0\\xe7\\xb3\\xad\\xbe\\xc8\\xc0\\xfc\\xbf\\xac\\xb1\\xb8\\xbf\\xf8\">\\xb1\\xb9\\xb8\\xb3\\xc0\\xe7\\xb3\\xad\\xbe\\xc8\\xc0\\xfc\\xbf\\xac\\xb1\\xb8\\xbf\\xf8</option>\\r\\n                <option value=\"\\xc7\\xd1\\xb0\\xad\\xc8\\xab\\xbc\\xf6\\xc5\\xeb\\xc1\\xa6\\xbc\\xd2\">\\xc7\\xd1\\xb0\\xad\\xc8\\xab\\xbc\\xf6\\xc5\\xeb\\xc1\\xa6\\xbc\\xd2</option>\\r\\n                <option value=\"\\xc1\\xdf\\xbe\\xd3\\xc0\\xe7\\xb3\\xad\\xbe\\xc8\\xc0\\xfc\\xb4\\xeb\\xc3\\xa5\\xba\\xbb\\xba\\xce\">\\xc1\\xdf\\xbe\\xd3\\xc0\\xe7\\xb3\\xad\\xbe\\xc8\\xc0\\xfc\\xb4\\xeb\\xc3\\xa5\\xba\\xbb\\xba\\xce</option>\\r\\n                <option value=\"\\xb4\\xeb\\xb1\\xe2\\xbf\\xc0\\xbf\\xb0\\xb5\\xb5\\xbd\\xc7\\xbd\\xc3\\xb0\\xa3\\xb0\\xf8\\xb0\\xb3\">\\xb4\\xeb\\xb1\\xe2\\xbf\\xc0\\xbf\\xb0\\xb5\\xb5\\xbd\\xc7\\xbd\\xc3\\xb0\\xa3\\xb0\\xf8\\xb0\\xb3</option>\\r\\n                <option value=\"\\xb1\\xb9\\xb0\\xa1\\xbc\\xf6\\xc0\\xda\\xbf\\xf8\\xb0\\xfc\\xb8\\xae\\xc1\\xbe\\xc7\\xd5\\xc1\\xa4\\xba\\xb8\\xbd\\xc3\\xbd\\xba\\xc5\\xdb\">\\xb1\\xb9\\xb0\\xa1\\xbc\\xf6\\xc0\\xda\\xbf\\xf8\\xb0\\xfc\\xb8\\xae\\xc1\\xbe\\xc7\\xd5\\xc1\\xa4\\xba\\xb8\\xbd\\xc3\\xbd\\xba\\xc5\\xdb</option></select>\\r\\n              <input type=\"image\" src=\"/home/images/btn_move2.gif\" title=\"\\xbc\\xb1\\xc5\\xc3\\xc7\\xd1 \\xc8\\xa8\\xc6\\xe4\\xc0\\xcc\\xc1\\xf6\\xb7\\xce \\xc0\\xcc\\xb5\\xbf \\xbb\\xf5\\xc3\\xa2\\xbf\\xa1\\xbc\\xad \\xbf\\xad\\xb8\\xb2\" alt=\"\\xc0\\xcc\\xb5\\xbf\"></form>\\r\\n            <form name=\"sitelink4\" method=\"get\" action=\"/sitelink.jsp\" target=\"_blank\">\\r\\n              <label for=\"sitelink4\" class=\"blind\">\\xbf\\xdc\\xb1\\xb9\\xb1\\xe2\\xbb\\xf3\\xc3\\xbb \\xb9\\xd9\\xb7\\xce\\xb0\\xa1\\xb1\\xe2</label>\\r\\n              <select id=\"sitelink4\" name=\"link\">\\r\\n                <option label=\"\\xbf\\xdc\\xb1\\xb9\\xb1\\xe2\\xbb\\xf3\\xc3\\xbb\" value=\"\" selected=\"selected\">\\xbf\\xdc\\xb1\\xb9\\xb1\\xe2\\xbb\\xf3\\xc3\\xbb</option>\\r\\n                <option value=\"\\xb9\\xcc\\xb1\\xb9\">\\xb9\\xcc\\xb1\\xb9</option>\\r\\n                <option value=\"\\xc0\\xcf\\xba\\xbb\">\\xc0\\xcf\\xba\\xbb</option>\\r\\n                <option value=\"\\xc1\\xdf\\xb1\\xb9\">\\xc1\\xdf\\xb1\\xb9</option>\\r\\n                <option value=\"\\xbf\\xb5\\xb1\\xb9\">\\xbf\\xb5\\xb1\\xb9</option>\\r\\n                <option value=\"\\xc7\\xc1\\xb6\\xfb\\xbd\\xba\">\\xc7\\xc1\\xb6\\xfb\\xbd\\xba</option>\\r\\n                <option value=\"\\xbc\\xbc\\xb0\\xe8\\xb1\\xe2\\xbb\\xf3\\xb1\\xe2\\xb1\\xb8WMO\">\\xbc\\xbc\\xb0\\xe8\\xb1\\xe2\\xbb\\xf3\\xb1\\xe2\\xb1\\xb8WMO</option></select>\\r\\n              <input type=\"image\" src=\"/home/images/btn_move2.gif\" title=\"\\xbc\\xb1\\xc5\\xc3\\xc7\\xd1 \\xc8\\xa8\\xc6\\xe4\\xc0\\xcc\\xc1\\xf6\\xb7\\xce \\xc0\\xcc\\xb5\\xbf \\xbb\\xf5\\xc3\\xa2\\xbf\\xa1\\xbc\\xad \\xbf\\xad\\xb8\\xb2\" alt=\"\\xc0\\xcc\\xb5\\xbf\"></form>\\r\\n            <form name=\"sitelink5\" method=\"get\" action=\"/sitelink.jsp\" target=\"_blank\" class=\"last\">\\r\\n              <label for=\"sitelink5\" class=\"blind\">\\xb1\\xe2\\xbb\\xf3\\xb0\\xfc\\xb7\\xc3\\xb4\\xdc\\xc3\\xbc \\xb9\\xd9\\xb7\\xce\\xb0\\xa1\\xb1\\xe2</label>\\r\\n              <select name=\"link\" id=\"sitelink5\" class=\"last\">\\r\\n                <option label=\"\\xb1\\xe2\\xbb\\xf3\\xb0\\xfc\\xb7\\xc3\\xb4\\xdc\\xc3\\xbc\" value=\"\" selected=\"selected\">\\xb1\\xe2\\xbb\\xf3\\xb0\\xfc\\xb7\\xc3\\xb4\\xdc\\xc3\\xbc</option>\\r\\n                <option value=\"\\xc7\\xd1\\xb1\\xb9\\xb1\\xe2\\xbb\\xf3\\xbb\\xea\\xbe\\xf7\\xc1\\xf8\\xc8\\xef\\xbf\\xf8\">\\xc7\\xd1\\xb1\\xb9\\xb1\\xe2\\xbb\\xf3\\xbb\\xea\\xbe\\xf7\\xb1\\xe2\\xbc\\xfa\\xbf\\xf8</option>\\r\\n                <option value=\"APEC\\xb1\\xe2\\xc8\\xc4\\xbc\\xbe\\xc5\\xcd\">APEC\\xb1\\xe2\\xc8\\xc4\\xbc\\xbe\\xc5\\xcd</option>\\r\\n                <option value=\"\\xc7\\xd1\\xb1\\xb9\\xc7\\xfc\\xbc\\xf6\\xc4\\xa1\\xbf\\xb9\\xba\\xb8\\xb8\\xf0\\xb5\\xa8\\xb0\\xb3\\xb9\\xdf\\xbb\\xe7\\xbe\\xf7\\xb4\\xdc\">\\xc7\\xd1\\xb1\\xb9\\xc7\\xfc\\xbc\\xf6\\xc4\\xa1\\xbf\\xb9\\xba\\xb8\\xb8\\xf0\\xb5\\xa8\\xb0\\xb3\\xb9\\xdf\\xbb\\xe7\\xbe\\xf7\\xb4\\xdc</option></select>\\r\\n              <input type=\"image\" src=\"/home/images/btn_move2.gif\" title=\"\\xbc\\xb1\\xc5\\xc3\\xc7\\xd1 \\xc8\\xa8\\xc6\\xe4\\xc0\\xcc\\xc1\\xf6\\xb7\\xce \\xc0\\xcc\\xb5\\xbf \\xbb\\xf5\\xc3\\xa2\\xbf\\xa1\\xbc\\xad \\xbf\\xad\\xb8\\xb2\" alt=\"\\xc0\\xcc\\xb5\\xbf\"></form>\\r\\n          </fieldset>\\r\\n        </div>\\r\\n        <div class=\"footer_right link\">\\r\\n          <h3 class=\"blind\">\\xbb\\xe7\\xc0\\xcc\\xc6\\xae \\xb5\\xb5\\xbf\\xec\\xb9\\xcc</h3>\\r\\n          <ul class=\"site_helper\">\\r\\n            <li><a href=\"http://www.kma.go.kr/global/footer/privacy.jsp\" class=\"active\">\\xb0\\xb3\\xc0\\xce\\xc1\\xa4\\xba\\xb8 \\xc3\\xb3\\xb8\\xae\\xb9\\xe6\\xc4\\xa7</a></li>\\r\\n            <li><a href=\"http://www.kma.go.kr/global/footer/siteinfo.jsp\">\\xc0\\xcc\\xbf\\xeb\\xbe\\xc8\\xb3\\xbb</a></li>\\r\\n            <li><a href=\"http://www.kma.go.kr/global/footer/copyright.jsp\">\\xc0\\xfa\\xc0\\xdb\\xb1\\xc7\\xba\\xb8\\xc8\\xa3 \\xb9\\xd7 \\xc1\\xa4\\xc3\\xa5</a></li>\\r\\n            <li><a href=\"http://www.kma.go.kr/global/footer/accessibility.jsp\">\\xc0\\xa5\\xc1\\xa2\\xb1\\xd9\\xbc\\xba\\xc1\\xa4\\xc3\\xa5</a></li>\\r\\n            <li><a href=\"http://www.kma.go.kr/global/footer/return.jsp\">\\xc8\\xa8\\xc6\\xe4\\xc0\\xcc\\xc1\\xf6\\xbf\\xc0\\xb7\\xf9\\xa1\\xa4\\xb0\\xc7\\xc0\\xc7</a></li>\\r\\n            <!--<li><a href=\"http://www.kma.go.kr/global/footer/telephone_1.jsp\">\\xc0\\xfc\\xc8\\xad\\xb9\\xf8\\xc8\\xa3\\xbe\\xc8\\xb3\\xbb</a></li>-->\\r\\n\\t\\t\\t<li><a href=\"http://www.kma.go.kr/aboutkma/organization/chart.jsp\">\\xc0\\xfc\\xc8\\xad\\xb9\\xf8\\xc8\\xa3\\xbe\\xc8\\xb3\\xbb</a></li>\\r\\n            <li><a href=\"http://www.kma.go.kr/aboutkma/organization/personnel_list.jsp?schParent=1360001\">\\xba\\xce\\xbc\\xad\\xa1\\xa4\\xc1\\xf7\\xbf\\xf8\\xc3\\xa3\\xb1\\xe2</a></li>\\r\\n            <li><a href=\"http://www.kma.go.kr/global/footer/viewer.jsp\">\\xba\\xe4\\xbe\\xee\\xb4\\xd9\\xbf\\xee\\xb7\\xce\\xb5\\xe5</a></li>\\r\\n          </ul>\\r\\n\\t\\t<a class=\"btn01\"><img alt=\"OPEN \\xb0\\xf8\\xb0\\xf8\\xb4\\xa9\\xb8\\xae \\xb0\\xf8\\xb0\\xf8\\xc0\\xfa\\xc0\\xdb\\xb9\\xb0 \\xc0\\xda\\xc0\\xaf\\xc0\\xcc\\xbf\\xeb\\xc7\\xe3\\xb6\\xf4 \\xc3\\xe2\\xc3\\xb3\\xc7\\xa5\\xbd\\xc3\" src=\"/home/images/KOGL.jpg\" /></a>\\r\\n        </div>\\r\\n        <div class=\"footer_right ml50\">\\r\\n          <p class=\"logo\"><img src=\"/images/common/footer_logo_1.gif\" alt=\"\\xb1\\xe2\\xbb\\xf3\\xc3\\xbb\" /></p>\\r\\n          <h3 class=\"blind\">\\xbf\\xac\\xb6\\xf4\\xc3\\xb3 \\xb9\\xd7 \\xc0\\xfa\\xc0\\xdb\\xb1\\xc7</h3>\\r\\n          <address>\\r\\n            <p>\\xbf\\xec. 07062 \\xbc\\xad\\xbf\\xef\\xbd\\xc3 \\xb5\\xbf\\xc0\\xdb\\xb1\\xb8 \\xbf\\xa9\\xc0\\xc7\\xb4\\xeb\\xb9\\xe6\\xb7\\xce16\\xb1\\xe6 61 \\xb4\\xeb\\xc7\\xa5\\xc0\\xfc\\xc8\\xad (02)2181-0900 (\\xc6\\xf2\\xc0\\xcf 9:00~18:00, \\xbe\\xdf\\xb0\\xa3\\xc8\\xde\\xc0\\xcf\\xc0\\xba \\xb4\\xe7\\xc1\\xf7\\xbd\\xc7 \\xbf\\xac\\xb0\\xe1)</p>\\r\\n          </address>\\r\\n          <p class=\"copyright\">\\xba\\xbb \\xc8\\xa8\\xc6\\xe4\\xc0\\xcc\\xc1\\xf6\\xbf\\xa1 \\xb0\\xd4\\xbd\\xc3\\xb5\\xc8 \\xc0\\xcc\\xb8\\xde\\xc0\\xcf \\xc1\\xd6\\xbc\\xd2\\xb0\\xa1 \\xc0\\xda\\xb5\\xbf \\xbc\\xf6\\xc1\\xfd\\xb5\\xc7\\xb4\\xc2 \\xb0\\xcd\\xc0\\xbb \\xb0\\xc5\\xba\\xce\\xc7\\xcf\\xb8\\xe7, \\xc0\\xcc\\xb8\\xa6 \\xc0\\xa7\\xb9\\xdd\\xbd\\xc3 \\xc1\\xa4\\xba\\xb8\\xc5\\xeb\\xbd\\xc5\\xb8\\xc1\\xb9\\xfd\\xbf\\xa1 \\xc0\\xc7\\xc7\\xd8 \\xc3\\xb3\\xb9\\xfa\\xb5\\xca\\xc0\\xbb \\xc0\\xaf\\xb3\\xe4\\xc7\\xcf\\xbd\\xc3\\xb1\\xe2 \\xb9\\xd9\\xb6\\xf8\\xb4\\xcf\\xb4\\xd9.</p>\\r\\n          <p class=\"copyright\">Copyright \\xa8\\xcf 2018 KMA. All Rights RESERVED. E-mail: webmasterkma@kma.go.kr</p>\\r\\n\\t\\t  <p class=\"mark_wa\"><a href=\"http://www.kma.go.kr/notify/notice/list.jsp?bid=gongzi&mode=view&num=1192562&page=1&field=&text=\" target=\"_blank\" title=\"\\xbb\\xf5\\xc3\\xa2\\xbf\\xad\\xb8\\xb2\"><img alt=\"\\xb0\\xfa\\xc7\\xd0\\xb1\\xe2\\xbc\\xfa\\xc5\\xeb\\xbd\\xc5\\xba\\xce\" src=\"/home/images/mark_wa.png\" /></a></p>\\r\\n          <p class=\"call_center\"><a href=\"http://www.kma.go.kr/aboutkma/biz/service.jsp#callcenter\" target=\"_blank\" title=\"\\xbb\\xf5\\xc3\\xa2\\xbf\\xad\\xb8\\xb2\"><img src=\"/home/images/footer_call131.jpg\" alt=\"\\xb1\\xe2\\xbb\\xf3\\xc4\\xdd\\xbc\\xbe\\xc5\\xcd \\xc0\\xfc\\xb1\\xb9 \\xb1\\xb9\\xb9\\xf8\\xbe\\xf8\\xc0\\xcc 131\" /></a></p>\\r\\n        </div>\\r\\n    </div>\\r\\n\\t<script src=\"/share/js/warninglayer.js?ver=2018112101\"></script>\\r\\n\\t<script src=\"/eqk_layer/eqk.js?ver=2018112901\"></script>\\r\\n\\t<!-- START OF LOGGER TRACKING SCRIPT -->\\r\\n\\t<script src=\"/share/js/logger2.weather.go.kr.1057.js\"></script>\\r\\n\\t<noscript><img  alt=\"\\xb7\\xce\\xb1\\xd7\" src=\"https://logger.kma.go.kr/tracker.tsp?u=7&amp;js=N\" width=\"0\" height=\"0\" /></noscript>\\r\\n\\t<!-- END OF LOGGER TRACKING SCRIPT -->\\r\\n\\t<script type=\"text/javascript\" src=\"/share/js/UserScriptConf.js\"></script>\\r\\n</div>\\n\\t\\t\\t\\n\\t</body>\\n</html>'"
      ]
     },
     "execution_count": 82,
     "metadata": {},
     "output_type": "execute_result"
    }
   ],
   "source": [
    "source.content"
   ]
  },
  {
   "cell_type": "code",
   "execution_count": null,
   "id": "9daa2dfd",
   "metadata": {},
   "outputs": [],
   "source": []
  }
 ],
 "metadata": {
  "kernelspec": {
   "display_name": "Python 3",
   "language": "python",
   "name": "python3"
  },
  "language_info": {
   "codemirror_mode": {
    "name": "ipython",
    "version": 3
   },
   "file_extension": ".py",
   "mimetype": "text/x-python",
   "name": "python",
   "nbconvert_exporter": "python",
   "pygments_lexer": "ipython3",
   "version": "3.8.8"
  }
 },
 "nbformat": 4,
 "nbformat_minor": 5
}
