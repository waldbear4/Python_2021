{
 "cells": [
  {
   "cell_type": "code",
   "execution_count": 5,
   "id": "5d8bc66c",
   "metadata": {},
   "outputs": [
    {
     "name": "stdout",
     "output_type": "stream",
     "text": [
      "['Halllloooo  네가 최고야\\n', '아무렴 \\n', '하\\n', '히\\n', '후\\n', '헤\\n', '허']\n"
     ]
    }
   ],
   "source": [
    "f = open(\"나는 파일이다.txt\", \"r\")\n",
    "lines = f.readlines()\n",
    "f.close()\n",
    "print(lines)\n"
   ]
  },
  {
   "cell_type": "code",
   "execution_count": 10,
   "id": "d1fde460",
   "metadata": {},
   "outputs": [
    {
     "name": "stdout",
     "output_type": "stream",
     "text": [
      "['Halllloooo  네가 최고야 ', '아무렴  ', '하 ', '히 ', '후 ', '헤 ', '허']\n"
     ]
    }
   ],
   "source": [
    "f = open(\"나는 파일이다.txt\", \"r\")\n",
    "list1 = []\n",
    "list2 = []\n",
    "while True:\n",
    "    line1 = f.readline()\n",
    "    if not line1: break\n",
    "    list1.append(line1)\n",
    "for ltem in list1:\n",
    "    processed = ltem.replace(\"\\n\", \" \")\n",
    "    list2.append(processed)\n",
    "print(list2)"
   ]
  },
  {
   "cell_type": "code",
   "execution_count": 12,
   "id": "f0fee785",
   "metadata": {},
   "outputs": [
    {
     "name": "stdout",
     "output_type": "stream",
     "text": [
      "['Halllloooo  네가 최고야\\n', '아무렴 \\n', '하\\n', '히\\n', '후\\n', '헤\\n', '허']\n",
      "\n",
      "\n",
      "\n",
      "\n",
      "\n",
      "\n",
      "\n",
      "['Halllloooo  네가 최고야', '아무렴 ', '하', '히', '후', '헤', '허']\n"
     ]
    }
   ],
   "source": [
    "f = open(\"나는 파일이다.txt\", \"r\")\n",
    "lines = f.readlines()\n",
    "f.close()\n",
    "print(lines)\n",
    "refined_list = []\n",
    "for item in lines:\n",
    "    refined_list.append(item.replace(\"\\n\", \"\"))\n",
    "    print()\n",
    "print(refined_list)"
   ]
  },
  {
   "cell_type": "code",
   "execution_count": 13,
   "id": "dbd80d3f",
   "metadata": {},
   "outputs": [
    {
     "name": "stdout",
     "output_type": "stream",
     "text": [
      "Halllloooo  네가 최고야\n",
      "아무렴 \n",
      "하\n",
      "히\n",
      "후\n",
      "헤\n",
      "허\n"
     ]
    }
   ],
   "source": [
    "f = open(\"나는 파일이다.txt\", \"r\")\n",
    "page = f.read()\n",
    "f.close()\n",
    "print(page)"
   ]
  },
  {
   "cell_type": "code",
   "execution_count": 23,
   "id": "b2d17986",
   "metadata": {},
   "outputs": [
    {
     "name": "stdout",
     "output_type": "stream",
     "text": [
      "['abc', 'def', 'ghj']\n"
     ]
    }
   ],
   "source": [
    "# ['abc', 'def', 'ghj']\n",
    "f = open(\"나는 파일이다2.txt\", \"w\")\n",
    "f.write(\"abc\\ndef\\nghj\")\n",
    "f.close()\n",
    "f = open(\"나는 파일이다2.txt\", \"r\")\n",
    "list = []\n",
    "page = f.read()\n",
    "#page.split(',')\n",
    "#print(page)\n",
    "\n",
    "refined_list = page.split(\"\\n\")\n",
    "print(refined_list)"
   ]
  },
  {
   "cell_type": "code",
   "execution_count": null,
   "id": "bab9473f",
   "metadata": {},
   "outputs": [],
   "source": [
    "f = open(\"나는 파일이다2.txt\", \"r\")\n",
    "\n",
    "\n",
    "refined_list = page.split(\"\\n\")\n",
    "print(refined_list)"
   ]
  },
  {
   "cell_type": "code",
   "execution_count": null,
   "id": "647372b0",
   "metadata": {},
   "outputs": [],
   "source": []
  }
 ],
 "metadata": {
  "kernelspec": {
   "display_name": "Python 3",
   "language": "python",
   "name": "python3"
  },
  "language_info": {
   "codemirror_mode": {
    "name": "ipython",
    "version": 3
   },
   "file_extension": ".py",
   "mimetype": "text/x-python",
   "name": "python",
   "nbconvert_exporter": "python",
   "pygments_lexer": "ipython3",
   "version": "3.8.8"
  }
 },
 "nbformat": 4,
 "nbformat_minor": 5
}
