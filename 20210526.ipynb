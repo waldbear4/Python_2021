{
 "cells": [
  {
   "cell_type": "code",
   "execution_count": null,
   "id": "6be099eb",
   "metadata": {},
   "outputs": [],
   "source": [
    "f = open(\"나는 파일이다.txt\", \"r\")\n",
    "lines = f.readlines()\n",
    "f.close()\n",
    "print(lines)\n"
   ]
  },
  {
   "cell_type": "code",
   "execution_count": null,
   "id": "295f4710",
   "metadata": {},
   "outputs": [],
   "source": [
    "f = open(\"나는 파일이다.txt\", \"r\")\n",
    "list1 = []\n",
    "list2 = []\n",
    "while True:\n",
    "    line1 = f.readline()\n",
    "    if not line1: break\n",
    "    list1.append(line1)\n",
    "for ltem in list1:\n",
    "    processed = ltem.replace(\"\\n\", \" \")\n",
    "    list2.append(processed)\n",
    "print(list2)"
   ]
  },
  {
   "cell_type": "code",
   "execution_count": null,
   "id": "a97c37d9",
   "metadata": {},
   "outputs": [],
   "source": [
    "f = open(\"나는 파일이다.txt\", \"r\")\n",
    "lines = f.readlines()\n",
    "f.close()\n",
    "print(lines)\n",
    "refined_list = []\n",
    "for item in lines:\n",
    "    refined_list.append(item.replace(\"\\n\", \"\"))\n",
    "    print()\n",
    "print(refined_list)"
   ]
  },
  {
   "cell_type": "code",
   "execution_count": null,
   "id": "eab9d26f",
   "metadata": {},
   "outputs": [],
   "source": [
    "f = open(\"나는 파일이다.txt\", \"r\")\n",
    "page = f.read()\n",
    "f.close()\n",
    "print(page)"
   ]
  },
  {
   "cell_type": "code",
   "execution_count": null,
   "id": "032211cb",
   "metadata": {},
   "outputs": [],
   "source": [
    "# ['abc', 'def', 'ghj']\n",
    "f = open(\"나는 파일이다2.txt\", \"w\")\n",
    "f.write(\"abc\\ndef\\nghj\")\n",
    "f.close()\n",
    "f = open(\"나는 파일이다2.txt\", \"r\")\n",
    "list = []\n",
    "page = f.read()\n",
    "#page.split(',')\n",
    "#print(page)\n",
    "\n",
    "refined_list = page.split(\"\\n\")\n",
    "print(refined_list)"
   ]
  },
  {
   "cell_type": "code",
   "execution_count": null,
   "id": "daa921be",
   "metadata": {},
   "outputs": [],
   "source": [
    "f = open(\"나는 파일이다2.txt\", \"r\")\n",
    "\n",
    "\n",
    "refined_list = page.split(\"\\n\")\n",
    "print(refined_list)"
   ]
  },
  {
   "cell_type": "code",
   "execution_count": null,
   "id": "7f6047ca",
   "metadata": {},
   "outputs": [],
   "source": [
    "f = open(\"나는 파일이다2.txt\", \"a\")\n",
    "f.write(\"링딩동링딩동\")\n",
    "f.close()"
   ]
  },
  {
   "cell_type": "code",
   "execution_count": null,
   "id": "d8e93868",
   "metadata": {},
   "outputs": [],
   "source": [
    "# f = open(\"나는 파일이다2.txt\", \"a\")\n",
    "with open(\"나는 파일이다2.txt\", \"a\") as f:\n",
    "    f.write(\"둥가당둥가당\")"
   ]
  },
  {
   "cell_type": "code",
   "execution_count": null,
   "id": "21c78a74",
   "metadata": {},
   "outputs": [],
   "source": [
    "#  빅데이터 인공지능\n",
    "# -빅데이터 사이언티스트\n",
    "# -빅데이터 엔지니어\n",
    "\n",
    "#절차 지향정 프로그래밍\n",
    "#procedure\n",
    "\n",
    "#객체 지향적 프로그래밍\n",
    "#class, object"
   ]
  },
  {
   "cell_type": "code",
   "execution_count": null,
   "id": "68708fe1",
   "metadata": {},
   "outputs": [],
   "source": [
    "class FourCal:\n",
    "    #self.first\n",
    "    #self.second\n",
    "    def add(self): #이 클래스에 속하는 동작이다\n",
    "        result = self.first + self.second # 이 클래스 내의 \n",
    "        return result # 클래스 구성요소 아님\n",
    "    def mul(self):\n",
    "        result = self.first * self.second # 이 클래스 내의 \n",
    "        return result # 클래스 구성요소 아님\n",
    "aCal = FourCal()\n",
    "print(aCal.add())"
   ]
  },
  {
   "cell_type": "code",
   "execution_count": null,
   "id": "5136a9f5",
   "metadata": {},
   "outputs": [],
   "source": [
    "class FourCal:\n",
    "    def setdata(self, a, b):\n",
    "        self.first = a\n",
    "        self.second = b\n",
    "    def add(self):\n",
    "        result = self.first + self.second\n",
    "        return result\n",
    "    def mul(self):\n",
    "        result = self.first * self.second\n",
    "        return result\n",
    "aCal = FourCal()\n",
    "bCal = FourCal()\n",
    "aCal.setdata(4, 2) #객체의 추가 세팅 ex)차량을 대리점에 가져와서 도장\n",
    "print(aCal.add())  \n",
    "bCal.setdata(3, 8)\n",
    "print(bCal.add())"
   ]
  },
  {
   "cell_type": "code",
   "execution_count": null,
   "id": "c2651074",
   "metadata": {},
   "outputs": [],
   "source": [
    "# 생성자 (Constructor) ex)차량이 공장출고할 때 도장\n",
    "class FourCal:\n",
    "    def __init__(self, a, b): ######### __init__ 클래스 생성시 정의 해줘야함\n",
    "        self.first = a\n",
    "        self.second = b\n",
    "    def add(self):\n",
    "        result = self.first + self.second\n",
    "        return result\n",
    "    def mul(self):\n",
    "        result = self.first * self.second\n",
    "        return result\n",
    "    def sub(self):\n",
    "        result = self.first - self.second\n",
    "        return result\n",
    "    def div(self): ### 분모가 0이되었을 때 Error\n",
    "        result = self.first / self.second\n",
    "        return result\n",
    "aCal = FourCal(4, 2)\n",
    "bCal = FourCal(3, 8)\n",
    "print(aCal.add())  \n",
    "print(bCal.add())\n",
    "\n",
    "# 클래스의 상속\n",
    "class MoreFourCal(FourCal):\n",
    "    pass \n",
    "\n",
    "c = MoreFourCal(4, 2)\n",
    "d = c.add()\n",
    "print(d)"
   ]
  },
  {
   "cell_type": "code",
   "execution_count": null,
   "id": "b5735e3a",
   "metadata": {},
   "outputs": [],
   "source": [
    "# 클래스의 상속\n",
    "class MoreFourCal(FourCal):\n",
    "    def pow(self):\n",
    "        result = self.first**self.second\n",
    "        return result\n",
    "    def div(self): # Mother Class 를 재정의\n",
    "        if self.second == 0:\n",
    "            self.second = 0.00000000000000001\n",
    "        result = self.first / self.second\n",
    "        return result\n",
    "\n",
    "c = MoreFourCal(4, 0)\n",
    "d = c.div()\n",
    "print(d)"
   ]
  },
  {
   "cell_type": "code",
   "execution_count": null,
   "id": "4fc9128c",
   "metadata": {},
   "outputs": [],
   "source": [
    "class MyMath:\n",
    "    MyPI = 3.14\n",
    "    \n",
    "mm = MyMath()\n",
    "print(mm.MyPI)"
   ]
  },
  {
   "cell_type": "code",
   "execution_count": null,
   "id": "9e6081cd",
   "metadata": {},
   "outputs": [],
   "source": [
    "class MyMath:\n",
    "    MyPI = 3.14\n",
    "    \n",
    "mm1 = MyMath()\n",
    "mm1.MyPI = 4\n",
    "mm2 = MyMath()\n",
    "print(mm1.MyPI, mm2.MyPI)"
   ]
  },
  {
   "cell_type": "code",
   "execution_count": 1,
   "id": "de893d8b",
   "metadata": {},
   "outputs": [
    {
     "name": "stdout",
     "output_type": "stream",
     "text": [
      "7\n",
      "-1\n"
     ]
    }
   ],
   "source": [
    "import mod1\n",
    "print(mod1.add_mod1(3, 4))\n",
    "print(mod1.sub_mod1(3, 4))"
   ]
  },
  {
   "cell_type": "code",
   "execution_count": 2,
   "id": "a8552222",
   "metadata": {},
   "outputs": [
    {
     "name": "stdout",
     "output_type": "stream",
     "text": [
      "7\n",
      "-1\n"
     ]
    }
   ],
   "source": [
    "from mod1 import add_mod1, sub_mod1\n",
    "print(add_mod1(3, 4))\n",
    "print(sub_mod1(3, 4))"
   ]
  },
  {
   "cell_type": "code",
   "execution_count": 3,
   "id": "53d27aef",
   "metadata": {},
   "outputs": [
    {
     "name": "stdout",
     "output_type": "stream",
     "text": [
      "7\n",
      "-1\n"
     ]
    }
   ],
   "source": [
    "from mod1 import * # 다 가져와 > 하지만 필드에서 이 방법은 모듈끼리 \n",
    "# 같은 이름을 공유하는 함수가 있을 수도 있음으로 잘 안 씀\n",
    "print(add_mod1(3, 4))\n",
    "print(sub_mod1(3, 4))"
   ]
  },
  {
   "cell_type": "code",
   "execution_count": 4,
   "id": "702ad996",
   "metadata": {},
   "outputs": [
    {
     "name": "stdout",
     "output_type": "stream",
     "text": [
      "7\n",
      "-1\n"
     ]
    }
   ],
   "source": [
    "import mod1 as m1 # 짧게쓰기 필드에서 많이 씀\n",
    "print(m1.add_mod1(3, 4))\n",
    "print(m1.sub_mod1(3, 4))"
   ]
  },
  {
   "cell_type": "code",
   "execution_count": 11,
   "id": "13423f9e",
   "metadata": {},
   "outputs": [
    {
     "name": "stdout",
     "output_type": "stream",
     "text": [
      "7\n",
      "3.14\n",
      "12.56\n"
     ]
    }
   ],
   "source": [
    "import mod2\n",
    "print(mod2.add_mod2(3, 4))\n",
    "print(mod2.PI)\n",
    "mm2 = mod2.Math_mod2()\n",
    "print(mm2.solve(2))"
   ]
  },
  {
   "cell_type": "code",
   "execution_count": 13,
   "id": "5f170ffd",
   "metadata": {},
   "outputs": [],
   "source": [
    "import numpy as np\n",
    "import pandas as pd\n",
    "import matplotlib.pyplot as plt"
   ]
  },
  {
   "cell_type": "code",
   "execution_count": 19,
   "id": "27bdc14a",
   "metadata": {},
   "outputs": [
    {
     "name": "stdout",
     "output_type": "stream",
     "text": [
      "4e+22\n"
     ]
    }
   ],
   "source": [
    "try:\n",
    "    print(4/0)\n",
    "except ZeroDivisionError as e:\n",
    "    print(4/0.0000000000000000000001)\n",
    "finally:\n",
    "    "
   ]
  },
  {
   "cell_type": "code",
   "execution_count": 20,
   "id": "5768c9aa",
   "metadata": {},
   "outputs": [
    {
     "name": "stdout",
     "output_type": "stream",
     "text": [
      "[1, 2, 6]\n"
     ]
    }
   ],
   "source": [
    "# 절대값필터 내장형\n",
    "def positive(l):\n",
    "    result=[]\n",
    "    for i in l:\n",
    "        if i > 0: result.append(i)\n",
    "    return result\n",
    "\n",
    "print(positive([1, -3, 2, 0, -5, 6]))\n",
    "\n"
   ]
  },
  {
   "cell_type": "code",
   "execution_count": 21,
   "id": "74650409",
   "metadata": {},
   "outputs": [
    {
     "name": "stdout",
     "output_type": "stream",
     "text": [
      "[1, 2, 6]\n"
     ]
    }
   ],
   "source": [
    "# 외부필터\n",
    "def positive(x):\n",
    "    return x > 0\n",
    "data = [1, -3, 2, 0, -5, 6]\n",
    "f = filter(positive, data)\n",
    "print(list(f))"
   ]
  },
  {
   "cell_type": "code",
   "execution_count": 23,
   "id": "74ac44e5",
   "metadata": {},
   "outputs": [
    {
     "data": {
      "text/plain": [
       "[1, 2, 6]"
      ]
     },
     "execution_count": 23,
     "metadata": {},
     "output_type": "execute_result"
    }
   ],
   "source": [
    "data = [1, -3, 2, 0, -5, 6] # 함수를 딱 한 줄만으로 만들게 해주는 훌륭한 녀석\n",
    "list(filter(lambda x: x>0, data))"
   ]
  },
  {
   "cell_type": "code",
   "execution_count": 26,
   "id": "ba9bb071",
   "metadata": {},
   "outputs": [
    {
     "name": "stdout",
     "output_type": "stream",
     "text": [
      "숫자를 입력하셔보십셔5\n",
      "6\n"
     ]
    }
   ],
   "source": [
    "a = int(input(\"숫자를 입력하셔보십셔\"))\n",
    "a = a + 1\n",
    "print(a)"
   ]
  },
  {
   "cell_type": "code",
   "execution_count": 31,
   "id": "f219304f",
   "metadata": {},
   "outputs": [
    {
     "name": "stdout",
     "output_type": "stream",
     "text": [
      "숫자 두 개를 입력하셔보십셔5 20\n",
      "5 20\n"
     ]
    }
   ],
   "source": [
    "a = input(\"숫자 두 개를 입력하셔보십셔\") # 문자열 두 개를 받아오는 것뿐 \n",
    "print(a)"
   ]
  },
  {
   "cell_type": "code",
   "execution_count": 35,
   "id": "9911f414",
   "metadata": {},
   "outputs": [
    {
     "name": "stdout",
     "output_type": "stream",
     "text": [
      "숫자 두 개5 10\n",
      "5 그리고 10\n"
     ]
    }
   ],
   "source": [
    "a, b = input(\"숫자 두 개\").split()\n",
    "a = int(a)\n",
    "b = int(b)\n",
    "print(a, \"그리고\", b)"
   ]
  },
  {
   "cell_type": "code",
   "execution_count": 39,
   "id": "502279c2",
   "metadata": {},
   "outputs": [
    {
     "name": "stdout",
     "output_type": "stream",
     "text": [
      "숫자 5개1 2 3 4 5\n",
      "21 4 3 4 5\n"
     ]
    }
   ],
   "source": [
    "a, b, c, d, e = map(int, input(\"숫자 5개\").split()) # map 각각 int로 \n",
    "print(a+20, b*2, c, d, e)"
   ]
  },
  {
   "cell_type": "code",
   "execution_count": 40,
   "id": "2981f060",
   "metadata": {},
   "outputs": [
    {
     "data": {
      "text/plain": [
       "[(1, 4), (2, 5), (3, 6)]"
      ]
     },
     "execution_count": 40,
     "metadata": {},
     "output_type": "execute_result"
    }
   ],
   "source": [
    "data1 = [1, 2, 3]\n",
    "data2 = [4, 5, 6]\n",
    "list(zip(data1, data2)) #하나의 큐플로 묶어줌 예) data1 이름 data2 벨류 짝짓기"
   ]
  },
  {
   "cell_type": "code",
   "execution_count": 41,
   "id": "724730a2",
   "metadata": {},
   "outputs": [
    {
     "data": {
      "text/plain": [
       "[(1, 4, 7), (2, 5, 8), (3, 6, 9)]"
      ]
     },
     "execution_count": 41,
     "metadata": {},
     "output_type": "execute_result"
    }
   ],
   "source": [
    "data1 = [1, 2, 3]\n",
    "data2 = [4, 5, 6]\n",
    "data3 = [7, 8, 9]\n",
    "list(zip(data1, data2, data3)) # 첫번째, 두번째 끼리끼리"
   ]
  },
  {
   "cell_type": "code",
   "execution_count": 44,
   "id": "75cbce19",
   "metadata": {},
   "outputs": [
    {
     "data": {
      "text/plain": [
       "'C:\\\\Programmierung\\\\Anaconda3;C:\\\\Programmierung\\\\Anaconda3\\\\Library\\\\mingw-w64\\\\bin;C:\\\\Programmierung\\\\Anaconda3\\\\Library\\\\usr\\\\bin;C:\\\\Programmierung\\\\Anaconda3\\\\Library\\\\bin;C:\\\\Programmierung\\\\Anaconda3\\\\Scripts;C:\\\\Program Files\\\\Common Files\\\\Oracle\\\\Java\\\\javapath;C:\\\\Program Files (x86)\\\\Common Files\\\\Oracle\\\\Java\\\\javapath;C:\\\\Program Files (x86)\\\\Intel\\\\iCLS Client\\\\;C:\\\\Program Files\\\\Intel\\\\iCLS Client\\\\;C:\\\\WINDOWS\\\\system32;C:\\\\WINDOWS;C:\\\\WINDOWS\\\\System32\\\\Wbem;C:\\\\WINDOWS\\\\System32\\\\WindowsPowerShell\\\\v1.0\\\\;C:\\\\Program Files (x86)\\\\Intel\\\\Intel(R) Management Engine Components\\\\DAL;C:\\\\Program Files\\\\Intel\\\\Intel(R) Management Engine Components\\\\DAL;C:\\\\Program Files (x86)\\\\Intel\\\\Intel(R) Management Engine Components\\\\IPT;C:\\\\Program Files\\\\Intel\\\\Intel(R) Management Engine Components\\\\IPT;C:\\\\Program Files\\\\Intel\\\\WiFi\\\\bin\\\\;C:\\\\Program Files\\\\Common Files\\\\Intel\\\\WirelessCommon\\\\;C:\\\\WINDOWS\\\\System32\\\\OpenSSH\\\\;C:\\\\Program Files\\\\dotnet\\\\;C:\\\\Program Files\\\\Microsoft SQL Server\\\\130\\\\Tools\\\\Binn\\\\;C:\\\\Program Files (x86)\\\\ePapyrus\\\\Papyrus-PlugIn-web;C:\\\\Program Files (x86)\\\\ePapyrus\\\\Papyrus-PlugIn-web\\\\Addins;C:\\\\Program Files\\\\Git\\\\cmd;C:\\\\Program Files\\\\Java\\\\jdk-16.0.1\\\\bin;C:/Users/Curio/corretto/jdk11.0.11_9\\\\bin;C:\\\\Program Files\\\\R\\\\R-4.0.5\\\\bin\\\\x64;C:\\\\Program Files\\\\Common Files\\\\Oracle\\\\Java\\\\javapath;C:\\\\Program Files (x86)\\\\Common Files\\\\Oracle\\\\Java\\\\javapath;C:\\\\Program Files (x86)\\\\Intel\\\\iCLS Client\\\\;C:\\\\Program Files\\\\Intel\\\\iCLS Client\\\\;C:\\\\WINDOWS\\\\system32;C:\\\\WINDOWS;C:\\\\WINDOWS\\\\System32\\\\Wbem;C:\\\\WINDOWS\\\\System32\\\\WindowsPowerShell\\\\v1.0\\\\;C:\\\\Program Files (x86)\\\\Intel\\\\Intel(R) Management Engine Components\\\\DAL;C:\\\\Program Files\\\\Intel\\\\Intel(R) Management Engine Components\\\\DAL;C:\\\\Program Files (x86)\\\\Intel\\\\Intel(R) Management Engine Components\\\\IPT;C:\\\\Program Files\\\\Intel\\\\Intel(R) Management Engine Components\\\\IPT;C:\\\\Program Files\\\\Intel\\\\WiFi\\\\bin\\\\;C:\\\\Program Files\\\\Common Files\\\\Intel\\\\WirelessCommon\\\\;C:\\\\WINDOWS\\\\System32\\\\OpenSSH\\\\;C:\\\\Program Files\\\\dotnet\\\\;C:\\\\Program Files\\\\Microsoft SQL Server\\\\130\\\\Tools\\\\Binn\\\\;C:\\\\Program Files (x86)\\\\ePapyrus\\\\Papyrus-PlugIn-web;C:\\\\Program Files (x86)\\\\ePapyrus\\\\Papyrus-PlugIn-web\\\\Addins;C:\\\\Program Files\\\\Git\\\\cmd;C:\\\\Program Files\\\\Java\\\\jdk-16.0.1\\\\bin;C:/Users/Curio/corretto/jdk11.0.11_9\\\\bin;C:\\\\Users\\\\C'"
      ]
     },
     "execution_count": 44,
     "metadata": {},
     "output_type": "execute_result"
    }
   ],
   "source": [
    "import os\n",
    "os.environ['PATH']"
   ]
  },
  {
   "cell_type": "code",
   "execution_count": 45,
   "id": "8e92118f",
   "metadata": {},
   "outputs": [
    {
     "data": {
      "text/plain": [
       "'C:\\\\Programmierung\\\\workspace\\\\Python_2021'"
      ]
     },
     "execution_count": 45,
     "metadata": {},
     "output_type": "execute_result"
    }
   ],
   "source": [
    "os.getcwd()"
   ]
  },
  {
   "cell_type": "code",
   "execution_count": 47,
   "id": "22bb3ad4",
   "metadata": {},
   "outputs": [
    {
     "data": {
      "text/plain": [
       "['c:\\\\Programmierung\\\\workspace\\\\Python_2021\\\\mod1.py',\n",
       " 'c:\\\\Programmierung\\\\workspace\\\\Python_2021\\\\mod2.py']"
      ]
     },
     "execution_count": 47,
     "metadata": {},
     "output_type": "execute_result"
    }
   ],
   "source": [
    "import glob\n",
    "glob.glob('c:\\\\Programmierung\\\\workspace\\\\Python_2021\\\\*.py')"
   ]
  },
  {
   "cell_type": "code",
   "execution_count": 102,
   "id": "c09acd76",
   "metadata": {},
   "outputs": [
    {
     "data": {
      "text/plain": [
       "1622012791.1939297"
      ]
     },
     "execution_count": 102,
     "metadata": {},
     "output_type": "execute_result"
    }
   ],
   "source": [
    "import time #1970년 1월 1일 0시 0분 부터 누적\n",
    "time.time()"
   ]
  },
  {
   "cell_type": "code",
   "execution_count": 104,
   "id": "7f2fc25d",
   "metadata": {},
   "outputs": [
    {
     "data": {
      "text/plain": [
       "time.struct_time(tm_year=2021, tm_mon=5, tm_mday=26, tm_hour=16, tm_min=8, tm_sec=32, tm_wday=2, tm_yday=146, tm_isdst=0)"
      ]
     },
     "execution_count": 104,
     "metadata": {},
     "output_type": "execute_result"
    }
   ],
   "source": [
    "time.localtime(time.time())"
   ]
  },
  {
   "cell_type": "code",
   "execution_count": 106,
   "id": "753e442f",
   "metadata": {},
   "outputs": [
    {
     "data": {
      "text/plain": [
       "['Wed', 'May', '26', '16:09:33', '2021']"
      ]
     },
     "execution_count": 106,
     "metadata": {},
     "output_type": "execute_result"
    }
   ],
   "source": [
    "time.asctime(time.localtime(time.time())).split()"
   ]
  },
  {
   "cell_type": "code",
   "execution_count": 107,
   "id": "f9a68bb7",
   "metadata": {},
   "outputs": [
    {
     "name": "stdout",
     "output_type": "stream",
     "text": [
      "0\n",
      "1\n",
      "2\n",
      "3\n",
      "4\n",
      "5\n",
      "6\n",
      "7\n",
      "8\n",
      "9\n"
     ]
    }
   ],
   "source": [
    "for i in range(10):\n",
    "    print(i)\n",
    "    time.sleep(1) # 1초씩 쉬면서 출력"
   ]
  },
  {
   "cell_type": "code",
   "execution_count": 127,
   "id": "a414458a",
   "metadata": {},
   "outputs": [
    {
     "data": {
      "text/plain": [
       "0.06785499286787633"
      ]
     },
     "execution_count": 127,
     "metadata": {},
     "output_type": "execute_result"
    }
   ],
   "source": [
    "import random\n",
    "random.random()"
   ]
  },
  {
   "cell_type": "code",
   "execution_count": 131,
   "id": "65855c69",
   "metadata": {},
   "outputs": [
    {
     "data": {
      "text/plain": [
       "8"
      ]
     },
     "execution_count": 131,
     "metadata": {},
     "output_type": "execute_result"
    }
   ],
   "source": [
    "random.randint(1, 10) # 램덤 정수 출력 범위"
   ]
  },
  {
   "cell_type": "code",
   "execution_count": null,
   "id": "b3cf891c",
   "metadata": {},
   "outputs": [],
   "source": []
  }
 ],
 "metadata": {
  "kernelspec": {
   "display_name": "Python 3",
   "language": "python",
   "name": "python3"
  },
  "language_info": {
   "codemirror_mode": {
    "name": "ipython",
    "version": 3
   },
   "file_extension": ".py",
   "mimetype": "text/x-python",
   "name": "python",
   "nbconvert_exporter": "python",
   "pygments_lexer": "ipython3",
   "version": "3.8.8"
  }
 },
 "nbformat": 4,
 "nbformat_minor": 5
}
