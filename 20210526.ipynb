{
 "cells": [
  {
   "cell_type": "code",
   "execution_count": 5,
   "id": "879d6c7b",
   "metadata": {},
   "outputs": [
    {
     "name": "stdout",
     "output_type": "stream",
     "text": [
      "['Halllloooo  네가 최고야\\n', '아무렴 \\n', '하\\n', '히\\n', '후\\n', '헤\\n', '허']\n"
     ]
    }
   ],
   "source": [
    "f = open(\"나는 파일이다.txt\", \"r\")\n",
    "lines = f.readlines()\n",
    "f.close()\n",
    "print(lines)\n"
   ]
  },
  {
   "cell_type": "code",
   "execution_count": 10,
   "id": "7bc51760",
   "metadata": {},
   "outputs": [
    {
     "name": "stdout",
     "output_type": "stream",
     "text": [
      "['Halllloooo  네가 최고야 ', '아무렴  ', '하 ', '히 ', '후 ', '헤 ', '허']\n"
     ]
    }
   ],
   "source": [
    "f = open(\"나는 파일이다.txt\", \"r\")\n",
    "list1 = []\n",
    "list2 = []\n",
    "while True:\n",
    "    line1 = f.readline()\n",
    "    if not line1: break\n",
    "    list1.append(line1)\n",
    "for ltem in list1:\n",
    "    processed = ltem.replace(\"\\n\", \" \")\n",
    "    list2.append(processed)\n",
    "print(list2)"
   ]
  }
 ],
 "metadata": {
  "kernelspec": {
   "display_name": "Python 3",
   "language": "python",
   "name": "python3"
  },
  "language_info": {
   "codemirror_mode": {
    "name": "ipython",
    "version": 3
   },
   "file_extension": ".py",
   "mimetype": "text/x-python",
   "name": "python",
   "nbconvert_exporter": "python",
   "pygments_lexer": "ipython3",
   "version": "3.8.8"
  }
 },
 "nbformat": 4,
 "nbformat_minor": 5
}
