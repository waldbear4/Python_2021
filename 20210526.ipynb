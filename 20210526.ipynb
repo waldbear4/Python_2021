{
 "cells": [
  {
   "cell_type": "code",
   "execution_count": null,
   "id": "6be099eb",
   "metadata": {},
   "outputs": [],
   "source": [
    "f = open(\"나는 파일이다.txt\", \"r\")\n",
    "lines = f.readlines()\n",
    "f.close()\n",
    "print(lines)\n"
   ]
  },
  {
   "cell_type": "code",
   "execution_count": null,
   "id": "295f4710",
   "metadata": {},
   "outputs": [],
   "source": [
    "f = open(\"나는 파일이다.txt\", \"r\")\n",
    "list1 = []\n",
    "list2 = []\n",
    "while True:\n",
    "    line1 = f.readline()\n",
    "    if not line1: break\n",
    "    list1.append(line1)\n",
    "for ltem in list1:\n",
    "    processed = ltem.replace(\"\\n\", \" \")\n",
    "    list2.append(processed)\n",
    "print(list2)"
   ]
  },
  {
   "cell_type": "code",
   "execution_count": null,
   "id": "a97c37d9",
   "metadata": {},
   "outputs": [],
   "source": [
    "f = open(\"나는 파일이다.txt\", \"r\")\n",
    "lines = f.readlines()\n",
    "f.close()\n",
    "print(lines)\n",
    "refined_list = []\n",
    "for item in lines:\n",
    "    refined_list.append(item.replace(\"\\n\", \"\"))\n",
    "    print()\n",
    "print(refined_list)"
   ]
  },
  {
   "cell_type": "code",
   "execution_count": null,
   "id": "eab9d26f",
   "metadata": {},
   "outputs": [],
   "source": [
    "f = open(\"나는 파일이다.txt\", \"r\")\n",
    "page = f.read()\n",
    "f.close()\n",
    "print(page)"
   ]
  },
  {
   "cell_type": "code",
   "execution_count": null,
   "id": "032211cb",
   "metadata": {},
   "outputs": [],
   "source": [
    "# ['abc', 'def', 'ghj']\n",
    "f = open(\"나는 파일이다2.txt\", \"w\")\n",
    "f.write(\"abc\\ndef\\nghj\")\n",
    "f.close()\n",
    "f = open(\"나는 파일이다2.txt\", \"r\")\n",
    "list = []\n",
    "page = f.read()\n",
    "#page.split(',')\n",
    "#print(page)\n",
    "\n",
    "refined_list = page.split(\"\\n\")\n",
    "print(refined_list)"
   ]
  },
  {
   "cell_type": "code",
   "execution_count": null,
   "id": "daa921be",
   "metadata": {},
   "outputs": [],
   "source": [
    "f = open(\"나는 파일이다2.txt\", \"r\")\n",
    "\n",
    "\n",
    "refined_list = page.split(\"\\n\")\n",
    "print(refined_list)"
   ]
  },
  {
   "cell_type": "code",
   "execution_count": null,
   "id": "7f6047ca",
   "metadata": {},
   "outputs": [],
   "source": [
    "f = open(\"나는 파일이다2.txt\", \"a\")\n",
    "f.write(\"링딩동링딩동\")\n",
    "f.close()"
   ]
  },
  {
   "cell_type": "code",
   "execution_count": null,
   "id": "d8e93868",
   "metadata": {},
   "outputs": [],
   "source": [
    "# f = open(\"나는 파일이다2.txt\", \"a\")\n",
    "with open(\"나는 파일이다2.txt\", \"a\") as f:\n",
    "    f.write(\"둥가당둥가당\")"
   ]
  },
  {
   "cell_type": "code",
   "execution_count": null,
   "id": "21c78a74",
   "metadata": {},
   "outputs": [],
   "source": [
    "#  빅데이터 인공지능\n",
    "# -빅데이터 사이언티스트\n",
    "# -빅데이터 엔지니어\n",
    "\n",
    "#절차 지향정 프로그래밍\n",
    "#procedure\n",
    "\n",
    "#객체 지향적 프로그래밍\n",
    "#class, object"
   ]
  },
  {
   "cell_type": "code",
   "execution_count": null,
   "id": "68708fe1",
   "metadata": {},
   "outputs": [],
   "source": [
    "class FourCal:\n",
    "    #self.first\n",
    "    #self.second\n",
    "    def add(self): #이 클래스에 속하는 동작이다\n",
    "        result = self.first + self.second # 이 클래스 내의 \n",
    "        return result # 클래스 구성요소 아님\n",
    "    def mul(self):\n",
    "        result = self.first * self.second # 이 클래스 내의 \n",
    "        return result # 클래스 구성요소 아님\n",
    "aCal = FourCal()\n",
    "print(aCal.add())"
   ]
  },
  {
   "cell_type": "code",
   "execution_count": null,
   "id": "5136a9f5",
   "metadata": {},
   "outputs": [],
   "source": [
    "class FourCal:\n",
    "    def setdata(self, a, b):\n",
    "        self.first = a\n",
    "        self.second = b\n",
    "    def add(self):\n",
    "        result = self.first + self.second\n",
    "        return result\n",
    "    def mul(self):\n",
    "        result = self.first * self.second\n",
    "        return result\n",
    "aCal = FourCal()\n",
    "bCal = FourCal()\n",
    "aCal.setdata(4, 2) #객체의 추가 세팅 ex)차량을 대리점에 가져와서 도장\n",
    "print(aCal.add())  \n",
    "bCal.setdata(3, 8)\n",
    "print(bCal.add())"
   ]
  },
  {
   "cell_type": "code",
   "execution_count": null,
   "id": "c2651074",
   "metadata": {},
   "outputs": [],
   "source": [
    "# 생성자 (Constructor) ex)차량이 공장출고할 때 도장\n",
    "class FourCal:\n",
    "    def __init__(self, a, b): ######### __init__ 클래스 생성시 정의 해줘야함\n",
    "        self.first = a\n",
    "        self.second = b\n",
    "    def add(self):\n",
    "        result = self.first + self.second\n",
    "        return result\n",
    "    def mul(self):\n",
    "        result = self.first * self.second\n",
    "        return result\n",
    "    def sub(self):\n",
    "        result = self.first - self.second\n",
    "        return result\n",
    "    def div(self): ### 분모가 0이되었을 때 Error\n",
    "        result = self.first / self.second\n",
    "        return result\n",
    "aCal = FourCal(4, 2)\n",
    "bCal = FourCal(3, 8)\n",
    "print(aCal.add())  \n",
    "print(bCal.add())\n",
    "\n",
    "# 클래스의 상속\n",
    "class MoreFourCal(FourCal):\n",
    "    pass \n",
    "\n",
    "c = MoreFourCal(4, 2)\n",
    "d = c.add()\n",
    "print(d)"
   ]
  },
  {
   "cell_type": "code",
   "execution_count": null,
   "id": "b5735e3a",
   "metadata": {},
   "outputs": [],
   "source": [
    "# 클래스의 상속\n",
    "class MoreFourCal(FourCal):\n",
    "    def pow(self):\n",
    "        result = self.first**self.second\n",
    "        return result\n",
    "    def div(self): # Mother Class 를 재정의\n",
    "        if self.second == 0:\n",
    "            self.second = 0.00000000000000001\n",
    "        result = self.first / self.second\n",
    "        return result\n",
    "\n",
    "c = MoreFourCal(4, 0)\n",
    "d = c.div()\n",
    "print(d)"
   ]
  },
  {
   "cell_type": "code",
   "execution_count": null,
   "id": "7efbe81f",
   "metadata": {},
   "outputs": [],
   "source": [
    "class MyMath:\n",
    "    MyPI = 3.14\n",
    "    \n",
    "mm = MyMath()\n",
    "print(mm.MyPI)"
   ]
  },
  {
   "cell_type": "code",
   "execution_count": null,
   "id": "dbbd28a7",
   "metadata": {},
   "outputs": [],
   "source": [
    "class MyMath:\n",
    "    MyPI = 3.14\n",
    "    \n",
    "mm1 = MyMath()\n",
    "mm1.MyPI = 4\n",
    "mm2 = MyMath()\n",
    "print(mm1.MyPI, mm2.MyPI)"
   ]
  },
  {
   "cell_type": "code",
   "execution_count": 1,
   "id": "96fb530e",
   "metadata": {},
   "outputs": [
    {
     "name": "stdout",
     "output_type": "stream",
     "text": [
      "7\n",
      "-1\n"
     ]
    }
   ],
   "source": [
    "import mod1\n",
    "print(mod1.add_mod1(3, 4))\n",
    "print(mod1.sub_mod1(3, 4))"
   ]
  },
  {
   "cell_type": "code",
   "execution_count": 2,
   "id": "b1d6e6e6",
   "metadata": {},
   "outputs": [
    {
     "name": "stdout",
     "output_type": "stream",
     "text": [
      "7\n",
      "-1\n"
     ]
    }
   ],
   "source": [
    "from mod1 import add_mod1, sub_mod1\n",
    "print(add_mod1(3, 4))\n",
    "print(sub_mod1(3, 4))"
   ]
  },
  {
   "cell_type": "code",
   "execution_count": 3,
   "id": "2cc74ead",
   "metadata": {},
   "outputs": [
    {
     "name": "stdout",
     "output_type": "stream",
     "text": [
      "7\n",
      "-1\n"
     ]
    }
   ],
   "source": [
    "from mod1 import * # 다 가져와 > 하지만 필드에서 이 방법은 모듈끼리 \n",
    "# 같은 이름을 공유하는 함수가 있을 수도 있음으로 잘 안 씀\n",
    "print(add_mod1(3, 4))\n",
    "print(sub_mod1(3, 4))"
   ]
  },
  {
   "cell_type": "code",
   "execution_count": 4,
   "id": "5b34f515",
   "metadata": {},
   "outputs": [
    {
     "name": "stdout",
     "output_type": "stream",
     "text": [
      "7\n",
      "-1\n"
     ]
    }
   ],
   "source": [
    "import mod1 as m1 # 짧게쓰기 필드에서 많이 씀\n",
    "print(m1.add_mod1(3, 4))\n",
    "print(m1.sub_mod1(3, 4))"
   ]
  },
  {
   "cell_type": "code",
   "execution_count": 11,
   "id": "a5d68aec",
   "metadata": {},
   "outputs": [
    {
     "name": "stdout",
     "output_type": "stream",
     "text": [
      "7\n",
      "3.14\n",
      "12.56\n"
     ]
    }
   ],
   "source": [
    "import mod2\n",
    "print(mod2.add_mod2(3, 4))\n",
    "print(mod2.PI)\n",
    "mm2 = mod2.Math_mod2()\n",
    "print(mm2.solve(2))"
   ]
  },
  {
   "cell_type": "code",
   "execution_count": 13,
   "id": "44074ca4",
   "metadata": {},
   "outputs": [],
   "source": [
    "import numpy as np\n",
    "import pandas as pd\n",
    "import matplotlib.pyplot as plt"
   ]
  },
  {
   "cell_type": "code",
   "execution_count": 19,
   "id": "59acc692",
   "metadata": {},
   "outputs": [
    {
     "name": "stdout",
     "output_type": "stream",
     "text": [
      "4e+22\n"
     ]
    }
   ],
   "source": [
    "try:\n",
    "    print(4/0)\n",
    "except ZeroDivisionError as e:\n",
    "    print(4/0.0000000000000000000001)\n",
    "finally:\n",
    "    "
   ]
  },
  {
   "cell_type": "code",
   "execution_count": 20,
   "id": "df721785",
   "metadata": {},
   "outputs": [
    {
     "name": "stdout",
     "output_type": "stream",
     "text": [
      "[1, 2, 6]\n"
     ]
    }
   ],
   "source": [
    "# 절대값필터 내장형\n",
    "def positive(l):\n",
    "    result=[]\n",
    "    for i in l:\n",
    "        if i > 0: result.append(i)\n",
    "    return result\n",
    "\n",
    "print(positive([1, -3, 2, 0, -5, 6]))\n",
    "\n"
   ]
  },
  {
   "cell_type": "code",
   "execution_count": 21,
   "id": "b4e7ea90",
   "metadata": {},
   "outputs": [
    {
     "name": "stdout",
     "output_type": "stream",
     "text": [
      "[1, 2, 6]\n"
     ]
    }
   ],
   "source": [
    "# 외부필터\n",
    "def positive(x):\n",
    "    return x > 0\n",
    "data = [1, -3, 2, 0, -5, 6]\n",
    "f = filter(positive, data)\n",
    "print(list(f))"
   ]
  }
 ],
 "metadata": {
  "kernelspec": {
   "display_name": "Python 3",
   "language": "python",
   "name": "python3"
  },
  "language_info": {
   "codemirror_mode": {
    "name": "ipython",
    "version": 3
   },
   "file_extension": ".py",
   "mimetype": "text/x-python",
   "name": "python",
   "nbconvert_exporter": "python",
   "pygments_lexer": "ipython3",
   "version": "3.8.8"
  }
 },
 "nbformat": 4,
 "nbformat_minor": 5
}
