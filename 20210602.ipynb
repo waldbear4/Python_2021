{
 "cells": [
  {
   "cell_type": "code",
   "execution_count": 75,
   "id": "2a02799b",
   "metadata": {},
   "outputs": [
    {
     "data": {
      "text/plain": [
       "0    False\n",
       "1    False\n",
       "2     True\n",
       "3    False\n",
       "dtype: bool"
      ]
     },
     "execution_count": 75,
     "metadata": {},
     "output_type": "execute_result"
    }
   ],
   "source": [
    "# 270p line 10\n",
    "import pandas as pd\n",
    "import numpy as np\n",
    "string_data = pd.Series([\"a\",\"b\", np.nan,\"d\"])\n",
    "string_data.isnull()"
   ]
  },
  {
   "cell_type": "code",
   "execution_count": 7,
   "id": "a8acbff6",
   "metadata": {},
   "outputs": [
    {
     "data": {
      "text/plain": [
       "0    False\n",
       "1     True\n",
       "2    False\n",
       "3     True\n",
       "4    False\n",
       "dtype: bool"
      ]
     },
     "execution_count": 7,
     "metadata": {},
     "output_type": "execute_result"
    }
   ],
   "source": [
    "data = pd.Series([1, np.nan, 3.5, np.nan, 7])\n",
    "data.isnull()"
   ]
  },
  {
   "cell_type": "code",
   "execution_count": 8,
   "id": "75f57e74",
   "metadata": {},
   "outputs": [
    {
     "data": {
      "text/plain": [
       "0    1.0\n",
       "2    3.5\n",
       "4    7.0\n",
       "dtype: float64"
      ]
     },
     "execution_count": 8,
     "metadata": {},
     "output_type": "execute_result"
    }
   ],
   "source": [
    "# na값을 전부 없애줌\n",
    "data = pd.Series([1, np.nan, 3.5, np.nan, 7])\n",
    "data.dropna()"
   ]
  },
  {
   "cell_type": "code",
   "execution_count": 16,
   "id": "2374edac",
   "metadata": {},
   "outputs": [],
   "source": [
    "#272ㅔ line 19\n",
    "from numpy import nan as NA\n",
    "data = pd.DataFrame([[1., 6.5, 3.],[1., NA, NA],[NA, NA, NA],[NA, 6.5, 3.]])"
   ]
  },
  {
   "cell_type": "code",
   "execution_count": 17,
   "id": "341c289d",
   "metadata": {},
   "outputs": [
    {
     "data": {
      "text/html": [
       "<div>\n",
       "<style scoped>\n",
       "    .dataframe tbody tr th:only-of-type {\n",
       "        vertical-align: middle;\n",
       "    }\n",
       "\n",
       "    .dataframe tbody tr th {\n",
       "        vertical-align: top;\n",
       "    }\n",
       "\n",
       "    .dataframe thead th {\n",
       "        text-align: right;\n",
       "    }\n",
       "</style>\n",
       "<table border=\"1\" class=\"dataframe\">\n",
       "  <thead>\n",
       "    <tr style=\"text-align: right;\">\n",
       "      <th></th>\n",
       "      <th>0</th>\n",
       "      <th>1</th>\n",
       "      <th>2</th>\n",
       "    </tr>\n",
       "  </thead>\n",
       "  <tbody>\n",
       "    <tr>\n",
       "      <th>0</th>\n",
       "      <td>1.0</td>\n",
       "      <td>6.5</td>\n",
       "      <td>3.0</td>\n",
       "    </tr>\n",
       "    <tr>\n",
       "      <th>1</th>\n",
       "      <td>1.0</td>\n",
       "      <td>NaN</td>\n",
       "      <td>NaN</td>\n",
       "    </tr>\n",
       "    <tr>\n",
       "      <th>2</th>\n",
       "      <td>NaN</td>\n",
       "      <td>NaN</td>\n",
       "      <td>NaN</td>\n",
       "    </tr>\n",
       "    <tr>\n",
       "      <th>3</th>\n",
       "      <td>NaN</td>\n",
       "      <td>6.5</td>\n",
       "      <td>3.0</td>\n",
       "    </tr>\n",
       "  </tbody>\n",
       "</table>\n",
       "</div>"
      ],
      "text/plain": [
       "     0    1    2\n",
       "0  1.0  6.5  3.0\n",
       "1  1.0  NaN  NaN\n",
       "2  NaN  NaN  NaN\n",
       "3  NaN  6.5  3.0"
      ]
     },
     "execution_count": 17,
     "metadata": {},
     "output_type": "execute_result"
    }
   ],
   "source": [
    "data = pd.DataFrame([[1., 6.5, 3.],[1., NA, NA],[NA, NA, NA],[NA, 6.5, 3.]])\n",
    "data"
   ]
  },
  {
   "cell_type": "code",
   "execution_count": 19,
   "id": "a6b7a394",
   "metadata": {},
   "outputs": [
    {
     "data": {
      "text/html": [
       "<div>\n",
       "<style scoped>\n",
       "    .dataframe tbody tr th:only-of-type {\n",
       "        vertical-align: middle;\n",
       "    }\n",
       "\n",
       "    .dataframe tbody tr th {\n",
       "        vertical-align: top;\n",
       "    }\n",
       "\n",
       "    .dataframe thead th {\n",
       "        text-align: right;\n",
       "    }\n",
       "</style>\n",
       "<table border=\"1\" class=\"dataframe\">\n",
       "  <thead>\n",
       "    <tr style=\"text-align: right;\">\n",
       "      <th></th>\n",
       "      <th>0</th>\n",
       "      <th>1</th>\n",
       "      <th>2</th>\n",
       "    </tr>\n",
       "  </thead>\n",
       "  <tbody>\n",
       "    <tr>\n",
       "      <th>0</th>\n",
       "      <td>1.0</td>\n",
       "      <td>6.5</td>\n",
       "      <td>3.0</td>\n",
       "    </tr>\n",
       "  </tbody>\n",
       "</table>\n",
       "</div>"
      ],
      "text/plain": [
       "     0    1    2\n",
       "0  1.0  6.5  3.0"
      ]
     },
     "execution_count": 19,
     "metadata": {},
     "output_type": "execute_result"
    }
   ],
   "source": [
    "# 너무 다 없어짐\n",
    "cleaned = data.dropna()\n",
    "cleaned"
   ]
  },
  {
   "cell_type": "code",
   "execution_count": 20,
   "id": "4c9ee428",
   "metadata": {},
   "outputs": [
    {
     "data": {
      "text/html": [
       "<div>\n",
       "<style scoped>\n",
       "    .dataframe tbody tr th:only-of-type {\n",
       "        vertical-align: middle;\n",
       "    }\n",
       "\n",
       "    .dataframe tbody tr th {\n",
       "        vertical-align: top;\n",
       "    }\n",
       "\n",
       "    .dataframe thead th {\n",
       "        text-align: right;\n",
       "    }\n",
       "</style>\n",
       "<table border=\"1\" class=\"dataframe\">\n",
       "  <thead>\n",
       "    <tr style=\"text-align: right;\">\n",
       "      <th></th>\n",
       "      <th>0</th>\n",
       "      <th>1</th>\n",
       "      <th>2</th>\n",
       "    </tr>\n",
       "  </thead>\n",
       "  <tbody>\n",
       "    <tr>\n",
       "      <th>0</th>\n",
       "      <td>1.0</td>\n",
       "      <td>6.5</td>\n",
       "      <td>3.0</td>\n",
       "    </tr>\n",
       "    <tr>\n",
       "      <th>1</th>\n",
       "      <td>1.0</td>\n",
       "      <td>NaN</td>\n",
       "      <td>NaN</td>\n",
       "    </tr>\n",
       "    <tr>\n",
       "      <th>3</th>\n",
       "      <td>NaN</td>\n",
       "      <td>6.5</td>\n",
       "      <td>3.0</td>\n",
       "    </tr>\n",
       "  </tbody>\n",
       "</table>\n",
       "</div>"
      ],
      "text/plain": [
       "     0    1    2\n",
       "0  1.0  6.5  3.0\n",
       "1  1.0  NaN  NaN\n",
       "3  NaN  6.5  3.0"
      ]
     },
     "execution_count": 20,
     "metadata": {},
     "output_type": "execute_result"
    }
   ],
   "source": [
    "#\n",
    "data.dropna(how='all')"
   ]
  },
  {
   "cell_type": "code",
   "execution_count": null,
   "id": "2cd1f814",
   "metadata": {},
   "outputs": [],
   "source": [
    "#NaN값을 다 소거하면 남는 데이터가 없으니 \n",
    "#threshold 를 사용 (문턱값)\n",
    "#직접 인수를 설정하던지 아니면 A.I가 자동으로"
   ]
  },
  {
   "cell_type": "code",
   "execution_count": 25,
   "id": "918c3c43",
   "metadata": {},
   "outputs": [
    {
     "ename": "NameError",
     "evalue": "name 'df' is not defined",
     "output_type": "error",
     "traceback": [
      "\u001b[1;31m---------------------------------------------------------------------------\u001b[0m",
      "\u001b[1;31mNameError\u001b[0m                                 Traceback (most recent call last)",
      "\u001b[1;32m<ipython-input-25-1c3cd49b1998>\u001b[0m in \u001b[0;36m<module>\u001b[1;34m\u001b[0m\n\u001b[0;32m      1\u001b[0m \u001b[1;31m# 275p line 35\u001b[0m\u001b[1;33m\u001b[0m\u001b[1;33m\u001b[0m\u001b[1;33m\u001b[0m\u001b[0m\n\u001b[1;32m----> 2\u001b[1;33m \u001b[0mdf2\u001b[0m \u001b[1;33m=\u001b[0m \u001b[0mdf\u001b[0m\u001b[1;33m.\u001b[0m\u001b[0mfillna\u001b[0m\u001b[1;33m(\u001b[0m\u001b[1;36m0\u001b[0m\u001b[1;33m)\u001b[0m\u001b[1;33m\u001b[0m\u001b[1;33m\u001b[0m\u001b[0m\n\u001b[0m\u001b[0;32m      3\u001b[0m \u001b[0mdf2\u001b[0m\u001b[1;33m\u001b[0m\u001b[1;33m\u001b[0m\u001b[0m\n",
      "\u001b[1;31mNameError\u001b[0m: name 'df' is not defined"
     ]
    }
   ],
   "source": [
    "# 275p line 35 \n",
    "df2 = df.fillna(0)\n",
    "df2\n",
    "_ = df.fillna(0, inplace=True) #원본의 NA가 0대체 즉 새로운 df를 안 만듦\n"
   ]
  },
  {
   "cell_type": "code",
   "execution_count": null,
   "id": "6e79fc11",
   "metadata": {},
   "outputs": [],
   "source": [
    "# p276 표7-2\n",
    "# method ffill \n",
    "# line 40"
   ]
  },
  {
   "cell_type": "code",
   "execution_count": 26,
   "id": "42beba24",
   "metadata": {},
   "outputs": [
    {
     "data": {
      "text/html": [
       "<div>\n",
       "<style scoped>\n",
       "    .dataframe tbody tr th:only-of-type {\n",
       "        vertical-align: middle;\n",
       "    }\n",
       "\n",
       "    .dataframe tbody tr th {\n",
       "        vertical-align: top;\n",
       "    }\n",
       "\n",
       "    .dataframe thead th {\n",
       "        text-align: right;\n",
       "    }\n",
       "</style>\n",
       "<table border=\"1\" class=\"dataframe\">\n",
       "  <thead>\n",
       "    <tr style=\"text-align: right;\">\n",
       "      <th></th>\n",
       "      <th>k1</th>\n",
       "      <th>k2</th>\n",
       "    </tr>\n",
       "  </thead>\n",
       "  <tbody>\n",
       "    <tr>\n",
       "      <th>0</th>\n",
       "      <td>one</td>\n",
       "      <td>1</td>\n",
       "    </tr>\n",
       "    <tr>\n",
       "      <th>1</th>\n",
       "      <td>two</td>\n",
       "      <td>1</td>\n",
       "    </tr>\n",
       "    <tr>\n",
       "      <th>2</th>\n",
       "      <td>one</td>\n",
       "      <td>2</td>\n",
       "    </tr>\n",
       "    <tr>\n",
       "      <th>3</th>\n",
       "      <td>two</td>\n",
       "      <td>3</td>\n",
       "    </tr>\n",
       "    <tr>\n",
       "      <th>4</th>\n",
       "      <td>one</td>\n",
       "      <td>4</td>\n",
       "    </tr>\n",
       "    <tr>\n",
       "      <th>5</th>\n",
       "      <td>two</td>\n",
       "      <td>4</td>\n",
       "    </tr>\n",
       "    <tr>\n",
       "      <th>6</th>\n",
       "      <td>two</td>\n",
       "      <td>4</td>\n",
       "    </tr>\n",
       "  </tbody>\n",
       "</table>\n",
       "</div>"
      ],
      "text/plain": [
       "    k1  k2\n",
       "0  one   1\n",
       "1  two   1\n",
       "2  one   2\n",
       "3  two   3\n",
       "4  one   4\n",
       "5  two   4\n",
       "6  two   4"
      ]
     },
     "execution_count": 26,
     "metadata": {},
     "output_type": "execute_result"
    }
   ],
   "source": [
    "dic_data = {\"k1\":['one', 'two', 'one', 'two', 'one', 'two', 'two',],\n",
    "           \"k2\":[1, 1, 2, 3, 4, 4, 4]}\n",
    "data = pd.DataFrame(dic_data)\n",
    "data"
   ]
  },
  {
   "cell_type": "code",
   "execution_count": 27,
   "id": "82277912",
   "metadata": {},
   "outputs": [
    {
     "data": {
      "text/plain": [
       "0    False\n",
       "1    False\n",
       "2    False\n",
       "3    False\n",
       "4    False\n",
       "5    False\n",
       "6     True\n",
       "dtype: bool"
      ]
     },
     "execution_count": 27,
     "metadata": {},
     "output_type": "execute_result"
    }
   ],
   "source": [
    "#중복확인\n",
    "data.duplicated()"
   ]
  },
  {
   "cell_type": "code",
   "execution_count": 28,
   "id": "8f053d81",
   "metadata": {},
   "outputs": [
    {
     "data": {
      "text/html": [
       "<div>\n",
       "<style scoped>\n",
       "    .dataframe tbody tr th:only-of-type {\n",
       "        vertical-align: middle;\n",
       "    }\n",
       "\n",
       "    .dataframe tbody tr th {\n",
       "        vertical-align: top;\n",
       "    }\n",
       "\n",
       "    .dataframe thead th {\n",
       "        text-align: right;\n",
       "    }\n",
       "</style>\n",
       "<table border=\"1\" class=\"dataframe\">\n",
       "  <thead>\n",
       "    <tr style=\"text-align: right;\">\n",
       "      <th></th>\n",
       "      <th>k1</th>\n",
       "      <th>k2</th>\n",
       "    </tr>\n",
       "  </thead>\n",
       "  <tbody>\n",
       "    <tr>\n",
       "      <th>0</th>\n",
       "      <td>one</td>\n",
       "      <td>1</td>\n",
       "    </tr>\n",
       "    <tr>\n",
       "      <th>1</th>\n",
       "      <td>two</td>\n",
       "      <td>1</td>\n",
       "    </tr>\n",
       "    <tr>\n",
       "      <th>2</th>\n",
       "      <td>one</td>\n",
       "      <td>2</td>\n",
       "    </tr>\n",
       "    <tr>\n",
       "      <th>3</th>\n",
       "      <td>two</td>\n",
       "      <td>3</td>\n",
       "    </tr>\n",
       "    <tr>\n",
       "      <th>4</th>\n",
       "      <td>one</td>\n",
       "      <td>4</td>\n",
       "    </tr>\n",
       "    <tr>\n",
       "      <th>5</th>\n",
       "      <td>two</td>\n",
       "      <td>4</td>\n",
       "    </tr>\n",
       "  </tbody>\n",
       "</table>\n",
       "</div>"
      ],
      "text/plain": [
       "    k1  k2\n",
       "0  one   1\n",
       "1  two   1\n",
       "2  one   2\n",
       "3  two   3\n",
       "4  one   4\n",
       "5  two   4"
      ]
     },
     "execution_count": 28,
     "metadata": {},
     "output_type": "execute_result"
    }
   ],
   "source": [
    "# 중복된거 없애기\n",
    "data.drop_duplicates()"
   ]
  },
  {
   "cell_type": "code",
   "execution_count": 31,
   "id": "db232efa",
   "metadata": {},
   "outputs": [
    {
     "data": {
      "text/html": [
       "<div>\n",
       "<style scoped>\n",
       "    .dataframe tbody tr th:only-of-type {\n",
       "        vertical-align: middle;\n",
       "    }\n",
       "\n",
       "    .dataframe tbody tr th {\n",
       "        vertical-align: top;\n",
       "    }\n",
       "\n",
       "    .dataframe thead th {\n",
       "        text-align: right;\n",
       "    }\n",
       "</style>\n",
       "<table border=\"1\" class=\"dataframe\">\n",
       "  <thead>\n",
       "    <tr style=\"text-align: right;\">\n",
       "      <th></th>\n",
       "      <th>k1</th>\n",
       "      <th>k2</th>\n",
       "      <th>v1</th>\n",
       "    </tr>\n",
       "  </thead>\n",
       "  <tbody>\n",
       "    <tr>\n",
       "      <th>0</th>\n",
       "      <td>one</td>\n",
       "      <td>1</td>\n",
       "      <td>0</td>\n",
       "    </tr>\n",
       "    <tr>\n",
       "      <th>1</th>\n",
       "      <td>two</td>\n",
       "      <td>1</td>\n",
       "      <td>1</td>\n",
       "    </tr>\n",
       "    <tr>\n",
       "      <th>2</th>\n",
       "      <td>one</td>\n",
       "      <td>2</td>\n",
       "      <td>2</td>\n",
       "    </tr>\n",
       "    <tr>\n",
       "      <th>3</th>\n",
       "      <td>two</td>\n",
       "      <td>3</td>\n",
       "      <td>3</td>\n",
       "    </tr>\n",
       "    <tr>\n",
       "      <th>4</th>\n",
       "      <td>one</td>\n",
       "      <td>4</td>\n",
       "      <td>4</td>\n",
       "    </tr>\n",
       "    <tr>\n",
       "      <th>5</th>\n",
       "      <td>two</td>\n",
       "      <td>4</td>\n",
       "      <td>5</td>\n",
       "    </tr>\n",
       "    <tr>\n",
       "      <th>6</th>\n",
       "      <td>two</td>\n",
       "      <td>4</td>\n",
       "      <td>6</td>\n",
       "    </tr>\n",
       "  </tbody>\n",
       "</table>\n",
       "</div>"
      ],
      "text/plain": [
       "    k1  k2  v1\n",
       "0  one   1   0\n",
       "1  two   1   1\n",
       "2  one   2   2\n",
       "3  two   3   3\n",
       "4  one   4   4\n",
       "5  two   4   5\n",
       "6  two   4   6"
      ]
     },
     "execution_count": 31,
     "metadata": {},
     "output_type": "execute_result"
    }
   ],
   "source": [
    "#컬럼추가\n",
    "data['v1'] = [0,1,2,3,4,5,6]\n",
    "data"
   ]
  },
  {
   "cell_type": "code",
   "execution_count": 32,
   "id": "377d7136",
   "metadata": {},
   "outputs": [
    {
     "data": {
      "text/html": [
       "<div>\n",
       "<style scoped>\n",
       "    .dataframe tbody tr th:only-of-type {\n",
       "        vertical-align: middle;\n",
       "    }\n",
       "\n",
       "    .dataframe tbody tr th {\n",
       "        vertical-align: top;\n",
       "    }\n",
       "\n",
       "    .dataframe thead th {\n",
       "        text-align: right;\n",
       "    }\n",
       "</style>\n",
       "<table border=\"1\" class=\"dataframe\">\n",
       "  <thead>\n",
       "    <tr style=\"text-align: right;\">\n",
       "      <th></th>\n",
       "      <th>k1</th>\n",
       "      <th>k2</th>\n",
       "      <th>v1</th>\n",
       "    </tr>\n",
       "  </thead>\n",
       "  <tbody>\n",
       "    <tr>\n",
       "      <th>0</th>\n",
       "      <td>one</td>\n",
       "      <td>1</td>\n",
       "      <td>0</td>\n",
       "    </tr>\n",
       "    <tr>\n",
       "      <th>1</th>\n",
       "      <td>two</td>\n",
       "      <td>1</td>\n",
       "      <td>1</td>\n",
       "    </tr>\n",
       "  </tbody>\n",
       "</table>\n",
       "</div>"
      ],
      "text/plain": [
       "    k1  k2  v1\n",
       "0  one   1   0\n",
       "1  two   1   1"
      ]
     },
     "execution_count": 32,
     "metadata": {},
     "output_type": "execute_result"
    }
   ],
   "source": [
    "#\n",
    "data.drop_duplicates(['k1'])"
   ]
  },
  {
   "cell_type": "code",
   "execution_count": 33,
   "id": "d0858126",
   "metadata": {},
   "outputs": [
    {
     "data": {
      "text/html": [
       "<div>\n",
       "<style scoped>\n",
       "    .dataframe tbody tr th:only-of-type {\n",
       "        vertical-align: middle;\n",
       "    }\n",
       "\n",
       "    .dataframe tbody tr th {\n",
       "        vertical-align: top;\n",
       "    }\n",
       "\n",
       "    .dataframe thead th {\n",
       "        text-align: right;\n",
       "    }\n",
       "</style>\n",
       "<table border=\"1\" class=\"dataframe\">\n",
       "  <thead>\n",
       "    <tr style=\"text-align: right;\">\n",
       "      <th></th>\n",
       "      <th>k1</th>\n",
       "      <th>k2</th>\n",
       "      <th>v1</th>\n",
       "    </tr>\n",
       "  </thead>\n",
       "  <tbody>\n",
       "    <tr>\n",
       "      <th>0</th>\n",
       "      <td>one</td>\n",
       "      <td>1</td>\n",
       "      <td>0</td>\n",
       "    </tr>\n",
       "    <tr>\n",
       "      <th>1</th>\n",
       "      <td>two</td>\n",
       "      <td>1</td>\n",
       "      <td>1</td>\n",
       "    </tr>\n",
       "    <tr>\n",
       "      <th>2</th>\n",
       "      <td>one</td>\n",
       "      <td>2</td>\n",
       "      <td>2</td>\n",
       "    </tr>\n",
       "    <tr>\n",
       "      <th>3</th>\n",
       "      <td>two</td>\n",
       "      <td>3</td>\n",
       "      <td>3</td>\n",
       "    </tr>\n",
       "    <tr>\n",
       "      <th>4</th>\n",
       "      <td>one</td>\n",
       "      <td>4</td>\n",
       "      <td>4</td>\n",
       "    </tr>\n",
       "    <tr>\n",
       "      <th>6</th>\n",
       "      <td>two</td>\n",
       "      <td>4</td>\n",
       "      <td>6</td>\n",
       "    </tr>\n",
       "  </tbody>\n",
       "</table>\n",
       "</div>"
      ],
      "text/plain": [
       "    k1  k2  v1\n",
       "0  one   1   0\n",
       "1  two   1   1\n",
       "2  one   2   2\n",
       "3  two   3   3\n",
       "4  one   4   4\n",
       "6  two   4   6"
      ]
     },
     "execution_count": 33,
     "metadata": {},
     "output_type": "execute_result"
    }
   ],
   "source": [
    "#마지막 생성되는 값에 비중을 둔다\n",
    "data.drop_duplicates(['k1','k2'], keep ='last')"
   ]
  },
  {
   "cell_type": "code",
   "execution_count": 34,
   "id": "43fd2f28",
   "metadata": {},
   "outputs": [
    {
     "data": {
      "text/html": [
       "<div>\n",
       "<style scoped>\n",
       "    .dataframe tbody tr th:only-of-type {\n",
       "        vertical-align: middle;\n",
       "    }\n",
       "\n",
       "    .dataframe tbody tr th {\n",
       "        vertical-align: top;\n",
       "    }\n",
       "\n",
       "    .dataframe thead th {\n",
       "        text-align: right;\n",
       "    }\n",
       "</style>\n",
       "<table border=\"1\" class=\"dataframe\">\n",
       "  <thead>\n",
       "    <tr style=\"text-align: right;\">\n",
       "      <th></th>\n",
       "      <th>k1</th>\n",
       "      <th>k2</th>\n",
       "      <th>v1</th>\n",
       "    </tr>\n",
       "  </thead>\n",
       "  <tbody>\n",
       "    <tr>\n",
       "      <th>0</th>\n",
       "      <td>one</td>\n",
       "      <td>1</td>\n",
       "      <td>0</td>\n",
       "    </tr>\n",
       "    <tr>\n",
       "      <th>1</th>\n",
       "      <td>two</td>\n",
       "      <td>1</td>\n",
       "      <td>1</td>\n",
       "    </tr>\n",
       "    <tr>\n",
       "      <th>2</th>\n",
       "      <td>one</td>\n",
       "      <td>2</td>\n",
       "      <td>2</td>\n",
       "    </tr>\n",
       "    <tr>\n",
       "      <th>3</th>\n",
       "      <td>two</td>\n",
       "      <td>3</td>\n",
       "      <td>3</td>\n",
       "    </tr>\n",
       "    <tr>\n",
       "      <th>4</th>\n",
       "      <td>one</td>\n",
       "      <td>4</td>\n",
       "      <td>4</td>\n",
       "    </tr>\n",
       "    <tr>\n",
       "      <th>5</th>\n",
       "      <td>two</td>\n",
       "      <td>4</td>\n",
       "      <td>5</td>\n",
       "    </tr>\n",
       "  </tbody>\n",
       "</table>\n",
       "</div>"
      ],
      "text/plain": [
       "    k1  k2  v1\n",
       "0  one   1   0\n",
       "1  two   1   1\n",
       "2  one   2   2\n",
       "3  two   3   3\n",
       "4  one   4   4\n",
       "5  two   4   5"
      ]
     },
     "execution_count": 34,
     "metadata": {},
     "output_type": "execute_result"
    }
   ],
   "source": [
    "# 처음생성되었던 값에 비중을 둠\n",
    "data.drop_duplicates(['k1','k2'], keep ='first')"
   ]
  },
  {
   "cell_type": "code",
   "execution_count": null,
   "id": "7364fbf3",
   "metadata": {},
   "outputs": [],
   "source": [
    "data = pd.DataFrame({'food': ['bacon', 'pulled pork', 'bacon', 'pastrami', 'corned beef', 'bacon', ]})"
   ]
  },
  {
   "cell_type": "code",
   "execution_count": 35,
   "id": "710b246f",
   "metadata": {},
   "outputs": [
    {
     "data": {
      "text/plain": [
       "0       1.0\n",
       "1    -999.0\n",
       "2       2.0\n",
       "3    -999.0\n",
       "4   -1000.0\n",
       "5       3.0\n",
       "dtype: float64"
      ]
     },
     "execution_count": 35,
     "metadata": {},
     "output_type": "execute_result"
    }
   ],
   "source": [
    "data = pd.Series([1., -999., 2., -999., -1000., 3.])\n",
    "data"
   ]
  },
  {
   "cell_type": "code",
   "execution_count": 36,
   "id": "93530cc6",
   "metadata": {},
   "outputs": [
    {
     "data": {
      "text/plain": [
       "0       1.0\n",
       "1       NaN\n",
       "2       2.0\n",
       "3       NaN\n",
       "4   -1000.0\n",
       "5       3.0\n",
       "dtype: float64"
      ]
     },
     "execution_count": 36,
     "metadata": {},
     "output_type": "execute_result"
    }
   ],
   "source": [
    "data.replace(-999, np.nan)"
   ]
  },
  {
   "cell_type": "code",
   "execution_count": 38,
   "id": "a57d595a",
   "metadata": {},
   "outputs": [
    {
     "data": {
      "text/plain": [
       "0    1.0\n",
       "1    NaN\n",
       "2    2.0\n",
       "3    NaN\n",
       "4    NaN\n",
       "5    3.0\n",
       "dtype: float64"
      ]
     },
     "execution_count": 38,
     "metadata": {},
     "output_type": "execute_result"
    }
   ],
   "source": [
    "data.replace([-999, -1000], np.nan)"
   ]
  },
  {
   "cell_type": "code",
   "execution_count": 39,
   "id": "b2a649a7",
   "metadata": {},
   "outputs": [
    {
     "data": {
      "text/plain": [
       "0    1.0\n",
       "1    NaN\n",
       "2    2.0\n",
       "3    NaN\n",
       "4    0.0\n",
       "5    3.0\n",
       "dtype: float64"
      ]
     },
     "execution_count": 39,
     "metadata": {},
     "output_type": "execute_result"
    }
   ],
   "source": [
    "data.replace([-999, -1000], [np.nan, 0])"
   ]
  },
  {
   "cell_type": "code",
   "execution_count": 41,
   "id": "0eba59b2",
   "metadata": {},
   "outputs": [
    {
     "data": {
      "text/plain": [
       "0    1.0\n",
       "1    NaN\n",
       "2    2.0\n",
       "3    NaN\n",
       "4    0.0\n",
       "5    3.0\n",
       "dtype: float64"
      ]
     },
     "execution_count": 41,
     "metadata": {},
     "output_type": "execute_result"
    }
   ],
   "source": [
    "data.replace({-999: np.nan, -1000: 0})"
   ]
  },
  {
   "cell_type": "code",
   "execution_count": 48,
   "id": "264cd444",
   "metadata": {},
   "outputs": [
    {
     "name": "stdout",
     "output_type": "stream",
     "text": [
      "foo bar\t baz \tqux\n"
     ]
    }
   ],
   "source": [
    "import re\n",
    "text = \"foo bar\\t baz \\tqux\"\n",
    "print(text)"
   ]
  },
  {
   "cell_type": "code",
   "execution_count": 49,
   "id": "5afb1e11",
   "metadata": {},
   "outputs": [
    {
     "data": {
      "text/plain": [
       "['foo', 'bar', 'baz', 'qux']"
      ]
     },
     "execution_count": 49,
     "metadata": {},
     "output_type": "execute_result"
    }
   ],
   "source": [
    "re.split('\\s+', text)"
   ]
  },
  {
   "cell_type": "code",
   "execution_count": 51,
   "id": "0b4e9efe",
   "metadata": {},
   "outputs": [
    {
     "data": {
      "text/plain": [
       "['foo', 'bar', 'baz', 'qux']"
      ]
     },
     "execution_count": 51,
     "metadata": {},
     "output_type": "execute_result"
    }
   ],
   "source": [
    "regex = re.compile('\\s+')\n",
    "regex.split(text)"
   ]
  },
  {
   "cell_type": "code",
   "execution_count": 52,
   "id": "236c35b8",
   "metadata": {},
   "outputs": [
    {
     "data": {
      "text/plain": [
       "[' ', '\\t ', ' \\t']"
      ]
     },
     "execution_count": 52,
     "metadata": {},
     "output_type": "execute_result"
    }
   ],
   "source": [
    "regex.findall(text)"
   ]
  },
  {
   "cell_type": "code",
   "execution_count": 54,
   "id": "76f9c99e",
   "metadata": {},
   "outputs": [],
   "source": [
    "text = \"\"\"Dave dave@google.com\n",
    "Steve steve@google.com\n",
    "Rob rob@google.com\n",
    "Ryan ryan@google.com\n",
    "\"\"\"\n",
    "pattern = r'[A-Z0-9._%+-]+@[A-Z0-9._%+-]+.[A-Z]{2,4}'\n",
    "re1 = re.compile(pattern, flags=re.IGNORECASE)"
   ]
  },
  {
   "cell_type": "code",
   "execution_count": 47,
   "id": "c4e97b53",
   "metadata": {},
   "outputs": [
    {
     "data": {
      "text/plain": [
       "['dave@google.com', 'steve@google.com', 'rob@google.com', 'ryan@google.com']"
      ]
     },
     "execution_count": 47,
     "metadata": {},
     "output_type": "execute_result"
    }
   ],
   "source": [
    "re1.findall(text)"
   ]
  },
  {
   "cell_type": "code",
   "execution_count": 55,
   "id": "f46de95d",
   "metadata": {},
   "outputs": [
    {
     "data": {
      "text/plain": [
       "[' ', '\\n', ' ', '\\n', ' ', '\\n', ' ', '\\n']"
      ]
     },
     "execution_count": 55,
     "metadata": {},
     "output_type": "execute_result"
    }
   ],
   "source": [
    "regex.findall(text)"
   ]
  },
  {
   "cell_type": "code",
   "execution_count": 59,
   "id": "1347cb9d",
   "metadata": {},
   "outputs": [],
   "source": [
    "data = pd.Series(np.random.randn(9),\n",
    "                index=[['a','a','a', 'b','b', 'c','c','d','d'],\n",
    "                       [1, 2, 3,      1,  2,   1,  2,  1,  2]])"
   ]
  },
  {
   "cell_type": "code",
   "execution_count": 61,
   "id": "a443c2e0",
   "metadata": {},
   "outputs": [
    {
     "data": {
      "text/plain": [
       "1    0.148168\n",
       "2   -0.775062\n",
       "dtype: float64"
      ]
     },
     "execution_count": 61,
     "metadata": {},
     "output_type": "execute_result"
    }
   ],
   "source": [
    "data['b']"
   ]
  },
  {
   "cell_type": "code",
   "execution_count": 62,
   "id": "96e6995c",
   "metadata": {},
   "outputs": [
    {
     "data": {
      "text/plain": [
       "b  1    0.148168\n",
       "   2   -0.775062\n",
       "d  1   -0.881184\n",
       "   2   -0.321345\n",
       "dtype: float64"
      ]
     },
     "execution_count": 62,
     "metadata": {},
     "output_type": "execute_result"
    }
   ],
   "source": [
    "data.loc[['b','d']]"
   ]
  },
  {
   "cell_type": "code",
   "execution_count": 63,
   "id": "77c0eaef",
   "metadata": {},
   "outputs": [
    {
     "data": {
      "text/plain": [
       "-0.7750617027668799"
      ]
     },
     "execution_count": 63,
     "metadata": {},
     "output_type": "execute_result"
    }
   ],
   "source": [
    "data.loc['b',2]"
   ]
  },
  {
   "cell_type": "code",
   "execution_count": 87,
   "id": "0cd9aca6",
   "metadata": {},
   "outputs": [],
   "source": [
    "df1 = pd.DataFrame({'key':['b','b','a','c','a','a','b'],\n",
    "                    'data1':[0, 1, 2, 3, 4, 5, 6]})\n",
    "df2 = pd.DataFrame({'key':['a', 'b', 'd'],\n",
    "                    'data2':[0, 1, 2]})"
   ]
  },
  {
   "cell_type": "code",
   "execution_count": 88,
   "id": "e36c3b34",
   "metadata": {},
   "outputs": [
    {
     "data": {
      "text/html": [
       "<div>\n",
       "<style scoped>\n",
       "    .dataframe tbody tr th:only-of-type {\n",
       "        vertical-align: middle;\n",
       "    }\n",
       "\n",
       "    .dataframe tbody tr th {\n",
       "        vertical-align: top;\n",
       "    }\n",
       "\n",
       "    .dataframe thead th {\n",
       "        text-align: right;\n",
       "    }\n",
       "</style>\n",
       "<table border=\"1\" class=\"dataframe\">\n",
       "  <thead>\n",
       "    <tr style=\"text-align: right;\">\n",
       "      <th></th>\n",
       "      <th>key</th>\n",
       "      <th>data1</th>\n",
       "      <th>data2</th>\n",
       "    </tr>\n",
       "  </thead>\n",
       "  <tbody>\n",
       "    <tr>\n",
       "      <th>0</th>\n",
       "      <td>b</td>\n",
       "      <td>0</td>\n",
       "      <td>1</td>\n",
       "    </tr>\n",
       "    <tr>\n",
       "      <th>1</th>\n",
       "      <td>b</td>\n",
       "      <td>1</td>\n",
       "      <td>1</td>\n",
       "    </tr>\n",
       "    <tr>\n",
       "      <th>2</th>\n",
       "      <td>b</td>\n",
       "      <td>6</td>\n",
       "      <td>1</td>\n",
       "    </tr>\n",
       "    <tr>\n",
       "      <th>3</th>\n",
       "      <td>a</td>\n",
       "      <td>2</td>\n",
       "      <td>0</td>\n",
       "    </tr>\n",
       "    <tr>\n",
       "      <th>4</th>\n",
       "      <td>a</td>\n",
       "      <td>4</td>\n",
       "      <td>0</td>\n",
       "    </tr>\n",
       "    <tr>\n",
       "      <th>5</th>\n",
       "      <td>a</td>\n",
       "      <td>5</td>\n",
       "      <td>0</td>\n",
       "    </tr>\n",
       "  </tbody>\n",
       "</table>\n",
       "</div>"
      ],
      "text/plain": [
       "  key  data1  data2\n",
       "0   b      0      1\n",
       "1   b      1      1\n",
       "2   b      6      1\n",
       "3   a      2      0\n",
       "4   a      4      0\n",
       "5   a      5      0"
      ]
     },
     "execution_count": 88,
     "metadata": {},
     "output_type": "execute_result"
    }
   ],
   "source": [
    "pd.merge(df1, df2, on='key')"
   ]
  },
  {
   "cell_type": "code",
   "execution_count": 92,
   "id": "14a7009e",
   "metadata": {},
   "outputs": [],
   "source": [
    "df3 = pd.DataFrame({'l_key':['b','b','a','c','a','a','b'],\n",
    "                    'data3':[0, 1, 2, 3, 4, 5, 6]})\n",
    "df4 = pd.DataFrame({'r_key':['a', 'b', 'd'],\n",
    "                    'data4':[0, 1, 2]})"
   ]
  },
  {
   "cell_type": "code",
   "execution_count": 94,
   "id": "87f99dfb",
   "metadata": {},
   "outputs": [
    {
     "data": {
      "text/html": [
       "<div>\n",
       "<style scoped>\n",
       "    .dataframe tbody tr th:only-of-type {\n",
       "        vertical-align: middle;\n",
       "    }\n",
       "\n",
       "    .dataframe tbody tr th {\n",
       "        vertical-align: top;\n",
       "    }\n",
       "\n",
       "    .dataframe thead th {\n",
       "        text-align: right;\n",
       "    }\n",
       "</style>\n",
       "<table border=\"1\" class=\"dataframe\">\n",
       "  <thead>\n",
       "    <tr style=\"text-align: right;\">\n",
       "      <th></th>\n",
       "      <th>l_key</th>\n",
       "      <th>data3</th>\n",
       "      <th>r_key</th>\n",
       "      <th>data4</th>\n",
       "    </tr>\n",
       "  </thead>\n",
       "  <tbody>\n",
       "    <tr>\n",
       "      <th>0</th>\n",
       "      <td>b</td>\n",
       "      <td>0</td>\n",
       "      <td>b</td>\n",
       "      <td>1</td>\n",
       "    </tr>\n",
       "    <tr>\n",
       "      <th>1</th>\n",
       "      <td>b</td>\n",
       "      <td>1</td>\n",
       "      <td>b</td>\n",
       "      <td>1</td>\n",
       "    </tr>\n",
       "    <tr>\n",
       "      <th>2</th>\n",
       "      <td>b</td>\n",
       "      <td>6</td>\n",
       "      <td>b</td>\n",
       "      <td>1</td>\n",
       "    </tr>\n",
       "    <tr>\n",
       "      <th>3</th>\n",
       "      <td>a</td>\n",
       "      <td>2</td>\n",
       "      <td>a</td>\n",
       "      <td>0</td>\n",
       "    </tr>\n",
       "    <tr>\n",
       "      <th>4</th>\n",
       "      <td>a</td>\n",
       "      <td>4</td>\n",
       "      <td>a</td>\n",
       "      <td>0</td>\n",
       "    </tr>\n",
       "    <tr>\n",
       "      <th>5</th>\n",
       "      <td>a</td>\n",
       "      <td>5</td>\n",
       "      <td>a</td>\n",
       "      <td>0</td>\n",
       "    </tr>\n",
       "  </tbody>\n",
       "</table>\n",
       "</div>"
      ],
      "text/plain": [
       "  l_key  data3 r_key  data4\n",
       "0     b      0     b      1\n",
       "1     b      1     b      1\n",
       "2     b      6     b      1\n",
       "3     a      2     a      0\n",
       "4     a      4     a      0\n",
       "5     a      5     a      0"
      ]
     },
     "execution_count": 94,
     "metadata": {},
     "output_type": "execute_result"
    }
   ],
   "source": [
    "pd.merge(df3, df4, left_on='l_key', right_on='r_key')"
   ]
  },
  {
   "cell_type": "code",
   "execution_count": 100,
   "id": "5a7997c4",
   "metadata": {},
   "outputs": [
    {
     "ename": "SyntaxError",
     "evalue": "expression cannot contain assignment, perhaps you meant \"==\"? (<ipython-input-100-7ef50425c6b9>, line 4)",
     "output_type": "error",
     "traceback": [
      "\u001b[1;36m  File \u001b[1;32m\"<ipython-input-100-7ef50425c6b9>\"\u001b[1;36m, line \u001b[1;32m4\u001b[0m\n\u001b[1;33m    'index' = ['a','b'])\u001b[0m\n\u001b[1;37m    ^\u001b[0m\n\u001b[1;31mSyntaxError\u001b[0m\u001b[1;31m:\u001b[0m expression cannot contain assignment, perhaps you meant \"==\"?\n"
     ]
    }
   ],
   "source": [
    "left1 = pd.DataFrame({'key':['a','b','a','a','b','c'],\n",
    "                     'value':range(6)})\n",
    "right1 = pd.DataFrame({'group_val': [3.5, 7]},\n",
    "                     'index' = ['a','b'])"
   ]
  },
  {
   "cell_type": "code",
   "execution_count": 96,
   "id": "a83d2912",
   "metadata": {},
   "outputs": [
    {
     "ename": "NameError",
     "evalue": "name 'left1' is not defined",
     "output_type": "error",
     "traceback": [
      "\u001b[1;31m---------------------------------------------------------------------------\u001b[0m",
      "\u001b[1;31mNameError\u001b[0m                                 Traceback (most recent call last)",
      "\u001b[1;32m<ipython-input-96-9a8138034b45>\u001b[0m in \u001b[0;36m<module>\u001b[1;34m\u001b[0m\n\u001b[1;32m----> 1\u001b[1;33m \u001b[0mpd\u001b[0m\u001b[1;33m.\u001b[0m\u001b[0mmerge\u001b[0m\u001b[1;33m(\u001b[0m\u001b[0mleft1\u001b[0m\u001b[1;33m,\u001b[0m \u001b[0mright1\u001b[0m\u001b[1;33m,\u001b[0m \u001b[0mleft_on\u001b[0m\u001b[1;33m=\u001b[0m\u001b[1;34m'key'\u001b[0m\u001b[1;33m,\u001b[0m \u001b[0mright_index\u001b[0m\u001b[1;33m=\u001b[0m\u001b[1;32mTrue\u001b[0m\u001b[1;33m)\u001b[0m\u001b[1;33m\u001b[0m\u001b[1;33m\u001b[0m\u001b[0m\n\u001b[0m",
      "\u001b[1;31mNameError\u001b[0m: name 'left1' is not defined"
     ]
    }
   ],
   "source": [
    "\n",
    "# 딱히 key로 잡을게 없다 그러면 행 번호로 키로 잡을 수 있음\n",
    "pd.merge(left1, right1, left_on='key', right_index=True)"
   ]
  },
  {
   "cell_type": "code",
   "execution_count": 108,
   "id": "80e63881",
   "metadata": {},
   "outputs": [
    {
     "data": {
      "text/plain": [
       "array([[ 0,  1,  2,  3],\n",
       "       [ 4,  5,  6,  7],\n",
       "       [ 8,  9, 10, 11]])"
      ]
     },
     "execution_count": 108,
     "metadata": {},
     "output_type": "execute_result"
    }
   ],
   "source": [
    "#concat\n",
    "import numpy as np\n",
    "arr = np.arange(12).reshape((3,4))\n",
    "arr"
   ]
  },
  {
   "cell_type": "code",
   "execution_count": 102,
   "id": "970aecb6",
   "metadata": {},
   "outputs": [
    {
     "data": {
      "text/plain": [
       "array([[ 0,  1,  2,  3],\n",
       "       [ 4,  5,  6,  7],\n",
       "       [ 8,  9, 10, 11],\n",
       "       [ 0,  1,  2,  3],\n",
       "       [ 4,  5,  6,  7],\n",
       "       [ 8,  9, 10, 11]])"
      ]
     },
     "execution_count": 102,
     "metadata": {},
     "output_type": "execute_result"
    }
   ],
   "source": [
    "np.concatenate([arr, arr])"
   ]
  },
  {
   "cell_type": "code",
   "execution_count": 115,
   "id": "4dbdcbcb",
   "metadata": {},
   "outputs": [
    {
     "ename": "AttributeError",
     "evalue": "module 'numpy' has no attribute 'concat'",
     "output_type": "error",
     "traceback": [
      "\u001b[1;31m---------------------------------------------------------------------------\u001b[0m",
      "\u001b[1;31mAttributeError\u001b[0m                            Traceback (most recent call last)",
      "\u001b[1;32m<ipython-input-115-9fe396439e5a>\u001b[0m in \u001b[0;36m<module>\u001b[1;34m\u001b[0m\n\u001b[1;32m----> 1\u001b[1;33m \u001b[0mnp\u001b[0m\u001b[1;33m.\u001b[0m\u001b[0mconcat\u001b[0m\u001b[1;33m(\u001b[0m\u001b[1;33m[\u001b[0m\u001b[0marr\u001b[0m\u001b[1;33m.\u001b[0m \u001b[0marr\u001b[0m\u001b[1;33m]\u001b[0m\u001b[1;33m,\u001b[0m \u001b[0maxis\u001b[0m\u001b[1;33m=\u001b[0m\u001b[1;36m0\u001b[0m\u001b[1;33m)\u001b[0m\u001b[1;33m\u001b[0m\u001b[1;33m\u001b[0m\u001b[0m\n\u001b[0m",
      "\u001b[1;32mC:\\Programmierung\\Anaconda3\\lib\\site-packages\\numpy\\__init__.py\u001b[0m in \u001b[0;36m__getattr__\u001b[1;34m(attr)\u001b[0m\n\u001b[0;32m    301\u001b[0m                 \u001b[1;32mreturn\u001b[0m \u001b[0mTester\u001b[0m\u001b[1;33m\u001b[0m\u001b[1;33m\u001b[0m\u001b[0m\n\u001b[0;32m    302\u001b[0m \u001b[1;33m\u001b[0m\u001b[0m\n\u001b[1;32m--> 303\u001b[1;33m             raise AttributeError(\"module {!r} has no attribute \"\n\u001b[0m\u001b[0;32m    304\u001b[0m                                  \"{!r}\".format(__name__, attr))\n\u001b[0;32m    305\u001b[0m \u001b[1;33m\u001b[0m\u001b[0m\n",
      "\u001b[1;31mAttributeError\u001b[0m: module 'numpy' has no attribute 'concat'"
     ]
    }
   ],
   "source": [
    "np.concat([arr. arr], axis=0)"
   ]
  },
  {
   "cell_type": "code",
   "execution_count": 110,
   "id": "d3f28253",
   "metadata": {},
   "outputs": [
    {
     "data": {
      "text/plain": [
       "a    0\n",
       "b    1\n",
       "c    2\n",
       "d    3\n",
       "e    4\n",
       "f    5\n",
       "g    6\n",
       "dtype: int64"
      ]
     },
     "execution_count": 110,
     "metadata": {},
     "output_type": "execute_result"
    }
   ],
   "source": [
    "s1 = pd.Series([0,1], index=[\"a\", 'b'])\n",
    "s2 = pd.Series([2,3,4], index=[\"c\", 'd','e'])\n",
    "s3 = pd.Series([5,6], index=[\"f\", 'g'])\n",
    "pd.concat([s1, s2, s3])"
   ]
  },
  {
   "cell_type": "code",
   "execution_count": 114,
   "id": "f797e9ee",
   "metadata": {},
   "outputs": [
    {
     "data": {
      "text/plain": [
       "a    0\n",
       "b    1\n",
       "c    2\n",
       "d    3\n",
       "e    4\n",
       "f    5\n",
       "g    6\n",
       "dtype: int64"
      ]
     },
     "execution_count": 114,
     "metadata": {},
     "output_type": "execute_result"
    }
   ],
   "source": [
    "pd.concat([s1,s2,s3], axis=0)"
   ]
  },
  {
   "cell_type": "code",
   "execution_count": 117,
   "id": "c48882a5",
   "metadata": {},
   "outputs": [],
   "source": [
    "df1 = pd.DataFrame(np.random.randn(3,4), columns=['a','b','c','d'])\n",
    "df2 = pd.DataFrame(np.random.randn(2,3), columns=['b','d','a'])"
   ]
  },
  {
   "cell_type": "code",
   "execution_count": 118,
   "id": "8fc46722",
   "metadata": {},
   "outputs": [
    {
     "data": {
      "text/html": [
       "<div>\n",
       "<style scoped>\n",
       "    .dataframe tbody tr th:only-of-type {\n",
       "        vertical-align: middle;\n",
       "    }\n",
       "\n",
       "    .dataframe tbody tr th {\n",
       "        vertical-align: top;\n",
       "    }\n",
       "\n",
       "    .dataframe thead th {\n",
       "        text-align: right;\n",
       "    }\n",
       "</style>\n",
       "<table border=\"1\" class=\"dataframe\">\n",
       "  <thead>\n",
       "    <tr style=\"text-align: right;\">\n",
       "      <th></th>\n",
       "      <th>a</th>\n",
       "      <th>b</th>\n",
       "      <th>c</th>\n",
       "      <th>d</th>\n",
       "    </tr>\n",
       "  </thead>\n",
       "  <tbody>\n",
       "    <tr>\n",
       "      <th>0</th>\n",
       "      <td>-0.022125</td>\n",
       "      <td>-0.297593</td>\n",
       "      <td>0.734910</td>\n",
       "      <td>-0.485602</td>\n",
       "    </tr>\n",
       "    <tr>\n",
       "      <th>1</th>\n",
       "      <td>-0.261759</td>\n",
       "      <td>-1.270012</td>\n",
       "      <td>0.907425</td>\n",
       "      <td>-0.782094</td>\n",
       "    </tr>\n",
       "    <tr>\n",
       "      <th>2</th>\n",
       "      <td>-1.307695</td>\n",
       "      <td>0.410943</td>\n",
       "      <td>0.756240</td>\n",
       "      <td>-1.226573</td>\n",
       "    </tr>\n",
       "    <tr>\n",
       "      <th>0</th>\n",
       "      <td>0.203707</td>\n",
       "      <td>0.250762</td>\n",
       "      <td>NaN</td>\n",
       "      <td>-0.285810</td>\n",
       "    </tr>\n",
       "    <tr>\n",
       "      <th>1</th>\n",
       "      <td>-0.148145</td>\n",
       "      <td>-0.248287</td>\n",
       "      <td>NaN</td>\n",
       "      <td>0.943329</td>\n",
       "    </tr>\n",
       "  </tbody>\n",
       "</table>\n",
       "</div>"
      ],
      "text/plain": [
       "          a         b         c         d\n",
       "0 -0.022125 -0.297593  0.734910 -0.485602\n",
       "1 -0.261759 -1.270012  0.907425 -0.782094\n",
       "2 -1.307695  0.410943  0.756240 -1.226573\n",
       "0  0.203707  0.250762       NaN -0.285810\n",
       "1 -0.148145 -0.248287       NaN  0.943329"
      ]
     },
     "execution_count": 118,
     "metadata": {},
     "output_type": "execute_result"
    }
   ],
   "source": [
    "pd.concat([df1, df2])"
   ]
  },
  {
   "cell_type": "code",
   "execution_count": 120,
   "id": "7f8101eb",
   "metadata": {},
   "outputs": [
    {
     "data": {
      "text/html": [
       "<div>\n",
       "<style scoped>\n",
       "    .dataframe tbody tr th:only-of-type {\n",
       "        vertical-align: middle;\n",
       "    }\n",
       "\n",
       "    .dataframe tbody tr th {\n",
       "        vertical-align: top;\n",
       "    }\n",
       "\n",
       "    .dataframe thead th {\n",
       "        text-align: right;\n",
       "    }\n",
       "</style>\n",
       "<table border=\"1\" class=\"dataframe\">\n",
       "  <thead>\n",
       "    <tr style=\"text-align: right;\">\n",
       "      <th></th>\n",
       "      <th>a</th>\n",
       "      <th>b</th>\n",
       "      <th>c</th>\n",
       "      <th>d</th>\n",
       "    </tr>\n",
       "  </thead>\n",
       "  <tbody>\n",
       "    <tr>\n",
       "      <th>0</th>\n",
       "      <td>-0.022125</td>\n",
       "      <td>-0.297593</td>\n",
       "      <td>0.734910</td>\n",
       "      <td>-0.485602</td>\n",
       "    </tr>\n",
       "    <tr>\n",
       "      <th>1</th>\n",
       "      <td>-0.261759</td>\n",
       "      <td>-1.270012</td>\n",
       "      <td>0.907425</td>\n",
       "      <td>-0.782094</td>\n",
       "    </tr>\n",
       "    <tr>\n",
       "      <th>2</th>\n",
       "      <td>-1.307695</td>\n",
       "      <td>0.410943</td>\n",
       "      <td>0.756240</td>\n",
       "      <td>-1.226573</td>\n",
       "    </tr>\n",
       "    <tr>\n",
       "      <th>3</th>\n",
       "      <td>0.203707</td>\n",
       "      <td>0.250762</td>\n",
       "      <td>NaN</td>\n",
       "      <td>-0.285810</td>\n",
       "    </tr>\n",
       "    <tr>\n",
       "      <th>4</th>\n",
       "      <td>-0.148145</td>\n",
       "      <td>-0.248287</td>\n",
       "      <td>NaN</td>\n",
       "      <td>0.943329</td>\n",
       "    </tr>\n",
       "  </tbody>\n",
       "</table>\n",
       "</div>"
      ],
      "text/plain": [
       "          a         b         c         d\n",
       "0 -0.022125 -0.297593  0.734910 -0.485602\n",
       "1 -0.261759 -1.270012  0.907425 -0.782094\n",
       "2 -1.307695  0.410943  0.756240 -1.226573\n",
       "3  0.203707  0.250762       NaN -0.285810\n",
       "4 -0.148145 -0.248287       NaN  0.943329"
      ]
     },
     "execution_count": 120,
     "metadata": {},
     "output_type": "execute_result"
    }
   ],
   "source": [
    "pd.concat([df1, df2], ignore_index=True)"
   ]
  },
  {
   "cell_type": "code",
   "execution_count": 163,
   "id": "c4ba8216",
   "metadata": {},
   "outputs": [],
   "source": [
    "# 시계열 데이터\n",
    "from datetime import datetime"
   ]
  },
  {
   "cell_type": "code",
   "execution_count": 124,
   "id": "a9f4adf3",
   "metadata": {},
   "outputs": [
    {
     "data": {
      "text/plain": [
       "datetime.datetime(2021, 6, 2, 15, 50, 38, 841347)"
      ]
     },
     "execution_count": 124,
     "metadata": {},
     "output_type": "execute_result"
    }
   ],
   "source": [
    "now = datetime.now()\n",
    "now"
   ]
  },
  {
   "cell_type": "code",
   "execution_count": 126,
   "id": "6b94dea3",
   "metadata": {},
   "outputs": [
    {
     "data": {
      "text/plain": [
       "(2021, 6, 2)"
      ]
     },
     "execution_count": 126,
     "metadata": {},
     "output_type": "execute_result"
    }
   ],
   "source": [
    "now.year, now.month, now.day"
   ]
  },
  {
   "cell_type": "code",
   "execution_count": 128,
   "id": "31969018",
   "metadata": {},
   "outputs": [
    {
     "data": {
      "text/plain": [
       "datetime.timedelta(days=926, seconds=56700)"
      ]
     },
     "execution_count": 128,
     "metadata": {},
     "output_type": "execute_result"
    }
   ],
   "source": [
    "# datetime은 날짜와 시간을 모두 저장하면 마이크로초까지 지원\n",
    "# datetime.timedelta 는 두 datetime 객체 간의 시간적인 차이를 표현 할 수 있다\n",
    "\n",
    "delta = datetime(2011, 1, 7) - datetime(2008, 6, 24, 8, 15)\n",
    "delta"
   ]
  },
  {
   "cell_type": "code",
   "execution_count": null,
   "id": "04a0572f",
   "metadata": {},
   "outputs": [],
   "source": []
  },
  {
   "cell_type": "code",
   "execution_count": null,
   "id": "a98f68a3",
   "metadata": {},
   "outputs": [],
   "source": [
    "ts = pd.Series(np.arange)"
   ]
  },
  {
   "cell_type": "code",
   "execution_count": null,
   "id": "e21fd211",
   "metadata": {},
   "outputs": [],
   "source": []
  },
  {
   "cell_type": "code",
   "execution_count": 129,
   "id": "cb04d7ef",
   "metadata": {},
   "outputs": [
    {
     "ename": "NameError",
     "evalue": "name 'ts' is not defined",
     "output_type": "error",
     "traceback": [
      "\u001b[1;31m---------------------------------------------------------------------------\u001b[0m",
      "\u001b[1;31mNameError\u001b[0m                                 Traceback (most recent call last)",
      "\u001b[1;32m<ipython-input-129-9918372df85f>\u001b[0m in \u001b[0;36m<module>\u001b[1;34m\u001b[0m\n\u001b[1;32m----> 1\u001b[1;33m \u001b[0mts\u001b[0m\u001b[1;33m.\u001b[0m\u001b[0mresample\u001b[0m\u001b[1;33m(\u001b[0m\u001b[1;34m'5min'\u001b[0m\u001b[1;33m,\u001b[0m \u001b[0mclosed\u001b[0m\u001b[1;33m=\u001b[0m\u001b[1;34m'right'\u001b[0m\u001b[1;33m)\u001b[0m\u001b[1;33m.\u001b[0m\u001b[0msum\u001b[0m\u001b[1;33m(\u001b[0m\u001b[1;33m)\u001b[0m\u001b[1;33m\u001b[0m\u001b[1;33m\u001b[0m\u001b[0m\n\u001b[0m",
      "\u001b[1;31mNameError\u001b[0m: name 'ts' is not defined"
     ]
    }
   ],
   "source": [
    "# 총 받은 데이터수 \n",
    "ts.resample('5min', closed='right').sum()"
   ]
  },
  {
   "cell_type": "code",
   "execution_count": null,
   "id": "6ff0a74b",
   "metadata": {},
   "outputs": [],
   "source": [
    "# 5분당 받은 데이터 수\n",
    "ts.resample('5min', closed='right').mean()"
   ]
  },
  {
   "cell_type": "code",
   "execution_count": 137,
   "id": "bf2b5950",
   "metadata": {},
   "outputs": [
    {
     "ename": "AttributeError",
     "evalue": "module 'pandas' has no attribute 'data_range'",
     "output_type": "error",
     "traceback": [
      "\u001b[1;31m---------------------------------------------------------------------------\u001b[0m",
      "\u001b[1;31mAttributeError\u001b[0m                            Traceback (most recent call last)",
      "\u001b[1;32m<ipython-input-137-06a0c519d04f>\u001b[0m in \u001b[0;36m<module>\u001b[1;34m\u001b[0m\n\u001b[0;32m      1\u001b[0m frame = pd.DataFrame(np.random.randn(2,4),\n\u001b[1;32m----> 2\u001b[1;33m                     index=pd.data_range(\"1/1/2000\", periods=2, freq='W-WED'), columns=[\"a\", \"b\", \"c\", \"d\"])\n\u001b[0m",
      "\u001b[1;32mC:\\Programmierung\\Anaconda3\\lib\\site-packages\\pandas\\__init__.py\u001b[0m in \u001b[0;36m__getattr__\u001b[1;34m(name)\u001b[0m\n\u001b[0;32m    242\u001b[0m         \u001b[1;32mreturn\u001b[0m \u001b[0m_SparseArray\u001b[0m\u001b[1;33m\u001b[0m\u001b[1;33m\u001b[0m\u001b[0m\n\u001b[0;32m    243\u001b[0m \u001b[1;33m\u001b[0m\u001b[0m\n\u001b[1;32m--> 244\u001b[1;33m     \u001b[1;32mraise\u001b[0m \u001b[0mAttributeError\u001b[0m\u001b[1;33m(\u001b[0m\u001b[1;34mf\"module 'pandas' has no attribute '{name}'\"\u001b[0m\u001b[1;33m)\u001b[0m\u001b[1;33m\u001b[0m\u001b[1;33m\u001b[0m\u001b[0m\n\u001b[0m\u001b[0;32m    245\u001b[0m \u001b[1;33m\u001b[0m\u001b[0m\n\u001b[0;32m    246\u001b[0m \u001b[1;33m\u001b[0m\u001b[0m\n",
      "\u001b[1;31mAttributeError\u001b[0m: module 'pandas' has no attribute 'data_range'"
     ]
    }
   ],
   "source": [
    "frame = pd.DataFrame(np.random.randn(2,4),\n",
    "                    index=pd.data_range(\"1/1/2000\", periods=2, freq='W-WED'), columns=[\"a\", \"b\", \"c\", \"d\"])"
   ]
  },
  {
   "cell_type": "code",
   "execution_count": 139,
   "id": "179fe318",
   "metadata": {},
   "outputs": [
    {
     "data": {
      "text/html": [
       "<div>\n",
       "<style scoped>\n",
       "    .dataframe tbody tr th:only-of-type {\n",
       "        vertical-align: middle;\n",
       "    }\n",
       "\n",
       "    .dataframe tbody tr th {\n",
       "        vertical-align: top;\n",
       "    }\n",
       "\n",
       "    .dataframe thead th {\n",
       "        text-align: right;\n",
       "    }\n",
       "</style>\n",
       "<table border=\"1\" class=\"dataframe\">\n",
       "  <thead>\n",
       "    <tr style=\"text-align: right;\">\n",
       "      <th></th>\n",
       "      <th>a</th>\n",
       "      <th>b</th>\n",
       "      <th>c</th>\n",
       "      <th>d</th>\n",
       "    </tr>\n",
       "  </thead>\n",
       "  <tbody>\n",
       "    <tr>\n",
       "      <th>2000-01-05</th>\n",
       "      <td>1.098507</td>\n",
       "      <td>1.076749</td>\n",
       "      <td>0.424037</td>\n",
       "      <td>-1.518383</td>\n",
       "    </tr>\n",
       "    <tr>\n",
       "      <th>2000-01-12</th>\n",
       "      <td>-0.792986</td>\n",
       "      <td>1.147937</td>\n",
       "      <td>-1.045944</td>\n",
       "      <td>-0.224086</td>\n",
       "    </tr>\n",
       "  </tbody>\n",
       "</table>\n",
       "</div>"
      ],
      "text/plain": [
       "                   a         b         c         d\n",
       "2000-01-05  1.098507  1.076749  0.424037 -1.518383\n",
       "2000-01-12 -0.792986  1.147937 -1.045944 -0.224086"
      ]
     },
     "execution_count": 139,
     "metadata": {},
     "output_type": "execute_result"
    }
   ],
   "source": [
    "frame = pd.DataFrame(np.random.randn(2,4),\n",
    "                    index=pd.date_range('1/1/2000', periods=2, freq='W-WED'),\n",
    "                    columns=[\"a\",\"b\",\"c\",\"d\"])\n",
    "frame"
   ]
  },
  {
   "cell_type": "code",
   "execution_count": 141,
   "id": "1bad3dfe",
   "metadata": {},
   "outputs": [
    {
     "data": {
      "text/html": [
       "<div>\n",
       "<style scoped>\n",
       "    .dataframe tbody tr th:only-of-type {\n",
       "        vertical-align: middle;\n",
       "    }\n",
       "\n",
       "    .dataframe tbody tr th {\n",
       "        vertical-align: top;\n",
       "    }\n",
       "\n",
       "    .dataframe thead th {\n",
       "        text-align: right;\n",
       "    }\n",
       "</style>\n",
       "<table border=\"1\" class=\"dataframe\">\n",
       "  <thead>\n",
       "    <tr style=\"text-align: right;\">\n",
       "      <th></th>\n",
       "      <th>a</th>\n",
       "      <th>b</th>\n",
       "      <th>c</th>\n",
       "      <th>d</th>\n",
       "    </tr>\n",
       "  </thead>\n",
       "  <tbody>\n",
       "    <tr>\n",
       "      <th>2000-01-05</th>\n",
       "      <td>1.098507</td>\n",
       "      <td>1.076749</td>\n",
       "      <td>0.424037</td>\n",
       "      <td>-1.518383</td>\n",
       "    </tr>\n",
       "    <tr>\n",
       "      <th>2000-01-06</th>\n",
       "      <td>NaN</td>\n",
       "      <td>NaN</td>\n",
       "      <td>NaN</td>\n",
       "      <td>NaN</td>\n",
       "    </tr>\n",
       "    <tr>\n",
       "      <th>2000-01-07</th>\n",
       "      <td>NaN</td>\n",
       "      <td>NaN</td>\n",
       "      <td>NaN</td>\n",
       "      <td>NaN</td>\n",
       "    </tr>\n",
       "    <tr>\n",
       "      <th>2000-01-08</th>\n",
       "      <td>NaN</td>\n",
       "      <td>NaN</td>\n",
       "      <td>NaN</td>\n",
       "      <td>NaN</td>\n",
       "    </tr>\n",
       "    <tr>\n",
       "      <th>2000-01-09</th>\n",
       "      <td>NaN</td>\n",
       "      <td>NaN</td>\n",
       "      <td>NaN</td>\n",
       "      <td>NaN</td>\n",
       "    </tr>\n",
       "    <tr>\n",
       "      <th>2000-01-10</th>\n",
       "      <td>NaN</td>\n",
       "      <td>NaN</td>\n",
       "      <td>NaN</td>\n",
       "      <td>NaN</td>\n",
       "    </tr>\n",
       "    <tr>\n",
       "      <th>2000-01-11</th>\n",
       "      <td>NaN</td>\n",
       "      <td>NaN</td>\n",
       "      <td>NaN</td>\n",
       "      <td>NaN</td>\n",
       "    </tr>\n",
       "    <tr>\n",
       "      <th>2000-01-12</th>\n",
       "      <td>-0.792986</td>\n",
       "      <td>1.147937</td>\n",
       "      <td>-1.045944</td>\n",
       "      <td>-0.224086</td>\n",
       "    </tr>\n",
       "  </tbody>\n",
       "</table>\n",
       "</div>"
      ],
      "text/plain": [
       "                   a         b         c         d\n",
       "2000-01-05  1.098507  1.076749  0.424037 -1.518383\n",
       "2000-01-06       NaN       NaN       NaN       NaN\n",
       "2000-01-07       NaN       NaN       NaN       NaN\n",
       "2000-01-08       NaN       NaN       NaN       NaN\n",
       "2000-01-09       NaN       NaN       NaN       NaN\n",
       "2000-01-10       NaN       NaN       NaN       NaN\n",
       "2000-01-11       NaN       NaN       NaN       NaN\n",
       "2000-01-12 -0.792986  1.147937 -1.045944 -0.224086"
      ]
     },
     "execution_count": 141,
     "metadata": {},
     "output_type": "execute_result"
    }
   ],
   "source": [
    "df_daily = frame.resample('D').asfreq()\n",
    "df_daily"
   ]
  },
  {
   "cell_type": "code",
   "execution_count": 142,
   "id": "41ff3611",
   "metadata": {},
   "outputs": [
    {
     "data": {
      "text/html": [
       "<div>\n",
       "<style scoped>\n",
       "    .dataframe tbody tr th:only-of-type {\n",
       "        vertical-align: middle;\n",
       "    }\n",
       "\n",
       "    .dataframe tbody tr th {\n",
       "        vertical-align: top;\n",
       "    }\n",
       "\n",
       "    .dataframe thead th {\n",
       "        text-align: right;\n",
       "    }\n",
       "</style>\n",
       "<table border=\"1\" class=\"dataframe\">\n",
       "  <thead>\n",
       "    <tr style=\"text-align: right;\">\n",
       "      <th></th>\n",
       "      <th>a</th>\n",
       "      <th>b</th>\n",
       "      <th>c</th>\n",
       "      <th>d</th>\n",
       "    </tr>\n",
       "  </thead>\n",
       "  <tbody>\n",
       "    <tr>\n",
       "      <th>2000-01-05</th>\n",
       "      <td>1.098507</td>\n",
       "      <td>1.076749</td>\n",
       "      <td>0.424037</td>\n",
       "      <td>-1.518383</td>\n",
       "    </tr>\n",
       "    <tr>\n",
       "      <th>2000-01-06</th>\n",
       "      <td>1.098507</td>\n",
       "      <td>1.076749</td>\n",
       "      <td>0.424037</td>\n",
       "      <td>-1.518383</td>\n",
       "    </tr>\n",
       "    <tr>\n",
       "      <th>2000-01-07</th>\n",
       "      <td>1.098507</td>\n",
       "      <td>1.076749</td>\n",
       "      <td>0.424037</td>\n",
       "      <td>-1.518383</td>\n",
       "    </tr>\n",
       "    <tr>\n",
       "      <th>2000-01-08</th>\n",
       "      <td>1.098507</td>\n",
       "      <td>1.076749</td>\n",
       "      <td>0.424037</td>\n",
       "      <td>-1.518383</td>\n",
       "    </tr>\n",
       "    <tr>\n",
       "      <th>2000-01-09</th>\n",
       "      <td>1.098507</td>\n",
       "      <td>1.076749</td>\n",
       "      <td>0.424037</td>\n",
       "      <td>-1.518383</td>\n",
       "    </tr>\n",
       "    <tr>\n",
       "      <th>2000-01-10</th>\n",
       "      <td>1.098507</td>\n",
       "      <td>1.076749</td>\n",
       "      <td>0.424037</td>\n",
       "      <td>-1.518383</td>\n",
       "    </tr>\n",
       "    <tr>\n",
       "      <th>2000-01-11</th>\n",
       "      <td>1.098507</td>\n",
       "      <td>1.076749</td>\n",
       "      <td>0.424037</td>\n",
       "      <td>-1.518383</td>\n",
       "    </tr>\n",
       "    <tr>\n",
       "      <th>2000-01-12</th>\n",
       "      <td>-0.792986</td>\n",
       "      <td>1.147937</td>\n",
       "      <td>-1.045944</td>\n",
       "      <td>-0.224086</td>\n",
       "    </tr>\n",
       "  </tbody>\n",
       "</table>\n",
       "</div>"
      ],
      "text/plain": [
       "                   a         b         c         d\n",
       "2000-01-05  1.098507  1.076749  0.424037 -1.518383\n",
       "2000-01-06  1.098507  1.076749  0.424037 -1.518383\n",
       "2000-01-07  1.098507  1.076749  0.424037 -1.518383\n",
       "2000-01-08  1.098507  1.076749  0.424037 -1.518383\n",
       "2000-01-09  1.098507  1.076749  0.424037 -1.518383\n",
       "2000-01-10  1.098507  1.076749  0.424037 -1.518383\n",
       "2000-01-11  1.098507  1.076749  0.424037 -1.518383\n",
       "2000-01-12 -0.792986  1.147937 -1.045944 -0.224086"
      ]
     },
     "execution_count": 142,
     "metadata": {},
     "output_type": "execute_result"
    }
   ],
   "source": [
    "frame.resample('D').ffill()"
   ]
  },
  {
   "cell_type": "code",
   "execution_count": 146,
   "id": "ef3eaaad",
   "metadata": {},
   "outputs": [
    {
     "data": {
      "text/html": [
       "<div>\n",
       "<style scoped>\n",
       "    .dataframe tbody tr th:only-of-type {\n",
       "        vertical-align: middle;\n",
       "    }\n",
       "\n",
       "    .dataframe tbody tr th {\n",
       "        vertical-align: top;\n",
       "    }\n",
       "\n",
       "    .dataframe thead th {\n",
       "        text-align: right;\n",
       "    }\n",
       "</style>\n",
       "<table border=\"1\" class=\"dataframe\">\n",
       "  <thead>\n",
       "    <tr style=\"text-align: right;\">\n",
       "      <th></th>\n",
       "      <th>a</th>\n",
       "      <th>b</th>\n",
       "      <th>c</th>\n",
       "      <th>d</th>\n",
       "    </tr>\n",
       "  </thead>\n",
       "  <tbody>\n",
       "    <tr>\n",
       "      <th>2000-01-05</th>\n",
       "      <td>1.098507</td>\n",
       "      <td>1.076749</td>\n",
       "      <td>0.424037</td>\n",
       "      <td>-1.518383</td>\n",
       "    </tr>\n",
       "    <tr>\n",
       "      <th>2000-01-06</th>\n",
       "      <td>0.828294</td>\n",
       "      <td>1.086919</td>\n",
       "      <td>0.214039</td>\n",
       "      <td>-1.333484</td>\n",
       "    </tr>\n",
       "    <tr>\n",
       "      <th>2000-01-07</th>\n",
       "      <td>0.558080</td>\n",
       "      <td>1.097088</td>\n",
       "      <td>0.004042</td>\n",
       "      <td>-1.148584</td>\n",
       "    </tr>\n",
       "    <tr>\n",
       "      <th>2000-01-08</th>\n",
       "      <td>0.287867</td>\n",
       "      <td>1.107258</td>\n",
       "      <td>-0.205955</td>\n",
       "      <td>-0.963685</td>\n",
       "    </tr>\n",
       "    <tr>\n",
       "      <th>2000-01-09</th>\n",
       "      <td>0.017654</td>\n",
       "      <td>1.117428</td>\n",
       "      <td>-0.415953</td>\n",
       "      <td>-0.778785</td>\n",
       "    </tr>\n",
       "    <tr>\n",
       "      <th>2000-01-10</th>\n",
       "      <td>-0.252559</td>\n",
       "      <td>1.127597</td>\n",
       "      <td>-0.625950</td>\n",
       "      <td>-0.593886</td>\n",
       "    </tr>\n",
       "    <tr>\n",
       "      <th>2000-01-11</th>\n",
       "      <td>-0.522773</td>\n",
       "      <td>1.137767</td>\n",
       "      <td>-0.835947</td>\n",
       "      <td>-0.408986</td>\n",
       "    </tr>\n",
       "    <tr>\n",
       "      <th>2000-01-12</th>\n",
       "      <td>-0.792986</td>\n",
       "      <td>1.147937</td>\n",
       "      <td>-1.045944</td>\n",
       "      <td>-0.224086</td>\n",
       "    </tr>\n",
       "  </tbody>\n",
       "</table>\n",
       "</div>"
      ],
      "text/plain": [
       "                   a         b         c         d\n",
       "2000-01-05  1.098507  1.076749  0.424037 -1.518383\n",
       "2000-01-06  0.828294  1.086919  0.214039 -1.333484\n",
       "2000-01-07  0.558080  1.097088  0.004042 -1.148584\n",
       "2000-01-08  0.287867  1.107258 -0.205955 -0.963685\n",
       "2000-01-09  0.017654  1.117428 -0.415953 -0.778785\n",
       "2000-01-10 -0.252559  1.127597 -0.625950 -0.593886\n",
       "2000-01-11 -0.522773  1.137767 -0.835947 -0.408986\n",
       "2000-01-12 -0.792986  1.147937 -1.045944 -0.224086"
      ]
     },
     "execution_count": 146,
     "metadata": {},
     "output_type": "execute_result"
    }
   ],
   "source": [
    "# interpolate = 보간법\n",
    "# 수치해석학의 수학 분야에서 보간법 또는 내삽은 알려진 데이터 지점의 \n",
    "# 고립점 내에서 새로운 데이터 지점을 구성하는 방식\n",
    "df_daily.interpolate(method='values')"
   ]
  },
  {
   "cell_type": "code",
   "execution_count": null,
   "id": "99b2be36",
   "metadata": {},
   "outputs": [],
   "source": [
    "# p 471 이동창함수"
   ]
  },
  {
   "cell_type": "code",
   "execution_count": 152,
   "id": "71f43562",
   "metadata": {},
   "outputs": [
    {
     "data": {
      "text/html": [
       "<div>\n",
       "<style scoped>\n",
       "    .dataframe tbody tr th:only-of-type {\n",
       "        vertical-align: middle;\n",
       "    }\n",
       "\n",
       "    .dataframe tbody tr th {\n",
       "        vertical-align: top;\n",
       "    }\n",
       "\n",
       "    .dataframe thead th {\n",
       "        text-align: right;\n",
       "    }\n",
       "</style>\n",
       "<table border=\"1\" class=\"dataframe\">\n",
       "  <thead>\n",
       "    <tr style=\"text-align: right;\">\n",
       "      <th></th>\n",
       "      <th>AAPL</th>\n",
       "      <th>MSFT</th>\n",
       "      <th>XOM</th>\n",
       "    </tr>\n",
       "  </thead>\n",
       "  <tbody>\n",
       "    <tr>\n",
       "      <th>2003-01-02</th>\n",
       "      <td>7.40</td>\n",
       "      <td>21.11</td>\n",
       "      <td>29.22</td>\n",
       "    </tr>\n",
       "    <tr>\n",
       "      <th>2003-01-03</th>\n",
       "      <td>7.45</td>\n",
       "      <td>21.14</td>\n",
       "      <td>29.24</td>\n",
       "    </tr>\n",
       "    <tr>\n",
       "      <th>2003-01-06</th>\n",
       "      <td>7.45</td>\n",
       "      <td>21.52</td>\n",
       "      <td>29.96</td>\n",
       "    </tr>\n",
       "    <tr>\n",
       "      <th>2003-01-07</th>\n",
       "      <td>7.43</td>\n",
       "      <td>21.93</td>\n",
       "      <td>28.95</td>\n",
       "    </tr>\n",
       "    <tr>\n",
       "      <th>2003-01-08</th>\n",
       "      <td>7.28</td>\n",
       "      <td>21.31</td>\n",
       "      <td>28.83</td>\n",
       "    </tr>\n",
       "    <tr>\n",
       "      <th>...</th>\n",
       "      <td>...</td>\n",
       "      <td>...</td>\n",
       "      <td>...</td>\n",
       "    </tr>\n",
       "    <tr>\n",
       "      <th>2011-10-10</th>\n",
       "      <td>388.81</td>\n",
       "      <td>26.94</td>\n",
       "      <td>76.28</td>\n",
       "    </tr>\n",
       "    <tr>\n",
       "      <th>2011-10-11</th>\n",
       "      <td>400.29</td>\n",
       "      <td>27.00</td>\n",
       "      <td>76.27</td>\n",
       "    </tr>\n",
       "    <tr>\n",
       "      <th>2011-10-12</th>\n",
       "      <td>402.19</td>\n",
       "      <td>26.96</td>\n",
       "      <td>77.16</td>\n",
       "    </tr>\n",
       "    <tr>\n",
       "      <th>2011-10-13</th>\n",
       "      <td>408.43</td>\n",
       "      <td>27.18</td>\n",
       "      <td>76.37</td>\n",
       "    </tr>\n",
       "    <tr>\n",
       "      <th>2011-10-14</th>\n",
       "      <td>422.00</td>\n",
       "      <td>27.27</td>\n",
       "      <td>78.11</td>\n",
       "    </tr>\n",
       "  </tbody>\n",
       "</table>\n",
       "<p>2214 rows × 3 columns</p>\n",
       "</div>"
      ],
      "text/plain": [
       "              AAPL   MSFT    XOM\n",
       "2003-01-02    7.40  21.11  29.22\n",
       "2003-01-03    7.45  21.14  29.24\n",
       "2003-01-06    7.45  21.52  29.96\n",
       "2003-01-07    7.43  21.93  28.95\n",
       "2003-01-08    7.28  21.31  28.83\n",
       "...            ...    ...    ...\n",
       "2011-10-10  388.81  26.94  76.28\n",
       "2011-10-11  400.29  27.00  76.27\n",
       "2011-10-12  402.19  26.96  77.16\n",
       "2011-10-13  408.43  27.18  76.37\n",
       "2011-10-14  422.00  27.27  78.11\n",
       "\n",
       "[2214 rows x 3 columns]"
      ]
     },
     "execution_count": 152,
     "metadata": {},
     "output_type": "execute_result"
    }
   ],
   "source": [
    "close_px_all = pd.read_csv('examples/stock_px_2.csv', parse_dates=True, index_col=0)\n",
    "close_px = close_px_all[[\"AAPL\", \"MSFT\", \"XOM\"]]\n",
    "close_px"
   ]
  },
  {
   "cell_type": "code",
   "execution_count": 153,
   "id": "2e638e47",
   "metadata": {},
   "outputs": [
    {
     "data": {
      "text/plain": [
       "<AxesSubplot:>"
      ]
     },
     "execution_count": 153,
     "metadata": {},
     "output_type": "execute_result"
    },
    {
     "data": {
      "image/png": "[encoded data removed]",
      "text/plain": [
       "<Figure size 432x288 with 1 Axes>"
      ]
     },
     "metadata": {
      "needs_background": "light"
     },
     "output_type": "display_data"
    }
   ],
   "source": [
    "close_px.AAPL.plot()"
   ]
  },
  {
   "cell_type": "code",
   "execution_count": null,
   "id": "2effb889",
   "metadata": {},
   "outputs": [],
   "source": []
  },
  {
   "cell_type": "code",
   "execution_count": 154,
   "id": "08c9ea6e",
   "metadata": {},
   "outputs": [
    {
     "data": {
      "text/plain": [
       "<AxesSubplot:>"
      ]
     },
     "execution_count": 154,
     "metadata": {},
     "output_type": "execute_result"
    },
    {
     "data": {
      "image/png": "[encoded data removed]",
      "text/plain": [
       "<Figure size 432x288 with 1 Axes>"
      ]
     },
     "metadata": {
      "needs_background": "light"
     },
     "output_type": "display_data"
    }
   ],
   "source": [
    "close_px.AAPL.rolling(250).mean().plot()"
   ]
  },
  {
   "cell_type": "code",
   "execution_count": 157,
   "id": "65e6a127",
   "metadata": {},
   "outputs": [
    {
     "data": {
      "text/plain": [
       "{'a': 'Mozilla/5.0 (Windows NT 6.1; WOW64) AppleWebKit/535.11 (KHTML, like Gecko) Chrome/17.0.963.78 Safari/535.11',\n",
       " 'c': 'US',\n",
       " 'nk': 1,\n",
       " 'tz': 'America/New_York',\n",
       " 'gr': 'MA',\n",
       " 'g': 'A6qOVH',\n",
       " 'h': 'wfLQtf',\n",
       " 'l': 'orofrog',\n",
       " 'al': 'en-US,en;q=0.8',\n",
       " 'hh': '1.usa.gov',\n",
       " 'r': 'http://www.facebook.com/l/7AQEFzjSi/1.usa.gov/wfLQtf',\n",
       " 'u': 'http://www.ncbi.nlm.nih.gov/pubmed/22415991',\n",
       " 't': 1331923247,\n",
       " 'hc': 1331822918,\n",
       " 'cy': 'Danvers',\n",
       " 'll': [42.576698, -70.954903]}"
      ]
     },
     "execution_count": 157,
     "metadata": {},
     "output_type": "execute_result"
    }
   ],
   "source": [
    "import json\n",
    "path = \"datasets/bitly_usagov/example.txt\"\n",
    "records = [json.loads(line) for line in open(path)]\n",
    "records[0]"
   ]
  },
  {
   "cell_type": "code",
   "execution_count": 158,
   "id": "3194c887",
   "metadata": {},
   "outputs": [
    {
     "data": {
      "text/plain": [
       "['{ \"a\": \"Mozilla\\\\/5.0 (Windows NT 6.1; WOW64) AppleWebKit\\\\/535.11 (KHTML, like Gecko) Chrome\\\\/17.0.963.78 Safari\\\\/535.11\", \"c\": \"US\", \"nk\": 1, \"tz\": \"America\\\\/New_York\", \"gr\": \"MA\", \"g\": \"A6qOVH\", \"h\": \"wfLQtf\", \"l\": \"orofrog\", \"al\": \"en-US,en;q=0.8\", \"hh\": \"1.usa.gov\", \"r\": \"http:\\\\/\\\\/www.facebook.com\\\\/l\\\\/7AQEFzjSi\\\\/1.usa.gov\\\\/wfLQtf\", \"u\": \"http:\\\\/\\\\/www.ncbi.nlm.nih.gov\\\\/pubmed\\\\/22415991\", \"t\": 1331923247, \"hc\": 1331822918, \"cy\": \"Danvers\", \"ll\": [ 42.576698, -70.954903 ] }\\n',\n",
       " '{ \"a\": \"GoogleMaps\\\\/RochesterNY\", \"c\": \"US\", \"nk\": 0, \"tz\": \"America\\\\/Denver\", \"gr\": \"UT\", \"g\": \"mwszkS\", \"h\": \"mwszkS\", \"l\": \"bitly\", \"hh\": \"j.mp\", \"r\": \"http:\\\\/\\\\/www.AwareMap.com\\\\/\", \"u\": \"http:\\\\/\\\\/www.monroecounty.gov\\\\/etc\\\\/911\\\\/rss.php\", \"t\": 1331923249, \"hc\": 1308262393, \"cy\": \"Provo\", \"ll\": [ 40.218102, -111.613297 ] }\\n',\n",
       " '{ \"a\": \"Mozilla\\\\/4.0 (compatible; MSIE 8.0; Windows NT 6.1; WOW64; Trident\\\\/4.0; SLCC2; .NET CLR 2.0.50727; .NET CLR 3.5.30729; .NET CLR 3.0.30729; Media Center PC 6.0; .NET4.0C; .NET4.0E; InfoPath.3)\", \"c\": \"US\", \"nk\": 1, \"tz\": \"America\\\\/New_York\", \"gr\": \"DC\", \"g\": \"xxr3Qb\", \"h\": \"xxr3Qb\", \"l\": \"bitly\", \"al\": \"en-US\", \"hh\": \"1.usa.gov\", \"r\": \"http:\\\\/\\\\/t.co\\\\/03elZC4Q\", \"u\": \"http:\\\\/\\\\/boxer.senate.gov\\\\/en\\\\/press\\\\/releases\\\\/031612.cfm\", \"t\": 1331923250, \"hc\": 1331919941, \"cy\": \"Washington\", \"ll\": [ 38.900700, -77.043098 ] }\\n',\n",
       " '{ \"a\": \"Mozilla\\\\/5.0 (Macintosh; Intel Mac OS X 10_6_8) AppleWebKit\\\\/534.52.7 (KHTML, like Gecko) Version\\\\/5.1.2 Safari\\\\/534.52.7\", \"c\": \"BR\", \"nk\": 0, \"tz\": \"America\\\\/Sao_Paulo\", \"gr\": \"27\", \"g\": \"zCaLwp\", \"h\": \"zUtuOu\", \"l\": \"alelex88\", \"al\": \"pt-br\", \"hh\": \"1.usa.gov\", \"r\": \"direct\", \"u\": \"http:\\\\/\\\\/apod.nasa.gov\\\\/apod\\\\/ap120312.html\", \"t\": 1331923249, \"hc\": 1331923068, \"cy\": \"Braz\", \"ll\": [ -23.549999, -46.616699 ] }\\n',\n",
       " '{ \"a\": \"Mozilla\\\\/5.0 (Windows NT 6.1; WOW64) AppleWebKit\\\\/535.11 (KHTML, like Gecko) Chrome\\\\/17.0.963.79 Safari\\\\/535.11\", \"c\": \"US\", \"nk\": 0, \"tz\": \"America\\\\/New_York\", \"gr\": \"MA\", \"g\": \"9b6kNl\", \"h\": \"9b6kNl\", \"l\": \"bitly\", \"al\": \"en-US,en;q=0.8\", \"hh\": \"bit.ly\", \"r\": \"http:\\\\/\\\\/www.shrewsbury-ma.gov\\\\/selco\\\\/\", \"u\": \"http:\\\\/\\\\/www.shrewsbury-ma.gov\\\\/egov\\\\/gallery\\\\/134127368672998.png\", \"t\": 1331923251, \"hc\": 1273672411, \"cy\": \"Shrewsbury\", \"ll\": [ 42.286499, -71.714699 ] }\\n',\n",
       " '{ \"a\": \"Mozilla\\\\/5.0 (Windows NT 6.1; WOW64) AppleWebKit\\\\/535.11 (KHTML, like Gecko) Chrome\\\\/17.0.963.79 Safari\\\\/535.11\", \"c\": \"US\", \"nk\": 0, \"tz\": \"America\\\\/New_York\", \"gr\": \"MA\", \"g\": \"axNK8c\", \"h\": \"axNK8c\", \"l\": \"bitly\", \"al\": \"en-US,en;q=0.8\", \"hh\": \"bit.ly\", \"r\": \"http:\\\\/\\\\/www.shrewsbury-ma.gov\\\\/selco\\\\/\", \"u\": \"http:\\\\/\\\\/www.shrewsbury-ma.gov\\\\/egov\\\\/gallery\\\\/134127368675393.png\", \"t\": 1331923252, \"hc\": 1273672506, \"cy\": \"Shrewsbury\", \"ll\": [ 42.286499, -71.714699 ] }\\n',\n",
       " '{ \"a\": \"Mozilla\\\\/5.0 (Windows NT 5.1) AppleWebKit\\\\/535.11 (KHTML, like Gecko) Chrome\\\\/17.0.963.79 Safari\\\\/535.11\", \"c\": \"PL\", \"nk\": 0, \"tz\": \"Europe\\\\/Warsaw\", \"gr\": \"77\", \"g\": \"wcndER\", \"h\": \"zkpJBR\", \"l\": \"bnjacobs\", \"al\": \"pl-PL,pl;q=0.8,en-US;q=0.6,en;q=0.4\", \"hh\": \"1.usa.gov\", \"r\": \"http:\\\\/\\\\/plus.url.google.com\\\\/url?sa=z&n=1331923253510&url=http%3A%2F%2F1.usa.gov%2FzkpJBR&usg=TF5iGSqK1_GSADtHqTqjuUZyMIY.\", \"u\": \"http:\\\\/\\\\/www.nasa.gov\\\\/mission_pages\\\\/nustar\\\\/main\\\\/index.html\", \"t\": 1331923255, \"hc\": 1331922854, \"cy\": \"Luban\", \"ll\": [ 51.116699, 15.283300 ] }\\n',\n",
       " '{ \"a\": \"Mozilla\\\\/5.0 (Windows NT 6.1; rv:2.0.1) Gecko\\\\/20100101 Firefox\\\\/4.0.1\", \"c\": null, \"nk\": 0, \"tz\": \"\", \"g\": \"wcndER\", \"h\": \"zkpJBR\", \"l\": \"bnjacobs\", \"al\": \"bg,en-us;q=0.7,en;q=0.3\", \"hh\": \"1.usa.gov\", \"r\": \"http:\\\\/\\\\/www.facebook.com\\\\/\", \"u\": \"http:\\\\/\\\\/www.nasa.gov\\\\/mission_pages\\\\/nustar\\\\/main\\\\/index.html\", \"t\": 1331923255, \"hc\": 1331922854 }\\n',\n",
       " '{ \"a\": \"Opera\\\\/9.80 (X11; Linux zbov; U; en) Presto\\\\/2.10.254 Version\\\\/12.00\", \"c\": null, \"nk\": 0, \"tz\": \"\", \"g\": \"wcndER\", \"h\": \"zkpJBR\", \"l\": \"bnjacobs\", \"al\": \"en-US, en\", \"hh\": \"1.usa.gov\", \"r\": \"http:\\\\/\\\\/www.facebook.com\\\\/l.php?u=http%3A%2F%2F1.usa.gov%2FzkpJBR&h=fAQG5ntSGAQHqKPlWzuJKUA9LYeckHZCUxvjQipJDd7Rmmw\", \"u\": \"http:\\\\/\\\\/www.nasa.gov\\\\/mission_pages\\\\/nustar\\\\/main\\\\/index.html\", \"t\": 1331923254, \"hc\": 1331922854 }\\n',\n",
       " '{ \"a\": \"Mozilla\\\\/5.0 (Windows NT 6.1; WOW64) AppleWebKit\\\\/535.11 (KHTML, like Gecko) Chrome\\\\/17.0.963.79 Safari\\\\/535.11\", \"c\": null, \"nk\": 0, \"tz\": \"\", \"g\": \"zCaLwp\", \"h\": \"zUtuOu\", \"l\": \"alelex88\", \"al\": \"pt-BR,pt;q=0.8,en-US;q=0.6,en;q=0.4\", \"hh\": \"1.usa.gov\", \"r\": \"http:\\\\/\\\\/t.co\\\\/o1Pd0WeV\", \"u\": \"http:\\\\/\\\\/apod.nasa.gov\\\\/apod\\\\/ap120312.html\", \"t\": 1331923255, \"hc\": 1331923068 }\\n',\n",
       " '{ \"a\": \"Mozilla\\\\/5.0 (Windows NT 6.1; WOW64; rv:10.0.2) Gecko\\\\/20100101 Firefox\\\\/10.0.2\", \"c\": \"US\", \"nk\": 1, \"tz\": \"America\\\\/Los_Angeles\", \"gr\": \"WA\", \"g\": \"vNJS4H\", \"h\": \"u0uD9q\", \"l\": \"o_4us71ccioa\", \"al\": \"en-us,en;q=0.5\", \"hh\": \"1.usa.gov\", \"r\": \"direct\", \"u\": \"https:\\\\/\\\\/www.nysdot.gov\\\\/rexdesign\\\\/design\\\\/community.gif\", \"t\": 1331923258, \"hc\": 1319563556, \"cy\": \"Seattle\", \"ll\": [ 47.595100, -122.332603 ] }\\n',\n",
       " '{ \"a\": \"Mozilla\\\\/5.0 (Macintosh; U; Intel Mac OS X 10.4; en-US; rv:1.9.2.27) Gecko\\\\/20120216 Firefox\\\\/3.6.27\", \"c\": \"US\", \"nk\": 0, \"tz\": \"America\\\\/New_York\", \"gr\": \"DC\", \"g\": \"wG7OIH\", \"h\": \"A0nRz4\", \"l\": \"darrellissa\", \"al\": \"en-us,en;q=0.5\", \"hh\": \"1.usa.gov\", \"r\": \"http:\\\\/\\\\/t.co\\\\/ND7SoPyo\", \"u\": \"http:\\\\/\\\\/oversight.house.gov\\\\/wp-content\\\\/uploads\\\\/2012\\\\/03\\\\/2012-3-15-FOIA-Management-Scorecard.pdf\", \"t\": 1331923259, \"hc\": 1331815838, \"cy\": \"Washington\", \"ll\": [ 38.937599, -77.092796 ] }\\n',\n",
       " '{ \"a\": \"Mozilla\\\\/5.0 (Windows NT 6.1; WOW64; rv:10.0.2) Gecko\\\\/20100101 Firefox\\\\/10.0.2\", \"c\": \"US\", \"nk\": 1, \"tz\": \"America\\\\/New_York\", \"gr\": \"VA\", \"g\": \"vNJS4H\", \"h\": \"u0uD9q\", \"l\": \"o_4us71ccioa\", \"al\": \"en-us,en;q=0.5\", \"hh\": \"1.usa.gov\", \"r\": \"direct\", \"u\": \"https:\\\\/\\\\/www.nysdot.gov\\\\/rexdesign\\\\/design\\\\/community.gif\", \"t\": 1331923259, \"hc\": 1319563556, \"cy\": \"Alexandria\", \"ll\": [ 38.790901, -77.094704 ] }\\n',\n",
       " '{\"_heartbeat_\":1331923261}\\n',\n",
       " '{ \"a\": \"Mozilla\\\\/5.0 (Windows; U; Windows NT 6.1; en-US; rv:1.9.2.17) Gecko\\\\/20110420 Firefox\\\\/3.6.17\", \"c\": \"US\", \"nk\": 1, \"tz\": \"America\\\\/New_York\", \"gr\": \"GA\", \"g\": \"2rOUYc\", \"h\": \"2rOUYc\", \"l\": \"bitly\", \"al\": \"en-us,en;q=0.5\", \"hh\": \"1.usa.gov\", \"r\": \"direct\", \"u\": \"http:\\\\/\\\\/toxtown.nlm.nih.gov\\\\/index.php\", \"t\": 1331923262, \"hc\": 1255769846, \"cy\": \"Marietta\", \"ll\": [ 33.953201, -84.517700 ] }\\n',\n",
       " '{ \"a\": \"Mozilla\\\\/5.0 (Windows NT 6.1) AppleWebKit\\\\/535.11 (KHTML, like Gecko) Chrome\\\\/17.0.963.79 Safari\\\\/535.11\", \"c\": \"HK\", \"nk\": 1, \"tz\": \"Asia\\\\/Hong_Kong\", \"gr\": \"00\", \"g\": \"nQvgJp\", \"h\": \"rtrrth\", \"l\": \"walkeryuen\", \"al\": \"zh-TW,zh;q=0.8,en-US;q=0.6,en;q=0.4\", \"hh\": \"j.mp\", \"r\": \"http:\\\\/\\\\/forum2.hkgolden.com\\\\/view.aspx?type=BW&message=3602284\", \"u\": \"http:\\\\/\\\\/www.ssd.noaa.gov\\\\/PS\\\\/TROP\\\\/TCFP\\\\/data\\\\/current\\\\/mtloopfpr17.png\", \"t\": 1331923263, \"hc\": 1317318030, \"cy\": \"Central District\", \"ll\": [ 22.283300, 114.150002 ] }\\n',\n",
       " '{ \"a\": \"Mozilla\\\\/5.0 (Windows NT 6.1) AppleWebKit\\\\/535.11 (KHTML, like Gecko) Chrome\\\\/17.0.963.79 Safari\\\\/535.11\", \"c\": \"HK\", \"nk\": 1, \"tz\": \"Asia\\\\/Hong_Kong\", \"gr\": \"00\", \"g\": \"XdUNr\", \"h\": \"qWkgbq\", \"l\": \"walkeryuen\", \"al\": \"zh-TW,zh;q=0.8,en-US;q=0.6,en;q=0.4\", \"hh\": \"j.mp\", \"r\": \"http:\\\\/\\\\/forum2.hkgolden.com\\\\/view.aspx?type=BW&message=3602284\", \"u\": \"http:\\\\/\\\\/www.usno.navy.mil\\\\/NOOC\\\\/nmfc-ph\\\\/RSS\\\\/jtwc\\\\/ab\\\\/abpwsair.jpg\", \"t\": 1331923263, \"hc\": 1317318039, \"cy\": \"Central District\", \"ll\": [ 22.283300, 114.150002 ] }\\n',\n",
       " '{ \"a\": \"Mozilla\\\\/5.0 (Macintosh; Intel Mac OS X 10.5; rv:10.0.2) Gecko\\\\/20100101 Firefox\\\\/10.0.2\", \"c\": \"US\", \"nk\": 0, \"tz\": \"America\\\\/New_York\", \"gr\": \"ME\", \"g\": \"zH1BFf\", \"h\": \"x3jOIv\", \"l\": \"andyzieminski\", \"al\": \"en-us,en;q=0.5\", \"hh\": \"1.usa.gov\", \"r\": \"http:\\\\/\\\\/t.co\\\\/6Cx4ROLs\", \"u\": \"http:\\\\/\\\\/www.usda.gov\\\\/wps\\\\/portal\\\\/usda\\\\/usdahome?contentidonly=true&contentid=KYF_Compass_Careers_in_Agriculture.html\", \"t\": 1331923264, \"hc\": 1331839576, \"cy\": \"Buckfield\", \"ll\": [ 44.299702, -70.369797 ] }\\n',\n",
       " '{ \"a\": \"GoogleMaps\\\\/RochesterNY\", \"c\": \"US\", \"nk\": 0, \"tz\": \"America\\\\/Denver\", \"gr\": \"UT\", \"g\": \"mwszkS\", \"h\": \"mwszkS\", \"l\": \"bitly\", \"hh\": \"1.usa.gov\", \"r\": \"http:\\\\/\\\\/www.AwareMap.com\\\\/\", \"u\": \"http:\\\\/\\\\/www.monroecounty.gov\\\\/etc\\\\/911\\\\/rss.php\", \"t\": 1331923262, \"hc\": 1308262393, \"cy\": \"Provo\", \"ll\": [ 40.218102, -111.613297 ] }\\n',\n",
       " '{ \"a\": \"Mozilla\\\\/5.0 (Windows NT 6.1; WOW64) AppleWebKit\\\\/535.11 (KHTML, like Gecko) Chrome\\\\/17.0.963.79 Safari\\\\/535.11\", \"c\": \"IT\", \"nk\": 0, \"tz\": \"Europe\\\\/Rome\", \"gr\": \"20\", \"g\": \"wcndER\", \"h\": \"zkpJBR\", \"l\": \"bnjacobs\", \"al\": \"it-IT,it;q=0.8,en-US;q=0.6,en;q=0.4\", \"hh\": \"1.usa.gov\", \"r\": \"http:\\\\/\\\\/www.facebook.com\\\\/\", \"u\": \"http:\\\\/\\\\/www.nasa.gov\\\\/mission_pages\\\\/nustar\\\\/main\\\\/index.html\", \"t\": 1331923264, \"hc\": 1331922854, \"cy\": \"Venice\", \"ll\": [ 45.438599, 12.326700 ] }\\n',\n",
       " '{ \"a\": \"Mozilla\\\\/5.0 (compatible; MSIE 9.0; Windows NT 6.1; WOW64; Trident\\\\/5.0)\", \"c\": \"ES\", \"nk\": 0, \"tz\": \"Africa\\\\/Ceuta\", \"gr\": \"51\", \"g\": \"zQ95Hi\", \"h\": \"ytZYWR\", \"l\": \"jplnews\", \"al\": \"es-ES\", \"hh\": \"bitly.com\", \"r\": \"http:\\\\/\\\\/www.facebook.com\\\\/\", \"u\": \"http:\\\\/\\\\/voyager.jpl.nasa.gov\\\\/imagesvideo\\\\/uranus.html\", \"t\": 1331923265, \"hc\": 1331670549, \"cy\": \"Alcal\", \"ll\": [ 37.516701, -5.983300 ] }\\n',\n",
       " '{ \"a\": \"Mozilla\\\\/5.0 (Macintosh; U; Intel Mac OS X 10.6; en-US; rv:1.9.2.19) Gecko\\\\/20110707 Firefox\\\\/3.6.19\", \"c\": \"US\", \"nk\": 0, \"tz\": \"America\\\\/New_York\", \"gr\": \"MD\", \"g\": \"wcndER\", \"h\": \"zkpJBR\", \"l\": \"bnjacobs\", \"al\": \"en-us,en;q=0.5\", \"hh\": \"1.usa.gov\", \"r\": \"http:\\\\/\\\\/www.facebook.com\\\\/\", \"u\": \"http:\\\\/\\\\/www.nasa.gov\\\\/mission_pages\\\\/nustar\\\\/main\\\\/index.html\", \"t\": 1331923267, \"hc\": 1331922854, \"cy\": \"Davidsonville\", \"ll\": [ 38.939201, -76.635002 ] }\\n',\n",
       " '{ \"a\": \"Mozilla\\\\/4.0 (compatible; MSIE 8.0; Windows NT 6.0; Trident\\\\/4.0; GTB7.3; SLCC1; .NET CLR 2.0.50727; Media Center PC 5.0; .NET CLR 3.0.30729; .NET4.0C; InfoPath.2; .NET CLR 1.1.4322; .NET CLR 3.5.30729)\", \"c\": \"US\", \"nk\": 0, \"tz\": \"America\\\\/New_York\", \"gr\": \"DE\", \"g\": \"y3ZImz\", \"h\": \"y3ZImz\", \"l\": \"bitly\", \"al\": \"en-us\", \"hh\": \"1.usa.gov\", \"r\": \"direct\", \"u\": \"http:\\\\/\\\\/portal.hud.gov\\\\/hudportal\\\\/documents\\\\/huddoc?id=12-04ml.pdf\", \"t\": 1331923267, \"hc\": 1331064158, \"cy\": \"Hockessin\", \"ll\": [ 39.785000, -75.682297 ] }\\n',\n",
       " '{ \"a\": \"Mozilla\\\\/5.0 (Macintosh; Intel Mac OS X 10_7_3) AppleWebKit\\\\/534.53.11 (KHTML, like Gecko) Version\\\\/5.1.3 Safari\\\\/534.53.10\", \"c\": \"US\", \"nk\": 0, \"tz\": \"America\\\\/New_York\", \"gr\": \"PA\", \"g\": \"wWiOiD\", \"h\": \"wWiOiD\", \"l\": \"bitly\", \"al\": \"en-us\", \"hh\": \"1.usa.gov\", \"r\": \"http:\\\\/\\\\/www.facebook.com\\\\/l.php?u=http%3A%2F%2F1.usa.gov%2FwWiOiD&h=MAQERI5fLAQFvFg3Jhes38U64waF7QclFtZlHG4yEVpkTSA\", \"u\": \"http:\\\\/\\\\/www.tricare.mil\\\\/mybenefit\\\\/ProfileFilter.do;jsessionid=PJDJhXzQbWLQ5GLygF5zrfhMfxZlYndrdYh5Zvm9tlYMXDZW41QY!-541484568?puri=\\\\/home\\\\/Dental\\\\/DentalProgram\", \"t\": 1331923267, \"hc\": 1330217829, \"cy\": \"Lititz\", \"ll\": [ 40.174999, -76.307800 ] }\\n',\n",
       " '{ \"a\": \"Mozilla\\\\/5.0 (Windows; U; Windows NT 5.1; es-ES; rv:1.9.1.1) Gecko\\\\/20090715 Firefox\\\\/3.5.1 ( .NET CLR 3.5.30729)\", \"c\": \"ES\", \"nk\": 0, \"tz\": \"Europe\\\\/Madrid\", \"gr\": \"59\", \"g\": \"wcndER\", \"h\": \"zkpJBR\", \"l\": \"bnjacobs\", \"al\": \"es-es,es;q=0.8,en-us;q=0.5,en;q=0.3\", \"hh\": \"1.usa.gov\", \"r\": \"http:\\\\/\\\\/www.facebook.com\\\\/\", \"u\": \"http:\\\\/\\\\/www.nasa.gov\\\\/mission_pages\\\\/nustar\\\\/main\\\\/index.html\", \"t\": 1331923268, \"hc\": 1331922854, \"cy\": \"Bilbao\", \"ll\": [ 43.250000, -2.966700 ] }\\n',\n",
       " '{ \"a\": \"Mozilla\\\\/5.0 (Windows NT 6.1) AppleWebKit\\\\/535.11 (KHTML, like Gecko) Chrome\\\\/17.0.963.79 Safari\\\\/535.11\", \"c\": \"MY\", \"nk\": 0, \"tz\": \"Asia\\\\/Kuala_Lumpur\", \"gr\": \"14\", \"g\": \"wcndER\", \"h\": \"zkpJBR\", \"l\": \"bnjacobs\", \"al\": \"en-GB,en;q=0.8,en-US;q=0.6,en-AU;q=0.4\", \"hh\": \"1.usa.gov\", \"r\": \"http:\\\\/\\\\/www.facebook.com\\\\/\", \"u\": \"http:\\\\/\\\\/www.nasa.gov\\\\/mission_pages\\\\/nustar\\\\/main\\\\/index.html\", \"t\": 1331923269, \"hc\": 1331922854, \"cy\": \"Kuala Lumpur\", \"ll\": [ 3.166700, 101.699997 ] }\\n',\n",
       " '{ \"a\": \"Mozilla\\\\/5.0 (Windows NT 6.1) AppleWebKit\\\\/535.11 (KHTML, like Gecko) Chrome\\\\/17.0.963.79 Safari\\\\/535.11\", \"c\": \"CY\", \"nk\": 0, \"tz\": \"Asia\\\\/Nicosia\", \"gr\": \"04\", \"g\": \"wcndER\", \"h\": \"zkpJBR\", \"l\": \"bnjacobs\", \"al\": \"ro-RO,ro;q=0.8,en-US;q=0.6,en;q=0.4\", \"hh\": \"1.usa.gov\", \"r\": \"http:\\\\/\\\\/www.facebook.com\\\\/?ref=tn_tnmn\", \"u\": \"http:\\\\/\\\\/www.nasa.gov\\\\/mission_pages\\\\/nustar\\\\/main\\\\/index.html\", \"t\": 1331923268, \"hc\": 1331922854, \"cy\": \"Nicosia\", \"ll\": [ 35.166698, 33.366699 ] }\\n',\n",
       " '{ \"a\": \"Mozilla\\\\/5.0 (Macintosh; Intel Mac OS X 10_6_8) AppleWebKit\\\\/535.11 (KHTML, like Gecko) Chrome\\\\/17.0.963.79 Safari\\\\/535.11\", \"c\": \"BR\", \"nk\": 0, \"tz\": \"America\\\\/Sao_Paulo\", \"gr\": \"27\", \"g\": \"zCaLwp\", \"h\": \"zUtuOu\", \"l\": \"alelex88\", \"al\": \"en-US,en;q=0.8\", \"hh\": \"1.usa.gov\", \"r\": \"direct\", \"u\": \"http:\\\\/\\\\/apod.nasa.gov\\\\/apod\\\\/ap120312.html\", \"t\": 1331923269, \"hc\": 1331923068, \"cy\": \"SPaulo\", \"ll\": [ -23.533300, -46.616699 ] }\\n',\n",
       " '{ \"a\": \"Mozilla\\\\/5.0 (iPad; CPU OS 5_0_1 like Mac OS X) AppleWebKit\\\\/534.46 (KHTML, like Gecko) Version\\\\/5.1 Mobile\\\\/9A405 Safari\\\\/7534.48.3\", \"c\": null, \"nk\": 0, \"tz\": \"\", \"g\": \"vNJS4H\", \"h\": \"u0uD9q\", \"l\": \"o_4us71ccioa\", \"al\": \"en-us\", \"hh\": \"1.usa.gov\", \"r\": \"direct\", \"u\": \"https:\\\\/\\\\/www.nysdot.gov\\\\/rexdesign\\\\/design\\\\/community.gif\", \"t\": 1331923270, \"hc\": 1319563556 }\\n',\n",
       " '{ \"a\": \"Mozilla\\\\/5.0 (iPad; U; CPU OS 3_2 like Mac OS X; en-us) AppleWebKit\\\\/531.21.10 (KHTML, like Gecko) Version\\\\/4.0.4 Mobile\\\\/7B367 Safari\\\\/531.21.10\", \"c\": null, \"nk\": 1, \"tz\": \"\", \"g\": \"FPX0IM\", \"h\": \"FPX0IL\", \"l\": \"twittershare\", \"al\": \"en-us\", \"hh\": \"1.usa.gov\", \"r\": \"http:\\\\/\\\\/t.co\\\\/5xlp0B34\", \"u\": \"http:\\\\/\\\\/www.ed.gov\\\\/news\\\\/media-advisories\\\\/us-department-education-and-advance-illinois-discuss-transforming-teaching-pro\", \"t\": 1331923270, \"hc\": 1331922978 }\\n',\n",
       " '{ \"a\": \"Mozilla\\\\/5.0 (Windows NT 5.1) AppleWebKit\\\\/535.11 (KHTML, like Gecko) Chrome\\\\/17.0.963.79 Safari\\\\/535.11\", \"c\": \"GB\", \"nk\": 0, \"tz\": \"Europe\\\\/London\", \"gr\": \"G8\", \"g\": \"wcndER\", \"h\": \"zkpJBR\", \"l\": \"bnjacobs\", \"al\": \"en-GB,en-US;q=0.8,en;q=0.6\", \"hh\": \"1.usa.gov\", \"r\": \"http:\\\\/\\\\/plus.url.google.com\\\\/url?sa=z&n=1331923308907&url=http%3A%2F%2F1.usa.gov%2FzkpJBR&usg=aqYZtNlwKGwBPD7VQg2AGSQUmIE.\", \"u\": \"http:\\\\/\\\\/www.nasa.gov\\\\/mission_pages\\\\/nustar\\\\/main\\\\/index.html\", \"t\": 1331923271, \"hc\": 1331922854, \"cy\": \"Huddersfield\", \"ll\": [ 53.650002, -1.783300 ] }\\n',\n",
       " '{ \"a\": \"Mozilla\\\\/5.0 (Windows NT 5.1) AppleWebKit\\\\/535.11 (KHTML, like Gecko) Chrome\\\\/17.0.963.79 Safari\\\\/535.11\", \"c\": \"US\", \"nk\": 0, \"tz\": \"America\\\\/New_York\", \"gr\": \"NY\", \"g\": \"wcndER\", \"h\": \"zkpJBR\", \"l\": \"bnjacobs\", \"al\": \"en-US,en;q=0.8\", \"hh\": \"1.usa.gov\", \"r\": \"http:\\\\/\\\\/www.facebook.com\\\\/l.php?u=http%3A%2F%2F1.usa.gov%2FzkpJBR&h=UAQF87rDtAQGLJahNrJKHLoFfS5vZXgdXxw9CigHifduvZA\", \"u\": \"http:\\\\/\\\\/www.nasa.gov\\\\/mission_pages\\\\/nustar\\\\/main\\\\/index.html\", \"t\": 1331923271, \"hc\": 1331922854, \"cy\": \"Fairport\", \"ll\": [ 43.100498, -77.426003 ] }\\n',\n",
       " '{ \"a\": \"Mozilla\\\\/4.0 (compatible; MSIE 7.0; Windows NT 5.1; .NET CLR 1.1.4322; .NET CLR 2.0.50727; .NET CLR 3.0.04506.648; .NET CLR 3.5.21022; .NET CLR 3.0.4506.2152; .NET CLR 3.5.30729; InfoPath.2; .NET4.0C; .NET4.0E)\", \"c\": \"US\", \"nk\": 1, \"tz\": \"Pacific\\\\/Honolulu\", \"gr\": \"HI\", \"g\": \"FO8qn8\", \"h\": \"zGDswc\", \"l\": \"kcatian\", \"al\": \"en-us\", \"hh\": \"bit.ly\", \"r\": \"direct\", \"u\": \"http:\\\\/\\\\/www.cnic.navy.mil\\\\/navycni\\\\/groups\\\\/public\\\\/@hawaii\\\\/documents\\\\/document\\\\/cnicp_a286591.pdf\", \"t\": 1331923276, \"hc\": 1331922709, \"kw\": \"SBXreturns\", \"cy\": \"Honolulu\", \"ll\": [ 21.313900, -157.824493 ] }\\n',\n",
       " '{ \"a\": \"Mozilla\\\\/5.0 (Macintosh; U; Intel Mac OS X 10.4; en-US; rv:1.9.0.19) Gecko\\\\/2010031218 Firefox\\\\/3.0.19\", \"c\": \"US\", \"nk\": 1, \"tz\": \"America\\\\/Chicago\", \"gr\": \"TN\", \"g\": \"y5uuLa\", \"h\": \"AfJNSd\", \"l\": \"nasatwitter\", \"al\": \"en-us,en;q=0.5\", \"hh\": \"go.nasa.gov\", \"r\": \"http:\\\\/\\\\/t.co\\\\/1ghGl5Pl\", \"u\": \"http:\\\\/\\\\/www.nasa.gov\\\\/topics\\\\/earth\\\\/features\\\\/2012-snow.html\", \"t\": 1331923275, \"hc\": 1331825200, \"cy\": \"Knoxville\", \"ll\": [ 35.972401, -83.959503 ] }\\n',\n",
       " '{ \"a\": \"Mozilla\\\\/5.0 (Windows NT 5.1) AppleWebKit\\\\/535.11 (KHTML, like Gecko) Chrome\\\\/17.0.963.79 Safari\\\\/535.11\", \"c\": null, \"nk\": 1, \"tz\": \"\", \"g\": \"wcndER\", \"h\": \"zkpJBR\", \"l\": \"bnjacobs\", \"al\": \"en-US,en;q=0.8\", \"hh\": \"1.usa.gov\", \"r\": \"http:\\\\/\\\\/plus.url.google.com\\\\/url?sa=z&n=1331923275708&url=http%3A%2F%2F1.usa.gov%2FzkpJBR&usg=lUoN-YVtghjS57X6UrYNqro4HSI.\", \"u\": \"http:\\\\/\\\\/www.nasa.gov\\\\/mission_pages\\\\/nustar\\\\/main\\\\/index.html\", \"t\": 1331923276, \"hc\": 1331922854 }\\n',\n",
       " '{ \"a\": \"Mozilla\\\\/5.0 (Windows NT 6.1; WOW64) AppleWebKit\\\\/535.11 (KHTML, like Gecko) Chrome\\\\/17.0.963.79 Safari\\\\/535.11\", \"c\": null, \"nk\": 0, \"tz\": \"\", \"g\": \"xOsMcy\", \"h\": \"yV8hww\", \"l\": \"wwpinc\", \"al\": \"en-US,en;q=0.8\", \"hh\": \"1.usa.gov\", \"r\": \"http:\\\\/\\\\/www.facebook.com\\\\/l.php?u=http%3A%2F%2F1.usa.gov%2FyV8hww&h=GAQHUfoFWAQGsnXEom3HohpAApWT6OOQy08mVRAaaolHDlA\", \"u\": \"http:\\\\/\\\\/www.army.mil\\\\/article\\\\/75464\\\\/Marksmanship_Unit_adding_wounded_warrior_sections\\\\/\", \"t\": 1331923277, \"hc\": 1331829147 }\\n',\n",
       " '{ \"a\": \"Mozilla\\\\/4.0 (compatible; MSIE 7.0; Windows NT 5.1; .NET CLR 1.1.4322; .NET CLR 2.0.50727; .NET CLR 3.0.04506.648; .NET CLR 3.5.21022; .NET CLR 3.0.4506.2152; .NET CLR 3.5.30729; InfoPath.2; .NET4.0C; .NET4.0E)\", \"c\": \"US\", \"nk\": 1, \"tz\": \"Pacific\\\\/Honolulu\", \"gr\": \"HI\", \"g\": \"FO8qn8\", \"h\": \"zGDswc\", \"l\": \"kcatian\", \"al\": \"en-us\", \"hh\": \"1.usa.gov\", \"r\": \"direct\", \"u\": \"http:\\\\/\\\\/www.cnic.navy.mil\\\\/navycni\\\\/groups\\\\/public\\\\/@hawaii\\\\/documents\\\\/document\\\\/cnicp_a286591.pdf\", \"t\": 1331923278, \"hc\": 1331922709, \"kw\": \"SBXreturns\", \"cy\": \"Honolulu\", \"ll\": [ 21.313900, -157.824493 ] }\\n',\n",
       " '{ \"a\": \"Mozilla\\\\/5.0 (Windows NT 6.1; WOW64; rv:10.0.2) Gecko\\\\/20100101 Firefox\\\\/10.0.2\", \"c\": null, \"nk\": 1, \"tz\": \"\", \"g\": \"vNJS4H\", \"h\": \"u0uD9q\", \"l\": \"o_4us71ccioa\", \"al\": \"en-us,en;q=0.5\", \"hh\": \"1.usa.gov\", \"r\": \"direct\", \"u\": \"https:\\\\/\\\\/www.nysdot.gov\\\\/rexdesign\\\\/design\\\\/community.gif\", \"t\": 1331923278, \"hc\": 1319563556 }\\n',\n",
       " '{ \"a\": \"Mozilla\\\\/4.0 (compatible; MSIE 8.0; Windows NT 5.1; Trident\\\\/4.0; SU 3.96; .NET CLR 1.1.4322; .NET CLR 2.0.50727; .NET CLR 3.0.4506.2152; .NET CLR 3.5.30729; .NET4.0C)\", \"c\": \"US\", \"nk\": 0, \"tz\": \"America\\\\/New_York\", \"gr\": \"DC\", \"g\": \"wmAjaQ\", \"h\": \"z6glLT\", \"l\": \"citizencorps\", \"al\": \"en-us\", \"hh\": \"1.usa.gov\", \"r\": \"direct\", \"u\": \"http:\\\\/\\\\/citizencorps.gov\\\\/getstarted\\\\/youth\\\\/youthindex.shtm\", \"t\": 1331923279, \"hc\": 1331665443, \"cy\": \"Washington\", \"ll\": [ 38.897099, -77.040901 ] }\\n',\n",
       " '{ \"a\": \"Mozilla\\\\/5.0 (Windows NT 6.1; WOW64; rv:10.0.2) Gecko\\\\/20100101 Firefox\\\\/10.0.2\", \"c\": \"US\", \"nk\": 1, \"tz\": \"America\\\\/New_York\", \"gr\": \"CT\", \"g\": \"vNJS4H\", \"h\": \"u0uD9q\", \"l\": \"o_4us71ccioa\", \"al\": \"en-us,en;q=0.5\", \"hh\": \"1.usa.gov\", \"r\": \"direct\", \"u\": \"https:\\\\/\\\\/www.nysdot.gov\\\\/rexdesign\\\\/design\\\\/community.gif\", \"t\": 1331923279, \"hc\": 1319563556, \"cy\": \"Stamford\", \"ll\": [ 41.097801, -73.518799 ] }\\n',\n",
       " '{ \"a\": \"Mozilla\\\\/5.0 (iPhone; CPU iPhone OS 5_1 like Mac OS X) AppleWebKit\\\\/534.46 (KHTML, like Gecko) Mobile\\\\/9B179\", \"c\": \"US\", \"nk\": 0, \"tz\": \"America\\\\/New_York\", \"gr\": \"NY\", \"g\": \"BNDz\", \"h\": \"14Q1q3\", \"l\": \"tweetdeckapi\", \"al\": \"en-us\", \"hh\": \"1.usa.gov\", \"r\": \"direct\", \"u\": \"http:\\\\/\\\\/radar.weather.gov\\\\/Conus\\\\/northeast_loop.php\", \"t\": 1331923279, \"hc\": 1246975140, \"cy\": \"Bronx\", \"ll\": [ 40.849899, -73.876900 ] }\\n',\n",
       " '{ \"a\": \"Mozilla\\\\/5.0 (Windows NT 6.1; WOW64; rv:10.0.2) Gecko\\\\/20100101 Firefox\\\\/10.0.2\", \"c\": \"US\", \"nk\": 0, \"tz\": \"America\\\\/Chicago\", \"gr\": \"MO\", \"g\": \"wWiOiD\", \"h\": \"wWiOiD\", \"l\": \"bitly\", \"al\": \"en-us,en;q=0.5\", \"hh\": \"1.usa.gov\", \"r\": \"http:\\\\/\\\\/www.facebook.com\\\\/l.php?u=http%3A%2F%2F1.usa.gov%2FwWiOiD&h=pAQFg1hNvAQHAGtvH4GVtNG_4z5VmkNesOvnGD9t126HN8w&enc=AZOxntKo6VqhJI5pIgviFZiD9z6bpk0XQDQ92Mboc1XBhKs_wA9h-nm2KF7249rX6Yh_ikqXfFo032KIHym15NC5Hm-RUFV-t3VSOhO-lk7oww\", \"u\": \"http:\\\\/\\\\/www.tricare.mil\\\\/mybenefit\\\\/ProfileFilter.do;jsessionid=PJDJhXzQbWLQ5GLygF5zrfhMfxZlYndrdYh5Zvm9tlYMXDZW41QY!-541484568?puri=\\\\/home\\\\/Dental\\\\/DentalProgram\", \"t\": 1331923281, \"hc\": 1330217829, \"cy\": \"Saint Louis\", \"ll\": [ 38.614300, -90.444397 ] }\\n',\n",
       " '{ \"a\": \"Mozilla\\\\/5.0 (Windows NT 6.1; WOW64) AppleWebKit\\\\/535.11 (KHTML, like Gecko) Chrome\\\\/17.0.963.79 Safari\\\\/535.11\", \"c\": \"IT\", \"nk\": 0, \"tz\": \"Europe\\\\/Rome\", \"gr\": \"07\", \"g\": \"wcndER\", \"h\": \"zkpJBR\", \"l\": \"bnjacobs\", \"al\": \"it-IT,it;q=0.8,en-US;q=0.6,en;q=0.4\", \"hh\": \"1.usa.gov\", \"r\": \"http:\\\\/\\\\/www.facebook.com\\\\/l.php?u=http%3A%2F%2F1.usa.gov%2FzkpJBR&h=SAQGcXJwXAQH8Dl_HB2zWjRG-1qeuKDE37uV7TTvk129TKA\", \"u\": \"http:\\\\/\\\\/www.nasa.gov\\\\/mission_pages\\\\/nustar\\\\/main\\\\/index.html\", \"t\": 1331923280, \"hc\": 1331922854, \"cy\": \"Rome\", \"ll\": [ 41.900002, 12.483300 ] }\\n',\n",
       " '{ \"a\": \"Mozilla\\\\/5.0 (Windows NT 6.1; rv:9.0.1) Gecko\\\\/20100101 Firefox\\\\/9.0.1\", \"c\": \"US\", \"nk\": 1, \"tz\": \"America\\\\/New_York\", \"gr\": \"MA\", \"g\": \"vNJS4H\", \"h\": \"u0uD9q\", \"l\": \"o_4us71ccioa\", \"al\": \"en-us,en;q=0.5\", \"hh\": \"1.usa.gov\", \"r\": \"direct\", \"u\": \"https:\\\\/\\\\/www.nysdot.gov\\\\/rexdesign\\\\/design\\\\/community.gif\", \"t\": 1331923281, \"hc\": 1319563556, \"cy\": \"Dudley\", \"ll\": [ 42.059399, -71.935600 ] }\\n',\n",
       " '{ \"a\": \"Mozilla\\\\/5.0 (iPhone; CPU iPhone OS 5_0_1 like Mac OS X) AppleWebKit\\\\/534.46 (KHTML, like Gecko) Mobile\\\\/9A406 Twitter for iPhone\", \"c\": \"US\", \"nk\": 1, \"tz\": \"America\\\\/New_York\", \"gr\": \"MD\", \"g\": \"16aNQi\", \"h\": \"xoB0ID\", \"l\": \"usagovteam\", \"al\": \"en-us\", \"hh\": \"1.usa.gov\", \"r\": \"direct\", \"u\": \"http:\\\\/\\\\/www.irs.gov\\\\/individuals\\\\/article\\\\/0,,id=96196,00.html\", \"t\": 1331923281, \"hc\": 1328745636, \"cy\": \"Bowie\", \"ll\": [ 38.957600, -76.756599 ] }\\n',\n",
       " '{ \"a\": \"Mozilla\\\\/5.0 (Macintosh; Intel Mac OS X 10.6; rv:10.0.2) Gecko\\\\/20100101 Firefox\\\\/10.0.2\", \"c\": \"US\", \"nk\": 1, \"tz\": \"America\\\\/Los_Angeles\", \"gr\": \"CA\", \"g\": \"vNJS4H\", \"h\": \"u0uD9q\", \"l\": \"o_4us71ccioa\", \"al\": \"en-us,en;q=0.5\", \"hh\": \"1.usa.gov\", \"r\": \"direct\", \"u\": \"https:\\\\/\\\\/www.nysdot.gov\\\\/rexdesign\\\\/design\\\\/community.gif\", \"t\": 1331923284, \"hc\": 1319563556, \"cy\": \"Los Angeles\", \"ll\": [ 34.065701, -118.436203 ] }\\n',\n",
       " '{ \"a\": \"BlackBerry8520\\\\/5.0.0.592 Profile\\\\/MIDP-2.1 Configuration\\\\/CLDC-1.1 VendorID\\\\/168\", \"c\": null, \"nk\": 0, \"tz\": \"\", \"g\": \"yD1K8w\", \"h\": \"AAEmdT\", \"l\": \"healthit\", \"al\": \"en\", \"hh\": \"1.usa.gov\", \"r\": \"http:\\\\/\\\\/mobile.twitter.com\\\\/AIDSgov\", \"u\": \"http:\\\\/\\\\/www.hhs.gov\\\\/live\\\\/?utm_source=ketchum&utm_medium=pitchemail&utm_campaign=mobileroundtable_hhs_livestreaming_3_14_2012%2B\", \"t\": 1331923284, \"hc\": 1331756442 }\\n',\n",
       " '{ \"a\": \"Mozilla\\\\/5.0 (Windows; U; Windows NT 6.1; en-US; rv:1.9.2.28) Gecko\\\\/20120306 Firefox\\\\/3.6.28\", \"c\": null, \"nk\": 0, \"tz\": \"\", \"g\": \"wcndER\", \"h\": \"zkpJBR\", \"l\": \"bnjacobs\", \"al\": \"en-us,en;q=0.5\", \"hh\": \"1.usa.gov\", \"r\": \"http:\\\\/\\\\/www.facebook.com\\\\/home.php?\", \"u\": \"http:\\\\/\\\\/www.nasa.gov\\\\/mission_pages\\\\/nustar\\\\/main\\\\/index.html\", \"t\": 1331923286, \"hc\": 1331922854 }\\n',\n",
       " '{ \"a\": \"Mozilla\\\\/5.0 (Windows NT 6.1; WOW64; rv:9.0.1) Gecko\\\\/20100101 Firefox\\\\/9.0.1\", \"c\": \"US\", \"nk\": 1, \"tz\": \"America\\\\/New_York\", \"gr\": \"GA\", \"g\": \"vNJS4H\", \"h\": \"u0uD9q\", \"l\": \"o_4us71ccioa\", \"al\": \"en-us,en;q=0.5\", \"hh\": \"1.usa.gov\", \"r\": \"direct\", \"u\": \"https:\\\\/\\\\/www.nysdot.gov\\\\/rexdesign\\\\/design\\\\/community.gif\", \"t\": 1331923284, \"hc\": 1319563556, \"cy\": \"Savannah\", \"ll\": [ 31.997101, -80.964500 ] }\\n',\n",
       " '{ \"a\": \"Mozilla\\\\/4.0 (compatible; MSIE 8.0; Windows NT 6.1; Trident\\\\/4.0; SLCC2; .NET CLR 2.0.50727; .NET CLR 3.5.30729; .NET CLR 3.0.30729; Media Center PC 6.0; InfoPath.2; .NET4.0C; MS-RTC LM 8)\", \"c\": \"US\", \"nk\": 0, \"tz\": \"America\\\\/New_York\", \"gr\": \"DC\", \"g\": \"znwhw1\", \"h\": \"xurm7e\", \"l\": \"aashtojournal\", \"al\": \"en-US\", \"hh\": \"1.usa.gov\", \"r\": \"http:\\\\/\\\\/www.aashtojournal.org\\\\/Pages\\\\/031612senate.aspx\", \"u\": \"http:\\\\/\\\\/www.senate.gov\\\\/legislative\\\\/LIS\\\\/roll_call_lists\\\\/roll_call_vote_cfm.cfm?congress=112&session=2&vote=00048\", \"t\": 1331923285, \"hc\": 1331853485, \"cy\": \"Washington\", \"ll\": [ 38.909698, -77.023102 ] }\\n',\n",
       " '{ \"a\": \"Mozilla\\\\/5.0 (Windows NT 5.1; rv:10.0.2) Gecko\\\\/20100101 Firefox\\\\/10.0.2\", \"c\": \"MT\", \"nk\": 0, \"tz\": \"Europe\\\\/Malta\", \"gr\": \"00\", \"g\": \"wcndER\", \"h\": \"zkpJBR\", \"l\": \"bnjacobs\", \"al\": \"en-gb,en;q=0.5\", \"hh\": \"1.usa.gov\", \"r\": \"http:\\\\/\\\\/www.facebook.com\\\\/l.php?u=http%3A%2F%2F1.usa.gov%2FzkpJBR&h=0AQGf_X9OAQFoS-3nfrl3To6BNnsCtzK0HL1O98ZfkXKzsQ\", \"u\": \"http:\\\\/\\\\/www.nasa.gov\\\\/mission_pages\\\\/nustar\\\\/main\\\\/index.html\", \"t\": 1331923288, \"hc\": 1331922854, \"cy\": \"Sliema\", \"ll\": [ 35.912498, 14.501900 ] }\\n',\n",
       " '{ \"a\": \"Mozilla\\\\/5.0 (Linux; U; Android 2.2.2; en-us; LG-P925\\\\/V10e Build\\\\/FRG83G) AppleWebKit\\\\/533.1 (KHTML, like Gecko) Version\\\\/4.0 Mobile Safari\\\\/533.1\", \"c\": \"US\", \"nk\": 0, \"tz\": \"America\\\\/New_York\", \"gr\": \"VA\", \"g\": \"wcndER\", \"h\": \"zkpJBR\", \"l\": \"bnjacobs\", \"al\": \"en-US\", \"hh\": \"1.usa.gov\", \"r\": \"http:\\\\/\\\\/m.facebook.com\\\\/l.php?u=http%3A%2F%2F1.usa.gov%2FzkpJBR&h=5AQGaIchD&enc=AZNFqXj6jEJucL_ibqRU1RrHoswuu_1lvTqb961sibFZMt75vb-2Uf2tHkyKhDkP5vBK2fDhx7ns4OA5XFS0dUelVgyqB6quUWg-j0OZ-f37XQ72Oh-sCmmywrUxXugQ9JH8jWivDxVWywHKLNnqKGWN2VRKPimytTvIs-VRnEm9PE3QknYsOxm6AQ5CcQdxDvs\", \"u\": \"http:\\\\/\\\\/www.nasa.gov\\\\/mission_pages\\\\/nustar\\\\/main\\\\/index.html\", \"t\": 1331923288, \"hc\": 1331922854, \"cy\": \"Woodbridge\", \"ll\": [ 38.625702, -77.266502 ] }\\n',\n",
       " '{ \"a\": \"Mozilla\\\\/5.0 (Windows NT 6.1) AppleWebKit\\\\/535.11 (KHTML, like Gecko) Chrome\\\\/17.0.963.79 Safari\\\\/535.11\", \"c\": \"US\", \"nk\": 1, \"tz\": \"America\\\\/New_York\", \"gr\": \"MI\", \"g\": \"FO8od2\", \"h\": \"FO8od1\", \"l\": \"developmentseed\", \"al\": \"en-US,en;q=0.8\", \"hh\": \"ds.io\", \"r\": \"http:\\\\/\\\\/t.co\\\\/wgctD0rd\", \"u\": \"http:\\\\/\\\\/www.nature.nps.gov\\\\/features\\\\/eclipse\\\\/wheretoview.cfm\", \"t\": 1331923287, \"hc\": 1331921833, \"cy\": \"Grand Rapids\", \"ll\": [ 42.977699, -85.710999 ] }\\n',\n",
       " '{ \"a\": \"Mozilla\\\\/5.0 (compatible; MSIE 9.0; Windows Phone OS 7.5; Trident\\\\/5.0; IEMobile\\\\/9.0; SAMSUNG; GT-I8350)\", \"c\": null, \"nk\": 0, \"tz\": \"\", \"g\": \"wcndER\", \"h\": \"zkpJBR\", \"l\": \"bnjacobs\", \"al\": \"en-IN\", \"hh\": \"1.usa.gov\", \"r\": \"direct\", \"u\": \"http:\\\\/\\\\/www.nasa.gov\\\\/mission_pages\\\\/nustar\\\\/main\\\\/index.html\", \"t\": 1331923287, \"hc\": 1331922854 }\\n',\n",
       " '{ \"a\": \"Mozilla\\\\/4.0 (compatible; MSIE 8.0; Windows NT 5.1; Trident\\\\/4.0; BTRS127482)\", \"c\": \"US\", \"nk\": 1, \"tz\": \"America\\\\/Los_Angeles\", \"gr\": \"CA\", \"g\": \"FOogtm\", \"h\": \"AkgL2C\", \"l\": \"twitterfeed\", \"al\": \"en-us\", \"hh\": \"1.usa.gov\", \"r\": \"http:\\\\/\\\\/t.co\\\\/ovz0wT2O\", \"u\": \"http:\\\\/\\\\/www.whitehouse.gov\\\\/the-press-office\\\\/2012\\\\/03\\\\/16\\\\/statement-president-retirement-congressman-gary-ackerman?utm_source=twitterfeed&utm_medium=twitter\", \"t\": 1331923291, \"hc\": 1331920879, \"cy\": \"Chula Vista\", \"ll\": [ 32.636101, -117.053200 ] }\\n',\n",
       " '{\"_heartbeat_\":1331923291}\\n',\n",
       " '{ \"a\": \"Mozilla\\\\/5.0 (Windows NT 5.1) AppleWebKit\\\\/535.11 (KHTML, like Gecko) Chrome\\\\/17.0.963.79 Safari\\\\/535.11\", \"c\": \"BR\", \"nk\": 0, \"tz\": \"America\\\\/Sao_Paulo\", \"gr\": \"18\", \"g\": \"zCaLwp\", \"h\": \"zUtuOu\", \"l\": \"alelex88\", \"al\": \"pt-BR,pt;q=0.8,en-US;q=0.6,en;q=0.4\", \"hh\": \"1.usa.gov\", \"r\": \"http:\\\\/\\\\/t.co\\\\/o1Pd0WeV\", \"u\": \"http:\\\\/\\\\/apod.nasa.gov\\\\/apod\\\\/ap120312.html\", \"t\": 1331923292, \"hc\": 1331923068, \"cy\": \"Curitiba\", \"ll\": [ -25.416700, -49.250000 ] }\\n',\n",
       " '{ \"a\": \"Mozilla\\\\/5.0 (iPhone; U; CPU iPhone OS 5_0_1 like Mac OS X; en_US) AppleWebKit (KHTML, like Gecko) Mobile [FBAN\\\\/FBForIPhone;FBAV\\\\/4.1;FBBV\\\\/4100.0;FBDV\\\\/iPhone3,1;FBMD\\\\/iPhone;FBSN\\\\/iPhone OS;FBSV\\\\/5.0.1;FBSS\\\\/2; FBCR\\\\/Carrier;FBID\\\\/phone;FBLC\\\\/en_US;FBSF\\\\/2.0]\", \"c\": null, \"nk\": 0, \"tz\": \"\", \"g\": \"wcndER\", \"h\": \"zkpJBR\", \"l\": \"bnjacobs\", \"al\": \"en-us\", \"hh\": \"1.usa.gov\", \"r\": \"http:\\\\/\\\\/m.facebook.com\\\\/l.php?u=http%3A%2F%2F1.usa.gov%2FzkpJBR&h=vAQGtNTof\", \"u\": \"http:\\\\/\\\\/www.nasa.gov\\\\/mission_pages\\\\/nustar\\\\/main\\\\/index.html\", \"t\": 1331923293, \"hc\": 1331922854 }\\n',\n",
       " '{ \"a\": \"Mozilla\\\\/5.0 (iPhone; CPU iPhone OS 5_1 like Mac OS X) AppleWebKit\\\\/534.46 (KHTML, like Gecko) Mobile\\\\/9B176\", \"c\": \"HK\", \"nk\": 0, \"tz\": \"Asia\\\\/Hong_Kong\", \"gr\": \"00\", \"g\": \"XdUNr\", \"h\": \"qWkgbq\", \"l\": \"walkeryuen\", \"al\": \"en-us\", \"hh\": \"j.mp\", \"r\": \"http:\\\\/\\\\/lalaf.com\\\\/ihkg\\\\/app\\\\/iphone.4_71.php?gif=no&font=14&ver=4.73&na=1&&img=yes&smy=yes&forum=7&id=3602284&page=1&allpage=9&loc=129&bloc\", \"u\": \"http:\\\\/\\\\/www.usno.navy.mil\\\\/NOOC\\\\/nmfc-ph\\\\/RSS\\\\/jtwc\\\\/ab\\\\/abpwsair.jpg\", \"t\": 1331923292, \"hc\": 1317318039, \"cy\": \"Central District\", \"ll\": [ 22.283300, 114.150002 ] }\\n',\n",
       " '{ \"a\": \"Mozilla\\\\/5.0 (iPhone; CPU iPhone OS 5_1 like Mac OS X) AppleWebKit\\\\/534.46 (KHTML, like Gecko) Mobile\\\\/9B176\", \"c\": \"HK\", \"nk\": 0, \"tz\": \"Asia\\\\/Hong_Kong\", \"gr\": \"00\", \"g\": \"nQvgJp\", \"h\": \"rtrrth\", \"l\": \"walkeryuen\", \"al\": \"en-us\", \"hh\": \"j.mp\", \"r\": \"http:\\\\/\\\\/lalaf.com\\\\/ihkg\\\\/app\\\\/iphone.4_71.php?gif=no&font=14&ver=4.73&na=1&&img=yes&smy=yes&forum=7&id=3602284&page=1&allpage=9&loc=129&bloc\", \"u\": \"http:\\\\/\\\\/www.ssd.noaa.gov\\\\/PS\\\\/TROP\\\\/TCFP\\\\/data\\\\/current\\\\/mtloopfpr17.png\", \"t\": 1331923292, \"hc\": 1317318030, \"cy\": \"Central District\", \"ll\": [ 22.283300, 114.150002 ] }\\n',\n",
       " '{ \"a\": \"Mozilla\\\\/4.0 (compatible; MSIE 7.0; Windows NT 5.1; .NET CLR 1.1.4322; .NET CLR 2.0.50727; .NET CLR 3.0.04506.648; .NET CLR 3.5.21022; .NET CLR 3.0.4506.2152; .NET CLR 3.5.30729; InfoPath.2; .NET4.0C; .NET4.0E)\", \"c\": \"US\", \"nk\": 1, \"tz\": \"Pacific\\\\/Honolulu\", \"gr\": \"HI\", \"g\": \"FO8qn8\", \"h\": \"zGDswc\", \"l\": \"kcatian\", \"al\": \"en-us\", \"hh\": \"1.usa.gov\", \"r\": \"direct\", \"u\": \"http:\\\\/\\\\/www.cnic.navy.mil\\\\/navycni\\\\/groups\\\\/public\\\\/@hawaii\\\\/documents\\\\/document\\\\/cnicp_a286591.pdf\", \"t\": 1331923294, \"hc\": 1331922709, \"kw\": \"SBXreturns\", \"cy\": \"Honolulu\", \"ll\": [ 21.313900, -157.824493 ] }\\n',\n",
       " '{ \"a\": \"Mozilla\\\\/4.0 (compatible; MSIE 7.0; Windows NT 5.1; .NET CLR 1.1.4322; .NET CLR 2.0.50727; .NET CLR 3.0.04506.648; .NET CLR 3.5.21022; .NET CLR 3.0.4506.2152; .NET CLR 3.5.30729; InfoPath.2; .NET4.0C; .NET4.0E)\", \"c\": \"US\", \"nk\": 1, \"tz\": \"Pacific\\\\/Honolulu\", \"gr\": \"HI\", \"g\": \"FO8qn8\", \"h\": \"zGDswc\", \"l\": \"kcatian\", \"al\": \"en-us\", \"hh\": \"1.usa.gov\", \"r\": \"direct\", \"u\": \"http:\\\\/\\\\/www.cnic.navy.mil\\\\/navycni\\\\/groups\\\\/public\\\\/@hawaii\\\\/documents\\\\/document\\\\/cnicp_a286591.pdf\", \"t\": 1331923295, \"hc\": 1331922709, \"kw\": \"SBXreturns\", \"cy\": \"Honolulu\", \"ll\": [ 21.313900, -157.824493 ] }\\n',\n",
       " '{ \"a\": \"Mozilla\\\\/4.0 (compatible; MSIE 7.0; Windows NT 5.1; .NET CLR 1.1.4322; .NET CLR 2.0.50727; InfoPath.1; .NET CLR 3.0.04506.648; .NET CLR 3.5.21022; InfoPath.2; .NET CLR 3.0.4506.2152; .NET CLR 3.5.30729; .NET4.0C; .NET4.0E)\", \"c\": \"US\", \"nk\": 1, \"tz\": \"Pacific\\\\/Honolulu\", \"gr\": \"HI\", \"g\": \"x98anS\", \"h\": \"FOb6ww\", \"l\": \"kcatian\", \"al\": \"en-us\", \"hh\": \"bit.ly\", \"r\": \"direct\", \"u\": \"http:\\\\/\\\\/www.navy.mil\\\\/search\\\\/display.asp?story_id=65845\", \"t\": 1331923295, \"hc\": 1331921801, \"kw\": \"RealignOPNAVstaff\", \"cy\": \"Honolulu\", \"ll\": [ 21.313900, -157.824493 ] }\\n',\n",
       " '{ \"a\": \"Mozilla\\\\/5.0 (Windows NT 6.1; rv:10.0.2) Gecko\\\\/20100101 Firefox\\\\/10.0.2\", \"c\": \"US\", \"nk\": 0, \"tz\": \"America\\\\/New_York\", \"gr\": \"MA\", \"g\": \"y7wGgq\", \"h\": \"zwlxab\", \"l\": \"americanactionnetwork\", \"al\": \"en-us,en;q=0.5\", \"hh\": \"1.usa.gov\", \"r\": \"http:\\\\/\\\\/t.co\\\\/ihUhQF1r\", \"u\": \"http:\\\\/\\\\/www.cbo.gov\\\\/publication\\\\/43083\", \"t\": 1331923296, \"hc\": 1331908890, \"cy\": \"Cambridge\", \"ll\": [ 42.374100, -71.107201 ] }\\n',\n",
       " '{ \"a\": \"Mozilla\\\\/5.0 (compatible; MSIE 9.0; Windows NT 6.1; WOW64; Trident\\\\/5.0)\", \"c\": \"GB\", \"nk\": 0, \"tz\": \"Europe\\\\/London\", \"gr\": \"A7\", \"g\": \"FOlpyK\", \"h\": \"yK8zBm\", \"l\": \"twitterfeed\", \"al\": \"en-GB\", \"hh\": \"1.usa.gov\", \"r\": \"http:\\\\/\\\\/www.facebook.com\\\\/\", \"u\": \"http:\\\\/\\\\/www.nasa.gov\\\\/mission_pages\\\\/station\\\\/multimedia\\\\/gallery\\\\/jsc2012e034742.html?utm_medium=facebook&utm_source=twitterfeed\", \"t\": 1331923297, \"hc\": 1331921292, \"cy\": \"Birmingham\", \"ll\": [ 52.466702, -1.916700 ] }\\n',\n",
       " '{ \"a\": \"Mozilla\\\\/4.0 (compatible; MSIE 9.0; Windows NT 6.1)\", \"c\": \"US\", \"nk\": 1, \"tz\": \"America\\\\/New_York\", \"gr\": \"NJ\", \"g\": \"e5SvKE\", \"h\": \"fqPSr9\", \"l\": \"tweetdeckapi\", \"al\": \"en\", \"hh\": \"1.usa.gov\", \"r\": \"direct\", \"u\": \"http:\\\\/\\\\/www.fda.gov\\\\/AdvisoryCommittees\\\\/CommitteesMeetingMaterials\\\\/Drugs\\\\/Anti-InfectiveDrugsAdvisoryCommittee\\\\/ucm242307.htm\", \"t\": 1331923296, \"hc\": 1301298479, \"cy\": \"Paramus\", \"ll\": [ 40.944500, -74.070000 ] }\\n',\n",
       " '{ \"a\": \"Mozilla\\\\/5.0 (Windows NT 5.1) AppleWebKit\\\\/535.19 (KHTML, like Gecko) Chrome\\\\/18.0.1025.100 Safari\\\\/535.19\", \"c\": null, \"nk\": 0, \"tz\": \"\", \"g\": \"wcndER\", \"h\": \"zkpJBR\", \"l\": \"bnjacobs\", \"al\": \"en-US,en;q=0.8\", \"hh\": \"1.usa.gov\", \"r\": \"http:\\\\/\\\\/www.facebook.com\\\\/\", \"u\": \"http:\\\\/\\\\/www.nasa.gov\\\\/mission_pages\\\\/nustar\\\\/main\\\\/index.html\", \"t\": 1331923297, \"hc\": 1331922854 }\\n',\n",
       " '{ \"a\": \"Mozilla\\\\/5.0 (Windows NT 6.1; WOW64) AppleWebKit\\\\/535.11 (KHTML, like Gecko) Chrome\\\\/17.0.963.79 Safari\\\\/535.11\", \"c\": \"PT\", \"nk\": 1, \"tz\": \"Europe\\\\/Lisbon\", \"gr\": \"14\", \"g\": \"xVZg4P\", \"h\": \"wqUkTo\", \"l\": \"nasatwitter\", \"al\": \"pt-PT,pt;q=0.8,en-US;q=0.6,en;q=0.4\", \"hh\": \"go.nasa.gov\", \"r\": \"http:\\\\/\\\\/www.facebook.com\\\\/l.php?u=http%3A%2F%2Fgo.nasa.gov%2FwqUkTo%3Fref%3Dnf&h=lAQHkOnePAQEphexVJoSTOmQ8WpdDlw0jz6N7cQjIB0D3aQ\", \"u\": \"http:\\\\/\\\\/www.nasa.gov\\\\/multimedia\\\\/imagegallery\\\\/image_feature_2199.html\", \"t\": 1331923298, \"hc\": 1331908247, \"cy\": \"Lisboa\", \"ll\": [ 38.716702, -9.133300 ] }\\n',\n",
       " '{ \"a\": \"Mozilla\\\\/5.0 (Windows NT 6.0) AppleWebKit\\\\/535.11 (KHTML, like Gecko) Chrome\\\\/17.0.963.79 Safari\\\\/535.11\", \"c\": \"FR\", \"nk\": 0, \"tz\": \"Europe\\\\/Paris\", \"gr\": \"B4\", \"g\": \"wcndER\", \"h\": \"zkpJBR\", \"l\": \"bnjacobs\", \"al\": \"fr-FR,fr;q=0.8,en-US;q=0.6,en;q=0.4\", \"hh\": \"1.usa.gov\", \"r\": \"http:\\\\/\\\\/www.facebook.com\\\\/l.php?u=http%3A%2F%2F1.usa.gov%2FzkpJBR&h=iAQHSRJiqAQHWyGKlJLyoapZ3t68gz9Nwoh20N4xWZmgLwg\", \"u\": \"http:\\\\/\\\\/www.nasa.gov\\\\/mission_pages\\\\/nustar\\\\/main\\\\/index.html\", \"t\": 1331923298, \"hc\": 1331922854, \"cy\": \"Lambersart\", \"ll\": [ 50.650002, 3.033300 ] }\\n',\n",
       " '{ \"a\": \"Mozilla\\\\/5.0 (compatible; MSIE 9.0; Windows NT 6.0; WOW64; Trident\\\\/5.0)\", \"c\": \"GB\", \"nk\": 0, \"tz\": \"Europe\\\\/London\", \"gr\": \"C6\", \"g\": \"wcndER\", \"h\": \"zkpJBR\", \"l\": \"bnjacobs\", \"al\": \"en-gb\", \"hh\": \"1.usa.gov\", \"r\": \"http:\\\\/\\\\/www.facebook.com\\\\/\", \"u\": \"http:\\\\/\\\\/www.nasa.gov\\\\/mission_pages\\\\/nustar\\\\/main\\\\/index.html\", \"t\": 1331923300, \"hc\": 1331922854, \"cy\": \"Bodmin\", \"ll\": [ 50.466400, -4.725600 ] }\\n',\n",
       " '{ \"a\": \"Mozilla\\\\/5.0 (Macintosh; Intel Mac OS X 10_7_3) AppleWebKit\\\\/534.54.16 (KHTML, like Gecko) Version\\\\/5.1.4 Safari\\\\/534.54.16\", \"c\": \"DK\", \"nk\": 0, \"tz\": \"Europe\\\\/Copenhagen\", \"gr\": \"18\", \"g\": \"wcndER\", \"h\": \"zkpJBR\", \"l\": \"bnjacobs\", \"al\": \"en-us\", \"hh\": \"1.usa.gov\", \"r\": \"http:\\\\/\\\\/www.facebook.com\\\\/\", \"u\": \"http:\\\\/\\\\/www.nasa.gov\\\\/mission_pages\\\\/nustar\\\\/main\\\\/index.html\", \"t\": 1331923299, \"hc\": 1331922854, \"cy\": \"Herning\", \"ll\": [ 56.133301, 8.983300 ] }\\n',\n",
       " '{ \"a\": \"Mozilla\\\\/5.0 (iPhone; CPU iPhone OS 5_1 like Mac OS X) AppleWebKit\\\\/534.46 (KHTML, like Gecko) Mobile\\\\/9B176 Twitter for iPhone\", \"c\": null, \"nk\": 0, \"tz\": \"\", \"g\": \"xRWPdw\", \"h\": \"xRWPdw\", \"l\": \"bitly\", \"al\": \"en-us\", \"hh\": \"1.usa.gov\", \"r\": \"https:\\\\/\\\\/twitter.com\\\\/molleymoody\\\\/status\\\\/180636065898561536\", \"u\": \"http:\\\\/\\\\/www.whitehouse.gov\\\\/the-press-office\\\\/2012\\\\/03\\\\/15\\\\/statement-president-meeting-interagency-task-force-monitor-and-combat-tr\", \"t\": 1331923298, \"hc\": 1331824318 }\\n',\n",
       " '{ \"a\": \"Mozilla\\\\/5.0 (Windows NT 5.1) AppleWebKit\\\\/535.11 (KHTML, like Gecko) Chrome\\\\/17.0.963.56 Safari\\\\/535.11 CoolNovo\\\\/2.0.1.40\", \"c\": \"IT\", \"nk\": 0, \"tz\": \"Europe\\\\/Rome\", \"gr\": \"16\", \"g\": \"wcndER\", \"h\": \"zkpJBR\", \"l\": \"bnjacobs\", \"al\": \"it-IT,it;q=0.8,en-US;q=0.6,en;q=0.4\", \"hh\": \"1.usa.gov\", \"r\": \"http:\\\\/\\\\/www.facebook.com\\\\/l.php?u=http%3A%2F%2F1.usa.gov%2FzkpJBR&h=AAQGqBXRtAQHmxmkJ5g262XdDwz7I5SRglQGwLhqJJ0yeEg\", \"u\": \"http:\\\\/\\\\/www.nasa.gov\\\\/mission_pages\\\\/nustar\\\\/main\\\\/index.html\", \"t\": 1331923301, \"hc\": 1331922854, \"cy\": \"Piombino\", \"ll\": [ 42.916698, 10.533300 ] }\\n',\n",
       " '{ \"a\": \"Mozilla\\\\/5.0 (Windows NT 6.1; WOW64; rv:10.0.2) Gecko\\\\/20100101 Firefox\\\\/10.0.2\", \"c\": \"US\", \"nk\": 1, \"tz\": \"America\\\\/New_York\", \"gr\": \"MI\", \"g\": \"vNJS4H\", \"h\": \"u0uD9q\", \"l\": \"o_4us71ccioa\", \"al\": \"en-us,en;q=0.5\", \"hh\": \"1.usa.gov\", \"r\": \"direct\", \"u\": \"https:\\\\/\\\\/www.nysdot.gov\\\\/rexdesign\\\\/design\\\\/community.gif\", \"t\": 1331923300, \"hc\": 1319563556, \"cy\": \"Grand Rapids\", \"ll\": [ 42.942501, -85.616096 ] }\\n',\n",
       " '{ \"a\": \"Mozilla\\\\/5.0 (Macintosh; Intel Mac OS X 10_6_6) AppleWebKit\\\\/535.11 (KHTML, like Gecko) Chrome\\\\/17.0.963.79 Safari\\\\/535.11\", \"c\": \"US\", \"nk\": 1, \"tz\": \"America\\\\/New_York\", \"gr\": \"NY\", \"g\": \"vNJS4H\", \"h\": \"u0uD9q\", \"l\": \"o_4us71ccioa\", \"al\": \"en-US,en;q=0.8\", \"hh\": \"1.usa.gov\", \"r\": \"direct\", \"u\": \"https:\\\\/\\\\/www.nysdot.gov\\\\/rexdesign\\\\/design\\\\/community.gif\", \"t\": 1331923302, \"hc\": 1319563556, \"cy\": \"White Plains\", \"ll\": [ 41.029099, -73.758003 ] }\\n',\n",
       " '{ \"a\": \"Mozilla\\\\/5.0 (iPhone; CPU iPhone OS 5_0_1 like Mac OS X) AppleWebKit\\\\/534.46 (KHTML, like Gecko) Version\\\\/5.1 Mobile\\\\/9A405 Safari\\\\/7534.48.3\", \"c\": null, \"nk\": 0, \"tz\": \"\", \"g\": \"vNJS4H\", \"h\": \"u0uD9q\", \"l\": \"o_4us71ccioa\", \"al\": \"en-us\", \"hh\": \"1.usa.gov\", \"r\": \"direct\", \"u\": \"https:\\\\/\\\\/www.nysdot.gov\\\\/rexdesign\\\\/design\\\\/community.gif\", \"t\": 1331923304, \"hc\": 1319563556 }\\n',\n",
       " '{ \"a\": \"Mozilla\\\\/5.0 (iPhone; CPU iPhone OS 5_1 like Mac OS X) AppleWebKit\\\\/534.46 (KHTML, like Gecko) Mobile\\\\/9B176 Twitter for iPhone\", \"c\": \"GB\", \"nk\": 1, \"tz\": \"Europe\\\\/London\", \"gr\": \"H9\", \"g\": \"b2UtUJ\", \"h\": \"ieCdgH\", \"l\": \"nasatwitter\", \"al\": \"en-gb\", \"hh\": \"go.nasa.gov\", \"r\": \"direct\", \"u\": \"http:\\\\/\\\\/apod.nasa.gov\\\\/apod\\\\/\", \"t\": 1331923304, \"hc\": 1301393171, \"cy\": \"London\", \"ll\": [ 51.500198, -0.126200 ] }\\n',\n",
       " '{ \"a\": \"Mozilla\\\\/5.0 (Windows NT 6.1) AppleWebKit\\\\/535.11 (KHTML, like Gecko) Chrome\\\\/17.0.963.78 Safari\\\\/535.11\", \"c\": \"IT\", \"nk\": 0, \"tz\": \"Europe\\\\/Rome\", \"gr\": \"07\", \"g\": \"wcndER\", \"h\": \"zkpJBR\", \"l\": \"bnjacobs\", \"al\": \"it-IT,it;q=0.8,en-US;q=0.6,en;q=0.4\", \"hh\": \"1.usa.gov\", \"r\": \"http:\\\\/\\\\/www.facebook.com\\\\/\", \"u\": \"http:\\\\/\\\\/www.nasa.gov\\\\/mission_pages\\\\/nustar\\\\/main\\\\/index.html\", \"t\": 1331923303, \"hc\": 1331922854, \"cy\": \"Rome\", \"ll\": [ 41.900002, 12.483300 ] }\\n',\n",
       " '{ \"a\": \"Mozilla\\\\/5.0 (Windows NT 6.1; WOW64; rv:10.0.2) Gecko\\\\/20100101 Firefox\\\\/10.0.2\", \"c\": \"US\", \"nk\": 0, \"tz\": \"America\\\\/New_York\", \"gr\": \"OH\", \"g\": \"xVTtSE\", \"h\": \"yeE6VR\", \"l\": \"nasatwitter\", \"al\": \"en-us,en;q=0.5\", \"hh\": \"go.nasa.gov\", \"r\": \"http:\\\\/\\\\/www.facebook.com\\\\/l.php?u=http%3A%2F%2Fgo.nasa.gov%2FyeE6VR&h=6AQEiklj9AQG13VGN8spje1xochjK_jrdTcyKW6ksx4U5LQ\", \"u\": \"http:\\\\/\\\\/www.nasa.gov\\\\/connect\\\\/social\\\\/index.html\", \"t\": 1331923304, \"hc\": 1331905829, \"cy\": \"Columbus\", \"ll\": [ 40.028999, -83.080902 ] }\\n',\n",
       " '{ \"a\": \"Mozilla\\\\/5.0 (Macintosh; Intel Mac OS X 10_6_8) AppleWebKit\\\\/535.11 (KHTML, like Gecko) Chrome\\\\/17.0.963.79 Safari\\\\/535.11\", \"c\": \"US\", \"nk\": 1, \"tz\": \"America\\\\/Chicago\", \"gr\": \"TX\", \"g\": \"wcndER\", \"h\": \"zkpJBR\", \"l\": \"bnjacobs\", \"al\": \"en-US,en;q=0.8\", \"hh\": \"1.usa.gov\", \"r\": \"http:\\\\/\\\\/t.co\\\\/J6qInqf7\", \"u\": \"http:\\\\/\\\\/www.nasa.gov\\\\/mission_pages\\\\/nustar\\\\/main\\\\/index.html\", \"t\": 1331923304, \"hc\": 1331922854, \"cy\": \"Mesquite\", \"ll\": [ 32.767300, -96.624702 ] }\\n',\n",
       " '{ \"a\": \"Mozilla\\\\/4.0 (compatible; MSIE 8.0; Windows NT 6.1; WOW64; Trident\\\\/4.0; SLCC2; .NET CLR 2.0.50727; .NET CLR 3.5.30729; .NET CLR 3.0.30729; Media Center PC 6.0; CPNTDF)\", \"c\": \"US\", \"nk\": 0, \"tz\": \"America\\\\/New_York\", \"gr\": \"CT\", \"g\": \"wDITWn\", \"h\": \"xoC874\", \"l\": \"bufferapp\", \"al\": \"en-US\", \"hh\": \"1.usa.gov\", \"r\": \"http:\\\\/\\\\/stocktwits.com\\\\/kevindepew\", \"u\": \"http:\\\\/\\\\/www.federalreserve.gov\\\\/newsevents\\\\/lectures\\\\/about.htm\", \"t\": 1331923305, \"hc\": 1331893247, \"cy\": \"Farmington\", \"ll\": [ 41.725201, -72.829498 ] }\\n',\n",
       " '{ \"a\": \"Mozilla\\\\/4.0 (compatible; MSIE 8.0; Windows NT 6.1; Trident\\\\/4.0; GTB7.3; SLCC2; .NET CLR 2.0.50727; .NET CLR 3.5.30729; .NET CLR 3.0.30729; Media Center PC 6.0; .NET4.0C)\", \"c\": \"FR\", \"nk\": 0, \"tz\": \"Europe\\\\/Paris\", \"gr\": \"A8\", \"g\": \"wcndER\", \"h\": \"zkpJBR\", \"l\": \"bnjacobs\", \"al\": \"en-US\", \"hh\": \"1.usa.gov\", \"r\": \"http:\\\\/\\\\/www.facebook.com\\\\/l.php?u=http%3A%2F%2F1.usa.gov%2FzkpJBR&h=-AQHCKkYsAQFMfW3xTmwoI6utyXwNrbHZ4EPubKNws2GzKA\", \"u\": \"http:\\\\/\\\\/www.nasa.gov\\\\/mission_pages\\\\/nustar\\\\/main\\\\/index.html\", \"t\": 1331923305, \"hc\": 1331922854, \"cy\": \"Limeil-brnnes\", \"ll\": [ 48.733299, 2.483300 ] }\\n',\n",
       " '{ \"a\": \"GoogleMaps\\\\/RochesterNY\", \"c\": \"US\", \"nk\": 0, \"tz\": \"America\\\\/Denver\", \"gr\": \"UT\", \"g\": \"mwszkS\", \"h\": \"mwszkS\", \"l\": \"bitly\", \"hh\": \"j.mp\", \"r\": \"http:\\\\/\\\\/www.AwareMap.com\\\\/\", \"u\": \"http:\\\\/\\\\/www.monroecounty.gov\\\\/etc\\\\/911\\\\/rss.php\", \"t\": 1331923307, \"hc\": 1308262393, \"cy\": \"Provo\", \"ll\": [ 40.218102, -111.613297 ] }\\n',\n",
       " '{ \"a\": \"Mozilla\\\\/5.0 (iPhone; U; CPU iPhone OS 5_1 like Mac OS X; en_US) AppleWebKit (KHTML, like Gecko) Mobile [FBAN\\\\/FBForIPhone;FBAV\\\\/4.1;FBBV\\\\/4100.0;FBDV\\\\/iPhone4,1;FBMD\\\\/iPhone;FBSN\\\\/iPhone OS;FBSV\\\\/5.1;FBSS\\\\/2; FBCR\\\\/AT&T;FBID\\\\/phone;FBLC\\\\/en_US;FBSF\\\\/2.0]\", \"c\": null, \"nk\": 1, \"tz\": \"\", \"g\": \"wFto9d\", \"h\": \"yIkLDb\", \"l\": \"healthfinderfacebook\", \"al\": \"en-us\", \"hh\": \"1.usa.gov\", \"r\": \"http:\\\\/\\\\/m.facebook.com\\\\/l.php?u=http%3A%2F%2F1.usa.gov%2FyIkLDb&h=kAQGOHjmv\", \"u\": \"http:\\\\/\\\\/healthfinder.gov\\\\/prevention\\\\/ViewTopic.aspx?topicId=89\", \"t\": 1331923308, \"hc\": 1331328857 }\\n',\n",
       " '{ \"a\": \"Mozilla\\\\/5.0 (Windows NT 6.1; WOW64; rv:10.0.2) Gecko\\\\/20100101 Firefox\\\\/10.0.2\", \"c\": null, \"nk\": 0, \"tz\": \"\", \"g\": \"wcndER\", \"h\": \"zkpJBR\", \"l\": \"bnjacobs\", \"al\": \"en-us,en;q=0.5\", \"hh\": \"1.usa.gov\", \"r\": \"http:\\\\/\\\\/www.facebook.com\\\\/l.php?u=http%3A%2F%2F1.usa.gov%2FzkpJBR&h=wAQFfZPOVAQEQUqVZ2vbRKegGP36FGhQ6xWc0DgcOR-R2og\", \"u\": \"http:\\\\/\\\\/www.nasa.gov\\\\/mission_pages\\\\/nustar\\\\/main\\\\/index.html\", \"t\": 1331923309, \"hc\": 1331922854 }\\n',\n",
       " '{ \"a\": \"Mozilla\\\\/5.0 (compatible; MSIE 9.0; Windows NT 6.1; WOW64; Trident\\\\/5.0; yie9)\", \"c\": \"US\", \"nk\": 0, \"tz\": \"America\\\\/Los_Angeles\", \"gr\": \"CA\", \"g\": \"vJD54\", \"h\": \"hgAh61\", \"l\": \"bettyruth\", \"al\": \"en-US\", \"hh\": \"1.usa.gov\", \"r\": \"direct\", \"u\": \"http:\\\\/\\\\/www.energy.ca.gov\\\\/HERS\\\\/index.html\", \"t\": 1331923309, \"hc\": 1303843769, \"cy\": \"San Francisco\", \"ll\": [ 37.764500, -122.429398 ] }\\n',\n",
       " '{ \"a\": \"NokiaC3-00\\\\/5.0 (08.65) Profile\\\\/MIDP-2.1 Configuration\\\\/CLDC-1.1 Mozilla\\\\/5.0 AppleWebKit\\\\/420+ (KHTML, like Gecko) Safari\\\\/420+\", \"c\": \"MX\", \"nk\": 0, \"tz\": \"America\\\\/Mazatlan\", \"gr\": \"10\", \"g\": \"xVZg4P\", \"h\": \"wqUkTo\", \"l\": \"nasatwitter\", \"al\": \"es-US\", \"hh\": \"go.nasa.gov\", \"r\": \"http:\\\\/\\\\/t.co\\\\/lY3ZPJaN\", \"u\": \"http:\\\\/\\\\/www.nasa.gov\\\\/multimedia\\\\/imagegallery\\\\/image_feature_2199.html\", \"t\": 1331923313, \"hc\": 1331908247, \"cy\": \"Durango\", \"ll\": [ 24.033300, -104.666702 ] }\\n',\n",
       " '{ \"a\": \"Mozilla\\\\/5.0 (iPhone; U; CPU iPhone OS 5_1 like Mac OS X; en_US) AppleWebKit (KHTML, like Gecko) Mobile [FBAN\\\\/FBForIPhone;FBAV\\\\/4.1;FBBV\\\\/4100.0;FBDV\\\\/iPhone4,1;FBMD\\\\/iPhone;FBSN\\\\/iPhone OS;FBSV\\\\/5.1;FBSS\\\\/2; FBCR\\\\/Verizon;FBID\\\\/phone;FBLC\\\\/en_US;FBSF\\\\/2.0]\", \"c\": null, \"nk\": 0, \"tz\": \"\", \"g\": \"wcndER\", \"h\": \"zkpJBR\", \"l\": \"bnjacobs\", \"al\": \"en-us\", \"hh\": \"1.usa.gov\", \"r\": \"http:\\\\/\\\\/m.facebook.com\\\\/l.php?u=http%3A%2F%2F1.usa.gov%2FzkpJBR&h=8AQGIBzly\", \"u\": \"http:\\\\/\\\\/www.nasa.gov\\\\/mission_pages\\\\/nustar\\\\/main\\\\/index.html\", \"t\": 1331923314, \"hc\": 1331922854 }\\n',\n",
       " '{ \"a\": \"Mozilla\\\\/5.0 (Windows NT 6.1) AppleWebKit\\\\/535.11 (KHTML, like Gecko) Chrome\\\\/17.0.963.79 Safari\\\\/535.11\", \"c\": \"IE\", \"nk\": 0, \"tz\": \"Europe\\\\/Dublin\", \"gr\": \"07\", \"g\": \"wcndER\", \"h\": \"zkpJBR\", \"l\": \"bnjacobs\", \"al\": \"en-US,en;q=0.8\", \"hh\": \"1.usa.gov\", \"r\": \"http:\\\\/\\\\/www.facebook.com\\\\/l.php?u=http%3A%2F%2F1.usa.gov%2FzkpJBR&h=YAQFbqv-wAQEYbLhVB7n9RPiZnxtxtAWrav9uZ2pYYA4uOQ\", \"u\": \"http:\\\\/\\\\/www.nasa.gov\\\\/mission_pages\\\\/nustar\\\\/main\\\\/index.html\", \"t\": 1331923315, \"hc\": 1331922854, \"cy\": \"Dublin\", \"ll\": [ 53.333099, -6.248900 ] }\\n',\n",
       " '{ \"a\": \"Mozilla\\\\/4.0 (compatible; MSIE 8.0; Windows NT 6.1; Trident\\\\/4.0; SLCC2; .NET CLR 2.0.50727; .NET CLR 3.5.30729; .NET CLR 3.0.30729; Media Center PC 6.0; .NET4.0C; .NET4.0E)\", \"c\": \"US\", \"nk\": 0, \"tz\": \"America\\\\/New_York\", \"gr\": \"GA\", \"g\": \"2rOUYc\", \"h\": \"2rOUYc\", \"l\": \"bitly\", \"al\": \"en-US\", \"hh\": \"1.usa.gov\", \"r\": \"direct\", \"u\": \"http:\\\\/\\\\/toxtown.nlm.nih.gov\\\\/index.php\", \"t\": 1331923317, \"hc\": 1255769846, \"cy\": \"Kennesaw\", \"ll\": [ 34.010399, -84.623901 ] }\\n',\n",
       " '{ \"a\": \"Mozilla\\\\/5.0 (Windows NT 5.1) AppleWebKit\\\\/535.11 (KHTML, like Gecko) Chrome\\\\/17.0.963.78 Safari\\\\/535.11\", \"c\": \"HK\", \"nk\": 1, \"tz\": \"Asia\\\\/Hong_Kong\", \"gr\": \"00\", \"g\": \"XdUNr\", \"h\": \"qWkgbq\", \"l\": \"walkeryuen\", \"al\": \"zh-TW,zh;q=0.8,en-US;q=0.6,en;q=0.4\", \"hh\": \"j.mp\", \"r\": \"http:\\\\/\\\\/forum2.hkgolden.com\\\\/view.aspx?type=BW&message=3602284\", \"u\": \"http:\\\\/\\\\/www.usno.navy.mil\\\\/NOOC\\\\/nmfc-ph\\\\/RSS\\\\/jtwc\\\\/ab\\\\/abpwsair.jpg\", \"t\": 1331923317, \"hc\": 1317318039, \"cy\": \"A Po Long\", \"ll\": [ 22.283300, 114.000000 ] }\\n',\n",
       " '{ \"a\": \"Mozilla\\\\/5.0 (Windows NT 5.1) AppleWebKit\\\\/535.11 (KHTML, like Gecko) Chrome\\\\/17.0.963.78 Safari\\\\/535.11\", \"c\": \"HK\", \"nk\": 1, \"tz\": \"Asia\\\\/Hong_Kong\", \"gr\": \"00\", \"g\": \"nQvgJp\", \"h\": \"rtrrth\", \"l\": \"walkeryuen\", \"al\": \"zh-TW,zh;q=0.8,en-US;q=0.6,en;q=0.4\", \"hh\": \"j.mp\", \"r\": \"http:\\\\/\\\\/forum2.hkgolden.com\\\\/view.aspx?type=BW&message=3602284\", \"u\": \"http:\\\\/\\\\/www.ssd.noaa.gov\\\\/PS\\\\/TROP\\\\/TCFP\\\\/data\\\\/current\\\\/mtloopfpr17.png\", \"t\": 1331923317, \"hc\": 1317318030, \"cy\": \"A Po Long\", \"ll\": [ 22.283300, 114.000000 ] }\\n',\n",
       " '{\"_heartbeat_\":1331923321}\\n',\n",
       " '{ \"a\": \"Mozilla\\\\/5.0 (Macintosh; Intel Mac OS X 10_6_6) AppleWebKit\\\\/535.11 (KHTML, like Gecko) Chrome\\\\/17.0.963.79 Safari\\\\/535.11\", \"c\": \"US\", \"nk\": 1, \"tz\": \"America\\\\/New_York\", \"gr\": \"NY\", \"g\": \"vNJS4H\", \"h\": \"u0uD9q\", \"l\": \"o_4us71ccioa\", \"al\": \"en-US,en;q=0.8\", \"hh\": \"1.usa.gov\", \"r\": \"direct\", \"u\": \"https:\\\\/\\\\/www.nysdot.gov\\\\/rexdesign\\\\/design\\\\/community.gif\", \"t\": 1331923322, \"hc\": 1319563556, \"cy\": \"White Plains\", \"ll\": [ 41.029099, -73.758003 ] }\\n',\n",
       " '{ \"a\": \"Mozilla\\\\/5.0 (Windows NT 6.1; WOW64) AppleWebKit\\\\/535.11 (KHTML, like Gecko) Chrome\\\\/17.0.963.79 Safari\\\\/535.11\", \"c\": null, \"nk\": 1, \"tz\": \"\", \"g\": \"wcndER\", \"h\": \"zkpJBR\", \"l\": \"bnjacobs\", \"al\": \"en-US,en;q=0.8\", \"hh\": \"1.usa.gov\", \"r\": \"http:\\\\/\\\\/www.facebook.com\\\\/l.php?u=http%3A%2F%2F1.usa.gov%2FzkpJBR&h=6AQEp6zUZAQE8i5u3V9t11O6cOyqhq7fxvTulFwY6KJgBFw\", \"u\": \"http:\\\\/\\\\/www.nasa.gov\\\\/mission_pages\\\\/nustar\\\\/main\\\\/index.html\", \"t\": 1331923323, \"hc\": 1331922854 }\\n',\n",
       " '{ \"a\": \"Mozilla\\\\/5.0 (compatible; MSIE 9.0; Windows NT 6.1; WOW64; Trident\\\\/5.0)\", \"c\": \"US\", \"nk\": 0, \"tz\": \"America\\\\/New_York\", \"gr\": \"NJ\", \"g\": \"wcndER\", \"h\": \"zkpJBR\", \"l\": \"bnjacobs\", \"al\": \"en-US\", \"hh\": \"1.usa.gov\", \"r\": \"http:\\\\/\\\\/www.facebook.com\\\\/?ref=tn_tnmn\", \"u\": \"http:\\\\/\\\\/www.nasa.gov\\\\/mission_pages\\\\/nustar\\\\/main\\\\/index.html\", \"t\": 1331923323, \"hc\": 1331922854, \"cy\": \"Jersey City\", \"ll\": [ 40.692501, -74.070396 ] }\\n',\n",
       " '{ \"a\": \"Mozilla\\\\/5.0 (Windows NT 6.1; WOW64) AppleWebKit\\\\/535.11 (KHTML, like Gecko) Chrome\\\\/17.0.963.79 Safari\\\\/535.11\", \"c\": \"BE\", \"nk\": 0, \"tz\": \"Europe\\\\/Brussels\", \"gr\": \"04\", \"g\": \"wcndER\", \"h\": \"zkpJBR\", \"l\": \"bnjacobs\", \"al\": \"fr-FR,fr;q=0.8,en-US;q=0.6,en;q=0.4\", \"hh\": \"1.usa.gov\", \"r\": \"http:\\\\/\\\\/www.facebook.com\\\\/l.php?u=http%3A%2F%2F1.usa.gov%2FzkpJBR&h=RAQGoNMUBAQHQfkmgc8jUgiwvDkuBVTOCcx7qgHECMTfsLw\", \"u\": \"http:\\\\/\\\\/www.nasa.gov\\\\/mission_pages\\\\/nustar\\\\/main\\\\/index.html\", \"t\": 1331923324, \"hc\": 1331922854, \"cy\": \"Li\", \"ll\": [ 50.633301, 5.566700 ] }\\n',\n",
       " '{ \"a\": \"Mozilla\\\\/5.0 (Macintosh; Intel Mac OS X 10_7_3) AppleWebKit\\\\/534.54.16 (KHTML, like Gecko) Version\\\\/5.1.4 Safari\\\\/534.54.16\", \"c\": \"BR\", \"nk\": 0, \"tz\": \"America\\\\/Sao_Paulo\", \"gr\": \"18\", \"g\": \"zCaLwp\", \"h\": \"zUtuOu\", \"l\": \"alelex88\", \"al\": \"pt-br\", \"hh\": \"1.usa.gov\", \"r\": \"direct\", \"u\": \"http:\\\\/\\\\/apod.nasa.gov\\\\/apod\\\\/ap120312.html\", \"t\": 1331923324, \"hc\": 1331923068, \"cy\": \"Curitiba\", \"ll\": [ -25.416700, -49.250000 ] }\\n',\n",
       " '{ \"a\": \"Mozilla\\\\/5.0 (Windows; U; Windows NT 6.1; en-US; rv:1.9.2.28) Gecko\\\\/20120306 Firefox\\\\/3.6.28\", \"c\": \"US\", \"nk\": 1, \"tz\": \"America\\\\/New_York\", \"gr\": \"PA\", \"g\": \"vNJS4H\", \"h\": \"u0uD9q\", \"l\": \"o_4us71ccioa\", \"al\": \"en-us,en;q=0.5\", \"hh\": \"1.usa.gov\", \"r\": \"direct\", \"u\": \"https:\\\\/\\\\/www.nysdot.gov\\\\/rexdesign\\\\/design\\\\/community.gif\", \"t\": 1331923325, \"hc\": 1319563556, \"cy\": \"Warrington\", \"ll\": [ 40.248901, -75.149803 ] }\\n',\n",
       " '{ \"a\": \"Mozilla\\\\/5.0 (iPad; U; CPU OS 4_3_3 like Mac OS X; en-us) AppleWebKit\\\\/533.17.9 (KHTML, like Gecko) Mobile\\\\/8J2\", \"c\": \"CA\", \"nk\": 1, \"tz\": \"America\\\\/Vancouver\", \"gr\": \"BC\", \"g\": \"43f0cO\", \"h\": \"xILcp4\", \"l\": \"grouponinc\", \"al\": \"en-us\", \"hh\": \"gr.pn\", \"r\": \"direct\", \"u\": \"http:\\\\/\\\\/www.nps.gov\\\\/jeca\\\\/index.htm\", \"t\": 1331923325, \"hc\": 1331502617, \"cy\": \"Surrey\", \"ll\": [ 49.136398, -122.821297 ] }\\n',\n",
       " '{ \"a\": \"Mozilla\\\\/5.0 (Windows NT 6.1; WOW64; rv:10.0.2) Gecko\\\\/20100101 Firefox\\\\/10.0.2\", \"c\": \"US\", \"nk\": 1, \"tz\": \"America\\\\/New_York\", \"gr\": \"NJ\", \"g\": \"vNJS4H\", \"h\": \"u0uD9q\", \"l\": \"o_4us71ccioa\", \"al\": \"en-us,en;q=0.5\", \"hh\": \"1.usa.gov\", \"r\": \"direct\", \"u\": \"https:\\\\/\\\\/www.nysdot.gov\\\\/rexdesign\\\\/design\\\\/community.gif\", \"t\": 1331923325, \"hc\": 1319563556, \"cy\": \"Mount Laurel\", \"ll\": [ 39.957199, -74.916199 ] }\\n',\n",
       " '{ \"a\": \"Mozilla\\\\/5.0 (Windows NT 6.1; WOW64; rv:10.0.2) Gecko\\\\/20100101 Firefox\\\\/10.0.2\", \"c\": \"NL\", \"nk\": 0, \"tz\": \"Europe\\\\/Amsterdam\", \"gr\": \"10\", \"g\": \"wcndER\", \"h\": \"zkpJBR\", \"l\": \"bnjacobs\", \"al\": \"nl,en-us;q=0.7,en;q=0.3\", \"hh\": \"1.usa.gov\", \"r\": \"http:\\\\/\\\\/www.facebook.com\\\\/\", \"u\": \"http:\\\\/\\\\/www.nasa.gov\\\\/mission_pages\\\\/nustar\\\\/main\\\\/index.html\", \"t\": 1331923326, \"hc\": 1331922854, \"cy\": \"Tholen\", \"ll\": [ 51.533298, 4.216700 ] }\\n',\n",
       " '{ \"a\": \"Opera\\\\/9.80 (Windows NT 6.1; U; cs) Presto\\\\/2.10.229 Version\\\\/11.61\", \"c\": \"CZ\", \"nk\": 0, \"tz\": \"Europe\\\\/Prague\", \"gr\": \"78\", \"g\": \"xVZg4P\", \"h\": \"wqUkTo\", \"l\": \"nasatwitter\", \"al\": \"cs-CZ,en;q=0.9,cs;q=0.8\", \"hh\": \"go.nasa.gov\", \"r\": \"direct\", \"u\": \"http:\\\\/\\\\/www.nasa.gov\\\\/multimedia\\\\/imagegallery\\\\/image_feature_2199.html\", \"t\": 1331923327, \"hc\": 1331908247, \"cy\": \"Brno\", \"ll\": [ 49.200001, 16.633301 ] }\\n',\n",
       " '{ \"a\": \"Mozilla\\\\/5.0 (Windows NT 5.1; rv:10.0.2) Gecko\\\\/20100101 Firefox\\\\/10.0.2\", \"c\": \"US\", \"nk\": 0, \"tz\": \"America\\\\/New_York\", \"gr\": \"VA\", \"g\": \"xVTtSE\", \"h\": \"yeE6VR\", \"l\": \"nasatwitter\", \"al\": \"en-us,en;q=0.5\", \"hh\": \"go.nasa.gov\", \"r\": \"http:\\\\/\\\\/www.facebook.com\\\\/l.php?u=http%3A%2F%2Fgo.nasa.gov%2FyeE6VR&h=mAQHg9LWgAQHgse4Mib1itqHa2XUEuKEGHSYykzpQEmz7cw\", \"u\": \"http:\\\\/\\\\/www.nasa.gov\\\\/connect\\\\/social\\\\/index.html\", \"t\": 1331923328, \"hc\": 1331905829, \"cy\": \"Woodbridge\", \"ll\": [ 38.678001, -77.319702 ] }\\n',\n",
       " '{ \"a\": \"GoogleMaps\\\\/RochesterNY\", \"c\": \"US\", \"nk\": 0, \"tz\": \"America\\\\/Denver\", \"gr\": \"UT\", \"g\": \"mwszkS\", \"h\": \"mwszkS\", \"l\": \"bitly\", \"hh\": \"1.usa.gov\", \"r\": \"http:\\\\/\\\\/www.AwareMap.com\\\\/\", \"u\": \"http:\\\\/\\\\/www.monroecounty.gov\\\\/etc\\\\/911\\\\/rss.php\", \"t\": 1331923328, \"hc\": 1308262393, \"cy\": \"Provo\", \"ll\": [ 40.218102, -111.613297 ] }\\n',\n",
       " '{ \"a\": \"Mozilla\\\\/5.0 (Windows; U; Windows NT 6.1; en-US; rv:1.9.2.26) Gecko\\\\/20120128 Firefox\\\\/3.6.26\", \"c\": null, \"nk\": 1, \"tz\": \"\", \"g\": \"vNJS4H\", \"h\": \"u0uD9q\", \"l\": \"o_4us71ccioa\", \"al\": \"en-us,en;q=0.5\", \"hh\": \"1.usa.gov\", \"r\": \"direct\", \"u\": \"https:\\\\/\\\\/www.nysdot.gov\\\\/rexdesign\\\\/design\\\\/community.gif\", \"t\": 1331923331, \"hc\": 1319563556 }\\n',\n",
       " '{ \"a\": \"Mozilla\\\\/5.0 (compatible; MSIE 9.0; Windows NT 6.1; WOW64; Trident\\\\/5.0)\", \"c\": \"US\", \"nk\": 0, \"tz\": \"America\\\\/New_York\", \"gr\": \"VA\", \"g\": \"wcndER\", \"h\": \"zkpJBR\", \"l\": \"bnjacobs\", \"al\": \"en-US\", \"hh\": \"1.usa.gov\", \"r\": \"http:\\\\/\\\\/www.facebook.com\\\\/l.php?u=http%3A%2F%2F1.usa.gov%2FzkpJBR&h=qAQGpsGLZAQFu9CxJUiPQRPiuQ10v7Lh4a603lLOUXRFGEg&enc=AZPG60ZjhXVbHeUI17GGcfwmwgyEAIYTgy-lsQ59nPSIWbtZLDzoeBZyQxIBrqW7Uf12CyF4vUnRTOuvcUDVnL0Q\", \"u\": \"http:\\\\/\\\\/www.nasa.gov\\\\/mission_pages\\\\/nustar\\\\/main\\\\/index.html\", \"t\": 1331923331, \"hc\": 1331922854, \"cy\": \"Burke\", \"ll\": [ 38.785099, -77.286598 ] }\\n',\n",
       " '{ \"a\": \"Mozilla\\\\/5.0 (iPhone; U; CPU iPhone OS 4_2_8 like Mac OS X; en-us) AppleWebKit\\\\/533.17.9 (KHTML, like Gecko) Mobile\\\\/8E401 Twitter for iPhone\", \"c\": \"US\", \"nk\": 0, \"tz\": \"America\\\\/New_York\", \"gr\": \"VA\", \"g\": \"xRWPdw\", \"h\": \"wZ0eD0\", \"l\": \"tweetdeckapi\", \"al\": \"en-us\", \"hh\": \"1.usa.gov\", \"r\": \"https:\\\\/\\\\/twitter.com\\\\/lindaseidler\\\\/status\\\\/180491532221165568\", \"u\": \"http:\\\\/\\\\/www.whitehouse.gov\\\\/the-press-office\\\\/2012\\\\/03\\\\/15\\\\/statement-president-meeting-interagency-task-force-monitor-and-combat-tr\", \"t\": 1331923332, \"hc\": 1331840856, \"cy\": \"Ruther Glen\", \"ll\": [ 37.955002, -77.437202 ] }\\n',\n",
       " '{ \"a\": \"Mozilla\\\\/5.0 (Windows NT 6.1; WOW64) AppleWebKit\\\\/535.7 (KHTML, like Gecko) Chrome\\\\/16.0.912.75 Safari\\\\/535.7\", \"c\": \"SE\", \"nk\": 0, \"tz\": \"Europe\\\\/Stockholm\", \"gr\": \"26\", \"g\": \"wcndER\", \"h\": \"zkpJBR\", \"l\": \"bnjacobs\", \"al\": \"en-US,en;q=0.8,sv;q=0.6\", \"hh\": \"1.usa.gov\", \"r\": \"http:\\\\/\\\\/www.facebook.com\\\\/l.php?u=http%3A%2F%2F1.usa.gov%2FzkpJBR&h=yAQG4vjVAAQEhov0QzqlcrIrljIMQQsOe5mjN3TuGyF9MrA\", \"u\": \"http:\\\\/\\\\/www.nasa.gov\\\\/mission_pages\\\\/nustar\\\\/main\\\\/index.html\", \"t\": 1331923333, \"hc\": 1331922854, \"cy\": \"Stockholm\", \"ll\": [ 59.333302, 18.049999 ] }\\n',\n",
       " '{ \"a\": \"Mozilla\\\\/5.0 (Windows NT 6.1; WOW64) AppleWebKit\\\\/535.11 (KHTML, like Gecko) Chrome\\\\/17.0.963.79 Safari\\\\/535.11\", \"c\": \"US\", \"nk\": 1, \"tz\": \"America\\\\/New_York\", \"gr\": \"VT\", \"g\": \"wqGppe\", \"h\": \"A3r7z2\", \"l\": \"nasatwitter\", \"al\": \"en-US,en;q=0.8\", \"hh\": \"go.nasa.gov\", \"r\": \"http:\\\\/\\\\/t.co\\\\/6xAUIwJK\", \"u\": \"http:\\\\/\\\\/www.nasa.gov\\\\/mission_pages\\\\/sunearth\\\\/missions\\\\/atrex-launch.html\", \"t\": 1331923334, \"hc\": 1331749429, \"cy\": \"Hartland\", \"ll\": [ 43.574299, -72.408096 ] }\\n',\n",
       " '{ \"a\": \"Mozilla\\\\/5.0 (Windows NT 6.1) AppleWebKit\\\\/535.11 (KHTML, like Gecko) Chrome\\\\/17.0.963.79 Safari\\\\/535.11\", \"c\": \"BR\", \"nk\": 0, \"tz\": \"America\\\\/Sao_Paulo\", \"gr\": \"15\", \"g\": \"wcndER\", \"h\": \"zkpJBR\", \"l\": \"bnjacobs\", \"al\": \"pt-BR,pt;q=0.8,en-US;q=0.6,en;q=0.4\", \"hh\": \"1.usa.gov\", \"r\": \"http:\\\\/\\\\/www.facebook.com\\\\/\", \"u\": \"http:\\\\/\\\\/www.nasa.gov\\\\/mission_pages\\\\/nustar\\\\/main\\\\/index.html\", \"t\": 1331923335, \"hc\": 1331922854, \"cy\": \"Belo Horizonte\", \"ll\": [ -19.916700, -43.933300 ] }\\n',\n",
       " '{ \"a\": \"Mozilla\\\\/4.0 (compatible; MSIE 8.0; Windows NT 5.1; Trident\\\\/4.0; .NET CLR 1.1.4322; .NET CLR 2.0.50727; .NET CLR 3.0.4506.2152; .NET CLR 3.5.30729; .NET4.0C; .NET4.0E)\", \"c\": \"US\", \"nk\": 0, \"tz\": \"America\\\\/Anchorage\", \"gr\": \"AK\", \"g\": \"xl8O0c\", \"h\": \"xl8O0c\", \"l\": \"bitly\", \"al\": \"en-us\", \"hh\": \"1.usa.gov\", \"r\": \"direct\", \"u\": \"http:\\\\/\\\\/www.grants.gov\\\\/search\\\\/search.do;jsessionid=dSN8PYLhrVdZ21pYd1qTbXBpYFLQFp0xhGG45LlkM12w1dbGxpdz!545677704?oppId=150574&mode=VIEW\", \"t\": 1331923335, \"hc\": 1331218539, \"cy\": \"Bethel\", \"ll\": [ 60.932400, -161.800598 ] }\\n',\n",
       " '{ \"a\": \"Mozilla\\\\/4.0 (compatible; MSIE 6.0; Windows NT 5.1; SV1; SIMBAR={C0CD4ABC-3A8D-483d-B236-F5E7026C797F}; .NET CLR 1.1.4322)\", \"c\": \"US\", \"nk\": 0, \"tz\": \"America\\\\/New_York\", \"gr\": \"NY\", \"g\": \"w9xAnC\", \"h\": \"w3GrD6\", \"l\": \"bladesmadesimple\", \"hh\": \"1.usa.gov\", \"r\": \"direct\", \"u\": \"http:\\\\/\\\\/patft.uspto.gov\\\\/netacgi\\\\/nph-Parser?Sect1=PTO2&Sect2=HITOFF&p=1&u=\\\\/netahtml\\\\/PTO\\\\/search-bool.html&r=4&f=G&l=50&co1=AND&d=PTXT&s1=09\\\\/620,106&OS=09\\\\/620,106&RS=09\\\\/620,106\", \"t\": 1331923336, \"hc\": 1329774330, \"kw\": \"2ndBladePatent\", \"cy\": \"Brooklyn\", \"ll\": [ 40.652500, -73.955399 ] }\\n',\n",
       " '{ \"a\": \"Mozilla\\\\/5.0 (compatible; MSIE 9.0; Windows NT 6.1; WOW64; Trident\\\\/5.0; yie9)\", \"c\": \"US\", \"nk\": 0, \"tz\": \"America\\\\/New_York\", \"gr\": \"NY\", \"g\": \"BNDz\", \"h\": \"14Q1q3\", \"l\": \"tweetdeckapi\", \"al\": \"en-US\", \"hh\": \"1.usa.gov\", \"r\": \"http:\\\\/\\\\/t.co\\\\/eWtdEjjO\", \"u\": \"http:\\\\/\\\\/radar.weather.gov\\\\/Conus\\\\/northeast_loop.php\", \"t\": 1331923336, \"hc\": 1246975140, \"cy\": \"Larchmont\", \"ll\": [ 40.933399, -73.756302 ] }\\n',\n",
       " '{ \"a\": \"Mozilla\\\\/5.0 (Windows; U; Windows NT 6.1; en-US; rv:1.9.2.27) Gecko\\\\/20120216 Firefox\\\\/3.6.27\", \"c\": \"US\", \"nk\": 0, \"tz\": \"America\\\\/New_York\", \"gr\": \"OH\", \"g\": \"qip7VV\", \"h\": \"mUouux\", \"l\": \"edircfaq\", \"al\": \"en-us,en;q=0.5\", \"hh\": \"1.usa.gov\", \"r\": \"direct\", \"u\": \"http:\\\\/\\\\/www2.ed.gov\\\\/programs\\\\/innovative\\\\/index.html\", \"t\": 1331923336, \"hc\": 1310488059, \"cy\": \"Columbus\", \"ll\": [ 40.053200, -83.022003 ] }\\n',\n",
       " '{ \"a\": \"Mozilla\\\\/4.0 (compatible; MSIE 8.0; Windows NT 5.1; Trident\\\\/4.0; GTB7.3; .NET CLR 1.1.4322; .NET4.0C)\", \"c\": \"US\", \"nk\": 0, \"tz\": \"America\\\\/New_York\", \"gr\": \"MA\", \"g\": \"axNK8c\", \"h\": \"axNK8c\", \"l\": \"bitly\", \"al\": \"en-us\", \"hh\": \"bit.ly\", \"r\": \"http:\\\\/\\\\/www.shrewsbury-ma.gov\\\\/selco\\\\/\", \"u\": \"http:\\\\/\\\\/www.shrewsbury-ma.gov\\\\/egov\\\\/gallery\\\\/134127368675393.png\", \"t\": 1331923336, \"hc\": 1273672506, \"cy\": \"Shrewsbury\", \"ll\": [ 42.286499, -71.714699 ] }\\n',\n",
       " '{ \"a\": \"Mozilla\\\\/4.0 (compatible; MSIE 8.0; Windows NT 5.1; Trident\\\\/4.0; GTB7.3; .NET CLR 1.1.4322; .NET4.0C)\", \"c\": \"US\", \"nk\": 0, \"tz\": \"America\\\\/New_York\", \"gr\": \"MA\", \"g\": \"9b6kNl\", \"h\": \"9b6kNl\", \"l\": \"bitly\", \"al\": \"en-us\", \"hh\": \"bit.ly\", \"r\": \"http:\\\\/\\\\/www.shrewsbury-ma.gov\\\\/selco\\\\/\", \"u\": \"http:\\\\/\\\\/www.shrewsbury-ma.gov\\\\/egov\\\\/gallery\\\\/134127368672998.png\", \"t\": 1331923336, \"hc\": 1273672411, \"cy\": \"Shrewsbury\", \"ll\": [ 42.286499, -71.714699 ] }\\n',\n",
       " '{ \"a\": \"Mozilla\\\\/5.0 (iPad; U; CPU iPhone OS 5_0_1 like Mac OS X; en_US) AppleWebKit (KHTML, like Gecko) Mobile [FBAN\\\\/FBForIPhone;FBAV\\\\/4.1;FBBV\\\\/4100.0;FBDV\\\\/iPad2,1;FBMD\\\\/iPad;FBSN\\\\/iPhone OS;FBSV\\\\/5.0.1;FBSS\\\\/1; FBCR\\\\/;FBID\\\\/tablet;FBLC\\\\/en_US;FBSF\\\\/1.0]\", \"c\": \"MY\", \"nk\": 0, \"tz\": \"Asia\\\\/Kuala_Lumpur\", \"gr\": \"04\", \"g\": \"wcndER\", \"h\": \"zkpJBR\", \"l\": \"bnjacobs\", \"al\": \"en-us\", \"hh\": \"1.usa.gov\", \"r\": \"http:\\\\/\\\\/m.facebook.com\\\\/l.php?u=http%3A%2F%2F1.usa.gov%2FzkpJBR&h=ZAQFExmyY\", \"u\": \"http:\\\\/\\\\/www.nasa.gov\\\\/mission_pages\\\\/nustar\\\\/main\\\\/index.html\", \"t\": 1331923337, \"hc\": 1331922854, \"cy\": \"Melaka\", \"ll\": [ 2.196900, 102.248100 ] }\\n',\n",
       " '{ \"a\": \"Mozilla\\\\/5.0 (iPad; CPU OS 5_0_1 like Mac OS X) AppleWebKit\\\\/534.46 (KHTML, like Gecko) Version\\\\/5.1 Mobile\\\\/9A405 Safari\\\\/7534.48.3\", \"c\": null, \"nk\": 0, \"tz\": \"\", \"g\": \"vNJS4H\", \"h\": \"u0uD9q\", \"l\": \"o_4us71ccioa\", \"al\": \"en-us\", \"hh\": \"1.usa.gov\", \"r\": \"direct\", \"u\": \"https:\\\\/\\\\/www.nysdot.gov\\\\/rexdesign\\\\/design\\\\/community.gif\", \"t\": 1331923337, \"hc\": 1319563556 }\\n',\n",
       " '{ \"a\": \"Mozilla\\\\/5.0 (BlackBerry; U; BlackBerry 9330; en-US) AppleWebKit\\\\/534.8+ (KHTML, like Gecko) Version\\\\/6.0.0.706 Mobile Safari\\\\/534.8+\", \"c\": null, \"nk\": 0, \"tz\": \"\", \"g\": \"cOMGu3\", \"h\": \"dcmHpS\", \"l\": \"iembot\", \"al\": \"en-US,en;q=0.5\", \"hh\": \"1.usa.gov\", \"r\": \"http:\\\\/\\\\/t.co\\\\/301GoVqI\", \"u\": \"http:\\\\/\\\\/www.spc.noaa.gov\\\\/products\\\\/md\\\\/md0266.html\", \"t\": 1331923340, \"hc\": 1270531280 }\\n',\n",
       " '{ \"a\": \"Mozilla\\\\/4.0 (compatible; MSIE 7.0; Windows NT 5.1; .NET CLR 1.1.4322; .NET CLR 2.0.50727; .NET CLR 3.0.4506.2152; .NET CLR 3.5.30729; .NET4.0C; .NET4.0E)\", \"c\": \"US\", \"nk\": 0, \"tz\": \"America\\\\/Chicago\", \"gr\": \"TX\", \"g\": \"yeJ7RY\", \"h\": \"wbu5JR\", \"l\": \"nasatwitter\", \"al\": \"en-us\", \"hh\": \"go.nasa.gov\", \"r\": \"direct\", \"u\": \"http:\\\\/\\\\/www.nasa.gov\\\\/multimedia\\\\/videogallery\\\\/index.html?media_id=134209771\", \"t\": 1331923339, \"hc\": 1330539686, \"kw\": \"wearetheexplorers\", \"cy\": \"Houston\", \"ll\": [ 29.775499, -95.415199 ] }\\n',\n",
       " '{ \"a\": \"Mozilla\\\\/5.0 (Windows NT 5.1; rv:10.0.2) Gecko\\\\/20100101 Firefox\\\\/10.0.2\", \"c\": \"US\", \"nk\": 1, \"tz\": \"America\\\\/Chicago\", \"gr\": \"AL\", \"g\": \"wcndER\", \"h\": \"zkpJBR\", \"l\": \"bnjacobs\", \"al\": \"en-us,en;q=0.5\", \"hh\": \"1.usa.gov\", \"r\": \"http:\\\\/\\\\/t.co\\\\/J6qInqf7\", \"u\": \"http:\\\\/\\\\/www.nasa.gov\\\\/mission_pages\\\\/nustar\\\\/main\\\\/index.html\", \"t\": 1331923339, \"hc\": 1331922854, \"cy\": \"Huntsville\", \"ll\": [ 34.719299, -86.560402 ] }\\n',\n",
       " '{ \"a\": \"Mozilla\\\\/4.0 (compatible; MSIE 8.0; Windows NT 5.1; Trident\\\\/4.0; GTB7.3; .NET CLR 1.1.4322; .NET CLR 2.0.50727; .NET CLR 3.0.4506.2152; .NET CLR 3.5.30729; .NET4.0C; .NET4.0E; msn OptimizedIE8;ENUS)\", \"c\": \"US\", \"nk\": 0, \"tz\": \"America\\\\/New_York\", \"gr\": \"MA\", \"g\": \"iOJDSO\", \"h\": \"kHiimw\", \"l\": \"edircfaq\", \"al\": \"en-us\", \"hh\": \"1.usa.gov\", \"r\": \"direct\", \"u\": \"http:\\\\/\\\\/studentaid.ed.gov\\\\/PORTALSWebApp\\\\/students\\\\/english\\\\/campusaid.jsp#03\", \"t\": 1331923339, \"hc\": 1308751691, \"kw\": \"FSAperkins\", \"cy\": \"Needham\", \"ll\": [ 42.279301, -71.245003 ] }\\n',\n",
       " '{ \"a\": \"Mozilla\\\\/5.0 (Windows NT 6.1) AppleWebKit\\\\/535.11 (KHTML, like Gecko) Chrome\\\\/17.0.963.79 Safari\\\\/535.11\", \"c\": \"TH\", \"nk\": 0, \"tz\": \"Asia\\\\/Bangkok\", \"gr\": \"30\", \"g\": \"wcndER\", \"h\": \"zkpJBR\", \"l\": \"bnjacobs\", \"al\": \"th-TH,th;q=0.8\", \"hh\": \"1.usa.gov\", \"r\": \"http:\\\\/\\\\/www.facebook.com\\\\/\", \"u\": \"http:\\\\/\\\\/www.nasa.gov\\\\/mission_pages\\\\/nustar\\\\/main\\\\/index.html\", \"t\": 1331923341, \"hc\": 1331922854, \"cy\": \"Si Sa Ket\", \"ll\": [ 15.116700, 104.333298 ] }\\n',\n",
       " '{ \"a\": \"Mozilla\\\\/5.0 (Macintosh; Intel Mac OS X 10_7_3) AppleWebKit\\\\/534.53.11 (KHTML, like Gecko) Version\\\\/5.1.3 Safari\\\\/534.53.10\", \"c\": \"DE\", \"nk\": 1, \"tz\": \"Europe\\\\/Berlin\", \"gr\": \"06\", \"g\": \"xVZg4P\", \"h\": \"wqUkTo\", \"l\": \"nasatwitter\", \"al\": \"de-de\", \"hh\": \"go.nasa.gov\", \"r\": \"http:\\\\/\\\\/t.co\\\\/UKGBxj29\", \"u\": \"http:\\\\/\\\\/www.nasa.gov\\\\/multimedia\\\\/imagegallery\\\\/image_feature_2199.html\", \"t\": 1331923341, \"hc\": 1331908247, \"cy\": \"Oldenburg\", \"ll\": [ 53.166698, 8.200000 ] }\\n',\n",
       " '{ \"a\": \"Mozilla\\\\/6.0 (compatible; MSIE 7.01; AOL 9.0; Windows 98)\", \"c\": \"US\", \"nk\": 0, \"tz\": \"America\\\\/Los_Angeles\", \"gr\": \"WA\", \"g\": \"zu2M5o\", \"h\": \"zDhdro\", \"l\": \"glimtwin\", \"hh\": \"bit.ly\", \"r\": \"direct\", \"u\": \"http:\\\\/\\\\/www.federalreserve.gov\\\\/newsevents\\\\/press\\\\/bcreg\\\\/bcreg20120312a1.pdf\", \"t\": 1331923343, \"hc\": 1331586192, \"cy\": \"Bellevue\", \"ll\": [ 47.615398, -122.210297 ] }\\n',\n",
       " '{ \"a\": \"Mozilla\\\\/5.0 (Windows NT 6.1; WOW64; rv:10.0.2) Gecko\\\\/20100101 Firefox\\\\/10.0.2\", \"c\": \"US\", \"nk\": 1, \"tz\": \"America\\\\/Denver\", \"gr\": \"NM\", \"g\": \"A3v2zG\", \"h\": \"xNo0xw\", \"l\": \"o_4pn5jefgl1\", \"al\": \"en-us,en;q=0.5\", \"hh\": \"1.usa.gov\", \"r\": \"http:\\\\/\\\\/36ohk6dgmcd1n-c.c.yom.mail.yahoo.net\\\\/om\\\\/api\\\\/1.0\\\\/openmail.app.invoke\\\\/36ohk6dgmcd1n\\\\/10\\\\/1.0.35\\\\/us\\\\/en-US\\\\/view.html\\\\/0\", \"u\": \"http:\\\\/\\\\/www.srh.noaa.gov\\\\/epz\\\\/?n=significantweatherbriefing\", \"t\": 1331923342, \"hc\": 1331007307, \"cy\": \"Albuquerque\", \"ll\": [ 35.102501, -106.611702 ] }\\n',\n",
       " '{ \"a\": \"Mozilla\\\\/5.0 (Windows NT 6.1) AppleWebKit\\\\/535.11 (KHTML, like Gecko) Chrome\\\\/17.0.963.79 Safari\\\\/535.11\", \"c\": \"IT\", \"nk\": 0, \"tz\": \"Europe\\\\/Rome\", \"gr\": \"05\", \"g\": \"wcndER\", \"h\": \"zkpJBR\", \"l\": \"bnjacobs\", \"al\": \"it-IT,it;q=0.8,en-US;q=0.6,en;q=0.4\", \"hh\": \"1.usa.gov\", \"r\": \"http:\\\\/\\\\/www.facebook.com\\\\/\", \"u\": \"http:\\\\/\\\\/www.nasa.gov\\\\/mission_pages\\\\/nustar\\\\/main\\\\/index.html\", \"t\": 1331923342, \"hc\": 1331922854, \"cy\": \"Crespellano\", \"ll\": [ 44.516701, 11.116700 ] }\\n',\n",
       " '{ \"a\": \"Mozilla\\\\/5.0 (Macintosh; Intel Mac OS X 10_7_3) AppleWebKit\\\\/534.53.11 (KHTML, like Gecko) Version\\\\/5.1.3 Safari\\\\/534.53.10\", \"c\": \"US\", \"nk\": 0, \"tz\": \"America\\\\/New_York\", \"gr\": \"FL\", \"g\": \"wdYv2F\", \"h\": \"xtPjlH\", \"l\": \"jplnews\", \"al\": \"en-us\", \"hh\": \"bitly.com\", \"r\": \"http:\\\\/\\\\/www.facebook.com\\\\/l.php?u=http%3A%2F%2Fbitly.com%2FxtPjlH&h=wAQEiNi_P\", \"u\": \"http:\\\\/\\\\/www.jpl.nasa.gov\\\\/news\\\\/news.cfm?release=2012-072\", \"t\": 1331923343, \"hc\": 1331750914, \"cy\": \"Yalaha\", \"ll\": [ 28.734699, -81.819702 ] }\\n',\n",
       " '{ \"a\": \"Mozilla\\\\/5.0 (compatible; MSIE 9.0; Windows NT 6.1; WOW64; Trident\\\\/5.0)\", \"c\": null, \"nk\": 1, \"tz\": \"\", \"g\": \"zYlzwy\", \"h\": \"wk4zzR\", \"l\": \"tweetdeckapi\", \"al\": \"ja-JP\", \"hh\": \"1.usa.gov\", \"r\": \"http:\\\\/\\\\/t.co\\\\/4tq2Lnj8\", \"u\": \"http:\\\\/\\\\/www.fms.treas.gov\\\\/mts\\\\/mts0212.pdf\", \"t\": 1331923345, \"hc\": 1331642711 }\\n',\n",
       " '{ \"a\": \"Mozilla\\\\/5.0 (Windows; U; Windows NT 5.1; en-US; rv:1.9.2.28) Gecko\\\\/20120306 Firefox\\\\/3.6.28\", \"c\": \"US\", \"nk\": 1, \"tz\": \"America\\\\/New_York\", \"gr\": \"SC\", \"g\": \"pCW8vT\", \"h\": \"pUsOIs\", \"l\": \"swampcritter\", \"al\": \"en-us,en;q=0.5\", \"hh\": \"1.usa.gov\", \"r\": \"direct\", \"u\": \"http:\\\\/\\\\/forecast.weather.gov\\\\/MapClick.php?CityName=Ladson&state=SC&site=CHS&textField1=33.0094&textField2=-80.1057&e=1\", \"t\": 1331923345, \"hc\": 1312280809, \"cy\": \"Summerville\", \"ll\": [ 32.964699, -80.201500 ] }\\n',\n",
       " '{ \"a\": \"Mozilla\\\\/5.0 (Windows NT 5.1) AppleWebKit\\\\/535.11 (KHTML, like Gecko) Chrome\\\\/17.0.963.79 Safari\\\\/535.11\", \"c\": \"CA\", \"nk\": 1, \"tz\": \"America\\\\/Rainy_River\", \"gr\": \"ON\", \"g\": \"wcndER\", \"h\": \"zkpJBR\", \"l\": \"bnjacobs\", \"al\": \"en-US,en;q=0.8\", \"hh\": \"1.usa.gov\", \"r\": \"http:\\\\/\\\\/t.co\\\\/J6qInqf7\", \"u\": \"http:\\\\/\\\\/www.nasa.gov\\\\/mission_pages\\\\/nustar\\\\/main\\\\/index.html\", \"t\": 1331923348, \"hc\": 1331922854, \"cy\": \"Toronto\", \"ll\": [ 43.666698, -79.416702 ] }\\n',\n",
       " '{ \"a\": \"Mozilla\\\\/4.0 (compatible; MSIE 8.0; Windows NT 6.1; Trident\\\\/4.0; SLCC2; .NET CLR 2.0.50727; .NET CLR 3.5.30729; .NET CLR 3.0.30729; Media Center PC 6.0; InfoPath.2; MS-RTC LM 8; Tablet PC 2.0)\", \"c\": \"US\", \"nk\": 1, \"tz\": \"America\\\\/New_York\", \"gr\": \"DC\", \"g\": \"u5WCFr\", \"h\": \"vtMvIL\", \"l\": \"aashtojournal\", \"al\": \"en-us\", \"hh\": \"1.usa.gov\", \"r\": \"http:\\\\/\\\\/www.aashtojournal.org\\\\/Pages\\\\/031612house.aspx\", \"u\": \"http:\\\\/\\\\/thomas.loc.gov\\\\/cgi-bin\\\\/bdquery\\\\/z?d112:S1813:\", \"t\": 1331923349, \"hc\": 1320859236, \"cy\": \"Washington\", \"ll\": [ 38.909698, -77.023102 ] }\\n',\n",
       " '{ \"a\": \"Mozilla\\\\/4.0 (compatible; MSIE 7.0; Windows NT 5.1; .NET CLR 1.1.4322; .NET CLR 2.0.50727; .NET CLR 3.0.4506.2152; .NET CLR 3.5.30729)\", \"c\": \"US\", \"nk\": 0, \"tz\": \"America\\\\/Los_Angeles\", \"gr\": \"CA\", \"g\": \"zB11tl\", \"h\": \"wRh8Lu\", \"l\": \"aashtojournal\", \"al\": \"en-us\", \"hh\": \"1.usa.gov\", \"r\": \"http:\\\\/\\\\/www.aashtojournal.org\\\\/Pages\\\\/031612california.aspx\", \"u\": \"http:\\\\/\\\\/www.dot.ca.gov\\\\/hq\\\\/planning\\\\/aeronaut\\\\/dataplates.html\", \"t\": 1331923351, \"hc\": 1331757763, \"kw\": \"Caltrans-heli\", \"cy\": \"Berkeley\", \"ll\": [ 37.878101, -122.271004 ] }\\n',\n",
       " '{ \"a\": \"Mozilla\\\\/5.0 (Macintosh; Intel Mac OS X 10_6_8) AppleWebKit\\\\/535.11 (KHTML, like Gecko) Chrome\\\\/17.0.963.79 Safari\\\\/535.11\", \"c\": \"US\", \"nk\": 0, \"tz\": \"America\\\\/New_York\", \"gr\": \"OH\", \"g\": \"xVZg4P\", \"h\": \"wqUkTo\", \"l\": \"nasatwitter\", \"al\": \"en-US,en;q=0.8\", \"hh\": \"go.nasa.gov\", \"r\": \"http:\\\\/\\\\/t.co\\\\/UKGBxj29\", \"u\": \"http:\\\\/\\\\/www.nasa.gov\\\\/multimedia\\\\/imagegallery\\\\/image_feature_2199.html\", \"t\": 1331923351, \"hc\": 1331908247, \"cy\": \"Cincinnati\", \"ll\": [ 39.169899, -84.485901 ] }\\n',\n",
       " '{\"_heartbeat_\":1331923351}\\n',\n",
       " '{ \"a\": \"Mozilla\\\\/5.0 (Windows NT 6.1; WOW64; rv:10.0.2) Gecko\\\\/20100101 Firefox\\\\/10.0.2\", \"c\": \"US\", \"nk\": 1, \"tz\": \"America\\\\/Denver\", \"gr\": \"NM\", \"g\": \"zG1k2I\", \"h\": \"yCQXYo\", \"l\": \"o_4pn5jefgl1\", \"al\": \"en-us,en;q=0.5\", \"hh\": \"1.usa.gov\", \"r\": \"http:\\\\/\\\\/www.srh.noaa.gov\\\\/epz\\\\/?n=significantweatherbriefing\", \"u\": \"http:\\\\/\\\\/www.srh.noaa.gov\\\\/media\\\\/epz\\\\/SigWxBrief\\\\/sigwxbrief.pdf\", \"t\": 1331923352, \"hc\": 1331888586, \"cy\": \"Albuquerque\", \"ll\": [ 35.102501, -106.611702 ] }\\n',\n",
       " '{ \"a\": \"Mozilla\\\\/5.0 (Windows NT 6.1; WOW64; rv:10.0.2) Gecko\\\\/20100101 Firefox\\\\/10.0.2\", \"c\": \"US\", \"nk\": 0, \"tz\": \"America\\\\/New_York\", \"gr\": \"CT\", \"g\": \"wcndER\", \"h\": \"zkpJBR\", \"l\": \"bnjacobs\", \"al\": \"en-us,en;q=0.5\", \"hh\": \"1.usa.gov\", \"r\": \"http:\\\\/\\\\/www.facebook.com\\\\/l.php?u=http%3A%2F%2F1.usa.gov%2FzkpJBR&h=mAQGSnurUAQEJqJdF9vSprmOD3QMskdCZVhyZRO1qiizCdg\", \"u\": \"http:\\\\/\\\\/www.nasa.gov\\\\/mission_pages\\\\/nustar\\\\/main\\\\/index.html\", \"t\": 1331923352, \"hc\": 1331922854, \"cy\": \"Vernon Rockville\", \"ll\": [ 41.836498, -72.463203 ] }\\n',\n",
       " '{ \"a\": \"Mozilla\\\\/5.0 (Macintosh; Intel Mac OS X 10_7_3) AppleWebKit\\\\/535.19 (KHTML, like Gecko) Chrome\\\\/18.0.1025.54 Safari\\\\/535.19\", \"c\": \"US\", \"nk\": 1, \"tz\": \"America\\\\/New_York\", \"gr\": \"NY\", \"g\": \"FO8od2\", \"h\": \"FO8od1\", \"l\": \"developmentseed\", \"al\": \"en-US,en;q=0.8\", \"hh\": \"ds.io\", \"r\": \"http:\\\\/\\\\/t.co\\\\/wgctD0rd\", \"u\": \"http:\\\\/\\\\/www.nature.nps.gov\\\\/features\\\\/eclipse\\\\/wheretoview.cfm\", \"t\": 1331923355, \"hc\": 1331921833, \"cy\": \"Brooklyn\", \"ll\": [ 40.702099, -73.942299 ] }\\n',\n",
       " '{ \"a\": \"Mozilla\\\\/5.0 (compatible; MSIE 9.0; Windows NT 6.1; WOW64; Trident\\\\/5.0)\", \"c\": \"PL\", \"nk\": 0, \"tz\": \"Europe\\\\/Warsaw\", \"gr\": \"77\", \"g\": \"wcndER\", \"h\": \"zkpJBR\", \"l\": \"bnjacobs\", \"al\": \"pl-PL\", \"hh\": \"1.usa.gov\", \"r\": \"http:\\\\/\\\\/www.facebook.com\\\\/\", \"u\": \"http:\\\\/\\\\/www.nasa.gov\\\\/mission_pages\\\\/nustar\\\\/main\\\\/index.html\", \"t\": 1331923357, \"hc\": 1331922854, \"cy\": \"Cracow\", \"ll\": [ 50.083302, 19.916700 ] }\\n',\n",
       " '{ \"a\": \"Mozilla\\\\/5.0 (Windows NT 6.1; rv:11.0) Gecko\\\\/20100101 Firefox\\\\/11.0\", \"c\": \"US\", \"nk\": 1, \"tz\": \"America\\\\/New_York\", \"gr\": \"MD\", \"g\": \"vNJS4H\", \"h\": \"u0uD9q\", \"l\": \"o_4us71ccioa\", \"al\": \"en-us,en;q=0.5\", \"hh\": \"1.usa.gov\", \"r\": \"direct\", \"u\": \"https:\\\\/\\\\/www.nysdot.gov\\\\/rexdesign\\\\/design\\\\/community.gif\", \"t\": 1331923358, \"hc\": 1319563556, \"cy\": \"Laurel\", \"ll\": [ 39.096699, -76.877899 ] }\\n',\n",
       " '{ \"a\": \"Mozilla\\\\/4.0 (compatible; MSIE 8.0; Windows NT 5.1; Trident\\\\/4.0; .NET CLR 2.0.50727; .NET CLR 3.0.04506.648; .NET CLR 3.5.21022; InfoPath.2; .NET CLR 3.0.4506.2152; .NET CLR 3.5.30729; MS-RTC LM 8; .NET CLR 1.1.4322; .NET4.0C; .NET4.0E)\", \"c\": \"US\", \"nk\": 0, \"tz\": \"America\\\\/New_York\", \"gr\": \"VA\", \"g\": \"x7TRAa\", \"h\": \"zwrBm8\", \"l\": \"vangheem\", \"al\": \"en-us\", \"hh\": \"1.usa.gov\", \"r\": \"direct\", \"u\": \"http:\\\\/\\\\/www.fbi.gov\\\\/charlotte\\\\/press-releases\\\\/2012\\\\/two-sentenced-in-north-carolina-in-elder-fraud-scam\", \"t\": 1331923358, \"hc\": 1331910606, \"cy\": \"Annandale\", \"ll\": [ 38.838100, -77.212097 ] }\\n',\n",
       " '{ \"a\": \"Mozilla\\\\/4.0 (compatible; MSIE 8.0; Windows NT 6.1; WOW64; Trident\\\\/4.0; GTB7.3; SLCC2; .NET CLR 2.0.50727; .NET CLR 3.5.30729; .NET CLR 3.0.30729; Media Center PC 6.0; .NET4.0C; InfoPath.2)\", \"c\": \"US\", \"nk\": 0, \"tz\": \"America\\\\/New_York\", \"gr\": \"MA\", \"g\": \"9b6kNl\", \"h\": \"9b6kNl\", \"l\": \"bitly\", \"al\": \"en-US\", \"hh\": \"bit.ly\", \"r\": \"http:\\\\/\\\\/www.shrewsbury-ma.gov\\\\/selco\\\\/\", \"u\": \"http:\\\\/\\\\/www.shrewsbury-ma.gov\\\\/egov\\\\/gallery\\\\/134127368672998.png\", \"t\": 1331923359, \"hc\": 1273672411, \"cy\": \"Shrewsbury\", \"ll\": [ 42.286499, -71.714699 ] }\\n',\n",
       " '{ \"a\": \"Mozilla\\\\/4.0 (compatible; MSIE 8.0; Windows NT 6.1; WOW64; Trident\\\\/4.0; GTB7.3; SLCC2; .NET CLR 2.0.50727; .NET CLR 3.5.30729; .NET CLR 3.0.30729; Media Center PC 6.0; .NET4.0C; InfoPath.2)\", \"c\": \"US\", \"nk\": 0, \"tz\": \"America\\\\/New_York\", \"gr\": \"MA\", \"g\": \"axNK8c\", \"h\": \"axNK8c\", \"l\": \"bitly\", \"al\": \"en-US\", \"hh\": \"bit.ly\", \"r\": \"http:\\\\/\\\\/www.shrewsbury-ma.gov\\\\/selco\\\\/\", \"u\": \"http:\\\\/\\\\/www.shrewsbury-ma.gov\\\\/egov\\\\/gallery\\\\/134127368675393.png\", \"t\": 1331923359, \"hc\": 1273672506, \"cy\": \"Shrewsbury\", \"ll\": [ 42.286499, -71.714699 ] }\\n',\n",
       " '{ \"a\": \"Mozilla\\\\/5.0 (Windows NT 6.1; WOW64) AppleWebKit\\\\/535.11 (KHTML, like Gecko) Chrome\\\\/17.0.963.79 Safari\\\\/535.11\", \"c\": \"IT\", \"nk\": 0, \"tz\": \"Europe\\\\/Rome\", \"gr\": \"04\", \"g\": \"wcndER\", \"h\": \"zkpJBR\", \"l\": \"bnjacobs\", \"al\": \"it-IT,it;q=0.8,en-US;q=0.6,en;q=0.4\", \"hh\": \"1.usa.gov\", \"r\": \"http:\\\\/\\\\/www.facebook.com\\\\/\", \"u\": \"http:\\\\/\\\\/www.nasa.gov\\\\/mission_pages\\\\/nustar\\\\/main\\\\/index.html\", \"t\": 1331923360, \"hc\": 1331922854, \"cy\": \"Sorrento\", \"ll\": [ 40.616699, 14.366700 ] }\\n',\n",
       " '{ \"a\": \"Mozilla\\\\/5.0 (Windows NT 6.1; WOW64) AppleWebKit\\\\/535.11 (KHTML, like Gecko) Chrome\\\\/17.0.963.79 Safari\\\\/535.11\", \"c\": \"US\", \"nk\": 0, \"tz\": \"America\\\\/Chicago\", \"gr\": \"TX\", \"g\": \"oSPTDv\", \"h\": \"oSPTDv\", \"l\": \"bitly\", \"al\": \"en-US,en;q=0.8\", \"hh\": \"1.usa.gov\", \"r\": \"http:\\\\/\\\\/www.facebook.com\\\\/l.php?u=http%3A%2F%2F1.usa.gov%2FoSPTDv&h=gAQHrY--lAQElQ9GrOAPJbEK8loossIGobJDWWxv9ocXdgw\", \"u\": \"http:\\\\/\\\\/nationalmap.gov\\\\/historical\\\\/index.html\", \"t\": 1331923359, \"hc\": 1314214424, \"cy\": \"Austin\", \"ll\": [ 30.400000, -97.752800 ] }\\n',\n",
       " '{ \"a\": \"Mozilla\\\\/5.0 (compatible; MSIE 9.0; Windows NT 6.1; WOW64; Trident\\\\/5.0)\", \"c\": \"PL\", \"nk\": 1, \"tz\": \"Europe\\\\/Warsaw\", \"gr\": \"77\", \"g\": \"wcndER\", \"h\": \"zkpJBR\", \"l\": \"bnjacobs\", \"al\": \"pl-PL\", \"hh\": \"1.usa.gov\", \"r\": \"http:\\\\/\\\\/www.facebook.com\\\\/\", \"u\": \"http:\\\\/\\\\/www.nasa.gov\\\\/mission_pages\\\\/nustar\\\\/main\\\\/index.html\", \"t\": 1331923361, \"hc\": 1331922854, \"cy\": \"Cracow\", \"ll\": [ 50.083302, 19.916700 ] }\\n',\n",
       " '{ \"a\": \"Mozilla\\\\/5.0 (iPhone; CPU iPhone OS 5_1 like Mac OS X) AppleWebKit\\\\/534.46 (KHTML, like Gecko) Mobile\\\\/9B179 Twitter for iPhone\", \"c\": \"US\", \"nk\": 1, \"tz\": \"America\\\\/Denver\", \"gr\": \"CO\", \"g\": \"xeVVaG\", \"h\": \"x9h4Vt\", \"l\": \"jeisman\", \"al\": \"en-us\", \"hh\": \"1.usa.gov\", \"r\": \"direct\", \"u\": \"http:\\\\/\\\\/www.healthcare.gov\\\\/blog\\\\/2012\\\\/03\\\\/mycare031612.html\", \"t\": 1331923362, \"hc\": 1331918691, \"cy\": \"Colorado Springs\", \"ll\": [ 38.832600, -104.740501 ] }\\n',\n",
       " '{ \"a\": \"Mozilla\\\\/5.0 (Windows NT 6.1; WOW64; rv:10.0.2) Gecko\\\\/20100101 Firefox\\\\/10.0.2\", \"c\": \"PL\", \"nk\": 0, \"tz\": \"Europe\\\\/Warsaw\", \"gr\": \"74\", \"g\": \"wcndER\", \"h\": \"zkpJBR\", \"l\": \"bnjacobs\", \"al\": \"pl,en-us;q=0.7,en;q=0.3\", \"hh\": \"1.usa.gov\", \"r\": \"http:\\\\/\\\\/www.facebook.com\\\\/\", \"u\": \"http:\\\\/\\\\/www.nasa.gov\\\\/mission_pages\\\\/nustar\\\\/main\\\\/index.html\", \"t\": 1331923363, \"hc\": 1331922854, \"cy\": \"Zdunska Wola\", \"ll\": [ 51.599998, 18.933300 ] }\\n',\n",
       " '{ \"a\": \"Mozilla\\\\/5.0 (Windows; U; Windows NT 5.1; it; rv:1.9.2.28) Gecko\\\\/20120306 Firefox\\\\/3.6.28\", \"c\": \"IT\", \"nk\": 0, \"tz\": \"Europe\\\\/Rome\", \"gr\": \"15\", \"g\": \"wcndER\", \"h\": \"zkpJBR\", \"l\": \"bnjacobs\", \"al\": \"it-it,it;q=0.8,en-us;q=0.5,en;q=0.3\", \"hh\": \"1.usa.gov\", \"r\": \"direct\", \"u\": \"http:\\\\/\\\\/www.nasa.gov\\\\/mission_pages\\\\/nustar\\\\/main\\\\/index.html\", \"t\": 1331923365, \"hc\": 1331922854, \"cy\": \"Catania\", \"ll\": [ 37.500000, 15.100000 ] }\\n',\n",
       " '{ \"a\": \"Mozilla\\\\/5.0 (Macintosh; Intel Mac OS X 10_6_6) AppleWebKit\\\\/535.11 (KHTML, like Gecko) Chrome\\\\/17.0.963.79 Safari\\\\/535.11\", \"c\": \"US\", \"nk\": 1, \"tz\": \"America\\\\/New_York\", \"gr\": \"NY\", \"g\": \"vNJS4H\", \"h\": \"u0uD9q\", \"l\": \"o_4us71ccioa\", \"al\": \"en-US,en;q=0.8\", \"hh\": \"1.usa.gov\", \"r\": \"direct\", \"u\": \"https:\\\\/\\\\/www.nysdot.gov\\\\/rexdesign\\\\/design\\\\/community.gif\", \"t\": 1331923369, \"hc\": 1319563556, \"cy\": \"White Plains\", \"ll\": [ 41.029099, -73.758003 ] }\\n',\n",
       " '{ \"a\": \"Mozilla\\\\/5.0 (Windows NT 5.1; rv:10.0.2) Gecko\\\\/20100101 Firefox\\\\/10.0.2\", \"c\": \"US\", \"nk\": 1, \"tz\": \"America\\\\/Los_Angeles\", \"gr\": \"CA\", \"g\": \"yyxcz7\", \"h\": \"xHkJEQ\", \"l\": \"lapublichealth\", \"al\": \"en-us\", \"hh\": \"1.usa.gov\", \"r\": \"http:\\\\/\\\\/t.co\\\\/x3LYPXyR\", \"u\": \"http:\\\\/\\\\/www.cdc.gov\\\\/Motorvehiclesafety\\\\/Impaired_Driving\\\\/impaired-drv_factsheet.html\", \"t\": 1331923368, \"hc\": 1331254100, \"cy\": \"Torrance\", \"ll\": [ 33.835201, -118.328903 ] }\\n',\n",
       " '{ \"a\": \"Mozilla\\\\/5.0 (Windows NT 6.1; rv:9.0.1) Gecko\\\\/20100101 Firefox\\\\/9.0.1\", \"c\": null, \"nk\": 1, \"tz\": \"\", \"g\": \"wcndER\", \"h\": \"zkpJBR\", \"l\": \"bnjacobs\", \"al\": \"en-us,en;q=0.5\", \"hh\": \"1.usa.gov\", \"r\": \"direct\", \"u\": \"http:\\\\/\\\\/www.nasa.gov\\\\/mission_pages\\\\/nustar\\\\/main\\\\/index.html\", \"t\": 1331923370, \"hc\": 1331922854 }\\n',\n",
       " '{ \"a\": \"Mozilla\\\\/5.0 (Macintosh; Intel Mac OS X 10_6_8) AppleWebKit\\\\/536.3 (KHTML, like Gecko) Chrome\\\\/19.0.1068.0 Safari\\\\/536.3\", \"c\": \"US\", \"nk\": 0, \"tz\": \"America\\\\/Los_Angeles\", \"gr\": \"WA\", \"g\": \"wcndER\", \"h\": \"zkpJBR\", \"l\": \"bnjacobs\", \"al\": \"en-US,en;q=0.8\", \"hh\": \"1.usa.gov\", \"r\": \"http:\\\\/\\\\/plus.url.google.com\\\\/url?sa=z&n=1331923370466&url=http%3A%2F%2F1.usa.gov%2FzkpJBR&usg=7PYE2a4E5lEsJ0vccAgkMJd7ykc.\", \"u\": \"http:\\\\/\\\\/www.nasa.gov\\\\/mission_pages\\\\/nustar\\\\/main\\\\/index.html\", \"t\": 1331923371, \"hc\": 1331922854, \"cy\": \"Seattle\", \"ll\": [ 47.595100, -122.332603 ] }\\n',\n",
       " '{ \"a\": \"Mozilla\\\\/4.0 (compatible; MSIE 7.0; Windows NT 5.1; .NET CLR 1.1.4322; .NET CLR 2.0.50727; .NET CLR 3.0.04506.648; .NET CLR 3.5.21022; InfoPath.2; .NET CLR 3.0.4506.2152; .NET CLR 3.5.30729; .NET4.0C; .NET4.0E)\", \"c\": \"US\", \"nk\": 1, \"tz\": \"Pacific\\\\/Honolulu\", \"gr\": \"HI\", \"g\": \"x98anS\", \"h\": \"FOb6ww\", \"l\": \"kcatian\", \"al\": \"en-us\", \"hh\": \"1.usa.gov\", \"r\": \"direct\", \"u\": \"http:\\\\/\\\\/www.navy.mil\\\\/search\\\\/display.asp?story_id=65845\", \"t\": 1331923371, \"hc\": 1331921801, \"kw\": \"RealignOPNAVstaff\", \"cy\": \"Mililani\", \"ll\": [ 21.470100, -157.963699 ] }\\n',\n",
       " '{ \"a\": \"Mozilla\\\\/5.0 (Windows NT 6.1; WOW64; rv:10.0.2) Gecko\\\\/20100101 Firefox\\\\/10.0.2\", \"c\": \"US\", \"nk\": 1, \"tz\": \"America\\\\/New_York\", \"gr\": \"VA\", \"g\": \"vNJS4H\", \"h\": \"u0uD9q\", \"l\": \"o_4us71ccioa\", \"al\": \"en-us,en;q=0.5\", \"hh\": \"1.usa.gov\", \"r\": \"direct\", \"u\": \"https:\\\\/\\\\/www.nysdot.gov\\\\/rexdesign\\\\/design\\\\/community.gif\", \"t\": 1331923371, \"hc\": 1319563556, \"cy\": \"Alexandria\", \"ll\": [ 38.790901, -77.094704 ] }\\n',\n",
       " '{ \"a\": \"GoogleMaps\\\\/RochesterNY\", \"c\": \"US\", \"nk\": 0, \"tz\": \"America\\\\/Denver\", \"gr\": \"UT\", \"g\": \"mwszkS\", \"h\": \"mwszkS\", \"l\": \"bitly\", \"hh\": \"j.mp\", \"r\": \"http:\\\\/\\\\/www.AwareMap.com\\\\/\", \"u\": \"http:\\\\/\\\\/www.monroecounty.gov\\\\/etc\\\\/911\\\\/rss.php\", \"t\": 1331923371, \"hc\": 1308262393, \"cy\": \"Provo\", \"ll\": [ 40.218102, -111.613297 ] }\\n',\n",
       " '{ \"a\": \"Mozilla\\\\/5.0 (Windows NT 6.1; WOW64; rv:10.0.2) Gecko\\\\/20100101 Firefox\\\\/10.0.2\", \"c\": \"DE\", \"nk\": 0, \"tz\": \"Europe\\\\/Berlin\", \"gr\": \"06\", \"g\": \"wcndER\", \"h\": \"zkpJBR\", \"l\": \"bnjacobs\", \"al\": \"de-de,de;q=0.8,en-us;q=0.5,en;q=0.3\", \"hh\": \"1.usa.gov\", \"r\": \"http:\\\\/\\\\/www.facebook.com\\\\/l.php?u=http%3A%2F%2F1.usa.gov%2FzkpJBR&h=yAQF9JH7xAQGURUniX2a8jaasp3bIVVYxOw90Crd_V56cWg\", \"u\": \"http:\\\\/\\\\/www.nasa.gov\\\\/mission_pages\\\\/nustar\\\\/main\\\\/index.html\", \"t\": 1331923373, \"hc\": 1331922854, \"cy\": \"Vordorf\", \"ll\": [ 52.366699, 10.533300 ] }\\n',\n",
       " '{ \"a\": \"Mozilla\\\\/5.0 (Windows NT 6.1; WOW64; rv:10.0.2) Gecko\\\\/20100101 Firefox\\\\/10.0.2\", \"c\": null, \"nk\": 1, \"tz\": \"\", \"g\": \"vNJS4H\", \"h\": \"u0uD9q\", \"l\": \"o_4us71ccioa\", \"al\": \"en-us,en;q=0.5\", \"hh\": \"1.usa.gov\", \"r\": \"direct\", \"u\": \"https:\\\\/\\\\/www.nysdot.gov\\\\/rexdesign\\\\/design\\\\/community.gif\", \"t\": 1331923373, \"hc\": 1319563556 }\\n',\n",
       " '{ \"a\": \"Mozilla\\\\/5.0 (iPad; U; CPU OS 4_3_5 like Mac OS X; en-us) AppleWebKit\\\\/533.17.9 (KHTML, like Gecko) Mobile\\\\/8L1 Twitter for iPad\", \"c\": \"US\", \"nk\": 0, \"tz\": \"America\\\\/Chicago\", \"gr\": \"TN\", \"g\": \"xRWPdw\", \"h\": \"wZ0eD0\", \"l\": \"tweetdeckapi\", \"al\": \"en-us\", \"hh\": \"1.usa.gov\", \"r\": \"https:\\\\/\\\\/twitter.com\\\\/zachmartian\\\\/status\\\\/180722960385048576\", \"u\": \"http:\\\\/\\\\/www.whitehouse.gov\\\\/the-press-office\\\\/2012\\\\/03\\\\/15\\\\/statement-president-meeting-interagency-task-force-monitor-and-combat-tr\", \"t\": 1331923377, \"hc\": 1331840856, \"cy\": \"Milan\", \"ll\": [ 35.925098, -88.785797 ] }\\n',\n",
       " '{ \"a\": \"Mozilla\\\\/5.0 (Windows; U; Windows NT 6.0; en-US; rv:1.9.2.3) Gecko\\\\/20100401 Firefox\\\\/3.6.3 (.NET CLR 3.5.30729)\", \"c\": \"US\", \"nk\": 0, \"tz\": \"America\\\\/Chicago\", \"gr\": \"TX\", \"g\": \"xW0az5\", \"h\": \"wVFQhN\", \"l\": \"o_6d9k7mcqae\", \"hh\": \"1.usa.gov\", \"r\": \"direct\", \"u\": \"http:\\\\/\\\\/earthobservatory.nasa.gov\\\\/IOTD\\\\/view.php?id=76697\", \"t\": 1331923378, \"hc\": 1327355742, \"cy\": \"Dallas\", \"ll\": [ 32.782501, -96.820702 ] }\\n',\n",
       " '{ \"a\": \"Mozilla\\\\/5.0 (Windows; U; Windows NT 6.1; en-US; rv:1.9.2.25) Gecko\\\\/20111212 Firefox\\\\/3.6.25\", \"c\": \"US\", \"nk\": 1, \"tz\": \"America\\\\/New_York\", \"gr\": \"PA\", \"g\": \"vNJS4H\", \"h\": \"u0uD9q\", \"l\": \"o_4us71ccioa\", \"al\": \"en-us,en;q=0.5\", \"hh\": \"1.usa.gov\", \"r\": \"direct\", \"u\": \"https:\\\\/\\\\/www.nysdot.gov\\\\/rexdesign\\\\/design\\\\/community.gif\", \"t\": 1331923379, \"hc\": 1319563556, \"cy\": \"Philadelphia\", \"ll\": [ 39.996799, -75.148499 ] }\\n',\n",
       " '{ \"a\": \"Mozilla\\\\/5.0 (Windows NT 5.1) AppleWebKit\\\\/535.11 (KHTML, like Gecko) Chrome\\\\/17.0.963.79 Safari\\\\/535.11\", \"c\": \"CZ\", \"nk\": 1, \"tz\": \"Europe\\\\/Prague\", \"gr\": \"52\", \"g\": \"wcndER\", \"h\": \"zkpJBR\", \"l\": \"bnjacobs\", \"al\": \"cs-CZ,cs;q=0.8\", \"hh\": \"1.usa.gov\", \"r\": \"http:\\\\/\\\\/www.facebook.com\\\\/l.php?u=http%3A%2F%2F1.usa.gov%2FzkpJBR&h=UAQE9FlHaAQExHnY1F1g9HfE1NhoUlVEeY9N7LZSfDW5R_w\", \"u\": \"http:\\\\/\\\\/www.nasa.gov\\\\/mission_pages\\\\/nustar\\\\/main\\\\/index.html\", \"t\": 1331923380, \"hc\": 1331922854, \"cy\": \"Prague\", \"ll\": [ 50.083302, 14.466700 ] }\\n',\n",
       " '{\"_heartbeat_\":1331923381}\\n',\n",
       " '{ \"a\": \"GoogleMaps\\\\/RochesterNY\", \"c\": \"US\", \"nk\": 0, \"tz\": \"America\\\\/Denver\", \"gr\": \"UT\", \"g\": \"mwszkS\", \"h\": \"mwszkS\", \"l\": \"bitly\", \"hh\": \"1.usa.gov\", \"r\": \"http:\\\\/\\\\/www.AwareMap.com\\\\/\", \"u\": \"http:\\\\/\\\\/www.monroecounty.gov\\\\/etc\\\\/911\\\\/rss.php\", \"t\": 1331923382, \"hc\": 1308262393, \"cy\": \"Provo\", \"ll\": [ 40.218102, -111.613297 ] }\\n',\n",
       " '{ \"a\": \"Mozilla\\\\/5.0 (Windows; U; Windows NT 6.0; en-US; rv:1.9.2.3) Gecko\\\\/20100401 Firefox\\\\/3.6.3 (.NET CLR 3.5.30729)\", \"c\": \"US\", \"nk\": 0, \"tz\": \"America\\\\/Chicago\", \"gr\": \"TX\", \"g\": \"xvV3JC\", \"h\": \"wBD13W\", \"l\": \"o_6d9k7mcqae\", \"hh\": \"1.usa.gov\", \"r\": \"direct\", \"u\": \"http:\\\\/\\\\/www.nasa.gov\\\\/topics\\\\/earth\\\\/features\\\\/2011-temps.html\", \"t\": 1331923382, \"hc\": 1327085692, \"cy\": \"Dallas\", \"ll\": [ 32.782501, -96.820702 ] }\\n',\n",
       " '{ \"a\": \"Mozilla\\\\/5.0 (Windows NT 6.1) AppleWebKit\\\\/535.11 (KHTML, like Gecko) Chrome\\\\/17.0.963.79 Safari\\\\/535.11\", \"c\": \"ES\", \"nk\": 0, \"tz\": \"Europe\\\\/Madrid\", \"gr\": \"56\", \"g\": \"xZQGVZ\", \"h\": \"wfdanR\", \"l\": \"o_5eod59tpfq\", \"al\": \"es-ES,es;q=0.8\", \"hh\": \"1.usa.gov\", \"r\": \"http:\\\\/\\\\/t.co\\\\/h6PbevjL\", \"u\": \"http:\\\\/\\\\/www.nlm.nih.gov\\\\/medlineplus\\\\/spanish\\\\/news\\\\/fullstory_123026.html\", \"t\": 1331923383, \"hc\": 1331918641, \"cy\": \"Barcelona\", \"ll\": [ 41.383301, 2.183300 ] }\\n',\n",
       " '{ \"a\": \"Mozilla\\\\/5.0 (Windows NT 6.1) AppleWebKit\\\\/535.11 (KHTML, like Gecko) Chrome\\\\/17.0.963.79 Safari\\\\/535.11\", \"c\": \"BR\", \"nk\": 0, \"tz\": \"America\\\\/Sao_Paulo\", \"gr\": \"21\", \"g\": \"wCUeMo\", \"h\": \"zzojie\", \"l\": \"tweetdeckapi\", \"al\": \"pt-BR,pt;q=0.8,en-US;q=0.6,en;q=0.4\", \"hh\": \"1.usa.gov\", \"r\": \"http:\\\\/\\\\/t.co\\\\/yZP1pbGs\", \"u\": \"http:\\\\/\\\\/www.nasa.gov\\\\/mission_pages\\\\/WISE\\\\/multimedia\\\\/pia15481.html\", \"t\": 1331923383, \"hc\": 1331918414, \"cy\": \"Rio De Janeiro\", \"ll\": [ -22.900000, -43.233299 ] }\\n',\n",
       " '{ \"a\": \"Mozilla\\\\/5.0 (compatible; MSIE 9.0; Windows NT 6.1; WOW64; Trident\\\\/5.0)\", \"c\": \"US\", \"nk\": 0, \"tz\": \"America\\\\/New_York\", \"gr\": \"PA\", \"g\": \"zUCbFj\", \"h\": \"zx3IRn\", \"l\": \"fairfaxcountypolice\", \"al\": \"en-US\", \"hh\": \"1.usa.gov\", \"r\": \"http:\\\\/\\\\/t.co\\\\/1LpYtOpY\", \"u\": \"http:\\\\/\\\\/www.fairfaxcounty.gov\\\\/police\\\\/news-releases\\\\/2012\\\\/031612seriesofcarthefts.htm\", \"t\": 1331923385, \"hc\": 1331916658, \"cy\": \"Morrisville\", \"ll\": [ 40.195702, -74.812698 ] }\\n',\n",
       " '{ \"a\": \"Mozilla\\\\/5.0 (Windows; U; Windows NT 6.1; en-US; rv:1.9.2.25) Gecko\\\\/20111212 Firefox\\\\/3.6.25\", \"c\": null, \"nk\": 1, \"tz\": \"\", \"g\": \"vNJS4H\", \"h\": \"u0uD9q\", \"l\": \"o_4us71ccioa\", \"al\": \"en-us,en;q=0.5\", \"hh\": \"1.usa.gov\", \"r\": \"direct\", \"u\": \"https:\\\\/\\\\/www.nysdot.gov\\\\/rexdesign\\\\/design\\\\/community.gif\", \"t\": 1331923386, \"hc\": 1319563556 }\\n',\n",
       " '{ \"a\": \"Mozilla\\\\/5.0 (Windows; U; Windows NT 5.1; en-US; rv:1.9.2.13) Gecko\\\\/20101203 Firefox\\\\/3.6.13 ( .NET CLR 3.5.30729)\", \"c\": null, \"nk\": 1, \"tz\": \"\", \"g\": \"wcndER\", \"h\": \"zkpJBR\", \"l\": \"bnjacobs\", \"al\": \"en-us,en;q=0.5\", \"hh\": \"bit.ly\", \"r\": \"http:\\\\/\\\\/www.facebook.com\\\\/l.php?u=http%3A%2F%2F1.usa.gov%2FzkpJBR&h=TAQF2jKDoAQHDZqnzhtSz9DJimrM_y0Kk8FWweNYhVm3mfA\", \"u\": \"http:\\\\/\\\\/www.nasa.gov\\\\/mission_pages\\\\/nustar\\\\/main\\\\/index.html\", \"t\": 1331923386, \"hc\": 1331922854 }\\n',\n",
       " '{ \"a\": \"Mozilla\\\\/5.0 (Windows NT 6.1) AppleWebKit\\\\/535.11 (KHTML, like Gecko) Chrome\\\\/17.0.963.79 Safari\\\\/535.11\", \"c\": \"HU\", \"nk\": 0, \"tz\": \"Europe\\\\/Budapest\", \"gr\": \"01\", \"g\": \"xVZg4P\", \"h\": \"wqUkTo\", \"l\": \"nasatwitter\", \"al\": \"hu-HU,hu;q=0.8,en-US;q=0.6,en;q=0.4\", \"hh\": \"go.nasa.gov\", \"r\": \"http:\\\\/\\\\/www.facebook.com\\\\/l.php?u=http%3A%2F%2Fgo.nasa.gov%2FwqUkTo&h=WAQE1Z7tNAQE3iIeuI797wBX7jKI1SIxiRE76hV1xCR40lw\", \"u\": \"http:\\\\/\\\\/www.nasa.gov\\\\/multimedia\\\\/imagegallery\\\\/image_feature_2199.html\", \"t\": 1331923387, \"hc\": 1331908247, \"cy\": \"Kiskunhalas\", \"ll\": [ 46.431400, 19.487499 ] }\\n',\n",
       " '{ \"a\": \"Mozilla\\\\/5.0 (compatible; MSIE 9.0; Windows NT 6.1; Trident\\\\/5.0)\", \"c\": \"TH\", \"nk\": 0, \"tz\": \"Asia\\\\/Bangkok\", \"gr\": \"40\", \"g\": \"wcndER\", \"h\": \"zkpJBR\", \"l\": \"bnjacobs\", \"al\": \"en-US\", \"hh\": \"1.usa.gov\", \"r\": \"http:\\\\/\\\\/www.facebook.com\\\\/l.php?u=http%3A%2F%2F1.usa.gov%2FzkpJBR&h=GAQFRUEuhAQGE3vNIfXGYGq0sWQzHrkFDucpWpyapgPyRrg\", \"u\": \"http:\\\\/\\\\/www.nasa.gov\\\\/mission_pages\\\\/nustar\\\\/main\\\\/index.html\", \"t\": 1331923387, \"hc\": 1331922854, \"cy\": \"Bangkok\", \"ll\": [ 13.750000, 100.516701 ] }\\n',\n",
       " '{ \"a\": \"Mozilla\\\\/5.0 (Windows NT 6.1; WOW64) AppleWebKit\\\\/535.11 (KHTML, like Gecko) Chrome\\\\/17.0.963.79 Safari\\\\/535.11\", \"c\": null, \"nk\": 1, \"tz\": \"\", \"g\": \"wcndER\", \"h\": \"zkpJBR\", \"l\": \"bnjacobs\", \"al\": \"en-US,en;q=0.8\", \"hh\": \"1.usa.gov\", \"r\": \"http:\\\\/\\\\/www.facebook.com\\\\/\", \"u\": \"http:\\\\/\\\\/www.nasa.gov\\\\/mission_pages\\\\/nustar\\\\/main\\\\/index.html\", \"t\": 1331923388, \"hc\": 1331922854 }\\n',\n",
       " '{ \"a\": \"Mozilla\\\\/5.0 (Macintosh; U; Intel Mac OS X 10.6; en-US; rv:1.9.2.28) Gecko\\\\/20120306 Firefox\\\\/3.6.28\", \"c\": \"US\", \"nk\": 1, \"tz\": \"America\\\\/Los_Angeles\", \"gr\": \"CA\", \"g\": \"vNJS4H\", \"h\": \"u0uD9q\", \"l\": \"o_4us71ccioa\", \"al\": \"en-us,en;q=0.5\", \"hh\": \"1.usa.gov\", \"r\": \"direct\", \"u\": \"https:\\\\/\\\\/www.nysdot.gov\\\\/rexdesign\\\\/design\\\\/community.gif\", \"t\": 1331923390, \"hc\": 1319563556, \"cy\": \"Danville\", \"ll\": [ 37.812901, -121.974297 ] }\\n',\n",
       " '{ \"a\": \"Mozilla\\\\/5.0 (Windows NT 5.1) AppleWebKit\\\\/535.11 (KHTML, like Gecko) Chrome\\\\/17.0.963.79 Safari\\\\/535.11\", \"c\": null, \"nk\": 0, \"tz\": \"\", \"g\": \"wcndER\", \"h\": \"zkpJBR\", \"l\": \"bnjacobs\", \"al\": \"en-GB,en-US;q=0.8,en;q=0.6\", \"hh\": \"1.usa.gov\", \"r\": \"http:\\\\/\\\\/www.facebook.com\\\\/\", \"u\": \"http:\\\\/\\\\/www.nasa.gov\\\\/mission_pages\\\\/nustar\\\\/main\\\\/index.html\", \"t\": 1331923391, \"hc\": 1331922854 }\\n',\n",
       " '{ \"a\": \"Mozilla\\\\/5.0 (iPhone; U; CPU iPhone OS 5_1 like Mac OS X; en_US) AppleWebKit (KHTML, like Gecko) Mobile [FBAN\\\\/FBForIPhone;FBAV\\\\/4.1;FBBV\\\\/4100.0;FBDV\\\\/iPhone4,1;FBMD\\\\/iPhone;FBSN\\\\/iPhone OS;FBSV\\\\/5.1;FBSS\\\\/2; FBCR\\\\/AT&T;FBID\\\\/phone;FBLC\\\\/en_US;FBSF\\\\/2.0]\", \"c\": \"US\", \"nk\": 0, \"tz\": \"America\\\\/Anchorage\", \"gr\": \"AK\", \"g\": \"wcndER\", \"h\": \"zkpJBR\", \"l\": \"bnjacobs\", \"al\": \"en-us\", \"hh\": \"1.usa.gov\", \"r\": \"direct\", \"u\": \"http:\\\\/\\\\/www.nasa.gov\\\\/mission_pages\\\\/nustar\\\\/main\\\\/index.html\", \"t\": 1331923390, \"hc\": 1331922854, \"cy\": \"Fairbanks\", \"ll\": [ 64.818497, -147.721603 ] }\\n',\n",
       " '{ \"a\": \"Mozilla\\\\/5.0 (Windows NT 6.1; WOW64; rv:10.0.2) Gecko\\\\/20100101 Firefox\\\\/10.0.2\", \"c\": \"US\", \"nk\": 1, \"tz\": \"America\\\\/New_York\", \"gr\": \"PA\", \"g\": \"vNJS4H\", \"h\": \"u0uD9q\", \"l\": \"o_4us71ccioa\", \"al\": \"en-us,en;q=0.5\", \"hh\": \"1.usa.gov\", \"r\": \"direct\", \"u\": \"https:\\\\/\\\\/www.nysdot.gov\\\\/rexdesign\\\\/design\\\\/community.gif\", \"t\": 1331923391, \"hc\": 1319563556, \"cy\": \"Allentown\", \"ll\": [ 40.567799, -75.482803 ] }\\n',\n",
       " '{ \"a\": \"Mozilla\\\\/5.0 (Windows NT 6.1; rv:8.0.1) Gecko\\\\/20100101 Firefox\\\\/8.0.1\", \"c\": \"PL\", \"nk\": 0, \"tz\": \"Europe\\\\/Warsaw\", \"gr\": \"83\", \"g\": \"wcndER\", \"h\": \"zkpJBR\", \"l\": \"bnjacobs\", \"al\": \"pl,en-us;q=0.7,en;q=0.3\", \"hh\": \"1.usa.gov\", \"r\": \"http:\\\\/\\\\/www.facebook.com\\\\/l.php?u=http%3A%2F%2F1.usa.gov%2FzkpJBR&h=1AQF9JnDNAQFgAVCkQyJri6dwiBdwn_cOo_xjse5nuxhVaw\", \"u\": \"http:\\\\/\\\\/www.nasa.gov\\\\/mission_pages\\\\/nustar\\\\/main\\\\/index.html\", \"t\": 1331923396, \"hc\": 1331922854, \"cy\": \"Gliwice\", \"ll\": [ 50.283298, 18.666700 ] }\\n',\n",
       " '{ \"a\": \"Mozilla\\\\/5.0 (Windows NT 6.0) AppleWebKit\\\\/535.11 (KHTML, like Gecko) Chrome\\\\/17.0.963.79 Safari\\\\/535.11\", \"c\": \"US\", \"nk\": 1, \"tz\": \"America\\\\/Chicago\", \"gr\": \"LA\", \"g\": \"y4yiWZ\", \"h\": \"yhcP5q\", \"l\": \"addthis\", \"al\": \"en-US,en;q=0.8\", \"hh\": \"1.usa.gov\", \"r\": \"http:\\\\/\\\\/t.co\\\\/i4mbPCcf\", \"u\": \"http:\\\\/\\\\/www.cdc.gov\\\\/nchs\\\\/data\\\\/databriefs\\\\/db88.pdf\", \"t\": 1331923396, \"hc\": 1331921618, \"cy\": \"New Iberia\", \"ll\": [ 29.957899, -91.872101 ] }\\n',\n",
       " '{ \"a\": \"Mozilla\\\\/5.0 (Windows NT 5.1; rv:10.0.2) Gecko\\\\/20100101 Firefox\\\\/10.0.2\", \"c\": \"US\", \"nk\": 0, \"tz\": \"America\\\\/New_York\", \"gr\": \"GA\", \"g\": \"y7wGgq\", \"h\": \"zwlxab\", \"l\": \"americanactionnetwork\", \"al\": \"en-us,en;q=0.5\", \"hh\": \"1.usa.gov\", \"r\": \"http:\\\\/\\\\/t.co\\\\/ihUhQF1r\", \"u\": \"http:\\\\/\\\\/www.cbo.gov\\\\/publication\\\\/43083\", \"t\": 1331923397, \"hc\": 1331908890, \"cy\": \"Cumming\", \"ll\": [ 34.188202, -84.159203 ] }\\n',\n",
       " '{ \"a\": \"Mozilla\\\\/4.0 (compatible; MSIE 7.0; Windows NT 6.0; SLCC1; .NET CLR 2.0.50727; .NET CLR 3.5.30729; .NET CLR 3.0.30729)\", \"c\": null, \"nk\": 0, \"tz\": \"\", \"g\": \"FOlpyK\", \"h\": \"yK8zBm\", \"l\": \"twitterfeed\", \"al\": \"en-us\", \"hh\": \"1.usa.gov\", \"r\": \"http:\\\\/\\\\/www.facebook.com\\\\/l.php?u=http%3A%2F%2F1.usa.gov%2FyK8zBm%3Fref%3Dnf&h=wAQEYZupfAQE5RnHnTN6bRF-7AxZQXhxNkSbyfDNmJwynRw\", \"u\": \"http:\\\\/\\\\/www.nasa.gov\\\\/mission_pages\\\\/station\\\\/multimedia\\\\/gallery\\\\/jsc2012e034742.html?utm_medium=facebook&utm_source=twitterfeed\", \"t\": 1331923397, \"hc\": 1331921292 }\\n',\n",
       " '{ \"a\": \"Mozilla\\\\/5.0 (Windows NT 6.1; WOW64; rv:10.0.2) Gecko\\\\/20100101 Firefox\\\\/10.0.2\", \"c\": null, \"nk\": 1, \"tz\": \"\", \"g\": \"vNJS4H\", \"h\": \"u0uD9q\", \"l\": \"o_4us71ccioa\", \"al\": \"en-us,en;q=0.5\", \"hh\": \"1.usa.gov\", \"r\": \"direct\", \"u\": \"https:\\\\/\\\\/www.nysdot.gov\\\\/rexdesign\\\\/design\\\\/community.gif\", \"t\": 1331923398, \"hc\": 1319563556 }\\n',\n",
       " '{ \"a\": \"Mozilla\\\\/4.0 (compatible; MSIE 8.0; Windows NT 6.1; Trident\\\\/4.0; BTRS1088340; SLCC2; .NET CLR 2.0.50727; .NET CLR 3.5.30729; .NET CLR 3.0.30729; Media Center PC 6.0)\", \"c\": \"ES\", \"nk\": 0, \"tz\": \"Europe\\\\/Madrid\", \"gr\": \"60\", \"g\": \"vZKptr\", \"h\": \"sn6kax\", \"l\": \"nasatwitter\", \"al\": \"es-ES\", \"hh\": \"go.nasa.gov\", \"r\": \"http:\\\\/\\\\/t.co\\\\/heipk8Yn\", \"u\": \"http:\\\\/\\\\/earthobservatory.nasa.gov\\\\/IOTD\\\\/view.php?id=76382\", \"t\": 1331923399, \"hc\": 1321047593, \"cy\": \"Torrevieja\", \"ll\": [ 37.983299, -0.683300 ] }\\n',\n",
       " '{ \"a\": \"Mozilla\\\\/5.0 (iPhone; CPU iPhone OS 5_0_1 like Mac OS X) AppleWebKit\\\\/534.46 (KHTML, like Gecko) Version\\\\/5.1 Mobile\\\\/9A405 Safari\\\\/7534.48.3\", \"c\": \"JP\", \"nk\": 0, \"tz\": \"Asia\\\\/Tokyo\", \"gr\": \"40\", \"g\": \"ADyqfM\", \"h\": \"wG2V7Z\", \"l\": \"twipple\", \"al\": \"ja-jp\", \"hh\": \"1.usa.gov\", \"r\": \"http:\\\\/\\\\/t.co\\\\/D8ibRiEa\", \"u\": \"http:\\\\/\\\\/www.ncbi.nlm.nih.gov\\\\/pubmed\\\\/22420016\", \"t\": 1331923397, \"hc\": 1331908395, \"cy\": \"Tokyo\", \"ll\": [ 35.685001, 139.751404 ] }\\n',\n",
       " '{ \"a\": \"Mozilla\\\\/5.0 (Macintosh; Intel Mac OS X 10_7_3) AppleWebKit\\\\/535.11 (KHTML, like Gecko) Chrome\\\\/17.0.963.79 Safari\\\\/535.11\", \"c\": \"US\", \"nk\": 0, \"tz\": \"America\\\\/Denver\", \"gr\": \"UT\", \"g\": \"wcndER\", \"h\": \"zkpJBR\", \"l\": \"bnjacobs\", \"al\": \"en-US,en;q=0.8\", \"hh\": \"1.usa.gov\", \"r\": \"http:\\\\/\\\\/www.facebook.com\\\\/?ref=logo\", \"u\": \"http:\\\\/\\\\/www.nasa.gov\\\\/mission_pages\\\\/nustar\\\\/main\\\\/index.html\", \"t\": 1331923400, \"hc\": 1331922854, \"cy\": \"American Fork\", \"ll\": [ 40.393002, -111.783798 ] }\\n',\n",
       " '{ \"a\": \"Mozilla\\\\/5.0 (PLAYSTATION 3 4.11) AppleWebKit\\\\/531.22.8 (KHTML, like Gecko)\", \"c\": \"GB\", \"nk\": 0, \"tz\": \"Europe\\\\/London\", \"gr\": \"N2\", \"g\": \"wcndER\", \"h\": \"zkpJBR\", \"l\": \"bnjacobs\", \"al\": \"en\", \"hh\": \"1.usa.gov\", \"r\": \"http:\\\\/\\\\/m.facebook.com\\\\/l.php?u=http%3A%2F%2F1.usa.gov%2FzkpJBR&h=tAQFN4Zq2&enc=AZNRPLGLd_maVCrBe5imtFEH1KRvR_TF3SluUB3NJua9ZIV51VNReKTXY1P8MG81nfbKtjDESVMSpm9-PXkiCKX-29y-8PfhHmI5zsi8bkNYynP5b8es-PhPmF96B4oey0WucWBu8LO72vj_HQ5FGjgLXoU0lQDZD-dQEpY3KaycnTJ5_YtT-JsP6y8sRQSf3dM\", \"u\": \"http:\\\\/\\\\/www.nasa.gov\\\\/mission_pages\\\\/nustar\\\\/main\\\\/index.html\", \"t\": 1331923405, \"hc\": 1331922854, \"cy\": \"Stockport\", \"ll\": [ 53.400002, -2.150000 ] }\\n',\n",
       " '{ \"a\": \"Mozilla\\\\/4.0 (compatible; MSIE 8.0; Windows NT 5.1; Trident\\\\/4.0; .NET CLR 1.1.4322; .NET CLR 2.0.50727; .NET CLR 3.0.4506.2152; .NET CLR 3.5.30729)\", \"c\": null, \"nk\": 0, \"tz\": \"\", \"g\": \"yH38dS\", \"h\": \"yQxrto\", \"l\": \"prevention\", \"al\": \"ru\", \"hh\": \"1.usa.gov\", \"r\": \"http:\\\\/\\\\/yandex.ru\\\\/yandsearch?text=1.usa.gov&lr=213\", \"u\": \"http:\\\\/\\\\/healthfinder.gov\\\\/prevention\\\\/ViewTopic.aspx?topicID=89&cnt=1&areaID=1&TopicContentID=662\", \"t\": 1331923406, \"hc\": 1331555496 }\\n',\n",
       " '{ \"a\": \"Mozilla\\\\/5.0 (Windows NT 6.1; WOW64; rv:10.0.2) Gecko\\\\/20100101 Firefox\\\\/10.0.2\", \"c\": \"US\", \"nk\": 1, \"tz\": \"America\\\\/New_York\", \"gr\": \"NC\", \"g\": \"vNJS4H\", \"h\": \"u0uD9q\", \"l\": \"o_4us71ccioa\", \"al\": \"en-us,en;q=0.5\", \"hh\": \"1.usa.gov\", \"r\": \"direct\", \"u\": \"https:\\\\/\\\\/www.nysdot.gov\\\\/rexdesign\\\\/design\\\\/community.gif\", \"t\": 1331923406, \"hc\": 1319563556, \"cy\": \"Raleigh\", \"ll\": [ 35.871300, -78.539398 ] }\\n',\n",
       " '{ \"a\": \"Mozilla\\\\/4.0 (compatible; MSIE 7.0; Windows NT 5.1; .NET CLR 1.1.4322; .NET CLR 2.0.50727; .NET CLR 3.0.04506.648; .NET CLR 3.5.21022; InfoPath.2; .NET CLR 3.0.4506.2152; .NET CLR 3.5.30729; .NET4.0C; .NET4.0E)\", \"c\": \"US\", \"nk\": 1, \"tz\": \"Pacific\\\\/Honolulu\", \"gr\": \"HI\", \"g\": \"FO8qn8\", \"h\": \"zGDswc\", \"l\": \"kcatian\", \"al\": \"en-us\", \"hh\": \"1.usa.gov\", \"r\": \"direct\", \"u\": \"http:\\\\/\\\\/www.cnic.navy.mil\\\\/navycni\\\\/groups\\\\/public\\\\/@hawaii\\\\/documents\\\\/document\\\\/cnicp_a286591.pdf\", \"t\": 1331923407, \"hc\": 1331922709, \"kw\": \"SBXreturns\", \"cy\": \"Mililani\", \"ll\": [ 21.470100, -157.963699 ] }\\n',\n",
       " '{ \"a\": \"Mozilla\\\\/5.0 (Windows NT 6.1; WOW64) AppleWebKit\\\\/535.11 (KHTML, like Gecko) Chrome\\\\/17.0.963.79 Safari\\\\/535.11\", \"c\": \"US\", \"nk\": 0, \"tz\": \"America\\\\/Chicago\", \"gr\": \"IA\", \"g\": \"ylOsCN\", \"h\": \"xuTIrh\", \"l\": \"addthis\", \"al\": \"en-GB,en-US;q=0.8,en;q=0.6\", \"hh\": \"1.usa.gov\", \"r\": \"http:\\\\/\\\\/www.facebook.com\\\\/l.php?u=http%3A%2F%2Ft.co%2FTvgD1PCw&h=JAQGzYNadAQEm7dtLdMSqw7cLaSNMHz4RjC1xu8bD-TBy2A\", \"u\": \"http:\\\\/\\\\/www.whitehouse.gov\\\\/blog\\\\/2012\\\\/03\\\\/15\\\\/breaking-cycle-poverty-micofinancing-community#.T2LYWC7kbsA.twitter\", \"t\": 1331923408, \"hc\": 1331877976, \"cy\": \"Grinnell\", \"ll\": [ 41.721699, -92.717598 ] }\\n',\n",
       " '{ \"a\": \"Mozilla\\\\/4.0 (compatible; MSIE 8.0; Windows NT 5.1; Trident\\\\/4.0; .NET CLR 1.1.4322; .NET CLR 2.0.50727; .NET CLR 3.0.4506.2152; .NET CLR 3.5.30729; InfoPath.2; .NET4.0C; .NET4.0E)\", \"c\": \"US\", \"nk\": 0, \"tz\": \"America\\\\/New_York\", \"gr\": \"VA\", \"g\": \"lvbSol\", \"h\": \"lvbSol\", \"l\": \"bitly\", \"al\": \"en-us\", \"hh\": \"1.usa.gov\", \"r\": \"http:\\\\/\\\\/nationalmap.gov\\\\/\", \"u\": \"http:\\\\/\\\\/nationalmap.gov\\\\/ustopo\\\\/about.html\", \"t\": 1331923409, \"hc\": 1307117230, \"cy\": \"Ashburn\", \"ll\": [ 39.016499, -77.506203 ] }\\n',\n",
       " '{ \"a\": \"Mozilla\\\\/5.0 (compatible; MSIE 9.0; Windows NT 6.1; WOW64; Trident\\\\/5.0)\", \"c\": \"AT\", \"nk\": 1, \"tz\": \"Europe\\\\/Vienna\", \"gr\": \"07\", \"g\": \"zVaKNZ\", \"h\": \"xvZdKK\", \"l\": \"twitterfeed\", \"al\": \"de-DE\", \"hh\": \"1.usa.gov\", \"r\": \"http:\\\\/\\\\/www.facebook.com\\\\/l.php?u=http%3A%2F%2F1.usa.gov%2FxvZdKK%3Fref%3Dnf&h=xAQFusiNsAQG8thDxSNkb9OxsA2dR3FDLTAovKUWME4cypQ\", \"u\": \"http:\\\\/\\\\/www.nasa.gov\\\\/mission_pages\\\\/station\\\\/multimedia\\\\/gallery\\\\/jsc2012e034775.html?utm_medium=facebook&utm_source=twitterfeed\", \"t\": 1331923411, \"hc\": 1331921291, \"cy\": \"Jochberg\", \"ll\": [ 47.383301, 12.400000 ] }\\n',\n",
       " '{\"_heartbeat_\":1331923411}\\n',\n",
       " '{ \"a\": \"Mozilla\\\\/5.0 (Windows NT 6.1; WOW64; rv:10.0.2) Gecko\\\\/20100101 Firefox\\\\/10.0.2\", \"c\": \"US\", \"nk\": 1, \"tz\": \"America\\\\/New_York\", \"gr\": \"FL\", \"g\": \"vNJS4H\", \"h\": \"u0uD9q\", \"l\": \"o_4us71ccioa\", \"al\": \"en-us,en;q=0.5\", \"hh\": \"1.usa.gov\", \"r\": \"direct\", \"u\": \"https:\\\\/\\\\/www.nysdot.gov\\\\/rexdesign\\\\/design\\\\/community.gif\", \"t\": 1331923411, \"hc\": 1319563556, \"cy\": \"Stuart\", \"ll\": [ 27.077499, -80.258698 ] }\\n',\n",
       " '{ \"a\": \"Mozilla\\\\/5.0 (Macintosh; Intel Mac OS X 10_6_6) AppleWebKit\\\\/535.11 (KHTML, like Gecko) Chrome\\\\/17.0.963.79 Safari\\\\/535.11\", \"c\": \"US\", \"nk\": 1, \"tz\": \"America\\\\/New_York\", \"gr\": \"NY\", \"g\": \"vNJS4H\", \"h\": \"u0uD9q\", \"l\": \"o_4us71ccioa\", \"al\": \"en-US,en;q=0.8\", \"hh\": \"1.usa.gov\", \"r\": \"direct\", \"u\": \"https:\\\\/\\\\/www.nysdot.gov\\\\/rexdesign\\\\/design\\\\/community.gif\", \"t\": 1331923412, \"hc\": 1319563556, \"cy\": \"White Plains\", \"ll\": [ 41.029099, -73.758003 ] }\\n',\n",
       " '{ \"a\": \"Mozilla\\\\/5.0 (Windows NT 6.1) AppleWebKit\\\\/535.11 (KHTML, like Gecko) Chrome\\\\/17.0.963.79 Safari\\\\/535.11\", \"c\": \"US\", \"nk\": 0, \"tz\": \"America\\\\/Denver\", \"gr\": \"CO\", \"g\": \"wcndER\", \"h\": \"zkpJBR\", \"l\": \"bnjacobs\", \"al\": \"en-US,en;q=0.8\", \"hh\": \"1.usa.gov\", \"r\": \"http:\\\\/\\\\/plus.url.google.com\\\\/url?sa=z&n=1331923411853&url=http%3A%2F%2F1.usa.gov%2FzkpJBR&usg=cOMvcsXf03bOirGgKcGDdR1lSHc.\", \"u\": \"http:\\\\/\\\\/www.nasa.gov\\\\/mission_pages\\\\/nustar\\\\/main\\\\/index.html\", \"t\": 1331923412, \"hc\": 1331922854, \"cy\": \"Denver\", \"ll\": [ 39.743698, -104.979301 ] }\\n',\n",
       " '{ \"a\": \"Mozilla\\\\/5.0 (Windows; U; Windows NT 6.0; en-US; rv:1.9.2.3) Gecko\\\\/20100401 Firefox\\\\/3.6.3 (.NET CLR 3.5.30729)\", \"c\": \"US\", \"nk\": 0, \"tz\": \"America\\\\/Chicago\", \"gr\": \"TX\", \"g\": \"zo1pHq\", \"h\": \"wugq31\", \"l\": \"o_6d9k7mcqae\", \"hh\": \"1.usa.gov\", \"r\": \"direct\", \"u\": \"http:\\\\/\\\\/www.whitehouse.gov\\\\/the-press-office\\\\/2012\\\\/01\\\\/18\\\\/statement-president-keystone-xl-pipeline\", \"t\": 1331923413, \"hc\": 1326918781, \"cy\": \"Dallas\", \"ll\": [ 32.782501, -96.820702 ] }\\n',\n",
       " '{ \"a\": \"Mozilla\\\\/4.0 (compatible; MSIE 7.0; Windows NT 5.1; .NET CLR 1.1.4322; .NET CLR 2.0.50727; InfoPath.1; .NET CLR 3.0.04506.648; .NET CLR 3.5.21022; InfoPath.2; .NET CLR 3.0.4506.2152; .NET CLR 3.5.30729; .NET4.0C; .NET4.0E)\", \"c\": \"US\", \"nk\": 1, \"tz\": \"Pacific\\\\/Honolulu\", \"gr\": \"HI\", \"g\": \"FO8qn8\", \"h\": \"zGDswc\", \"l\": \"kcatian\", \"al\": \"en-us\", \"hh\": \"1.usa.gov\", \"r\": \"direct\", \"u\": \"http:\\\\/\\\\/www.cnic.navy.mil\\\\/navycni\\\\/groups\\\\/public\\\\/@hawaii\\\\/documents\\\\/document\\\\/cnicp_a286591.pdf\", \"t\": 1331923415, \"hc\": 1331922709, \"kw\": \"SBXreturns\", \"cy\": \"Mililani\", \"ll\": [ 21.470100, -157.963699 ] }\\n',\n",
       " '{ \"a\": \"Mozilla\\\\/5.0 (Linux; U; Android 2.3.4; en-us; DROID2 GLOBAL Build\\\\/4.5.1_57_D2GA-59) AppleWebKit\\\\/533.1 (KHTML, like Gecko) Version\\\\/4.0 Mobile Safari\\\\/533.1\", \"c\": \"US\", \"nk\": 0, \"tz\": \"America\\\\/New_York\", \"gr\": \"MI\", \"g\": \"xXXY0s\", \"h\": \"FOgTq7\", \"l\": \"vangheem\", \"al\": \"en-US\", \"hh\": \"1.usa.gov\", \"r\": \"http:\\\\/\\\\/t.co\\\\/hVJbTxoY\", \"u\": \"http:\\\\/\\\\/www.fbi.gov\\\\/news\\\\/pressrel\\\\/press-releases\\\\/fbi-director-recognizes-distinguished-community-leaders\", \"t\": 1331923415, \"hc\": 1331921421, \"cy\": \"Grand Rapids\", \"ll\": [ 42.938400, -85.643600 ] }\\n',\n",
       " '{ \"a\": \"Mozilla\\\\/5.0 (Windows NT 6.1; WOW64) AppleWebKit\\\\/535.11 (KHTML, like Gecko) Chrome\\\\/17.0.963.79 Safari\\\\/535.11\", \"c\": \"US\", \"nk\": 0, \"tz\": \"America\\\\/Phoenix\", \"gr\": \"AZ\", \"g\": \"wcndER\", \"h\": \"zkpJBR\", \"l\": \"bnjacobs\", \"al\": \"en-US,en;q=0.8\", \"hh\": \"1.usa.gov\", \"r\": \"http:\\\\/\\\\/www.facebook.com\\\\/\", \"u\": \"http:\\\\/\\\\/www.nasa.gov\\\\/mission_pages\\\\/nustar\\\\/main\\\\/index.html\", \"t\": 1331923415, \"hc\": 1331922854, \"cy\": \"Tucson\", \"ll\": [ 32.213200, -110.887299 ] }\\n',\n",
       " '{ \"a\": \"Mozilla\\\\/4.0 (compatible; MSIE 8.0; Windows NT 6.1; Trident\\\\/4.0; SLCC2; .NET CLR 2.0.50727; .NET CLR 3.5.30729; .NET CLR 3.0.30729; Media Center PC 6.0; .NET4.0C; .NET4.0E)\", \"c\": \"US\", \"nk\": 0, \"tz\": \"America\\\\/New_York\", \"gr\": \"GA\", \"g\": \"2rOUYc\", \"h\": \"2rOUYc\", \"l\": \"bitly\", \"al\": \"en-US\", \"hh\": \"1.usa.gov\", \"r\": \"direct\", \"u\": \"http:\\\\/\\\\/toxtown.nlm.nih.gov\\\\/index.php\", \"t\": 1331923417, \"hc\": 1255769846, \"cy\": \"Marietta\", \"ll\": [ 33.953201, -84.517700 ] }\\n',\n",
       " '{ \"a\": \"Mozilla\\\\/5.0 (Windows; U; Windows NT 6.1; en-US; rv:1.9.2.25) Gecko\\\\/20111212 Firefox\\\\/3.6.25\", \"c\": null, \"nk\": 1, \"tz\": \"\", \"g\": \"vNJS4H\", \"h\": \"u0uD9q\", \"l\": \"o_4us71ccioa\", \"al\": \"en-us,en;q=0.5\", \"hh\": \"1.usa.gov\", \"r\": \"direct\", \"u\": \"https:\\\\/\\\\/www.nysdot.gov\\\\/rexdesign\\\\/design\\\\/community.gif\", \"t\": 1331923420, \"hc\": 1319563556 }\\n',\n",
       " '{ \"a\": \"Mozilla\\\\/5.0 (Macintosh; U; PPC Mac OS X; en) AppleWebKit\\\\/417.9 (KHTML, like Gecko) Safari\\\\/417.8\", \"c\": \"US\", \"nk\": 0, \"tz\": \"America\\\\/Los_Angeles\", \"gr\": \"WA\", \"g\": \"zu2M5o\", \"h\": \"zDhdro\", \"l\": \"glimtwin\", \"hh\": \"1.usa.gov\", \"r\": \"direct\", \"u\": \"http:\\\\/\\\\/www.federalreserve.gov\\\\/newsevents\\\\/press\\\\/bcreg\\\\/bcreg20120312a1.pdf\", \"t\": 1331923422, \"hc\": 1331586192, \"cy\": \"Bellevue\", \"ll\": [ 47.615398, -122.210297 ] }\\n',\n",
       " '{ \"a\": \"Mozilla\\\\/5.0 (compatible; MSIE 9.0; Windows NT 6.1; WOW64; Trident\\\\/5.0)\", \"c\": \"PT\", \"nk\": 0, \"tz\": \"Europe\\\\/Lisbon\", \"gr\": \"14\", \"g\": \"wcndER\", \"h\": \"zkpJBR\", \"l\": \"bnjacobs\", \"al\": \"pt-PT\", \"hh\": \"1.usa.gov\", \"r\": \"http:\\\\/\\\\/www.facebook.com\\\\/\", \"u\": \"http:\\\\/\\\\/www.nasa.gov\\\\/mission_pages\\\\/nustar\\\\/main\\\\/index.html\", \"t\": 1331923422, \"hc\": 1331922854, \"cy\": \"Lisbon\", \"ll\": [ 38.716702, -9.133300 ] }\\n',\n",
       " '{ \"a\": \"Mozilla\\\\/5.0 (Macintosh; Intel Mac OS X 10_5_8) AppleWebKit\\\\/534.50.2 (KHTML, like Gecko) Version\\\\/5.0.6 Safari\\\\/533.22.3\", \"c\": \"US\", \"nk\": 0, \"tz\": \"America\\\\/Los_Angeles\", \"gr\": \"CA\", \"g\": \"vNJS4H\", \"h\": \"u0uD9q\", \"l\": \"o_4us71ccioa\", \"al\": \"en-us\", \"hh\": \"1.usa.gov\", \"r\": \"direct\", \"u\": \"https:\\\\/\\\\/www.nysdot.gov\\\\/rexdesign\\\\/design\\\\/community.gif\", \"t\": 1331923421, \"hc\": 1319563556, \"cy\": \"San Francisco\", \"ll\": [ 37.764500, -122.429398 ] }\\n',\n",
       " '{ \"a\": \"Mozilla\\\\/5.0 (Windows; U; Windows NT 6.1; en-US; rv:1.9.2.17) Gecko\\\\/20110420 Firefox\\\\/3.6.17\", \"c\": \"US\", \"nk\": 0, \"tz\": \"America\\\\/New_York\", \"gr\": \"GA\", \"g\": \"2rOUYc\", \"h\": \"2rOUYc\", \"l\": \"bitly\", \"al\": \"en-us,en;q=0.5\", \"hh\": \"1.usa.gov\", \"r\": \"direct\", \"u\": \"http:\\\\/\\\\/toxtown.nlm.nih.gov\\\\/index.php\", \"t\": 1331923424, \"hc\": 1255769846, \"cy\": \"Marietta\", \"ll\": [ 33.953201, -84.517700 ] }\\n',\n",
       " '{ \"a\": \"Mozilla\\\\/5.0 (Linux; U; Android 2.3.4; es-es; LG-E510 Build\\\\/GRJ22) AppleWebKit\\\\/533.1 (KHTML, like Gecko) Version\\\\/4.0 Mobile Safari\\\\/533.1\", \"c\": \"ES\", \"nk\": 1, \"tz\": \"Europe\\\\/Madrid\", \"gr\": \"31\", \"g\": \"wUsrEq\", \"h\": \"wUsrEq\", \"l\": \"bitly\", \"al\": \"es-ES, en-US\", \"hh\": \"1.usa.gov\", \"r\": \"http:\\\\/\\\\/t.co\\\\/s2zXjXQG\", \"u\": \"http:\\\\/\\\\/www.nasa.gov\\\\/topics\\\\/earth\\\\/features\\\\/seac4rs.html\", \"t\": 1331923424, \"hc\": 1331670810, \"cy\": \"Abanilla\", \"ll\": [ 38.200001, -1.050000 ] }\\n',\n",
       " '{ \"a\": \"Mozilla\\\\/5.0 (iPad; CPU OS 5_0_1 like Mac OS X) AppleWebKit\\\\/534.46 (KHTML, like Gecko) Version\\\\/5.1 Mobile\\\\/9A405 Safari\\\\/7534.48.3\", \"c\": null, \"nk\": 0, \"tz\": \"\", \"g\": \"vNJS4H\", \"h\": \"u0uD9q\", \"l\": \"o_4us71ccioa\", \"al\": \"en-us\", \"hh\": \"1.usa.gov\", \"r\": \"direct\", \"u\": \"https:\\\\/\\\\/www.nysdot.gov\\\\/rexdesign\\\\/design\\\\/community.gif\", \"t\": 1331923425, \"hc\": 1319563556 }\\n',\n",
       " '{ \"a\": \"Mozilla\\\\/4.0 (compatible; MSIE 7.0; Windows NT 5.1; .NET CLR 1.1.4322; .NET CLR 2.0.50727; InfoPath.1; .NET CLR 3.0.04506.648; .NET CLR 3.5.21022; InfoPath.2; .NET CLR 3.0.4506.2152; .NET CLR 3.5.30729; .NET4.0C; .NET4.0E)\", \"c\": \"US\", \"nk\": 1, \"tz\": \"Pacific\\\\/Honolulu\", \"gr\": \"HI\", \"g\": \"wGYiBu\", \"h\": \"xMA0ql\", \"l\": \"kcatian\", \"al\": \"en-us\", \"hh\": \"1.usa.gov\", \"r\": \"direct\", \"u\": \"http:\\\\/\\\\/www.navy.mil\\\\/search\\\\/display.asp?story_id=65910\", \"t\": 1331923426, \"hc\": 1331922453, \"kw\": \"JEMSprovides\", \"cy\": \"Mililani\", \"ll\": [ 21.470100, -157.963699 ] }\\n',\n",
       " '{ \"a\": \"Mozilla\\\\/4.0 (compatible; MSIE 7.0; Windows NT 5.1; .NET CLR 1.1.4322; .NET CLR 2.0.50727; InfoPath.1; .NET CLR 3.0.04506.648; .NET CLR 3.5.21022; InfoPath.2; .NET CLR 3.0.4506.2152; .NET CLR 3.5.30729; .NET4.0C; .NET4.0E)\", \"c\": \"US\", \"nk\": 1, \"tz\": \"Pacific\\\\/Honolulu\", \"gr\": \"HI\", \"g\": \"wGYiBu\", \"h\": \"xMA0ql\", \"l\": \"kcatian\", \"al\": \"en-us\", \"hh\": \"1.usa.gov\", \"r\": \"direct\", \"u\": \"http:\\\\/\\\\/www.navy.mil\\\\/search\\\\/display.asp?story_id=65910\", \"t\": 1331923427, \"hc\": 1331922453, \"kw\": \"JEMSprovides\", \"cy\": \"Mililani\", \"ll\": [ 21.470100, -157.963699 ] }\\n',\n",
       " '{ \"a\": \"GoogleMaps\\\\/RochesterNY\", \"c\": \"US\", \"nk\": 0, \"tz\": \"America\\\\/Denver\", \"gr\": \"UT\", \"g\": \"mwszkS\", \"h\": \"mwszkS\", \"l\": \"bitly\", \"hh\": \"j.mp\", \"r\": \"http:\\\\/\\\\/www.AwareMap.com\\\\/\", \"u\": \"http:\\\\/\\\\/www.monroecounty.gov\\\\/etc\\\\/911\\\\/rss.php\", \"t\": 1331923427, \"hc\": 1308262393, \"cy\": \"Provo\", \"ll\": [ 40.218102, -111.613297 ] }\\n',\n",
       " '{ \"a\": \"Mozilla\\\\/5.0 (Windows NT 6.1; WOW64; rv:10.0.2) Gecko\\\\/20100101 Firefox\\\\/10.0.2\", \"c\": \"US\", \"nk\": 1, \"tz\": \"America\\\\/Chicago\", \"gr\": \"MN\", \"g\": \"xUIp8X\", \"h\": \"yxRl4K\", \"l\": \"james812\", \"al\": \"en-us,en;q=0.5\", \"hh\": \"1.usa.gov\", \"r\": \"http:\\\\/\\\\/t.co\\\\/fwPCJhAw\", \"u\": \"http:\\\\/\\\\/www.nasa.gov\\\\/mission_pages\\\\/WISE\\\\/news\\\\/wise20120314.html\", \"t\": 1331923426, \"hc\": 1331922665, \"cy\": \"Saint Paul\", \"ll\": [ 44.948700, -93.100197 ] }\\n',\n",
       " '{ \"a\": \"Mozilla\\\\/5.0 (Windows; U; Windows NT 6.1; en-US; rv:1.9.2.27) Gecko\\\\/20120216 Firefox\\\\/3.6.27\", \"c\": \"US\", \"nk\": 1, \"tz\": \"America\\\\/Los_Angeles\", \"gr\": \"CA\", \"g\": \"vNJS4H\", \"h\": \"u0uD9q\", \"l\": \"o_4us71ccioa\", \"al\": \"en-us,en;q=0.5\", \"hh\": \"1.usa.gov\", \"r\": \"direct\", \"u\": \"https:\\\\/\\\\/www.nysdot.gov\\\\/rexdesign\\\\/design\\\\/community.gif\", \"t\": 1331923426, \"hc\": 1319563556, \"cy\": \"San Jose\", \"ll\": [ 37.387402, -121.902397 ] }\\n',\n",
       " '{ \"a\": \"Mozilla\\\\/5.0 (Macintosh; Intel Mac OS X 10_6_8) AppleWebKit\\\\/535.11 (KHTML, like Gecko) Chrome\\\\/17.0.963.79 Safari\\\\/535.11\", \"c\": \"CA\", \"nk\": 0, \"tz\": \"America\\\\/Rainy_River\", \"gr\": \"ON\", \"g\": \"xfbT10\", \"h\": \"xIeSKS\", \"l\": \"chspress\", \"al\": \"en-US,en;q=0.8\", \"hh\": \"1.usa.gov\", \"r\": \"http:\\\\/\\\\/www.facebook.com\\\\/l.php?u=http%3A%2F%2F1.usa.gov%2FxIeSKS&h=KAQGwFyP2AQHOZoLU3EYbbSL_UAz83j-m1YAM4PwvCqYqwg\", \"u\": \"http:\\\\/\\\\/homeland.house.gov\\\\/press-release\\\\/homeland-security-counterterrorism-and-intelligence-subcommittee-hold-field-hearing\", \"t\": 1331923427, \"hc\": 1331921096, \"cy\": \"Ottawa\", \"ll\": [ 45.416698, -75.699997 ] }\\n',\n",
       " '{ \"a\": \"Opera\\\\/9.80 (Windows NT 6.2; U; en) Presto\\\\/2.10.229 Version\\\\/11.61\", \"c\": null, \"nk\": 0, \"tz\": \"\", \"g\": \"wcndER\", \"h\": \"zkpJBR\", \"l\": \"bnjacobs\", \"al\": \"sk-SK,sk;q=0.9,en;q=0.8\", \"hh\": \"1.usa.gov\", \"r\": \"http:\\\\/\\\\/www.facebook.com\\\\/\", \"u\": \"http:\\\\/\\\\/www.nasa.gov\\\\/mission_pages\\\\/nustar\\\\/main\\\\/index.html\", \"t\": 1331923427, \"hc\": 1331922854 }\\n',\n",
       " '{ \"a\": \"Mozilla\\\\/4.0 (compatible; MSIE 8.0; Windows NT 6.1; WOW64; Trident\\\\/4.0; SLCC2; .NET CLR 2.0.50727; .NET CLR 3.5.30729; .NET CLR 3.0.30729; Media Center PC 6.0; .NET4.0C; InfoPath.2)\", \"c\": \"US\", \"nk\": 0, \"tz\": \"America\\\\/Chicago\", \"gr\": \"TX\", \"g\": \"A3v2zG\", \"h\": \"xNo0xw\", \"l\": \"o_4pn5jefgl1\", \"al\": \"en-us\", \"hh\": \"1.usa.gov\", \"r\": \"direct\", \"u\": \"http:\\\\/\\\\/www.srh.noaa.gov\\\\/epz\\\\/?n=significantweatherbriefing\", \"t\": 1331923431, \"hc\": 1331007307, \"cy\": \"El Paso\", \"ll\": [ 31.815201, -106.424004 ] }\\n',\n",
       " '{ \"a\": \"Mozilla\\\\/5.0 (Windows NT 6.1; WOW64) AppleWebKit\\\\/535.11 (KHTML, like Gecko) Chrome\\\\/17.0.963.79 Safari\\\\/535.11\", \"c\": \"IL\", \"nk\": 0, \"tz\": \"Asia\\\\/Jerusalem\", \"gr\": \"03\", \"g\": \"wcndER\", \"h\": \"zkpJBR\", \"l\": \"bnjacobs\", \"al\": \"en-US,en;q=0.8\", \"hh\": \"1.usa.gov\", \"r\": \"http:\\\\/\\\\/www.facebook.com\\\\/l.php?u=http%3A%2F%2F1.usa.gov%2FzkpJBR&h=PAQFVNMV1AQFcnRCto3CJUBw11iRUXFzWcFsJX6s31lORhw\", \"u\": \"http:\\\\/\\\\/www.nasa.gov\\\\/mission_pages\\\\/nustar\\\\/main\\\\/index.html\", \"t\": 1331923433, \"hc\": 1331922854, \"cy\": \"Nazareth\", \"ll\": [ 32.703602, 35.295601 ] }\\n',\n",
       " '{ \"a\": \"Mozilla\\\\/5.0 (Windows NT 6.1; WOW64; rv:10.0.2) Gecko\\\\/20100101 Firefox\\\\/10.0.2\", \"c\": \"IE\", \"nk\": 0, \"tz\": \"Europe\\\\/Dublin\", \"gr\": \"07\", \"g\": \"wcndER\", \"h\": \"zkpJBR\", \"l\": \"bnjacobs\", \"al\": \"en-gb,en;q=0.5\", \"hh\": \"1.usa.gov\", \"r\": \"http:\\\\/\\\\/www.facebook.com\\\\/l.php?u=http%3A%2F%2F1.usa.gov%2FzkpJBR&h=-AQHX6oIkAQEjr5tcWeleE2WuzWinIqfeHaAPswScsa-ztg\", \"u\": \"http:\\\\/\\\\/www.nasa.gov\\\\/mission_pages\\\\/nustar\\\\/main\\\\/index.html\", \"t\": 1331923434, \"hc\": 1331922854, \"cy\": \"Dublin\", \"ll\": [ 53.333099, -6.248900 ] }\\n',\n",
       " '{ \"a\": \"Mozilla\\\\/5.0 (Windows NT 6.1; WOW64; rv:8.0.1) Gecko\\\\/20100101 Firefox\\\\/8.0.1\", \"c\": \"US\", \"nk\": 0, \"tz\": \"America\\\\/New_York\", \"gr\": \"CT\", \"g\": \"wcndER\", \"h\": \"zkpJBR\", \"l\": \"bnjacobs\", \"al\": \"en-us,en;q=0.5\", \"hh\": \"1.usa.gov\", \"r\": \"http:\\\\/\\\\/www.facebook.com\\\\/\", \"u\": \"http:\\\\/\\\\/www.nasa.gov\\\\/mission_pages\\\\/nustar\\\\/main\\\\/index.html\", \"t\": 1331923435, \"hc\": 1331922854, \"cy\": \"North Haven\", \"ll\": [ 41.383400, -72.862602 ] }\\n',\n",
       " '{ \"a\": \"Mozilla\\\\/5.0 (Windows NT 6.1) AppleWebKit\\\\/535.11 (KHTML, like Gecko) Chrome\\\\/17.0.963.79 Safari\\\\/535.11\", \"c\": \"PK\", \"nk\": 0, \"tz\": \"Asia\\\\/Karachi\", \"gr\": \"05\", \"g\": \"wcndER\", \"h\": \"zkpJBR\", \"l\": \"bnjacobs\", \"al\": \"en-US,en;q=0.8\", \"hh\": \"1.usa.gov\", \"r\": \"http:\\\\/\\\\/www.facebook.com\\\\/l.php?u=http%3A%2F%2F1.usa.gov%2FzkpJBR&h=IAQHCysUJAQEd1g_7_ePxPcmJk0mkM6A3s7leMTc-F6_cdA\", \"u\": \"http:\\\\/\\\\/www.nasa.gov\\\\/mission_pages\\\\/nustar\\\\/main\\\\/index.html\", \"t\": 1331923434, \"hc\": 1331922854, \"cy\": \"Karachi\", \"ll\": [ 24.866699, 67.050003 ] }\\n',\n",
       " '{ \"a\": \"Mozilla\\\\/5.0 (Macintosh; U; Intel Mac OS X 10.6; en-US; rv:1.9.2.28) Gecko\\\\/20120306 Firefox\\\\/3.6.28\", \"c\": \"US\", \"nk\": 1, \"tz\": \"America\\\\/Los_Angeles\", \"gr\": \"CA\", \"g\": \"vNJS4H\", \"h\": \"u0uD9q\", \"l\": \"o_4us71ccioa\", \"al\": \"en-us,en;q=0.5\", \"hh\": \"1.usa.gov\", \"r\": \"direct\", \"u\": \"https:\\\\/\\\\/www.nysdot.gov\\\\/rexdesign\\\\/design\\\\/community.gif\", \"t\": 1331923436, \"hc\": 1319563556, \"cy\": \"Danville\", \"ll\": [ 37.812901, -121.974297 ] }\\n',\n",
       " '{ \"a\": \"Mozilla\\\\/4.0 (compatible; MSIE 7.0; Windows NT 5.1; .NET CLR 1.1.4322; .NET CLR 2.0.50727; .NET CLR 3.0.04506.648; .NET CLR 3.5.21022; .NET CLR 3.0.4506.2152; .NET CLR 3.5.30729; InfoPath.2; .NET4.0C; .NET4.0E)\", \"c\": \"US\", \"nk\": 1, \"tz\": \"Pacific\\\\/Honolulu\", \"gr\": \"HI\", \"g\": \"FO8qn8\", \"h\": \"zGDswc\", \"l\": \"kcatian\", \"al\": \"en-us\", \"hh\": \"1.usa.gov\", \"r\": \"direct\", \"u\": \"http:\\\\/\\\\/www.cnic.navy.mil\\\\/navycni\\\\/groups\\\\/public\\\\/@hawaii\\\\/documents\\\\/document\\\\/cnicp_a286591.pdf\", \"t\": 1331923437, \"hc\": 1331922709, \"kw\": \"SBXreturns\", \"cy\": \"Mililani\", \"ll\": [ 21.470100, -157.963699 ] }\\n',\n",
       " '{ \"a\": \"Mozilla\\\\/5.0 (compatible; MSIE 9.0; Windows NT 6.1; WOW64; Trident\\\\/5.0)\", \"c\": \"AT\", \"nk\": 1, \"tz\": \"Europe\\\\/Vienna\", \"gr\": \"07\", \"g\": \"y4NeMN\", \"h\": \"FOehY1\", \"l\": \"twitterfeed\", \"al\": \"de-DE\", \"hh\": \"1.usa.gov\", \"r\": \"http:\\\\/\\\\/www.facebook.com\\\\/l.php?u=http%3A%2F%2F1.usa.gov%2FFOehY1%3Fref%3Dnf&h=mAQGvpjVlAQFnemoO7Gx8TVUmitPmDwFkeEE3EPpH7qb4Iw\", \"u\": \"http:\\\\/\\\\/www.nasa.gov\\\\/mission_pages\\\\/station\\\\/multimedia\\\\/gallery\\\\/jsc2012e034747.html?utm_medium=facebook&utm_source=twitterfeed\", \"t\": 1331923436, \"hc\": 1331921292, \"cy\": \"Jochberg\", \"ll\": [ 47.383301, 12.400000 ] }\\n',\n",
       " '{ \"a\": \"Mozilla\\\\/4.0 (compatible; MSIE 7.0; Windows NT 5.1; .NET CLR 1.1.4322; .NET CLR 2.0.50727; .NET CLR 3.0.04506.648; .NET CLR 3.5.21022; .NET CLR 3.0.4506.2152; .NET CLR 3.5.30729; InfoPath.2; .NET4.0C; .NET4.0E)\", \"c\": \"US\", \"nk\": 1, \"tz\": \"Pacific\\\\/Honolulu\", \"gr\": \"HI\", \"g\": \"FO8qn8\", \"h\": \"zGDswc\", \"l\": \"kcatian\", \"al\": \"en-us\", \"hh\": \"1.usa.gov\", \"r\": \"direct\", \"u\": \"http:\\\\/\\\\/www.cnic.navy.mil\\\\/navycni\\\\/groups\\\\/public\\\\/@hawaii\\\\/documents\\\\/document\\\\/cnicp_a286591.pdf\", \"t\": 1331923438, \"hc\": 1331922709, \"kw\": \"SBXreturns\", \"cy\": \"Mililani\", \"ll\": [ 21.470100, -157.963699 ] }\\n',\n",
       " '{ \"a\": \"Mozilla\\\\/4.0 (compatible; MSIE 8.0; Windows NT 6.1; WOW64; Trident\\\\/4.0; SLCC2; .NET CLR 2.0.50727; .NET CLR 3.5.30729; .NET CLR 3.0.30729; Media Center PC 6.0; .NET4.0C; InfoPath.2)\", \"c\": \"US\", \"nk\": 0, \"tz\": \"America\\\\/Chicago\", \"gr\": \"TX\", \"g\": \"yddjhE\", \"h\": \"wJvw8Z\", \"l\": \"o_4pn5jefgl1\", \"al\": \"en-US\", \"hh\": \"1.usa.gov\", \"r\": \"http:\\\\/\\\\/www.srh.noaa.gov\\\\/epz\\\\/?n=significantweatherbriefing\", \"u\": \"http:\\\\/\\\\/www.srh.noaa.gov\\\\/media\\\\/epz\\\\/sigwxbrief\\\\/sigwxbrief.mp4\", \"t\": 1331923439, \"hc\": 1331888652, \"cy\": \"El Paso\", \"ll\": [ 31.815201, -106.424004 ] }\\n',\n",
       " '{\"_heartbeat_\":1331923441}\\n',\n",
       " '{ \"a\": \"Mozilla\\\\/5.0 (iPhone; CPU iPhone OS 5_1 like Mac OS X) AppleWebKit\\\\/534.46 (KHTML, like Gecko) Mobile\\\\/9B179\", \"c\": \"US\", \"nk\": 0, \"tz\": \"America\\\\/New_York\", \"gr\": \"GA\", \"g\": \"ws4T1t\", \"h\": \"xVDLzl\", \"l\": \"tweetdeckapi\", \"al\": \"en-us\", \"hh\": \"1.usa.gov\", \"r\": \"direct\", \"u\": \"http:\\\\/\\\\/www.nasa.gov\\\\/mission_pages\\\\/WISE\\\\/news\\\\/wise20120110.html\", \"t\": 1331923441, \"hc\": 1331904266, \"cy\": \"Atlanta\", \"ll\": [ 33.827400, -84.324402 ] }\\n',\n",
       " '{ \"a\": \"Mozilla\\\\/5.0 (Windows; U; Windows NT 6.0; en-US; rv:1.9.2.3) Gecko\\\\/20100401 Firefox\\\\/3.6.3 (.NET CLR 3.5.30729)\", \"c\": \"US\", \"nk\": 0, \"tz\": \"America\\\\/Chicago\", \"gr\": \"TX\", \"g\": \"sKkQdR\", \"h\": \"xrLgJa\", \"l\": \"o_6d9k7mcqae\", \"hh\": \"1.usa.gov\", \"r\": \"direct\", \"u\": \"http:\\\\/\\\\/www.nmfs.noaa.gov\\\\/pr\\\\/permits\\\\/eis\\\\/arctic.htm\", \"t\": 1331923441, \"hc\": 1326809608, \"cy\": \"Dallas\", \"ll\": [ 32.782501, -96.820702 ] }\\n',\n",
       " '{ \"a\": \"Mozilla\\\\/5.0 (Linux; U; Android 2.3.4; es-es; LG-E510 Build\\\\/GRJ22) AppleWebKit\\\\/533.1 (KHTML, like Gecko) Version\\\\/4.0 Mobile Safari\\\\/533.1\", \"c\": \"ES\", \"nk\": 1, \"tz\": \"Europe\\\\/Madrid\", \"gr\": \"31\", \"g\": \"xVZg4P\", \"h\": \"wqUkTo\", \"l\": \"nasatwitter\", \"al\": \"es-ES, en-US\", \"hh\": \"go.nasa.gov\", \"r\": \"http:\\\\/\\\\/t.co\\\\/UKGBxj29\", \"u\": \"http:\\\\/\\\\/www.nasa.gov\\\\/multimedia\\\\/imagegallery\\\\/image_feature_2199.html\", \"t\": 1331923440, \"hc\": 1331908247, \"cy\": \"Abanilla\", \"ll\": [ 38.200001, -1.050000 ] }\\n',\n",
       " '{ \"a\": \"GoogleMaps\\\\/RochesterNY\", \"c\": \"US\", \"nk\": 0, \"tz\": \"America\\\\/Denver\", \"gr\": \"UT\", \"g\": \"mwszkS\", \"h\": \"mwszkS\", \"l\": \"bitly\", \"hh\": \"1.usa.gov\", \"r\": \"http:\\\\/\\\\/www.AwareMap.com\\\\/\", \"u\": \"http:\\\\/\\\\/www.monroecounty.gov\\\\/etc\\\\/911\\\\/rss.php\", \"t\": 1331923443, \"hc\": 1308262393, \"cy\": \"Provo\", \"ll\": [ 40.218102, -111.613297 ] }\\n',\n",
       " '{ \"a\": \"Mozilla\\\\/4.0 (compatible; MSIE 8.0; Windows NT 6.1; Trident\\\\/4.0; GTB7.3; SLCC2; .NET CLR 2.0.50727; .NET CLR 3.5.30729; .NET CLR 3.0.30729; Media Center PC 6.0; Tablet PC 2.0; InfoPath.2)\", \"c\": \"CO\", \"nk\": 0, \"tz\": \"America\\\\/Bogota\", \"gr\": \"33\", \"g\": \"xVZg4P\", \"h\": \"wqUkTo\", \"l\": \"nasatwitter\", \"al\": \"es-CO\", \"hh\": \"go.nasa.gov\", \"r\": \"http:\\\\/\\\\/t.co\\\\/UKGBxj29\", \"u\": \"http:\\\\/\\\\/www.nasa.gov\\\\/multimedia\\\\/imagegallery\\\\/image_feature_2199.html\", \"t\": 1331923442, \"hc\": 1331908247, \"cy\": \"Bogot\", \"ll\": [ 4.600000, -74.083298 ] }\\n',\n",
       " '{ \"a\": \"Mozilla\\\\/5.0 (Windows NT 6.1; rv:10.0.2) Gecko\\\\/20100101 Firefox\\\\/10.0.2\", \"c\": \"US\", \"nk\": 1, \"tz\": \"America\\\\/Indianapolis\", \"gr\": \"IN\", \"g\": \"twgNmm\", \"h\": \"uCfNUi\", \"l\": \"michaelmcauliff\", \"al\": \"en-us,en;q=0.5\", \"hh\": \"bit.ly\", \"r\": \"http:\\\\/\\\\/www.huffingtonpost.com\\\\/2011\\\\/12\\\\/15\\\\/indefinite-military-detention-bill-passes_n_1152114.html\", \"u\": \"http:\\\\/\\\\/www.rules.house.gov\\\\/Media\\\\/file\\\\/PDF_112_1\\\\/legislativetext\\\\/HR1540conf.pdf\", \"t\": 1331923442, \"hc\": 1323789620, \"cy\": \"Fishers\", \"ll\": [ 39.960999, -85.983704 ] }\\n',\n",
       " '{ \"a\": \"Mozilla\\\\/5.0 (Windows NT 6.1; WOW64) AppleWebKit\\\\/535.11 (KHTML, like Gecko) Chrome\\\\/17.0.963.79 Safari\\\\/535.11\", \"c\": null, \"nk\": 0, \"tz\": \"\", \"g\": \"wcndER\", \"h\": \"zkpJBR\", \"l\": \"bnjacobs\", \"al\": \"es,ca;q=0.8,en-GB;q=0.6,en;q=0.4\", \"hh\": \"1.usa.gov\", \"r\": \"http:\\\\/\\\\/www.facebook.com\\\\/l.php?u=http%3A%2F%2F1.usa.gov%2FzkpJBR&h=dAQHmv-cyAQHzXclaO7-rCMAWEslajnPOKrcBLvIZ0Qr0sA\", \"u\": \"http:\\\\/\\\\/www.nasa.gov\\\\/mission_pages\\\\/nustar\\\\/main\\\\/index.html\", \"t\": 1331923445, \"hc\": 1331922854 }\\n',\n",
       " '{ \"a\": \"Mozilla\\\\/5.0 (Macintosh; Intel Mac OS X 10_6_8) AppleWebKit\\\\/535.11 (KHTML, like Gecko) Chrome\\\\/17.0.963.79 Safari\\\\/535.11\", \"c\": \"CA\", \"nk\": 1, \"tz\": \"America\\\\/Rainy_River\", \"gr\": \"ON\", \"g\": \"yAA8LQ\", \"h\": \"wZidfX\", \"l\": \"chspress\", \"al\": \"en-US,en;q=0.8\", \"hh\": \"1.usa.gov\", \"r\": \"http:\\\\/\\\\/www.facebook.com\\\\/l.php?u=http%3A%2F%2F1.usa.gov%2FwZidfX&h=eAQEv2e8sAQExzE5rABPlU1RChhwaw4ottMbTIIYgjKFliw\", \"u\": \"http:\\\\/\\\\/homeland.house.gov\\\\/press-release\\\\/look-ahead-house-committee-homeland-security-22\", \"t\": 1331923446, \"hc\": 1331919511, \"cy\": \"Ottawa\", \"ll\": [ 45.416698, -75.699997 ] }\\n',\n",
       " '{ \"a\": \"Mozilla\\\\/4.0 (compatible; MSIE 9.0; Windows NT 6.1)\", \"c\": \"US\", \"nk\": 1, \"tz\": \"America\\\\/New_York\", \"gr\": \"NJ\", \"g\": \"e5SvKE\", \"h\": \"fqPSr9\", \"l\": \"tweetdeckapi\", \"al\": \"en\", \"hh\": \"1.usa.gov\", \"r\": \"direct\", \"u\": \"http:\\\\/\\\\/www.fda.gov\\\\/AdvisoryCommittees\\\\/CommitteesMeetingMaterials\\\\/Drugs\\\\/Anti-InfectiveDrugsAdvisoryCommittee\\\\/ucm242307.htm\", \"t\": 1331923447, \"hc\": 1301298479, \"cy\": \"Paramus\", \"ll\": [ 40.944500, -74.070000 ] }\\n',\n",
       " '{ \"a\": \"Mozilla\\\\/5.0 (Windows NT 6.1; WOW64) AppleWebKit\\\\/535.11 (KHTML, like Gecko) Chrome\\\\/17.0.963.79 Safari\\\\/535.11\", \"c\": \"US\", \"nk\": 0, \"tz\": \"America\\\\/Chicago\", \"gr\": \"TX\", \"g\": \"zdddOh\", \"h\": \"wBz7bR\", \"l\": \"unitedstatesnavy\", \"al\": \"en-US,en;q=0.8\", \"hh\": \"1.usa.gov\", \"r\": \"http:\\\\/\\\\/www.facebook.com\\\\/l.php?u=http%3A%2F%2F1.usa.gov%2FwBz7bR&h=PAQEWgb1bAQEmfMfFDlY7B_CvrAM9aon-1NysemcO1bCKaw\", \"u\": \"http:\\\\/\\\\/www.navy.com\\\\/careers\\\\/chaplain-support\\\\/?campaign=van_chaplain\", \"t\": 1331923448, \"hc\": 1331219215, \"cy\": \"Garland\", \"ll\": [ 32.875599, -96.648201 ] }\\n',\n",
       " '{ \"a\": \"Mozilla\\\\/5.0 (Windows; U; Windows NT 5.1; fr; rv:1.9.2.23) Gecko\\\\/20110920 Firefox\\\\/3.6.3 ( .NET CLR 3.5.30729)\", \"c\": \"CA\", \"nk\": 0, \"tz\": \"America\\\\/Montreal\", \"gr\": \"QC\", \"g\": \"w7UqC1\", \"h\": \"wQdTN9\", \"l\": \"addthis\", \"al\": \"fr,fr-fr;q=0.8,en-us;q=0.5,en;q=0.3\", \"hh\": \"1.usa.gov\", \"r\": \"http:\\\\/\\\\/t.co\\\\/LMjED2o1\", \"u\": \"http:\\\\/\\\\/www.whitehouse.gov\\\\/blog\\\\/2012\\\\/03\\\\/15\\\\/effective-aid-transparent-and-accountable-aid#.T2OC-_GRhkQ.twitter\", \"t\": 1331923449, \"hc\": 1331921659, \"cy\": \"Gatineau\", \"ll\": [ 45.483299, -75.650002 ] }\\n',\n",
       " '{ \"a\": \"Mozilla\\\\/5.0 (Windows NT 5.1) AppleWebKit\\\\/535.11 (KHTML, like Gecko) Chrome\\\\/17.0.963.56 Safari\\\\/535.11\", \"c\": \"IN\", \"nk\": 0, \"tz\": \"Asia\\\\/Calcutta\", \"gr\": \"35\", \"g\": \"wcndER\", \"h\": \"zkpJBR\", \"l\": \"bnjacobs\", \"al\": \"en-US,en;q=0.8\", \"hh\": \"1.usa.gov\", \"r\": \"http:\\\\/\\\\/www.facebook.com\\\\/l.php?u=http%3A%2F%2F1.usa.gov%2FzkpJBR&h=_AQHLF0lEAQHk47StkHjZP8fBGEl9UN61910d59ArO7gvAA\", \"u\": \"http:\\\\/\\\\/www.nasa.gov\\\\/mission_pages\\\\/nustar\\\\/main\\\\/index.html\", \"t\": 1331923450, \"hc\": 1331922854, \"cy\": \"Indore\", \"ll\": [ 22.716700, 75.833298 ] }\\n',\n",
       " '{ \"a\": \"Mozilla\\\\/5.0 (Windows NT 6.1; rv:10.0.2) Gecko\\\\/20100101 Firefox\\\\/10.0.2\", \"c\": \"US\", \"nk\": 1, \"tz\": \"America\\\\/New_York\", \"gr\": \"GA\", \"g\": \"vNJS4H\", \"h\": \"u0uD9q\", \"l\": \"o_4us71ccioa\", \"al\": \"en-us,en;q=0.5\", \"hh\": \"1.usa.gov\", \"r\": \"direct\", \"u\": \"https:\\\\/\\\\/www.nysdot.gov\\\\/rexdesign\\\\/design\\\\/community.gif\", \"t\": 1331923452, \"hc\": 1319563556, \"cy\": \"Atlanta\", \"ll\": [ 33.800400, -84.386497 ] }\\n',\n",
       " '{ \"a\": \"Mozilla\\\\/5.0 (compatible; MSIE 9.0; Windows NT 6.1; WOW64; Trident\\\\/5.0)\", \"c\": \"SE\", \"nk\": 0, \"tz\": \"Europe\\\\/Stockholm\", \"gr\": \"26\", \"g\": \"zQ95Hi\", \"h\": \"ytZYWR\", \"l\": \"jplnews\", \"al\": \"sv-SE\", \"hh\": \"bitly.com\", \"r\": \"http:\\\\/\\\\/t.co\\\\/Mo6MA3VU\", \"u\": \"http:\\\\/\\\\/voyager.jpl.nasa.gov\\\\/imagesvideo\\\\/uranus.html\", \"t\": 1331923451, \"hc\": 1331670549, \"cy\": \"Nacka\", \"ll\": [ 59.299999, 18.166700 ] }\\n',\n",
       " '{ \"a\": \"Mozilla\\\\/5.0 (Macintosh; Intel Mac OS X 10.7; rv:11.0) Gecko\\\\/20100101 Firefox\\\\/11.0\", \"c\": \"AT\", \"nk\": 0, \"tz\": \"Europe\\\\/Vienna\", \"gr\": \"09\", \"g\": \"xlyyRh\", \"h\": \"xHc5Zw\", \"l\": \"cshirky\", \"al\": \"en-us,en;q=0.5\", \"hh\": \"1.usa.gov\", \"r\": \"http:\\\\/\\\\/t.co\\\\/EenULvIU\", \"u\": \"http:\\\\/\\\\/www.house.mo.gov\\\\/billsummary.aspx?bill=HB1853&year=2012&code=R\", \"t\": 1331923453, \"hc\": 1331601774, \"cy\": \"Vienna\", \"ll\": [ 48.200001, 16.366699 ] }\\n',\n",
       " '{ \"a\": \"Mozilla\\\\/5.0 (Windows NT 6.1; WOW64) AppleWebKit\\\\/535.11 (KHTML, like Gecko) Chrome\\\\/17.0.963.79 Safari\\\\/535.11\", \"c\": \"US\", \"nk\": 0, \"tz\": \"America\\\\/Denver\", \"gr\": \"UT\", \"g\": \"wcndER\", \"h\": \"zkpJBR\", \"l\": \"bnjacobs\", \"al\": \"en-US,en;q=0.8\", \"hh\": \"1.usa.gov\", \"r\": \"http:\\\\/\\\\/plus.url.google.com\\\\/url?sa=z&n=1331923454195&url=http%3A%2F%2F1.usa.gov%2FzkpJBR&usg=TeUVjaHKVuSi8okKZU2OOyDtNWI.\", \"u\": \"http:\\\\/\\\\/www.nasa.gov\\\\/mission_pages\\\\/nustar\\\\/main\\\\/index.html\", \"t\": 1331923453, \"hc\": 1331922854, \"cy\": \"Salem\", \"ll\": [ 40.026699, -111.645203 ] }\\n',\n",
       " '{ \"a\": \"Mozilla\\\\/5.0 (Macintosh; Intel Mac OS X 10.6; rv:11.0) Gecko\\\\/20100101 Firefox\\\\/11.0\", \"c\": \"PT\", \"nk\": 0, \"tz\": \"Europe\\\\/Lisbon\", \"gr\": \"19\", \"g\": \"wcndER\", \"h\": \"zkpJBR\", \"l\": \"bnjacobs\", \"al\": \"en-us,en;q=0.5\", \"hh\": \"1.usa.gov\", \"r\": \"http:\\\\/\\\\/www.facebook.com\\\\/home.php\", \"u\": \"http:\\\\/\\\\/www.nasa.gov\\\\/mission_pages\\\\/nustar\\\\/main\\\\/index.html\", \"t\": 1331923454, \"hc\": 1331922854, \"cy\": \"Corroios\", \"ll\": [ 38.633301, -9.150000 ] }\\n',\n",
       " '{ \"a\": \"Mozilla\\\\/5.0 (Windows NT 6.0) AppleWebKit\\\\/535.11 (KHTML, like Gecko) Chrome\\\\/17.0.963.79 Safari\\\\/535.11\", \"c\": \"GB\", \"nk\": 0, \"tz\": \"Europe\\\\/London\", \"gr\": \"H4\", \"g\": \"wcndER\", \"h\": \"zkpJBR\", \"l\": \"bnjacobs\", \"al\": \"en-GB,en-US;q=0.8,en;q=0.6\", \"hh\": \"1.usa.gov\", \"r\": \"http:\\\\/\\\\/www.facebook.com\\\\/l.php?u=http%3A%2F%2F1.usa.gov%2FzkpJBR&h=TAQEVpabWAQHTlIw1faN20YMPT10cwiQAiT92Xgg1TB3eGQ\", \"u\": \"http:\\\\/\\\\/www.nasa.gov\\\\/mission_pages\\\\/nustar\\\\/main\\\\/index.html\", \"t\": 1331923454, \"hc\": 1331922854, \"cy\": \"Leicester\", \"ll\": [ 52.633301, -1.133300 ] }\\n',\n",
       " '{ \"a\": \"Mozilla\\\\/5.0 (compatible; MSIE 9.0; Windows NT 6.1; WOW64; Trident\\\\/5.0)\", \"c\": \"AT\", \"nk\": 1, \"tz\": \"Europe\\\\/Vienna\", \"gr\": \"07\", \"g\": \"FOlpyK\", \"h\": \"yK8zBm\", \"l\": \"twitterfeed\", \"al\": \"de-DE\", \"hh\": \"1.usa.gov\", \"r\": \"http:\\\\/\\\\/www.facebook.com\\\\/l.php?u=http%3A%2F%2F1.usa.gov%2FyK8zBm%3Fref%3Dnf&h=WAQEJDtTiAQHQrZbAtBX9BzxjpWBt_KUZIX0q25e-_WrvQA\", \"u\": \"http:\\\\/\\\\/www.nasa.gov\\\\/mission_pages\\\\/station\\\\/multimedia\\\\/gallery\\\\/jsc2012e034742.html?utm_medium=facebook&utm_source=twitterfeed\", \"t\": 1331923454, \"hc\": 1331921292, \"cy\": \"Jochberg\", \"ll\": [ 47.383301, 12.400000 ] }\\n',\n",
       " '{ \"a\": \"Mozilla\\\\/5.0 (Windows NT 6.1; WOW64; rv:10.0.2) Gecko\\\\/20100101 Firefox\\\\/10.0.2\", \"c\": \"NL\", \"nk\": 0, \"tz\": \"Europe\\\\/Amsterdam\", \"gr\": \"02\", \"g\": \"xVZg4P\", \"h\": \"wqUkTo\", \"l\": \"nasatwitter\", \"al\": \"nl,en-us;q=0.7,en;q=0.3\", \"hh\": \"go.nasa.gov\", \"r\": \"http:\\\\/\\\\/t.co\\\\/UKGBxj29\", \"u\": \"http:\\\\/\\\\/www.nasa.gov\\\\/multimedia\\\\/imagegallery\\\\/image_feature_2199.html\", \"t\": 1331923454, \"hc\": 1331908247, \"cy\": \"Heerenveen\", \"ll\": [ 52.950001, 5.933300 ] }\\n',\n",
       " '{ \"a\": \"Opera\\\\/9.80 (Windows NT 6.1; U; en) Presto\\\\/2.10.229 Version\\\\/11.61\", \"c\": \"MK\", \"nk\": 0, \"tz\": \"Europe\\\\/Skopje\", \"gr\": \"41\", \"g\": \"xVZg4P\", \"h\": \"wqUkTo\", \"l\": \"nasatwitter\", \"al\": \"mk-MK,mk;q=0.9,en;q=0.8\", \"hh\": \"go.nasa.gov\", \"r\": \"direct\", \"u\": \"http:\\\\/\\\\/www.nasa.gov\\\\/multimedia\\\\/imagegallery\\\\/image_feature_2199.html\", \"t\": 1331923455, \"hc\": 1331908247, \"cy\": \"Skopje\", \"ll\": [ 42.000000, 21.433300 ] }\\n',\n",
       " '{ \"a\": \"Mozilla\\\\/5.0 (iPad; CPU OS 5_1 like Mac OS X) AppleWebKit\\\\/534.46 (KHTML, like Gecko) Mobile\\\\/9B176 Twitter for iPad\", \"c\": \"US\", \"nk\": 0, \"tz\": \"America\\\\/Chicago\", \"gr\": \"TX\", \"g\": \"wQacbF\", \"h\": \"AsWr9f\", \"l\": \"addthis\", \"al\": \"en-us\", \"hh\": \"1.usa.gov\", \"r\": \"https:\\\\/\\\\/twitter.com\\\\/whitehouse\\\\/status\\\\/180677826754789376\", \"u\": \"http:\\\\/\\\\/www.whitehouse.gov\\\\/energy\\\\/gasprices#.T2NboBE2Aok.twitter\", \"t\": 1331923457, \"hc\": 1331911584, \"cy\": \"Dallas\", \"ll\": [ 32.826599, -96.746696 ] }\\n',\n",
       " '{ \"a\": \"Mozilla\\\\/5.0 (iPad; CPU OS 5_1 like Mac OS X) AppleWebKit\\\\/534.46 (KHTML, like Gecko) Mobile\\\\/9B176 Twitter for iPad\", \"c\": \"US\", \"nk\": 0, \"tz\": \"America\\\\/Chicago\", \"gr\": \"TX\", \"g\": \"wQacbF\", \"h\": \"AsWr9f\", \"l\": \"addthis\", \"al\": \"en-us\", \"hh\": \"1.usa.gov\", \"r\": \"direct\", \"u\": \"http:\\\\/\\\\/www.whitehouse.gov\\\\/energy\\\\/gasprices#.T2NboBE2Aok.twitter\", \"t\": 1331923457, \"hc\": 1331911584, \"cy\": \"Dallas\", \"ll\": [ 32.826599, -96.746696 ] }\\n',\n",
       " '{ \"a\": \"Mozilla\\\\/5.0 (iPhone; CPU iPhone OS 5_1 like Mac OS X) AppleWebKit\\\\/534.46 (KHTML, like Gecko) Mobile\\\\/9B176 Twitter for iPhone\", \"c\": null, \"nk\": 1, \"tz\": \"\", \"g\": \"zdzNAi\", \"h\": \"zl9WOD\", \"l\": \"twitterfeed\", \"al\": \"en-us\", \"hh\": \"1.usa.gov\", \"r\": \"direct\", \"u\": \"http:\\\\/\\\\/www.spc.noaa.gov\\\\/products\\\\/md\\\\/md0266.html?utm_source=twitterfeed&utm_medium=twitter&utm_term=tornado+severe+weather&utm_content=tornado+warnings+watches+severe+weather+mesoscale\", \"t\": 1331923457, \"hc\": 1331921219 }\\n',\n",
       " '{ \"a\": \"Mozilla\\\\/5.0 (iPhone; CPU iPhone OS 5_1 like Mac OS X) AppleWebKit\\\\/534.46 (KHTML, like Gecko) Mobile\\\\/9B176 Twitter for iPhone\", \"c\": \"CA\", \"nk\": 1, \"tz\": \"America\\\\/Rainy_River\", \"gr\": \"ON\", \"g\": \"xVZg4P\", \"h\": \"wqUkTo\", \"l\": \"nasatwitter\", \"al\": \"en-us\", \"hh\": \"go.nasa.gov\", \"r\": \"https:\\\\/\\\\/twitter.com\\\\/nasa\\\\/status\\\\/180662400964493314\", \"u\": \"http:\\\\/\\\\/www.nasa.gov\\\\/multimedia\\\\/imagegallery\\\\/image_feature_2199.html\", \"t\": 1331923460, \"hc\": 1331908247, \"cy\": \"Pickering\", \"ll\": [ 43.866699, -79.033302 ] }\\n',\n",
       " '{ \"a\": \"Mozilla\\\\/5.0 (BlackBerry; U; BlackBerry 9810; en-US) AppleWebKit\\\\/534.11+ (KHTML, like Gecko) Version\\\\/7.0.0.261 Mobile Safari\\\\/534.11+\", \"c\": null, \"nk\": 0, \"tz\": \"\", \"g\": \"BNDz\", \"h\": \"14Q1q3\", \"l\": \"tweetdeckapi\", \"al\": \"en-US,en;q=0.5\", \"hh\": \"1.usa.gov\", \"r\": \"http:\\\\/\\\\/t.co\\\\/eWtdEjjO\", \"u\": \"http:\\\\/\\\\/radar.weather.gov\\\\/Conus\\\\/northeast_loop.php\", \"t\": 1331923463, \"hc\": 1246975140 }\\n',\n",
       " '{ \"a\": \"Mozilla\\\\/5.0 (Windows; U; Windows NT 6.1; en-US; rv:1.9.2.27) Gecko\\\\/20120216 Firefox\\\\/3.6.27\", \"c\": \"US\", \"nk\": 1, \"tz\": \"America\\\\/New_York\", \"gr\": \"OH\", \"g\": \"8YxUQw\", \"h\": \"n3kRWY\", \"l\": \"edircfaq\", \"al\": \"en-us,en;q=0.5\", \"hh\": \"1.usa.gov\", \"r\": \"direct\", \"u\": \"http:\\\\/\\\\/www2.ed.gov\\\\/programs\\\\/edtech\\\\/index.html\", \"t\": 1331923463, \"hc\": 1310487610, \"cy\": \"Columbus\", \"ll\": [ 40.053200, -83.022003 ] }\\n',\n",
       " '{ \"a\": \"Mozilla\\\\/5.0 (iPhone; CPU iPhone OS 5_1 like Mac OS X) AppleWebKit\\\\/534.46 (KHTML, like Gecko) Mobile\\\\/9B179 Twitter for iPhone\", \"c\": \"GB\", \"nk\": 0, \"tz\": \"Europe\\\\/London\", \"gr\": \"I2\", \"g\": \"xVZg4P\", \"h\": \"wqUkTo\", \"l\": \"nasatwitter\", \"al\": \"en-us\", \"hh\": \"go.nasa.gov\", \"r\": \"https:\\\\/\\\\/twitter.com\\\\/nasa\\\\/status\\\\/180662400964493314\", \"u\": \"http:\\\\/\\\\/www.nasa.gov\\\\/multimedia\\\\/imagegallery\\\\/image_feature_2199.html\", \"t\": 1331923464, \"hc\": 1331908247, \"cy\": \"Manchester\", \"ll\": [ 53.500000, -2.216700 ] }\\n',\n",
       " '{ \"a\": \"Mozilla\\\\/5.0 (Windows NT 6.1; WOW64; rv:8.0) Gecko\\\\/20100101 Firefox\\\\/8.0\", \"c\": null, \"nk\": 1, \"tz\": \"\", \"g\": \"vNJS4H\", \"h\": \"u0uD9q\", \"l\": \"o_4us71ccioa\", \"al\": \"en-us,en;q=0.5\", \"hh\": \"1.usa.gov\", \"r\": \"direct\", \"u\": \"https:\\\\/\\\\/www.nysdot.gov\\\\/rexdesign\\\\/design\\\\/community.gif\", \"t\": 1331923464, \"hc\": 1319563556 }\\n',\n",
       " '{ \"a\": \"Mozilla\\\\/5.0 (X11; Linux x86_64) AppleWebKit\\\\/535.11 (KHTML, like Gecko) Chrome\\\\/17.0.963.79 Safari\\\\/535.11\", \"c\": \"CZ\", \"nk\": 1, \"tz\": \"Europe\\\\/Prague\", \"gr\": \"52\", \"g\": \"wcndER\", \"h\": \"zkpJBR\", \"l\": \"bnjacobs\", \"al\": \"en-US,en;q=0.8\", \"hh\": \"1.usa.gov\", \"r\": \"http:\\\\/\\\\/plus.url.google.com\\\\/url?sa=z&n=1331923465182&url=http%3A%2F%2F1.usa.gov%2FzkpJBR&usg=y_MOx_710023aTSgelOIUZiwoYM.\", \"u\": \"http:\\\\/\\\\/www.nasa.gov\\\\/mission_pages\\\\/nustar\\\\/main\\\\/index.html\", \"t\": 1331923466, \"hc\": 1331922854, \"cy\": \"Prague\", \"ll\": [ 50.083302, 14.466700 ] }\\n',\n",
       " '{ \"a\": \"Mozilla\\\\/5.0 (Windows NT 6.1) AppleWebKit\\\\/535.11 (KHTML, like Gecko) Chrome\\\\/17.0.963.79 Safari\\\\/535.11\", \"c\": null, \"nk\": 0, \"tz\": \"\", \"g\": \"wcndER\", \"h\": \"zkpJBR\", \"l\": \"bnjacobs\", \"al\": \"es-ES,es;q=0.8\", \"hh\": \"1.usa.gov\", \"r\": \"http:\\\\/\\\\/www.facebook.com\\\\/l.php?u=http%3A%2F%2F1.usa.gov%2FzkpJBR&h=mAQFUTZ55AQFRCy3FDRmFRKjae0Gpf8Bd6Okj396nCu5mTg\", \"u\": \"http:\\\\/\\\\/www.nasa.gov\\\\/mission_pages\\\\/nustar\\\\/main\\\\/index.html\", \"t\": 1331923466, \"hc\": 1331922854 }\\n',\n",
       " '{ \"a\": \"Mozilla\\\\/5.0 (Windows NT 6.1; WOW64; rv:11.0) Gecko\\\\/20100101 Firefox\\\\/11.0\", \"c\": \"US\", \"nk\": 1, \"tz\": \"America\\\\/New_York\", \"gr\": \"FL\", \"g\": \"vNJS4H\", \"h\": \"u0uD9q\", \"l\": \"o_4us71ccioa\", \"al\": \"en-us,en;q=0.5\", \"hh\": \"1.usa.gov\", \"r\": \"direct\", \"u\": \"https:\\\\/\\\\/www.nysdot.gov\\\\/rexdesign\\\\/design\\\\/community.gif\", \"t\": 1331923468, \"hc\": 1319563556, \"cy\": \"Winter Park\", \"ll\": [ 28.605101, -81.332199 ] }\\n',\n",
       " '{ \"a\": \"Mozilla\\\\/5.0 (compatible; MSIE 9.0; Windows NT 6.1; WOW64; Trident\\\\/5.0)\", \"c\": \"GB\", \"nk\": 1, \"tz\": \"Europe\\\\/London\", \"gr\": \"M4\", \"g\": \"xVZg4P\", \"h\": \"wqUkTo\", \"l\": \"nasatwitter\", \"al\": \"en-GB\", \"hh\": \"go.nasa.gov\", \"r\": \"http:\\\\/\\\\/t.co\\\\/UKGBxj29\", \"u\": \"http:\\\\/\\\\/www.nasa.gov\\\\/multimedia\\\\/imagegallery\\\\/image_feature_2199.html\", \"t\": 1331923467, \"hc\": 1331908247, \"cy\": \"Southampton\", \"ll\": [ 50.900002, -1.400000 ] }\\n',\n",
       " '{ \"a\": \"Mozilla\\\\/5.0 (Windows NT 6.1; rv:11.0) Gecko\\\\/20100101 Firefox\\\\/11.0\", \"c\": \"DE\", \"nk\": 1, \"tz\": \"Europe\\\\/Berlin\", \"gr\": \"14\", \"g\": \"wcndER\", \"h\": \"zkpJBR\", \"l\": \"bnjacobs\", \"al\": \"de-de,de;q=0.8,en-us;q=0.5,en;q=0.3\", \"hh\": \"1.usa.gov\", \"r\": \"http:\\\\/\\\\/www.facebook.com\\\\/\", \"u\": \"http:\\\\/\\\\/www.nasa.gov\\\\/mission_pages\\\\/nustar\\\\/main\\\\/index.html\", \"t\": 1331923470, \"hc\": 1331922854, \"cy\": \"Zeitz\", \"ll\": [ 51.049999, 12.150000 ] }\\n',\n",
       " '{\"_heartbeat_\":1331923471}\\n',\n",
       " '{ \"a\": \"Mozilla\\\\/5.0 (Linux; U; Android 2.3.6; en-us; MB860 Build\\\\/4.5.141) AppleWebKit\\\\/533.1 (KHTML, like Gecko) Version\\\\/4.0 Mobile Safari\\\\/533.1\", \"c\": \"US\", \"nk\": 0, \"tz\": \"America\\\\/New_York\", \"gr\": \"PA\", \"g\": \"xVTtSE\", \"h\": \"yeE6VR\", \"l\": \"nasatwitter\", \"al\": \"en-US\", \"hh\": \"go.nasa.gov\", \"r\": \"http:\\\\/\\\\/m.facebook.com\\\\/l.php?u=http%3A%2F%2Fgo.nasa.gov%2FyeE6VR&h=xAQFywz8n\", \"u\": \"http:\\\\/\\\\/www.nasa.gov\\\\/connect\\\\/social\\\\/index.html\", \"t\": 1331923469, \"hc\": 1331905829, \"cy\": \"York\", \"ll\": [ 39.917099, -76.725601 ] }\\n',\n",
       " '{ \"a\": \"Mozilla\\\\/5.0 (Windows NT 5.1) AppleWebKit\\\\/535.11 (KHTML, like Gecko) Chrome\\\\/17.0.963.79 Safari\\\\/535.11\", \"c\": \"US\", \"nk\": 1, \"tz\": \"America\\\\/New_York\", \"gr\": \"NC\", \"g\": \"z7eWBJ\", \"h\": \"zrCWGT\", \"l\": \"jennifert\", \"al\": \"en-US,en;q=0.8\", \"hh\": \"1.usa.gov\", \"r\": \"direct\", \"u\": \"http:\\\\/\\\\/www.ok.gov\\\\/oid\\\\/mobile.html\", \"t\": 1331923470, \"hc\": 1331741615, \"cy\": \"Cary\", \"ll\": [ 35.805901, -78.799698 ] }\\n',\n",
       " '{ \"a\": \"Mozilla\\\\/5.0 (Windows NT 5.1; rv:10.0.2) Gecko\\\\/20100101 Firefox\\\\/10.0.2\", \"c\": null, \"nk\": 0, \"tz\": \"\", \"g\": \"wcndER\", \"h\": \"zkpJBR\", \"l\": \"bnjacobs\", \"al\": \"ar,en-us;q=0.7,en;q=0.3\", \"hh\": \"1.usa.gov\", \"r\": \"http:\\\\/\\\\/www.facebook.com\\\\/\", \"u\": \"http:\\\\/\\\\/www.nasa.gov\\\\/mission_pages\\\\/nustar\\\\/main\\\\/index.html\", \"t\": 1331923470, \"hc\": 1331922854 }\\n',\n",
       " '{ \"a\": \"Mozilla\\\\/5.0 (Macintosh; U; Intel Mac OS X 10.6; en-US; rv:1.9.2.6) Gecko\\\\/20100625 Firefox\\\\/3.6.6\", \"c\": \"US\", \"nk\": 1, \"tz\": \"America\\\\/Chicago\", \"gr\": \"IL\", \"g\": \"vNJS4H\", \"h\": \"u0uD9q\", \"l\": \"o_4us71ccioa\", \"al\": \"en-us,en;q=0.5\", \"hh\": \"1.usa.gov\", \"r\": \"direct\", \"u\": \"https:\\\\/\\\\/www.nysdot.gov\\\\/rexdesign\\\\/design\\\\/community.gif\", \"t\": 1331923472, \"hc\": 1319563556, \"cy\": \"Chicago\", \"ll\": [ 41.867500, -87.674400 ] }\\n',\n",
       " '{ \"a\": \"Mozilla\\\\/5.0 (Linux; U; Android 2.3.4; es-es; LG-E510 Build\\\\/GRJ22) AppleWebKit\\\\/533.1 (KHTML, like Gecko) Version\\\\/4.0 Mobile Safari\\\\/533.1\", \"c\": \"ES\", \"nk\": 1, \"tz\": \"Europe\\\\/Madrid\", \"gr\": \"31\", \"g\": \"wUsrEq\", \"h\": \"wUsrEq\", \"l\": \"bitly\", \"al\": \"es-ES, en-US\", \"hh\": \"1.usa.gov\", \"r\": \"http:\\\\/\\\\/t.co\\\\/s2zXjXQG\", \"u\": \"http:\\\\/\\\\/www.nasa.gov\\\\/topics\\\\/earth\\\\/features\\\\/seac4rs.html\", \"t\": 1331923472, \"hc\": 1331670810, \"cy\": \"Abanilla\", \"ll\": [ 38.200001, -1.050000 ] }\\n',\n",
       " '{ \"a\": \"Mozilla\\\\/5.0 (iPhone; U; CPU iPhone OS 5_0_1 like Mac OS X; en_US) AppleWebKit (KHTML, like Gecko) Mobile [FBAN\\\\/FBForIPhone;FBAV\\\\/4.1;FBBV\\\\/4100.0;FBDV\\\\/iPhone3,1;FBMD\\\\/iPhone;FBSN\\\\/iPhone OS;FBSV\\\\/5.0.1;FBSS\\\\/2; FBCR\\\\/Rogers;FBID\\\\/phone;FBLC\\\\/en_US;FBSF\\\\/2.0]\", \"c\": \"CA\", \"nk\": 0, \"tz\": \"America\\\\/Vancouver\", \"gr\": \"BC\", \"g\": \"wcndER\", \"h\": \"zkpJBR\", \"l\": \"bnjacobs\", \"al\": \"en-us\", \"hh\": \"1.usa.gov\", \"r\": \"direct\", \"u\": \"http:\\\\/\\\\/www.nasa.gov\\\\/mission_pages\\\\/nustar\\\\/main\\\\/index.html\", \"t\": 1331923472, \"hc\": 1331922854, \"cy\": \"Vancouver\", \"ll\": [ 49.250000, -123.133301 ] }\\n',\n",
       " '{ \"a\": \"Mozilla\\\\/5.0 (Linux; U; Android 2.3.4; es-es; LG-E510 Build\\\\/GRJ22) AppleWebKit\\\\/533.1 (KHTML, like Gecko) Version\\\\/4.0 Mobile Safari\\\\/533.1\", \"c\": \"ES\", \"nk\": 1, \"tz\": \"Europe\\\\/Madrid\", \"gr\": \"31\", \"g\": \"xVZg4P\", \"h\": \"wqUkTo\", \"l\": \"nasatwitter\", \"al\": \"es-ES, en-US\", \"hh\": \"go.nasa.gov\", \"r\": \"http:\\\\/\\\\/t.co\\\\/UKGBxj29\", \"u\": \"http:\\\\/\\\\/www.nasa.gov\\\\/multimedia\\\\/imagegallery\\\\/image_feature_2199.html\", \"t\": 1331923473, \"hc\": 1331908247, \"cy\": \"Abanilla\", \"ll\": [ 38.200001, -1.050000 ] }\\n',\n",
       " '{ \"a\": \"Mozilla\\\\/5.0 (Windows NT 6.0; WOW64; rv:10.0.2) Gecko\\\\/20100101 Firefox\\\\/10.0.2\", \"c\": \"US\", \"nk\": 0, \"tz\": \"America\\\\/Indianapolis\", \"gr\": \"IN\", \"g\": \"w9z9PB\", \"h\": \"zx9zDN\", \"l\": \"cassinisaturn\", \"al\": \"en-us,en;q=0.5\", \"hh\": \"1.usa.gov\", \"r\": \"http:\\\\/\\\\/t.co\\\\/l9wbjKe0\", \"u\": \"http:\\\\/\\\\/saturn.jpl.nasa.gov\\\\/news\\\\/cassinifeatures\\\\/feature20120312\\\\/\", \"t\": 1331923475, \"hc\": 1331587865, \"cy\": \"Noblesville\", \"ll\": [ 40.069801, -85.981697 ] }\\n',\n",
       " '{ \"a\": \"Mozilla\\\\/5.0 (Windows NT 6.1; WOW64) AppleWebKit\\\\/535.11 (KHTML, like Gecko) Chrome\\\\/17.0.963.79 Safari\\\\/535.11\", \"c\": \"US\", \"nk\": 0, \"tz\": \"America\\\\/Chicago\", \"gr\": \"MO\", \"g\": \"wcndER\", \"h\": \"zkpJBR\", \"l\": \"bnjacobs\", \"al\": \"en-US,en;q=0.8\", \"hh\": \"1.usa.gov\", \"r\": \"http:\\\\/\\\\/www.facebook.com\\\\/l.php?u=http%3A%2F%2F1.usa.gov%2FzkpJBR&h=gAQHAB8gjAQE-Hkt1MwclHBpwvCXRkzNv6WCdGzCDR_oyoA\", \"u\": \"http:\\\\/\\\\/www.nasa.gov\\\\/mission_pages\\\\/nustar\\\\/main\\\\/index.html\", \"t\": 1331923473, \"hc\": 1331922854, \"cy\": \"Cape Girardeau\", \"ll\": [ 37.337002, -89.591103 ] }\\n',\n",
       " '{ \"a\": \"Mozilla\\\\/5.0 (Macintosh; Intel Mac OS X 10_6_6) AppleWebKit\\\\/535.11 (KHTML, like Gecko) Chrome\\\\/17.0.963.79 Safari\\\\/535.11\", \"c\": \"US\", \"nk\": 1, \"tz\": \"America\\\\/New_York\", \"gr\": \"NY\", \"g\": \"vNJS4H\", \"h\": \"u0uD9q\", \"l\": \"o_4us71ccioa\", \"al\": \"en-US,en;q=0.8\", \"hh\": \"1.usa.gov\", \"r\": \"direct\", \"u\": \"https:\\\\/\\\\/www.nysdot.gov\\\\/rexdesign\\\\/design\\\\/community.gif\", \"t\": 1331923476, \"hc\": 1319563556, \"cy\": \"White Plains\", \"ll\": [ 41.029099, -73.758003 ] }\\n',\n",
       " '{ \"a\": \"Mozilla\\\\/5.0 (Windows NT 5.1; rv:10.0.2) Gecko\\\\/20100101 Firefox\\\\/10.0.2\", \"c\": \"CA\", \"nk\": 0, \"tz\": \"America\\\\/Rainy_River\", \"gr\": \"ON\", \"g\": \"wnQalX\", \"h\": \"yCdvsP\", \"l\": \"skinmyi\", \"al\": \"en-us,en;q=0.5\", \"hh\": \"1.usa.gov\", \"r\": \"http:\\\\/\\\\/www.barackobama.com\\\\/\", \"u\": \"http:\\\\/\\\\/www.whitehouse.gov\\\\/photos-and-video\\\\/photogallery\\\\/prime-minister-david-cameron-united-kingdom-official-visit\", \"t\": 1331923477, \"hc\": 1331814239, \"cy\": \"Toronto\", \"ll\": [ 43.666698, -79.416702 ] }\\n',\n",
       " '{ \"a\": \"Mozilla\\\\/5.0 (Windows NT 6.1) AppleWebKit\\\\/535.11 (KHTML, like Gecko) Chrome\\\\/17.0.963.56 Safari\\\\/535.11\", \"c\": \"ES\", \"nk\": 0, \"tz\": \"Europe\\\\/Madrid\", \"gr\": \"29\", \"g\": \"wcndER\", \"h\": \"zkpJBR\", \"l\": \"bnjacobs\", \"al\": \"es-ES,es;q=0.8\", \"hh\": \"1.usa.gov\", \"r\": \"http:\\\\/\\\\/www.facebook.com\\\\/l.php?u=http%3A%2F%2F1.usa.gov%2FzkpJBR&h=ZAQG9HWL7AQGndO7CbSKXn45OpJYQOwr9y9b5QVABpg0a6A\", \"u\": \"http:\\\\/\\\\/www.nasa.gov\\\\/mission_pages\\\\/nustar\\\\/main\\\\/index.html\", \"t\": 1331923476, \"hc\": 1331922854, \"cy\": \"Madrid\", \"ll\": [ 40.400002, -3.683300 ] }\\n',\n",
       " '{ \"a\": \"Mozilla\\\\/5.0 (Windows NT 6.1) AppleWebKit\\\\/535.11 (KHTML, like Gecko) Chrome\\\\/17.0.963.79 Safari\\\\/535.11\", \"c\": \"LB\", \"nk\": 0, \"tz\": \"Asia\\\\/Beirut\", \"gr\": \"04\", \"g\": \"FPuJlC\", \"h\": \"FPuJlC\", \"l\": \"bitly\", \"al\": \"en-US,en;q=0.8\", \"hh\": \"1.usa.gov\", \"r\": \"http:\\\\/\\\\/www.facebook.com\\\\/l.php?u=http%3A%2F%2F1.usa.gov%2FFPuJlC&h=GAQHjopiuAQHKgG4SapmFAwFl9ihxvK1mstR5BddMfmu4Ug\", \"u\": \"http:\\\\/\\\\/lebanon.usembassy.gov\\\\/writersprog.html\", \"t\": 1331923478, \"hc\": 1331905488, \"cy\": \"Beirut\", \"ll\": [ 33.871899, 35.509701 ] }\\n',\n",
       " '{ \"a\": \"Mozilla\\\\/4.0 (compatible; MSIE 8.0; Windows NT 6.1; Trident\\\\/4.0; SLCC2; .NET CLR 2.0.50727; .NET CLR 3.5.30729; .NET CLR 3.0.30729; Media Center PC 6.0; .NET4.0C; .NET4.0E)\", \"c\": \"US\", \"nk\": 0, \"tz\": \"America\\\\/New_York\", \"gr\": \"GA\", \"g\": \"2rOUYc\", \"h\": \"2rOUYc\", \"l\": \"bitly\", \"al\": \"en-US\", \"hh\": \"bit.ly\", \"r\": \"direct\", \"u\": \"http:\\\\/\\\\/toxtown.nlm.nih.gov\\\\/index.php\", \"t\": 1331923477, \"hc\": 1255769846, \"cy\": \"Kennesaw\", \"ll\": [ 34.010399, -84.623901 ] }\\n',\n",
       " '{ \"a\": \"Mozilla\\\\/5.0 (Linux; U; Android 2.3.4; es-es; LG-E510 Build\\\\/GRJ22) AppleWebKit\\\\/533.1 (KHTML, like Gecko) Version\\\\/4.0 Mobile Safari\\\\/533.1 MMS\\\\/LG-Android-MMS-V1.0\\\\/1.2\", \"c\": \"ES\", \"nk\": 1, \"tz\": \"Europe\\\\/Madrid\", \"gr\": \"31\", \"g\": \"xVZg4P\", \"h\": \"wqUkTo\", \"l\": \"nasatwitter\", \"al\": \"es-ES, en-US\", \"hh\": \"go.nasa.gov\", \"r\": \"http:\\\\/\\\\/t.co\\\\/UKGBxj29\", \"u\": \"http:\\\\/\\\\/www.nasa.gov\\\\/multimedia\\\\/imagegallery\\\\/image_feature_2199.html\", \"t\": 1331923478, \"hc\": 1331908247, \"cy\": \"Abanilla\", \"ll\": [ 38.200001, -1.050000 ] }\\n',\n",
       " '{ \"a\": \"Mozilla\\\\/4.0 (compatible; MSIE 8.0; Windows NT 5.1; Trident\\\\/4.0; .NET CLR 2.0.50727; .NET CLR 3.0.04506.30; .NET CLR 3.0.4506.2152; .NET CLR 3.5.30729)\", \"c\": \"US\", \"nk\": 0, \"tz\": \"America\\\\/New_York\", \"gr\": \"CT\", \"g\": \"yaMfql\", \"h\": \"yaMfql\", \"l\": \"bitly\", \"al\": \"en-us\", \"hh\": \"1.usa.gov\", \"r\": \"http:\\\\/\\\\/abclocal.go.com\\\\/wpvi\\\\/story?section=news\\\\/consumer&id=8557750\", \"u\": \"http:\\\\/\\\\/www-odi.nhtsa.dot.gov\\\\/recalls\\\\/results.cfm?rcl_id=12T003&searchtype=quicksearch&summary=true&refurl=email\", \"t\": 1331923480, \"hc\": 1330186041, \"cy\": \"Hartford\", \"ll\": [ 41.745399, -72.670303 ] }\\n',\n",
       " '{ \"a\": \"Mozilla\\\\/5.0 (Windows; U; Windows NT 6.1; en-US; rv:1.9.2.23) Gecko\\\\/20110920 AskTbARS\\\\/3.14.1.20007 BRI\\\\/1 Firefox\\\\/3.6.23\", \"c\": \"US\", \"nk\": 1, \"tz\": \"America\\\\/New_York\", \"gr\": \"MD\", \"g\": \"vNJS4H\", \"h\": \"u0uD9q\", \"l\": \"o_4us71ccioa\", \"al\": \"en-us,en;q=0.5\", \"hh\": \"1.usa.gov\", \"r\": \"direct\", \"u\": \"https:\\\\/\\\\/www.nysdot.gov\\\\/rexdesign\\\\/design\\\\/community.gif\", \"t\": 1331923481, \"hc\": 1319563556, \"cy\": \"Elkton\", \"ll\": [ 39.617199, -75.867798 ] }\\n',\n",
       " '{ \"a\": \"Mozilla\\\\/4.0 (compatible; MSIE 8.0; Windows NT 6.1; Trident\\\\/4.0; SLCC2; .NET CLR 2.0.50727; .NET CLR 3.5.30729; .NET CLR 3.0.30729; Media Center PC 6.0; .NET4.0C; .NET4.0E)\", \"c\": \"US\", \"nk\": 0, \"tz\": \"America\\\\/New_York\", \"gr\": \"GA\", \"g\": \"2rOUYc\", \"h\": \"2rOUYc\", \"l\": \"bitly\", \"al\": \"en-US\", \"hh\": \"1.usa.gov\", \"r\": \"direct\", \"u\": \"http:\\\\/\\\\/toxtown.nlm.nih.gov\\\\/index.php\", \"t\": 1331923483, \"hc\": 1255769846, \"cy\": \"Kennesaw\", \"ll\": [ 34.010399, -84.623901 ] }\\n',\n",
       " '{ \"a\": \"Mozilla\\\\/5.0 (Windows NT 6.0; rv:10.0.2) Gecko\\\\/20100101 Firefox\\\\/10.0.2\", \"c\": \"GB\", \"nk\": 0, \"tz\": \"Europe\\\\/London\", \"gr\": \"X5\", \"g\": \"wcndER\", \"h\": \"zkpJBR\", \"l\": \"bnjacobs\", \"al\": \"en-gb,en;q=0.5\", \"hh\": \"1.usa.gov\", \"r\": \"http:\\\\/\\\\/www.facebook.com\\\\/l.php?u=http%3A%2F%2F1.usa.gov%2FzkpJBR&h=MAQGDvEBjAQGgNgYYXMGSFz_DvgGTw43p3h63_EO9_XHdlQ\", \"u\": \"http:\\\\/\\\\/www.nasa.gov\\\\/mission_pages\\\\/nustar\\\\/main\\\\/index.html\", \"t\": 1331923483, \"hc\": 1331922854, \"cy\": \"Cardiff\", \"ll\": [ 51.500000, -3.200000 ] }\\n',\n",
       " '{ \"a\": \"Mozilla\\\\/5.0 (Windows NT 6.1; WOW64) AppleWebKit\\\\/535.2 (KHTML, like Gecko) Chrome\\\\/15.0.874.106 Safari\\\\/535.2\", \"c\": \"DE\", \"nk\": 0, \"tz\": \"Europe\\\\/Berlin\", \"gr\": \"02\", \"g\": \"wcndER\", \"h\": \"zkpJBR\", \"l\": \"bnjacobs\", \"al\": \"de-DE,de;q=0.8,en-US;q=0.6,en;q=0.4\", \"hh\": \"1.usa.gov\", \"r\": \"http:\\\\/\\\\/www.facebook.com\\\\/\", \"u\": \"http:\\\\/\\\\/www.nasa.gov\\\\/mission_pages\\\\/nustar\\\\/main\\\\/index.html\", \"t\": 1331923485, \"hc\": 1331922854, \"cy\": \"Freystadt\", \"ll\": [ 49.200600, 11.329400 ] }\\n',\n",
       " '{ \"a\": \"Mozilla\\\\/5.0 (Macintosh; Intel Mac OS X 10_7_3) AppleWebKit\\\\/534.53.11 (KHTML, like Gecko) Version\\\\/5.1.3 Safari\\\\/534.53.10\", \"c\": \"US\", \"nk\": 0, \"tz\": \"America\\\\/New_York\", \"gr\": \"NJ\", \"g\": \"rh4F4y\", \"h\": \"qdmGqR\", \"l\": \"tweetdeckapi\", \"al\": \"en-us\", \"hh\": \"1.usa.gov\", \"r\": \"http:\\\\/\\\\/t.co\\\\/LCNLMOJn\", \"u\": \"http:\\\\/\\\\/majorityleader.gov\\\\/JobsTracker\\\\/\", \"t\": 1331923486, \"hc\": 1310489462, \"cy\": \"West New York\", \"ll\": [ 40.787899, -74.010201 ] }\\n',\n",
       " '{ \"a\": \"Mozilla\\\\/5.0 (iPhone; CPU iPhone OS 5_1 like Mac OS X) AppleWebKit\\\\/534.46 (KHTML, like Gecko) Mobile\\\\/9B176\", \"c\": \"AU\", \"nk\": 1, \"tz\": \"Australia\\\\/NSW\", \"gr\": \"02\", \"g\": \"43f0cO\", \"h\": \"xILcp4\", \"l\": \"grouponinc\", \"al\": \"en-us\", \"hh\": \"gr.pn\", \"r\": \"direct\", \"u\": \"http:\\\\/\\\\/www.nps.gov\\\\/jeca\\\\/index.htm\", \"t\": 1331923485, \"hc\": 1331502617, \"cy\": \"Kellyville\", \"ll\": [ -33.709999, 150.960007 ] }\\n',\n",
       " '{ \"a\": \"GoogleMaps\\\\/RochesterNY\", \"c\": \"US\", \"nk\": 0, \"tz\": \"America\\\\/Denver\", \"gr\": \"UT\", \"g\": \"mwszkS\", \"h\": \"mwszkS\", \"l\": \"bitly\", \"hh\": \"j.mp\", \"r\": \"http:\\\\/\\\\/www.AwareMap.com\\\\/\", \"u\": \"http:\\\\/\\\\/www.monroecounty.gov\\\\/etc\\\\/911\\\\/rss.php\", \"t\": 1331923487, \"hc\": 1308262393, \"cy\": \"Provo\", \"ll\": [ 40.218102, -111.613297 ] }\\n',\n",
       " '{ \"a\": \"Mozilla\\\\/5.0 (Windows; U; Windows NT 6.1; en-US; rv:1.9.2.27) Gecko\\\\/20120216 Firefox\\\\/3.6.27\", \"c\": \"US\", \"nk\": 1, \"tz\": \"America\\\\/Los_Angeles\", \"gr\": \"CA\", \"g\": \"vNJS4H\", \"h\": \"u0uD9q\", \"l\": \"o_4us71ccioa\", \"al\": \"en-us,en;q=0.5\", \"hh\": \"1.usa.gov\", \"r\": \"direct\", \"u\": \"https:\\\\/\\\\/www.nysdot.gov\\\\/rexdesign\\\\/design\\\\/community.gif\", \"t\": 1331923487, \"hc\": 1319563556, \"cy\": \"Palo Alto\", \"ll\": [ 37.376202, -122.182602 ] }\\n',\n",
       " '{ \"a\": \"Mozilla\\\\/5.0 (Windows NT 6.1; WOW64; rv:10.0.2) Gecko\\\\/20100101 Firefox\\\\/10.0.2\", \"c\": \"US\", \"nk\": 1, \"tz\": \"America\\\\/Los_Angeles\", \"gr\": \"CA\", \"g\": \"vNJS4H\", \"h\": \"u0uD9q\", \"l\": \"o_4us71ccioa\", \"al\": \"en-us,en;q=0.5\", \"hh\": \"1.usa.gov\", \"r\": \"direct\", \"u\": \"https:\\\\/\\\\/www.nysdot.gov\\\\/rexdesign\\\\/design\\\\/community.gif\", \"t\": 1331923487, \"hc\": 1319563556, \"cy\": \"Palo Alto\", \"ll\": [ 37.376202, -122.182602 ] }\\n',\n",
       " '{ \"a\": \"Mozilla\\\\/5.0 (Macintosh; Intel Mac OS X 10.5; rv:2.0.1) Gecko\\\\/20100101 Firefox\\\\/4.0.1\", \"c\": \"US\", \"nk\": 1, \"tz\": \"America\\\\/New_York\", \"gr\": \"FL\", \"g\": \"xVZg4P\", \"h\": \"wqUkTo\", \"l\": \"nasatwitter\", \"al\": \"en-us,en;q=0.5\", \"hh\": \"go.nasa.gov\", \"r\": \"http:\\\\/\\\\/t.co\\\\/UKGBxj29\", \"u\": \"http:\\\\/\\\\/www.nasa.gov\\\\/multimedia\\\\/imagegallery\\\\/image_feature_2199.html\", \"t\": 1331923489, \"hc\": 1331908247, \"cy\": \"New Smyrna Beach\", \"ll\": [ 28.987600, -80.960999 ] }\\n',\n",
       " '{ \"a\": \"Mozilla\\\\/5.0 (Windows NT 5.1; rv:10.0.2) Gecko\\\\/20100101 Firefox\\\\/10.0.2\", \"c\": \"US\", \"nk\": 1, \"tz\": \"America\\\\/New_York\", \"gr\": \"OH\", \"g\": \"ytQF9k\", \"h\": \"AubMqf\", \"l\": \"prevention\", \"al\": \"en-us,en;q=0.5\", \"hh\": \"1.usa.gov\", \"r\": \"http:\\\\/\\\\/t.co\\\\/g4n56J61\", \"u\": \"http:\\\\/\\\\/healthfinder.gov\\\\/prevention\\\\/ViewTopic.aspx?topicID=89&cnt=1&areaID=1\", \"t\": 1331923489, \"hc\": 1331555522, \"cy\": \"Cuyahoga Falls\", \"ll\": [ 41.148201, -81.473602 ] }\\n',\n",
       " '{ \"a\": \"Mozilla\\\\/5.0 (Windows NT 6.1; WOW64; rv:10.0.2) Gecko\\\\/20100101 Firefox\\\\/10.0.2\", \"c\": \"US\", \"nk\": 1, \"tz\": \"America\\\\/New_York\", \"gr\": \"NC\", \"g\": \"vNJS4H\", \"h\": \"u0uD9q\", \"l\": \"o_4us71ccioa\", \"al\": \"en-us,en;q=0.5\", \"hh\": \"1.usa.gov\", \"r\": \"direct\", \"u\": \"https:\\\\/\\\\/www.nysdot.gov\\\\/rexdesign\\\\/design\\\\/community.gif\", \"t\": 1331923492, \"hc\": 1319563556, \"cy\": \"Cary\", \"ll\": [ 35.789501, -78.874298 ] }\\n',\n",
       " '{ \"a\": \"Mozilla\\\\/5.0 (Macintosh; Intel Mac OS X 10_6_6) AppleWebKit\\\\/535.11 (KHTML, like Gecko) Chrome\\\\/17.0.963.79 Safari\\\\/535.11\", \"c\": \"US\", \"nk\": 1, \"tz\": \"America\\\\/New_York\", \"gr\": \"NY\", \"g\": \"vNJS4H\", \"h\": \"u0uD9q\", \"l\": \"o_4us71ccioa\", \"al\": \"en-US,en;q=0.8\", \"hh\": \"1.usa.gov\", \"r\": \"direct\", \"u\": \"https:\\\\/\\\\/www.nysdot.gov\\\\/rexdesign\\\\/design\\\\/community.gif\", \"t\": 1331923491, \"hc\": 1319563556, \"cy\": \"White Plains\", \"ll\": [ 41.029099, -73.758003 ] }\\n',\n",
       " '{ \"a\": \"Mozilla\\\\/4.0 (compatible; MSIE 8.0; Windows NT 6.1; WOW64; Trident\\\\/4.0; SLCC2; .NET CLR 2.0.50727; .NET CLR 3.5.30729; .NET CLR 3.0.30729; Media Center PC 6.0; .NET4.0C; InfoPath.2)\", \"c\": \"US\", \"nk\": 1, \"tz\": \"America\\\\/Chicago\", \"gr\": \"TX\", \"g\": \"yddjhE\", \"h\": \"wJvw8Z\", \"l\": \"o_4pn5jefgl1\", \"al\": \"en-US\", \"hh\": \"1.usa.gov\", \"r\": \"http:\\\\/\\\\/www.srh.noaa.gov\\\\/epz\\\\/?n=significantweatherbriefing\", \"u\": \"http:\\\\/\\\\/www.srh.noaa.gov\\\\/media\\\\/epz\\\\/sigwxbrief\\\\/sigwxbrief.mp4\", \"t\": 1331923494, \"hc\": 1331888652, \"cy\": \"El Paso\", \"ll\": [ 31.815201, -106.424004 ] }\\n',\n",
       " '{ \"a\": \"Mozilla\\\\/4.0 (compatible; MSIE 8.0; Windows NT 5.1; Trident\\\\/4.0; .NET CLR 1.1.4322; InfoPath.1; .NET CLR 2.0.50727; .NET CLR 3.0.4506.2152; .NET CLR 3.5.30729)\", \"c\": \"US\", \"nk\": 0, \"tz\": \"America\\\\/New_York\", \"gr\": \"VA\", \"g\": \"ysmet2\", \"h\": \"ADiRud\", \"l\": \"uspto\", \"al\": \"en-us\", \"hh\": \"1.usa.gov\", \"r\": \"http:\\\\/\\\\/www.facebook.com\\\\/l.php?u=http%3A%2F%2F1.usa.gov%2FADiRud&h=FAQEb4tNEAQHsltrahFn6NhEvaQEWCKL9NXoIH6hzUZhJaA\", \"u\": \"http:\\\\/\\\\/www.uspto.gov\\\\/trademarks\\\\/notices\\\\/tmexpo2012.jsp\", \"t\": 1331923495, \"hc\": 1331663132, \"cy\": \"Arlington\", \"ll\": [ 38.878201, -77.105400 ] }\\n',\n",
       " '{ \"a\": \"Mozilla\\\\/5.0 (Macintosh; Intel Mac OS X 10.5; rv:10.0.2) Gecko\\\\/20100101 Firefox\\\\/10.0.2\", \"c\": \"US\", \"nk\": 0, \"tz\": \"America\\\\/New_York\", \"gr\": \"NC\", \"g\": \"wcndER\", \"h\": \"zkpJBR\", \"l\": \"bnjacobs\", \"al\": \"en-us,en;q=0.5\", \"hh\": \"1.usa.gov\", \"r\": \"http:\\\\/\\\\/plus.url.google.com\\\\/url?sa=z&n=1331923503811&url=http%3A%2F%2F1.usa.gov%2FzkpJBR&usg=Yc1sLpGu7VxNEpnerQLgo79IB5Q.\", \"u\": \"http:\\\\/\\\\/www.nasa.gov\\\\/mission_pages\\\\/nustar\\\\/main\\\\/index.html\", \"t\": 1331923497, \"hc\": 1331922854, \"cy\": \"Winston Salem\", \"ll\": [ 36.053600, -80.315399 ] }\\n',\n",
       " '{ \"a\": \"Mozilla\\\\/5.0 (Windows NT 6.0) AppleWebKit\\\\/535.19 (KHTML, like Gecko) Chrome\\\\/18.0.1025.100 Safari\\\\/535.19\", \"c\": \"IT\", \"nk\": 0, \"tz\": \"Europe\\\\/Rome\", \"gr\": \"12\", \"g\": \"AovtnA\", \"h\": \"FOgd0L\", \"l\": \"addthis\", \"al\": \"it-IT,it;q=0.8,en-US;q=0.6,en;q=0.4\", \"hh\": \"1.usa.gov\", \"r\": \"http:\\\\/\\\\/t.co\\\\/Z9eP7bL\", \"u\": \"http:\\\\/\\\\/www.nasa.gov\\\\/mission_pages\\\\/station\\\\/multimedia\\\\/gallery\\\\/iss030e132618.html#.T2OGEf0aM2E.twitter\", \"t\": 1331923498, \"hc\": 1331922449, \"cy\": \"Settimo Torinese\", \"ll\": [ 45.150002, 7.766700 ] }\\n',\n",
       " '{\"_heartbeat_\":1331923501}\\n',\n",
       " '{ \"a\": \"Mozilla\\\\/5.0 (iPhone; U; CPU iPhone OS 4_3_2 like Mac OS X; en-us) AppleWebKit\\\\/533.17.9 (KHTML, like Gecko) Mobile\\\\/8H7 Twitter for iPhone\", \"c\": null, \"nk\": 0, \"tz\": \"\", \"g\": \"y5rMac\", \"h\": \"xANY6O\", \"l\": \"twitterfeed\", \"al\": \"en-us\", \"hh\": \"1.usa.gov\", \"r\": \"https:\\\\/\\\\/twitter.com\\\\/fdarecalls\\\\/status\\\\/180697594887012352\", \"u\": \"http:\\\\/\\\\/www.fda.gov\\\\/Safety\\\\/Recalls\\\\/ucm296326.htm\", \"t\": 1331923499, \"hc\": 1331916302 }\\n',\n",
       " '{ \"a\": \"Mozilla\\\\/5.0 (Windows NT 6.1) AppleWebKit\\\\/535.11 (KHTML, like Gecko) Chrome\\\\/17.0.963.79 Safari\\\\/535.11\", \"c\": \"HU\", \"nk\": 0, \"tz\": \"Europe\\\\/Budapest\", \"gr\": \"01\", \"g\": \"xVTtSE\", \"h\": \"yeE6VR\", \"l\": \"nasatwitter\", \"al\": \"hu-HU,hu;q=0.8,en-US;q=0.6,en;q=0.4\", \"hh\": \"go.nasa.gov\", \"r\": \"http:\\\\/\\\\/www.facebook.com\\\\/l.php?u=http%3A%2F%2Fgo.nasa.gov%2FyeE6VR&h=dAQG7GFQF\", \"u\": \"http:\\\\/\\\\/www.nasa.gov\\\\/connect\\\\/social\\\\/index.html\", \"t\": 1331923500, \"hc\": 1331905829, \"cy\": \"Kiskunhalas\", \"ll\": [ 46.431400, 19.487499 ] }\\n',\n",
       " '{ \"a\": \"Mozilla\\\\/4.0 (compatible; MSIE 8.0; Windows NT 6.1; Trident\\\\/4.0; SLCC2; .NET CLR 2.0.50727; .NET CLR 3.5.30729; .NET CLR 3.0.30729; Media Center PC 6.0; .NET4.0C; .NET4.0E)\", \"c\": \"US\", \"nk\": 0, \"tz\": \"America\\\\/New_York\", \"gr\": \"GA\", \"g\": \"2rOUYc\", \"h\": \"2rOUYc\", \"l\": \"bitly\", \"al\": \"en-US\", \"hh\": \"1.usa.gov\", \"r\": \"direct\", \"u\": \"http:\\\\/\\\\/toxtown.nlm.nih.gov\\\\/index.php\", \"t\": 1331923501, \"hc\": 1255769846, \"cy\": \"Marietta\", \"ll\": [ 33.953201, -84.517700 ] }\\n',\n",
       " '{ \"a\": \"Mozilla\\\\/4.0 (compatible; MSIE 8.0; Windows NT 6.1; Trident\\\\/4.0; SLCC2; .NET CLR 2.0.50727; .NET CLR 3.5.30729; .NET CLR 3.0.30729; Media Center PC 6.0; .NET4.0C; .NET4.0E)\", \"c\": \"US\", \"nk\": 0, \"tz\": \"America\\\\/New_York\", \"gr\": \"GA\", \"g\": \"2rOUYc\", \"h\": \"2rOUYc\", \"l\": \"bitly\", \"al\": \"en-US\", \"hh\": \"1.usa.gov\", \"r\": \"direct\", \"u\": \"http:\\\\/\\\\/toxtown.nlm.nih.gov\\\\/index.php\", \"t\": 1331923501, \"hc\": 1255769846, \"cy\": \"Marietta\", \"ll\": [ 33.953201, -84.517700 ] }\\n',\n",
       " '{ \"a\": \"Mozilla\\\\/5.0 (Windows NT 6.1; WOW64; rv:10.0.2) Gecko\\\\/20100101 Firefox\\\\/10.0.2\", \"c\": \"US\", \"nk\": 1, \"tz\": \"America\\\\/New_York\", \"gr\": \"NJ\", \"g\": \"vNJS4H\", \"h\": \"u0uD9q\", \"l\": \"o_4us71ccioa\", \"al\": \"en-us,en;q=0.5\", \"hh\": \"1.usa.gov\", \"r\": \"direct\", \"u\": \"https:\\\\/\\\\/www.nysdot.gov\\\\/rexdesign\\\\/design\\\\/community.gif\", \"t\": 1331923501, \"hc\": 1319563556, \"cy\": \"Mount Laurel\", \"ll\": [ 39.957199, -74.916199 ] }\\n',\n",
       " '{ \"a\": \"Mozilla\\\\/5.0 (Windows NT 5.1) AppleWebKit\\\\/535.11 (KHTML, like Gecko) Chrome\\\\/17.0.963.79 Safari\\\\/535.11\", \"c\": \"IT\", \"nk\": 1, \"tz\": \"Europe\\\\/Rome\", \"gr\": \"09\", \"g\": \"xVZg4P\", \"h\": \"wqUkTo\", \"l\": \"nasatwitter\", \"al\": \"it-IT,it;q=0.8,en-US;q=0.6,en;q=0.4\", \"hh\": \"go.nasa.gov\", \"r\": \"http:\\\\/\\\\/t.co\\\\/UKGBxj29\", \"u\": \"http:\\\\/\\\\/www.nasa.gov\\\\/multimedia\\\\/imagegallery\\\\/image_feature_2199.html\", \"t\": 1331923502, \"hc\": 1331908247, \"cy\": \"Saronno\", \"ll\": [ 45.633301, 9.033300 ] }\\n',\n",
       " '{ \"a\": \"Mozilla\\\\/5.0 (Windows NT 6.1; WOW64; rv:10.0.2) Gecko\\\\/20100101 Firefox\\\\/10.0.2\", \"c\": \"US\", \"nk\": 1, \"tz\": \"America\\\\/New_York\", \"gr\": \"KY\", \"g\": \"vNJS4H\", \"h\": \"u0uD9q\", \"l\": \"o_4us71ccioa\", \"al\": \"en-us,en;q=0.5\", \"hh\": \"1.usa.gov\", \"r\": \"direct\", \"u\": \"https:\\\\/\\\\/www.nysdot.gov\\\\/rexdesign\\\\/design\\\\/community.gif\", \"t\": 1331923502, \"hc\": 1319563556, \"cy\": \"Louisville\", \"ll\": [ 38.208500, -85.691803 ] }\\n',\n",
       " '{ \"a\": \"GoogleMaps\\\\/RochesterNY\", \"c\": \"US\", \"nk\": 0, \"tz\": \"America\\\\/Denver\", \"gr\": \"UT\", \"g\": \"mwszkS\", \"h\": \"mwszkS\", \"l\": \"bitly\", \"hh\": \"1.usa.gov\", \"r\": \"http:\\\\/\\\\/www.AwareMap.com\\\\/\", \"u\": \"http:\\\\/\\\\/www.monroecounty.gov\\\\/etc\\\\/911\\\\/rss.php\", \"t\": 1331923503, \"hc\": 1308262393, \"cy\": \"Provo\", \"ll\": [ 40.218102, -111.613297 ] }\\n',\n",
       " '{ \"a\": \"BlackBerry8520\\\\/5.0.0.1067 Profile\\\\/MIDP-2.1 Configuration\\\\/CLDC-1.1 VendorID\\\\/603\", \"c\": null, \"nk\": 0, \"tz\": \"\", \"g\": \"wcndER\", \"h\": \"zkpJBR\", \"l\": \"bnjacobs\", \"al\": \"en-GB,en;q=0.5\", \"hh\": \"1.usa.gov\", \"r\": \"direct\", \"u\": \"http:\\\\/\\\\/www.nasa.gov\\\\/mission_pages\\\\/nustar\\\\/main\\\\/index.html\", \"t\": 1331923504, \"hc\": 1331922854 }\\n',\n",
       " '{ \"a\": \"Mozilla\\\\/5.0 (compatible; MSIE 9.0; Windows Phone OS 7.5; Trident\\\\/5.0; IEMobile\\\\/9.0; HTC; 7 Trophy)\", \"c\": \"GB\", \"nk\": 0, \"tz\": \"Europe\\\\/London\", \"gr\": \"N7\", \"g\": \"x1aK9I\", \"h\": \"Am3xGg\", \"l\": \"nasatwitter\", \"al\": \"en-GB\", \"hh\": \"go.nasa.gov\", \"r\": \"http:\\\\/\\\\/t.co\\\\/5RxFymkB\", \"u\": \"http:\\\\/\\\\/www.nasa.gov\\\\/multimedia\\\\/imagegallery\\\\/image_feature_2198.html\", \"t\": 1331923504, \"hc\": 1331816802, \"cy\": \"Addlestone\", \"ll\": [ 51.366699, -0.483300 ] }\\n',\n",
       " '{ \"a\": \"Mozilla\\\\/5.0 (Windows NT 6.1; rv:11.0) Gecko\\\\/20100101 Firefox\\\\/11.0\", \"c\": \"US\", \"nk\": 1, \"tz\": \"America\\\\/New_York\", \"gr\": \"MD\", \"g\": \"vNJS4H\", \"h\": \"u0uD9q\", \"l\": \"o_4us71ccioa\", \"al\": \"en-us,en;q=0.5\", \"hh\": \"1.usa.gov\", \"r\": \"direct\", \"u\": \"https:\\\\/\\\\/www.nysdot.gov\\\\/rexdesign\\\\/design\\\\/community.gif\", \"t\": 1331923505, \"hc\": 1319563556, \"cy\": \"Laurel\", \"ll\": [ 39.096699, -76.877899 ] }\\n',\n",
       " '{ \"a\": \"Mozilla\\\\/5.0 (Windows NT 6.1; rv:10.0.2) Gecko\\\\/20100101 Firefox\\\\/10.0.2\", \"c\": \"US\", \"nk\": 1, \"tz\": \"America\\\\/Los_Angeles\", \"gr\": \"CA\", \"g\": \"vNJS4H\", \"h\": \"u0uD9q\", \"l\": \"o_4us71ccioa\", \"al\": \"en-us,en;q=0.5\", \"hh\": \"1.usa.gov\", \"r\": \"direct\", \"u\": \"https:\\\\/\\\\/www.nysdot.gov\\\\/rexdesign\\\\/design\\\\/community.gif\", \"t\": 1331923506, \"hc\": 1319563556, \"cy\": \"Palo Alto\", \"ll\": [ 37.376202, -122.182602 ] }\\n',\n",
       " '{ \"a\": \"Mozilla\\\\/5.0 (Macintosh; Intel Mac OS X 10_7_3) AppleWebKit\\\\/535.11 (KHTML, like Gecko) Chrome\\\\/17.0.963.79 Safari\\\\/535.11\", \"c\": \"US\", \"nk\": 0, \"tz\": \"America\\\\/Chicago\", \"gr\": \"OK\", \"g\": \"wcndER\", \"h\": \"zkpJBR\", \"l\": \"bnjacobs\", \"al\": \"en-US,en;q=0.8\", \"hh\": \"1.usa.gov\", \"r\": \"direct\", \"u\": \"http:\\\\/\\\\/www.nasa.gov\\\\/mission_pages\\\\/nustar\\\\/main\\\\/index.html\", \"t\": 1331923507, \"hc\": 1331922854, \"cy\": \"Oklahoma City\", \"ll\": [ 35.518398, -97.616699 ] }\\n',\n",
       " '{ \"a\": \"Mozilla\\\\/5.0 (iPhone; U; CPU iPhone OS 5_0_1 like Mac OS X; en_US) AppleWebKit (KHTML, like Gecko) Mobile [FBAN\\\\/FBForIPhone;FBAV\\\\/4.1;FBBV\\\\/4100.0;FBDV\\\\/iPhone3,1;FBMD\\\\/iPhone;FBSN\\\\/iPhone OS;FBSV\\\\/5.0.1;FBSS\\\\/2; FBCR\\\\/Rogers;FBID\\\\/phone;FBLC\\\\/en_US;FBSF\\\\/2.0]\", \"c\": \"CA\", \"nk\": 1, \"tz\": \"America\\\\/Vancouver\", \"gr\": \"BC\", \"g\": \"wcndER\", \"h\": \"zkpJBR\", \"l\": \"bnjacobs\", \"al\": \"en-us\", \"hh\": \"1.usa.gov\", \"r\": \"direct\", \"u\": \"http:\\\\/\\\\/www.nasa.gov\\\\/mission_pages\\\\/nustar\\\\/main\\\\/index.html\", \"t\": 1331923509, \"hc\": 1331922854, \"cy\": \"Vancouver\", \"ll\": [ 49.250000, -123.133301 ] }\\n',\n",
       " '{ \"a\": \"Mozilla\\\\/5.0 (Windows NT 6.1; WOW64; rv:10.0.2) Gecko\\\\/20100101 Firefox\\\\/10.0.2\", \"c\": \"DE\", \"nk\": 0, \"tz\": \"Europe\\\\/Berlin\", \"gr\": \"01\", \"g\": \"wcndER\", \"h\": \"zkpJBR\", \"l\": \"bnjacobs\", \"al\": \"de-de,de;q=0.8,en-us;q=0.5,en;q=0.3\", \"hh\": \"1.usa.gov\", \"r\": \"http:\\\\/\\\\/www.facebook.com\\\\/l.php?u=http%3A%2F%2F1.usa.gov%2FzkpJBR&h=iAQFEkYSuAQH6Ok3lkqjP7wcBFbESKBd9sUnJa7p8bqrwAg\", \"u\": \"http:\\\\/\\\\/www.nasa.gov\\\\/mission_pages\\\\/nustar\\\\/main\\\\/index.html\", \"t\": 1331923509, \"hc\": 1331922854, \"cy\": \"Markgrgen\", \"ll\": [ 48.900002, 9.066700 ] }\\n',\n",
       " '{ \"a\": \"Mozilla\\\\/5.0 (compatible; MSIE 9.0; Windows NT 6.0; Trident\\\\/5.0; DI7SP2; DI7SP2)\", \"c\": \"US\", \"nk\": 0, \"tz\": \"America\\\\/New_York\", \"gr\": \"MD\", \"g\": \"xRWPdw\", \"h\": \"wZ0eD0\", \"l\": \"tweetdeckapi\", \"al\": \"en-us\", \"hh\": \"1.usa.gov\", \"r\": \"http:\\\\/\\\\/t.co\\\\/L7ojXrg9\", \"u\": \"http:\\\\/\\\\/www.whitehouse.gov\\\\/the-press-office\\\\/2012\\\\/03\\\\/15\\\\/statement-president-meeting-interagency-task-force-monitor-and-combat-tr\", \"t\": 1331923509, \"hc\": 1331840856, \"cy\": \"Rockville\", \"ll\": [ 39.080700, -77.130203 ] }\\n',\n",
       " '{ \"a\": \"Mozilla\\\\/5.0 (Windows NT 6.1; WOW64; rv:10.0.2) Gecko\\\\/20100101 Firefox\\\\/10.0.2\", \"c\": \"US\", \"nk\": 0, \"tz\": \"America\\\\/Chicago\", \"gr\": \"TX\", \"g\": \"wcndER\", \"h\": \"zkpJBR\", \"l\": \"bnjacobs\", \"al\": \"en-us,en;q=0.5\", \"hh\": \"1.usa.gov\", \"r\": \"http:\\\\/\\\\/www.facebook.com\\\\/l.php?u=http%3A%2F%2F1.usa.gov%2FzkpJBR&h=bAQHlwV60AQHsirI_lQnJRSPSo15NusnwW4JcKawExKR68g\", \"u\": \"http:\\\\/\\\\/www.nasa.gov\\\\/mission_pages\\\\/nustar\\\\/main\\\\/index.html\", \"t\": 1331923510, \"hc\": 1331922854, \"cy\": \"Plano\", \"ll\": [ 33.034698, -96.813400 ] }\\n',\n",
       " '{ \"a\": \"Mozilla\\\\/5.0 (Windows NT 6.1; WOW64; rv:10.0.2) Gecko\\\\/20100101 Firefox\\\\/10.0.2\", \"c\": null, \"nk\": 1, \"tz\": \"\", \"g\": \"vNJS4H\", \"h\": \"u0uD9q\", \"l\": \"o_4us71ccioa\", \"al\": \"en-us,en;q=0.5\", \"hh\": \"1.usa.gov\", \"r\": \"direct\", \"u\": \"https:\\\\/\\\\/www.nysdot.gov\\\\/rexdesign\\\\/design\\\\/community.gif\", \"t\": 1331923511, \"hc\": 1319563556 }\\n',\n",
       " '{ \"a\": \"Mozilla\\\\/5.0 (Windows NT 6.1; WOW64; rv:10.0.2) Gecko\\\\/20100101 Firefox\\\\/10.0.2\", \"c\": \"US\", \"nk\": 1, \"tz\": \"America\\\\/New_York\", \"gr\": \"CT\", \"g\": \"vNJS4H\", \"h\": \"u0uD9q\", \"l\": \"o_4us71ccioa\", \"al\": \"en-us,en;q=0.5\", \"hh\": \"1.usa.gov\", \"r\": \"direct\", \"u\": \"https:\\\\/\\\\/www.nysdot.gov\\\\/rexdesign\\\\/design\\\\/community.gif\", \"t\": 1331923514, \"hc\": 1319563556, \"cy\": \"Stamford\", \"ll\": [ 41.097801, -73.518799 ] }\\n',\n",
       " '{ \"a\": \"Mozilla\\\\/5.0 (iPad; CPU OS 5_1 like Mac OS X) AppleWebKit\\\\/534.46 (KHTML, like Gecko) Version\\\\/5.1 Mobile\\\\/9B176 Safari\\\\/7534.48.3\", \"c\": \"US\", \"nk\": 0, \"tz\": \"America\\\\/Los_Angeles\", \"gr\": \"CA\", \"g\": \"x5Zksw\", \"h\": \"x3TIvB\", \"l\": \"ddilistserv\", \"al\": \"en-us\", \"hh\": \"1.usa.gov\", \"r\": \"direct\", \"u\": \"http:\\\\/\\\\/www.fda.gov\\\\/NewsEvents\\\\/Newsroom\\\\/PressAnnouncements\\\\/ucm296006.htm\", \"t\": 1331923514, \"hc\": 1331818358, \"kw\": \"escitalopramL\", \"cy\": \"Torrance\", \"ll\": [ 33.830200, -118.314697 ] }\\n',\n",
       " '{ \"a\": \"Mozilla\\\\/4.0 (compatible; MSIE 7.0; Windows NT 5.1; .NET CLR 1.1.4322; .NET CLR 2.0.50727; .NET CLR 3.0.4506.2152; .NET CLR 3.5.30729)\", \"c\": \"US\", \"nk\": 0, \"tz\": \"America\\\\/Los_Angeles\", \"gr\": \"CA\", \"g\": \"FO8oI7\", \"h\": \"zYl1GN\", \"l\": \"jcydc\", \"al\": \"en-us\", \"hh\": \"1.usa.gov\", \"r\": \"http:\\\\/\\\\/www.nationalreview.com\\\\/tweet\", \"u\": \"http:\\\\/\\\\/www.hhs.gov\\\\/news\\\\/press\\\\/2012pres\\\\/03\\\\/20120316a.html\", \"t\": 1331923516, \"hc\": 1331915078, \"cy\": \"Long Beach\", \"ll\": [ 33.797600, -118.161697 ] }\\n',\n",
       " '{ \"a\": \"Mozilla\\\\/5.0 (Macintosh; Intel Mac OS X 10_6_8) AppleWebKit\\\\/535.11 (KHTML, like Gecko) Chrome\\\\/17.0.963.79 Safari\\\\/535.11\", \"c\": \"US\", \"nk\": 0, \"tz\": \"America\\\\/Los_Angeles\", \"gr\": \"CA\", \"g\": \"wnQalX\", \"h\": \"yCdvsP\", \"l\": \"skinmyi\", \"al\": \"en-US,en;q=0.8\", \"hh\": \"1.usa.gov\", \"r\": \"http:\\\\/\\\\/www.barackobama.com\\\\/?source=action-bar\", \"u\": \"http:\\\\/\\\\/www.whitehouse.gov\\\\/photos-and-video\\\\/photogallery\\\\/prime-minister-david-cameron-united-kingdom-official-visit\", \"t\": 1331923516, \"hc\": 1331814239, \"cy\": \"Los Angeles\", \"ll\": [ 33.786598, -118.298698 ] }\\n',\n",
       " '{ \"a\": \"Mozilla\\\\/4.0 (compatible; MSIE 8.0; Windows NT 6.1; Trident\\\\/4.0; SLCC2; .NET CLR 2.0.50727; .NET CLR 3.5.30729; .NET CLR 3.0.30729; Media Center PC 6.0; InfoPath.2; 3M\\\\/MSIE 8.0)\", \"c\": \"US\", \"nk\": 1, \"tz\": \"America\\\\/Chicago\", \"gr\": \"MN\", \"g\": \"zwQbJH\", \"h\": \"zwQbJH\", \"l\": \"bitly\", \"al\": \"en-US\", \"hh\": \"1.usa.gov\", \"r\": \"http:\\\\/\\\\/t.co\\\\/akubeH95\", \"u\": \"http:\\\\/\\\\/www.energystar.gov\\\\/index.cfm?fuseaction=pt_awards.showawardlist&year=2012\", \"t\": 1331923519, \"hc\": 1331913447, \"cy\": \"Saint Paul\", \"ll\": [ 44.948700, -93.100197 ] }\\n',\n",
       " '{ \"a\": \"Mozilla\\\\/5.0 (Macintosh; Intel Mac OS X 10_7_3) AppleWebKit\\\\/535.19 (KHTML, like Gecko) Chrome\\\\/18.0.1025.56 Safari\\\\/535.19\", \"c\": \"US\", \"nk\": 1, \"tz\": \"America\\\\/New_York\", \"gr\": \"CT\", \"g\": \"FO3PBI\", \"h\": \"FO3PBI\", \"l\": \"bitly\", \"al\": \"en-US,en;q=0.8\", \"hh\": \"1.usa.gov\", \"r\": \"http:\\\\/\\\\/www.facebook.com\\\\/\", \"u\": \"http:\\\\/\\\\/nccam.nih.gov\\\\/health\\\\/massage?nav=fb\", \"t\": 1331923519, \"hc\": 1331913200, \"cy\": \"New Haven\", \"ll\": [ 41.311100, -72.924103 ] }\\n',\n",
       " '{ \"a\": \"Mozilla\\\\/5.0 (Macintosh; Intel Mac OS X 10_6_6) AppleWebKit\\\\/535.11 (KHTML, like Gecko) Chrome\\\\/17.0.963.79 Safari\\\\/535.11\", \"c\": \"US\", \"nk\": 1, \"tz\": \"America\\\\/New_York\", \"gr\": \"NY\", \"g\": \"vNJS4H\", \"h\": \"u0uD9q\", \"l\": \"o_4us71ccioa\", \"al\": \"en-US,en;q=0.8\", \"hh\": \"1.usa.gov\", \"r\": \"direct\", \"u\": \"https:\\\\/\\\\/www.nysdot.gov\\\\/rexdesign\\\\/design\\\\/community.gif\", \"t\": 1331923520, \"hc\": 1319563556, \"cy\": \"White Plains\", \"ll\": [ 41.029099, -73.758003 ] }\\n',\n",
       " '{ \"a\": \"Mozilla\\\\/4.0 (compatible; MSIE 7.0; Windows NT 5.1; .NET CLR 1.1.4322; .NET CLR 3.0.04506.648; .NET CLR 3.5.21022; InfoPath.2; .NET CLR 3.0.4506.2152; .NET CLR 3.5.30729; .NET CLR 2.0.50727; .NET4.0C; .NET4.0E)\", \"c\": \"US\", \"nk\": 1, \"tz\": \"Pacific\\\\/Honolulu\", \"gr\": \"HI\", \"g\": \"FO8qn8\", \"h\": \"zGDswc\", \"l\": \"kcatian\", \"al\": \"en-us\", \"hh\": \"1.usa.gov\", \"r\": \"direct\", \"u\": \"http:\\\\/\\\\/www.cnic.navy.mil\\\\/navycni\\\\/groups\\\\/public\\\\/@hawaii\\\\/documents\\\\/document\\\\/cnicp_a286591.pdf\", \"t\": 1331923522, \"hc\": 1331922709, \"kw\": \"SBXreturns\", \"cy\": \"Honolulu\", \"ll\": [ 21.313900, -157.824493 ] }\\n',\n",
       " '{ \"a\": \"Mozilla\\\\/5.0 (iPad; CPU OS 5_1 like Mac OS X) AppleWebKit\\\\/534.46 (KHTML, like Gecko) Mobile\\\\/9B176 Twitter for iPad\", \"c\": \"US\", \"nk\": 0, \"tz\": \"America\\\\/New_York\", \"gr\": \"MA\", \"g\": \"wqGppe\", \"h\": \"A3r7z2\", \"l\": \"nasatwitter\", \"al\": \"en-us\", \"hh\": \"go.nasa.gov\", \"r\": \"https:\\\\/\\\\/twitter.com\\\\/ericfishertwc\\\\/status\\\\/180631709165957121\", \"u\": \"http:\\\\/\\\\/www.nasa.gov\\\\/mission_pages\\\\/sunearth\\\\/missions\\\\/atrex-launch.html\", \"t\": 1331923523, \"hc\": 1331749429, \"cy\": \"East Sandwich\", \"ll\": [ 41.728500, -70.433403 ] }\\n',\n",
       " '{ \"a\": \"Mozilla\\\\/4.0 (compatible; MSIE 8.0; Windows NT 5.1; Trident\\\\/4.0; .NET CLR 2.0.50727; .NET CLR 3.0.4506.2152; .NET CLR 3.5.30729; InfoPath.2)\", \"c\": \"US\", \"nk\": 0, \"tz\": \"America\\\\/Los_Angeles\", \"gr\": \"OR\", \"g\": \"zpRnhs\", \"h\": \"zpRnhs\", \"l\": \"bitly\", \"al\": \"en-us\", \"hh\": \"1.usa.gov\", \"r\": \"http:\\\\/\\\\/www.usa.gov\\\\/Citizen\\\\/Services\\\\/Address-Changes.shtml\", \"u\": \"http:\\\\/\\\\/answers.usa.gov\\\\/system\\\\/selfservice.controller?CONFIGURATION=1000&PARTITION_ID=1&CMD=VIEW_ARTICLE&USERTYPE=1&LANGUAGE=en&COUNTRY=US&ARTICLE_ID=11606\", \"t\": 1331923525, \"hc\": 1326477025, \"cy\": \"Saint Helens\", \"ll\": [ 45.887100, -122.928299 ] }\\n',\n",
       " '{ \"a\": \"Mozilla\\\\/5.0 (Macintosh; Intel Mac OS X 10_7_3) AppleWebKit\\\\/534.54.16 (KHTML, like Gecko) Version\\\\/5.1.4 Safari\\\\/534.54.16\", \"c\": \"US\", \"nk\": 0, \"tz\": \"America\\\\/New_York\", \"gr\": \"MD\", \"g\": \"vNJS4H\", \"h\": \"u0uD9q\", \"l\": \"o_4us71ccioa\", \"al\": \"en-us\", \"hh\": \"1.usa.gov\", \"r\": \"direct\", \"u\": \"https:\\\\/\\\\/www.nysdot.gov\\\\/rexdesign\\\\/design\\\\/community.gif\", \"t\": 1331923526, \"hc\": 1319563556, \"cy\": \"Derwood\", \"ll\": [ 39.143501, -77.138802 ] }\\n',\n",
       " '{ \"a\": \"Mozilla\\\\/4.0 (compatible; MSIE 7.0; Windows NT 5.1; .NET CLR 1.1.4322; .NET CLR 2.0.50727; .NET CLR 3.0.04506.648; .NET CLR 3.5.21022; InfoPath.2; .NET CLR 3.0.4506.2152; .NET CLR 3.5.30729; .NET4.0C; .NET4.0E)\", \"c\": \"US\", \"nk\": 1, \"tz\": \"Pacific\\\\/Honolulu\", \"gr\": \"HI\", \"g\": \"x98anS\", \"h\": \"FOb6ww\", \"l\": \"kcatian\", \"al\": \"en-us\", \"hh\": \"1.usa.gov\", \"r\": \"direct\", \"u\": \"http:\\\\/\\\\/www.navy.mil\\\\/search\\\\/display.asp?story_id=65845\", \"t\": 1331923529, \"hc\": 1331921801, \"kw\": \"RealignOPNAVstaff\", \"cy\": \"Mililani\", \"ll\": [ 21.470100, -157.963699 ] }\\n',\n",
       " '{ \"a\": \"Mozilla\\\\/5.0 (iPad; CPU OS 5_1 like Mac OS X) AppleWebKit\\\\/534.46 (KHTML, like Gecko) Mobile\\\\/9B176 Twitter for iPad\", \"c\": null, \"nk\": 1, \"tz\": \"\", \"g\": \"y5rMac\", \"h\": \"xANY6O\", \"l\": \"twitterfeed\", \"al\": \"en-gb\", \"hh\": \"1.usa.gov\", \"r\": \"direct\", \"u\": \"http:\\\\/\\\\/www.fda.gov\\\\/Safety\\\\/Recalls\\\\/ucm296326.htm\", \"t\": 1331923529, \"hc\": 1331916302 }\\n',\n",
       " '{\"_heartbeat_\":1331923531}\\n',\n",
       " '{ \"a\": \"Mozilla\\\\/5.0 (Linux; U; Android 2.3.4; es-es; LG-E510 Build\\\\/GRJ22) AppleWebKit\\\\/533.1 (KHTML, like Gecko) Version\\\\/4.0 Mobile Safari\\\\/533.1\", \"c\": \"ES\", \"nk\": 1, \"tz\": \"Europe\\\\/Madrid\", \"gr\": \"31\", \"g\": \"z1ztLK\", \"h\": \"A925vS\", \"l\": \"nasatwitter\", \"al\": \"es-ES, en-US\", \"hh\": \"go.nasa.gov\", \"r\": \"http:\\\\/\\\\/t.co\\\\/AR1s2y09\", \"u\": \"http:\\\\/\\\\/www.nasa.gov\\\\/mission_pages\\\\/icebridge\\\\/news\\\\/spr12\\\\/arctic_2012campaign.html\", \"t\": 1331923531, \"hc\": 1331834915, \"cy\": \"Abanilla\", \"ll\": [ 38.200001, -1.050000 ] }\\n',\n",
       " '{ \"a\": \"Mozilla\\\\/5.0 (Windows NT 6.1; WOW64; rv:10.0.2) Gecko\\\\/20100101 Firefox\\\\/10.0.2\", \"c\": \"FR\", \"nk\": 0, \"tz\": \"Europe\\\\/Paris\", \"gr\": \"C1\", \"g\": \"wcndER\", \"h\": \"zkpJBR\", \"l\": \"bnjacobs\", \"al\": \"en-us,en;q=0.5\", \"hh\": \"1.usa.gov\", \"r\": \"http:\\\\/\\\\/www.facebook.com\\\\/\", \"u\": \"http:\\\\/\\\\/www.nasa.gov\\\\/mission_pages\\\\/nustar\\\\/main\\\\/index.html\", \"t\": 1331923531, \"hc\": 1331922854, \"cy\": \"Illkirch-graffenstaden\", \"ll\": [ 48.533298, 7.716700 ] }\\n',\n",
       " '{ \"a\": \"Mozilla\\\\/5.0 (Macintosh; Intel Mac OS X 10.6; rv:10.0.2) Gecko\\\\/20100101 Firefox\\\\/10.0.2\", \"c\": \"US\", \"nk\": 0, \"tz\": \"America\\\\/New_York\", \"gr\": \"GA\", \"g\": \"wcndER\", \"h\": \"zkpJBR\", \"l\": \"bnjacobs\", \"al\": \"en-us,en;q=0.5\", \"hh\": \"1.usa.gov\", \"r\": \"http:\\\\/\\\\/www.facebook.com\\\\/l.php?u=http%3A%2F%2F1.usa.gov%2FzkpJBR&h=xAQGv80mJAQGH6s7X4SaQMFwzuIYb7haLF1edU-uqoTaAIw\", \"u\": \"http:\\\\/\\\\/www.nasa.gov\\\\/mission_pages\\\\/nustar\\\\/main\\\\/index.html\", \"t\": 1331923534, \"hc\": 1331922854, \"cy\": \"Athens\", \"ll\": [ 33.949902, -83.375000 ] }\\n',\n",
       " '{ \"a\": \"Mozilla\\\\/5.0 (Windows NT 6.1; WOW64) AppleWebKit\\\\/535.11 (KHTML, like Gecko) Chrome\\\\/17.0.963.79 Safari\\\\/535.11\", \"c\": \"PK\", \"nk\": 0, \"tz\": \"Asia\\\\/Karachi\", \"gr\": \"04\", \"g\": \"wcndER\", \"h\": \"zkpJBR\", \"l\": \"bnjacobs\", \"al\": \"en-GB,en-US;q=0.8,en;q=0.6\", \"hh\": \"1.usa.gov\", \"r\": \"http:\\\\/\\\\/www.facebook.com\\\\/\", \"u\": \"http:\\\\/\\\\/www.nasa.gov\\\\/mission_pages\\\\/nustar\\\\/main\\\\/index.html\", \"t\": 1331923535, \"hc\": 1331922854, \"cy\": \"Lahore\", \"ll\": [ 31.549700, 74.343597 ] }\\n',\n",
       " '{ \"a\": \"Mozilla\\\\/5.0 (Linux; U; Android 2.3.3; en-us; DROIDX Build\\\\/4.5.1_57_DX5-35) AppleWebKit\\\\/533.1 (KHTML, like Gecko) Version\\\\/4.0 Mobile Safari\\\\/533.1\", \"c\": null, \"nk\": 1, \"tz\": \"\", \"g\": \"xXXY0s\", \"h\": \"FOgTq7\", \"l\": \"vangheem\", \"al\": \"en-US\", \"hh\": \"1.usa.gov\", \"r\": \"http:\\\\/\\\\/t.co\\\\/hVJbTxoY\", \"u\": \"http:\\\\/\\\\/www.fbi.gov\\\\/news\\\\/pressrel\\\\/press-releases\\\\/fbi-director-recognizes-distinguished-community-leaders\", \"t\": 1331923535, \"hc\": 1331921421 }\\n',\n",
       " '{ \"a\": \"Mozilla\\\\/5.0 (Windows NT 6.1; WOW64; rv:10.0.2) Gecko\\\\/20100101 Firefox\\\\/10.0.2\", \"c\": \"US\", \"nk\": 1, \"tz\": \"America\\\\/New_York\", \"gr\": \"PA\", \"g\": \"vNJS4H\", \"h\": \"u0uD9q\", \"l\": \"o_4us71ccioa\", \"al\": \"en-us,en;q=0.5\", \"hh\": \"1.usa.gov\", \"r\": \"direct\", \"u\": \"https:\\\\/\\\\/www.nysdot.gov\\\\/rexdesign\\\\/design\\\\/community.gif\", \"t\": 1331923535, \"hc\": 1319563556, \"cy\": \"Allentown\", \"ll\": [ 40.567799, -75.482803 ] }\\n',\n",
       " '{ \"a\": \"Mozilla\\\\/5.0 (Windows NT 6.1; WOW64; rv:9.0.1) Gecko\\\\/20100101 Firefox\\\\/9.0.1\", \"c\": \"US\", \"nk\": 1, \"tz\": \"America\\\\/New_York\", \"gr\": \"GA\", \"g\": \"vNJS4H\", \"h\": \"u0uD9q\", \"l\": \"o_4us71ccioa\", \"al\": \"en-us,en;q=0.5\", \"hh\": \"1.usa.gov\", \"r\": \"direct\", \"u\": \"https:\\\\/\\\\/www.nysdot.gov\\\\/rexdesign\\\\/design\\\\/community.gif\", \"t\": 1331923537, \"hc\": 1319563556, \"cy\": \"Savannah\", \"ll\": [ 31.997101, -80.964500 ] }\\n',\n",
       " '{ \"a\": \"Mozilla\\\\/5.0 (iPad; CPU OS 5_1 like Mac OS X) AppleWebKit\\\\/534.46 (KHTML, like Gecko) Version\\\\/5.1 Mobile\\\\/9B176 Safari\\\\/7534.48.3\", \"c\": \"US\", \"nk\": 1, \"tz\": \"America\\\\/New_York\", \"gr\": \"MD\", \"g\": \"vNJS4H\", \"h\": \"u0uD9q\", \"l\": \"o_4us71ccioa\", \"al\": \"en-us\", \"hh\": \"1.usa.gov\", \"r\": \"direct\", \"u\": \"https:\\\\/\\\\/www.nysdot.gov\\\\/rexdesign\\\\/design\\\\/community.gif\", \"t\": 1331923537, \"hc\": 1319563556, \"cy\": \"Forest Hill\", \"ll\": [ 39.584599, -76.391800 ] }\\n',\n",
       " '{ \"a\": \"Mozilla\\\\/5.0 (Windows NT 6.1; WOW64) AppleWebKit\\\\/535.11 (KHTML, like Gecko) Chrome\\\\/17.0.963.79 Safari\\\\/535.11\", \"c\": \"US\", \"nk\": 0, \"tz\": \"America\\\\/Chicago\", \"gr\": \"KS\", \"g\": \"wcndER\", \"h\": \"zkpJBR\", \"l\": \"bnjacobs\", \"al\": \"en-US,en;q=0.8\", \"hh\": \"1.usa.gov\", \"r\": \"http:\\\\/\\\\/www.facebook.com\\\\/l.php?u=http%3A%2F%2F1.usa.gov%2FzkpJBR&h=VAQGlKGE8AQGHgK5Hp_g8VStBtSzsv0UTo-1IVs25HS_zuQ\", \"u\": \"http:\\\\/\\\\/www.nasa.gov\\\\/mission_pages\\\\/nustar\\\\/main\\\\/index.html\", \"t\": 1331923537, \"hc\": 1331922854, \"cy\": \"Wichita\", \"ll\": [ 37.693600, -97.480400 ] }\\n',\n",
       " '{ \"a\": \"Mozilla\\\\/5.0 (Windows NT 5.1; rv:10.0.2) Gecko\\\\/20100101 Firefox\\\\/10.0.2\", \"c\": \"US\", \"nk\": 0, \"tz\": \"America\\\\/New_York\", \"gr\": \"NH\", \"g\": \"wqGppe\", \"h\": \"A3r7z2\", \"l\": \"nasatwitter\", \"al\": \"en-us,en;q=0.5\", \"hh\": \"go.nasa.gov\", \"r\": \"http:\\\\/\\\\/www.facebook.com\\\\/l.php?u=http%3A%2F%2Fgo.nasa.gov%2FA3r7z2&h=iAQGn0xPpAQHzQVI0v8TbXpDRzx5RXKXhFwCRnTtdLE0ktg\", \"u\": \"http:\\\\/\\\\/www.nasa.gov\\\\/mission_pages\\\\/sunearth\\\\/missions\\\\/atrex-launch.html\", \"t\": 1331923538, \"hc\": 1331749429, \"cy\": \"Deerfield\", \"ll\": [ 43.149101, -71.256401 ] }\\n',\n",
       " '{ \"a\": \"Mozilla\\\\/5.0 (Macintosh; Intel Mac OS X 10_6_6) AppleWebKit\\\\/535.11 (KHTML, like Gecko) Chrome\\\\/17.0.963.79 Safari\\\\/535.11\", \"c\": \"US\", \"nk\": 1, \"tz\": \"America\\\\/New_York\", \"gr\": \"NY\", \"g\": \"vNJS4H\", \"h\": \"u0uD9q\", \"l\": \"o_4us71ccioa\", \"al\": \"en-US,en;q=0.8\", \"hh\": \"1.usa.gov\", \"r\": \"direct\", \"u\": \"https:\\\\/\\\\/www.nysdot.gov\\\\/rexdesign\\\\/design\\\\/community.gif\", \"t\": 1331923540, \"hc\": 1319563556, \"cy\": \"White Plains\", \"ll\": [ 41.029099, -73.758003 ] }\\n',\n",
       " '{ \"a\": \"Mozilla\\\\/5.0 (Linux; U; Android 4.0.3; en-us; Xoom Build\\\\/IML77) AppleWebKit\\\\/534.30 (KHTML, like Gecko) Version\\\\/4.0 Safari\\\\/534.30\", \"c\": \"US\", \"nk\": 1, \"tz\": \"America\\\\/New_York\", \"gr\": \"MD\", \"g\": \"Axqcth\", \"h\": \"yoAKgi\", \"l\": \"twitterfeed\", \"al\": \"en-US\", \"hh\": \"1.usa.gov\", \"r\": \"http:\\\\/\\\\/t.co\\\\/kAMPLa6p\", \"u\": \"http:\\\\/\\\\/www.montgomerycountymd.gov\\\\/Apps\\\\/Police\\\\/News\\\\/NA_details.asp?NaID=6415&utm_source=twitterfeed&utm_medium=twitter\", \"t\": 1331923541, \"hc\": 1331905432, \"cy\": \"Takoma Park\", \"ll\": [ 38.982700, -77.003998 ] }\\n',\n",
       " '{ \"a\": \"Mozilla\\\\/5.0 (iPad; CPU OS 5_0_1 like Mac OS X) AppleWebKit\\\\/534.46 (KHTML, like Gecko) Version\\\\/5.1 Mobile\\\\/9A405 Safari\\\\/7534.48.3\", \"c\": null, \"nk\": 0, \"tz\": \"\", \"g\": \"vNJS4H\", \"h\": \"u0uD9q\", \"l\": \"o_4us71ccioa\", \"al\": \"en-us\", \"hh\": \"1.usa.gov\", \"r\": \"direct\", \"u\": \"https:\\\\/\\\\/www.nysdot.gov\\\\/rexdesign\\\\/design\\\\/community.gif\", \"t\": 1331923540, \"hc\": 1319563556 }\\n',\n",
       " '{ \"a\": \"Mozilla\\\\/5.0 (Windows NT 6.1; rv:10.0.2) Gecko\\\\/20100101 Firefox\\\\/10.0.2\", \"c\": \"US\", \"nk\": 0, \"tz\": \"America\\\\/Los_Angeles\", \"gr\": \"CA\", \"g\": \"xRWPdw\", \"h\": \"wZ0eD0\", \"l\": \"tweetdeckapi\", \"al\": \"en-us,en;q=0.5\", \"hh\": \"1.usa.gov\", \"r\": \"http:\\\\/\\\\/www.facebook.com\\\\/l.php?u=http%3A%2F%2Ft.co%2FoXjnYTk4&h=DAQHEXj2AAQFa68TbDDY1lGL28awNep9t6i1834yqGQMBMA\", \"u\": \"http:\\\\/\\\\/www.whitehouse.gov\\\\/the-press-office\\\\/2012\\\\/03\\\\/15\\\\/statement-president-meeting-interagency-task-force-monitor-and-combat-tr\", \"t\": 1331923544, \"hc\": 1331840856, \"cy\": \"Chula Vista\", \"ll\": [ 32.608700, -116.936501 ] }\\n',\n",
       " '{ \"a\": \"Mozilla\\\\/5.0 (iPhone; CPU iPhone OS 5_0_1 like Mac OS X) AppleWebKit\\\\/534.46 (KHTML, like Gecko) Mobile\\\\/9A406 Twitter for iPhone\", \"c\": \"US\", \"nk\": 1, \"tz\": \"America\\\\/Chicago\", \"gr\": \"TX\", \"g\": \"wnQalX\", \"h\": \"yCdvsP\", \"l\": \"skinmyi\", \"al\": \"en-us\", \"hh\": \"1.usa.gov\", \"r\": \"https:\\\\/\\\\/twitter.com\\\\/obama2012\\\\/status\\\\/180717049117544448\", \"u\": \"http:\\\\/\\\\/www.whitehouse.gov\\\\/photos-and-video\\\\/photogallery\\\\/prime-minister-david-cameron-united-kingdom-official-visit\", \"t\": 1331923544, \"hc\": 1331814239, \"cy\": \"Dallas\", \"ll\": [ 32.809799, -96.799301 ] }\\n',\n",
       " '{ \"a\": \"Mozilla\\\\/5.0 (Windows NT 6.1; WOW64; rv:10.0.2) Gecko\\\\/20100101 Firefox\\\\/10.0.2\", \"c\": \"DE\", \"nk\": 0, \"tz\": \"Europe\\\\/Berlin\", \"gr\": \"08\", \"g\": \"rOdd29\", \"h\": \"w8VXmH\", \"l\": \"drunktank\", \"al\": \"de-de,de;q=0.8,en-us;q=0.5,en;q=0.3\", \"hh\": \"1.usa.gov\", \"r\": \"http:\\\\/\\\\/roosterteeth.com\\\\/podcast\\\\/episode.php?id=157\", \"u\": \"http:\\\\/\\\\/www.irs.gov\\\\/newsroom\\\\/article\\\\/0,,id=250882,00.html\", \"t\": 1331923543, \"hc\": 1331742257, \"cy\": \"Ludwigshafen\", \"ll\": [ 49.481098, 8.435300 ] }\\n',\n",
       " '{ \"a\": \"Mozilla\\\\/5.0 (Windows NT 6.1; WOW64) AppleWebKit\\\\/535.11 (KHTML, like Gecko) Chrome\\\\/17.0.963.79 Safari\\\\/535.11\", \"c\": \"US\", \"nk\": 0, \"tz\": \"America\\\\/Los_Angeles\", \"gr\": \"WA\", \"g\": \"xKUlqF\", \"h\": \"ynq3vT\", \"l\": \"kcnews\", \"al\": \"en-US,en;q=0.8,es;q=0.6\", \"hh\": \"1.usa.gov\", \"r\": \"http:\\\\/\\\\/t.co\\\\/PjjgyoU6\", \"u\": \"http:\\\\/\\\\/www.kingcounty.gov\\\\/property\\\\/RealEstateServices\\\\/CountyPropertyForSale.aspx\", \"t\": 1331923544, \"hc\": 1330731297, \"cy\": \"Seattle\", \"ll\": [ 47.595100, -122.332603 ] }\\n',\n",
       " '{ \"a\": \"Mozilla\\\\/5.0 (Windows NT 5.1; rv:10.0.2) Gecko\\\\/20100101 Firefox\\\\/10.0.2\", \"c\": \"US\", \"nk\": 0, \"tz\": \"America\\\\/New_York\", \"gr\": \"PA\", \"g\": \"rOdd29\", \"h\": \"w8VXmH\", \"l\": \"drunktank\", \"al\": \"en-us,en;q=0.5\", \"hh\": \"1.usa.gov\", \"r\": \"http:\\\\/\\\\/roosterteeth.com\\\\/podcast\\\\/episode.php?id=157\", \"u\": \"http:\\\\/\\\\/www.irs.gov\\\\/newsroom\\\\/article\\\\/0,,id=250882,00.html\", \"t\": 1331923545, \"hc\": 1331742257, \"cy\": \"Reading\", \"ll\": [ 40.316002, -76.034599 ] }\\n',\n",
       " '{ \"a\": \"Mozilla\\\\/5.0 (compatible; MSIE 9.0; Windows NT 6.1; WOW64; Trident\\\\/5.0)\", \"c\": \"US\", \"nk\": 0, \"tz\": \"America\\\\/Los_Angeles\", \"gr\": \"WA\", \"g\": \"xKUlqF\", \"h\": \"ynq3vT\", \"l\": \"kcnews\", \"al\": \"en-US\", \"hh\": \"1.usa.gov\", \"r\": \"http:\\\\/\\\\/hootsuite.com\\\\/dashboard\", \"u\": \"http:\\\\/\\\\/www.kingcounty.gov\\\\/property\\\\/RealEstateServices\\\\/CountyPropertyForSale.aspx\", \"t\": 1331923545, \"hc\": 1330731297, \"cy\": \"Snohomish\", \"ll\": [ 47.896000, -122.049103 ] }\\n',\n",
       " '{ \"a\": \"Mozilla\\\\/5.0 (Windows; U; Windows NT 6.1; en-US; rv:1.9.2.27) Gecko\\\\/20120216 Firefox\\\\/3.6.27\", \"c\": \"US\", \"nk\": 1, \"tz\": \"America\\\\/New_York\", \"gr\": \"OH\", \"g\": \"pgMnks\", \"h\": \"oKi6ux\", \"l\": \"edircfaq\", \"al\": \"en-us,en;q=0.5\", \"hh\": \"1.usa.gov\", \"r\": \"direct\", \"u\": \"http:\\\\/\\\\/www2.ed.gov\\\\/policy\\\\/elsec\\\\/leg\\\\/esea02\\\\/pg39.html\", \"t\": 1331923546, \"hc\": 1310487713, \"cy\": \"Columbus\", \"ll\": [ 40.053200, -83.022003 ] }\\n',\n",
       " '{ \"a\": \"Mozilla\\\\/5.0 (compatible; MSIE 9.0; Windows NT 6.1; WOW64; Trident\\\\/5.0)\", \"c\": \"US\", \"nk\": 0, \"tz\": \"America\\\\/Los_Angeles\", \"gr\": \"WA\", \"g\": \"xKUlqF\", \"h\": \"ynq3vT\", \"l\": \"kcnews\", \"al\": \"en-US\", \"hh\": \"1.usa.gov\", \"r\": \"http:\\\\/\\\\/t.co\\\\/PjjgyoU6\", \"u\": \"http:\\\\/\\\\/www.kingcounty.gov\\\\/property\\\\/RealEstateServices\\\\/CountyPropertyForSale.aspx\", \"t\": 1331923547, \"hc\": 1330731297, \"cy\": \"Seattle\", \"ll\": [ 47.595100, -122.332603 ] }\\n',\n",
       " '{ \"a\": \"Mozilla\\\\/5.0 (Macintosh; Intel Mac OS X 10_6_8) AppleWebKit\\\\/534.52.7 (KHTML, like Gecko) Version\\\\/5.1.2 Safari\\\\/534.52.7\", \"c\": \"CL\", \"nk\": 0, \"tz\": \"Chile\\\\/Continental\", \"gr\": \"12\", \"g\": \"A8QZFB\", \"h\": \"zi6xxa\", \"l\": \"drvino\", \"al\": \"es-es\", \"hh\": \"j.mp\", \"r\": \"http:\\\\/\\\\/t.co\\\\/t0Udjkrm\", \"u\": \"http:\\\\/\\\\/www.whitehouse.gov\\\\/sites\\\\/default\\\\/files\\\\/2012ukstatedinner.pdf\", \"t\": 1331923548, \"hc\": 1331771533, \"cy\": \"Santiago\", \"ll\": [ -33.450001, -70.666702 ] }\\n',\n",
       " '{ \"a\": \"Mozilla\\\\/5.0 (iPad; CPU OS 5_0_1 like Mac OS X) AppleWebKit\\\\/534.46 (KHTML, like Gecko) Version\\\\/5.1 Mobile\\\\/9A405 Safari\\\\/7534.48.3\", \"c\": null, \"nk\": 0, \"tz\": \"\", \"g\": \"xuIjOO\", \"h\": \"z8EVKc\", \"l\": \"anna2109\", \"al\": \"en-us\", \"hh\": \"1.usa.gov\", \"r\": \"direct\", \"u\": \"http:\\\\/\\\\/photojournal.jpl.nasa.gov\\\\/catalog\\\\/PIA15256\", \"t\": 1331923547, \"hc\": 1331542836 }\\n',\n",
       " '{ \"a\": \"GoogleMaps\\\\/RochesterNY\", \"c\": \"US\", \"nk\": 0, \"tz\": \"America\\\\/Denver\", \"gr\": \"UT\", \"g\": \"mwszkS\", \"h\": \"mwszkS\", \"l\": \"bitly\", \"hh\": \"j.mp\", \"r\": \"http:\\\\/\\\\/www.AwareMap.com\\\\/\", \"u\": \"http:\\\\/\\\\/www.monroecounty.gov\\\\/etc\\\\/911\\\\/rss.php\", \"t\": 1331923549, \"hc\": 1308262393, \"cy\": \"Provo\", \"ll\": [ 40.218102, -111.613297 ] }\\n',\n",
       " '{ \"a\": \"Mozilla\\\\/5.0 (Windows; U; Windows NT 6.1; en-US; rv:1.9.2.25) Gecko\\\\/20111212 Firefox\\\\/3.6.25\", \"c\": null, \"nk\": 1, \"tz\": \"\", \"g\": \"vNJS4H\", \"h\": \"u0uD9q\", \"l\": \"o_4us71ccioa\", \"al\": \"en-us,en;q=0.5\", \"hh\": \"1.usa.gov\", \"r\": \"direct\", \"u\": \"https:\\\\/\\\\/www.nysdot.gov\\\\/rexdesign\\\\/design\\\\/community.gif\", \"t\": 1331923549, \"hc\": 1319563556 }\\n',\n",
       " '{ \"a\": \"Mozilla\\\\/5.0 (Windows NT 6.1; rv:10.0.2) Gecko\\\\/20100101 Firefox\\\\/10.0.2\", \"c\": \"US\", \"nk\": 0, \"tz\": \"America\\\\/Los_Angeles\", \"gr\": \"OR\", \"g\": \"dDFMj\", \"h\": \"fOoLwP\", \"l\": \"mthoodmeadows\", \"al\": \"en-us,en;q=0.5\", \"hh\": \"1.usa.gov\", \"r\": \"http:\\\\/\\\\/www.skihood.com\\\\/The-Mountain\\\\/Conditions\", \"u\": \"http:\\\\/\\\\/forecast.weather.gov\\\\/MapClick.php?site=pqr&smap=1&textField1=45.346&textField2=-121.673\", \"t\": 1331923548, \"hc\": 1297583387, \"cy\": \"Oregon City\", \"ll\": [ 45.321800, -122.523102 ] }\\n',\n",
       " '{ \"a\": \"Mozilla\\\\/5.0 (Windows NT 6.1; rv:10.0.2) Gecko\\\\/20100101 Firefox\\\\/10.0.2\", \"c\": \"US\", \"nk\": 0, \"tz\": \"America\\\\/New_York\", \"gr\": \"VA\", \"g\": \"wFto9d\", \"h\": \"yIkLDb\", \"l\": \"healthfinderfacebook\", \"al\": \"en-us,en;q=0.5\", \"hh\": \"1.usa.gov\", \"r\": \"http:\\\\/\\\\/www.facebook.com\\\\/l.php?u=http%3A%2F%2F1.usa.gov%2FyIkLDb&h=dAQEpG7fLAQGC99FuuLj23Wocw0MLwq4gcZj-C4gVUFsw-g\", \"u\": \"http:\\\\/\\\\/healthfinder.gov\\\\/prevention\\\\/ViewTopic.aspx?topicId=89\", \"t\": 1331923550, \"hc\": 1331328857, \"cy\": \"Charlottesville\", \"ll\": [ 38.032902, -78.513702 ] }\\n',\n",
       " '{ \"a\": \"Mozilla\\\\/5.0 (Macintosh; Intel Mac OS X 10_6_6) AppleWebKit\\\\/535.11 (KHTML, like Gecko) Chrome\\\\/17.0.963.79 Safari\\\\/535.11\", \"c\": \"US\", \"nk\": 1, \"tz\": \"America\\\\/New_York\", \"gr\": \"NY\", \"g\": \"vNJS4H\", \"h\": \"u0uD9q\", \"l\": \"o_4us71ccioa\", \"al\": \"en-US,en;q=0.8\", \"hh\": \"1.usa.gov\", \"r\": \"direct\", \"u\": \"https:\\\\/\\\\/www.nysdot.gov\\\\/rexdesign\\\\/design\\\\/community.gif\", \"t\": 1331923549, \"hc\": 1319563556, \"cy\": \"White Plains\", \"ll\": [ 41.029099, -73.758003 ] }\\n',\n",
       " '{ \"a\": \"Mozilla\\\\/5.0 (compatible; MSIE 9.0; Windows NT 6.1; WOW64; Trident\\\\/5.0)\", \"c\": \"US\", \"nk\": 0, \"tz\": \"America\\\\/Chicago\", \"gr\": \"IL\", \"g\": \"yItuvs\", \"h\": \"wRH7bC\", \"l\": \"tweetdeckapi\", \"al\": \"en-US\", \"hh\": \"1.usa.gov\", \"r\": \"http:\\\\/\\\\/addins.wrex.com\\\\/developing_stories_weather.php\", \"u\": \"http:\\\\/\\\\/www.crh.noaa.gov\\\\/news\\\\/display_cmsstory.php?wfo=lot&storyid=80713&source=0\", \"t\": 1331923555, \"hc\": 1331915247, \"cy\": \"Rockford\", \"ll\": [ 42.271099, -89.059303 ] }\\n',\n",
       " '{\"_heartbeat_\":1331923561}\\n',\n",
       " '{ \"a\": \"Mozilla\\\\/5.0 (iPad; CPU OS 5_0_1 like Mac OS X) AppleWebKit\\\\/534.46 (KHTML, like Gecko) Version\\\\/5.1 Mobile\\\\/9A405 Safari\\\\/7534.48.3\", \"c\": null, \"nk\": 0, \"tz\": \"\", \"g\": \"vNJS4H\", \"h\": \"u0uD9q\", \"l\": \"o_4us71ccioa\", \"al\": \"en-us\", \"hh\": \"1.usa.gov\", \"r\": \"direct\", \"u\": \"https:\\\\/\\\\/www.nysdot.gov\\\\/rexdesign\\\\/design\\\\/community.gif\", \"t\": 1331923560, \"hc\": 1319563556 }\\n',\n",
       " '{ \"a\": \"Mozilla\\\\/5.0 (Linux; U; Android 2.3.4; en-us; DROID2 GLOBAL Build\\\\/4.5.1_57_D2GA-59) AppleWebKit\\\\/533.1 (KHTML, like Gecko) Version\\\\/4.0 Mobile Safari\\\\/533.1\", \"c\": null, \"nk\": 1, \"tz\": \"\", \"g\": \"xVZg4P\", \"h\": \"wqUkTo\", \"l\": \"nasatwitter\", \"al\": \"en-US\", \"hh\": \"go.nasa.gov\", \"r\": \"http:\\\\/\\\\/t.co\\\\/UKGBxj29\", \"u\": \"http:\\\\/\\\\/www.nasa.gov\\\\/multimedia\\\\/imagegallery\\\\/image_feature_2199.html\", \"t\": 1331923560, \"hc\": 1331908247 }\\n',\n",
       " '{ \"a\": \"Mozilla\\\\/5.0 (Windows NT 6.0; WOW64) AppleWebKit\\\\/535.11 (KHTML, like Gecko) Chrome\\\\/17.0.963.79 Safari\\\\/535.11\", \"c\": \"CA\", \"nk\": 0, \"tz\": \"America\\\\/Halifax\", \"gr\": \"NB\", \"g\": \"wcndER\", \"h\": \"zkpJBR\", \"l\": \"bnjacobs\", \"al\": \"en-US\", \"hh\": \"1.usa.gov\", \"r\": \"http:\\\\/\\\\/plus.url.google.com\\\\/url?sa=z&n=1331923544130&url=http%3A%2F%2F1.usa.gov%2FzkpJBR&usg=v7UichiZFUidm3OeLaRZwIproo8.\", \"u\": \"http:\\\\/\\\\/www.nasa.gov\\\\/mission_pages\\\\/nustar\\\\/main\\\\/index.html\", \"t\": 1331923561, \"hc\": 1331922854, \"cy\": \"Fredericton\", \"ll\": [ 45.950001, -66.633301 ] }\\n',\n",
       " '{ \"a\": \"Mozilla\\\\/5.0 (Macintosh; Intel Mac OS X 10_6_6) AppleWebKit\\\\/535.11 (KHTML, like Gecko) Chrome\\\\/17.0.963.79 Safari\\\\/535.11\", \"c\": \"US\", \"nk\": 1, \"tz\": \"America\\\\/New_York\", \"gr\": \"NY\", \"g\": \"vNJS4H\", \"h\": \"u0uD9q\", \"l\": \"o_4us71ccioa\", \"al\": \"en-US,en;q=0.8\", \"hh\": \"1.usa.gov\", \"r\": \"direct\", \"u\": \"https:\\\\/\\\\/www.nysdot.gov\\\\/rexdesign\\\\/design\\\\/community.gif\", \"t\": 1331923562, \"hc\": 1319563556, \"cy\": \"White Plains\", \"ll\": [ 41.029099, -73.758003 ] }\\n',\n",
       " '{ \"a\": \"GoogleMaps\\\\/RochesterNY\", \"c\": \"US\", \"nk\": 0, \"tz\": \"America\\\\/Denver\", \"gr\": \"UT\", \"g\": \"mwszkS\", \"h\": \"mwszkS\", \"l\": \"bitly\", \"hh\": \"1.usa.gov\", \"r\": \"http:\\\\/\\\\/www.AwareMap.com\\\\/\", \"u\": \"http:\\\\/\\\\/www.monroecounty.gov\\\\/etc\\\\/911\\\\/rss.php\", \"t\": 1331923562, \"hc\": 1308262393, \"cy\": \"Provo\", \"ll\": [ 40.218102, -111.613297 ] }\\n',\n",
       " '{ \"a\": \"Opera\\\\/9.80 (J2ME\\\\/MIDP; Opera Mini\\\\/5.1.24009\\\\/27.1350; U; en) Presto\\\\/2.8.119 Version\\\\/11.10\", \"c\": null, \"nk\": 0, \"tz\": \"\", \"g\": \"xVZg4P\", \"h\": \"wqUkTo\", \"l\": \"nasatwitter\", \"al\": \"en-GB,en;q=0.9\", \"hh\": \"go.nasa.gov\", \"r\": \"http:\\\\/\\\\/m.facebook.com\\\\/l.php?u=http%3A%2F%2Fgo.nasa.gov%2FwqUkTo&h=9AQHwpGCf\", \"u\": \"http:\\\\/\\\\/www.nasa.gov\\\\/multimedia\\\\/imagegallery\\\\/image_feature_2199.html\", \"t\": 1331923563, \"hc\": 1331908247 }\\n',\n",
       " '{ \"a\": \"Mozilla\\\\/5.0 (iPad; CPU OS 5_0_1 like Mac OS X) AppleWebKit\\\\/534.46 (KHTML, like Gecko) Version\\\\/5.1 Mobile\\\\/9A405 Safari\\\\/7534.48.3\", \"c\": null, \"nk\": 0, \"tz\": \"\", \"g\": \"vNJS4H\", \"h\": \"u0uD9q\", \"l\": \"o_4us71ccioa\", \"al\": \"en-us\", \"hh\": \"1.usa.gov\", \"r\": \"direct\", \"u\": \"https:\\\\/\\\\/www.nysdot.gov\\\\/rexdesign\\\\/design\\\\/community.gif\", \"t\": 1331923566, \"hc\": 1319563556 }\\n',\n",
       " '{ \"a\": \"Mozilla\\\\/4.0 (compatible; MSIE 7.0; Windows NT 5.1; .NET CLR 1.1.4322; .NET CLR 2.0.50727; InfoPath.1; .NET CLR 3.0.04506.30; .NET CLR 3.0.4506.2152; .NET CLR 3.5.30729; .NET4.0C; .NET4.0E)\", \"c\": \"US\", \"nk\": 1, \"tz\": \"America\\\\/Chicago\", \"gr\": \"WI\", \"g\": \"wdgxVm\", \"h\": \"wdgxVm\", \"l\": \"bitly\", \"al\": \"en-us\", \"hh\": \"1.usa.gov\", \"r\": \"direct\", \"u\": \"http:\\\\/\\\\/dnr.wi.gov\\\\/topic\\\\/ForestFire\\\\/\", \"t\": 1331923566, \"hc\": 1331922814, \"cy\": \"Madison\", \"ll\": [ 43.079601, -89.375801 ] }\\n',\n",
       " '{ \"a\": \"Mozilla\\\\/5.0 (Macintosh; U; Intel Mac OS X 10.6; en-US; rv:1.9.2.28) Gecko\\\\/20120306 Firefox\\\\/3.6.28\", \"c\": \"US\", \"nk\": 1, \"tz\": \"America\\\\/Chicago\", \"gr\": \"LA\", \"g\": \"vNJS4H\", \"h\": \"u0uD9q\", \"l\": \"o_4us71ccioa\", \"al\": \"en-us,en;q=0.5\", \"hh\": \"1.usa.gov\", \"r\": \"direct\", \"u\": \"https:\\\\/\\\\/www.nysdot.gov\\\\/rexdesign\\\\/design\\\\/community.gif\", \"t\": 1331923567, \"hc\": 1319563556, \"cy\": \"Lafayette\", \"ll\": [ 30.160500, -92.033203 ] }\\n',\n",
       " '{ \"a\": \"Mozilla\\\\/5.0 (Macintosh; Intel Mac OS X 10_5_8) AppleWebKit\\\\/534.50.2 (KHTML, like Gecko) Version\\\\/5.0.6 Safari\\\\/533.22.3\", \"c\": \"US\", \"nk\": 1, \"tz\": \"America\\\\/New_York\", \"gr\": \"FL\", \"g\": \"vNJS4H\", \"h\": \"u0uD9q\", \"l\": \"o_4us71ccioa\", \"al\": \"en-us\", \"hh\": \"1.usa.gov\", \"r\": \"direct\", \"u\": \"https:\\\\/\\\\/www.nysdot.gov\\\\/rexdesign\\\\/design\\\\/community.gif\", \"t\": 1331923568, \"hc\": 1319563556, \"cy\": \"Orlando\", \"ll\": [ 28.503700, -81.330597 ] }\\n',\n",
       " '{ \"a\": \"Mozilla\\\\/5.0 (Macintosh; U; Intel Mac OS X 10.6; en-US; rv:1.9.2.28) Gecko\\\\/20120306 Firefox\\\\/3.6.28\", \"c\": \"US\", \"nk\": 1, \"tz\": \"America\\\\/Chicago\", \"gr\": \"LA\", \"g\": \"vNJS4H\", \"h\": \"u0uD9q\", \"l\": \"o_4us71ccioa\", \"al\": \"en-us,en;q=0.5\", \"hh\": \"1.usa.gov\", \"r\": \"direct\", \"u\": \"https:\\\\/\\\\/www.nysdot.gov\\\\/rexdesign\\\\/design\\\\/community.gif\", \"t\": 1331923568, \"hc\": 1319563556, \"cy\": \"Lafayette\", \"ll\": [ 30.160500, -92.033203 ] }\\n',\n",
       " '{ \"a\": \"Mozilla\\\\/5.0 (Macintosh; Intel Mac OS X 10_7_3) AppleWebKit\\\\/535.11 (KHTML, like Gecko) Chrome\\\\/17.0.963.79 Safari\\\\/535.11\", \"c\": \"CA\", \"nk\": 0, \"tz\": \"America\\\\/Vancouver\", \"gr\": \"BC\", \"g\": \"wcndER\", \"h\": \"zkpJBR\", \"l\": \"bnjacobs\", \"al\": \"en-US,en;q=0.8\", \"hh\": \"1.usa.gov\", \"r\": \"http:\\\\/\\\\/plus.url.google.com\\\\/url?sa=z&n=1331923576258&url=http%3A%2F%2F1.usa.gov%2FzkpJBR&usg=HdB0Hf01CzCuxYL_CvwnnmSzS78.\", \"u\": \"http:\\\\/\\\\/www.nasa.gov\\\\/mission_pages\\\\/nustar\\\\/main\\\\/index.html\", \"t\": 1331923568, \"hc\": 1331922854, \"cy\": \"Vancouver\", \"ll\": [ 49.250000, -123.133301 ] }\\n',\n",
       " '{ \"a\": \"Mozilla\\\\/5.0 (iPad; U; CPU OS 4_3_3 like Mac OS X; en-us) AppleWebKit\\\\/533.17.9 (KHTML, like Gecko) Version\\\\/5.0.2 Mobile\\\\/8J2 Safari\\\\/6533.18.5\", \"c\": null, \"nk\": 0, \"tz\": \"\", \"g\": \"vNJS4H\", \"h\": \"u0uD9q\", \"l\": \"o_4us71ccioa\", \"al\": \"en-us\", \"hh\": \"1.usa.gov\", \"r\": \"direct\", \"u\": \"https:\\\\/\\\\/www.nysdot.gov\\\\/rexdesign\\\\/design\\\\/community.gif\", \"t\": 1331923570, \"hc\": 1319563556 }\\n',\n",
       " '{ \"a\": \"Mozilla\\\\/5.0 (Windows NT 6.1) AppleWebKit\\\\/535.19 (KHTML, like Gecko) Chrome\\\\/18.0.1025.100 Safari\\\\/535.19\", \"c\": null, \"nk\": 0, \"tz\": \"\", \"g\": \"xRWPdw\", \"h\": \"xRWPdw\", \"l\": \"bitly\", \"al\": \"en-US,en;q=0.8\", \"hh\": \"1.usa.gov\", \"r\": \"http:\\\\/\\\\/www.facebook.com\\\\/l.php?u=http%3A%2F%2Ft.co%2FJ92HwuTT&h=_AQEKdQtRAQG-wbYt5I3YrbTPoAbkee3Go4DLpC6VeajfWA\", \"u\": \"http:\\\\/\\\\/www.whitehouse.gov\\\\/the-press-office\\\\/2012\\\\/03\\\\/15\\\\/statement-president-meeting-interagency-task-force-monitor-and-combat-tr\", \"t\": 1331923574, \"hc\": 1331824318 }\\n',\n",
       " '{ \"a\": \"Mozilla\\\\/5.0 (Macintosh; U; Intel Mac OS X 10.7; en-US; rv:1.9.2.27) Gecko\\\\/20120216 Firefox\\\\/3.6.27\", \"c\": null, \"nk\": 1, \"tz\": \"\", \"g\": \"vNJS4H\", \"h\": \"u0uD9q\", \"l\": \"o_4us71ccioa\", \"al\": \"en-us,en;q=0.5\", \"hh\": \"1.usa.gov\", \"r\": \"direct\", \"u\": \"https:\\\\/\\\\/www.nysdot.gov\\\\/rexdesign\\\\/design\\\\/community.gif\", \"t\": 1331923574, \"hc\": 1319563556 }\\n',\n",
       " '{ \"a\": \"Mozilla\\\\/5.0 (Windows; U; Windows NT 6.1; en-US; rv:1.9.2.28) Gecko\\\\/20120306 BRI\\\\/1 Firefox\\\\/3.6.28\", \"c\": \"US\", \"nk\": 1, \"tz\": \"America\\\\/Denver\", \"gr\": \"CO\", \"g\": \"vNJS4H\", \"h\": \"u0uD9q\", \"l\": \"o_4us71ccioa\", \"al\": \"en-us,en;q=0.5\", \"hh\": \"1.usa.gov\", \"r\": \"direct\", \"u\": \"https:\\\\/\\\\/www.nysdot.gov\\\\/rexdesign\\\\/design\\\\/community.gif\", \"t\": 1331923576, \"hc\": 1319563556, \"cy\": \"Denver\", \"ll\": [ 39.742699, -105.072601 ] }\\n',\n",
       " '{ \"a\": \"Mozilla\\\\/5.0 (iPhone; CPU iPhone OS 5_1 like Mac OS X) AppleWebKit\\\\/534.46 (KHTML, like Gecko) Version\\\\/5.1 Mobile\\\\/9B176 Safari\\\\/7534.48.3\", \"c\": null, \"nk\": 1, \"tz\": \"\", \"g\": \"xKUlqF\", \"h\": \"ynq3vT\", \"l\": \"kcnews\", \"al\": \"en-us\", \"hh\": \"1.usa.gov\", \"r\": \"direct\", \"u\": \"http:\\\\/\\\\/www.kingcounty.gov\\\\/property\\\\/RealEstateServices\\\\/CountyPropertyForSale.aspx\", \"t\": 1331923576, \"hc\": 1330731297 }\\n',\n",
       " '{ \"a\": \"Mozilla\\\\/5.0 (Windows NT 6.0) AppleWebKit\\\\/535.11 (KHTML, like Gecko) Chrome\\\\/17.0.963.79 Safari\\\\/535.11\", \"c\": \"US\", \"nk\": 0, \"tz\": \"America\\\\/Chicago\", \"gr\": \"MN\", \"g\": \"wcndER\", \"h\": \"zkpJBR\", \"l\": \"bnjacobs\", \"al\": \"en-US,en;q=0.8\", \"hh\": \"1.usa.gov\", \"r\": \"http:\\\\/\\\\/www.facebook.com\\\\/l.php?u=http%3A%2F%2F1.usa.gov%2FzkpJBR&h=QAQEEcemyAQGQNH4AzibEJd-ySmKFNdrDUi8xDd9mO6mg1g\", \"u\": \"http:\\\\/\\\\/www.nasa.gov\\\\/mission_pages\\\\/nustar\\\\/main\\\\/index.html\", \"t\": 1331923577, \"hc\": 1331922854, \"cy\": \"Virginia\", \"ll\": [ 47.593601, -92.495697 ] }\\n',\n",
       " '{ \"a\": \"Mozilla\\\\/5.0 (Windows NT 5.1) AppleWebKit\\\\/535.11 (KHTML, like Gecko) Chrome\\\\/17.0.963.79 Safari\\\\/535.11\", \"c\": \"US\", \"nk\": 0, \"tz\": \"America\\\\/Los_Angeles\", \"gr\": \"OR\", \"g\": \"zb7CP3\", \"h\": \"A9N49b\", \"l\": \"go2training\", \"al\": \"en-US,en;q=0.8\", \"hh\": \"1.usa.gov\", \"r\": \"direct\", \"u\": \"http:\\\\/\\\\/www.visitthecapitol.gov\\\\/visit\\\\/visitor_center_map\\\\/\", \"t\": 1331923579, \"hc\": 1331923535, \"cy\": \"Beaverton\", \"ll\": [ 45.480400, -122.835602 ] }\\n',\n",
       " '{ \"a\": \"Mozilla\\\\/5.0 (compatible; MSIE 9.0; Windows NT 6.0; Trident\\\\/5.0)\", \"c\": \"ES\", \"nk\": 0, \"tz\": \"Europe\\\\/Madrid\", \"gr\": \"29\", \"g\": \"wcndER\", \"h\": \"zkpJBR\", \"l\": \"bnjacobs\", \"al\": \"es\", \"hh\": \"1.usa.gov\", \"r\": \"http:\\\\/\\\\/www.facebook.com\\\\/l.php?u=http%3A%2F%2F1.usa.gov%2FzkpJBR&h=nAQG1QXf0AQG_NqRSidA9BBtubg6i5xRTiXG9-eAEZCdW5A\", \"u\": \"http:\\\\/\\\\/www.nasa.gov\\\\/mission_pages\\\\/nustar\\\\/main\\\\/index.html\", \"t\": 1331923578, \"hc\": 1331922854, \"cy\": \"Madrid\", \"ll\": [ 40.400002, -3.683300 ] }\\n',\n",
       " '{ \"a\": \"Mozilla\\\\/4.0 (compatible; MSIE 6.0; Windows NT 5.1; SV1)\", \"c\": null, \"nk\": 0, \"tz\": \"\", \"g\": \"8Y7Ubt\", \"h\": \"bI27Lk\", \"l\": \"twitterfeed\", \"al\": \"ru\", \"hh\": \"1.usa.gov\", \"r\": \"http:\\\\/\\\\/yandex.ru\\\\/yandsearch?text=1.usa.gov&lr=213\", \"u\": \"http:\\\\/\\\\/wwwcf.nlm.nih.gov\\\\/hsrr_search\\\\/index.cfm?utm_source=twitterfeed&utm_medium=twitter\", \"t\": 1331923578, \"hc\": 1283355892 }\\n',\n",
       " '{ \"a\": \"Mozilla\\\\/4.0 (compatible; MSIE 7.0; Windows NT 5.1; .NET CLR 1.1.4322; .NET CLR 2.0.50727; .NET CLR 3.0.04506.648; .NET CLR 3.5.21022; InfoPath.2; .NET CLR 3.5.30729; .NET CLR 3.0.4506.2152; .NET4.0C; .NET4.0E)\", \"c\": \"US\", \"nk\": 1, \"tz\": \"Pacific\\\\/Honolulu\", \"gr\": \"HI\", \"g\": \"FO8qn8\", \"h\": \"zGDswc\", \"l\": \"kcatian\", \"al\": \"en-us\", \"hh\": \"1.usa.gov\", \"r\": \"direct\", \"u\": \"http:\\\\/\\\\/www.cnic.navy.mil\\\\/navycni\\\\/groups\\\\/public\\\\/@hawaii\\\\/documents\\\\/document\\\\/cnicp_a286591.pdf\", \"t\": 1331923582, \"hc\": 1331922709, \"kw\": \"SBXreturns\", \"cy\": \"Mililani\", \"ll\": [ 21.470100, -157.963699 ] }\\n',\n",
       " '{ \"a\": \"Mozilla\\\\/4.0 (compatible; MSIE 8.0; Windows NT 6.1; Trident\\\\/4.0; SLCC2; .NET CLR 2.0.50727; .NET CLR 3.5.30729; .NET CLR 3.0.30729; Media Center PC 6.0; MDDR; BRI\\\\/2)\", \"c\": null, \"nk\": 0, \"tz\": \"\", \"g\": \"vNJS4H\", \"h\": \"u0uD9q\", \"l\": \"o_4us71ccioa\", \"al\": \"en-US\", \"hh\": \"1.usa.gov\", \"r\": \"direct\", \"u\": \"https:\\\\/\\\\/www.nysdot.gov\\\\/rexdesign\\\\/design\\\\/community.gif\", \"t\": 1331923582, \"hc\": 1319563556 }\\n',\n",
       " '{ \"a\": \"Mozilla\\\\/5.0 (Windows NT 6.1; WOW64; rv:10.0.2) Gecko\\\\/20100101 Firefox\\\\/10.0.2\", \"c\": null, \"nk\": 1, \"tz\": \"\", \"g\": \"vNJS4H\", \"h\": \"u0uD9q\", \"l\": \"o_4us71ccioa\", \"al\": \"en-us,en;q=0.5\", \"hh\": \"1.usa.gov\", \"r\": \"direct\", \"u\": \"https:\\\\/\\\\/www.nysdot.gov\\\\/rexdesign\\\\/design\\\\/community.gif\", \"t\": 1331923584, \"hc\": 1319563556 }\\n',\n",
       " '{ \"a\": \"Mozilla\\\\/5.0 (BlackBerry; U; BlackBerry 9850; en-US) AppleWebKit\\\\/534.11+ (KHTML, like Gecko) Version\\\\/7.1.0.163 Mobile Safari\\\\/534.11+\", \"c\": null, \"nk\": 0, \"tz\": \"\", \"g\": \"ABUI3x\", \"h\": \"wvlqHB\", \"l\": \"twitterfeed\", \"al\": \"en-US,en;q=0.5\", \"hh\": \"1.usa.gov\", \"r\": \"http:\\\\/\\\\/t.co\\\\/WJJmfdud\", \"u\": \"http:\\\\/\\\\/www.nih.gov\\\\/news\\\\/health\\\\/mar2012\\\\/nichd-16.htm?utm_source=twitterfeed&utm_medium=twitter\", \"t\": 1331923583, \"hc\": 1331906985 }\\n',\n",
       " '{ \"a\": \"Mozilla\\\\/4.0 (compatible; MSIE 7.0; Windows NT 5.1; .NET CLR 1.1.4322; .NET CLR 2.0.50727; .NET CLR 3.0.04506.648; .NET CLR 3.5.21022; InfoPath.2; .NET CLR 3.5.30729; .NET CLR 3.0.4506.2152; .NET4.0C; .NET4.0E)\", \"c\": \"US\", \"nk\": 1, \"tz\": \"Pacific\\\\/Honolulu\", \"gr\": \"HI\", \"g\": \"FO8qn8\", \"h\": \"zGDswc\", \"l\": \"kcatian\", \"al\": \"en-us\", \"hh\": \"1.usa.gov\", \"r\": \"direct\", \"u\": \"http:\\\\/\\\\/www.cnic.navy.mil\\\\/navycni\\\\/groups\\\\/public\\\\/@hawaii\\\\/documents\\\\/document\\\\/cnicp_a286591.pdf\", \"t\": 1331923584, \"hc\": 1331922709, \"kw\": \"SBXreturns\", \"cy\": \"Honolulu\", \"ll\": [ 21.313900, -157.824493 ] }\\n',\n",
       " '{ \"a\": \"Mozilla\\\\/5.0 (Windows NT 6.1; WOW64) AppleWebKit\\\\/535.11 (KHTML, like Gecko) Chrome\\\\/17.0.963.79 Safari\\\\/535.11\", \"c\": \"US\", \"nk\": 0, \"tz\": \"America\\\\/Indianapolis\", \"gr\": \"IN\", \"g\": \"wcndER\", \"h\": \"zkpJBR\", \"l\": \"bnjacobs\", \"al\": \"en-US,en;q=0.8\", \"hh\": \"1.usa.gov\", \"r\": \"http:\\\\/\\\\/www.facebook.com\\\\/\", \"u\": \"http:\\\\/\\\\/www.nasa.gov\\\\/mission_pages\\\\/nustar\\\\/main\\\\/index.html\", \"t\": 1331923584, \"hc\": 1331922854, \"cy\": \"Terre Haute\", \"ll\": [ 39.471001, -87.411102 ] }\\n',\n",
       " '{ \"a\": \"Mozilla\\\\/5.0 (Linux; U; Android 2.3.4; en-us; DROID X2 Build\\\\/4.5.1A-DTN-150-30) AppleWebKit\\\\/533.1 (KHTML, like Gecko) Version\\\\/4.0 Mobile Safari\\\\/533.1\", \"c\": null, \"nk\": 0, \"tz\": \"\", \"g\": \"yYwkVq\", \"h\": \"wXQxix\", \"l\": \"twitterfeed\", \"al\": \"en-US\", \"hh\": \"1.usa.gov\", \"r\": \"http:\\\\/\\\\/t.co\\\\/uFS19XYB\", \"u\": \"http:\\\\/\\\\/www.federalreserve.gov\\\\/newsevents\\\\/press\\\\/monetary\\\\/20120314a.htm?utm_campaign=Elevation+Group&utm_source=twitterfeed&utm_medium=twitter\", \"t\": 1331923586, \"hc\": 1331922931 }\\n',\n",
       " '{ \"a\": \"Mozilla\\\\/5.0 (Windows; U; Windows NT 6.1; en-US; rv:1.9.2.25) Gecko\\\\/20111212 Firefox\\\\/3.6.25\", \"c\": \"US\", \"nk\": 1, \"tz\": \"America\\\\/New_York\", \"gr\": \"PA\", \"g\": \"vNJS4H\", \"h\": \"u0uD9q\", \"l\": \"o_4us71ccioa\", \"al\": \"en-us,en;q=0.5\", \"hh\": \"1.usa.gov\", \"r\": \"direct\", \"u\": \"https:\\\\/\\\\/www.nysdot.gov\\\\/rexdesign\\\\/design\\\\/community.gif\", \"t\": 1331923586, \"hc\": 1319563556, \"cy\": \"Philadelphia\", \"ll\": [ 39.996799, -75.148499 ] }\\n',\n",
       " '{ \"a\": \"Mozilla\\\\/5.0 (compatible; MSIE 9.0; Windows NT 6.1; Trident\\\\/5.0; yie9)\", \"c\": \"US\", \"nk\": 0, \"tz\": \"America\\\\/Chicago\", \"gr\": \"IL\", \"g\": \"y7wGgq\", \"h\": \"zwlxab\", \"l\": \"americanactionnetwork\", \"al\": \"en-US\", \"hh\": \"1.usa.gov\", \"r\": \"http:\\\\/\\\\/t.co\\\\/ihUhQF1r\", \"u\": \"http:\\\\/\\\\/www.cbo.gov\\\\/publication\\\\/43083\", \"t\": 1331923585, \"hc\": 1331908890, \"cy\": \"Rolling Meadows\", \"ll\": [ 42.067799, -88.018501 ] }\\n',\n",
       " '{ \"a\": \"Mozilla\\\\/5.0 (iPhone; CPU iPhone OS 5_0_1 like Mac OS X) AppleWebKit\\\\/534.46 (KHTML, like Gecko) Mobile\\\\/9A406 Twitter for iPhone\", \"c\": null, \"nk\": 0, \"tz\": \"\", \"g\": \"xKUlqF\", \"h\": \"ynq3vT\", \"l\": \"kcnews\", \"al\": \"en-us\", \"hh\": \"1.usa.gov\", \"r\": \"https:\\\\/\\\\/twitter.com\\\\/kcnews\\\\/status\\\\/180726457792868352\", \"u\": \"http:\\\\/\\\\/www.kingcounty.gov\\\\/property\\\\/RealEstateServices\\\\/CountyPropertyForSale.aspx\", \"t\": 1331923587, \"hc\": 1330731297 }\\n',\n",
       " '{ \"a\": \"Mozilla\\\\/5.0 (Windows NT 5.1) AppleWebKit\\\\/535.11 (KHTML, like Gecko) Chrome\\\\/17.0.963.79 Safari\\\\/535.11\", \"c\": \"US\", \"nk\": 0, \"tz\": \"America\\\\/New_York\", \"gr\": \"DC\", \"g\": \"yZ04yM\", \"h\": \"AddyGb\", \"l\": \"skinmyi\", \"al\": \"en-US,en;q=0.8\", \"hh\": \"1.usa.gov\", \"r\": \"http:\\\\/\\\\/t.co\\\\/Dx6VAUNm\", \"u\": \"http:\\\\/\\\\/www.whitehouse.gov\\\\/photos-and-video\\\\/photogallery\\\\/february-2012-photo-day\", \"t\": 1331923588, \"hc\": 1329178640, \"cy\": \"Washington\", \"ll\": [ 38.909698, -77.023102 ] }\\n',\n",
       " '{ \"a\": \"Mozilla\\\\/5.0 (Windows NT 6.1; rv:10.0.2) Gecko\\\\/20100101 Firefox\\\\/10.0.2\", \"c\": \"IN\", \"nk\": 0, \"tz\": \"Asia\\\\/Calcutta\", \"gr\": \"37\", \"g\": \"wcndER\", \"h\": \"zkpJBR\", \"l\": \"bnjacobs\", \"al\": \"en-us,en;q=0.5\", \"hh\": \"1.usa.gov\", \"r\": \"http:\\\\/\\\\/www.facebook.com\\\\/\", \"u\": \"http:\\\\/\\\\/www.nasa.gov\\\\/mission_pages\\\\/nustar\\\\/main\\\\/index.html\", \"t\": 1331923587, \"hc\": 1331922854, \"cy\": \"Bhilai\", \"ll\": [ 21.216700, 81.433296 ] }\\n',\n",
       " '{ \"a\": \"Mozilla\\\\/5.0 (Windows NT 6.1; WOW64; rv:10.0.2) Gecko\\\\/20100101 Firefox\\\\/10.0.2\", \"c\": \"SE\", \"nk\": 1, \"tz\": \"Europe\\\\/Stockholm\", \"gr\": \"14\", \"g\": \"xVZg4P\", \"h\": \"wqUkTo\", \"l\": \"nasatwitter\", \"al\": \"sv-se,sv;q=0.8,en-us;q=0.5,en;q=0.3\", \"hh\": \"go.nasa.gov\", \"r\": \"http:\\\\/\\\\/t.co\\\\/UKGBxj29\", \"u\": \"http:\\\\/\\\\/www.nasa.gov\\\\/multimedia\\\\/imagegallery\\\\/image_feature_2199.html\", \"t\": 1331923590, \"hc\": 1331908247, \"cy\": \"Lule\", \"ll\": [ 65.583298, 22.150000 ] }\\n',\n",
       " '{\"_heartbeat_\":1331923591}\\n',\n",
       " '{ \"a\": \"Mozilla\\\\/5.0 (Windows NT 6.1; WOW64) AppleWebKit\\\\/535.11 (KHTML, like Gecko) Chrome\\\\/17.0.963.79 Safari\\\\/535.11\", \"c\": null, \"nk\": 0, \"tz\": \"\", \"g\": \"wcndER\", \"h\": \"zkpJBR\", \"l\": \"bnjacobs\", \"al\": \"en-US,en;q=0.8\", \"hh\": \"1.usa.gov\", \"r\": \"http:\\\\/\\\\/www.facebook.com\\\\/l.php?u=http%3A%2F%2F1.usa.gov%2FzkpJBR&h=qAQHwGUASAQEWRSUhoAwzxnh8pmh9PgYX1K7A4bWm4NOQ_A\", \"u\": \"http:\\\\/\\\\/www.nasa.gov\\\\/mission_pages\\\\/nustar\\\\/main\\\\/index.html\", \"t\": 1331923589, \"hc\": 1331922854 }\\n',\n",
       " '{ \"a\": \"Mozilla\\\\/5.0 (X11; Ubuntu; Linux x86_64; rv:10.0.2) Gecko\\\\/20100101 Firefox\\\\/10.0.2\", \"c\": \"US\", \"nk\": 0, \"tz\": \"America\\\\/Los_Angeles\", \"gr\": \"CA\", \"g\": \"h4inTS\", \"h\": \"p87LNs\", \"l\": \"degilbert\", \"al\": \"en-us,en;q=0.5\", \"hh\": \"1.usa.gov\", \"r\": \"http:\\\\/\\\\/today.lbl.gov\\\\/2012\\\\/03\\\\/16\\\\/last-chance-to-register-for-jgi-genomics-of-energy-and-environment-meeting\\\\/\", \"u\": \"http:\\\\/\\\\/www.jgi.doe.gov\\\\/meetings\\\\/usermeeting\\\\/\", \"t\": 1331923593, \"hc\": 1316635895, \"kw\": \"JGI-UM7\", \"cy\": \"Albany\", \"ll\": [ 37.889500, -122.294701 ] }\\n',\n",
       " '{ \"a\": \"Mozilla\\\\/5.0 (compatible; MSIE 9.0; Windows NT 6.1; WOW64; Trident\\\\/5.0)\", \"c\": \"US\", \"nk\": 0, \"tz\": \"America\\\\/New_York\", \"gr\": \"FL\", \"g\": \"vNJS4H\", \"h\": \"u0uD9q\", \"l\": \"o_4us71ccioa\", \"al\": \"en-US\", \"hh\": \"1.usa.gov\", \"r\": \"direct\", \"u\": \"https:\\\\/\\\\/www.nysdot.gov\\\\/rexdesign\\\\/design\\\\/community.gif\", \"t\": 1331923593, \"hc\": 1319563556, \"cy\": \"Miami Beach\", \"ll\": [ 25.821301, -80.133904 ] }\\n',\n",
       " '{ \"a\": \"Mozilla\\\\/5.0 (Windows NT 6.1; WOW64; rv:10.0.2) Gecko\\\\/20100101 Firefox\\\\/10.0.2\", \"c\": \"US\", \"nk\": 1, \"tz\": \"America\\\\/Denver\", \"gr\": \"UT\", \"g\": \"vNJS4H\", \"h\": \"u0uD9q\", \"l\": \"o_4us71ccioa\", \"al\": \"en-us,en;q=0.5\", \"hh\": \"1.usa.gov\", \"r\": \"direct\", \"u\": \"https:\\\\/\\\\/www.nysdot.gov\\\\/rexdesign\\\\/design\\\\/community.gif\", \"t\": 1331923593, \"hc\": 1319563556, \"cy\": \"Salt Lake City\", \"ll\": [ 40.724201, -111.878700 ] }\\n',\n",
       " '{ \"a\": \"Mozilla\\\\/5.0 (Macintosh; Intel Mac OS X 10_6_6) AppleWebKit\\\\/535.11 (KHTML, like Gecko) Chrome\\\\/17.0.963.79 Safari\\\\/535.11\", \"c\": \"US\", \"nk\": 1, \"tz\": \"America\\\\/New_York\", \"gr\": \"NY\", \"g\": \"vNJS4H\", \"h\": \"u0uD9q\", \"l\": \"o_4us71ccioa\", \"al\": \"en-US,en;q=0.8\", \"hh\": \"1.usa.gov\", \"r\": \"direct\", \"u\": \"https:\\\\/\\\\/www.nysdot.gov\\\\/rexdesign\\\\/design\\\\/community.gif\", \"t\": 1331923596, \"hc\": 1319563556, \"cy\": \"White Plains\", \"ll\": [ 41.029099, -73.758003 ] }\\n',\n",
       " '{ \"a\": \"Mozilla\\\\/5.0 (Windows NT 6.0) AppleWebKit\\\\/535.11 (KHTML, like Gecko) Chrome\\\\/17.0.963.79 Safari\\\\/535.11\", \"c\": \"US\", \"nk\": 0, \"tz\": \"America\\\\/Denver\", \"gr\": \"CO\", \"g\": \"43f0cO\", \"h\": \"xILcp4\", \"l\": \"grouponinc\", \"al\": \"en-US,en;q=0.8\", \"hh\": \"gr.pn\", \"r\": \"http:\\\\/\\\\/www.groupon.com\\\\/deals\\\\/ga-best-western-plus-four-presidents-lodge?c=all&p=2\", \"u\": \"http:\\\\/\\\\/www.nps.gov\\\\/jeca\\\\/index.htm\", \"t\": 1331923597, \"hc\": 1331502617, \"cy\": \"Windsor\", \"ll\": [ 40.472401, -104.893898 ] }\\n',\n",
       " '{ \"a\": \"Mozilla\\\\/5.0 (Macintosh; Intel Mac OS X 10_6_8) AppleWebKit\\\\/535.11 (KHTML, like Gecko) Chrome\\\\/17.0.963.79 Safari\\\\/535.11\", \"c\": \"US\", \"nk\": 0, \"tz\": \"America\\\\/New_York\", \"gr\": \"NY\", \"g\": \"wcndER\", \"h\": \"zkpJBR\", \"l\": \"bnjacobs\", \"al\": \"en-US,en;q=0.8\", \"hh\": \"1.usa.gov\", \"r\": \"http:\\\\/\\\\/plus.url.google.com\\\\/url?sa=z&n=1331923596298&url=http%3A%2F%2F1.usa.gov%2FzkpJBR&usg=iGQqmTRsFU0Mym0Gh4LDf7i9rUg.\", \"u\": \"http:\\\\/\\\\/www.nasa.gov\\\\/mission_pages\\\\/nustar\\\\/main\\\\/index.html\", \"t\": 1331923596, \"hc\": 1331922854, \"cy\": \"Poughkeepsie\", \"ll\": [ 41.676998, -73.861900 ] }\\n',\n",
       " '{ \"a\": \"Mozilla\\\\/5.0 (Windows NT 5.1) AppleWebKit\\\\/535.11 (KHTML, like Gecko) Chrome\\\\/17.0.963.79 Safari\\\\/535.11\", \"c\": \"PL\", \"nk\": 0, \"tz\": \"Europe\\\\/Warsaw\", \"gr\": \"87\", \"g\": \"wqGppe\", \"h\": \"A3r7z2\", \"l\": \"nasatwitter\", \"al\": \"pl-PL,pl;q=0.8,en-US;q=0.6,en;q=0.4\", \"hh\": \"go.nasa.gov\", \"r\": \"http:\\\\/\\\\/www.facebook.com\\\\/\", \"u\": \"http:\\\\/\\\\/www.nasa.gov\\\\/mission_pages\\\\/sunearth\\\\/missions\\\\/atrex-launch.html\", \"t\": 1331923599, \"hc\": 1331749429, \"cy\": \"Mosina\", \"ll\": [ 52.250000, 16.850000 ] }\\n',\n",
       " '{ \"a\": \"Mozilla\\\\/5.0 (Windows NT 6.1; WOW64; rv:10.0.2) Gecko\\\\/20100101 Firefox\\\\/10.0.2\", \"c\": \"US\", \"nk\": 1, \"tz\": \"America\\\\/Los_Angeles\", \"gr\": \"WA\", \"g\": \"vNJS4H\", \"h\": \"u0uD9q\", \"l\": \"o_4us71ccioa\", \"al\": \"en-us,en;q=0.5\", \"hh\": \"1.usa.gov\", \"r\": \"direct\", \"u\": \"https:\\\\/\\\\/www.nysdot.gov\\\\/rexdesign\\\\/design\\\\/community.gif\", \"t\": 1331923600, \"hc\": 1319563556, \"cy\": \"Olympia\", \"ll\": [ 47.038700, -122.891998 ] }\\n',\n",
       " '{ \"a\": \"Mozilla\\\\/5.0 (Macintosh; Intel Mac OS X 10_5_8) AppleWebKit\\\\/535.11 (KHTML, like Gecko) Chrome\\\\/17.0.963.79 Safari\\\\/535.11\", \"c\": \"US\", \"nk\": 0, \"tz\": \"America\\\\/Chicago\", \"gr\": \"TN\", \"g\": \"yImzG3\", \"h\": \"xUnbnh\", \"l\": \"medlineplus4you\", \"al\": \"en-US,en;q=0.8\", \"hh\": \"1.usa.gov\", \"r\": \"http:\\\\/\\\\/t.co\\\\/sbbNQx9O\", \"u\": \"http:\\\\/\\\\/www.choosemyplate.gov\\\\/food-groups\\\\/downloads\\\\/TenTips\\\\/DGTipsheet4MakeHalfYourGrainsWhole.pdf\", \"t\": 1331923601, \"hc\": 1331577334, \"cy\": \"Nashville\", \"ll\": [ 36.133301, -86.803703 ] }\\n',\n",
       " '{ \"a\": \"Mozilla\\\\/5.0 (Windows NT 6.1; WOW64) AppleWebKit\\\\/535.11 (KHTML, like Gecko) Chrome\\\\/17.0.963.79 Safari\\\\/535.11\", \"c\": null, \"nk\": 1, \"tz\": \"\", \"g\": \"vNJS4H\", \"h\": \"u0uD9q\", \"l\": \"o_4us71ccioa\", \"al\": \"en-US,en;q=0.8\", \"hh\": \"1.usa.gov\", \"r\": \"direct\", \"u\": \"https:\\\\/\\\\/www.nysdot.gov\\\\/rexdesign\\\\/design\\\\/community.gif\", \"t\": 1331923604, \"hc\": 1319563556 }\\n',\n",
       " '{ \"a\": \"Mozilla\\\\/4.0 (compatible; MSIE 8.0; Windows NT 6.1; WOW64; Trident\\\\/4.0; SLCC2; .NET CLR 2.0.50727; .NET CLR 3.5.30729; .NET CLR 3.0.30729; .NET4.0C; .NET CLR 1.1.4322; .NET4.0E; InfoPath.3)\", \"c\": \"US\", \"nk\": 0, \"tz\": \"America\\\\/New_York\", \"gr\": \"DC\", \"g\": \"wnQalX\", \"h\": \"yCdvsP\", \"l\": \"skinmyi\", \"al\": \"en-US\", \"hh\": \"1.usa.gov\", \"r\": \"http:\\\\/\\\\/www.barackobama.com\\\\/videos\\\\/gadget\", \"u\": \"http:\\\\/\\\\/www.whitehouse.gov\\\\/photos-and-video\\\\/photogallery\\\\/prime-minister-david-cameron-united-kingdom-official-visit\", \"t\": 1331923604, \"hc\": 1331814239, \"cy\": \"Washington\", \"ll\": [ 38.909698, -77.023102 ] }\\n',\n",
       " '{ \"a\": \"GoogleMaps\\\\/RochesterNY\", \"c\": \"US\", \"nk\": 0, \"tz\": \"America\\\\/Denver\", \"gr\": \"UT\", \"g\": \"mwszkS\", \"h\": \"mwszkS\", \"l\": \"bitly\", \"hh\": \"j.mp\", \"r\": \"http:\\\\/\\\\/www.AwareMap.com\\\\/\", \"u\": \"http:\\\\/\\\\/www.monroecounty.gov\\\\/etc\\\\/911\\\\/rss.php\", \"t\": 1331923607, \"hc\": 1308262393, \"cy\": \"Provo\", \"ll\": [ 40.218102, -111.613297 ] }\\n',\n",
       " '{ \"a\": \"Mozilla\\\\/4.0 (compatible; MSIE 8.0; Windows NT 5.1; Trident\\\\/4.0; GTB7.3; .NET CLR 1.1.4322; .NET CLR 2.0.50727; .NET CLR 3.0.04506.30; InfoPath.1; .NET CLR 3.0.4506.2152; .NET CLR 3.5.30729)\", \"c\": \"US\", \"nk\": 0, \"tz\": \"America\\\\/New_York\", \"gr\": \"NY\", \"g\": \"xK4dI4\", \"h\": \"xK4dI4\", \"l\": \"bitly\", \"al\": \"en-us\", \"hh\": \"1.usa.gov\", \"r\": \"direct\", \"u\": \"http:\\\\/\\\\/www.faa.gov\\\\/airports\\\\/eastern\\\\/airports_news_events\\\\/?utm_source=OMC&utm_medium=email&utm_content=email%2B3&utm_campaign=Airport%2B2012\", \"t\": 1331923609, \"hc\": 1331049897, \"cy\": \"Poughkeepsie\", \"ll\": [ 41.690399, -73.891899 ] }\\n',\n",
       " '{ \"a\": \"Mozilla\\\\/5.0 (iPhone; CPU iPhone OS 5_1 like Mac OS X) AppleWebKit\\\\/534.46 (KHTML, like Gecko) Mobile\\\\/9B179\", \"c\": \"US\", \"nk\": 0, \"tz\": \"America\\\\/Chicago\", \"gr\": \"TX\", \"g\": \"y7wGgq\", \"h\": \"zwlxab\", \"l\": \"americanactionnetwork\", \"al\": \"en-us\", \"hh\": \"1.usa.gov\", \"r\": \"direct\", \"u\": \"http:\\\\/\\\\/www.cbo.gov\\\\/publication\\\\/43083\", \"t\": 1331923609, \"hc\": 1331908890, \"cy\": \"Amarillo\", \"ll\": [ 35.161301, -101.878998 ] }\\n',\n",
       " '{ \"a\": \"Mozilla\\\\/5.0 (Windows NT 6.1; WOW64; rv:10.0.2) Gecko\\\\/20100101 Firefox\\\\/10.0.2\", \"c\": null, \"nk\": 1, \"tz\": \"\", \"g\": \"xGUTp8\", \"h\": \"xGUTp8\", \"l\": \"bitly\", \"al\": \"en-us,en;q=0.5\", \"hh\": \"1.usa.gov\", \"r\": \"http:\\\\/\\\\/t.co\\\\/lwZWlywi\", \"u\": \"http:\\\\/\\\\/www.michigan.gov\\\\/mdot\\\\/0,4616,7-151-9621_11008_45614-273205--,00.html\", \"t\": 1331923609, \"hc\": 1331901086 }\\n',\n",
       " '{ \"a\": \"Mozilla\\\\/5.0 (Windows NT 6.0; rv:10.0.2) Gecko\\\\/20100101 Firefox\\\\/10.0.2\", \"c\": \"PL\", \"nk\": 0, \"tz\": \"Europe\\\\/Warsaw\", \"gr\": \"87\", \"g\": \"wcndER\", \"h\": \"zkpJBR\", \"l\": \"bnjacobs\", \"al\": \"pl,en;q=0.7,en-us;q=0.3\", \"hh\": \"1.usa.gov\", \"r\": \"http:\\\\/\\\\/www.facebook.com\\\\/\", \"u\": \"http:\\\\/\\\\/www.nasa.gov\\\\/mission_pages\\\\/nustar\\\\/main\\\\/index.html\", \"t\": 1331923610, \"hc\": 1331922854, \"cy\": \"Szczecinek\", \"ll\": [ 53.716702, 16.700001 ] }\\n',\n",
       " '{ \"a\": \"Mozilla\\\\/5.0 (Windows NT 5.1; rv:10.0.2) Gecko\\\\/20100101 Firefox\\\\/10.0.2\", \"c\": \"US\", \"nk\": 0, \"tz\": \"America\\\\/Los_Angeles\", \"gr\": \"CA\", \"g\": \"h4inTS\", \"h\": \"p87LNs\", \"l\": \"degilbert\", \"al\": \"en-us,en;q=0.5\", \"hh\": \"1.usa.gov\", \"r\": \"http:\\\\/\\\\/today.lbl.gov\\\\/\", \"u\": \"http:\\\\/\\\\/www.jgi.doe.gov\\\\/meetings\\\\/usermeeting\\\\/\", \"t\": 1331923611, \"hc\": 1316635895, \"kw\": \"JGI-UM7\", \"cy\": \"Berkeley\", \"ll\": [ 37.866798, -122.253601 ] }\\n',\n",
       " '{ \"a\": \"Mozilla\\\\/5.0 (Windows NT 6.1; WOW64) AppleWebKit\\\\/535.11 (KHTML, like Gecko) Chrome\\\\/17.0.963.79 Safari\\\\/535.11\", \"c\": \"NL\", \"nk\": 0, \"tz\": \"Europe\\\\/Amsterdam\", \"gr\": \"06\", \"g\": \"z5JlJK\", \"h\": \"xCkMxE\", \"l\": \"giffy\", \"al\": \"nl-NL,nl;q=0.8,en-US;q=0.6,en;q=0.4\", \"hh\": \"1.usa.gov\", \"r\": \"http:\\\\/\\\\/t.co\\\\/eGljE8yW\", \"u\": \"http:\\\\/\\\\/www.tsa.gov\\\\/press\\\\/releases\\\\/2012\\\\/0229.shtm\", \"t\": 1331923611, \"hc\": 1331867177, \"cy\": \"Breda\", \"ll\": [ 51.566700, 4.800000 ] }\\n',\n",
       " '{ \"a\": \"Mozilla\\\\/5.0 (Windows NT 6.1; WOW64; rv:10.0.2) Gecko\\\\/20100101 Firefox\\\\/10.0.2\", \"c\": \"US\", \"nk\": 1, \"tz\": \"America\\\\/Chicago\", \"gr\": \"TX\", \"g\": \"vNJS4H\", \"h\": \"u0uD9q\", \"l\": \"o_4us71ccioa\", \"al\": \"en-us,en;q=0.5\", \"hh\": \"1.usa.gov\", \"r\": \"direct\", \"u\": \"https:\\\\/\\\\/www.nysdot.gov\\\\/rexdesign\\\\/design\\\\/community.gif\", \"t\": 1331923613, \"hc\": 1319563556, \"cy\": \"Fort Worth\", \"ll\": [ 32.867298, -97.248596 ] }\\n',\n",
       " '{ \"a\": \"Mozilla\\\\/4.0 (compatible; MSIE 8.0; Windows NT 6.1; WOW64; Trident\\\\/4.0; SLCC2; .NET CLR 2.0.50727; .NET CLR 3.5.30729; .NET CLR 3.0.30729; Media Center PC 6.0; InfoPath.3; .NET4.0C; BRI\\\\/1)\", \"c\": \"US\", \"nk\": 0, \"tz\": \"America\\\\/New_York\", \"gr\": \"CT\", \"g\": \"xl8O0c\", \"h\": \"xl8O0c\", \"l\": \"bitly\", \"al\": \"en-us\", \"hh\": \"1.usa.gov\", \"r\": \"direct\", \"u\": \"http:\\\\/\\\\/www.grants.gov\\\\/search\\\\/search.do;jsessionid=dSN8PYLhrVdZ21pYd1qTbXBpYFLQFp0xhGG45LlkM12w1dbGxpdz!545677704?oppId=150574&mode=VIEW\", \"t\": 1331923614, \"hc\": 1331218539, \"cy\": \"Storrs Mansfield\", \"ll\": [ 41.807999, -72.250999 ] }\\n',\n",
       " '{ \"a\": \"Mozilla\\\\/5.0 (Windows NT 6.1; WOW64; rv:10.0.2) Gecko\\\\/20100101 Firefox\\\\/10.0.2\", \"c\": \"US\", \"nk\": 1, \"tz\": \"America\\\\/New_York\", \"gr\": \"CT\", \"g\": \"vNJS4H\", \"h\": \"u0uD9q\", \"l\": \"o_4us71ccioa\", \"al\": \"en-us,en;q=0.5\", \"hh\": \"1.usa.gov\", \"r\": \"direct\", \"u\": \"https:\\\\/\\\\/www.nysdot.gov\\\\/rexdesign\\\\/design\\\\/community.gif\", \"t\": 1331923614, \"hc\": 1319563556, \"cy\": \"Thomaston\", \"ll\": [ 41.657600, -73.096497 ] }\\n',\n",
       " '{ \"a\": \"Mozilla\\\\/5.0\", \"c\": \"US\", \"nk\": 0, \"tz\": \"America\\\\/New_York\", \"gr\": \"DC\", \"g\": \"zl5So0\", \"h\": \"ynVkmq\", \"l\": \"tweetdeckapi\", \"hh\": \"1.usa.gov\", \"r\": \"direct\", \"u\": \"http:\\\\/\\\\/www.dol.gov\\\\/opa\\\\/media\\\\/press\\\\/eta\\\\/ui\\\\/eta20120454.htm\", \"t\": 1331923614, \"hc\": 1331825538, \"cy\": \"Washington\", \"ll\": [ 38.914398, -77.076302 ] }\\n',\n",
       " '{ \"a\": \"Mozilla\\\\/5.0 (Windows NT 5.1) AppleWebKit\\\\/535.11 (KHTML, like Gecko) Chrome\\\\/17.0.963.79 Safari\\\\/535.11\", \"c\": \"IT\", \"nk\": 1, \"tz\": \"Europe\\\\/Rome\", \"gr\": \"09\", \"g\": \"z1ztLK\", \"h\": \"A925vS\", \"l\": \"nasatwitter\", \"al\": \"it-IT,it;q=0.8,en-US;q=0.6,en;q=0.4\", \"hh\": \"go.nasa.gov\", \"r\": \"http:\\\\/\\\\/t.co\\\\/AR1s2y09\", \"u\": \"http:\\\\/\\\\/www.nasa.gov\\\\/mission_pages\\\\/icebridge\\\\/news\\\\/spr12\\\\/arctic_2012campaign.html\", \"t\": 1331923616, \"hc\": 1331834915, \"cy\": \"Saronno\", \"ll\": [ 45.633301, 9.033300 ] }\\n',\n",
       " '{ \"a\": \"Mozilla\\\\/5.0 (Windows NT 5.1; rv:11.0) Gecko\\\\/20100101 Firefox\\\\/11.0\", \"c\": \"CA\", \"nk\": 0, \"tz\": \"America\\\\/Edmonton\", \"gr\": \"AB\", \"g\": \"xVZg4P\", \"h\": \"wqUkTo\", \"l\": \"nasatwitter\", \"al\": \"en-us,en;q=0.5\", \"hh\": \"go.nasa.gov\", \"r\": \"http:\\\\/\\\\/t.co\\\\/UKGBxj29\", \"u\": \"http:\\\\/\\\\/www.nasa.gov\\\\/multimedia\\\\/imagegallery\\\\/image_feature_2199.html\", \"t\": 1331923614, \"hc\": 1331908247, \"cy\": \"Calgary\", \"ll\": [ 51.083302, -114.083298 ] }\\n',\n",
       " '{ \"a\": \"Mozilla\\\\/5.0 (Windows NT 5.1; rv:10.0.2) Gecko\\\\/20100101 Firefox\\\\/10.0.2\", \"c\": \"US\", \"nk\": 1, \"tz\": \"America\\\\/New_York\", \"gr\": \"OH\", \"g\": \"ytQF9k\", \"h\": \"AubMqf\", \"l\": \"prevention\", \"al\": \"en-us,en;q=0.5\", \"hh\": \"1.usa.gov\", \"r\": \"http:\\\\/\\\\/t.co\\\\/g4n56J61\", \"u\": \"http:\\\\/\\\\/healthfinder.gov\\\\/prevention\\\\/ViewTopic.aspx?topicID=89&cnt=1&areaID=1\", \"t\": 1331923618, \"hc\": 1331555522, \"cy\": \"Cuyahoga Falls\", \"ll\": [ 41.148201, -81.473602 ] }\\n',\n",
       " '{\"_heartbeat_\":1331923621}\\n',\n",
       " '{ \"a\": \"Mozilla\\\\/5.0 (iPhone; CPU iPhone OS 5_0_1 like Mac OS X) AppleWebKit\\\\/534.46 (KHTML, like Gecko) Version\\\\/5.1 Mobile\\\\/9A405 Safari\\\\/7534.48.3\", \"c\": \"US\", \"nk\": 0, \"tz\": \"America\\\\/Los_Angeles\", \"gr\": \"CA\", \"g\": \"jxCPkh\", \"h\": \"lmrk1C\", \"l\": \"twitterfeed\", \"al\": \"en-us\", \"hh\": \"1.usa.gov\", \"r\": \"direct\", \"u\": \"http:\\\\/\\\\/www.fda.gov\\\\/Safety\\\\/Recalls\\\\/ucm255713.htm\", \"t\": 1331923620, \"hc\": 1305656778, \"cy\": \"Bell\", \"ll\": [ 33.976101, -118.153503 ] }\\n',\n",
       " '{ \"a\": \"Mozilla\\\\/5.0 (Windows NT 6.1; WOW64; rv:10.0.2) Gecko\\\\/20100101 Firefox\\\\/10.0.2\", \"c\": \"US\", \"nk\": 0, \"tz\": \"America\\\\/Phoenix\", \"gr\": \"AZ\", \"g\": \"At7G7p\", \"h\": \"waBxLJ\", \"l\": \"twitterfeed\", \"al\": \"en-us,en;q=0.5\", \"hh\": \"1.usa.gov\", \"r\": \"http:\\\\/\\\\/t.co\\\\/zwD58kKm\", \"u\": \"http:\\\\/\\\\/cms3.tucsonaz.gov\\\\/home\\\\/announcement\\\\/fa-ade-improvement-program?utm_source=twitterfeed&utm_medium=twitter\", \"t\": 1331923620, \"hc\": 1331917213, \"cy\": \"Yuma\", \"ll\": [ 32.688801, -114.665703 ] }\\n',\n",
       " '{ \"a\": \"GoogleMaps\\\\/RochesterNY\", \"c\": \"US\", \"nk\": 0, \"tz\": \"America\\\\/Denver\", \"gr\": \"UT\", \"g\": \"mwszkS\", \"h\": \"mwszkS\", \"l\": \"bitly\", \"hh\": \"1.usa.gov\", \"r\": \"http:\\\\/\\\\/www.AwareMap.com\\\\/\", \"u\": \"http:\\\\/\\\\/www.monroecounty.gov\\\\/etc\\\\/911\\\\/rss.php\", \"t\": 1331923622, \"hc\": 1308262393, \"cy\": \"Provo\", \"ll\": [ 40.218102, -111.613297 ] }\\n',\n",
       " '{ \"a\": \"Mozilla\\\\/4.0 (compatible; MSIE 8.0; Windows NT 5.1; Trident\\\\/4.0; GTB7.3; .NET CLR 1.1.4322; WinNT-PAI 29.08.2009; .NET CLR 2.0.50727; OfficeLiveConnector.1.3; OfficeLivePatch.0.0; .NET CLR 3.0.4506.2152; .NET CLR 3.5.30729; [xSP_2:77d9f3aec665d88c07a1a7f2ce54ad47_208]; 88680803; BO1IE8_v1;ENUS)\", \"c\": \"US\", \"nk\": 1, \"tz\": \"America\\\\/Los_Angeles\", \"gr\": \"OR\", \"g\": \"dDFMj\", \"h\": \"fOoLwP\", \"l\": \"mthoodmeadows\", \"al\": \"en-us\", \"hh\": \"1.usa.gov\", \"r\": \"http:\\\\/\\\\/bl129w.blu129.mail.live.com\\\\/default.aspx?rru=inbox\", \"u\": \"http:\\\\/\\\\/forecast.weather.gov\\\\/MapClick.php?site=pqr&smap=1&textField1=45.346&textField2=-121.673\", \"t\": 1331923624, \"hc\": 1297583387, \"cy\": \"Independence\", \"ll\": [ 44.831402, -123.203400 ] }\\n',\n",
       " '{ \"a\": \"Mozilla\\\\/5.0 (Windows NT 6.1; WOW64) AppleWebKit\\\\/535.11 (KHTML, like Gecko) Chrome\\\\/17.0.963.79 Safari\\\\/535.11\", \"c\": \"US\", \"nk\": 0, \"tz\": \"America\\\\/Phoenix\", \"gr\": \"AZ\", \"g\": \"wcndER\", \"h\": \"zkpJBR\", \"l\": \"bnjacobs\", \"al\": \"en-US,en;q=0.8\", \"hh\": \"1.usa.gov\", \"r\": \"http:\\\\/\\\\/plus.url.google.com\\\\/url?sa=z&n=1331923624773&url=http%3A%2F%2F1.usa.gov%2FzkpJBR&usg=IMoS-l5vjsSrDieytsdFlFzf35Y.\", \"u\": \"http:\\\\/\\\\/www.nasa.gov\\\\/mission_pages\\\\/nustar\\\\/main\\\\/index.html\", \"t\": 1331923625, \"hc\": 1331922854, \"cy\": \"Phoenix\", \"ll\": [ 33.449902, -112.071198 ] }\\n',\n",
       " '{ \"a\": \"Mozilla\\\\/5.0 (Windows NT 6.1; rv:11.0) Gecko\\\\/20100101 Firefox\\\\/11.0\", \"c\": \"US\", \"nk\": 1, \"tz\": \"America\\\\/Los_Angeles\", \"gr\": \"WA\", \"g\": \"xKUlqF\", \"h\": \"ynq3vT\", \"l\": \"kcnews\", \"al\": \"en-us,en;q=0.5\", \"hh\": \"1.usa.gov\", \"r\": \"http:\\\\/\\\\/t.co\\\\/PjjgyoU6\", \"u\": \"http:\\\\/\\\\/www.kingcounty.gov\\\\/property\\\\/RealEstateServices\\\\/CountyPropertyForSale.aspx\", \"t\": 1331923624, \"hc\": 1330731297, \"cy\": \"Olympia\", \"ll\": [ 47.038700, -122.891998 ] }\\n',\n",
       " '{ \"a\": \"Mozilla\\\\/5.0 (Macintosh; Intel Mac OS X 10_6_8) AppleWebKit\\\\/535.11 (KHTML, like Gecko) Chrome\\\\/17.0.963.79 Safari\\\\/535.11\", \"c\": null, \"nk\": 0, \"tz\": \"\", \"g\": \"A2vbBC\", \"h\": \"zbsayZ\", \"l\": \"martinberkhan\", \"al\": \"en-US,en;q=0.8\", \"hh\": \"1.usa.gov\", \"r\": \"http:\\\\/\\\\/t.co\\\\/Itza5prh\", \"u\": \"http:\\\\/\\\\/www.ncbi.nlm.nih.gov\\\\/pubmed\\\\/22344061\", \"t\": 1331923624, \"hc\": 1331504506 }\\n',\n",
       " '{ \"a\": \"Mozilla\\\\/5.0 (Windows; U; Windows NT 6.1; en-US; rv:1.9.2.27) Gecko\\\\/20120216 Firefox\\\\/3.6.27\", \"c\": \"US\", \"nk\": 1, \"tz\": \"America\\\\/New_York\", \"gr\": \"OH\", \"g\": \"9JvpNT\", \"h\": \"qFtqSa\", \"l\": \"edircfaq\", \"al\": \"en-us,en;q=0.5\", \"hh\": \"1.usa.gov\", \"r\": \"direct\", \"u\": \"http:\\\\/\\\\/www2.ed.gov\\\\/about\\\\/offices\\\\/list\\\\/osdfs\\\\/index.html\", \"t\": 1331923629, \"hc\": 1310487859, \"cy\": \"Columbus\", \"ll\": [ 40.053200, -83.022003 ] }\\n',\n",
       " '{ \"a\": \"Mozilla\\\\/5.0 (Windows NT 6.1; WOW64) AppleWebKit\\\\/535.11 (KHTML, like Gecko) Chrome\\\\/17.0.963.79 Safari\\\\/535.11\", \"c\": \"US\", \"nk\": 1, \"tz\": \"America\\\\/Chicago\", \"gr\": \"TX\", \"g\": \"xjPjrS\", \"h\": \"wluoR5\", \"l\": \"michaelfriel\", \"al\": \"en-US,en;q=0.8\", \"hh\": \"1.usa.gov\", \"r\": \"http:\\\\/\\\\/www.facebook.com\\\\/l.php?u=http%3A%2F%2F1.usa.gov%2FwluoR5&h=GAQGdiZgDAQEhPC5rkLPSwrJ1cAknjQrZAxi880ZENEr-zQ\", \"u\": \"http:\\\\/\\\\/www.usajobs.gov\\\\/GetJob\\\\/ViewDetails\\\\/311667200\", \"t\": 1331923630, \"hc\": 1331756115, \"cy\": \"Mesquite\", \"ll\": [ 32.767300, -96.624702 ] }\\n',\n",
       " '{ \"a\": \"Mozilla\\\\/5.0 (Macintosh; Intel Mac OS X 10_6_8) AppleWebKit\\\\/535.7 (KHTML, like Gecko) Chrome\\\\/16.0.912.77 Safari\\\\/535.7\", \"c\": \"US\", \"nk\": 0, \"tz\": \"America\\\\/New_York\", \"gr\": \"VA\", \"g\": \"vNJS4H\", \"h\": \"u0uD9q\", \"l\": \"o_4us71ccioa\", \"al\": \"en-US,en;q=0.8\", \"hh\": \"1.usa.gov\", \"r\": \"direct\", \"u\": \"https:\\\\/\\\\/www.nysdot.gov\\\\/rexdesign\\\\/design\\\\/community.gif\", \"t\": 1331923630, \"hc\": 1319563556, \"cy\": \"Arlington\", \"ll\": [ 38.908401, -77.120102 ] }\\n',\n",
       " '{ \"a\": \"Mozilla\\\\/5.0 (Windows NT 6.1; rv:2.0.1) Gecko\\\\/20100101 Firefox\\\\/4.0.1\", \"c\": \"US\", \"nk\": 1, \"tz\": \"America\\\\/New_York\", \"gr\": \"VA\", \"g\": \"z9TCh4\", \"h\": \"z9TCh4\", \"l\": \"bitly\", \"al\": \"en-us,en;q=0.5\", \"hh\": \"1.usa.gov\", \"r\": \"direct\", \"u\": \"http:\\\\/\\\\/www.gpo.gov\\\\/fdsys\\\\/pkg\\\\/FR-2012-03-15\\\\/pdf\\\\/2012-6327.pdf\", \"t\": 1331923632, \"hc\": 1331910613, \"cy\": \"Lorton\", \"ll\": [ 38.691101, -77.206001 ] }\\n',\n",
       " '{ \"a\": \"Mozilla\\\\/4.0 (compatible; MSIE 8.0; Windows NT 5.1; Trident\\\\/4.0; .NET CLR 1.1.4322; .NET CLR 2.0.50727; .NET CLR 3.0.4506.2152; .NET CLR 3.5.30729; InfoPath.2; .NET4.0C; .NET4.0E)\", \"c\": \"US\", \"nk\": 0, \"tz\": \"America\\\\/New_York\", \"gr\": \"NY\", \"g\": \"xzIBR5\", \"h\": \"ymFGtv\", \"l\": \"twitterfeed\", \"al\": \"en-us\", \"hh\": \"1.usa.gov\", \"r\": \"http:\\\\/\\\\/nix.nasa.gov\\\\/search.jsp\", \"u\": \"http:\\\\/\\\\/ntrs.nasa.gov\\\\/search.jsp?R=20120002810&utm_source=twitterfeed&utm_medium=twitter\", \"t\": 1331923636, \"hc\": 1331896465, \"cy\": \"Poughkeepsie\", \"ll\": [ 41.690399, -73.891899 ] }\\n',\n",
       " '{ \"a\": \"Mozilla\\\\/5.0 (Windows NT 5.0; rv:10.0.2) Gecko\\\\/20100101 Firefox\\\\/10.0.2\", \"c\": \"US\", \"nk\": 0, \"tz\": \"America\\\\/Los_Angeles\", \"gr\": \"CA\", \"g\": \"wcndER\", \"h\": \"zkpJBR\", \"l\": \"bnjacobs\", \"al\": \"en-us,en;q=0.5\", \"hh\": \"1.usa.gov\", \"r\": \"http:\\\\/\\\\/www.facebook.com\\\\/\", \"u\": \"http:\\\\/\\\\/www.nasa.gov\\\\/mission_pages\\\\/nustar\\\\/main\\\\/index.html\", \"t\": 1331923636, \"hc\": 1331922854, \"cy\": \"Compton\", \"ll\": [ 33.879902, -118.213303 ] }\\n',\n",
       " '{ \"a\": \"Mozilla\\\\/5.0 (iPhone; CPU iPhone OS 5_1 like Mac OS X) AppleWebKit\\\\/534.46 (KHTML, like Gecko) Mobile\\\\/9B179 Twitter for iPhone\", \"c\": \"US\", \"nk\": 0, \"tz\": \"America\\\\/New_York\", \"gr\": \"MI\", \"g\": \"yuao0i\", \"h\": \"yuao0i\", \"l\": \"bitly\", \"al\": \"en-us\", \"hh\": \"1.usa.gov\", \"r\": \"https:\\\\/\\\\/twitter.com\\\\/egvstormchaser\\\\/status\\\\/179757711091703809\", \"u\": \"http:\\\\/\\\\/www.crh.noaa.gov\\\\/news\\\\/display_cmsstory.php?wfo=dtx&storyid=80607&source=0\", \"t\": 1331923634, \"hc\": 1331668994, \"cy\": \"Warren\", \"ll\": [ 42.514400, -83.015900 ] }\\n',\n",
       " '{ \"a\": \"Mozilla\\\\/4.0 (compatible; MSIE 8.0; Windows NT 5.1; Trident\\\\/4.0; GTB6.3; .NET CLR 1.0.3705; .NET CLR 1.1.4322; .NET CLR 2.0.50727; .NET CLR 3.0.4506.2152; .NET CLR 3.5.30729)\", \"c\": \"JP\", \"nk\": 1, \"tz\": \"Asia\\\\/Tokyo\", \"gr\": \"07\", \"g\": \"b2nZqh\", \"h\": \"cqQSu9\", \"l\": \"addthis\", \"al\": \"ja\", \"hh\": \"bit.ly\", \"r\": \"http:\\\\/\\\\/togetter.com\\\\/li\\\\/39380\", \"u\": \"http:\\\\/\\\\/www.navy.mil\\\\/view_single.asp?id=89622\", \"t\": 1331923636, \"hc\": 1280529257, \"cy\": \"Nogata\", \"ll\": [ 33.733299, 130.733307 ] }\\n',\n",
       " '{ \"a\": \"Mozilla\\\\/4.0 (compatible; MSIE 7.0; Windows NT 5.1; .NET CLR 1.1.4322; .NET CLR 2.0.50727; .NET CLR 3.0.04506.648; .NET CLR 3.5.21022; InfoPath.2; .NET CLR 3.0.4506.2152; .NET CLR 3.5.30729)\", \"c\": \"US\", \"nk\": 1, \"tz\": \"Pacific\\\\/Honolulu\", \"gr\": \"HI\", \"g\": \"x98anS\", \"h\": \"FOb6ww\", \"l\": \"kcatian\", \"al\": \"en-us\", \"hh\": \"1.usa.gov\", \"r\": \"direct\", \"u\": \"http:\\\\/\\\\/www.navy.mil\\\\/search\\\\/display.asp?story_id=65845\", \"t\": 1331923637, \"hc\": 1331921801, \"kw\": \"RealignOPNAVstaff\", \"cy\": \"Honolulu\", \"ll\": [ 21.313900, -157.824493 ] }\\n',\n",
       " '{ \"a\": \"Mozilla\\\\/5.0 (Macintosh; Intel Mac OS X 10_5_8) AppleWebKit\\\\/535.11 (KHTML, like Gecko) Chrome\\\\/17.0.963.79 Safari\\\\/535.11\", \"c\": \"US\", \"nk\": 0, \"tz\": \"America\\\\/Los_Angeles\", \"gr\": \"WA\", \"g\": \"xKUlqF\", \"h\": \"ynq3vT\", \"l\": \"kcnews\", \"al\": \"en-US,en;q=0.8\", \"hh\": \"1.usa.gov\", \"r\": \"http:\\\\/\\\\/t.co\\\\/PjjgyoU6\", \"u\": \"http:\\\\/\\\\/www.kingcounty.gov\\\\/property\\\\/RealEstateServices\\\\/CountyPropertyForSale.aspx\", \"t\": 1331923637, \"hc\": 1330731297, \"cy\": \"Seattle\", \"ll\": [ 47.576000, -122.399498 ] }\\n',\n",
       " '{ \"a\": \"Mozilla\\\\/5.0 (Macintosh; Intel Mac OS X 10_6_8) AppleWebKit\\\\/535.11 (KHTML, like Gecko) Chrome\\\\/17.0.963.79 Safari\\\\/535.11\", \"c\": \"US\", \"nk\": 0, \"tz\": \"America\\\\/Chicago\", \"gr\": \"TN\", \"g\": \"xdlW1A\", \"h\": \"xdlW1A\", \"l\": \"bitly\", \"al\": \"en-US,en;q=0.8\", \"hh\": \"1.usa.gov\", \"r\": \"http:\\\\/\\\\/stocktwits.com\\\\/symbol\\\\/HAUP?q=haup\", \"u\": \"http:\\\\/\\\\/www.sec.gov\\\\/Archives\\\\/edgar\\\\/data\\\\/930803\\\\/000102177112000010\\\\/ex99_1.htm\", \"t\": 1331923638, \"hc\": 1329251803, \"cy\": \"Chattanooga\", \"ll\": [ 35.048100, -85.283302 ] }\\n',\n",
       " '{ \"a\": \"Mozilla\\\\/5.0 (Windows NT 5.1) AppleWebKit\\\\/535.11 (KHTML, like Gecko) Chrome\\\\/17.0.963.79 Safari\\\\/535.11\", \"c\": \"US\", \"nk\": 1, \"tz\": \"America\\\\/New_York\", \"gr\": \"NY\", \"g\": \"yqAtDG\", \"h\": \"waX9BD\", \"l\": \"tweetdeckapi\", \"al\": \"en-US,en;q=0.8\", \"hh\": \"1.usa.gov\", \"r\": \"http:\\\\/\\\\/www.nysenate.gov\\\\/\", \"u\": \"http:\\\\/\\\\/www.nysenate.gov\\\\/press-release\\\\/senate-passes-bill-increase-port-authority-accountability\", \"t\": 1331923640, \"hc\": 1331838363, \"cy\": \"New York\", \"ll\": [ 40.761902, -73.976303 ] }\\n',\n",
       " '{ \"a\": \"Mozilla\\\\/5.0 (iPhone; CPU iPhone OS 5_0_1 like Mac OS X) AppleWebKit\\\\/534.46 (KHTML, like Gecko) Mobile\\\\/9A406 Twitter for iPhone\", \"c\": null, \"nk\": 1, \"tz\": \"\", \"g\": \"xKUlqF\", \"h\": \"ynq3vT\", \"l\": \"kcnews\", \"al\": \"en-us\", \"hh\": \"1.usa.gov\", \"r\": \"direct\", \"u\": \"http:\\\\/\\\\/www.kingcounty.gov\\\\/property\\\\/RealEstateServices\\\\/CountyPropertyForSale.aspx\", \"t\": 1331923640, \"hc\": 1330731297 }\\n',\n",
       " '{ \"a\": \"Mozilla\\\\/5.0 (Windows NT 6.1; WOW64; rv:9.0.1) Gecko\\\\/20100101 Firefox\\\\/9.0.1\", \"c\": \"US\", \"nk\": 1, \"tz\": \"America\\\\/New_York\", \"gr\": \"GA\", \"g\": \"vNJS4H\", \"h\": \"u0uD9q\", \"l\": \"o_4us71ccioa\", \"al\": \"en-us,en;q=0.5\", \"hh\": \"1.usa.gov\", \"r\": \"direct\", \"u\": \"https:\\\\/\\\\/www.nysdot.gov\\\\/rexdesign\\\\/design\\\\/community.gif\", \"t\": 1331923641, \"hc\": 1319563556, \"cy\": \"Savannah\", \"ll\": [ 31.997101, -80.964500 ] }\\n',\n",
       " '{ \"a\": \"Mozilla\\\\/5.0 (Windows NT 6.1; WOW64; rv:10.0.2) Gecko\\\\/20100101 Firefox\\\\/10.0.2\", \"c\": \"US\", \"nk\": 0, \"tz\": \"America\\\\/Chicago\", \"gr\": \"MO\", \"g\": \"mQ4QeB\", \"h\": \"ltivhz\", \"l\": \"geraldrube\", \"al\": \"en-us,en;q=0.5\", \"hh\": \"1.usa.gov\", \"r\": \"http:\\\\/\\\\/www.worldcommunitygrid.org\\\\/forums\\\\/wcg\\\\/viewthread_thread,28931_offset,300\", \"u\": \"http:\\\\/\\\\/www.navy.mil\\\\/management\\\\/photodb\\\\/thumbnails\\\\/thumb_080507-N-5025C-003.jpg\", \"t\": 1331923641, \"hc\": 1304753019, \"cy\": \"Lees Summit\", \"ll\": [ 38.915901, -94.364403 ] }\\n',\n",
       " '{ \"a\": \"Mozilla\\\\/5.0 (Macintosh; Intel Mac OS X 10_6_6) AppleWebKit\\\\/535.11 (KHTML, like Gecko) Chrome\\\\/17.0.963.79 Safari\\\\/535.11\", \"c\": \"US\", \"nk\": 1, \"tz\": \"America\\\\/New_York\", \"gr\": \"NY\", \"g\": \"vNJS4H\", \"h\": \"u0uD9q\", \"l\": \"o_4us71ccioa\", \"al\": \"en-US,en;q=0.8\", \"hh\": \"1.usa.gov\", \"r\": \"direct\", \"u\": \"https:\\\\/\\\\/www.nysdot.gov\\\\/rexdesign\\\\/design\\\\/community.gif\", \"t\": 1331923641, \"hc\": 1319563556, \"cy\": \"White Plains\", \"ll\": [ 41.029099, -73.758003 ] }\\n',\n",
       " '{ \"a\": \"Mozilla\\\\/5.0 (Macintosh; Intel Mac OS X 10.5; rv:9.0.1) Gecko\\\\/20100101 Firefox\\\\/9.0.1\", \"c\": \"US\", \"nk\": 0, \"tz\": \"America\\\\/Los_Angeles\", \"gr\": \"CA\", \"g\": \"zH1BFf\", \"h\": \"x3jOIv\", \"l\": \"andyzieminski\", \"al\": \"en-us,en;q=0.5\", \"hh\": \"1.usa.gov\", \"r\": \"http:\\\\/\\\\/t.co\\\\/6Cx4ROLs\", \"u\": \"http:\\\\/\\\\/www.usda.gov\\\\/wps\\\\/portal\\\\/usda\\\\/usdahome?contentidonly=true&contentid=KYF_Compass_Careers_in_Agriculture.html\", \"t\": 1331923642, \"hc\": 1331839576, \"cy\": \"Pinole\", \"ll\": [ 37.992699, -122.276100 ] }\\n',\n",
       " '{ \"a\": \"Mozilla\\\\/5.0 (Windows NT 6.1; rv:2.0.1) Gecko\\\\/20100101 Firefox\\\\/4.0.1\", \"c\": \"US\", \"nk\": 1, \"tz\": \"America\\\\/New_York\", \"gr\": \"VA\", \"g\": \"z9TCh4\", \"h\": \"z9TCh4\", \"l\": \"bitly\", \"al\": \"en-us,en;q=0.5\", \"hh\": \"1.usa.gov\", \"r\": \"direct\", \"u\": \"http:\\\\/\\\\/www.gpo.gov\\\\/fdsys\\\\/pkg\\\\/FR-2012-03-15\\\\/pdf\\\\/2012-6327.pdf\", \"t\": 1331923643, \"hc\": 1331910613, \"cy\": \"Lorton\", \"ll\": [ 38.691101, -77.206001 ] }\\n',\n",
       " '{ \"a\": \"Mozilla\\\\/5.0 (iPhone; CPU iPhone OS 5_1 like Mac OS X) AppleWebKit\\\\/534.46 (KHTML, like Gecko) Mobile\\\\/9B176 Twitter for iPhone\", \"c\": \"US\", \"nk\": 1, \"tz\": \"America\\\\/Los_Angeles\", \"gr\": \"WA\", \"g\": \"xKUlqF\", \"h\": \"ynq3vT\", \"l\": \"kcnews\", \"al\": \"en-us\", \"hh\": \"1.usa.gov\", \"r\": \"direct\", \"u\": \"http:\\\\/\\\\/www.kingcounty.gov\\\\/property\\\\/RealEstateServices\\\\/CountyPropertyForSale.aspx\", \"t\": 1331923644, \"hc\": 1330731297, \"cy\": \"Seattle\", \"ll\": [ 47.634399, -122.342201 ] }\\n',\n",
       " '{ \"a\": \"Mozilla\\\\/4.0 (compatible; MSIE 6.0; Windows NT 5.1; SV1; .NET CLR 1.1.4322; .NET CLR 2.0.50727; .NET CLR 3.0.04506.648; .NET CLR 3.5.21022; InfoPath.1)\", \"c\": \"US\", \"nk\": 0, \"tz\": \"America\\\\/New_York\", \"gr\": \"CT\", \"g\": \"xU2pzv\", \"h\": \"yocdfX\", \"l\": \"jlfeder\", \"al\": \"en-us\", \"hh\": \"1.usa.gov\", \"r\": \"http:\\\\/\\\\/www.politico.com\\\\/news\\\\/stories\\\\/0312\\\\/74061.html\", \"u\": \"http:\\\\/\\\\/cbo.gov\\\\/publication\\\\/43082\", \"t\": 1331923646, \"hc\": 1331823147, \"cy\": \"Hartford\", \"ll\": [ 41.769001, -72.683502 ] }\\n',\n",
       " '{ \"a\": \"Mozilla\\\\/5.0 (iPhone; CPU iPhone OS 5_0_1 like Mac OS X) AppleWebKit\\\\/534.46 (KHTML, like Gecko) Mobile\\\\/9A405 Twitter for iPhone\", \"c\": \"BE\", \"nk\": 1, \"tz\": \"Europe\\\\/Brussels\", \"gr\": \"09\", \"g\": \"xVZg4P\", \"h\": \"wqUkTo\", \"l\": \"nasatwitter\", \"al\": \"nl-nl\", \"hh\": \"go.nasa.gov\", \"r\": \"https:\\\\/\\\\/twitter.com\\\\/nasa\\\\/status\\\\/180662400964493314\", \"u\": \"http:\\\\/\\\\/www.nasa.gov\\\\/multimedia\\\\/imagegallery\\\\/image_feature_2199.html\", \"t\": 1331923645, \"hc\": 1331908247, \"cy\": \"Ieper\", \"ll\": [ 50.849998, 2.883300 ] }\\n',\n",
       " '{ \"a\": \"Mozilla\\\\/5.0 (Windows NT 6.1; rv:10.0.2) Gecko\\\\/20100101 Firefox\\\\/10.0.2\", \"c\": \"US\", \"nk\": 0, \"tz\": \"America\\\\/Denver\", \"gr\": \"CO\", \"g\": \"rOdd29\", \"h\": \"w8VXmH\", \"l\": \"drunktank\", \"al\": \"en-us,en;q=0.5\", \"hh\": \"1.usa.gov\", \"r\": \"http:\\\\/\\\\/roosterteeth.com\\\\/podcast\\\\/episode.php?id=157\", \"u\": \"http:\\\\/\\\\/www.irs.gov\\\\/newsroom\\\\/article\\\\/0,,id=250882,00.html\", \"t\": 1331923647, \"hc\": 1331742257, \"cy\": \"Colorado Springs\", \"ll\": [ 38.832600, -104.740501 ] }\\n',\n",
       " '{ \"a\": \"Mozilla\\\\/5.0 (Windows NT 6.1; WOW64; rv:9.0.1) Gecko\\\\/20100101 Firefox\\\\/9.0.1\", \"c\": \"SK\", \"nk\": 1, \"tz\": \"Europe\\\\/Bratislava\", \"gr\": \"02\", \"g\": \"wcndER\", \"h\": \"zkpJBR\", \"l\": \"bnjacobs\", \"al\": \"cs,en-us;q=0.7,en;q=0.3\", \"hh\": \"1.usa.gov\", \"r\": \"http:\\\\/\\\\/www.facebook.com\\\\/l.php?u=http%3A%2F%2F1.usa.gov%2FzkpJBR&h=XAQFAJ1TuAQE9tpHtDYsuph7slE_I-4yo-1ofLeNV253r6Q\", \"u\": \"http:\\\\/\\\\/www.nasa.gov\\\\/mission_pages\\\\/nustar\\\\/main\\\\/index.html\", \"t\": 1331923645, \"hc\": 1331922854, \"cy\": \"Bratislava\", \"ll\": [ 48.150002, 17.116699 ] }\\n',\n",
       " '{ \"a\": \"Mozilla\\\\/4.0 (compatible; MSIE 7.0; Windows NT 6.0)\", \"c\": \"US\", \"nk\": 0, \"tz\": \"America\\\\/Los_Angeles\", \"gr\": \"WA\", \"g\": \"wcndER\", \"h\": \"zkpJBR\", \"l\": \"bnjacobs\", \"hh\": \"1.usa.gov\", \"r\": \"direct\", \"u\": \"http:\\\\/\\\\/www.nasa.gov\\\\/mission_pages\\\\/nustar\\\\/main\\\\/index.html\", \"t\": 1331923646, \"hc\": 1331922854, \"cy\": \"Redmond\", \"ll\": [ 47.680099, -122.120598 ] }\\n',\n",
       " '{ \"a\": \"Mozilla\\\\/4.0 (compatible; MSIE 7.0; Windows NT 5.1; Trident\\\\/4.0; .NET CLR 2.0.50727; .NET CLR 1.1.4322; .NET CLR 3.0.4506.2152; .NET CLR 3.5.30729; .NET4.0C; .NET4.0E)\", \"c\": \"US\", \"nk\": 1, \"tz\": \"America\\\\/New_York\", \"gr\": \"DC\", \"g\": \"zIgLx8\", \"h\": \"yrPaLt\", \"l\": \"aashto\", \"al\": \"en-us\", \"hh\": \"aash.to\", \"r\": \"direct\", \"u\": \"http:\\\\/\\\\/ntl.bts.gov\\\\/lib\\\\/44000\\\\/44300\\\\/44374\\\\/FHWA-JP0-11-154_Clarus_Overview_final.pdf\", \"t\": 1331923648, \"hc\": 1331903484, \"cy\": \"Washington\", \"ll\": [ 38.909698, -77.023102 ] }\\n',\n",
       " '{ \"a\": \"Mozilla\\\\/5.0 (Windows NT 6.1; WOW64; rv:10.0.2) Gecko\\\\/20100101 Firefox\\\\/10.0.2\", \"c\": \"US\", \"nk\": 1, \"tz\": \"America\\\\/New_York\", \"gr\": \"VA\", \"g\": \"vNJS4H\", \"h\": \"u0uD9q\", \"l\": \"o_4us71ccioa\", \"al\": \"en-us,en;q=0.5\", \"hh\": \"1.usa.gov\", \"r\": \"direct\", \"u\": \"https:\\\\/\\\\/www.nysdot.gov\\\\/rexdesign\\\\/design\\\\/community.gif\", \"t\": 1331923649, \"hc\": 1319563556, \"cy\": \"Richmond\", \"ll\": [ 37.524200, -77.493202 ] }\\n',\n",
       " '{\"_heartbeat_\":1331923651}\\n',\n",
       " '{ \"a\": \"Mozilla\\\\/5.0 (BlackBerry; U; BlackBerry 9930; en-US) AppleWebKit\\\\/534.11+ (KHTML, like Gecko) Version\\\\/7.1.0.267 Mobile Safari\\\\/534.11+\", \"c\": \"US\", \"nk\": 0, \"tz\": \"America\\\\/New_York\", \"gr\": \"NJ\", \"g\": \"qKHNdZ\", \"h\": \"qKHNdZ\", \"l\": \"bitly\", \"al\": \"en-US,en;q=0.5\", \"hh\": \"1.usa.gov\", \"r\": \"http:\\\\/\\\\/t.co\\\\/jXfXrW8E\", \"u\": \"http:\\\\/\\\\/mpdc.dc.gov\\\\/mpdc\\\\/cwp\\\\/view,q,567857,a,1242,c,44816.asp\", \"t\": 1331923650, \"hc\": 1316261764, \"cy\": \"Lebanon\", \"ll\": [ 40.641998, -74.820000 ] }\\n',\n",
       " '{ \"a\": \"Mozilla\\\\/5.0 (Windows; U; Windows NT 5.2; en-US; rv:1.8.1.4) Gecko\\\\/20070515 Firefox\\\\/2.0.0.4\", \"c\": \"ES\", \"nk\": 0, \"tz\": \"Europe\\\\/Madrid\", \"gr\": \"29\", \"g\": \"ACBjXP\", \"h\": \"w640iZ\", \"l\": \"gobiernousa\", \"hh\": \"1.usa.gov\", \"r\": \"direct\", \"u\": \"http:\\\\/\\\\/www.usa.gov\\\\/gobiernousa\\\\/Articulos\\\\/Como-prepararse-entrevista-ciudadania.shtml\", \"t\": 1331923649, \"hc\": 1328111845, \"cy\": \"Madrid\", \"ll\": [ 40.400002, -3.683300 ] }\\n',\n",
       " '{ \"a\": \"Mozilla\\\\/5.0 (Windows NT 6.1; WOW64; rv:10.0.2) Gecko\\\\/20100101 Firefox\\\\/10.0.2\", \"c\": \"US\", \"nk\": 1, \"tz\": \"America\\\\/New_York\", \"gr\": \"NJ\", \"g\": \"vNJS4H\", \"h\": \"u0uD9q\", \"l\": \"o_4us71ccioa\", \"al\": \"en-us,en;q=0.5\", \"hh\": \"1.usa.gov\", \"r\": \"direct\", \"u\": \"https:\\\\/\\\\/www.nysdot.gov\\\\/rexdesign\\\\/design\\\\/community.gif\", \"t\": 1331923654, \"hc\": 1319563556, \"cy\": \"Bergenfield\", \"ll\": [ 40.923302, -73.998398 ] }\\n',\n",
       " '{ \"a\": \"Mozilla\\\\/5.0 (Windows NT 6.1; WOW64; rv:10.0.2) Gecko\\\\/20100101 Firefox\\\\/10.0.2\", \"c\": \"US\", \"nk\": 1, \"tz\": \"America\\\\/New_York\", \"gr\": \"CT\", \"g\": \"vNJS4H\", \"h\": \"u0uD9q\", \"l\": \"o_4us71ccioa\", \"al\": \"en-us,en;q=0.5\", \"hh\": \"1.usa.gov\", \"r\": \"direct\", \"u\": \"https:\\\\/\\\\/www.nysdot.gov\\\\/rexdesign\\\\/design\\\\/community.gif\", \"t\": 1331923654, \"hc\": 1319563556, \"cy\": \"Stamford\", \"ll\": [ 41.097801, -73.518799 ] }\\n',\n",
       " '{ \"a\": \"Mozilla\\\\/5.0 (Macintosh; Intel Mac OS X 10_6_8) AppleWebKit\\\\/534.52.7 (KHTML, like Gecko) Version\\\\/5.1.2 Safari\\\\/534.52.7\", \"c\": \"US\", \"nk\": 0, \"tz\": \"America\\\\/New_York\", \"gr\": \"MA\", \"g\": \"axNK8c\", \"h\": \"axNK8c\", \"l\": \"bitly\", \"al\": \"en-us\", \"hh\": \"bit.ly\", \"r\": \"http:\\\\/\\\\/www.shrewsbury-ma.gov\\\\/selco\\\\/\", \"u\": \"http:\\\\/\\\\/www.shrewsbury-ma.gov\\\\/egov\\\\/gallery\\\\/134127368675393.png\", \"t\": 1331923656, \"hc\": 1273672506, \"cy\": \"Shrewsbury\", \"ll\": [ 42.286499, -71.714699 ] }\\n',\n",
       " '{ \"a\": \"Mozilla\\\\/5.0 (Macintosh; Intel Mac OS X 10_6_8) AppleWebKit\\\\/534.52.7 (KHTML, like Gecko) Version\\\\/5.1.2 Safari\\\\/534.52.7\", \"c\": \"US\", \"nk\": 0, \"tz\": \"America\\\\/New_York\", \"gr\": \"MA\", \"g\": \"9b6kNl\", \"h\": \"9b6kNl\", \"l\": \"bitly\", \"al\": \"en-us\", \"hh\": \"bit.ly\", \"r\": \"http:\\\\/\\\\/www.shrewsbury-ma.gov\\\\/selco\\\\/\", \"u\": \"http:\\\\/\\\\/www.shrewsbury-ma.gov\\\\/egov\\\\/gallery\\\\/134127368672998.png\", \"t\": 1331923656, \"hc\": 1273672411, \"cy\": \"Shrewsbury\", \"ll\": [ 42.286499, -71.714699 ] }\\n',\n",
       " '{ \"a\": \"Mozilla\\\\/5.0 (iPhone; CPU iPhone OS 5_1 like Mac OS X) AppleWebKit\\\\/534.46 (KHTML, like Gecko) Mobile\\\\/9B179 Twitter for iPhone\", \"c\": \"US\", \"nk\": 0, \"tz\": \"America\\\\/New_York\", \"gr\": \"PA\", \"g\": \"xKUlqF\", \"h\": \"ynq3vT\", \"l\": \"kcnews\", \"al\": \"en-us\", \"hh\": \"1.usa.gov\", \"r\": \"https:\\\\/\\\\/twitter.com\\\\/kcnews\\\\/status\\\\/180726457792868352\", \"u\": \"http:\\\\/\\\\/www.kingcounty.gov\\\\/property\\\\/RealEstateServices\\\\/CountyPropertyForSale.aspx\", \"t\": 1331923656, \"hc\": 1330731297, \"cy\": \"Philadelphia\", \"ll\": [ 39.951401, -75.158203 ] }\\n',\n",
       " '{ \"a\": \"Mozilla\\\\/5.0 (Windows NT 6.1) AppleWebKit\\\\/535.11 (KHTML, like Gecko) Chrome\\\\/17.0.963.79 Safari\\\\/535.11\", \"c\": \"BR\", \"nk\": 0, \"tz\": \"America\\\\/Recife\", \"gr\": \"22\", \"g\": \"zCaLwp\", \"h\": \"zUtuOu\", \"l\": \"alelex88\", \"al\": \"pt-BR,pt;q=0.8,en-US;q=0.6,en;q=0.4\", \"hh\": \"1.usa.gov\", \"r\": \"http:\\\\/\\\\/t.co\\\\/o1Pd0WeV\", \"u\": \"http:\\\\/\\\\/apod.nasa.gov\\\\/apod\\\\/ap120312.html\", \"t\": 1331923657, \"hc\": 1331923068, \"cy\": \"Natal\", \"ll\": [ -5.783300, -35.216702 ] }\\n',\n",
       " '{ \"a\": \"Mozilla\\\\/5.0 (iPad; CPU OS 5_1 like Mac OS X) AppleWebKit\\\\/534.46 (KHTML, like Gecko) Version\\\\/5.1 Mobile\\\\/9B176 Safari\\\\/7534.48.3\", \"c\": null, \"nk\": 0, \"tz\": \"\", \"g\": \"vNJS4H\", \"h\": \"u0uD9q\", \"l\": \"o_4us71ccioa\", \"al\": \"en-us\", \"hh\": \"1.usa.gov\", \"r\": \"direct\", \"u\": \"https:\\\\/\\\\/www.nysdot.gov\\\\/rexdesign\\\\/design\\\\/community.gif\", \"t\": 1331923656, \"hc\": 1319563556 }\\n',\n",
       " '{ \"a\": \"Mozilla\\\\/5.0 (Macintosh; Intel Mac OS X 10_6_6) AppleWebKit\\\\/535.11 (KHTML, like Gecko) Chrome\\\\/17.0.963.79 Safari\\\\/535.11\", \"c\": \"US\", \"nk\": 1, \"tz\": \"America\\\\/New_York\", \"gr\": \"NY\", \"g\": \"vNJS4H\", \"h\": \"u0uD9q\", \"l\": \"o_4us71ccioa\", \"al\": \"en-US,en;q=0.8\", \"hh\": \"1.usa.gov\", \"r\": \"direct\", \"u\": \"https:\\\\/\\\\/www.nysdot.gov\\\\/rexdesign\\\\/design\\\\/community.gif\", \"t\": 1331923656, \"hc\": 1319563556, \"cy\": \"White Plains\", \"ll\": [ 41.029099, -73.758003 ] }\\n',\n",
       " '{ \"a\": \"Mozilla\\\\/5.0 (Windows NT 5.1) AppleWebKit\\\\/535.2 (KHTML, like Gecko) Chrome\\\\/15.0.874.106 Safari\\\\/535.2\", \"c\": \"US\", \"nk\": 0, \"tz\": \"America\\\\/New_York\", \"gr\": \"MI\", \"g\": \"xGUTp8\", \"h\": \"xGUTp8\", \"l\": \"bitly\", \"al\": \"en-US,en;q=0.8\", \"hh\": \"1.usa.gov\", \"r\": \"http:\\\\/\\\\/t.co\\\\/lwZWlywi\", \"u\": \"http:\\\\/\\\\/www.michigan.gov\\\\/mdot\\\\/0,4616,7-151-9621_11008_45614-273205--,00.html\", \"t\": 1331923658, \"hc\": 1331901086, \"cy\": \"Waterford\", \"ll\": [ 42.688400, -83.386497 ] }\\n',\n",
       " '{ \"a\": \"Mozilla\\\\/5.0 (Windows NT 6.1; WOW64; rv:10.0.2) Gecko\\\\/20100101 Firefox\\\\/10.0.2\", \"c\": \"US\", \"nk\": 1, \"tz\": \"America\\\\/New_York\", \"gr\": \"NY\", \"g\": \"vNJS4H\", \"h\": \"u0uD9q\", \"l\": \"o_4us71ccioa\", \"al\": \"en-us,en;q=0.5\", \"hh\": \"1.usa.gov\", \"r\": \"direct\", \"u\": \"https:\\\\/\\\\/www.nysdot.gov\\\\/rexdesign\\\\/design\\\\/community.gif\", \"t\": 1331923659, \"hc\": 1319563556, \"cy\": \"White Plains\", \"ll\": [ 41.029099, -73.758003 ] }\\n',\n",
       " '{ \"a\": \"Mozilla\\\\/4.0 (compatible; MSIE 7.0; Windows NT 5.1; .NET CLR 1.1.4322; .NET CLR 2.0.50727; .NET CLR 3.0.04506.30; .NET CLR 3.0.4506.2152; .NET CLR 3.5.30729; InfoPath.2; .NET4.0C; .NET4.0E)\", \"c\": \"US\", \"nk\": 1, \"tz\": \"America\\\\/Chicago\", \"gr\": \"IA\", \"g\": \"yTy11F\", \"h\": \"yJGK2h\", \"l\": \"aashtojournal\", \"al\": \"en-us\", \"hh\": \"1.usa.gov\", \"r\": \"http:\\\\/\\\\/www.aashtojournal.org\\\\/Pages\\\\/031612senate.aspx\", \"u\": \"http:\\\\/\\\\/hdl.loc.gov\\\\/loc.uscongress\\\\/legislation.112samdt1540\", \"t\": 1331923659, \"hc\": 1331312729, \"cy\": \"Ames\", \"ll\": [ 42.065701, -93.692802 ] }\\n',\n",
       " '{ \"a\": \"Mozilla\\\\/5.0 (Windows NT 6.0; WOW64; rv:10.0.2) Gecko\\\\/20100101 Firefox\\\\/10.0.2\", \"c\": \"EG\", \"nk\": 1, \"tz\": \"Africa\\\\/Cairo\", \"gr\": \"11\", \"g\": \"rMO4G\", \"h\": \"rMO4G\", \"l\": \"bitly\", \"al\": \"en-us,en;q=0.5\", \"hh\": \"bit.ly\", \"r\": \"http:\\\\/\\\\/twitter.com\\\\/\", \"u\": \"http:\\\\/\\\\/travel.state.gov\\\\/visa\\\\/immigrants\\\\/types\\\\/types_1326.html\", \"t\": 1331923659, \"hc\": 1249590623, \"cy\": \"Cairo\", \"ll\": [ 30.049999, 31.250000 ] }\\n',\n",
       " '{ \"a\": \"Mozilla\\\\/5.0 (Windows NT 6.1; rv:2.0.1) Gecko\\\\/20100101 Firefox\\\\/4.0.1\", \"c\": \"US\", \"nk\": 1, \"tz\": \"America\\\\/New_York\", \"gr\": \"VA\", \"g\": \"z9TCh4\", \"h\": \"z9TCh4\", \"l\": \"bitly\", \"al\": \"en-us,en;q=0.5\", \"hh\": \"1.usa.gov\", \"r\": \"direct\", \"u\": \"http:\\\\/\\\\/www.gpo.gov\\\\/fdsys\\\\/pkg\\\\/FR-2012-03-15\\\\/pdf\\\\/2012-6327.pdf\", \"t\": 1331923659, \"hc\": 1331910613, \"cy\": \"Lorton\", \"ll\": [ 38.691101, -77.206001 ] }\\n',\n",
       " '{ \"a\": \"Mozilla\\\\/5.0 (Windows NT 6.1) AppleWebKit\\\\/535.11 (KHTML, like Gecko) Chrome\\\\/17.0.963.79 Safari\\\\/535.11\", \"c\": \"TR\", \"nk\": 0, \"tz\": \"Asia\\\\/Istanbul\", \"gr\": \"83\", \"g\": \"wcndER\", \"h\": \"zkpJBR\", \"l\": \"bnjacobs\", \"al\": \"tr-TR,tr;q=0.8,en-US;q=0.6,en;q=0.4\", \"hh\": \"1.usa.gov\", \"r\": \"http:\\\\/\\\\/www.facebook.com\\\\/l.php?u=http%3A%2F%2F1.usa.gov%2FzkpJBR&h=jAQE4xYtjAQE3uufuvD0Uw44513kFQQsyYkY3uUS9rDuzQg\", \"u\": \"http:\\\\/\\\\/www.nasa.gov\\\\/mission_pages\\\\/nustar\\\\/main\\\\/index.html\", \"t\": 1331923661, \"hc\": 1331922854, \"cy\": \"Gaziantep\", \"ll\": [ 37.059399, 37.382500 ] }\\n',\n",
       " '{ \"a\": \"Mozilla\\\\/4.0 (compatible; MSIE 7.0; Windows NT 5.1; .NET CLR 2.0.50727; .NET CLR 3.0.04506.648; .NET CLR 3.5.21022; .NET CLR 3.0.4506.2152; .NET CLR 3.5.30729; InfoPath.2; MS-RTC LM 8; .NET4.0C; .NET4.0E)\", \"c\": \"US\", \"nk\": 0, \"tz\": \"America\\\\/New_York\", \"gr\": \"DC\", \"g\": \"xl8O0c\", \"h\": \"xl8O0c\", \"l\": \"bitly\", \"al\": \"en-us\", \"hh\": \"1.usa.gov\", \"r\": \"http:\\\\/\\\\/www.rurdev.usda.gov\\\\/RuralJobsAccelerator.html\", \"u\": \"http:\\\\/\\\\/www.grants.gov\\\\/search\\\\/search.do;jsessionid=dSN8PYLhrVdZ21pYd1qTbXBpYFLQFp0xhGG45LlkM12w1dbGxpdz!545677704?oppId=150574&mode=VIEW\", \"t\": 1331923660, \"hc\": 1331218539, \"cy\": \"Washington\", \"ll\": [ 38.909698, -77.023102 ] }\\n',\n",
       " '{ \"a\": \"Mozilla\\\\/5.0 (Linux; U; Android 2.3.4; en-us; DROID BIONIC 4G Build\\\\/5.5.1_84_DBN-71) AppleWebKit\\\\/533.1 (KHTML, like Gecko) Version\\\\/4.0 Mobile Safari\\\\/533.1\", \"c\": null, \"nk\": 1, \"tz\": \"\", \"g\": \"FO8od2\", \"h\": \"FO8od1\", \"l\": \"developmentseed\", \"al\": \"en-US\", \"hh\": \"ds.io\", \"r\": \"http:\\\\/\\\\/t.co\\\\/wgctD0rd\", \"u\": \"http:\\\\/\\\\/www.nature.nps.gov\\\\/features\\\\/eclipse\\\\/wheretoview.cfm\", \"t\": 1331923661, \"hc\": 1331921833 }\\n',\n",
       " '{ \"a\": \"Mozilla\\\\/4.0 (compatible; MSIE 8.0; Windows NT 6.0; WOW64; Trident\\\\/4.0; SLCC1; .NET CLR 2.0.50727; .NET CLR 3.5.30729; .NET CLR 3.0.30729; MS-RTC LM 8; .NET4.0C; .NET4.0E; InfoPath.3)\", \"c\": \"US\", \"nk\": 1, \"tz\": \"America\\\\/New_York\", \"gr\": \"FL\", \"g\": \"xVZg4P\", \"h\": \"wqUkTo\", \"l\": \"nasatwitter\", \"al\": \"en-us\", \"hh\": \"go.nasa.gov\", \"r\": \"http:\\\\/\\\\/t.co\\\\/UKGBxj29\", \"u\": \"http:\\\\/\\\\/www.nasa.gov\\\\/multimedia\\\\/imagegallery\\\\/image_feature_2199.html\", \"t\": 1331923660, \"hc\": 1331908247, \"cy\": \"Boca Raton\", \"ll\": [ 26.373899, -80.146797 ] }\\n',\n",
       " '{ \"a\": \"Mozilla\\\\/5.0 (Windows NT 6.1; WOW64; rv:10.0.2) Gecko\\\\/20100101 Firefox\\\\/10.0.2\", \"c\": \"GB\", \"nk\": 0, \"tz\": \"Europe\\\\/London\", \"gr\": \"B7\", \"g\": \"zmT59K\", \"h\": \"ygd9Xu\", \"l\": \"addthis\", \"al\": \"en-us,en;q=0.5\", \"hh\": \"1.usa.gov\", \"r\": \"http:\\\\/\\\\/t.co\\\\/DRHiYvXX\", \"u\": \"http:\\\\/\\\\/www.whitehouse.gov\\\\/blog\\\\/2012\\\\/03\\\\/14\\\\/peace-corps-and-vso-partnership-volunteerism-promote-global-development#.T2C7Nl29Fw0.twitter\", \"t\": 1331923660, \"hc\": 1331739446, \"cy\": \"Bristol\", \"ll\": [ 51.450001, -2.583300 ] }\\n',\n",
       " '{ \"a\": \"Mozilla\\\\/5.0 (Windows NT 6.0) AppleWebKit\\\\/535.11 (KHTML, like Gecko) Chrome\\\\/17.0.963.79 Safari\\\\/535.11\", \"c\": null, \"nk\": 0, \"tz\": \"\", \"g\": \"wcndER\", \"h\": \"zkpJBR\", \"l\": \"bnjacobs\", \"al\": \"tr-TR,tr;q=0.8,en-US;q=0.6,en;q=0.4\", \"hh\": \"1.usa.gov\", \"r\": \"http:\\\\/\\\\/www.facebook.com\\\\/l.php?u=http%3A%2F%2F1.usa.gov%2FzkpJBR&h=wAQG7hPb2AQEnNrEFfRbMVyqVO8zIsN5VwvMXz3Jtr3oDaA\", \"u\": \"http:\\\\/\\\\/www.nasa.gov\\\\/mission_pages\\\\/nustar\\\\/main\\\\/index.html\", \"t\": 1331923661, \"hc\": 1331922854 }\\n',\n",
       " '{ \"a\": \"Mozilla\\\\/5.0 (Windows NT 6.1; WOW64; rv:10.0.2) Gecko\\\\/20100101 Firefox\\\\/10.0.2\", \"c\": null, \"nk\": 0, \"tz\": \"\", \"g\": \"wcndER\", \"h\": \"zkpJBR\", \"l\": \"bnjacobs\", \"al\": \"es-MX,es;q=0.8,en-us;q=0.5,en;q=0.3\", \"hh\": \"1.usa.gov\", \"r\": \"http:\\\\/\\\\/www.facebook.com\\\\/l.php?u=http%3A%2F%2F1.usa.gov%2FzkpJBR&h=bAQFgtf5EAQHeeokkudVsey3AN3w57fsuxjm24myMcBDozw\", \"u\": \"http:\\\\/\\\\/www.nasa.gov\\\\/mission_pages\\\\/nustar\\\\/main\\\\/index.html\", \"t\": 1331923660, \"hc\": 1331922854 }\\n',\n",
       " '{ \"a\": \"Mozilla\\\\/5.0 (Windows NT 5.1; rv:10.0.2) Gecko\\\\/20100101 Firefox\\\\/10.0.2\", \"c\": \"CA\", \"nk\": 1, \"tz\": \"America\\\\/Vancouver\", \"gr\": \"BC\", \"g\": \"xwXA4P\", \"h\": \"Avs9wT\", \"l\": \"tweetdeckapi\", \"al\": \"en-us,en;q=0.5\", \"hh\": \"1.usa.gov\", \"r\": \"direct\", \"u\": \"http:\\\\/\\\\/www.ncbi.nlm.nih.gov\\\\/Class\\\\/PowerTools\\\\/eutils\\\\/ebot\\\\/ebot.cgi\", \"t\": 1331923662, \"hc\": 1331748706, \"cy\": \"Vancouver\", \"ll\": [ 49.250000, -123.133301 ] }\\n',\n",
       " '{ \"a\": \"Mozilla\\\\/4.0 (compatible; MSIE 7.0; Windows NT 6.1; WOW64; Trident\\\\/4.0; GTB7.3; SLCC2; .NET CLR 2.0.50727; .NET CLR 3.5.30729; .NET CLR 3.0.30729; Media Center PC 6.0; InfoPath.2; .NET4.0C)\", \"c\": \"US\", \"nk\": 1, \"tz\": \"America\\\\/Los_Angeles\", \"gr\": \"CA\", \"g\": \"wmqgNk\", \"h\": \"x2YAUq\", \"l\": \"omega3day\", \"hh\": \"1.usa.gov\", \"r\": \"direct\", \"u\": \"http:\\\\/\\\\/www.ncbi.nlm.nih.gov\\\\/pubmed\\\\/22301819\", \"t\": 1331923664, \"hc\": 1331579424, \"cy\": \"Los Angeles\", \"ll\": [ 34.048599, -118.442398 ] }\\n',\n",
       " '{ \"a\": \"Opera\\\\/9.80 (J2ME\\\\/MIDP; Opera Mini\\\\/4.1.13572\\\\/27.1350; U; tr) Presto\\\\/2.8.119 Version\\\\/11.10\", \"c\": null, \"nk\": 0, \"tz\": \"\", \"g\": \"xVZg4P\", \"h\": \"wqUkTo\", \"l\": \"nasatwitter\", \"al\": \"tr,en;q=0.9\", \"hh\": \"go.nasa.gov\", \"r\": \"direct\", \"u\": \"http:\\\\/\\\\/www.nasa.gov\\\\/multimedia\\\\/imagegallery\\\\/image_feature_2199.html\", \"t\": 1331923663, \"hc\": 1331908247 }\\n',\n",
       " '{ \"a\": \"Mozilla\\\\/5.0 (compatible; MSIE 9.0; Windows NT 6.1; WOW64; Trident\\\\/5.0)\", \"c\": \"US\", \"nk\": 0, \"tz\": \"America\\\\/Los_Angeles\", \"gr\": \"CA\", \"g\": \"dquqtl\", \"h\": \"dquqtl\", \"l\": \"bitly\", \"al\": \"en-US\", \"hh\": \"1.usa.gov\", \"r\": \"http:\\\\/\\\\/becomeagamedesigner.info\\\\/landing2.aspx?source=SPI-405604&path=qs2&hid=482912756&dpc_source=142&dpc_agentid=405604&dpc_subagentid=CA001&dpc_progid=4839\", \"u\": \"http:\\\\/\\\\/www.bls.gov\\\\/oco\\\\/ocos303.htm#earnings\", \"t\": 1331923665, \"hc\": 1265231618, \"cy\": \"Los Angeles\", \"ll\": [ 34.041599, -118.298798 ] }\\n',\n",
       " '{ \"a\": \"Mozilla\\\\/5.0 (Windows NT 6.0) AppleWebKit\\\\/535.11 (KHTML, like Gecko) Chrome\\\\/17.0.963.79 Safari\\\\/535.11\", \"c\": \"US\", \"nk\": 0, \"tz\": \"America\\\\/New_York\", \"gr\": \"KY\", \"g\": \"wcndER\", \"h\": \"zkpJBR\", \"l\": \"bnjacobs\", \"al\": \"en-US,en;q=0.8\", \"hh\": \"1.usa.gov\", \"r\": \"http:\\\\/\\\\/www.facebook.com\\\\/\", \"u\": \"http:\\\\/\\\\/www.nasa.gov\\\\/mission_pages\\\\/nustar\\\\/main\\\\/index.html\", \"t\": 1331923665, \"hc\": 1331922854, \"cy\": \"Elizabethtown\", \"ll\": [ 37.715302, -85.856499 ] }\\n',\n",
       " '{ \"a\": \"Mozilla\\\\/4.0 (compatible; MSIE 8.0; Windows NT 6.1; Trident\\\\/4.0; SLCC2; .NET CLR 2.0.50727; .NET CLR 3.5.30729; .NET CLR 3.0.30729; Media Center PC 6.0; .NET4.0C; .NET4.0E)\", \"c\": \"US\", \"nk\": 0, \"tz\": \"America\\\\/New_York\", \"gr\": \"GA\", \"g\": \"2rOUYc\", \"h\": \"2rOUYc\", \"l\": \"bitly\", \"al\": \"en-US\", \"hh\": \"1.usa.gov\", \"r\": \"direct\", \"u\": \"http:\\\\/\\\\/toxtown.nlm.nih.gov\\\\/index.php\", \"t\": 1331923666, \"hc\": 1255769846, \"cy\": \"Kennesaw\", \"ll\": [ 34.010399, -84.623901 ] }\\n',\n",
       " '{ \"a\": \"GoogleMaps\\\\/RochesterNY\", \"c\": \"US\", \"nk\": 0, \"tz\": \"America\\\\/Denver\", \"gr\": \"UT\", \"g\": \"mwszkS\", \"h\": \"mwszkS\", \"l\": \"bitly\", \"hh\": \"j.mp\", \"r\": \"http:\\\\/\\\\/www.AwareMap.com\\\\/\", \"u\": \"http:\\\\/\\\\/www.monroecounty.gov\\\\/etc\\\\/911\\\\/rss.php\", \"t\": 1331923667, \"hc\": 1308262393, \"cy\": \"Provo\", \"ll\": [ 40.218102, -111.613297 ] }\\n',\n",
       " '{ \"a\": \"Mozilla\\\\/4.0 (compatible; MSIE 8.0; Windows NT 5.1; Trident\\\\/4.0; GTB6.3; .NET CLR 1.0.3705; .NET CLR 1.1.4322; .NET CLR 2.0.50727; .NET CLR 3.0.4506.2152; .NET CLR 3.5.30729)\", \"c\": \"JP\", \"nk\": 1, \"tz\": \"Asia\\\\/Tokyo\", \"gr\": \"07\", \"g\": \"a7YGRw\", \"h\": \"9kWqY1\", \"l\": \"addthis\", \"al\": \"ja\", \"hh\": \"bit.ly\", \"r\": \"http:\\\\/\\\\/togetter.com\\\\/li\\\\/39380\", \"u\": \"http:\\\\/\\\\/www.navy.mil\\\\/view_single.asp?id=88986\", \"t\": 1331923666, \"hc\": 1280720095, \"cy\": \"Nogata\", \"ll\": [ 33.733299, 130.733307 ] }\\n',\n",
       " '{ \"a\": \"Mozilla\\\\/5.0 (Macintosh; Intel Mac OS X 10_5_8) AppleWebKit\\\\/535.11 (KHTML, like Gecko) Chrome\\\\/17.0.963.78 Safari\\\\/535.11\", \"c\": \"US\", \"nk\": 0, \"tz\": \"America\\\\/Chicago\", \"gr\": \"TN\", \"g\": \"ywRrNd\", \"h\": \"x5yyjv\", \"l\": \"nimhgov\", \"al\": \"en-US,en;q=0.8\", \"hh\": \"1.usa.gov\", \"r\": \"http:\\\\/\\\\/t.co\\\\/gXJihSIj\", \"u\": \"http:\\\\/\\\\/www.nimh.nih.gov\\\\/science-news\\\\/2012\\\\/linked-brain-centers-mature-in-sync.shtml\", \"t\": 1331923667, \"hc\": 1331756478, \"cy\": \"Spring Hill\", \"ll\": [ 35.717400, -86.892601 ] }\\n',\n",
       " '{ \"a\": \"Mozilla\\\\/5.0 (Macintosh; Intel Mac OS X 10_6_8) AppleWebKit\\\\/534.52.7 (KHTML, like Gecko) Version\\\\/5.1.2 Safari\\\\/534.52.7\", \"c\": \"US\", \"nk\": 1, \"tz\": \"America\\\\/Chicago\", \"gr\": \"TX\", \"g\": \"vNJS4H\", \"h\": \"u0uD9q\", \"l\": \"o_4us71ccioa\", \"al\": \"en-us\", \"hh\": \"1.usa.gov\", \"r\": \"direct\", \"u\": \"https:\\\\/\\\\/www.nysdot.gov\\\\/rexdesign\\\\/design\\\\/community.gif\", \"t\": 1331923668, \"hc\": 1319563556, \"cy\": \"Frisco\", \"ll\": [ 33.149899, -96.855499 ] }\\n',\n",
       " '{ \"a\": \"Mozilla\\\\/5.0 (iPhone; CPU iPhone OS 5_1 like Mac OS X) AppleWebKit\\\\/534.46 (KHTML, like Gecko) Mobile\\\\/9B179 Twitter for iPhone\", \"c\": null, \"nk\": 1, \"tz\": \"\", \"g\": \"y5rMac\", \"h\": \"xANY6O\", \"l\": \"twitterfeed\", \"al\": \"en-us\", \"hh\": \"1.usa.gov\", \"r\": \"direct\", \"u\": \"http:\\\\/\\\\/www.fda.gov\\\\/Safety\\\\/Recalls\\\\/ucm296326.htm\", \"t\": 1331923668, \"hc\": 1331916302 }\\n',\n",
       " '{ \"a\": \"Mozilla\\\\/4.0 (compatible; MSIE 8.0; Windows NT 5.1; Trident\\\\/4.0; .NET CLR 1.1.4322; .NET CLR 2.0.50727; .NET CLR 3.0.04506.648; .NET CLR 3.5.21022; InfoPath.2; .NET CLR 3.0.4506.2152; .NET CLR 3.5.30729)\", \"c\": \"US\", \"nk\": 1, \"tz\": \"America\\\\/New_York\", \"gr\": \"NJ\", \"g\": \"fmlu4e\", \"h\": \"eTxaq7\", \"l\": \"fightbac\", \"al\": \"en-us\", \"hh\": \"bit.ly\", \"r\": \"http:\\\\/\\\\/fightbac.org\\\\/about-foodborne-illness?gclid=CLDJ7p3_664CFQdN4AodbDRfIQ\", \"u\": \"http:\\\\/\\\\/www.cdc.gov\\\\/foodborneburden\\\\/\", \"t\": 1331923668, \"hc\": 1292424029, \"kw\": \"foodborneillness_in_US\", \"cy\": \"East Orange\", \"ll\": [ 40.763901, -74.212601 ] }\\n',\n",
       " '{ \"a\": \"Mozilla\\\\/5.0 (Windows NT 6.1; WOW64; rv:10.0.2) Gecko\\\\/20100101 Firefox\\\\/10.0.2\", \"c\": \"US\", \"nk\": 1, \"tz\": \"America\\\\/New_York\", \"gr\": \"VT\", \"g\": \"vNJS4H\", \"h\": \"u0uD9q\", \"l\": \"o_4us71ccioa\", \"al\": \"en-us,en;q=0.5\", \"hh\": \"1.usa.gov\", \"r\": \"direct\", \"u\": \"https:\\\\/\\\\/www.nysdot.gov\\\\/rexdesign\\\\/design\\\\/community.gif\", \"t\": 1331923669, \"hc\": 1319563556, \"cy\": \"Manchester Center\", \"ll\": [ 43.168499, -73.034897 ] }\\n',\n",
       " '{ \"a\": \"Mozilla\\\\/5.0 (Windows NT 6.1; WOW64) AppleWebKit\\\\/535.11 (KHTML, like Gecko) Chrome\\\\/17.0.963.79 Safari\\\\/535.11\", \"c\": \"GB\", \"nk\": 0, \"tz\": \"Europe\\\\/London\", \"gr\": \"M4\", \"g\": \"wcndER\", \"h\": \"zkpJBR\", \"l\": \"bnjacobs\", \"al\": \"en-US,en;q=0.8,en-GB;q=0.6\", \"hh\": \"1.usa.gov\", \"r\": \"direct\", \"u\": \"http:\\\\/\\\\/www.nasa.gov\\\\/mission_pages\\\\/nustar\\\\/main\\\\/index.html\", \"t\": 1331923670, \"hc\": 1331922854, \"cy\": \"Southampton\", \"ll\": [ 50.900002, -1.400000 ] }\\n',\n",
       " '{ \"a\": \"Mozilla\\\\/4.0 (compatible; MSIE 7.0; Windows NT 5.1; .NET CLR 1.1.4322; .NET CLR 2.0.50727; .NET CLR 3.0.04506.648; .NET CLR 3.5.21022; InfoPath.2; .NET CLR 3.0.4506.2152; .NET CLR 3.5.30729; .NET4.0C; .NET4.0E)\", \"c\": \"US\", \"nk\": 1, \"tz\": \"Pacific\\\\/Honolulu\", \"gr\": \"HI\", \"g\": \"x98anS\", \"h\": \"FOb6ww\", \"l\": \"kcatian\", \"al\": \"en-us\", \"hh\": \"1.usa.gov\", \"r\": \"direct\", \"u\": \"http:\\\\/\\\\/www.navy.mil\\\\/search\\\\/display.asp?story_id=65845\", \"t\": 1331923670, \"hc\": 1331921801, \"kw\": \"RealignOPNAVstaff\", \"cy\": \"Honolulu\", \"ll\": [ 21.313900, -157.824493 ] }\\n',\n",
       " '{ \"a\": \"Mozilla\\\\/5.0 (Windows NT 6.1; WOW64; rv:11.0) Gecko\\\\/20100101 Firefox\\\\/11.0\", \"c\": \"DE\", \"nk\": 0, \"tz\": \"Europe\\\\/Berlin\", \"gr\": \"06\", \"g\": \"wcndER\", \"h\": \"zkpJBR\", \"l\": \"bnjacobs\", \"al\": \"de-de,de;q=0.8,en-us;q=0.5,en;q=0.3\", \"hh\": \"1.usa.gov\", \"r\": \"http:\\\\/\\\\/www.facebook.com\\\\/l.php?u=http%3A%2F%2F1.usa.gov%2FzkpJBR&h=PAQFjWjJ4AQEguTjzVKWhj3clbd-_dORTBc88ufocAUzceg\", \"u\": \"http:\\\\/\\\\/www.nasa.gov\\\\/mission_pages\\\\/nustar\\\\/main\\\\/index.html\", \"t\": 1331923670, \"hc\": 1331922854, \"cy\": \"Vordorf\", \"ll\": [ 52.366699, 10.533300 ] }\\n',\n",
       " '{ \"a\": \"Mozilla\\\\/5.0 (iPad; CPU OS 5_1 like Mac OS X) AppleWebKit\\\\/534.46 (KHTML, like Gecko) Version\\\\/5.1 Mobile\\\\/9B176 Safari\\\\/7534.48.3\", \"c\": \"US\", \"nk\": 0, \"tz\": \"America\\\\/Chicago\", \"gr\": \"TX\", \"g\": \"vNJS4H\", \"h\": \"u0uD9q\", \"l\": \"o_4us71ccioa\", \"al\": \"en-us\", \"hh\": \"1.usa.gov\", \"r\": \"direct\", \"u\": \"https:\\\\/\\\\/www.nysdot.gov\\\\/rexdesign\\\\/design\\\\/community.gif\", \"t\": 1331923669, \"hc\": 1319563556, \"cy\": \"Cleveland\", \"ll\": [ 30.365101, -95.067398 ] }\\n',\n",
       " '{ \"a\": \"Mozilla\\\\/5.0 (Windows NT 6.1; WOW64; rv:10.0.2) Gecko\\\\/20100101 Firefox\\\\/10.0.2\", \"c\": \"US\", \"nk\": 1, \"tz\": \"America\\\\/New_York\", \"gr\": \"PA\", \"g\": \"vNJS4H\", \"h\": \"u0uD9q\", \"l\": \"o_4us71ccioa\", \"al\": \"en-us,en;q=0.5\", \"hh\": \"1.usa.gov\", \"r\": \"direct\", \"u\": \"https:\\\\/\\\\/www.nysdot.gov\\\\/rexdesign\\\\/design\\\\/community.gif\", \"t\": 1331923670, \"hc\": 1319563556, \"cy\": \"Allentown\", \"ll\": [ 40.567799, -75.482803 ] }\\n',\n",
       " '{ \"a\": \"Mozilla\\\\/5.0 (iPad; U; CPU OS 4_3_3 like Mac OS X; ar) AppleWebKit\\\\/533.17.9 (KHTML, like Gecko) Mobile\\\\/8J2 Twitter for iPad\", \"c\": null, \"nk\": 0, \"tz\": \"\", \"g\": \"wUsrEq\", \"h\": \"wUsrEq\", \"l\": \"bitly\", \"al\": \"ar\", \"hh\": \"1.usa.gov\", \"r\": \"https:\\\\/\\\\/twitter.com\\\\/nasa\\\\/status\\\\/180682946339016704\", \"u\": \"http:\\\\/\\\\/www.nasa.gov\\\\/topics\\\\/earth\\\\/features\\\\/seac4rs.html\", \"t\": 1331923672, \"hc\": 1331670810 }\\n',\n",
       " '{ \"a\": \"GoogleProducer\", \"c\": \"US\", \"nk\": 0, \"tz\": \"America\\\\/Los_Angeles\", \"gr\": \"CA\", \"g\": \"A9mAnL\", \"h\": \"AgdaTg\", \"l\": \"usmc\", \"hh\": \"1.usa.gov\", \"r\": \"direct\", \"u\": \"http:\\\\/\\\\/www.marines.mil\\\\/unit\\\\/2ndmardiv\\\\/Pages\\\\/Marine’sfatherplanstrekacrosscountrytoraisemoneyformilitaryfoundations.aspx#.T2DkVZhM_7I\", \"t\": 1331923673, \"hc\": 1331751509, \"cy\": \"Mountain View\", \"ll\": [ 37.419201, -122.057404 ] }\\n',\n",
       " '{ \"a\": \"Mozilla\\\\/5.0 (Windows NT 6.1; rv:10.0.2) Gecko\\\\/20100101 Firefox\\\\/10.0.2\", \"c\": \"TR\", \"nk\": 0, \"tz\": \"Asia\\\\/Istanbul\", \"gr\": \"07\", \"g\": \"xVZg4P\", \"h\": \"wqUkTo\", \"l\": \"nasatwitter\", \"al\": \"en-us,en;q=0.5\", \"hh\": \"go.nasa.gov\", \"r\": \"http:\\\\/\\\\/www.facebook.com\\\\/l.php?u=http%3A%2F%2Fgo.nasa.gov%2FwqUkTo&h=yAQE-p9hsAQFyNa3DggWZsfjtqjN4-8DwoRHGbR2t2oDuGQ\", \"u\": \"http:\\\\/\\\\/www.nasa.gov\\\\/multimedia\\\\/imagegallery\\\\/image_feature_2199.html\", \"t\": 1331923677, \"hc\": 1331908247, \"cy\": \"Antalya\", \"ll\": [ 36.912498, 30.689699 ] }\\n',\n",
       " '{ \"a\": \"Mozilla\\\\/5.0 (Windows NT 6.0) AppleWebKit\\\\/535.11 (KHTML, like Gecko) Chrome\\\\/17.0.963.79 Safari\\\\/535.11\", \"c\": \"GB\", \"nk\": 0, \"tz\": \"Europe\\\\/London\", \"gr\": \"H9\", \"g\": \"wcndER\", \"h\": \"zkpJBR\", \"l\": \"bnjacobs\", \"al\": \"en-GB,en-US;q=0.8,en;q=0.6\", \"hh\": \"1.usa.gov\", \"r\": \"http:\\\\/\\\\/www.facebook.com\\\\/l.php?u=http%3A%2F%2F1.usa.gov%2FzkpJBR&h=FAQHpr2puAQEWwTh_3LA_-OrTe-SnnGMzLKQbg7XH8GyS5A\", \"u\": \"http:\\\\/\\\\/www.nasa.gov\\\\/mission_pages\\\\/nustar\\\\/main\\\\/index.html\", \"t\": 1331923676, \"hc\": 1331922854, \"cy\": \"London\", \"ll\": [ 51.500198, -0.126200 ] }\\n',\n",
       " '{ \"a\": \"Opera\\\\/9.80 (Windows NT 5.1; U; ru) Presto\\\\/2.9.168 Version\\\\/11.51\", \"c\": \"RU\", \"nk\": 0, \"tz\": \"Asia\\\\/Novosibirsk\", \"gr\": \"53\", \"g\": \"xVZg4P\", \"h\": \"wqUkTo\", \"l\": \"nasatwitter\", \"al\": \"ru-RU,ru;q=0.9,en;q=0.8\", \"hh\": \"go.nasa.gov\", \"r\": \"direct\", \"u\": \"http:\\\\/\\\\/www.nasa.gov\\\\/multimedia\\\\/imagegallery\\\\/image_feature_2199.html\", \"t\": 1331923677, \"hc\": 1331908247, \"cy\": \"Novosibirsk\", \"ll\": [ 55.041100, 82.934402 ] }\\n',\n",
       " '{ \"a\": \"Mozilla\\\\/5.0 (Windows NT 6.1; rv:10.0.2) Gecko\\\\/20100101 Firefox\\\\/10.0.2\", \"c\": \"US\", \"nk\": 1, \"tz\": \"America\\\\/Los_Angeles\", \"gr\": \"CA\", \"g\": \"vNJS4H\", \"h\": \"u0uD9q\", \"l\": \"o_4us71ccioa\", \"al\": \"en-us,en;q=0.5\", \"hh\": \"1.usa.gov\", \"r\": \"direct\", \"u\": \"https:\\\\/\\\\/www.nysdot.gov\\\\/rexdesign\\\\/design\\\\/community.gif\", \"t\": 1331923679, \"hc\": 1319563556, \"cy\": \"San Jose\", \"ll\": [ 37.218300, -121.753899 ] }\\n',\n",
       " '{ \"a\": \"Mozilla\\\\/5.0 (iPad; U; CPU OS 4_3_5 like Mac OS X; en-us) AppleWebKit\\\\/533.17.9 (KHTML, like Gecko) Version\\\\/5.0.2 Mobile\\\\/8L1 Safari\\\\/6533.18.5\", \"c\": null, \"nk\": 0, \"tz\": \"\", \"g\": \"vNJS4H\", \"h\": \"u0uD9q\", \"l\": \"o_4us71ccioa\", \"al\": \"en-us\", \"hh\": \"1.usa.gov\", \"r\": \"direct\", \"u\": \"https:\\\\/\\\\/www.nysdot.gov\\\\/rexdesign\\\\/design\\\\/community.gif\", \"t\": 1331923680, \"hc\": 1319563556 }\\n',\n",
       " '{\"_heartbeat_\":1331923681}\\n',\n",
       " '{ \"a\": \"Mozilla\\\\/5.0 (Windows NT 6.1) AppleWebKit\\\\/535.11 (KHTML, like Gecko) Chrome\\\\/17.0.963.79 Safari\\\\/535.11\", \"c\": \"US\", \"nk\": 1, \"tz\": \"America\\\\/Chicago\", \"gr\": \"IL\", \"g\": \"xQFo8N\", \"h\": \"xQFo8N\", \"l\": \"bitly\", \"al\": \"en-US,en;q=0.8\", \"hh\": \"1.usa.gov\", \"r\": \"http:\\\\/\\\\/t.co\\\\/ZtsPbWgF\", \"u\": \"http:\\\\/\\\\/www.recoverymonth.gov\\\\/Press-Room\\\\/News\\\\/2012\\\\/Mar6-Recovery-Month-Twitter-Chat-March-21st-100-pm-ET.aspx\", \"t\": 1331923681, \"hc\": 1331129231, \"cy\": \"Chicago\", \"ll\": [ 41.867500, -87.674400 ] }\\n',\n",
       " '{ \"a\": \"Mozilla\\\\/5.0 (Windows NT 6.1; WOW64) AppleWebKit\\\\/535.11 (KHTML, like Gecko) Chrome\\\\/17.0.963.79 Safari\\\\/535.11\", \"c\": \"CA\", \"nk\": 0, \"tz\": \"America\\\\/Montreal\", \"gr\": \"QC\", \"g\": \"x1aK9I\", \"h\": \"Am3xGg\", \"l\": \"nasatwitter\", \"al\": \"fr-FR,fr;q=0.8,en-US;q=0.6,en;q=0.4\", \"hh\": \"go.nasa.gov\", \"r\": \"http:\\\\/\\\\/t.co\\\\/5RxFymkB\", \"u\": \"http:\\\\/\\\\/www.nasa.gov\\\\/multimedia\\\\/imagegallery\\\\/image_feature_2198.html\", \"t\": 1331923681, \"hc\": 1331816802, \"cy\": \"Montreal\", \"ll\": [ 45.500000, -73.583298 ] }\\n',\n",
       " '{ \"a\": \"GoogleMaps\\\\/RochesterNY\", \"c\": \"US\", \"nk\": 0, \"tz\": \"America\\\\/Denver\", \"gr\": \"UT\", \"g\": \"mwszkS\", \"h\": \"mwszkS\", \"l\": \"bitly\", \"hh\": \"1.usa.gov\", \"r\": \"http:\\\\/\\\\/www.AwareMap.com\\\\/\", \"u\": \"http:\\\\/\\\\/www.monroecounty.gov\\\\/etc\\\\/911\\\\/rss.php\", \"t\": 1331923681, \"hc\": 1308262393, \"cy\": \"Provo\", \"ll\": [ 40.218102, -111.613297 ] }\\n',\n",
       " '{ \"a\": \"Mozilla\\\\/4.0 (compatible; MSIE 8.0; Windows NT 6.1; Trident\\\\/4.0; SLCC2; .NET CLR 2.0.50727; .NET CLR 3.5.30729; .NET CLR 3.0.30729; Media Center PC 6.0; .NET4.0C; .NET4.0E)\", \"c\": \"US\", \"nk\": 1, \"tz\": \"America\\\\/New_York\", \"gr\": \"GA\", \"g\": \"2rOUYc\", \"h\": \"2rOUYc\", \"l\": \"bitly\", \"al\": \"en-US\", \"hh\": \"1.usa.gov\", \"r\": \"direct\", \"u\": \"http:\\\\/\\\\/toxtown.nlm.nih.gov\\\\/index.php\", \"t\": 1331923682, \"hc\": 1255769846, \"cy\": \"Marietta\", \"ll\": [ 33.953201, -84.517700 ] }\\n',\n",
       " '{ \"a\": \"Mozilla\\\\/5.0 (iPad; U; CPU OS 4_3_3 like Mac OS X; en-us) AppleWebKit\\\\/533.17.9 (KHTML, like Gecko) Version\\\\/5.0.2 Mobile\\\\/8J2 Safari\\\\/6533.18.5\", \"c\": \"US\", \"nk\": 0, \"tz\": \"America\\\\/New_York\", \"gr\": \"GA\", \"g\": \"vNJS4H\", \"h\": \"u0uD9q\", \"l\": \"o_4us71ccioa\", \"al\": \"en-us\", \"hh\": \"1.usa.gov\", \"r\": \"direct\", \"u\": \"https:\\\\/\\\\/www.nysdot.gov\\\\/rexdesign\\\\/design\\\\/community.gif\", \"t\": 1331923686, \"hc\": 1319563556, \"cy\": \"Richland\", \"ll\": [ 32.094501, -84.657997 ] }\\n',\n",
       " '{ \"a\": \"Mozilla\\\\/5.0 (Macintosh; Intel Mac OS X 10_6_6) AppleWebKit\\\\/535.11 (KHTML, like Gecko) Chrome\\\\/17.0.963.79 Safari\\\\/535.11\", \"c\": \"US\", \"nk\": 1, \"tz\": \"America\\\\/New_York\", \"gr\": \"NY\", \"g\": \"vNJS4H\", \"h\": \"u0uD9q\", \"l\": \"o_4us71ccioa\", \"al\": \"en-US,en;q=0.8\", \"hh\": \"1.usa.gov\", \"r\": \"direct\", \"u\": \"https:\\\\/\\\\/www.nysdot.gov\\\\/rexdesign\\\\/design\\\\/community.gif\", \"t\": 1331923686, \"hc\": 1319563556, \"cy\": \"White Plains\", \"ll\": [ 41.029099, -73.758003 ] }\\n',\n",
       " '{ \"a\": \"Mozilla\\\\/5.0 (Windows NT 6.1; WOW64; rv:10.0.2) Gecko\\\\/20100101 Firefox\\\\/10.0.2\", \"c\": null, \"nk\": 1, \"tz\": \"\", \"g\": \"vNJS4H\", \"h\": \"u0uD9q\", \"l\": \"o_4us71ccioa\", \"al\": \"en-us,en;q=0.5\", \"hh\": \"1.usa.gov\", \"r\": \"direct\", \"u\": \"https:\\\\/\\\\/www.nysdot.gov\\\\/rexdesign\\\\/design\\\\/community.gif\", \"t\": 1331923687, \"hc\": 1319563556 }\\n',\n",
       " '{ \"a\": \"Mozilla\\\\/4.0 (compatible; MSIE 7.0; Windows NT 5.1; .NET CLR 1.1.4322; .NET CLR 2.0.50727; .NET CLR 3.0.4506.2152; .NET CLR 3.5.30729; .NET4.0C)\", \"c\": \"US\", \"nk\": 0, \"tz\": \"America\\\\/Los_Angeles\", \"gr\": \"CA\", \"g\": \"nhwBd2\", \"h\": \"qfabmZ\", \"l\": \"roneill\", \"al\": \"en-us\", \"hh\": \"1.usa.gov\", \"r\": \"http:\\\\/\\\\/www.sec.gov\\\\/cgi-bin\\\\/goodbye.cgi?www.pueblo.gsa.gov\\\\/cic_text\\\\/money\\\\/financial-planner\\\\/10questions.html\", \"u\": \"http:\\\\/\\\\/publications.usa.gov\\\\/USAPubs.php?PubID=5580\", \"t\": 1331923686, \"hc\": 1315623486, \"cy\": \"San Diego\", \"ll\": [ 32.797699, -117.132202 ] }\\n',\n",
       " '{ \"a\": \"Mozilla\\\\/5.0 (compatible; MSIE 9.0; Windows NT 6.1; WOW64; Trident\\\\/5.0)\", \"c\": \"US\", \"nk\": 1, \"tz\": \"Pacific\\\\/Honolulu\", \"gr\": \"HI\", \"g\": \"yu8n10\", \"h\": \"ws342Q\", \"l\": \"pdcwebmaster\", \"al\": \"en-US\", \"hh\": \"1.usa.gov\", \"r\": \"direct\", \"u\": \"http:\\\\/\\\\/www.nwrfc.noaa.gov\\\\/river\\\\/fop.cgi\", \"t\": 1331923688, \"hc\": 1327006083, \"cy\": \"Kihei\", \"ll\": [ 20.698900, -156.442993 ] }\\n',\n",
       " '{ \"a\": \"Mozilla\\\\/5.0 (compatible; MSIE 9.0; Windows NT 6.1; WOW64; Trident\\\\/5.0)\", \"c\": \"TR\", \"nk\": 0, \"tz\": \"Asia\\\\/Istanbul\", \"gr\": \"34\", \"g\": \"wcndER\", \"h\": \"zkpJBR\", \"l\": \"bnjacobs\", \"al\": \"tr-TR\", \"hh\": \"1.usa.gov\", \"r\": \"http:\\\\/\\\\/www.facebook.com\\\\/l.php?u=http%3A%2F%2F1.usa.gov%2FzkpJBR&h=tAQE4N43aAQHtPhZyXwGmJUP1Q4gKIMklCi49PSeD6TYYyA\", \"u\": \"http:\\\\/\\\\/www.nasa.gov\\\\/mission_pages\\\\/nustar\\\\/main\\\\/index.html\", \"t\": 1331923688, \"hc\": 1331922854, \"cy\": \"Istanbul\", \"ll\": [ 41.018600, 28.964701 ] }\\n',\n",
       " '{ \"a\": \"Mozilla\\\\/5.0 (iPad; CPU OS 5_1 like Mac OS X) AppleWebKit\\\\/534.46 (KHTML, like Gecko) Mobile\\\\/9B176 Twitter for iPad\", \"c\": \"US\", \"nk\": 0, \"tz\": \"America\\\\/New_York\", \"gr\": \"MI\", \"g\": \"xGUTp8\", \"h\": \"xGUTp8\", \"l\": \"bitly\", \"al\": \"en-us\", \"hh\": \"1.usa.gov\", \"r\": \"direct\", \"u\": \"http:\\\\/\\\\/www.michigan.gov\\\\/mdot\\\\/0,4616,7-151-9621_11008_45614-273205--,00.html\", \"t\": 1331923690, \"hc\": 1331901086, \"cy\": \"Traverse City\", \"ll\": [ 44.795101, -85.649803 ] }\\n',\n",
       " '{ \"a\": \"Mozilla\\\\/5.0 (Windows NT 6.1) AppleWebKit\\\\/535.11 (KHTML, like Gecko) Chrome\\\\/17.0.963.79 Safari\\\\/535.11\", \"c\": \"TH\", \"nk\": 0, \"tz\": \"Asia\\\\/Bangkok\", \"gr\": \"40\", \"g\": \"wcndER\", \"h\": \"zkpJBR\", \"l\": \"bnjacobs\", \"al\": \"en-US,en;q=0.8\", \"hh\": \"1.usa.gov\", \"r\": \"http:\\\\/\\\\/www.facebook.com\\\\/l.php?u=http%3A%2F%2F1.usa.gov%2FzkpJBR&h=9AQENzXiIAQGHsajNZQXOtjlu-aOVGTU7Lykb0lVAIpW_9g\", \"u\": \"http:\\\\/\\\\/www.nasa.gov\\\\/mission_pages\\\\/nustar\\\\/main\\\\/index.html\", \"t\": 1331923689, \"hc\": 1331922854, \"cy\": \"Bangkok\", \"ll\": [ 13.750000, 100.516701 ] }\\n',\n",
       " '{ \"a\": \"Mozilla\\\\/5.0 (Windows NT 6.0; WOW64; rv:10.0.2) Gecko\\\\/20100101 Firefox\\\\/10.0.2\", \"c\": \"US\", \"nk\": 1, \"tz\": \"America\\\\/New_York\", \"gr\": \"VA\", \"g\": \"wcndER\", \"h\": \"zkpJBR\", \"l\": \"bnjacobs\", \"al\": \"en-us,en;q=0.5\", \"hh\": \"1.usa.gov\", \"r\": \"http:\\\\/\\\\/www.facebook.com\\\\/\", \"u\": \"http:\\\\/\\\\/www.nasa.gov\\\\/mission_pages\\\\/nustar\\\\/main\\\\/index.html\", \"t\": 1331923690, \"hc\": 1331922854, \"cy\": \"Fredericksburg\", \"ll\": [ 38.302299, -77.484703 ] }\\n',\n",
       " '{ \"a\": \"Mozilla\\\\/5.0 (Macintosh; Intel Mac OS X 10_5_8) AppleWebKit\\\\/534.50.2 (KHTML, like Gecko) Version\\\\/5.0.6 Safari\\\\/533.22.3\", \"c\": \"US\", \"nk\": 0, \"tz\": \"America\\\\/Los_Angeles\", \"gr\": \"CA\", \"g\": \"vNJS4H\", \"h\": \"u0uD9q\", \"l\": \"o_4us71ccioa\", \"al\": \"en-us\", \"hh\": \"1.usa.gov\", \"r\": \"direct\", \"u\": \"https:\\\\/\\\\/www.nysdot.gov\\\\/rexdesign\\\\/design\\\\/community.gif\", \"t\": 1331923690, \"hc\": 1319563556, \"cy\": \"San Francisco\", \"ll\": [ 37.764500, -122.429398 ] }\\n',\n",
       " '{ \"a\": \"Mozilla\\\\/5.0 (Windows NT 5.1; rv:10.0.2) Gecko\\\\/20100101 Firefox\\\\/10.0.2\", \"c\": null, \"nk\": 0, \"tz\": \"\", \"g\": \"zCaLwp\", \"h\": \"zUtuOu\", \"l\": \"alelex88\", \"al\": \"pt-br\", \"hh\": \"1.usa.gov\", \"r\": \"http:\\\\/\\\\/t.co\\\\/o1Pd0WeV\", \"u\": \"http:\\\\/\\\\/apod.nasa.gov\\\\/apod\\\\/ap120312.html\", \"t\": 1331923690, \"hc\": 1331923068 }\\n',\n",
       " '{ \"a\": \"Mozilla\\\\/5.0 (iPad; CPU OS 5_1 like Mac OS X) AppleWebKit\\\\/534.46 (KHTML, like Gecko) Mobile\\\\/9B176 Twitter for iPad\", \"c\": \"US\", \"nk\": 0, \"tz\": \"America\\\\/New_York\", \"gr\": \"MI\", \"g\": \"xGUTp8\", \"h\": \"xGUTp8\", \"l\": \"bitly\", \"al\": \"en-us\", \"hh\": \"1.usa.gov\", \"r\": \"https:\\\\/\\\\/twitter.com\\\\/michigandot\\\\/status\\\\/180726790371819520\", \"u\": \"http:\\\\/\\\\/www.michigan.gov\\\\/mdot\\\\/0,4616,7-151-9621_11008_45614-273205--,00.html\", \"t\": 1331923689, \"hc\": 1331901086, \"cy\": \"Traverse City\", \"ll\": [ 44.795101, -85.649803 ] }\\n',\n",
       " '{ \"a\": \"Mozilla\\\\/4.0 (compatible; MSIE 8.0; Windows NT 5.1; Trident\\\\/4.0; .NET CLR 2.0.50727; .NET CLR 3.0.4506.2152; .NET CLR 3.5.30729; .NET4.0C)\", \"c\": \"US\", \"nk\": 0, \"tz\": \"America\\\\/New_York\", \"gr\": \"GA\", \"g\": \"ifIpBW\", \"h\": \"ifIpBW\", \"l\": \"bitly\", \"al\": \"en-us\", \"hh\": \"1.usa.gov\", \"r\": \"direct\", \"u\": \"http:\\\\/\\\\/answers.usa.gov\\\\/system\\\\/selfservice.controller?CONFIGURATION=1000&PARTITION_ID=1&CMD=VIEW_ARTICLE&USERTYPE=1&LANGUAGE=en&COUNTRY=US&ARTICLE_ID=11103\", \"t\": 1331923693, \"hc\": 1302189369, \"cy\": \"Savannah\", \"ll\": [ 32.043301, -81.116699 ] }\\n',\n",
       " '{ \"a\": \"Mozilla\\\\/4.0 (compatible; MSIE 8.0; Windows NT 5.1; Trident\\\\/4.0; GTB6.3; .NET CLR 1.0.3705; .NET CLR 1.1.4322; .NET CLR 2.0.50727; .NET CLR 3.0.4506.2152; .NET CLR 3.5.30729)\", \"c\": \"JP\", \"nk\": 1, \"tz\": \"Asia\\\\/Tokyo\", \"gr\": \"07\", \"g\": \"c5ruPC\", \"h\": \"d3lBti\", \"l\": \"addthis\", \"al\": \"ja\", \"hh\": \"bit.ly\", \"r\": \"http:\\\\/\\\\/togetter.com\\\\/li\\\\/39380\", \"u\": \"http:\\\\/\\\\/www.navy.mil\\\\/view_single.asp?id=88332\", \"t\": 1331923695, \"hc\": 1280720169, \"cy\": \"Nogata\", \"ll\": [ 33.733299, 130.733307 ] }\\n',\n",
       " '{ \"a\": \"Mozilla\\\\/5.0 (iPhone; U; CPU iPhone OS 5_1 like Mac OS X; en_US) AppleWebKit (KHTML, like Gecko) Mobile [FBAN\\\\/FBForIPhone;FBAV\\\\/4.1;FBBV\\\\/4100.0;FBDV\\\\/iPhone3,3;FBMD\\\\/iPhone;FBSN\\\\/iPhone OS;FBSV\\\\/5.1;FBSS\\\\/2; FBCR\\\\/Sprint;FBID\\\\/phone;FBLC\\\\/en_US;FBSF\\\\/2.0]\", \"c\": null, \"nk\": 0, \"tz\": \"\", \"g\": \"wFto9d\", \"h\": \"yIkLDb\", \"l\": \"healthfinderfacebook\", \"al\": \"en-us\", \"hh\": \"1.usa.gov\", \"r\": \"http:\\\\/\\\\/m.facebook.com\\\\/l.php?u=http%3A%2F%2F1.usa.gov%2FyIkLDb&h=-AQFYOhSO\", \"u\": \"http:\\\\/\\\\/healthfinder.gov\\\\/prevention\\\\/ViewTopic.aspx?topicId=89\", \"t\": 1331923696, \"hc\": 1331328857 }\\n',\n",
       " '{ \"a\": \"Mozilla\\\\/5.0 (Macintosh; Intel Mac OS X 10_7_3) AppleWebKit\\\\/534.53.11 (KHTML, like Gecko) Version\\\\/5.1.3 Safari\\\\/534.53.10\", \"c\": null, \"nk\": 0, \"tz\": \"\", \"g\": \"wcndER\", \"h\": \"zkpJBR\", \"l\": \"bnjacobs\", \"al\": \"en-us\", \"hh\": \"1.usa.gov\", \"r\": \"http:\\\\/\\\\/www.facebook.com\\\\/\", \"u\": \"http:\\\\/\\\\/www.nasa.gov\\\\/mission_pages\\\\/nustar\\\\/main\\\\/index.html\", \"t\": 1331923695, \"hc\": 1331922854 }\\n',\n",
       " '{ \"a\": \"Mozilla\\\\/5.0 (Windows NT 6.1; WOW64; rv:10.0.2) Gecko\\\\/20100101 Firefox\\\\/10.0.2\", \"c\": \"US\", \"nk\": 1, \"tz\": \"America\\\\/New_York\", \"gr\": \"MD\", \"g\": \"AcceXL\", \"h\": \"yFxnro\", \"l\": \"sensherrodbrown\", \"al\": \"en-us,en;q=0.5\", \"hh\": \"1.usa.gov\", \"r\": \"direct\", \"u\": \"http:\\\\/\\\\/brown.senate.gov\\\\/newsroom\\\\/press_releases\\\\/release\\\\/?id=99715737-9c44-4e78-b6a7-8ec6772aa76a\", \"t\": 1331923695, \"hc\": 1331923685, \"cy\": \"Potomac\", \"ll\": [ 39.027401, -77.236504 ] }\\n',\n",
       " '{ \"a\": \"Mozilla\\\\/5.0 (Windows NT 6.1; WOW64; rv:10.0.2) Gecko\\\\/20100101 Firefox\\\\/10.0.2\", \"c\": \"US\", \"nk\": 1, \"tz\": \"America\\\\/New_York\", \"gr\": \"NY\", \"g\": \"vNJS4H\", \"h\": \"u0uD9q\", \"l\": \"o_4us71ccioa\", \"al\": \"en-us,en;q=0.5\", \"hh\": \"1.usa.gov\", \"r\": \"direct\", \"u\": \"https:\\\\/\\\\/www.nysdot.gov\\\\/rexdesign\\\\/design\\\\/community.gif\", \"t\": 1331923697, \"hc\": 1319563556, \"cy\": \"Webster\", \"ll\": [ 43.218601, -77.449402 ] }\\n',\n",
       " '{ \"a\": \"Mozilla\\\\/5.0 (Windows NT 6.1) AppleWebKit\\\\/535.11 (KHTML, like Gecko) Chrome\\\\/17.0.963.79 Safari\\\\/535.11\", \"c\": null, \"nk\": 0, \"tz\": \"\", \"g\": \"wcndER\", \"h\": \"zkpJBR\", \"l\": \"bnjacobs\", \"al\": \"pt-BR,pt;q=0.8,en-US;q=0.6,en;q=0.4\", \"hh\": \"1.usa.gov\", \"r\": \"http:\\\\/\\\\/www.facebook.com\\\\/l.php?u=http%3A%2F%2F1.usa.gov%2FzkpJBR&h=aAQE4xwbiAQGEA-xSFxC-E10tSrF6UPwCuTAmffJTDPEhzA\", \"u\": \"http:\\\\/\\\\/www.nasa.gov\\\\/mission_pages\\\\/nustar\\\\/main\\\\/index.html\", \"t\": 1331923697, \"hc\": 1331922854 }\\n',\n",
       " '{ \"a\": \"Mozilla\\\\/5.0 (Windows NT 6.0; WOW64; rv:10.0.2) Gecko\\\\/20100101 Firefox\\\\/10.0.2\", \"c\": \"CA\", \"nk\": 0, \"tz\": \"America\\\\/Rainy_River\", \"gr\": \"ON\", \"g\": \"xVZg4P\", \"h\": \"wqUkTo\", \"l\": \"nasatwitter\", \"al\": \"en-us,en;q=0.5\", \"hh\": \"go.nasa.gov\", \"r\": \"http:\\\\/\\\\/t.co\\\\/UKGBxj29\", \"u\": \"http:\\\\/\\\\/www.nasa.gov\\\\/multimedia\\\\/imagegallery\\\\/image_feature_2199.html\", \"t\": 1331923698, \"hc\": 1331908247, \"cy\": \"Mississauga\", \"ll\": [ 43.150002, -79.500000 ] }\\n',\n",
       " '{ \"a\": \"Mozilla\\\\/4.0 (compatible; MSIE 8.0; Windows NT 6.1; Trident\\\\/4.0; SLCC2; .NET CLR 2.0.50727; .NET CLR 3.5.30729; .NET CLR 3.0.30729; Media Center PC 6.0; .NET4.0C; .NET4.0E)\", \"c\": \"US\", \"nk\": 1, \"tz\": \"America\\\\/New_York\", \"gr\": \"GA\", \"g\": \"2rOUYc\", \"h\": \"2rOUYc\", \"l\": \"bitly\", \"al\": \"en-US\", \"hh\": \"1.usa.gov\", \"r\": \"direct\", \"u\": \"http:\\\\/\\\\/toxtown.nlm.nih.gov\\\\/index.php\", \"t\": 1331923701, \"hc\": 1255769846, \"cy\": \"Marietta\", \"ll\": [ 33.953201, -84.517700 ] }\\n',\n",
       " '{ \"a\": \"Mozilla\\\\/5.0 (iPhone; CPU iPhone OS 5_0_1 like Mac OS X) AppleWebKit\\\\/534.46 (KHTML, like Gecko) Mobile\\\\/9A405 Twitter for iPhone\", \"c\": \"US\", \"nk\": 1, \"tz\": \"America\\\\/New_York\", \"gr\": \"NY\", \"g\": \"FOhVwU\", \"h\": \"FOhVwU\", \"l\": \"bitly\", \"al\": \"en-us\", \"hh\": \"1.usa.gov\", \"r\": \"direct\", \"u\": \"http:\\\\/\\\\/www.nps.gov\\\\/heho\\\\/parknews\\\\/greg-moss.htm\", \"t\": 1331923702, \"hc\": 1331923193, \"cy\": \"Bronx\", \"ll\": [ 40.849899, -73.876900 ] }\\n',\n",
       " '{ \"a\": \"Mozilla\\\\/5.0 (Windows NT 6.1; WOW64) AppleWebKit\\\\/535.11 (KHTML, like Gecko) Chrome\\\\/17.0.963.79 Safari\\\\/535.11\", \"c\": \"US\", \"nk\": 1, \"tz\": \"America\\\\/New_York\", \"gr\": \"FL\", \"g\": \"vNJS4H\", \"h\": \"u0uD9q\", \"l\": \"o_4us71ccioa\", \"al\": \"en-US,en;q=0.8\", \"hh\": \"1.usa.gov\", \"r\": \"direct\", \"u\": \"https:\\\\/\\\\/www.nysdot.gov\\\\/rexdesign\\\\/design\\\\/community.gif\", \"t\": 1331923702, \"hc\": 1319563556, \"cy\": \"Hallandale\", \"ll\": [ 25.986300, -80.151802 ] }\\n',\n",
       " '{ \"a\": \"Mozilla\\\\/4.0 (compatible; MSIE 9.0; Windows NT 6.1)\", \"c\": \"US\", \"nk\": 1, \"tz\": \"America\\\\/New_York\", \"gr\": \"NJ\", \"g\": \"e5SvKE\", \"h\": \"fqPSr9\", \"l\": \"tweetdeckapi\", \"al\": \"en\", \"hh\": \"1.usa.gov\", \"r\": \"direct\", \"u\": \"http:\\\\/\\\\/www.fda.gov\\\\/AdvisoryCommittees\\\\/CommitteesMeetingMaterials\\\\/Drugs\\\\/Anti-InfectiveDrugsAdvisoryCommittee\\\\/ucm242307.htm\", \"t\": 1331923704, \"hc\": 1301298479, \"cy\": \"Paramus\", \"ll\": [ 40.944500, -74.070000 ] }\\n',\n",
       " '{ \"a\": \"Mozilla\\\\/5.0 (Windows; U; Windows NT 6.1; en-US; rv:1.9.2.3) Gecko\\\\/20100405 Namoroka\\\\/3.6.3\", \"c\": \"US\", \"nk\": 0, \"tz\": \"America\\\\/Chicago\", \"gr\": \"AL\", \"g\": \"rqgJuE\", \"h\": \"xcz8vt\", \"l\": \"bootsnall\", \"hh\": \"1.usa.gov\", \"r\": \"direct\", \"u\": \"http:\\\\/\\\\/travel.state.gov\\\\/passport\\\\/passport_5535.html\", \"t\": 1331923705, \"hc\": 1331227417, \"cy\": \"Decatur\", \"ll\": [ 34.572701, -86.940598 ] }\\n',\n",
       " '{ \"a\": \"Mozilla\\\\/5.0 (iPhone; CPU iPhone OS 5_1 like Mac OS X) AppleWebKit\\\\/534.46 (KHTML, like Gecko) Mobile\\\\/9B179 Twitter for iPhone\", \"c\": \"US\", \"nk\": 1, \"tz\": \"America\\\\/New_York\", \"gr\": \"MA\", \"g\": \"xmfI4a\", \"h\": \"w1s8Cu\", \"l\": \"o_3pctpkivrt\", \"al\": \"en-us\", \"hh\": \"1.usa.gov\", \"r\": \"direct\", \"u\": \"http:\\\\/\\\\/www.mass.gov\\\\/dfwele\\\\/der\\\\/pdf\\\\/der_annual_report_2011.pdf\", \"t\": 1331923705, \"hc\": 1331920805, \"cy\": \"Cambridge\", \"ll\": [ 42.380001, -71.132896 ] }\\n',\n",
       " '{ \"a\": \"Mozilla\\\\/4.0 (compatible; MSIE 8.0; Windows NT 6.1; WOW64; Trident\\\\/4.0; GTB7.3; SLCC2; .NET CLR 2.0.50727; .NET CLR 3.5.30729; .NET CLR 3.0.30729; Media Center PC 6.0; CPNTDF; .NET4.0C; BRI\\\\/1)\", \"c\": null, \"nk\": 0, \"tz\": \"\", \"g\": \"wmAjaQ\", \"h\": \"z6glLT\", \"l\": \"citizencorps\", \"al\": \"en-US\", \"hh\": \"1.usa.gov\", \"r\": \"direct\", \"u\": \"http:\\\\/\\\\/citizencorps.gov\\\\/getstarted\\\\/youth\\\\/youthindex.shtm\", \"t\": 1331923707, \"hc\": 1331665443 }\\n',\n",
       " '{ \"a\": \"Opera\\\\/9.80 (J2ME\\\\/MIDP; Opera Mini\\\\/4.1.13572\\\\/27.1350; U; tr) Presto\\\\/2.8.119 Version\\\\/11.10\", \"c\": null, \"nk\": 1, \"tz\": \"\", \"g\": \"xVZg4P\", \"h\": \"wqUkTo\", \"l\": \"nasatwitter\", \"al\": \"tr,en;q=0.9\", \"hh\": \"go.nasa.gov\", \"r\": \"direct\", \"u\": \"http:\\\\/\\\\/www.nasa.gov\\\\/multimedia\\\\/imagegallery\\\\/image_feature_2199.html\", \"t\": 1331923707, \"hc\": 1331908247 }\\n',\n",
       " '{\"_heartbeat_\":1331923711}\\n',\n",
       " '{ \"a\": \"Mozilla\\\\/5.0 (iPod; CPU iPhone OS 5_1 like Mac OS X) AppleWebKit\\\\/534.46 (KHTML, like Gecko) Version\\\\/5.1 Mobile\\\\/9B176 Safari\\\\/7534.48.3\", \"c\": \"CA\", \"nk\": 0, \"tz\": \"America\\\\/Rainy_River\", \"gr\": \"ON\", \"g\": \"zJR7St\", \"h\": \"zJR7St\", \"l\": \"bitly\", \"al\": \"en-us\", \"hh\": \"1.usa.gov\", \"r\": \"direct\", \"u\": \"http:\\\\/\\\\/www.usace.army.mil\\\\/About\\\\/History\\\\/BriefHistoryoftheCorps\\\\/Beginnings.aspxpi\", \"t\": 1331923709, \"hc\": 1331923668, \"cy\": \"Ajax\", \"ll\": [ 43.849998, -79.016701 ] }\\n',\n",
       " '{ \"a\": \"Mozilla\\\\/5.0 (Windows; U; Windows NT 6.1; en-US; rv:1.9.2.17) Gecko\\\\/20110420 Firefox\\\\/3.6.17\", \"c\": \"US\", \"nk\": 0, \"tz\": \"America\\\\/New_York\", \"gr\": \"GA\", \"g\": \"2rOUYc\", \"h\": \"2rOUYc\", \"l\": \"bitly\", \"al\": \"en-us,en;q=0.5\", \"hh\": \"1.usa.gov\", \"r\": \"direct\", \"u\": \"http:\\\\/\\\\/toxtown.nlm.nih.gov\\\\/index.php\", \"t\": 1331923711, \"hc\": 1255769846, \"cy\": \"Marietta\", \"ll\": [ 33.953201, -84.517700 ] }\\n',\n",
       " '{ \"a\": \"Mozilla\\\\/5.0 (iPad; CPU OS 5_1 like Mac OS X) AppleWebKit\\\\/534.46 (KHTML, like Gecko) Version\\\\/5.1 Mobile\\\\/9B176 Safari\\\\/7534.48.3\", \"c\": null, \"nk\": 0, \"tz\": \"\", \"g\": \"vNJS4H\", \"h\": \"u0uD9q\", \"l\": \"o_4us71ccioa\", \"al\": \"en-us\", \"hh\": \"1.usa.gov\", \"r\": \"direct\", \"u\": \"https:\\\\/\\\\/www.nysdot.gov\\\\/rexdesign\\\\/design\\\\/community.gif\", \"t\": 1331923713, \"hc\": 1319563556 }\\n',\n",
       " '{ \"a\": \"Mozilla\\\\/5.0 (Windows NT 6.1; WOW64; rv:10.0.2) Gecko\\\\/20100101 Firefox\\\\/10.0.2\", \"c\": null, \"nk\": 1, \"tz\": \"\", \"g\": \"vNJS4H\", \"h\": \"u0uD9q\", \"l\": \"o_4us71ccioa\", \"al\": \"en-us,en;q=0.5\", \"hh\": \"1.usa.gov\", \"r\": \"direct\", \"u\": \"https:\\\\/\\\\/www.nysdot.gov\\\\/rexdesign\\\\/design\\\\/community.gif\", \"t\": 1331923714, \"hc\": 1319563556 }\\n',\n",
       " '{ \"a\": \"Mozilla\\\\/5.0 (Macintosh; Intel Mac OS X 10_6_6) AppleWebKit\\\\/535.11 (KHTML, like Gecko) Chrome\\\\/17.0.963.79 Safari\\\\/535.11\", \"c\": \"US\", \"nk\": 1, \"tz\": \"America\\\\/New_York\", \"gr\": \"NY\", \"g\": \"vNJS4H\", \"h\": \"u0uD9q\", \"l\": \"o_4us71ccioa\", \"al\": \"en-US,en;q=0.8\", \"hh\": \"1.usa.gov\", \"r\": \"direct\", \"u\": \"https:\\\\/\\\\/www.nysdot.gov\\\\/rexdesign\\\\/design\\\\/community.gif\", \"t\": 1331923714, \"hc\": 1319563556, \"cy\": \"White Plains\", \"ll\": [ 41.029099, -73.758003 ] }\\n',\n",
       " '{ \"a\": \"Mozilla\\\\/4.0 (compatible; MSIE 8.0; Windows NT 6.1; Trident\\\\/4.0; SLCC2; .NET CLR 2.0.50727; .NET CLR 3.5.30729; .NET CLR 3.0.30729; Media Center PC 6.0; .NET4.0C; .NET4.0E)\", \"c\": \"US\", \"nk\": 1, \"tz\": \"America\\\\/New_York\", \"gr\": \"GA\", \"g\": \"2rOUYc\", \"h\": \"2rOUYc\", \"l\": \"bitly\", \"al\": \"en-US\", \"hh\": \"1.usa.gov\", \"r\": \"direct\", \"u\": \"http:\\\\/\\\\/toxtown.nlm.nih.gov\\\\/index.php\", \"t\": 1331923714, \"hc\": 1255769846, \"cy\": \"Marietta\", \"ll\": [ 33.953201, -84.517700 ] }\\n',\n",
       " '{ \"a\": \"Mozilla\\\\/5.0 (Windows NT 6.1; WOW64) AppleWebKit\\\\/535.11 (KHTML, like Gecko) Chrome\\\\/17.0.963.79 Safari\\\\/535.11\", \"c\": \"US\", \"nk\": 1, \"tz\": \"America\\\\/New_York\", \"gr\": \"FL\", \"g\": \"vNJS4H\", \"h\": \"u0uD9q\", \"l\": \"o_4us71ccioa\", \"al\": \"en-US,en;q=0.8\", \"hh\": \"1.usa.gov\", \"r\": \"direct\", \"u\": \"https:\\\\/\\\\/www.nysdot.gov\\\\/rexdesign\\\\/design\\\\/community.gif\", \"t\": 1331923715, \"hc\": 1319563556, \"cy\": \"Hallandale\", \"ll\": [ 25.986300, -80.151802 ] }\\n',\n",
       " '{ \"a\": \"Mozilla\\\\/4.0 (compatible; MSIE 8.0; Windows NT 5.1; Trident\\\\/4.0; GTB6.3; .NET CLR 1.0.3705; .NET CLR 1.1.4322; .NET CLR 2.0.50727; .NET CLR 3.0.4506.2152; .NET CLR 3.5.30729)\", \"c\": \"JP\", \"nk\": 1, \"tz\": \"Asia\\\\/Tokyo\", \"gr\": \"07\", \"g\": \"9KIxHJ\", \"h\": \"9AhE3Z\", \"l\": \"addthis\", \"al\": \"ja\", \"hh\": \"bit.ly\", \"r\": \"http:\\\\/\\\\/togetter.com\\\\/li\\\\/39380\", \"u\": \"http:\\\\/\\\\/www.navy.mil\\\\/view_single.asp?id=86267\", \"t\": 1331923716, \"hc\": 1280720262, \"cy\": \"Nogata\", \"ll\": [ 33.733299, 130.733307 ] }\\n',\n",
       " '{ \"a\": \"Mozilla\\\\/5.0 (Windows NT 6.1; WOW64) AppleWebKit\\\\/535.11 (KHTML, like Gecko) Chrome\\\\/17.0.963.79 Safari\\\\/535.11\", \"c\": \"US\", \"nk\": 1, \"tz\": \"America\\\\/Los_Angeles\", \"gr\": \"CA\", \"g\": \"vNJS4H\", \"h\": \"u0uD9q\", \"l\": \"o_4us71ccioa\", \"al\": \"en-US,en;q=0.8\", \"hh\": \"1.usa.gov\", \"r\": \"direct\", \"u\": \"https:\\\\/\\\\/www.nysdot.gov\\\\/rexdesign\\\\/design\\\\/community.gif\", \"t\": 1331923714, \"hc\": 1319563556, \"cy\": \"Palo Alto\", \"ll\": [ 37.376202, -122.182602 ] }\\n',\n",
       " '{ \"a\": \"Mozilla\\\\/5.0 (Linux; U; Android 2.3.6; fr-fr; SPH-D700 Build\\\\/GINGERBREAD) AppleWebKit\\\\/533.1 (KHTML, like Gecko) Version\\\\/4.0 Mobile Safari\\\\/533.1\", \"c\": null, \"nk\": 0, \"tz\": \"\", \"g\": \"xVZg4P\", \"h\": \"wqUkTo\", \"l\": \"nasatwitter\", \"al\": \"fr-FR, en-US\", \"hh\": \"go.nasa.gov\", \"r\": \"http:\\\\/\\\\/m.facebook.com\\\\/l.php?u=http%3A%2F%2Fgo.nasa.gov%2FwqUkTo&h=4AQFcaMjn&enc=AZNFINDG3HCJCWnmocAf_mfCf997u-PcOoDpu6aDFwI2aJuLyQXYafjhhchngs5OF8QKFuOZ-zGnodcgYtMg_JpOH8Ac2AR2CBUxb5TK0a94Z7xKyHAlYb5VVq8RxxSdTUfdNdnUNeTllDb4mox9S1PShWJyh_X2a9_jraVIf0gTW0AM8HdTdb4rgs6RBQMS0b4cGh-HP2JtpSbfXMPJaAVu1ux1fPYTvJ7qHcrikGo3aoj3DOMy8EDSfS3WgcOggImsVwYzmn-dUN-kUh8kBOdDaPV2_DWCvlrwHDA8RS7sR8Zt6fUOpIbYugQTu7X0pqjsBZRN1-O3hPj-9k3elwSq\", \"u\": \"http:\\\\/\\\\/www.nasa.gov\\\\/multimedia\\\\/imagegallery\\\\/image_feature_2199.html\", \"t\": 1331923715, \"hc\": 1331908247 }\\n',\n",
       " '{ \"a\": \"Mozilla\\\\/5.0 (Windows NT 6.1; rv:11.0) Gecko\\\\/20100101 Firefox\\\\/11.0\", \"c\": \"US\", \"nk\": 1, \"tz\": \"America\\\\/New_York\", \"gr\": \"MD\", \"g\": \"vNJS4H\", \"h\": \"u0uD9q\", \"l\": \"o_4us71ccioa\", \"al\": \"en-us,en;q=0.5\", \"hh\": \"1.usa.gov\", \"r\": \"direct\", \"u\": \"https:\\\\/\\\\/www.nysdot.gov\\\\/rexdesign\\\\/design\\\\/community.gif\", \"t\": 1331923716, \"hc\": 1319563556, \"cy\": \"Laurel\", \"ll\": [ 39.096699, -76.877899 ] }\\n',\n",
       " '{ \"a\": \"Mozilla\\\\/5.0 (X11; Linux i686) AppleWebKit\\\\/535.11 (KHTML, like Gecko) Chrome\\\\/17.0.963.66 Safari\\\\/535.11\", \"c\": \"BR\", \"nk\": 0, \"tz\": \"America\\\\/Sao_Paulo\", \"gr\": \"27\", \"g\": \"wcndER\", \"h\": \"zkpJBR\", \"l\": \"bnjacobs\", \"al\": \"en-US,en;q=0.8,pt-BR;q=0.6,pt;q=0.4\", \"hh\": \"1.usa.gov\", \"r\": \"http:\\\\/\\\\/plus.url.google.com\\\\/url?sa=z&n=1331923715522&url=http%3A%2F%2F1.usa.gov%2FzkpJBR&usg=sRYEn7EX_d9Z3naoBr8e_nvKNiY.\", \"u\": \"http:\\\\/\\\\/www.nasa.gov\\\\/mission_pages\\\\/nustar\\\\/main\\\\/index.html\", \"t\": 1331923717, \"hc\": 1331922854, \"cy\": \"Santos\", \"ll\": [ -23.950001, -46.333302 ] }\\n',\n",
       " '{ \"a\": \"Mozilla\\\\/5.0 (Windows NT 6.1; WOW64) AppleWebKit\\\\/535.11 (KHTML, like Gecko) Chrome\\\\/17.0.963.79 Safari\\\\/535.11\", \"c\": \"US\", \"nk\": 1, \"tz\": \"America\\\\/New_York\", \"gr\": \"FL\", \"g\": \"vNJS4H\", \"h\": \"u0uD9q\", \"l\": \"o_4us71ccioa\", \"al\": \"en-US,en;q=0.8\", \"hh\": \"1.usa.gov\", \"r\": \"direct\", \"u\": \"https:\\\\/\\\\/www.nysdot.gov\\\\/rexdesign\\\\/design\\\\/community.gif\", \"t\": 1331923720, \"hc\": 1319563556, \"cy\": \"Hallandale\", \"ll\": [ 25.986300, -80.151802 ] }\\n',\n",
       " '{ \"a\": \"Mozilla\\\\/5.0 (Macintosh; Intel Mac OS X 10_7_0) AppleWebKit\\\\/535.11 (KHTML, like Gecko) Chrome\\\\/17.0.963.56 Safari\\\\/535.11\", \"c\": \"US\", \"nk\": 1, \"tz\": \"America\\\\/New_York\", \"gr\": \"DC\", \"g\": \"vNJS4H\", \"h\": \"u0uD9q\", \"l\": \"o_4us71ccioa\", \"al\": \"en-US,en;q=0.8\", \"hh\": \"1.usa.gov\", \"r\": \"direct\", \"u\": \"https:\\\\/\\\\/www.nysdot.gov\\\\/rexdesign\\\\/design\\\\/community.gif\", \"t\": 1331923720, \"hc\": 1319563556, \"cy\": \"Washington\", \"ll\": [ 38.908501, -77.017700 ] }\\n',\n",
       " '{ \"a\": \"Mozilla\\\\/5.0 (Windows NT 5.1; rv:9.0.1) Gecko\\\\/20100101 Firefox\\\\/9.0.1\", \"c\": \"US\", \"nk\": 0, \"tz\": \"America\\\\/New_York\", \"gr\": \"OH\", \"g\": \"z9BNrS\", \"h\": \"FOq2up\", \"l\": \"twitterfeed\", \"al\": \"en-us,en;q=0.5\", \"hh\": \"1.usa.gov\", \"r\": \"http:\\\\/\\\\/t.co\\\\/5cH6E4J0\", \"u\": \"http:\\\\/\\\\/www.ankenyiowa.gov\\\\/index.aspx?page=14&recordid=9214\", \"t\": 1331923723, \"hc\": 1331922363, \"cy\": \"Columbus\", \"ll\": [ 39.996799, -82.988197 ] }\\n',\n",
       " '{ \"a\": \"Mozilla\\\\/5.0 (Windows NT 6.1; rv:2.0.1) Gecko\\\\/20100101 Firefox\\\\/4.0.1\", \"c\": \"US\", \"nk\": 1, \"tz\": \"America\\\\/New_York\", \"gr\": \"VA\", \"g\": \"AAxNkt\", \"h\": \"AAxNkt\", \"l\": \"bitly\", \"al\": \"en-us,en;q=0.5\", \"hh\": \"1.usa.gov\", \"r\": \"direct\", \"u\": \"http:\\\\/\\\\/cbo.gov\\\\/publication\\\\/43083\", \"t\": 1331923723, \"hc\": 1331909706, \"cy\": \"Lorton\", \"ll\": [ 38.691101, -77.206001 ] }\\n',\n",
       " '{ \"a\": \"Mozilla\\\\/5.0 (iPhone; CPU iPhone OS 5_1 like Mac OS X) AppleWebKit\\\\/534.46 (KHTML, like Gecko) Mobile\\\\/9B179 Twitter for iPhone\", \"c\": \"US\", \"nk\": 1, \"tz\": \"America\\\\/New_York\", \"gr\": \"NY\", \"g\": \"wqGppe\", \"h\": \"A3r7z2\", \"l\": \"nasatwitter\", \"al\": \"en-us\", \"hh\": \"go.nasa.gov\", \"r\": \"https:\\\\/\\\\/twitter.com\\\\/nasa\\\\/status\\\\/180439898757677056\", \"u\": \"http:\\\\/\\\\/www.nasa.gov\\\\/mission_pages\\\\/sunearth\\\\/missions\\\\/atrex-launch.html\", \"t\": 1331923725, \"hc\": 1331749429, \"cy\": \"Melville\", \"ll\": [ 40.785000, -73.406197 ] }\\n',\n",
       " '{ \"a\": \"Mozilla\\\\/4.0 (compatible; MSIE 8.0; Windows NT 6.1; Trident\\\\/4.0; SLCC2; .NET CLR 2.0.50727; .NET CLR 3.5.30729; .NET CLR 3.0.30729; Media Center PC 6.0; .NET4.0C; .NET4.0E)\", \"c\": \"US\", \"nk\": 1, \"tz\": \"America\\\\/New_York\", \"gr\": \"GA\", \"g\": \"2rOUYc\", \"h\": \"2rOUYc\", \"l\": \"bitly\", \"al\": \"en-US\", \"hh\": \"1.usa.gov\", \"r\": \"direct\", \"u\": \"http:\\\\/\\\\/toxtown.nlm.nih.gov\\\\/index.php\", \"t\": 1331923726, \"hc\": 1255769846, \"cy\": \"Marietta\", \"ll\": [ 33.953201, -84.517700 ] }\\n',\n",
       " '{ \"a\": \"Mozilla\\\\/5.0 (Linux; U; Android 4.0.3; en-us; DROID BIONIC Build\\\\/IML74K) AppleWebKit\\\\/534.30 (KHTML, like Gecko) Version\\\\/4.0 Mobile Safari\\\\/534.30\", \"c\": null, \"nk\": 0, \"tz\": \"\", \"g\": \"xeVVaG\", \"h\": \"x9h4Vt\", \"l\": \"jeisman\", \"al\": \"en-US\", \"hh\": \"1.usa.gov\", \"r\": \"http:\\\\/\\\\/t.co\\\\/FbvjyPMV\", \"u\": \"http:\\\\/\\\\/www.healthcare.gov\\\\/blog\\\\/2012\\\\/03\\\\/mycare031612.html\", \"t\": 1331923726, \"hc\": 1331918691 }\\n',\n",
       " '{ \"a\": \"Mozilla\\\\/5.0 (compatible; MSIE 9.0; Windows NT 6.1; Trident\\\\/5.0; BOIE9;ENUSMSNIP)\", \"c\": null, \"nk\": 0, \"tz\": \"\", \"g\": \"x0pOeE\", \"h\": \"x0pOeE\", \"l\": \"bitly\", \"al\": \"en-US\", \"hh\": \"1.usa.gov\", \"r\": \"http:\\\\/\\\\/mail.nctc.net\\\\/MsgTxt.aspx?fid=0&ID=34296\", \"u\": \"http:\\\\/\\\\/www.nlm.nih.gov\\\\/medlineplus\\\\/news\\\\/fullstory_122728.html\", \"t\": 1331923726, \"hc\": 1331312438 }\\n',\n",
       " '{ \"a\": \"Mozilla\\\\/5.0 (Windows NT 6.1; WOW64) AppleWebKit\\\\/535.11 (KHTML, like Gecko) Chrome\\\\/17.0.963.79 Safari\\\\/535.11\", \"c\": \"RU\", \"nk\": 0, \"tz\": \"Europe\\\\/Moscow\", \"gr\": \"48\", \"g\": \"wcndER\", \"h\": \"zkpJBR\", \"l\": \"bnjacobs\", \"al\": \"en-GB,en-US;q=0.8,en;q=0.6\", \"hh\": \"1.usa.gov\", \"r\": \"http:\\\\/\\\\/www.facebook.com\\\\/l.php?u=http%3A%2F%2F1.usa.gov%2FzkpJBR&h=0AQEN9m5PAQEEeXfIRLEbmjhURfxbegK1zyPaP6fd-NvqYg\", \"u\": \"http:\\\\/\\\\/www.nasa.gov\\\\/mission_pages\\\\/nustar\\\\/main\\\\/index.html\", \"t\": 1331923726, \"hc\": 1331922854, \"cy\": \"Moscow\", \"ll\": [ 55.752201, 37.615601 ] }\\n',\n",
       " '{ \"a\": \"Mozilla\\\\/5.0 (compatible; MSIE 9.0; Windows NT 6.1; WOW64; Trident\\\\/5.0; MANM; MANM)\", \"c\": \"US\", \"nk\": 0, \"tz\": \"America\\\\/New_York\", \"gr\": \"MD\", \"g\": \"wcndER\", \"h\": \"zkpJBR\", \"l\": \"bnjacobs\", \"al\": \"en-US\", \"hh\": \"1.usa.gov\", \"r\": \"http:\\\\/\\\\/www.facebook.com\\\\/l.php?u=http%3A%2F%2F1.usa.gov%2FzkpJBR&h=JAQHTF2_8AQFEl2jNH390a1TAAFiBqcO1JvmUuJMpkIvJkA\", \"u\": \"http:\\\\/\\\\/www.nasa.gov\\\\/mission_pages\\\\/nustar\\\\/main\\\\/index.html\", \"t\": 1331923727, \"hc\": 1331922854, \"cy\": \"Upper Marlboro\", \"ll\": [ 38.835701, -76.773804 ] }\\n',\n",
       " '{ \"a\": \"GoogleMaps\\\\/RochesterNY\", \"c\": \"US\", \"nk\": 0, \"tz\": \"America\\\\/Denver\", \"gr\": \"UT\", \"g\": \"mwszkS\", \"h\": \"mwszkS\", \"l\": \"bitly\", \"hh\": \"j.mp\", \"r\": \"http:\\\\/\\\\/www.AwareMap.com\\\\/\", \"u\": \"http:\\\\/\\\\/www.monroecounty.gov\\\\/etc\\\\/911\\\\/rss.php\", \"t\": 1331923727, \"hc\": 1308262393, \"cy\": \"Provo\", \"ll\": [ 40.218102, -111.613297 ] }\\n',\n",
       " '{ \"a\": \"Mozilla\\\\/5.0 (Windows NT 5.1; rv:10.0.2) Gecko\\\\/20100101 Firefox\\\\/10.0.2\", \"c\": \"CA\", \"nk\": 0, \"tz\": \"America\\\\/Vancouver\", \"gr\": \"BC\", \"g\": \"mr8RM1\", \"h\": \"mr8RM1\", \"l\": \"bitly\", \"al\": \"en-us\", \"hh\": \"1.usa.gov\", \"r\": \"http:\\\\/\\\\/t.co\\\\/ZqRuQC8i\", \"u\": \"http:\\\\/\\\\/www.ncbi.nlm.nih.gov\\\\/pubmedhealth\\\\/PMH0001613\\\\/\", \"t\": 1331923728, \"hc\": 1308679415, \"cy\": \"Burnaby\", \"ll\": [ 49.250000, -122.949997 ] }\\n',\n",
       " '{ \"a\": \"Mozilla\\\\/5.0 (Macintosh; Intel Mac OS X 10_6_8) AppleWebKit\\\\/535.11 (KHTML, like Gecko) Chrome\\\\/17.0.963.79 Safari\\\\/535.11\", \"c\": \"BR\", \"nk\": 0, \"tz\": \"America\\\\/Sao_Paulo\", \"gr\": \"27\", \"g\": \"zCaLwp\", \"h\": \"zUtuOu\", \"l\": \"alelex88\", \"al\": \"en-US,en;q=0.8\", \"hh\": \"1.usa.gov\", \"r\": \"http:\\\\/\\\\/t.co\\\\/o1Pd0WeV\", \"u\": \"http:\\\\/\\\\/apod.nasa.gov\\\\/apod\\\\/ap120312.html\", \"t\": 1331923730, \"hc\": 1331923068, \"cy\": \"SCaetano Do Sul\", \"ll\": [ -23.600000, -46.566700 ] }\\n',\n",
       " '{ \"a\": \"GoogleProducer\", \"c\": \"US\", \"nk\": 0, \"tz\": \"America\\\\/Los_Angeles\", \"gr\": \"CA\", \"g\": \"wcndER\", \"h\": \"zkpJBR\", \"l\": \"bnjacobs\", \"hh\": \"1.usa.gov\", \"r\": \"direct\", \"u\": \"http:\\\\/\\\\/www.nasa.gov\\\\/mission_pages\\\\/nustar\\\\/main\\\\/index.html\", \"t\": 1331923731, \"hc\": 1331922854, \"cy\": \"Mountain View\", \"ll\": [ 37.419201, -122.057404 ] }\\n',\n",
       " '{ \"a\": \"Mozilla\\\\/4.0 (compatible; MSIE 7.0; Windows NT 5.1; .NET CLR 1.1.4322; .NET CLR 2.0.50727; .NET CLR 3.0.4506.2152; .NET CLR 3.5.30729)\", \"c\": \"US\", \"nk\": 1, \"tz\": \"America\\\\/Los_Angeles\", \"gr\": \"OR\", \"g\": \"sOyjsA\", \"h\": \"v9bP1u\", \"l\": \"mlaidler\", \"al\": \"en-us\", \"hh\": \"1.usa.gov\", \"r\": \"direct\", \"u\": \"http:\\\\/\\\\/public.health.oregon.gov\\\\/DiseasesConditions\\\\/DiseasesAZ\\\\/rsv\\\\/Documents\\\\/RSV_Oregon.pdf\", \"t\": 1331923732, \"hc\": 1323904393, \"cy\": \"Portland\", \"ll\": [ 45.547901, -122.501503 ] }\\n',\n",
       " '{ \"a\": \"Mozilla\\\\/5.0 (Windows NT 6.1; WOW64; rv:10.0.2) Gecko\\\\/20100101 Firefox\\\\/10.0.2\", \"c\": \"US\", \"nk\": 1, \"tz\": \"America\\\\/Los_Angeles\", \"gr\": \"CA\", \"g\": \"vNJS4H\", \"h\": \"u0uD9q\", \"l\": \"o_4us71ccioa\", \"al\": \"en-us,en;q=0.5\", \"hh\": \"1.usa.gov\", \"r\": \"direct\", \"u\": \"https:\\\\/\\\\/www.nysdot.gov\\\\/rexdesign\\\\/design\\\\/community.gif\", \"t\": 1331923731, \"hc\": 1319563556, \"cy\": \"Palo Alto\", \"ll\": [ 37.376202, -122.182602 ] }\\n',\n",
       " '{ \"a\": \"Mozilla\\\\/5.0 (Windows NT 6.1; WOW64; rv:10.0.2) Gecko\\\\/20100101 Firefox\\\\/10.0.2\", \"c\": \"US\", \"nk\": 1, \"tz\": \"America\\\\/Los_Angeles\", \"gr\": \"CA\", \"g\": \"vNJS4H\", \"h\": \"u0uD9q\", \"l\": \"o_4us71ccioa\", \"al\": \"en-us,en;q=0.5\", \"hh\": \"1.usa.gov\", \"r\": \"direct\", \"u\": \"https:\\\\/\\\\/www.nysdot.gov\\\\/rexdesign\\\\/design\\\\/community.gif\", \"t\": 1331923732, \"hc\": 1319563556, \"cy\": \"Palo Alto\", \"ll\": [ 37.376202, -122.182602 ] }\\n',\n",
       " '{ \"a\": \"Mozilla\\\\/5.0 (Windows; U; Windows NT 6.1; en-US; rv:1.9.2.28) Gecko\\\\/20120306 Firefox\\\\/3.6.28\", \"c\": \"US\", \"nk\": 1, \"tz\": \"America\\\\/Los_Angeles\", \"gr\": \"CA\", \"g\": \"vNJS4H\", \"h\": \"u0uD9q\", \"l\": \"o_4us71ccioa\", \"al\": \"en-us,en;q=0.5\", \"hh\": \"1.usa.gov\", \"r\": \"direct\", \"u\": \"https:\\\\/\\\\/www.nysdot.gov\\\\/rexdesign\\\\/design\\\\/community.gif\", \"t\": 1331923733, \"hc\": 1319563556, \"cy\": \"Palo Alto\", \"ll\": [ 37.376202, -122.182602 ] }\\n',\n",
       " '{ \"a\": \"Mozilla\\\\/5.0 (Windows NT 6.1; WOW64; rv:9.0.1) Gecko\\\\/20100101 Firefox\\\\/9.0.1\", \"c\": \"US\", \"nk\": 1, \"tz\": \"America\\\\/New_York\", \"gr\": \"GA\", \"g\": \"vNJS4H\", \"h\": \"u0uD9q\", \"l\": \"o_4us71ccioa\", \"al\": \"en-us,en;q=0.5\", \"hh\": \"1.usa.gov\", \"r\": \"direct\", \"u\": \"https:\\\\/\\\\/www.nysdot.gov\\\\/rexdesign\\\\/design\\\\/community.gif\", \"t\": 1331923735, \"hc\": 1319563556, \"cy\": \"Savannah\", \"ll\": [ 31.997101, -80.964500 ] }\\n',\n",
       " '{ \"a\": \"Mozilla\\\\/4.0 (compatible; MSIE 8.0; Windows NT 5.1; Trident\\\\/4.0; .NET CLR 1.1.4322; .NET CLR 2.0.50727; .NET CLR 3.0.4506.2152; .NET CLR 3.5.30729)\", \"c\": \"US\", \"nk\": 0, \"tz\": \"America\\\\/New_York\", \"gr\": \"VT\", \"g\": \"AAvwTT\", \"h\": \"yuwhA1\", \"l\": \"xmasboy\", \"al\": \"en-us\", \"hh\": \"1.usa.gov\", \"r\": \"direct\", \"u\": \"http:\\\\/\\\\/www.fmcsa.dot.gov\\\\/rules-regulations\\\\/topics\\\\/medical\\\\/medical.htm\", \"t\": 1331923736, \"hc\": 1326483268, \"kw\": \"NewCDLRules\", \"cy\": \"Bellows Falls\", \"ll\": [ 43.173100, -72.495697 ] }\\n',\n",
       " '{ \"a\": \"Mozilla\\\\/5.0 (iPhone; CPU iPhone OS 5_0_1 like Mac OS X) AppleWebKit\\\\/534.46 (KHTML, like Gecko) Mobile\\\\/9A405 Twitter for iPhone\", \"c\": \"US\", \"nk\": 0, \"tz\": \"America\\\\/Chicago\", \"gr\": \"TX\", \"g\": \"y5rMac\", \"h\": \"xANY6O\", \"l\": \"twitterfeed\", \"al\": \"en-us\", \"hh\": \"1.usa.gov\", \"r\": \"https:\\\\/\\\\/twitter.com\\\\/fdarecalls\\\\/status\\\\/180697594887012352\", \"u\": \"http:\\\\/\\\\/www.fda.gov\\\\/Safety\\\\/Recalls\\\\/ucm296326.htm\", \"t\": 1331923737, \"hc\": 1331916302, \"cy\": \"Cleveland\", \"ll\": [ 30.365101, -95.067398 ] }\\n',\n",
       " '{ \"a\": \"Mozilla\\\\/5.0 (iPhone; CPU iPhone OS 5_1 like Mac OS X) AppleWebKit\\\\/534.46 (KHTML, like Gecko) Mobile\\\\/9B179 Twitter for iPhone\", \"c\": \"US\", \"nk\": 0, \"tz\": \"America\\\\/New_York\", \"gr\": \"NY\", \"g\": \"fraTML\", \"h\": \"eTNiA7\", \"l\": \"tweetdeckapi\", \"al\": \"en-us\", \"hh\": \"1.usa.gov\", \"r\": \"https:\\\\/\\\\/twitter.com\\\\/csteenst\\\\/status\\\\/180328728461709312\", \"u\": \"http:\\\\/\\\\/nces.ed.gov\\\\/nationsreportcard\\\\/itmrlsx\\\\/landing.aspx\", \"t\": 1331923738, \"hc\": 1291215038, \"cy\": \"Syracuse\", \"ll\": [ 43.051399, -76.149498 ] }\\n',\n",
       " '{ \"a\": \"Mozilla\\\\/5.0 (Windows NT 5.1) AppleWebKit\\\\/535.11 (KHTML, like Gecko) Chrome\\\\/17.0.963.79 Safari\\\\/535.11\", \"c\": \"CA\", \"nk\": 0, \"tz\": \"America\\\\/Vancouver\", \"gr\": \"BC\", \"g\": \"wcndER\", \"h\": \"zkpJBR\", \"l\": \"bnjacobs\", \"al\": \"en-US,en;q=0.8\", \"hh\": \"1.usa.gov\", \"r\": \"http:\\\\/\\\\/www.facebook.com\\\\/l.php?u=http%3A%2F%2F1.usa.gov%2FzkpJBR&h=OAQGmPaU1AQG8YorRtfDUrfrez8TjIt_QEWrUcgwb7TtCsQ\", \"u\": \"http:\\\\/\\\\/www.nasa.gov\\\\/mission_pages\\\\/nustar\\\\/main\\\\/index.html\", \"t\": 1331923739, \"hc\": 1331922854, \"cy\": \"Surrey\", \"ll\": [ 49.136398, -122.821297 ] }\\n',\n",
       " '{\"_heartbeat_\":1331923741}\\n',\n",
       " '{ \"a\": \"Mozilla\\\\/5.0 (compatible; MSIE 9.0; Windows NT 6.1; Trident\\\\/5.0)\", \"c\": \"US\", \"nk\": 0, \"tz\": \"America\\\\/New_York\", \"gr\": \"NJ\", \"g\": \"zAhuZI\", \"h\": \"zAhuZI\", \"l\": \"bitly\", \"al\": \"en-US\", \"hh\": \"1.usa.gov\", \"r\": \"http:\\\\/\\\\/www.facebook.com\\\\/l.php?u=http%3A%2F%2F1.usa.gov%2FzAhuZI&h=_AQHQqHfyAQEI7k2kRdbuWdzbWLPb8ECwBqoEGiDIOSH-ZA\", \"u\": \"http:\\\\/\\\\/www.drugabuse.gov\\\\/related-topics\\\\/medical-consequences-drug-abuse\", \"t\": 1331923741, \"hc\": 1326972033, \"cy\": \"Denville\", \"ll\": [ 40.884102, -74.486298 ] }\\n',\n",
       " '{ \"a\": \"Mozilla\\\\/4.0 (compatible; MSIE 8.0; Windows NT 5.1; Trident\\\\/4.0; GTB6.3; .NET CLR 1.0.3705; .NET CLR 1.1.4322; .NET CLR 2.0.50727; .NET CLR 3.0.4506.2152; .NET CLR 3.5.30729)\", \"c\": \"JP\", \"nk\": 1, \"tz\": \"Asia\\\\/Tokyo\", \"gr\": \"07\", \"g\": \"cfLlZl\", \"h\": \"9NY6wS\", \"l\": \"addthis\", \"al\": \"ja\", \"hh\": \"bit.ly\", \"r\": \"http:\\\\/\\\\/togetter.com\\\\/li\\\\/39380\", \"u\": \"http:\\\\/\\\\/www.navy.mil\\\\/view_single.asp?id=80798\", \"t\": 1331923741, \"hc\": 1264584877, \"cy\": \"Nogata\", \"ll\": [ 33.733299, 130.733307 ] }\\n',\n",
       " '{ \"a\": \"GoogleMaps\\\\/RochesterNY\", \"c\": \"US\", \"nk\": 0, \"tz\": \"America\\\\/Denver\", \"gr\": \"UT\", \"g\": \"mwszkS\", \"h\": \"mwszkS\", \"l\": \"bitly\", \"hh\": \"1.usa.gov\", \"r\": \"http:\\\\/\\\\/www.AwareMap.com\\\\/\", \"u\": \"http:\\\\/\\\\/www.monroecounty.gov\\\\/etc\\\\/911\\\\/rss.php\", \"t\": 1331923741, \"hc\": 1308262393, \"cy\": \"Provo\", \"ll\": [ 40.218102, -111.613297 ] }\\n',\n",
       " '{ \"a\": \"Mozilla\\\\/5.0 (Macintosh; Intel Mac OS X 10_6_8) AppleWebKit\\\\/534.52.7 (KHTML, like Gecko) Version\\\\/5.1.2 Safari\\\\/534.52.7\", \"c\": \"US\", \"nk\": 0, \"tz\": \"America\\\\/New_York\", \"gr\": \"FL\", \"g\": \"yZjQP7\", \"h\": \"yZjQP7\", \"l\": \"bitly\", \"al\": \"en-us\", \"hh\": \"1.usa.gov\", \"r\": \"http:\\\\/\\\\/t.co\\\\/lLTOhIWd\", \"u\": \"http:\\\\/\\\\/www.ed.gov\\\\/blog\\\\/2012\\\\/03\\\\/students-find-success-in-metro-academy-programs\\\\/\", \"t\": 1331923742, \"hc\": 1331901450, \"cy\": \"West Palm Beach\", \"ll\": [ 26.719999, -80.070198 ] }\\n',\n",
       " '{ \"a\": \"Mozilla\\\\/5.0 (Macintosh; Intel Mac OS X 10_6_8) AppleWebKit\\\\/535.11 (KHTML, like Gecko) Chrome\\\\/17.0.963.79 Safari\\\\/535.11\", \"c\": \"US\", \"nk\": 0, \"tz\": \"America\\\\/Los_Angeles\", \"gr\": \"WA\", \"g\": \"xKUlqF\", \"h\": \"ynq3vT\", \"l\": \"kcnews\", \"al\": \"en-US,en;q=0.8\", \"hh\": \"1.usa.gov\", \"r\": \"http:\\\\/\\\\/hootsuite.com\\\\/dashboard\", \"u\": \"http:\\\\/\\\\/www.kingcounty.gov\\\\/property\\\\/RealEstateServices\\\\/CountyPropertyForSale.aspx\", \"t\": 1331923741, \"hc\": 1330731297, \"cy\": \"Federal Way\", \"ll\": [ 47.305801, -122.346001 ] }\\n',\n",
       " '{ \"a\": \"Mozilla\\\\/5.0 (Windows NT 6.1; WOW64; rv:10.0.2) Gecko\\\\/20100101 Firefox\\\\/10.0.2\", \"c\": \"US\", \"nk\": 1, \"tz\": \"America\\\\/Chicago\", \"gr\": \"NE\", \"g\": \"vNJS4H\", \"h\": \"u0uD9q\", \"l\": \"o_4us71ccioa\", \"al\": \"en-us,en;q=0.5\", \"hh\": \"1.usa.gov\", \"r\": \"direct\", \"u\": \"https:\\\\/\\\\/www.nysdot.gov\\\\/rexdesign\\\\/design\\\\/community.gif\", \"t\": 1331923742, \"hc\": 1319563556, \"cy\": \"Beatrice\", \"ll\": [ 40.255299, -96.708900 ] }\\n',\n",
       " '{ \"a\": \"Mozilla\\\\/5.0 (Windows; U; Windows NT 6.1; en-US; rv:1.9.2.26) Gecko\\\\/20120128 Firefox\\\\/3.6.26\", \"c\": \"US\", \"nk\": 1, \"tz\": \"America\\\\/Los_Angeles\", \"gr\": \"CA\", \"g\": \"vNJS4H\", \"h\": \"u0uD9q\", \"l\": \"o_4us71ccioa\", \"al\": \"en-us,en;q=0.5\", \"hh\": \"1.usa.gov\", \"r\": \"direct\", \"u\": \"https:\\\\/\\\\/www.nysdot.gov\\\\/rexdesign\\\\/design\\\\/community.gif\", \"t\": 1331923743, \"hc\": 1319563556, \"cy\": \"Palo Alto\", \"ll\": [ 37.376202, -122.182602 ] }\\n',\n",
       " '{ \"a\": \"Mozilla\\\\/5.0 (Windows; U; Windows NT 6.1; en-US; rv:1.9.2.26) Gecko\\\\/20120128 Firefox\\\\/3.6.26\", \"c\": \"US\", \"nk\": 1, \"tz\": \"America\\\\/Los_Angeles\", \"gr\": \"CA\", \"g\": \"vNJS4H\", \"h\": \"u0uD9q\", \"l\": \"o_4us71ccioa\", \"al\": \"en-us,en;q=0.5\", \"hh\": \"1.usa.gov\", \"r\": \"direct\", \"u\": \"https:\\\\/\\\\/www.nysdot.gov\\\\/rexdesign\\\\/design\\\\/community.gif\", \"t\": 1331923744, \"hc\": 1319563556, \"cy\": \"Palo Alto\", \"ll\": [ 37.376202, -122.182602 ] }\\n',\n",
       " '{ \"a\": \"Mozilla\\\\/5.0 (iPhone; U; CPU iPhone OS 4_2_10 like Mac OS X; en_US) AppleWebKit (KHTML, like Gecko) Mobile [FBAN\\\\/FBForIPhone;FBAV\\\\/4.1;FBBV\\\\/4100.0;FBDV\\\\/iPhone3,3;FBMD\\\\/iPhone;FBSN\\\\/iPhone OS;FBSV\\\\/4.2.10;FBSS\\\\/2; FBCR\\\\/Verizon;FBID\\\\/phone;FBLC\\\\/en_US;FBSF\\\\/2.0]\", \"c\": \"US\", \"nk\": 0, \"tz\": \"America\\\\/New_York\", \"gr\": \"CT\", \"g\": \"wcndER\", \"h\": \"zkpJBR\", \"l\": \"bnjacobs\", \"al\": \"en-us\", \"hh\": \"1.usa.gov\", \"r\": \"http:\\\\/\\\\/m.facebook.com\\\\/l.php?u=http%3A%2F%2F1.usa.gov%2FzkpJBR&h=EAQFsrJlH\", \"u\": \"http:\\\\/\\\\/www.nasa.gov\\\\/mission_pages\\\\/nustar\\\\/main\\\\/index.html\", \"t\": 1331923745, \"hc\": 1331922854, \"cy\": \"New Haven\", \"ll\": [ 41.311100, -72.924103 ] }\\n',\n",
       " '{ \"a\": \"Mozilla\\\\/4.0 (compatible; MSIE 8.0; Windows NT 5.1; Trident\\\\/4.0; InfoPath.1; .NET CLR 2.0.50727)\", \"c\": \"US\", \"nk\": 0, \"tz\": \"America\\\\/Los_Angeles\", \"gr\": \"CA\", \"g\": \"xRWPdw\", \"h\": \"xRWPdw\", \"l\": \"bitly\", \"al\": \"en-us\", \"hh\": \"1.usa.gov\", \"r\": \"http:\\\\/\\\\/www.facebook.com\\\\/\", \"u\": \"http:\\\\/\\\\/www.whitehouse.gov\\\\/the-press-office\\\\/2012\\\\/03\\\\/15\\\\/statement-president-meeting-interagency-task-force-monitor-and-combat-tr\", \"t\": 1331923744, \"hc\": 1331824318, \"cy\": \"Los Angeles\", \"ll\": [ 34.041599, -118.298798 ] }\\n',\n",
       " '{ \"a\": \"Mozilla\\\\/5.0 (Windows; U; Windows NT 6.1; en-US; rv:1.9.2.25) Gecko\\\\/20111212 Firefox\\\\/3.6.25\", \"c\": null, \"nk\": 1, \"tz\": \"\", \"g\": \"vNJS4H\", \"h\": \"u0uD9q\", \"l\": \"o_4us71ccioa\", \"al\": \"en-us,en;q=0.5\", \"hh\": \"1.usa.gov\", \"r\": \"direct\", \"u\": \"https:\\\\/\\\\/www.nysdot.gov\\\\/rexdesign\\\\/design\\\\/community.gif\", \"t\": 1331923745, \"hc\": 1319563556 }\\n',\n",
       " '{ \"a\": \"Mozilla\\\\/5.0 (iPhone; CPU iPhone OS 5_0_1 like Mac OS X) AppleWebKit\\\\/534.46 (KHTML, like Gecko) Mobile\\\\/9A405 Twitter for iPhone\", \"c\": \"US\", \"nk\": 0, \"tz\": \"America\\\\/New_York\", \"gr\": \"MI\", \"g\": \"xXVEFW\", \"h\": \"xnoP9x\", \"l\": \"bufferapp\", \"al\": \"en-us\", \"hh\": \"1.usa.gov\", \"r\": \"https:\\\\/\\\\/twitter.com\\\\/setiinstitute\\\\/status\\\\/180703746970484736\", \"u\": \"http:\\\\/\\\\/www.nasa.gov\\\\/home\\\\/hqnews\\\\/2012\\\\/mar\\\\/HQ_12-082_WISE_Infrared_Sky.html\", \"t\": 1331923747, \"hc\": 1331904598, \"cy\": \"Wyoming\", \"ll\": [ 42.898800, -85.705902 ] }\\n',\n",
       " '{ \"a\": \"Mozilla\\\\/5.0 (Windows NT 6.1; WOW64; rv:11.0) Gecko\\\\/20100101 Firefox\\\\/11.0\", \"c\": \"US\", \"nk\": 0, \"tz\": \"America\\\\/New_York\", \"gr\": \"MA\", \"g\": \"wcndER\", \"h\": \"zkpJBR\", \"l\": \"bnjacobs\", \"al\": \"en-us,en;q=0.5\", \"hh\": \"1.usa.gov\", \"r\": \"http:\\\\/\\\\/www.facebook.com\\\\/l.php?u=http%3A%2F%2F1.usa.gov%2FzkpJBR&h=4AQHOOndkAQE3GQqf7QuLRynABdpRYaHxt8p7dNob7PCm4w\", \"u\": \"http:\\\\/\\\\/www.nasa.gov\\\\/mission_pages\\\\/nustar\\\\/main\\\\/index.html\", \"t\": 1331923748, \"hc\": 1331922854, \"cy\": \"Fitchburg\", \"ll\": [ 42.590801, -71.805496 ] }\\n',\n",
       " '{ \"a\": \"Mozilla\\\\/5.0 (Windows NT 6.1; rv:2.0.1) Gecko\\\\/20100101 Firefox\\\\/4.0.1\", \"c\": \"US\", \"nk\": 1, \"tz\": \"America\\\\/New_York\", \"gr\": \"VA\", \"g\": \"Ag7vNh\", \"h\": \"Ag7vNh\", \"l\": \"bitly\", \"al\": \"en-us,en;q=0.5\", \"hh\": \"1.usa.gov\", \"r\": \"direct\", \"u\": \"http:\\\\/\\\\/www.whitehouse.gov\\\\/blog\\\\/2012\\\\/03\\\\/15\\\\/american-energy-facts\", \"t\": 1331923748, \"hc\": 1331856527, \"cy\": \"Lorton\", \"ll\": [ 38.691101, -77.206001 ] }\\n',\n",
       " '{ \"a\": \"Mozilla\\\\/4.0 (compatible; MSIE 8.0; Windows NT 5.1; Trident\\\\/4.0; GTB7.3; .NET CLR 1.1.4322; .NET CLR 2.0.50727; .NET CLR 3.0.4506.2152; .NET CLR 3.5.30729; .NET4.0C)\", \"c\": \"US\", \"nk\": 1, \"tz\": \"America\\\\/Chicago\", \"gr\": \"IL\", \"g\": \"zS247h\", \"h\": \"At10Ob\", \"l\": \"tweetdeckapi\", \"al\": \"en-us\", \"hh\": \"1.usa.gov\", \"r\": \"http:\\\\/\\\\/t.co\\\\/UIhZMzY6\", \"u\": \"http:\\\\/\\\\/agriculture.house.gov\\\\/farmbill_feedback.html\", \"t\": 1331923749, \"hc\": 1331922127, \"cy\": \"Raymond\", \"ll\": [ 39.314400, -89.613503 ] }\\n',\n",
       " '{ \"a\": \"Mozilla\\\\/5.0 (Windows; U; Windows NT 6.1; en-US; rv:1.9.2.27) Gecko\\\\/20120216 Firefox\\\\/3.6.27\", \"c\": \"US\", \"nk\": 1, \"tz\": \"America\\\\/Los_Angeles\", \"gr\": \"CA\", \"g\": \"vNJS4H\", \"h\": \"u0uD9q\", \"l\": \"o_4us71ccioa\", \"al\": \"en-us,en;q=0.5\", \"hh\": \"1.usa.gov\", \"r\": \"direct\", \"u\": \"https:\\\\/\\\\/www.nysdot.gov\\\\/rexdesign\\\\/design\\\\/community.gif\", \"t\": 1331923749, \"hc\": 1319563556, \"cy\": \"Palo Alto\", \"ll\": [ 37.376202, -122.182602 ] }\\n',\n",
       " '{ \"a\": \"Mozilla\\\\/5.0 (Macintosh; Intel Mac OS X 10.7; rv:8.0.1) Gecko\\\\/20100101 Firefox\\\\/8.0.1\", \"c\": \"US\", \"nk\": 0, \"tz\": \"America\\\\/Chicago\", \"gr\": \"TX\", \"g\": \"y5rMac\", \"h\": \"xANY6O\", \"l\": \"twitterfeed\", \"al\": \"en-us,en;q=0.5\", \"hh\": \"1.usa.gov\", \"r\": \"http:\\\\/\\\\/t.co\\\\/KefLcHHb\", \"u\": \"http:\\\\/\\\\/www.fda.gov\\\\/Safety\\\\/Recalls\\\\/ucm296326.htm\", \"t\": 1331923750, \"hc\": 1331916302, \"cy\": \"Richardson\", \"ll\": [ 32.972198, -96.737602 ] }\\n',\n",
       " '{ \"a\": \"Mozilla\\\\/5.0 (iPhone; CPU iPhone OS 5_1 like Mac OS X) AppleWebKit\\\\/534.46 (KHTML, like Gecko) Mobile\\\\/9B179 Twitter for iPhone\", \"c\": \"US\", \"nk\": 1, \"tz\": \"America\\\\/Chicago\", \"gr\": \"IL\", \"g\": \"zS247h\", \"h\": \"At10Ob\", \"l\": \"tweetdeckapi\", \"al\": \"en-us\", \"hh\": \"1.usa.gov\", \"r\": \"direct\", \"u\": \"http:\\\\/\\\\/agriculture.house.gov\\\\/farmbill_feedback.html\", \"t\": 1331923752, \"hc\": 1331922127, \"cy\": \"Middletown\", \"ll\": [ 40.098900, -89.548798 ] }\\n',\n",
       " '{ \"a\": \"Mozilla\\\\/5.0 (Windows NT 6.1; WOW64; rv:10.0.2) Gecko\\\\/20100101 Firefox\\\\/10.0.2\", \"c\": \"US\", \"nk\": 1, \"tz\": \"America\\\\/New_York\", \"gr\": \"VA\", \"g\": \"wcndER\", \"h\": \"zkpJBR\", \"l\": \"bnjacobs\", \"al\": \"en-us,en;q=0.5\", \"hh\": \"1.usa.gov\", \"r\": \"http:\\\\/\\\\/www.facebook.com\\\\/l.php?u=http%3A%2F%2F1.usa.gov%2FzkpJBR&h=KAQGKQBAtAQG7u_3w_T-zLcTuc1COjcZdqbGUFgaNgKBVpQ\", \"u\": \"http:\\\\/\\\\/www.nasa.gov\\\\/mission_pages\\\\/nustar\\\\/main\\\\/index.html\", \"t\": 1331923753, \"hc\": 1331922854, \"cy\": \"Stafford\", \"ll\": [ 38.433601, -77.388702 ] }\\n',\n",
       " '{ \"a\": \"Mozilla\\\\/5.0 (Windows NT 6.1; rv:2.0.1) Gecko\\\\/20100101 Firefox\\\\/4.0.1\", \"c\": \"US\", \"nk\": 1, \"tz\": \"America\\\\/New_York\", \"gr\": \"VA\", \"g\": \"Ag7vNh\", \"h\": \"Ag7vNh\", \"l\": \"bitly\", \"al\": \"en-us,en;q=0.5\", \"hh\": \"1.usa.gov\", \"r\": \"direct\", \"u\": \"http:\\\\/\\\\/www.whitehouse.gov\\\\/blog\\\\/2012\\\\/03\\\\/15\\\\/american-energy-facts\", \"t\": 1331923754, \"hc\": 1331856527, \"cy\": \"Lorton\", \"ll\": [ 38.691101, -77.206001 ] }\\n',\n",
       " '{ \"a\": \"Mozilla\\\\/5.0 (Macintosh; Intel Mac OS X 10_5_8) AppleWebKit\\\\/534.50.2 (KHTML, like Gecko) Version\\\\/5.0.6 Safari\\\\/533.22.3\", \"c\": \"US\", \"nk\": 1, \"tz\": \"America\\\\/Los_Angeles\", \"gr\": \"CA\", \"g\": \"vNJS4H\", \"h\": \"u0uD9q\", \"l\": \"o_4us71ccioa\", \"al\": \"en-us\", \"hh\": \"1.usa.gov\", \"r\": \"direct\", \"u\": \"https:\\\\/\\\\/www.nysdot.gov\\\\/rexdesign\\\\/design\\\\/community.gif\", \"t\": 1331923753, \"hc\": 1319563556, \"cy\": \"Alameda\", \"ll\": [ 37.773499, -122.278801 ] }\\n',\n",
       " '{ \"a\": \"BlackBerry9530\\\\/5.0.0.328 Profile\\\\/MIDP-2.1 Configuration\\\\/CLDC-1.1 VendorID\\\\/105\", \"c\": null, \"nk\": 1, \"tz\": \"\", \"g\": \"wnQalX\", \"h\": \"yCdvsP\", \"l\": \"skinmyi\", \"al\": \"en-US,en;q=0.5\", \"hh\": \"1.usa.gov\", \"r\": \"direct\", \"u\": \"http:\\\\/\\\\/www.whitehouse.gov\\\\/photos-and-video\\\\/photogallery\\\\/prime-minister-david-cameron-united-kingdom-official-visit\", \"t\": 1331923753, \"hc\": 1331814239 }\\n',\n",
       " '{ \"a\": \"Mozilla\\\\/5.0 (Macintosh; Intel Mac OS X 10_6_8) AppleWebKit\\\\/534.52.7 (KHTML, like Gecko) Version\\\\/5.1.2 Safari\\\\/534.52.7\", \"c\": \"US\", \"nk\": 1, \"tz\": \"America\\\\/New_York\", \"gr\": \"OH\", \"g\": \"y5rMac\", \"h\": \"xANY6O\", \"l\": \"twitterfeed\", \"al\": \"en-us\", \"hh\": \"1.usa.gov\", \"r\": \"http:\\\\/\\\\/t.co\\\\/KefLcHHb\", \"u\": \"http:\\\\/\\\\/www.fda.gov\\\\/Safety\\\\/Recalls\\\\/ucm296326.htm\", \"t\": 1331923755, \"hc\": 1331916302, \"cy\": \"Cincinnati\", \"ll\": [ 39.163898, -84.451599 ] }\\n',\n",
       " '{ \"a\": \"Mozilla\\\\/5.0 (Windows; U; Windows NT 6.1; en-US; rv:1.9.2.17) Gecko\\\\/20110420 Firefox\\\\/3.6.17\", \"c\": \"US\", \"nk\": 0, \"tz\": \"America\\\\/New_York\", \"gr\": \"GA\", \"g\": \"2rOUYc\", \"h\": \"2rOUYc\", \"l\": \"bitly\", \"al\": \"en-us,en;q=0.5\", \"hh\": \"1.usa.gov\", \"r\": \"direct\", \"u\": \"http:\\\\/\\\\/toxtown.nlm.nih.gov\\\\/index.php\", \"t\": 1331923755, \"hc\": 1255769846, \"cy\": \"Kennesaw\", \"ll\": [ 34.010399, -84.623901 ] }\\n',\n",
       " '{ \"a\": \"SAMSUNG-SGH-A887\\\\/A887UCIJ1 SHP\\\\/VPP\\\\/R5 NetFront\\\\/3.5 SMM-MMS\\\\/1.2.0 profile\\\\/MIDP-2.1 configuration\\\\/CLDC-1.1\", \"c\": null, \"nk\": 0, \"tz\": \"\", \"g\": \"xRWPdw\", \"h\": \"wZ0eD0\", \"l\": \"tweetdeckapi\", \"al\": \"en\", \"hh\": \"1.usa.gov\", \"r\": \"direct\", \"u\": \"http:\\\\/\\\\/www.whitehouse.gov\\\\/the-press-office\\\\/2012\\\\/03\\\\/15\\\\/statement-president-meeting-interagency-task-force-monitor-and-combat-tr\", \"t\": 1331923756, \"hc\": 1331840856 }\\n',\n",
       " '{ \"a\": \"Mozilla\\\\/5.0 (Windows NT 5.1) AppleWebKit\\\\/535.7 (KHTML, like Gecko) Chrome\\\\/16.0.912.77 Safari\\\\/535.7\", \"c\": \"US\", \"nk\": 1, \"tz\": \"America\\\\/New_York\", \"gr\": \"DC\", \"g\": \"w7UqC1\", \"h\": \"wQdTN9\", \"l\": \"addthis\", \"al\": \"en-US,en;q=0.8\", \"hh\": \"1.usa.gov\", \"r\": \"http:\\\\/\\\\/hootsuite.com\\\\/dashboard\", \"u\": \"http:\\\\/\\\\/www.whitehouse.gov\\\\/blog\\\\/2012\\\\/03\\\\/15\\\\/effective-aid-transparent-and-accountable-aid#.T2OC-_GRhkQ.twitter\", \"t\": 1331923758, \"hc\": 1331921659, \"cy\": \"Washington\", \"ll\": [ 38.893200, -77.049004 ] }\\n',\n",
       " '{ \"a\": \"Mozilla\\\\/5.0 (iPhone; U; CPU iPhone OS 5_1 like Mac OS X; en_US) AppleWebKit (KHTML, like Gecko) Mobile [FBAN\\\\/FBForIPhone;FBAV\\\\/4.1;FBBV\\\\/4100.0;FBDV\\\\/iPhone3,1;FBMD\\\\/iPhone;FBSN\\\\/iPhone OS;FBSV\\\\/5.1;FBSS\\\\/2; FBCR\\\\/AT&T;FBID\\\\/phone;FBLC\\\\/en_US;FBSF\\\\/2.0]\", \"c\": null, \"nk\": 0, \"tz\": \"\", \"g\": \"wcndER\", \"h\": \"zkpJBR\", \"l\": \"bnjacobs\", \"al\": \"en-us\", \"hh\": \"1.usa.gov\", \"r\": \"http:\\\\/\\\\/m.facebook.com\\\\/l.php?u=http%3A%2F%2F1.usa.gov%2FzkpJBR&h=KAQGSRT2_\", \"u\": \"http:\\\\/\\\\/www.nasa.gov\\\\/mission_pages\\\\/nustar\\\\/main\\\\/index.html\", \"t\": 1331923757, \"hc\": 1331922854 }\\n',\n",
       " '{ \"a\": \"Mozilla\\\\/4.0 (compatible; MSIE 8.0; Windows NT 5.1; Trident\\\\/4.0; GTB7.3; .NET CLR 1.1.4322; .NET CLR 2.0.50727; .NET CLR 3.0.4506.2152; .NET CLR 3.5.30729)\", \"c\": null, \"nk\": 0, \"tz\": \"\", \"g\": \"eumt4\", \"h\": \"AqsU9L\", \"l\": \"grouponinc\", \"al\": \"en-us\", \"hh\": \"gr.pn\", \"r\": \"direct\", \"u\": \"http:\\\\/\\\\/www.nps.gov\\\\/stea\\\\/index.htm\", \"t\": 1331923758, \"hc\": 1330707731 }\\n',\n",
       " '{ \"a\": \"Mozilla\\\\/5.0 (Windows NT 6.1; rv:10.0.2) Gecko\\\\/20100101 Firefox\\\\/10.0.2\", \"c\": \"BG\", \"nk\": 0, \"tz\": \"Europe\\\\/Sofia\", \"gr\": \"39\", \"g\": \"wcndER\", \"h\": \"zkpJBR\", \"l\": \"bnjacobs\", \"al\": \"en-us,en;q=0.5\", \"hh\": \"1.usa.gov\", \"r\": \"http:\\\\/\\\\/www.facebook.com\\\\/l.php?u=http%3A%2F%2F1.usa.gov%2FzkpJBR&h=HAQH9ONiMAQEK68FjDYg794XGBy8DXLqweoLUYMsB1-TpFQ\", \"u\": \"http:\\\\/\\\\/www.nasa.gov\\\\/mission_pages\\\\/nustar\\\\/main\\\\/index.html\", \"t\": 1331923758, \"hc\": 1331922854, \"cy\": \"Burgas\", \"ll\": [ 42.500000, 27.466700 ] }\\n',\n",
       " '{ \"a\": \"Opera\\\\/9.80 (Series 60; Opera Mini\\\\/6.5.27309\\\\/27.1350; U; en) Presto\\\\/2.8.119 Version\\\\/11.10\", \"c\": null, \"nk\": 0, \"tz\": \"\", \"g\": \"wcndER\", \"h\": \"zkpJBR\", \"l\": \"bnjacobs\", \"al\": \"en-GB,en;q=0.9\", \"hh\": \"1.usa.gov\", \"r\": \"http:\\\\/\\\\/m.facebook.com\\\\/l.php?u=http%3A%2F%2F1.usa.gov%2FzkpJBR&h=RAQE-zXJ2&enc=AZMJgsj39Lzv302xfect40xf4BQgLNBd-tIyfjDbP8lU6i8oBjr5FHfUtGuE6Ut209rZ-rO1DQdLd-E4RlX9OAmvEulvuNxNVTW3MMsf261G00f6cIPMyxQG_yDJTTIYF9LNuLVwkfofXyNrDLiVgeH0H5sCvke3XMDu4Up_gRcDyAH23998vQpzFG1a7aQq6ls\", \"u\": \"http:\\\\/\\\\/www.nasa.gov\\\\/mission_pages\\\\/nustar\\\\/main\\\\/index.html\", \"t\": 1331923759, \"hc\": 1331922854 }\\n',\n",
       " '{ \"a\": \"Mozilla\\\\/5.0 (Windows NT 6.1; rv:10.0.2) Gecko\\\\/20100101 Firefox\\\\/10.0.2\", \"c\": \"US\", \"nk\": 1, \"tz\": \"America\\\\/New_York\", \"gr\": \"GA\", \"g\": \"vNJS4H\", \"h\": \"u0uD9q\", \"l\": \"o_4us71ccioa\", \"al\": \"en-us,en;q=0.5\", \"hh\": \"1.usa.gov\", \"r\": \"direct\", \"u\": \"https:\\\\/\\\\/www.nysdot.gov\\\\/rexdesign\\\\/design\\\\/community.gif\", \"t\": 1331923759, \"hc\": 1319563556, \"cy\": \"Acworth\", \"ll\": [ 34.026402, -84.699799 ] }\\n',\n",
       " '{ \"a\": \"Mozilla\\\\/4.0 (compatible; MSIE 8.0; Windows NT 5.1; Trident\\\\/4.0; GTB6.3; .NET CLR 1.0.3705; .NET CLR 1.1.4322; .NET CLR 2.0.50727; .NET CLR 3.0.4506.2152; .NET CLR 3.5.30729)\", \"c\": \"JP\", \"nk\": 1, \"tz\": \"Asia\\\\/Tokyo\", \"gr\": \"07\", \"g\": \"duPqVk\", \"h\": \"ak4WJO\", \"l\": \"addthis\", \"al\": \"ja\", \"hh\": \"bit.ly\", \"r\": \"http:\\\\/\\\\/togetter.com\\\\/li\\\\/39380\", \"u\": \"http:\\\\/\\\\/www.navy.mil\\\\/view_single.asp?id=80704\", \"t\": 1331923762, \"hc\": 1280720522, \"cy\": \"Nogata\", \"ll\": [ 33.733299, 130.733307 ] }\\n',\n",
       " '{ \"a\": \"Mozilla\\\\/5.0 (iPhone; CPU iPhone OS 5_1 like Mac OS X) AppleWebKit\\\\/534.46 (KHTML, like Gecko) Mobile\\\\/9B176 Twitter for iPhone\", \"c\": null, \"nk\": 0, \"tz\": \"\", \"g\": \"xGUTp8\", \"h\": \"xGUTp8\", \"l\": \"bitly\", \"al\": \"en-us\", \"hh\": \"1.usa.gov\", \"r\": \"https:\\\\/\\\\/twitter.com\\\\/michigandot\\\\/status\\\\/180726790371819520\", \"u\": \"http:\\\\/\\\\/www.michigan.gov\\\\/mdot\\\\/0,4616,7-151-9621_11008_45614-273205--,00.html\", \"t\": 1331923765, \"hc\": 1331901086 }\\n',\n",
       " '{ \"a\": \"Mozilla\\\\/5.0 (Windows NT 6.1; WOW64; rv:2.0) Gecko\\\\/20100101 Firefox\\\\/4.0\", \"c\": \"IT\", \"nk\": 0, \"tz\": \"Europe\\\\/Rome\", \"gr\": \"07\", \"g\": \"wcndER\", \"h\": \"zkpJBR\", \"l\": \"bnjacobs\", \"al\": \"it,en-us;q=0.7,en;q=0.3\", \"hh\": \"1.usa.gov\", \"r\": \"http:\\\\/\\\\/www.facebook.com\\\\/l.php?u=http%3A%2F%2F1.usa.gov%2FzkpJBR&h=yAQHFC3L7AQHVN5FZW2X-fQ-9Y1gEtVPDTfnzpuBnhLfn_w\", \"u\": \"http:\\\\/\\\\/www.nasa.gov\\\\/mission_pages\\\\/nustar\\\\/main\\\\/index.html\", \"t\": 1331923764, \"hc\": 1331922854, \"cy\": \"Rome\", \"ll\": [ 41.900002, 12.483300 ] }\\n',\n",
       " '{ \"a\": \"Mozilla\\\\/4.0 (compatible; MSIE 8.0; Windows NT 6.1; Trident\\\\/4.0; SLCC2; .NET CLR 2.0.50727; .NET CLR 3.5.30729; .NET CLR 3.0.30729; Media Center PC 6.0; .NET4.0C; .NET4.0E)\", \"c\": \"US\", \"nk\": 1, \"tz\": \"America\\\\/New_York\", \"gr\": \"GA\", \"g\": \"2rOUYc\", \"h\": \"2rOUYc\", \"l\": \"bitly\", \"al\": \"en-US\", \"hh\": \"1.usa.gov\", \"r\": \"direct\", \"u\": \"http:\\\\/\\\\/toxtown.nlm.nih.gov\\\\/index.php\", \"t\": 1331923766, \"hc\": 1255769846, \"cy\": \"Marietta\", \"ll\": [ 33.953201, -84.517700 ] }\\n',\n",
       " '{ \"a\": \"Mozilla\\\\/5.0 (Windows NT 6.1; WOW64; rv:10.0.2) Gecko\\\\/20100101 Firefox\\\\/10.0.2\", \"c\": \"CO\", \"nk\": 0, \"tz\": \"America\\\\/Bogota\", \"gr\": \"33\", \"g\": \"wcndER\", \"h\": \"zkpJBR\", \"l\": \"bnjacobs\", \"al\": \"es-es,es;q=0.8,en-us;q=0.5,en;q=0.3\", \"hh\": \"1.usa.gov\", \"r\": \"http:\\\\/\\\\/www.facebook.com\\\\/l.php?u=http%3A%2F%2F1.usa.gov%2FzkpJBR&h=EAQGZ8LyFAQH2qpey87ZKYn9-I3MiFWg3Asl895fnAUJ_cw\", \"u\": \"http:\\\\/\\\\/www.nasa.gov\\\\/mission_pages\\\\/nustar\\\\/main\\\\/index.html\", \"t\": 1331923765, \"hc\": 1331922854, \"cy\": \"Bogot\", \"ll\": [ 4.600000, -74.083298 ] }\\n',\n",
       " '{ \"a\": \"Mozilla\\\\/5.0 (Linux; U; Android 2.3.4; en-us; DROID3 Build\\\\/5.5.1_84_D3G-55) AppleWebKit\\\\/533.1 (KHTML, like Gecko) Version\\\\/4.0 Mobile Safari\\\\/533.1\", \"c\": \"US\", \"nk\": 1, \"tz\": \"America\\\\/New_York\", \"gr\": \"OH\", \"g\": \"yPamad\", \"h\": \"yPamad\", \"l\": \"bitly\", \"al\": \"en-US\", \"hh\": \"1.usa.gov\", \"r\": \"http:\\\\/\\\\/t.co\\\\/zAf5pZxO\", \"u\": \"http:\\\\/\\\\/www.wv.gov\\\\/news\\\\/Pages\\\\/GovernorTomblinIssuesStatementonFloodingFollowingVisittoLoganCounty.aspx\", \"t\": 1331923766, \"hc\": 1331901414, \"cy\": \"Fremont\", \"ll\": [ 41.359798, -83.125504 ] }\\n',\n",
       " '{ \"a\": \"Mozilla\\\\/4.0 (compatible; MSIE 7.0; Windows NT 5.1; .NET CLR 2.0.50727; .NET CLR 1.1.4322)\", \"c\": null, \"nk\": 0, \"tz\": \"\", \"g\": \"h4inTS\", \"h\": \"p87LNs\", \"l\": \"degilbert\", \"hh\": \"1.usa.gov\", \"r\": \"direct\", \"u\": \"http:\\\\/\\\\/www.jgi.doe.gov\\\\/meetings\\\\/usermeeting\\\\/\", \"t\": 1331923766, \"hc\": 1316635895, \"kw\": \"JGI-UM7\" }\\n',\n",
       " '{\"_heartbeat_\":1331923771}\\n',\n",
       " '{ \"a\": \"Mozilla\\\\/5.0 (compatible; MSIE 9.0; Windows NT 6.1; WOW64; Trident\\\\/5.0)\", \"c\": \"EG\", \"nk\": 0, \"tz\": \"Africa\\\\/Cairo\", \"gr\": \"11\", \"g\": \"wcndER\", \"h\": \"zkpJBR\", \"l\": \"bnjacobs\", \"al\": \"en-US\", \"hh\": \"1.usa.gov\", \"r\": \"http:\\\\/\\\\/www.facebook.com\\\\/l.php?u=http%3A%2F%2F1.usa.gov%2FzkpJBR&h=_AQEpDNJwAQESM38xAk29cfNDaaIe1Ap704SKhrmAxyxxsw\", \"u\": \"http:\\\\/\\\\/www.nasa.gov\\\\/mission_pages\\\\/nustar\\\\/main\\\\/index.html\", \"t\": 1331923770, \"hc\": 1331922854, \"cy\": \"Cairo\", \"ll\": [ 30.049999, 31.250000 ] }\\n',\n",
       " '{ \"a\": \"Mozilla\\\\/5.0 (Linux; U; Android 2.3.7; en-us; DROIDX Build\\\\/VZW) AppleWebKit\\\\/533.1 (KHTML, like Gecko) Version\\\\/4.0 Mobile Safari\\\\/533.1\", \"c\": \"US\", \"nk\": 0, \"tz\": \"America\\\\/New_York\", \"gr\": \"FL\", \"g\": \"xX6YmE\", \"h\": \"xX6YmE\", \"l\": \"bitly\", \"al\": \"en-US\", \"hh\": \"1.usa.gov\", \"r\": \"direct\", \"u\": \"http:\\\\/\\\\/www.cbo.gov\\\\/sites\\\\/default\\\\/files\\\\/cbofiles\\\\/attachments\\\\/03-13-Coverage Estimates.pdf\", \"t\": 1331923773, \"hc\": 1331664992, \"cy\": \"Vero Beach\", \"ll\": [ 27.658701, -80.460999 ] }\\n',\n",
       " '{ \"a\": \"Mozilla\\\\/5.0 (iPad; U; CPU iPhone OS 5_0_1 like Mac OS X; en_US) AppleWebKit (KHTML, like Gecko) Mobile [FBAN\\\\/FBForIPhone;FBAV\\\\/4.1;FBBV\\\\/4100.0;FBDV\\\\/iPad2,1;FBMD\\\\/iPad;FBSN\\\\/iPhone OS;FBSV\\\\/5.0.1;FBSS\\\\/1; FBCR\\\\/;FBID\\\\/tablet;FBLC\\\\/en_US;FBSF\\\\/1.0]\", \"c\": \"US\", \"nk\": 0, \"tz\": \"America\\\\/Los_Angeles\", \"gr\": \"WA\", \"g\": \"oqPMKY\", \"h\": \"ymqj7c\", \"l\": \"mcandfp\", \"al\": \"en-us\", \"hh\": \"1.usa.gov\", \"r\": \"http:\\\\/\\\\/m.facebook.com\\\\/l.php?u=http%3A%2F%2F1.usa.gov%2Fymqj7c&h=LAQF9Blvy\", \"u\": \"http:\\\\/\\\\/apps.mhf.dod.mil\\\\/mcfp\\\\/weekly\", \"t\": 1331923774, \"hc\": 1331911347, \"cy\": \"Federal Way\", \"ll\": [ 47.305801, -122.346001 ] }\\n',\n",
       " '{ \"a\": \"Mozilla\\\\/5.0 (Windows NT 6.1; WOW64) AppleWebKit\\\\/535.11 (KHTML, like Gecko) Chrome\\\\/17.0.963.79 Safari\\\\/535.11\", \"c\": \"US\", \"nk\": 1, \"tz\": \"America\\\\/New_York\", \"gr\": \"NY\", \"g\": \"vNJS4H\", \"h\": \"u0uD9q\", \"l\": \"o_4us71ccioa\", \"al\": \"en-US,en;q=0.8\", \"hh\": \"1.usa.gov\", \"r\": \"direct\", \"u\": \"https:\\\\/\\\\/www.nysdot.gov\\\\/rexdesign\\\\/design\\\\/community.gif\", \"t\": 1331923775, \"hc\": 1319563556, \"cy\": \"White Plains\", \"ll\": [ 41.029099, -73.758003 ] }\\n',\n",
       " '{ \"a\": \"Mozilla\\\\/5.0 (Windows NT 6.1; rv:10.0.2) Gecko\\\\/20100101 Firefox\\\\/10.0.2\", \"c\": \"US\", \"nk\": 1, \"tz\": \"America\\\\/Los_Angeles\", \"gr\": \"CA\", \"g\": \"vNJS4H\", \"h\": \"u0uD9q\", \"l\": \"o_4us71ccioa\", \"al\": \"en-us,en;q=0.5\", \"hh\": \"1.usa.gov\", \"r\": \"direct\", \"u\": \"https:\\\\/\\\\/www.nysdot.gov\\\\/rexdesign\\\\/design\\\\/community.gif\", \"t\": 1331923776, \"hc\": 1319563556, \"cy\": \"San Jose\", \"ll\": [ 37.218300, -121.753899 ] }\\n',\n",
       " '{ \"a\": \"Mozilla\\\\/4.0 (compatible; MSIE 7.0; Windows NT 5.1; .NET CLR 1.1.4322; .NET CLR 2.0.50727; .NET CLR 3.0.4506.2152; .NET CLR 3.5.30729)\", \"c\": \"US\", \"nk\": 1, \"tz\": \"America\\\\/Los_Angeles\", \"gr\": \"OR\", \"g\": \"sOyjsA\", \"h\": \"v9bP1u\", \"l\": \"mlaidler\", \"al\": \"en-us\", \"hh\": \"1.usa.gov\", \"r\": \"direct\", \"u\": \"http:\\\\/\\\\/public.health.oregon.gov\\\\/DiseasesConditions\\\\/DiseasesAZ\\\\/rsv\\\\/Documents\\\\/RSV_Oregon.pdf\", \"t\": 1331923777, \"hc\": 1323904393, \"cy\": \"Portland\", \"ll\": [ 45.547901, -122.501503 ] }\\n',\n",
       " '{ \"a\": \"Mozilla\\\\/5.0 (Windows; U; Windows NT 6.1; en-US; rv:1.9.2.25) Gecko\\\\/20111212 Firefox\\\\/3.6.25\", \"c\": \"US\", \"nk\": 1, \"tz\": \"America\\\\/New_York\", \"gr\": \"PA\", \"g\": \"vNJS4H\", \"h\": \"u0uD9q\", \"l\": \"o_4us71ccioa\", \"al\": \"en-us,en;q=0.5\", \"hh\": \"1.usa.gov\", \"r\": \"direct\", \"u\": \"https:\\\\/\\\\/www.nysdot.gov\\\\/rexdesign\\\\/design\\\\/community.gif\", \"t\": 1331923776, \"hc\": 1319563556, \"cy\": \"Philadelphia\", \"ll\": [ 39.996799, -75.148499 ] }\\n',\n",
       " '{ \"a\": \"Mozilla\\\\/5.0 (Windows; U; Windows NT 6.1; en-US; rv:1.9.2.25) Gecko\\\\/20111212 Firefox\\\\/3.6.25\", \"c\": null, \"nk\": 1, \"tz\": \"\", \"g\": \"vNJS4H\", \"h\": \"u0uD9q\", \"l\": \"o_4us71ccioa\", \"al\": \"en-us,en;q=0.5\", \"hh\": \"1.usa.gov\", \"r\": \"direct\", \"u\": \"https:\\\\/\\\\/www.nysdot.gov\\\\/rexdesign\\\\/design\\\\/community.gif\", \"t\": 1331923781, \"hc\": 1319563556 }\\n',\n",
       " '{ \"a\": \"Mozilla\\\\/4.0 (compatible; MSIE 7.0; Windows NT 5.1; .NET CLR 2.0.50727; .NET CLR 1.1.4322)\", \"c\": null, \"nk\": 0, \"tz\": \"\", \"g\": \"e5xarR\", \"h\": \"Aa47VI\", \"l\": \"degilbert\", \"hh\": \"1.usa.gov\", \"r\": \"direct\", \"u\": \"http:\\\\/\\\\/www.jgi.doe.gov\\\\/CSP\\\\/user_guide\\\\/index.html\", \"t\": 1331923782, \"hc\": 1331237022, \"kw\": \"JGI-CSP13\" }\\n',\n",
       " '{ \"a\": \"Mozilla\\\\/4.0 (compatible; MSIE 8.0; Windows NT 5.1; Trident\\\\/4.0; GTB6.3; .NET CLR 1.0.3705; .NET CLR 1.1.4322; .NET CLR 2.0.50727; .NET CLR 3.0.4506.2152; .NET CLR 3.5.30729)\", \"c\": \"JP\", \"nk\": 1, \"tz\": \"Asia\\\\/Tokyo\", \"gr\": \"07\", \"g\": \"cnTGcE\", \"h\": \"a6Oq6t\", \"l\": \"addthis\", \"al\": \"ja\", \"hh\": \"bit.ly\", \"r\": \"http:\\\\/\\\\/togetter.com\\\\/li\\\\/39380\", \"u\": \"http:\\\\/\\\\/www.navy.mil\\\\/view_single.asp?id=80385\", \"t\": 1331923787, \"hc\": 1280720668, \"cy\": \"Nogata\", \"ll\": [ 33.733299, 130.733307 ] }\\n',\n",
       " '{ \"a\": \"GoogleMaps\\\\/RochesterNY\", \"c\": \"US\", \"nk\": 0, \"tz\": \"America\\\\/Denver\", \"gr\": \"UT\", \"g\": \"mwszkS\", \"h\": \"mwszkS\", \"l\": \"bitly\", \"hh\": \"j.mp\", \"r\": \"http:\\\\/\\\\/www.AwareMap.com\\\\/\", \"u\": \"http:\\\\/\\\\/www.monroecounty.gov\\\\/etc\\\\/911\\\\/rss.php\", \"t\": 1331923787, \"hc\": 1308262393, \"cy\": \"Provo\", \"ll\": [ 40.218102, -111.613297 ] }\\n',\n",
       " '{ \"a\": \"Mozilla\\\\/5.0 (Windows NT 6.0) AppleWebKit\\\\/535.11 (KHTML, like Gecko) Chrome\\\\/17.0.963.79 Safari\\\\/535.11\", \"c\": null, \"nk\": 0, \"tz\": \"\", \"g\": \"wcndER\", \"h\": \"zkpJBR\", \"l\": \"bnjacobs\", \"al\": \"en-US,en;q=0.8\", \"hh\": \"1.usa.gov\", \"r\": \"http:\\\\/\\\\/www.facebook.com\\\\/l.php?u=http%3A%2F%2F1.usa.gov%2FzkpJBR&h=IAQGrNNygAQGZdSrVViVxCxbjIsErS9o5-Cn3aoQzYa0njg\", \"u\": \"http:\\\\/\\\\/www.nasa.gov\\\\/mission_pages\\\\/nustar\\\\/main\\\\/index.html\", \"t\": 1331923789, \"hc\": 1331922854 }\\n',\n",
       " '{ \"a\": \"Mozilla\\\\/5.0 (Windows NT 6.1; WOW64) AppleWebKit\\\\/535.11 (KHTML, like Gecko) Chrome\\\\/17.0.963.79 Safari\\\\/535.11\", \"c\": \"US\", \"nk\": 1, \"tz\": \"America\\\\/New_York\", \"gr\": \"NY\", \"g\": \"vNJS4H\", \"h\": \"u0uD9q\", \"l\": \"o_4us71ccioa\", \"al\": \"en-US,en;q=0.8\", \"hh\": \"1.usa.gov\", \"r\": \"direct\", \"u\": \"https:\\\\/\\\\/www.nysdot.gov\\\\/rexdesign\\\\/design\\\\/community.gif\", \"t\": 1331923788, \"hc\": 1319563556, \"cy\": \"White Plains\", \"ll\": [ 41.029099, -73.758003 ] }\\n',\n",
       " '{ \"a\": \"Mozilla\\\\/5.0 (iPad; U; CPU OS 4_3_3 like Mac OS X; en-us) AppleWebKit\\\\/533.17.9 (KHTML, like Gecko) Version\\\\/5.0.2 Mobile\\\\/8J2 Safari\\\\/6533.18.5\", \"c\": \"US\", \"nk\": 0, \"tz\": \"America\\\\/New_York\", \"gr\": \"GA\", \"g\": \"vNJS4H\", \"h\": \"u0uD9q\", \"l\": \"o_4us71ccioa\", \"al\": \"en-us\", \"hh\": \"1.usa.gov\", \"r\": \"direct\", \"u\": \"https:\\\\/\\\\/www.nysdot.gov\\\\/rexdesign\\\\/design\\\\/community.gif\", \"t\": 1331923790, \"hc\": 1319563556, \"cy\": \"Richland\", \"ll\": [ 32.094501, -84.657997 ] }\\n',\n",
       " '{ \"a\": \"Mozilla\\\\/5.0 (Macintosh; Intel Mac OS X 10_6_8) AppleWebKit\\\\/535.11 (KHTML, like Gecko) Chrome\\\\/17.0.963.79 Safari\\\\/535.11\", \"c\": null, \"nk\": 1, \"tz\": \"\", \"g\": \"vNJS4H\", \"h\": \"u0uD9q\", \"l\": \"o_4us71ccioa\", \"al\": \"en-US,en;q=0.8\", \"hh\": \"1.usa.gov\", \"r\": \"direct\", \"u\": \"https:\\\\/\\\\/www.nysdot.gov\\\\/rexdesign\\\\/design\\\\/community.gif\", \"t\": 1331923793, \"hc\": 1319563556 }\\n',\n",
       " '{ \"a\": \"Mozilla\\\\/5.0 (Windows NT 5.1) AppleWebKit\\\\/534.24 (KHTML, like Gecko) Chrome\\\\/11.0.696.71 Safari\\\\/534.24\", \"c\": \"US\", \"nk\": 0, \"tz\": \"America\\\\/New_York\", \"gr\": \"VA\", \"g\": \"xVTtSE\", \"h\": \"yeE6VR\", \"l\": \"nasatwitter\", \"al\": \"en-US,en;q=0.8\", \"hh\": \"go.nasa.gov\", \"r\": \"http:\\\\/\\\\/www.facebook.com\\\\/l.php?u=http%3A%2F%2Fgo.nasa.gov%2FyeE6VR&h=CAQGDbRkOAQECfE4d0hwLXy-p8yuEaiq_miM3Tk8foUm2TA\", \"u\": \"http:\\\\/\\\\/www.nasa.gov\\\\/connect\\\\/social\\\\/index.html\", \"t\": 1331923793, \"hc\": 1331905829, \"cy\": \"Bristow\", \"ll\": [ 38.740501, -77.562103 ] }\\n',\n",
       " '{ \"a\": \"Mozilla\\\\/4.0 (compatible; MSIE 8.0; Windows NT 6.1; WOW64; Trident\\\\/4.0; SLCC2; .NET CLR 2.0.50727; .NET CLR 3.5.30729; .NET CLR 3.0.30729; Media Center PC 6.0)\", \"c\": \"US\", \"nk\": 1, \"tz\": \"America\\\\/Chicago\", \"gr\": \"ND\", \"g\": \"xV8Hbl\", \"h\": \"xV8Hbl\", \"l\": \"bitly\", \"al\": \"en-us\", \"hh\": \"1.usa.gov\", \"r\": \"http:\\\\/\\\\/www.facebook.com\\\\/l.php?u=http%3A%2F%2F1.usa.gov%2FxV8Hbl&h=vAQEO1Q37AQHZNWw_0W_5QnL0c7SL6oMFVQnvA7jC26HRKQ\", \"u\": \"http:\\\\/\\\\/www.nd.gov\\\\/hrms\\\\/jobs\\\\/60212626.html\", \"t\": 1331923794, \"hc\": 1331909754, \"cy\": \"West Fargo\", \"ll\": [ 46.891399, -96.929398 ] }\\n',\n",
       " '{ \"a\": \"Mozilla\\\\/5.0 (Windows NT 5.1; rv:10.0.2) Gecko\\\\/20100101 Firefox\\\\/10.0.2\", \"c\": \"US\", \"nk\": 1, \"tz\": \"America\\\\/New_York\", \"gr\": \"FL\", \"g\": \"49j5iH\", \"h\": \"aaWYWc\", \"l\": \"fusionspark\", \"al\": \"en-us,en;q=0.5\", \"hh\": \"bit.ly\", \"r\": \"http:\\\\/\\\\/www.langleynewmedia.com\\\\/about-langley-wa\\\\/getting-to-langley\\\\/\", \"u\": \"http:\\\\/\\\\/www.wsdot.wa.gov\\\\/ferries\\\\/Schedule\\\\/ScheduleDetail.aspx?departingterm=14&arrivingterm=5&roundtrip=true\", \"t\": 1331923797, \"hc\": 1277386370, \"cy\": \"Saint Petersburg\", \"ll\": [ 27.817801, -82.677299 ] }\\n',\n",
       " '{ \"a\": \"Mozilla\\\\/5.0 (compatible; MSIE 9.0; Windows NT 6.1; WOW64; Trident\\\\/5.0)\", \"c\": \"US\", \"nk\": 0, \"tz\": \"America\\\\/New_York\", \"gr\": \"OH\", \"g\": \"u5WCFr\", \"h\": \"vtMvIL\", \"l\": \"aashtojournal\", \"al\": \"en-US\", \"hh\": \"1.usa.gov\", \"r\": \"http:\\\\/\\\\/www.aashtojournal.org\\\\/Pages\\\\/031612senate.aspx\", \"u\": \"http:\\\\/\\\\/thomas.loc.gov\\\\/cgi-bin\\\\/bdquery\\\\/z?d112:S1813:\", \"t\": 1331923799, \"hc\": 1320859236, \"cy\": \"Milford\", \"ll\": [ 39.165901, -84.229599 ] }\\n',\n",
       " '{ \"a\": \"Mozilla\\\\/5.0 (Windows; U; Windows NT 6.1; en-US; rv:1.9.2.28) Gecko\\\\/20120306 Firefox\\\\/3.6.28\", \"c\": \"US\", \"nk\": 1, \"tz\": \"America\\\\/Phoenix\", \"gr\": \"AZ\", \"g\": \"vNJS4H\", \"h\": \"u0uD9q\", \"l\": \"o_4us71ccioa\", \"al\": \"en-us,en;q=0.5\", \"hh\": \"1.usa.gov\", \"r\": \"direct\", \"u\": \"https:\\\\/\\\\/www.nysdot.gov\\\\/rexdesign\\\\/design\\\\/community.gif\", \"t\": 1331923798, \"hc\": 1319563556, \"cy\": \"Surprise\", \"ll\": [ 33.609600, -112.377296 ] }\\n',\n",
       " '{ \"a\": \"Mozilla\\\\/5.0 (Windows NT 5.1; rv:10.0.2) Gecko\\\\/20100101 Firefox\\\\/10.0.2\", \"c\": \"US\", \"nk\": 1, \"tz\": \"America\\\\/New_York\", \"gr\": \"OH\", \"g\": \"ytQF9k\", \"h\": \"AubMqf\", \"l\": \"prevention\", \"al\": \"en-us,en;q=0.5\", \"hh\": \"1.usa.gov\", \"r\": \"http:\\\\/\\\\/t.co\\\\/g4n56J61\", \"u\": \"http:\\\\/\\\\/healthfinder.gov\\\\/prevention\\\\/ViewTopic.aspx?topicID=89&cnt=1&areaID=1\", \"t\": 1331923798, \"hc\": 1331555522, \"cy\": \"Cuyahoga Falls\", \"ll\": [ 41.148201, -81.473602 ] }\\n',\n",
       " '{ \"a\": \"Mozilla\\\\/5.0 (Windows NT 6.1; WOW64) AppleWebKit\\\\/535.11 (KHTML, like Gecko) Chrome\\\\/17.0.963.79 Safari\\\\/535.11\", \"c\": null, \"nk\": 0, \"tz\": \"\", \"g\": \"wmAjaQ\", \"h\": \"z6glLT\", \"l\": \"citizencorps\", \"al\": \"en-US,en;q=0.8\", \"hh\": \"1.usa.gov\", \"r\": \"http:\\\\/\\\\/links.govdelivery.com\\\\/track?type=click&enid=ZWFzPTEmbWFpbGluZ2lkPTIwMTIwMzE0LjYxNjQxMTEmbWVzc2FnZWlkPU1EQi1QUkQtQlVMLTIwMTIwMzE0LjYxNjQxMTEmZGF0YWJhc2VpZD0xMDAxJnNlcmlhbD0xNjg0MDU3MyZlbWFpbGlkPW1hcmNpZS5yb3RoQGRocy5nb3YmdXNlcmlkPW1hcmNpZS5yb3RoQGRocy5nb3YmZmw9JmV4dHJhPU11bHRpdmFyaWF0ZUlkPSYmJg==&&&100&&&http:\\\\/\\\\/1.usa.gov\\\\/z6glLT\", \"u\": \"http:\\\\/\\\\/citizencorps.gov\\\\/getstarted\\\\/youth\\\\/youthindex.shtm\", \"t\": 1331923801, \"hc\": 1331665443 }\\n',\n",
       " '{\"_heartbeat_\":1331923801}\\n',\n",
       " '{ \"a\": \"GoogleMaps\\\\/RochesterNY\", \"c\": \"US\", \"nk\": 0, \"tz\": \"America\\\\/Denver\", \"gr\": \"UT\", \"g\": \"mwszkS\", \"h\": \"mwszkS\", \"l\": \"bitly\", \"hh\": \"1.usa.gov\", \"r\": \"http:\\\\/\\\\/www.AwareMap.com\\\\/\", \"u\": \"http:\\\\/\\\\/www.monroecounty.gov\\\\/etc\\\\/911\\\\/rss.php\", \"t\": 1331923802, \"hc\": 1308262393, \"cy\": \"Provo\", \"ll\": [ 40.218102, -111.613297 ] }\\n',\n",
       " '{ \"a\": \"Mozilla\\\\/5.0 (compatible; MSIE 9.0; Windows NT 6.1; Trident\\\\/5.0)\", \"c\": \"US\", \"nk\": 0, \"tz\": \"America\\\\/Los_Angeles\", \"gr\": \"WA\", \"g\": \"xKUlqF\", \"h\": \"ynq3vT\", \"l\": \"kcnews\", \"al\": \"en-US\", \"hh\": \"1.usa.gov\", \"r\": \"http:\\\\/\\\\/t.co\\\\/PjjgyoU6\", \"u\": \"http:\\\\/\\\\/www.kingcounty.gov\\\\/property\\\\/RealEstateServices\\\\/CountyPropertyForSale.aspx\", \"t\": 1331923801, \"hc\": 1330731297, \"cy\": \"Seattle\", \"ll\": [ 47.595100, -122.332603 ] }\\n',\n",
       " '{ \"a\": \"Mozilla\\\\/5.0 (Windows NT 6.1; WOW64; rv:10.0.2) Gecko\\\\/20100101 Firefox\\\\/10.0.2\", \"c\": \"BR\", \"nk\": 0, \"tz\": \"America\\\\/Sao_Paulo\", \"gr\": \"07\", \"g\": \"zCaLwp\", \"h\": \"zUtuOu\", \"l\": \"alelex88\", \"al\": \"pt-br,pt;q=0.8,en-us;q=0.5,en;q=0.3\", \"hh\": \"1.usa.gov\", \"r\": \"http:\\\\/\\\\/t.co\\\\/o1Pd0WeV\", \"u\": \"http:\\\\/\\\\/apod.nasa.gov\\\\/apod\\\\/ap120312.html\", \"t\": 1331923804, \"hc\": 1331923068, \"cy\": \"Brasa\", \"ll\": [ -15.783300, -47.916698 ] }\\n',\n",
       " '{ \"a\": \"Mozilla\\\\/5.0 (Macintosh; Intel Mac OS X 10_7_3) AppleWebKit\\\\/534.53.11 (KHTML, like Gecko) Version\\\\/5.1.3 Safari\\\\/534.53.10\", \"c\": \"US\", \"nk\": 0, \"tz\": \"America\\\\/Chicago\", \"gr\": \"MN\", \"g\": \"y0SIi3\", \"h\": \"y0SIi3\", \"l\": \"bitly\", \"al\": \"en-us\", \"hh\": \"1.usa.gov\", \"r\": \"http:\\\\/\\\\/www.facebook.com\\\\/l.php?u=http%3A%2F%2Ft.co%2FD5E85LEO&h=gAQEyswjiAQF2Td5bjS5IeETSx3pUKYBQcxRkdNPDqcsT2A\", \"u\": \"http:\\\\/\\\\/www.stpaul.gov\\\\/DocumentView.aspx?DID=10590\", \"t\": 1331923804, \"hc\": 1331917119, \"cy\": \"Saint Paul\", \"ll\": [ 44.935799, -93.163101 ] }\\n',\n",
       " '{ \"a\": \"Mozilla\\\\/5.0 (iPhone; CPU iPhone OS 5_1 like Mac OS X) AppleWebKit\\\\/534.46 (KHTML, like Gecko) Mobile\\\\/9B176\", \"c\": \"DE\", \"nk\": 0, \"tz\": \"Europe\\\\/Berlin\", \"gr\": \"07\", \"g\": \"eH8wu\", \"h\": \"7dtjei\", \"l\": \"tweetdeckapi\", \"al\": \"de-de\", \"hh\": \"1.usa.gov\", \"r\": \"direct\", \"u\": \"http:\\\\/\\\\/www.nasa.gov\\\\/mission_pages\\\\/WISE\\\\/main\\\\/index.html\", \"t\": 1331923802, \"hc\": 1260316355, \"cy\": \"Hilden\", \"ll\": [ 51.166698, 6.933300 ] }\\n',\n",
       " '{ \"a\": \"Mozilla\\\\/4.0 (compatible; MSIE 9.0; Windows NT 6.1)\", \"c\": \"US\", \"nk\": 1, \"tz\": \"America\\\\/New_York\", \"gr\": \"NJ\", \"g\": \"e5SvKE\", \"h\": \"fqPSr9\", \"l\": \"tweetdeckapi\", \"al\": \"en\", \"hh\": \"1.usa.gov\", \"r\": \"direct\", \"u\": \"http:\\\\/\\\\/www.fda.gov\\\\/AdvisoryCommittees\\\\/CommitteesMeetingMaterials\\\\/Drugs\\\\/Anti-InfectiveDrugsAdvisoryCommittee\\\\/ucm242307.htm\", \"t\": 1331923805, \"hc\": 1301298479, \"cy\": \"Paramus\", \"ll\": [ 40.944500, -74.070000 ] }\\n',\n",
       " '{ \"a\": \"Mozilla\\\\/5.0 (Windows NT 6.1; WOW64) AppleWebKit\\\\/535.11 (KHTML, like Gecko) Chrome\\\\/17.0.963.79 Safari\\\\/535.11\", \"c\": \"SI\", \"nk\": 0, \"tz\": \"Europe\\\\/Ljubljana\", \"gr\": \"04\", \"g\": \"wcndER\", \"h\": \"zkpJBR\", \"l\": \"bnjacobs\", \"al\": \"sl-SI,sl;q=0.8,en-GB;q=0.6,en;q=0.4\", \"hh\": \"1.usa.gov\", \"r\": \"http:\\\\/\\\\/www.facebook.com\\\\/l.php?u=http%3A%2F%2F1.usa.gov%2FzkpJBR&h=nAQFxar3vAQHOlsc1jjurWLaA3mB7WHEBGGdeN61deEEe3Q\", \"u\": \"http:\\\\/\\\\/www.nasa.gov\\\\/mission_pages\\\\/nustar\\\\/main\\\\/index.html\", \"t\": 1331923807, \"hc\": 1331922854, \"cy\": \"Nova Gorica\", \"ll\": [ 45.961399, 13.643600 ] }\\n',\n",
       " '{ \"a\": \"Mozilla\\\\/4.0 (compatible; MSIE 8.0; Windows NT 5.1; Trident\\\\/4.0; GTB6.3; .NET CLR 1.0.3705; .NET CLR 1.1.4322; .NET CLR 2.0.50727; .NET CLR 3.0.4506.2152; .NET CLR 3.5.30729)\", \"c\": \"JP\", \"nk\": 1, \"tz\": \"Asia\\\\/Tokyo\", \"gr\": \"07\", \"g\": \"dqF9Yl\", \"h\": \"bq2HPN\", \"l\": \"addthis\", \"al\": \"ja\", \"hh\": \"bit.ly\", \"r\": \"http:\\\\/\\\\/togetter.com\\\\/li\\\\/39380\", \"u\": \"http:\\\\/\\\\/www.navy.mil\\\\/view_single.asp?id=77634\", \"t\": 1331923807, \"hc\": 1280720840, \"cy\": \"Nogata\", \"ll\": [ 33.733299, 130.733307 ] }\\n',\n",
       " '{ \"a\": \"Mozilla\\\\/5.0 (Windows NT 5.1) AppleWebKit\\\\/535.11 (KHTML, like Gecko) Chrome\\\\/17.0.963.79 Safari\\\\/535.11\", \"c\": \"DK\", \"nk\": 0, \"tz\": \"Europe\\\\/Copenhagen\", \"gr\": \"17\", \"g\": \"wcndER\", \"h\": \"zkpJBR\", \"l\": \"bnjacobs\", \"al\": \"en-US\", \"hh\": \"1.usa.gov\", \"r\": \"http:\\\\/\\\\/www.facebook.com\\\\/l.php?u=http%3A%2F%2F1.usa.gov%2FzkpJBR&h=OAQFk5QgwAQHEnwJ3vbAyfJ6JzQesxpll8X8qAj7bbTLq1g\", \"u\": \"http:\\\\/\\\\/www.nasa.gov\\\\/mission_pages\\\\/nustar\\\\/main\\\\/index.html\", \"t\": 1331923809, \"hc\": 1331922854, \"cy\": \"Copenhagen\", \"ll\": [ 55.666698, 12.583300 ] }\\n',\n",
       " '{ \"a\": \"Mozilla\\\\/5.0 (Windows; U; Windows NT 6.0; en-US; rv:1.9.1.5) Gecko\\\\/20091102 Firefox\\\\/3.5.5 (.NET CLR 3.5.30729)\", \"c\": \"US\", \"nk\": 1, \"tz\": \"America\\\\/New_York\", \"gr\": \"FL\", \"g\": \"90OLi\", \"h\": \"1akr7W\", \"l\": \"cacorrections\", \"al\": \"en-us,en;q=0.5\", \"hh\": \"bit.ly\", \"r\": \"http:\\\\/\\\\/www.facebook.com\\\\/l.php?u=http%3A%2F%2Fbit.ly%2Fcdcrstar&h=oAQGbjbjCAQGYDQ3RoRrxFOV97hrwl65-gtMIF-0Y2HZebg\", \"u\": \"http:\\\\/\\\\/www.cdcr.ca.gov\\\\/cdcrstar\\\\/index.html\", \"t\": 1331923809, \"hc\": 1248360950, \"kw\": \"cdcrstar\", \"cy\": \"Lady Lake\", \"ll\": [ 28.931801, -81.954102 ] }\\n',\n",
       " '{ \"a\": \"Mozilla\\\\/5.0 (compatible; MSIE 9.0; Windows NT 6.1; WOW64; Trident\\\\/5.0)\", \"c\": \"US\", \"nk\": 1, \"tz\": \"America\\\\/New_York\", \"gr\": \"DC\", \"g\": \"A1PvuE\", \"h\": \"xAJFgL\", \"l\": \"aashtojournal\", \"al\": \"en-US\", \"hh\": \"1.usa.gov\", \"r\": \"http:\\\\/\\\\/www.aashtojournal.org\\\\/Pages\\\\/031612senate.aspx\", \"u\": \"http:\\\\/\\\\/hdl.loc.gov\\\\/loc.uscongress\\\\/legislation.112samdt1756\", \"t\": 1331923810, \"hc\": 1331312605, \"cy\": \"Washington\", \"ll\": [ 38.909698, -77.023102 ] }\\n',\n",
       " '{ \"a\": \"Mozilla\\\\/5.0 (Windows NT 6.1; WOW64; rv:10.0.2) Gecko\\\\/20100101 Firefox\\\\/10.0.2\", \"c\": null, \"nk\": 1, \"tz\": \"\", \"g\": \"vNJS4H\", \"h\": \"u0uD9q\", \"l\": \"o_4us71ccioa\", \"al\": \"en-us,en;q=0.5\", \"hh\": \"1.usa.gov\", \"r\": \"direct\", \"u\": \"https:\\\\/\\\\/www.nysdot.gov\\\\/rexdesign\\\\/design\\\\/community.gif\", \"t\": 1331923815, \"hc\": 1319563556 }\\n',\n",
       " '{ \"a\": \"Mozilla\\\\/5.0 (Macintosh; U; Intel Mac OS X 10_6_5; fr-fr) AppleWebKit\\\\/533.19.4 (KHTML, like Gecko) Version\\\\/5.0.3 Safari\\\\/533.19.4\", \"c\": null, \"nk\": 0, \"tz\": \"\", \"g\": \"wcndER\", \"h\": \"zkpJBR\", \"l\": \"bnjacobs\", \"al\": \"fr-fr\", \"hh\": \"1.usa.gov\", \"r\": \"http:\\\\/\\\\/www.facebook.com\\\\/l.php?u=http%3A%2F%2F1.usa.gov%2FzkpJBR&h=MAQG2arO9AQH1d54wwzEdOi3PNxs3PKB0Dlh9k6RRd_dPhA\", \"u\": \"http:\\\\/\\\\/www.nasa.gov\\\\/mission_pages\\\\/nustar\\\\/main\\\\/index.html\", \"t\": 1331923817, \"hc\": 1331922854 }\\n',\n",
       " '{ \"a\": \"Mozilla\\\\/5.0 (Linux; U; Android 2.3.3; en-us; HTC-A9192\\\\/1.0 Build\\\\/GRI40) AppleWebKit\\\\/533.1 (KHTML, like Gecko) Version\\\\/4.0 Mobile Safari\\\\/533.1\", \"c\": null, \"nk\": 0, \"tz\": \"\", \"g\": \"y7wGgq\", \"h\": \"zwlxab\", \"l\": \"americanactionnetwork\", \"al\": \"en-US\", \"hh\": \"1.usa.gov\", \"r\": \"http:\\\\/\\\\/t.co\\\\/ihUhQF1r\", \"u\": \"http:\\\\/\\\\/www.cbo.gov\\\\/publication\\\\/43083\", \"t\": 1331923817, \"hc\": 1331908890 }\\n',\n",
       " '{ \"a\": \"Mozilla\\\\/5.0 (Windows NT 5.1) AppleWebKit\\\\/535.11 (KHTML, like Gecko) Chrome\\\\/17.0.963.79 Safari\\\\/535.11\", \"c\": \"MX\", \"nk\": 0, \"tz\": \"America\\\\/Mexico_City\", \"gr\": \"09\", \"g\": \"zCaLwp\", \"h\": \"zFWLOj\", \"l\": \"tweetdeckapi\", \"al\": \"es-ES,es;q=0.8\", \"hh\": \"1.usa.gov\", \"r\": \"http:\\\\/\\\\/t.co\\\\/ZSGJ1erp\", \"u\": \"http:\\\\/\\\\/apod.nasa.gov\\\\/apod\\\\/ap120312.html\", \"t\": 1331923820, \"hc\": 1331530604, \"cy\": \"Mexico\", \"ll\": [ 19.434200, -99.138603 ] }\\n',\n",
       " '{ \"a\": \"Mozilla\\\\/5.0 (Windows NT 5.1; rv:9.0.1) Gecko\\\\/20100101 Firefox\\\\/9.0.1\", \"c\": null, \"nk\": 1, \"tz\": \"\", \"g\": \"xhQuHq\", \"h\": \"xsqfxd\", \"l\": \"bufferapp\", \"al\": \"cs,en-us;q=0.7,en;q=0.3\", \"hh\": \"1.usa.gov\", \"r\": \"direct\", \"u\": \"http:\\\\/\\\\/www.jpl.nasa.gov\\\\/news\\\\/news.cfm?release=2012-070\", \"t\": 1331923822, \"hc\": 1331726795 }\\n',\n",
       " '{ \"a\": \"Mozilla\\\\/5.0 (iPad; CPU OS 5_1 like Mac OS X) AppleWebKit\\\\/534.46 (KHTML, like Gecko) Mobile\\\\/9B176 Twitter for iPad\", \"c\": \"FI\", \"nk\": 0, \"tz\": \"Europe\\\\/Helsinki\", \"gr\": \"15\", \"g\": \"wUsrEq\", \"h\": \"wUsrEq\", \"l\": \"bitly\", \"al\": \"fi-fi\", \"hh\": \"1.usa.gov\", \"r\": \"https:\\\\/\\\\/twitter.com\\\\/nasa\\\\/status\\\\/180682946339016704\", \"u\": \"http:\\\\/\\\\/www.nasa.gov\\\\/topics\\\\/earth\\\\/features\\\\/seac4rs.html\", \"t\": 1331923821, \"hc\": 1331670810, \"cy\": \"Tampere\", \"ll\": [ 61.500000, 23.750000 ] }\\n',\n",
       " '{ \"a\": \"Mozilla\\\\/5.0 (Windows NT 5.1) AppleWebKit\\\\/535.11 (KHTML, like Gecko) Chrome\\\\/17.0.963.79 Safari\\\\/535.11\", \"c\": \"RO\", \"nk\": 0, \"tz\": \"Europe\\\\/Bucharest\", \"gr\": \"38\", \"g\": \"wcndER\", \"h\": \"zkpJBR\", \"l\": \"bnjacobs\", \"al\": \"ro-RO,ro;q=0.8,en-US;q=0.6,en;q=0.4\", \"hh\": \"1.usa.gov\", \"r\": \"http:\\\\/\\\\/www.facebook.com\\\\/l.php?u=http%3A%2F%2F1.usa.gov%2FzkpJBR&h=PAQHjKt6DAQEYiqYscBbfDP795Gk7UMhct0q9usUMWuNzTw\", \"u\": \"http:\\\\/\\\\/www.nasa.gov\\\\/mission_pages\\\\/nustar\\\\/main\\\\/index.html\", \"t\": 1331923821, \"hc\": 1331922854, \"cy\": \"Bad\", \"ll\": [ 46.233299, 27.666700 ] }\\n',\n",
       " '{ \"a\": \"Mozilla\\\\/4.0 (compatible; MSIE 8.0; Windows NT 5.1; Trident\\\\/4.0; GTB6.3; .NET CLR 1.0.3705; .NET CLR 1.1.4322; .NET CLR 2.0.50727; .NET CLR 3.0.4506.2152; .NET CLR 3.5.30729)\", \"c\": \"JP\", \"nk\": 1, \"tz\": \"Asia\\\\/Tokyo\", \"gr\": \"07\", \"g\": \"aS2rXk\", \"h\": \"bj8zN3\", \"l\": \"addthis\", \"al\": \"ja\", \"hh\": \"bit.ly\", \"r\": \"http:\\\\/\\\\/togetter.com\\\\/li\\\\/39380\", \"u\": \"http:\\\\/\\\\/www.navy.mil\\\\/view_single.asp?id=77173\", \"t\": 1331923823, \"hc\": 1280721054, \"cy\": \"Nogata\", \"ll\": [ 33.733299, 130.733307 ] }\\n',\n",
       " '{ \"a\": \"Mozilla\\\\/5.0 (Windows NT 6.0; rv:10.0.2) Gecko\\\\/20100101 Firefox\\\\/10.0.2\", \"c\": \"US\", \"nk\": 0, \"tz\": \"America\\\\/Chicago\", \"gr\": \"IL\", \"g\": \"wnQalX\", \"h\": \"yCdvsP\", \"l\": \"skinmyi\", \"al\": \"en-us,en;q=0.5\", \"hh\": \"1.usa.gov\", \"r\": \"http:\\\\/\\\\/www.barackobama.com\\\\/videos\\\\/gadget\", \"u\": \"http:\\\\/\\\\/www.whitehouse.gov\\\\/photos-and-video\\\\/photogallery\\\\/prime-minister-david-cameron-united-kingdom-official-visit\", \"t\": 1331923823, \"hc\": 1331814239, \"cy\": \"Skokie\", \"ll\": [ 42.038200, -87.728500 ] }\\n',\n",
       " '{ \"a\": \"Mozilla\\\\/5.0 (iPad; CPU OS 5_0_1 like Mac OS X) AppleWebKit\\\\/534.46 (KHTML, like Gecko) Mobile\\\\/9A405 Twitter for iPad\", \"c\": \"US\", \"nk\": 0, \"tz\": \"America\\\\/New_York\", \"gr\": \"OH\", \"g\": \"xGUTp8\", \"h\": \"xGUTp8\", \"l\": \"bitly\", \"al\": \"en-us\", \"hh\": \"1.usa.gov\", \"r\": \"direct\", \"u\": \"http:\\\\/\\\\/www.michigan.gov\\\\/mdot\\\\/0,4616,7-151-9621_11008_45614-273205--,00.html\", \"t\": 1331923825, \"hc\": 1331901086, \"cy\": \"Findlay\", \"ll\": [ 41.022099, -83.678902 ] }\\n',\n",
       " '{ \"a\": \"Mozilla\\\\/5.0 (Windows NT 6.1; WOW64; rv:10.0.2) Gecko\\\\/20100101 Firefox\\\\/10.0.2\", \"c\": \"US\", \"nk\": 1, \"tz\": \"America\\\\/New_York\", \"gr\": \"PA\", \"g\": \"vNJS4H\", \"h\": \"u0uD9q\", \"l\": \"o_4us71ccioa\", \"al\": \"en-us,en;q=0.5\", \"hh\": \"1.usa.gov\", \"r\": \"direct\", \"u\": \"https:\\\\/\\\\/www.nysdot.gov\\\\/rexdesign\\\\/design\\\\/community.gif\", \"t\": 1331923826, \"hc\": 1319563556, \"cy\": \"Allentown\", \"ll\": [ 40.567799, -75.482803 ] }\\n',\n",
       " '{ \"a\": \"Mozilla\\\\/5.0 (Windows NT 6.1; WOW64) AppleWebKit\\\\/535.11 (KHTML, like Gecko) Chrome\\\\/17.0.963.79 Safari\\\\/535.11\", \"c\": \"US\", \"nk\": 1, \"tz\": \"America\\\\/Los_Angeles\", \"gr\": \"CA\", \"g\": \"vNJS4H\", \"h\": \"u0uD9q\", \"l\": \"o_4us71ccioa\", \"al\": \"en-US,en;q=0.8\", \"hh\": \"1.usa.gov\", \"r\": \"direct\", \"u\": \"https:\\\\/\\\\/www.nysdot.gov\\\\/rexdesign\\\\/design\\\\/community.gif\", \"t\": 1331923826, \"hc\": 1319563556, \"cy\": \"Carlsbad\", \"ll\": [ 33.115799, -117.287003 ] }\\n',\n",
       " '{ \"a\": \"Mozilla\\\\/4.0 (compatible; MSIE 7.0; Windows NT 5.1; .NET CLR 1.1.4322; .NET CLR 2.0.50727; .NET CLR 3.0.04506.30; .NET CLR 3.0.4506.2152; .NET CLR 3.5.30729; InfoPath.2; .NET4.0C; .NET4.0E)\", \"c\": \"US\", \"nk\": 1, \"tz\": \"America\\\\/Chicago\", \"gr\": \"IA\", \"g\": \"yLFhmp\", \"h\": \"x0WHBU\", \"l\": \"aashtojournal\", \"al\": \"en-us\", \"hh\": \"1.usa.gov\", \"r\": \"http:\\\\/\\\\/www.aashtojournal.org\\\\/Pages\\\\/031612senate.aspx\", \"u\": \"http:\\\\/\\\\/thomas.loc.gov\\\\/cgi-bin\\\\/bdquery\\\\/z?d112:sp1819:\", \"t\": 1331923828, \"hc\": 1331857862, \"cy\": \"Ames\", \"ll\": [ 42.065701, -93.692802 ] }\\n',\n",
       " '{ \"a\": \"Mozilla\\\\/4.0 (compatible; MSIE 8.0; Windows NT 5.1; Trident\\\\/4.0; InfoPath.2; .NET CLR 1.1.4322; .NET CLR 2.0.50727; .NET CLR 3.0.04506.30; .NET CLR 3.0.4506.2152; .NET CLR 3.5.30729)\", \"c\": \"US\", \"nk\": 0, \"tz\": \"America\\\\/New_York\", \"gr\": \"MA\", \"g\": \"9b6kNl\", \"h\": \"9b6kNl\", \"l\": \"bitly\", \"al\": \"en-us\", \"hh\": \"bit.ly\", \"r\": \"http:\\\\/\\\\/www.shrewsbury-ma.gov\\\\/selco\\\\/\", \"u\": \"http:\\\\/\\\\/www.shrewsbury-ma.gov\\\\/egov\\\\/gallery\\\\/134127368672998.png\", \"t\": 1331923828, \"hc\": 1273672411, \"cy\": \"Shrewsbury\", \"ll\": [ 42.286499, -71.714699 ] }\\n',\n",
       " '{ \"a\": \"Mozilla\\\\/4.0 (compatible; MSIE 8.0; Windows NT 5.1; Trident\\\\/4.0; InfoPath.2; .NET CLR 1.1.4322; .NET CLR 2.0.50727; .NET CLR 3.0.04506.30; .NET CLR 3.0.4506.2152; .NET CLR 3.5.30729)\", \"c\": \"US\", \"nk\": 0, \"tz\": \"America\\\\/New_York\", \"gr\": \"MA\", \"g\": \"axNK8c\", \"h\": \"axNK8c\", \"l\": \"bitly\", \"al\": \"en-us\", \"hh\": \"bit.ly\", \"r\": \"http:\\\\/\\\\/www.shrewsbury-ma.gov\\\\/selco\\\\/\", \"u\": \"http:\\\\/\\\\/www.shrewsbury-ma.gov\\\\/egov\\\\/gallery\\\\/134127368675393.png\", \"t\": 1331923828, \"hc\": 1273672506, \"cy\": \"Shrewsbury\", \"ll\": [ 42.286499, -71.714699 ] }\\n',\n",
       " '{ \"a\": \"Mozilla\\\\/4.0 (compatible; MSIE 8.0; Windows NT 6.1; Trident\\\\/4.0; SLCC2; .NET CLR 2.0.50727; .NET CLR 3.5.30729; .NET CLR 3.0.30729; Media Center PC 6.0; .NET4.0C; .NET4.0E)\", \"c\": \"US\", \"nk\": 0, \"tz\": \"America\\\\/New_York\", \"gr\": \"GA\", \"g\": \"2rOUYc\", \"h\": \"2rOUYc\", \"l\": \"bitly\", \"al\": \"en-US\", \"hh\": \"1.usa.gov\", \"r\": \"direct\", \"u\": \"http:\\\\/\\\\/toxtown.nlm.nih.gov\\\\/index.php\", \"t\": 1331923828, \"hc\": 1255769846, \"cy\": \"Kennesaw\", \"ll\": [ 34.010399, -84.623901 ] }\\n',\n",
       " '{ \"a\": \"Mozilla\\\\/5.0 (compatible; MSIE 9.0; Windows NT 6.1; Trident\\\\/5.0; XBLWP7; ZuneWP7)\", \"c\": \"US\", \"nk\": 0, \"tz\": \"America\\\\/Chicago\", \"gr\": \"WI\", \"g\": \"wdgxVm\", \"h\": \"wdgxVm\", \"l\": \"bitly\", \"al\": \"en-US\", \"hh\": \"1.usa.gov\", \"r\": \"direct\", \"u\": \"http:\\\\/\\\\/dnr.wi.gov\\\\/topic\\\\/ForestFire\\\\/\", \"t\": 1331923829, \"hc\": 1331922814, \"cy\": \"Luxemburg\", \"ll\": [ 44.563400, -87.711403 ] }\\n',\n",
       " '{\"_heartbeat_\":1331923831}\\n',\n",
       " '{ \"a\": \"Mozilla\\\\/5.0 (Windows; U; Windows NT 6.1; en-US; rv:1.9.2.27) Gecko\\\\/20120216 Firefox\\\\/3.6.27\", \"c\": \"US\", \"nk\": 1, \"tz\": \"America\\\\/New_York\", \"gr\": \"OH\", \"g\": \"pgMnks\", \"h\": \"oKi6ux\", \"l\": \"edircfaq\", \"al\": \"en-us,en;q=0.5\", \"hh\": \"1.usa.gov\", \"r\": \"direct\", \"u\": \"http:\\\\/\\\\/www2.ed.gov\\\\/policy\\\\/elsec\\\\/leg\\\\/esea02\\\\/pg39.html\", \"t\": 1331923831, \"hc\": 1310487713, \"cy\": \"Columbus\", \"ll\": [ 40.053200, -83.022003 ] }\\n',\n",
       " '{ \"a\": \"Mozilla\\\\/5.0 (Windows NT 6.1; WOW64; rv:9.0.1) Gecko\\\\/20100101 Firefox\\\\/9.0.1\", \"c\": null, \"nk\": 1, \"tz\": \"\", \"g\": \"vNJS4H\", \"h\": \"u0uD9q\", \"l\": \"o_4us71ccioa\", \"al\": \"en-us,en;q=0.5\", \"hh\": \"1.usa.gov\", \"r\": \"direct\", \"u\": \"https:\\\\/\\\\/www.nysdot.gov\\\\/rexdesign\\\\/design\\\\/community.gif\", \"t\": 1331923834, \"hc\": 1319563556 }\\n',\n",
       " '{ \"a\": \"Mozilla\\\\/4.0 (compatible; MSIE 8.0; Windows NT 6.1; Trident\\\\/4.0; SLCC2; .NET CLR 2.0.50727; .NET CLR 3.5.30729; .NET CLR 3.0.30729; Media Center PC 6.0; .NET4.0C; .NET4.0E)\", \"c\": \"US\", \"nk\": 1, \"tz\": \"America\\\\/New_York\", \"gr\": \"GA\", \"g\": \"2rOUYc\", \"h\": \"2rOUYc\", \"l\": \"bitly\", \"al\": \"en-US\", \"hh\": \"1.usa.gov\", \"r\": \"direct\", \"u\": \"http:\\\\/\\\\/toxtown.nlm.nih.gov\\\\/index.php\", \"t\": 1331923836, \"hc\": 1255769846, \"cy\": \"Kennesaw\", \"ll\": [ 34.010399, -84.623901 ] }\\n',\n",
       " '{ \"a\": \"Mozilla\\\\/5.0 (compatible; MSIE 9.0; Windows NT 6.1; Trident\\\\/5.0; BOIE9;ENUS)\", \"c\": \"US\", \"nk\": 0, \"tz\": \"America\\\\/Chicago\", \"gr\": \"TX\", \"g\": \"wcndER\", \"h\": \"zkpJBR\", \"l\": \"bnjacobs\", \"al\": \"en-US\", \"hh\": \"1.usa.gov\", \"r\": \"http:\\\\/\\\\/www.facebook.com\\\\/\", \"u\": \"http:\\\\/\\\\/www.nasa.gov\\\\/mission_pages\\\\/nustar\\\\/main\\\\/index.html\", \"t\": 1331923838, \"hc\": 1331922854, \"cy\": \"Glen Rose\", \"ll\": [ 32.199001, -97.793404 ] }\\n',\n",
       " '{ \"a\": \"Mozilla\\\\/5.0 (Windows NT 6.1; WOW64) AppleWebKit\\\\/535.11 (KHTML, like Gecko) Chrome\\\\/17.0.963.79 Safari\\\\/535.11\", \"c\": \"US\", \"nk\": 1, \"tz\": \"America\\\\/New_York\", \"gr\": \"FL\", \"g\": \"vNJS4H\", \"h\": \"u0uD9q\", \"l\": \"o_4us71ccioa\", \"al\": \"en-US,en;q=0.8\", \"hh\": \"1.usa.gov\", \"r\": \"direct\", \"u\": \"https:\\\\/\\\\/www.nysdot.gov\\\\/rexdesign\\\\/design\\\\/community.gif\", \"t\": 1331923836, \"hc\": 1319563556, \"cy\": \"Hallandale\", \"ll\": [ 25.986300, -80.151802 ] }\\n',\n",
       " '{ \"a\": \"Mozilla\\\\/5.0 (Macintosh; Intel Mac OS X 10_6_6) AppleWebKit\\\\/535.11 (KHTML, like Gecko) Chrome\\\\/17.0.963.79 Safari\\\\/535.11\", \"c\": \"US\", \"nk\": 1, \"tz\": \"America\\\\/New_York\", \"gr\": \"NY\", \"g\": \"vNJS4H\", \"h\": \"u0uD9q\", \"l\": \"o_4us71ccioa\", \"al\": \"en-US,en;q=0.8\", \"hh\": \"1.usa.gov\", \"r\": \"direct\", \"u\": \"https:\\\\/\\\\/www.nysdot.gov\\\\/rexdesign\\\\/design\\\\/community.gif\", \"t\": 1331923838, \"hc\": 1319563556, \"cy\": \"White Plains\", \"ll\": [ 41.029099, -73.758003 ] }\\n',\n",
       " '{ \"a\": \"Mozilla\\\\/5.0 (Windows NT 6.1) AppleWebKit\\\\/535.11 (KHTML, like Gecko) Chrome\\\\/17.0.963.79 Safari\\\\/535.11\", \"c\": null, \"nk\": 1, \"tz\": \"\", \"g\": \"wcndER\", \"h\": \"zkpJBR\", \"l\": \"bnjacobs\", \"al\": \"en-US,en;q=0.8\", \"hh\": \"1.usa.gov\", \"r\": \"http:\\\\/\\\\/www.facebook.com\\\\/l.php?u=http%3A%2F%2F1.usa.gov%2FzkpJBR&h=zAQEnM9FSAQHL6ys54UO1DKqJV1breeHIMpprV1pfRHg0Ow\", \"u\": \"http:\\\\/\\\\/www.nasa.gov\\\\/mission_pages\\\\/nustar\\\\/main\\\\/index.html\", \"t\": 1331923838, \"hc\": 1331922854 }\\n',\n",
       " '{ \"a\": \"Mozilla\\\\/5.0 (iPhone; CPU iPhone OS 5_1 like Mac OS X) AppleWebKit\\\\/534.46 (KHTML, like Gecko) Mobile\\\\/9B176 Twitter for iPhone\", \"c\": \"GB\", \"nk\": 0, \"tz\": \"Europe\\\\/London\", \"gr\": \"A7\", \"g\": \"xVZg4P\", \"h\": \"wqUkTo\", \"l\": \"nasatwitter\", \"al\": \"en-us\", \"hh\": \"go.nasa.gov\", \"r\": \"https:\\\\/\\\\/twitter.com\\\\/nasa\\\\/status\\\\/180662400964493314\", \"u\": \"http:\\\\/\\\\/www.nasa.gov\\\\/multimedia\\\\/imagegallery\\\\/image_feature_2199.html\", \"t\": 1331923841, \"hc\": 1331908247, \"cy\": \"Birmingham\", \"ll\": [ 52.466702, -1.916700 ] }\\n',\n",
       " '{ \"a\": \"Mozilla\\\\/4.0 (compatible; MSIE 8.0; Windows NT 5.1; Trident\\\\/4.0; GTB6.3; .NET CLR 1.0.3705; .NET CLR 1.1.4322; .NET CLR 2.0.50727; .NET CLR 3.0.4506.2152; .NET CLR 3.5.30729)\", \"c\": \"JP\", \"nk\": 1, \"tz\": \"Asia\\\\/Tokyo\", \"gr\": \"07\", \"g\": \"a8fhH5\", \"h\": \"9wIQBE\", \"l\": \"addthis\", \"al\": \"ja\", \"hh\": \"bit.ly\", \"r\": \"http:\\\\/\\\\/togetter.com\\\\/li\\\\/39380\", \"u\": \"http:\\\\/\\\\/www.navy.mil\\\\/view_single.asp?id=76606\", \"t\": 1331923844, \"hc\": 1280721245, \"cy\": \"Nogata\", \"ll\": [ 33.733299, 130.733307 ] }\\n',\n",
       " '{ \"a\": \"Mozilla\\\\/5.0 (iPhone; CPU iPhone OS 5_1 like Mac OS X) AppleWebKit\\\\/534.46 (KHTML, like Gecko) Mobile\\\\/9B176 Twitter for iPhone\", \"c\": null, \"nk\": 1, \"tz\": \"\", \"g\": \"y7pv0y\", \"h\": \"wrFIFU\", \"l\": \"usgovnews\", \"al\": \"en-us\", \"hh\": \"1.usa.gov\", \"r\": \"https:\\\\/\\\\/twitter.com\\\\/usgovnews\\\\/status\\\\/180404810158309379\", \"u\": \"http:\\\\/\\\\/www.defense.gov\\\\/contracts\\\\/contract.aspx?contractid=4747\", \"t\": 1331923843, \"hc\": 1331846832 }\\n',\n",
       " '{ \"a\": \"Mozilla\\\\/5.0 (Windows NT 6.1; WOW64; rv:11.0) Gecko\\\\/20100101 Firefox\\\\/11.0\", \"c\": \"US\", \"nk\": 0, \"tz\": \"America\\\\/Denver\", \"gr\": \"CO\", \"g\": \"wcndER\", \"h\": \"zkpJBR\", \"l\": \"bnjacobs\", \"al\": \"en-us,en;q=0.5\", \"hh\": \"1.usa.gov\", \"r\": \"http:\\\\/\\\\/plus.url.google.com\\\\/url?sa=z&n=1331923844870&url=http%3A%2F%2F1.usa.gov%2FzkpJBR&usg=CpLRUtYn8fYTRhBZ3A1ca1qtaVg.\", \"u\": \"http:\\\\/\\\\/www.nasa.gov\\\\/mission_pages\\\\/nustar\\\\/main\\\\/index.html\", \"t\": 1331923844, \"hc\": 1331922854, \"cy\": \"Denver\", \"ll\": [ 39.743698, -104.979301 ] }\\n',\n",
       " '{ \"a\": \"GoogleMaps\\\\/RochesterNY\", \"c\": \"US\", \"nk\": 0, \"tz\": \"America\\\\/Denver\", \"gr\": \"UT\", \"g\": \"mwszkS\", \"h\": \"mwszkS\", \"l\": \"bitly\", \"hh\": \"j.mp\", \"r\": \"http:\\\\/\\\\/www.AwareMap.com\\\\/\", \"u\": \"http:\\\\/\\\\/www.monroecounty.gov\\\\/etc\\\\/911\\\\/rss.php\", \"t\": 1331923846, \"hc\": 1308262393, \"cy\": \"Provo\", \"ll\": [ 40.218102, -111.613297 ] }\\n',\n",
       " '{ \"a\": \"Mozilla\\\\/5.0 (iPad; CPU OS 5_1 like Mac OS X) AppleWebKit\\\\/534.46 (KHTML, like Gecko) Mobile\\\\/9B176 Twitter for iPad\", \"c\": \"CH\", \"nk\": 0, \"tz\": \"Europe\\\\/Zurich\", \"gr\": \"25\", \"g\": \"y5rMac\", \"h\": \"xANY6O\", \"l\": \"twitterfeed\", \"al\": \"de-de\", \"hh\": \"1.usa.gov\", \"r\": \"direct\", \"u\": \"http:\\\\/\\\\/www.fda.gov\\\\/Safety\\\\/Recalls\\\\/ucm296326.htm\", \"t\": 1331923846, \"hc\": 1331916302, \"cy\": \"Z\", \"ll\": [ 47.366699, 8.550000 ] }\\n',\n",
       " '{ \"a\": \"Mozilla\\\\/5.0 (Windows NT 6.1) AppleWebKit\\\\/535.11 (KHTML, like Gecko) Chrome\\\\/17.0.963.79 Safari\\\\/535.11\", \"c\": \"US\", \"nk\": 0, \"tz\": \"America\\\\/New_York\", \"gr\": \"ME\", \"g\": \"zwS1jf\", \"h\": \"wOBuVx\", \"l\": \"navysealscouts\", \"al\": \"en-US,en;q=0.8\", \"hh\": \"1.usa.gov\", \"r\": \"http:\\\\/\\\\/t.co\\\\/9DdpK7AB\", \"u\": \"http:\\\\/\\\\/www.navy.mil\\\\/search\\\\/display.asp?story_id=65851\", \"t\": 1331923846, \"hc\": 1331914164, \"cy\": \"Gorham\", \"ll\": [ 43.722401, -70.462196 ] }\\n',\n",
       " '{ \"a\": \"Mozilla\\\\/4.0 (compatible; MSIE 8.0; Windows NT 6.1; Trident\\\\/4.0; SLCC2; .NET CLR 2.0.50727; .NET CLR 3.5.30729; .NET CLR 3.0.30729; Media Center PC 6.0; .NET4.0C; .NET4.0E)\", \"c\": \"US\", \"nk\": 1, \"tz\": \"America\\\\/New_York\", \"gr\": \"GA\", \"g\": \"2rOUYc\", \"h\": \"2rOUYc\", \"l\": \"bitly\", \"al\": \"en-US\", \"hh\": \"1.usa.gov\", \"r\": \"direct\", \"u\": \"http:\\\\/\\\\/toxtown.nlm.nih.gov\\\\/index.php\", \"t\": 1331923847, \"hc\": 1255769846, \"cy\": \"Kennesaw\", \"ll\": [ 34.010399, -84.623901 ] }\\n',\n",
       " '{ \"a\": \"Mozilla\\\\/5.0 (Windows NT 6.1; WOW64; rv:10.0.2) Gecko\\\\/20100101 Firefox\\\\/10.0.2\", \"c\": \"US\", \"nk\": 1, \"tz\": \"America\\\\/Denver\", \"gr\": \"CO\", \"g\": \"vNJS4H\", \"h\": \"u0uD9q\", \"l\": \"o_4us71ccioa\", \"al\": \"en-us,en;q=0.5\", \"hh\": \"1.usa.gov\", \"r\": \"direct\", \"u\": \"https:\\\\/\\\\/www.nysdot.gov\\\\/rexdesign\\\\/design\\\\/community.gif\", \"t\": 1331923847, \"hc\": 1319563556, \"cy\": \"Fort Collins\", \"ll\": [ 40.561001, -105.053596 ] }\\n',\n",
       " '{ \"a\": \"Mozilla\\\\/4.0 (compatible; MSIE 8.0; Windows NT 6.1; WOW64; Trident\\\\/4.0; SLCC2; .NET CLR 2.0.50727; .NET CLR 3.5.30729; .NET CLR 3.0.30729; Media Center PC 6.0; InfoPath.2)\", \"c\": \"US\", \"nk\": 0, \"tz\": \"America\\\\/New_York\", \"gr\": \"NC\", \"g\": \"axNK8c\", \"h\": \"axNK8c\", \"l\": \"bitly\", \"al\": \"en-US\", \"hh\": \"bit.ly\", \"r\": \"http:\\\\/\\\\/www.shrewsbury-ma.gov\\\\/selco\\\\/\", \"u\": \"http:\\\\/\\\\/www.shrewsbury-ma.gov\\\\/egov\\\\/gallery\\\\/134127368675393.png\", \"t\": 1331923849, \"hc\": 1273672506, \"cy\": \"Cary\", \"ll\": [ 35.805901, -78.799698 ] }\\n',\n",
       " '{ \"a\": \"Mozilla\\\\/4.0 (compatible; MSIE 8.0; Windows NT 6.1; WOW64; Trident\\\\/4.0; SLCC2; .NET CLR 2.0.50727; .NET CLR 3.5.30729; .NET CLR 3.0.30729; Media Center PC 6.0; InfoPath.2)\", \"c\": \"US\", \"nk\": 0, \"tz\": \"America\\\\/New_York\", \"gr\": \"NC\", \"g\": \"9b6kNl\", \"h\": \"9b6kNl\", \"l\": \"bitly\", \"al\": \"en-US\", \"hh\": \"bit.ly\", \"r\": \"http:\\\\/\\\\/www.shrewsbury-ma.gov\\\\/selco\\\\/\", \"u\": \"http:\\\\/\\\\/www.shrewsbury-ma.gov\\\\/egov\\\\/gallery\\\\/134127368672998.png\", \"t\": 1331923850, \"hc\": 1273672411, \"cy\": \"Cary\", \"ll\": [ 35.805901, -78.799698 ] }\\n',\n",
       " '{ \"a\": \"Mozilla\\\\/5.0 (Windows NT 6.1; WOW64) AppleWebKit\\\\/535.11 (KHTML, like Gecko) Chrome\\\\/17.0.963.79 Safari\\\\/535.11\", \"c\": \"US\", \"nk\": 1, \"tz\": \"America\\\\/Los_Angeles\", \"gr\": \"CA\", \"g\": \"vNJS4H\", \"h\": \"u0uD9q\", \"l\": \"o_4us71ccioa\", \"al\": \"en-US,en;q=0.8\", \"hh\": \"1.usa.gov\", \"r\": \"direct\", \"u\": \"https:\\\\/\\\\/www.nysdot.gov\\\\/rexdesign\\\\/design\\\\/community.gif\", \"t\": 1331923850, \"hc\": 1319563556, \"cy\": \"Carlsbad\", \"ll\": [ 33.115799, -117.287003 ] }\\n',\n",
       " '{ \"a\": \"Mozilla\\\\/5.0 (Windows NT 5.1; rv:9.0.1) Gecko\\\\/20100101 Firefox\\\\/9.0.1\", \"c\": \"US\", \"nk\": 1, \"tz\": \"America\\\\/New_York\", \"gr\": \"OH\", \"g\": \"wYAvAY\", \"h\": \"ztQx5J\", \"l\": \"twitterfeed\", \"al\": \"en-us,en;q=0.5\", \"hh\": \"1.usa.gov\", \"r\": \"http:\\\\/\\\\/t.co\\\\/de3Wcmmt\", \"u\": \"http:\\\\/\\\\/www.ankenyiowa.gov\\\\/index.aspx?page=14&recordid=9207\", \"t\": 1331923852, \"hc\": 1331920510, \"cy\": \"Columbus\", \"ll\": [ 39.996799, -82.988197 ] }\\n',\n",
       " '{ \"a\": \"Mozilla\\\\/4.0 (compatible; MSIE 8.0; Windows NT 5.1; Trident\\\\/4.0; GTB7.3; .NET CLR 1.1.4322; .NET4.0C)\", \"c\": \"US\", \"nk\": 0, \"tz\": \"America\\\\/New_York\", \"gr\": \"MA\", \"g\": \"axNK8c\", \"h\": \"axNK8c\", \"l\": \"bitly\", \"al\": \"en-us\", \"hh\": \"bit.ly\", \"r\": \"http:\\\\/\\\\/www.shrewsbury-ma.gov\\\\/selco\\\\/\", \"u\": \"http:\\\\/\\\\/www.shrewsbury-ma.gov\\\\/egov\\\\/gallery\\\\/134127368675393.png\", \"t\": 1331923853, \"hc\": 1273672506, \"cy\": \"Shrewsbury\", \"ll\": [ 42.286499, -71.714699 ] }\\n',\n",
       " '{ \"a\": \"Mozilla\\\\/4.0 (compatible; MSIE 8.0; Windows NT 5.1; Trident\\\\/4.0; GTB7.3; .NET CLR 1.1.4322; .NET4.0C)\", \"c\": \"US\", \"nk\": 0, \"tz\": \"America\\\\/New_York\", \"gr\": \"MA\", \"g\": \"9b6kNl\", \"h\": \"9b6kNl\", \"l\": \"bitly\", \"al\": \"en-us\", \"hh\": \"bit.ly\", \"r\": \"http:\\\\/\\\\/www.shrewsbury-ma.gov\\\\/selco\\\\/\", \"u\": \"http:\\\\/\\\\/www.shrewsbury-ma.gov\\\\/egov\\\\/gallery\\\\/134127368672998.png\", \"t\": 1331923853, \"hc\": 1273672411, \"cy\": \"Shrewsbury\", \"ll\": [ 42.286499, -71.714699 ] }\\n',\n",
       " '{ \"a\": \"Mozilla\\\\/5.0 (iPhone; CPU iPhone OS 5_1 like Mac OS X) AppleWebKit\\\\/534.46 (KHTML, like Gecko) Mobile\\\\/9B176 Twitter for iPhone\", \"c\": \"US\", \"nk\": 0, \"tz\": \"America\\\\/New_York\", \"gr\": \"GA\", \"g\": \"xnrgK8\", \"h\": \"zEPonr\", \"l\": \"tweetdeckapi\", \"al\": \"en-us\", \"hh\": \"1.usa.gov\", \"r\": \"https:\\\\/\\\\/twitter.com\\\\/rephowardberman\\\\/status\\\\/180413636056064000\", \"u\": \"http:\\\\/\\\\/www.house.gov\\\\/apps\\\\/list\\\\/press\\\\/ca28_berman\\\\/Berman_Decries_antisemetic_vandalism_ShermanOaks.shtml\", \"t\": 1331923854, \"hc\": 1331848086, \"cy\": \"Powder Springs\", \"ll\": [ 33.882000, -84.706200 ] }\\n',\n",
       " '{ \"a\": \"Mozilla\\\\/4.0 (compatible; MSIE 8.0; Windows NT 6.1; Trident\\\\/4.0; SLCC2; .NET CLR 2.0.50727; .NET CLR 3.5.30729; .NET CLR 3.0.30729; Media Center PC 6.0; .NET4.0C; .NET4.0E)\", \"c\": \"US\", \"nk\": 1, \"tz\": \"America\\\\/New_York\", \"gr\": \"GA\", \"g\": \"2rOUYc\", \"h\": \"2rOUYc\", \"l\": \"bitly\", \"al\": \"en-US\", \"hh\": \"1.usa.gov\", \"r\": \"direct\", \"u\": \"http:\\\\/\\\\/toxtown.nlm.nih.gov\\\\/index.php\", \"t\": 1331923854, \"hc\": 1255769846, \"cy\": \"Kennesaw\", \"ll\": [ 34.010399, -84.623901 ] }\\n',\n",
       " '{ \"a\": \"Mozilla\\\\/5.0 (Macintosh; Intel Mac OS X 10_7_3) AppleWebKit\\\\/535.11 (KHTML, like Gecko) Chrome\\\\/17.0.963.79 Safari\\\\/535.11\", \"c\": \"BR\", \"nk\": 0, \"tz\": \"America\\\\/Sao_Paulo\", \"gr\": \"15\", \"g\": \"wCUeMo\", \"h\": \"zzojie\", \"l\": \"tweetdeckapi\", \"al\": \"en-US,en;q=0.8\", \"hh\": \"1.usa.gov\", \"r\": \"direct\", \"u\": \"http:\\\\/\\\\/www.nasa.gov\\\\/mission_pages\\\\/WISE\\\\/multimedia\\\\/pia15481.html\", \"t\": 1331923855, \"hc\": 1331918414, \"cy\": \"Belo Horizonte\", \"ll\": [ -19.916700, -43.933300 ] }\\n',\n",
       " '{ \"a\": \"Mozilla\\\\/5.0 (Macintosh; Intel Mac OS X 10_7_3) AppleWebKit\\\\/534.53.11 (KHTML, like Gecko) Version\\\\/5.1.3 Safari\\\\/534.53.10\", \"c\": \"US\", \"nk\": 0, \"tz\": \"America\\\\/Chicago\", \"gr\": \"TX\", \"g\": \"A2vbBC\", \"h\": \"zbsayZ\", \"l\": \"martinberkhan\", \"al\": \"en-us\", \"hh\": \"1.usa.gov\", \"r\": \"http:\\\\/\\\\/t.co\\\\/Itza5prh\", \"u\": \"http:\\\\/\\\\/www.ncbi.nlm.nih.gov\\\\/pubmed\\\\/22344061\", \"t\": 1331923857, \"hc\": 1331504506, \"cy\": \"Plano\", \"ll\": [ 33.055901, -96.731102 ] }\\n',\n",
       " '{ \"a\": \"Mozilla\\\\/5.0 (Windows NT 6.1; WOW64; rv:10.0.2) Gecko\\\\/20100101 Firefox\\\\/10.0.2\", \"c\": \"ES\", \"nk\": 0, \"tz\": \"Europe\\\\/Madrid\", \"gr\": \"57\", \"g\": \"wcndER\", \"h\": \"zkpJBR\", \"l\": \"bnjacobs\", \"al\": \"es-es,es;q=0.8,en-us;q=0.5,en;q=0.3\", \"hh\": \"1.usa.gov\", \"r\": \"http:\\\\/\\\\/www.facebook.com\\\\/l.php?u=http%3A%2F%2F1.usa.gov%2FzkpJBR&h=JAQHCQZLFAQGAy6Rrr8cxpc-elvEw4q2voSlvRUWC3sFVzg\", \"u\": \"http:\\\\/\\\\/www.nasa.gov\\\\/mission_pages\\\\/nustar\\\\/main\\\\/index.html\", \"t\": 1331923856, \"hc\": 1331922854, \"cy\": \"Castuera\", \"ll\": [ 38.716702, -5.550000 ] }\\n',\n",
       " '{ \"a\": \"Mozilla\\\\/5.0 (iPad; CPU OS 5_1 like Mac OS X) AppleWebKit\\\\/534.46 (KHTML, like Gecko) Mobile\\\\/9B176 Twitter for iPad\", \"c\": \"US\", \"nk\": 1, \"tz\": \"America\\\\/Los_Angeles\", \"gr\": \"NV\", \"g\": \"xhSfL1\", \"h\": \"An6EZS\", \"l\": \"chspress\", \"al\": \"en-us\", \"hh\": \"1.usa.gov\", \"r\": \"direct\", \"u\": \"http:\\\\/\\\\/homeland.house.gov\\\\/press-release\\\\/king-announces-witnesses-hearing-iranhezbollah-threat-us-homeland\", \"t\": 1331923857, \"hc\": 1331918961, \"cy\": \"Las Vegas\", \"ll\": [ 36.168701, -115.284103 ] }\\n',\n",
       " '{ \"a\": \"Opera\\\\/9.80 (Windows NT 5.1; U; tr) Presto\\\\/2.10.229 Version\\\\/11.61\", \"c\": \"TR\", \"nk\": 0, \"tz\": \"Asia\\\\/Istanbul\", \"gr\": \"83\", \"g\": \"wcndER\", \"h\": \"zkpJBR\", \"l\": \"bnjacobs\", \"al\": \"tr-TR,tr;q=0.9,en;q=0.8\", \"hh\": \"1.usa.gov\", \"r\": \"http:\\\\/\\\\/www.facebook.com\\\\/\", \"u\": \"http:\\\\/\\\\/www.nasa.gov\\\\/mission_pages\\\\/nustar\\\\/main\\\\/index.html\", \"t\": 1331923858, \"hc\": 1331922854, \"cy\": \"Gaziantep\", \"ll\": [ 37.059399, 37.382500 ] }\\n',\n",
       " '{ \"a\": \"Mozilla\\\\/4.0 (compatible; MSIE 8.0; Windows NT 5.1; Trident\\\\/4.0; .NET CLR 1.1.4322; .NET CLR 2.0.50727; .NET CLR 3.0.04506.30; .NET CLR 3.0.04506.648; .NET CLR 3.0.4506.2152; .NET CLR 3.5.30729)\", \"c\": \"US\", \"nk\": 0, \"tz\": \"America\\\\/New_York\", \"gr\": \"MA\", \"g\": \"axNK8c\", \"h\": \"axNK8c\", \"l\": \"bitly\", \"al\": \"en-us\", \"hh\": \"bit.ly\", \"r\": \"http:\\\\/\\\\/www.shrewsbury-ma.gov\\\\/selco\\\\/index.php?fDD=23-0\", \"u\": \"http:\\\\/\\\\/www.shrewsbury-ma.gov\\\\/egov\\\\/gallery\\\\/134127368675393.png\", \"t\": 1331923859, \"hc\": 1273672506, \"cy\": \"Shrewsbury\", \"ll\": [ 42.286499, -71.714699 ] }\\n',\n",
       " '{ \"a\": \"Mozilla\\\\/4.0 (compatible; MSIE 8.0; Windows NT 5.1; Trident\\\\/4.0; .NET CLR 1.1.4322; .NET CLR 2.0.50727; .NET CLR 3.0.04506.30; .NET CLR 3.0.04506.648; .NET CLR 3.0.4506.2152; .NET CLR 3.5.30729)\", \"c\": \"US\", \"nk\": 0, \"tz\": \"America\\\\/New_York\", \"gr\": \"MA\", \"g\": \"9b6kNl\", \"h\": \"9b6kNl\", \"l\": \"bitly\", \"al\": \"en-us\", \"hh\": \"bit.ly\", \"r\": \"http:\\\\/\\\\/www.shrewsbury-ma.gov\\\\/selco\\\\/index.php?fDD=23-0\", \"u\": \"http:\\\\/\\\\/www.shrewsbury-ma.gov\\\\/egov\\\\/gallery\\\\/134127368672998.png\", \"t\": 1331923859, \"hc\": 1273672411, \"cy\": \"Shrewsbury\", \"ll\": [ 42.286499, -71.714699 ] }\\n',\n",
       " '{ \"a\": \"Mozilla\\\\/5.0 (iPod; CPU iPhone OS 5_1 like Mac OS X) AppleWebKit\\\\/534.46 (KHTML, like Gecko) Mobile\\\\/9B176 Twitter for iPhone\", \"c\": null, \"nk\": 0, \"tz\": \"\", \"g\": \"xVZg4P\", \"h\": \"wqUkTo\", \"l\": \"nasatwitter\", \"al\": \"en-us\", \"hh\": \"go.nasa.gov\", \"r\": \"https:\\\\/\\\\/twitter.com\\\\/nasa\\\\/status\\\\/180662400964493314\", \"u\": \"http:\\\\/\\\\/www.nasa.gov\\\\/multimedia\\\\/imagegallery\\\\/image_feature_2199.html\", \"t\": 1331923859, \"hc\": 1331908247 }\\n',\n",
       " '{\"_heartbeat_\":1331923861}\\n',\n",
       " '{ \"a\": \"Mozilla\\\\/4.0 (compatible; MSIE 8.0; Windows NT 5.1; Trident\\\\/4.0; GTB6.3; .NET CLR 1.0.3705; .NET CLR 1.1.4322; .NET CLR 2.0.50727; .NET CLR 3.0.4506.2152; .NET CLR 3.5.30729)\", \"c\": \"JP\", \"nk\": 1, \"tz\": \"Asia\\\\/Tokyo\", \"gr\": \"07\", \"g\": \"aGd262\", \"h\": \"b2Ez0I\", \"l\": \"addthis\", \"al\": \"ja\", \"hh\": \"bit.ly\", \"r\": \"http:\\\\/\\\\/togetter.com\\\\/li\\\\/39380\", \"u\": \"http:\\\\/\\\\/www.navy.mil\\\\/view_single.asp?id=74308\", \"t\": 1331923861, \"hc\": 1280721357, \"cy\": \"Nogata\", \"ll\": [ 33.733299, 130.733307 ] }\\n',\n",
       " '{ \"a\": \"Mozilla\\\\/5.0 (iPad; U; CPU OS 4_3_3 like Mac OS X; en-us) AppleWebKit\\\\/533.17.9 (KHTML, like Gecko) Version\\\\/5.0.2 Mobile\\\\/8J2 Safari\\\\/6533.18.5\", \"c\": \"US\", \"nk\": 0, \"tz\": \"America\\\\/New_York\", \"gr\": \"GA\", \"g\": \"vNJS4H\", \"h\": \"u0uD9q\", \"l\": \"o_4us71ccioa\", \"al\": \"en-us\", \"hh\": \"1.usa.gov\", \"r\": \"direct\", \"u\": \"https:\\\\/\\\\/www.nysdot.gov\\\\/rexdesign\\\\/design\\\\/community.gif\", \"t\": 1331923862, \"hc\": 1319563556, \"cy\": \"Richland\", \"ll\": [ 32.094501, -84.657997 ] }\\n',\n",
       " '{ \"a\": \"Mozilla\\\\/5.0 (Macintosh; Intel Mac OS X 10_6_8) AppleWebKit\\\\/535.11 (KHTML, like Gecko) Chrome\\\\/17.0.963.79 Safari\\\\/535.11\", \"c\": \"US\", \"nk\": 1, \"tz\": \"America\\\\/New_York\", \"gr\": \"NY\", \"g\": \"fUfnak\", \"h\": \"FOfe0P\", \"l\": \"connectedbynature\", \"al\": \"en-US,en;q=0.8\", \"hh\": \"1.usa.gov\", \"r\": \"direct\", \"u\": \"http:\\\\/\\\\/www.nps.gov\\\\/bith\\\\/bigthicketbiologicalcrossroads.htm\", \"t\": 1331923864, \"hc\": 1331922588, \"cy\": \"Clinton\", \"ll\": [ 43.036098, -75.381699 ] }\\n',\n",
       " '{ \"a\": \"GoogleMaps\\\\/RochesterNY\", \"c\": \"US\", \"nk\": 0, \"tz\": \"America\\\\/Denver\", \"gr\": \"UT\", \"g\": \"mwszkS\", \"h\": \"mwszkS\", \"l\": \"bitly\", \"hh\": \"1.usa.gov\", \"r\": \"http:\\\\/\\\\/www.AwareMap.com\\\\/\", \"u\": \"http:\\\\/\\\\/www.monroecounty.gov\\\\/etc\\\\/911\\\\/rss.php\", \"t\": 1331923864, \"hc\": 1308262393, \"cy\": \"Provo\", \"ll\": [ 40.218102, -111.613297 ] }\\n',\n",
       " '{ \"a\": \"Mozilla\\\\/5.0 (Windows NT 6.1; WOW64; rv:9.0.1) Gecko\\\\/20100101 Firefox\\\\/9.0.1\", \"c\": null, \"nk\": 1, \"tz\": \"\", \"g\": \"vNJS4H\", \"h\": \"u0uD9q\", \"l\": \"o_4us71ccioa\", \"al\": \"en-us,en;q=0.5\", \"hh\": \"1.usa.gov\", \"r\": \"direct\", \"u\": \"https:\\\\/\\\\/www.nysdot.gov\\\\/rexdesign\\\\/design\\\\/community.gif\", \"t\": 1331923866, \"hc\": 1319563556 }\\n',\n",
       " '{ \"a\": \"Mozilla\\\\/5.0 (Macintosh; Intel Mac OS X 10_7_3) AppleWebKit\\\\/534.53.11 (KHTML, like Gecko) Version\\\\/5.1.3 Safari\\\\/534.53.10\", \"c\": \"US\", \"nk\": 0, \"tz\": \"America\\\\/Chicago\", \"gr\": \"IL\", \"g\": \"wnQalX\", \"h\": \"yCdvsP\", \"l\": \"skinmyi\", \"al\": \"en-us\", \"hh\": \"1.usa.gov\", \"r\": \"http:\\\\/\\\\/www.barackobama.com\\\\/news\\\\/entry\\\\/i-love-you-back\", \"u\": \"http:\\\\/\\\\/www.whitehouse.gov\\\\/photos-and-video\\\\/photogallery\\\\/prime-minister-david-cameron-united-kingdom-official-visit\", \"t\": 1331923869, \"hc\": 1331814239, \"cy\": \"Chicago\", \"ll\": [ 41.887600, -87.636803 ] }\\n',\n",
       " '{ \"a\": \"Mozilla\\\\/5.0 (Windows NT 6.1; WOW64) AppleWebKit\\\\/535.11 (KHTML, like Gecko) Chrome\\\\/17.0.963.79 Safari\\\\/535.11\", \"c\": \"US\", \"nk\": 1, \"tz\": \"America\\\\/New_York\", \"gr\": \"NY\", \"g\": \"vNJS4H\", \"h\": \"u0uD9q\", \"l\": \"o_4us71ccioa\", \"al\": \"en-US,en;q=0.8\", \"hh\": \"1.usa.gov\", \"r\": \"direct\", \"u\": \"https:\\\\/\\\\/www.nysdot.gov\\\\/rexdesign\\\\/design\\\\/community.gif\", \"t\": 1331923870, \"hc\": 1319563556, \"cy\": \"White Plains\", \"ll\": [ 41.029099, -73.758003 ] }\\n',\n",
       " '{ \"a\": \"Mozilla\\\\/5.0 (Macintosh; Intel Mac OS X 10_5_8) AppleWebKit\\\\/534.30 (KHTML, like Gecko) Chrome\\\\/12.0.742.122 Safari\\\\/534.30\", \"c\": \"US\", \"nk\": 1, \"tz\": \"America\\\\/Los_Angeles\", \"gr\": \"CA\", \"g\": \"xVZg4P\", \"h\": \"wqUkTo\", \"l\": \"nasatwitter\", \"al\": \"en-US,en;q=0.8\", \"hh\": \"go.nasa.gov\", \"r\": \"http:\\\\/\\\\/www.facebook.com\\\\/l.php?u=http%3A%2F%2Fgo.nasa.gov%2FwqUkTo&h=BAQGnogTMAQF1yndPmKG1mBbvjTlEv-jSzC294aWpFHhqEg\", \"u\": \"http:\\\\/\\\\/www.nasa.gov\\\\/multimedia\\\\/imagegallery\\\\/image_feature_2199.html\", \"t\": 1331923871, \"hc\": 1331908247, \"cy\": \"Poway\", \"ll\": [ 32.977402, -117.023201 ] }\\n',\n",
       " '{ \"a\": \"Mozilla\\\\/4.0 (compatible; MSIE 8.0; Windows NT 6.1; WOW64; Trident\\\\/4.0; SLCC2; .NET CLR 2.0.50727; .NET CLR 3.5.30729; .NET CLR 3.0.30729; .NET4.0C; .NET4.0E; InfoPath.3)\", \"c\": \"US\", \"nk\": 1, \"tz\": \"America\\\\/New_York\", \"gr\": \"DC\", \"g\": \"A2q9Ff\", \"h\": \"A2q9Ff\", \"l\": \"bitly\", \"al\": \"en-us\", \"hh\": \"1.usa.gov\", \"r\": \"direct\", \"u\": \"http:\\\\/\\\\/www.whitehouse.gov\\\\/blog\\\\/2012\\\\/01\\\\/31\\\\/ending-overpayment-federal-contractor-executives\", \"t\": 1331923871, \"hc\": 1328016902, \"cy\": \"Washington\", \"ll\": [ 38.900700, -77.043098 ] }\\n',\n",
       " '{ \"a\": \"Mozilla\\\\/5.0 (Windows NT 6.0) AppleWebKit\\\\/535.11 (KHTML, like Gecko) Chrome\\\\/17.0.963.79 Safari\\\\/535.11\", \"c\": null, \"nk\": 0, \"tz\": \"\", \"g\": \"xVTtSE\", \"h\": \"yeE6VR\", \"l\": \"nasatwitter\", \"al\": \"en-US,en;q=0.8\", \"hh\": \"go.nasa.gov\", \"r\": \"http:\\\\/\\\\/www.facebook.com\\\\/l.php?u=http%3A%2F%2Fgo.nasa.gov%2FyeE6VR&h=bAQHM0BnmAQH1gVnfXEOo3n6GpCsS_AFYpJTuW0ldomHLgg\", \"u\": \"http:\\\\/\\\\/www.nasa.gov\\\\/connect\\\\/social\\\\/index.html\", \"t\": 1331923872, \"hc\": 1331905829 }\\n',\n",
       " '{ \"a\": \"Mozilla\\\\/5.0 (compatible; MSIE 9.0; Windows Phone OS 7.5; Trident\\\\/5.0; IEMobile\\\\/9.0; HTC; HD7)\", \"c\": \"US\", \"nk\": 1, \"tz\": \"America\\\\/Los_Angeles\", \"gr\": \"CA\", \"g\": \"90OLi\", \"h\": \"1akr7W\", \"l\": \"cacorrections\", \"al\": \"en-US\", \"hh\": \"bit.ly\", \"r\": \"direct\", \"u\": \"http:\\\\/\\\\/www.cdcr.ca.gov\\\\/cdcrstar\\\\/index.html\", \"t\": 1331923875, \"hc\": 1248360950, \"kw\": \"cdcrstar\", \"cy\": \"Pittsburg\", \"ll\": [ 38.005100, -121.838699 ] }\\n',\n",
       " '{ \"a\": \"Mozilla\\\\/5.0 (iPad; CPU OS 5_1 like Mac OS X) AppleWebKit\\\\/534.46 (KHTML, like Gecko) Mobile\\\\/9B176 Twitter for iPad\", \"c\": \"GB\", \"nk\": 1, \"tz\": \"Europe\\\\/London\", \"gr\": \"C6\", \"g\": \"xVZg4P\", \"h\": \"wqUkTo\", \"l\": \"nasatwitter\", \"al\": \"en-us\", \"hh\": \"go.nasa.gov\", \"r\": \"https:\\\\/\\\\/twitter.com\\\\/nasa\\\\/status\\\\/180662400964493314\", \"u\": \"http:\\\\/\\\\/www.nasa.gov\\\\/multimedia\\\\/imagegallery\\\\/image_feature_2199.html\", \"t\": 1331923873, \"hc\": 1331908247, \"cy\": \"Truro\", \"ll\": [ 50.261700, -5.043300 ] }\\n',\n",
       " '{ \"a\": \"Mozilla\\\\/5.0 (Windows NT 5.1; rv:5.0) Gecko\\\\/20100101 Firefox\\\\/5.0\", \"c\": \"US\", \"nk\": 1, \"tz\": \"America\\\\/Los_Angeles\", \"gr\": \"CA\", \"g\": \"w7UqC1\", \"h\": \"wQdTN9\", \"l\": \"addthis\", \"al\": \"en-us,en;q=0.5\", \"hh\": \"1.usa.gov\", \"r\": \"http:\\\\/\\\\/t.co\\\\/LMjED2o1\", \"u\": \"http:\\\\/\\\\/www.whitehouse.gov\\\\/blog\\\\/2012\\\\/03\\\\/15\\\\/effective-aid-transparent-and-accountable-aid#.T2OC-_GRhkQ.twitter\", \"t\": 1331923875, \"hc\": 1331921659, \"cy\": \"Berkeley\", \"ll\": [ 37.878399, -122.260300 ] }\\n',\n",
       " '{ \"a\": \"Mozilla\\\\/5.0 (iPod; CPU iPhone OS 5_1 like Mac OS X) AppleWebKit\\\\/534.46 (KHTML, like Gecko) Version\\\\/5.1 Mobile\\\\/9B176 Safari\\\\/7534.48.3\", \"c\": \"CA\", \"nk\": 0, \"tz\": \"America\\\\/Rainy_River\", \"gr\": \"ON\", \"g\": \"xeVg2p\", \"h\": \"xeVg2p\", \"l\": \"bitly\", \"al\": \"en-us\", \"hh\": \"1.usa.gov\", \"r\": \"direct\", \"u\": \"http:\\\\/\\\\/www.usace.army.mil\\\\/About\\\\/History\\\\/BriefHistoryoftheCorps\\\\/Beginnings.aspx\", \"t\": 1331923876, \"hc\": 1331923855, \"cy\": \"Ajax\", \"ll\": [ 43.849998, -79.016701 ] }\\n',\n",
       " '{ \"a\": \"Mozilla\\\\/5.0 (compatible; MSIE 9.0; Windows NT 6.1; WOW64; Trident\\\\/5.0)\", \"c\": \"US\", \"nk\": 0, \"tz\": \"America\\\\/New_York\", \"gr\": \"MA\", \"g\": \"axNK8c\", \"h\": \"axNK8c\", \"l\": \"bitly\", \"al\": \"en-US\", \"hh\": \"bit.ly\", \"r\": \"http:\\\\/\\\\/selco.shrewsbury-ma.gov\\\\/selco\\\\/index.php?fDD=23-0\", \"u\": \"http:\\\\/\\\\/www.shrewsbury-ma.gov\\\\/egov\\\\/gallery\\\\/134127368675393.png\", \"t\": 1331923876, \"hc\": 1273672506, \"cy\": \"Shrewsbury\", \"ll\": [ 42.286499, -71.714699 ] }\\n',\n",
       " '{ \"a\": \"Mozilla\\\\/5.0 (compatible; MSIE 9.0; Windows NT 6.1; WOW64; Trident\\\\/5.0)\", \"c\": \"US\", \"nk\": 0, \"tz\": \"America\\\\/New_York\", \"gr\": \"MA\", \"g\": \"9b6kNl\", \"h\": \"9b6kNl\", \"l\": \"bitly\", \"al\": \"en-US\", \"hh\": \"bit.ly\", \"r\": \"http:\\\\/\\\\/selco.shrewsbury-ma.gov\\\\/selco\\\\/index.php?fDD=23-0\", \"u\": \"http:\\\\/\\\\/www.shrewsbury-ma.gov\\\\/egov\\\\/gallery\\\\/134127368672998.png\", \"t\": 1331923876, \"hc\": 1273672411, \"cy\": \"Shrewsbury\", \"ll\": [ 42.286499, -71.714699 ] }\\n',\n",
       " '{ \"a\": \"Mozilla\\\\/5.0 (Macintosh; Intel Mac OS X 10.6; rv:10.0.2) Gecko\\\\/20100101 Firefox\\\\/10.0.2\", \"c\": null, \"nk\": 0, \"tz\": \"\", \"g\": \"wcndER\", \"h\": \"zkpJBR\", \"l\": \"bnjacobs\", \"al\": \"en-us,en;q=0.5\", \"hh\": \"1.usa.gov\", \"r\": \"http:\\\\/\\\\/www.facebook.com\\\\/\", \"u\": \"http:\\\\/\\\\/www.nasa.gov\\\\/mission_pages\\\\/nustar\\\\/main\\\\/index.html\", \"t\": 1331923875, \"hc\": 1331922854 }\\n',\n",
       " '{ \"a\": \"Mozilla\\\\/4.0 (compatible; MSIE 7.0; Windows NT 6.1; Trident\\\\/4.0; SLCC2; .NET CLR 2.0.50727; .NET CLR 3.5.30729; .NET CLR 3.0.30729; Media Center PC 6.0; .NET4.0C; InfoPath.3; .NET CLR 1.1.4322; ms-office)\", \"c\": \"US\", \"nk\": 0, \"tz\": \"America\\\\/New_York\", \"gr\": \"GA\", \"g\": \"pXazzH\", \"h\": \"r3MyRD\", \"l\": \"roneill\", \"hh\": \"1.usa.gov\", \"r\": \"direct\", \"u\": \"http:\\\\/\\\\/publications.usa.gov\\\\/USAPubs.php?PubID=3379\", \"t\": 1331923877, \"hc\": 1315623478, \"cy\": \"Douglasville\", \"ll\": [ 33.663799, -84.733101 ] }\\n',\n",
       " '{ \"a\": \"Mozilla\\\\/5.0 (Linux; U; Android 2.3.3; en-us; DROIDX Build\\\\/4.5.1_57_DX5-35) AppleWebKit\\\\/533.1 (KHTML, like Gecko) Version\\\\/4.0 Mobile Safari\\\\/533.1\", \"c\": \"US\", \"nk\": 1, \"tz\": \"America\\\\/New_York\", \"gr\": \"VA\", \"g\": \"xVZg4P\", \"h\": \"wqUkTo\", \"l\": \"nasatwitter\", \"al\": \"en-US\", \"hh\": \"go.nasa.gov\", \"r\": \"http:\\\\/\\\\/t.co\\\\/UKGBxj29\", \"u\": \"http:\\\\/\\\\/www.nasa.gov\\\\/multimedia\\\\/imagegallery\\\\/image_feature_2199.html\", \"t\": 1331923878, \"hc\": 1331908247, \"cy\": \"Fredericksburg\", \"ll\": [ 38.302299, -77.484703 ] }\\n',\n",
       " '{ \"a\": \"Mozilla\\\\/4.0 (compatible; MSIE 8.0; Windows NT 5.1; Trident\\\\/4.0; GTB6.3; .NET CLR 1.0.3705; .NET CLR 1.1.4322; .NET CLR 2.0.50727; .NET CLR 3.0.4506.2152; .NET CLR 3.5.30729)\", \"c\": \"JP\", \"nk\": 1, \"tz\": \"Asia\\\\/Tokyo\", \"gr\": \"07\", \"g\": \"Hw6ES\", \"h\": \"bVLvrW\", \"l\": \"addthis\", \"al\": \"ja\", \"hh\": \"bit.ly\", \"r\": \"http:\\\\/\\\\/togetter.com\\\\/li\\\\/39380\", \"u\": \"http:\\\\/\\\\/www.navy.mil\\\\/view_single.asp?id=74491\", \"t\": 1331923879, \"hc\": 1280721477, \"cy\": \"Nogata\", \"ll\": [ 33.733299, 130.733307 ] }\\n',\n",
       " '{ \"a\": \"Mozilla\\\\/5.0 (Windows NT 6.1; WOW64; rv:10.0.2) Gecko\\\\/20100101 Firefox\\\\/10.0.2\", \"c\": \"US\", \"nk\": 1, \"tz\": \"America\\\\/New_York\", \"gr\": \"NJ\", \"g\": \"vNJS4H\", \"h\": \"u0uD9q\", \"l\": \"o_4us71ccioa\", \"al\": \"en-us,en;q=0.5\", \"hh\": \"1.usa.gov\", \"r\": \"direct\", \"u\": \"https:\\\\/\\\\/www.nysdot.gov\\\\/rexdesign\\\\/design\\\\/community.gif\", \"t\": 1331923879, \"hc\": 1319563556, \"cy\": \"Bergenfield\", \"ll\": [ 40.923302, -73.998398 ] }\\n',\n",
       " '{ \"a\": \"Mozilla\\\\/5.0 (Macintosh; Intel Mac OS X 10_6_6) AppleWebKit\\\\/535.11 (KHTML, like Gecko) Chrome\\\\/17.0.963.79 Safari\\\\/535.11\", \"c\": \"US\", \"nk\": 1, \"tz\": \"America\\\\/New_York\", \"gr\": \"NY\", \"g\": \"vNJS4H\", \"h\": \"u0uD9q\", \"l\": \"o_4us71ccioa\", \"al\": \"en-US,en;q=0.8\", \"hh\": \"1.usa.gov\", \"r\": \"direct\", \"u\": \"https:\\\\/\\\\/www.nysdot.gov\\\\/rexdesign\\\\/design\\\\/community.gif\", \"t\": 1331923877, \"hc\": 1319563556, \"cy\": \"White Plains\", \"ll\": [ 41.029099, -73.758003 ] }\\n',\n",
       " '{ \"a\": \"Mozilla\\\\/4.0 (compatible; MSIE 7.0; Windows NT 6.0)\", \"c\": \"US\", \"nk\": 0, \"tz\": \"America\\\\/New_York\", \"gr\": \"PA\", \"g\": \"zpRnhs\", \"h\": \"zpRnhs\", \"l\": \"bitly\", \"hh\": \"1.usa.gov\", \"r\": \"direct\", \"u\": \"http:\\\\/\\\\/answers.usa.gov\\\\/system\\\\/selfservice.controller?CONFIGURATION=1000&PARTITION_ID=1&CMD=VIEW_ARTICLE&USERTYPE=1&LANGUAGE=en&COUNTRY=US&ARTICLE_ID=11606\", \"t\": 1331923878, \"hc\": 1326477025, \"cy\": \"Pittsburgh\", \"ll\": [ 40.453098, -79.929398 ] }\\n',\n",
       " '{ \"a\": \"Mozilla\\\\/5.0 (compatible; MSIE 9.0; Windows NT 6.1; WOW64; Trident\\\\/5.0)\", \"c\": \"US\", \"nk\": 0, \"tz\": \"America\\\\/New_York\", \"gr\": \"NC\", \"g\": \"xVZg4P\", \"h\": \"wqUkTo\", \"l\": \"nasatwitter\", \"al\": \"en-US\", \"hh\": \"go.nasa.gov\", \"r\": \"http:\\\\/\\\\/t.co\\\\/UKGBxj29\", \"u\": \"http:\\\\/\\\\/www.nasa.gov\\\\/multimedia\\\\/imagegallery\\\\/image_feature_2199.html\", \"t\": 1331923880, \"hc\": 1331908247, \"cy\": \"West Jefferson\", \"ll\": [ 36.354599, -81.472801 ] }\\n',\n",
       " '{ \"a\": \"Mozilla\\\\/5.0 (Windows NT 6.1; WOW64) AppleWebKit\\\\/535.11 (KHTML, like Gecko) Chrome\\\\/17.0.963.79 Safari\\\\/535.11\", \"c\": \"US\", \"nk\": 1, \"tz\": \"America\\\\/Los_Angeles\", \"gr\": \"CA\", \"g\": \"vNJS4H\", \"h\": \"u0uD9q\", \"l\": \"o_4us71ccioa\", \"al\": \"en-US,en;q=0.8\", \"hh\": \"1.usa.gov\", \"r\": \"direct\", \"u\": \"https:\\\\/\\\\/www.nysdot.gov\\\\/rexdesign\\\\/design\\\\/community.gif\", \"t\": 1331923880, \"hc\": 1319563556, \"cy\": \"Concord\", \"ll\": [ 37.979698, -122.005600 ] }\\n',\n",
       " '{ \"a\": \"Mozilla\\\\/5.0 (Macintosh; Intel Mac OS X 10_7_2) AppleWebKit\\\\/534.51.22 (KHTML, like Gecko) Version\\\\/5.1.1 Safari\\\\/534.51.22\", \"c\": \"MX\", \"nk\": 0, \"tz\": \"America\\\\/Mexico_City\", \"gr\": \"09\", \"g\": \"zCaLwp\", \"h\": \"zFWLOj\", \"l\": \"tweetdeckapi\", \"al\": \"en-us\", \"hh\": \"1.usa.gov\", \"r\": \"http:\\\\/\\\\/t.co\\\\/ZSGJ1erp\", \"u\": \"http:\\\\/\\\\/apod.nasa.gov\\\\/apod\\\\/ap120312.html\", \"t\": 1331923880, \"hc\": 1331530604, \"cy\": \"Mexico\", \"ll\": [ 19.434200, -99.138603 ] }\\n',\n",
       " '{ \"a\": \"Mozilla\\\\/5.0 (Windows NT 6.1; WOW64) AppleWebKit\\\\/535.11 (KHTML, like Gecko) Chrome\\\\/17.0.963.79 Safari\\\\/535.11\", \"c\": \"US\", \"nk\": 0, \"tz\": \"America\\\\/New_York\", \"gr\": \"FL\", \"g\": \"zAhuZI\", \"h\": \"zAhuZI\", \"l\": \"bitly\", \"al\": \"en-US,en;q=0.8\", \"hh\": \"1.usa.gov\", \"r\": \"http:\\\\/\\\\/www.facebook.com\\\\/?ref=tn_tnmn\", \"u\": \"http:\\\\/\\\\/www.drugabuse.gov\\\\/related-topics\\\\/medical-consequences-drug-abuse\", \"t\": 1331923882, \"hc\": 1326972033, \"cy\": \"Pompano Beach\", \"ll\": [ 26.252800, -80.176903 ] }\\n',\n",
       " '{ \"a\": \"Mozilla\\\\/5.0 (iPad; U; CPU OS 4_3_3 like Mac OS X; en-us) AppleWebKit\\\\/533.17.9 (KHTML, like Gecko) Version\\\\/5.0.2 Mobile\\\\/8J2 Safari\\\\/6533.18.5\", \"c\": \"US\", \"nk\": 0, \"tz\": \"America\\\\/New_York\", \"gr\": \"GA\", \"g\": \"vNJS4H\", \"h\": \"u0uD9q\", \"l\": \"o_4us71ccioa\", \"al\": \"en-us\", \"hh\": \"1.usa.gov\", \"r\": \"direct\", \"u\": \"https:\\\\/\\\\/www.nysdot.gov\\\\/rexdesign\\\\/design\\\\/community.gif\", \"t\": 1331923883, \"hc\": 1319563556, \"cy\": \"Richland\", \"ll\": [ 32.094501, -84.657997 ] }\\n',\n",
       " '{ \"a\": \"Nokia6790s-1b\\\\/ATT.03.22 Mozilla\\\\/5.0 SymbianOS\\\\/9.3; U; [en]; Series60\\\\/3.2; Profile\\\\/MIDP-2.1 Configuration\\\\/CLDC-1.1 AppleWebKit\\\\/413 (KHTML, like Gecko) Safari\\\\/413\", \"c\": null, \"nk\": 1, \"tz\": \"\", \"g\": \"y5rMac\", \"h\": \"xANY6O\", \"l\": \"twitterfeed\", \"al\": \"en-us, en;q=1.0,fr-ca, fr;q=0.5,pt-br, pt;q=0.5,es;q=0.5\", \"hh\": \"1.usa.gov\", \"r\": \"http:\\\\/\\\\/t.co\\\\/KefLcHHb\", \"u\": \"http:\\\\/\\\\/www.fda.gov\\\\/Safety\\\\/Recalls\\\\/ucm296326.htm\", \"t\": 1331923884, \"hc\": 1331916302 }\\n',\n",
       " '{ \"a\": \"Mozilla\\\\/5.0 (Windows NT 6.1; WOW64; rv:10.0.2) Gecko\\\\/20100101 Firefox\\\\/10.0.2\", \"c\": \"DE\", \"nk\": 0, \"tz\": \"Europe\\\\/Berlin\", \"gr\": \"06\", \"g\": \"wcndER\", \"h\": \"zkpJBR\", \"l\": \"bnjacobs\", \"al\": \"de-de,de;q=0.8,en-us;q=0.5,en;q=0.3\", \"hh\": \"1.usa.gov\", \"r\": \"http:\\\\/\\\\/www.facebook.com\\\\/l.php?u=http%3A%2F%2F1.usa.gov%2FzkpJBR&h=bAQGgQbPQAQGD45vYsgnoVFChhczQwzw82uKhv2OKH1-RKg\", \"u\": \"http:\\\\/\\\\/www.nasa.gov\\\\/mission_pages\\\\/nustar\\\\/main\\\\/index.html\", \"t\": 1331923884, \"hc\": 1331922854, \"cy\": \"Hanover\", \"ll\": [ 52.366699, 9.716700 ] }\\n',\n",
       " '{ \"a\": \"Mozilla\\\\/5.0 (Windows NT 5.1) AppleWebKit\\\\/535.11 (KHTML, like Gecko) Chrome\\\\/17.0.963.79 Safari\\\\/535.11\", \"c\": \"US\", \"nk\": 0, \"tz\": \"America\\\\/New_York\", \"gr\": \"NY\", \"g\": \"zaDe83\", \"h\": \"yj3Xmi\", \"l\": \"addthis\", \"al\": \"en-US,en;q=0.8\", \"hh\": \"1.usa.gov\", \"r\": \"http:\\\\/\\\\/www.google.com\\\\/url?sa=D&q=http:\\\\/\\\\/1.usa.gov\\\\/yj3Xmi&usg=AFQjCNFGcPaUonkVDzimBRjdYtcQ3mNAzA\", \"u\": \"http:\\\\/\\\\/www.fda.gov\\\\/downloads\\\\/Drugs\\\\/ScienceResearch\\\\/ResearchAreas\\\\/UCM180474.pdf\", \"t\": 1331923884, \"hc\": 1328814775, \"cy\": \"Port Chester\", \"ll\": [ 41.023201, -73.679497 ] }\\n',\n",
       " '{ \"a\": \"Mozilla\\\\/5.0 (Windows NT 6.1; WOW64) AppleWebKit\\\\/535.11 (KHTML, like Gecko) Chrome\\\\/17.0.963.79 Safari\\\\/535.11\", \"c\": \"US\", \"nk\": 0, \"tz\": \"America\\\\/New_York\", \"gr\": \"NC\", \"g\": \"ytERxH\", \"h\": \"ytERxH\", \"l\": \"bitly\", \"al\": \"en-US,en;q=0.8\", \"hh\": \"1.usa.gov\", \"r\": \"direct\", \"u\": \"http:\\\\/\\\\/plano.gov\\\\/sites\\\\/pdf\\\\/documents\\\\/HR\\\\/oe 2011\\\\/SummaryofCompensationandBenefits.pdf\", \"t\": 1331923884, \"hc\": 1331579434, \"cy\": \"Chapel Hill\", \"ll\": [ 36.052502, -79.107697 ] }\\n',\n",
       " '{ \"a\": \"Opera\\\\/9.80 (J2ME\\\\/MIDP; Opera Mini\\\\/4.15081\\\\/27.1350; U; en) Presto\\\\/2.8.119 Version\\\\/11.10\", \"c\": null, \"nk\": 0, \"tz\": \"\", \"g\": \"wcndER\", \"h\": \"zkpJBR\", \"l\": \"bnjacobs\", \"al\": \"en-GB,en;q=0.9\", \"hh\": \"1.usa.gov\", \"r\": \"http:\\\\/\\\\/m.facebook.com\\\\/?_rdr\", \"u\": \"http:\\\\/\\\\/www.nasa.gov\\\\/mission_pages\\\\/nustar\\\\/main\\\\/index.html\", \"t\": 1331923886, \"hc\": 1331922854 }\\n',\n",
       " '{ \"a\": \"Mozilla\\\\/4.0 (compatible; MSIE 8.0; Windows NT 6.1; WOW64; Trident\\\\/4.0; SLCC2; .NET CLR 2.0.50727; .NET CLR 3.5.30729; .NET CLR 3.0.30729; .NET4.0C; .NET4.0E; InfoPath.3)\", \"c\": \"US\", \"nk\": 1, \"tz\": \"America\\\\/New_York\", \"gr\": \"DC\", \"g\": \"xxr3Qb\", \"h\": \"xxr3Qb\", \"l\": \"bitly\", \"al\": \"en-US\", \"hh\": \"1.usa.gov\", \"r\": \"http:\\\\/\\\\/t.co\\\\/03elZC4Q\", \"u\": \"http:\\\\/\\\\/boxer.senate.gov\\\\/en\\\\/press\\\\/releases\\\\/031612.cfm\", \"t\": 1331923886, \"hc\": 1331919941, \"cy\": \"Washington\", \"ll\": [ 38.900700, -77.043098 ] }\\n',\n",
       " '{ \"a\": \"Mozilla\\\\/5.0 (Windows NT 6.1; rv:10.0.2) Gecko\\\\/20100101 Firefox\\\\/10.0.2\", \"c\": \"US\", \"nk\": 1, \"tz\": \"America\\\\/New_York\", \"gr\": \"FL\", \"g\": \"vNJS4H\", \"h\": \"u0uD9q\", \"l\": \"o_4us71ccioa\", \"al\": \"en-us,en;q=0.5\", \"hh\": \"1.usa.gov\", \"r\": \"direct\", \"u\": \"https:\\\\/\\\\/www.nysdot.gov\\\\/rexdesign\\\\/design\\\\/community.gif\", \"t\": 1331923886, \"hc\": 1319563556, \"cy\": \"Gainesville\", \"ll\": [ 29.759800, -82.280899 ] }\\n',\n",
       " '{ \"a\": \"Mozilla\\\\/4.0 (compatible; MSIE 8.0; Windows NT 6.1; Trident\\\\/4.0; SLCC2; .NET CLR 2.0.50727; .NET CLR 3.5.30729; .NET CLR 3.0.30729; InfoPath.2; .NET CLR 1.1.4322; .NET4.0C; .NET4.0E)\", \"c\": \"US\", \"nk\": 0, \"tz\": \"America\\\\/Denver\", \"gr\": \"UT\", \"g\": \"A30e2b\", \"h\": \"A30e2b\", \"l\": \"bitly\", \"al\": \"en-US\", \"hh\": \"1.usa.gov\", \"r\": \"http:\\\\/\\\\/www.sltrib.com\\\\/sltrib\\\\/politics\\\\/53728870-90\\\\/district-filed-former-kimball.html.csp\", \"u\": \"http:\\\\/\\\\/elections.utah.gov\\\\/election-resources\\\\/2012-candidate-filings\", \"t\": 1331923887, \"hc\": 1331687030, \"cy\": \"Salt Lake City\", \"ll\": [ 40.756100, -111.900703 ] }\\n',\n",
       " '{ \"a\": \"TEST_INTERNET_AGENT\", \"c\": \"PR\", \"nk\": 1, \"tz\": \"America\\\\/Puerto_Rico\", \"gr\": \"00\", \"g\": \"wcndER\", \"h\": \"zkpJBR\", \"l\": \"bnjacobs\", \"hh\": \"1.usa.gov\", \"r\": \"direct\", \"u\": \"http:\\\\/\\\\/www.nasa.gov\\\\/mission_pages\\\\/nustar\\\\/main\\\\/index.html\", \"t\": 1331923888, \"hc\": 1331922854, \"cy\": \"Toa Alta\", \"ll\": [ 18.361000, -66.253403 ] }\\n',\n",
       " '{ \"a\": \"TEST_INTERNET_AGENT\", \"c\": \"PR\", \"nk\": 0, \"tz\": \"America\\\\/Puerto_Rico\", \"gr\": \"00\", \"g\": \"wcndER\", \"h\": \"zkpJBR\", \"l\": \"bnjacobs\", \"hh\": \"1.usa.gov\", \"r\": \"direct\", \"u\": \"http:\\\\/\\\\/www.nasa.gov\\\\/mission_pages\\\\/nustar\\\\/main\\\\/index.html\", \"t\": 1331923888, \"hc\": 1331922854, \"cy\": \"Toa Alta\", \"ll\": [ 18.361000, -66.253403 ] }\\n',\n",
       " '{ \"a\": \"Mozilla\\\\/5.0 (Windows NT 6.0; WOW64; rv:11.0) Gecko\\\\/20100101 Firefox\\\\/11.0\", \"c\": \"JP\", \"nk\": 1, \"tz\": \"Asia\\\\/Tokyo\", \"gr\": \"40\", \"g\": \"wUsrEq\", \"h\": \"wUsrEq\", \"l\": \"bitly\", \"al\": \"ja,en-us;q=0.7,en;q=0.3\", \"hh\": \"1.usa.gov\", \"r\": \"direct\", \"u\": \"http:\\\\/\\\\/www.nasa.gov\\\\/topics\\\\/earth\\\\/features\\\\/seac4rs.html\", \"t\": 1331923887, \"hc\": 1331670810, \"cy\": \"Tokyo\", \"ll\": [ 35.685001, 139.751404 ] }\\n',\n",
       " '{ \"a\": \"Mozilla\\\\/5.0 (iPhone; CPU iPhone OS 5_0_1 like Mac OS X) AppleWebKit\\\\/534.46 (KHTML, like Gecko) Version\\\\/5.1 Mobile\\\\/9A405 Safari\\\\/7534.48.3\", \"c\": null, \"nk\": 0, \"tz\": \"\", \"g\": \"xeBHLz\", \"h\": \"xJLOvh\", \"l\": \"astrobiology\", \"al\": \"en-us\", \"hh\": \"1.usa.gov\", \"r\": \"http:\\\\/\\\\/t.co\\\\/T2Evi6ct\", \"u\": \"http:\\\\/\\\\/astrobiology.nasa.gov\\\\/articles\\\\/famelab-astrobiology-continues\\\\/\", \"t\": 1331923889, \"hc\": 1331848012 }\\n',\n",
       " '{ \"a\": \"Mozilla\\\\/5.0 (iPad; CPU OS 5_1 like Mac OS X) AppleWebKit\\\\/534.46 (KHTML, like Gecko) Mobile\\\\/9B176 Twitter for iPad\", \"c\": \"US\", \"nk\": 1, \"tz\": \"America\\\\/New_York\", \"gr\": \"CT\", \"g\": \"BNDz\", \"h\": \"14Q1q3\", \"l\": \"tweetdeckapi\", \"al\": \"en-us\", \"hh\": \"1.usa.gov\", \"r\": \"https:\\\\/\\\\/twitter.com\\\\/gilsimmons\\\\/status\\\\/180711771919761409\", \"u\": \"http:\\\\/\\\\/radar.weather.gov\\\\/Conus\\\\/northeast_loop.php\", \"t\": 1331923890, \"hc\": 1246975140, \"cy\": \"Waterbury\", \"ll\": [ 41.558498, -73.033096 ] }\\n',\n",
       " '{ \"a\": \"Mozilla\\\\/5.0 (iPad; CPU OS 5_1 like Mac OS X) AppleWebKit\\\\/534.46 (KHTML, like Gecko) Mobile\\\\/9B176 Twitter for iPad\", \"c\": \"US\", \"nk\": 1, \"tz\": \"America\\\\/New_York\", \"gr\": \"CT\", \"g\": \"BNDz\", \"h\": \"14Q1q3\", \"l\": \"tweetdeckapi\", \"al\": \"en-us\", \"hh\": \"1.usa.gov\", \"r\": \"direct\", \"u\": \"http:\\\\/\\\\/radar.weather.gov\\\\/Conus\\\\/northeast_loop.php\", \"t\": 1331923890, \"hc\": 1246975140, \"cy\": \"Waterbury\", \"ll\": [ 41.558498, -73.033096 ] }\\n',\n",
       " '{\"_heartbeat_\":1331923891}\\n',\n",
       " '{ \"a\": \"Mozilla\\\\/5.0 (iPhone; CPU iPhone OS 5_1 like Mac OS X) AppleWebKit\\\\/534.46 (KHTML, like Gecko) Mobile\\\\/9B179 Twitter for iPhone\", \"c\": \"US\", \"nk\": 1, \"tz\": \"America\\\\/Chicago\", \"gr\": \"TX\", \"g\": \"y5rMac\", \"h\": \"xANY6O\", \"l\": \"twitterfeed\", \"al\": \"en-us\", \"hh\": \"bit.ly\", \"r\": \"direct\", \"u\": \"http:\\\\/\\\\/www.fda.gov\\\\/Safety\\\\/Recalls\\\\/ucm296326.htm\", \"t\": 1331923895, \"hc\": 1331916302, \"cy\": \"Cleveland\", \"ll\": [ 30.365101, -95.067398 ] }\\n',\n",
       " '{ \"a\": \"Mozilla\\\\/5.0 (Windows; U; Windows NT 6.1; en-US; rv:1.9.2.17) Gecko\\\\/20110420 Firefox\\\\/3.6.17\", \"c\": \"US\", \"nk\": 0, \"tz\": \"America\\\\/New_York\", \"gr\": \"GA\", \"g\": \"2rOUYc\", \"h\": \"2rOUYc\", \"l\": \"bitly\", \"al\": \"en-us,en;q=0.5\", \"hh\": \"bit.ly\", \"r\": \"direct\", \"u\": \"http:\\\\/\\\\/toxtown.nlm.nih.gov\\\\/index.php\", \"t\": 1331923896, \"hc\": 1255769846, \"cy\": \"Kennesaw\", \"ll\": [ 34.010399, -84.623901 ] }\\n',\n",
       " '{ \"a\": \"Mozilla\\\\/5.0 (Windows NT 5.1) AppleWebKit\\\\/535.11 (KHTML, like Gecko) Chrome\\\\/17.0.963.79 Safari\\\\/535.11\", \"c\": null, \"nk\": 0, \"tz\": \"\", \"g\": \"zH1BFf\", \"h\": \"x3jOIv\", \"l\": \"andyzieminski\", \"al\": \"en-US,en;q=0.8\", \"hh\": \"1.usa.gov\", \"r\": \"http:\\\\/\\\\/t.co\\\\/qJWMUtWF\", \"u\": \"http:\\\\/\\\\/www.usda.gov\\\\/wps\\\\/portal\\\\/usda\\\\/usdahome?contentidonly=true&contentid=KYF_Compass_Careers_in_Agriculture.html\", \"t\": 1331923897, \"hc\": 1331839576 }\\n',\n",
       " '{ \"a\": \"Mozilla\\\\/5.0 (compatible; MSIE 9.0; Windows NT 6.1; Trident\\\\/5.0; BOIE9;ENUS)\", \"c\": \"CA\", \"nk\": 0, \"tz\": \"America\\\\/Rainy_River\", \"gr\": \"ON\", \"g\": \"a2scSj\", \"h\": \"d9vgTo\", \"l\": \"disabilitygov\", \"al\": \"en-US\", \"hh\": \"1.usa.gov\", \"r\": \"direct\", \"u\": \"http:\\\\/\\\\/www.bls.gov\\\\/news.release\\\\/empsit.t06.htm\", \"t\": 1331923897, \"hc\": 1265638741, \"cy\": \"Mississauga\", \"ll\": [ 43.150002, -79.500000 ] }\\n',\n",
       " '{ \"a\": \"Mozilla\\\\/4.0 (compatible; MSIE 8.0; Windows NT 5.1; Trident\\\\/4.0; GTB6.3; .NET CLR 1.0.3705; .NET CLR 1.1.4322; .NET CLR 2.0.50727; .NET CLR 3.0.4506.2152; .NET CLR 3.5.30729)\", \"c\": \"JP\", \"nk\": 1, \"tz\": \"Asia\\\\/Tokyo\", \"gr\": \"07\", \"g\": \"bHZa0m\", \"h\": \"9wPvkb\", \"l\": \"addthis\", \"al\": \"ja\", \"hh\": \"bit.ly\", \"r\": \"http:\\\\/\\\\/togetter.com\\\\/li\\\\/39380\", \"u\": \"http:\\\\/\\\\/www.navy.mil\\\\/view_single.asp?id=73272\", \"t\": 1331923901, \"hc\": 1280721581, \"cy\": \"Nogata\", \"ll\": [ 33.733299, 130.733307 ] }\\n',\n",
       " '{ \"a\": \"Mozilla\\\\/5.0 (iPad; CPU OS 5_1 like Mac OS X) AppleWebKit\\\\/534.46 (KHTML, like Gecko) Version\\\\/5.1 Mobile\\\\/9B176 Safari\\\\/7534.48.3\", \"c\": null, \"nk\": 0, \"tz\": \"\", \"g\": \"vNJS4H\", \"h\": \"u0uD9q\", \"l\": \"o_4us71ccioa\", \"al\": \"en-us\", \"hh\": \"1.usa.gov\", \"r\": \"direct\", \"u\": \"https:\\\\/\\\\/www.nysdot.gov\\\\/rexdesign\\\\/design\\\\/community.gif\", \"t\": 1331923903, \"hc\": 1319563556 }\\n',\n",
       " '{ \"a\": \"Mozilla\\\\/4.0 (compatible; MSIE 8.0; Windows NT 5.1; Trident\\\\/4.0; GTB7.3; .NET CLR 1.1.4322; .NET4.0C)\", \"c\": \"US\", \"nk\": 0, \"tz\": \"America\\\\/New_York\", \"gr\": \"MA\", \"g\": \"9b6kNl\", \"h\": \"9b6kNl\", \"l\": \"bitly\", \"al\": \"en-us\", \"hh\": \"bit.ly\", \"r\": \"http:\\\\/\\\\/www.shrewsbury-ma.gov\\\\/selco\\\\/\", \"u\": \"http:\\\\/\\\\/www.shrewsbury-ma.gov\\\\/egov\\\\/gallery\\\\/134127368672998.png\", \"t\": 1331923903, \"hc\": 1273672411, \"cy\": \"Shrewsbury\", \"ll\": [ 42.286499, -71.714699 ] }\\n',\n",
       " '{ \"a\": \"Mozilla\\\\/4.0 (compatible; MSIE 8.0; Windows NT 5.1; Trident\\\\/4.0; GTB7.3; .NET CLR 1.1.4322; .NET4.0C)\", \"c\": \"US\", \"nk\": 0, \"tz\": \"America\\\\/New_York\", \"gr\": \"MA\", \"g\": \"axNK8c\", \"h\": \"axNK8c\", \"l\": \"bitly\", \"al\": \"en-us\", \"hh\": \"bit.ly\", \"r\": \"http:\\\\/\\\\/www.shrewsbury-ma.gov\\\\/selco\\\\/\", \"u\": \"http:\\\\/\\\\/www.shrewsbury-ma.gov\\\\/egov\\\\/gallery\\\\/134127368675393.png\", \"t\": 1331923903, \"hc\": 1273672506, \"cy\": \"Shrewsbury\", \"ll\": [ 42.286499, -71.714699 ] }\\n',\n",
       " '{ \"a\": \"GoogleMaps\\\\/RochesterNY\", \"c\": \"US\", \"nk\": 0, \"tz\": \"America\\\\/Denver\", \"gr\": \"UT\", \"g\": \"mwszkS\", \"h\": \"mwszkS\", \"l\": \"bitly\", \"hh\": \"j.mp\", \"r\": \"http:\\\\/\\\\/www.AwareMap.com\\\\/\", \"u\": \"http:\\\\/\\\\/www.monroecounty.gov\\\\/etc\\\\/911\\\\/rss.php\", \"t\": 1331923907, \"hc\": 1308262393, \"cy\": \"Provo\", \"ll\": [ 40.218102, -111.613297 ] }\\n',\n",
       " '{ \"a\": \"Mozilla\\\\/4.0 (compatible; MSIE 7.0; Windows NT 6.0; SLCC1; .NET CLR 2.0.50727; .NET CLR 3.0.30729; InfoPath.2; MS-RTC LM 8; .NET CLR 3.5.30729; .NET4.0C; .NET4.0E)\", \"c\": \"US\", \"nk\": 0, \"tz\": \"America\\\\/New_York\", \"gr\": \"VA\", \"g\": \"pKGBxw\", \"h\": \"vsm28q\", \"l\": \"micheal67\", \"al\": \"en-us\", \"hh\": \"1.usa.gov\", \"r\": \"direct\", \"u\": \"http:\\\\/\\\\/www.cnic.navy.mil\\\\/navycni\\\\/groups\\\\/public\\\\/@cnrma\\\\/documents\\\\/document\\\\/cnicd_a116089.pdf\", \"t\": 1331923907, \"hc\": 1320241999, \"cy\": \"Newport News\", \"ll\": [ 37.086300, -76.491402 ] }\\n',\n",
       " '{ \"a\": \"Mozilla\\\\/5.0 (Windows NT 6.1; WOW64) AppleWebKit\\\\/535.11 (KHTML, like Gecko) Chrome\\\\/17.0.963.79 Safari\\\\/535.11\", \"c\": \"US\", \"nk\": 1, \"tz\": \"America\\\\/New_York\", \"gr\": \"NY\", \"g\": \"vNJS4H\", \"h\": \"u0uD9q\", \"l\": \"o_4us71ccioa\", \"al\": \"en-US,en;q=0.8\", \"hh\": \"1.usa.gov\", \"r\": \"direct\", \"u\": \"https:\\\\/\\\\/www.nysdot.gov\\\\/rexdesign\\\\/design\\\\/community.gif\", \"t\": 1331923907, \"hc\": 1319563556, \"cy\": \"White Plains\", \"ll\": [ 41.029099, -73.758003 ] }\\n',\n",
       " '{ \"a\": \"Mozilla\\\\/5.0 (Windows NT 6.1; WOW64; rv:10.0.2) Gecko\\\\/20100101 Firefox\\\\/10.0.2\", \"c\": \"IT\", \"nk\": 0, \"tz\": \"Europe\\\\/Rome\", \"gr\": \"09\", \"g\": \"xVTtSE\", \"h\": \"yeE6VR\", \"l\": \"nasatwitter\", \"al\": \"it-it,it;q=0.8,en-us;q=0.5,en;q=0.3\", \"hh\": \"go.nasa.gov\", \"r\": \"http:\\\\/\\\\/plus.url.google.com\\\\/url?sa=z&n=1331923902148&url=http%3A%2F%2Fgo.nasa.gov%2FyeE6VR&usg=CXQO_IGLfH5BxYJMx4jZWMWm02M.\", \"u\": \"http:\\\\/\\\\/www.nasa.gov\\\\/connect\\\\/social\\\\/index.html\", \"t\": 1331923910, \"hc\": 1331905829, \"cy\": \"Milan\", \"ll\": [ 45.466702, 9.200000 ] }\\n',\n",
       " '{ \"a\": \"Mozilla\\\\/5.0 (Windows NT 6.1; WOW64) AppleWebKit\\\\/535.11 (KHTML, like Gecko) Chrome\\\\/17.0.963.79 Safari\\\\/535.11\", \"c\": \"US\", \"nk\": 0, \"tz\": \"America\\\\/New_York\", \"gr\": \"NY\", \"g\": \"ADqu5h\", \"h\": \"wM4Hox\", \"l\": \"lisahofflich\", \"al\": \"en-US,en;q=0.8\", \"hh\": \"1.usa.gov\", \"r\": \"http:\\\\/\\\\/bl162w.blu162.mail.live.com\\\\/default.aspx\", \"u\": \"http:\\\\/\\\\/www.nysenate.gov\\\\/photos\\\\/2012\\\\/feb\\\\/01\\\\/senator-ruth-hassell-thompson-and-assemblyman-jeffrion-l-aubry-attend-screening-a\", \"t\": 1331923915, \"hc\": 1331910417, \"cy\": \"Eastchester\", \"ll\": [ 40.952900, -73.809303 ] }\\n',\n",
       " '{ \"a\": \"Mozilla\\\\/5.0 (Windows NT 5.1) AppleWebKit\\\\/535.7 (KHTML, like Gecko) Chrome\\\\/16.0.912.77 Safari\\\\/535.7\", \"c\": \"US\", \"nk\": 0, \"tz\": \"America\\\\/New_York\", \"gr\": \"VA\", \"g\": \"yrlvLr\", \"h\": \"wEKi1g\", \"l\": \"rossandymiller\", \"al\": \"en-US,en;q=0.8\", \"hh\": \"1.usa.gov\", \"r\": \"direct\", \"u\": \"http:\\\\/\\\\/www.doe.virginia.gov\\\\/federal_programs\\\\/esea\\\\/title2\\\\/part_d\\\\/competitive_grants\\\\/index.shtml\", \"t\": 1331923914, \"hc\": 1329858568, \"cy\": \"Norfolk\", \"ll\": [ 36.886101, -76.266800 ] }\\n',\n",
       " '{ \"a\": \"Mozilla\\\\/5.0 (Windows NT 6.1; WOW64) AppleWebKit\\\\/535.11 (KHTML, like Gecko) Chrome\\\\/17.0.963.79 Safari\\\\/535.11\", \"c\": \"US\", \"nk\": 0, \"tz\": \"America\\\\/Denver\", \"gr\": \"CO\", \"g\": \"wcndER\", \"h\": \"zkpJBR\", \"l\": \"bnjacobs\", \"al\": \"en-US,en;q=0.8\", \"hh\": \"1.usa.gov\", \"r\": \"http:\\\\/\\\\/plus.url.google.com\\\\/url?sa=z&n=1331923915730&url=http%3A%2F%2F1.usa.gov%2FzkpJBR&usg=rlbIjBWQjm7b1FUZxuRGCDfXzBQ.\", \"u\": \"http:\\\\/\\\\/www.nasa.gov\\\\/mission_pages\\\\/nustar\\\\/main\\\\/index.html\", \"t\": 1331923916, \"hc\": 1331922854, \"cy\": \"Denver\", \"ll\": [ 39.762001, -104.913200 ] }\\n',\n",
       " '{ \"a\": \"Mozilla\\\\/5.0 (compatible; MSIE 9.0; Windows NT 6.1; Win64; x64; Trident\\\\/5.0)\", \"c\": \"US\", \"nk\": 0, \"tz\": \"America\\\\/Chicago\", \"gr\": \"TX\", \"g\": \"wcndER\", \"h\": \"zkpJBR\", \"l\": \"bnjacobs\", \"al\": \"en-US\", \"hh\": \"1.usa.gov\", \"r\": \"http:\\\\/\\\\/www.facebook.com\\\\/l.php?u=http%3A%2F%2F1.usa.gov%2FzkpJBR&h=7AQF4a2bpAQECn9qlE5Z2H979kvWDp-J2zuVN2O1uymmToA\", \"u\": \"http:\\\\/\\\\/www.nasa.gov\\\\/mission_pages\\\\/nustar\\\\/main\\\\/index.html\", \"t\": 1331923916, \"hc\": 1331922854, \"cy\": \"Tyler\", \"ll\": [ 32.318001, -95.292099 ] }\\n',\n",
       " '{ \"a\": \"Mozilla\\\\/5.0 (Windows NT 6.1; WOW64; rv:10.0) Gecko\\\\/20100101 Firefox\\\\/10.0\", \"c\": \"US\", \"nk\": 1, \"tz\": \"America\\\\/New_York\", \"gr\": \"CT\", \"g\": \"vNJS4H\", \"h\": \"u0uD9q\", \"l\": \"o_4us71ccioa\", \"al\": \"en-us,en;q=0.5\", \"hh\": \"1.usa.gov\", \"r\": \"direct\", \"u\": \"https:\\\\/\\\\/www.nysdot.gov\\\\/rexdesign\\\\/design\\\\/community.gif\", \"t\": 1331923918, \"hc\": 1319563556, \"cy\": \"Branford\", \"ll\": [ 41.286400, -72.795601 ] }\\n',\n",
       " '{ \"a\": \"Mozilla\\\\/5.0 (Windows NT 5.1) AppleWebKit\\\\/535.11 (KHTML, like Gecko) Chrome\\\\/17.0.963.79 Safari\\\\/535.11\", \"c\": \"US\", \"nk\": 1, \"tz\": \"America\\\\/New_York\", \"gr\": \"NY\", \"g\": \"yqAtDG\", \"h\": \"waX9BD\", \"l\": \"tweetdeckapi\", \"al\": \"en-US,en;q=0.8\", \"hh\": \"1.usa.gov\", \"r\": \"http:\\\\/\\\\/www.nysenate.gov\\\\/\", \"u\": \"http:\\\\/\\\\/www.nysenate.gov\\\\/press-release\\\\/senate-passes-bill-increase-port-authority-accountability\", \"t\": 1331923917, \"hc\": 1331838363, \"cy\": \"New York\", \"ll\": [ 40.761902, -73.976303 ] }\\n',\n",
       " '{\"_heartbeat_\":1331923921}\\n',\n",
       " '{ \"a\": \"Mozilla\\\\/5.0 (Windows NT 6.1; WOW64) AppleWebKit\\\\/535.11 (KHTML, like Gecko) Chrome\\\\/17.0.963.79 Safari\\\\/535.11\", \"c\": \"US\", \"nk\": 0, \"tz\": \"America\\\\/Chicago\", \"gr\": \"IL\", \"g\": \"xolraT\", \"h\": \"w8e3CA\", \"l\": \"plarson\", \"al\": \"en-US,en;q=0.8\", \"hh\": \"go.ostp.gov\", \"r\": \"http:\\\\/\\\\/t.co\\\\/hkpQDVvM\", \"u\": \"http:\\\\/\\\\/www.whitehouse.gov\\\\/blog\\\\/2012\\\\/03\\\\/16\\\\/navy-opens-cutting-edge-lab-robotics-and-autonomous-systems\", \"t\": 1331923921, \"hc\": 1331905695, \"cy\": \"Chicago\", \"ll\": [ 41.867500, -87.674400 ] }\\n',\n",
       " '{ \"a\": \"Mozilla\\\\/4.0 (compatible; MSIE 8.0; Windows NT 5.1; Trident\\\\/4.0; GTB6.3; .NET CLR 1.0.3705; .NET CLR 1.1.4322; .NET CLR 2.0.50727; .NET CLR 3.0.4506.2152; .NET CLR 3.5.30729)\", \"c\": \"JP\", \"nk\": 1, \"tz\": \"Asia\\\\/Tokyo\", \"gr\": \"07\", \"g\": \"aqddsl\", \"h\": \"aLBwHH\", \"l\": \"addthis\", \"al\": \"ja\", \"hh\": \"bit.ly\", \"r\": \"http:\\\\/\\\\/togetter.com\\\\/li\\\\/39380\", \"u\": \"http:\\\\/\\\\/www.navy.mil\\\\/view_single.asp?id=73264\", \"t\": 1331923920, \"hc\": 1280721761, \"cy\": \"Nogata\", \"ll\": [ 33.733299, 130.733307 ] }\\n',\n",
       " '{ \"a\": \"Mozilla\\\\/4.0 (compatible; MSIE 4.01; Windows NT)\", \"c\": \"US\", \"nk\": 0, \"tz\": \"America\\\\/Los_Angeles\", \"gr\": \"WA\", \"g\": \"zu2M5o\", \"h\": \"zDhdro\", \"l\": \"glimtwin\", \"hh\": \"1.usa.gov\", \"r\": \"direct\", \"u\": \"http:\\\\/\\\\/www.federalreserve.gov\\\\/newsevents\\\\/press\\\\/bcreg\\\\/bcreg20120312a1.pdf\", \"t\": 1331923921, \"hc\": 1331586192, \"cy\": \"Bellevue\", \"ll\": [ 47.615398, -122.210297 ] }\\n',\n",
       " '{ \"a\": \"Mozilla\\\\/5.0 (iPhone; U; CPU iPhone OS 5_1 like Mac OS X; en_US) AppleWebKit (KHTML, like Gecko) Mobile [FBAN\\\\/FBForIPhone;FBAV\\\\/4.1;FBBV\\\\/4100.0;FBDV\\\\/iPhone3,1;FBMD\\\\/iPhone;FBSN\\\\/iPhone OS;FBSV\\\\/5.1;FBSS\\\\/2; FBCR\\\\/Telstra;FBID\\\\/phone;FBLC\\\\/en_US;FBSF\\\\/2.0]\", \"c\": null, \"nk\": 0, \"tz\": \"\", \"g\": \"wT9q8J\", \"h\": \"wZCOwA\", \"l\": \"richtrendmicro\", \"al\": \"en-us\", \"hh\": \"1.usa.gov\", \"r\": \"http:\\\\/\\\\/m.facebook.com\\\\/l.php?u=http%3A%2F%2F1.usa.gov%2FwZCOwA&h=IAQHGmEgl\", \"u\": \"http:\\\\/\\\\/www.army.mil\\\\/article\\\\/75165\\\\/Geotagging_poses_security_risks\\\\/\", \"t\": 1331923922, \"hc\": 1331911734 }\\n',\n",
       " '{ \"a\": \"GoogleMaps\\\\/RochesterNY\", \"c\": \"US\", \"nk\": 0, \"tz\": \"America\\\\/Denver\", \"gr\": \"UT\", \"g\": \"mwszkS\", \"h\": \"mwszkS\", \"l\": \"bitly\", \"hh\": \"1.usa.gov\", \"r\": \"http:\\\\/\\\\/www.AwareMap.com\\\\/\", \"u\": \"http:\\\\/\\\\/www.monroecounty.gov\\\\/etc\\\\/911\\\\/rss.php\", \"t\": 1331923923, \"hc\": 1308262393, \"cy\": \"Provo\", \"ll\": [ 40.218102, -111.613297 ] }\\n',\n",
       " '{ \"a\": \"Mozilla\\\\/5.0 (Windows NT 6.1; WOW64) AppleWebKit\\\\/535.11 (KHTML, like Gecko) Chrome\\\\/17.0.963.79 Safari\\\\/535.11\", \"c\": \"US\", \"nk\": 0, \"tz\": \"America\\\\/New_York\", \"gr\": \"FL\", \"g\": \"wcndER\", \"h\": \"zkpJBR\", \"l\": \"bnjacobs\", \"al\": \"sv-SE,sv;q=0.8,en-US;q=0.6,en;q=0.4\", \"hh\": \"1.usa.gov\", \"r\": \"http:\\\\/\\\\/www.facebook.com\\\\/l.php?u=http%3A%2F%2F1.usa.gov%2FzkpJBR&h=QAQETFQUJAQGWeeQu6msm2G--spd6w8x8esyyNesJ3jI8ow\", \"u\": \"http:\\\\/\\\\/www.nasa.gov\\\\/mission_pages\\\\/nustar\\\\/main\\\\/index.html\", \"t\": 1331923924, \"hc\": 1331922854, \"cy\": \"Naples\", \"ll\": [ 26.288799, -81.529999 ] }\\n',\n",
       " '{ \"a\": \"Mozilla\\\\/5.0 (Macintosh; Intel Mac OS X 10_6_6) AppleWebKit\\\\/535.11 (KHTML, like Gecko) Chrome\\\\/17.0.963.79 Safari\\\\/535.11\", \"c\": \"US\", \"nk\": 1, \"tz\": \"America\\\\/New_York\", \"gr\": \"NY\", \"g\": \"vNJS4H\", \"h\": \"u0uD9q\", \"l\": \"o_4us71ccioa\", \"al\": \"en-US,en;q=0.8\", \"hh\": \"1.usa.gov\", \"r\": \"direct\", \"u\": \"https:\\\\/\\\\/www.nysdot.gov\\\\/rexdesign\\\\/design\\\\/community.gif\", \"t\": 1331923925, \"hc\": 1319563556, \"cy\": \"White Plains\", \"ll\": [ 41.029099, -73.758003 ] }\\n',\n",
       " '{ \"a\": \"Opera\\\\/9.80 (Windows NT 5.1; U; ru) Presto\\\\/2.10.229 Version\\\\/11.61\", \"c\": \"RU\", \"nk\": 0, \"tz\": \"Europe\\\\/Moscow\", \"gr\": \"66\", \"g\": \"Ch5wd\", \"h\": \"FOjduY\", \"l\": \"tweetdeckapi\", \"al\": \"ru-RU,ru;q=0.9,en;q=0.8\", \"hh\": \"1.usa.gov\", \"r\": \"direct\", \"u\": \"https:\\\\/\\\\/www.cia.gov\\\\/library\\\\/publications\\\\/world-leaders-1\\\\/index.html\", \"t\": 1331923927, \"hc\": 1331923660, \"cy\": \"Saint Petersburg\", \"ll\": [ 59.894402, 30.264200 ] }\\n',\n",
       " '{ \"a\": \"Mozilla\\\\/4.0 (compatible; MSIE 5.5; Windows NT 5.0)\", \"c\": null, \"nk\": 0, \"tz\": \"\", \"g\": \"jQT4Ct\", \"h\": \"kruyJj\", \"l\": \"tweetdeckapi\", \"hh\": \"1.usa.gov\", \"r\": \"direct\", \"u\": \"http:\\\\/\\\\/alexander.senate.gov\\\\/public\\\\/index.cfm?p=PressReleases&ContentRecord_id=7781adf3-b403-4aa0-8ae3-36a65926e217&ContentType_id=778be7e0-0d5a-42b2-9352-09ed63cc4d66&Group_id=80d87631-7c25-4340-a97a-72cccdd8a658\", \"t\": 1331923928, \"hc\": 1308746957 }\\n',\n",
       " '{ \"a\": \"Mozilla\\\\/5.0 (Windows NT 6.1; WOW64) AppleWebKit\\\\/535.11 (KHTML, like Gecko) Chrome\\\\/17.0.963.79 Safari\\\\/535.11\", \"c\": \"US\", \"nk\": 0, \"tz\": \"America\\\\/Los_Angeles\", \"gr\": \"WA\", \"g\": \"xKUlqF\", \"h\": \"ynq3vT\", \"l\": \"kcnews\", \"al\": \"en-US,en;q=0.8\", \"hh\": \"1.usa.gov\", \"r\": \"http:\\\\/\\\\/t.co\\\\/PjjgyoU6\", \"u\": \"http:\\\\/\\\\/www.kingcounty.gov\\\\/property\\\\/RealEstateServices\\\\/CountyPropertyForSale.aspx\", \"t\": 1331923928, \"hc\": 1330731297, \"cy\": \"Seattle\", \"ll\": [ 47.634399, -122.342201 ] }\\n',\n",
       " '{ \"a\": \"Mozilla\\\\/5.0 (Windows NT 6.1; WOW64; rv:10.0.2) Gecko\\\\/20100101 Firefox\\\\/10.0.2\", \"c\": \"US\", \"nk\": 1, \"tz\": \"America\\\\/Chicago\", \"gr\": \"TX\", \"g\": \"vNJS4H\", \"h\": \"u0uD9q\", \"l\": \"o_4us71ccioa\", \"al\": \"en-us,en;q=0.5\", \"hh\": \"1.usa.gov\", \"r\": \"direct\", \"u\": \"https:\\\\/\\\\/www.nysdot.gov\\\\/rexdesign\\\\/design\\\\/community.gif\", \"t\": 1331923928, \"hc\": 1319563556, \"cy\": \"Fort Worth\", \"ll\": [ 32.867298, -97.248596 ] }\\n',\n",
       " '{ \"a\": \"Mozilla\\\\/5.0 (Macintosh; Intel Mac OS X 10_7_3) AppleWebKit\\\\/535.11 (KHTML, like Gecko) Chrome\\\\/17.0.963.79 Safari\\\\/535.11\", \"c\": \"ES\", \"nk\": 0, \"tz\": \"Europe\\\\/Madrid\", \"gr\": \"60\", \"g\": \"wcndER\", \"h\": \"zkpJBR\", \"l\": \"bnjacobs\", \"al\": \"ca-ES,ca;q=0.8\", \"hh\": \"1.usa.gov\", \"r\": \"http:\\\\/\\\\/www.facebook.com\\\\/l.php?u=http%3A%2F%2F1.usa.gov%2FzkpJBR&h=JAQHFYo_8AQGk57GkbQwufknj0bwwVA3sQ9pADUAG0IUwZA\", \"u\": \"http:\\\\/\\\\/www.nasa.gov\\\\/mission_pages\\\\/nustar\\\\/main\\\\/index.html\", \"t\": 1331923932, \"hc\": 1331922854, \"cy\": \"Valencia\", \"ll\": [ 39.466702, -0.366700 ] }\\n',\n",
       " '{ \"a\": \"Mozilla\\\\/5.0 (Windows; U; Windows NT 6.1; en-US; rv:1.9.2.27) Gecko\\\\/20120216 Firefox\\\\/3.6.27 GTB7.1\", \"c\": null, \"nk\": 1, \"tz\": \"\", \"g\": \"vNJS4H\", \"h\": \"u0uD9q\", \"l\": \"o_4us71ccioa\", \"al\": \"en-us,en;q=0.5\", \"hh\": \"1.usa.gov\", \"r\": \"direct\", \"u\": \"https:\\\\/\\\\/www.nysdot.gov\\\\/rexdesign\\\\/design\\\\/community.gif\", \"t\": 1331923933, \"hc\": 1319563556 }\\n',\n",
       " '{ \"a\": \"Mozilla\\\\/5.0 (iPhone; CPU iPhone OS 5_1 like Mac OS X) AppleWebKit\\\\/534.46 (KHTML, like Gecko) Mobile\\\\/9B179 Twitter for iPhone\", \"c\": \"MX\", \"nk\": 0, \"tz\": \"America\\\\/Monterrey\", \"gr\": \"19\", \"g\": \"zCaLwp\", \"h\": \"zFWLOj\", \"l\": \"tweetdeckapi\", \"al\": \"en-us\", \"hh\": \"1.usa.gov\", \"r\": \"https:\\\\/\\\\/twitter.com\\\\/pepelobo78\\\\/status\\\\/180727462127341568\", \"u\": \"http:\\\\/\\\\/apod.nasa.gov\\\\/apod\\\\/ap120312.html\", \"t\": 1331923933, \"hc\": 1331530604, \"cy\": \"Monterrey\", \"ll\": [ 25.666700, -100.316704 ] }\\n',\n",
       " '{ \"a\": \"Mozilla\\\\/4.0 (compatible; MSIE 8.0; Windows NT 5.1; Trident\\\\/4.0)\", \"c\": \"US\", \"nk\": 0, \"tz\": \"America\\\\/Chicago\", \"gr\": \"IL\", \"g\": \"yH46kj\", \"h\": \"yH46kj\", \"l\": \"bitly\", \"al\": \"en-us\", \"hh\": \"1.usa.gov\", \"r\": \"http:\\\\/\\\\/messages.finance.yahoo.com\\\\/Stocks_%28A_to_Z%29\\\\/Stocks_T\\\\/threadview?m=tm&bn=22756&tid=53109&mid=53109&tof=2&frt=2\", \"u\": \"http:\\\\/\\\\/www.fda.gov\\\\/downloads\\\\/Drugs\\\\/GuidanceComplianceRegulatoryInformation\\\\/EnforcementActivitiesbyFDA\\\\/WarningLettersandNoticeofViolationLetterstoPharmaceuticalCompanies\\\\/UCM296204.pdf\", \"t\": 1331923933, \"hc\": 1331911474, \"cy\": \"Chicago\", \"ll\": [ 41.867500, -87.674400 ] }\\n',\n",
       " '{ \"a\": \"Mozilla\\\\/5.0 (iPad; U; CPU OS 4_3_3 like Mac OS X; en-us) AppleWebKit\\\\/533.17.9 (KHTML, like Gecko) Version\\\\/5.0.2 Mobile\\\\/8J2 Safari\\\\/6533.18.5\", \"c\": \"US\", \"nk\": 0, \"tz\": \"America\\\\/New_York\", \"gr\": \"GA\", \"g\": \"vNJS4H\", \"h\": \"u0uD9q\", \"l\": \"o_4us71ccioa\", \"al\": \"en-us\", \"hh\": \"1.usa.gov\", \"r\": \"direct\", \"u\": \"https:\\\\/\\\\/www.nysdot.gov\\\\/rexdesign\\\\/design\\\\/community.gif\", \"t\": 1331923934, \"hc\": 1319563556, \"cy\": \"Richland\", \"ll\": [ 32.094501, -84.657997 ] }\\n',\n",
       " '{ \"a\": \"Mozilla\\\\/5.0 (Macintosh; Intel Mac OS X 10_6_6) AppleWebKit\\\\/535.11 (KHTML, like Gecko) Chrome\\\\/17.0.963.79 Safari\\\\/535.11\", \"c\": \"US\", \"nk\": 1, \"tz\": \"America\\\\/New_York\", \"gr\": \"NY\", \"g\": \"vNJS4H\", \"h\": \"u0uD9q\", \"l\": \"o_4us71ccioa\", \"al\": \"en-US,en;q=0.8\", \"hh\": \"1.usa.gov\", \"r\": \"direct\", \"u\": \"https:\\\\/\\\\/www.nysdot.gov\\\\/rexdesign\\\\/design\\\\/community.gif\", \"t\": 1331923936, \"hc\": 1319563556, \"cy\": \"White Plains\", \"ll\": [ 41.029099, -73.758003 ] }\\n',\n",
       " '{ \"a\": \"Mozilla\\\\/5.0 (Macintosh; Intel Mac OS X 10_6_8) AppleWebKit\\\\/534.52.7 (KHTML, like Gecko) Version\\\\/5.1.2 Safari\\\\/534.52.7\", \"c\": \"US\", \"nk\": 1, \"tz\": \"America\\\\/Chicago\", \"gr\": \"IL\", \"g\": \"vNJS4H\", \"h\": \"u0uD9q\", \"l\": \"o_4us71ccioa\", \"al\": \"en-us\", \"hh\": \"1.usa.gov\", \"r\": \"direct\", \"u\": \"https:\\\\/\\\\/www.nysdot.gov\\\\/rexdesign\\\\/design\\\\/community.gif\", \"t\": 1331923939, \"hc\": 1319563556, \"cy\": \"Schaumburg\", \"ll\": [ 42.046299, -88.116898 ] }\\n',\n",
       " '{ \"a\": \"Mozilla\\\\/4.0 (compatible; MSIE 8.0; Windows NT 6.1; Trident\\\\/4.0; SLCC2; .NET CLR 2.0.50727; .NET CLR 3.5.30729; .NET CLR 3.0.30729; Media Center PC 6.0; .NET4.0C; .NET4.0E)\", \"c\": null, \"nk\": 0, \"tz\": \"\", \"g\": \"2rOUYc\", \"h\": \"2rOUYc\", \"l\": \"bitly\", \"al\": \"en-US\", \"hh\": \"1.usa.gov\", \"r\": \"direct\", \"u\": \"http:\\\\/\\\\/toxtown.nlm.nih.gov\\\\/index.php\", \"t\": 1331923940, \"hc\": 1255769846 }\\n',\n",
       " '{ \"a\": \"Mozilla\\\\/4.0 (compatible; MSIE 8.0; Windows NT 5.1; Trident\\\\/4.0; GTB6.3; .NET CLR 1.0.3705; .NET CLR 1.1.4322; .NET CLR 2.0.50727; .NET CLR 3.0.4506.2152; .NET CLR 3.5.30729)\", \"c\": \"JP\", \"nk\": 1, \"tz\": \"Asia\\\\/Tokyo\", \"gr\": \"07\", \"g\": \"ASyLv\", \"h\": \"172o1K\", \"l\": \"addthis\", \"al\": \"ja\", \"hh\": \"bit.ly\", \"r\": \"http:\\\\/\\\\/togetter.com\\\\/li\\\\/39380\", \"u\": \"http:\\\\/\\\\/www.navy.mil\\\\/view_single.asp?id=72664\", \"t\": 1331923942, \"hc\": 1245163753, \"cy\": \"Nogata\", \"ll\": [ 33.733299, 130.733307 ] }\\n',\n",
       " '{ \"a\": \"Mozilla\\\\/4.0 (compatible; MSIE 8.0; Windows NT 5.1; Trident\\\\/4.0; .NET CLR 2.0.50727; .NET CLR 3.0.4506.2152; .NET CLR 3.5.30729)\", \"c\": \"RU\", \"nk\": 0, \"tz\": \"Europe\\\\/Moscow\", \"gr\": \"48\", \"g\": \"16e1jo\", \"h\": \"dJY67O\", \"l\": \"tmartin\", \"al\": \"ru\", \"hh\": \"prks.org\", \"r\": \"http:\\\\/\\\\/yandex.ru\\\\/yandsearch?text=prks.org&lr=213\", \"u\": \"http:\\\\/\\\\/www.nps.gov\\\\/getaways\\\\/\", \"t\": 1331923944, \"hc\": 1301481936, \"cy\": \"Moscow\", \"ll\": [ 55.752201, 37.615601 ] }\\n',\n",
       " '{ \"a\": \"BlackBerry9300\\\\/5.0.0.997 Profile\\\\/MIDP-2.1 Configuration\\\\/CLDC-1.1 VendorID\\\\/136\", \"c\": \"MX\", \"nk\": 0, \"tz\": \"America\\\\/Mexico_City\", \"gr\": \"09\", \"g\": \"wcndER\", \"h\": \"zkpJBR\", \"l\": \"bnjacobs\", \"al\": \"es\", \"hh\": \"1.usa.gov\", \"r\": \"direct\", \"u\": \"http:\\\\/\\\\/www.nasa.gov\\\\/mission_pages\\\\/nustar\\\\/main\\\\/index.html\", \"t\": 1331923944, \"hc\": 1331922854, \"cy\": \"Mexico\", \"ll\": [ 19.434200, -99.138603 ] }\\n',\n",
       " '{ \"a\": \"Mozilla\\\\/5.0 (Windows NT 6.1; WOW64; rv:10.0.2) Gecko\\\\/20100101 Firefox\\\\/10.0.2\", \"c\": \"US\", \"nk\": 1, \"tz\": \"America\\\\/Los_Angeles\", \"gr\": \"CA\", \"g\": \"vNJS4H\", \"h\": \"u0uD9q\", \"l\": \"o_4us71ccioa\", \"al\": \"en-us,en;q=0.5\", \"hh\": \"1.usa.gov\", \"r\": \"direct\", \"u\": \"https:\\\\/\\\\/www.nysdot.gov\\\\/rexdesign\\\\/design\\\\/community.gif\", \"t\": 1331923949, \"hc\": 1319563556, \"cy\": \"Palo Alto\", \"ll\": [ 37.376202, -122.182602 ] }\\n',\n",
       " '{ \"a\": \"BlackBerry9630\\\\/5.0.0.975 Profile\\\\/MIDP-2.1 Configuration\\\\/CLDC-1.1 VendorID\\\\/105\", \"c\": null, \"nk\": 1, \"tz\": \"\", \"g\": \"wcndER\", \"h\": \"zkpJBR\", \"l\": \"bnjacobs\", \"al\": \"en-US,en;q=0.5\", \"hh\": \"bit.ly\", \"r\": \"direct\", \"u\": \"http:\\\\/\\\\/www.nasa.gov\\\\/mission_pages\\\\/nustar\\\\/main\\\\/index.html\", \"t\": 1331923949, \"hc\": 1331922854 }\\n',\n",
       " '{\"_heartbeat_\":1331923951}\\n',\n",
       " '{ \"a\": \"Mozilla\\\\/5.0 (Linux; U; Android 2.3.3; zh-hk; GT-I9100 Build\\\\/GINGERBREAD) AppleWebKit\\\\/533.1 (KHTML, like Gecko) Version\\\\/4.0 Mobile Safari\\\\/533.1\", \"c\": \"HK\", \"nk\": 1, \"tz\": \"Asia\\\\/Hong_Kong\", \"gr\": \"00\", \"g\": \"XdUNr\", \"h\": \"qWkgbq\", \"l\": \"walkeryuen\", \"al\": \"zh-HK, en-US\", \"hh\": \"j.mp\", \"r\": \"direct\", \"u\": \"http:\\\\/\\\\/www.usno.navy.mil\\\\/NOOC\\\\/nmfc-ph\\\\/RSS\\\\/jtwc\\\\/ab\\\\/abpwsair.jpg\", \"t\": 1331923951, \"hc\": 1317318039, \"cy\": \"Central District\", \"ll\": [ 22.283300, 114.150002 ] }\\n',\n",
       " '{ \"a\": \"Mozilla\\\\/5.0 (BlackBerry; U; BlackBerry 9650; en-US) AppleWebKit\\\\/534.8+ (KHTML, like Gecko) Version\\\\/6.0.0.719 Mobile Safari\\\\/534.8+\", \"c\": null, \"nk\": 0, \"tz\": \"\", \"g\": \"xKUlqF\", \"h\": \"ynq3vT\", \"l\": \"kcnews\", \"al\": \"en-US,en;q=0.5\", \"hh\": \"1.usa.gov\", \"r\": \"http:\\\\/\\\\/t.co\\\\/PjjgyoU6\", \"u\": \"http:\\\\/\\\\/www.kingcounty.gov\\\\/property\\\\/RealEstateServices\\\\/CountyPropertyForSale.aspx\", \"t\": 1331923951, \"hc\": 1330731297 }\\n',\n",
       " '{ \"a\": \"Mozilla\\\\/5.0 (Windows NT 6.1; WOW64) AppleWebKit\\\\/535.11 (KHTML, like Gecko) Chrome\\\\/17.0.963.79 Safari\\\\/535.11\", \"c\": \"US\", \"nk\": 0, \"tz\": \"America\\\\/New_York\", \"gr\": \"MI\", \"g\": \"wcndER\", \"h\": \"zkpJBR\", \"l\": \"bnjacobs\", \"al\": \"en-US,en;q=0.8\", \"hh\": \"1.usa.gov\", \"r\": \"http:\\\\/\\\\/www.facebook.com\\\\/l.php?u=http%3A%2F%2F1.usa.gov%2FzkpJBR&h=jAQHbQu6ZAQFF8vq3O6kouw1nmcQY_9_QVU8V7uB8ZRPqTg\", \"u\": \"http:\\\\/\\\\/www.nasa.gov\\\\/mission_pages\\\\/nustar\\\\/main\\\\/index.html\", \"t\": 1331923951, \"hc\": 1331922854, \"cy\": \"Muskegon\", \"ll\": [ 43.227100, -86.224098 ] }\\n',\n",
       " '{ \"a\": \"Mozilla\\\\/4.0 (compatible; MSIE 8.0; Windows NT 6.1; WOW64; Trident\\\\/4.0; SLCC2; .NET CLR 2.0.50727; .NET CLR 3.5.30729; .NET CLR 3.0.30729; .NET4.0C; .NET4.0E; InfoPath.3)\", \"c\": \"US\", \"nk\": 1, \"tz\": \"America\\\\/New_York\", \"gr\": \"DC\", \"g\": \"xxr3Qb\", \"h\": \"xxr3Qb\", \"l\": \"bitly\", \"al\": \"en-US\", \"hh\": \"1.usa.gov\", \"r\": \"http:\\\\/\\\\/t.co\\\\/03elZC4Q\", \"u\": \"http:\\\\/\\\\/boxer.senate.gov\\\\/en\\\\/press\\\\/releases\\\\/031612.cfm\", \"t\": 1331923950, \"hc\": 1331919941, \"cy\": \"Washington\", \"ll\": [ 38.900700, -77.043098 ] }\\n',\n",
       " '{ \"a\": \"Mozilla\\\\/5.0 (X11; Linux x86_64) AppleWebKit\\\\/535.11 (KHTML, like Gecko) Ubuntu\\\\/12.04 Chromium\\\\/17.0.963.79 Chrome\\\\/17.0.963.79 Safari\\\\/535.11\", \"c\": \"BR\", \"nk\": 0, \"tz\": \"America\\\\/Sao_Paulo\", \"gr\": \"27\", \"g\": \"wcndER\", \"h\": \"zkpJBR\", \"l\": \"bnjacobs\", \"al\": \"pt-BR,pt;q=0.8,en-US;q=0.6,en;q=0.4\", \"hh\": \"1.usa.gov\", \"r\": \"direct\", \"u\": \"http:\\\\/\\\\/www.nasa.gov\\\\/mission_pages\\\\/nustar\\\\/main\\\\/index.html\", \"t\": 1331923953, \"hc\": 1331922854, \"cy\": \"Cruzeiro\", \"ll\": [ -22.566700, -44.966702 ] }\\n',\n",
       " '{ \"a\": \"Mozilla\\\\/5.0 (Windows; U; Windows NT 6.1; en-US; rv:1.9.2.24) Gecko\\\\/20111103 Firefox\\\\/3.6.24\", \"c\": \"US\", \"nk\": 1, \"tz\": \"America\\\\/Los_Angeles\", \"gr\": \"CA\", \"g\": \"vNJS4H\", \"h\": \"u0uD9q\", \"l\": \"o_4us71ccioa\", \"al\": \"en-us,en;q=0.5\", \"hh\": \"1.usa.gov\", \"r\": \"direct\", \"u\": \"https:\\\\/\\\\/www.nysdot.gov\\\\/rexdesign\\\\/design\\\\/community.gif\", \"t\": 1331923952, \"hc\": 1319563556, \"cy\": \"Palo Alto\", \"ll\": [ 37.376202, -122.182602 ] }\\n',\n",
       " '{ \"a\": \"Mozilla\\\\/5.0 (Windows NT 5.1; rv:9.0.1) Gecko\\\\/20100101 Firefox\\\\/9.0.1\", \"c\": \"US\", \"nk\": 0, \"tz\": \"America\\\\/New_York\", \"gr\": \"MA\", \"g\": \"xhWv7i\", \"h\": \"Aa8WL8\", \"l\": \"tweetdeckapi\", \"al\": \"en-us,en;q=0.5\", \"hh\": \"1.usa.gov\", \"r\": \"direct\", \"u\": \"http:\\\\/\\\\/www.cityofboston.gov\\\\/Images_Documents\\\\/2012 Live Lottery Schedule  Updated_tcm3-31256.pdf\", \"t\": 1331923953, \"hc\": 1331907691, \"cy\": \"Brighton\", \"ll\": [ 42.348400, -71.155098 ] }\\n',\n",
       " '{ \"a\": \"Mozilla\\\\/5.0 (Linux; U; Android 2.3.3; zh-hk; GT-I9100 Build\\\\/GINGERBREAD) AppleWebKit\\\\/533.1 (KHTML, like Gecko) Version\\\\/4.0 Mobile Safari\\\\/533.1\", \"c\": \"HK\", \"nk\": 1, \"tz\": \"Asia\\\\/Hong_Kong\", \"gr\": \"00\", \"g\": \"nQvgJp\", \"h\": \"rtrrth\", \"l\": \"walkeryuen\", \"al\": \"zh-HK, en-US\", \"hh\": \"j.mp\", \"r\": \"direct\", \"u\": \"http:\\\\/\\\\/www.ssd.noaa.gov\\\\/PS\\\\/TROP\\\\/TCFP\\\\/data\\\\/current\\\\/mtloopfpr17.png\", \"t\": 1331923952, \"hc\": 1317318030, \"cy\": \"Central District\", \"ll\": [ 22.283300, 114.150002 ] }\\n',\n",
       " '{ \"a\": \"Mozilla\\\\/5.0 (Windows; U; Windows NT 6.1; en-US; rv:1.9.2.24) Gecko\\\\/20111103 Firefox\\\\/3.6.24\", \"c\": \"US\", \"nk\": 1, \"tz\": \"America\\\\/Los_Angeles\", \"gr\": \"CA\", \"g\": \"vNJS4H\", \"h\": \"u0uD9q\", \"l\": \"o_4us71ccioa\", \"al\": \"en-us,en;q=0.5\", \"hh\": \"1.usa.gov\", \"r\": \"direct\", \"u\": \"https:\\\\/\\\\/www.nysdot.gov\\\\/rexdesign\\\\/design\\\\/community.gif\", \"t\": 1331923953, \"hc\": 1319563556, \"cy\": \"Palo Alto\", \"ll\": [ 37.376202, -122.182602 ] }\\n',\n",
       " '{ \"a\": \"Mozilla\\\\/5.0 (compatible; MSIE 9.0; Windows NT 6.1; Trident\\\\/5.0)\", \"c\": \"US\", \"nk\": 1, \"tz\": \"America\\\\/New_York\", \"gr\": \"NY\", \"g\": \"wMlyKV\", \"h\": \"wMlyKV\", \"l\": \"bitly\", \"al\": \"en-US\", \"hh\": \"1.usa.gov\", \"r\": \"http:\\\\/\\\\/www.pia.org\\\\/COMM\\\\/epubs\\\\/htmlreporter\\\\/20120316CT\\\\/reporter.html\", \"u\": \"http:\\\\/\\\\/www.cga.ct.gov\\\\/2012\\\\/LABdata\\\\/chr\\\\/2012LAB00228-R001400-CHR.htm\", \"t\": 1331923954, \"hc\": 1331914449, \"cy\": \"Albany\", \"ll\": [ 42.716099, -73.815804 ] }\\n',\n",
       " '{ \"a\": \"Mozilla\\\\/5.0 (Windows NT 6.1; rv:10.0.2) Gecko\\\\/20100101 Firefox\\\\/10.0.2\", \"c\": \"US\", \"nk\": 1, \"tz\": \"America\\\\/New_York\", \"gr\": \"GA\", \"g\": \"vNJS4H\", \"h\": \"u0uD9q\", \"l\": \"o_4us71ccioa\", \"al\": \"en-us,en;q=0.5\", \"hh\": \"1.usa.gov\", \"r\": \"direct\", \"u\": \"https:\\\\/\\\\/www.nysdot.gov\\\\/rexdesign\\\\/design\\\\/community.gif\", \"t\": 1331923952, \"hc\": 1319563556, \"cy\": \"Acworth\", \"ll\": [ 34.026402, -84.699799 ] }\\n',\n",
       " '{ \"a\": \"Mozilla\\\\/5.0 (Windows NT 6.1; WOW64) AppleWebKit\\\\/535.11 (KHTML, like Gecko) Chrome\\\\/17.0.963.79 Safari\\\\/535.11\", \"c\": \"US\", \"nk\": 1, \"tz\": \"America\\\\/Los_Angeles\", \"gr\": \"CA\", \"g\": \"vNJS4H\", \"h\": \"u0uD9q\", \"l\": \"o_4us71ccioa\", \"al\": \"en-US,en;q=0.8\", \"hh\": \"1.usa.gov\", \"r\": \"direct\", \"u\": \"https:\\\\/\\\\/www.nysdot.gov\\\\/rexdesign\\\\/design\\\\/community.gif\", \"t\": 1331923954, \"hc\": 1319563556, \"cy\": \"Palo Alto\", \"ll\": [ 37.376202, -122.182602 ] }\\n',\n",
       " '{ \"a\": \"Mozilla\\\\/5.0 (Windows NT 6.1; WOW64) AppleWebKit\\\\/535.11 (KHTML, like Gecko) Chrome\\\\/17.0.963.79 Safari\\\\/535.11\", \"c\": \"GR\", \"nk\": 0, \"tz\": \"Europe\\\\/Athens\", \"gr\": \"13\", \"g\": \"wcndER\", \"h\": \"zkpJBR\", \"l\": \"bnjacobs\", \"al\": \"el-GR,el;q=0.8\", \"hh\": \"1.usa.gov\", \"r\": \"http:\\\\/\\\\/www.facebook.com\\\\/l.php?u=http%3A%2F%2F1.usa.gov%2FzkpJBR&h=MAQEkWvHAAQGW_9J_UWnFNb0H7CGMle8ZL6hZHbT_i4XkXg\", \"u\": \"http:\\\\/\\\\/www.nasa.gov\\\\/mission_pages\\\\/nustar\\\\/main\\\\/index.html\", \"t\": 1331923955, \"hc\": 1331922854, \"cy\": \"Thessalon\", \"ll\": [ 40.640301, 22.943899 ] }\\n',\n",
       " '{ \"a\": \"Mozilla\\\\/4.0 (compatible; MSIE 8.0; Windows NT 5.1; Trident\\\\/4.0; .NET CLR 2.0.50727; .NET CLR 3.0.4506.2152; .NET CLR 3.5.30729; InfoPath.3)\", \"c\": \"US\", \"nk\": 0, \"tz\": \"America\\\\/Los_Angeles\", \"gr\": \"WA\", \"g\": \"xKUlqF\", \"h\": \"ynq3vT\", \"l\": \"kcnews\", \"al\": \"en-us\", \"hh\": \"1.usa.gov\", \"r\": \"http:\\\\/\\\\/t.co\\\\/PjjgyoU6\", \"u\": \"http:\\\\/\\\\/www.kingcounty.gov\\\\/property\\\\/RealEstateServices\\\\/CountyPropertyForSale.aspx\", \"t\": 1331923958, \"hc\": 1330731297, \"cy\": \"Gig Harbor\", \"ll\": [ 47.343498, -122.647400 ] }\\n',\n",
       " '{ \"a\": \"Mozilla\\\\/4.0 (compatible; MSIE 8.0; Windows NT 5.1; Trident\\\\/4.0; .NET CLR 2.0.50727; .NET CLR 1.1.4322; InfoPath.1; .NET CLR 3.0.4506.2152; .NET CLR 3.5.30729)\", \"c\": \"US\", \"nk\": 0, \"tz\": \"America\\\\/New_York\", \"gr\": \"VA\", \"g\": \"xVTtSE\", \"h\": \"yeE6VR\", \"l\": \"nasatwitter\", \"al\": \"en-us\", \"hh\": \"go.nasa.gov\", \"r\": \"http:\\\\/\\\\/www.facebook.com\\\\/l.php?u=http%3A%2F%2Fgo.nasa.gov%2FyeE6VR&h=MAQErWvatAQGUld79li7q8e3WWYj9bNTtNFvAgAHoTad4_g\", \"u\": \"http:\\\\/\\\\/www.nasa.gov\\\\/connect\\\\/social\\\\/index.html\", \"t\": 1331923958, \"hc\": 1331905829, \"cy\": \"Stafford\", \"ll\": [ 38.451900, -77.442101 ] }\\n',\n",
       " '{ \"a\": \"Mozilla\\\\/5.0 (Macintosh; Intel Mac OS X 10_6_8) AppleWebKit\\\\/535.11 (KHTML, like Gecko) Chrome\\\\/17.0.963.79 Safari\\\\/535.11\", \"c\": \"CZ\", \"nk\": 0, \"tz\": \"Europe\\\\/Prague\", \"gr\": \"78\", \"g\": \"xXlxoA\", \"h\": \"xiNllc\", \"l\": \"addthis\", \"al\": \"en-US,en;q=0.8\", \"hh\": \"1.usa.gov\", \"r\": \"http:\\\\/\\\\/t.co\\\\/g6pmXaOb\", \"u\": \"http:\\\\/\\\\/www.stripes.com\\\\/news\\\\/panetta-plane-incident-more-serious-that-first-disclosed-1.171776?localLinksEnabled=false&utm_source=feedburner&utm_medium=feed&utm_campaign=Feed:+starsandstripes\\\\/general+(Stars+and+Stripes)&utm_content=Google+Reader#.T2MOevCrWvg.twitter\", \"t\": 1331923959, \"hc\": 1331891835, \"cy\": \"Ceska\", \"ll\": [ 49.283298, 16.566700 ] }\\n',\n",
       " '{ \"a\": \"Mozilla\\\\/5.0 (Windows; U; Windows NT 6.1; en-US; rv:1.9.2.25) Gecko\\\\/20111212 Firefox\\\\/3.6.25\", \"c\": \"US\", \"nk\": 1, \"tz\": \"America\\\\/New_York\", \"gr\": \"PA\", \"g\": \"vNJS4H\", \"h\": \"u0uD9q\", \"l\": \"o_4us71ccioa\", \"al\": \"en-us,en;q=0.5\", \"hh\": \"1.usa.gov\", \"r\": \"direct\", \"u\": \"https:\\\\/\\\\/www.nysdot.gov\\\\/rexdesign\\\\/design\\\\/community.gif\", \"t\": 1331923959, \"hc\": 1319563556, \"cy\": \"Philadelphia\", \"ll\": [ 39.996799, -75.148499 ] }\\n',\n",
       " '{ \"a\": \"Mozilla\\\\/5.0 (Windows; U; Windows NT 6.1; en-US; rv:1.9.2.25) Gecko\\\\/20111212 Firefox\\\\/3.6.25\", \"c\": \"US\", \"nk\": 1, \"tz\": \"America\\\\/New_York\", \"gr\": \"PA\", \"g\": \"vNJS4H\", \"h\": \"u0uD9q\", \"l\": \"o_4us71ccioa\", \"al\": \"en-us,en;q=0.5\", \"hh\": \"1.usa.gov\", \"r\": \"direct\", \"u\": \"https:\\\\/\\\\/www.nysdot.gov\\\\/rexdesign\\\\/design\\\\/community.gif\", \"t\": 1331923959, \"hc\": 1319563556, \"cy\": \"Philadelphia\", \"ll\": [ 39.996799, -75.148499 ] }\\n',\n",
       " '{ \"a\": \"Mozilla\\\\/5.0 (compatible; MSIE 9.0; Windows NT 6.1; WOW64; Trident\\\\/5.0)\", \"c\": \"US\", \"nk\": 0, \"tz\": \"America\\\\/Los_Angeles\", \"gr\": \"WA\", \"g\": \"y7wGgq\", \"h\": \"zwlxab\", \"l\": \"americanactionnetwork\", \"al\": \"en-US\", \"hh\": \"1.usa.gov\", \"r\": \"http:\\\\/\\\\/t.co\\\\/ihUhQF1r\", \"u\": \"http:\\\\/\\\\/www.cbo.gov\\\\/publication\\\\/43083\", \"t\": 1331923960, \"hc\": 1331908890, \"cy\": \"Lynnwood\", \"ll\": [ 47.804901, -122.283302 ] }\\n',\n",
       " '{ \"a\": \"Mozilla\\\\/5.0 (Windows; U; Windows NT 6.1; en-US; rv:1.9.2.24) Gecko\\\\/20111103 Firefox\\\\/3.6.24\", \"c\": \"US\", \"nk\": 1, \"tz\": \"America\\\\/Los_Angeles\", \"gr\": \"CA\", \"g\": \"vNJS4H\", \"h\": \"u0uD9q\", \"l\": \"o_4us71ccioa\", \"al\": \"en-us,en;q=0.5\", \"hh\": \"1.usa.gov\", \"r\": \"direct\", \"u\": \"https:\\\\/\\\\/www.nysdot.gov\\\\/rexdesign\\\\/design\\\\/community.gif\", \"t\": 1331923961, \"hc\": 1319563556, \"cy\": \"Palo Alto\", \"ll\": [ 37.376202, -122.182602 ] }\\n',\n",
       " '{ \"a\": \"Mozilla\\\\/5.0 (Windows; U; Windows NT 6.1; en-US; rv:1.9.2.24) Gecko\\\\/20111103 Firefox\\\\/3.6.24\", \"c\": \"US\", \"nk\": 1, \"tz\": \"America\\\\/Los_Angeles\", \"gr\": \"CA\", \"g\": \"vNJS4H\", \"h\": \"u0uD9q\", \"l\": \"o_4us71ccioa\", \"al\": \"en-us,en;q=0.5\", \"hh\": \"1.usa.gov\", \"r\": \"direct\", \"u\": \"https:\\\\/\\\\/www.nysdot.gov\\\\/rexdesign\\\\/design\\\\/community.gif\", \"t\": 1331923961, \"hc\": 1319563556, \"cy\": \"Palo Alto\", \"ll\": [ 37.376202, -122.182602 ] }\\n',\n",
       " '{ \"a\": \"Mozilla\\\\/4.0 (compatible; MSIE 7.0; Windows NT 5.1; .NET CLR 1.1.4322; .NET CLR 2.0.50727; .NET CLR 3.0.4506.2152; .NET CLR 3.5.30729; InfoPath.2)\", \"c\": \"US\", \"nk\": 1, \"tz\": \"America\\\\/New_York\", \"gr\": \"NY\", \"g\": \"wsPOh6\", \"h\": \"z5mhGK\", \"l\": \"eparegion2\", \"al\": \"en-us\", \"hh\": \"1.usa.gov\", \"r\": \"http:\\\\/\\\\/t.co\\\\/29Sj0xfj\", \"u\": \"http:\\\\/\\\\/yosemite.epa.gov\\\\/opa\\\\/admpress.nsf\\\\/d10ed0d99d826b068525735900400c2a\\\\/e0c23898253d4371852579c3005b8363!OpenDocument\", \"t\": 1331923961, \"hc\": 1331923485, \"cy\": \"New York\", \"ll\": [ 40.713902, -74.007896 ] }\\n',\n",
       " '{ \"a\": \"Mozilla\\\\/5.0 (Windows; U; Windows NT 6.1; en-US; rv:1.9.2.24) Gecko\\\\/20111103 Firefox\\\\/3.6.24\", \"c\": \"US\", \"nk\": 1, \"tz\": \"America\\\\/Los_Angeles\", \"gr\": \"CA\", \"g\": \"vNJS4H\", \"h\": \"u0uD9q\", \"l\": \"o_4us71ccioa\", \"al\": \"en-us,en;q=0.5\", \"hh\": \"1.usa.gov\", \"r\": \"direct\", \"u\": \"https:\\\\/\\\\/www.nysdot.gov\\\\/rexdesign\\\\/design\\\\/community.gif\", \"t\": 1331923962, \"hc\": 1319563556, \"cy\": \"Palo Alto\", \"ll\": [ 37.376202, -122.182602 ] }\\n',\n",
       " '{ \"a\": \"Mozilla\\\\/5.0 (Windows; U; Windows NT 6.1; en-US; rv:1.9.2.24) Gecko\\\\/20111103 Firefox\\\\/3.6.24\", \"c\": \"US\", \"nk\": 1, \"tz\": \"America\\\\/Los_Angeles\", \"gr\": \"CA\", \"g\": \"vNJS4H\", \"h\": \"u0uD9q\", \"l\": \"o_4us71ccioa\", \"al\": \"en-us,en;q=0.5\", \"hh\": \"1.usa.gov\", \"r\": \"direct\", \"u\": \"https:\\\\/\\\\/www.nysdot.gov\\\\/rexdesign\\\\/design\\\\/community.gif\", \"t\": 1331923963, \"hc\": 1319563556, \"cy\": \"Palo Alto\", \"ll\": [ 37.376202, -122.182602 ] }\\n',\n",
       " '{ \"a\": \"Mozilla\\\\/5.0 (Windows NT 6.1; WOW64; rv:11.0) Gecko\\\\/20100101 Firefox\\\\/11.0\", \"c\": null, \"nk\": 0, \"tz\": \"\", \"g\": \"wcndER\", \"h\": \"zkpJBR\", \"l\": \"bnjacobs\", \"al\": \"en-gb,en;q=0.5\", \"hh\": \"1.usa.gov\", \"r\": \"direct\", \"u\": \"http:\\\\/\\\\/www.nasa.gov\\\\/mission_pages\\\\/nustar\\\\/main\\\\/index.html\", \"t\": 1331923961, \"hc\": 1331922854 }\\n',\n",
       " '{ \"a\": \"Mozilla\\\\/4.0 (compatible; MSIE 8.0; Windows NT 5.1; Trident\\\\/4.0; GTB6.3; .NET CLR 1.0.3705; .NET CLR 1.1.4322; .NET CLR 2.0.50727; .NET CLR 3.0.4506.2152; .NET CLR 3.5.30729)\", \"c\": \"JP\", \"nk\": 1, \"tz\": \"Asia\\\\/Tokyo\", \"gr\": \"07\", \"g\": \"Pe5WG\", \"h\": \"TU4tt\", \"l\": \"addthis\", \"al\": \"ja\", \"hh\": \"bit.ly\", \"r\": \"http:\\\\/\\\\/togetter.com\\\\/li\\\\/39380\", \"u\": \"http:\\\\/\\\\/www.navy.mil\\\\/view_single.asp?id=72633\", \"t\": 1331923964, \"hc\": 1245084193, \"cy\": \"Nogata\", \"ll\": [ 33.733299, 130.733307 ] }\\n',\n",
       " '{ \"a\": \"Mozilla\\\\/5.0 (Windows NT 5.1) AppleWebKit\\\\/535.11 (KHTML, like Gecko) Chrome\\\\/17.0.963.79 Safari\\\\/535.11\", \"c\": null, \"nk\": 0, \"tz\": \"\", \"g\": \"xuirHU\", \"h\": \"yZXewO\", \"l\": \"nasatwitter\", \"al\": \"en-US,en;q=0.8,zh-TW;q=0.6,zh;q=0.4\", \"hh\": \"go.nasa.gov\", \"r\": \"http:\\\\/\\\\/t.co\\\\/fEnqbzRR\", \"u\": \"http:\\\\/\\\\/www.nasa.gov\\\\/microgravity\\\\/\", \"t\": 1331923963, \"hc\": 1331219152 }\\n',\n",
       " '{ \"a\": \"Mozilla\\\\/6.0 (compatible; MSIE 7.01; Amiga-AWeb)\", \"c\": \"US\", \"nk\": 0, \"tz\": \"America\\\\/Los_Angeles\", \"gr\": \"WA\", \"g\": \"zsWGPr\", \"h\": \"AqLB5d\", \"l\": \"glimtwin\", \"hh\": \"1.usa.gov\", \"r\": \"direct\", \"u\": \"http:\\\\/\\\\/www.federalreserve.gov\\\\/newsevents\\\\/press\\\\/bcreg\\\\/bcreg20120313a1.pdf\", \"t\": 1331923964, \"hc\": 1331671166, \"cy\": \"Bellevue\", \"ll\": [ 47.615398, -122.210297 ] }\\n',\n",
       " '{ \"a\": \"Mozilla\\\\/5.0 (Windows; U; Windows NT 6.1; en-US; rv:1.9.2.24) Gecko\\\\/20111103 Firefox\\\\/3.6.24\", \"c\": \"US\", \"nk\": 1, \"tz\": \"America\\\\/Los_Angeles\", \"gr\": \"CA\", \"g\": \"vNJS4H\", \"h\": \"u0uD9q\", \"l\": \"o_4us71ccioa\", \"al\": \"en-us,en;q=0.5\", \"hh\": \"1.usa.gov\", \"r\": \"direct\", \"u\": \"https:\\\\/\\\\/www.nysdot.gov\\\\/rexdesign\\\\/design\\\\/community.gif\", \"t\": 1331923964, \"hc\": 1319563556, \"cy\": \"Palo Alto\", \"ll\": [ 37.376202, -122.182602 ] }\\n',\n",
       " '{ \"a\": \"Mozilla\\\\/5.0 (Windows; U; Windows NT 6.1; en-US; rv:1.9.2.24) Gecko\\\\/20111103 Firefox\\\\/3.6.24\", \"c\": \"US\", \"nk\": 1, \"tz\": \"America\\\\/Los_Angeles\", \"gr\": \"CA\", \"g\": \"vNJS4H\", \"h\": \"u0uD9q\", \"l\": \"o_4us71ccioa\", \"al\": \"en-us,en;q=0.5\", \"hh\": \"1.usa.gov\", \"r\": \"direct\", \"u\": \"https:\\\\/\\\\/www.nysdot.gov\\\\/rexdesign\\\\/design\\\\/community.gif\", \"t\": 1331923964, \"hc\": 1319563556, \"cy\": \"Palo Alto\", \"ll\": [ 37.376202, -122.182602 ] }\\n',\n",
       " '{ \"a\": \"Mozilla\\\\/5.0 (Windows NT 6.1; WOW64) AppleWebKit\\\\/535.11 (KHTML, like Gecko) Chrome\\\\/17.0.963.79 Safari\\\\/535.11\", \"c\": \"US\", \"nk\": 1, \"tz\": \"America\\\\/Los_Angeles\", \"gr\": \"CA\", \"g\": \"vNJS4H\", \"h\": \"u0uD9q\", \"l\": \"o_4us71ccioa\", \"al\": \"en-US,en;q=0.8\", \"hh\": \"1.usa.gov\", \"r\": \"direct\", \"u\": \"https:\\\\/\\\\/www.nysdot.gov\\\\/rexdesign\\\\/design\\\\/community.gif\", \"t\": 1331923965, \"hc\": 1319563556, \"cy\": \"Palo Alto\", \"ll\": [ 37.376202, -122.182602 ] }\\n',\n",
       " '{ \"a\": \"Mozilla\\\\/5.0 (Windows NT 6.1; WOW64) AppleWebKit\\\\/535.11 (KHTML, like Gecko) Chrome\\\\/17.0.963.79 Safari\\\\/535.11\", \"c\": \"US\", \"nk\": 1, \"tz\": \"America\\\\/New_York\", \"gr\": \"NY\", \"g\": \"vNJS4H\", \"h\": \"u0uD9q\", \"l\": \"o_4us71ccioa\", \"al\": \"en-US,en;q=0.8\", \"hh\": \"1.usa.gov\", \"r\": \"direct\", \"u\": \"https:\\\\/\\\\/www.nysdot.gov\\\\/rexdesign\\\\/design\\\\/community.gif\", \"t\": 1331923967, \"hc\": 1319563556, \"cy\": \"White Plains\", \"ll\": [ 41.029099, -73.758003 ] }\\n',\n",
       " '{ \"a\": \"Mozilla\\\\/4.0 (compatible; MSIE 8.0; Windows NT 6.1; Trident\\\\/4.0; SLCC2; .NET CLR 2.0.50727; .NET CLR 3.5.30729; .NET CLR 3.0.30729; Media Center PC 6.0; .NET4.0C; .NET4.0E)\", \"c\": \"US\", \"nk\": 0, \"tz\": \"America\\\\/New_York\", \"gr\": \"GA\", \"g\": \"2rOUYc\", \"h\": \"2rOUYc\", \"l\": \"bitly\", \"al\": \"en-US\", \"hh\": \"bit.ly\", \"r\": \"direct\", \"u\": \"http:\\\\/\\\\/toxtown.nlm.nih.gov\\\\/index.php\", \"t\": 1331923966, \"hc\": 1255769846, \"cy\": \"Kennesaw\", \"ll\": [ 34.010399, -84.623901 ] }\\n',\n",
       " '{ \"a\": \"Mozilla\\\\/5.0 (iPhone; U; CPU iPhone OS 4_3_5 like Mac OS X; en-us) AppleWebKit\\\\/533.17.9 (KHTML, like Gecko) Mobile\\\\/8L1 Twitter for iPhone\", \"c\": \"US\", \"nk\": 1, \"tz\": \"America\\\\/Denver\", \"gr\": \"CO\", \"g\": \"ytQF9k\", \"h\": \"AubMqf\", \"l\": \"prevention\", \"al\": \"en-us\", \"hh\": \"1.usa.gov\", \"r\": \"direct\", \"u\": \"http:\\\\/\\\\/healthfinder.gov\\\\/prevention\\\\/ViewTopic.aspx?topicID=89&cnt=1&areaID=1\", \"t\": 1331923969, \"hc\": 1331555522, \"cy\": \"Denver\", \"ll\": [ 39.694801, -105.033600 ] }\\n',\n",
       " '{ \"a\": \"GoogleMaps\\\\/RochesterNY\", \"c\": \"US\", \"nk\": 0, \"tz\": \"America\\\\/Denver\", \"gr\": \"UT\", \"g\": \"mwszkS\", \"h\": \"mwszkS\", \"l\": \"bitly\", \"hh\": \"j.mp\", \"r\": \"http:\\\\/\\\\/www.AwareMap.com\\\\/\", \"u\": \"http:\\\\/\\\\/www.monroecounty.gov\\\\/etc\\\\/911\\\\/rss.php\", \"t\": 1331923967, \"hc\": 1308262393, \"cy\": \"Provo\", \"ll\": [ 40.218102, -111.613297 ] }\\n',\n",
       " '{ \"a\": \"Mozilla\\\\/5.0 (Windows NT 6.1; WOW64; rv:14.0) Gecko\\\\/20120316 Firefox\\\\/14.0a1\", \"c\": \"US\", \"nk\": 0, \"tz\": \"America\\\\/Chicago\", \"gr\": \"TX\", \"g\": \"wcndER\", \"h\": \"zkpJBR\", \"l\": \"bnjacobs\", \"al\": \"en-us,en;q=0.5\", \"hh\": \"1.usa.gov\", \"r\": \"http:\\\\/\\\\/www.facebook.com\\\\/\", \"u\": \"http:\\\\/\\\\/www.nasa.gov\\\\/mission_pages\\\\/nustar\\\\/main\\\\/index.html\", \"t\": 1331923970, \"hc\": 1331922854, \"cy\": \"Houston\", \"ll\": [ 29.587799, -95.224098 ] }\\n',\n",
       " '{ \"a\": \"Mozilla\\\\/5.0 (iPad; CPU OS 5_1 like Mac OS X) AppleWebKit\\\\/534.46 (KHTML, like Gecko) Version\\\\/5.1 Mobile\\\\/9B176 Safari\\\\/7534.48.3\", \"c\": null, \"nk\": 0, \"tz\": \"\", \"g\": \"vNJS4H\", \"h\": \"u0uD9q\", \"l\": \"o_4us71ccioa\", \"al\": \"en-us\", \"hh\": \"1.usa.gov\", \"r\": \"direct\", \"u\": \"https:\\\\/\\\\/www.nysdot.gov\\\\/rexdesign\\\\/design\\\\/community.gif\", \"t\": 1331923972, \"hc\": 1319563556 }\\n',\n",
       " '{ \"a\": \"Mozilla\\\\/4.0 (compatible; MSIE 8.0; Windows NT 5.1; Trident\\\\/4.0; GTB7.3; .NET CLR 1.1.4322; .NET4.0C)\", \"c\": \"US\", \"nk\": 0, \"tz\": \"America\\\\/New_York\", \"gr\": \"MA\", \"g\": \"9b6kNl\", \"h\": \"9b6kNl\", \"l\": \"bitly\", \"al\": \"en-us\", \"hh\": \"bit.ly\", \"r\": \"http:\\\\/\\\\/www.shrewsbury-ma.gov\\\\/selco\\\\/\", \"u\": \"http:\\\\/\\\\/www.shrewsbury-ma.gov\\\\/egov\\\\/gallery\\\\/134127368672998.png\", \"t\": 1331923972, \"hc\": 1273672411, \"cy\": \"Shrewsbury\", \"ll\": [ 42.286499, -71.714699 ] }\\n',\n",
       " '{ \"a\": \"Mozilla\\\\/4.0 (compatible; MSIE 8.0; Windows NT 5.1; Trident\\\\/4.0; GTB7.3; .NET CLR 1.1.4322; .NET4.0C)\", \"c\": \"US\", \"nk\": 0, \"tz\": \"America\\\\/New_York\", \"gr\": \"MA\", \"g\": \"axNK8c\", \"h\": \"axNK8c\", \"l\": \"bitly\", \"al\": \"en-us\", \"hh\": \"bit.ly\", \"r\": \"http:\\\\/\\\\/www.shrewsbury-ma.gov\\\\/selco\\\\/\", \"u\": \"http:\\\\/\\\\/www.shrewsbury-ma.gov\\\\/egov\\\\/gallery\\\\/134127368675393.png\", \"t\": 1331923972, \"hc\": 1273672506, \"cy\": \"Shrewsbury\", \"ll\": [ 42.286499, -71.714699 ] }\\n',\n",
       " '{ \"a\": \"Mozilla\\\\/5.0 (Windows NT 6.1; WOW64) AppleWebKit\\\\/535.11 (KHTML, like Gecko) Chrome\\\\/17.0.963.79 Safari\\\\/535.11\", \"c\": \"US\", \"nk\": 1, \"tz\": \"America\\\\/New_York\", \"gr\": \"FL\", \"g\": \"vNJS4H\", \"h\": \"u0uD9q\", \"l\": \"o_4us71ccioa\", \"al\": \"en-US,en;q=0.8\", \"hh\": \"1.usa.gov\", \"r\": \"direct\", \"u\": \"https:\\\\/\\\\/www.nysdot.gov\\\\/rexdesign\\\\/design\\\\/community.gif\", \"t\": 1331923972, \"hc\": 1319563556, \"cy\": \"Hallandale\", \"ll\": [ 25.986300, -80.151802 ] }\\n',\n",
       " '{ \"a\": \"Mozilla\\\\/5.0 (Windows; U; Windows NT 6.1; en-US; rv:1.9.2.27) Gecko\\\\/20120216 Firefox\\\\/3.6.27\", \"c\": \"US\", \"nk\": 1, \"tz\": \"America\\\\/Los_Angeles\", \"gr\": \"CA\", \"g\": \"vNJS4H\", \"h\": \"u0uD9q\", \"l\": \"o_4us71ccioa\", \"al\": \"en-us,en;q=0.5\", \"hh\": \"1.usa.gov\", \"r\": \"direct\", \"u\": \"https:\\\\/\\\\/www.nysdot.gov\\\\/rexdesign\\\\/design\\\\/community.gif\", \"t\": 1331923973, \"hc\": 1319563556, \"cy\": \"Palo Alto\", \"ll\": [ 37.376202, -122.182602 ] }\\n',\n",
       " '{ \"a\": \"Mozilla\\\\/4.0 (compatible; MSIE 8.0; Windows NT 6.1; Trident\\\\/4.0; SLCC2; .NET CLR 2.0.50727; .NET CLR 3.5.30729; .NET CLR 3.0.30729; Media Center PC 6.0; .NET4.0C; .NET4.0E)\", \"c\": \"US\", \"nk\": 0, \"tz\": \"America\\\\/New_York\", \"gr\": \"GA\", \"g\": \"2rOUYc\", \"h\": \"2rOUYc\", \"l\": \"bitly\", \"al\": \"en-US\", \"hh\": \"1.usa.gov\", \"r\": \"direct\", \"u\": \"http:\\\\/\\\\/toxtown.nlm.nih.gov\\\\/index.php\", \"t\": 1331923973, \"hc\": 1255769846, \"cy\": \"Marietta\", \"ll\": [ 33.953201, -84.517700 ] }\\n',\n",
       " '{ \"a\": \"Mozilla\\\\/5.0 (Windows NT 5.1) AppleWebKit\\\\/535.11 (KHTML, like Gecko) Chrome\\\\/17.0.963.79 Safari\\\\/535.11\", \"c\": \"US\", \"nk\": 0, \"tz\": \"America\\\\/New_York\", \"gr\": \"FL\", \"g\": \"qtBmwx\", \"h\": \"qtBmwx\", \"l\": \"bitly\", \"al\": \"en-US,en;q=0.8\", \"hh\": \"1.usa.gov\", \"r\": \"http:\\\\/\\\\/us.mc1205.mail.yahoo.com\\\\/mc\\\\/showMessage;_ylc=X3oDMTBucmhobGR0BF9TAzM5ODMwMTAyNwRhYwNkZWxNc2dz?mid=1_690276_APBVimIAATL%2BTtY2WAW6HyV2A5M&fid=Inbox&sort=date&order=down&startMid=550&filterBy=&.rand=1996253857\", \"u\": \"http:\\\\/\\\\/www.nasa.gov\\\\/mission_pages\\\\/shuttle\\\\/shuttlemissions\\\\/sts135\\\\/news\\\\/landing.html\", \"t\": 1331923974, \"hc\": 1311037827, \"cy\": \"Orlando\", \"ll\": [ 28.503700, -81.330597 ] }\\n',\n",
       " '{ \"a\": \"Mozilla\\\\/5.0 (Windows NT 6.1; rv:11.0) Gecko\\\\/20100101 Firefox\\\\/11.0\", \"c\": \"US\", \"nk\": 1, \"tz\": \"America\\\\/New_York\", \"gr\": \"MD\", \"g\": \"vNJS4H\", \"h\": \"u0uD9q\", \"l\": \"o_4us71ccioa\", \"al\": \"en-us,en;q=0.5\", \"hh\": \"1.usa.gov\", \"r\": \"direct\", \"u\": \"https:\\\\/\\\\/www.nysdot.gov\\\\/rexdesign\\\\/design\\\\/community.gif\", \"t\": 1331923975, \"hc\": 1319563556, \"cy\": \"Laurel\", \"ll\": [ 39.096699, -76.877899 ] }\\n',\n",
       " '{ \"a\": \"Mozilla\\\\/5.0 (Windows NT 5.1) AppleWebKit\\\\/534.30 (KHTML, like Gecko) Chrome\\\\/12.0.742.100 Safari\\\\/534.30\", \"c\": null, \"nk\": 0, \"tz\": \"\", \"g\": \"wqGppe\", \"h\": \"A3r7z2\", \"l\": \"nasatwitter\", \"al\": \"en-US,en;q=0.8\", \"hh\": \"go.nasa.gov\", \"r\": \"http:\\\\/\\\\/www.facebook.com\\\\/l.php?u=http%3A%2F%2Fgo.nasa.gov%2FA3r7z2%3Fref%3Dnf&h=vAQF0RcA3AQGR1ZApWbqFQuvT8ShrOWgS1gidmyp51w1RMQ\", \"u\": \"http:\\\\/\\\\/www.nasa.gov\\\\/mission_pages\\\\/sunearth\\\\/missions\\\\/atrex-launch.html\", \"t\": 1331923977, \"hc\": 1331749429 }\\n',\n",
       " '{ \"a\": \"Mozilla\\\\/5.0 (compatible; MSIE 9.0; Windows NT 6.1; WOW64; Trident\\\\/5.0)\", \"c\": \"US\", \"nk\": 0, \"tz\": \"America\\\\/Chicago\", \"gr\": \"TX\", \"g\": \"xRWPdw\", \"h\": \"wZ0eD0\", \"l\": \"tweetdeckapi\", \"al\": \"en-US\", \"hh\": \"j.mp\", \"r\": \"http:\\\\/\\\\/www.facebook.com\\\\/l.php?u=http%3A%2F%2Fj.mp%2FwZ0eD0&h=IAQEhnkPnAQH05dMJd3RXZm6y065YVGomZ_R-k2JKHkpK1Q\", \"u\": \"http:\\\\/\\\\/www.whitehouse.gov\\\\/the-press-office\\\\/2012\\\\/03\\\\/15\\\\/statement-president-meeting-interagency-task-force-monitor-and-combat-tr\", \"t\": 1331923978, \"hc\": 1331840856, \"cy\": \"Tyler\", \"ll\": [ 32.231300, -95.295799 ] }\\n',\n",
       " '{ \"a\": \"Mozilla\\\\/5.0 (Macintosh; Intel Mac OS X 10_6_6) AppleWebKit\\\\/535.11 (KHTML, like Gecko) Chrome\\\\/17.0.963.79 Safari\\\\/535.11\", \"c\": \"US\", \"nk\": 1, \"tz\": \"America\\\\/New_York\", \"gr\": \"NY\", \"g\": \"vNJS4H\", \"h\": \"u0uD9q\", \"l\": \"o_4us71ccioa\", \"al\": \"en-US,en;q=0.8\", \"hh\": \"1.usa.gov\", \"r\": \"direct\", \"u\": \"https:\\\\/\\\\/www.nysdot.gov\\\\/rexdesign\\\\/design\\\\/community.gif\", \"t\": 1331923980, \"hc\": 1319563556, \"cy\": \"White Plains\", \"ll\": [ 41.029099, -73.758003 ] }\\n',\n",
       " '{\"_heartbeat_\":1331923981}\\n',\n",
       " '{ \"a\": \"Mozilla\\\\/5.0 (Windows NT 5.1; rv:6.0.2) Gecko\\\\/20100101 Firefox\\\\/6.0.2\", \"c\": \"US\", \"nk\": 0, \"tz\": \"America\\\\/Chicago\", \"gr\": \"TN\", \"g\": \"b9NoJD\", \"h\": \"b9NoJD\", \"l\": \"bitly\", \"al\": \"en-us,en;q=0.5\", \"hh\": \"bit.ly\", \"r\": \"http:\\\\/\\\\/www.mtsu.edu\\\\/information\\\\/\", \"u\": \"http:\\\\/\\\\/nces.ed.gov\\\\/collegenavigator\\\\/?q=Middle+Tennessee+State+University&s=TN&zc=37132&zd=0&of=3&ic=1&id=220978\", \"t\": 1331923979, \"hc\": 1268734255, \"cy\": \"Murfreesboro\", \"ll\": [ 35.859600, -86.420998 ] }\\n',\n",
       " '{ \"a\": \"Mozilla\\\\/5.0 (Windows NT 6.1; WOW64; rv:10.0.2) Gecko\\\\/20100101 Firefox\\\\/10.0.2\", \"c\": \"US\", \"nk\": 0, \"tz\": \"America\\\\/Los_Angeles\", \"gr\": \"CA\", \"g\": \"vNJS4H\", \"h\": \"u0uD9q\", \"l\": \"o_4us71ccioa\", \"al\": \"en-us,en;q=0.5\", \"hh\": \"1.usa.gov\", \"r\": \"direct\", \"u\": \"https:\\\\/\\\\/www.nysdot.gov\\\\/rexdesign\\\\/design\\\\/community.gif\", \"t\": 1331923980, \"hc\": 1319563556, \"cy\": \"Palo Alto\", \"ll\": [ 37.376202, -122.182602 ] }\\n',\n",
       " '{ \"a\": \"Mozilla\\\\/5.0 (Macintosh; Intel Mac OS X 10_6_8) AppleWebKit\\\\/534.52.7 (KHTML, like Gecko) Version\\\\/5.1.2 Safari\\\\/534.52.7\", \"c\": \"US\", \"nk\": 1, \"tz\": \"America\\\\/Denver\", \"gr\": \"CO\", \"g\": \"wqGppe\", \"h\": \"A3r7z2\", \"l\": \"nasatwitter\", \"al\": \"en-us\", \"hh\": \"go.nasa.gov\", \"r\": \"http:\\\\/\\\\/www.facebook.com\\\\/l.php?u=http%3A%2F%2Fgo.nasa.gov%2FA3r7z2&h=pAQECopspAQGQoFdMXKJOVKxTa9vDG6A3bJvj097l56cfOA\", \"u\": \"http:\\\\/\\\\/www.nasa.gov\\\\/mission_pages\\\\/sunearth\\\\/missions\\\\/atrex-launch.html\", \"t\": 1331923981, \"hc\": 1331749429, \"cy\": \"Boulder\", \"ll\": [ 40.087799, -105.373497 ] }\\n',\n",
       " '{ \"a\": \"Mozilla\\\\/5.0 (Windows; U; Windows NT 6.1; en-US; rv:1.9.2.23) Gecko\\\\/20110920 AskTbARS\\\\/3.14.1.20007 BRI\\\\/1 Firefox\\\\/3.6.23\", \"c\": \"US\", \"nk\": 1, \"tz\": \"America\\\\/New_York\", \"gr\": \"MD\", \"g\": \"vNJS4H\", \"h\": \"u0uD9q\", \"l\": \"o_4us71ccioa\", \"al\": \"en-us,en;q=0.5\", \"hh\": \"1.usa.gov\", \"r\": \"direct\", \"u\": \"https:\\\\/\\\\/www.nysdot.gov\\\\/rexdesign\\\\/design\\\\/community.gif\", \"t\": 1331923981, \"hc\": 1319563556, \"cy\": \"Elkton\", \"ll\": [ 39.617199, -75.867798 ] }\\n',\n",
       " '{ \"a\": \"Mozilla\\\\/5.0 (Windows; U; Windows NT 6.1; en-US; rv:1.9.2.23) Gecko\\\\/20110920 AskTbARS\\\\/3.14.1.20007 BRI\\\\/1 Firefox\\\\/3.6.23\", \"c\": \"US\", \"nk\": 1, \"tz\": \"America\\\\/New_York\", \"gr\": \"MD\", \"g\": \"vNJS4H\", \"h\": \"u0uD9q\", \"l\": \"o_4us71ccioa\", \"al\": \"en-us,en;q=0.5\", \"hh\": \"1.usa.gov\", \"r\": \"direct\", \"u\": \"https:\\\\/\\\\/www.nysdot.gov\\\\/rexdesign\\\\/design\\\\/community.gif\", \"t\": 1331923982, \"hc\": 1319563556, \"cy\": \"Elkton\", \"ll\": [ 39.617199, -75.867798 ] }\\n',\n",
       " '{ \"a\": \"Mozilla\\\\/5.0 (Windows; U; Windows NT 6.1; en-US; rv:1.9.2.27) Gecko\\\\/20120216 Firefox\\\\/3.6.27\", \"c\": \"US\", \"nk\": 1, \"tz\": \"America\\\\/Los_Angeles\", \"gr\": \"CA\", \"g\": \"vNJS4H\", \"h\": \"u0uD9q\", \"l\": \"o_4us71ccioa\", \"al\": \"en-us,en;q=0.5\", \"hh\": \"1.usa.gov\", \"r\": \"direct\", \"u\": \"https:\\\\/\\\\/www.nysdot.gov\\\\/rexdesign\\\\/design\\\\/community.gif\", \"t\": 1331923982, \"hc\": 1319563556, \"cy\": \"Palo Alto\", \"ll\": [ 37.376202, -122.182602 ] }\\n',\n",
       " '{ \"a\": \"Mozilla\\\\/5.0 (Windows NT 6.1; WOW64) AppleWebKit\\\\/535.11 (KHTML, like Gecko) Chrome\\\\/17.0.963.79 Safari\\\\/535.11\", \"c\": \"US\", \"nk\": 1, \"tz\": \"America\\\\/Los_Angeles\", \"gr\": \"CA\", \"g\": \"vNJS4H\", \"h\": \"u0uD9q\", \"l\": \"o_4us71ccioa\", \"al\": \"en-US,en;q=0.8\", \"hh\": \"1.usa.gov\", \"r\": \"direct\", \"u\": \"https:\\\\/\\\\/www.nysdot.gov\\\\/rexdesign\\\\/design\\\\/community.gif\", \"t\": 1331923982, \"hc\": 1319563556, \"cy\": \"Palo Alto\", \"ll\": [ 37.376202, -122.182602 ] }\\n',\n",
       " '{ \"a\": \"Mozilla\\\\/5.0 (Windows; U; Windows NT 6.1; en-US; rv:1.9.2.27) Gecko\\\\/20120216 Firefox\\\\/3.6.27\", \"c\": \"US\", \"nk\": 1, \"tz\": \"America\\\\/Los_Angeles\", \"gr\": \"CA\", \"g\": \"vNJS4H\", \"h\": \"u0uD9q\", \"l\": \"o_4us71ccioa\", \"al\": \"en-us,en;q=0.5\", \"hh\": \"1.usa.gov\", \"r\": \"direct\", \"u\": \"https:\\\\/\\\\/www.nysdot.gov\\\\/rexdesign\\\\/design\\\\/community.gif\", \"t\": 1331923982, \"hc\": 1319563556, \"cy\": \"Palo Alto\", \"ll\": [ 37.376202, -122.182602 ] }\\n',\n",
       " '{ \"a\": \"GoogleMaps\\\\/RochesterNY\", \"c\": \"US\", \"nk\": 0, \"tz\": \"America\\\\/Denver\", \"gr\": \"UT\", \"g\": \"mwszkS\", \"h\": \"mwszkS\", \"l\": \"bitly\", \"hh\": \"1.usa.gov\", \"r\": \"http:\\\\/\\\\/www.AwareMap.com\\\\/\", \"u\": \"http:\\\\/\\\\/www.monroecounty.gov\\\\/etc\\\\/911\\\\/rss.php\", \"t\": 1331923982, \"hc\": 1308262393, \"cy\": \"Provo\", \"ll\": [ 40.218102, -111.613297 ] }\\n',\n",
       " '{ \"a\": \"Mozilla\\\\/5.0 (Windows NT 6.1) AppleWebKit\\\\/535.11 (KHTML, like Gecko) Chrome\\\\/17.0.963.79 Safari\\\\/535.11\", \"c\": \"US\", \"nk\": 0, \"tz\": \"America\\\\/New_York\", \"gr\": \"NY\", \"g\": \"ymWvfk\", \"h\": \"AD9n1T\", \"l\": \"tweetdeckapi\", \"al\": \"en-US,en;q=0.8\", \"hh\": \"1.usa.gov\", \"r\": \"http:\\\\/\\\\/newworldinvestor.com\\\\/7340\\\\/radar-report-3-15-12\\\\/\", \"u\": \"http:\\\\/\\\\/www.fda.gov\\\\/AdvisoryCommittees\\\\/Calendar\\\\/ucm290808.htm\", \"t\": 1331923981, \"hc\": 1331908717, \"cy\": \"West Sayville\", \"ll\": [ 40.730598, -73.099503 ] }\\n',\n",
       " '{ \"a\": \"Mozilla\\\\/4.0 (compatible; MSIE 8.0; Windows NT 5.1; Trident\\\\/4.0; GTB6.3; .NET CLR 1.0.3705; .NET CLR 1.1.4322; .NET CLR 2.0.50727; .NET CLR 3.0.4506.2152; .NET CLR 3.5.30729)\", \"c\": \"JP\", \"nk\": 1, \"tz\": \"Asia\\\\/Tokyo\", \"gr\": \"07\", \"g\": \"drlPN0\", \"h\": \"8YGmzz\", \"l\": \"addthis\", \"al\": \"ja\", \"hh\": \"bit.ly\", \"r\": \"http:\\\\/\\\\/togetter.com\\\\/li\\\\/39380\", \"u\": \"http:\\\\/\\\\/www.navy.mil\\\\/view_single.asp?id=68796\", \"t\": 1331923983, \"hc\": 1280722178, \"cy\": \"Nogata\", \"ll\": [ 33.733299, 130.733307 ] }\\n',\n",
       " '{ \"a\": \"Mozilla\\\\/5.0 (Macintosh; Intel Mac OS X 10_7_2) AppleWebKit\\\\/534.52.7 (KHTML, like Gecko) Version\\\\/5.1.2 Safari\\\\/534.52.7\", \"c\": \"US\", \"nk\": 0, \"tz\": \"America\\\\/New_York\", \"gr\": \"OH\", \"g\": \"vNJS4H\", \"h\": \"u0uD9q\", \"l\": \"o_4us71ccioa\", \"al\": \"en-us\", \"hh\": \"1.usa.gov\", \"r\": \"direct\", \"u\": \"https:\\\\/\\\\/www.nysdot.gov\\\\/rexdesign\\\\/design\\\\/community.gif\", \"t\": 1331923982, \"hc\": 1319563556, \"cy\": \"Twinsburg\", \"ll\": [ 41.315201, -81.440498 ] }\\n',\n",
       " '{ \"a\": \"Mozilla\\\\/5.0 (iPhone; U; CPU iPhone OS 4_2_6 like Mac OS X; en_US) AppleWebKit (KHTML, like Gecko) Mobile [FBAN\\\\/FBForIPhone;FBAV\\\\/4.1;FBBV\\\\/4100.0;FBDV\\\\/iPhone3,3;FBMD\\\\/iPhone;FBSN\\\\/iPhone OS;FBSV\\\\/4.2.6;FBSS\\\\/2; FBCR\\\\/Verizon;FBID\\\\/phone;FBLC\\\\/en_US;FBSF\\\\/2.0]\", \"c\": \"US\", \"nk\": 0, \"tz\": \"America\\\\/Chicago\", \"gr\": \"IL\", \"g\": \"yItuvs\", \"h\": \"wRH7bC\", \"l\": \"tweetdeckapi\", \"al\": \"en-us\", \"hh\": \"1.usa.gov\", \"r\": \"http:\\\\/\\\\/m.facebook.com\\\\/l.php?u=http%3A%2F%2F1.usa.gov%2FwRH7bC&h=1AQFRCUb5&enc=AZPxZS25kdKcOY-iS2zajst3vhQI4D7dxJ1AXHaKRmkBsuHuMxtaqqJS7DVRpo7pgp68_BLg-7P-oj5BnIwsNnE1aM-dzJRchoL4MP2gUxfR3QVojP5b-pG-Gzv3_GD1fdosvA_bnyb8Is4ZaRmCCUhK3XIW3HdbNolVfPM633fF26nHc2iyLrtDjvh3vJkNa2RLoMzMYkupuAorCHvQSuS12EigvIB2uTF5p6rmevvIuWI-dXmCki8J6hbrxzS2jwdfeBB5CCtdW9_HGfMZffIPMYqd3rX9d_NF0EPe3A9P8A\", \"u\": \"http:\\\\/\\\\/www.crh.noaa.gov\\\\/news\\\\/display_cmsstory.php?wfo=lot&storyid=80713&source=0\", \"t\": 1331923983, \"hc\": 1331915247, \"cy\": \"Chicago\", \"ll\": [ 41.867500, -87.674400 ] }\\n',\n",
       " '{ \"a\": \"Mozilla\\\\/4.0 (compatible; MSIE 7.0; Windows NT 6.1; WOW64; Trident\\\\/5.0; SLCC2; .NET CLR 2.0.50727; .NET CLR 3.5.30729; .NET CLR 3.0.30729; Media Center PC 6.0; HPNTDF; .NET4.0C; BRI\\\\/2)\", \"c\": \"PT\", \"nk\": 1, \"tz\": \"Europe\\\\/Lisbon\", \"gr\": \"17\", \"g\": \"wcndER\", \"h\": \"zkpJBR\", \"l\": \"bnjacobs\", \"al\": \"pt-PT\", \"hh\": \"1.usa.gov\", \"r\": \"http:\\\\/\\\\/www.facebook.com\\\\/\", \"u\": \"http:\\\\/\\\\/www.nasa.gov\\\\/mission_pages\\\\/nustar\\\\/main\\\\/index.html\", \"t\": 1331923984, \"hc\": 1331922854, \"cy\": \"Porto\", \"ll\": [ 41.150002, -8.616700 ] }\\n',\n",
       " '{ \"a\": \"Mozilla\\\\/5.0 (Windows NT 6.1; WOW64) AppleWebKit\\\\/535.11 (KHTML, like Gecko) Chrome\\\\/17.0.963.79 Safari\\\\/535.11\", \"c\": null, \"nk\": 1, \"tz\": \"\", \"g\": \"vNJS4H\", \"h\": \"u0uD9q\", \"l\": \"o_4us71ccioa\", \"al\": \"en-US,en;q=0.8\", \"hh\": \"1.usa.gov\", \"r\": \"direct\", \"u\": \"https:\\\\/\\\\/www.nysdot.gov\\\\/rexdesign\\\\/design\\\\/community.gif\", \"t\": 1331923985, \"hc\": 1319563556 }\\n',\n",
       " '{ \"a\": \"Mozilla\\\\/5.0 (Windows NT 5.1) AppleWebKit\\\\/535.11 (KHTML, like Gecko) Chrome\\\\/17.0.963.79 Safari\\\\/535.11\", \"c\": null, \"nk\": 0, \"tz\": \"\", \"g\": \"xmHDe7\", \"h\": \"z5MdbQ\", \"l\": \"tweetdeckapi\", \"al\": \"en-US,en;q=0.8\", \"hh\": \"1.usa.gov\", \"r\": \"http:\\\\/\\\\/t.co\\\\/AkSxFMwx\", \"u\": \"http:\\\\/\\\\/memory.loc.gov\\\\/service\\\\/ndlpcoop\\\\/mtfxph\\\\/phe\\\\/eph0003\\\\/eph0003_08701r.jpg\", \"t\": 1331923985, \"hc\": 1331909400 }\\n',\n",
       " '{ \"a\": \"Mozilla\\\\/5.0 (Windows NT 6.1; WOW64; rv:9.0.1) Gecko\\\\/20100101 Firefox\\\\/9.0.1\", \"c\": null, \"nk\": 1, \"tz\": \"\", \"g\": \"vNJS4H\", \"h\": \"u0uD9q\", \"l\": \"o_4us71ccioa\", \"al\": \"en-us,en;q=0.5\", \"hh\": \"1.usa.gov\", \"r\": \"direct\", \"u\": \"https:\\\\/\\\\/www.nysdot.gov\\\\/rexdesign\\\\/design\\\\/community.gif\", \"t\": 1331923986, \"hc\": 1319563556 }\\n',\n",
       " '{ \"a\": \"Mozilla\\\\/5.0 (Linux; U; Android 2.3.4; en-gb; GT-I9100 Build\\\\/GINGERBREAD) AppleWebKit\\\\/533.1 (KHTML, like Gecko) Version\\\\/4.0 Mobile Safari\\\\/533.1\", \"c\": \"GB\", \"nk\": 1, \"tz\": \"Europe\\\\/London\", \"gr\": \"K3\", \"g\": \"xVZg4P\", \"h\": \"wqUkTo\", \"l\": \"nasatwitter\", \"al\": \"en-GB, en-US\", \"hh\": \"go.nasa.gov\", \"r\": \"http:\\\\/\\\\/t.co\\\\/UKGBxj29\", \"u\": \"http:\\\\/\\\\/www.nasa.gov\\\\/multimedia\\\\/imagegallery\\\\/image_feature_2199.html\", \"t\": 1331923988, \"hc\": 1331908247, \"cy\": \"Peterborough\", \"ll\": [ 52.583302, -0.250000 ] }\\n',\n",
       " '{ \"a\": \"Mozilla\\\\/5.0 (iPad; U; CPU OS 4_3_3 like Mac OS X; en-us) AppleWebKit\\\\/533.17.9 (KHTML, like Gecko) Version\\\\/5.0.2 Mobile\\\\/8J2 Safari\\\\/6533.18.5\", \"c\": \"US\", \"nk\": 0, \"tz\": \"America\\\\/New_York\", \"gr\": \"GA\", \"g\": \"vNJS4H\", \"h\": \"u0uD9q\", \"l\": \"o_4us71ccioa\", \"al\": \"en-us\", \"hh\": \"1.usa.gov\", \"r\": \"direct\", \"u\": \"https:\\\\/\\\\/www.nysdot.gov\\\\/rexdesign\\\\/design\\\\/community.gif\", \"t\": 1331923988, \"hc\": 1319563556, \"cy\": \"Richland\", \"ll\": [ 32.094501, -84.657997 ] }\\n',\n",
       " '{ \"a\": \"Mozilla\\\\/5.0 (Windows NT 6.1; WOW64; rv:9.0.1) Gecko\\\\/20100101 Firefox\\\\/9.0.1\", \"c\": null, \"nk\": 1, \"tz\": \"\", \"g\": \"vNJS4H\", \"h\": \"u0uD9q\", \"l\": \"o_4us71ccioa\", \"al\": \"en-us,en;q=0.5\", \"hh\": \"1.usa.gov\", \"r\": \"direct\", \"u\": \"https:\\\\/\\\\/www.nysdot.gov\\\\/rexdesign\\\\/design\\\\/community.gif\", \"t\": 1331923987, \"hc\": 1319563556 }\\n',\n",
       " '{ \"a\": \"Mozilla\\\\/4.0 (compatible; MSIE 7.0; Windows NT 6.1; WOW64; Trident\\\\/4.0; GTB7.3; SLCC2; .NET CLR 2.0.50727; .NET CLR 3.5.30729; .NET CLR 3.0.30729; Media Center PC 6.0; InfoPath.2; .NET4.0C)\", \"c\": \"US\", \"nk\": 1, \"tz\": \"America\\\\/Los_Angeles\", \"gr\": \"CA\", \"g\": \"yKXozJ\", \"h\": \"wxnVgB\", \"l\": \"omega3day\", \"hh\": \"1.usa.gov\", \"r\": \"direct\", \"u\": \"http:\\\\/\\\\/www.ncbi.nlm.nih.gov\\\\/pubmed\\\\/22404506\", \"t\": 1331923988, \"hc\": 1331656486, \"cy\": \"Los Angeles\", \"ll\": [ 34.048599, -118.442398 ] }\\n',\n",
       " '{ \"a\": \"Opera\\\\/9.80 (J2ME\\\\/MIDP; Opera Mini\\\\/4.2.22228\\\\/27.1350; U; en) Presto\\\\/2.8.119 Version\\\\/11.10\", \"c\": null, \"nk\": 1, \"tz\": \"\", \"g\": \"xVZg4P\", \"h\": \"wqUkTo\", \"l\": \"nasatwitter\", \"al\": \"en-GB,en;q=0.9\", \"hh\": \"go.nasa.gov\", \"r\": \"direct\", \"u\": \"http:\\\\/\\\\/www.nasa.gov\\\\/multimedia\\\\/imagegallery\\\\/image_feature_2199.html\", \"t\": 1331923989, \"hc\": 1331908247 }\\n',\n",
       " '{ \"a\": \"Mozilla\\\\/5.0 (Windows NT 6.1; WOW64; rv:10.0.2) Gecko\\\\/20100101 Firefox\\\\/10.0.2\", \"c\": \"US\", \"nk\": 1, \"tz\": \"America\\\\/Chicago\", \"gr\": \"TX\", \"g\": \"vNJS4H\", \"h\": \"u0uD9q\", \"l\": \"o_4us71ccioa\", \"al\": \"en-us,en;q=0.5\", \"hh\": \"1.usa.gov\", \"r\": \"direct\", \"u\": \"https:\\\\/\\\\/www.nysdot.gov\\\\/rexdesign\\\\/design\\\\/community.gif\", \"t\": 1331923988, \"hc\": 1319563556, \"cy\": \"Lewisville\", \"ll\": [ 33.050301, -97.014702 ] }\\n',\n",
       " '{ \"a\": \"Mozilla\\\\/4.0 (compatible; MSIE 7.0; Windows NT 5.1; .NET CLR 1.1.4322; .NET CLR 2.0.50727; InfoPath.1; .NET CLR 3.0.4506.2152; .NET CLR 3.5.30729; .NET4.0C; .NET4.0E; MS-RTC LM 8)\", \"c\": \"US\", \"nk\": 0, \"tz\": \"America\\\\/New_York\", \"gr\": \"PA\", \"g\": \"wqGppe\", \"h\": \"A3r7z2\", \"l\": \"nasatwitter\", \"al\": \"en-us\", \"hh\": \"go.nasa.gov\", \"r\": \"http:\\\\/\\\\/t.co\\\\/6xAUIwJK\", \"u\": \"http:\\\\/\\\\/www.nasa.gov\\\\/mission_pages\\\\/sunearth\\\\/missions\\\\/atrex-launch.html\", \"t\": 1331923989, \"hc\": 1331749429, \"cy\": \"Philadelphia\", \"ll\": [ 39.977402, -75.145203 ] }\\n',\n",
       " '{ \"a\": \"Mozilla\\\\/5.0 (Windows NT 6.1; WOW64) AppleWebKit\\\\/535.11 (KHTML, like Gecko) Chrome\\\\/17.0.963.79 Safari\\\\/535.11\", \"c\": null, \"nk\": 1, \"tz\": \"\", \"g\": \"vNJS4H\", \"h\": \"u0uD9q\", \"l\": \"o_4us71ccioa\", \"al\": \"en-US,en;q=0.8\", \"hh\": \"1.usa.gov\", \"r\": \"direct\", \"u\": \"https:\\\\/\\\\/www.nysdot.gov\\\\/rexdesign\\\\/design\\\\/community.gif\", \"t\": 1331923989, \"hc\": 1319563556 }\\n',\n",
       " '{ \"a\": \"Opera\\\\/9.80 (Windows NT 6.1; U; en) Presto\\\\/2.10.229 Version\\\\/11.61\", \"c\": null, \"nk\": 0, \"tz\": \"\", \"g\": \"wFto9d\", \"h\": \"yIkLDb\", \"l\": \"healthfinderfacebook\", \"al\": \"mk-MK,mk;q=0.9,en;q=0.8\", \"hh\": \"1.usa.gov\", \"r\": \"http:\\\\/\\\\/www.facebook.com\\\\/l.php?u=http%3A%2F%2F1.usa.gov%2FyIkLDb&h=cAQHNqW2rAQEVoEw2MjOI0OoF-fytmNWlfg78IctI6S3zVw\", \"u\": \"http:\\\\/\\\\/healthfinder.gov\\\\/prevention\\\\/ViewTopic.aspx?topicId=89\", \"t\": 1331923988, \"hc\": 1331328857 }\\n',\n",
       " '{ \"a\": \"Mozilla\\\\/5.0 (Windows NT 6.1; WOW64; rv:10.0.2) Gecko\\\\/20100101 Firefox\\\\/10.0.2\", \"c\": \"US\", \"nk\": 1, \"tz\": \"America\\\\/Los_Angeles\", \"gr\": \"CA\", \"g\": \"vNJS4H\", \"h\": \"u0uD9q\", \"l\": \"o_4us71ccioa\", \"al\": \"en-us,en;q=0.5\", \"hh\": \"1.usa.gov\", \"r\": \"direct\", \"u\": \"https:\\\\/\\\\/www.nysdot.gov\\\\/rexdesign\\\\/design\\\\/community.gif\", \"t\": 1331923991, \"hc\": 1319563556, \"cy\": \"Palo Alto\", \"ll\": [ 37.376202, -122.182602 ] }\\n',\n",
       " '{ \"a\": \"Mozilla\\\\/5.0 (iPhone; CPU iPhone OS 5_1 like Mac OS X) AppleWebKit\\\\/534.46 (KHTML, like Gecko) Mobile\\\\/9B179 Twitter for iPhone\", \"c\": null, \"nk\": 0, \"tz\": \"\", \"g\": \"xKUlqF\", \"h\": \"ynq3vT\", \"l\": \"kcnews\", \"al\": \"en-us\", \"hh\": \"1.usa.gov\", \"r\": \"https:\\\\/\\\\/twitter.com\\\\/kcnews\\\\/status\\\\/180726457792868352\", \"u\": \"http:\\\\/\\\\/www.kingcounty.gov\\\\/property\\\\/RealEstateServices\\\\/CountyPropertyForSale.aspx\", \"t\": 1331923993, \"hc\": 1330731297 }\\n',\n",
       " '{ \"a\": \"Mozilla\\\\/4.0 (compatible; MSIE 8.0; Windows NT 6.1; WOW64; Trident\\\\/4.0; SLCC2; .NET CLR 2.0.50727; .NET CLR 3.5.30729; .NET CLR 3.0.30729; .NET4.0C; .NET4.0E; InfoPath.3)\", \"c\": \"US\", \"nk\": 1, \"tz\": \"America\\\\/New_York\", \"gr\": \"DC\", \"g\": \"A2q9Ff\", \"h\": \"A2q9Ff\", \"l\": \"bitly\", \"al\": \"en-us\", \"hh\": \"1.usa.gov\", \"r\": \"direct\", \"u\": \"http:\\\\/\\\\/www.whitehouse.gov\\\\/blog\\\\/2012\\\\/01\\\\/31\\\\/ending-overpayment-federal-contractor-executives\", \"t\": 1331923995, \"hc\": 1328016902, \"cy\": \"Washington\", \"ll\": [ 38.900700, -77.043098 ] }\\n',\n",
       " '{ \"a\": \"Mozilla\\\\/5.0 (Windows; U; Windows NT 6.1; en-US; rv:1.9.2.27) Gecko\\\\/20120216 Firefox\\\\/3.6.27\", \"c\": \"US\", \"nk\": 1, \"tz\": \"America\\\\/Los_Angeles\", \"gr\": \"CA\", \"g\": \"vNJS4H\", \"h\": \"u0uD9q\", \"l\": \"o_4us71ccioa\", \"al\": \"en-us,en;q=0.5\", \"hh\": \"1.usa.gov\", \"r\": \"direct\", \"u\": \"https:\\\\/\\\\/www.nysdot.gov\\\\/rexdesign\\\\/design\\\\/community.gif\", \"t\": 1331923993, \"hc\": 1319563556, \"cy\": \"Palo Alto\", \"ll\": [ 37.376202, -122.182602 ] }\\n',\n",
       " '{ \"a\": \"Mozilla\\\\/5.0 (Macintosh; Intel Mac OS X 10_6_8) AppleWebKit\\\\/535.11 (KHTML, like Gecko) Chrome\\\\/17.0.963.79 Safari\\\\/535.11\", \"c\": \"US\", \"nk\": 1, \"tz\": \"America\\\\/Los_Angeles\", \"gr\": \"WA\", \"g\": \"xKUlqF\", \"h\": \"ynq3vT\", \"l\": \"kcnews\", \"al\": \"en-US,en;q=0.8\", \"hh\": \"1.usa.gov\", \"r\": \"http:\\\\/\\\\/t.co\\\\/PjjgyoU6\", \"u\": \"http:\\\\/\\\\/www.kingcounty.gov\\\\/property\\\\/RealEstateServices\\\\/CountyPropertyForSale.aspx\", \"t\": 1331923996, \"hc\": 1330731297, \"cy\": \"Seattle\", \"ll\": [ 47.638100, -122.371498 ] }\\n',\n",
       " '{ \"a\": \"Mozilla\\\\/5.0 (Windows NT 6.1; rv:10.0.2) Gecko\\\\/20100101 Firefox\\\\/10.0.2\", \"c\": \"US\", \"nk\": 1, \"tz\": \"America\\\\/Los_Angeles\", \"gr\": \"CA\", \"g\": \"vNJS4H\", \"h\": \"u0uD9q\", \"l\": \"o_4us71ccioa\", \"al\": \"en-us,en;q=0.5\", \"hh\": \"1.usa.gov\", \"r\": \"direct\", \"u\": \"https:\\\\/\\\\/www.nysdot.gov\\\\/rexdesign\\\\/design\\\\/community.gif\", \"t\": 1331923999, \"hc\": 1319563556, \"cy\": \"San Jose\", \"ll\": [ 37.218300, -121.753899 ] }\\n',\n",
       " '{ \"a\": \"Mozilla\\\\/4.0 (compatible; MSIE 9.0; Windows NT 6.1)\", \"c\": \"US\", \"nk\": 1, \"tz\": \"America\\\\/New_York\", \"gr\": \"NJ\", \"g\": \"e5SvKE\", \"h\": \"fqPSr9\", \"l\": \"tweetdeckapi\", \"al\": \"en\", \"hh\": \"1.usa.gov\", \"r\": \"direct\", \"u\": \"http:\\\\/\\\\/www.fda.gov\\\\/AdvisoryCommittees\\\\/CommitteesMeetingMaterials\\\\/Drugs\\\\/Anti-InfectiveDrugsAdvisoryCommittee\\\\/ucm242307.htm\", \"t\": 1331924001, \"hc\": 1301298479, \"cy\": \"Paramus\", \"ll\": [ 40.944500, -74.070000 ] }\\n',\n",
       " '{ \"a\": \"Mozilla\\\\/5.0 (Windows NT 5.1; rv:10.0.2) Gecko\\\\/20100101 Firefox\\\\/10.0.2\", \"c\": \"US\", \"nk\": 1, \"tz\": \"America\\\\/Indianapolis\", \"gr\": \"IN\", \"g\": \"xtdYWZ\", \"h\": \"z5PzLa\", \"l\": \"vangheem\", \"al\": \"en-us\", \"hh\": \"1.usa.gov\", \"r\": \"http:\\\\/\\\\/t.co\\\\/lx9DcwFG\", \"u\": \"http:\\\\/\\\\/www.fbi.gov\\\\/charlotte\\\\/press-releases\\\\/2012\\\\/former-henderson-man-pleads-guilty-to-bank-robbery\", \"t\": 1331924002, \"hc\": 1331923886, \"cy\": \"Fishers\", \"ll\": [ 39.960999, -85.983704 ] }\\n',\n",
       " '{ \"a\": \"Mozilla\\\\/4.0 (compatible; MSIE 8.0; Windows NT 6.1; WOW64; Trident\\\\/4.0; SLCC2; .NET CLR 2.0.50727; .NET CLR 3.5.30729; .NET CLR 3.0.30729; .NET4.0C; .NET4.0E; InfoPath.3)\", \"c\": \"US\", \"nk\": 1, \"tz\": \"America\\\\/New_York\", \"gr\": \"DC\", \"g\": \"xxr3Qb\", \"h\": \"xxr3Qb\", \"l\": \"bitly\", \"al\": \"en-US\", \"hh\": \"1.usa.gov\", \"r\": \"http:\\\\/\\\\/t.co\\\\/03elZC4Q\", \"u\": \"http:\\\\/\\\\/boxer.senate.gov\\\\/en\\\\/press\\\\/releases\\\\/031612.cfm\", \"t\": 1331924003, \"hc\": 1331919941, \"cy\": \"Washington\", \"ll\": [ 38.900700, -77.043098 ] }\\n',\n",
       " '{ \"a\": \"Mozilla\\\\/5.0 (Windows; U; Windows NT 6.1; en-US; rv:1.9.2.20) Gecko\\\\/20110803 Firefox\\\\/3.6.20\", \"c\": \"US\", \"nk\": 1, \"tz\": \"America\\\\/Los_Angeles\", \"gr\": \"CA\", \"g\": \"vNJS4H\", \"h\": \"u0uD9q\", \"l\": \"o_4us71ccioa\", \"al\": \"en-us,en;q=0.5\", \"hh\": \"1.usa.gov\", \"r\": \"direct\", \"u\": \"https:\\\\/\\\\/www.nysdot.gov\\\\/rexdesign\\\\/design\\\\/community.gif\", \"t\": 1331924003, \"hc\": 1319563556, \"cy\": \"Palo Alto\", \"ll\": [ 37.376202, -122.182602 ] }\\n',\n",
       " '{ \"a\": \"Mozilla\\\\/5.0 (Windows; U; Windows NT 6.1; en-US; rv:1.9.2.27) Gecko\\\\/20120216 Firefox\\\\/3.6.27\", \"c\": \"US\", \"nk\": 1, \"tz\": \"America\\\\/Los_Angeles\", \"gr\": \"CA\", \"g\": \"vNJS4H\", \"h\": \"u0uD9q\", \"l\": \"o_4us71ccioa\", \"al\": \"en-us,en;q=0.5\", \"hh\": \"1.usa.gov\", \"r\": \"direct\", \"u\": \"https:\\\\/\\\\/www.nysdot.gov\\\\/rexdesign\\\\/design\\\\/community.gif\", \"t\": 1331924004, \"hc\": 1319563556, \"cy\": \"Palo Alto\", \"ll\": [ 37.376202, -122.182602 ] }\\n',\n",
       " '{ \"a\": \"Mozilla\\\\/5.0 (Windows; U; Windows NT 6.1; en-US; rv:1.9.2.27) Gecko\\\\/20120216 Firefox\\\\/3.6.27 GTB7.1\", \"c\": null, \"nk\": 1, \"tz\": \"\", \"g\": \"vNJS4H\", \"h\": \"u0uD9q\", \"l\": \"o_4us71ccioa\", \"al\": \"en-us,en;q=0.5\", \"hh\": \"1.usa.gov\", \"r\": \"direct\", \"u\": \"https:\\\\/\\\\/www.nysdot.gov\\\\/rexdesign\\\\/design\\\\/community.gif\", \"t\": 1331924004, \"hc\": 1319563556 }\\n',\n",
       " '{ \"a\": \"Mozilla\\\\/4.0 (compatible; MSIE 8.0; Windows NT 6.1; WOW64; Trident\\\\/4.0; SLCC2; .NET CLR 2.0.50727; .NET CLR 3.5.30729; .NET CLR 3.0.30729; .NET4.0C; .NET4.0E; InfoPath.3)\", \"c\": \"US\", \"nk\": 1, \"tz\": \"America\\\\/New_York\", \"gr\": \"DC\", \"g\": \"xxr3Qb\", \"h\": \"xxr3Qb\", \"l\": \"bitly\", \"al\": \"en-US\", \"hh\": \"1.usa.gov\", \"r\": \"http:\\\\/\\\\/t.co\\\\/03elZC4Q\", \"u\": \"http:\\\\/\\\\/boxer.senate.gov\\\\/en\\\\/press\\\\/releases\\\\/031612.cfm\", \"t\": 1331924003, \"hc\": 1331919941, \"cy\": \"Washington\", \"ll\": [ 38.900700, -77.043098 ] }\\n',\n",
       " '{ \"a\": \"Mozilla\\\\/4.0 (compatible; MSIE 8.0; Windows NT 6.1; Trident\\\\/4.0; SLCC2; .NET CLR 2.0.50727; .NET CLR 3.5.30729; .NET CLR 3.0.30729; Media Center PC 6.0; .NET4.0C; .NET4.0E)\", \"c\": null, \"nk\": 0, \"tz\": \"\", \"g\": \"2rOUYc\", \"h\": \"2rOUYc\", \"l\": \"bitly\", \"al\": \"en-US\", \"hh\": \"1.usa.gov\", \"r\": \"direct\", \"u\": \"http:\\\\/\\\\/toxtown.nlm.nih.gov\\\\/index.php\", \"t\": 1331924005, \"hc\": 1255769846 }\\n',\n",
       " '{ \"a\": \"Mozilla\\\\/5.0 (Linux; U; Android 2.2.3; en-us; Droid Build\\\\/FRK76) AppleWebKit\\\\/533.1 (KHTML, like Gecko) Version\\\\/4.0 Mobile Safari\\\\/533.1\", \"c\": null, \"nk\": 0, \"tz\": \"\", \"g\": \"y5rMac\", \"h\": \"xANY6O\", \"l\": \"twitterfeed\", \"al\": \"en-US\", \"hh\": \"1.usa.gov\", \"r\": \"http:\\\\/\\\\/t.co\\\\/KefLcHHb\", \"u\": \"http:\\\\/\\\\/www.fda.gov\\\\/Safety\\\\/Recalls\\\\/ucm296326.htm\", \"t\": 1331924004, \"hc\": 1331916302 }\\n',\n",
       " '{ \"a\": \"Mozilla\\\\/5.0 (Windows NT 6.1; WOW64) AppleWebKit\\\\/535.11 (KHTML, like Gecko) Chrome\\\\/17.0.963.79 Safari\\\\/535.11\", \"c\": \"HK\", \"nk\": 0, \"tz\": \"Asia\\\\/Hong_Kong\", \"gr\": \"00\", \"g\": \"XdUNr\", \"h\": \"qWkgbq\", \"l\": \"walkeryuen\", \"al\": \"zh-TW,zh;q=0.8,en-US;q=0.6,en;q=0.4\", \"hh\": \"j.mp\", \"r\": \"http:\\\\/\\\\/forum2.hkgolden.com\\\\/view.aspx?type=BW&message=3602284\", \"u\": \"http:\\\\/\\\\/www.usno.navy.mil\\\\/NOOC\\\\/nmfc-ph\\\\/RSS\\\\/jtwc\\\\/ab\\\\/abpwsair.jpg\", \"t\": 1331924005, \"hc\": 1317318039, \"cy\": \"Central District\", \"ll\": [ 22.283300, 114.150002 ] }\\n',\n",
       " '{ \"a\": \"Mozilla\\\\/5.0 (Windows NT 6.1; WOW64) AppleWebKit\\\\/535.11 (KHTML, like Gecko) Chrome\\\\/17.0.963.79 Safari\\\\/535.11\", \"c\": \"HK\", \"nk\": 0, \"tz\": \"Asia\\\\/Hong_Kong\", \"gr\": \"00\", \"g\": \"nQvgJp\", \"h\": \"rtrrth\", \"l\": \"walkeryuen\", \"al\": \"zh-TW,zh;q=0.8,en-US;q=0.6,en;q=0.4\", \"hh\": \"j.mp\", \"r\": \"http:\\\\/\\\\/forum2.hkgolden.com\\\\/view.aspx?type=BW&message=3602284\", \"u\": \"http:\\\\/\\\\/www.ssd.noaa.gov\\\\/PS\\\\/TROP\\\\/TCFP\\\\/data\\\\/current\\\\/mtloopfpr17.png\", \"t\": 1331924005, \"hc\": 1317318030, \"cy\": \"Central District\", \"ll\": [ 22.283300, 114.150002 ] }\\n',\n",
       " '{ \"a\": \"Mozilla\\\\/4.0 (compatible; MSIE 8.0; Windows NT 5.1; Trident\\\\/4.0; GTB6.3; .NET CLR 1.0.3705; .NET CLR 1.1.4322; .NET CLR 2.0.50727; .NET CLR 3.0.4506.2152; .NET CLR 3.5.30729)\", \"c\": \"JP\", \"nk\": 1, \"tz\": \"Asia\\\\/Tokyo\", \"gr\": \"07\", \"g\": \"90bOuY\", \"h\": \"aS4YT5\", \"l\": \"addthis\", \"al\": \"ja\", \"hh\": \"bit.ly\", \"r\": \"http:\\\\/\\\\/togetter.com\\\\/li\\\\/39380\", \"u\": \"http:\\\\/\\\\/www.navy.mil\\\\/view_single.asp?id=67669\", \"t\": 1331924007, \"hc\": 1280722318, \"cy\": \"Nogata\", \"ll\": [ 33.733299, 130.733307 ] }\\n',\n",
       " '{ \"a\": \"Mozilla\\\\/5.0 (Windows NT 6.1; WOW64) AppleWebKit\\\\/535.11 (KHTML, like Gecko) Chrome\\\\/17.0.963.79 Safari\\\\/535.11\", \"c\": \"US\", \"nk\": 0, \"tz\": \"America\\\\/New_York\", \"gr\": \"FL\", \"g\": \"wvrENg\", \"h\": \"wvrENg\", \"l\": \"bitly\", \"al\": \"en-US,en;q=0.8\", \"hh\": \"1.usa.gov\", \"r\": \"http:\\\\/\\\\/t.co\\\\/BZWswjOn\", \"u\": \"http:\\\\/\\\\/www.louise.house.gov\\\\/index.php?option=com_content&view=article&id=2684\", \"t\": 1331924006, \"hc\": 1331650638, \"cy\": \"Delray Beach\", \"ll\": [ 26.461100, -80.067497 ] }\\n',\n",
       " '{ \"a\": \"Mozilla\\\\/5.0 (Windows NT 6.1; WOW64) AppleWebKit\\\\/535.11 (KHTML, like Gecko) Chrome\\\\/17.0.963.79 Safari\\\\/535.11\", \"c\": \"US\", \"nk\": 1, \"tz\": \"America\\\\/New_York\", \"gr\": \"FL\", \"g\": \"vNJS4H\", \"h\": \"u0uD9q\", \"l\": \"o_4us71ccioa\", \"al\": \"en-US,en;q=0.8\", \"hh\": \"1.usa.gov\", \"r\": \"direct\", \"u\": \"https:\\\\/\\\\/www.nysdot.gov\\\\/rexdesign\\\\/design\\\\/community.gif\", \"t\": 1331924007, \"hc\": 1319563556, \"cy\": \"Hallandale\", \"ll\": [ 25.986300, -80.151802 ] }\\n',\n",
       " '{ \"a\": \"Mozilla\\\\/5.0 (Macintosh; Intel Mac OS X 10_6_6) AppleWebKit\\\\/535.11 (KHTML, like Gecko) Chrome\\\\/17.0.963.79 Safari\\\\/535.11\", \"c\": \"US\", \"nk\": 1, \"tz\": \"America\\\\/New_York\", \"gr\": \"NY\", \"g\": \"vNJS4H\", \"h\": \"u0uD9q\", \"l\": \"o_4us71ccioa\", \"al\": \"en-US,en;q=0.8\", \"hh\": \"1.usa.gov\", \"r\": \"direct\", \"u\": \"https:\\\\/\\\\/www.nysdot.gov\\\\/rexdesign\\\\/design\\\\/community.gif\", \"t\": 1331924009, \"hc\": 1319563556, \"cy\": \"White Plains\", \"ll\": [ 41.029099, -73.758003 ] }\\n',\n",
       " '{ \"a\": \"LG-LG220C[TF268435458416597116000000013524223841] UP.Browser\\\\/6.2.3.8 (GUI) MMP\\\\/2.0\", \"c\": \"US\", \"nk\": 0, \"tz\": \"America\\\\/New_York\", \"gr\": \"NC\", \"g\": \"FOlpyK\", \"h\": \"yK8zBm\", \"l\": \"twitterfeed\", \"al\": \"en; q=1.0, en, *; q=0.5\", \"hh\": \"1.usa.gov\", \"r\": \"http:\\\\/\\\\/m.facebook.com\\\\/\", \"u\": \"http:\\\\/\\\\/www.nasa.gov\\\\/mission_pages\\\\/station\\\\/multimedia\\\\/gallery\\\\/jsc2012e034742.html?utm_medium=facebook&utm_source=twitterfeed\", \"t\": 1331924009, \"hc\": 1331921292, \"cy\": \"Raleigh\", \"ll\": [ 35.842999, -78.631104 ] }\\n',\n",
       " '{ \"a\": \"Mozilla\\\\/5.0 (Windows NT 6.0) AppleWebKit\\\\/534.30 (KHTML, like Gecko) Chrome\\\\/12.0.742.122 Safari\\\\/534.30\", \"c\": \"US\", \"nk\": 0, \"tz\": \"America\\\\/New_York\", \"gr\": \"FL\", \"g\": \"wcndER\", \"h\": \"zkpJBR\", \"l\": \"bnjacobs\", \"al\": \"en-US,en;q=0.8\", \"hh\": \"1.usa.gov\", \"r\": \"http:\\\\/\\\\/www.facebook.com\\\\/\", \"u\": \"http:\\\\/\\\\/www.nasa.gov\\\\/mission_pages\\\\/nustar\\\\/main\\\\/index.html\", \"t\": 1331924009, \"hc\": 1331922854, \"cy\": \"Riverview\", \"ll\": [ 27.822300, -82.279701 ] }\\n',\n",
       " '{ \"a\": \"Mozilla\\\\/5.0 (compatible; MSIE 9.0; Windows NT 6.0; Trident\\\\/5.0)\", \"c\": \"US\", \"nk\": 0, \"tz\": \"America\\\\/New_York\", \"gr\": \"MI\", \"g\": \"wcndER\", \"h\": \"zkpJBR\", \"l\": \"bnjacobs\", \"al\": \"en-us\", \"hh\": \"1.usa.gov\", \"r\": \"http:\\\\/\\\\/www.facebook.com\\\\/l.php?u=http%3A%2F%2F1.usa.gov%2FzkpJBR&h=2AQFfdnYlAQFDTqTRAa6wgZUqGJP5Q-Ju13EE24yvd1zLOg\", \"u\": \"http:\\\\/\\\\/www.nasa.gov\\\\/mission_pages\\\\/nustar\\\\/main\\\\/index.html\", \"t\": 1331924010, \"hc\": 1331922854, \"cy\": \"Port Huron\", \"ll\": [ 42.987499, -82.466599 ] }\\n',\n",
       " '{\"_heartbeat_\":1331924011}\\n',\n",
       " '{ \"a\": \"Mozilla\\\\/5.0 (Windows NT 6.1; WOW64) AppleWebKit\\\\/536.3 (KHTML, like Gecko) Chrome\\\\/19.0.1068.1 Safari\\\\/536.3\", \"c\": \"US\", \"nk\": 0, \"tz\": \"America\\\\/Chicago\", \"gr\": \"SD\", \"g\": \"xOfN1z\", \"h\": \"wOz2ls\", \"l\": \"exiga\", \"al\": \"en-US,en;q=0.8\", \"hh\": \"1.usa.gov\", \"r\": \"http:\\\\/\\\\/www.facebook.com\\\\/l.php?u=http%3A%2F%2F1.usa.gov%2FwOz2ls&h=BAQEz0VAfAQGEJzx9LGRxrRjehUXa22ICf3rBAFwdr4qa0w&enc=AZN6CHk_j_b2VPNV_DFNSYn4WpmaG2d5N1lSnRRwUaGUj82lPa7b7iN7lRMmWye0fHJVIXRYcpeQJXDUkE2EP_ed0m_dhNi2txJNr7gGutBXjg\", \"u\": \"http:\\\\/\\\\/www.af.mil\\\\/shared\\\\/media\\\\/photodb\\\\/photos\\\\/120302-F-RB551-160.jpg\", \"t\": 1331924011, \"hc\": 1331627609, \"cy\": \"Sioux Falls\", \"ll\": [ 43.595402, -96.701698 ] }\\n',\n",
       " '{ \"a\": \"Mozilla\\\\/5.0 (Windows; U; Windows NT 6.1; en-US; rv:1.9.2.27) Gecko\\\\/20120216 Firefox\\\\/3.6.27\", \"c\": \"US\", \"nk\": 1, \"tz\": \"America\\\\/Los_Angeles\", \"gr\": \"CA\", \"g\": \"vNJS4H\", \"h\": \"u0uD9q\", \"l\": \"o_4us71ccioa\", \"al\": \"en-us,en;q=0.5\", \"hh\": \"1.usa.gov\", \"r\": \"direct\", \"u\": \"https:\\\\/\\\\/www.nysdot.gov\\\\/rexdesign\\\\/design\\\\/community.gif\", \"t\": 1331924011, \"hc\": 1319563556, \"cy\": \"Palo Alto\", \"ll\": [ 37.376202, -122.182602 ] }\\n',\n",
       " '{ \"a\": \"Mozilla\\\\/5.0 (Windows NT 6.1; WOW64) AppleWebKit\\\\/535.11 (KHTML, like Gecko) Chrome\\\\/17.0.963.78 Safari\\\\/535.11\", \"c\": \"US\", \"nk\": 0, \"tz\": \"America\\\\/New_York\", \"gr\": \"NC\", \"g\": \"wcndER\", \"h\": \"zkpJBR\", \"l\": \"bnjacobs\", \"al\": \"en-US,en;q=0.8\", \"hh\": \"1.usa.gov\", \"r\": \"http:\\\\/\\\\/plus.url.google.com\\\\/url?sa=z&n=1331924012126&url=http%3A%2F%2F1.usa.gov%2FzkpJBR&usg=F3lEC0fE4t6JACRRD9go7ebFt-w.\", \"u\": \"http:\\\\/\\\\/www.nasa.gov\\\\/mission_pages\\\\/nustar\\\\/main\\\\/index.html\", \"t\": 1331924013, \"hc\": 1331922854, \"cy\": \"Morrisville\", \"ll\": [ 35.860100, -78.832603 ] }\\n',\n",
       " '{ \"a\": \"Mozilla\\\\/5.0 (iPad; CPU OS 5_1 like Mac OS X) AppleWebKit\\\\/534.46 (KHTML, like Gecko) Version\\\\/5.1 Mobile\\\\/9B176 Safari\\\\/7534.48.3\", \"c\": \"CA\", \"nk\": 0, \"tz\": \"America\\\\/Winnipeg\", \"gr\": \"MB\", \"g\": \"wT9q8J\", \"h\": \"wZCOwA\", \"l\": \"richtrendmicro\", \"al\": \"en-us\", \"hh\": \"1.usa.gov\", \"r\": \"http:\\\\/\\\\/www.facebook.com\\\\/\", \"u\": \"http:\\\\/\\\\/www.army.mil\\\\/article\\\\/75165\\\\/Geotagging_poses_security_risks\\\\/\", \"t\": 1331924015, \"hc\": 1331911734, \"cy\": \"Winnipeg\", \"ll\": [ 49.883301, -97.166702 ] }\\n',\n",
       " '{ \"a\": \"Mozilla\\\\/5.0 (compatible; MSIE 9.0; Windows NT 6.0; Trident\\\\/5.0)\", \"c\": \"GB\", \"nk\": 0, \"tz\": \"Europe\\\\/London\", \"gr\": \"N7\", \"g\": \"wcndER\", \"h\": \"zkpJBR\", \"l\": \"bnjacobs\", \"al\": \"en-GB\", \"hh\": \"1.usa.gov\", \"r\": \"http:\\\\/\\\\/www.facebook.com\\\\/l.php?u=http%3A%2F%2F1.usa.gov%2FzkpJBR&h=NAQFfJ0pZAQHjYskjFlmfWqpQz3V-IknzTmYcR2eHUZNUoQ\", \"u\": \"http:\\\\/\\\\/www.nasa.gov\\\\/mission_pages\\\\/nustar\\\\/main\\\\/index.html\", \"t\": 1331924016, \"hc\": 1331922854, \"cy\": \"Epsom\", \"ll\": [ 51.316700, -0.266700 ] }\\n',\n",
       " '{ \"a\": \"Mozilla\\\\/5.0 (Windows NT 6.0; WOW64) AppleWebKit\\\\/535.11 (KHTML, like Gecko) Chrome\\\\/17.0.963.79 Safari\\\\/535.11\", \"c\": \"LV\", \"nk\": 1, \"tz\": \"Europe\\\\/Riga\", \"gr\": \"25\", \"g\": \"h4inTS\", \"h\": \"hZqaTI\", \"l\": \"jointgenomeinstitute\", \"al\": \"lv-LV,lv;q=0.8,en-US;q=0.6,en;q=0.4\", \"hh\": \"bit.ly\", \"r\": \"http:\\\\/\\\\/www.conferencealerts.com\\\\/seeconf.mv?q=ca1s6ssm\", \"u\": \"http:\\\\/\\\\/www.jgi.doe.gov\\\\/meetings\\\\/usermeeting\\\\/\", \"t\": 1331924015, \"hc\": 1297260131, \"kw\": \"JGI_UM\", \"cy\": \"Riga\", \"ll\": [ 56.950001, 24.100000 ] }\\n',\n",
       " '{ \"a\": \"TEST_INTERNET_AGENT\", \"c\": \"US\", \"nk\": 0, \"tz\": \"America\\\\/New_York\", \"gr\": \"FL\", \"g\": \"isLRD\", \"h\": \"isLRD\", \"l\": \"bitly\", \"hh\": \"1.usa.gov\", \"r\": \"direct\", \"u\": \"http:\\\\/\\\\/www.senate.gov\\\\/general\\\\/contact_information\\\\/senators_cfm.cfm?OrderBy=party&Sort=ASC\", \"t\": 1331924019, \"hc\": 1250279162, \"cy\": \"Miami\", \"ll\": [ 25.761499, -80.293900 ] }\\n',\n",
       " '{ \"a\": \"Mozilla\\\\/5.0 (Windows NT 5.1) AppleWebKit\\\\/535.7 (KHTML, like Gecko) Chrome\\\\/16.0.912.77 Safari\\\\/535.7\", \"c\": \"US\", \"nk\": 1, \"tz\": \"America\\\\/New_York\", \"gr\": \"VA\", \"g\": \"wcndER\", \"h\": \"zkpJBR\", \"l\": \"bnjacobs\", \"al\": \"en-US,en;q=0.8\", \"hh\": \"1.usa.gov\", \"r\": \"http:\\\\/\\\\/www.facebook.com\\\\/\", \"u\": \"http:\\\\/\\\\/www.nasa.gov\\\\/mission_pages\\\\/nustar\\\\/main\\\\/index.html\", \"t\": 1331924018, \"hc\": 1331922854, \"cy\": \"Blacksburg\", \"ll\": [ 37.179100, -80.351501 ] }\\n',\n",
       " '{ \"a\": \"Mozilla\\\\/5.0 (Windows; U; Windows NT 6.1; en-US; rv:1.9.2.25) Gecko\\\\/20111212 Firefox\\\\/3.6.25\", \"c\": \"US\", \"nk\": 1, \"tz\": \"America\\\\/New_York\", \"gr\": \"PA\", \"g\": \"vNJS4H\", \"h\": \"u0uD9q\", \"l\": \"o_4us71ccioa\", \"al\": \"en-us,en;q=0.5\", \"hh\": \"1.usa.gov\", \"r\": \"direct\", \"u\": \"https:\\\\/\\\\/www.nysdot.gov\\\\/rexdesign\\\\/design\\\\/community.gif\", \"t\": 1331924020, \"hc\": 1319563556, \"cy\": \"Philadelphia\", \"ll\": [ 39.996799, -75.148499 ] }\\n',\n",
       " '{ \"a\": \"Mozilla\\\\/5.0 (iPad; CPU OS 5_1 like Mac OS X) AppleWebKit\\\\/534.46 (KHTML, like Gecko) Version\\\\/5.1 Mobile\\\\/9B176 Safari\\\\/7534.48.3\", \"c\": null, \"nk\": 0, \"tz\": \"\", \"g\": \"vNJS4H\", \"h\": \"u0uD9q\", \"l\": \"o_4us71ccioa\", \"al\": \"en-us\", \"hh\": \"1.usa.gov\", \"r\": \"direct\", \"u\": \"https:\\\\/\\\\/www.nysdot.gov\\\\/rexdesign\\\\/design\\\\/community.gif\", \"t\": 1331924021, \"hc\": 1319563556 }\\n',\n",
       " '{ \"a\": \"TEST_INTERNET_AGENT\", \"c\": \"US\", \"nk\": 0, \"tz\": \"America\\\\/New_York\", \"gr\": \"FL\", \"g\": \"isLRD\", \"h\": \"isLRD\", \"l\": \"bitly\", \"hh\": \"1.usa.gov\", \"r\": \"direct\", \"u\": \"http:\\\\/\\\\/www.senate.gov\\\\/general\\\\/contact_information\\\\/senators_cfm.cfm?OrderBy=party&Sort=ASC\", \"t\": 1331924020, \"hc\": 1250279162, \"cy\": \"Miami\", \"ll\": [ 25.761499, -80.293900 ] }\\n',\n",
       " '{ \"a\": \"Mozilla\\\\/4.0 (compatible; MSIE 7.0; Windows NT 5.1; .NET CLR 1.1.4322; .NET CLR 2.0.50727; .NET CLR 3.0.04506.648; .NET CLR 3.5.21022; InfoPath.2; .NET CLR 3.0.4506.2152; .NET CLR 3.5.30729)\", \"c\": \"US\", \"nk\": 1, \"tz\": \"Pacific\\\\/Honolulu\", \"gr\": \"HI\", \"g\": \"wGYiBu\", \"h\": \"xMA0ql\", \"l\": \"kcatian\", \"al\": \"en-us\", \"hh\": \"1.usa.gov\", \"r\": \"direct\", \"u\": \"http:\\\\/\\\\/www.navy.mil\\\\/search\\\\/display.asp?story_id=65910\", \"t\": 1331924020, \"hc\": 1331922453, \"kw\": \"JEMSprovides\", \"cy\": \"Mililani\", \"ll\": [ 21.470100, -157.963699 ] }\\n',\n",
       " '{ \"a\": \"Mozilla\\\\/5.0 (Windows; U; Windows NT 6.1; en-US; rv:1.9.2.18) Gecko\\\\/20110614 Firefox\\\\/3.6.18\", \"c\": null, \"nk\": 1, \"tz\": \"\", \"g\": \"vNJS4H\", \"h\": \"u0uD9q\", \"l\": \"o_4us71ccioa\", \"al\": \"en-us,en;q=0.5\", \"hh\": \"1.usa.gov\", \"r\": \"direct\", \"u\": \"https:\\\\/\\\\/www.nysdot.gov\\\\/rexdesign\\\\/design\\\\/community.gif\", \"t\": 1331924020, \"hc\": 1319563556 }\\n',\n",
       " '{ \"a\": \"Mozilla\\\\/5.0 (Windows NT 6.1; WOW64) AppleWebKit\\\\/535.11 (KHTML, like Gecko) Chrome\\\\/17.0.963.79 Safari\\\\/535.11\", \"c\": \"SE\", \"nk\": 0, \"tz\": \"Europe\\\\/Stockholm\", \"gr\": \"27\", \"g\": \"FOlpyK\", \"h\": \"yK8zBm\", \"l\": \"twitterfeed\", \"al\": \"sv-SE,sv;q=0.8,en-US;q=0.6,en;q=0.4\", \"hh\": \"1.usa.gov\", \"r\": \"http:\\\\/\\\\/www.facebook.com\\\\/\", \"u\": \"http:\\\\/\\\\/www.nasa.gov\\\\/mission_pages\\\\/station\\\\/multimedia\\\\/gallery\\\\/jsc2012e034742.html?utm_medium=facebook&utm_source=twitterfeed\", \"t\": 1331924021, \"hc\": 1331921292, \"cy\": \"gelholm\", \"ll\": [ 56.250000, 12.866700 ] }\\n',\n",
       " '{ \"a\": \"Mozilla\\\\/5.0 (Windows; U; Windows NT 6.1; en-US; rv:1.9.2.27) Gecko\\\\/20120216 Firefox\\\\/3.6.27\", \"c\": null, \"nk\": 1, \"tz\": \"\", \"g\": \"vNJS4H\", \"h\": \"u0uD9q\", \"l\": \"o_4us71ccioa\", \"al\": \"en-us,en;q=0.5\", \"hh\": \"1.usa.gov\", \"r\": \"direct\", \"u\": \"https:\\\\/\\\\/www.nysdot.gov\\\\/rexdesign\\\\/design\\\\/community.gif\", \"t\": 1331924025, \"hc\": 1319563556 }\\n',\n",
       " '{ \"a\": \"Mozilla\\\\/4.0 (compatible; MSIE 8.0; Windows NT 5.1; Trident\\\\/4.0; GTB6.3; .NET CLR 1.0.3705; .NET CLR 1.1.4322; .NET CLR 2.0.50727; .NET CLR 3.0.4506.2152; .NET CLR 3.5.30729)\", \"c\": \"JP\", \"nk\": 1, \"tz\": \"Asia\\\\/Tokyo\", \"gr\": \"07\", \"g\": \"agM8pt\", \"h\": \"9l7RFf\", \"l\": \"addthis\", \"al\": \"ja\", \"hh\": \"bit.ly\", \"r\": \"http:\\\\/\\\\/togetter.com\\\\/li\\\\/39380\", \"u\": \"http:\\\\/\\\\/www.navy.mil\\\\/view_single.asp?id=65330\", \"t\": 1331924026, \"hc\": 1280722449, \"cy\": \"Nogata\", \"ll\": [ 33.733299, 130.733307 ] }\\n',\n",
       " '{ \"a\": \"Mozilla\\\\/5.0 (Windows NT 6.1; WOW64) AppleWebKit\\\\/535.11 (KHTML, like Gecko) Chrome\\\\/17.0.963.79 Safari\\\\/535.11\", \"c\": null, \"nk\": 1, \"tz\": \"\", \"g\": \"vNJS4H\", \"h\": \"u0uD9q\", \"l\": \"o_4us71ccioa\", \"al\": \"en-US,en;q=0.8\", \"hh\": \"1.usa.gov\", \"r\": \"direct\", \"u\": \"https:\\\\/\\\\/www.nysdot.gov\\\\/rexdesign\\\\/design\\\\/community.gif\", \"t\": 1331924026, \"hc\": 1319563556 }\\n',\n",
       " '{ \"a\": \"Mozilla\\\\/4.0 (compatible; MSIE 8.0; Windows NT 6.1; WOW64; Trident\\\\/4.0; GTB7.3; SLCC2; .NET CLR 2.0.50727; .NET CLR 3.5.30729; .NET CLR 3.0.30729; Media Center PC 6.0; .NET4.0C; InfoPath.2; .NET CLR 1.1.4322; BRI\\\\/2)\", \"c\": \"US\", \"nk\": 0, \"tz\": \"America\\\\/Los_Angeles\", \"gr\": \"CA\", \"g\": \"wcndER\", \"h\": \"zkpJBR\", \"l\": \"bnjacobs\", \"al\": \"en-US\", \"hh\": \"1.usa.gov\", \"r\": \"http:\\\\/\\\\/www.facebook.com\\\\/\", \"u\": \"http:\\\\/\\\\/www.nasa.gov\\\\/mission_pages\\\\/nustar\\\\/main\\\\/index.html\", \"t\": 1331924026, \"hc\": 1331922854, \"cy\": \"Los Angeles\", \"ll\": [ 34.041599, -118.298798 ] }\\n',\n",
       " '{ \"a\": \"GoogleMaps\\\\/RochesterNY\", \"c\": \"US\", \"nk\": 0, \"tz\": \"America\\\\/Denver\", \"gr\": \"UT\", \"g\": \"mwszkS\", \"h\": \"mwszkS\", \"l\": \"bitly\", \"hh\": \"j.mp\", \"r\": \"http:\\\\/\\\\/www.AwareMap.com\\\\/\", \"u\": \"http:\\\\/\\\\/www.monroecounty.gov\\\\/etc\\\\/911\\\\/rss.php\", \"t\": 1331924027, \"hc\": 1308262393, \"cy\": \"Provo\", \"ll\": [ 40.218102, -111.613297 ] }\\n',\n",
       " '{ \"a\": \"Mozilla\\\\/5.0 (iPhone; CPU iPhone OS 5_1 like Mac OS X) AppleWebKit\\\\/534.46 (KHTML, like Gecko) Version\\\\/5.1 Mobile\\\\/9B176 Safari\\\\/7534.48.3\", \"c\": null, \"nk\": 1, \"tz\": \"\", \"g\": \"xVZg4P\", \"h\": \"wqUkTo\", \"l\": \"nasatwitter\", \"al\": \"en-us\", \"hh\": \"go.nasa.gov\", \"r\": \"http:\\\\/\\\\/t.co\\\\/UKGBxj29\", \"u\": \"http:\\\\/\\\\/www.nasa.gov\\\\/multimedia\\\\/imagegallery\\\\/image_feature_2199.html\", \"t\": 1331924028, \"hc\": 1331908247 }\\n',\n",
       " '{ \"a\": \"TEST_INTERNET_AGENT\", \"c\": \"US\", \"nk\": 1, \"tz\": \"America\\\\/New_York\", \"gr\": \"FL\", \"g\": \"isLRD\", \"h\": \"isLRD\", \"l\": \"bitly\", \"hh\": \"1.usa.gov\", \"r\": \"direct\", \"u\": \"http:\\\\/\\\\/www.senate.gov\\\\/general\\\\/contact_information\\\\/senators_cfm.cfm?OrderBy=party&Sort=ASC\", \"t\": 1331924029, \"hc\": 1250279162, \"cy\": \"Miami\", \"ll\": [ 25.761499, -80.293900 ] }\\n',\n",
       " '{ \"a\": \"Mozilla\\\\/5.0 (Windows NT 6.1; WOW64) AppleWebKit\\\\/535.11 (KHTML, like Gecko) Chrome\\\\/17.0.963.79 Safari\\\\/535.11\", \"c\": \"US\", \"nk\": 1, \"tz\": \"America\\\\/New_York\", \"gr\": \"FL\", \"g\": \"vNJS4H\", \"h\": \"u0uD9q\", \"l\": \"o_4us71ccioa\", \"al\": \"en-US,en;q=0.8\", \"hh\": \"1.usa.gov\", \"r\": \"direct\", \"u\": \"https:\\\\/\\\\/www.nysdot.gov\\\\/rexdesign\\\\/design\\\\/community.gif\", \"t\": 1331924029, \"hc\": 1319563556, \"cy\": \"Hallandale\", \"ll\": [ 25.986300, -80.151802 ] }\\n',\n",
       " '{ \"a\": \"Mozilla\\\\/5.0 (Windows NT 5.1; rv:5.0) Gecko\\\\/20100101 Firefox\\\\/5.0\", \"c\": \"US\", \"nk\": 0, \"tz\": \"America\\\\/New_York\", \"gr\": \"MA\", \"g\": \"wcndER\", \"h\": \"zkpJBR\", \"l\": \"bnjacobs\", \"al\": \"en-us,en;q=0.5\", \"hh\": \"1.usa.gov\", \"r\": \"direct\", \"u\": \"http:\\\\/\\\\/www.nasa.gov\\\\/mission_pages\\\\/nustar\\\\/main\\\\/index.html\", \"t\": 1331924029, \"hc\": 1331922854, \"cy\": \"Salem\", \"ll\": [ 42.515301, -70.907501 ] }\\n',\n",
       " '{ \"a\": \"TEST_INTERNET_AGENT\", \"c\": \"US\", \"nk\": 1, \"tz\": \"America\\\\/New_York\", \"gr\": \"FL\", \"g\": \"isLRD\", \"h\": \"isLRD\", \"l\": \"bitly\", \"hh\": \"1.usa.gov\", \"r\": \"direct\", \"u\": \"http:\\\\/\\\\/www.senate.gov\\\\/general\\\\/contact_information\\\\/senators_cfm.cfm?OrderBy=party&Sort=ASC\", \"t\": 1331924030, \"hc\": 1250279162, \"cy\": \"Miami\", \"ll\": [ 25.761499, -80.293900 ] }\\n',\n",
       " '{ \"a\": \"Mozilla\\\\/5.0 (compatible; MSIE 9.0; Windows NT 6.1; Trident\\\\/5.0)\", \"c\": \"US\", \"nk\": 0, \"tz\": \"America\\\\/Denver\", \"gr\": \"MT\", \"g\": \"xx408a\", \"h\": \"z9eLoa\", \"l\": \"sethborenstein\", \"al\": \"en-US\", \"hh\": \"1.usa.gov\", \"r\": \"direct\", \"u\": \"http:\\\\/\\\\/www.noaanews.noaa.gov\\\\/stories2012\\\\/20120315_springoutlook.html\", \"t\": 1331924029, \"hc\": 1331838858, \"cy\": \"Kalispell\", \"ll\": [ 48.198700, -114.385696 ] }\\n',\n",
       " '{ \"a\": \"Mozilla\\\\/5.0 (Windows; U; Windows NT 6.1; en-US; rv:1.9.2.25) Gecko\\\\/20111212 Firefox\\\\/3.6.25\", \"c\": \"US\", \"nk\": 1, \"tz\": \"America\\\\/New_York\", \"gr\": \"PA\", \"g\": \"vNJS4H\", \"h\": \"u0uD9q\", \"l\": \"o_4us71ccioa\", \"al\": \"en-us,en;q=0.5\", \"hh\": \"1.usa.gov\", \"r\": \"direct\", \"u\": \"https:\\\\/\\\\/www.nysdot.gov\\\\/rexdesign\\\\/design\\\\/community.gif\", \"t\": 1331924031, \"hc\": 1319563556, \"cy\": \"Philadelphia\", \"ll\": [ 39.996799, -75.148499 ] }\\n',\n",
       " '{ \"a\": \"Mozilla\\\\/5.0 (Windows; U; Windows NT 6.1; en-US; rv:1.9.2.25) Gecko\\\\/20111212 Firefox\\\\/3.6.25\", \"c\": \"US\", \"nk\": 1, \"tz\": \"America\\\\/New_York\", \"gr\": \"PA\", \"g\": \"vNJS4H\", \"h\": \"u0uD9q\", \"l\": \"o_4us71ccioa\", \"al\": \"en-us,en;q=0.5\", \"hh\": \"1.usa.gov\", \"r\": \"direct\", \"u\": \"https:\\\\/\\\\/www.nysdot.gov\\\\/rexdesign\\\\/design\\\\/community.gif\", \"t\": 1331924031, \"hc\": 1319563556, \"cy\": \"Philadelphia\", \"ll\": [ 39.996799, -75.148499 ] }\\n',\n",
       " '{ \"a\": \"Mozilla\\\\/5.0 (iPhone; U; CPU iPhone OS 5_0_1 like Mac OS X; en_US) AppleWebKit (KHTML, like Gecko) Mobile [FBAN\\\\/FBForIPhone;FBAV\\\\/4.1;FBBV\\\\/4100.0;FBDV\\\\/iPhone4,1;FBMD\\\\/iPhone;FBSN\\\\/iPhone OS;FBSV\\\\/5.0.1;FBSS\\\\/2; FBCR\\\\/Verizon;FBID\\\\/phone;FBLC\\\\/en_US;FBSF\\\\/2.0]\", \"c\": \"US\", \"nk\": 0, \"tz\": \"America\\\\/Chicago\", \"gr\": \"IA\", \"g\": \"wcndER\", \"h\": \"zkpJBR\", \"l\": \"bnjacobs\", \"al\": \"en-us\", \"hh\": \"1.usa.gov\", \"r\": \"http:\\\\/\\\\/m.facebook.com\\\\/l.php?u=http%3A%2F%2F1.usa.gov%2FzkpJBR&h=7AQE3BiZG\", \"u\": \"http:\\\\/\\\\/www.nasa.gov\\\\/mission_pages\\\\/nustar\\\\/main\\\\/index.html\", \"t\": 1331924033, \"hc\": 1331922854, \"cy\": \"Johnston\", \"ll\": [ 41.703098, -93.720398 ] }\\n',\n",
       " '{ \"a\": \"Mozilla\\\\/5.0 (iPad; U; CPU iPhone OS 5_1 like Mac OS X; en_US) AppleWebKit (KHTML, like Gecko) Mobile [FBAN\\\\/FBForIPhone;FBAV\\\\/4.1;FBBV\\\\/4100.0;FBDV\\\\/iPad2,1;FBMD\\\\/iPad;FBSN\\\\/iPhone OS;FBSV\\\\/5.1;FBSS\\\\/1; FBCR\\\\/;FBID\\\\/tablet;FBLC\\\\/en_US;FBSF\\\\/1.0]\", \"c\": \"US\", \"nk\": 1, \"tz\": \"America\\\\/New_York\", \"gr\": \"VA\", \"g\": \"zBPzT4\", \"h\": \"yd1feN\", \"l\": \"fcpa\", \"al\": \"en-us\", \"hh\": \"1.usa.gov\", \"r\": \"http:\\\\/\\\\/m.facebook.com\\\\/l.php?u=http%3A%2F%2F1.usa.gov%2Fyd1feN&h=bAQGBd8d0\", \"u\": \"http:\\\\/\\\\/www.fairfaxcounty.gov\\\\/parks\\\\/Calendars\\\\/03-1912.htm\", \"t\": 1331924033, \"hc\": 1331920123, \"cy\": \"Falls Church\", \"ll\": [ 38.871799, -77.172096 ] }\\n',\n",
       " '{ \"a\": \"Mozilla\\\\/5.0 (iPhone; CPU iPhone OS 5_0_1 like Mac OS X) AppleWebKit\\\\/534.46 (KHTML, like Gecko) Version\\\\/5.1 Mobile\\\\/9A406 Safari\\\\/7534.48.3\", \"c\": null, \"nk\": 0, \"tz\": \"\", \"g\": \"qKHNdZ\", \"h\": \"qKHNdZ\", \"l\": \"bitly\", \"al\": \"en-us\", \"hh\": \"1.usa.gov\", \"r\": \"direct\", \"u\": \"http:\\\\/\\\\/mpdc.dc.gov\\\\/mpdc\\\\/cwp\\\\/view,q,567857,a,1242,c,44816.asp\", \"t\": 1331924034, \"hc\": 1316261764 }\\n',\n",
       " '{ \"a\": \"Mozilla\\\\/5.0 (iPhone; U; CPU iPhone OS 5_1 like Mac OS X; en_US) AppleWebKit (KHTML, like Gecko) Mobile [FBAN\\\\/FBForIPhone;FBAV\\\\/4.1;FBBV\\\\/4100.0;FBDV\\\\/iPhone4,1;FBMD\\\\/iPhone;FBSN\\\\/iPhone OS;FBSV\\\\/5.1;FBSS\\\\/2; FBCR\\\\/OrangeRomania;FBID\\\\/phone;FBLC\\\\/en_US;FBSF\\\\/2.0]\", \"c\": \"RO\", \"nk\": 0, \"tz\": \"Europe\\\\/Bucharest\", \"gr\": \"10\", \"g\": \"zkRKYc\", \"h\": \"zq8Iew\", \"l\": \"nasatwitter\", \"al\": \"en-us\", \"hh\": \"go.nasa.gov\", \"r\": \"http:\\\\/\\\\/m.facebook.com\\\\/l.php?u=http%3A%2F%2Fgo.nasa.gov%2Fzq8Iew&h=WAQHfik4G&enc=AZOF6wifhwe2s5AV2r009X6KpivJ0RYPEilmuUbhp1URCXPyQO2jxvn7aWfM1UMVBe2QKSkN5z3pVVfa2T6z54LPqIhOuMClTdsH7dDTN0Wq39Whg4f8pRt_Ieam3Y_V6D-PlrKXhGYW0SrPbPk_ouAqgpqVB9R_AInpK2ce-1b9MbBtJooIe-p_N6zRD8QFpFDt2u9jv48kX4uEupRTbomOUM2YyYX3z_In7EH53HUWTcNcteFFqLU6DCaW55K9nGrp62IOuBKRZXu25e_C3ACPhBLmhndoQMSOa8IK0YD0izCYPgRIqdFD5HZN4WVGPGs\", \"u\": \"http:\\\\/\\\\/www.nasa.gov\\\\/centers\\\\/kennedy\\\\/about\\\\/history\\\\/history-women-oso-sdo.html\", \"t\": 1331924034, \"hc\": 1331909071, \"cy\": \"Bucharest\", \"ll\": [ 44.433300, 26.100000 ] }\\n',\n",
       " '{ \"a\": \"Mozilla\\\\/5.0 (iPad; CPU OS 5_0_1 like Mac OS X) AppleWebKit\\\\/534.46 (KHTML, like Gecko) Mobile\\\\/9A405 Twitter for iPad\", \"c\": \"IT\", \"nk\": 1, \"tz\": \"Europe\\\\/Rome\", \"gr\": \"09\", \"g\": \"xVZg4P\", \"h\": \"wnSmUa\", \"l\": \"glasshouseapps\", \"al\": \"it-it\", \"hh\": \"erlyedt.in\", \"r\": \"https:\\\\/\\\\/twitter.com\\\\/adamanth_twit\\\\/status\\\\/180723510862290945\", \"u\": \"http:\\\\/\\\\/www.nasa.gov\\\\/multimedia\\\\/imagegallery\\\\/image_feature_2199.html\", \"t\": 1331924035, \"hc\": 1331922795, \"cy\": \"Milan\", \"ll\": [ 45.466702, 9.200000 ] }\\n',\n",
       " '{ \"a\": \"Mozilla\\\\/5.0 (Linux; U; Android 2.3.3; en-us; Sprint APA9292KT Build\\\\/GRI40) AppleWebKit\\\\/533.1 (KHTML, like Gecko) Version\\\\/4.0 Mobile Safari\\\\/533.1\", \"c\": \"US\", \"nk\": 0, \"tz\": \"America\\\\/Chicago\", \"gr\": \"MO\", \"g\": \"wy20s\", \"h\": \"xPIx9x\", \"l\": \"addthis\", \"al\": \"en-US\", \"hh\": \"1.usa.gov\", \"r\": \"http:\\\\/\\\\/t.co\\\\/5iiZtitJ\", \"u\": \"http:\\\\/\\\\/radar.weather.gov\\\\/radar.php?rid=LSX&product=N0R&overlay=11101111&loop=yes\", \"t\": 1331924036, \"hc\": 1331846448, \"cy\": \"Valley Park\", \"ll\": [ 38.557701, -90.498596 ] }\\n',\n",
       " '{ \"a\": \"Mozilla\\\\/5.0 (iPad; CPU OS 5_0_1 like Mac OS X) AppleWebKit\\\\/534.46 (KHTML, like Gecko) Mobile\\\\/9A405 Twitter for iPad\", \"c\": \"IT\", \"nk\": 1, \"tz\": \"Europe\\\\/Rome\", \"gr\": \"09\", \"g\": \"xVZg4P\", \"h\": \"wnSmUa\", \"l\": \"glasshouseapps\", \"al\": \"it-it\", \"hh\": \"erlyedt.in\", \"r\": \"direct\", \"u\": \"http:\\\\/\\\\/www.nasa.gov\\\\/multimedia\\\\/imagegallery\\\\/image_feature_2199.html\", \"t\": 1331924036, \"hc\": 1331922795, \"cy\": \"Milan\", \"ll\": [ 45.466702, 9.200000 ] }\\n',\n",
       " '{ \"a\": \"Mozilla\\\\/4.0 (compatible; MSIE 7.0; Windows NT 5.1; Trident\\\\/4.0; .NET CLR 1.1.4322; .NET CLR 2.0.50727; .NET CLR 3.0.4506.2152; .NET CLR 3.5.30729)\", \"c\": \"US\", \"nk\": 0, \"tz\": \"America\\\\/Los_Angeles\", \"gr\": \"CA\", \"g\": \"zB11tl\", \"h\": \"wRh8Lu\", \"l\": \"aashtojournal\", \"al\": \"en-us\", \"hh\": \"1.usa.gov\", \"r\": \"direct\", \"u\": \"http:\\\\/\\\\/www.dot.ca.gov\\\\/hq\\\\/planning\\\\/aeronaut\\\\/dataplates.html\", \"t\": 1331924036, \"hc\": 1331757763, \"kw\": \"Caltrans-heli\", \"cy\": \"Sacramento\", \"ll\": [ 38.576500, -121.444504 ] }\\n',\n",
       " '{ \"a\": \"Mozilla\\\\/5.0 (Windows; U; Windows NT 6.1; en-US; rv:1.9.2.27) Gecko\\\\/20120216 Firefox\\\\/3.6.27 GTB7.1\", \"c\": null, \"nk\": 1, \"tz\": \"\", \"g\": \"vNJS4H\", \"h\": \"u0uD9q\", \"l\": \"o_4us71ccioa\", \"al\": \"en-us,en;q=0.5\", \"hh\": \"1.usa.gov\", \"r\": \"direct\", \"u\": \"https:\\\\/\\\\/www.nysdot.gov\\\\/rexdesign\\\\/design\\\\/community.gif\", \"t\": 1331924037, \"hc\": 1319563556 }\\n',\n",
       " '{ \"a\": \"Mozilla\\\\/4.0 (compatible; MSIE 8.0; Windows NT 5.1; Trident\\\\/4.0)\", \"c\": null, \"nk\": 0, \"tz\": \"\", \"g\": \"xhH6s8\", \"h\": \"zxxzAj\", \"l\": \"tweetdeckapi\", \"al\": \"ru\", \"hh\": \"1.usa.gov\", \"r\": \"http:\\\\/\\\\/yandex.ru\\\\/yandsearch?text=1.usa.gov&lr=213\", \"u\": \"http:\\\\/\\\\/oversight.house.gov\\\\/hearing\\\\/the-right-to-choose-protecting-union-workers-from-forced-political-contributions\\\\/\", \"t\": 1331924038, \"hc\": 1331830185 }\\n',\n",
       " '{ \"a\": \"Mozilla\\\\/5.0 (compatible; MSIE 9.0; Windows NT 6.1; WOW64; Trident\\\\/5.0; yie9)\", \"c\": \"MX\", \"nk\": 0, \"tz\": \"America\\\\/Mexico_City\", \"gr\": \"09\", \"g\": \"zCaLwp\", \"h\": \"zFWLOj\", \"l\": \"tweetdeckapi\", \"al\": \"es-MX\", \"hh\": \"1.usa.gov\", \"r\": \"http:\\\\/\\\\/t.co\\\\/2yQjWaRu\", \"u\": \"http:\\\\/\\\\/apod.nasa.gov\\\\/apod\\\\/ap120312.html\", \"t\": 1331924038, \"hc\": 1331530604, \"cy\": \"Mexico\", \"ll\": [ 19.434200, -99.138603 ] }\\n',\n",
       " '{ \"a\": \"Mozilla\\\\/5.0 (Windows NT 6.1) AppleWebKit\\\\/535.11 (KHTML, like Gecko) Chrome\\\\/17.0.963.79 Safari\\\\/535.11\", \"c\": null, \"nk\": 0, \"tz\": \"\", \"g\": \"wcndER\", \"h\": \"zkpJBR\", \"l\": \"bnjacobs\", \"al\": \"en-US,en;q=0.8\", \"hh\": \"1.usa.gov\", \"r\": \"http:\\\\/\\\\/www.facebook.com\\\\/l.php?u=http%3A%2F%2F1.usa.gov%2FzkpJBR&h=cAQEg20qtAQFyGlT-S90xxbesyPoxHTeZ7Uq0_VF62I5g1w\", \"u\": \"http:\\\\/\\\\/www.nasa.gov\\\\/mission_pages\\\\/nustar\\\\/main\\\\/index.html\", \"t\": 1331924040, \"hc\": 1331922854 }\\n',\n",
       " '{\"_heartbeat_\":1331924041}\\n',\n",
       " '{ \"a\": \"Mozilla\\\\/5.0 (Linux; U; Android 2.3.3; en-us; DROIDX Build\\\\/4.5.1_57_DX5-35) AppleWebKit\\\\/533.1 (KHTML, like Gecko) Version\\\\/4.0 Mobile Safari\\\\/533.1\", \"c\": \"US\", \"nk\": 0, \"tz\": \"America\\\\/Los_Angeles\", \"gr\": \"CA\", \"g\": \"iLXHd1\", \"h\": \"iLXHd1\", \"l\": \"bitly\", \"al\": \"en-US\", \"hh\": \"1.usa.gov\", \"r\": \"direct\", \"u\": \"http:\\\\/\\\\/forecast.weather.gov\\\\/wwamap\\\\/wwatxtget.php?cwa=sgx&wwa=high wind warning\", \"t\": 1331924040, \"hc\": 1304285400, \"cy\": \"Placentia\", \"ll\": [ 33.881802, -117.850304 ] }\\n',\n",
       " '{ \"a\": \"Mozilla\\\\/5.0 (Windows NT 6.0; WOW64; rv:11.0) Gecko\\\\/20100101 Firefox\\\\/11.0\", \"c\": \"JP\", \"nk\": 1, \"tz\": \"Asia\\\\/Tokyo\", \"gr\": \"40\", \"g\": \"xVZg4P\", \"h\": \"wqUkTo\", \"l\": \"nasatwitter\", \"al\": \"ja,en-us;q=0.7,en;q=0.3\", \"hh\": \"go.nasa.gov\", \"r\": \"direct\", \"u\": \"http:\\\\/\\\\/www.nasa.gov\\\\/multimedia\\\\/imagegallery\\\\/image_feature_2199.html\", \"t\": 1331924042, \"hc\": 1331908247, \"cy\": \"Tokyo\", \"ll\": [ 35.685001, 139.751404 ] }\\n',\n",
       " '{ \"a\": \"Mozilla\\\\/4.0 (compatible; MSIE 8.0; Windows NT 5.1; Trident\\\\/4.0; GTB6.3; .NET CLR 1.0.3705; .NET CLR 1.1.4322; .NET CLR 2.0.50727; .NET CLR 3.0.4506.2152; .NET CLR 3.5.30729)\", \"c\": \"JP\", \"nk\": 1, \"tz\": \"Asia\\\\/Tokyo\", \"gr\": \"07\", \"g\": \"92RdYk\", \"h\": \"9QthBN\", \"l\": \"addthis\", \"al\": \"ja\", \"hh\": \"bit.ly\", \"r\": \"http:\\\\/\\\\/togetter.com\\\\/li\\\\/39380\", \"u\": \"http:\\\\/\\\\/www.navy.mil\\\\/view_single.asp?id=65332\", \"t\": 1331924043, \"hc\": 1280722568, \"cy\": \"Nogata\", \"ll\": [ 33.733299, 130.733307 ] }\\n',\n",
       " '{ \"a\": \"Mozilla\\\\/5.0 (Windows NT 6.1) AppleWebKit\\\\/535.11 (KHTML, like Gecko) Chrome\\\\/17.0.963.79 Safari\\\\/535.11\", \"c\": \"US\", \"nk\": 0, \"tz\": \"America\\\\/Chicago\", \"gr\": \"IL\", \"g\": \"wcndER\", \"h\": \"zkpJBR\", \"l\": \"bnjacobs\", \"al\": \"en-US,en;q=0.8\", \"hh\": \"1.usa.gov\", \"r\": \"http:\\\\/\\\\/www.facebook.com\\\\/l.php?u=http%3A%2F%2F1.usa.gov%2FzkpJBR&h=dAQGkoIZSAQEz6rgc_SvC72XZnuETjXFO3C0NqUlL5dej5w\", \"u\": \"http:\\\\/\\\\/www.nasa.gov\\\\/mission_pages\\\\/nustar\\\\/main\\\\/index.html\", \"t\": 1331924043, \"hc\": 1331922854, \"cy\": \"Rockford\", \"ll\": [ 42.271099, -89.059303 ] }\\n',\n",
       " '{ \"a\": \"GoogleMaps\\\\/RochesterNY\", \"c\": \"US\", \"nk\": 0, \"tz\": \"America\\\\/Denver\", \"gr\": \"UT\", \"g\": \"mwszkS\", \"h\": \"mwszkS\", \"l\": \"bitly\", \"hh\": \"1.usa.gov\", \"r\": \"http:\\\\/\\\\/www.AwareMap.com\\\\/\", \"u\": \"http:\\\\/\\\\/www.monroecounty.gov\\\\/etc\\\\/911\\\\/rss.php\", \"t\": 1331924044, \"hc\": 1308262393, \"cy\": \"Provo\", \"ll\": [ 40.218102, -111.613297 ] }\\n',\n",
       " '{ \"a\": \"Mozilla\\\\/5.0 (Windows NT 6.1; WOW64; rv:10.0.2) Gecko\\\\/20100101 Firefox\\\\/10.0.2\", \"c\": \"US\", \"nk\": 1, \"tz\": \"America\\\\/New_York\", \"gr\": \"VT\", \"g\": \"vNJS4H\", \"h\": \"u0uD9q\", \"l\": \"o_4us71ccioa\", \"al\": \"en-us,en;q=0.5\", \"hh\": \"1.usa.gov\", \"r\": \"direct\", \"u\": \"https:\\\\/\\\\/www.nysdot.gov\\\\/rexdesign\\\\/design\\\\/community.gif\", \"t\": 1331924044, \"hc\": 1319563556, \"cy\": \"Manchester Center\", \"ll\": [ 43.168499, -73.034897 ] }\\n',\n",
       " '{ \"a\": \"Mozilla\\\\/5.0 (Macintosh; Intel Mac OS X 10_6_8) AppleWebKit\\\\/534.52.7 (KHTML, like Gecko) Version\\\\/5.1.2 Safari\\\\/534.52.7\", \"c\": \"CL\", \"nk\": 0, \"tz\": \"Chile\\\\/Continental\", \"gr\": \"06\", \"g\": \"wcndER\", \"h\": \"zkpJBR\", \"l\": \"bnjacobs\", \"al\": \"en-us\", \"hh\": \"1.usa.gov\", \"r\": \"http:\\\\/\\\\/t.co\\\\/CxGHAwDE\", \"u\": \"http:\\\\/\\\\/www.nasa.gov\\\\/mission_pages\\\\/nustar\\\\/main\\\\/index.html\", \"t\": 1331924046, \"hc\": 1331922854, \"cy\": \"Concepci\", \"ll\": [ -36.833302, -73.050003 ] }\\n',\n",
       " '{ \"a\": \"Mozilla\\\\/5.0 (Windows NT 5.1; rv:10.0.2) Gecko\\\\/20100101 Firefox\\\\/10.0.2\", \"c\": \"TR\", \"nk\": 1, \"tz\": \"Asia\\\\/Istanbul\", \"gr\": \"55\", \"g\": \"xVZg4P\", \"h\": \"wqUkTo\", \"l\": \"nasatwitter\", \"al\": \"tr-tr,tr;q=0.8,en-us;q=0.5,en;q=0.3\", \"hh\": \"go.nasa.gov\", \"r\": \"http:\\\\/\\\\/t.co\\\\/UKGBxj29\", \"u\": \"http:\\\\/\\\\/www.nasa.gov\\\\/multimedia\\\\/imagegallery\\\\/image_feature_2199.html\", \"t\": 1331924047, \"hc\": 1331908247, \"cy\": \"Samsun\", \"ll\": [ 41.286701, 36.330002 ] }\\n',\n",
       " '{ \"a\": \"Mozilla\\\\/5.0 (Windows NT 6.1; WOW64; rv:10.0.2) Gecko\\\\/20100101 Firefox\\\\/10.0.2\", \"c\": \"GB\", \"nk\": 0, \"tz\": \"Europe\\\\/London\", \"gr\": \"C3\", \"g\": \"xVZg4P\", \"h\": \"wqUkTo\", \"l\": \"nasatwitter\", \"al\": \"en-gb,en;q=0.5\", \"hh\": \"go.nasa.gov\", \"r\": \"direct\", \"u\": \"http:\\\\/\\\\/www.nasa.gov\\\\/multimedia\\\\/imagegallery\\\\/image_feature_2199.html\", \"t\": 1331924048, \"hc\": 1331908247, \"cy\": \"Cambridge\", \"ll\": [ 52.200001, 0.116700 ] }\\n',\n",
       " '{ \"a\": \"Mozilla\\\\/4.0 (compatible; MSIE 8.0; Windows NT 6.1; WOW64; Trident\\\\/4.0; SLCC2; .NET CLR 2.0.50727; .NET CLR 3.5.30729; .NET CLR 3.0.30729; Media Center PC 6.0; InfoPath.2; .NET4.0C; .NET4.0E; .NET CLR 1.1.4322)\", \"c\": \"US\", \"nk\": 0, \"tz\": \"America\\\\/New_York\", \"gr\": \"NY\", \"g\": \"ziq0tv\", \"h\": \"ziq0tv\", \"l\": \"bitly\", \"al\": \"en-us\", \"hh\": \"1.usa.gov\", \"r\": \"direct\", \"u\": \"http:\\\\/\\\\/www.gao.gov\\\\/products\\\\/GAO-12-393\", \"t\": 1331924047, \"hc\": 1331923992, \"cy\": \"New York\", \"ll\": [ 40.761902, -73.976303 ] }\\n',\n",
       " '{ \"a\": \"Mozilla\\\\/5.0 (Windows; U; Windows NT 6.1; en-US; rv:1.9.2.18) Gecko\\\\/20110614 Firefox\\\\/3.6.18\", \"c\": null, \"nk\": 1, \"tz\": \"\", \"g\": \"vNJS4H\", \"h\": \"u0uD9q\", \"l\": \"o_4us71ccioa\", \"al\": \"en-us,en;q=0.5\", \"hh\": \"1.usa.gov\", \"r\": \"direct\", \"u\": \"https:\\\\/\\\\/www.nysdot.gov\\\\/rexdesign\\\\/design\\\\/community.gif\", \"t\": 1331924048, \"hc\": 1319563556 }\\n',\n",
       " '{ \"a\": \"Mozilla\\\\/5.0 (iPhone; CPU iPhone OS 5_1 like Mac OS X) AppleWebKit\\\\/534.46 (KHTML, like Gecko) Mobile\\\\/9B176 Twitter for iPhone\", \"c\": \"GB\", \"nk\": 0, \"tz\": \"Europe\\\\/London\", \"gr\": \"H9\", \"g\": \"yTVsmz\", \"h\": \"vZuCP4\", \"l\": \"ambyburf\", \"al\": \"en-us\", \"hh\": \"1.usa.gov\", \"r\": \"https:\\\\/\\\\/twitter.com\\\\/chemo_babe\\\\/status\\\\/180657692132655104\", \"u\": \"http:\\\\/\\\\/www.ncbi.nlm.nih.gov\\\\/pubmed\\\\/22408332?dopt=Abstract\", \"t\": 1331924050, \"hc\": 1331902734, \"cy\": \"London\", \"ll\": [ 51.500198, -0.126200 ] }\\n',\n",
       " '{ \"a\": \"Mozilla\\\\/5.0 (iPhone; CPU iPhone OS 5_1 like Mac OS X) AppleWebKit\\\\/534.46 (KHTML, like Gecko) Mobile\\\\/9B176 Twitter for iPhone\", \"c\": \"US\", \"nk\": 1, \"tz\": \"America\\\\/Los_Angeles\", \"gr\": \"CA\", \"g\": \"guZ9HS\", \"h\": \"x4kB3L\", \"l\": \"noaa\", \"al\": \"en-us\", \"hh\": \"1.usa.gov\", \"r\": \"https:\\\\/\\\\/twitter.com\\\\/noaacomms\\\\/status\\\\/180678155357532160\", \"u\": \"http:\\\\/\\\\/www.wrh.noaa.gov\\\\/FXC\\\\/wxstory.php?wfo=hnx\", \"t\": 1331924052, \"hc\": 1331911915, \"cy\": \"Los Angeles\", \"ll\": [ 34.052299, -118.385201 ] }\\n',\n",
       " '{ \"a\": \"Mozilla\\\\/5.0 (Windows NT 5.1) AppleWebKit\\\\/535.11 (KHTML, like Gecko) Chrome\\\\/17.0.963.79 Safari\\\\/535.11\", \"c\": \"MX\", \"nk\": 0, \"tz\": \"America\\\\/Mexico_City\", \"gr\": \"09\", \"g\": \"xVTtSE\", \"h\": \"yeE6VR\", \"l\": \"nasatwitter\", \"al\": \"es\", \"hh\": \"go.nasa.gov\", \"r\": \"http:\\\\/\\\\/plus.url.google.com\\\\/url?sa=z&n=1331924054314&url=http%3A%2F%2Fgo.nasa.gov%2FyeE6VR&usg=HgkAp2V_-A6Ma0R8pok0rhRkz8s.\", \"u\": \"http:\\\\/\\\\/www.nasa.gov\\\\/connect\\\\/social\\\\/index.html\", \"t\": 1331924055, \"hc\": 1331905829, \"cy\": \"Mexico\", \"ll\": [ 19.434200, -99.138603 ] }\\n',\n",
       " '{ \"a\": \"Mozilla\\\\/5.0 (Windows NT 6.1; rv:10.0.2) Gecko\\\\/20100101 Firefox\\\\/10.0.2\", \"c\": \"US\", \"nk\": 1, \"tz\": \"America\\\\/New_York\", \"gr\": \"NY\", \"g\": \"vNJS4H\", \"h\": \"u0uD9q\", \"l\": \"o_4us71ccioa\", \"al\": \"en-us,en;q=0.5\", \"hh\": \"1.usa.gov\", \"r\": \"direct\", \"u\": \"https:\\\\/\\\\/www.nysdot.gov\\\\/rexdesign\\\\/design\\\\/community.gif\", \"t\": 1331924055, \"hc\": 1319563556, \"cy\": \"White Plains\", \"ll\": [ 41.029099, -73.758003 ] }\\n',\n",
       " '{ \"a\": \"Mozilla\\\\/5.0 (Windows NT 6.1; WOW64) AppleWebKit\\\\/535.11 (KHTML, like Gecko) Chrome\\\\/17.0.963.79 Safari\\\\/535.11\", \"c\": \"US\", \"nk\": 1, \"tz\": \"America\\\\/New_York\", \"gr\": \"FL\", \"g\": \"vNJS4H\", \"h\": \"u0uD9q\", \"l\": \"o_4us71ccioa\", \"al\": \"en-US,en;q=0.8\", \"hh\": \"1.usa.gov\", \"r\": \"direct\", \"u\": \"https:\\\\/\\\\/www.nysdot.gov\\\\/rexdesign\\\\/design\\\\/community.gif\", \"t\": 1331924056, \"hc\": 1319563556, \"cy\": \"Hallandale\", \"ll\": [ 25.986300, -80.151802 ] }\\n',\n",
       " '{ \"a\": \"Mozilla\\\\/4.0 (compatible; MSIE 8.0; Windows NT 6.1; Trident\\\\/4.0; SLCC2; .NET CLR 2.0.50727; .NET CLR 3.5.30729; .NET CLR 3.0.30729; Media Center PC 6.0; .NET4.0C; .NET4.0E)\", \"c\": \"US\", \"nk\": 0, \"tz\": \"America\\\\/New_York\", \"gr\": \"GA\", \"g\": \"2rOUYc\", \"h\": \"2rOUYc\", \"l\": \"bitly\", \"al\": \"en-US\", \"hh\": \"1.usa.gov\", \"r\": \"direct\", \"u\": \"http:\\\\/\\\\/toxtown.nlm.nih.gov\\\\/index.php\", \"t\": 1331924056, \"hc\": 1255769846, \"cy\": \"Marietta\", \"ll\": [ 33.953201, -84.517700 ] }\\n',\n",
       " '{ \"a\": \"Mozilla\\\\/5.0 (Macintosh; Intel Mac OS X 10.6; rv:10.0.2) Gecko\\\\/20100101 Firefox\\\\/10.0.2\", \"c\": \"US\", \"nk\": 0, \"tz\": \"America\\\\/Los_Angeles\", \"gr\": \"CA\", \"g\": \"wcndER\", \"h\": \"zkpJBR\", \"l\": \"bnjacobs\", \"al\": \"en-us,en;q=0.5\", \"hh\": \"1.usa.gov\", \"r\": \"http:\\\\/\\\\/www.facebook.com\\\\/l.php?u=http%3A%2F%2F1.usa.gov%2FzkpJBR&h=BAQFt7s40AQFlqQOhR2bZH4TdKFOMswvE_X4gWCdRQ0psPw\", \"u\": \"http:\\\\/\\\\/www.nasa.gov\\\\/mission_pages\\\\/nustar\\\\/main\\\\/index.html\", \"t\": 1331924057, \"hc\": 1331922854, \"cy\": \"San Francisco\", \"ll\": [ 37.748402, -122.415604 ] }\\n',\n",
       " '{ \"a\": \"Mozilla\\\\/5.0 (Windows NT 6.1; WOW64) AppleWebKit\\\\/535.11 (KHTML, like Gecko) Chrome\\\\/17.0.963.79 Safari\\\\/535.11\", \"c\": null, \"nk\": 1, \"tz\": \"\", \"g\": \"vNJS4H\", \"h\": \"u0uD9q\", \"l\": \"o_4us71ccioa\", \"al\": \"en-US,en;q=0.8\", \"hh\": \"1.usa.gov\", \"r\": \"direct\", \"u\": \"https:\\\\/\\\\/www.nysdot.gov\\\\/rexdesign\\\\/design\\\\/community.gif\", \"t\": 1331924059, \"hc\": 1319563556 }\\n',\n",
       " '{ \"a\": \"Mozilla\\\\/5.0 (Macintosh; Intel Mac OS X 10_6_8) AppleWebKit\\\\/535.7 (KHTML, like Gecko) Chrome\\\\/16.0.912.77 Safari\\\\/535.7\", \"c\": \"US\", \"nk\": 1, \"tz\": \"America\\\\/New_York\", \"gr\": \"VA\", \"g\": \"vNJS4H\", \"h\": \"u0uD9q\", \"l\": \"o_4us71ccioa\", \"al\": \"en-US,en;q=0.8\", \"hh\": \"1.usa.gov\", \"r\": \"direct\", \"u\": \"https:\\\\/\\\\/www.nysdot.gov\\\\/rexdesign\\\\/design\\\\/community.gif\", \"t\": 1331924061, \"hc\": 1319563556, \"cy\": \"Arlington\", \"ll\": [ 38.908401, -77.120102 ] }\\n',\n",
       " '{ \"a\": \"Mozilla\\\\/5.0 (iPad; CPU OS 5_0_1 like Mac OS X) AppleWebKit\\\\/534.46 (KHTML, like Gecko) Mobile\\\\/9A405 Twitter for iPad\", \"c\": \"BR\", \"nk\": 0, \"tz\": \"America\\\\/Sao_Paulo\", \"gr\": \"27\", \"g\": \"wQacbF\", \"h\": \"AsWr9f\", \"l\": \"addthis\", \"al\": \"en-us\", \"hh\": \"1.usa.gov\", \"r\": \"https:\\\\/\\\\/twitter.com\\\\/whitehouse\\\\/status\\\\/180677826754789376\", \"u\": \"http:\\\\/\\\\/www.whitehouse.gov\\\\/energy\\\\/gasprices#.T2NboBE2Aok.twitter\", \"t\": 1331924061, \"hc\": 1331911584, \"cy\": \"SPaulo\", \"ll\": [ -23.533300, -46.616699 ] }\\n',\n",
       " '{ \"a\": \"Mozilla\\\\/4.0 (compatible; MSIE 7.0; Windows NT 5.1; .NET CLR 1.1.4322; .NET CLR 2.0.50727; .NET CLR 3.0.04506.648; .NET CLR 3.5.21022; InfoPath.2; .NET CLR 3.0.4506.2152; .NET CLR 3.5.30729)\", \"c\": \"US\", \"nk\": 1, \"tz\": \"Pacific\\\\/Honolulu\", \"gr\": \"HI\", \"g\": \"wGYiBu\", \"h\": \"xMA0ql\", \"l\": \"kcatian\", \"al\": \"en-us\", \"hh\": \"1.usa.gov\", \"r\": \"direct\", \"u\": \"http:\\\\/\\\\/www.navy.mil\\\\/search\\\\/display.asp?story_id=65910\", \"t\": 1331924063, \"hc\": 1331922453, \"kw\": \"JEMSprovides\", \"cy\": \"Mililani\", \"ll\": [ 21.470100, -157.963699 ] }\\n',\n",
       " '{ \"a\": \"GoogleProducer\", \"c\": \"US\", \"nk\": 0, \"tz\": \"America\\\\/Los_Angeles\", \"gr\": \"CA\", \"g\": \"yASd9T\", \"h\": \"wumkiU\", \"l\": \"hqsddc\", \"hh\": \"1.usa.gov\", \"r\": \"direct\", \"u\": \"http:\\\\/\\\\/www.army.mil\\\\/article\\\\/75715\\\\/How_to_make_your_PCS_move_go_smoothly\\\\/\", \"t\": 1331924063, \"hc\": 1331816323, \"cy\": \"Mountain View\", \"ll\": [ 37.419201, -122.057404 ] }\\n',\n",
       " '{ \"a\": \"Mozilla\\\\/5.0 (Windows NT 6.1; WOW64) AppleWebKit\\\\/535.11 (KHTML, like Gecko) Chrome\\\\/17.0.963.79 Safari\\\\/535.11\", \"c\": null, \"nk\": 0, \"tz\": \"\", \"g\": \"Ch5wd\", \"h\": \"FOjduY\", \"l\": \"tweetdeckapi\", \"al\": \"ru-RU,ru;q=0.8,en-US;q=0.6,en;q=0.4\", \"hh\": \"1.usa.gov\", \"r\": \"http:\\\\/\\\\/t.co\\\\/6MyeXLgF\", \"u\": \"https:\\\\/\\\\/www.cia.gov\\\\/library\\\\/publications\\\\/world-leaders-1\\\\/index.html\", \"t\": 1331924063, \"hc\": 1331923660 }\\n',\n",
       " '{ \"a\": \"Mozilla\\\\/4.0 (compatible; MSIE 8.0; Windows NT 5.1; Trident\\\\/4.0; GTB6.3; .NET CLR 1.0.3705; .NET CLR 1.1.4322; .NET CLR 2.0.50727; .NET CLR 3.0.4506.2152; .NET CLR 3.5.30729)\", \"c\": \"JP\", \"nk\": 1, \"tz\": \"Asia\\\\/Tokyo\", \"gr\": \"07\", \"g\": \"czvb2P\", \"h\": \"bPr1lg\", \"l\": \"addthis\", \"al\": \"ja\", \"hh\": \"bit.ly\", \"r\": \"http:\\\\/\\\\/togetter.com\\\\/li\\\\/39380\", \"u\": \"http:\\\\/\\\\/www.navy.mil\\\\/view_single.asp?id=65055\", \"t\": 1331924064, \"hc\": 1280722678, \"cy\": \"Nogata\", \"ll\": [ 33.733299, 130.733307 ] }\\n',\n",
       " '{ \"a\": \"Mozilla\\\\/5.0 (Windows NT 6.1; rv:11.0) Gecko\\\\/20100101 Firefox\\\\/11.0\", \"c\": \"US\", \"nk\": 1, \"tz\": \"America\\\\/New_York\", \"gr\": \"MD\", \"g\": \"vNJS4H\", \"h\": \"u0uD9q\", \"l\": \"o_4us71ccioa\", \"al\": \"en-us,en;q=0.5\", \"hh\": \"1.usa.gov\", \"r\": \"direct\", \"u\": \"https:\\\\/\\\\/www.nysdot.gov\\\\/rexdesign\\\\/design\\\\/community.gif\", \"t\": 1331924063, \"hc\": 1319563556, \"cy\": \"Laurel\", \"ll\": [ 39.096699, -76.877899 ] }\\n',\n",
       " '{ \"a\": \"Mozilla\\\\/5.0 (Linux; U; Android 2.1-update1; en-gb; HTC_Wildfire_A3333 Build\\\\/ERE27) AppleWebKit\\\\/530.17 (KHTML, like Gecko) Version\\\\/4.0 Mobile Safari\\\\/530.17\", \"c\": null, \"nk\": 0, \"tz\": \"\", \"g\": \"xVZg4P\", \"h\": \"wqUkTo\", \"l\": \"nasatwitter\", \"al\": \"en-GB, en-US\", \"hh\": \"go.nasa.gov\", \"r\": \"http:\\\\/\\\\/t.co\\\\/UKGBxj29\", \"u\": \"http:\\\\/\\\\/www.nasa.gov\\\\/multimedia\\\\/imagegallery\\\\/image_feature_2199.html\", \"t\": 1331924062, \"hc\": 1331908247 }\\n',\n",
       " '{ \"a\": \"Mozilla\\\\/5.0 (compatible; MSIE 9.0; Windows NT 6.1; WOW64; Trident\\\\/5.0)\", \"c\": \"FR\", \"nk\": 0, \"tz\": \"Europe\\\\/Paris\", \"gr\": \"B2\", \"g\": \"wcndER\", \"h\": \"zkpJBR\", \"l\": \"bnjacobs\", \"al\": \"fr-FR\", \"hh\": \"1.usa.gov\", \"r\": \"http:\\\\/\\\\/www.facebook.com\\\\/l.php?u=http%3A%2F%2F1.usa.gov%2FzkpJBR&h=lAQENB4D1AQGqTP5VS7AOKbXyLRXExGvsEOceUoUyi56cGQ\", \"u\": \"http:\\\\/\\\\/www.nasa.gov\\\\/mission_pages\\\\/nustar\\\\/main\\\\/index.html\", \"t\": 1331924063, \"hc\": 1331922854, \"cy\": \"Saint-nicolas-de-port\", \"ll\": [ 48.633301, 6.300000 ] }\\n',\n",
       " '{ \"a\": \"Mozilla\\\\/5.0 (Macintosh; Intel Mac OS X 10_5_8) AppleWebKit\\\\/534.50.2 (KHTML, like Gecko) Version\\\\/5.0.6 Safari\\\\/533.22.3\", \"c\": \"US\", \"nk\": 1, \"tz\": \"America\\\\/New_York\", \"gr\": \"NJ\", \"g\": \"hbCd4V\", \"h\": \"hbCd4V\", \"l\": \"bitly\", \"al\": \"en-us\", \"hh\": \"1.usa.gov\", \"r\": \"direct\", \"u\": \"http:\\\\/\\\\/www.fns.usda.gov\\\\/cga\\\\/PressReleases\\\\/2011\\\\/0133.htm\", \"t\": 1331924063, \"hc\": 1301096838, \"cy\": \"North Bergen\", \"ll\": [ 40.790401, -74.024597 ] }\\n',\n",
       " '{ \"a\": \"Mozilla\\\\/4.0 (compatible; MSIE 7.0; Windows NT 5.1; .NET CLR 1.1.4322; .NET CLR 2.0.50727; .NET CLR 3.0.04506.648; .NET CLR 3.5.21022; InfoPath.2; .NET CLR 3.0.4506.2152; .NET CLR 3.5.30729)\", \"c\": \"US\", \"nk\": 1, \"tz\": \"Pacific\\\\/Honolulu\", \"gr\": \"HI\", \"g\": \"wGYiBu\", \"h\": \"xMA0ql\", \"l\": \"kcatian\", \"al\": \"en-us\", \"hh\": \"1.usa.gov\", \"r\": \"direct\", \"u\": \"http:\\\\/\\\\/www.navy.mil\\\\/search\\\\/display.asp?story_id=65910\", \"t\": 1331924063, \"hc\": 1331922453, \"kw\": \"JEMSprovides\", \"cy\": \"Honolulu\", \"ll\": [ 21.313900, -157.824493 ] }\\n',\n",
       " '{ \"a\": \"Mozilla\\\\/5.0 (Windows NT 6.1; WOW64; rv:10.0.2) Gecko\\\\/20100101 Firefox\\\\/10.0.2\", \"c\": \"US\", \"nk\": 1, \"tz\": \"America\\\\/Chicago\", \"gr\": \"TX\", \"g\": \"vNJS4H\", \"h\": \"u0uD9q\", \"l\": \"o_4us71ccioa\", \"al\": \"en-us,en;q=0.5\", \"hh\": \"1.usa.gov\", \"r\": \"direct\", \"u\": \"https:\\\\/\\\\/www.nysdot.gov\\\\/rexdesign\\\\/design\\\\/community.gif\", \"t\": 1331924064, \"hc\": 1319563556, \"cy\": \"Dallas\", \"ll\": [ 32.809799, -96.799301 ] }\\n',\n",
       " '{ \"a\": \"Mozilla\\\\/5.0 (Windows NT 6.1; WOW64) AppleWebKit\\\\/535.19 (KHTML, like Gecko) Chrome\\\\/18.0.1025.100 Safari\\\\/535.19\", \"c\": \"US\", \"nk\": 0, \"tz\": \"America\\\\/Denver\", \"gr\": \"CO\", \"g\": \"iagEMf\", \"h\": \"iagEMf\", \"l\": \"bitly\", \"al\": \"en-US,en;q=0.8\", \"hh\": \"1.usa.gov\", \"r\": \"http:\\\\/\\\\/www.cbs8.com\\\\/story\\\\/9532416\\\\/weather-update\", \"u\": \"http:\\\\/\\\\/forecast.weather.gov\\\\/wwamap\\\\/wwatxtget.php?cwa=sgx&wwa=wind advisory\", \"t\": 1331924064, \"hc\": 1303603516, \"cy\": \"Littleton\", \"ll\": [ 39.528999, -104.904999 ] }\\n',\n",
       " '{ \"a\": \"Mozilla\\\\/5.0 (Macintosh; Intel Mac OS X 10_6_6) AppleWebKit\\\\/535.11 (KHTML, like Gecko) Chrome\\\\/17.0.963.79 Safari\\\\/535.11\", \"c\": \"US\", \"nk\": 1, \"tz\": \"America\\\\/New_York\", \"gr\": \"NY\", \"g\": \"vNJS4H\", \"h\": \"u0uD9q\", \"l\": \"o_4us71ccioa\", \"al\": \"en-US,en;q=0.8\", \"hh\": \"1.usa.gov\", \"r\": \"direct\", \"u\": \"https:\\\\/\\\\/www.nysdot.gov\\\\/rexdesign\\\\/design\\\\/community.gif\", \"t\": 1331924064, \"hc\": 1319563556, \"cy\": \"White Plains\", \"ll\": [ 41.029099, -73.758003 ] }\\n',\n",
       " '{ \"a\": \"Mozilla\\\\/5.0 (Windows NT 6.1; WOW64; rv:10.0.2) Gecko\\\\/20100101 Firefox\\\\/10.0.2\", \"c\": \"US\", \"nk\": 1, \"tz\": \"America\\\\/New_York\", \"gr\": \"MA\", \"g\": \"wcndER\", \"h\": \"zkpJBR\", \"l\": \"bnjacobs\", \"al\": \"en-us,en;q=0.5\", \"hh\": \"1.usa.gov\", \"r\": \"http:\\\\/\\\\/www.facebook.com\\\\/\", \"u\": \"http:\\\\/\\\\/www.nasa.gov\\\\/mission_pages\\\\/nustar\\\\/main\\\\/index.html\", \"t\": 1331924066, \"hc\": 1331922854, \"cy\": \"Boston\", \"ll\": [ 42.342400, -71.087799 ] }\\n',\n",
       " '{ \"a\": \"Mozilla\\\\/5.0 (Windows; U; Windows NT 6.1; en-US; rv:1.9.2.27) Gecko\\\\/20120216 Firefox\\\\/3.6.27\", \"c\": \"US\", \"nk\": 1, \"tz\": \"America\\\\/New_York\", \"gr\": \"NJ\", \"g\": \"vNJS4H\", \"h\": \"u0uD9q\", \"l\": \"o_4us71ccioa\", \"al\": \"en-us,en;q=0.5\", \"hh\": \"1.usa.gov\", \"r\": \"direct\", \"u\": \"https:\\\\/\\\\/www.nysdot.gov\\\\/rexdesign\\\\/design\\\\/community.gif\", \"t\": 1331924065, \"hc\": 1319563556, \"cy\": \"Swedesboro\", \"ll\": [ 39.743698, -75.346199 ] }\\n',\n",
       " '{ \"a\": \"Mozilla\\\\/5.0 (iPhone; CPU iPhone OS 5_0_1 like Mac OS X) AppleWebKit\\\\/534.46 (KHTML, like Gecko) Version\\\\/5.1 Mobile\\\\/9A406 Safari\\\\/7534.48.3\", \"c\": null, \"nk\": 0, \"tz\": \"\", \"g\": \"iLXHd1\", \"h\": \"iLXHd1\", \"l\": \"bitly\", \"al\": \"en-us\", \"hh\": \"1.usa.gov\", \"r\": \"http:\\\\/\\\\/t.co\\\\/dnADqY4f\", \"u\": \"http:\\\\/\\\\/forecast.weather.gov\\\\/wwamap\\\\/wwatxtget.php?cwa=sgx&wwa=high wind warning\", \"t\": 1331924067, \"hc\": 1304285400 }\\n',\n",
       " '{ \"a\": \"Mozilla\\\\/5.0 (Windows NT 6.1; WOW64) AppleWebKit\\\\/535.11 (KHTML, like Gecko) Chrome\\\\/17.0.963.79 Safari\\\\/535.11\", \"c\": \"US\", \"nk\": 0, \"tz\": \"America\\\\/Chicago\", \"gr\": \"MN\", \"g\": \"A30e2b\", \"h\": \"A30e2b\", \"l\": \"bitly\", \"al\": \"en-US,en;q=0.8\", \"hh\": \"1.usa.gov\", \"r\": \"http:\\\\/\\\\/www.sltrib.com\\\\/sltrib\\\\/politics\\\\/53728870-90\\\\/district-filed-former-kimball.html.csp\", \"u\": \"http:\\\\/\\\\/elections.utah.gov\\\\/election-resources\\\\/2012-candidate-filings\", \"t\": 1331924068, \"hc\": 1331687030, \"cy\": \"Minnetonka\", \"ll\": [ 44.919800, -93.483200 ] }\\n',\n",
       " '{\"_heartbeat_\":1331924071}\\n',\n",
       " '{ \"a\": \"Mozilla\\\\/5.0 (Windows NT 6.1; WOW64) AppleWebKit\\\\/535.11 (KHTML, like Gecko) Chrome\\\\/17.0.963.79 Safari\\\\/535.11\", \"c\": null, \"nk\": 1, \"tz\": \"\", \"g\": \"vNJS4H\", \"h\": \"u0uD9q\", \"l\": \"o_4us71ccioa\", \"al\": \"en-US,en;q=0.8\", \"hh\": \"1.usa.gov\", \"r\": \"direct\", \"u\": \"https:\\\\/\\\\/www.nysdot.gov\\\\/rexdesign\\\\/design\\\\/community.gif\", \"t\": 1331924072, \"hc\": 1319563556 }\\n',\n",
       " '{ \"a\": \"Mozilla\\\\/5.0 (Windows NT 5.1) AppleWebKit\\\\/535.11 (KHTML, like Gecko) Chrome\\\\/17.0.963.79 Safari\\\\/535.11\", \"c\": null, \"nk\": 1, \"tz\": \"\", \"g\": \"AzvrYy\", \"h\": \"z5wcUQ\", \"l\": \"tweetdeckapi\", \"al\": \"en-US,en;q=0.8\", \"hh\": \"1.usa.gov\", \"r\": \"http:\\\\/\\\\/t.co\\\\/UaquwmIr\", \"u\": \"http:\\\\/\\\\/memory.loc.gov\\\\/intldl\\\\/mtfhtml\\\\/mfdigcol\\\\/nlrph.html#h_eng\", \"t\": 1331924070, \"hc\": 1331823301 }\\n',\n",
       " '{ \"a\": \"Mozilla\\\\/5.0 (Windows NT 6.0; rv:10.0.2) Gecko\\\\/20100101 Firefox\\\\/10.0.2\", \"c\": \"US\", \"nk\": 1, \"tz\": \"America\\\\/Los_Angeles\", \"gr\": \"WA\", \"g\": \"xKUlqF\", \"h\": \"ynq3vT\", \"l\": \"kcnews\", \"al\": \"en-us,en;q=0.5\", \"hh\": \"1.usa.gov\", \"r\": \"http:\\\\/\\\\/t.co\\\\/PjjgyoU6\", \"u\": \"http:\\\\/\\\\/www.kingcounty.gov\\\\/property\\\\/RealEstateServices\\\\/CountyPropertyForSale.aspx\", \"t\": 1331924072, \"hc\": 1330731297, \"cy\": \"Sammamish\", \"ll\": [ 47.603699, -122.026100 ] }\\n',\n",
       " '{ \"a\": \"Mozilla\\\\/5.0 (Windows NT 6.1; WOW64) AppleWebKit\\\\/535.11 (KHTML, like Gecko) Chrome\\\\/17.0.963.79 Safari\\\\/535.11\", \"c\": \"US\", \"nk\": 1, \"tz\": \"America\\\\/Los_Angeles\", \"gr\": \"CA\", \"g\": \"vNJS4H\", \"h\": \"u0uD9q\", \"l\": \"o_4us71ccioa\", \"al\": \"en-US,en;q=0.8\", \"hh\": \"1.usa.gov\", \"r\": \"direct\", \"u\": \"https:\\\\/\\\\/www.nysdot.gov\\\\/rexdesign\\\\/design\\\\/community.gif\", \"t\": 1331924072, \"hc\": 1319563556, \"cy\": \"Palo Alto\", \"ll\": [ 37.376202, -122.182602 ] }\\n',\n",
       " '{ \"a\": \"Mozilla\\\\/5.0 (Windows NT 6.0) AppleWebKit\\\\/535.11 (KHTML, like Gecko) Chrome\\\\/17.0.963.79 Safari\\\\/535.11\", \"c\": \"US\", \"nk\": 1, \"tz\": \"America\\\\/New_York\", \"gr\": \"SC\", \"g\": \"xVZg4P\", \"h\": \"wqUkTo\", \"l\": \"nasatwitter\", \"al\": \"en-US,en;q=0.8\", \"hh\": \"go.nasa.gov\", \"r\": \"http:\\\\/\\\\/t.co\\\\/UKGBxj29\", \"u\": \"http:\\\\/\\\\/www.nasa.gov\\\\/multimedia\\\\/imagegallery\\\\/image_feature_2199.html\", \"t\": 1331924072, \"hc\": 1331908247, \"cy\": \"Greenville\", \"ll\": [ 34.847698, -82.379097 ] }\\n',\n",
       " '{ \"a\": \"Mozilla\\\\/5.0 (iPhone; CPU iPhone OS 5_1 like Mac OS X) AppleWebKit\\\\/534.46 (KHTML, like Gecko) Version\\\\/5.1 Mobile\\\\/9B176 Safari\\\\/7534.48.3\", \"c\": null, \"nk\": 0, \"tz\": \"\", \"g\": \"pKGBxw\", \"h\": \"vsm28q\", \"l\": \"micheal67\", \"al\": \"en-us\", \"hh\": \"1.usa.gov\", \"r\": \"direct\", \"u\": \"http:\\\\/\\\\/www.cnic.navy.mil\\\\/navycni\\\\/groups\\\\/public\\\\/@cnrma\\\\/documents\\\\/document\\\\/cnicd_a116089.pdf\", \"t\": 1331924075, \"hc\": 1320241999 }\\n',\n",
       " '{ \"a\": \"Mozilla\\\\/5.0 (Windows NT 6.1; WOW64; rv:10.0.2) Gecko\\\\/20100101 Firefox\\\\/10.0.2\", \"c\": \"US\", \"nk\": 1, \"tz\": \"America\\\\/New_York\", \"gr\": \"NC\", \"g\": \"vNJS4H\", \"h\": \"u0uD9q\", \"l\": \"o_4us71ccioa\", \"al\": \"en-us,en;q=0.5\", \"hh\": \"1.usa.gov\", \"r\": \"direct\", \"u\": \"https:\\\\/\\\\/www.nysdot.gov\\\\/rexdesign\\\\/design\\\\/community.gif\", \"t\": 1331924079, \"hc\": 1319563556, \"cy\": \"Raleigh\", \"ll\": [ 35.827801, -78.642097 ] }\\n',\n",
       " '{ \"a\": \"Mozilla\\\\/5.0 (Windows; U; Windows NT 6.1; en-US; rv:1.9.2.18) Gecko\\\\/20110614 Firefox\\\\/3.6.18\", \"c\": null, \"nk\": 1, \"tz\": \"\", \"g\": \"vNJS4H\", \"h\": \"u0uD9q\", \"l\": \"o_4us71ccioa\", \"al\": \"en-us,en;q=0.5\", \"hh\": \"1.usa.gov\", \"r\": \"direct\", \"u\": \"https:\\\\/\\\\/www.nysdot.gov\\\\/rexdesign\\\\/design\\\\/community.gif\", \"t\": 1331924077, \"hc\": 1319563556 }\\n',\n",
       " '{ \"a\": \"TEST_INTERNET_AGENT\", \"c\": \"US\", \"nk\": 1, \"tz\": \"America\\\\/New_York\", \"gr\": \"FL\", \"g\": \"isLRD\", \"h\": \"isLRD\", \"l\": \"bitly\", \"hh\": \"1.usa.gov\", \"r\": \"direct\", \"u\": \"http:\\\\/\\\\/www.senate.gov\\\\/general\\\\/contact_information\\\\/senators_cfm.cfm?OrderBy=party&Sort=ASC\", \"t\": 1331924079, \"hc\": 1250279162, \"cy\": \"Miami\", \"ll\": [ 25.761499, -80.293900 ] }\\n',\n",
       " '{ \"a\": \"Mozilla\\\\/5.0 (iPad; CPU OS 5_1 like Mac OS X) AppleWebKit\\\\/534.46 (KHTML, like Gecko) Mobile\\\\/9B176 Twitter for iPad\", \"c\": \"US\", \"nk\": 1, \"tz\": \"America\\\\/New_York\", \"gr\": \"MI\", \"g\": \"xGUTp8\", \"h\": \"xGUTp8\", \"l\": \"bitly\", \"al\": \"en-us\", \"hh\": \"1.usa.gov\", \"r\": \"https:\\\\/\\\\/twitter.com\\\\/michigandot\\\\/status\\\\/180726790371819520\", \"u\": \"http:\\\\/\\\\/www.michigan.gov\\\\/mdot\\\\/0,4616,7-151-9621_11008_45614-273205--,00.html\", \"t\": 1331924078, \"hc\": 1331901086, \"cy\": \"Traverse City\", \"ll\": [ 44.795101, -85.649803 ] }\\n',\n",
       " '{ \"a\": \"TEST_INTERNET_AGENT\", \"c\": \"US\", \"nk\": 1, \"tz\": \"America\\\\/New_York\", \"gr\": \"FL\", \"g\": \"isLRD\", \"h\": \"isLRD\", \"l\": \"bitly\", \"hh\": \"1.usa.gov\", \"r\": \"direct\", \"u\": \"http:\\\\/\\\\/www.senate.gov\\\\/general\\\\/contact_information\\\\/senators_cfm.cfm?OrderBy=party&Sort=ASC\", \"t\": 1331924080, \"hc\": 1250279162, \"cy\": \"Miami\", \"ll\": [ 25.761499, -80.293900 ] }\\n',\n",
       " '{ \"a\": \"Mozilla\\\\/5.0 (Windows NT 6.1; WOW64; rv:10.0.2) Gecko\\\\/20100101 Firefox\\\\/10.0.2\", \"c\": \"ES\", \"nk\": 0, \"tz\": \"Europe\\\\/Madrid\", \"gr\": \"57\", \"g\": \"wcndER\", \"h\": \"zkpJBR\", \"l\": \"bnjacobs\", \"al\": \"es-es,es;q=0.8,en-us;q=0.5,en;q=0.3\", \"hh\": \"1.usa.gov\", \"r\": \"http:\\\\/\\\\/www.facebook.com\\\\/l.php?u=http%3A%2F%2F1.usa.gov%2FzkpJBR&h=6AQFw8zPzAQFMNn1bPhhTUdye33Hq1NfvpDIzs4MU5imWAw\", \"u\": \"http:\\\\/\\\\/www.nasa.gov\\\\/mission_pages\\\\/nustar\\\\/main\\\\/index.html\", \"t\": 1331924080, \"hc\": 1331922854, \"cy\": \"Castuera\", \"ll\": [ 38.716702, -5.550000 ] }\\n',\n",
       " '{ \"a\": \"Mozilla\\\\/5.0 (Windows NT 5.1; rv:10.0.2) Gecko\\\\/20100101 Firefox\\\\/10.0.2\", \"c\": \"PL\", \"nk\": 0, \"tz\": \"Europe\\\\/Warsaw\", \"gr\": \"86\", \"g\": \"wcndER\", \"h\": \"zkpJBR\", \"l\": \"bnjacobs\", \"al\": \"pl,en-us;q=0.7,en;q=0.3\", \"hh\": \"1.usa.gov\", \"r\": \"http:\\\\/\\\\/www.facebook.com\\\\/l.php?u=http%3A%2F%2F1.usa.gov%2FzkpJBR&h=wAQFQq2PwAQGgo4PlZyQ4sr1cCQnvoFZR38a5liwBKoCy7w\", \"u\": \"http:\\\\/\\\\/www.nasa.gov\\\\/mission_pages\\\\/nustar\\\\/main\\\\/index.html\", \"t\": 1331924079, \"hc\": 1331922854, \"cy\": \"Przezmierowo\", \"ll\": [ 52.433300, 16.716700 ] }\\n',\n",
       " '{ \"a\": \"Mozilla\\\\/5.0 (Windows NT 6.1; WOW64) AppleWebKit\\\\/535.11 (KHTML, like Gecko) Chrome\\\\/17.0.963.79 Safari\\\\/535.11\", \"c\": \"US\", \"nk\": 0, \"tz\": \"America\\\\/Los_Angeles\", \"gr\": \"CA\", \"g\": \"x5Zksw\", \"h\": \"x3TIvB\", \"l\": \"ddilistserv\", \"al\": \"en-US,en;q=0.8\", \"hh\": \"1.usa.gov\", \"r\": \"direct\", \"u\": \"http:\\\\/\\\\/www.fda.gov\\\\/NewsEvents\\\\/Newsroom\\\\/PressAnnouncements\\\\/ucm296006.htm\", \"t\": 1331924080, \"hc\": 1331818358, \"kw\": \"escitalopramL\", \"cy\": \"Oakland\", \"ll\": [ 37.794998, -122.219299 ] }\\n',\n",
       " '{ \"a\": \"Mozilla\\\\/5.0 (Windows NT 6.0) AppleWebKit\\\\/535.11 (KHTML, like Gecko) Chrome\\\\/17.0.963.79 Safari\\\\/535.11\", \"c\": \"US\", \"nk\": 1, \"tz\": \"America\\\\/Chicago\", \"gr\": \"AR\", \"g\": \"xXVEFW\", \"h\": \"xnoP9x\", \"l\": \"bufferapp\", \"al\": \"en-US,en;q=0.8\", \"hh\": \"1.usa.gov\", \"r\": \"http:\\\\/\\\\/t.co\\\\/FB5cSOBA\", \"u\": \"http:\\\\/\\\\/www.nasa.gov\\\\/home\\\\/hqnews\\\\/2012\\\\/mar\\\\/HQ_12-082_WISE_Infrared_Sky.html\", \"t\": 1331924081, \"hc\": 1331904598, \"cy\": \"Arkadelphia\", \"ll\": [ 34.026798, -93.064400 ] }\\n',\n",
       " '{ \"a\": \"Mozilla\\\\/5.0 (Windows NT 6.1; WOW64; rv:10.0.2) Gecko\\\\/20100101 Firefox\\\\/10.0.2\", \"c\": \"US\", \"nk\": 0, \"tz\": \"America\\\\/Chicago\", \"gr\": \"AL\", \"g\": \"rOdd29\", \"h\": \"w8VXmH\", \"l\": \"drunktank\", \"al\": \"en-us,en;q=0.5\", \"hh\": \"1.usa.gov\", \"r\": \"direct\", \"u\": \"http:\\\\/\\\\/www.irs.gov\\\\/newsroom\\\\/article\\\\/0,,id=250882,00.html\", \"t\": 1331924082, \"hc\": 1331742257, \"cy\": \"Ardmore\", \"ll\": [ 34.958000, -86.778198 ] }\\n',\n",
       " '{ \"a\": \"Mozilla\\\\/5.0 (Windows; U; Windows NT 6.1; en-US; rv:1.9.2.26) Gecko\\\\/20120128 Firefox\\\\/3.6.26\", \"c\": \"US\", \"nk\": 1, \"tz\": \"America\\\\/New_York\", \"gr\": \"OH\", \"g\": \"vNJS4H\", \"h\": \"u0uD9q\", \"l\": \"o_4us71ccioa\", \"al\": \"en-us,en;q=0.5\", \"hh\": \"1.usa.gov\", \"r\": \"direct\", \"u\": \"https:\\\\/\\\\/www.nysdot.gov\\\\/rexdesign\\\\/design\\\\/community.gif\", \"t\": 1331924083, \"hc\": 1319563556, \"cy\": \"Cincinnati\", \"ll\": [ 39.169899, -84.485901 ] }\\n',\n",
       " '{ \"a\": \"Mozilla\\\\/5.0 (Windows NT 6.1; WOW64) AppleWebKit\\\\/535.11 (KHTML, like Gecko) Chrome\\\\/17.0.963.79 Safari\\\\/535.11\", \"c\": \"US\", \"nk\": 1, \"tz\": \"America\\\\/Los_Angeles\", \"gr\": \"CA\", \"g\": \"vNJS4H\", \"h\": \"u0uD9q\", \"l\": \"o_4us71ccioa\", \"al\": \"en-US,en;q=0.8\", \"hh\": \"1.usa.gov\", \"r\": \"direct\", \"u\": \"https:\\\\/\\\\/www.nysdot.gov\\\\/rexdesign\\\\/design\\\\/community.gif\", \"t\": 1331924084, \"hc\": 1319563556, \"cy\": \"Palo Alto\", \"ll\": [ 37.376202, -122.182602 ] }\\n',\n",
       " '{ \"a\": \"Mozilla\\\\/5.0 (Windows NT 6.1; WOW64) AppleWebKit\\\\/535.11 (KHTML, like Gecko) Chrome\\\\/17.0.963.79 Safari\\\\/535.11\", \"c\": \"US\", \"nk\": 1, \"tz\": \"America\\\\/New_York\", \"gr\": \"FL\", \"g\": \"vNJS4H\", \"h\": \"u0uD9q\", \"l\": \"o_4us71ccioa\", \"al\": \"en-US,en;q=0.8\", \"hh\": \"1.usa.gov\", \"r\": \"direct\", \"u\": \"https:\\\\/\\\\/www.nysdot.gov\\\\/rexdesign\\\\/design\\\\/community.gif\", \"t\": 1331924084, \"hc\": 1319563556, \"cy\": \"Hallandale\", \"ll\": [ 25.986300, -80.151802 ] }\\n',\n",
       " '{ \"a\": \"GoogleProducer\", \"c\": \"US\", \"nk\": 0, \"tz\": \"America\\\\/Los_Angeles\", \"gr\": \"CA\", \"g\": \"yASd9T\", \"h\": \"wumkiU\", \"l\": \"hqsddc\", \"hh\": \"1.usa.gov\", \"r\": \"direct\", \"u\": \"http:\\\\/\\\\/www.army.mil\\\\/article\\\\/75715\\\\/How_to_make_your_PCS_move_go_smoothly\\\\/\", \"t\": 1331924084, \"hc\": 1331816323, \"cy\": \"Mountain View\", \"ll\": [ 37.419201, -122.057404 ] }\\n',\n",
       " '{ \"a\": \"Mozilla\\\\/5.0 (Windows NT 5.1; rv:10.0.2) Gecko\\\\/20100101 Firefox\\\\/10.0.2\", \"c\": \"DE\", \"nk\": 0, \"tz\": \"Europe\\\\/Berlin\", \"gr\": \"16\", \"g\": \"wUsrEq\", \"h\": \"wUsrEq\", \"l\": \"bitly\", \"al\": \"en-us,en;q=0.5\", \"hh\": \"1.usa.gov\", \"r\": \"http:\\\\/\\\\/t.co\\\\/s2zXjXQG\", \"u\": \"http:\\\\/\\\\/www.nasa.gov\\\\/topics\\\\/earth\\\\/features\\\\/seac4rs.html\", \"t\": 1331924085, \"hc\": 1331670810, \"cy\": \"Berlin\", \"ll\": [ 52.516701, 13.400000 ] }\\n',\n",
       " '{ \"a\": \"Mozilla\\\\/5.0 (Windows; U; Windows NT 6.1; en-US; rv:1.9.2.27) Gecko\\\\/20120216 Firefox\\\\/3.6.27\", \"c\": \"US\", \"nk\": 1, \"tz\": \"America\\\\/New_York\", \"gr\": \"PA\", \"g\": \"vNJS4H\", \"h\": \"u0uD9q\", \"l\": \"o_4us71ccioa\", \"al\": \"en-us,en;q=0.5\", \"hh\": \"1.usa.gov\", \"r\": \"direct\", \"u\": \"https:\\\\/\\\\/www.nysdot.gov\\\\/rexdesign\\\\/design\\\\/community.gif\", \"t\": 1331924087, \"hc\": 1319563556, \"cy\": \"Wilkes Barre\", \"ll\": [ 41.272301, -75.839897 ] }\\n',\n",
       " '{ \"a\": \"Mozilla\\\\/5.0 (Macintosh; Intel Mac OS X 10_6_8) AppleWebKit\\\\/534.52.7 (KHTML, like Gecko) Version\\\\/5.1.2 Safari\\\\/534.52.7\", \"c\": \"CL\", \"nk\": 1, \"tz\": \"Chile\\\\/Continental\", \"gr\": \"06\", \"g\": \"wcndER\", \"h\": \"zkpJBR\", \"l\": \"bnjacobs\", \"al\": \"en-us\", \"hh\": \"1.usa.gov\", \"r\": \"http:\\\\/\\\\/t.co\\\\/CxGHAwDE\", \"u\": \"http:\\\\/\\\\/www.nasa.gov\\\\/mission_pages\\\\/nustar\\\\/main\\\\/index.html\", \"t\": 1331924086, \"hc\": 1331922854, \"cy\": \"Concepci\", \"ll\": [ -36.833302, -73.050003 ] }\\n',\n",
       " '{ \"a\": \"GoogleMaps\\\\/RochesterNY\", \"c\": \"US\", \"nk\": 0, \"tz\": \"America\\\\/Denver\", \"gr\": \"UT\", \"g\": \"mwszkS\", \"h\": \"mwszkS\", \"l\": \"bitly\", \"hh\": \"j.mp\", \"r\": \"http:\\\\/\\\\/www.AwareMap.com\\\\/\", \"u\": \"http:\\\\/\\\\/www.monroecounty.gov\\\\/etc\\\\/911\\\\/rss.php\", \"t\": 1331924088, \"hc\": 1308262393, \"cy\": \"Provo\", \"ll\": [ 40.218102, -111.613297 ] }\\n',\n",
       " '{ \"a\": \"Mozilla\\\\/5.0 (iPhone; U; CPU iPhone OS 5_0_1 like Mac OS X; en_US) AppleWebKit (KHTML, like Gecko) Mobile [FBAN\\\\/FBForIPhone;FBAV\\\\/4.0.3;FBBV\\\\/4030.0;FBDV\\\\/iPhone3,1;FBMD\\\\/iPhone;FBSN\\\\/iPhone OS;FBSV\\\\/5.0.1;FBSS\\\\/2; FBCR\\\\/AT&T;FBID\\\\/phone;FBLC\\\\/en_US;FBSF\\\\/2.0]\", \"c\": \"US\", \"nk\": 1, \"tz\": \"America\\\\/Los_Angeles\", \"gr\": \"CA\", \"g\": \"90OLi\", \"h\": \"1akr7W\", \"l\": \"cacorrections\", \"al\": \"en-us\", \"hh\": \"bit.ly\", \"r\": \"http:\\\\/\\\\/m.facebook.com\\\\/l.php?u=http%3A%2F%2Fbit.ly%2Fcdcrstar&h=6AQGaMYkj\", \"u\": \"http:\\\\/\\\\/www.cdcr.ca.gov\\\\/cdcrstar\\\\/index.html\", \"t\": 1331924087, \"hc\": 1248360950, \"kw\": \"cdcrstar\", \"cy\": \"Winters\", \"ll\": [ 38.560200, -121.996101 ] }\\n',\n",
       " '{ \"a\": \"Mozilla\\\\/5.0 (Windows NT 6.1; WOW64; rv:10.0.2) Gecko\\\\/20100101 Firefox\\\\/10.0.2\", \"c\": \"US\", \"nk\": 1, \"tz\": \"America\\\\/New_York\", \"gr\": \"VA\", \"g\": \"vNJS4H\", \"h\": \"u0uD9q\", \"l\": \"o_4us71ccioa\", \"al\": \"en-us,en;q=0.5\", \"hh\": \"1.usa.gov\", \"r\": \"direct\", \"u\": \"https:\\\\/\\\\/www.nysdot.gov\\\\/rexdesign\\\\/design\\\\/community.gif\", \"t\": 1331924088, \"hc\": 1319563556, \"cy\": \"Alexandria\", \"ll\": [ 38.790901, -77.094704 ] }\\n',\n",
       " '{ \"a\": \"Mozilla\\\\/5.0 (Windows NT 6.1; WOW64; rv:10.0) Gecko\\\\/20100101 Firefox\\\\/10.0\", \"c\": \"US\", \"nk\": 1, \"tz\": \"America\\\\/New_York\", \"gr\": \"CT\", \"g\": \"vNJS4H\", \"h\": \"u0uD9q\", \"l\": \"o_4us71ccioa\", \"al\": \"en-us,en;q=0.5\", \"hh\": \"1.usa.gov\", \"r\": \"direct\", \"u\": \"https:\\\\/\\\\/www.nysdot.gov\\\\/rexdesign\\\\/design\\\\/community.gif\", \"t\": 1331924089, \"hc\": 1319563556, \"cy\": \"Branford\", \"ll\": [ 41.286400, -72.795601 ] }\\n',\n",
       " '{ \"a\": \"Mozilla\\\\/5.0 (Windows; U; Windows NT 6.1; en-US; rv:1.9.2.23) Gecko\\\\/20110920 AskTbARS\\\\/3.14.1.20007 BRI\\\\/1 Firefox\\\\/3.6.23\", \"c\": \"US\", \"nk\": 1, \"tz\": \"America\\\\/New_York\", \"gr\": \"MD\", \"g\": \"vNJS4H\", \"h\": \"u0uD9q\", \"l\": \"o_4us71ccioa\", \"al\": \"en-us,en;q=0.5\", \"hh\": \"1.usa.gov\", \"r\": \"direct\", \"u\": \"https:\\\\/\\\\/www.nysdot.gov\\\\/rexdesign\\\\/design\\\\/community.gif\", \"t\": 1331924091, \"hc\": 1319563556, \"cy\": \"Elkton\", \"ll\": [ 39.617199, -75.867798 ] }\\n',\n",
       " '{ \"a\": \"Mozilla\\\\/5.0 (Windows NT 6.0; rv:10.0.2) Gecko\\\\/20100101 Firefox\\\\/10.0.2\", \"c\": \"US\", \"nk\": 0, \"tz\": \"America\\\\/Phoenix\", \"gr\": \"AZ\", \"g\": \"JA1Zz\", \"h\": \"l5QQv5\", \"l\": \"findhealth2\", \"al\": \"en-us,en;q=0.5\", \"hh\": \"1.usa.gov\", \"r\": \"http:\\\\/\\\\/www.healthfinder.gov\\\\/nho\\\\/aprtoolkit.aspx\", \"u\": \"http:\\\\/\\\\/www.cdc.gov\\\\/alcohol\\\\/faqs.htm\", \"t\": 1331924093, \"hc\": 1307981090, \"cy\": \"Peoria\", \"ll\": [ 33.653400, -112.246201 ] }\\n',\n",
       " '{ \"a\": \"Mozilla\\\\/5.0 (iPad; U; CPU OS 4_3_3 like Mac OS X; en-us) AppleWebKit\\\\/533.17.9 (KHTML, like Gecko) Version\\\\/5.0.2 Mobile\\\\/8J2 Safari\\\\/6533.18.5\", \"c\": \"US\", \"nk\": 0, \"tz\": \"America\\\\/New_York\", \"gr\": \"GA\", \"g\": \"vNJS4H\", \"h\": \"u0uD9q\", \"l\": \"o_4us71ccioa\", \"al\": \"en-us\", \"hh\": \"1.usa.gov\", \"r\": \"direct\", \"u\": \"https:\\\\/\\\\/www.nysdot.gov\\\\/rexdesign\\\\/design\\\\/community.gif\", \"t\": 1331924093, \"hc\": 1319563556, \"cy\": \"Richland\", \"ll\": [ 32.094501, -84.657997 ] }\\n',\n",
       " '{ \"a\": \"Mozilla\\\\/5.0 (Windows; U; Windows NT 5.1; en-US; rv:1.9.2.27) Gecko\\\\/20120216 Firefox\\\\/3.6.27 (.NET CLR 3.5.30729)\", \"c\": \"US\", \"nk\": 0, \"tz\": \"America\\\\/Chicago\", \"gr\": \"IL\", \"g\": \"wcndER\", \"h\": \"zkpJBR\", \"l\": \"bnjacobs\", \"al\": \"en-us,en;q=0.5\", \"hh\": \"1.usa.gov\", \"r\": \"http:\\\\/\\\\/www.facebook.com\\\\/l.php?u=http%3A%2F%2F1.usa.gov%2FzkpJBR&h=TAQGTvGIwAQGiEv5uFeUZHeY-q3GUb6llEm56hzFlwLaFsw\", \"u\": \"http:\\\\/\\\\/www.nasa.gov\\\\/mission_pages\\\\/nustar\\\\/main\\\\/index.html\", \"t\": 1331924093, \"hc\": 1331922854, \"cy\": \"Evanston\", \"ll\": [ 42.058601, -87.684502 ] }\\n',\n",
       " '{ \"a\": \"Mozilla\\\\/5.0 (Windows NT 5.1; rv:11.0) Gecko\\\\/20100101 Firefox\\\\/11.0\", \"c\": \"ES\", \"nk\": 0, \"tz\": \"Europe\\\\/Madrid\", \"gr\": \"60\", \"g\": \"vZKptr\", \"h\": \"sn6kax\", \"l\": \"nasatwitter\", \"al\": \"es-es,es;q=0.8,en-us;q=0.5,en;q=0.3\", \"hh\": \"go.nasa.gov\", \"r\": \"http:\\\\/\\\\/t.co\\\\/heipk8Yn\", \"u\": \"http:\\\\/\\\\/earthobservatory.nasa.gov\\\\/IOTD\\\\/view.php?id=76382\", \"t\": 1331924093, \"hc\": 1321047593, \"cy\": \"Valencia\", \"ll\": [ 39.466702, -0.366700 ] }\\n',\n",
       " '{ \"a\": \"Mozilla\\\\/4.0 (compatible; MSIE 9.0; Windows NT 6.1)\", \"c\": \"US\", \"nk\": 1, \"tz\": \"America\\\\/New_York\", \"gr\": \"NJ\", \"g\": \"e5SvKE\", \"h\": \"fqPSr9\", \"l\": \"tweetdeckapi\", \"al\": \"en\", \"hh\": \"1.usa.gov\", \"r\": \"direct\", \"u\": \"http:\\\\/\\\\/www.fda.gov\\\\/AdvisoryCommittees\\\\/CommitteesMeetingMaterials\\\\/Drugs\\\\/Anti-InfectiveDrugsAdvisoryCommittee\\\\/ucm242307.htm\", \"t\": 1331924092, \"hc\": 1301298479, \"cy\": \"Paramus\", \"ll\": [ 40.944500, -74.070000 ] }\\n',\n",
       " '{ \"a\": \"Mozilla\\\\/5.0 (Windows NT 6.1; WOW64) AppleWebKit\\\\/535.11 (KHTML, like Gecko) Chrome\\\\/17.0.963.79 Safari\\\\/535.11\", \"c\": \"CA\", \"nk\": 0, \"tz\": \"America\\\\/Rainy_River\", \"gr\": \"ON\", \"g\": \"rOdd29\", \"h\": \"w8VXmH\", \"l\": \"drunktank\", \"al\": \"en-GB,en-US;q=0.8,en;q=0.6\", \"hh\": \"1.usa.gov\", \"r\": \"http:\\\\/\\\\/roosterteeth.com\\\\/podcast\\\\/episode.php?id=157\", \"u\": \"http:\\\\/\\\\/www.irs.gov\\\\/newsroom\\\\/article\\\\/0,,id=250882,00.html\", \"t\": 1331924093, \"hc\": 1331742257, \"cy\": \"Brockville\", \"ll\": [ 44.583302, -75.683296 ] }\\n',\n",
       " '{ \"a\": \"Mozilla\\\\/5.0 (Windows; U; Windows NT 5.1; ru; rv:1.9.2.12) Gecko\\\\/20101026 MRA 5.7 (build 03686) Firefox\\\\/3.6.12\", \"c\": null, \"nk\": 0, \"tz\": \"\", \"g\": \"xsqaLK\", \"h\": \"wuvx1H\", \"l\": \"tweetdeckapi\", \"al\": \"ru\", \"hh\": \"1.usa.gov\", \"r\": \"http:\\\\/\\\\/yandex.ru\\\\/yandsearch?text=1.usa.gov&lr=213\", \"u\": \"http:\\\\/\\\\/www.spc.noaa.gov\\\\/products\\\\/watch\\\\/ww0075_overview_big.gif\", \"t\": 1331924094, \"hc\": 1331842873 }\\n',\n",
       " '{ \"a\": \"Mozilla\\\\/5.0 (Macintosh; Intel Mac OS X 10_6_8) AppleWebKit\\\\/534.52.7 (KHTML, like Gecko) Version\\\\/5.1.2 Safari\\\\/534.52.7\", \"c\": \"CL\", \"nk\": 1, \"tz\": \"Chile\\\\/Continental\", \"gr\": \"06\", \"g\": \"wcndER\", \"h\": \"zkpJBR\", \"l\": \"bnjacobs\", \"al\": \"en-us\", \"hh\": \"1.usa.gov\", \"r\": \"http:\\\\/\\\\/t.co\\\\/J6qInqf7\", \"u\": \"http:\\\\/\\\\/www.nasa.gov\\\\/mission_pages\\\\/nustar\\\\/main\\\\/index.html\", \"t\": 1331924093, \"hc\": 1331922854, \"cy\": \"Concepci\", \"ll\": [ -36.833302, -73.050003 ] }\\n',\n",
       " '{ \"a\": \"Mozilla\\\\/5.0 (Windows NT 6.1; WOW64) AppleWebKit\\\\/535.11 (KHTML, like Gecko) Chrome\\\\/17.0.963.79 Safari\\\\/535.11\", \"c\": \"US\", \"nk\": 1, \"tz\": \"America\\\\/New_York\", \"gr\": \"NY\", \"g\": \"vNJS4H\", \"h\": \"u0uD9q\", \"l\": \"o_4us71ccioa\", \"al\": \"en-US,en;q=0.8\", \"hh\": \"1.usa.gov\", \"r\": \"direct\", \"u\": \"https:\\\\/\\\\/www.nysdot.gov\\\\/rexdesign\\\\/design\\\\/community.gif\", \"t\": 1331924096, \"hc\": 1319563556, \"cy\": \"White Plains\", \"ll\": [ 41.029099, -73.758003 ] }\\n',\n",
       " '{ \"a\": \"Mozilla\\\\/5.0 (Windows NT 6.1; WOW64; rv:10.0.2) Gecko\\\\/20100101 Firefox\\\\/10.0.2\", \"c\": \"US\", \"nk\": 1, \"tz\": \"America\\\\/Chicago\", \"gr\": \"IL\", \"g\": \"vNJS4H\", \"h\": \"u0uD9q\", \"l\": \"o_4us71ccioa\", \"al\": \"en-us,en;q=0.5\", \"hh\": \"1.usa.gov\", \"r\": \"direct\", \"u\": \"https:\\\\/\\\\/www.nysdot.gov\\\\/rexdesign\\\\/design\\\\/community.gif\", \"t\": 1331924099, \"hc\": 1319563556, \"cy\": \"Glendale Heights\", \"ll\": [ 41.921398, -88.074501 ] }\\n',\n",
       " '{\"_heartbeat_\":1331924101}\\n',\n",
       " '{ \"a\": \"Mozilla\\\\/4.0 (compatible; MSIE 8.0; Windows NT 5.1; Trident\\\\/4.0; GTB6.3; .NET CLR 1.0.3705; .NET CLR 1.1.4322; .NET CLR 2.0.50727; .NET CLR 3.0.4506.2152; .NET CLR 3.5.30729)\", \"c\": \"JP\", \"nk\": 1, \"tz\": \"Asia\\\\/Tokyo\", \"gr\": \"07\", \"g\": \"czvb2P\", \"h\": \"bPr1lg\", \"l\": \"addthis\", \"al\": \"ja\", \"hh\": \"bit.ly\", \"r\": \"http:\\\\/\\\\/togetter.com\\\\/li\\\\/39380\", \"u\": \"http:\\\\/\\\\/www.navy.mil\\\\/view_single.asp?id=65055\", \"t\": 1331924100, \"hc\": 1280722678, \"cy\": \"Nogata\", \"ll\": [ 33.733299, 130.733307 ] }\\n',\n",
       " '{ \"a\": \"Mozilla\\\\/5.0 (Macintosh; Intel Mac OS X 10_7_2) AppleWebKit\\\\/534.52.7 (KHTML, like Gecko) Version\\\\/5.1.2 Safari\\\\/534.52.7\", \"c\": \"US\", \"nk\": 0, \"tz\": \"America\\\\/Los_Angeles\", \"gr\": \"CA\", \"g\": \"wcndER\", \"h\": \"zkpJBR\", \"l\": \"bnjacobs\", \"al\": \"en-us\", \"hh\": \"1.usa.gov\", \"r\": \"http:\\\\/\\\\/www.facebook.com\\\\/l.php?u=http%3A%2F%2F1.usa.gov%2FzkpJBR&h=vAQGIWi4kAQHmRP52-dMBFqpxf-FI9WRSVDh8PEu6hVr2KA\", \"u\": \"http:\\\\/\\\\/www.nasa.gov\\\\/mission_pages\\\\/nustar\\\\/main\\\\/index.html\", \"t\": 1331924101, \"hc\": 1331922854, \"cy\": \"Paso Robles\", \"ll\": [ 35.618900, -120.766899 ] }\\n',\n",
       " ...]"
      ]
     },
     "execution_count": 158,
     "metadata": {},
     "output_type": "execute_result"
    }
   ],
   "source": [
    "open(path).readlines()"
   ]
  },
  {
   "cell_type": "code",
   "execution_count": 160,
   "id": "853fdfd8",
   "metadata": {},
   "outputs": [
    {
     "data": {
      "text/plain": [
       "{'a': 'Mozilla/5.0 (Windows NT 6.1; WOW64) AppleWebKit/535.11 (KHTML, like Gecko) Chrome/17.0.963.78 Safari/535.11',\n",
       " 'c': 'US',\n",
       " 'nk': 1,\n",
       " 'tz': 'America/New_York',\n",
       " 'gr': 'MA',\n",
       " 'g': 'A6qOVH',\n",
       " 'h': 'wfLQtf',\n",
       " 'l': 'orofrog',\n",
       " 'al': 'en-US,en;q=0.8',\n",
       " 'hh': '1.usa.gov',\n",
       " 'r': 'http://www.facebook.com/l/7AQEFzjSi/1.usa.gov/wfLQtf',\n",
       " 'u': 'http://www.ncbi.nlm.nih.gov/pubmed/22415991',\n",
       " 't': 1331923247,\n",
       " 'hc': 1331822918,\n",
       " 'cy': 'Danvers',\n",
       " 'll': [42.576698, -70.954903]}"
      ]
     },
     "execution_count": 160,
     "metadata": {},
     "output_type": "execute_result"
    }
   ],
   "source": [
    "records[0]"
   ]
  },
  {
   "cell_type": "code",
   "execution_count": 166,
   "id": "bc788efa",
   "metadata": {},
   "outputs": [
    {
     "ename": "KeyError",
     "evalue": "'tz'",
     "output_type": "error",
     "traceback": [
      "\u001b[1;31m---------------------------------------------------------------------------\u001b[0m",
      "\u001b[1;31mKeyError\u001b[0m                                  Traceback (most recent call last)",
      "\u001b[1;32m<ipython-input-166-abdeba901c13>\u001b[0m in \u001b[0;36m<module>\u001b[1;34m\u001b[0m\n\u001b[1;32m----> 1\u001b[1;33m \u001b[0mtime_zones\u001b[0m \u001b[1;33m=\u001b[0m \u001b[1;33m[\u001b[0m\u001b[0mrec\u001b[0m\u001b[1;33m[\u001b[0m\u001b[1;34m\"tz\"\u001b[0m\u001b[1;33m]\u001b[0m \u001b[1;32mfor\u001b[0m \u001b[0mrec\u001b[0m \u001b[1;32min\u001b[0m \u001b[0mrecords\u001b[0m\u001b[1;33m]\u001b[0m\u001b[1;33m\u001b[0m\u001b[1;33m\u001b[0m\u001b[0m\n\u001b[0m",
      "\u001b[1;32m<ipython-input-166-abdeba901c13>\u001b[0m in \u001b[0;36m<listcomp>\u001b[1;34m(.0)\u001b[0m\n\u001b[1;32m----> 1\u001b[1;33m \u001b[0mtime_zones\u001b[0m \u001b[1;33m=\u001b[0m \u001b[1;33m[\u001b[0m\u001b[0mrec\u001b[0m\u001b[1;33m[\u001b[0m\u001b[1;34m\"tz\"\u001b[0m\u001b[1;33m]\u001b[0m \u001b[1;32mfor\u001b[0m \u001b[0mrec\u001b[0m \u001b[1;32min\u001b[0m \u001b[0mrecords\u001b[0m\u001b[1;33m]\u001b[0m\u001b[1;33m\u001b[0m\u001b[1;33m\u001b[0m\u001b[0m\n\u001b[0m",
      "\u001b[1;31mKeyError\u001b[0m: 'tz'"
     ]
    }
   ],
   "source": [
    "time_zones = [rec[\"tz\"] for rec in records]"
   ]
  },
  {
   "cell_type": "code",
   "execution_count": null,
   "id": "a0fc081d",
   "metadata": {},
   "outputs": [],
   "source": [
    "# p534 "
   ]
  },
  {
   "cell_type": "code",
   "execution_count": 170,
   "id": "b1f83790",
   "metadata": {},
   "outputs": [
    {
     "name": "stdout",
     "output_type": "stream",
     "text": [
      "<class 'pandas.core.frame.DataFrame'>\n",
      "RangeIndex: 3560 entries, 0 to 3559\n",
      "Data columns (total 18 columns):\n",
      " #   Column       Non-Null Count  Dtype  \n",
      "---  ------       --------------  -----  \n",
      " 0   a            3440 non-null   object \n",
      " 1   c            2919 non-null   object \n",
      " 2   nk           3440 non-null   float64\n",
      " 3   tz           3440 non-null   object \n",
      " 4   gr           2919 non-null   object \n",
      " 5   g            3440 non-null   object \n",
      " 6   h            3440 non-null   object \n",
      " 7   l            3440 non-null   object \n",
      " 8   al           3094 non-null   object \n",
      " 9   hh           3440 non-null   object \n",
      " 10  r            3440 non-null   object \n",
      " 11  u            3440 non-null   object \n",
      " 12  t            3440 non-null   float64\n",
      " 13  hc           3440 non-null   float64\n",
      " 14  cy           2919 non-null   object \n",
      " 15  ll           2919 non-null   object \n",
      " 16  _heartbeat_  120 non-null    float64\n",
      " 17  kw           93 non-null     object \n",
      "dtypes: float64(4), object(14)\n",
      "memory usage: 500.8+ KB\n"
     ]
    },
    {
     "data": {
      "text/plain": [
       "0     America/New_York\n",
       "1       America/Denver\n",
       "2     America/New_York\n",
       "3    America/Sao_Paulo\n",
       "4     America/New_York\n",
       "5     America/New_York\n",
       "6        Europe/Warsaw\n",
       "7                     \n",
       "8                     \n",
       "9                     \n",
       "Name: tz, dtype: object"
      ]
     },
     "execution_count": 170,
     "metadata": {},
     "output_type": "execute_result"
    }
   ],
   "source": [
    "frame = pd.DataFrame(records)\n",
    "frame.info()\n",
    "frame['tz'][:10]\n"
   ]
  },
  {
   "cell_type": "code",
   "execution_count": 177,
   "id": "2472757c",
   "metadata": {},
   "outputs": [
    {
     "data": {
      "text/plain": [
       "America/New_York       1251\n",
       "Unknown                 521\n",
       "America/Chicago         400\n",
       "America/Los_Angeles     382\n",
       "America/Denver          191\n",
       "Missing                 120\n",
       "Europe/London            74\n",
       "Asia/Tokyo               37\n",
       "Pacific/Honolulu         36\n",
       "Europe/Madrid            35\n",
       "Name: tz, dtype: int64"
      ]
     },
     "execution_count": 177,
     "metadata": {},
     "output_type": "execute_result"
    }
   ],
   "source": [
    "clean_tz = frame['tz'].fillna(\"Missing\") #비어있는 곳은 Missing 처리\n",
    "clean_tz[clean_tz == \"\"] = \"Unknown\"     #비어있는곳은 Unknkon 처리\n",
    "tz_counts = clean_tz.value_counts()\n",
    "tz_counts[:10]"
   ]
  },
  {
   "cell_type": "code",
   "execution_count": 182,
   "id": "5454f1eb",
   "metadata": {},
   "outputs": [
    {
     "data": {
      "text/plain": [
       "<AxesSubplot:>"
      ]
     },
     "execution_count": 182,
     "metadata": {},
     "output_type": "execute_result"
    },
    {
     "data": {
      "image/png": "[encoded data removed]",
      "text/plain": [
       "<Figure size 432x288 with 1 Axes>"
      ]
     },
     "metadata": {
      "needs_background": "light"
     },
     "output_type": "display_data"
    }
   ],
   "source": [
    "import seaborn as sns\n",
    "subset = tz_counts[:10]\n",
    "sns.barplot(y=subset.index, x=subset.values)"
   ]
  },
  {
   "cell_type": "code",
   "execution_count": null,
   "id": "587ad4ea",
   "metadata": {},
   "outputs": [],
   "source": []
  }
 ],
 "metadata": {
  "kernelspec": {
   "display_name": "Python 3",
   "language": "python",
   "name": "python3"
  },
  "language_info": {
   "codemirror_mode": {
    "name": "ipython",
    "version": 3
   },
   "file_extension": ".py",
   "mimetype": "text/x-python",
   "name": "python",
   "nbconvert_exporter": "python",
   "pygments_lexer": "ipython3",
   "version": "3.8.8"
  }
 },
 "nbformat": 4,
 "nbformat_minor": 5
}
