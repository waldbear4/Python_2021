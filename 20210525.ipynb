{
 "cells": [
  {
   "cell_type": "code",
   "execution_count": 56,
   "id": "7389bfab",
   "metadata": {},
   "outputs": [
    {
     "name": "stdout",
     "output_type": "stream",
     "text": [
      " **********\n",
      "  **********\n",
      "   **********\n",
      "    **********\n",
      "     **********\n",
      "      **********\n",
      "       **********\n",
      "        **********\n",
      "         **********\n",
      "          **********\n"
     ]
    }
   ],
   "source": [
    "for i in range(1, 11):     # 행을 1부터 10까지 \n",
    "    for k in range(i):     # i 까지\n",
    "        print(\" \", end=\"\") # i 칸에 i 칸씩 넣는다\n",
    "    for j in range(1, 11): # 각 행 마다\n",
    "        print(\"*\", end=\"\") # 별을 10개씩 찍는다\n",
    "    print('')              # 프린트"
   ]
  },
  {
   "cell_type": "code",
   "execution_count": 63,
   "id": "fae95755",
   "metadata": {},
   "outputs": [
    {
     "name": "stdout",
     "output_type": "stream",
     "text": [
      "\n",
      " *\n",
      "  **\n",
      "   ***\n",
      "    ****\n",
      "     *****\n",
      "      ******\n",
      "       *******\n",
      "        ********\n",
      "         *********\n"
     ]
    }
   ],
   "source": [
    "for hang in range(10):\n",
    "    #빈 칸 출력\n",
    "    for space in range(hang):\n",
    "        print(\" \", end=\"\")\n",
    "    #별 출력\n",
    "    for yol in range(hang):\n",
    "        print(\"*\", end=\"\")\n",
    "    print('')"
   ]
  },
  {
   "cell_type": "code",
   "execution_count": 64,
   "id": "ac849e35",
   "metadata": {},
   "outputs": [
    {
     "name": "stdout",
     "output_type": "stream",
     "text": [
      "**********\n",
      " **********\n",
      "  **********\n",
      "   **********\n",
      "    **********\n",
      "     **********\n",
      "      **********\n",
      "       **********\n",
      "        **********\n",
      "         **********\n"
     ]
    }
   ],
   "source": [
    "# 답안\n",
    "for hang in range(10):\n",
    "    #빈 칸 출력\n",
    "    for space in range(hang):\n",
    "        print(\" \", end=\"\")\n",
    "    #별 출력\n",
    "    for yol in range(10):\n",
    "        print(\"*\", end=\"\")\n",
    "    print('')"
   ]
  },
  {
   "cell_type": "code",
   "execution_count": 65,
   "id": "3ffc8be9",
   "metadata": {},
   "outputs": [
    {
     "name": "stdout",
     "output_type": "stream",
     "text": [
      "1 2 3\n"
     ]
    }
   ],
   "source": [
    "1부터 123까지의 자연수 중에서 각 자리에 있는 숫자가 서로 다른 자연수는 모두 몇 개인가?\n"
   ]
  },
  {
   "cell_type": "code",
   "execution_count": null,
   "id": "2fc12f03",
   "metadata": {},
   "outputs": [],
   "source": []
  },
  {
   "cell_type": "code",
   "execution_count": 67,
   "id": "2c013442",
   "metadata": {},
   "outputs": [
    {
     "name": "stdout",
     "output_type": "stream",
     "text": [
      "9 9 9\n"
     ]
    }
   ],
   "source": [
    "num = 123         \n",
    "d100 = num//100     # 100자리 검출\n",
    "d10 = (num%100)//10 # 10자리 검출 23/10==>2.3 23//10==>2\n",
    "d1 = num%10         # 1자리 검출\n",
    "print(d100, d10, d1)"
   ]
  },
  {
   "cell_type": "code",
   "execution_count": 93,
   "id": "be606e50",
   "metadata": {},
   "outputs": [
    {
     "name": "stdout",
     "output_type": "stream",
     "text": [
      "720 개\n"
     ]
    }
   ],
   "source": [
    "# 1부터 999까지의 자연수 중에서 각 자리에 있는 숫자가 \n",
    "#서로 다른 자연수는 모두 몇 개인가?\n",
    "\n",
    "count_up = 0\n",
    "for num in range(1000):\n",
    "    d100 = num//100\n",
    "    d10 = (num%100)//10\n",
    "    d1 = num%10\n",
    "    \n",
    "    if d100 != d10 and d10 != d1 and d100 != d1:\n",
    "        count_up += 1\n",
    "        # print(d100*100+d10*10+d1)\n",
    "\n",
    "print(count_up, \"개\")"
   ]
  },
  {
   "cell_type": "code",
   "execution_count": 98,
   "id": "b0405b45",
   "metadata": {},
   "outputs": [
    {
     "name": "stdout",
     "output_type": "stream",
     "text": [
      "720\n"
     ]
    }
   ],
   "source": [
    "count_up = 0\n",
    "for d100 in range(10):\n",
    "    for d10 in range(10):\n",
    "        for d1 in range(10):\n",
    "            # if d100 != d10 !=d d1 : 이건 오동작\n",
    "            if d100 != d10 and d10 != d1 and d100 != d1:\n",
    "                count_up += 1\n",
    "print(count_up)"
   ]
  },
  {
   "cell_type": "code",
   "execution_count": 101,
   "id": "c404f3aa",
   "metadata": {},
   "outputs": [
    {
     "data": {
      "text/plain": [
       "1"
      ]
     },
     "execution_count": 101,
     "metadata": {},
     "output_type": "execute_result"
    }
   ],
   "source": [
    "(3**2016) % 2"
   ]
  },
  {
   "cell_type": "code",
   "execution_count": 108,
   "id": "db122d68",
   "metadata": {},
   "outputs": [
    {
     "name": "stdout",
     "output_type": "stream",
     "text": [
      "수3\n",
      "지수2016\n",
      "1\n"
     ]
    }
   ],
   "source": [
    "a = int(input(\"수\"))\n",
    "b = int(input(\"지수\"))\n",
    "ModulNum = a**b % 10\n",
    "print(ModulNum)"
   ]
  },
  {
   "cell_type": "code",
   "execution_count": 116,
   "id": "3cf79a49",
   "metadata": {},
   "outputs": [
    {
     "name": "stdout",
     "output_type": "stream",
     "text": [
      "1\n"
     ]
    }
   ],
   "source": [
    "num = 1\n",
    "for i in range(2016):\n",
    "    num *= 3\n",
    "    if i == 2015:\n",
    "        d1_of_num = num%10\n",
    "print(d1_of_num)\n",
    "    \n",
    "    "
   ]
  },
  {
   "cell_type": "code",
   "execution_count": 143,
   "id": "e601096f",
   "metadata": {},
   "outputs": [
    {
     "name": "stdout",
     "output_type": "stream",
     "text": [
      "수682\n",
      "11\n"
     ]
    }
   ],
   "source": [
    "count = 0\n",
    "a = int(input(\"수\"))\n",
    "while a != 1:\n",
    "    if a % 2 == 0:\n",
    "        a = a/2\n",
    "    else:\n",
    "        a = ((a*3)+1)/2\n",
    "    count = count + 1\n",
    "print(count)"
   ]
  },
  {
   "cell_type": "code",
   "execution_count": 138,
   "id": "6558420f",
   "metadata": {},
   "outputs": [
    {
     "name": "stdout",
     "output_type": "stream",
     "text": [
      "수6\n"
     ]
    },
    {
     "ename": "NameError",
     "evalue": "name 'breank' is not defined",
     "output_type": "error",
     "traceback": [
      "\u001b[1;31m---------------------------------------------------------------------------\u001b[0m",
      "\u001b[1;31mNameError\u001b[0m                                 Traceback (most recent call last)",
      "\u001b[1;32m<ipython-input-138-d1d627cecf30>\u001b[0m in \u001b[0;36m<module>\u001b[1;34m\u001b[0m\n\u001b[0;32m      7\u001b[0m         \u001b[0mnum\u001b[0m \u001b[1;33m=\u001b[0m \u001b[1;33m(\u001b[0m\u001b[1;36m3\u001b[0m\u001b[1;33m*\u001b[0m \u001b[0mnum\u001b[0m \u001b[1;33m+\u001b[0m\u001b[1;36m1\u001b[0m\u001b[1;33m)\u001b[0m\u001b[1;33m/\u001b[0m\u001b[1;36m2\u001b[0m\u001b[1;33m\u001b[0m\u001b[1;33m\u001b[0m\u001b[0m\n\u001b[0;32m      8\u001b[0m     \u001b[0mproc_count\u001b[0m\u001b[1;33m+=\u001b[0m\u001b[1;36m1\u001b[0m\u001b[1;33m\u001b[0m\u001b[1;33m\u001b[0m\u001b[0m\n\u001b[1;32m----> 9\u001b[1;33m     \u001b[1;32mif\u001b[0m \u001b[0mnum\u001b[0m \u001b[1;33m==\u001b[0m \u001b[1;36m1\u001b[0m\u001b[1;33m:\u001b[0m \u001b[0mbreank\u001b[0m\u001b[1;33m\u001b[0m\u001b[1;33m\u001b[0m\u001b[0m\n\u001b[0m\u001b[0;32m     10\u001b[0m \u001b[1;33m\u001b[0m\u001b[0m\n\u001b[0;32m     11\u001b[0m \u001b[0mprint\u001b[0m\u001b[1;33m(\u001b[0m\u001b[0mproc_count\u001b[0m\u001b[1;33m)\u001b[0m\u001b[1;33m\u001b[0m\u001b[1;33m\u001b[0m\u001b[0m\n",
      "\u001b[1;31mNameError\u001b[0m: name 'breank' is not defined"
     ]
    }
   ],
   "source": [
    "num = int(input(\"수\"))\n",
    "proc_count = 0\n",
    "while True:\n",
    "    if num %2 == 0:\n",
    "        num /= 2\n",
    "    else:\n",
    "        num = (3* num +1)/2\n",
    "    proc_count+=1\n",
    "    if num == 1: breank\n",
    "        \n",
    "print(proc_count)"
   ]
  },
  {
   "cell_type": "code",
   "execution_count": 147,
   "id": "2540138f",
   "metadata": {},
   "outputs": [
    {
     "name": "stdout",
     "output_type": "stream",
     "text": [
      "Hallo_1\n",
      "Hallo_2\n",
      "Hallo_3\n",
      "Hallo_4\n",
      "Hallo_5\n"
     ]
    }
   ],
   "source": [
    "# \"반복적으로 사용되는 가치있는 부분을 한 뭉치로 묶어서 \n",
    "# 어떤 입력값을 주었을 때 어떤 결과값을 돌려준다\"\n",
    "# def 함수 이름(매개변수)\n",
    "#     수행할 문장1\n",
    "#     수행할 문장2 ..\n",
    "def hello_5():\n",
    "    print(\"Hallo_1\")\n",
    "    print(\"Hallo_2\")\n",
    "    print(\"Hallo_3\")\n",
    "    print(\"Hallo_4\")\n",
    "    print(\"Hallo_5\")\n",
    "\n",
    "hello_5()"
   ]
  },
  {
   "cell_type": "code",
   "execution_count": 148,
   "id": "02ab1b0d",
   "metadata": {},
   "outputs": [],
   "source": [
    "def add(a, b):    # 함수의 이름은 \"add\" 입력값으로 2개, 결과값은 2개의 입력값을 더한다.\n",
    "    return a + b"
   ]
  },
  {
   "cell_type": "code",
   "execution_count": 154,
   "id": "bf3a3aa3",
   "metadata": {},
   "outputs": [
    {
     "name": "stdout",
     "output_type": "stream",
     "text": [
      "첫 번째 숫자5\n",
      "두 번째 숫자5\n"
     ]
    },
    {
     "ename": "NameError",
     "evalue": "name 'c' is not defined",
     "output_type": "error",
     "traceback": [
      "\u001b[1;31m---------------------------------------------------------------------------\u001b[0m",
      "\u001b[1;31mNameError\u001b[0m                                 Traceback (most recent call last)",
      "\u001b[1;32m<ipython-input-154-d93625f7fc46>\u001b[0m in \u001b[0;36m<module>\u001b[1;34m\u001b[0m\n\u001b[0;32m      4\u001b[0m     \u001b[0mc\u001b[0m \u001b[1;33m=\u001b[0m \u001b[0ma\u001b[0m \u001b[1;33m+\u001b[0m \u001b[0mb\u001b[0m\u001b[1;33m\u001b[0m\u001b[1;33m\u001b[0m\u001b[0m\n\u001b[0;32m      5\u001b[0m     \u001b[1;32mreturn\u001b[0m \u001b[0mc\u001b[0m\u001b[1;33m\u001b[0m\u001b[1;33m\u001b[0m\u001b[0m\n\u001b[1;32m----> 6\u001b[1;33m \u001b[0mprint\u001b[0m\u001b[1;33m(\u001b[0m\u001b[0mc\u001b[0m\u001b[1;33m)\u001b[0m\u001b[1;33m\u001b[0m\u001b[1;33m\u001b[0m\u001b[0m\n\u001b[0m",
      "\u001b[1;31mNameError\u001b[0m: name 'c' is not defined"
     ]
    }
   ],
   "source": [
    "a = int(input(\"첫 번째 숫자\"))\n",
    "b = int(input(\"두 번째 숫자\"))\n",
    "def add(a, b):\n",
    "    c = a + b\n",
    "    return c\n",
    "print(c)"
   ]
  },
  {
   "cell_type": "code",
   "execution_count": null,
   "id": "83027ee3",
   "metadata": {},
   "outputs": [],
   "source": [
    "def add(a, b):\n",
    "    c = a + b\n",
    "    return c\n",
    "\n",
    "a = int(input(\"첫 번째 숫자\"))\n",
    "b = int(input(\"두 번째 숫자\"))\n",
    "result = add(a, b)\n",
    "print(result)"
   ]
  },
  {
   "cell_type": "code",
   "execution_count": 158,
   "id": "da72bed6",
   "metadata": {},
   "outputs": [
    {
     "name": "stdout",
     "output_type": "stream",
     "text": [
      "hi\n"
     ]
    }
   ],
   "source": [
    "# 입력값이 없는 함수 리턴만 있음\n",
    "\n",
    "def say_hi():\n",
    "    return \"hi\"\n",
    "print(say_hi())"
   ]
  },
  {
   "cell_type": "code",
   "execution_count": 163,
   "id": "5cd8e687",
   "metadata": {},
   "outputs": [
    {
     "name": "stdout",
     "output_type": "stream",
     "text": [
      "hi\n"
     ]
    }
   ],
   "source": [
    "# 입력값도 리턴도 없음\n",
    "\n",
    "def say_hi_dont_care():\n",
    "    print(\"hi\")\n",
    "\n",
    "say_hi_dont_care()"
   ]
  },
  {
   "cell_type": "code",
   "execution_count": 164,
   "id": "515973cf",
   "metadata": {},
   "outputs": [
    {
     "ename": "TypeError",
     "evalue": "say_hi_dont_care2() takes 0 positional arguments but 1 was given",
     "output_type": "error",
     "traceback": [
      "\u001b[1;31m---------------------------------------------------------------------------\u001b[0m",
      "\u001b[1;31mTypeError\u001b[0m                                 Traceback (most recent call last)",
      "\u001b[1;32m<ipython-input-164-ee393e07fc76>\u001b[0m in \u001b[0;36m<module>\u001b[1;34m\u001b[0m\n\u001b[0;32m      4\u001b[0m     \u001b[0mprint\u001b[0m\u001b[1;33m(\u001b[0m\u001b[0ma\u001b[0m\u001b[1;33m)\u001b[0m\u001b[1;33m\u001b[0m\u001b[1;33m\u001b[0m\u001b[0m\n\u001b[0;32m      5\u001b[0m \u001b[1;33m\u001b[0m\u001b[0m\n\u001b[1;32m----> 6\u001b[1;33m \u001b[0msay_hi_dont_care2\u001b[0m\u001b[1;33m(\u001b[0m\u001b[1;34m\"hi\"\u001b[0m\u001b[1;33m)\u001b[0m\u001b[1;33m\u001b[0m\u001b[1;33m\u001b[0m\u001b[0m\n\u001b[0m",
      "\u001b[1;31mTypeError\u001b[0m: say_hi_dont_care2() takes 0 positional arguments but 1 was given"
     ]
    }
   ],
   "source": [
    "#입력값은 있으나 출력은 필요 없음\n",
    "\n",
    "def say_hi_dont_care2():\n",
    "    print(a)\n",
    "\n",
    "say_hi_dont_care2(\"hi\")"
   ]
  },
  {
   "cell_type": "code",
   "execution_count": 167,
   "id": "dc9f334e",
   "metadata": {},
   "outputs": [
    {
     "name": "stdout",
     "output_type": "stream",
     "text": [
      "hi\n",
      "None\n"
     ]
    }
   ],
   "source": [
    "def say_hi_dont_care2(a):\n",
    "    print(a)\n",
    "b = say_hi_dont_care2(\"hi\")\n",
    "print(b) # None 출력 "
   ]
  },
  {
   "cell_type": "code",
   "execution_count": 169,
   "id": "d06f8313",
   "metadata": {},
   "outputs": [
    {
     "name": "stdout",
     "output_type": "stream",
     "text": [
      "2\n",
      "-2\n",
      "2\n",
      "2\n"
     ]
    }
   ],
   "source": [
    "def sub2(a, b):\n",
    "    return a - b\n",
    "print(sub2(4,2))\n",
    "print(sub2(2,4))\n",
    "print(sub2(a=4, b=2))\n",
    "print(sub2(b=2, a=4))"
   ]
  },
  {
   "cell_type": "code",
   "execution_count": 175,
   "id": "4290e542",
   "metadata": {},
   "outputs": [
    {
     "name": "stdout",
     "output_type": "stream",
     "text": [
      "3\n",
      "10\n"
     ]
    }
   ],
   "source": [
    "def add_many(*a): # * 이 중요 입력값\n",
    "    result=0\n",
    "    for item in a:\n",
    "        result+=item\n",
    "    return result\n",
    "print(add_many(1, 2))\n",
    "print(add_many(1, 2, 3, 4))"
   ]
  },
  {
   "cell_type": "code",
   "execution_count": 183,
   "id": "80fe3219",
   "metadata": {},
   "outputs": [
    {
     "name": "stdout",
     "output_type": "stream",
     "text": [
      "3\n",
      "1\n"
     ]
    }
   ],
   "source": [
    "def add_many(mode,*a): # * = 어디까지 입력할진 모르겠지만~ 넣는대로 넣어보자 리스트처리\n",
    "    if mode==\"sum\":\n",
    "        result=0\n",
    "        for item in a: result+=item\n",
    "    elif mode ==\"mul\":\n",
    "        result=1\n",
    "        for item in a: result*+item\n",
    "    return result\n",
    "print(add_many(\"sum\", 1, 2))\n",
    "print(add_many(\"mul\", 1, 2, 3, 4))"
   ]
  },
  {
   "cell_type": "code",
   "execution_count": null,
   "id": "cfacaa07",
   "metadata": {},
   "outputs": [],
   "source": [
    "def add_many(*a,mode): # 순서가 다르기에 입력이 되지 않음 \n",
    "        for item in a: result+=item\n",
    "    elif mode ==\"mul\":\n",
    "        result=1\n",
    "        for item in a: result*+item\n",
    "    return result\n",
    "print(add_many(1, 2, \"sum\"))\n",
    "print(add_many(1, 2, 3, 4, \"mul\"))"
   ]
  },
  {
   "cell_type": "code",
   "execution_count": 185,
   "id": "ed475d9e",
   "metadata": {},
   "outputs": [
    {
     "name": "stdout",
     "output_type": "stream",
     "text": [
      "{'a': 1}\n"
     ]
    }
   ],
   "source": [
    "def print_kwa(**a): # 키워드 파라미터 : 딕셔너리처리\n",
    "    print(a)\n",
    "print_kwa(a=1)"
   ]
  },
  {
   "cell_type": "code",
   "execution_count": 190,
   "id": "64652939",
   "metadata": {},
   "outputs": [
    {
     "name": "stdout",
     "output_type": "stream",
     "text": [
      "2 3 1 2\n",
      "2 3 4 2\n",
      "2 3 4 5\n"
     ]
    }
   ],
   "source": [
    "def my_classify(a, b, c=1, d=2):\n",
    "    print(a, b, c, d)\n",
    "my_classify(2, 3)                # c, d 가 기본값\n",
    "my_classify(2, 3, 4)             # c 입력값, d 기본값\n",
    "my_classify(2, 3, 4, 5)          # c, d 입력값"
   ]
  },
  {
   "cell_type": "code",
   "execution_count": 191,
   "id": "d774c1c4",
   "metadata": {},
   "outputs": [
    {
     "name": "stdout",
     "output_type": "stream",
     "text": [
      "1\n"
     ]
    }
   ],
   "source": [
    "a = 1              #전역변수\n",
    "def vartest(a):\n",
    "    a=a+1          #vartest함수의 지역변수\n",
    "vartest(a)\n",
    "print(a)"
   ]
  },
  {
   "cell_type": "code",
   "execution_count": null,
   "id": "5d5d572d",
   "metadata": {},
   "outputs": [],
   "source": [
    "a = 1 #전역변수\n",
    "def vartest(a):\n",
    "    a=a+1 #vartest함수의 지역변수\n",
    "    return a\n",
    "vartest(a)\n",
    "print(a)"
   ]
  },
  {
   "cell_type": "code",
   "execution_count": 194,
   "id": "83803f3d",
   "metadata": {},
   "outputs": [
    {
     "name": "stdout",
     "output_type": "stream",
     "text": [
      "2\n"
     ]
    }
   ],
   "source": [
    "a = 1              #전역변수\n",
    "def vartest():     \n",
    "    global a       #전역변수 선언\n",
    "    a=a+1          #vartest함수의 지역변수\n",
    "vartest()\n",
    "print(a)"
   ]
  },
  {
   "cell_type": "code",
   "execution_count": 195,
   "id": "2e65027a",
   "metadata": {},
   "outputs": [
    {
     "name": "stdout",
     "output_type": "stream",
     "text": [
      "7\n"
     ]
    }
   ],
   "source": [
    "add_lam = lambda a, b: a + b\n",
    "res = add_lam(3, 4)\n",
    "print(res)"
   ]
  },
  {
   "cell_type": "code",
   "execution_count": 198,
   "id": "c095ddda",
   "metadata": {},
   "outputs": [
    {
     "name": "stdout",
     "output_type": "stream",
     "text": [
      "a b\n",
      "ab\n",
      "ab\n"
     ]
    }
   ],
   "source": [
    "print(\"a\", \"b\")\n",
    "print(\"a\"+\"b\")\n",
    "print(\"a\"\"b\")"
   ]
  },
  {
   "cell_type": "code",
   "execution_count": 199,
   "id": "0d27b994",
   "metadata": {},
   "outputs": [
    {
     "name": "stdout",
     "output_type": "stream",
     "text": [
      "a b\n"
     ]
    }
   ],
   "source": [
    "print(\"a\", end=\" \")\n",
    "print(\"b\")"
   ]
  },
  {
   "cell_type": "code",
   "execution_count": 203,
   "id": "65c9b7ce",
   "metadata": {},
   "outputs": [
    {
     "name": "stdout",
     "output_type": "stream",
     "text": [
      "a\n",
      "b\n",
      "c\n",
      "a/b/c\n"
     ]
    }
   ],
   "source": [
    "print(\"a\", \"b\", \"c\", sep=\"\\n\")\n",
    "print(\"a\", \"b\", \"c\", sep=\"/\")\n",
    "print(\"a\", \"b\", \"c\", sep=\"\\n\")"
   ]
  },
  {
   "cell_type": "code",
   "execution_count": 209,
   "id": "2cd4dc28",
   "metadata": {},
   "outputs": [],
   "source": [
    "# f = open(\"나는 파일이다.txt\", \"w\") # 새파일 만들기 기존 파일을 지움\n",
    "# f.close()"
   ]
  },
  {
   "cell_type": "code",
   "execution_count": null,
   "id": "1104c62d",
   "metadata": {},
   "outputs": [],
   "source": [
    "# f = open(\"새파일.txt\", \"r\") # 열기\n",
    "# f = open(\"새파일.txt\", \"a\") # 파일의 마지막에 새로운 추가"
   ]
  },
  {
   "cell_type": "code",
   "execution_count": 212,
   "id": "0ffd4aee",
   "metadata": {},
   "outputs": [
    {
     "ename": "FileNotFoundError",
     "evalue": "[Errno 2] No such file or directory: 'C:/Users/Curio/OneDrive/Background/나는 파일이다.txt'",
     "output_type": "error",
     "traceback": [
      "\u001b[1;31m---------------------------------------------------------------------------\u001b[0m",
      "\u001b[1;31mFileNotFoundError\u001b[0m                         Traceback (most recent call last)",
      "\u001b[1;32m<ipython-input-212-5a614e3c031a>\u001b[0m in \u001b[0;36m<module>\u001b[1;34m\u001b[0m\n\u001b[1;32m----> 1\u001b[1;33m \u001b[0mf\u001b[0m \u001b[1;33m=\u001b[0m \u001b[0mopen\u001b[0m\u001b[1;33m(\u001b[0m\u001b[1;34m\"C:/Users/Curio/OneDrive/Background/나는 파일이다.txt\"\u001b[0m\u001b[1;33m,\u001b[0m \u001b[1;34m\"w\"\u001b[0m\u001b[1;33m)\u001b[0m \u001b[1;31m# 새파일 만들기 기존 파일을 지움\u001b[0m\u001b[1;33m\u001b[0m\u001b[1;33m\u001b[0m\u001b[0m\n\u001b[0m",
      "\u001b[1;31mFileNotFoundError\u001b[0m: [Errno 2] No such file or directory: 'C:/Users/Curio/OneDrive/Background/나는 파일이다.txt'"
     ]
    }
   ],
   "source": [
    "# f = open(\"C:/Users/Curio/OneDrive/Background/나는 파일이다.txt\", \"w\") # 새파일 만들기 기존 파일을 지움"
   ]
  },
  {
   "cell_type": "code",
   "execution_count": 215,
   "id": "898a6d35",
   "metadata": {},
   "outputs": [],
   "source": [
    "f = open(\"나는 파일이다.txt\", \"w\")\n",
    "f.write(\"Halllloooo\")\n",
    "f.close()"
   ]
  },
  {
   "cell_type": "code",
   "execution_count": 223,
   "id": "da2ef5ec",
   "metadata": {
    "scrolled": true
   },
   "outputs": [
    {
     "name": "stdout",
     "output_type": "stream",
     "text": [
      "Halllloooo  네가 최고야\n",
      "\n"
     ]
    }
   ],
   "source": [
    "f = open(\"나는 파일이다.txt\", \"r\")\n",
    "line1 =  f.readline()\n",
    "print(line1)\n",
    "f.close()"
   ]
  },
  {
   "cell_type": "code",
   "execution_count": 226,
   "id": "fd0f5ddf",
   "metadata": {},
   "outputs": [
    {
     "name": "stdout",
     "output_type": "stream",
     "text": [
      "Halllloooo  네가 최고야\n",
      "\n",
      "아무렴 \n",
      "\n",
      "\n",
      "\n"
     ]
    }
   ],
   "source": [
    "f = open(\"나는 파일이다.txt\", \"r\")\n",
    "while True:               # 어디가 끝날지 모르니 계속 읽어\n",
    "    line1 = f.readline()  # 읽어버렷\n",
    "    if not line1: break  # line에 아무것도 없으면 읽지마\n",
    "    print(line1)\n",
    "f.close()"
   ]
  },
  {
   "cell_type": "code",
   "execution_count": 231,
   "id": "b1776c7a",
   "metadata": {},
   "outputs": [
    {
     "name": "stdout",
     "output_type": "stream",
     "text": [
      "Halllloooo  네가 최고야\n",
      "\n",
      "아무렴 \n",
      "\n",
      "\n",
      "\n",
      "['Halllloooo  네가 최고야\\n', '아무렴 \\n', '\\n']\n",
      "['Halllloooo  네가 최고야\\n', '아무렴 \\n', '\\n']\n",
      "['Halllloooo  네가 최고야\\n', '아무렴 \\n', '\\n']\n"
     ]
    }
   ],
   "source": [
    "f = open(\"나는 파일이다.txt\", \"r\")\n",
    "list1 = []\n",
    "list2 = []\n",
    "while True:               # 어디가 끝날지 모르니 계속 읽어\n",
    "    line1 = f.readline()  # 읽어버렷\n",
    "    if not line1: break  # line에 아무것도 없으면 읽지마\n",
    "    print(line1)\n",
    "    list1.append(line1)\n",
    "f.close()\n",
    "for item in list1:\n",
    "    print(list1)"
   ]
  },
  {
   "cell_type": "code",
   "execution_count": 254,
   "id": "095995fd",
   "metadata": {},
   "outputs": [
    {
     "name": "stdout",
     "output_type": "stream",
     "text": [
      "Halllloooo  네가 최고야\n",
      "\n",
      "아무렴 \n",
      "\n",
      "하\n",
      "\n",
      "히\n",
      "\n",
      "후\n",
      "\n",
      "헤\n",
      "\n",
      "허\n",
      "['허', '허', '허', '허', '허', '허', '허']\n"
     ]
    }
   ],
   "source": [
    "f = open(\"나는 파일이다.txt\", \"r\")\n",
    "list1 = []\n",
    "list2 = []\n",
    "while True:               # 어디가 끝날지 모르니 계속 읽어\n",
    "    line1 = f.readline()  # 읽어버렷\n",
    "    if not line1: break  # line에 아무것도 없으면 읽지마\n",
    "    print(line1)\n",
    "    list1.append(line1)\n",
    "f.close()\n",
    "for ltem in list1:           # \n",
    "    ltem.replace(\"\\n\", \" \")  #\n",
    "    list2.append(item)       #\n",
    "print(list2)"
   ]
  },
  {
   "cell_type": "code",
   "execution_count": 2,
   "id": "0457e084",
   "metadata": {},
   "outputs": [
    {
     "name": "stdout",
     "output_type": "stream",
     "text": [
      "Halllloooo  네가 최고야\n",
      "\n",
      "아무렴 \n",
      "\n",
      "하\n",
      "\n",
      "히\n",
      "\n",
      "후\n",
      "\n",
      "헤\n",
      "\n",
      "허\n"
     ]
    },
    {
     "ename": "NameError",
     "evalue": "name 'prcessed' is not defined",
     "output_type": "error",
     "traceback": [
      "\u001b[1;31m---------------------------------------------------------------------------\u001b[0m",
      "\u001b[1;31mNameError\u001b[0m                                 Traceback (most recent call last)",
      "\u001b[1;32m<ipython-input-2-1cbf4cfd6421>\u001b[0m in \u001b[0;36m<module>\u001b[1;34m\u001b[0m\n\u001b[0;32m     10\u001b[0m \u001b[1;32mfor\u001b[0m \u001b[0mltem\u001b[0m \u001b[1;32min\u001b[0m \u001b[0mlist1\u001b[0m\u001b[1;33m:\u001b[0m\u001b[1;33m\u001b[0m\u001b[1;33m\u001b[0m\u001b[0m\n\u001b[0;32m     11\u001b[0m     \u001b[0mprocessed\u001b[0m \u001b[1;33m=\u001b[0m \u001b[0mltem\u001b[0m\u001b[1;33m.\u001b[0m\u001b[0mreplace\u001b[0m\u001b[1;33m(\u001b[0m\u001b[1;34m\"\\n\"\u001b[0m\u001b[1;33m,\u001b[0m \u001b[1;34m\" \"\u001b[0m\u001b[1;33m)\u001b[0m\u001b[1;33m\u001b[0m\u001b[1;33m\u001b[0m\u001b[0m\n\u001b[1;32m---> 12\u001b[1;33m     \u001b[0mprint\u001b[0m\u001b[1;33m(\u001b[0m\u001b[0mprcessed\u001b[0m\u001b[1;33m,\u001b[0m \u001b[0mend\u001b[0m\u001b[1;33m=\u001b[0m\u001b[1;34m\" \"\u001b[0m\u001b[1;33m)\u001b[0m\u001b[1;33m\u001b[0m\u001b[1;33m\u001b[0m\u001b[0m\n\u001b[0m\u001b[0;32m     13\u001b[0m     \u001b[0mlist2\u001b[0m\u001b[1;33m.\u001b[0m\u001b[0mappend\u001b[0m\u001b[1;33m(\u001b[0m\u001b[0mprocessed\u001b[0m\u001b[1;33m)\u001b[0m\u001b[1;33m\u001b[0m\u001b[1;33m\u001b[0m\u001b[0m\n\u001b[0;32m     14\u001b[0m \u001b[0mprint\u001b[0m\u001b[1;33m(\u001b[0m\u001b[0mlist2\u001b[0m\u001b[1;33m)\u001b[0m\u001b[1;33m\u001b[0m\u001b[1;33m\u001b[0m\u001b[0m\n",
      "\u001b[1;31mNameError\u001b[0m: name 'prcessed' is not defined"
     ]
    }
   ],
   "source": [
    "f = open(\"나는 파일이다.txt\", \"r\")\n",
    "list1 = []\n",
    "list2 = []\n",
    "while True:\n",
    "    line1 = f.readline()\n",
    "    if not line1: break\n",
    "    print(line1)\n",
    "    list1.append(line1)\n",
    "f.close()\n",
    "for ltem in list1:\n",
    "    processed = ltem.replace(\"\\n\", \" \")\n",
    "    print(prcessed, end=\" \")\n",
    "    list2.append(processed)\n",
    "print(list2)"
   ]
  }
 ],
 "metadata": {
  "kernelspec": {
   "display_name": "Python 3",
   "language": "python",
   "name": "python3"
  },
  "language_info": {
   "codemirror_mode": {
    "name": "ipython",
    "version": 3
   },
   "file_extension": ".py",
   "mimetype": "text/x-python",
   "name": "python",
   "nbconvert_exporter": "python",
   "pygments_lexer": "ipython3",
   "version": "3.8.8"
  }
 },
 "nbformat": 4,
 "nbformat_minor": 5
}
