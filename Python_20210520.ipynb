{
 "cells": [
  {
   "cell_type": "code",
   "execution_count": 4,
   "id": "b2b4dd89",
   "metadata": {},
   "outputs": [
    {
     "data": {
      "text/plain": [
       "4"
      ]
     },
     "execution_count": 4,
     "metadata": {},
     "output_type": "execute_result"
    }
   ],
   "source": [
    "1+3"
   ]
  },
  {
   "cell_type": "code",
   "execution_count": 5,
   "id": "ecc72c5f",
   "metadata": {},
   "outputs": [
    {
     "name": "stdout",
     "output_type": "stream",
     "text": [
      "4\n"
     ]
    }
   ],
   "source": [
    "print(1+3)"
   ]
  },
  {
   "cell_type": "code",
   "execution_count": 6,
   "id": "91349fe1",
   "metadata": {},
   "outputs": [],
   "source": [
    "a = 1"
   ]
  },
  {
   "cell_type": "code",
   "execution_count": 7,
   "id": "50b87e69",
   "metadata": {},
   "outputs": [],
   "source": [
    "b = 2"
   ]
  },
  {
   "cell_type": "code",
   "execution_count": 8,
   "id": "59d86da5",
   "metadata": {},
   "outputs": [],
   "source": [
    "c = a + b"
   ]
  },
  {
   "cell_type": "code",
   "execution_count": 9,
   "id": "09c1206c",
   "metadata": {},
   "outputs": [
    {
     "name": "stdout",
     "output_type": "stream",
     "text": [
      "3\n"
     ]
    }
   ],
   "source": [
    "print(c)"
   ]
  },
  {
   "cell_type": "code",
   "execution_count": 10,
   "id": "2b55dfa0",
   "metadata": {},
   "outputs": [
    {
     "data": {
      "text/plain": [
       "3400.0"
      ]
     },
     "execution_count": 10,
     "metadata": {},
     "output_type": "execute_result"
    }
   ],
   "source": [
    "3.4e3"
   ]
  },
  {
   "cell_type": "code",
   "execution_count": 2,
   "id": "b375a93f",
   "metadata": {},
   "outputs": [
    {
     "data": {
      "text/plain": [
       "0.0034"
      ]
     },
     "execution_count": 2,
     "metadata": {},
     "output_type": "execute_result"
    }
   ],
   "source": [
    "3.4e-3"
   ]
  },
  {
   "cell_type": "code",
   "execution_count": 5,
   "id": "a4aebbd1",
   "metadata": {},
   "outputs": [
    {
     "data": {
      "text/plain": [
       "9"
      ]
     },
     "execution_count": 5,
     "metadata": {},
     "output_type": "execute_result"
    }
   ],
   "source": [
    "3**2 # 제곱"
   ]
  },
  {
   "cell_type": "code",
   "execution_count": 6,
   "id": "a4bef368",
   "metadata": {},
   "outputs": [
    {
     "data": {
      "text/plain": [
       "1"
      ]
     },
     "execution_count": 6,
     "metadata": {},
     "output_type": "execute_result"
    }
   ],
   "source": [
    "3^2 # 비트연산"
   ]
  },
  {
   "cell_type": "markdown",
   "id": "acb9b2cc",
   "metadata": {},
   "source": [
    "ㅁㄴㅇㅁㄴㅇ"
   ]
  },
  {
   "cell_type": "code",
   "execution_count": 17,
   "id": "5a4dfcd9",
   "metadata": {},
   "outputs": [
    {
     "data": {
      "text/plain": [
       "0"
      ]
     },
     "execution_count": 17,
     "metadata": {},
     "output_type": "execute_result"
    }
   ],
   "source": [
    "6%3 #나머지 연산"
   ]
  },
  {
   "cell_type": "code",
   "execution_count": 11,
   "id": "1534a3c0",
   "metadata": {},
   "outputs": [
    {
     "data": {
      "text/plain": [
       "1.0"
      ]
     },
     "execution_count": 11,
     "metadata": {},
     "output_type": "execute_result"
    }
   ],
   "source": [
    "5/5"
   ]
  },
  {
   "cell_type": "code",
   "execution_count": 15,
   "id": "9120d8ad",
   "metadata": {},
   "outputs": [
    {
     "data": {
      "text/plain": [
       "1"
      ]
     },
     "execution_count": 15,
     "metadata": {},
     "output_type": "execute_result"
    }
   ],
   "source": [
    "6 // 5 몫 연산"
   ]
  },
  {
   "cell_type": "code",
   "execution_count": 18,
   "id": "3156b9d0",
   "metadata": {},
   "outputs": [],
   "source": [
    "# 재고 5\n",
    "# 1박스는 3개로 구성\n",
    "# 출하가능 박스갯수 및 재고"
   ]
  },
  {
   "cell_type": "code",
   "execution_count": 50,
   "id": "51759260",
   "metadata": {},
   "outputs": [
    {
     "name": "stdout",
     "output_type": "stream",
     "text": [
      "출하 가능 박스 :\t1개\n",
      "출하 후 재고:\t2개\n"
     ]
    }
   ],
   "source": [
    "stock_current = 5\n",
    "package_size = 3\n",
    "box_available = stock_current // package_size\n",
    "stock_current = stock_current % package_size\n",
    "#stock_current = stock_current - box_availalbe * package_size\n",
    "\n",
    "print(\"출하 가능 박스 :\\t\"+str(box_available) + \"개\") # str(글자로 바꿈)\n",
    "print(\"출하 후 재고:\\t\"+  str(stock_current) + \"개\")"
   ]
  },
  {
   "cell_type": "code",
   "execution_count": 20,
   "id": "697c3ffe",
   "metadata": {},
   "outputs": [
    {
     "data": {
      "text/plain": [
       "2"
      ]
     },
     "execution_count": 20,
     "metadata": {},
     "output_type": "execute_result"
    }
   ],
   "source": [
    "5 % 3 "
   ]
  },
  {
   "cell_type": "code",
   "execution_count": 51,
   "id": "1249de67",
   "metadata": {},
   "outputs": [
    {
     "name": "stdout",
     "output_type": "stream",
     "text": [
      "Apfel\n",
      "Apfel\n",
      "Apfel\n"
     ]
    }
   ],
   "source": [
    "print('Apfel')\n",
    "print(\"Apfel\")\n",
    "print(\"\"\"Apfel\"\"\")"
   ]
  },
  {
   "cell_type": "code",
   "execution_count": 55,
   "id": "1ae3566f",
   "metadata": {},
   "outputs": [
    {
     "name": "stdout",
     "output_type": "stream",
     "text": [
      "Sagte er, \"Ich bin so glueklich\".\n"
     ]
    }
   ],
   "source": [
    "# He said that \"I am so happy\".\n",
    "print(\"\"\"Sagte er, \"Ich bin so glueklich\".\"\"\")"
   ]
  },
  {
   "cell_type": "code",
   "execution_count": null,
   "id": "18a9d207",
   "metadata": {},
   "outputs": [],
   "source": []
  },
  {
   "cell_type": "code",
   "execution_count": 54,
   "id": "6ee7c476",
   "metadata": {
    "scrolled": true
   },
   "outputs": [
    {
     "name": "stdout",
     "output_type": "stream",
     "text": [
      "I am can be written as I'm\n"
     ]
    }
   ],
   "source": [
    "# Iam can be written as I'm\n",
    "print(\"I am can be written as I'm\")"
   ]
  },
  {
   "cell_type": "code",
   "execution_count": 59,
   "id": "dfc67886",
   "metadata": {},
   "outputs": [
    {
     "name": "stdout",
     "output_type": "stream",
     "text": [
      "best\n",
      "music\n",
      "award\n"
     ]
    }
   ],
   "source": [
    "print(\"\"\"best\n",
    "music\n",
    "award\"\"\")"
   ]
  },
  {
   "cell_type": "code",
   "execution_count": 60,
   "id": "2364a642",
   "metadata": {},
   "outputs": [
    {
     "name": "stdout",
     "output_type": "stream",
     "text": [
      "best\n",
      " music\n",
      "award\n"
     ]
    }
   ],
   "source": [
    "print(\"\"\"best\\n music\\naward\"\"\")"
   ]
  },
  {
   "cell_type": "code",
   "execution_count": 64,
   "id": "1b560a09",
   "metadata": {},
   "outputs": [
    {
     "name": "stdout",
     "output_type": "stream",
     "text": [
      "a\b\\c\\\n"
     ]
    }
   ],
   "source": [
    "print(\"a\\b\\c\\\\\")"
   ]
  },
  {
   "cell_type": "code",
   "execution_count": 69,
   "id": "56e34a68",
   "metadata": {},
   "outputs": [
    {
     "name": "stdout",
     "output_type": "stream",
     "text": [
      "girl's generation\n"
     ]
    }
   ],
   "source": [
    "print('girl\\'s generation')"
   ]
  },
  {
   "cell_type": "code",
   "execution_count": 80,
   "id": "826567ef",
   "metadata": {},
   "outputs": [
    {
     "name": "stdout",
     "output_type": "stream",
     "text": [
      "안녕하시렵니까? 거니거니님 nice to see u\n"
     ]
    }
   ],
   "source": [
    "greeting = \"안녕하시렵니까? \"\n",
    "name = \"거니거니\"\n",
    "greeting2 = \"님 nice to see u\"\n",
    "sentence1 = greeting + name + greeting2\n",
    "print(sentence1)"
   ]
  },
  {
   "cell_type": "code",
   "execution_count": 81,
   "id": "e4292a44",
   "metadata": {},
   "outputs": [],
   "source": [
    "# 문자열의 길이 50p 빈 칸도 글자로 인식"
   ]
  },
  {
   "cell_type": "code",
   "execution_count": 82,
   "id": "ee1a91b7",
   "metadata": {},
   "outputs": [],
   "source": [
    "a = \"Leben ist zu kurz, Deutsch zu lernen\""
   ]
  },
  {
   "cell_type": "code",
   "execution_count": 83,
   "id": "e25a9051",
   "metadata": {},
   "outputs": [
    {
     "data": {
      "text/plain": [
       "36"
      ]
     },
     "execution_count": 83,
     "metadata": {},
     "output_type": "execute_result"
    }
   ],
   "source": [
    "len(a)"
   ]
  },
  {
   "cell_type": "code",
   "execution_count": 3,
   "id": "9d12f191",
   "metadata": {},
   "outputs": [],
   "source": [
    "first_over_count = 1\n",
    "second_over_count = 1"
   ]
  },
  {
   "cell_type": "code",
   "execution_count": 4,
   "id": "559e8030",
   "metadata": {},
   "outputs": [],
   "source": [
    "first_name = \"승건\"\n",
    "second_name = \"김\"\n",
    "if len(first_name) > 3:\n",
    "    print(\"이름 길이 초과 탐색\")\n",
    "if len(second_name) > 1:\n",
    "    print(\"성 길이 초과 탐색\")"
   ]
  },
  {
   "cell_type": "code",
   "execution_count": 5,
   "id": "86f2eb6c",
   "metadata": {},
   "outputs": [
    {
     "name": "stdout",
     "output_type": "stream",
     "text": [
      "성 길이 초과 탐색\n"
     ]
    }
   ],
   "source": [
    "first_name = \"승건\"\n",
    "second_name = \"Kim\"\n",
    "if len(first_name) > 2:\n",
    "    print(\"이름 길이 초과 탐색\")\n",
    "if len(second_name) > 1:\n",
    "    print(\"성 길이 초과 탐색\")\n",
    "    "
   ]
  },
  {
   "cell_type": "code",
   "execution_count": 121,
   "id": "f0629d39",
   "metadata": {},
   "outputs": [],
   "source": []
  },
  {
   "cell_type": "code",
   "execution_count": 12,
   "id": "b9a3e904",
   "metadata": {},
   "outputs": [
    {
     "name": "stdout",
     "output_type": "stream",
     "text": [
      "성 길이 초과 탐색\n",
      "first_over_count:1\n",
      "second_over_count:7\n"
     ]
    }
   ],
   "source": [
    "first_name = \"유비\"\n",
    "second_name = \"현덕\"\n",
    "if len(first_name) > 3:\n",
    "    print(\"이름 길이 초과 탐색\")\n",
    "    first_over_count+=1\n",
    "if len(second_name) > 1:\n",
    "    print(\"성 길이 초과 탐색\")\n",
    "    second_over_count+=1\n",
    "print(\"first_over_count:\"+str(first_over_count))\n",
    "print(\"second_over_count:\"+str(second_over_count))"
   ]
  },
  {
   "cell_type": "code",
   "execution_count": null,
   "id": "f3c5e1d6",
   "metadata": {},
   "outputs": [],
   "source": []
  },
  {
   "cell_type": "code",
   "execution_count": null,
   "id": "4eae7cbb",
   "metadata": {},
   "outputs": [],
   "source": []
  },
  {
   "cell_type": "code",
   "execution_count": null,
   "id": "8c9aab59",
   "metadata": {},
   "outputs": [],
   "source": []
  }
 ],
 "metadata": {
  "kernelspec": {
   "display_name": "Python 3",
   "language": "python",
   "name": "python3"
  },
  "language_info": {
   "codemirror_mode": {
    "name": "ipython",
    "version": 3
   },
   "file_extension": ".py",
   "mimetype": "text/x-python",
   "name": "python",
   "nbconvert_exporter": "python",
   "pygments_lexer": "ipython3",
   "version": "3.8.10"
  }
 },
 "nbformat": 4,
 "nbformat_minor": 5
}
